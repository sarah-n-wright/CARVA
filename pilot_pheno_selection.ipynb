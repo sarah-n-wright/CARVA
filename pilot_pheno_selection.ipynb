{
 "cells": [
  {
   "cell_type": "code",
   "execution_count": 1,
   "metadata": {
    "ExecuteTime": {
     "end_time": "2023-05-25T16:51:51.489060Z",
     "start_time": "2023-05-25T16:51:44.000045Z"
    }
   },
   "outputs": [],
   "source": [
    "import pandas as pd"
   ]
  },
  {
   "cell_type": "code",
   "execution_count": 2,
   "metadata": {
    "ExecuteTime": {
     "end_time": "2023-05-25T16:51:51.498641Z",
     "start_time": "2023-05-25T16:51:51.497244Z"
    }
   },
   "outputs": [],
   "source": [
    "DATADIR = \"/cellar/users/snwright/Data/RareCommon/AZdata/\""
   ]
  },
  {
   "cell_type": "markdown",
   "metadata": {},
   "source": [
    "## Updated quant"
   ]
  },
  {
   "cell_type": "code",
   "execution_count": 38,
   "metadata": {
    "ExecuteTime": {
     "end_time": "2023-05-25T18:12:33.077146Z",
     "start_time": "2023-05-25T18:12:32.958979Z"
    }
   },
   "outputs": [],
   "source": [
    "quant = pd.read_csv(DATADIR+\"Table17_pan_quant.txt\", sep=\"\\t\", usecols=['pheno','phenotype_dedup' ,'geno', 'p'])"
   ]
  },
  {
   "cell_type": "code",
   "execution_count": 39,
   "metadata": {
    "ExecuteTime": {
     "end_time": "2023-05-25T18:12:41.738389Z",
     "start_time": "2023-05-25T18:12:41.719116Z"
    }
   },
   "outputs": [],
   "source": [
    "quant_df = quant.sort_values('p').drop_duplicates(subset=['pheno', 'geno', 'phenotype_dedup'])"
   ]
  },
  {
   "cell_type": "code",
   "execution_count": 40,
   "metadata": {
    "ExecuteTime": {
     "end_time": "2023-05-25T18:12:44.512693Z",
     "start_time": "2023-05-25T18:12:44.509952Z"
    }
   },
   "outputs": [],
   "source": [
    "quant_df = quant_df.loc[quant_df.p< 1e-6, :]"
   ]
  },
  {
   "cell_type": "code",
   "execution_count": 44,
   "metadata": {
    "ExecuteTime": {
     "end_time": "2023-05-25T18:13:25.786602Z",
     "start_time": "2023-05-25T18:13:25.784081Z"
    }
   },
   "outputs": [],
   "source": [
    "pheno_counts = quant_df.pheno.value_counts()\n",
    "keep_phenos = pheno_counts[pheno_counts>5].index"
   ]
  },
  {
   "cell_type": "markdown",
   "metadata": {},
   "source": [
    "20015 - sitting_height\n",
    "20151 - forced vital capacity\n",
    "23098 - weight\n",
    "3063 - FEV1\n",
    "5133 - strong meridian\n",
    "30680 - calcium"
   ]
  },
  {
   "cell_type": "code",
   "execution_count": 52,
   "metadata": {
    "ExecuteTime": {
     "end_time": "2023-05-25T18:17:56.385182Z",
     "start_time": "2023-05-25T18:17:56.382236Z"
    }
   },
   "outputs": [
    {
     "data": {
      "text/plain": [
       "Int64Index([   50, 20015, 30100, 30050, 30040, 30250, 30070, 30270,    51,\n",
       "            30240, 30630, 23129, 30260, 30760, 30290, 23130, 30080, 30300,\n",
       "            23101, 30750, 30010, 30880, 30090, 23102, 30110, 30660, 30840,\n",
       "            30120, 30690, 23125, 30700, 30770, 30180, 23105, 23110, 30030,\n",
       "            23113, 23118, 23121, 30870, 30200, 23117, 23114, 30000, 23122,\n",
       "            30020, 30780, 20153, 23126, 30640, 30130, 30730, 23106, 30610,\n",
       "            30060, 23109, 30280,  3062, 30830, 30150, 30140, 23108, 23107,\n",
       "            30720, 23098, 30210,   102, 30190, 20151,    47, 21002, 30680,\n",
       "            30600, 30860, 30670, 30890,  3143,  3063, 30620,    48, 20257,\n",
       "            30650, 20258,  2976, 23120, 23128,  5133, 30740,    46],\n",
       "           dtype='int64')"
      ]
     },
     "execution_count": 52,
     "metadata": {},
     "output_type": "execute_result"
    }
   ],
   "source": [
    "keep_phenos"
   ]
  },
  {
   "cell_type": "markdown",
   "metadata": {},
   "source": [
    "## Update binary"
   ]
  },
  {
   "cell_type": "code",
   "execution_count": 8,
   "metadata": {
    "ExecuteTime": {
     "end_time": "2023-05-25T16:57:43.996724Z",
     "start_time": "2023-05-25T16:57:43.888169Z"
    }
   },
   "outputs": [],
   "source": [
    "binary = pd.read_csv(DATADIR+\"Table16_pan_binary.txt\", sep=\"\\t\", usecols=['phenotype', 'genotype', 'EUR_pValue'])"
   ]
  },
  {
   "cell_type": "code",
   "execution_count": 14,
   "metadata": {
    "ExecuteTime": {
     "end_time": "2023-05-25T16:59:28.725050Z",
     "start_time": "2023-05-25T16:59:28.696287Z"
    }
   },
   "outputs": [],
   "source": [
    "binary_df = binary.sort_values('EUR_pValue').drop_duplicates(subset=['phenotype', 'genotype'])"
   ]
  },
  {
   "cell_type": "code",
   "execution_count": 21,
   "metadata": {
    "ExecuteTime": {
     "end_time": "2023-05-25T17:02:12.180627Z",
     "start_time": "2023-05-25T17:02:12.178111Z"
    }
   },
   "outputs": [],
   "source": [
    "binary_df = binary_df.loc[binary_df.EUR_pValue < 1e-6, :]"
   ]
  },
  {
   "cell_type": "code",
   "execution_count": 22,
   "metadata": {
    "ExecuteTime": {
     "end_time": "2023-05-25T17:02:14.526774Z",
     "start_time": "2023-05-25T17:02:14.523199Z"
    }
   },
   "outputs": [],
   "source": [
    "pheno_counts = binary_df.phenotype.value_counts()\n",
    "keep_phenos = pheno_counts[pheno_counts>5].index"
   ]
  },
  {
   "cell_type": "markdown",
   "metadata": {},
   "source": [
    "2453 -cancer diagnosed by doctor\n",
    "C92 - Diagnoses - C92 Nyeloid leukemia\n",
    "C81-C96 - primary lymphoid and hematopoietic malignant neoplasms\n",
    "D46 - myelodusplastic syndromes\n",
    "Congenital malformations, deformations and chromosomal abnormalities\n",
    "D47 - Other neoplasms of uncertain\n"
   ]
  },
  {
   "cell_type": "code",
   "execution_count": 25,
   "metadata": {
    "ExecuteTime": {
     "end_time": "2023-05-25T17:02:27.908241Z",
     "start_time": "2023-05-25T17:02:27.905400Z"
    }
   },
   "outputs": [
    {
     "data": {
      "text/plain": [
       "Index(['40006#ChapterII#Chapter II Neoplasms',\n",
       "       'Union#ChapterII#Chapter II Neoplasms',\n",
       "       '41202#ChapterII#Chapter II Neoplasms',\n",
       "       'Union#E80#E80 Disorders of porphyrin and bilirubin metabolism',\n",
       "       'Source of report of E80 (disorders of porphyrin and bilirubin metabolism)',\n",
       "       '40012#3#Malignant| primary site', '2453#Cancer diagnosed by doctor',\n",
       "       '41202#C92#C92 Myeloid leukaemia',\n",
       "       '40006#BlockC81-C96#C81-C96 Malignant neoplasms| stated or presumed to be primary| of lymphoid| haematopoietic and related tissue',\n",
       "       'Union#D46#D46 Myelodysplastic syndromes',\n",
       "       '40011#2#(8010-8790) Epithelial',\n",
       "       'Union#ChapterXVII#Chapter XVII Congenital malformations| deformations and chromosomal abnormalities',\n",
       "       'Union#C92#C92 Myeloid leukaemia',\n",
       "       'Union#D47#D47 Other neoplasms of uncertain or unknown behaviour of lymphoid| haematopoietic and related tissue',\n",
       "       'Union#C920#C92.0 Acute myeloid leukaemia',\n",
       "       'Union#E78#E78 Disorders of lipoprotein metabolism and other lipidaemias',\n",
       "       'Union#BlockC81-C96#C81-C96 Malignant neoplasms| stated or presumed to be primary| of lymphoid| haematopoietic and related tissue',\n",
       "       'Union#D469#D46.9 Myelodysplastic syndrome| unspecified',\n",
       "       '40001#ChapterII#Chapter II Neoplasms'],\n",
       "      dtype='object')"
      ]
     },
     "execution_count": 25,
     "metadata": {},
     "output_type": "execute_result"
    }
   ],
   "source": [
    "keep_phenos"
   ]
  },
  {
   "cell_type": "code",
   "execution_count": null,
   "metadata": {},
   "outputs": [],
   "source": []
  },
  {
   "cell_type": "code",
   "execution_count": 3,
   "metadata": {
    "ExecuteTime": {
     "end_time": "2023-05-25T16:51:51.614673Z",
     "start_time": "2023-05-25T16:51:51.505093Z"
    }
   },
   "outputs": [],
   "source": [
    "binary_phenos = pd.read_csv(DATADIR + \"Table8_top_binary.txt.pheno_counts\", sep=\"\\t\", header=None)\n",
    "binary_phenos.columns = [\"pheno\", \"count\"]\n",
    "binary_phenos = binary_phenos.sort_values(by=\"count\", ascending=False)"
   ]
  },
  {
   "cell_type": "code",
   "execution_count": 15,
   "metadata": {
    "ExecuteTime": {
     "end_time": "2022-04-05T00:04:11.710654Z",
     "start_time": "2022-04-05T00:04:11.707381Z"
    }
   },
   "outputs": [
    {
     "data": {
      "text/plain": [
       "['Union#E80#E80 Disorders of porphyrin and bilirubin metabolism',\n",
       " 'Source of report of E80 (disorders of porphyrin and bilirubin metabolism)',\n",
       " 'Union#ChapterXVII#Chapter XVII Congenital malformations| deformations and chromosomal abnormalities',\n",
       " '40006#ChapterII#Chapter II Neoplasms',\n",
       " '41202#ChapterII#Chapter II Neoplasms',\n",
       " 'Union#ChapterII#Chapter II Neoplasms',\n",
       " '40011#8500#Duct adenocarcinoma',\n",
       " 'Union#C509#C50.9 Breast| unspecified',\n",
       " '2453#Cancer diagnosed by doctor']"
      ]
     },
     "execution_count": 15,
     "metadata": {},
     "output_type": "execute_result"
    }
   ],
   "source": [
    "binary_phenos[binary_phenos[\"count\"]>= 5][\"pheno\"].tolist()"
   ]
  },
  {
   "cell_type": "markdown",
   "metadata": {},
   "source": [
    "## Binary Candidate List\n",
    "* E80\n",
    "* 40011 - 8500 ; not in pan ukbb\n",
    "* C50.9 - not in pan ukbb, only C50"
   ]
  },
  {
   "cell_type": "code",
   "execution_count": 16,
   "metadata": {
    "ExecuteTime": {
     "end_time": "2022-04-05T00:06:32.073413Z",
     "start_time": "2022-04-05T00:06:32.056148Z"
    }
   },
   "outputs": [],
   "source": [
    "quant_phenos = pd.read_csv(DATADIR + \"Table8_top_quant.txt.pheno_counts\", sep=\"\\t\", header=None)\n",
    "quant_phenos.columns = [\"pheno\", \"count\"]\n",
    "quant_phenos = quant_phenos.sort_values(by=\"count\", ascending=False)"
   ]
  },
  {
   "cell_type": "code",
   "execution_count": 18,
   "metadata": {
    "ExecuteTime": {
     "end_time": "2022-04-05T00:07:14.950492Z",
     "start_time": "2022-04-05T00:07:14.945602Z"
    }
   },
   "outputs": [
    {
     "data": {
      "text/html": [
       "<div>\n",
       "<style scoped>\n",
       "    .dataframe tbody tr th:only-of-type {\n",
       "        vertical-align: middle;\n",
       "    }\n",
       "\n",
       "    .dataframe tbody tr th {\n",
       "        vertical-align: top;\n",
       "    }\n",
       "\n",
       "    .dataframe thead th {\n",
       "        text-align: right;\n",
       "    }\n",
       "</style>\n",
       "<table border=\"1\" class=\"dataframe\">\n",
       "  <thead>\n",
       "    <tr style=\"text-align: right;\">\n",
       "      <th></th>\n",
       "      <th>pheno</th>\n",
       "      <th>count</th>\n",
       "    </tr>\n",
       "  </thead>\n",
       "  <tbody>\n",
       "    <tr>\n",
       "      <th>132</th>\n",
       "      <td>Standing height</td>\n",
       "      <td>39</td>\n",
       "    </tr>\n",
       "    <tr>\n",
       "      <th>98</th>\n",
       "      <td>Mean corpuscular haemoglobin</td>\n",
       "      <td>26</td>\n",
       "    </tr>\n",
       "    <tr>\n",
       "      <th>100</th>\n",
       "      <td>Mean corpuscular volume</td>\n",
       "      <td>25</td>\n",
       "    </tr>\n",
       "    <tr>\n",
       "      <th>122</th>\n",
       "      <td>Red blood cell (erythrocyte) distribution width</td>\n",
       "      <td>23</td>\n",
       "    </tr>\n",
       "    <tr>\n",
       "      <th>101</th>\n",
       "      <td>Mean platelet (thrombocyte) volume</td>\n",
       "      <td>23</td>\n",
       "    </tr>\n",
       "    <tr>\n",
       "      <th>103</th>\n",
       "      <td>Mean sphered cell volume</td>\n",
       "      <td>21</td>\n",
       "    </tr>\n",
       "    <tr>\n",
       "      <th>127</th>\n",
       "      <td>Sitting height</td>\n",
       "      <td>19</td>\n",
       "    </tr>\n",
       "    <tr>\n",
       "      <th>51</th>\n",
       "      <td>HDL cholesterol</td>\n",
       "      <td>18</td>\n",
       "    </tr>\n",
       "    <tr>\n",
       "      <th>68</th>\n",
       "      <td>High light scatter reticulocyte count</td>\n",
       "      <td>18</td>\n",
       "    </tr>\n",
       "    <tr>\n",
       "      <th>69</th>\n",
       "      <td>High light scatter reticulocyte percentage</td>\n",
       "      <td>16</td>\n",
       "    </tr>\n",
       "    <tr>\n",
       "      <th>123</th>\n",
       "      <td>Reticulocyte count</td>\n",
       "      <td>16</td>\n",
       "    </tr>\n",
       "    <tr>\n",
       "      <th>135</th>\n",
       "      <td>Total bilirubin</td>\n",
       "      <td>16</td>\n",
       "    </tr>\n",
       "    <tr>\n",
       "      <th>124</th>\n",
       "      <td>Reticulocyte percentage</td>\n",
       "      <td>15</td>\n",
       "    </tr>\n",
       "    <tr>\n",
       "      <th>37</th>\n",
       "      <td>Direct bilirubin</td>\n",
       "      <td>15</td>\n",
       "    </tr>\n",
       "    <tr>\n",
       "      <th>50</th>\n",
       "      <td>Glycated haemoglobin (HbA1c)</td>\n",
       "      <td>15</td>\n",
       "    </tr>\n",
       "    <tr>\n",
       "      <th>117</th>\n",
       "      <td>Platelet count</td>\n",
       "      <td>15</td>\n",
       "    </tr>\n",
       "    <tr>\n",
       "      <th>118</th>\n",
       "      <td>Platelet crit</td>\n",
       "      <td>14</td>\n",
       "    </tr>\n",
       "    <tr>\n",
       "      <th>16</th>\n",
       "      <td>Apolipoprotein A</td>\n",
       "      <td>14</td>\n",
       "    </tr>\n",
       "    <tr>\n",
       "      <th>102</th>\n",
       "      <td>Mean reticulocyte volume</td>\n",
       "      <td>14</td>\n",
       "    </tr>\n",
       "    <tr>\n",
       "      <th>143</th>\n",
       "      <td>Urate</td>\n",
       "      <td>13</td>\n",
       "    </tr>\n",
       "  </tbody>\n",
       "</table>\n",
       "</div>"
      ],
      "text/plain": [
       "                                               pheno  count\n",
       "132                                  Standing height     39\n",
       "98                      Mean corpuscular haemoglobin     26\n",
       "100                          Mean corpuscular volume     25\n",
       "122  Red blood cell (erythrocyte) distribution width     23\n",
       "101               Mean platelet (thrombocyte) volume     23\n",
       "103                         Mean sphered cell volume     21\n",
       "127                                   Sitting height     19\n",
       "51                                   HDL cholesterol     18\n",
       "68             High light scatter reticulocyte count     18\n",
       "69        High light scatter reticulocyte percentage     16\n",
       "123                               Reticulocyte count     16\n",
       "135                                  Total bilirubin     16\n",
       "124                          Reticulocyte percentage     15\n",
       "37                                  Direct bilirubin     15\n",
       "50                      Glycated haemoglobin (HbA1c)     15\n",
       "117                                   Platelet count     15\n",
       "118                                    Platelet crit     14\n",
       "16                                  Apolipoprotein A     14\n",
       "102                         Mean reticulocyte volume     14\n",
       "143                                            Urate     13"
      ]
     },
     "execution_count": 18,
     "metadata": {},
     "output_type": "execute_result"
    }
   ],
   "source": [
    "quant_phenos.head(20)"
   ]
  },
  {
   "cell_type": "code",
   "execution_count": 17,
   "metadata": {
    "ExecuteTime": {
     "end_time": "2022-04-05T00:06:54.780819Z",
     "start_time": "2022-04-05T00:06:54.777250Z"
    }
   },
   "outputs": [
    {
     "data": {
      "text/plain": [
       "['Standing height',\n",
       " 'Mean corpuscular haemoglobin',\n",
       " 'Mean corpuscular volume',\n",
       " 'Red blood cell (erythrocyte) distribution width',\n",
       " 'Mean platelet (thrombocyte) volume',\n",
       " 'Mean sphered cell volume',\n",
       " 'Sitting height',\n",
       " 'HDL cholesterol',\n",
       " 'High light scatter reticulocyte count',\n",
       " 'High light scatter reticulocyte percentage',\n",
       " 'Reticulocyte count',\n",
       " 'Total bilirubin',\n",
       " 'Reticulocyte percentage',\n",
       " 'Direct bilirubin',\n",
       " 'Glycated haemoglobin (HbA1c)',\n",
       " 'Platelet count',\n",
       " 'Platelet crit',\n",
       " 'Apolipoprotein A',\n",
       " 'Mean reticulocyte volume',\n",
       " 'Urate',\n",
       " 'Creatinine',\n",
       " 'Trunk fat-free mass',\n",
       " 'Trunk predicted mass',\n",
       " 'Red blood cell (erythrocyte) count',\n",
       " 'IGF-1',\n",
       " 'Whole body water mass',\n",
       " 'Triglycerides',\n",
       " 'Whole body fat-free mass',\n",
       " 'Cholesterol',\n",
       " 'Platelet distribution width',\n",
       " 'Basal metabolic rate',\n",
       " 'Haemoglobin concentration',\n",
       " 'LDL direct',\n",
       " 'Apolipoprotein B',\n",
       " 'Cystatin C',\n",
       " 'Mean corpuscular haemoglobin concentration',\n",
       " 'Haematocrit percentage',\n",
       " 'Gamma glutamyltransferase',\n",
       " 'Alkaline phosphatase',\n",
       " 'Leg predicted mass (left)',\n",
       " 'Arm fat-free mass (right)',\n",
       " 'Arm predicted mass (right)',\n",
       " 'Seated height',\n",
       " 'Leg fat-free mass (left)',\n",
       " 'Impedance of arm (right)',\n",
       " 'Lymphocyte percentage',\n",
       " 'Lymphocyte count',\n",
       " 'Impedance of arm (left)',\n",
       " 'Leg predicted mass (right)',\n",
       " 'Leg fat-free mass (right)',\n",
       " 'Total protein',\n",
       " 'Neutrophill count',\n",
       " 'Arm fat-free mass (left)',\n",
       " 'Arm predicted mass (left)',\n",
       " 'Impedance of leg (left)',\n",
       " 'Immature reticulocyte fraction',\n",
       " 'White blood cell (leukocyte) count',\n",
       " 'Monocyte count',\n",
       " 'Vitamin D',\n",
       " 'Eosinophill percentage',\n",
       " 'Lipoprotein A',\n",
       " 'Aspartate aminotransferase',\n",
       " 'SHBG',\n",
       " 'Alanine aminotransferase',\n",
       " 'Eosinophill count',\n",
       " 'Impedance of whole body',\n",
       " 'Neutrophill percentage',\n",
       " 'Albumin']"
      ]
     },
     "execution_count": 17,
     "metadata": {},
     "output_type": "execute_result"
    }
   ],
   "source": [
    "quant_phenos[quant_phenos[\"count\"]>= 5][\"pheno\"].tolist()"
   ]
  },
  {
   "cell_type": "markdown",
   "metadata": {},
   "source": [
    "## Quantitative candidates\n",
    "\n",
    "* 50 - no in pan ukbb\n",
    "* 30050\n",
    "* 23406 - not in pan ukbb\n",
    "* 30250\n",
    "* 30840\n",
    "* 30630\n",
    "* 30640\n",
    "* 30880\n",
    "* 23478 - not in pan ukbb\n",
    "* 30140\n",
    "* 23110\n",
    "* 30830"
   ]
  },
  {
   "cell_type": "code",
   "execution_count": null,
   "metadata": {},
   "outputs": [],
   "source": []
  }
 ],
 "metadata": {
  "kernelspec": {
   "display_name": "Python [conda env:netcoloc]",
   "language": "python",
   "name": "conda-env-netcoloc-py"
  },
  "language_info": {
   "codemirror_mode": {
    "name": "ipython",
    "version": 3
   },
   "file_extension": ".py",
   "mimetype": "text/x-python",
   "name": "python",
   "nbconvert_exporter": "python",
   "pygments_lexer": "ipython3",
   "version": "3.9.7"
  },
  "toc": {
   "base_numbering": 1,
   "nav_menu": {},
   "number_sections": true,
   "sideBar": true,
   "skip_h1_title": false,
   "title_cell": "Table of Contents",
   "title_sidebar": "Contents",
   "toc_cell": false,
   "toc_position": {},
   "toc_section_display": true,
   "toc_window_display": false
  },
  "varInspector": {
   "cols": {
    "lenName": 16,
    "lenType": 16,
    "lenVar": 40
   },
   "kernels_config": {
    "python": {
     "delete_cmd_postfix": "",
     "delete_cmd_prefix": "del ",
     "library": "var_list.py",
     "varRefreshCmd": "print(var_dic_list())"
    },
    "r": {
     "delete_cmd_postfix": ") ",
     "delete_cmd_prefix": "rm(",
     "library": "var_list.r",
     "varRefreshCmd": "cat(var_dic_list()) "
    }
   },
   "types_to_exclude": [
    "module",
    "function",
    "builtin_function_or_method",
    "instance",
    "_Feature"
   ],
   "window_display": false
  }
 },
 "nbformat": 4,
 "nbformat_minor": 2
}
