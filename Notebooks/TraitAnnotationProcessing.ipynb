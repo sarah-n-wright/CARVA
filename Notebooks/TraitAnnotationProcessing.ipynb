{
 "cells": [
  {
   "cell_type": "code",
   "execution_count": 1,
   "metadata": {
    "ExecuteTime": {
     "end_time": "2025-02-26T23:55:31.426805Z",
     "start_time": "2025-02-26T23:55:13.476710Z"
    }
   },
   "outputs": [],
   "source": [
    "import pandas as pd\n",
    "import os\n",
    "from tqdm import tqdm\n",
    "import seaborn as sns\n",
    "import matplotlib.pyplot as plt\n",
    "import sys\n",
    "sys.path.append('/cellar/users/snwright/Git/Network_Evaluation_Tools/neteval/')"
   ]
  },
  {
   "cell_type": "code",
   "execution_count": 43,
   "metadata": {
    "ExecuteTime": {
     "end_time": "2025-02-27T18:11:27.241683Z",
     "start_time": "2025-02-27T18:11:27.239682Z"
    }
   },
   "outputs": [],
   "source": [
    "datadir='/cellar/users/snwright/Data/RareCommon'\n",
    "refdir='/cellar/users/snwright/Data/RareCommon/Reference/'\n",
    "outdir='/cellar/users/snwright/Data/RareCommon/Annotations/'"
   ]
  },
  {
   "cell_type": "code",
   "execution_count": 110,
   "metadata": {
    "ExecuteTime": {
     "end_time": "2025-02-28T22:10:35.994808Z",
     "start_time": "2025-02-28T22:10:35.969377Z"
    }
   },
   "outputs": [],
   "source": [
    "r_traitlist = pd.read_csv(os.path.join(datadir, 'inputs/Jan_2025', 'rare.traitlist2'), header=None)[0].values\n",
    "c_traitlist = pd.read_csv(os.path.join(datadir, 'inputs/Jan_2025', 'common.traitlist2'), header=None)[0].values"
   ]
  },
  {
   "cell_type": "code",
   "execution_count": 111,
   "metadata": {
    "ExecuteTime": {
     "end_time": "2025-02-28T22:10:37.411665Z",
     "start_time": "2025-02-28T22:10:37.408258Z"
    }
   },
   "outputs": [],
   "source": [
    "all_pairs = [r_traitlist[i]+'_'+c_traitlist[i] for i in range(len(r_traitlist))]"
   ]
  },
  {
   "cell_type": "code",
   "execution_count": 8,
   "metadata": {
    "ExecuteTime": {
     "end_time": "2025-02-26T23:57:10.093635Z",
     "start_time": "2025-02-26T23:57:10.090933Z"
    }
   },
   "outputs": [
    {
     "data": {
      "text/plain": [
       "'34375979.0_EFO_0004631_GCST90000618_EFO_0004631'"
      ]
     },
     "execution_count": 8,
     "metadata": {},
     "output_type": "execute_result"
    }
   ],
   "source": [
    "all_pairs[0]"
   ]
  },
  {
   "cell_type": "markdown",
   "metadata": {},
   "source": [
    "## Input info\n",
    "### GWAS"
   ]
  },
  {
   "cell_type": "code",
   "execution_count": 61,
   "metadata": {
    "ExecuteTime": {
     "end_time": "2025-02-27T18:20:25.391335Z",
     "start_time": "2025-02-27T18:20:24.639476Z"
    }
   },
   "outputs": [],
   "source": [
    "gwas = pd.read_csv(os.path.join(datadir, 'GWASCatalog', 'study_info.v1.0.3.1_Jan29_2025.txt'), sep='\\t')\n",
    "gwas.columns\n",
    "# Filter gwas to just my studies of interest. < will need to be updated if I change the studies.\n",
    "all_studies = [c.split('_')[0] for c in c_traitlist]\n",
    "gwas = gwas[gwas['STUDY ACCESSION'].isin(all_studies)]"
   ]
  },
  {
   "cell_type": "code",
   "execution_count": 26,
   "metadata": {
    "ExecuteTime": {
     "end_time": "2025-02-27T18:01:04.621825Z",
     "start_time": "2025-02-27T18:01:04.233224Z"
    }
   },
   "outputs": [],
   "source": [
    "gwas_ancestry = pd.read_csv(os.path.join(datadir, 'GWASCatalog', 'ancestries.v1.0.3.1_Jan29_2025.txt'), sep='\\t', low_memory=False)"
   ]
  },
  {
   "cell_type": "markdown",
   "metadata": {},
   "source": [
    "### RAVAR"
   ]
  },
  {
   "cell_type": "code",
   "execution_count": 29,
   "metadata": {
    "ExecuteTime": {
     "end_time": "2025-02-27T18:03:31.269786Z",
     "start_time": "2025-02-27T18:03:31.234109Z"
    }
   },
   "outputs": [],
   "source": [
    "rv_pub = pd.read_csv(os.path.join(datadir, 'RAVAR', 'publication_allinfo_06112024.txt'), sep='\\t', low_memory=False)\n",
    "rv_trait = pd.read_csv(os.path.join(datadir, 'RAVAR', 'trait_allinfo_06112024.txt'), sep='\\t', low_memory=False)\n",
    "rv_pmid = pd.read_csv(os.path.join(datadir, 'RAVAR', 'pmid_info_manual.txt'), sep='\\t', low_memory=False)"
   ]
  },
  {
   "cell_type": "markdown",
   "metadata": {},
   "source": [
    "## Study Age\n"
   ]
  },
  {
   "cell_type": "code",
   "execution_count": 45,
   "metadata": {
    "ExecuteTime": {
     "end_time": "2025-02-27T18:12:55.265323Z",
     "start_time": "2025-02-27T18:12:54.999952Z"
    }
   },
   "outputs": [],
   "source": [
    "rv_year = rv_pub.loc[:, ('PMID', 'Publication Year')].set_index('PMID')['Publication Year'].to_dict()\n",
    "pd.DataFrame({'Year': rv_year}).reset_index(names='StudyR').to_csv(os.path.join(outdir, 'StudyR_Date.txt'), sep='\\t', index=False)"
   ]
  },
  {
   "cell_type": "code",
   "execution_count": 37,
   "metadata": {
    "ExecuteTime": {
     "end_time": "2025-02-27T18:07:21.611107Z",
     "start_time": "2025-02-27T18:07:21.570435Z"
    }
   },
   "outputs": [],
   "source": [
    "cv_year_df = gwas.loc[:, ('STUDY ACCESSION', 'DATE')]\n",
    "cv_year_df = cv_year_df.assign(Year=cv_year_df.DATE.apply(lambda x: x.split('-')[0]))"
   ]
  },
  {
   "cell_type": "code",
   "execution_count": 46,
   "metadata": {
    "ExecuteTime": {
     "end_time": "2025-02-27T18:13:20.082340Z",
     "start_time": "2025-02-27T18:13:19.895623Z"
    }
   },
   "outputs": [],
   "source": [
    "cv_year = cv_year_df.set_index('STUDY ACCESSION').Year.to_dict()\n",
    "pd.DataFrame({'Year': cv_year}).reset_index(names='StudyC').to_csv(os.path.join(outdir, 'StudyC_Date.txt'), sep='\\t', index=False)"
   ]
  },
  {
   "cell_type": "markdown",
   "metadata": {},
   "source": [
    "## Study Size"
   ]
  },
  {
   "cell_type": "code",
   "execution_count": 83,
   "metadata": {
    "ExecuteTime": {
     "end_time": "2025-02-27T18:33:31.096236Z",
     "start_time": "2025-02-27T18:33:31.093383Z"
    }
   },
   "outputs": [
    {
     "data": {
      "text/plain": [
       "'1,783 Northern European ancestry cases, 7,435 Northern European ancestry controls'"
      ]
     },
     "execution_count": 83,
     "metadata": {},
     "output_type": "execute_result"
    }
   ],
   "source": [
    "gwas['INITIAL SAMPLE SIZE'].values[1]"
   ]
  },
  {
   "cell_type": "code",
   "execution_count": 91,
   "metadata": {
    "ExecuteTime": {
     "end_time": "2025-02-27T18:37:33.391774Z",
     "start_time": "2025-02-27T18:37:33.389413Z"
    }
   },
   "outputs": [],
   "source": [
    "import re\n",
    "def sum_numbers_in_string(s: str):\n",
    "    # Find all occurrences of numbers which may include commas.\n",
    "    matches = re.findall(r'\\d[\\d,]*', s)\n",
    "    # Remove commas and convert each match to an integer, then sum them up.\n",
    "    return sum(int(num.replace(',', '')) for num in matches)"
   ]
  },
  {
   "cell_type": "code",
   "execution_count": 92,
   "metadata": {
    "ExecuteTime": {
     "end_time": "2025-02-27T18:37:35.370715Z",
     "start_time": "2025-02-27T18:37:35.364133Z"
    }
   },
   "outputs": [],
   "source": [
    "gwas['N'] = gwas['INITIAL SAMPLE SIZE'].apply(lambda x: sum_numbers_in_string(x))"
   ]
  },
  {
   "cell_type": "code",
   "execution_count": 96,
   "metadata": {
    "ExecuteTime": {
     "end_time": "2025-02-27T18:38:14.824562Z",
     "start_time": "2025-02-27T18:38:14.820720Z"
    }
   },
   "outputs": [
    {
     "data": {
      "text/plain": [
       "DATE ADDED TO CATALOG                                                 2024-05-08\n",
       "PUBMED ID                                                               38658550\n",
       "FIRST AUTHOR                                                               Cho C\n",
       "DATE                                                                  2024-04-24\n",
       "JOURNAL                                                               Nat Commun\n",
       "LINK                                        www.ncbi.nlm.nih.gov/pubmed/38658550\n",
       "STUDY                          Large-scale cross-ancestry genome-wide meta-an...\n",
       "DISEASE/TRAIT                                                 Serum urate levels\n",
       "INITIAL SAMPLE SIZE            219,768 East Asian ancestry individuals, 677,3...\n",
       "REPLICATION SAMPLE SIZE                                                      NaN\n",
       "PLATFORM [SNPS PASSING QC]                                NR [9487379] (imputed)\n",
       "ASSOCIATION COUNT                                                            351\n",
       "MAPPED_TRAIT                                                   urate measurement\n",
       "MAPPED_TRAIT_URI                            http://www.ebi.ac.uk/efo/EFO_0004531\n",
       "STUDY ACCESSION                                                     GCST90319904\n",
       "GENOTYPING TECHNOLOGY                               Genome-wide genotyping array\n",
       "SUBMISSION DATE                                                              NaN\n",
       "STATISTICAL MODEL                                                            NaN\n",
       "BACKGROUND TRAIT                                                             NaN\n",
       "MAPPED BACKGROUND TRAIT                                                      NaN\n",
       "MAPPED BACKGROUND TRAIT URI                                                  NaN\n",
       "COHORT                                                      CKDGen|UKB|BBJ|KoGES\n",
       "FULL SUMMARY STATISTICS                                                      yes\n",
       "SUMMARY STATS LOCATION         http://ftp.ebi.ac.uk/pub/databases/gwas/summar...\n",
       "GXE                                                                           no\n",
       "GENOTYPING_TECH_CLEAN                               Genome-wide genotyping array\n",
       "N                                                                        1029323\n",
       "Name: 125606, dtype: object"
      ]
     },
     "execution_count": 96,
     "metadata": {},
     "output_type": "execute_result"
    }
   ],
   "source": []
  },
  {
   "cell_type": "markdown",
   "metadata": {},
   "source": [
    "## Study Ancestry"
   ]
  },
  {
   "cell_type": "code",
   "execution_count": null,
   "metadata": {},
   "outputs": [],
   "source": []
  },
  {
   "cell_type": "markdown",
   "metadata": {},
   "source": [
    "## Study Classification"
   ]
  },
  {
   "cell_type": "code",
   "execution_count": null,
   "metadata": {},
   "outputs": [],
   "source": []
  },
  {
   "cell_type": "markdown",
   "metadata": {},
   "source": [
    "## Sequencing Method"
   ]
  },
  {
   "cell_type": "code",
   "execution_count": 67,
   "metadata": {
    "ExecuteTime": {
     "end_time": "2025-02-27T18:24:16.169410Z",
     "start_time": "2025-02-27T18:24:16.165734Z"
    }
   },
   "outputs": [],
   "source": [
    "gwas = gwas.assign(GENOTYPING_TECH_CLEAN=gwas['GENOTYPING TECHNOLOGY'].apply(lambda x: x.split('[')[0].strip()))"
   ]
  },
  {
   "cell_type": "code",
   "execution_count": 70,
   "metadata": {
    "ExecuteTime": {
     "end_time": "2025-02-27T18:25:41.605507Z",
     "start_time": "2025-02-27T18:25:41.590296Z"
    }
   },
   "outputs": [
    {
     "data": {
      "text/html": [
       "<div>\n",
       "<style scoped>\n",
       "    .dataframe tbody tr th:only-of-type {\n",
       "        vertical-align: middle;\n",
       "    }\n",
       "\n",
       "    .dataframe tbody tr th {\n",
       "        vertical-align: top;\n",
       "    }\n",
       "\n",
       "    .dataframe thead th {\n",
       "        text-align: right;\n",
       "    }\n",
       "</style>\n",
       "<table border=\"1\" class=\"dataframe\">\n",
       "  <thead>\n",
       "    <tr style=\"text-align: right;\">\n",
       "      <th></th>\n",
       "      <th>DATE ADDED TO CATALOG</th>\n",
       "      <th>PUBMED ID</th>\n",
       "      <th>FIRST AUTHOR</th>\n",
       "      <th>DATE</th>\n",
       "      <th>JOURNAL</th>\n",
       "      <th>LINK</th>\n",
       "      <th>STUDY</th>\n",
       "      <th>DISEASE/TRAIT</th>\n",
       "      <th>INITIAL SAMPLE SIZE</th>\n",
       "      <th>REPLICATION SAMPLE SIZE</th>\n",
       "      <th>...</th>\n",
       "      <th>SUBMISSION DATE</th>\n",
       "      <th>STATISTICAL MODEL</th>\n",
       "      <th>BACKGROUND TRAIT</th>\n",
       "      <th>MAPPED BACKGROUND TRAIT</th>\n",
       "      <th>MAPPED BACKGROUND TRAIT URI</th>\n",
       "      <th>COHORT</th>\n",
       "      <th>FULL SUMMARY STATISTICS</th>\n",
       "      <th>SUMMARY STATS LOCATION</th>\n",
       "      <th>GXE</th>\n",
       "      <th>GENOTYPING_TECH_CLEAN</th>\n",
       "    </tr>\n",
       "  </thead>\n",
       "  <tbody>\n",
       "    <tr>\n",
       "      <th>35869</th>\n",
       "      <td>2021-07-27</td>\n",
       "      <td>34187551</td>\n",
       "      <td>McCartney DL</td>\n",
       "      <td>2021-06-29</td>\n",
       "      <td>Genome Biol</td>\n",
       "      <td>www.ncbi.nlm.nih.gov/pubmed/34187551</td>\n",
       "      <td>Genome-wide association studies identify 137 g...</td>\n",
       "      <td>DNA methylation-estimated granulocyte proportions</td>\n",
       "      <td>34,470 European ancestry individuals, 6,152 Af...</td>\n",
       "      <td>NaN</td>\n",
       "      <td>...</td>\n",
       "      <td>NaN</td>\n",
       "      <td>NaN</td>\n",
       "      <td>NaN</td>\n",
       "      <td>NaN</td>\n",
       "      <td>NaN</td>\n",
       "      <td>JHS|BHS|GENOA|GTP|AIRWAVE|BIB|BHS|BLSA|DTR|EGC...</td>\n",
       "      <td>yes</td>\n",
       "      <td>http://ftp.ebi.ac.uk/pub/databases/gwas/summar...</td>\n",
       "      <td>no</td>\n",
       "      <td>Genome-wide genotyping array, Targeted genotyp...</td>\n",
       "    </tr>\n",
       "  </tbody>\n",
       "</table>\n",
       "<p>1 rows × 26 columns</p>\n",
       "</div>"
      ],
      "text/plain": [
       "      DATE ADDED TO CATALOG  PUBMED ID  FIRST AUTHOR        DATE      JOURNAL  \\\n",
       "35869            2021-07-27   34187551  McCartney DL  2021-06-29  Genome Biol   \n",
       "\n",
       "                                       LINK  \\\n",
       "35869  www.ncbi.nlm.nih.gov/pubmed/34187551   \n",
       "\n",
       "                                                   STUDY  \\\n",
       "35869  Genome-wide association studies identify 137 g...   \n",
       "\n",
       "                                           DISEASE/TRAIT  \\\n",
       "35869  DNA methylation-estimated granulocyte proportions   \n",
       "\n",
       "                                     INITIAL SAMPLE SIZE  \\\n",
       "35869  34,470 European ancestry individuals, 6,152 Af...   \n",
       "\n",
       "      REPLICATION SAMPLE SIZE  ... SUBMISSION DATE  STATISTICAL MODEL  \\\n",
       "35869                     NaN  ...             NaN                NaN   \n",
       "\n",
       "      BACKGROUND TRAIT MAPPED BACKGROUND TRAIT MAPPED BACKGROUND TRAIT URI  \\\n",
       "35869              NaN                     NaN                         NaN   \n",
       "\n",
       "                                                  COHORT  \\\n",
       "35869  JHS|BHS|GENOA|GTP|AIRWAVE|BIB|BHS|BLSA|DTR|EGC...   \n",
       "\n",
       "       FULL SUMMARY STATISTICS  \\\n",
       "35869                      yes   \n",
       "\n",
       "                                  SUMMARY STATS LOCATION  GXE  \\\n",
       "35869  http://ftp.ebi.ac.uk/pub/databases/gwas/summar...   no   \n",
       "\n",
       "                                   GENOTYPING_TECH_CLEAN  \n",
       "35869  Genome-wide genotyping array, Targeted genotyp...  \n",
       "\n",
       "[1 rows x 26 columns]"
      ]
     },
     "execution_count": 70,
     "metadata": {},
     "output_type": "execute_result"
    }
   ],
   "source": [
    "gwas[gwas.GENOTYPING_TECH_CLEAN=='Genome-wide genotyping array, Targeted genotyping array, Exome genotyping array, Genome-wide sequencing']"
   ]
  },
  {
   "cell_type": "code",
   "execution_count": null,
   "metadata": {},
   "outputs": [],
   "source": []
  },
  {
   "cell_type": "code",
   "execution_count": 71,
   "metadata": {
    "ExecuteTime": {
     "end_time": "2025-02-27T18:26:11.674765Z",
     "start_time": "2025-02-27T18:26:11.629931Z"
    },
    "scrolled": true
   },
   "outputs": [
    {
     "data": {
      "text/plain": [
       "GENOTYPING_TECH_CLEAN\n",
       "Genome-wide genotyping array                                                                               940\n",
       "Genome-wide genotyping array, Genome-wide sequencing                                                        34\n",
       "Exome genotyping array                                                                                      14\n",
       "Targeted genotyping array                                                                                   12\n",
       "Genome-wide sequencing                                                                                       9\n",
       "Genome-wide genotyping array, Exome-wide sequencing                                                          4\n",
       "Genome-wide genotyping array, Targeted genotyping array                                                      4\n",
       "Exome-wide sequencing                                                                                        4\n",
       "Genome-wide genotyping array, Exome genotyping array                                                         4\n",
       "Genome-wide genotyping array, Genome-wide sequencing, Exome-wide sequencing                                  4\n",
       "Genome-wide genotyping array, Targeted genotyping array, Exome genotyping array, Genome-wide sequencing      1\n",
       "Name: count, dtype: int64"
      ]
     },
     "execution_count": 71,
     "metadata": {},
     "output_type": "execute_result"
    }
   ],
   "source": [
    "gwas.GENOTYPING_TECH_CLEAN.value_counts()"
   ]
  },
  {
   "cell_type": "markdown",
   "metadata": {},
   "source": [
    "# Trait Type"
   ]
  },
  {
   "cell_type": "code",
   "execution_count": 118,
   "metadata": {
    "ExecuteTime": {
     "end_time": "2025-02-28T22:57:29.794243Z",
     "start_time": "2025-02-28T22:57:29.767508Z"
    }
   },
   "outputs": [],
   "source": [
    "trait_df = pd.read_csv('/cellar/users/snwright/Data/Transfer/RVC/TraitClassification.tsv', sep='\\t')"
   ]
  },
  {
   "cell_type": "code",
   "execution_count": 119,
   "metadata": {
    "ExecuteTime": {
     "end_time": "2025-02-28T22:57:36.854218Z",
     "start_time": "2025-02-28T22:57:36.849169Z"
    }
   },
   "outputs": [
    {
     "data": {
      "text/html": [
       "<div>\n",
       "<style scoped>\n",
       "    .dataframe tbody tr th:only-of-type {\n",
       "        vertical-align: middle;\n",
       "    }\n",
       "\n",
       "    .dataframe tbody tr th {\n",
       "        vertical-align: top;\n",
       "    }\n",
       "\n",
       "    .dataframe thead th {\n",
       "        text-align: right;\n",
       "    }\n",
       "</style>\n",
       "<table border=\"1\" class=\"dataframe\">\n",
       "  <thead>\n",
       "    <tr style=\"text-align: right;\">\n",
       "      <th></th>\n",
       "      <th>EFO</th>\n",
       "      <th>Sub-Category</th>\n",
       "      <th>Category</th>\n",
       "    </tr>\n",
       "  </thead>\n",
       "  <tbody>\n",
       "    <tr>\n",
       "      <th>0</th>\n",
       "      <td>EFO:0000319</td>\n",
       "      <td>Cardiovascular</td>\n",
       "      <td>Cardiovascular</td>\n",
       "    </tr>\n",
       "    <tr>\n",
       "      <th>1</th>\n",
       "      <td>EFO:0000537</td>\n",
       "      <td>Cardiovascular</td>\n",
       "      <td>Cardiovascular</td>\n",
       "    </tr>\n",
       "    <tr>\n",
       "      <th>2</th>\n",
       "      <td>EFO:0000612</td>\n",
       "      <td>Cardiovascular</td>\n",
       "      <td>Cardiovascular</td>\n",
       "    </tr>\n",
       "    <tr>\n",
       "      <th>3</th>\n",
       "      <td>EFO:0009289</td>\n",
       "      <td>Cardiovascular</td>\n",
       "      <td>Cardiovascular</td>\n",
       "    </tr>\n",
       "    <tr>\n",
       "      <th>4</th>\n",
       "      <td>EFO:0004269</td>\n",
       "      <td>Cardiovascular</td>\n",
       "      <td>Cardiovascular</td>\n",
       "    </tr>\n",
       "  </tbody>\n",
       "</table>\n",
       "</div>"
      ],
      "text/plain": [
       "           EFO    Sub-Category        Category\n",
       "0  EFO:0000319  Cardiovascular  Cardiovascular\n",
       "1  EFO:0000537  Cardiovascular  Cardiovascular\n",
       "2  EFO:0000612  Cardiovascular  Cardiovascular\n",
       "3  EFO:0009289  Cardiovascular  Cardiovascular\n",
       "4  EFO:0004269  Cardiovascular  Cardiovascular"
      ]
     },
     "execution_count": 119,
     "metadata": {},
     "output_type": "execute_result"
    }
   ],
   "source": [
    "trait_df.head()"
   ]
  }
 ],
 "metadata": {
  "kernelspec": {
   "display_name": "Python (CARVA)",
   "language": "python",
   "name": "carva"
  },
  "language_info": {
   "codemirror_mode": {
    "name": "ipython",
    "version": 3
   },
   "file_extension": ".py",
   "mimetype": "text/x-python",
   "name": "python",
   "nbconvert_exporter": "python",
   "pygments_lexer": "ipython3",
   "version": "3.10.0"
  },
  "toc": {
   "base_numbering": 1,
   "nav_menu": {},
   "number_sections": true,
   "sideBar": true,
   "skip_h1_title": false,
   "title_cell": "Table of Contents",
   "title_sidebar": "Contents",
   "toc_cell": false,
   "toc_position": {},
   "toc_section_display": true,
   "toc_window_display": false
  },
  "varInspector": {
   "cols": {
    "lenName": 16,
    "lenType": 16,
    "lenVar": 40
   },
   "kernels_config": {
    "python": {
     "delete_cmd_postfix": "",
     "delete_cmd_prefix": "del ",
     "library": "var_list.py",
     "varRefreshCmd": "print(var_dic_list())"
    },
    "r": {
     "delete_cmd_postfix": ") ",
     "delete_cmd_prefix": "rm(",
     "library": "var_list.r",
     "varRefreshCmd": "cat(var_dic_list()) "
    }
   },
   "types_to_exclude": [
    "module",
    "function",
    "builtin_function_or_method",
    "instance",
    "_Feature"
   ],
   "window_display": false
  }
 },
 "nbformat": 4,
 "nbformat_minor": 2
}
