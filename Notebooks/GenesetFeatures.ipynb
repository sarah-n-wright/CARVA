{
 "cells": [
  {
   "cell_type": "code",
   "execution_count": 1,
   "metadata": {},
   "outputs": [],
   "source": [
    "import pandas as pd\n",
    "import networkx as nx\n",
    "import numpy as np\n",
    "from tqdm import tqdm\n",
    "import matplotlib.pyplot as plt\n",
    "import seaborn as sns\n",
    "import os\n",
    "from collections import defaultdict\n",
    "import ndex2"
   ]
  },
  {
   "cell_type": "code",
   "execution_count": 2,
   "metadata": {},
   "outputs": [],
   "source": [
    "datadir = '/cellar/users/snwright/Data/NetColocTest/'"
   ]
  },
  {
   "cell_type": "code",
   "execution_count": 3,
   "metadata": {},
   "outputs": [],
   "source": [
    "def load_node_sets(node_set_file, delimiter='\\t', verbose=False, id_type=\"Entrez\"):\n",
    "    \"\"\" Load node sets from a text file into a dictionary\n",
    "    \n",
    "    Args:\n",
    "        node_set_file (str): path to node set file\n",
    "        delimiter (str): delimiter for node set file\n",
    "        verbose (bool): print out number of node sets loaded\n",
    "        id_type (str): type of node ID to use for graph\n",
    "    \n",
    "    Returns:\n",
    "        dict: dictionary of node sets\n",
    "    \"\"\"\n",
    "    f = open(node_set_file)\n",
    "    node_set_lines = f.read().splitlines()\n",
    "    node_set_lines_split = [line.split(delimiter) for line in node_set_lines]\n",
    "    f.close()\n",
    "    node_sets = {node_set[0]:set(node_set[1:]) for node_set in node_set_lines_split}\n",
    "    if id_type == \"Entrez\":\n",
    "        for set_id in node_sets:\n",
    "            node_sets[set_id] = {int(node) for node in list(node_sets[set_id]) if node.isnumeric()}\n",
    "    if verbose:\n",
    "        print('Node cohorts loaded:', node_set_file)\n",
    "    return node_sets"
   ]
  },
  {
   "cell_type": "code",
   "execution_count": 8,
   "metadata": {},
   "outputs": [],
   "source": [
    "go_genesets = load_node_sets(os.path.join(datadir, 'Reference','go.test' ))"
   ]
  },
  {
   "cell_type": "code",
   "execution_count": 16,
   "metadata": {},
   "outputs": [],
   "source": [
    "G = nx.Graph()\n",
    "G.add_edge(1, 2)\n",
    "G.add_edge(1, 3)\n",
    "G.add_edge(1, 50)\n",
    "G.add_edge(2, 3)\n",
    "G.add_edge(3, 4)\n",
    "G.add_edge(4, 50)"
   ]
  },
  {
   "cell_type": "code",
   "execution_count": 17,
   "metadata": {},
   "outputs": [],
   "source": [
    "x = pd.DataFrame.from_dict(dict(nx.all_pairs_shortest_path_length(G)))"
   ]
  },
  {
   "cell_type": "code",
   "execution_count": 18,
   "metadata": {},
   "outputs": [
    {
     "data": {
      "text/html": [
       "<div>\n",
       "<style scoped>\n",
       "    .dataframe tbody tr th:only-of-type {\n",
       "        vertical-align: middle;\n",
       "    }\n",
       "\n",
       "    .dataframe tbody tr th {\n",
       "        vertical-align: top;\n",
       "    }\n",
       "\n",
       "    .dataframe thead th {\n",
       "        text-align: right;\n",
       "    }\n",
       "</style>\n",
       "<table border=\"1\" class=\"dataframe\">\n",
       "  <thead>\n",
       "    <tr style=\"text-align: right;\">\n",
       "      <th></th>\n",
       "      <th>1</th>\n",
       "      <th>2</th>\n",
       "      <th>3</th>\n",
       "      <th>50</th>\n",
       "      <th>4</th>\n",
       "    </tr>\n",
       "  </thead>\n",
       "  <tbody>\n",
       "    <tr>\n",
       "      <th>1</th>\n",
       "      <td>0</td>\n",
       "      <td>1</td>\n",
       "      <td>1</td>\n",
       "      <td>1</td>\n",
       "      <td>2</td>\n",
       "    </tr>\n",
       "    <tr>\n",
       "      <th>2</th>\n",
       "      <td>1</td>\n",
       "      <td>0</td>\n",
       "      <td>1</td>\n",
       "      <td>2</td>\n",
       "      <td>2</td>\n",
       "    </tr>\n",
       "    <tr>\n",
       "      <th>3</th>\n",
       "      <td>1</td>\n",
       "      <td>1</td>\n",
       "      <td>0</td>\n",
       "      <td>2</td>\n",
       "      <td>1</td>\n",
       "    </tr>\n",
       "    <tr>\n",
       "      <th>50</th>\n",
       "      <td>1</td>\n",
       "      <td>2</td>\n",
       "      <td>2</td>\n",
       "      <td>0</td>\n",
       "      <td>1</td>\n",
       "    </tr>\n",
       "    <tr>\n",
       "      <th>4</th>\n",
       "      <td>2</td>\n",
       "      <td>2</td>\n",
       "      <td>1</td>\n",
       "      <td>1</td>\n",
       "      <td>0</td>\n",
       "    </tr>\n",
       "  </tbody>\n",
       "</table>\n",
       "</div>"
      ],
      "text/plain": [
       "    1   2   3   50  4 \n",
       "1    0   1   1   1   2\n",
       "2    1   0   1   2   2\n",
       "3    1   1   0   2   1\n",
       "50   1   2   2   0   1\n",
       "4    2   2   1   1   0"
      ]
     },
     "execution_count": 18,
     "metadata": {},
     "output_type": "execute_result"
    }
   ],
   "source": [
    "x"
   ]
  },
  {
   "cell_type": "code",
   "execution_count": null,
   "metadata": {},
   "outputs": [],
   "source": [
    "ndex_server='public.ndexbio.org'\n",
    "\n",
    "ndex_user=None\n",
    "ndex_password=None\n",
    "G_overlap_cx = ndex2.create_nice_cx_from_server(\n",
    "        ndex_server, \n",
    "        username=ndex_user, \n",
    "        password=ndex_password, \n",
    "        uuid='d73d6357-e87b-11ee-9621-005056ae23aa')\n",
    "G_overlap = G_overlap_cx.to_networkx()\n",
    "print('number of nodes:')\n",
    "print(len(G_overlap.nodes))\n",
    "print('\\nnumber of edges:')\n",
    "print(len(G_overlap.edges))"
   ]
  },
  {
   "cell_type": "code",
   "execution_count": null,
   "metadata": {},
   "outputs": [],
   "source": [
    "node_map = pd.DataFrame({'node': G_overlap.nodes})"
   ]
  },
  {
   "cell_type": "code",
   "execution_count": null,
   "metadata": {},
   "outputs": [],
   "source": [
    "node_map['Entrez'] = node_map.node.apply(lambda x: G_overlap.nodes[x]['GeneID'])"
   ]
  },
  {
   "cell_type": "markdown",
   "metadata": {},
   "source": [
    "## Average degree"
   ]
  },
  {
   "cell_type": "code",
   "execution_count": 16,
   "metadata": {},
   "outputs": [],
   "source": [
    "degrees = pd.read_csv(os.path.join(datadir, 'inputs', 'GO', 'pcnet2_0_degrees.txt'), sep='\\t', names=['Degree'], header=None, index_col=0)"
   ]
  },
  {
   "cell_type": "code",
   "execution_count": 25,
   "metadata": {},
   "outputs": [],
   "source": [
    "avg_degree = defaultdict(float)\n",
    "med_degree = defaultdict(float)\n",
    "for gs in go_genesets:\n",
    "    gs_degree = []\n",
    "    for gene in go_genesets[gs]:\n",
    "        if gene in degrees.index:\n",
    "            gs_degree.append(degrees.loc[gene].Degree)\n",
    "    avg_degree[gs] = np.mean(gs_degree)\n",
    "    med_degree[gs] = np.median(gs_degree)"
   ]
  },
  {
   "cell_type": "code",
   "execution_count": 26,
   "metadata": {},
   "outputs": [
    {
     "data": {
      "text/plain": [
       "defaultdict(float,\n",
       "            {'GO:0000082': 636.0,\n",
       "             'GO:0097529': 318.0,\n",
       "             'GO:0090068': 627.0,\n",
       "             'GO:0001935': 367.0,\n",
       "             'GO:0098742': 132.0,\n",
       "             'GO:0001704': 402.5,\n",
       "             'GO:0045216': 277.0,\n",
       "             'GO:0042445': 226.0,\n",
       "             'GO:2001234': 620.5,\n",
       "             'GO:0002699': 366.0})"
      ]
     },
     "execution_count": 26,
     "metadata": {},
     "output_type": "execute_result"
    }
   ],
   "source": [
    "med_degree"
   ]
  },
  {
   "cell_type": "markdown",
   "metadata": {},
   "source": [
    "## Clustering/Average Shortest Path"
   ]
  },
  {
   "cell_type": "code",
   "execution_count": null,
   "metadata": {},
   "outputs": [],
   "source": []
  },
  {
   "cell_type": "markdown",
   "metadata": {},
   "source": [
    "## Assortative Clustering\n",
    "\n",
    "This will be more relevant with real gene sets?"
   ]
  },
  {
   "cell_type": "code",
   "execution_count": null,
   "metadata": {},
   "outputs": [],
   "source": []
  }
 ],
 "metadata": {
  "kernelspec": {
   "display_name": "Python (CARVA)",
   "language": "python",
   "name": "carva"
  },
  "language_info": {
   "codemirror_mode": {
    "name": "ipython",
    "version": 3
   },
   "file_extension": ".py",
   "mimetype": "text/x-python",
   "name": "python",
   "nbconvert_exporter": "python",
   "pygments_lexer": "ipython3",
   "version": "3.10.0"
  }
 },
 "nbformat": 4,
 "nbformat_minor": 4
}
