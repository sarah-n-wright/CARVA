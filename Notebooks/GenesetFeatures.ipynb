{
 "cells": [
  {
   "cell_type": "code",
   "execution_count": 1,
   "metadata": {
    "ExecuteTime": {
     "end_time": "2025-02-25T18:28:37.794634Z",
     "start_time": "2025-02-25T18:28:28.479498Z"
    }
   },
   "outputs": [
    {
     "data": {
      "text/plain": [
       "<module 'geneset_utils' from '/cellar/users/snwright/Git/rare_common/carva/geneset_utils.py'>"
      ]
     },
     "execution_count": 1,
     "metadata": {},
     "output_type": "execute_result"
    }
   ],
   "source": [
    "import pandas as pd\n",
    "import networkx as nx\n",
    "import numpy as np\n",
    "from tqdm import tqdm\n",
    "import matplotlib.pyplot as plt\n",
    "import seaborn as sns\n",
    "import os\n",
    "from collections import defaultdict\n",
    "import ndex2\n",
    "import sys\n",
    "from importlib import reload\n",
    "sys.path.append('/cellar/users/snwright/Git/rare_common/carva')\n",
    "import geneset_utils\n",
    "reload(geneset_utils)"
   ]
  },
  {
   "cell_type": "code",
   "execution_count": 5,
   "metadata": {
    "ExecuteTime": {
     "end_time": "2024-11-27T20:04:05.933832Z",
     "start_time": "2024-11-27T20:04:05.931034Z"
    }
   },
   "outputs": [],
   "source": [
    "indir = '/cellar/users/snwright/Data/RareCommon/inputs/'\n",
    "outdir = '/cellar/users/snwright/Data/RareCommon/outputs/'\n",
    "figdir='/cellar/users/snwright/Data/Transfer/RVC/figures/GenesetFeatures/'"
   ]
  },
  {
   "cell_type": "code",
   "execution_count": 3,
   "metadata": {
    "ExecuteTime": {
     "end_time": "2024-11-27T20:02:36.366387Z",
     "start_time": "2024-11-27T20:02:36.363179Z"
    }
   },
   "outputs": [],
   "source": [
    "plt.rcParams['svg.fonttype'] = 'none'\n",
    "plt.rcParams.update({'font.size': 7})\n",
    "plt.rcParams['axes.linewidth'] = 0.5\n",
    "plt.rcParams['hatch.linewidth'] = 0.5\n",
    "plt.rcParams['xtick.major.width'] = 0.4\n",
    "plt.rcParams['ytick.major.width'] = 0.4\n",
    "plt.rcParams['xtick.minor.width'] = 0.3\n",
    "plt.rcParams['ytick.minor.width'] = 0.3\n",
    "plt.rcParams['legend.frameon'] = False\n",
    "plt.rcParams['xtick.major.size'] = 3\n",
    "plt.rcParams['ytick.major.size'] = 3\n",
    "plt.rcParams['xtick.minor.size'] = 2\n",
    "plt.rcParams['ytick.minor.size'] = 2\n",
    "plt.rcParams['xtick.major.pad'] = 1\n",
    "plt.rcParams['ytick.major.pad'] = 1\n",
    "plt.rcParams['axes.labelpad'] = 1\n",
    "plt.rcParams['patch.linewidth'] = 0.25"
   ]
  },
  {
   "cell_type": "code",
   "execution_count": 6,
   "metadata": {
    "ExecuteTime": {
     "end_time": "2024-11-27T20:05:01.311398Z",
     "start_time": "2024-11-27T20:05:01.294869Z"
    }
   },
   "outputs": [],
   "source": [
    "with open(os.path.join(indir, 'overlap_traits_Jun27_min3_genes.txt'), 'r') as f:\n",
    "    all_traits = [x.strip() for x in f.readlines()][1:]"
   ]
  },
  {
   "cell_type": "code",
   "execution_count": 9,
   "metadata": {
    "ExecuteTime": {
     "end_time": "2024-11-27T20:09:18.124940Z",
     "start_time": "2024-11-27T20:09:18.123226Z"
    }
   },
   "outputs": [],
   "source": [
    "feature_dir = '/cellar/users/snwright/Data/RareCommon/outputs/Features/'"
   ]
  },
  {
   "cell_type": "markdown",
   "metadata": {},
   "source": [
    "## Load Network Features"
   ]
  },
  {
   "cell_type": "code",
   "execution_count": 12,
   "metadata": {
    "ExecuteTime": {
     "end_time": "2024-11-27T20:09:58.883528Z",
     "start_time": "2024-11-27T20:09:57.854624Z"
    }
   },
   "outputs": [],
   "source": [
    "networks = ['pcnet2_0', 'pcnet2_2', 'humannet']\n",
    "results_lists = {net:[] for net in networks}\n",
    "for net in networks:\n",
    "    for trait in all_traits:\n",
    "        results_lists[net].append(pd.read_csv(os.path.join(feature_dir, \n",
    "            f'network_stats_{net}_overlap_traits_Jun27_min3_genes.txt.{trait}'), sep='\\t'))\n",
    "results_df = {net:pd.concat(results_lists[net]) for net in networks}"
   ]
  },
  {
   "cell_type": "code",
   "execution_count": 13,
   "metadata": {
    "ExecuteTime": {
     "end_time": "2024-11-27T20:10:03.010381Z",
     "start_time": "2024-11-27T20:10:02.998483Z"
    }
   },
   "outputs": [
    {
     "data": {
      "text/html": [
       "<div>\n",
       "<style scoped>\n",
       "    .dataframe tbody tr th:only-of-type {\n",
       "        vertical-align: middle;\n",
       "    }\n",
       "\n",
       "    .dataframe tbody tr th {\n",
       "        vertical-align: top;\n",
       "    }\n",
       "\n",
       "    .dataframe thead th {\n",
       "        text-align: right;\n",
       "    }\n",
       "</style>\n",
       "<table border=\"1\" class=\"dataframe\">\n",
       "  <thead>\n",
       "    <tr style=\"text-align: right;\">\n",
       "      <th></th>\n",
       "      <th>trait</th>\n",
       "      <th>varset</th>\n",
       "      <th>subnetwork_density</th>\n",
       "      <th>n_components</th>\n",
       "      <th>average_degree</th>\n",
       "      <th>subnetwork_average_degree</th>\n",
       "      <th>clustering</th>\n",
       "      <th>subnetwork_clustering</th>\n",
       "      <th>assortativity</th>\n",
       "      <th>subnetwork_assortativity</th>\n",
       "    </tr>\n",
       "  </thead>\n",
       "  <tbody>\n",
       "    <tr>\n",
       "      <th>0</th>\n",
       "      <td>EFO_0000182</td>\n",
       "      <td>rare</td>\n",
       "      <td>0.000000</td>\n",
       "      <td>4</td>\n",
       "      <td>956.750000</td>\n",
       "      <td>0.000000</td>\n",
       "      <td>0.324322</td>\n",
       "      <td>0.000000</td>\n",
       "      <td>-0.000576</td>\n",
       "      <td>NaN</td>\n",
       "    </tr>\n",
       "    <tr>\n",
       "      <th>1</th>\n",
       "      <td>EFO_0000182</td>\n",
       "      <td>common</td>\n",
       "      <td>0.018182</td>\n",
       "      <td>10</td>\n",
       "      <td>233.727273</td>\n",
       "      <td>0.181818</td>\n",
       "      <td>0.299138</td>\n",
       "      <td>0.000000</td>\n",
       "      <td>0.000391</td>\n",
       "      <td>NaN</td>\n",
       "    </tr>\n",
       "    <tr>\n",
       "      <th>2</th>\n",
       "      <td>EFO_0000182</td>\n",
       "      <td>overlap</td>\n",
       "      <td>0.000000</td>\n",
       "      <td>0</td>\n",
       "      <td>0.000000</td>\n",
       "      <td>0.000000</td>\n",
       "      <td>0.000000</td>\n",
       "      <td>0.000000</td>\n",
       "      <td>0.000000</td>\n",
       "      <td>NaN</td>\n",
       "    </tr>\n",
       "    <tr>\n",
       "      <th>3</th>\n",
       "      <td>EFO_0000182</td>\n",
       "      <td>rare_common</td>\n",
       "      <td>0.019048</td>\n",
       "      <td>13</td>\n",
       "      <td>426.533333</td>\n",
       "      <td>0.266667</td>\n",
       "      <td>0.305853</td>\n",
       "      <td>0.000000</td>\n",
       "      <td>-0.000338</td>\n",
       "      <td>-0.333333</td>\n",
       "    </tr>\n",
       "    <tr>\n",
       "      <th>0</th>\n",
       "      <td>EFO_0000198</td>\n",
       "      <td>rare</td>\n",
       "      <td>0.150327</td>\n",
       "      <td>9</td>\n",
       "      <td>825.777778</td>\n",
       "      <td>2.555556</td>\n",
       "      <td>0.306009</td>\n",
       "      <td>0.330952</td>\n",
       "      <td>0.000861</td>\n",
       "      <td>NaN</td>\n",
       "    </tr>\n",
       "    <tr>\n",
       "      <th>...</th>\n",
       "      <td>...</td>\n",
       "      <td>...</td>\n",
       "      <td>...</td>\n",
       "      <td>...</td>\n",
       "      <td>...</td>\n",
       "      <td>...</td>\n",
       "      <td>...</td>\n",
       "      <td>...</td>\n",
       "      <td>...</td>\n",
       "      <td>...</td>\n",
       "    </tr>\n",
       "    <tr>\n",
       "      <th>3</th>\n",
       "      <td>MONDO_0018309</td>\n",
       "      <td>rare_common</td>\n",
       "      <td>0.066667</td>\n",
       "      <td>7</td>\n",
       "      <td>544.700000</td>\n",
       "      <td>0.600000</td>\n",
       "      <td>0.248289</td>\n",
       "      <td>0.000000</td>\n",
       "      <td>0.000282</td>\n",
       "      <td>(-0.5000000000000001, -0.1999999999999996)</td>\n",
       "    </tr>\n",
       "    <tr>\n",
       "      <th>0</th>\n",
       "      <td>MONDO_0024647</td>\n",
       "      <td>rare</td>\n",
       "      <td>0.000000</td>\n",
       "      <td>15</td>\n",
       "      <td>297.333333</td>\n",
       "      <td>0.000000</td>\n",
       "      <td>0.323590</td>\n",
       "      <td>0.000000</td>\n",
       "      <td>-0.000671</td>\n",
       "      <td>NaN</td>\n",
       "    </tr>\n",
       "    <tr>\n",
       "      <th>1</th>\n",
       "      <td>MONDO_0024647</td>\n",
       "      <td>common</td>\n",
       "      <td>0.020000</td>\n",
       "      <td>20</td>\n",
       "      <td>199.920000</td>\n",
       "      <td>0.480000</td>\n",
       "      <td>0.271129</td>\n",
       "      <td>0.060000</td>\n",
       "      <td>0.001650</td>\n",
       "      <td>NaN</td>\n",
       "    </tr>\n",
       "    <tr>\n",
       "      <th>2</th>\n",
       "      <td>MONDO_0024647</td>\n",
       "      <td>overlap</td>\n",
       "      <td>0.000000</td>\n",
       "      <td>0</td>\n",
       "      <td>0.000000</td>\n",
       "      <td>0.000000</td>\n",
       "      <td>0.000000</td>\n",
       "      <td>0.000000</td>\n",
       "      <td>0.000000</td>\n",
       "      <td>NaN</td>\n",
       "    </tr>\n",
       "    <tr>\n",
       "      <th>3</th>\n",
       "      <td>MONDO_0024647</td>\n",
       "      <td>rare_common</td>\n",
       "      <td>0.014103</td>\n",
       "      <td>30</td>\n",
       "      <td>236.450000</td>\n",
       "      <td>0.550000</td>\n",
       "      <td>0.290802</td>\n",
       "      <td>0.037500</td>\n",
       "      <td>0.000905</td>\n",
       "      <td>-0.294118</td>\n",
       "    </tr>\n",
       "  </tbody>\n",
       "</table>\n",
       "<p>1396 rows × 10 columns</p>\n",
       "</div>"
      ],
      "text/plain": [
       "            trait       varset  subnetwork_density  n_components  \\\n",
       "0     EFO_0000182         rare            0.000000             4   \n",
       "1     EFO_0000182       common            0.018182            10   \n",
       "2     EFO_0000182      overlap            0.000000             0   \n",
       "3     EFO_0000182  rare_common            0.019048            13   \n",
       "0     EFO_0000198         rare            0.150327             9   \n",
       "..            ...          ...                 ...           ...   \n",
       "3   MONDO_0018309  rare_common            0.066667             7   \n",
       "0   MONDO_0024647         rare            0.000000            15   \n",
       "1   MONDO_0024647       common            0.020000            20   \n",
       "2   MONDO_0024647      overlap            0.000000             0   \n",
       "3   MONDO_0024647  rare_common            0.014103            30   \n",
       "\n",
       "    average_degree  subnetwork_average_degree  clustering  \\\n",
       "0       956.750000                   0.000000    0.324322   \n",
       "1       233.727273                   0.181818    0.299138   \n",
       "2         0.000000                   0.000000    0.000000   \n",
       "3       426.533333                   0.266667    0.305853   \n",
       "0       825.777778                   2.555556    0.306009   \n",
       "..             ...                        ...         ...   \n",
       "3       544.700000                   0.600000    0.248289   \n",
       "0       297.333333                   0.000000    0.323590   \n",
       "1       199.920000                   0.480000    0.271129   \n",
       "2         0.000000                   0.000000    0.000000   \n",
       "3       236.450000                   0.550000    0.290802   \n",
       "\n",
       "    subnetwork_clustering  assortativity  \\\n",
       "0                0.000000      -0.000576   \n",
       "1                0.000000       0.000391   \n",
       "2                0.000000       0.000000   \n",
       "3                0.000000      -0.000338   \n",
       "0                0.330952       0.000861   \n",
       "..                    ...            ...   \n",
       "3                0.000000       0.000282   \n",
       "0                0.000000      -0.000671   \n",
       "1                0.060000       0.001650   \n",
       "2                0.000000       0.000000   \n",
       "3                0.037500       0.000905   \n",
       "\n",
       "                      subnetwork_assortativity  \n",
       "0                                          NaN  \n",
       "1                                          NaN  \n",
       "2                                          NaN  \n",
       "3                                    -0.333333  \n",
       "0                                          NaN  \n",
       "..                                         ...  \n",
       "3   (-0.5000000000000001, -0.1999999999999996)  \n",
       "0                                          NaN  \n",
       "1                                          NaN  \n",
       "2                                          NaN  \n",
       "3                                    -0.294118  \n",
       "\n",
       "[1396 rows x 10 columns]"
      ]
     },
     "execution_count": 13,
     "metadata": {},
     "output_type": "execute_result"
    }
   ],
   "source": [
    "results_df['pcnet2_2']"
   ]
  },
  {
   "cell_type": "markdown",
   "metadata": {},
   "source": [
    "## Global results\n",
    "\n",
    "- results very similar across networks\n",
    "- distributions appear to be pretty similar. Though it will be interesting to see how performance varies.\n",
    "- Don't appear to be massive differences in distributions, and don't appear to be massive correlations between rare and common.\n",
    "- Suspect many features are driven by geneset size. "
   ]
  },
  {
   "cell_type": "code",
   "execution_count": 32,
   "metadata": {
    "ExecuteTime": {
     "end_time": "2024-11-27T20:21:14.455503Z",
     "start_time": "2024-11-27T20:21:14.452232Z"
    }
   },
   "outputs": [],
   "source": [
    "def plot_histograms_by_network(results_df, networks, stat_col, hue_col='varset'):\n",
    "    n_subplots = len(networks)\n",
    "    _, axs = plt.subplots(ncols=1, nrows=n_subplots, figsize=(5, 2*n_subplots), sharex=True)\n",
    "    for i, net in enumerate(networks):\n",
    "        sns.histplot(results_df[net][results_df[net].n_components != 0], x=stat_col, hue=hue_col, kde=True, \n",
    "             fill=False, stat='count', ax=axs[i])\n",
    "        axs[i].set_ylabel(f'{net} Count')"
   ]
  },
  {
   "cell_type": "code",
   "execution_count": 33,
   "metadata": {
    "ExecuteTime": {
     "end_time": "2024-11-27T20:21:20.054101Z",
     "start_time": "2024-11-27T20:21:18.629328Z"
    },
    "code_folding": []
   },
   "outputs": [
    {
     "data": {
      "image/png": "[encoded data removed]",
      "text/plain": [
       "<Figure size 500x600 with 3 Axes>"
      ]
     },
     "metadata": {},
     "output_type": "display_data"
    }
   ],
   "source": [
    "plot_histograms_by_network(results_df, networks, 'average_degree')"
   ]
  },
  {
   "cell_type": "code",
   "execution_count": 34,
   "metadata": {
    "ExecuteTime": {
     "end_time": "2024-11-27T20:21:55.322319Z",
     "start_time": "2024-11-27T20:21:52.128984Z"
    }
   },
   "outputs": [
    {
     "data": {
      "image/png": "[encoded data removed]",
      "text/plain": [
       "<Figure size 500x600 with 3 Axes>"
      ]
     },
     "metadata": {},
     "output_type": "display_data"
    }
   ],
   "source": [
    "plot_histograms_by_network(results_df, networks, 'subnetwork_density')"
   ]
  },
  {
   "cell_type": "code",
   "execution_count": 35,
   "metadata": {
    "ExecuteTime": {
     "end_time": "2024-11-27T20:22:39.267481Z",
     "start_time": "2024-11-27T20:22:37.093855Z"
    }
   },
   "outputs": [
    {
     "data": {
      "image/png": "[encoded data removed]",
      "text/plain": [
       "<Figure size 500x600 with 3 Axes>"
      ]
     },
     "metadata": {},
     "output_type": "display_data"
    }
   ],
   "source": [
    "plot_histograms_by_network(results_df, networks, 'clustering')"
   ]
  },
  {
   "cell_type": "code",
   "execution_count": 37,
   "metadata": {
    "ExecuteTime": {
     "end_time": "2024-11-27T20:23:09.993614Z",
     "start_time": "2024-11-27T20:23:09.108207Z"
    }
   },
   "outputs": [
    {
     "data": {
      "image/png": "[encoded data removed]",
      "text/plain": [
       "<Figure size 500x600 with 3 Axes>"
      ]
     },
     "metadata": {},
     "output_type": "display_data"
    }
   ],
   "source": [
    "plot_histograms_by_network(results_df, networks, 'subnetwork_clustering')"
   ]
  },
  {
   "cell_type": "code",
   "execution_count": 38,
   "metadata": {
    "ExecuteTime": {
     "end_time": "2024-11-27T20:23:52.618893Z",
     "start_time": "2024-11-27T20:23:51.395636Z"
    }
   },
   "outputs": [
    {
     "data": {
      "image/png": "[encoded data removed]",
      "text/plain": [
       "<Figure size 500x600 with 3 Axes>"
      ]
     },
     "metadata": {},
     "output_type": "display_data"
    }
   ],
   "source": [
    "plot_histograms_by_network(results_df, networks, 'assortativity')"
   ]
  },
  {
   "cell_type": "code",
   "execution_count": 56,
   "metadata": {
    "ExecuteTime": {
     "end_time": "2024-11-27T20:39:51.812788Z",
     "start_time": "2024-11-27T20:39:51.802006Z"
    }
   },
   "outputs": [
    {
     "data": {
      "text/html": [
       "<div>\n",
       "<style scoped>\n",
       "    .dataframe tbody tr th:only-of-type {\n",
       "        vertical-align: middle;\n",
       "    }\n",
       "\n",
       "    .dataframe tbody tr th {\n",
       "        vertical-align: top;\n",
       "    }\n",
       "\n",
       "    .dataframe thead tr th {\n",
       "        text-align: left;\n",
       "    }\n",
       "\n",
       "    .dataframe thead tr:last-of-type th {\n",
       "        text-align: right;\n",
       "    }\n",
       "</style>\n",
       "<table border=\"1\" class=\"dataframe\">\n",
       "  <thead>\n",
       "    <tr>\n",
       "      <th></th>\n",
       "      <th></th>\n",
       "      <th colspan=\"4\" halign=\"left\">subnetwork_density</th>\n",
       "    </tr>\n",
       "    <tr>\n",
       "      <th></th>\n",
       "      <th>varset</th>\n",
       "      <th>common</th>\n",
       "      <th>overlap</th>\n",
       "      <th>rare</th>\n",
       "      <th>rare_common</th>\n",
       "    </tr>\n",
       "    <tr>\n",
       "      <th></th>\n",
       "      <th>varset</th>\n",
       "      <th></th>\n",
       "      <th></th>\n",
       "      <th></th>\n",
       "      <th></th>\n",
       "    </tr>\n",
       "  </thead>\n",
       "  <tbody>\n",
       "    <tr>\n",
       "      <th rowspan=\"4\" valign=\"top\">subnetwork_density</th>\n",
       "      <th>common</th>\n",
       "      <td>1.000000</td>\n",
       "      <td>0.095982</td>\n",
       "      <td>0.119158</td>\n",
       "      <td>0.546359</td>\n",
       "    </tr>\n",
       "    <tr>\n",
       "      <th>overlap</th>\n",
       "      <td>0.095982</td>\n",
       "      <td>1.000000</td>\n",
       "      <td>0.378467</td>\n",
       "      <td>0.089970</td>\n",
       "    </tr>\n",
       "    <tr>\n",
       "      <th>rare</th>\n",
       "      <td>0.119158</td>\n",
       "      <td>0.378467</td>\n",
       "      <td>1.000000</td>\n",
       "      <td>0.450127</td>\n",
       "    </tr>\n",
       "    <tr>\n",
       "      <th>rare_common</th>\n",
       "      <td>0.546359</td>\n",
       "      <td>0.089970</td>\n",
       "      <td>0.450127</td>\n",
       "      <td>1.000000</td>\n",
       "    </tr>\n",
       "  </tbody>\n",
       "</table>\n",
       "</div>"
      ],
      "text/plain": [
       "                               subnetwork_density                      \\\n",
       "varset                                     common   overlap      rare   \n",
       "                   varset                                               \n",
       "subnetwork_density common                1.000000  0.095982  0.119158   \n",
       "                   overlap               0.095982  1.000000  0.378467   \n",
       "                   rare                  0.119158  0.378467  1.000000   \n",
       "                   rare_common           0.546359  0.089970  0.450127   \n",
       "\n",
       "                                            \n",
       "varset                         rare_common  \n",
       "                   varset                   \n",
       "subnetwork_density common         0.546359  \n",
       "                   overlap        0.089970  \n",
       "                   rare           0.450127  \n",
       "                   rare_common    1.000000  "
      ]
     },
     "execution_count": 56,
     "metadata": {},
     "output_type": "execute_result"
    }
   ],
   "source": [
    "results_df['pcnet2_0'][results_df['pcnet2_0'].n_components != 0].loc[:, ('subnetwork_density', 'varset', 'trait')].pivot(columns = 'varset', index='trait').corr()"
   ]
  },
  {
   "cell_type": "code",
   "execution_count": 57,
   "metadata": {
    "ExecuteTime": {
     "end_time": "2024-11-27T20:39:55.949684Z",
     "start_time": "2024-11-27T20:39:55.939737Z"
    }
   },
   "outputs": [
    {
     "data": {
      "text/html": [
       "<div>\n",
       "<style scoped>\n",
       "    .dataframe tbody tr th:only-of-type {\n",
       "        vertical-align: middle;\n",
       "    }\n",
       "\n",
       "    .dataframe tbody tr th {\n",
       "        vertical-align: top;\n",
       "    }\n",
       "\n",
       "    .dataframe thead tr th {\n",
       "        text-align: left;\n",
       "    }\n",
       "\n",
       "    .dataframe thead tr:last-of-type th {\n",
       "        text-align: right;\n",
       "    }\n",
       "</style>\n",
       "<table border=\"1\" class=\"dataframe\">\n",
       "  <thead>\n",
       "    <tr>\n",
       "      <th></th>\n",
       "      <th></th>\n",
       "      <th colspan=\"4\" halign=\"left\">average_degree</th>\n",
       "    </tr>\n",
       "    <tr>\n",
       "      <th></th>\n",
       "      <th>varset</th>\n",
       "      <th>common</th>\n",
       "      <th>overlap</th>\n",
       "      <th>rare</th>\n",
       "      <th>rare_common</th>\n",
       "    </tr>\n",
       "    <tr>\n",
       "      <th></th>\n",
       "      <th>varset</th>\n",
       "      <th></th>\n",
       "      <th></th>\n",
       "      <th></th>\n",
       "      <th></th>\n",
       "    </tr>\n",
       "  </thead>\n",
       "  <tbody>\n",
       "    <tr>\n",
       "      <th rowspan=\"4\" valign=\"top\">average_degree</th>\n",
       "      <th>common</th>\n",
       "      <td>1.000000</td>\n",
       "      <td>0.316227</td>\n",
       "      <td>0.043928</td>\n",
       "      <td>0.589753</td>\n",
       "    </tr>\n",
       "    <tr>\n",
       "      <th>overlap</th>\n",
       "      <td>0.316227</td>\n",
       "      <td>1.000000</td>\n",
       "      <td>0.440249</td>\n",
       "      <td>0.260381</td>\n",
       "    </tr>\n",
       "    <tr>\n",
       "      <th>rare</th>\n",
       "      <td>0.043928</td>\n",
       "      <td>0.440249</td>\n",
       "      <td>1.000000</td>\n",
       "      <td>0.587753</td>\n",
       "    </tr>\n",
       "    <tr>\n",
       "      <th>rare_common</th>\n",
       "      <td>0.589753</td>\n",
       "      <td>0.260381</td>\n",
       "      <td>0.587753</td>\n",
       "      <td>1.000000</td>\n",
       "    </tr>\n",
       "  </tbody>\n",
       "</table>\n",
       "</div>"
      ],
      "text/plain": [
       "                           average_degree                                \n",
       "varset                             common   overlap      rare rare_common\n",
       "               varset                                                    \n",
       "average_degree common            1.000000  0.316227  0.043928    0.589753\n",
       "               overlap           0.316227  1.000000  0.440249    0.260381\n",
       "               rare              0.043928  0.440249  1.000000    0.587753\n",
       "               rare_common       0.589753  0.260381  0.587753    1.000000"
      ]
     },
     "execution_count": 57,
     "metadata": {},
     "output_type": "execute_result"
    }
   ],
   "source": [
    "results_df['pcnet2_0'][results_df['pcnet2_0'].n_components != 0].loc[:, ('average_degree', 'varset', 'trait')].pivot(columns = 'varset', index='trait').corr()"
   ]
  },
  {
   "cell_type": "code",
   "execution_count": 58,
   "metadata": {
    "ExecuteTime": {
     "end_time": "2024-11-27T20:40:00.505354Z",
     "start_time": "2024-11-27T20:40:00.494528Z"
    }
   },
   "outputs": [
    {
     "data": {
      "text/html": [
       "<div>\n",
       "<style scoped>\n",
       "    .dataframe tbody tr th:only-of-type {\n",
       "        vertical-align: middle;\n",
       "    }\n",
       "\n",
       "    .dataframe tbody tr th {\n",
       "        vertical-align: top;\n",
       "    }\n",
       "\n",
       "    .dataframe thead tr th {\n",
       "        text-align: left;\n",
       "    }\n",
       "\n",
       "    .dataframe thead tr:last-of-type th {\n",
       "        text-align: right;\n",
       "    }\n",
       "</style>\n",
       "<table border=\"1\" class=\"dataframe\">\n",
       "  <thead>\n",
       "    <tr>\n",
       "      <th></th>\n",
       "      <th></th>\n",
       "      <th colspan=\"4\" halign=\"left\">assortativity</th>\n",
       "    </tr>\n",
       "    <tr>\n",
       "      <th></th>\n",
       "      <th>varset</th>\n",
       "      <th>common</th>\n",
       "      <th>overlap</th>\n",
       "      <th>rare</th>\n",
       "      <th>rare_common</th>\n",
       "    </tr>\n",
       "    <tr>\n",
       "      <th></th>\n",
       "      <th>varset</th>\n",
       "      <th></th>\n",
       "      <th></th>\n",
       "      <th></th>\n",
       "      <th></th>\n",
       "    </tr>\n",
       "  </thead>\n",
       "  <tbody>\n",
       "    <tr>\n",
       "      <th rowspan=\"4\" valign=\"top\">assortativity</th>\n",
       "      <th>common</th>\n",
       "      <td>1.000000</td>\n",
       "      <td>0.349122</td>\n",
       "      <td>0.409619</td>\n",
       "      <td>0.933894</td>\n",
       "    </tr>\n",
       "    <tr>\n",
       "      <th>overlap</th>\n",
       "      <td>0.349122</td>\n",
       "      <td>1.000000</td>\n",
       "      <td>0.791804</td>\n",
       "      <td>0.458690</td>\n",
       "    </tr>\n",
       "    <tr>\n",
       "      <th>rare</th>\n",
       "      <td>0.409619</td>\n",
       "      <td>0.791804</td>\n",
       "      <td>1.000000</td>\n",
       "      <td>0.601806</td>\n",
       "    </tr>\n",
       "    <tr>\n",
       "      <th>rare_common</th>\n",
       "      <td>0.933894</td>\n",
       "      <td>0.458690</td>\n",
       "      <td>0.601806</td>\n",
       "      <td>1.000000</td>\n",
       "    </tr>\n",
       "  </tbody>\n",
       "</table>\n",
       "</div>"
      ],
      "text/plain": [
       "                          assortativity                                \n",
       "varset                           common   overlap      rare rare_common\n",
       "              varset                                                   \n",
       "assortativity common           1.000000  0.349122  0.409619    0.933894\n",
       "              overlap          0.349122  1.000000  0.791804    0.458690\n",
       "              rare             0.409619  0.791804  1.000000    0.601806\n",
       "              rare_common      0.933894  0.458690  0.601806    1.000000"
      ]
     },
     "execution_count": 58,
     "metadata": {},
     "output_type": "execute_result"
    }
   ],
   "source": [
    "results_df['pcnet2_0'][results_df['pcnet2_0'].n_components != 0].loc[:, ('assortativity', 'varset', 'trait')].pivot(columns = 'varset', index='trait').corr()"
   ]
  },
  {
   "cell_type": "code",
   "execution_count": 59,
   "metadata": {
    "ExecuteTime": {
     "end_time": "2024-11-27T20:40:04.676555Z",
     "start_time": "2024-11-27T20:40:04.665582Z"
    }
   },
   "outputs": [
    {
     "data": {
      "text/html": [
       "<div>\n",
       "<style scoped>\n",
       "    .dataframe tbody tr th:only-of-type {\n",
       "        vertical-align: middle;\n",
       "    }\n",
       "\n",
       "    .dataframe tbody tr th {\n",
       "        vertical-align: top;\n",
       "    }\n",
       "\n",
       "    .dataframe thead tr th {\n",
       "        text-align: left;\n",
       "    }\n",
       "\n",
       "    .dataframe thead tr:last-of-type th {\n",
       "        text-align: right;\n",
       "    }\n",
       "</style>\n",
       "<table border=\"1\" class=\"dataframe\">\n",
       "  <thead>\n",
       "    <tr>\n",
       "      <th></th>\n",
       "      <th></th>\n",
       "      <th colspan=\"4\" halign=\"left\">clustering</th>\n",
       "    </tr>\n",
       "    <tr>\n",
       "      <th></th>\n",
       "      <th>varset</th>\n",
       "      <th>common</th>\n",
       "      <th>overlap</th>\n",
       "      <th>rare</th>\n",
       "      <th>rare_common</th>\n",
       "    </tr>\n",
       "    <tr>\n",
       "      <th></th>\n",
       "      <th>varset</th>\n",
       "      <th></th>\n",
       "      <th></th>\n",
       "      <th></th>\n",
       "      <th></th>\n",
       "    </tr>\n",
       "  </thead>\n",
       "  <tbody>\n",
       "    <tr>\n",
       "      <th rowspan=\"4\" valign=\"top\">clustering</th>\n",
       "      <th>common</th>\n",
       "      <td>1.000000</td>\n",
       "      <td>0.476450</td>\n",
       "      <td>-0.028969</td>\n",
       "      <td>0.553955</td>\n",
       "    </tr>\n",
       "    <tr>\n",
       "      <th>overlap</th>\n",
       "      <td>0.476450</td>\n",
       "      <td>1.000000</td>\n",
       "      <td>0.429535</td>\n",
       "      <td>0.366445</td>\n",
       "    </tr>\n",
       "    <tr>\n",
       "      <th>rare</th>\n",
       "      <td>-0.028969</td>\n",
       "      <td>0.429535</td>\n",
       "      <td>1.000000</td>\n",
       "      <td>0.592861</td>\n",
       "    </tr>\n",
       "    <tr>\n",
       "      <th>rare_common</th>\n",
       "      <td>0.553955</td>\n",
       "      <td>0.366445</td>\n",
       "      <td>0.592861</td>\n",
       "      <td>1.000000</td>\n",
       "    </tr>\n",
       "  </tbody>\n",
       "</table>\n",
       "</div>"
      ],
      "text/plain": [
       "                       clustering                                \n",
       "varset                     common   overlap      rare rare_common\n",
       "           varset                                                \n",
       "clustering common        1.000000  0.476450 -0.028969    0.553955\n",
       "           overlap       0.476450  1.000000  0.429535    0.366445\n",
       "           rare         -0.028969  0.429535  1.000000    0.592861\n",
       "           rare_common   0.553955  0.366445  0.592861    1.000000"
      ]
     },
     "execution_count": 59,
     "metadata": {},
     "output_type": "execute_result"
    }
   ],
   "source": [
    "results_df['pcnet2_0'][results_df['pcnet2_0'].n_components != 0].loc[:, ('clustering', 'varset', 'trait')].pivot(columns = 'varset', index='trait').corr()"
   ]
  },
  {
   "cell_type": "code",
   "execution_count": 60,
   "metadata": {
    "ExecuteTime": {
     "end_time": "2024-11-27T20:40:08.806954Z",
     "start_time": "2024-11-27T20:40:08.796431Z"
    }
   },
   "outputs": [
    {
     "data": {
      "text/html": [
       "<div>\n",
       "<style scoped>\n",
       "    .dataframe tbody tr th:only-of-type {\n",
       "        vertical-align: middle;\n",
       "    }\n",
       "\n",
       "    .dataframe tbody tr th {\n",
       "        vertical-align: top;\n",
       "    }\n",
       "\n",
       "    .dataframe thead tr th {\n",
       "        text-align: left;\n",
       "    }\n",
       "\n",
       "    .dataframe thead tr:last-of-type th {\n",
       "        text-align: right;\n",
       "    }\n",
       "</style>\n",
       "<table border=\"1\" class=\"dataframe\">\n",
       "  <thead>\n",
       "    <tr>\n",
       "      <th></th>\n",
       "      <th></th>\n",
       "      <th colspan=\"4\" halign=\"left\">subnetwork_clustering</th>\n",
       "    </tr>\n",
       "    <tr>\n",
       "      <th></th>\n",
       "      <th>varset</th>\n",
       "      <th>common</th>\n",
       "      <th>overlap</th>\n",
       "      <th>rare</th>\n",
       "      <th>rare_common</th>\n",
       "    </tr>\n",
       "    <tr>\n",
       "      <th></th>\n",
       "      <th>varset</th>\n",
       "      <th></th>\n",
       "      <th></th>\n",
       "      <th></th>\n",
       "      <th></th>\n",
       "    </tr>\n",
       "  </thead>\n",
       "  <tbody>\n",
       "    <tr>\n",
       "      <th rowspan=\"4\" valign=\"top\">subnetwork_clustering</th>\n",
       "      <th>common</th>\n",
       "      <td>1.000000</td>\n",
       "      <td>0.333711</td>\n",
       "      <td>0.317730</td>\n",
       "      <td>0.794554</td>\n",
       "    </tr>\n",
       "    <tr>\n",
       "      <th>overlap</th>\n",
       "      <td>0.333711</td>\n",
       "      <td>1.000000</td>\n",
       "      <td>0.483591</td>\n",
       "      <td>0.354427</td>\n",
       "    </tr>\n",
       "    <tr>\n",
       "      <th>rare</th>\n",
       "      <td>0.317730</td>\n",
       "      <td>0.483591</td>\n",
       "      <td>1.000000</td>\n",
       "      <td>0.582018</td>\n",
       "    </tr>\n",
       "    <tr>\n",
       "      <th>rare_common</th>\n",
       "      <td>0.794554</td>\n",
       "      <td>0.354427</td>\n",
       "      <td>0.582018</td>\n",
       "      <td>1.000000</td>\n",
       "    </tr>\n",
       "  </tbody>\n",
       "</table>\n",
       "</div>"
      ],
      "text/plain": [
       "                                  subnetwork_clustering                      \\\n",
       "varset                                           common   overlap      rare   \n",
       "                      varset                                                  \n",
       "subnetwork_clustering common                   1.000000  0.333711  0.317730   \n",
       "                      overlap                  0.333711  1.000000  0.483591   \n",
       "                      rare                     0.317730  0.483591  1.000000   \n",
       "                      rare_common              0.794554  0.354427  0.582018   \n",
       "\n",
       "                                               \n",
       "varset                            rare_common  \n",
       "                      varset                   \n",
       "subnetwork_clustering common         0.794554  \n",
       "                      overlap        0.354427  \n",
       "                      rare           0.582018  \n",
       "                      rare_common    1.000000  "
      ]
     },
     "execution_count": 60,
     "metadata": {},
     "output_type": "execute_result"
    }
   ],
   "source": [
    "results_df['pcnet2_0'][results_df['pcnet2_0'].n_components != 0].loc[:, ('subnetwork_clustering', 'varset', 'trait')].pivot(columns = 'varset', index='trait').corr()"
   ]
  },
  {
   "cell_type": "code",
   "execution_count": 63,
   "metadata": {
    "ExecuteTime": {
     "end_time": "2024-11-27T20:40:35.047714Z",
     "start_time": "2024-11-27T20:40:35.037289Z"
    }
   },
   "outputs": [
    {
     "data": {
      "text/html": [
       "<div>\n",
       "<style scoped>\n",
       "    .dataframe tbody tr th:only-of-type {\n",
       "        vertical-align: middle;\n",
       "    }\n",
       "\n",
       "    .dataframe tbody tr th {\n",
       "        vertical-align: top;\n",
       "    }\n",
       "\n",
       "    .dataframe thead tr th {\n",
       "        text-align: left;\n",
       "    }\n",
       "\n",
       "    .dataframe thead tr:last-of-type th {\n",
       "        text-align: right;\n",
       "    }\n",
       "</style>\n",
       "<table border=\"1\" class=\"dataframe\">\n",
       "  <thead>\n",
       "    <tr>\n",
       "      <th></th>\n",
       "      <th></th>\n",
       "      <th colspan=\"4\" halign=\"left\">n_components</th>\n",
       "    </tr>\n",
       "    <tr>\n",
       "      <th></th>\n",
       "      <th>varset</th>\n",
       "      <th>common</th>\n",
       "      <th>overlap</th>\n",
       "      <th>rare</th>\n",
       "      <th>rare_common</th>\n",
       "    </tr>\n",
       "    <tr>\n",
       "      <th></th>\n",
       "      <th>varset</th>\n",
       "      <th></th>\n",
       "      <th></th>\n",
       "      <th></th>\n",
       "      <th></th>\n",
       "    </tr>\n",
       "  </thead>\n",
       "  <tbody>\n",
       "    <tr>\n",
       "      <th rowspan=\"4\" valign=\"top\">n_components</th>\n",
       "      <th>common</th>\n",
       "      <td>1.000000</td>\n",
       "      <td>0.217630</td>\n",
       "      <td>0.115572</td>\n",
       "      <td>0.753687</td>\n",
       "    </tr>\n",
       "    <tr>\n",
       "      <th>overlap</th>\n",
       "      <td>0.217630</td>\n",
       "      <td>1.000000</td>\n",
       "      <td>0.391292</td>\n",
       "      <td>0.144751</td>\n",
       "    </tr>\n",
       "    <tr>\n",
       "      <th>rare</th>\n",
       "      <td>0.115572</td>\n",
       "      <td>0.391292</td>\n",
       "      <td>1.000000</td>\n",
       "      <td>0.611735</td>\n",
       "    </tr>\n",
       "    <tr>\n",
       "      <th>rare_common</th>\n",
       "      <td>0.753687</td>\n",
       "      <td>0.144751</td>\n",
       "      <td>0.611735</td>\n",
       "      <td>1.000000</td>\n",
       "    </tr>\n",
       "  </tbody>\n",
       "</table>\n",
       "</div>"
      ],
      "text/plain": [
       "                         n_components                                \n",
       "varset                         common   overlap      rare rare_common\n",
       "             varset                                                  \n",
       "n_components common          1.000000  0.217630  0.115572    0.753687\n",
       "             overlap         0.217630  1.000000  0.391292    0.144751\n",
       "             rare            0.115572  0.391292  1.000000    0.611735\n",
       "             rare_common     0.753687  0.144751  0.611735    1.000000"
      ]
     },
     "execution_count": 63,
     "metadata": {},
     "output_type": "execute_result"
    }
   ],
   "source": [
    "results_df['pcnet2_0'][results_df['pcnet2_0'].n_components != 0].loc[:, ('n_components', 'varset', 'trait')].pivot(columns = 'varset', index='trait').corr()"
   ]
  },
  {
   "cell_type": "markdown",
   "metadata": {},
   "source": [
    "### Load PCNet2"
   ]
  },
  {
   "cell_type": "code",
   "execution_count": 2,
   "metadata": {
    "ExecuteTime": {
     "end_time": "2025-02-25T18:30:33.276520Z",
     "start_time": "2025-02-25T18:28:37.804599Z"
    }
   },
   "outputs": [
    {
     "name": "stdout",
     "output_type": "stream",
     "text": [
      "number of nodes:\n",
      "19267\n",
      "\n",
      "number of edges:\n",
      "3852119\n"
     ]
    }
   ],
   "source": [
    "ndex_server='public.ndexbio.org'\n",
    "\n",
    "ndex_user=None\n",
    "ndex_password=None\n",
    "G_overlap_cx = ndex2.create_nice_cx_from_server(\n",
    "        ndex_server, \n",
    "        username=ndex_user, \n",
    "        password=ndex_password, \n",
    "        uuid='d73d6357-e87b-11ee-9621-005056ae23aa')\n",
    "G_overlap = G_overlap_cx.to_networkx()\n",
    "print('number of nodes:')\n",
    "print(len(G_overlap.nodes))\n",
    "print('\\nnumber of edges:')\n",
    "print(len(G_overlap.edges))"
   ]
  },
  {
   "cell_type": "code",
   "execution_count": 4,
   "metadata": {
    "ExecuteTime": {
     "end_time": "2025-02-25T18:34:02.907393Z",
     "start_time": "2025-02-25T18:33:36.036892Z"
    }
   },
   "outputs": [],
   "source": [
    "df = nx.to_pandas_edgelist(G_overlap)"
   ]
  },
  {
   "cell_type": "code",
   "execution_count": 11,
   "metadata": {
    "ExecuteTime": {
     "end_time": "2025-02-25T18:37:17.756106Z",
     "start_time": "2025-02-25T18:37:07.837239Z"
    }
   },
   "outputs": [],
   "source": [
    "df.to_csv('/cellar/users/snwright/Data/Shared/PCNet2_0_edgelist.tsv', sep='\\t', index=False)"
   ]
  },
  {
   "cell_type": "code",
   "execution_count": 8,
   "metadata": {
    "ExecuteTime": {
     "end_time": "2025-02-25T18:36:51.923834Z",
     "start_time": "2025-02-25T18:36:50.911026Z"
    }
   },
   "outputs": [],
   "source": [
    "df['Supporting_Databases'] = df['Supporting_Databases'].apply(lambda x: x.replace('\"', ''))"
   ]
  },
  {
   "cell_type": "code",
   "execution_count": 10,
   "metadata": {
    "ExecuteTime": {
     "end_time": "2025-02-25T18:37:01.042185Z",
     "start_time": "2025-02-25T18:37:01.035161Z"
    }
   },
   "outputs": [
    {
     "data": {
      "text/html": [
       "<div>\n",
       "<style scoped>\n",
       "    .dataframe tbody tr th:only-of-type {\n",
       "        vertical-align: middle;\n",
       "    }\n",
       "\n",
       "    .dataframe tbody tr th {\n",
       "        vertical-align: top;\n",
       "    }\n",
       "\n",
       "    .dataframe thead th {\n",
       "        text-align: right;\n",
       "    }\n",
       "</style>\n",
       "<table border=\"1\" class=\"dataframe\">\n",
       "  <thead>\n",
       "    <tr style=\"text-align: right;\">\n",
       "      <th></th>\n",
       "      <th>source</th>\n",
       "      <th>target</th>\n",
       "      <th>interaction</th>\n",
       "      <th>Supporting_Databases</th>\n",
       "      <th>name</th>\n",
       "      <th>Entrez_B</th>\n",
       "      <th>Entrez_A</th>\n",
       "      <th>Number_of_Supporting_Databases</th>\n",
       "    </tr>\n",
       "  </thead>\n",
       "  <tbody>\n",
       "    <tr>\n",
       "      <th>0</th>\n",
       "      <td>TGFBR1</td>\n",
       "      <td>TGFBR2</td>\n",
       "      <td>interacts-with</td>\n",
       "      <td>HumanNet-XC,DIP,ReactomeFI(2022),FunCoup,STRIN...</td>\n",
       "      <td>TGFBR1_TGFBR2</td>\n",
       "      <td>7048</td>\n",
       "      <td>7046</td>\n",
       "      <td>12</td>\n",
       "    </tr>\n",
       "    <tr>\n",
       "      <th>1</th>\n",
       "      <td>TGFBR1</td>\n",
       "      <td>SMAD3</td>\n",
       "      <td>interacts-with</td>\n",
       "      <td>HumanNet-XC,ReactomeFI(2022),FunCoup,STRING,SI...</td>\n",
       "      <td>TGFBR1_SMAD3</td>\n",
       "      <td>4088</td>\n",
       "      <td>7046</td>\n",
       "      <td>10</td>\n",
       "    </tr>\n",
       "    <tr>\n",
       "      <th>2</th>\n",
       "      <td>TGFBR1</td>\n",
       "      <td>TGFB1</td>\n",
       "      <td>interacts-with</td>\n",
       "      <td>HumanNet-XC,DIP,ReactomeFI(2022),FunCoup,STRIN...</td>\n",
       "      <td>TGFBR1_TGFB1</td>\n",
       "      <td>7040</td>\n",
       "      <td>7046</td>\n",
       "      <td>12</td>\n",
       "    </tr>\n",
       "    <tr>\n",
       "      <th>3</th>\n",
       "      <td>TGFBR1</td>\n",
       "      <td>SMAD2</td>\n",
       "      <td>interacts-with</td>\n",
       "      <td>HumanNet-XC,ReactomeFI(2022),FunCoup,STRING,SI...</td>\n",
       "      <td>TGFBR1_SMAD2</td>\n",
       "      <td>4087</td>\n",
       "      <td>7046</td>\n",
       "      <td>11</td>\n",
       "    </tr>\n",
       "    <tr>\n",
       "      <th>4</th>\n",
       "      <td>TGFBR1</td>\n",
       "      <td>TGFB3</td>\n",
       "      <td>interacts-with</td>\n",
       "      <td>HumanNet-XC,DIP,ReactomeFI(2022),FunCoup,STRIN...</td>\n",
       "      <td>TGFBR1_TGFB3</td>\n",
       "      <td>7043</td>\n",
       "      <td>7046</td>\n",
       "      <td>9</td>\n",
       "    </tr>\n",
       "  </tbody>\n",
       "</table>\n",
       "</div>"
      ],
      "text/plain": [
       "   source  target     interaction  \\\n",
       "0  TGFBR1  TGFBR2  interacts-with   \n",
       "1  TGFBR1   SMAD3  interacts-with   \n",
       "2  TGFBR1   TGFB1  interacts-with   \n",
       "3  TGFBR1   SMAD2  interacts-with   \n",
       "4  TGFBR1   TGFB3  interacts-with   \n",
       "\n",
       "                                Supporting_Databases           name Entrez_B  \\\n",
       "0  HumanNet-XC,DIP,ReactomeFI(2022),FunCoup,STRIN...  TGFBR1_TGFBR2     7048   \n",
       "1  HumanNet-XC,ReactomeFI(2022),FunCoup,STRING,SI...   TGFBR1_SMAD3     4088   \n",
       "2  HumanNet-XC,DIP,ReactomeFI(2022),FunCoup,STRIN...   TGFBR1_TGFB1     7040   \n",
       "3  HumanNet-XC,ReactomeFI(2022),FunCoup,STRING,SI...   TGFBR1_SMAD2     4087   \n",
       "4  HumanNet-XC,DIP,ReactomeFI(2022),FunCoup,STRIN...   TGFBR1_TGFB3     7043   \n",
       "\n",
       "  Entrez_A Number_of_Supporting_Databases  \n",
       "0     7046                             12  \n",
       "1     7046                             10  \n",
       "2     7046                             12  \n",
       "3     7046                             11  \n",
       "4     7046                              9  "
      ]
     },
     "execution_count": 10,
     "metadata": {},
     "output_type": "execute_result"
    }
   ],
   "source": [
    "df.head()"
   ]
  },
  {
   "cell_type": "code",
   "execution_count": 5,
   "metadata": {
    "ExecuteTime": {
     "end_time": "2024-11-18T17:34:51.692444Z",
     "start_time": "2024-11-18T17:34:51.678344Z"
    }
   },
   "outputs": [],
   "source": [
    "node_map = pd.DataFrame({'node': G_overlap.nodes})\n",
    "node_map['Entrez'] = node_map.node.apply(lambda x: G_overlap.nodes[x]['GeneID']).astype(int)"
   ]
  },
  {
   "cell_type": "markdown",
   "metadata": {},
   "source": [
    "### Load gene sets"
   ]
  },
  {
   "cell_type": "code",
   "execution_count": 6,
   "metadata": {
    "ExecuteTime": {
     "end_time": "2024-11-18T17:34:51.761982Z",
     "start_time": "2024-11-18T17:34:51.693790Z"
    }
   },
   "outputs": [],
   "source": [
    "with open(os.path.join(indir, 'overlap_traits_Jun27_min3_genes.txt'), 'r') as f:\n",
    "    all_traits = [x.strip() for x in f.readlines()][1:]"
   ]
  },
  {
   "cell_type": "code",
   "execution_count": 7,
   "metadata": {
    "ExecuteTime": {
     "end_time": "2024-11-18T17:35:05.527755Z",
     "start_time": "2024-11-18T17:34:51.763086Z"
    }
   },
   "outputs": [],
   "source": [
    "common_genesets = {trait: geneset_utils.load_seed_genes(trait, 'common', indir, usecol='Gene Symbol') for trait in all_traits}\n",
    "rare_genesets = {trait: geneset_utils.load_seed_genes(trait, 'rare', indir, usecol='Gene Symbol') for trait in all_traits}"
   ]
  },
  {
   "cell_type": "code",
   "execution_count": 8,
   "metadata": {
    "ExecuteTime": {
     "end_time": "2024-11-18T17:35:05.536797Z",
     "start_time": "2024-11-18T17:35:05.529241Z"
    }
   },
   "outputs": [],
   "source": [
    "node_dict = node_map.set_index('node', drop=True).to_dict()"
   ]
  },
  {
   "cell_type": "code",
   "execution_count": 9,
   "metadata": {
    "ExecuteTime": {
     "end_time": "2024-11-18T17:35:05.540334Z",
     "start_time": "2024-11-18T17:35:05.538365Z"
    }
   },
   "outputs": [],
   "source": [
    "#common_entrez = {trait:[node_dict[g] if g in node_dict else g for g in genelist ] for trait, genelist in common_genesets.items() }"
   ]
  },
  {
   "cell_type": "code",
   "execution_count": 10,
   "metadata": {
    "ExecuteTime": {
     "end_time": "2024-11-18T17:35:05.545798Z",
     "start_time": "2024-11-18T17:35:05.543031Z"
    }
   },
   "outputs": [],
   "source": [
    "#rare_entrez = {trait:[node_dict[g] if g in node_dict else g for g in genelist ] for trait, genelist in rare_genesets.items() }"
   ]
  },
  {
   "cell_type": "code",
   "execution_count": 11,
   "metadata": {
    "ExecuteTime": {
     "end_time": "2024-11-18T17:35:05.555816Z",
     "start_time": "2024-11-18T17:35:05.547197Z"
    }
   },
   "outputs": [],
   "source": [
    "overlap_genesets = {trait: set(common_genesets[trait]).intersection(set(rare_genesets[trait])) for trait in all_traits}\n",
    "#overlap_entrez = {trait: set(common_entrez[trait]).intersection(set(common_entrez[trait])) for trait in all_traits}"
   ]
  },
  {
   "cell_type": "code",
   "execution_count": null,
   "metadata": {},
   "outputs": [],
   "source": []
  },
  {
   "cell_type": "markdown",
   "metadata": {},
   "source": [
    "## Average Degree"
   ]
  },
  {
   "cell_type": "code",
   "execution_count": 12,
   "metadata": {
    "ExecuteTime": {
     "end_time": "2024-11-18T17:35:05.561474Z",
     "start_time": "2024-11-18T17:35:05.557177Z"
    }
   },
   "outputs": [],
   "source": [
    "def get_average_degree(nodes, G, stat='mean'):\n",
    "    present_nodes = [n for n in nodes if n in G.nodes()]\n",
    "    if len(present_nodes) == 0:\n",
    "        return 0\n",
    "    degrees = [G.degree[n] for n in present_nodes]\n",
    "    if stat =='median':\n",
    "        return np.median(degrees)\n",
    "    elif stat == 'mean':\n",
    "        return np.mean(degrees)\n",
    "\n",
    "def get_all_degrees(common_genesets, rare_genesets, overlap_genesets, G_overlap, all_traits, stat='mean'):\n",
    "    common_degrees = {trait: get_average_degree(common_genesets[trait], G_overlap, stat=stat) for trait in all_traits}\n",
    "    rare_degrees = {trait: get_average_degree(rare_genesets[trait], G_overlap, stat=stat) for trait in all_traits}\n",
    "    overlap_degrees = {trait: get_average_degree(overlap_genesets[trait], G_overlap, stat=stat) for trait in all_traits}\n",
    "    degree_df = pd.DataFrame({'Common': common_degrees, 'Rare': rare_degrees, 'Overlap': overlap_degrees})\n",
    "    plot_degree = degree_df.melt(var_name='Geneset', ignore_index=False, value_name='Degree')\n",
    "    return degree_df, plot_degree"
   ]
  },
  {
   "cell_type": "code",
   "execution_count": 13,
   "metadata": {
    "ExecuteTime": {
     "end_time": "2024-11-18T17:35:05.643859Z",
     "start_time": "2024-11-18T17:35:05.562723Z"
    }
   },
   "outputs": [],
   "source": [
    "degree_df, plot_degree = get_all_degrees(common_genesets, rare_genesets, overlap_genesets, G_overlap, all_traits)"
   ]
  },
  {
   "cell_type": "markdown",
   "metadata": {},
   "source": [
    "?? Why does the overlap so closely follow the common variant distribution?"
   ]
  },
  {
   "cell_type": "code",
   "execution_count": 14,
   "metadata": {
    "ExecuteTime": {
     "end_time": "2024-11-18T17:35:05.958110Z",
     "start_time": "2024-11-18T17:35:05.645244Z"
    }
   },
   "outputs": [
    {
     "data": {
      "text/html": [
       "<div>\n",
       "<style scoped>\n",
       "    .dataframe tbody tr th:only-of-type {\n",
       "        vertical-align: middle;\n",
       "    }\n",
       "\n",
       "    .dataframe tbody tr th {\n",
       "        vertical-align: top;\n",
       "    }\n",
       "\n",
       "    .dataframe thead th {\n",
       "        text-align: right;\n",
       "    }\n",
       "</style>\n",
       "<table border=\"1\" class=\"dataframe\">\n",
       "  <thead>\n",
       "    <tr style=\"text-align: right;\">\n",
       "      <th></th>\n",
       "      <th>Common</th>\n",
       "      <th>Rare</th>\n",
       "      <th>Overlap</th>\n",
       "    </tr>\n",
       "  </thead>\n",
       "  <tbody>\n",
       "    <tr>\n",
       "      <th>Common</th>\n",
       "      <td>1.000000</td>\n",
       "      <td>0.043928</td>\n",
       "      <td>0.177043</td>\n",
       "    </tr>\n",
       "    <tr>\n",
       "      <th>Rare</th>\n",
       "      <td>0.043928</td>\n",
       "      <td>1.000000</td>\n",
       "      <td>0.188895</td>\n",
       "    </tr>\n",
       "    <tr>\n",
       "      <th>Overlap</th>\n",
       "      <td>0.177043</td>\n",
       "      <td>0.188895</td>\n",
       "      <td>1.000000</td>\n",
       "    </tr>\n",
       "  </tbody>\n",
       "</table>\n",
       "</div>"
      ],
      "text/plain": [
       "           Common      Rare   Overlap\n",
       "Common   1.000000  0.043928  0.177043\n",
       "Rare     0.043928  1.000000  0.188895\n",
       "Overlap  0.177043  0.188895  1.000000"
      ]
     },
     "execution_count": 14,
     "metadata": {},
     "output_type": "execute_result"
    },
    {
     "data": {
      "image/png": "[encoded data removed]",
      "text/plain": [
       "<Figure size 300x300 with 4 Axes>"
      ]
     },
     "metadata": {},
     "output_type": "display_data"
    }
   ],
   "source": [
    "_, [[ax1, ax2], [ax3, ax4]] = plt.subplots(nrows=2, ncols=2, figsize=(3,3), gridspec_kw={'wspace':0.1, 'hspace':0.1}, sharex=True, sharey=True)\n",
    "sns.scatterplot(degree_df, x='Common', y='Rare', s = 10, ax=ax1)\n",
    "sns.scatterplot(degree_df, x='Rare', y='Overlap',s = 10, ax=ax4)\n",
    "sns.scatterplot(degree_df, x='Common', y='Overlap',s = 10, ax=ax3)\n",
    "degree_df.corr()"
   ]
  },
  {
   "cell_type": "code",
   "execution_count": 15,
   "metadata": {
    "ExecuteTime": {
     "end_time": "2024-11-18T17:35:06.316174Z",
     "start_time": "2024-11-18T17:35:05.959366Z"
    }
   },
   "outputs": [
    {
     "data": {
      "text/plain": [
       "<Axes: xlabel='Degree', ylabel='Count'>"
      ]
     },
     "execution_count": 15,
     "metadata": {},
     "output_type": "execute_result"
    },
    {
     "data": {
      "image/png": "[encoded data removed]",
      "text/plain": [
       "<Figure size 400x200 with 1 Axes>"
      ]
     },
     "metadata": {},
     "output_type": "display_data"
    }
   ],
   "source": [
    "_ = plt.figure(figsize=(4,2))\n",
    "sns.histplot(plot_degree, x='Degree', hue='Geneset', kde=True, alpha=0.2)"
   ]
  },
  {
   "cell_type": "markdown",
   "metadata": {},
   "source": [
    "use median"
   ]
  },
  {
   "cell_type": "code",
   "execution_count": 16,
   "metadata": {
    "ExecuteTime": {
     "end_time": "2024-11-18T17:35:06.404642Z",
     "start_time": "2024-11-18T17:35:06.317198Z"
    }
   },
   "outputs": [],
   "source": [
    "med_degree_df, med_plot_degree = get_all_degrees(common_genesets, rare_genesets, overlap_genesets, G_overlap, all_traits, stat='median')"
   ]
  },
  {
   "cell_type": "code",
   "execution_count": 17,
   "metadata": {
    "ExecuteTime": {
     "end_time": "2024-11-18T17:35:06.702401Z",
     "start_time": "2024-11-18T17:35:06.405763Z"
    },
    "run_control": {
     "marked": true
    }
   },
   "outputs": [
    {
     "data": {
      "text/html": [
       "<div>\n",
       "<style scoped>\n",
       "    .dataframe tbody tr th:only-of-type {\n",
       "        vertical-align: middle;\n",
       "    }\n",
       "\n",
       "    .dataframe tbody tr th {\n",
       "        vertical-align: top;\n",
       "    }\n",
       "\n",
       "    .dataframe thead th {\n",
       "        text-align: right;\n",
       "    }\n",
       "</style>\n",
       "<table border=\"1\" class=\"dataframe\">\n",
       "  <thead>\n",
       "    <tr style=\"text-align: right;\">\n",
       "      <th></th>\n",
       "      <th>Common</th>\n",
       "      <th>Rare</th>\n",
       "      <th>Overlap</th>\n",
       "    </tr>\n",
       "  </thead>\n",
       "  <tbody>\n",
       "    <tr>\n",
       "      <th>Common</th>\n",
       "      <td>1.000000</td>\n",
       "      <td>0.116334</td>\n",
       "      <td>0.020980</td>\n",
       "    </tr>\n",
       "    <tr>\n",
       "      <th>Rare</th>\n",
       "      <td>0.116334</td>\n",
       "      <td>1.000000</td>\n",
       "      <td>0.207394</td>\n",
       "    </tr>\n",
       "    <tr>\n",
       "      <th>Overlap</th>\n",
       "      <td>0.020980</td>\n",
       "      <td>0.207394</td>\n",
       "      <td>1.000000</td>\n",
       "    </tr>\n",
       "  </tbody>\n",
       "</table>\n",
       "</div>"
      ],
      "text/plain": [
       "           Common      Rare   Overlap\n",
       "Common   1.000000  0.116334  0.020980\n",
       "Rare     0.116334  1.000000  0.207394\n",
       "Overlap  0.020980  0.207394  1.000000"
      ]
     },
     "execution_count": 17,
     "metadata": {},
     "output_type": "execute_result"
    },
    {
     "data": {
      "image/png": "[encoded data removed]",
      "text/plain": [
       "<Figure size 300x300 with 4 Axes>"
      ]
     },
     "metadata": {},
     "output_type": "display_data"
    }
   ],
   "source": [
    "_, [[ax1, ax2], [ax3, ax4]] = plt.subplots(nrows=2, ncols=2, figsize=(3,3), gridspec_kw={'wspace':0.1, 'hspace':0.1}, sharex=True, sharey=True)\n",
    "sns.scatterplot(med_degree_df, x='Common', y='Rare', s = 10, ax=ax1)\n",
    "sns.scatterplot(med_degree_df, x='Rare', y='Overlap',s = 10, ax=ax4)\n",
    "sns.scatterplot(med_degree_df, x='Common', y='Overlap',s = 10, ax=ax3)\n",
    "med_degree_df.corr()"
   ]
  },
  {
   "cell_type": "code",
   "execution_count": 18,
   "metadata": {
    "ExecuteTime": {
     "end_time": "2024-11-18T17:35:07.059624Z",
     "start_time": "2024-11-18T17:35:06.703403Z"
    }
   },
   "outputs": [
    {
     "data": {
      "text/plain": [
       "<Axes: xlabel='Degree', ylabel='Count'>"
      ]
     },
     "execution_count": 18,
     "metadata": {},
     "output_type": "execute_result"
    },
    {
     "data": {
      "image/png": "[encoded data removed]",
      "text/plain": [
       "<Figure size 400x200 with 1 Axes>"
      ]
     },
     "metadata": {},
     "output_type": "display_data"
    }
   ],
   "source": [
    "_ = plt.figure(figsize=(4,2))\n",
    "sns.histplot(med_plot_degree, x='Degree', hue='Geneset', kde=True, alpha=0.2)"
   ]
  },
  {
   "cell_type": "markdown",
   "metadata": {},
   "source": [
    "Look at gene set size"
   ]
  },
  {
   "cell_type": "code",
   "execution_count": 19,
   "metadata": {
    "ExecuteTime": {
     "end_time": "2024-11-18T17:35:07.062566Z",
     "start_time": "2024-11-18T17:35:07.060650Z"
    }
   },
   "outputs": [],
   "source": [
    "set_dict= {'Common':common_genesets, 'Rare':rare_genesets, 'Overlap':overlap_genesets}"
   ]
  },
  {
   "cell_type": "code",
   "execution_count": 20,
   "metadata": {
    "ExecuteTime": {
     "end_time": "2024-11-18T17:35:07.069952Z",
     "start_time": "2024-11-18T17:35:07.063429Z"
    }
   },
   "outputs": [],
   "source": [
    "set_sizes = {'Common': {trait: len(common_genesets[trait]) for trait in common_genesets},\n",
    "            'Rare': {trait: len(rare_genesets[trait]) for trait in rare_genesets},\n",
    "            'Overlap': {trait: len(overlap_genesets[trait]) for trait in overlap_genesets}}"
   ]
  },
  {
   "cell_type": "code",
   "execution_count": 21,
   "metadata": {
    "ExecuteTime": {
     "end_time": "2024-11-18T17:35:07.076649Z",
     "start_time": "2024-11-18T17:35:07.070901Z"
    }
   },
   "outputs": [],
   "source": [
    "size_df = pd.DataFrame(set_sizes).melt(var_name='Geneset', value_name='Size', ignore_index=False)\n",
    "size_df['Trait'] = size_df.index.values"
   ]
  },
  {
   "cell_type": "code",
   "execution_count": 22,
   "metadata": {
    "ExecuteTime": {
     "end_time": "2024-11-18T17:35:07.513786Z",
     "start_time": "2024-11-18T17:35:07.077604Z"
    }
   },
   "outputs": [
    {
     "ename": "KeyError",
     "evalue": "'Trait'",
     "output_type": "error",
     "traceback": [
      "\u001b[0;31m---------------------------------------------------------------------------\u001b[0m",
      "\u001b[0;31mKeyError\u001b[0m                                  Traceback (most recent call last)",
      "\u001b[0;32m/tmp/ipykernel_1470267/345856586.py\u001b[0m in \u001b[0;36m?\u001b[0;34m()\u001b[0m\n\u001b[0;32m----> 1\u001b[0;31m \u001b[0mdegree_size_df\u001b[0m \u001b[0;34m=\u001b[0m \u001b[0mplot_degree\u001b[0m\u001b[0;34m.\u001b[0m\u001b[0mmerge\u001b[0m\u001b[0;34m(\u001b[0m\u001b[0msize_df\u001b[0m\u001b[0;34m,\u001b[0m \u001b[0mon\u001b[0m\u001b[0;34m=\u001b[0m\u001b[0;34m[\u001b[0m\u001b[0;34m'Trait'\u001b[0m\u001b[0;34m,\u001b[0m \u001b[0;34m'Geneset'\u001b[0m\u001b[0;34m]\u001b[0m\u001b[0;34m)\u001b[0m\u001b[0;34m\u001b[0m\u001b[0;34m\u001b[0m\u001b[0m\n\u001b[0m",
      "\u001b[0;32m~/anaconda3/envs/carva/lib/python3.10/site-packages/pandas/core/frame.py\u001b[0m in \u001b[0;36m?\u001b[0;34m(self, right, how, on, left_on, right_on, left_index, right_index, sort, suffixes, copy, indicator, validate)\u001b[0m\n\u001b[1;32m  10828\u001b[0m         \u001b[0mvalidate\u001b[0m\u001b[0;34m:\u001b[0m \u001b[0mMergeValidate\u001b[0m \u001b[0;34m|\u001b[0m \u001b[0;32mNone\u001b[0m \u001b[0;34m=\u001b[0m \u001b[0;32mNone\u001b[0m\u001b[0;34m,\u001b[0m\u001b[0;34m\u001b[0m\u001b[0;34m\u001b[0m\u001b[0m\n\u001b[1;32m  10829\u001b[0m     ) -> DataFrame:\n\u001b[1;32m  10830\u001b[0m         \u001b[0;32mfrom\u001b[0m \u001b[0mpandas\u001b[0m\u001b[0;34m.\u001b[0m\u001b[0mcore\u001b[0m\u001b[0;34m.\u001b[0m\u001b[0mreshape\u001b[0m\u001b[0;34m.\u001b[0m\u001b[0mmerge\u001b[0m \u001b[0;32mimport\u001b[0m \u001b[0mmerge\u001b[0m\u001b[0;34m\u001b[0m\u001b[0;34m\u001b[0m\u001b[0m\n\u001b[1;32m  10831\u001b[0m \u001b[0;34m\u001b[0m\u001b[0m\n\u001b[0;32m> 10832\u001b[0;31m         return merge(\n\u001b[0m\u001b[1;32m  10833\u001b[0m             \u001b[0mself\u001b[0m\u001b[0;34m,\u001b[0m\u001b[0;34m\u001b[0m\u001b[0;34m\u001b[0m\u001b[0m\n\u001b[1;32m  10834\u001b[0m             \u001b[0mright\u001b[0m\u001b[0;34m,\u001b[0m\u001b[0;34m\u001b[0m\u001b[0;34m\u001b[0m\u001b[0m\n\u001b[1;32m  10835\u001b[0m             \u001b[0mhow\u001b[0m\u001b[0;34m=\u001b[0m\u001b[0mhow\u001b[0m\u001b[0;34m,\u001b[0m\u001b[0;34m\u001b[0m\u001b[0;34m\u001b[0m\u001b[0m\n",
      "\u001b[0;32m~/anaconda3/envs/carva/lib/python3.10/site-packages/pandas/core/reshape/merge.py\u001b[0m in \u001b[0;36m?\u001b[0;34m(left, right, how, on, left_on, right_on, left_index, right_index, sort, suffixes, copy, indicator, validate)\u001b[0m\n\u001b[1;32m    166\u001b[0m             \u001b[0mvalidate\u001b[0m\u001b[0;34m=\u001b[0m\u001b[0mvalidate\u001b[0m\u001b[0;34m,\u001b[0m\u001b[0;34m\u001b[0m\u001b[0;34m\u001b[0m\u001b[0m\n\u001b[1;32m    167\u001b[0m             \u001b[0mcopy\u001b[0m\u001b[0;34m=\u001b[0m\u001b[0mcopy\u001b[0m\u001b[0;34m,\u001b[0m\u001b[0;34m\u001b[0m\u001b[0;34m\u001b[0m\u001b[0m\n\u001b[1;32m    168\u001b[0m         )\n\u001b[1;32m    169\u001b[0m     \u001b[0;32melse\u001b[0m\u001b[0;34m:\u001b[0m\u001b[0;34m\u001b[0m\u001b[0;34m\u001b[0m\u001b[0m\n\u001b[0;32m--> 170\u001b[0;31m         op = _MergeOperation(\n\u001b[0m\u001b[1;32m    171\u001b[0m             \u001b[0mleft_df\u001b[0m\u001b[0;34m,\u001b[0m\u001b[0;34m\u001b[0m\u001b[0;34m\u001b[0m\u001b[0m\n\u001b[1;32m    172\u001b[0m             \u001b[0mright_df\u001b[0m\u001b[0;34m,\u001b[0m\u001b[0;34m\u001b[0m\u001b[0;34m\u001b[0m\u001b[0m\n\u001b[1;32m    173\u001b[0m             \u001b[0mhow\u001b[0m\u001b[0;34m=\u001b[0m\u001b[0mhow\u001b[0m\u001b[0;34m,\u001b[0m\u001b[0;34m\u001b[0m\u001b[0;34m\u001b[0m\u001b[0m\n",
      "\u001b[0;32m~/anaconda3/envs/carva/lib/python3.10/site-packages/pandas/core/reshape/merge.py\u001b[0m in \u001b[0;36m?\u001b[0;34m(self, left, right, how, on, left_on, right_on, left_index, right_index, sort, suffixes, indicator, validate)\u001b[0m\n\u001b[1;32m    790\u001b[0m             \u001b[0mself\u001b[0m\u001b[0;34m.\u001b[0m\u001b[0mright_join_keys\u001b[0m\u001b[0;34m,\u001b[0m\u001b[0;34m\u001b[0m\u001b[0;34m\u001b[0m\u001b[0m\n\u001b[1;32m    791\u001b[0m             \u001b[0mself\u001b[0m\u001b[0;34m.\u001b[0m\u001b[0mjoin_names\u001b[0m\u001b[0;34m,\u001b[0m\u001b[0;34m\u001b[0m\u001b[0;34m\u001b[0m\u001b[0m\n\u001b[1;32m    792\u001b[0m             \u001b[0mleft_drop\u001b[0m\u001b[0;34m,\u001b[0m\u001b[0;34m\u001b[0m\u001b[0;34m\u001b[0m\u001b[0m\n\u001b[1;32m    793\u001b[0m             \u001b[0mright_drop\u001b[0m\u001b[0;34m,\u001b[0m\u001b[0;34m\u001b[0m\u001b[0;34m\u001b[0m\u001b[0m\n\u001b[0;32m--> 794\u001b[0;31m         ) = self._get_merge_keys()\n\u001b[0m\u001b[1;32m    795\u001b[0m \u001b[0;34m\u001b[0m\u001b[0m\n\u001b[1;32m    796\u001b[0m         \u001b[0;32mif\u001b[0m \u001b[0mleft_drop\u001b[0m\u001b[0;34m:\u001b[0m\u001b[0;34m\u001b[0m\u001b[0;34m\u001b[0m\u001b[0m\n\u001b[1;32m    797\u001b[0m             \u001b[0mself\u001b[0m\u001b[0;34m.\u001b[0m\u001b[0mleft\u001b[0m \u001b[0;34m=\u001b[0m \u001b[0mself\u001b[0m\u001b[0;34m.\u001b[0m\u001b[0mleft\u001b[0m\u001b[0;34m.\u001b[0m\u001b[0m_drop_labels_or_levels\u001b[0m\u001b[0;34m(\u001b[0m\u001b[0mleft_drop\u001b[0m\u001b[0;34m)\u001b[0m\u001b[0;34m\u001b[0m\u001b[0;34m\u001b[0m\u001b[0m\n",
      "\u001b[0;32m~/anaconda3/envs/carva/lib/python3.10/site-packages/pandas/core/reshape/merge.py\u001b[0m in \u001b[0;36m?\u001b[0;34m(self)\u001b[0m\n\u001b[1;32m   1306\u001b[0m                     \u001b[0;32mif\u001b[0m \u001b[0mlk\u001b[0m \u001b[0;32mis\u001b[0m \u001b[0;32mnot\u001b[0m \u001b[0;32mNone\u001b[0m\u001b[0;34m:\u001b[0m\u001b[0;34m\u001b[0m\u001b[0;34m\u001b[0m\u001b[0m\n\u001b[1;32m   1307\u001b[0m                         \u001b[0;31m# Then we're either Hashable or a wrong-length arraylike,\u001b[0m\u001b[0;34m\u001b[0m\u001b[0;34m\u001b[0m\u001b[0m\n\u001b[1;32m   1308\u001b[0m                         \u001b[0;31m#  the latter of which will raise\u001b[0m\u001b[0;34m\u001b[0m\u001b[0;34m\u001b[0m\u001b[0m\n\u001b[1;32m   1309\u001b[0m                         \u001b[0mlk\u001b[0m \u001b[0;34m=\u001b[0m \u001b[0mcast\u001b[0m\u001b[0;34m(\u001b[0m\u001b[0mHashable\u001b[0m\u001b[0;34m,\u001b[0m \u001b[0mlk\u001b[0m\u001b[0;34m)\u001b[0m\u001b[0;34m\u001b[0m\u001b[0;34m\u001b[0m\u001b[0m\n\u001b[0;32m-> 1310\u001b[0;31m                         \u001b[0mleft_keys\u001b[0m\u001b[0;34m.\u001b[0m\u001b[0mappend\u001b[0m\u001b[0;34m(\u001b[0m\u001b[0mleft\u001b[0m\u001b[0;34m.\u001b[0m\u001b[0m_get_label_or_level_values\u001b[0m\u001b[0;34m(\u001b[0m\u001b[0mlk\u001b[0m\u001b[0;34m)\u001b[0m\u001b[0;34m)\u001b[0m\u001b[0;34m\u001b[0m\u001b[0;34m\u001b[0m\u001b[0m\n\u001b[0m\u001b[1;32m   1311\u001b[0m                         \u001b[0mjoin_names\u001b[0m\u001b[0;34m.\u001b[0m\u001b[0mappend\u001b[0m\u001b[0;34m(\u001b[0m\u001b[0mlk\u001b[0m\u001b[0;34m)\u001b[0m\u001b[0;34m\u001b[0m\u001b[0;34m\u001b[0m\u001b[0m\n\u001b[1;32m   1312\u001b[0m                     \u001b[0;32melse\u001b[0m\u001b[0;34m:\u001b[0m\u001b[0;34m\u001b[0m\u001b[0;34m\u001b[0m\u001b[0m\n\u001b[1;32m   1313\u001b[0m                         \u001b[0;31m# work-around for merge_asof(left_index=True)\u001b[0m\u001b[0;34m\u001b[0m\u001b[0;34m\u001b[0m\u001b[0m\n",
      "\u001b[0;32m~/anaconda3/envs/carva/lib/python3.10/site-packages/pandas/core/generic.py\u001b[0m in \u001b[0;36m?\u001b[0;34m(self, key, axis)\u001b[0m\n\u001b[1;32m   1907\u001b[0m             \u001b[0mvalues\u001b[0m \u001b[0;34m=\u001b[0m \u001b[0mself\u001b[0m\u001b[0;34m.\u001b[0m\u001b[0mxs\u001b[0m\u001b[0;34m(\u001b[0m\u001b[0mkey\u001b[0m\u001b[0;34m,\u001b[0m \u001b[0maxis\u001b[0m\u001b[0;34m=\u001b[0m\u001b[0mother_axes\u001b[0m\u001b[0;34m[\u001b[0m\u001b[0;36m0\u001b[0m\u001b[0;34m]\u001b[0m\u001b[0;34m)\u001b[0m\u001b[0;34m.\u001b[0m\u001b[0m_values\u001b[0m\u001b[0;34m\u001b[0m\u001b[0;34m\u001b[0m\u001b[0m\n\u001b[1;32m   1908\u001b[0m         \u001b[0;32melif\u001b[0m \u001b[0mself\u001b[0m\u001b[0;34m.\u001b[0m\u001b[0m_is_level_reference\u001b[0m\u001b[0;34m(\u001b[0m\u001b[0mkey\u001b[0m\u001b[0;34m,\u001b[0m \u001b[0maxis\u001b[0m\u001b[0;34m=\u001b[0m\u001b[0maxis\u001b[0m\u001b[0;34m)\u001b[0m\u001b[0;34m:\u001b[0m\u001b[0;34m\u001b[0m\u001b[0;34m\u001b[0m\u001b[0m\n\u001b[1;32m   1909\u001b[0m             \u001b[0mvalues\u001b[0m \u001b[0;34m=\u001b[0m \u001b[0mself\u001b[0m\u001b[0;34m.\u001b[0m\u001b[0maxes\u001b[0m\u001b[0;34m[\u001b[0m\u001b[0maxis\u001b[0m\u001b[0;34m]\u001b[0m\u001b[0;34m.\u001b[0m\u001b[0mget_level_values\u001b[0m\u001b[0;34m(\u001b[0m\u001b[0mkey\u001b[0m\u001b[0;34m)\u001b[0m\u001b[0;34m.\u001b[0m\u001b[0m_values\u001b[0m\u001b[0;34m\u001b[0m\u001b[0;34m\u001b[0m\u001b[0m\n\u001b[1;32m   1910\u001b[0m         \u001b[0;32melse\u001b[0m\u001b[0;34m:\u001b[0m\u001b[0;34m\u001b[0m\u001b[0;34m\u001b[0m\u001b[0m\n\u001b[0;32m-> 1911\u001b[0;31m             \u001b[0;32mraise\u001b[0m \u001b[0mKeyError\u001b[0m\u001b[0;34m(\u001b[0m\u001b[0mkey\u001b[0m\u001b[0;34m)\u001b[0m\u001b[0;34m\u001b[0m\u001b[0;34m\u001b[0m\u001b[0m\n\u001b[0m\u001b[1;32m   1912\u001b[0m \u001b[0;34m\u001b[0m\u001b[0m\n\u001b[1;32m   1913\u001b[0m         \u001b[0;31m# Check for duplicates\u001b[0m\u001b[0;34m\u001b[0m\u001b[0;34m\u001b[0m\u001b[0m\n\u001b[1;32m   1914\u001b[0m         \u001b[0;32mif\u001b[0m \u001b[0mvalues\u001b[0m\u001b[0;34m.\u001b[0m\u001b[0mndim\u001b[0m \u001b[0;34m>\u001b[0m \u001b[0;36m1\u001b[0m\u001b[0;34m:\u001b[0m\u001b[0;34m\u001b[0m\u001b[0;34m\u001b[0m\u001b[0m\n",
      "\u001b[0;31mKeyError\u001b[0m: 'Trait'"
     ]
    }
   ],
   "source": [
    "degree_size_df = plot_degree.merge(size_df, on=['Trait', 'Geneset'])"
   ]
  },
  {
   "cell_type": "code",
   "execution_count": null,
   "metadata": {
    "ExecuteTime": {
     "end_time": "2024-11-18T17:35:07.517407Z",
     "start_time": "2024-11-18T17:35:07.517398Z"
    }
   },
   "outputs": [],
   "source": [
    "pcnet_mean_degree = np.mean([x[1] for x in G_overlap.degree])"
   ]
  },
  {
   "cell_type": "code",
   "execution_count": null,
   "metadata": {
    "ExecuteTime": {
     "end_time": "2024-11-18T17:35:07.518302Z",
     "start_time": "2024-11-18T17:35:07.518293Z"
    }
   },
   "outputs": [],
   "source": [
    "degree_size_df['ResidualDegree'] = degree_size_df.Degree - pcnet_mean_degree"
   ]
  },
  {
   "cell_type": "code",
   "execution_count": null,
   "metadata": {
    "ExecuteTime": {
     "end_time": "2024-11-18T17:35:07.519019Z",
     "start_time": "2024-11-18T17:35:07.519010Z"
    }
   },
   "outputs": [],
   "source": [
    "_ = plt.figure(figsize=(3,3))\n",
    "sns.scatterplot(degree_size_df, x='Size', y='Degree', hue='Geneset', s=5)\n",
    "plt.hlines(y=pcnet_mean_degree, xmin=1, xmax=1500, color='red')\n",
    "#plt.yscale('log')\n",
    "plt.xscale('log')"
   ]
  },
  {
   "cell_type": "code",
   "execution_count": null,
   "metadata": {
    "ExecuteTime": {
     "end_time": "2024-11-18T17:35:07.519650Z",
     "start_time": "2024-11-18T17:35:07.519641Z"
    }
   },
   "outputs": [],
   "source": [
    "_ = plt.figure(figsize=(3,3))\n",
    "sns.histplot(degree_size_df, x='ResidualDegree', hue='Geneset', kde=True)"
   ]
  },
  {
   "cell_type": "markdown",
   "metadata": {},
   "source": [
    "### Degree-Score Correlation"
   ]
  },
  {
   "cell_type": "code",
   "execution_count": 73,
   "metadata": {
    "ExecuteTime": {
     "end_time": "2024-11-19T21:42:52.917622Z",
     "start_time": "2024-11-19T21:42:52.913257Z"
    }
   },
   "outputs": [],
   "source": [
    "from scipy.stats import spearmanr, pearsonr\n",
    "def get_degree_score_correlation(trait, rare=True):\n",
    "    if rare:\n",
    "        file_suff='RV'\n",
    "    else:\n",
    "        file_suff='CV'\n",
    "    gene_profile = pd.read_csv(os.path.join(indir, f\"{trait}_{file_suff}.txt\"), usecols=['Gene Symbol', 'P-value'], \n",
    "                                 sep='\\t').sort_values(by='P-value').drop_duplicates(subset='Gene Symbol', keep='first')\n",
    "    gene_profile['degree'] = gene_profile['Gene Symbol'].apply(lambda x: G_overlap.degree[x] if x in G_overlap.nodes() else np.nan)\n",
    "    gene_profile['log10P'] = gene_profile['P-value'].apply(lambda x: -1 * np.log10(max(x, 1e-250)))\n",
    "    if len(gene_profile) < 5:\n",
    "        return np.nan\n",
    "    return spearmanr(gene_profile.degree, gene_profile.log10P, nan_policy='omit').statistic"
   ]
  },
  {
   "cell_type": "code",
   "execution_count": 74,
   "metadata": {
    "ExecuteTime": {
     "end_time": "2024-11-19T21:42:59.157562Z",
     "start_time": "2024-11-19T21:42:54.529328Z"
    }
   },
   "outputs": [
    {
     "name": "stderr",
     "output_type": "stream",
     "text": [
      "/cellar/users/snwright/anaconda3/envs/carva/lib/python3.10/site-packages/scipy/stats/_mstats_basic.py:695: RuntimeWarning: invalid value encountered in divide\n",
      "  t = rs * np.sqrt((dof / ((rs+1.0) * (1.0-rs))).clip(0))\n",
      "/cellar/users/snwright/anaconda3/envs/carva/lib/python3.10/site-packages/scipy/stats/_mstats_basic.py:695: RuntimeWarning: invalid value encountered in divide\n",
      "  t = rs * np.sqrt((dof / ((rs+1.0) * (1.0-rs))).clip(0))\n"
     ]
    }
   ],
   "source": [
    "c_corr = []\n",
    "r_corr = []\n",
    "for trait in all_traits:\n",
    "    c_corr.append(get_degree_score_correlation(trait, rare=False))\n",
    "    r_corr.append(get_degree_score_correlation(trait, rare=True))"
   ]
  },
  {
   "cell_type": "code",
   "execution_count": 95,
   "metadata": {
    "ExecuteTime": {
     "end_time": "2024-11-19T21:51:21.003521Z",
     "start_time": "2024-11-19T21:51:20.652097Z"
    }
   },
   "outputs": [
    {
     "data": {
      "image/png": "[encoded data removed]",
      "text/plain": [
       "<Figure size 300x200 with 1 Axes>"
      ]
     },
     "metadata": {},
     "output_type": "display_data"
    }
   ],
   "source": [
    "_ = plt.figure(figsize=(3, 2))\n",
    "sns.histplot(c_corr, bins=[i/20 - 1 for i in range(0, 40)], color='skyblue', label='Common')\n",
    "sns.histplot(r_corr, bins=[i/20 - 1 for i in range(0, 40)], color='mediumseagreen', label='Rare')\n",
    "plt.legend(fontsize=10)\n",
    "plt.xlabel('Degree-Score Correlation', fontsize=10)\n",
    "plt.ylabel('Trait Count', fontsize=10)\n",
    "plt.savefig(os.path.join(figdir, 'Degree_Score_Correlations.jpg'), dpi=400, bbox_inches='tight')"
   ]
  },
  {
   "cell_type": "code",
   "execution_count": 66,
   "metadata": {
    "ExecuteTime": {
     "end_time": "2024-11-19T21:39:43.244582Z",
     "start_time": "2024-11-19T21:39:43.237258Z"
    }
   },
   "outputs": [
    {
     "data": {
      "text/plain": [
       "SignificanceResult(statistic=0.040182015212721314, pvalue=0.777309337672681)"
      ]
     },
     "execution_count": 66,
     "metadata": {},
     "output_type": "execute_result"
    }
   ],
   "source": [
    "get_degree_score_correlation('EFO_0000095', rare=False)"
   ]
  },
  {
   "cell_type": "code",
   "execution_count": null,
   "metadata": {},
   "outputs": [],
   "source": [
    "rare_genesets = {trait: geneset_utils.load_seed_genes(trait, 'rare', indir, usecol='Gene Symbol') for trait in all_traits}"
   ]
  },
  {
   "cell_type": "markdown",
   "metadata": {},
   "source": [
    "## Clustering Coefficient"
   ]
  },
  {
   "cell_type": "code",
   "execution_count": null,
   "metadata": {
    "ExecuteTime": {
     "end_time": "2024-11-18T17:35:07.520238Z",
     "start_time": "2024-11-18T17:35:07.520230Z"
    }
   },
   "outputs": [],
   "source": [
    "def get_clustering_coef_subgraph(nodes, G):\n",
    "    present_nodes = [n for n in nodes if n in G.nodes()]\n",
    "    if len(present_nodes) == 0:\n",
    "        return 0\n",
    "    clustering_coef = nx.average_clustering(G.subgraph(present_nodes), present_nodes, count_zeros=True)\n",
    "    return clustering_coef\n",
    "\n",
    "def get_all_clustering_coefs(common_genesets, rare_genesets, overlap_genesets, G_overlap, all_traits, stat='mean'):\n",
    "    common_clustering_coefs  = {}\n",
    "    rare_clustering_coefs = {}\n",
    "    overlap_clustering_coefs = {}    \n",
    "    for trait in tqdm(all_traits):\n",
    "        common_clustering_coefs[trait] = get_clustering_coef(common_genesets[trait], G_overlap)\n",
    "        rare_clustering_coefs[trait] = get_clustering_coef(rare_genesets[trait], G_overlap)\n",
    "        overlap_clustering_coefs[trait] = get_clustering_coef(overlap_genesets[trait], G_overlap)\n",
    "    clustering_coef_df = pd.DataFrame({'Common': common_clustering_coefs, 'Rare': rare_clustering_coefs, 'Overlap': overlap_clustering_coefs})\n",
    "    plot_clustering_coef = clustering_coef_df.melt(var_name='Geneset', ignore_index=False, value_name='clustering_coef')\n",
    "    return clustering_coef_df, plot_clustering_coef"
   ]
  },
  {
   "cell_type": "code",
   "execution_count": null,
   "metadata": {
    "ExecuteTime": {
     "end_time": "2024-11-18T17:35:07.521143Z",
     "start_time": "2024-11-18T17:35:07.521132Z"
    }
   },
   "outputs": [],
   "source": [
    "clust_df, plot_clust = get_all_clustering_coefs(common_genesets, rare_genesets, overlap_genesets, G_overlap, all_traits)"
   ]
  },
  {
   "cell_type": "code",
   "execution_count": null,
   "metadata": {
    "ExecuteTime": {
     "end_time": "2024-11-18T17:35:07.521750Z",
     "start_time": "2024-11-18T17:35:07.521741Z"
    }
   },
   "outputs": [],
   "source": [
    "clust_df.to_csv(os.path.join(outdir, 'EFO_terms_average_clustering.csv'))"
   ]
  },
  {
   "cell_type": "markdown",
   "metadata": {},
   "source": [
    "## Assortativity"
   ]
  },
  {
   "cell_type": "code",
   "execution_count": null,
   "metadata": {
    "ExecuteTime": {
     "end_time": "2024-11-18T17:35:07.522495Z",
     "start_time": "2024-11-18T17:35:07.522486Z"
    }
   },
   "outputs": [],
   "source": [
    "# assign attribute to graph (present in x gene set)\n",
    "# calculate the assortativity. "
   ]
  },
  {
   "cell_type": "markdown",
   "metadata": {},
   "source": [
    "## Development"
   ]
  },
  {
   "cell_type": "code",
   "execution_count": null,
   "metadata": {
    "ExecuteTime": {
     "end_time": "2024-11-18T17:35:07.523048Z",
     "start_time": "2024-11-18T17:35:07.523040Z"
    }
   },
   "outputs": [],
   "source": [
    "datadir = '/cellar/users/snwright/Data/NetColocTest/'"
   ]
  },
  {
   "cell_type": "code",
   "execution_count": null,
   "metadata": {
    "ExecuteTime": {
     "end_time": "2024-11-18T17:35:07.523941Z",
     "start_time": "2024-11-18T17:35:07.523932Z"
    }
   },
   "outputs": [],
   "source": [
    "go_genesets = load_node_sets(os.path.join(datadir, 'Reference','go.test' ))"
   ]
  },
  {
   "cell_type": "code",
   "execution_count": null,
   "metadata": {
    "ExecuteTime": {
     "end_time": "2024-11-18T17:35:07.524677Z",
     "start_time": "2024-11-18T17:35:07.524667Z"
    }
   },
   "outputs": [],
   "source": [
    "G = nx.Graph()\n",
    "G.add_edge(1, 2)\n",
    "G.add_edge(1, 3)\n",
    "G.add_edge(1, 50)\n",
    "G.add_edge(2, 3)\n",
    "G.add_edge(3, 4)\n",
    "G.add_edge(4, 50)"
   ]
  },
  {
   "cell_type": "code",
   "execution_count": null,
   "metadata": {
    "ExecuteTime": {
     "end_time": "2024-11-18T17:35:07.525240Z",
     "start_time": "2024-11-18T17:35:07.525231Z"
    }
   },
   "outputs": [],
   "source": [
    "x = pd.DataFrame.from_dict(dict(nx.all_pairs_shortest_path_length(G)))"
   ]
  },
  {
   "cell_type": "code",
   "execution_count": null,
   "metadata": {
    "ExecuteTime": {
     "end_time": "2024-11-18T17:35:07.525934Z",
     "start_time": "2024-11-18T17:35:07.525925Z"
    }
   },
   "outputs": [],
   "source": [
    "x"
   ]
  },
  {
   "cell_type": "code",
   "execution_count": null,
   "metadata": {
    "ExecuteTime": {
     "end_time": "2024-11-18T17:35:07.526734Z",
     "start_time": "2024-11-18T17:35:07.526725Z"
    }
   },
   "outputs": [],
   "source": [
    "node_map = pd.DataFrame({'node': G_overlap.nodes})\n",
    "node_map['Entrez'] = node_map.node.apply(lambda x: G_overlap.nodes[x]['GeneID'])"
   ]
  },
  {
   "cell_type": "code",
   "execution_count": null,
   "metadata": {},
   "outputs": [],
   "source": []
  },
  {
   "cell_type": "markdown",
   "metadata": {},
   "source": [
    "## Average degree"
   ]
  },
  {
   "cell_type": "code",
   "execution_count": null,
   "metadata": {
    "ExecuteTime": {
     "end_time": "2024-11-18T17:35:07.527465Z",
     "start_time": "2024-11-18T17:35:07.527456Z"
    }
   },
   "outputs": [],
   "source": [
    "degrees = pd.read_csv(os.path.join(datadir, 'inputs', 'GO', 'pcnet2_0_degrees.txt'), sep='\\t', names=['Degree'], header=None, index_col=0)"
   ]
  },
  {
   "cell_type": "code",
   "execution_count": null,
   "metadata": {
    "ExecuteTime": {
     "end_time": "2024-11-18T17:35:07.528166Z",
     "start_time": "2024-11-18T17:35:07.528158Z"
    }
   },
   "outputs": [],
   "source": [
    "avg_degree = defaultdict(float)\n",
    "med_degree = defaultdict(float)\n",
    "for gs in go_genesets:\n",
    "    gs_degree = []\n",
    "    for gene in go_genesets[gs]:\n",
    "        if gene in degrees.index:\n",
    "            gs_degree.append(degrees.loc[gene].Degree)\n",
    "    avg_degree[gs] = np.mean(gs_degree)\n",
    "    med_degree[gs] = np.median(gs_degree)"
   ]
  },
  {
   "cell_type": "code",
   "execution_count": null,
   "metadata": {
    "ExecuteTime": {
     "end_time": "2024-11-18T17:35:07.528884Z",
     "start_time": "2024-11-18T17:35:07.528873Z"
    }
   },
   "outputs": [],
   "source": [
    "med_degree"
   ]
  },
  {
   "cell_type": "markdown",
   "metadata": {},
   "source": [
    "## Clustering/Average Shortest Path"
   ]
  },
  {
   "cell_type": "code",
   "execution_count": null,
   "metadata": {},
   "outputs": [],
   "source": []
  },
  {
   "cell_type": "markdown",
   "metadata": {},
   "source": [
    "## Assortative Clustering\n",
    "\n",
    "This will be more relevant with real gene sets?"
   ]
  },
  {
   "cell_type": "code",
   "execution_count": null,
   "metadata": {},
   "outputs": [],
   "source": []
  }
 ],
 "metadata": {
  "kernelspec": {
   "display_name": "Python (CARVA)",
   "language": "python",
   "name": "carva"
  },
  "language_info": {
   "codemirror_mode": {
    "name": "ipython",
    "version": 3
   },
   "file_extension": ".py",
   "mimetype": "text/x-python",
   "name": "python",
   "nbconvert_exporter": "python",
   "pygments_lexer": "ipython3",
   "version": "3.10.0"
  },
  "toc": {
   "base_numbering": 1,
   "nav_menu": {},
   "number_sections": true,
   "sideBar": true,
   "skip_h1_title": false,
   "title_cell": "Table of Contents",
   "title_sidebar": "Contents",
   "toc_cell": false,
   "toc_position": {},
   "toc_section_display": true,
   "toc_window_display": true
  },
  "varInspector": {
   "cols": {
    "lenName": 16,
    "lenType": 16,
    "lenVar": 40
   },
   "kernels_config": {
    "python": {
     "delete_cmd_postfix": "",
     "delete_cmd_prefix": "del ",
     "library": "var_list.py",
     "varRefreshCmd": "print(var_dic_list())"
    },
    "r": {
     "delete_cmd_postfix": ") ",
     "delete_cmd_prefix": "rm(",
     "library": "var_list.r",
     "varRefreshCmd": "cat(var_dic_list()) "
    }
   },
   "types_to_exclude": [
    "module",
    "function",
    "builtin_function_or_method",
    "instance",
    "_Feature"
   ],
   "window_display": false
  }
 },
 "nbformat": 4,
 "nbformat_minor": 4
}
