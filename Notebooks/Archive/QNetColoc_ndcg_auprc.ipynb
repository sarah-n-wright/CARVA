{
 "cells": [
  {
   "cell_type": "code",
   "execution_count": 1,
   "metadata": {
    "ExecuteTime": {
     "end_time": "2025-01-22T22:52:42.557108Z",
     "start_time": "2025-01-22T22:52:36.460048Z"
    }
   },
   "outputs": [],
   "source": [
    "import pandas as pd\n",
    "import numpy as np\n",
    "import matplotlib.pyplot as plt\n",
    "import seaborn as sns\n",
    "import os\n",
    "from collections import defaultdict\n",
    "from tqdm import tqdm\n",
    "import networkx as nx\n",
    "from matplotlib_venn import venn2, venn3\n",
    "from neteval import gene_mapper as gm\n",
    "from neteval import query_ensembl as qe\n",
    "from neteval import query_hgnc as qh\n",
    "import obonet as obo\n",
    "import random as rn\n",
    "import glob\n",
    "import re"
   ]
  },
  {
   "cell_type": "code",
   "execution_count": 2,
   "metadata": {
    "ExecuteTime": {
     "end_time": "2025-01-22T22:55:54.588916Z",
     "start_time": "2025-01-22T22:55:54.586757Z"
    }
   },
   "outputs": [],
   "source": [
    "datadir='/cellar/users/snwright/Data/RareCommon/inputs/'\n",
    "resdir= '/cellar/users/snwright/Data/RareCommon/outputs/netcoloc/'\n",
    "outdir='/cellar/users/snwright/Data/Transfer/RVC/'\n",
    "figdir='/cellar/users/snwright/Data/Transfer/RVC/figures/RAVAR_GWASCat/'"
   ]
  },
  {
   "cell_type": "code",
   "execution_count": 3,
   "metadata": {
    "ExecuteTime": {
     "end_time": "2025-01-22T22:55:57.333440Z",
     "start_time": "2025-01-22T22:55:57.329940Z"
    }
   },
   "outputs": [],
   "source": [
    "plt.rcParams['svg.fonttype'] = 'none'\n",
    "plt.rcParams.update({'font.size': 7})\n",
    "plt.rcParams['axes.linewidth'] = 0.5\n",
    "plt.rcParams['hatch.linewidth'] = 0.5\n",
    "plt.rcParams['xtick.major.width'] = 0.4\n",
    "plt.rcParams['ytick.major.width'] = 0.4\n",
    "plt.rcParams['xtick.minor.width'] = 0.3\n",
    "plt.rcParams['ytick.minor.width'] = 0.3\n",
    "plt.rcParams['legend.frameon'] = False\n",
    "plt.rcParams['xtick.major.size'] = 3\n",
    "plt.rcParams['ytick.major.size'] = 3\n",
    "plt.rcParams['xtick.minor.size'] = 2\n",
    "plt.rcParams['ytick.minor.size'] = 2\n",
    "plt.rcParams['xtick.major.pad'] = 1\n",
    "plt.rcParams['ytick.major.pad'] = 1\n",
    "plt.rcParams['axes.labelpad'] = 1\n",
    "plt.rcParams['patch.linewidth'] = 0.25"
   ]
  },
  {
   "cell_type": "markdown",
   "metadata": {},
   "source": [
    "## Load evaluation data"
   ]
  },
  {
   "cell_type": "code",
   "execution_count": 19,
   "metadata": {
    "ExecuteTime": {
     "end_time": "2025-01-22T23:53:20.204949Z",
     "start_time": "2025-01-22T23:53:20.203029Z"
    }
   },
   "outputs": [],
   "source": [
    "col_names =['NDCG_RC', 'NDCG_CR', 'AUPRC_RC', 'AUPRC_CR', 'Baseline_AUPRC_RC', 'Baseline_AUPRC_CR', 'Method']"
   ]
  },
  {
   "cell_type": "code",
   "execution_count": 41,
   "metadata": {
    "ExecuteTime": {
     "end_time": "2025-01-23T00:18:09.641047Z",
     "start_time": "2025-01-23T00:18:09.615143Z"
    }
   },
   "outputs": [],
   "source": [
    "ng = pd.read_csv(os.path.join(resdir, 'testing', 'nearestGene_evaluation.tsv'), sep='\\t', header=None, names=col_names)\n",
    "ng = ng.assign(Group='NG')\n",
    "ngth8 = pd.read_csv(os.path.join(resdir, 'testing', 'nearestGeneTH8_evaluation.tsv'), sep='\\t', header=None, names=col_names)\n",
    "ngth8 = ngth8.assign(Group='NG8')\n",
    "mag103 = pd.read_csv(os.path.join(resdir, 'magma', 'magma_th103_evaluation.tsv'), sep='\\t', header=None, names=col_names)\n",
    "mag103 = mag103.assign(Group='MAG103')\n",
    "mag256 = pd.read_csv(os.path.join(resdir, 'magma', 'magma_th256_evaluation.tsv'), sep='\\t', header=None, names=col_names)\n",
    "mag256 = mag256.assign(Group='MAG256')\n",
    "res_df = pd.concat([ng, ngth8, mag103, mag256])"
   ]
  },
  {
   "cell_type": "code",
   "execution_count": 42,
   "metadata": {
    "ExecuteTime": {
     "end_time": "2025-01-23T00:18:10.987247Z",
     "start_time": "2025-01-23T00:18:10.975681Z"
    }
   },
   "outputs": [
    {
     "data": {
      "text/html": [
       "<div>\n",
       "<style scoped>\n",
       "    .dataframe tbody tr th:only-of-type {\n",
       "        vertical-align: middle;\n",
       "    }\n",
       "\n",
       "    .dataframe tbody tr th {\n",
       "        vertical-align: top;\n",
       "    }\n",
       "\n",
       "    .dataframe thead th {\n",
       "        text-align: right;\n",
       "    }\n",
       "</style>\n",
       "<table border=\"1\" class=\"dataframe\">\n",
       "  <thead>\n",
       "    <tr style=\"text-align: right;\">\n",
       "      <th></th>\n",
       "      <th></th>\n",
       "      <th>NDCG_RC</th>\n",
       "      <th>NDCG_CR</th>\n",
       "      <th>AUPRC_RC</th>\n",
       "      <th>AUPRC_CR</th>\n",
       "      <th>Baseline_AUPRC_RC</th>\n",
       "      <th>Baseline_AUPRC_CR</th>\n",
       "    </tr>\n",
       "    <tr>\n",
       "      <th>Method</th>\n",
       "      <th></th>\n",
       "      <th></th>\n",
       "      <th></th>\n",
       "      <th></th>\n",
       "      <th></th>\n",
       "      <th></th>\n",
       "      <th></th>\n",
       "    </tr>\n",
       "  </thead>\n",
       "  <tbody>\n",
       "    <tr>\n",
       "      <th rowspan=\"6\" valign=\"top\">binary</th>\n",
       "      <th>NDCG_RC</th>\n",
       "      <td>1.000000</td>\n",
       "      <td>0.898802</td>\n",
       "      <td>0.536498</td>\n",
       "      <td>0.571061</td>\n",
       "      <td>0.722734</td>\n",
       "      <td>0.722248</td>\n",
       "    </tr>\n",
       "    <tr>\n",
       "      <th>NDCG_CR</th>\n",
       "      <td>0.898802</td>\n",
       "      <td>1.000000</td>\n",
       "      <td>0.536768</td>\n",
       "      <td>0.602210</td>\n",
       "      <td>0.695232</td>\n",
       "      <td>0.695136</td>\n",
       "    </tr>\n",
       "    <tr>\n",
       "      <th>AUPRC_RC</th>\n",
       "      <td>0.536498</td>\n",
       "      <td>0.536768</td>\n",
       "      <td>1.000000</td>\n",
       "      <td>0.910203</td>\n",
       "      <td>0.594090</td>\n",
       "      <td>0.593569</td>\n",
       "    </tr>\n",
       "    <tr>\n",
       "      <th>AUPRC_CR</th>\n",
       "      <td>0.571061</td>\n",
       "      <td>0.602210</td>\n",
       "      <td>0.910203</td>\n",
       "      <td>1.000000</td>\n",
       "      <td>0.653904</td>\n",
       "      <td>0.653359</td>\n",
       "    </tr>\n",
       "    <tr>\n",
       "      <th>Baseline_AUPRC_RC</th>\n",
       "      <td>0.722734</td>\n",
       "      <td>0.695232</td>\n",
       "      <td>0.594090</td>\n",
       "      <td>0.653904</td>\n",
       "      <td>1.000000</td>\n",
       "      <td>0.999988</td>\n",
       "    </tr>\n",
       "    <tr>\n",
       "      <th>Baseline_AUPRC_CR</th>\n",
       "      <td>0.722248</td>\n",
       "      <td>0.695136</td>\n",
       "      <td>0.593569</td>\n",
       "      <td>0.653359</td>\n",
       "      <td>0.999988</td>\n",
       "      <td>1.000000</td>\n",
       "    </tr>\n",
       "    <tr>\n",
       "      <th rowspan=\"6\" valign=\"top\">q_None</th>\n",
       "      <th>NDCG_RC</th>\n",
       "      <td>1.000000</td>\n",
       "      <td>0.895193</td>\n",
       "      <td>0.547217</td>\n",
       "      <td>0.571746</td>\n",
       "      <td>0.724905</td>\n",
       "      <td>0.724400</td>\n",
       "    </tr>\n",
       "    <tr>\n",
       "      <th>NDCG_CR</th>\n",
       "      <td>0.895193</td>\n",
       "      <td>1.000000</td>\n",
       "      <td>0.559988</td>\n",
       "      <td>0.605788</td>\n",
       "      <td>0.699634</td>\n",
       "      <td>0.699528</td>\n",
       "    </tr>\n",
       "    <tr>\n",
       "      <th>AUPRC_RC</th>\n",
       "      <td>0.547217</td>\n",
       "      <td>0.559988</td>\n",
       "      <td>1.000000</td>\n",
       "      <td>0.859995</td>\n",
       "      <td>0.607584</td>\n",
       "      <td>0.607173</td>\n",
       "    </tr>\n",
       "    <tr>\n",
       "      <th>AUPRC_CR</th>\n",
       "      <td>0.571746</td>\n",
       "      <td>0.605788</td>\n",
       "      <td>0.859995</td>\n",
       "      <td>1.000000</td>\n",
       "      <td>0.660104</td>\n",
       "      <td>0.659535</td>\n",
       "    </tr>\n",
       "    <tr>\n",
       "      <th>Baseline_AUPRC_RC</th>\n",
       "      <td>0.724905</td>\n",
       "      <td>0.699634</td>\n",
       "      <td>0.607584</td>\n",
       "      <td>0.660104</td>\n",
       "      <td>1.000000</td>\n",
       "      <td>0.999988</td>\n",
       "    </tr>\n",
       "    <tr>\n",
       "      <th>Baseline_AUPRC_CR</th>\n",
       "      <td>0.724400</td>\n",
       "      <td>0.699528</td>\n",
       "      <td>0.607173</td>\n",
       "      <td>0.659535</td>\n",
       "      <td>0.999988</td>\n",
       "      <td>1.000000</td>\n",
       "    </tr>\n",
       "    <tr>\n",
       "      <th rowspan=\"6\" valign=\"top\">q_max</th>\n",
       "      <th>NDCG_RC</th>\n",
       "      <td>1.000000</td>\n",
       "      <td>0.906523</td>\n",
       "      <td>0.559588</td>\n",
       "      <td>0.580464</td>\n",
       "      <td>0.722374</td>\n",
       "      <td>0.721859</td>\n",
       "    </tr>\n",
       "    <tr>\n",
       "      <th>NDCG_CR</th>\n",
       "      <td>0.906523</td>\n",
       "      <td>1.000000</td>\n",
       "      <td>0.554416</td>\n",
       "      <td>0.619053</td>\n",
       "      <td>0.708318</td>\n",
       "      <td>0.708187</td>\n",
       "    </tr>\n",
       "    <tr>\n",
       "      <th>AUPRC_RC</th>\n",
       "      <td>0.559588</td>\n",
       "      <td>0.554416</td>\n",
       "      <td>1.000000</td>\n",
       "      <td>0.865165</td>\n",
       "      <td>0.611661</td>\n",
       "      <td>0.611192</td>\n",
       "    </tr>\n",
       "    <tr>\n",
       "      <th>AUPRC_CR</th>\n",
       "      <td>0.580464</td>\n",
       "      <td>0.619053</td>\n",
       "      <td>0.865165</td>\n",
       "      <td>1.000000</td>\n",
       "      <td>0.677558</td>\n",
       "      <td>0.676994</td>\n",
       "    </tr>\n",
       "    <tr>\n",
       "      <th>Baseline_AUPRC_RC</th>\n",
       "      <td>0.722374</td>\n",
       "      <td>0.708318</td>\n",
       "      <td>0.611661</td>\n",
       "      <td>0.677558</td>\n",
       "      <td>1.000000</td>\n",
       "      <td>0.999988</td>\n",
       "    </tr>\n",
       "    <tr>\n",
       "      <th>Baseline_AUPRC_CR</th>\n",
       "      <td>0.721859</td>\n",
       "      <td>0.708187</td>\n",
       "      <td>0.611192</td>\n",
       "      <td>0.676994</td>\n",
       "      <td>0.999988</td>\n",
       "      <td>1.000000</td>\n",
       "    </tr>\n",
       "    <tr>\n",
       "      <th rowspan=\"6\" valign=\"top\">q_sum</th>\n",
       "      <th>NDCG_RC</th>\n",
       "      <td>1.000000</td>\n",
       "      <td>0.924225</td>\n",
       "      <td>0.543174</td>\n",
       "      <td>0.570464</td>\n",
       "      <td>0.724290</td>\n",
       "      <td>0.723790</td>\n",
       "    </tr>\n",
       "    <tr>\n",
       "      <th>NDCG_CR</th>\n",
       "      <td>0.924225</td>\n",
       "      <td>1.000000</td>\n",
       "      <td>0.550742</td>\n",
       "      <td>0.611479</td>\n",
       "      <td>0.717854</td>\n",
       "      <td>0.717694</td>\n",
       "    </tr>\n",
       "    <tr>\n",
       "      <th>AUPRC_RC</th>\n",
       "      <td>0.543174</td>\n",
       "      <td>0.550742</td>\n",
       "      <td>1.000000</td>\n",
       "      <td>0.873374</td>\n",
       "      <td>0.599872</td>\n",
       "      <td>0.599378</td>\n",
       "    </tr>\n",
       "    <tr>\n",
       "      <th>AUPRC_CR</th>\n",
       "      <td>0.570464</td>\n",
       "      <td>0.611479</td>\n",
       "      <td>0.873374</td>\n",
       "      <td>1.000000</td>\n",
       "      <td>0.665927</td>\n",
       "      <td>0.665348</td>\n",
       "    </tr>\n",
       "    <tr>\n",
       "      <th>Baseline_AUPRC_RC</th>\n",
       "      <td>0.724290</td>\n",
       "      <td>0.717854</td>\n",
       "      <td>0.599872</td>\n",
       "      <td>0.665927</td>\n",
       "      <td>1.000000</td>\n",
       "      <td>0.999988</td>\n",
       "    </tr>\n",
       "    <tr>\n",
       "      <th>Baseline_AUPRC_CR</th>\n",
       "      <td>0.723790</td>\n",
       "      <td>0.717694</td>\n",
       "      <td>0.599378</td>\n",
       "      <td>0.665348</td>\n",
       "      <td>0.999988</td>\n",
       "      <td>1.000000</td>\n",
       "    </tr>\n",
       "  </tbody>\n",
       "</table>\n",
       "</div>"
      ],
      "text/plain": [
       "                           NDCG_RC   NDCG_CR  AUPRC_RC  AUPRC_CR  \\\n",
       "Method                                                             \n",
       "binary NDCG_RC            1.000000  0.898802  0.536498  0.571061   \n",
       "       NDCG_CR            0.898802  1.000000  0.536768  0.602210   \n",
       "       AUPRC_RC           0.536498  0.536768  1.000000  0.910203   \n",
       "       AUPRC_CR           0.571061  0.602210  0.910203  1.000000   \n",
       "       Baseline_AUPRC_RC  0.722734  0.695232  0.594090  0.653904   \n",
       "       Baseline_AUPRC_CR  0.722248  0.695136  0.593569  0.653359   \n",
       "q_None NDCG_RC            1.000000  0.895193  0.547217  0.571746   \n",
       "       NDCG_CR            0.895193  1.000000  0.559988  0.605788   \n",
       "       AUPRC_RC           0.547217  0.559988  1.000000  0.859995   \n",
       "       AUPRC_CR           0.571746  0.605788  0.859995  1.000000   \n",
       "       Baseline_AUPRC_RC  0.724905  0.699634  0.607584  0.660104   \n",
       "       Baseline_AUPRC_CR  0.724400  0.699528  0.607173  0.659535   \n",
       "q_max  NDCG_RC            1.000000  0.906523  0.559588  0.580464   \n",
       "       NDCG_CR            0.906523  1.000000  0.554416  0.619053   \n",
       "       AUPRC_RC           0.559588  0.554416  1.000000  0.865165   \n",
       "       AUPRC_CR           0.580464  0.619053  0.865165  1.000000   \n",
       "       Baseline_AUPRC_RC  0.722374  0.708318  0.611661  0.677558   \n",
       "       Baseline_AUPRC_CR  0.721859  0.708187  0.611192  0.676994   \n",
       "q_sum  NDCG_RC            1.000000  0.924225  0.543174  0.570464   \n",
       "       NDCG_CR            0.924225  1.000000  0.550742  0.611479   \n",
       "       AUPRC_RC           0.543174  0.550742  1.000000  0.873374   \n",
       "       AUPRC_CR           0.570464  0.611479  0.873374  1.000000   \n",
       "       Baseline_AUPRC_RC  0.724290  0.717854  0.599872  0.665927   \n",
       "       Baseline_AUPRC_CR  0.723790  0.717694  0.599378  0.665348   \n",
       "\n",
       "                          Baseline_AUPRC_RC  Baseline_AUPRC_CR  \n",
       "Method                                                          \n",
       "binary NDCG_RC                     0.722734           0.722248  \n",
       "       NDCG_CR                     0.695232           0.695136  \n",
       "       AUPRC_RC                    0.594090           0.593569  \n",
       "       AUPRC_CR                    0.653904           0.653359  \n",
       "       Baseline_AUPRC_RC           1.000000           0.999988  \n",
       "       Baseline_AUPRC_CR           0.999988           1.000000  \n",
       "q_None NDCG_RC                     0.724905           0.724400  \n",
       "       NDCG_CR                     0.699634           0.699528  \n",
       "       AUPRC_RC                    0.607584           0.607173  \n",
       "       AUPRC_CR                    0.660104           0.659535  \n",
       "       Baseline_AUPRC_RC           1.000000           0.999988  \n",
       "       Baseline_AUPRC_CR           0.999988           1.000000  \n",
       "q_max  NDCG_RC                     0.722374           0.721859  \n",
       "       NDCG_CR                     0.708318           0.708187  \n",
       "       AUPRC_RC                    0.611661           0.611192  \n",
       "       AUPRC_CR                    0.677558           0.676994  \n",
       "       Baseline_AUPRC_RC           1.000000           0.999988  \n",
       "       Baseline_AUPRC_CR           0.999988           1.000000  \n",
       "q_sum  NDCG_RC                     0.724290           0.723790  \n",
       "       NDCG_CR                     0.717854           0.717694  \n",
       "       AUPRC_RC                    0.599872           0.599378  \n",
       "       AUPRC_CR                    0.665927           0.665348  \n",
       "       Baseline_AUPRC_RC           1.000000           0.999988  \n",
       "       Baseline_AUPRC_CR           0.999988           1.000000  "
      ]
     },
     "execution_count": 42,
     "metadata": {},
     "output_type": "execute_result"
    }
   ],
   "source": [
    "res_df.groupby('Method').corr(numeric_only=True)"
   ]
  },
  {
   "cell_type": "markdown",
   "metadata": {},
   "source": [
    "## NDCG\n",
    "\n",
    "Why do the results look SO consistent across methods? Are they actually using different Z-scores? Or does it really not matter?"
   ]
  },
  {
   "cell_type": "code",
   "execution_count": 105,
   "metadata": {
    "ExecuteTime": {
     "end_time": "2025-01-23T01:10:41.611715Z",
     "start_time": "2025-01-23T01:10:41.604713Z"
    }
   },
   "outputs": [
    {
     "data": {
      "text/html": [
       "<div>\n",
       "<style scoped>\n",
       "    .dataframe tbody tr th:only-of-type {\n",
       "        vertical-align: middle;\n",
       "    }\n",
       "\n",
       "    .dataframe tbody tr th {\n",
       "        vertical-align: top;\n",
       "    }\n",
       "\n",
       "    .dataframe thead th {\n",
       "        text-align: right;\n",
       "    }\n",
       "</style>\n",
       "<table border=\"1\" class=\"dataframe\">\n",
       "  <thead>\n",
       "    <tr style=\"text-align: right;\">\n",
       "      <th></th>\n",
       "      <th>NDCG_RC</th>\n",
       "      <th>NDCG_CR</th>\n",
       "      <th>AUPRC_RC</th>\n",
       "      <th>AUPRC_CR</th>\n",
       "      <th>Baseline_AUPRC_RC</th>\n",
       "      <th>Baseline_AUPRC_CR</th>\n",
       "      <th>Method</th>\n",
       "      <th>Group</th>\n",
       "    </tr>\n",
       "  </thead>\n",
       "  <tbody>\n",
       "    <tr>\n",
       "      <th>magma_th103_GCST001791_EFO_0004531</th>\n",
       "      <td>0.285368</td>\n",
       "      <td>0.275374</td>\n",
       "      <td>0.019029</td>\n",
       "      <td>0.016104</td>\n",
       "      <td>0.007318</td>\n",
       "      <td>0.007266</td>\n",
       "      <td>binary</td>\n",
       "      <td>MAG103</td>\n",
       "    </tr>\n",
       "    <tr>\n",
       "      <th>magma_th103_GCST001791_EFO_0004531</th>\n",
       "      <td>0.282078</td>\n",
       "      <td>0.276282</td>\n",
       "      <td>0.019890</td>\n",
       "      <td>0.018923</td>\n",
       "      <td>0.007318</td>\n",
       "      <td>0.007266</td>\n",
       "      <td>q_None</td>\n",
       "      <td>MAG103</td>\n",
       "    </tr>\n",
       "    <tr>\n",
       "      <th>magma_th103_GCST001791_EFO_0004531</th>\n",
       "      <td>0.282953</td>\n",
       "      <td>0.276024</td>\n",
       "      <td>0.019633</td>\n",
       "      <td>0.018691</td>\n",
       "      <td>0.007318</td>\n",
       "      <td>0.007266</td>\n",
       "      <td>q_max</td>\n",
       "      <td>MAG103</td>\n",
       "    </tr>\n",
       "    <tr>\n",
       "      <th>magma_th103_GCST001791_EFO_0004531</th>\n",
       "      <td>0.280894</td>\n",
       "      <td>0.276473</td>\n",
       "      <td>0.019979</td>\n",
       "      <td>0.018595</td>\n",
       "      <td>0.007318</td>\n",
       "      <td>0.007266</td>\n",
       "      <td>q_sum</td>\n",
       "      <td>MAG103</td>\n",
       "    </tr>\n",
       "  </tbody>\n",
       "</table>\n",
       "</div>"
      ],
      "text/plain": [
       "                                     NDCG_RC   NDCG_CR  AUPRC_RC  AUPRC_CR  \\\n",
       "magma_th103_GCST001791_EFO_0004531  0.285368  0.275374  0.019029  0.016104   \n",
       "magma_th103_GCST001791_EFO_0004531  0.282078  0.276282  0.019890  0.018923   \n",
       "magma_th103_GCST001791_EFO_0004531  0.282953  0.276024  0.019633  0.018691   \n",
       "magma_th103_GCST001791_EFO_0004531  0.280894  0.276473  0.019979  0.018595   \n",
       "\n",
       "                                    Baseline_AUPRC_RC  Baseline_AUPRC_CR  \\\n",
       "magma_th103_GCST001791_EFO_0004531           0.007318           0.007266   \n",
       "magma_th103_GCST001791_EFO_0004531           0.007318           0.007266   \n",
       "magma_th103_GCST001791_EFO_0004531           0.007318           0.007266   \n",
       "magma_th103_GCST001791_EFO_0004531           0.007318           0.007266   \n",
       "\n",
       "                                    Method   Group  \n",
       "magma_th103_GCST001791_EFO_0004531  binary  MAG103  \n",
       "magma_th103_GCST001791_EFO_0004531  q_None  MAG103  \n",
       "magma_th103_GCST001791_EFO_0004531   q_max  MAG103  \n",
       "magma_th103_GCST001791_EFO_0004531   q_sum  MAG103  "
      ]
     },
     "execution_count": 105,
     "metadata": {},
     "output_type": "execute_result"
    }
   ],
   "source": [
    "res_df.loc['magma_th103_GCST001791_EFO_0004531']"
   ]
  },
  {
   "cell_type": "code",
   "execution_count": 49,
   "metadata": {
    "ExecuteTime": {
     "end_time": "2025-01-23T00:37:06.517168Z",
     "start_time": "2025-01-23T00:37:06.512128Z"
    }
   },
   "outputs": [
    {
     "data": {
      "text/plain": [
       "Group   Method\n",
       "MAG103  binary    0.012610\n",
       "        q_None    0.012605\n",
       "        q_max     0.012737\n",
       "        q_sum     0.012586\n",
       "MAG256  binary    0.011647\n",
       "        q_None    0.011335\n",
       "        q_max     0.011388\n",
       "        q_sum     0.011420\n",
       "NG      binary    0.002413\n",
       "        q_None    0.002744\n",
       "        q_max     0.002411\n",
       "        q_sum     0.002401\n",
       "NG8     binary    0.006167\n",
       "        q_None    0.006448\n",
       "        q_max     0.006141\n",
       "        q_sum     0.006226\n",
       "Name: AUPRC_RC, dtype: float64"
      ]
     },
     "execution_count": 49,
     "metadata": {},
     "output_type": "execute_result"
    }
   ],
   "source": [
    "res_df.groupby(['Group', 'Method']).AUPRC_RC.mean()"
   ]
  },
  {
   "cell_type": "markdown",
   "metadata": {},
   "source": [
    "## Debug Metrics\n",
    "\n",
    "1. Not getting the same number. Need to exclude the seed genes (did not solve). Why is it still wrong?\n",
    "2. Does it make more sense to set a k value, it appears that the discounting factor isn't that strong, so very low ranked genes are still contributing."
   ]
  },
  {
   "cell_type": "code",
   "execution_count": 139,
   "metadata": {
    "ExecuteTime": {
     "end_time": "2025-01-23T18:05:29.803889Z",
     "start_time": "2025-01-23T18:05:29.802101Z"
    }
   },
   "outputs": [],
   "source": [
    "trait = 'magma_th103_GCST001791_EFO_0004531'"
   ]
  },
  {
   "cell_type": "code",
   "execution_count": 198,
   "metadata": {
    "ExecuteTime": {
     "end_time": "2025-01-23T19:01:54.311015Z",
     "start_time": "2025-01-23T19:01:54.288877Z"
    }
   },
   "outputs": [],
   "source": [
    "zc = pd.read_csv(os.path.join(resdir, 'magma','magma_th103_GCST001791_EFO_0004531_z_CV_q_neglog10_max.tsv'), header=None, \n",
    "                 names=['z'], index_col=0, sep='\\t')\n",
    "zr = pd.read_csv(os.path.join(resdir, 'magma' ,'magma_th103_GCST001791_EFO_0004531_z_RV_q_neglog10_max.tsv'), header=None, \n",
    "                 names=['z'], index_col=0, sep='\\t')\n",
    "zc2 = pd.read_csv(os.path.join(resdir, 'magma','magma_th103_GCST001791_EFO_0004531_z_CV_neglog10.tsv'), header=None, \n",
    "                 names=['z2'], index_col=0, sep='\\t')\n",
    "zr2 = pd.read_csv(os.path.join(resdir, 'magma' ,'magma_th103_GCST001791_EFO_0004531_z_RV_neglog10.tsv'), header=None, \n",
    "                 names=['z2'], index_col=0, sep='\\t')"
   ]
  },
  {
   "cell_type": "code",
   "execution_count": 199,
   "metadata": {
    "ExecuteTime": {
     "end_time": "2025-01-23T19:01:56.020426Z",
     "start_time": "2025-01-23T19:01:55.968532Z"
    }
   },
   "outputs": [],
   "source": [
    "xc = zc.join(zc2)"
   ]
  },
  {
   "cell_type": "code",
   "execution_count": 201,
   "metadata": {
    "ExecuteTime": {
     "end_time": "2025-01-23T19:02:09.435120Z",
     "start_time": "2025-01-23T19:02:09.430363Z"
    }
   },
   "outputs": [
    {
     "data": {
      "text/html": [
       "<div>\n",
       "<style scoped>\n",
       "    .dataframe tbody tr th:only-of-type {\n",
       "        vertical-align: middle;\n",
       "    }\n",
       "\n",
       "    .dataframe tbody tr th {\n",
       "        vertical-align: top;\n",
       "    }\n",
       "\n",
       "    .dataframe thead th {\n",
       "        text-align: right;\n",
       "    }\n",
       "</style>\n",
       "<table border=\"1\" class=\"dataframe\">\n",
       "  <thead>\n",
       "    <tr style=\"text-align: right;\">\n",
       "      <th></th>\n",
       "      <th>z</th>\n",
       "      <th>z2</th>\n",
       "    </tr>\n",
       "  </thead>\n",
       "  <tbody>\n",
       "    <tr>\n",
       "      <th>z</th>\n",
       "      <td>1.000000</td>\n",
       "      <td>0.786838</td>\n",
       "    </tr>\n",
       "    <tr>\n",
       "      <th>z2</th>\n",
       "      <td>0.786838</td>\n",
       "      <td>1.000000</td>\n",
       "    </tr>\n",
       "  </tbody>\n",
       "</table>\n",
       "</div>"
      ],
      "text/plain": [
       "           z        z2\n",
       "z   1.000000  0.786838\n",
       "z2  0.786838  1.000000"
      ]
     },
     "execution_count": 201,
     "metadata": {},
     "output_type": "execute_result"
    }
   ],
   "source": [
    "xc.corr()"
   ]
  },
  {
   "cell_type": "code",
   "execution_count": 184,
   "metadata": {
    "ExecuteTime": {
     "end_time": "2025-01-23T18:07:24.663502Z",
     "start_time": "2025-01-23T18:07:24.657965Z"
    }
   },
   "outputs": [],
   "source": [
    "zc.sort_values(by='z', ascending=False, inplace=True)\n",
    "zr.sort_values(by='z', ascending=False, inplace=True)"
   ]
  },
  {
   "cell_type": "code",
   "execution_count": 185,
   "metadata": {
    "ExecuteTime": {
     "end_time": "2025-01-23T18:07:25.279950Z",
     "start_time": "2025-01-23T18:07:25.272913Z"
    }
   },
   "outputs": [],
   "source": [
    "c_genes = pd.read_csv(os.path.join(datadir, 'magma', 'magma_th103_GCST001791_EFO_0004531_CV.txt'), sep='\\t', index_col=0)\n",
    "r_genes = pd.read_csv(os.path.join(datadir, 'magma', 'magma_th103_GCST001791_EFO_0004531_RV.txt'), sep='\\t', index_col=0).sort_values(by='P-value')\n",
    "c_genes.index.name=None\n",
    "r_genes.index.name=None\n",
    "c_genes = c_genes.assign(logp= c_genes['P-value'].apply(lambda x: -1 * np.log10(x + 1e-250))).sort_values(by='logp', ascending=False)\n",
    "r_genes = r_genes.assign(logp= r_genes['P-value'].apply(lambda x: -1 * np.log10(x + 1e-250))).sort_values(by='logp', ascending=False)\n"
   ]
  },
  {
   "cell_type": "code",
   "execution_count": 165,
   "metadata": {
    "ExecuteTime": {
     "end_time": "2025-01-23T18:06:09.404265Z",
     "start_time": "2025-01-23T18:06:09.401782Z"
    }
   },
   "outputs": [
    {
     "data": {
      "text/plain": [
       "19267"
      ]
     },
     "execution_count": 165,
     "metadata": {},
     "output_type": "execute_result"
    }
   ],
   "source": [
    "len(zc)"
   ]
  },
  {
   "cell_type": "code",
   "execution_count": 186,
   "metadata": {
    "ExecuteTime": {
     "end_time": "2025-01-23T18:07:26.675446Z",
     "start_time": "2025-01-23T18:07:26.672351Z"
    }
   },
   "outputs": [],
   "source": [
    "zc = zc[~zc.index.isin(c_genes.index.values)]\n",
    "zr = zr[~zr.index.isin(r_genes.index.values)]"
   ]
  },
  {
   "cell_type": "code",
   "execution_count": 187,
   "metadata": {
    "ExecuteTime": {
     "end_time": "2025-01-23T18:07:27.407000Z",
     "start_time": "2025-01-23T18:07:27.403884Z"
    }
   },
   "outputs": [],
   "source": [
    "zc['rank'] = zc.rank(ascending=False)\n",
    "zr['rank'] = zr.rank(ascending=False)"
   ]
  },
  {
   "cell_type": "code",
   "execution_count": 188,
   "metadata": {
    "ExecuteTime": {
     "end_time": "2025-01-23T18:07:29.064749Z",
     "start_time": "2025-01-23T18:07:29.061684Z"
    }
   },
   "outputs": [],
   "source": [
    "cr = zc.join(r_genes, how='inner')"
   ]
  },
  {
   "cell_type": "code",
   "execution_count": 189,
   "metadata": {
    "ExecuteTime": {
     "end_time": "2025-01-23T18:07:29.676073Z",
     "start_time": "2025-01-23T18:07:29.672208Z"
    }
   },
   "outputs": [],
   "source": [
    "cr['dg'] = cr.apply(lambda x: x.logp / (np.log2(x['rank'] + 1)), axis=1)"
   ]
  },
  {
   "cell_type": "code",
   "execution_count": 190,
   "metadata": {
    "ExecuteTime": {
     "end_time": "2025-01-23T18:07:30.221266Z",
     "start_time": "2025-01-23T18:07:30.218980Z"
    }
   },
   "outputs": [],
   "source": [
    "idcg = np.sum([x / np.log2(i+2) for i, x in enumerate(r_genes.logp.values[1:100])])"
   ]
  },
  {
   "cell_type": "code",
   "execution_count": 191,
   "metadata": {
    "ExecuteTime": {
     "end_time": "2025-01-23T18:07:30.801109Z",
     "start_time": "2025-01-23T18:07:30.797874Z"
    }
   },
   "outputs": [],
   "source": [
    "dcg = cr['dg'][1:100].sum()"
   ]
  },
  {
   "cell_type": "code",
   "execution_count": 192,
   "metadata": {
    "ExecuteTime": {
     "end_time": "2025-01-23T18:07:32.138545Z",
     "start_time": "2025-01-23T18:07:32.135762Z"
    }
   },
   "outputs": [
    {
     "data": {
      "text/plain": [
       "0.3516144996195619"
      ]
     },
     "execution_count": 192,
     "metadata": {},
     "output_type": "execute_result"
    }
   ],
   "source": [
    "dcg/idcg"
   ]
  },
  {
   "cell_type": "code",
   "execution_count": 135,
   "metadata": {
    "ExecuteTime": {
     "end_time": "2025-01-23T17:26:34.511966Z",
     "start_time": "2025-01-23T17:26:34.509270Z"
    }
   },
   "outputs": [
    {
     "data": {
      "text/plain": [
       "0.5472143547644442"
      ]
     },
     "execution_count": 135,
     "metadata": {},
     "output_type": "execute_result"
    }
   ],
   "source": [
    "4.3/np.log2(232)"
   ]
  },
  {
   "cell_type": "code",
   "execution_count": 75,
   "metadata": {
    "ExecuteTime": {
     "end_time": "2025-01-23T00:58:55.247570Z",
     "start_time": "2025-01-23T00:58:55.242141Z"
    }
   },
   "outputs": [
    {
     "data": {
      "text/html": [
       "<div>\n",
       "<style scoped>\n",
       "    .dataframe tbody tr th:only-of-type {\n",
       "        vertical-align: middle;\n",
       "    }\n",
       "\n",
       "    .dataframe tbody tr th {\n",
       "        vertical-align: top;\n",
       "    }\n",
       "\n",
       "    .dataframe thead th {\n",
       "        text-align: right;\n",
       "    }\n",
       "</style>\n",
       "<table border=\"1\" class=\"dataframe\">\n",
       "  <thead>\n",
       "    <tr style=\"text-align: right;\">\n",
       "      <th></th>\n",
       "      <th>P-value</th>\n",
       "      <th>logp</th>\n",
       "    </tr>\n",
       "  </thead>\n",
       "  <tbody>\n",
       "    <tr>\n",
       "      <th>8335</th>\n",
       "      <td>5.755600e-17</td>\n",
       "      <td>16.239909</td>\n",
       "    </tr>\n",
       "    <tr>\n",
       "      <th>8358</th>\n",
       "      <td>1.090300e-16</td>\n",
       "      <td>15.962454</td>\n",
       "    </tr>\n",
       "    <tr>\n",
       "      <th>56606</th>\n",
       "      <td>1.932000e-16</td>\n",
       "      <td>15.713993</td>\n",
       "    </tr>\n",
       "    <tr>\n",
       "      <th>55867</th>\n",
       "      <td>1.498800e-15</td>\n",
       "      <td>14.824256</td>\n",
       "    </tr>\n",
       "    <tr>\n",
       "      <th>2646</th>\n",
       "      <td>2.720000e-15</td>\n",
       "      <td>14.565431</td>\n",
       "    </tr>\n",
       "    <tr>\n",
       "      <th>...</th>\n",
       "      <td>...</td>\n",
       "      <td>...</td>\n",
       "    </tr>\n",
       "    <tr>\n",
       "      <th>29128</th>\n",
       "      <td>8.696100e-04</td>\n",
       "      <td>3.060675</td>\n",
       "    </tr>\n",
       "    <tr>\n",
       "      <th>645432</th>\n",
       "      <td>9.417300e-04</td>\n",
       "      <td>3.026074</td>\n",
       "    </tr>\n",
       "    <tr>\n",
       "      <th>83445</th>\n",
       "      <td>9.485500e-04</td>\n",
       "      <td>3.022940</td>\n",
       "    </tr>\n",
       "    <tr>\n",
       "      <th>91833</th>\n",
       "      <td>9.750400e-04</td>\n",
       "      <td>3.010978</td>\n",
       "    </tr>\n",
       "    <tr>\n",
       "      <th>6944</th>\n",
       "      <td>9.911100e-04</td>\n",
       "      <td>3.003878</td>\n",
       "    </tr>\n",
       "  </tbody>\n",
       "</table>\n",
       "<p>141 rows × 2 columns</p>\n",
       "</div>"
      ],
      "text/plain": [
       "             P-value       logp\n",
       "8335    5.755600e-17  16.239909\n",
       "8358    1.090300e-16  15.962454\n",
       "56606   1.932000e-16  15.713993\n",
       "55867   1.498800e-15  14.824256\n",
       "2646    2.720000e-15  14.565431\n",
       "...              ...        ...\n",
       "29128   8.696100e-04   3.060675\n",
       "645432  9.417300e-04   3.026074\n",
       "83445   9.485500e-04   3.022940\n",
       "91833   9.750400e-04   3.010978\n",
       "6944    9.911100e-04   3.003878\n",
       "\n",
       "[141 rows x 2 columns]"
      ]
     },
     "execution_count": 75,
     "metadata": {},
     "output_type": "execute_result"
    }
   ],
   "source": [
    "def ndcg(scores, weights)"
   ]
  },
  {
   "cell_type": "markdown",
   "metadata": {},
   "source": [
    "### calculate NDCG"
   ]
  },
  {
   "cell_type": "markdown",
   "metadata": {},
   "source": [
    "### calculate AUPRC"
   ]
  },
  {
   "cell_type": "code",
   "execution_count": null,
   "metadata": {},
   "outputs": [],
   "source": []
  }
 ],
 "metadata": {
  "kernelspec": {
   "display_name": "Python (CARVA)",
   "language": "python",
   "name": "carva"
  },
  "language_info": {
   "codemirror_mode": {
    "name": "ipython",
    "version": 3
   },
   "file_extension": ".py",
   "mimetype": "text/x-python",
   "name": "python",
   "nbconvert_exporter": "python",
   "pygments_lexer": "ipython3",
   "version": "3.10.0"
  },
  "toc": {
   "base_numbering": 1,
   "nav_menu": {},
   "number_sections": true,
   "sideBar": true,
   "skip_h1_title": false,
   "title_cell": "Table of Contents",
   "title_sidebar": "Contents",
   "toc_cell": false,
   "toc_position": {},
   "toc_section_display": true,
   "toc_window_display": false
  },
  "varInspector": {
   "cols": {
    "lenName": 16,
    "lenType": 16,
    "lenVar": 40
   },
   "kernels_config": {
    "python": {
     "delete_cmd_postfix": "",
     "delete_cmd_prefix": "del ",
     "library": "var_list.py",
     "varRefreshCmd": "print(var_dic_list())"
    },
    "r": {
     "delete_cmd_postfix": ") ",
     "delete_cmd_prefix": "rm(",
     "library": "var_list.r",
     "varRefreshCmd": "cat(var_dic_list()) "
    }
   },
   "types_to_exclude": [
    "module",
    "function",
    "builtin_function_or_method",
    "instance",
    "_Feature"
   ],
   "window_display": false
  }
 },
 "nbformat": 4,
 "nbformat_minor": 2
}
