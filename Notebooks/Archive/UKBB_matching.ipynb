{
 "cells": [
  {
   "cell_type": "code",
   "execution_count": 27,
   "metadata": {
    "ExecuteTime": {
     "end_time": "2025-03-21T18:04:36.798544Z",
     "start_time": "2025-03-21T18:04:36.796660Z"
    }
   },
   "outputs": [],
   "source": [
    "import pandas as pd\n",
    "import numpy as np\n",
    "import seaborn as sns\n",
    "import os"
   ]
  },
  {
   "cell_type": "code",
   "execution_count": 28,
   "metadata": {
    "ExecuteTime": {
     "end_time": "2025-03-21T18:04:37.262255Z",
     "start_time": "2025-03-21T18:04:37.260472Z"
    }
   },
   "outputs": [],
   "source": [
    "datadir = '/cellar/users/snwright/Data/RareCommon/GWASAtlas'"
   ]
  },
  {
   "cell_type": "code",
   "execution_count": 29,
   "metadata": {
    "ExecuteTime": {
     "end_time": "2025-03-21T18:04:37.678507Z",
     "start_time": "2025-03-21T18:04:37.639671Z"
    }
   },
   "outputs": [
    {
     "data": {
      "text/plain": [
       "327"
      ]
     },
     "execution_count": 29,
     "metadata": {},
     "output_type": "execute_result"
    }
   ],
   "source": [
    "overlap = set(info['PMID'].astype(str).unique()).intersection(set(cat_info['PUBMED ID'].astype(str).unique()))\n",
    "len(overlap)"
   ]
  },
  {
   "cell_type": "code",
   "execution_count": 30,
   "metadata": {
    "ExecuteTime": {
     "end_time": "2025-03-21T18:04:38.198080Z",
     "start_time": "2025-03-21T18:04:38.192675Z"
    }
   },
   "outputs": [],
   "source": [
    "a = cat_info[cat_info['PUBMED ID'].isin([int(x) for x in overlap])]"
   ]
  },
  {
   "cell_type": "code",
   "execution_count": 31,
   "metadata": {
    "ExecuteTime": {
     "end_time": "2025-03-21T18:04:38.693267Z",
     "start_time": "2025-03-21T18:04:38.689264Z"
    }
   },
   "outputs": [],
   "source": [
    "b = info[info['PMID'].isin([str(x) for x in overlap])]"
   ]
  },
  {
   "cell_type": "markdown",
   "metadata": {},
   "source": [
    "## GWASAtlas"
   ]
  },
  {
   "cell_type": "code",
   "execution_count": 32,
   "metadata": {
    "ExecuteTime": {
     "end_time": "2025-03-21T18:04:39.625343Z",
     "start_time": "2025-03-21T18:04:39.583408Z"
    }
   },
   "outputs": [],
   "source": [
    "info = pd.read_csv(os.path.join(datadir, 'gwasATLAS_v20191115.txt.gz' ), sep='\\t', low_memory=False, index_col=0)\n",
    "info.shape\n",
    "info['ga_idx'] = [x for x in range(len(info))]"
   ]
  },
  {
   "cell_type": "code",
   "execution_count": 33,
   "metadata": {
    "ExecuteTime": {
     "end_time": "2025-03-21T18:04:40.339112Z",
     "start_time": "2025-03-21T18:04:40.335556Z"
    }
   },
   "outputs": [
    {
     "data": {
      "text/plain": [
       "PMID                                                         27494321\n",
       "Year                                                             2016\n",
       "File                http://www.t2diabetesgenes.org/datasets/Chrono...\n",
       "Website                          http://www.t2diabetesgenes.org/data/\n",
       "Consortium                                                  T2D-GENES\n",
       "Domain                                                    Psychiatric\n",
       "ChapterLevel                                         Mental Functions\n",
       "SubchapterLevel                                       Sleep Functions\n",
       "Trait                                                      Chronotype\n",
       "uniqTrait                                                  Chronotype\n",
       "Population                                                 UKB1 (EUR)\n",
       "Ncase                                                             NaN\n",
       "Ncontrol                                                          NaN\n",
       "N                                                              128266\n",
       "Genome                                                           hg19\n",
       "Nsnps                                                        17032430\n",
       "Nhits                                                              12\n",
       "SNPh2                                                           0.101\n",
       "SNPh2_se                                                       0.0059\n",
       "SNPh2_z                                                     17.118644\n",
       "SNPh2_l                                                           NaN\n",
       "SNPh2_l_se                                                        NaN\n",
       "LambdaGC                                                       1.2005\n",
       "Chi2                                                           1.2657\n",
       "Intercept                                                      1.0152\n",
       "Note                                               UK Biobank cohort.\n",
       "DateAdded                                                  2017-07-10\n",
       "DateLastModified                                           2017-07-10\n",
       "ga_idx                                                           1140\n",
       "Name: 1141, dtype: object"
      ]
     },
     "execution_count": 33,
     "metadata": {},
     "output_type": "execute_result"
    }
   ],
   "source": [
    "info.loc[1141]"
   ]
  },
  {
   "cell_type": "code",
   "execution_count": 34,
   "metadata": {
    "ExecuteTime": {
     "end_time": "2025-03-21T18:04:41.242916Z",
     "start_time": "2025-03-21T18:04:41.236593Z"
    },
    "scrolled": true
   },
   "outputs": [
    {
     "name": "stdout",
     "output_type": "stream",
     "text": [
      "Unique domains: 28\n",
      "Unique chapters: 55\n",
      "Unique subchapters: 209\n",
      "Unique traits: 4363\n",
      "Unique UniqTraits: 3307\n",
      "Unique PMID: 473\n",
      "Unique Consortium: 40\n",
      "Unique Populations: 34\n"
     ]
    }
   ],
   "source": [
    "print(f'Unique domains: {info.Domain.nunique()}')\n",
    "print(f'Unique chapters: {info.ChapterLevel.nunique()}')\n",
    "print(f'Unique subchapters: {info.SubchapterLevel.nunique()}')\n",
    "print(f'Unique traits: {info.Trait.nunique()}')\n",
    "print(f'Unique UniqTraits: {info.uniqTrait.nunique()}')\n",
    "print(f'Unique PMID: {info.PMID.nunique()}')\n",
    "print(f'Unique Consortium: {info.Consortium.nunique()}')\n",
    "print(f'Unique Populations: {info.Population.nunique()}')"
   ]
  },
  {
   "cell_type": "code",
   "execution_count": 35,
   "metadata": {
    "ExecuteTime": {
     "end_time": "2025-03-21T18:04:41.894332Z",
     "start_time": "2025-03-21T18:04:41.892533Z"
    }
   },
   "outputs": [],
   "source": [
    "ukb_ids = ['UKB2 (EUR)', 'UKB1 (EUR)']"
   ]
  },
  {
   "cell_type": "code",
   "execution_count": 36,
   "metadata": {
    "ExecuteTime": {
     "end_time": "2025-03-21T18:04:42.607737Z",
     "start_time": "2025-03-21T18:04:42.603852Z"
    }
   },
   "outputs": [],
   "source": [
    "ukb_info = info[info.Population.isin(ukb_ids)]"
   ]
  },
  {
   "cell_type": "code",
   "execution_count": 37,
   "metadata": {
    "ExecuteTime": {
     "end_time": "2025-03-21T18:04:43.283496Z",
     "start_time": "2025-03-21T18:04:43.279677Z"
    }
   },
   "outputs": [
    {
     "name": "stdout",
     "output_type": "stream",
     "text": [
      "Unique domains: 24\n",
      "Unique chapters: 42\n",
      "Unique subchapters: 116\n",
      "Unique traits: 961\n",
      "Unique UniqTraits: 865\n",
      "Unique PMID: 159\n",
      "Unique Consortium: 5\n",
      "Unique Populations: 2\n"
     ]
    }
   ],
   "source": [
    "print(f'Unique domains: {ukb_info.Domain.nunique()}')\n",
    "print(f'Unique chapters: {ukb_info.ChapterLevel.nunique()}')\n",
    "print(f'Unique subchapters: {ukb_info.SubchapterLevel.nunique()}')\n",
    "print(f'Unique traits: {ukb_info.Trait.nunique()}')\n",
    "print(f'Unique UniqTraits: {ukb_info.uniqTrait.nunique()}')\n",
    "print(f'Unique PMID: {ukb_info.PMID.nunique()}')\n",
    "print(f'Unique Consortium: {ukb_info.Consortium.nunique()}')\n",
    "print(f'Unique Populations: {ukb_info.Population.nunique()}')"
   ]
  },
  {
   "cell_type": "code",
   "execution_count": 38,
   "metadata": {
    "ExecuteTime": {
     "end_time": "2025-03-21T18:04:49.048572Z",
     "start_time": "2025-03-21T18:04:49.045071Z"
    }
   },
   "outputs": [],
   "source": [
    "# remove any with missing N\n",
    "ukb_info = ukb_info[~ukb_info.N.isna()]\n",
    "#restrict to those with at least 3 hits\n",
    "ukb_info = ukb_info[ukb_info.Nhits >= 3]\n",
    "# remove any with missing Genome information\n",
    "ukb_info = ukb_info[~ukb_info.Genome.isna()]"
   ]
  },
  {
   "cell_type": "code",
   "execution_count": 39,
   "metadata": {
    "ExecuteTime": {
     "end_time": "2025-03-21T18:04:50.322943Z",
     "start_time": "2025-03-21T18:04:50.319222Z"
    }
   },
   "outputs": [],
   "source": [
    "def extract_phecode(s):\n",
    "    if isinstance(s, str):\n",
    "        parts = [x for x in s.split('. ')]\n",
    "        for p in parts:\n",
    "            if 'UKB phenotype field' in p:\n",
    "                return p.split(': ')[-1].split(' (')[0]\n",
    "        else:\n",
    "            return np.nan\n",
    "    else:\n",
    "        return np.nan"
   ]
  },
  {
   "cell_type": "code",
   "execution_count": 40,
   "metadata": {
    "ExecuteTime": {
     "end_time": "2025-03-21T18:04:50.751126Z",
     "start_time": "2025-03-21T18:04:50.748456Z"
    }
   },
   "outputs": [],
   "source": [
    "# extract ukb_phecodes where available in notes\n",
    "ukb_info['phecode'] = ukb_info.Note.apply(lambda x: extract_phecode(x))"
   ]
  },
  {
   "cell_type": "code",
   "execution_count": 41,
   "metadata": {
    "ExecuteTime": {
     "end_time": "2025-03-21T18:04:51.545623Z",
     "start_time": "2025-03-21T18:04:51.540758Z"
    }
   },
   "outputs": [
    {
     "data": {
      "text/plain": [
       "phecode\n",
       "48       1\n",
       "3849     1\n",
       "4080     1\n",
       "4290     1\n",
       "4291     1\n",
       "        ..\n",
       "1628     1\n",
       "1687     1\n",
       "1697     1\n",
       "1707     1\n",
       "20525    1\n",
       "Name: count, Length: 214, dtype: int64"
      ]
     },
     "execution_count": 41,
     "metadata": {},
     "output_type": "execute_result"
    }
   ],
   "source": [
    "ukb_info['phecode'].value_counts()"
   ]
  },
  {
   "cell_type": "markdown",
   "metadata": {},
   "source": [
    "Notes field: (need to figure out how to extract)\n",
    "\n",
    "- 'Population prevalence:'\n",
    "- 'Case-control GWAS.'\n",
    "- 'Factor score GWAS.'\n",
    "- 'Quantitative phenotype'\n",
    "- 'Dichotomized phetnotype'"
   ]
  },
  {
   "cell_type": "code",
   "execution_count": 43,
   "metadata": {
    "ExecuteTime": {
     "end_time": "2025-03-21T18:05:00.114939Z",
     "start_time": "2025-03-21T18:05:00.108213Z"
    }
   },
   "outputs": [
    {
     "data": {
      "text/plain": [
       "Consortium          90.664424\n",
       "SNPh2_l_se          87.510513\n",
       "SNPh2_l             87.510513\n",
       "Ncase               84.377628\n",
       "Ncontrol            84.377628\n",
       "SNPh2               52.460050\n",
       "Intercept           52.460050\n",
       "Chi2                52.460050\n",
       "LambdaGC            52.460050\n",
       "SNPh2_z             52.460050\n",
       "SNPh2_se            52.460050\n",
       "Note                 9.188394\n",
       "Website              1.619008\n",
       "Genome               0.315391\n",
       "DateLastModified     0.000000\n",
       "DateAdded            0.000000\n",
       "PMID                 0.000000\n",
       "Nhits                0.000000\n",
       "Nsnps                0.000000\n",
       "Year                 0.000000\n",
       "N                    0.000000\n",
       "Population           0.000000\n",
       "uniqTrait            0.000000\n",
       "Trait                0.000000\n",
       "SubchapterLevel      0.000000\n",
       "ChapterLevel         0.000000\n",
       "Domain               0.000000\n",
       "File                 0.000000\n",
       "ga_idx               0.000000\n",
       "dtype: float64"
      ]
     },
     "execution_count": 43,
     "metadata": {},
     "output_type": "execute_result"
    }
   ],
   "source": [
    "# percent missing values\n",
    "(info.isna().sum()/len(info)).sort_values(ascending=False) * 100"
   ]
  },
  {
   "cell_type": "code",
   "execution_count": 44,
   "metadata": {
    "ExecuteTime": {
     "end_time": "2025-03-21T18:05:01.387911Z",
     "start_time": "2025-03-21T18:05:01.384288Z"
    }
   },
   "outputs": [],
   "source": [
    "ukb_info['Trait'] = ukb_info['Trait'].apply(lambda x: x.lower())\n",
    "ukb_info['uniqTrait'] = ukb_info['uniqTrait'].apply(lambda x: x.lower())"
   ]
  },
  {
   "cell_type": "markdown",
   "metadata": {},
   "source": [
    "## Genebass"
   ]
  },
  {
   "cell_type": "code",
   "execution_count": 45,
   "metadata": {
    "ExecuteTime": {
     "end_time": "2025-03-21T18:05:03.461346Z",
     "start_time": "2025-03-21T18:05:03.419206Z"
    }
   },
   "outputs": [],
   "source": [
    "phenos = pd.read_csv(os.path.join(datadir,'../GeneBASS/', 'genebass_pheno_df_full.txt'), sep='\\t', index_col=0)\n",
    "phenos['description'] = phenos['description'].apply(lambda z: z.lower() if isinstance(z, str) else np.nan)\n",
    "phenos['coding_description'] = phenos['coding_description'].apply(lambda z: z.lower() if isinstance(z, str) else np.nan)\n",
    "phenos['n_controls'] = phenos['n_controls'].fillna(0)\n",
    "phenos['N'] = phenos['n_cases'] + phenos['n_controls']\n",
    "phenos['gb_idx'] = [x for x in range(len(phenos))]"
   ]
  },
  {
   "cell_type": "code",
   "execution_count": 46,
   "metadata": {
    "ExecuteTime": {
     "end_time": "2025-03-21T18:05:03.942211Z",
     "start_time": "2025-03-21T18:05:03.939486Z"
    }
   },
   "outputs": [
    {
     "data": {
      "text/plain": [
       "4529"
      ]
     },
     "execution_count": 46,
     "metadata": {},
     "output_type": "execute_result"
    }
   ],
   "source": [
    "len(phenos)"
   ]
  },
  {
   "cell_type": "code",
   "execution_count": null,
   "metadata": {
    "ExecuteTime": {
     "end_time": "2025-03-12T16:55:44.313096Z",
     "start_time": "2025-03-12T16:55:44.309494Z"
    }
   },
   "outputs": [],
   "source": []
  },
  {
   "cell_type": "code",
   "execution_count": 47,
   "metadata": {
    "ExecuteTime": {
     "end_time": "2025-03-21T18:05:04.904323Z",
     "start_time": "2025-03-21T18:05:04.899977Z"
    }
   },
   "outputs": [],
   "source": [
    "phenos = phenos.dropna(subset='N')"
   ]
  },
  {
   "cell_type": "code",
   "execution_count": 48,
   "metadata": {
    "ExecuteTime": {
     "end_time": "2025-03-21T18:05:05.359309Z",
     "start_time": "2025-03-21T18:05:05.355647Z"
    }
   },
   "outputs": [],
   "source": [
    "phenos=phenos.sort_values(by='N', ascending=False)"
   ]
  },
  {
   "cell_type": "code",
   "execution_count": 49,
   "metadata": {
    "ExecuteTime": {
     "end_time": "2025-03-21T18:05:05.854122Z",
     "start_time": "2025-03-21T18:05:05.847543Z"
    }
   },
   "outputs": [
    {
     "data": {
      "text/plain": [
       "0"
      ]
     },
     "execution_count": 49,
     "metadata": {},
     "output_type": "execute_result"
    }
   ],
   "source": [
    "matches1 = phenos.merge(info, left_on='description', right_on='Trait', how='inner')\n",
    "len(matches1)"
   ]
  },
  {
   "cell_type": "code",
   "execution_count": 50,
   "metadata": {
    "ExecuteTime": {
     "end_time": "2025-03-21T18:05:06.346192Z",
     "start_time": "2025-03-21T18:05:06.344424Z"
    }
   },
   "outputs": [],
   "source": [
    "matched_ids = list(matches1.gb_idx.values)"
   ]
  },
  {
   "cell_type": "code",
   "execution_count": 51,
   "metadata": {
    "ExecuteTime": {
     "end_time": "2025-03-21T18:05:06.974806Z",
     "start_time": "2025-03-21T18:05:06.968092Z"
    }
   },
   "outputs": [
    {
     "data": {
      "text/plain": [
       "0"
      ]
     },
     "execution_count": 51,
     "metadata": {},
     "output_type": "execute_result"
    }
   ],
   "source": [
    "matches2 = phenos[~phenos.gb_idx.isin(matched_ids)].merge(info, left_on='description', right_on='uniqTrait', how='inner')\n",
    "len(matches2)"
   ]
  },
  {
   "cell_type": "code",
   "execution_count": 52,
   "metadata": {
    "ExecuteTime": {
     "end_time": "2025-03-21T18:05:08.001456Z",
     "start_time": "2025-03-21T18:05:07.999496Z"
    }
   },
   "outputs": [],
   "source": [
    "matched_ids += list(matches2.gb_idx.values)"
   ]
  },
  {
   "cell_type": "code",
   "execution_count": 53,
   "metadata": {
    "ExecuteTime": {
     "end_time": "2025-03-21T18:05:08.482251Z",
     "start_time": "2025-03-21T18:05:08.475994Z"
    }
   },
   "outputs": [
    {
     "data": {
      "text/plain": [
       "0"
      ]
     },
     "execution_count": 53,
     "metadata": {},
     "output_type": "execute_result"
    }
   ],
   "source": [
    "matches3 = phenos[~phenos.gb_idx.isin(matched_ids)].merge(info, left_on='coding_description', right_on='Trait', how='inner')\n",
    "len(matches3)"
   ]
  },
  {
   "cell_type": "code",
   "execution_count": 54,
   "metadata": {
    "ExecuteTime": {
     "end_time": "2025-03-21T18:05:08.733300Z",
     "start_time": "2025-03-21T18:05:08.731301Z"
    }
   },
   "outputs": [],
   "source": [
    "matched_ids += list(matches3.gb_idx.values)"
   ]
  },
  {
   "cell_type": "code",
   "execution_count": 55,
   "metadata": {
    "ExecuteTime": {
     "end_time": "2025-03-21T18:05:08.980121Z",
     "start_time": "2025-03-21T18:05:08.972465Z"
    }
   },
   "outputs": [
    {
     "data": {
      "text/plain": [
       "0"
      ]
     },
     "execution_count": 55,
     "metadata": {},
     "output_type": "execute_result"
    }
   ],
   "source": [
    "matches4 = phenos[~phenos.gb_idx.isin(matched_ids)].merge(info, left_on='coding_description', right_on='uniqTrait', how='inner')\n",
    "len(matches4)"
   ]
  },
  {
   "cell_type": "code",
   "execution_count": 56,
   "metadata": {
    "ExecuteTime": {
     "end_time": "2025-03-21T18:05:09.215204Z",
     "start_time": "2025-03-21T18:05:09.210660Z"
    }
   },
   "outputs": [],
   "source": [
    "all_matches = pd.concat([matches1, matches2, matches3, matches4])"
   ]
  },
  {
   "cell_type": "code",
   "execution_count": 57,
   "metadata": {
    "ExecuteTime": {
     "end_time": "2025-03-21T18:05:09.775575Z",
     "start_time": "2025-03-21T18:05:09.772905Z"
    }
   },
   "outputs": [
    {
     "data": {
      "text/plain": [
       "0"
      ]
     },
     "execution_count": 57,
     "metadata": {},
     "output_type": "execute_result"
    }
   ],
   "source": [
    "len(set(matched_ids))"
   ]
  },
  {
   "cell_type": "code",
   "execution_count": 58,
   "metadata": {
    "ExecuteTime": {
     "end_time": "2025-03-21T18:05:10.087877Z",
     "start_time": "2025-03-21T18:05:10.075442Z"
    }
   },
   "outputs": [
    {
     "data": {
      "text/html": [
       "<div>\n",
       "<style scoped>\n",
       "    .dataframe tbody tr th:only-of-type {\n",
       "        vertical-align: middle;\n",
       "    }\n",
       "\n",
       "    .dataframe tbody tr th {\n",
       "        vertical-align: top;\n",
       "    }\n",
       "\n",
       "    .dataframe thead th {\n",
       "        text-align: right;\n",
       "    }\n",
       "</style>\n",
       "<table border=\"1\" class=\"dataframe\">\n",
       "  <thead>\n",
       "    <tr style=\"text-align: right;\">\n",
       "      <th></th>\n",
       "      <th>n_cases</th>\n",
       "      <th>n_controls</th>\n",
       "      <th>heritability</th>\n",
       "      <th>saige_version</th>\n",
       "      <th>inv_normalized</th>\n",
       "      <th>trait_type</th>\n",
       "      <th>phenocode</th>\n",
       "      <th>pheno_sex</th>\n",
       "      <th>coding</th>\n",
       "      <th>modifier</th>\n",
       "      <th>n_cases_defined</th>\n",
       "      <th>n_cases_both_sexes</th>\n",
       "      <th>n_cases_females</th>\n",
       "      <th>n_cases_males</th>\n",
       "      <th>description</th>\n",
       "      <th>description_more</th>\n",
       "      <th>coding_description</th>\n",
       "      <th>category</th>\n",
       "      <th>N</th>\n",
       "      <th>gb_idx</th>\n",
       "    </tr>\n",
       "  </thead>\n",
       "  <tbody>\n",
       "    <tr>\n",
       "      <th>2264</th>\n",
       "      <td>30511</td>\n",
       "      <td>364330.0</td>\n",
       "      <td>0.012857</td>\n",
       "      <td>SAIGE_0.44.5</td>\n",
       "      <td>False</td>\n",
       "      <td>categorical</td>\n",
       "      <td>41210</td>\n",
       "      <td>both_sexes</td>\n",
       "      <td>Z274</td>\n",
       "      <td>NaN</td>\n",
       "      <td>37861</td>\n",
       "      <td>39028</td>\n",
       "      <td>22428</td>\n",
       "      <td>15433</td>\n",
       "      <td>operative procedures - secondary opcs4</td>\n",
       "      <td>This field is a summary of the secondary opera...</td>\n",
       "      <td>z27.4 duodenum</td>\n",
       "      <td>Health-related outcomes &gt; Hospital inpatient &gt;...</td>\n",
       "      <td>394841.0</td>\n",
       "      <td>2264</td>\n",
       "    </tr>\n",
       "    <tr>\n",
       "      <th>2084</th>\n",
       "      <td>1111</td>\n",
       "      <td>393730.0</td>\n",
       "      <td>0.077249</td>\n",
       "      <td>SAIGE_0.44.5</td>\n",
       "      <td>False</td>\n",
       "      <td>categorical</td>\n",
       "      <td>41210</td>\n",
       "      <td>both_sexes</td>\n",
       "      <td>X851</td>\n",
       "      <td>NaN</td>\n",
       "      <td>1368</td>\n",
       "      <td>1422</td>\n",
       "      <td>891</td>\n",
       "      <td>477</td>\n",
       "      <td>operative procedures - secondary opcs4</td>\n",
       "      <td>This field is a summary of the secondary opera...</td>\n",
       "      <td>x85.1 torsion dystonias and other involuntary ...</td>\n",
       "      <td>Health-related outcomes &gt; Hospital inpatient &gt;...</td>\n",
       "      <td>394841.0</td>\n",
       "      <td>2084</td>\n",
       "    </tr>\n",
       "    <tr>\n",
       "      <th>2075</th>\n",
       "      <td>163</td>\n",
       "      <td>394678.0</td>\n",
       "      <td>0.122562</td>\n",
       "      <td>SAIGE_0.44.5</td>\n",
       "      <td>False</td>\n",
       "      <td>categorical</td>\n",
       "      <td>41210</td>\n",
       "      <td>both_sexes</td>\n",
       "      <td>X713</td>\n",
       "      <td>NaN</td>\n",
       "      <td>212</td>\n",
       "      <td>219</td>\n",
       "      <td>162</td>\n",
       "      <td>50</td>\n",
       "      <td>operative procedures - secondary opcs4</td>\n",
       "      <td>This field is a summary of the secondary opera...</td>\n",
       "      <td>x71.3 procurement of drugs for chemotherapy fo...</td>\n",
       "      <td>Health-related outcomes &gt; Hospital inpatient &gt;...</td>\n",
       "      <td>394841.0</td>\n",
       "      <td>2075</td>\n",
       "    </tr>\n",
       "    <tr>\n",
       "      <th>2076</th>\n",
       "      <td>178</td>\n",
       "      <td>394663.0</td>\n",
       "      <td>0.000000</td>\n",
       "      <td>SAIGE_0.44.5</td>\n",
       "      <td>False</td>\n",
       "      <td>categorical</td>\n",
       "      <td>41210</td>\n",
       "      <td>both_sexes</td>\n",
       "      <td>X715</td>\n",
       "      <td>NaN</td>\n",
       "      <td>234</td>\n",
       "      <td>245</td>\n",
       "      <td>135</td>\n",
       "      <td>99</td>\n",
       "      <td>operative procedures - secondary opcs4</td>\n",
       "      <td>This field is a summary of the secondary opera...</td>\n",
       "      <td>x71.5 procurement of drugs for chemotherapy fo...</td>\n",
       "      <td>Health-related outcomes &gt; Hospital inpatient &gt;...</td>\n",
       "      <td>394841.0</td>\n",
       "      <td>2076</td>\n",
       "    </tr>\n",
       "    <tr>\n",
       "      <th>2077</th>\n",
       "      <td>3360</td>\n",
       "      <td>391481.0</td>\n",
       "      <td>0.034723</td>\n",
       "      <td>SAIGE_0.44.5</td>\n",
       "      <td>False</td>\n",
       "      <td>categorical</td>\n",
       "      <td>41210</td>\n",
       "      <td>both_sexes</td>\n",
       "      <td>X721</td>\n",
       "      <td>NaN</td>\n",
       "      <td>4092</td>\n",
       "      <td>4278</td>\n",
       "      <td>2344</td>\n",
       "      <td>1748</td>\n",
       "      <td>operative procedures - secondary opcs4</td>\n",
       "      <td>This field is a summary of the secondary opera...</td>\n",
       "      <td>x72.1 delivery of complex chemotherapy for neo...</td>\n",
       "      <td>Health-related outcomes &gt; Hospital inpatient &gt;...</td>\n",
       "      <td>394841.0</td>\n",
       "      <td>2077</td>\n",
       "    </tr>\n",
       "    <tr>\n",
       "      <th>...</th>\n",
       "      <td>...</td>\n",
       "      <td>...</td>\n",
       "      <td>...</td>\n",
       "      <td>...</td>\n",
       "      <td>...</td>\n",
       "      <td>...</td>\n",
       "      <td>...</td>\n",
       "      <td>...</td>\n",
       "      <td>...</td>\n",
       "      <td>...</td>\n",
       "      <td>...</td>\n",
       "      <td>...</td>\n",
       "      <td>...</td>\n",
       "      <td>...</td>\n",
       "      <td>...</td>\n",
       "      <td>...</td>\n",
       "      <td>...</td>\n",
       "      <td>...</td>\n",
       "      <td>...</td>\n",
       "      <td>...</td>\n",
       "    </tr>\n",
       "    <tr>\n",
       "      <th>2531</th>\n",
       "      <td>312</td>\n",
       "      <td>3992.0</td>\n",
       "      <td>0.000000</td>\n",
       "      <td>SAIGE_0.44.5</td>\n",
       "      <td>False</td>\n",
       "      <td>categorical</td>\n",
       "      <td>IBDColectomy_custom</td>\n",
       "      <td>both_sexes</td>\n",
       "      <td>NaN</td>\n",
       "      <td>custom</td>\n",
       "      <td>361</td>\n",
       "      <td>372</td>\n",
       "      <td>159</td>\n",
       "      <td>202</td>\n",
       "      <td>definition of colectomy related to ibd</td>\n",
       "      <td>Gastrointestinal</td>\n",
       "      <td>NaN</td>\n",
       "      <td>Autoimmune/inflammatory</td>\n",
       "      <td>4304.0</td>\n",
       "      <td>2531</td>\n",
       "    </tr>\n",
       "    <tr>\n",
       "      <th>879</th>\n",
       "      <td>1273</td>\n",
       "      <td>1620.0</td>\n",
       "      <td>0.024376</td>\n",
       "      <td>SAIGE_0.44.5</td>\n",
       "      <td>False</td>\n",
       "      <td>categorical</td>\n",
       "      <td>20415</td>\n",
       "      <td>both_sexes</td>\n",
       "      <td>NaN</td>\n",
       "      <td>NaN</td>\n",
       "      <td>1502</td>\n",
       "      <td>1536</td>\n",
       "      <td>660</td>\n",
       "      <td>842</td>\n",
       "      <td>ongoing addiction to alcohol</td>\n",
       "      <td>Question asked: \"Is this addiction ongoing?\"  ...</td>\n",
       "      <td>NaN</td>\n",
       "      <td>Online follow-up &gt; Mental health &gt; Addictions</td>\n",
       "      <td>2893.0</td>\n",
       "      <td>879</td>\n",
       "    </tr>\n",
       "    <tr>\n",
       "      <th>877</th>\n",
       "      <td>786</td>\n",
       "      <td>2016.0</td>\n",
       "      <td>0.008833</td>\n",
       "      <td>SAIGE_0.44.5</td>\n",
       "      <td>False</td>\n",
       "      <td>categorical</td>\n",
       "      <td>20404</td>\n",
       "      <td>both_sexes</td>\n",
       "      <td>NaN</td>\n",
       "      <td>NaN</td>\n",
       "      <td>926</td>\n",
       "      <td>946</td>\n",
       "      <td>308</td>\n",
       "      <td>618</td>\n",
       "      <td>ever physically dependent on alcohol</td>\n",
       "      <td>Question asked: \"Have you been physically depe...</td>\n",
       "      <td>NaN</td>\n",
       "      <td>Online follow-up &gt; Mental health &gt; Addictions</td>\n",
       "      <td>2802.0</td>\n",
       "      <td>877</td>\n",
       "    </tr>\n",
       "    <tr>\n",
       "      <th>869</th>\n",
       "      <td>535</td>\n",
       "      <td>604.0</td>\n",
       "      <td>0.031158</td>\n",
       "      <td>SAIGE_0.44.5</td>\n",
       "      <td>False</td>\n",
       "      <td>categorical</td>\n",
       "      <td>20122</td>\n",
       "      <td>both_sexes</td>\n",
       "      <td>NaN</td>\n",
       "      <td>NaN</td>\n",
       "      <td>772</td>\n",
       "      <td>807</td>\n",
       "      <td>365</td>\n",
       "      <td>407</td>\n",
       "      <td>bipolar disorder status</td>\n",
       "      <td>This derived data field has come from Professo...</td>\n",
       "      <td>NaN</td>\n",
       "      <td>UK Biobank Assessment Centre &gt; Touchscreen &gt; P...</td>\n",
       "      <td>1139.0</td>\n",
       "      <td>869</td>\n",
       "    </tr>\n",
       "    <tr>\n",
       "      <th>897</th>\n",
       "      <td>443</td>\n",
       "      <td>605.0</td>\n",
       "      <td>0.046638</td>\n",
       "      <td>SAIGE_0.44.5</td>\n",
       "      <td>False</td>\n",
       "      <td>categorical</td>\n",
       "      <td>20504</td>\n",
       "      <td>both_sexes</td>\n",
       "      <td>NaN</td>\n",
       "      <td>NaN</td>\n",
       "      <td>539</td>\n",
       "      <td>550</td>\n",
       "      <td>312</td>\n",
       "      <td>227</td>\n",
       "      <td>ongoing addiction or dependence to over-the-co...</td>\n",
       "      <td>Question asked: \"Is this addiction or dependen...</td>\n",
       "      <td>NaN</td>\n",
       "      <td>Online follow-up &gt; Mental health &gt; Addictions</td>\n",
       "      <td>1048.0</td>\n",
       "      <td>897</td>\n",
       "    </tr>\n",
       "  </tbody>\n",
       "</table>\n",
       "<p>4529 rows × 20 columns</p>\n",
       "</div>"
      ],
      "text/plain": [
       "      n_cases  n_controls  heritability saige_version  inv_normalized  \\\n",
       "2264    30511    364330.0      0.012857  SAIGE_0.44.5           False   \n",
       "2084     1111    393730.0      0.077249  SAIGE_0.44.5           False   \n",
       "2075      163    394678.0      0.122562  SAIGE_0.44.5           False   \n",
       "2076      178    394663.0      0.000000  SAIGE_0.44.5           False   \n",
       "2077     3360    391481.0      0.034723  SAIGE_0.44.5           False   \n",
       "...       ...         ...           ...           ...             ...   \n",
       "2531      312      3992.0      0.000000  SAIGE_0.44.5           False   \n",
       "879      1273      1620.0      0.024376  SAIGE_0.44.5           False   \n",
       "877       786      2016.0      0.008833  SAIGE_0.44.5           False   \n",
       "869       535       604.0      0.031158  SAIGE_0.44.5           False   \n",
       "897       443       605.0      0.046638  SAIGE_0.44.5           False   \n",
       "\n",
       "       trait_type            phenocode   pheno_sex coding modifier  \\\n",
       "2264  categorical                41210  both_sexes   Z274      NaN   \n",
       "2084  categorical                41210  both_sexes   X851      NaN   \n",
       "2075  categorical                41210  both_sexes   X713      NaN   \n",
       "2076  categorical                41210  both_sexes   X715      NaN   \n",
       "2077  categorical                41210  both_sexes   X721      NaN   \n",
       "...           ...                  ...         ...    ...      ...   \n",
       "2531  categorical  IBDColectomy_custom  both_sexes    NaN   custom   \n",
       "879   categorical                20415  both_sexes    NaN      NaN   \n",
       "877   categorical                20404  both_sexes    NaN      NaN   \n",
       "869   categorical                20122  both_sexes    NaN      NaN   \n",
       "897   categorical                20504  both_sexes    NaN      NaN   \n",
       "\n",
       "      n_cases_defined  n_cases_both_sexes  n_cases_females  n_cases_males  \\\n",
       "2264            37861               39028            22428          15433   \n",
       "2084             1368                1422              891            477   \n",
       "2075              212                 219              162             50   \n",
       "2076              234                 245              135             99   \n",
       "2077             4092                4278             2344           1748   \n",
       "...               ...                 ...              ...            ...   \n",
       "2531              361                 372              159            202   \n",
       "879              1502                1536              660            842   \n",
       "877               926                 946              308            618   \n",
       "869               772                 807              365            407   \n",
       "897               539                 550              312            227   \n",
       "\n",
       "                                            description  \\\n",
       "2264             operative procedures - secondary opcs4   \n",
       "2084             operative procedures - secondary opcs4   \n",
       "2075             operative procedures - secondary opcs4   \n",
       "2076             operative procedures - secondary opcs4   \n",
       "2077             operative procedures - secondary opcs4   \n",
       "...                                                 ...   \n",
       "2531             definition of colectomy related to ibd   \n",
       "879                        ongoing addiction to alcohol   \n",
       "877                ever physically dependent on alcohol   \n",
       "869                             bipolar disorder status   \n",
       "897   ongoing addiction or dependence to over-the-co...   \n",
       "\n",
       "                                       description_more  \\\n",
       "2264  This field is a summary of the secondary opera...   \n",
       "2084  This field is a summary of the secondary opera...   \n",
       "2075  This field is a summary of the secondary opera...   \n",
       "2076  This field is a summary of the secondary opera...   \n",
       "2077  This field is a summary of the secondary opera...   \n",
       "...                                                 ...   \n",
       "2531                                   Gastrointestinal   \n",
       "879   Question asked: \"Is this addiction ongoing?\"  ...   \n",
       "877   Question asked: \"Have you been physically depe...   \n",
       "869   This derived data field has come from Professo...   \n",
       "897   Question asked: \"Is this addiction or dependen...   \n",
       "\n",
       "                                     coding_description  \\\n",
       "2264                                     z27.4 duodenum   \n",
       "2084  x85.1 torsion dystonias and other involuntary ...   \n",
       "2075  x71.3 procurement of drugs for chemotherapy fo...   \n",
       "2076  x71.5 procurement of drugs for chemotherapy fo...   \n",
       "2077  x72.1 delivery of complex chemotherapy for neo...   \n",
       "...                                                 ...   \n",
       "2531                                                NaN   \n",
       "879                                                 NaN   \n",
       "877                                                 NaN   \n",
       "869                                                 NaN   \n",
       "897                                                 NaN   \n",
       "\n",
       "                                               category         N  gb_idx  \n",
       "2264  Health-related outcomes > Hospital inpatient >...  394841.0    2264  \n",
       "2084  Health-related outcomes > Hospital inpatient >...  394841.0    2084  \n",
       "2075  Health-related outcomes > Hospital inpatient >...  394841.0    2075  \n",
       "2076  Health-related outcomes > Hospital inpatient >...  394841.0    2076  \n",
       "2077  Health-related outcomes > Hospital inpatient >...  394841.0    2077  \n",
       "...                                                 ...       ...     ...  \n",
       "2531                            Autoimmune/inflammatory    4304.0    2531  \n",
       "879       Online follow-up > Mental health > Addictions    2893.0     879  \n",
       "877       Online follow-up > Mental health > Addictions    2802.0     877  \n",
       "869   UK Biobank Assessment Centre > Touchscreen > P...    1139.0     869  \n",
       "897       Online follow-up > Mental health > Addictions    1048.0     897  \n",
       "\n",
       "[4529 rows x 20 columns]"
      ]
     },
     "execution_count": 58,
     "metadata": {},
     "output_type": "execute_result"
    }
   ],
   "source": [
    "phenos[~phenos.gb_idx.isin(matched_ids)]"
   ]
  },
  {
   "cell_type": "markdown",
   "metadata": {},
   "source": [
    "## GWAS Catalog study info"
   ]
  },
  {
   "cell_type": "code",
   "execution_count": 59,
   "metadata": {
    "ExecuteTime": {
     "end_time": "2025-03-21T18:05:11.342170Z",
     "start_time": "2025-03-21T18:05:11.339755Z"
    }
   },
   "outputs": [],
   "source": [
    "import re\n",
    "def extract_sample_size(s):\n",
    "    if isinstance(s, str):\n",
    "        # Find all occurrences of numbers which may include commas.\n",
    "        matches = re.findall(r'\\d[\\d,]*', s)\n",
    "        # Remove commas and convert each match to an integer, then sum them up.\n",
    "        return sum(int(num.replace(',', '')) for num in matches)\n",
    "    else:\n",
    "        return np.nan"
   ]
  },
  {
   "cell_type": "code",
   "execution_count": 60,
   "metadata": {
    "ExecuteTime": {
     "end_time": "2025-03-21T18:05:12.778423Z",
     "start_time": "2025-03-21T18:05:12.033150Z"
    }
   },
   "outputs": [],
   "source": [
    "cat_info = pd.read_csv(os.path.join(datadir, '../GWASCatalog/study_info.v1.0.3.1_Jan29_2025.txt'), sep='\\t')\n",
    "cat_info['cat_idx'] = [x for x in range(len(cat_info))]"
   ]
  },
  {
   "cell_type": "code",
   "execution_count": 61,
   "metadata": {
    "ExecuteTime": {
     "end_time": "2025-03-21T18:05:12.926826Z",
     "start_time": "2025-03-21T18:05:12.925026Z"
    }
   },
   "outputs": [],
   "source": [
    "genotyping_techs = ['Genome-wide genotyping array', 'Genome-wide sequencing [NA]', 'Genome-wide sequencing']"
   ]
  },
  {
   "cell_type": "code",
   "execution_count": 62,
   "metadata": {
    "ExecuteTime": {
     "end_time": "2025-03-21T18:05:13.104002Z",
     "start_time": "2025-03-21T18:05:13.072119Z"
    }
   },
   "outputs": [],
   "source": [
    "ukb_cat = cat_info[cat_info.COHORT.isin(['UKB', 'UKBB'])]"
   ]
  },
  {
   "cell_type": "code",
   "execution_count": 63,
   "metadata": {
    "ExecuteTime": {
     "end_time": "2025-03-21T18:05:13.761169Z",
     "start_time": "2025-03-21T18:05:13.704734Z"
    }
   },
   "outputs": [],
   "source": [
    "ukb_cat = ukb_cat[ukb_cat['GENOTYPING TECHNOLOGY'].isin(genotyping_techs)]\n",
    "ukb_cat = ukb_cat[ukb_cat['BACKGROUND TRAIT'].isna()]\n",
    "ukb_cat['N'] = ukb_cat['INITIAL SAMPLE SIZE'].apply(lambda z: extract_sample_size(z))"
   ]
  },
  {
   "cell_type": "code",
   "execution_count": 64,
   "metadata": {
    "ExecuteTime": {
     "end_time": "2025-03-21T18:05:14.307228Z",
     "start_time": "2025-03-21T18:05:14.300081Z"
    }
   },
   "outputs": [],
   "source": [
    "ukb_cat = ukb_cat.dropna(subset='N')"
   ]
  },
  {
   "cell_type": "code",
   "execution_count": 739,
   "metadata": {
    "ExecuteTime": {
     "end_time": "2025-03-12T18:35:11.646347Z",
     "start_time": "2025-03-12T18:35:11.640775Z"
    }
   },
   "outputs": [],
   "source": [
    "ukb_cat = ukb_cat[ukb_cat['ASSOCIATION COUNT'] >=3]"
   ]
  },
  {
   "cell_type": "code",
   "execution_count": 740,
   "metadata": {
    "ExecuteTime": {
     "end_time": "2025-03-12T18:35:12.064813Z",
     "start_time": "2025-03-12T18:35:12.061168Z"
    }
   },
   "outputs": [],
   "source": [
    "ukb_cat = ukb_cat.sort_values(by='N', ascending=False)"
   ]
  },
  {
   "cell_type": "code",
   "execution_count": 741,
   "metadata": {
    "ExecuteTime": {
     "end_time": "2025-03-12T18:35:13.090950Z",
     "start_time": "2025-03-12T18:35:13.087481Z"
    }
   },
   "outputs": [
    {
     "data": {
      "text/plain": [
       "0"
      ]
     },
     "execution_count": 741,
     "metadata": {},
     "output_type": "execute_result"
    }
   ],
   "source": [
    "ukb_pmid= set([str(x) for x in ukb_cat['PUBMED ID'].unique()])\n",
    "atlas_pmid = set(ukb_info.PMID.unique())\n",
    "len(ukb_pmid.intersection(atlas_pmid))"
   ]
  },
  {
   "cell_type": "markdown",
   "metadata": {},
   "source": [
    "## NO Overlap between UKB studies in Catalog vs Atlas...."
   ]
  },
  {
   "cell_type": "code",
   "execution_count": 742,
   "metadata": {
    "ExecuteTime": {
     "end_time": "2025-03-12T18:35:19.729273Z",
     "start_time": "2025-03-12T18:35:19.724279Z"
    }
   },
   "outputs": [],
   "source": [
    "ukb_cat['DISEASE/TRAIT'] = ukb_cat['DISEASE/TRAIT'].apply(lambda z: z.lower())\n",
    "ukb_cat['MAPPED_TRAIT'] = ukb_cat['MAPPED_TRAIT'].apply(lambda z: z.lower() if isinstance(z, str) else np.nan)"
   ]
  },
  {
   "cell_type": "code",
   "execution_count": 743,
   "metadata": {
    "ExecuteTime": {
     "end_time": "2025-03-12T18:35:22.150854Z",
     "start_time": "2025-03-12T18:35:22.144005Z"
    }
   },
   "outputs": [
    {
     "data": {
      "text/plain": [
       "0"
      ]
     },
     "execution_count": 743,
     "metadata": {},
     "output_type": "execute_result"
    }
   ],
   "source": [
    "cat1 = ukb_cat.merge(info, left_on='DISEASE/TRAIT', right_on='Trait', how='inner')\n",
    "len(cat1)"
   ]
  },
  {
   "cell_type": "code",
   "execution_count": 392,
   "metadata": {
    "ExecuteTime": {
     "end_time": "2025-03-11T23:34:27.739502Z",
     "start_time": "2025-03-11T23:34:27.737546Z"
    }
   },
   "outputs": [],
   "source": [
    "cat_ids = list(cat1.cat_idx.values)"
   ]
  },
  {
   "cell_type": "code",
   "execution_count": 393,
   "metadata": {
    "ExecuteTime": {
     "end_time": "2025-03-11T23:34:28.394910Z",
     "start_time": "2025-03-11T23:34:28.388936Z"
    }
   },
   "outputs": [
    {
     "data": {
      "text/plain": [
       "341"
      ]
     },
     "execution_count": 393,
     "metadata": {},
     "output_type": "execute_result"
    }
   ],
   "source": [
    "cat2 = ukb_cat.merge(info, left_on='MAPPED_TRAIT', right_on='Trait', how='inner')\n",
    "len(cat2)"
   ]
  },
  {
   "cell_type": "code",
   "execution_count": 394,
   "metadata": {
    "ExecuteTime": {
     "end_time": "2025-03-11T23:34:29.776198Z",
     "start_time": "2025-03-11T23:34:29.774324Z"
    }
   },
   "outputs": [],
   "source": [
    "cat_ids += list(cat2.cat_idx.values)"
   ]
  },
  {
   "cell_type": "code",
   "execution_count": 395,
   "metadata": {
    "ExecuteTime": {
     "end_time": "2025-03-11T23:34:30.352046Z",
     "start_time": "2025-03-11T23:34:30.348414Z"
    }
   },
   "outputs": [],
   "source": [
    "all_cat = pd.concat([cat1, cat2])"
   ]
  },
  {
   "cell_type": "code",
   "execution_count": 396,
   "metadata": {
    "ExecuteTime": {
     "end_time": "2025-03-11T23:34:30.876291Z",
     "start_time": "2025-03-11T23:34:30.874361Z"
    }
   },
   "outputs": [],
   "source": [
    "a = set(all_cat.Trait.values)"
   ]
  },
  {
   "cell_type": "code",
   "execution_count": 397,
   "metadata": {
    "ExecuteTime": {
     "end_time": "2025-03-11T23:34:31.337800Z",
     "start_time": "2025-03-11T23:34:31.335780Z"
    }
   },
   "outputs": [],
   "source": [
    "b = set(all_matches.Trait.values)"
   ]
  },
  {
   "cell_type": "code",
   "execution_count": 398,
   "metadata": {
    "ExecuteTime": {
     "end_time": "2025-03-11T23:34:32.538418Z",
     "start_time": "2025-03-11T23:34:32.534996Z"
    }
   },
   "outputs": [],
   "source": [
    "c = a.intersection(b)\n",
    "d = a.union(b)"
   ]
  },
  {
   "cell_type": "code",
   "execution_count": 399,
   "metadata": {
    "ExecuteTime": {
     "end_time": "2025-03-11T23:34:34.534403Z",
     "start_time": "2025-03-11T23:34:34.530669Z"
    }
   },
   "outputs": [
    {
     "data": {
      "text/plain": [
       "124"
      ]
     },
     "execution_count": 399,
     "metadata": {},
     "output_type": "execute_result"
    }
   ],
   "source": [
    "sum(ukb_cat[ukb_cat.cat_idx.isin(cat_ids)]['ASSOCIATION COUNT'] > 5)"
   ]
  },
  {
   "cell_type": "markdown",
   "metadata": {},
   "source": [
    "### Test SBERT"
   ]
  },
  {
   "cell_type": "code",
   "execution_count": 73,
   "metadata": {
    "ExecuteTime": {
     "end_time": "2025-03-21T18:05:59.184248Z",
     "start_time": "2025-03-21T18:05:43.804705Z"
    }
   },
   "outputs": [],
   "source": [
    "from sentence_transformers import SentenceTransformer\n",
    "import numpy as np\n",
    "from sklearn.metrics.pairwise import cosine_similarity"
   ]
  },
  {
   "cell_type": "code",
   "execution_count": 255,
   "metadata": {
    "ExecuteTime": {
     "end_time": "2025-03-11T22:41:25.149793Z",
     "start_time": "2025-03-11T22:41:25.141440Z"
    }
   },
   "outputs": [],
   "source": [
    "import pandas as pd\n",
    "from sentence_transformers import SentenceTransformer\n",
    "import numpy as np\n",
    "from sklearn.metrics.pairwise import cosine_similarity\n",
    "\n",
    "def compute_bidirectional_matches(embeddings1, embeddings2, series1, series2):\n",
    "    \"\"\"\n",
    "    Computes the best matches between two pandas Series of text using SBERT.\n",
    "    \n",
    "    For each entry in series1, it finds the best matching entry in series2 and vice versa.\n",
    "    The results are combined into a single DataFrame with a 'Direction' column.\n",
    "    \n",
    "    Parameters:\n",
    "        series1 (pd.Series): A pandas Series with text entries. The Series index is preserved.\n",
    "        series2 (pd.Series): A pandas Series with text entries. The Series index is preserved.\n",
    "        model_name (str): The name of the SentenceTransformer model to use.\n",
    "        batch_size (int): Batch size for encoding.\n",
    "        show_progress_bar (bool): Whether to show the progress bar during encoding.\n",
    "    \n",
    "    Returns:\n",
    "        pd.DataFrame: A DataFrame containing the results from both matching directions.\n",
    "    \"\"\"\n",
    "    # Convert Series to lists (order is maintained)\n",
    "    list1 = series1.tolist()\n",
    "    list2 = series2.tolist()\n",
    "    \n",
    "    # Compute the cosine similarity matrix between embeddings from series1 and series2\n",
    "    cos_sim_matrix = cosine_similarity(embeddings1, embeddings2)\n",
    "    \n",
    "    # -------------------------------\n",
    "    # Matches: Series1 -> Series2\n",
    "    # -------------------------------\n",
    "    best_match_indices_1_to_2 = np.argmax(cos_sim_matrix, axis=1)\n",
    "    best_match_scores_1_to_2 = np.max(cos_sim_matrix, axis=1)\n",
    "    \n",
    "    # Create a DataFrame for matches from series1 to series2 with standardized column names\n",
    "    df1_to_2 = pd.DataFrame({\n",
    "        \"Direction\": \"Series1_to_Series2\",\n",
    "        \"Query_Index\": series1.index,\n",
    "        \"Query_Text\": list1,\n",
    "        \"Match_Index\": [series2.index[i] for i in best_match_indices_1_to_2],\n",
    "        \"Match_Text\": [list2[i] for i in best_match_indices_1_to_2],\n",
    "        \"Cosine_Similarity\": best_match_scores_1_to_2\n",
    "    })\n",
    "    \n",
    "    # -------------------------------\n",
    "    # Matches: Series2 -> Series1\n",
    "    # -------------------------------\n",
    "    best_match_indices_2_to_1 = np.argmax(cos_sim_matrix, axis=0)\n",
    "    best_match_scores_2_to_1 = np.max(cos_sim_matrix, axis=0)\n",
    "    \n",
    "    # Create a DataFrame for matches from series2 to series1 with standardized column names\n",
    "    df2_to_1 = pd.DataFrame({\n",
    "        \"Direction\": \"Series2_to_Series1\",\n",
    "        \"Query_Index\": series2.index,\n",
    "        \"Query_Text\": list2,\n",
    "        \"Match_Index\": [series1.index[i] for i in best_match_indices_2_to_1],\n",
    "        \"Match_Text\": [list1[i] for i in best_match_indices_2_to_1],\n",
    "        \"Cosine_Similarity\": best_match_scores_2_to_1\n",
    "    })\n",
    "    \n",
    "    # Combine both DataFrames into one for downstream analysis.\n",
    "    combined_df = pd.concat([df1_to_2, df2_to_1], ignore_index=True)\n",
    "    \n",
    "    return combined_df.sort_values(by='Cosine_Similarity', ascending=False)\n",
    "\n",
    "def extract_mutual_matches(bidirectional_df):\n",
    "\n",
    " # Split the bidirectional DataFrame by direction.\n",
    "    df1_to_2 = bidirectional_df[bidirectional_df['Direction'] == 'Series1_to_Series2'].copy()\n",
    "    df2_to_1 = bidirectional_df[bidirectional_df['Direction'] == 'Series2_to_Series1'].copy()\n",
    "\n",
    "    # Rename columns for df1_to_2.\n",
    "    df1_to_2.rename(columns={\n",
    "        \"Query_Index\": \"Series1_Index\",\n",
    "        \"Query_Text\": \"Series1_Text\",\n",
    "        \"Match_Index\": \"Series2_Index\",\n",
    "        \"Match_Text\": \"Series2_Text\",\n",
    "        \"Cosine_Similarity\": \"Cosine_Similarity_1\"\n",
    "    }, inplace=True)\n",
    "\n",
    "    # Rename columns for df2_to_1.\n",
    "    df2_to_1.rename(columns={\n",
    "        \"Query_Index\": \"Series2_Index\",\n",
    "        \"Query_Text\": \"Series2_Text\",\n",
    "        \"Match_Index\": \"Series1_Index\",\n",
    "        \"Match_Text\": \"Series1_Text\",\n",
    "        \"Cosine_Similarity\": \"Cosine_Similarity_2\"\n",
    "    }, inplace=True)\n",
    "\n",
    "    # Merge the two DataFrames on Series1_Index and Series2_Index.\n",
    "    mutual = pd.merge(df1_to_2, df2_to_1, on=[\"Series1_Index\", \"Series2_Index\"], suffixes=('_1', '_2'))\n",
    "    \n",
    "    # Compute the average cosine similarity.\n",
    "    mutual[\"Average_Cosine_Similarity\"] = (mutual[\"Cosine_Similarity_1\"] + mutual[\"Cosine_Similarity_2\"]) / 2.0\n",
    "\n",
    "    # Select columns for output. Here we choose the text columns from the first direction (suffix _1).\n",
    "    result = mutual[[\n",
    "        \"Series1_Index\", \"Series1_Text_1\", \"Series2_Index\", \"Series2_Text_1\", \"Average_Cosine_Similarity\"\n",
    "    ]].copy()\n",
    "    \n",
    "    # Rename the suffixed text columns to standard names.\n",
    "    result.rename(columns={\"Series1_Text_1\": \"Series1_Text\", \"Series2_Text_1\": \"Series2_Text\"}, inplace=True)\n",
    "    \n",
    "    return result\n"
   ]
  },
  {
   "cell_type": "code",
   "execution_count": 74,
   "metadata": {
    "ExecuteTime": {
     "end_time": "2025-03-21T18:06:00.955099Z",
     "start_time": "2025-03-21T18:05:59.390891Z"
    }
   },
   "outputs": [],
   "source": [
    "# Load the pre-trained SBERT model\n",
    "model = SentenceTransformer('all-MiniLM-L6-v2')"
   ]
  },
  {
   "cell_type": "markdown",
   "metadata": {},
   "source": [
    "## BERT matching of GeneBASS and GWAS Catalog"
   ]
  },
  {
   "cell_type": "code",
   "execution_count": 745,
   "metadata": {
    "ExecuteTime": {
     "end_time": "2025-03-12T18:35:46.141856Z",
     "start_time": "2025-03-12T18:35:46.137500Z"
    }
   },
   "outputs": [],
   "source": [
    "import numpy as np\n",
    "import pandas as pd\n",
    "from sklearn.metrics.pairwise import cosine_similarity\n",
    "from scipy.cluster.hierarchy import linkage, fcluster\n",
    "from scipy.spatial.distance import pdist\n",
    "\n",
    "def get_all_matches(series1, series2, emb1, emb2, th=0.8):\n",
    "    \"\"\"\n",
    "    Given two pandas Series (series1 and series2) along with their precomputed embeddings (emb1 and emb2),\n",
    "    compute the cosine similarity between every string from series1 and every string from series2.\n",
    "    \n",
    "    Returns a DataFrame with all pairs (one string from each Series) having a cosine similarity >= th.\n",
    "    Each row includes:\n",
    "      - Series1_Index, Series1_Text,\n",
    "      - Series2_Index, Series2_Text,\n",
    "      - Cosine_Similarity.\n",
    "    \n",
    "    Parameters:\n",
    "      series1 (pd.Series): Series of strings (with index) for list1.\n",
    "      series2 (pd.Series): Series of strings (with index) for list2.\n",
    "      emb1 (np.ndarray): Embeddings for the strings in series1 (assumed to correspond in order to series1.index).\n",
    "      emb2 (np.ndarray): Embeddings for the strings in series2.\n",
    "      th (float): Cosine similarity threshold (default=0.8).\n",
    "    \n",
    "    Returns:\n",
    "      pd.DataFrame: DataFrame containing all unique pairs with similarity >= th.\n",
    "    \"\"\"\n",
    "    # Compute the cosine similarity matrix between emb1 and emb2.\n",
    "    sim_matrix = cosine_similarity(emb1, emb2)\n",
    "    \n",
    "    pairs = []\n",
    "    # Loop over rows (series1) and columns (series2) to collect pairs meeting threshold.\n",
    "    n1, n2 = sim_matrix.shape\n",
    "    for i in range(n1):\n",
    "        for j in range(n2):\n",
    "            sim = sim_matrix[i, j]\n",
    "            if sim >= th:\n",
    "                pairs.append({\n",
    "                    \"Series1_Index\": series1.index[i],\n",
    "                    \"Series1_Text\": series1.iloc[i],\n",
    "                    \"Series2_Index\": series2.index[j],\n",
    "                    \"Series2_Text\": series2.iloc[j],\n",
    "                    \"Cosine_Similarity\": sim\n",
    "                })\n",
    "    \n",
    "    # Create DataFrame of matches.\n",
    "    matches_df = pd.DataFrame(pairs)\n",
    "    # (If the same pair could be found twice by any chance, drop duplicates.)\n",
    "    matches_df.drop_duplicates(inplace=True)\n",
    "    # Optionally, sort by descending similarity.\n",
    "    matches_df.sort_values(by=\"Cosine_Similarity\", ascending=False, inplace=True)\n",
    "    return matches_df\n"
   ]
  },
  {
   "cell_type": "code",
   "execution_count": 746,
   "metadata": {
    "ExecuteTime": {
     "end_time": "2025-03-12T18:36:00.476631Z",
     "start_time": "2025-03-12T18:35:49.088395Z"
    }
   },
   "outputs": [
    {
     "data": {
      "application/vnd.jupyter.widget-view+json": {
       "model_id": "111cd43f064f498a923937140dc1a54a",
       "version_major": 2,
       "version_minor": 0
      },
      "text/plain": [
       "Batches:   0%|          | 0/113 [00:00<?, ?it/s]"
      ]
     },
     "metadata": {},
     "output_type": "display_data"
    }
   ],
   "source": [
    "cat_embeddings = model.encode(list(ukb_cat['DISEASE/TRAIT'].values), batch_size=32, show_progress_bar=True)"
   ]
  },
  {
   "cell_type": "code",
   "execution_count": 748,
   "metadata": {
    "ExecuteTime": {
     "end_time": "2025-03-12T18:36:24.286126Z",
     "start_time": "2025-03-12T18:36:24.279187Z"
    }
   },
   "outputs": [
    {
     "data": {
      "text/plain": [
       "(2058, 20)"
      ]
     },
     "execution_count": 748,
     "metadata": {},
     "output_type": "execute_result"
    }
   ],
   "source": [
    "desc_counts = phenos.description.value_counts()\n",
    "use_description = phenos[~phenos.description.isin(desc_counts[desc_counts>3].index.values)]\n",
    "use_description = use_description[~use_description.description.isna()]\n",
    "use_description.shape"
   ]
  },
  {
   "cell_type": "code",
   "execution_count": 749,
   "metadata": {
    "ExecuteTime": {
     "end_time": "2025-03-12T18:36:34.389333Z",
     "start_time": "2025-03-12T18:36:27.139135Z"
    }
   },
   "outputs": [
    {
     "data": {
      "application/vnd.jupyter.widget-view+json": {
       "model_id": "317dd3951d334cb4bd9030b482f3b582",
       "version_major": 2,
       "version_minor": 0
      },
      "text/plain": [
       "Batches:   0%|          | 0/65 [00:00<?, ?it/s]"
      ]
     },
     "metadata": {},
     "output_type": "display_data"
    }
   ],
   "source": [
    "bass_embeddings1 = model.encode(use_description.description.values, batch_size=32, show_progress_bar=True)"
   ]
  },
  {
   "cell_type": "code",
   "execution_count": 758,
   "metadata": {
    "ExecuteTime": {
     "end_time": "2025-03-12T18:39:41.585986Z",
     "start_time": "2025-03-12T18:39:27.569512Z"
    }
   },
   "outputs": [],
   "source": [
    "cat_desc = get_all_matches(ukb_cat.set_index('cat_idx')['DISEASE/TRAIT'], \n",
    "                          use_description.set_index('gb_idx').description, \n",
    "                          cat_embeddings, bass_embeddings1, th=0.7)"
   ]
  },
  {
   "cell_type": "code",
   "execution_count": 756,
   "metadata": {
    "ExecuteTime": {
     "end_time": "2025-03-12T18:39:10.448248Z",
     "start_time": "2025-03-12T18:39:03.214782Z"
    }
   },
   "outputs": [
    {
     "data": {
      "application/vnd.jupyter.widget-view+json": {
       "model_id": "ef727961ce444461aa0879c4b86d5f23",
       "version_major": 2,
       "version_minor": 0
      },
      "text/plain": [
       "Batches:   0%|          | 0/77 [00:00<?, ?it/s]"
      ]
     },
     "metadata": {},
     "output_type": "display_data"
    }
   ],
   "source": [
    "use_coding = phenos[~phenos.coding_description.isna()]\n",
    "bass_embeddings2 = model.encode(use_coding.coding_description.values, batch_size=32, show_progress_bar=True)\n"
   ]
  },
  {
   "cell_type": "code",
   "execution_count": 759,
   "metadata": {
    "ExecuteTime": {
     "end_time": "2025-03-12T18:39:58.273945Z",
     "start_time": "2025-03-12T18:39:41.961499Z"
    }
   },
   "outputs": [],
   "source": [
    "cat_coding = get_all_matches(ukb_cat.set_index('cat_idx')['DISEASE/TRAIT'], \n",
    "                          use_coding.set_index('gb_idx').coding_description, \n",
    "                          cat_embeddings, bass_embeddings2, th=0.7)"
   ]
  },
  {
   "cell_type": "code",
   "execution_count": 760,
   "metadata": {
    "ExecuteTime": {
     "end_time": "2025-03-12T18:40:50.178449Z",
     "start_time": "2025-03-12T18:40:50.172137Z"
    }
   },
   "outputs": [
    {
     "data": {
      "text/html": [
       "<div>\n",
       "<style scoped>\n",
       "    .dataframe tbody tr th:only-of-type {\n",
       "        vertical-align: middle;\n",
       "    }\n",
       "\n",
       "    .dataframe tbody tr th {\n",
       "        vertical-align: top;\n",
       "    }\n",
       "\n",
       "    .dataframe thead th {\n",
       "        text-align: right;\n",
       "    }\n",
       "</style>\n",
       "<table border=\"1\" class=\"dataframe\">\n",
       "  <thead>\n",
       "    <tr style=\"text-align: right;\">\n",
       "      <th></th>\n",
       "      <th>Series1_Index</th>\n",
       "      <th>Series1_Text</th>\n",
       "      <th>Series2_Index</th>\n",
       "      <th>Series2_Text</th>\n",
       "      <th>Cosine_Similarity</th>\n",
       "    </tr>\n",
       "  </thead>\n",
       "  <tbody>\n",
       "    <tr>\n",
       "      <th>41</th>\n",
       "      <td>65507</td>\n",
       "      <td>depression (time to event)</td>\n",
       "      <td>906</td>\n",
       "      <td>depression</td>\n",
       "      <td>0.701610</td>\n",
       "    </tr>\n",
       "    <tr>\n",
       "      <th>40</th>\n",
       "      <td>65507</td>\n",
       "      <td>depression (time to event)</td>\n",
       "      <td>106</td>\n",
       "      <td>depression</td>\n",
       "      <td>0.701610</td>\n",
       "    </tr>\n",
       "    <tr>\n",
       "      <th>116</th>\n",
       "      <td>1943</td>\n",
       "      <td>major depressive disorder</td>\n",
       "      <td>906</td>\n",
       "      <td>depression</td>\n",
       "      <td>0.700348</td>\n",
       "    </tr>\n",
       "    <tr>\n",
       "      <th>115</th>\n",
       "      <td>1943</td>\n",
       "      <td>major depressive disorder</td>\n",
       "      <td>106</td>\n",
       "      <td>depression</td>\n",
       "      <td>0.700348</td>\n",
       "    </tr>\n",
       "    <tr>\n",
       "      <th>1</th>\n",
       "      <td>13140</td>\n",
       "      <td>rheumatoid arthritis or type 1 diabetes</td>\n",
       "      <td>76</td>\n",
       "      <td>type 1 diabetes</td>\n",
       "      <td>0.700347</td>\n",
       "    </tr>\n",
       "  </tbody>\n",
       "</table>\n",
       "</div>"
      ],
      "text/plain": [
       "     Series1_Index                             Series1_Text  Series2_Index  \\\n",
       "41           65507               depression (time to event)            906   \n",
       "40           65507               depression (time to event)            106   \n",
       "116           1943                major depressive disorder            906   \n",
       "115           1943                major depressive disorder            106   \n",
       "1            13140  rheumatoid arthritis or type 1 diabetes             76   \n",
       "\n",
       "        Series2_Text  Cosine_Similarity  \n",
       "41        depression           0.701610  \n",
       "40        depression           0.701610  \n",
       "116       depression           0.700348  \n",
       "115       depression           0.700348  \n",
       "1    type 1 diabetes           0.700347  "
      ]
     },
     "execution_count": 760,
     "metadata": {},
     "output_type": "execute_result"
    }
   ],
   "source": [
    "cat_coding.tail()"
   ]
  },
  {
   "cell_type": "code",
   "execution_count": 761,
   "metadata": {
    "ExecuteTime": {
     "end_time": "2025-03-12T18:41:39.408968Z",
     "start_time": "2025-03-12T18:41:39.405389Z"
    }
   },
   "outputs": [],
   "source": [
    "cat_matches = pd.concat([cat_desc, cat_coding])"
   ]
  },
  {
   "cell_type": "markdown",
   "metadata": {},
   "source": [
    "#### Export UKB Common trait info"
   ]
  },
  {
   "cell_type": "code",
   "execution_count": 762,
   "metadata": {
    "ExecuteTime": {
     "end_time": "2025-03-12T18:41:51.685609Z",
     "start_time": "2025-03-12T18:41:51.682227Z"
    }
   },
   "outputs": [],
   "source": [
    "out_cat = ukb_cat[ukb_cat.cat_idx.isin(cat_matches.Series1_Index.values)]"
   ]
  },
  {
   "cell_type": "code",
   "execution_count": 763,
   "metadata": {
    "ExecuteTime": {
     "end_time": "2025-03-12T18:41:54.248522Z",
     "start_time": "2025-03-12T18:41:54.245723Z"
    }
   },
   "outputs": [],
   "source": [
    "out_cat = out_cat.loc[:, ('PUBMED ID','DATE', 'DISEASE/TRAIT', 'INITIAL SAMPLE SIZE','N', 'ASSOCIATION COUNT', \n",
    "                               'MAPPED_TRAIT', 'MAPPED_TRAIT_URI','STUDY ACCESSION', 'cat_idx')]"
   ]
  },
  {
   "cell_type": "code",
   "execution_count": 359,
   "metadata": {
    "ExecuteTime": {
     "end_time": "2025-03-11T23:26:51.759141Z",
     "start_time": "2025-03-11T23:26:51.756681Z"
    }
   },
   "outputs": [],
   "source": []
  },
  {
   "cell_type": "code",
   "execution_count": 767,
   "metadata": {
    "ExecuteTime": {
     "end_time": "2025-03-12T18:42:34.691314Z",
     "start_time": "2025-03-12T18:42:34.687433Z"
    }
   },
   "outputs": [],
   "source": [
    "def extract_ancestry(pop):\n",
    "    if ', ' in pop:\n",
    "        pop = pop.split(', ')\n",
    "        outstr = ''\n",
    "        for x in pop:\n",
    "            outstr += x.split(' ', 1)[-1]\n",
    "    else:\n",
    "        outstr = pop.split(' ', 1)[1]\n",
    "    return outstr"
   ]
  },
  {
   "cell_type": "code",
   "execution_count": 768,
   "metadata": {
    "ExecuteTime": {
     "end_time": "2025-03-12T18:42:36.843031Z",
     "start_time": "2025-03-12T18:42:36.839265Z"
    }
   },
   "outputs": [],
   "source": [
    "out_cat['pop'] = [extract_ancestry(x) for x in out_cat['INITIAL SAMPLE SIZE'].values]"
   ]
  },
  {
   "cell_type": "code",
   "execution_count": 772,
   "metadata": {
    "ExecuteTime": {
     "end_time": "2025-03-12T18:48:23.786574Z",
     "start_time": "2025-03-12T18:48:23.780932Z"
    },
    "run_control": {
     "marked": true
    }
   },
   "outputs": [],
   "source": [
    "pop_map = {'European ancestry casesEuropean ancestry controlsSouth Asian ancestry casesSouth Asian ancestry controlsEast Asian ancestry casesEast Asian ancestry controlsAfrican ancestry casesAfrican ancestry controls': 'Mixed',\n",
    "       'European ancestry rheumatoid arthritis casesEuropean ancestry type 1 diabetes cases or controlsEuropean ancestry controls': 'EUR',\n",
    "       'European ancestry casesEuropean ancestry controls': 'EUR',\n",
    "       'European or unknown ancestry casesEuropean or unknown ancestry controls': 'EUR',\n",
    "       'European ancestry individuals': 'EUR',\n",
    "       'European ancestry casesEuropean ancestry controlscasescontrols': 'EUR',\n",
    "       'European ancestry casesEuropean ancestry controlsSouth Asianor unknown ancestry casesSouth Asianor unknown ancestry controls':'EUR, SAS',\n",
    "       'European or unknown ancestry individuals': 'EUR',\n",
    "       'to 460,858 European or unknown ancestry individuals': 'EUR',\n",
    "       'European ancestry rheumatoid arthritis casesEuropean ancestry inflammatory bowel disease casesleast 447,182 European ancestry controls': 'EUR',\n",
    "       'European ancestry rheumatoid arthritis casesEuropean ancestry multiple sclerosis casesleast 447,182 European ancestry controls': 'EUR',\n",
    "       'White-British ancestry casesWhite-British ancestry controls': 'EUR',\n",
    "       'British ancestry individualsAsian or Asian British individualsBlack or Black British individualsChinese ancestry individuals':'Mixed',\n",
    "       'British individuals': 'EUR',\n",
    "       'British ancestry casesBritish ancestry controls': 'EUR', 'individuals': 'EUR',\n",
    "       'British ancestry individuals': 'EUR', 'casescontrols': 'EUR',\n",
    "       'European ancestry individualsAfrican ancestry individualsSouth Asian ancestry individuals':'Mixed',\n",
    "       'African ancestry individualsEast Asian ancestry individualsEuropean ancestry individualsSouth Asian ancestry individuals':'Mixed',\n",
    "       'White British ancestry casesWhite British ancestry controls': 'EUR',\n",
    "       'European ancestry female casesEuropean ancestry female controlsfemale casesfemale controls': 'EUR',\n",
    "       'European ancestry female casesEuropean ancestry female controlsSouth Asianor unknown ancestry female casesSouth Asianor unknown ancestry female controls':'EUR, SAS',\n",
    "       'European ancestry female casesEuropean ancestry female controls': 'EUR',\n",
    "       'menwomen': 'EUR',\n",
    "       'European ancestry male casesEuropean ancestry male controlsSouth Asianor unknown ancestry male casesSouth Asianor unknown ancestry male controls':'EUR, SAS',\n",
    "       'European ancestry male casesEuropean ancestry male controlsmale casesmale controls': 'EUR',\n",
    "       'European ancestry male casesEuropean ancestry male controls': 'EUR',\n",
    "       'women': 'EUR',\n",
    "       'African ancestry individualsEuropean ancestry individuals':'EUR, AFR', 'men':'EUR',\n",
    "       'British ancestry women': 'EUR', 'British ancestry males': 'EUR',\n",
    "       'British ancestry females': 'EUR', 'British ancestry men': 'EUR',\n",
    "       'European ancestry women': 'EUR',\n",
    "       'British ancestry female casesBritish ancestry female controls': 'EUR',\n",
    "       'European ancestry men': 'EUR',\n",
    "       'British ancestry male casesBritish ancestry male controls': 'EUR',\n",
    "       'African ancestry casesAfrican ancestry controlsEuropean ancestry casesEuropean ancestry controlsSouth Asian ancestry casesSouth Asian ancestry controlscasescontrols':'Mixed',\n",
    "       'British ancestry post-menopausal women': 'EUR',\n",
    "       'African ancestry female casesAfrican ancestry female controlsEuropean ancestry female casesEuropean ancestry female controlsSouth Asian ancestry female casesSouth Asian ancestry female controlsfemale casesfemale controls':'Mixed',\n",
    "       'European ancestry females': 'EUR',\n",
    "       'African ancestry male casesAfrican ancestry male controlsEuropean ancestry male casesEuropean ancestry male controlsSouth Asian ancestry male casesSouth Asian ancestry male controlsmale casesmale controls':'Mixed',\n",
    "       'European ancestry males': 'EUR',\n",
    "       'European ancestry individualsAsian ancestry individualsBlack individualsMixed ancestry individualsindividuals':'Mixed',\n",
    "       'European ancestryAsian ancestryAsian ancestryancestryancestry individuals':'EUR, EAS',\n",
    "       'European ancestry individualsAfrican ancestry individualsSouth Asian ancestry individualsEast Asian ancestry individualsindividuals':'Mixed',\n",
    "       'British ancestry pre-menopausal women': 'EUR',\n",
    "       'EuropeanIndianCaribbeanancestry cases EuropeanIndianCaribbeanancestry controls':'Mixed',\n",
    "       'South Asianor unknown ancestry casesSouth Asianor unknown ancestry controls':'SAS',\n",
    "       'European ancestry menAsian ancestry menBlack menMixed ancestry menmen':'Mixed',\n",
    "       'European ancestryAsian ancestryAsian ancestryancestryancestry females':'EUR, EAS',\n",
    "       'European ancestryAsian ancestryAsian ancestryancestryancestry males':'EUR, EAS',\n",
    "       'EuropeanIndianCaribbeanancestry casesEuropeanIndianCaribbeanancestry ancestry controls':'Mixed',\n",
    "       'South Asian ancestry individuals':'SAS',\n",
    "       'South Asian ancestry casesSouth Asian ancestry controls':'SAS',\n",
    "       'African American or Afro-Caribbean individuals':'AFR',\n",
    "       'African ancestry individuals': 'AFR',\n",
    "       'White British ancestry male individuals': 'EUR',\n",
    "       'African ancestry casesAfrican ancestry controls': 'AFR'}"
   ]
  },
  {
   "cell_type": "code",
   "execution_count": 773,
   "metadata": {
    "ExecuteTime": {
     "end_time": "2025-03-12T18:48:39.545613Z",
     "start_time": "2025-03-12T18:48:39.542894Z"
    }
   },
   "outputs": [],
   "source": [
    "out_cat['Ancestry'] = out_cat['pop'].map(pop_map)\n"
   ]
  },
  {
   "cell_type": "code",
   "execution_count": 777,
   "metadata": {
    "ExecuteTime": {
     "end_time": "2025-03-12T18:50:54.283986Z",
     "start_time": "2025-03-12T18:50:54.279245Z"
    }
   },
   "outputs": [],
   "source": [
    "ukb_cat_out = out_cat.loc[:, ('PUBMED ID','DATE', 'DISEASE/TRAIT', 'N', 'Ancestry',  'ASSOCIATION COUNT', \n",
    "                               'MAPPED_TRAIT', 'MAPPED_TRAIT_URI','STUDY ACCESSION', 'cat_idx')]\n",
    "ukb_cat_out['StudyC'] = 'GC_idx'+ukb_cat_out.cat_idx.astype(str) + '_' + ukb_cat_out['STUDY ACCESSION']"
   ]
  },
  {
   "cell_type": "code",
   "execution_count": 778,
   "metadata": {
    "ExecuteTime": {
     "end_time": "2025-03-12T18:51:31.732877Z",
     "start_time": "2025-03-12T18:51:31.723043Z"
    }
   },
   "outputs": [],
   "source": [
    "ukb_cat_out.to_csv('/cellar/users/snwright/Data/RareCommon/GWASCatalog/UKB_GWASCat_Genebass_matched_traits.tsv', sep='\\t', index=False)"
   ]
  },
  {
   "cell_type": "code",
   "execution_count": 779,
   "metadata": {
    "ExecuteTime": {
     "end_time": "2025-03-12T18:51:33.614046Z",
     "start_time": "2025-03-12T18:51:33.610575Z"
    }
   },
   "outputs": [
    {
     "data": {
      "text/plain": [
       "545"
      ]
     },
     "execution_count": 779,
     "metadata": {},
     "output_type": "execute_result"
    }
   ],
   "source": [
    "sum(ukb_cat_out['ASSOCIATION COUNT']>3)"
   ]
  },
  {
   "cell_type": "markdown",
   "metadata": {},
   "source": [
    "### Export UKB Rare trait info"
   ]
  },
  {
   "cell_type": "code",
   "execution_count": 780,
   "metadata": {
    "ExecuteTime": {
     "end_time": "2025-03-12T18:51:59.487908Z",
     "start_time": "2025-03-12T18:51:59.483690Z"
    }
   },
   "outputs": [],
   "source": [
    "mutual_gb = phenos[phenos.gb_idx.isin(cat_matches.Series2_Index.values)]"
   ]
  },
  {
   "cell_type": "code",
   "execution_count": 781,
   "metadata": {
    "ExecuteTime": {
     "end_time": "2025-03-12T18:52:11.289252Z",
     "start_time": "2025-03-12T18:52:11.284851Z"
    }
   },
   "outputs": [],
   "source": [
    "mutual_gb = mutual_gb.merge(cat_matches.loc[:,('Series2_Index', 'Series2_Text')], left_on='gb_idx', right_on='Series2_Index')"
   ]
  },
  {
   "cell_type": "code",
   "execution_count": 782,
   "metadata": {
    "ExecuteTime": {
     "end_time": "2025-03-12T18:52:16.080502Z",
     "start_time": "2025-03-12T18:52:16.077659Z"
    }
   },
   "outputs": [],
   "source": [
    "mutual_gb = mutual_gb.loc[:, ('n_cases', 'n_controls', 'heritability','trait_type', 'N','phenocode', 'coding', 'Series2_Text', 'gb_idx')]"
   ]
  },
  {
   "cell_type": "code",
   "execution_count": 784,
   "metadata": {
    "ExecuteTime": {
     "end_time": "2025-03-12T18:52:40.991893Z",
     "start_time": "2025-03-12T18:52:40.987870Z"
    }
   },
   "outputs": [],
   "source": [
    "mutual_gb = mutual_gb[mutual_gb.trait_type!='icd_first_occurrence']"
   ]
  },
  {
   "cell_type": "code",
   "execution_count": 786,
   "metadata": {
    "ExecuteTime": {
     "end_time": "2025-03-12T18:52:52.815014Z",
     "start_time": "2025-03-12T18:52:52.811452Z"
    }
   },
   "outputs": [],
   "source": [
    "mutual_gb['Classification']= mutual_gb['trait_type'].map({'categorical':'Population CC', 'continuous':'Population Q', \n",
    "                                                          'icd10':'Population CC', 'icd_first_occurrence':'Exclude'})"
   ]
  },
  {
   "cell_type": "code",
   "execution_count": 787,
   "metadata": {
    "ExecuteTime": {
     "end_time": "2025-03-12T18:53:01.086454Z",
     "start_time": "2025-03-12T18:53:01.083597Z"
    }
   },
   "outputs": [],
   "source": [
    "mutual_gb_out = mutual_gb.loc[:, ('gb_idx', 'Series2_Text', 'N', 'Classification', 'phenocode', 'coding', 'heritability')]"
   ]
  },
  {
   "cell_type": "code",
   "execution_count": 789,
   "metadata": {
    "ExecuteTime": {
     "end_time": "2025-03-12T18:54:30.770826Z",
     "start_time": "2025-03-12T18:54:30.765884Z"
    }
   },
   "outputs": [],
   "source": [
    "mutual_gb_out['StudyR'] = 'GB_UKB_idx' + mutual_gb_out.gb_idx.astype(str) + '_phe' + mutual_gb_out.phenocode.astype(str)"
   ]
  },
  {
   "cell_type": "code",
   "execution_count": 790,
   "metadata": {
    "ExecuteTime": {
     "end_time": "2025-03-12T18:55:02.504755Z",
     "start_time": "2025-03-12T18:55:02.478464Z"
    }
   },
   "outputs": [],
   "source": [
    "mutual_gb_out.to_csv('/cellar/users/snwright/Data/RareCommon/GeneBASS/UKB_Genebass_GWASCat_matched_traits.tsv', sep='\\t', index=False)"
   ]
  },
  {
   "cell_type": "markdown",
   "metadata": {},
   "source": [
    "### Export matches"
   ]
  },
  {
   "cell_type": "code",
   "execution_count": 792,
   "metadata": {
    "ExecuteTime": {
     "end_time": "2025-03-12T18:57:39.713595Z",
     "start_time": "2025-03-12T18:57:39.711426Z"
    }
   },
   "outputs": [],
   "source": [
    "cat_matches.columns= ['cat_idx', 'DISEASE/TRAIT', 'gb_idx', 'description', 'Cosine']"
   ]
  },
  {
   "cell_type": "code",
   "execution_count": 793,
   "metadata": {
    "ExecuteTime": {
     "end_time": "2025-03-12T18:58:20.777155Z",
     "start_time": "2025-03-12T18:58:20.707529Z"
    }
   },
   "outputs": [],
   "source": [
    "cat_matches = cat_matches.merge(mutual_gb_out.loc[:, ('gb_idx', 'StudyR')], on='gb_idx').merge(ukb_cat_out.loc[:, ('cat_idx', 'StudyC')], on='cat_idx')\n",
    "cat_matches.to_csv('/cellar/users/snwright/Data/RareCommon/inputs/UKB/trait_matches_genebass_gwascat_Mar12.txt', sep='\\t', index=False)"
   ]
  },
  {
   "cell_type": "markdown",
   "metadata": {},
   "source": [
    "## BERT matching of Genebass and GwasAtlas"
   ]
  },
  {
   "cell_type": "code",
   "execution_count": 65,
   "metadata": {
    "ExecuteTime": {
     "end_time": "2025-03-21T18:05:22.227216Z",
     "start_time": "2025-03-21T18:05:21.257037Z"
    }
   },
   "outputs": [],
   "source": [
    "import numpy as np\n",
    "import pandas as pd\n",
    "from sklearn.metrics.pairwise import cosine_similarity\n",
    "from scipy.cluster.hierarchy import linkage, fcluster\n",
    "from scipy.spatial.distance import pdist\n",
    "\n",
    "def get_all_matches(series1, series2, emb1, emb2, th=0.8):\n",
    "    \"\"\"\n",
    "    Given two pandas Series (series1 and series2) along with their precomputed embeddings (emb1 and emb2),\n",
    "    compute the cosine similarity between every string from series1 and every string from series2.\n",
    "    \n",
    "    Returns a DataFrame with all pairs (one string from each Series) having a cosine similarity >= th.\n",
    "    Each row includes:\n",
    "      - Series1_Index, Series1_Text,\n",
    "      - Series2_Index, Series2_Text,\n",
    "      - Cosine_Similarity.\n",
    "    \n",
    "    Parameters:\n",
    "      series1 (pd.Series): Series of strings (with index) for list1.\n",
    "      series2 (pd.Series): Series of strings (with index) for list2.\n",
    "      emb1 (np.ndarray): Embeddings for the strings in series1 (assumed to correspond in order to series1.index).\n",
    "      emb2 (np.ndarray): Embeddings for the strings in series2.\n",
    "      th (float): Cosine similarity threshold (default=0.8).\n",
    "    \n",
    "    Returns:\n",
    "      pd.DataFrame: DataFrame containing all unique pairs with similarity >= th.\n",
    "    \"\"\"\n",
    "    # Compute the cosine similarity matrix between emb1 and emb2.\n",
    "    sim_matrix = cosine_similarity(emb1, emb2)\n",
    "    \n",
    "    pairs = []\n",
    "    # Loop over rows (series1) and columns (series2) to collect pairs meeting threshold.\n",
    "    n1, n2 = sim_matrix.shape\n",
    "    for i in range(n1):\n",
    "        for j in range(n2):\n",
    "            sim = sim_matrix[i, j]\n",
    "            if sim >= th:\n",
    "                pairs.append({\n",
    "                    \"Series1_Index\": series1.index[i],\n",
    "                    \"Series1_Text\": series1.iloc[i],\n",
    "                    \"Series2_Index\": series2.index[j],\n",
    "                    \"Series2_Text\": series2.iloc[j],\n",
    "                    \"Cosine_Similarity\": sim\n",
    "                })\n",
    "    \n",
    "    # Create DataFrame of matches.\n",
    "    matches_df = pd.DataFrame(pairs)\n",
    "    # (If the same pair could be found twice by any chance, drop duplicates.)\n",
    "    matches_df.drop_duplicates(inplace=True)\n",
    "    # Optionally, sort by descending similarity.\n",
    "    matches_df.sort_values(by=\"Cosine_Similarity\", ascending=False, inplace=True)\n",
    "    return matches_df\n"
   ]
  },
  {
   "cell_type": "code",
   "execution_count": 66,
   "metadata": {
    "ExecuteTime": {
     "end_time": "2025-03-21T18:05:22.404676Z",
     "start_time": "2025-03-21T18:05:22.393727Z"
    }
   },
   "outputs": [
    {
     "data": {
      "text/html": [
       "<div>\n",
       "<style scoped>\n",
       "    .dataframe tbody tr th:only-of-type {\n",
       "        vertical-align: middle;\n",
       "    }\n",
       "\n",
       "    .dataframe tbody tr th {\n",
       "        vertical-align: top;\n",
       "    }\n",
       "\n",
       "    .dataframe thead th {\n",
       "        text-align: right;\n",
       "    }\n",
       "</style>\n",
       "<table border=\"1\" class=\"dataframe\">\n",
       "  <thead>\n",
       "    <tr style=\"text-align: right;\">\n",
       "      <th></th>\n",
       "      <th>PMID</th>\n",
       "      <th>Year</th>\n",
       "      <th>File</th>\n",
       "      <th>Website</th>\n",
       "      <th>Consortium</th>\n",
       "      <th>Domain</th>\n",
       "      <th>ChapterLevel</th>\n",
       "      <th>SubchapterLevel</th>\n",
       "      <th>Trait</th>\n",
       "      <th>uniqTrait</th>\n",
       "      <th>...</th>\n",
       "      <th>SNPh2_l</th>\n",
       "      <th>SNPh2_l_se</th>\n",
       "      <th>LambdaGC</th>\n",
       "      <th>Chi2</th>\n",
       "      <th>Intercept</th>\n",
       "      <th>Note</th>\n",
       "      <th>DateAdded</th>\n",
       "      <th>DateLastModified</th>\n",
       "      <th>ga_idx</th>\n",
       "      <th>phecode</th>\n",
       "    </tr>\n",
       "    <tr>\n",
       "      <th>id</th>\n",
       "      <th></th>\n",
       "      <th></th>\n",
       "      <th></th>\n",
       "      <th></th>\n",
       "      <th></th>\n",
       "      <th></th>\n",
       "      <th></th>\n",
       "      <th></th>\n",
       "      <th></th>\n",
       "      <th></th>\n",
       "      <th></th>\n",
       "      <th></th>\n",
       "      <th></th>\n",
       "      <th></th>\n",
       "      <th></th>\n",
       "      <th></th>\n",
       "      <th></th>\n",
       "      <th></th>\n",
       "      <th></th>\n",
       "      <th></th>\n",
       "      <th></th>\n",
       "    </tr>\n",
       "  </thead>\n",
       "  <tbody>\n",
       "    <tr>\n",
       "      <th>41</th>\n",
       "      <td>27046643</td>\n",
       "      <td>2016</td>\n",
       "      <td>http://www.psy.ed.ac.uk/ccace/downloads/Davies...</td>\n",
       "      <td>http://www.ccace.ed.ac.uk/node/335</td>\n",
       "      <td>CCACE</td>\n",
       "      <td>Environment</td>\n",
       "      <td>Major Life Areas</td>\n",
       "      <td>Education</td>\n",
       "      <td>educational attainment</td>\n",
       "      <td>educational attainment</td>\n",
       "      <td>...</td>\n",
       "      <td>NaN</td>\n",
       "      <td>NaN</td>\n",
       "      <td>1.3068</td>\n",
       "      <td>1.3685</td>\n",
       "      <td>1.0342</td>\n",
       "      <td>UK Biobank cohort. The number of risk loci rep...</td>\n",
       "      <td>2017-07-04</td>\n",
       "      <td>2017-07-04</td>\n",
       "      <td>40</td>\n",
       "      <td>NaN</td>\n",
       "    </tr>\n",
       "  </tbody>\n",
       "</table>\n",
       "<p>1 rows × 30 columns</p>\n",
       "</div>"
      ],
      "text/plain": [
       "        PMID  Year                                               File  \\\n",
       "id                                                                      \n",
       "41  27046643  2016  http://www.psy.ed.ac.uk/ccace/downloads/Davies...   \n",
       "\n",
       "                               Website Consortium       Domain  \\\n",
       "id                                                               \n",
       "41  http://www.ccace.ed.ac.uk/node/335      CCACE  Environment   \n",
       "\n",
       "        ChapterLevel SubchapterLevel                   Trait  \\\n",
       "id                                                             \n",
       "41  Major Life Areas       Education  educational attainment   \n",
       "\n",
       "                 uniqTrait  ... SNPh2_l  SNPh2_l_se  LambdaGC    Chi2  \\\n",
       "id                          ...                                         \n",
       "41  educational attainment  ...     NaN         NaN    1.3068  1.3685   \n",
       "\n",
       "   Intercept                                               Note   DateAdded  \\\n",
       "id                                                                            \n",
       "41    1.0342  UK Biobank cohort. The number of risk loci rep...  2017-07-04   \n",
       "\n",
       "    DateLastModified  ga_idx  phecode  \n",
       "id                                     \n",
       "41        2017-07-04      40      NaN  \n",
       "\n",
       "[1 rows x 30 columns]"
      ]
     },
     "execution_count": 66,
     "metadata": {},
     "output_type": "execute_result"
    }
   ],
   "source": [
    "ukb_info.head(1)"
   ]
  },
  {
   "cell_type": "code",
   "execution_count": 67,
   "metadata": {
    "ExecuteTime": {
     "end_time": "2025-03-21T18:05:22.740053Z",
     "start_time": "2025-03-21T18:05:22.735273Z"
    }
   },
   "outputs": [
    {
     "data": {
      "text/plain": [
       "phenocode\n",
       "41210    787\n",
       "41200    735\n",
       "20003    422\n",
       "20002    235\n",
       "20004    182\n",
       "        ... \n",
       "23104      1\n",
       "23102      1\n",
       "23098      1\n",
       "1687       1\n",
       "20504      1\n",
       "Name: count, Length: 2097, dtype: int64"
      ]
     },
     "execution_count": 67,
     "metadata": {},
     "output_type": "execute_result"
    }
   ],
   "source": [
    "phenos.phenocode.value_counts()"
   ]
  },
  {
   "cell_type": "code",
   "execution_count": 68,
   "metadata": {
    "ExecuteTime": {
     "end_time": "2025-03-21T18:05:23.437801Z",
     "start_time": "2025-03-21T18:05:23.432989Z"
    }
   },
   "outputs": [
    {
     "data": {
      "text/plain": [
       "(69, 50)"
      ]
     },
     "execution_count": 68,
     "metadata": {},
     "output_type": "execute_result"
    }
   ],
   "source": [
    "# first direct matches based on phecodes - do not use 'coding' from genebass will give incorrect matches\n",
    "phe_match = phenos.merge(ukb_info, left_on='phenocode', right_on='phecode', how='inner')\n",
    "phe_match.shape"
   ]
  },
  {
   "cell_type": "code",
   "execution_count": null,
   "metadata": {
    "ExecuteTime": {
     "end_time": "2025-03-12T18:05:40.506907Z",
     "start_time": "2025-03-12T18:05:40.501172Z"
    }
   },
   "outputs": [],
   "source": []
  },
  {
   "cell_type": "code",
   "execution_count": 69,
   "metadata": {
    "ExecuteTime": {
     "end_time": "2025-03-21T18:05:24.530151Z",
     "start_time": "2025-03-21T18:05:24.528207Z"
    }
   },
   "outputs": [],
   "source": [
    "ga_match_ids = list(phe_match.ga_idx.values)"
   ]
  },
  {
   "cell_type": "markdown",
   "metadata": {},
   "source": [
    "#### Descriptions"
   ]
  },
  {
   "cell_type": "code",
   "execution_count": 70,
   "metadata": {
    "ExecuteTime": {
     "end_time": "2025-03-21T18:05:25.418047Z",
     "start_time": "2025-03-21T18:05:25.411756Z"
    }
   },
   "outputs": [
    {
     "data": {
      "text/plain": [
       "(2058, 20)"
      ]
     },
     "execution_count": 70,
     "metadata": {},
     "output_type": "execute_result"
    }
   ],
   "source": [
    "# get the traits where we will use the description column\n",
    "desc_counts = phenos.description.value_counts()\n",
    "use_description = phenos[~phenos.description.isin(desc_counts[desc_counts>3].index.values)]\n",
    "use_description = use_description[~use_description.description.isna()]\n",
    "use_description.shape"
   ]
  },
  {
   "cell_type": "code",
   "execution_count": 75,
   "metadata": {
    "ExecuteTime": {
     "end_time": "2025-03-21T18:06:19.900883Z",
     "start_time": "2025-03-21T18:06:11.594044Z"
    }
   },
   "outputs": [
    {
     "data": {
      "application/vnd.jupyter.widget-view+json": {
       "model_id": "ace3bc318d45486bbd4d424ab2ff5e55",
       "version_major": 2,
       "version_minor": 0
      },
      "text/plain": [
       "Batches:   0%|          | 0/13 [00:00<?, ?it/s]"
      ]
     },
     "metadata": {},
     "output_type": "display_data"
    },
    {
     "data": {
      "application/vnd.jupyter.widget-view+json": {
       "model_id": "560ef554afb0464591752b111b8af9b9",
       "version_major": 2,
       "version_minor": 0
      },
      "text/plain": [
       "Batches:   0%|          | 0/65 [00:00<?, ?it/s]"
      ]
     },
     "metadata": {},
     "output_type": "display_data"
    }
   ],
   "source": [
    "# get embeddings\n",
    "ga_embeddings = model.encode(list(ukb_info[~ukb_info.ga_idx.isin(ga_match_ids)]['Trait'].values), batch_size=32, show_progress_bar=True)\n",
    "bass_embeddings1 = model.encode(use_description.description.values, batch_size=32, show_progress_bar=True)"
   ]
  },
  {
   "cell_type": "code",
   "execution_count": 76,
   "metadata": {
    "ExecuteTime": {
     "end_time": "2025-03-21T18:06:21.670995Z",
     "start_time": "2025-03-21T18:06:20.103885Z"
    }
   },
   "outputs": [],
   "source": [
    "ga_desc = get_all_matches(ukb_info[~ukb_info.ga_idx.isin(ga_match_ids)].set_index('ga_idx').Trait, \n",
    "                          use_description.set_index('gb_idx').description, \n",
    "                          ga_embeddings, bass_embeddings1, th=0.7)"
   ]
  },
  {
   "cell_type": "markdown",
   "metadata": {},
   "source": [
    "#### Coding descriptions"
   ]
  },
  {
   "cell_type": "code",
   "execution_count": 77,
   "metadata": {
    "ExecuteTime": {
     "end_time": "2025-03-21T18:06:29.056132Z",
     "start_time": "2025-03-21T18:06:21.863186Z"
    }
   },
   "outputs": [
    {
     "data": {
      "application/vnd.jupyter.widget-view+json": {
       "model_id": "2a41a1e145714804a75588c85f09d5dc",
       "version_major": 2,
       "version_minor": 0
      },
      "text/plain": [
       "Batches:   0%|          | 0/76 [00:00<?, ?it/s]"
      ]
     },
     "metadata": {},
     "output_type": "display_data"
    }
   ],
   "source": [
    "use_coding = phenos[(~phenos.coding_description.isna()) & (~phenos.gb_idx.isin(use_description.gb_idx.values))]\n",
    "bass_embeddings2 = model.encode(use_coding.coding_description.values, batch_size=32, show_progress_bar=True)\n"
   ]
  },
  {
   "cell_type": "code",
   "execution_count": 78,
   "metadata": {
    "ExecuteTime": {
     "end_time": "2025-03-21T18:06:31.114647Z",
     "start_time": "2025-03-21T18:06:29.270166Z"
    }
   },
   "outputs": [],
   "source": [
    "ga_coding = get_all_matches(ukb_info[~ukb_info.ga_idx.isin(ga_match_ids)].set_index('ga_idx').Trait, \n",
    "                          use_coding.set_index('gb_idx').coding_description, \n",
    "                          ga_embeddings, bass_embeddings2, th=0.7)"
   ]
  },
  {
   "cell_type": "markdown",
   "metadata": {},
   "source": [
    "#### Combine dfs and identify groups"
   ]
  },
  {
   "cell_type": "code",
   "execution_count": 89,
   "metadata": {
    "ExecuteTime": {
     "end_time": "2025-03-21T18:07:44.566719Z",
     "start_time": "2025-03-21T18:07:44.564167Z"
    }
   },
   "outputs": [],
   "source": [
    "ga_all = pd.concat([ga_desc, ga_coding])"
   ]
  },
  {
   "cell_type": "code",
   "execution_count": 88,
   "metadata": {
    "ExecuteTime": {
     "end_time": "2025-03-21T18:07:00.728816Z",
     "start_time": "2025-03-21T18:07:00.723535Z"
    }
   },
   "outputs": [
    {
     "data": {
      "text/html": [
       "<div>\n",
       "<style scoped>\n",
       "    .dataframe tbody tr th:only-of-type {\n",
       "        vertical-align: middle;\n",
       "    }\n",
       "\n",
       "    .dataframe tbody tr th {\n",
       "        vertical-align: top;\n",
       "    }\n",
       "\n",
       "    .dataframe thead th {\n",
       "        text-align: right;\n",
       "    }\n",
       "</style>\n",
       "<table border=\"1\" class=\"dataframe\">\n",
       "  <thead>\n",
       "    <tr style=\"text-align: right;\">\n",
       "      <th></th>\n",
       "      <th>ga_idx</th>\n",
       "      <th>Trait</th>\n",
       "      <th>gb_idx</th>\n",
       "      <th>description</th>\n",
       "      <th>Cosine</th>\n",
       "    </tr>\n",
       "  </thead>\n",
       "  <tbody>\n",
       "    <tr>\n",
       "      <th>34</th>\n",
       "      <td>4174</td>\n",
       "      <td>heel bone mineral density</td>\n",
       "      <td>3758</td>\n",
       "      <td>heel bone mineral density</td>\n",
       "      <td>1.000000</td>\n",
       "    </tr>\n",
       "    <tr>\n",
       "      <th>8</th>\n",
       "      <td>3238</td>\n",
       "      <td>exposure to tobacco smoke outside home</td>\n",
       "      <td>2618</td>\n",
       "      <td>exposure to tobacco smoke at home</td>\n",
       "      <td>0.947096</td>\n",
       "    </tr>\n",
       "    <tr>\n",
       "      <th>49</th>\n",
       "      <td>4293</td>\n",
       "      <td>chronotype</td>\n",
       "      <td>3760</td>\n",
       "      <td>chronotype (quantitative)</td>\n",
       "      <td>0.903574</td>\n",
       "    </tr>\n",
       "    <tr>\n",
       "      <th>1</th>\n",
       "      <td>1140</td>\n",
       "      <td>chronotype</td>\n",
       "      <td>3760</td>\n",
       "      <td>chronotype (quantitative)</td>\n",
       "      <td>0.903574</td>\n",
       "    </tr>\n",
       "    <tr>\n",
       "      <th>2</th>\n",
       "      <td>1141</td>\n",
       "      <td>sleep duration</td>\n",
       "      <td>3789</td>\n",
       "      <td>sleep duration (quantitative)</td>\n",
       "      <td>0.896718</td>\n",
       "    </tr>\n",
       "  </tbody>\n",
       "</table>\n",
       "</div>"
      ],
      "text/plain": [
       "    ga_idx                                   Trait  gb_idx  \\\n",
       "34    4174               heel bone mineral density    3758   \n",
       "8     3238  exposure to tobacco smoke outside home    2618   \n",
       "49    4293                              chronotype    3760   \n",
       "1     1140                              chronotype    3760   \n",
       "2     1141                          sleep duration    3789   \n",
       "\n",
       "                          description    Cosine  \n",
       "34          heel bone mineral density  1.000000  \n",
       "8   exposure to tobacco smoke at home  0.947096  \n",
       "49          chronotype (quantitative)  0.903574  \n",
       "1           chronotype (quantitative)  0.903574  \n",
       "2       sleep duration (quantitative)  0.896718  "
      ]
     },
     "execution_count": 88,
     "metadata": {},
     "output_type": "execute_result"
    }
   ],
   "source": [
    "ga_all.head()"
   ]
  },
  {
   "cell_type": "code",
   "execution_count": 80,
   "metadata": {
    "ExecuteTime": {
     "end_time": "2025-03-21T18:06:31.536314Z",
     "start_time": "2025-03-21T18:06:31.531010Z"
    }
   },
   "outputs": [
    {
     "data": {
      "text/plain": [
       "4490"
      ]
     },
     "execution_count": 80,
     "metadata": {},
     "output_type": "execute_result"
    }
   ],
   "source": [
    "series_gb = pd.concat([use_description.set_index('gb_idx').description, use_coding.set_index('gb_idx').coding_description])\n",
    "len(series_gb)"
   ]
  },
  {
   "cell_type": "code",
   "execution_count": 81,
   "metadata": {
    "ExecuteTime": {
     "end_time": "2025-03-21T18:06:31.750845Z",
     "start_time": "2025-03-21T18:06:31.746967Z"
    }
   },
   "outputs": [
    {
     "data": {
      "text/plain": [
       "(4490, 384)"
      ]
     },
     "execution_count": 81,
     "metadata": {},
     "output_type": "execute_result"
    }
   ],
   "source": [
    "bass_emb = np.concatenate([bass_embeddings1, bass_embeddings2])\n",
    "bass_emb.shape"
   ]
  },
  {
   "cell_type": "markdown",
   "metadata": {},
   "source": [
    "### Export"
   ]
  },
  {
   "cell_type": "code",
   "execution_count": 90,
   "metadata": {
    "ExecuteTime": {
     "end_time": "2025-03-21T18:07:48.790863Z",
     "start_time": "2025-03-21T18:07:48.787432Z"
    }
   },
   "outputs": [],
   "source": [
    "ga_all.columns = ['ga_idx', 'Trait', 'gb_idx', 'description', 'Cosine']"
   ]
  },
  {
   "cell_type": "code",
   "execution_count": 91,
   "metadata": {
    "ExecuteTime": {
     "end_time": "2025-03-21T18:08:05.600046Z",
     "start_time": "2025-03-21T18:08:05.597107Z"
    },
    "scrolled": true
   },
   "outputs": [],
   "source": [
    "phe_combined = phe_match.loc[:, ('ga_idx', 'Trait', 'gb_idx', 'description')]\n",
    "phe_combined['Cosine'] = 1.0"
   ]
  },
  {
   "cell_type": "code",
   "execution_count": 94,
   "metadata": {
    "ExecuteTime": {
     "end_time": "2025-03-21T18:08:46.264978Z",
     "start_time": "2025-03-21T18:08:46.262446Z"
    }
   },
   "outputs": [],
   "source": [
    "all_matches = pd.concat([ga_all, phe_combined])"
   ]
  },
  {
   "cell_type": "code",
   "execution_count": 101,
   "metadata": {
    "ExecuteTime": {
     "end_time": "2025-03-21T18:09:15.678566Z",
     "start_time": "2025-03-21T18:09:15.674951Z"
    }
   },
   "outputs": [],
   "source": [
    "ukb_info_out = ukb_info[ukb_info.ga_idx.isin(all_matches.ga_idx.values)]"
   ]
  },
  {
   "cell_type": "code",
   "execution_count": 102,
   "metadata": {
    "ExecuteTime": {
     "end_time": "2025-03-21T18:09:16.526384Z",
     "start_time": "2025-03-21T18:09:16.522761Z"
    }
   },
   "outputs": [
    {
     "data": {
      "text/plain": [
       "(166, 30)"
      ]
     },
     "execution_count": 102,
     "metadata": {},
     "output_type": "execute_result"
    }
   ],
   "source": [
    "ukb_info_out.drop_duplicates(subset=['PMID', 'Trait', 'Population']).shape"
   ]
  },
  {
   "cell_type": "code",
   "execution_count": 103,
   "metadata": {
    "ExecuteTime": {
     "end_time": "2025-03-21T18:09:17.550962Z",
     "start_time": "2025-03-21T18:09:17.548101Z"
    }
   },
   "outputs": [],
   "source": [
    "ukb_info_out = ukb_info_out.assign(Population= ukb_info_out.Population.map({'UKB1 (EUR)':'UKB1', 'UKB2 (EUR)':'UKB2', \n",
    "                                                             'UKB2 (EUR meta)':'UKB2meta', 'UKB1 (EUR meta)':'UKB1meta'}))"
   ]
  },
  {
   "cell_type": "code",
   "execution_count": 104,
   "metadata": {
    "ExecuteTime": {
     "end_time": "2025-03-21T18:09:18.369603Z",
     "start_time": "2025-03-21T18:09:18.365085Z"
    }
   },
   "outputs": [
    {
     "data": {
      "text/plain": [
       "array(['UKB1', 'UKB2'], dtype=object)"
      ]
     },
     "execution_count": 104,
     "metadata": {},
     "output_type": "execute_result"
    }
   ],
   "source": [
    "ukb_info_out.Population.unique()"
   ]
  },
  {
   "cell_type": "code",
   "execution_count": 105,
   "metadata": {
    "ExecuteTime": {
     "end_time": "2025-03-21T18:09:21.257708Z",
     "start_time": "2025-03-21T18:09:21.254701Z"
    }
   },
   "outputs": [],
   "source": [
    "ukb_info_out['StudyC'] = 'GA_idx'+ukb_info_out.ga_idx.astype(str) +'_'+ ukb_info_out.Population + '_' + ukb_info_out.PMID.astype(str)"
   ]
  },
  {
   "cell_type": "code",
   "execution_count": 106,
   "metadata": {
    "ExecuteTime": {
     "end_time": "2025-03-21T18:09:22.341777Z",
     "start_time": "2025-03-21T18:09:22.162606Z"
    }
   },
   "outputs": [],
   "source": [
    "ukb_info_out.drop(columns=['File', 'Website', 'Consortium', 'DateAdded', 'DateLastModified']).to_csv('/cellar/users/snwright/Data/RareCommon/GWASAtlas/UKB_Atlas_Genebass_matched_traits.tsv', sep='\\t', index=False)"
   ]
  },
  {
   "cell_type": "code",
   "execution_count": 107,
   "metadata": {
    "ExecuteTime": {
     "end_time": "2025-03-21T18:09:23.447883Z",
     "start_time": "2025-03-21T18:09:23.445451Z"
    }
   },
   "outputs": [],
   "source": [
    "phenos_out1 = phenos[phenos.gb_idx.isin(all_matches.gb_idx.values)]"
   ]
  },
  {
   "cell_type": "code",
   "execution_count": 109,
   "metadata": {
    "ExecuteTime": {
     "end_time": "2025-03-21T18:09:34.646642Z",
     "start_time": "2025-03-21T18:09:34.643063Z"
    }
   },
   "outputs": [
    {
     "name": "stderr",
     "output_type": "stream",
     "text": [
      "/tmp/ipykernel_3352879/2085730337.py:1: SettingWithCopyWarning: \n",
      "A value is trying to be set on a copy of a slice from a DataFrame.\n",
      "Try using .loc[row_indexer,col_indexer] = value instead\n",
      "\n",
      "See the caveats in the documentation: https://pandas.pydata.org/pandas-docs/stable/user_guide/indexing.html#returning-a-view-versus-a-copy\n",
      "  phenos_out1['StudyR'] = 'GB_UKB_idx' + phenos_out1.gb_idx.astype(str) + '_phe' + phenos_out1.phenocode.astype(str)\n"
     ]
    }
   ],
   "source": [
    "phenos_out1['StudyR'] = 'GB_UKB_idx' + phenos_out1.gb_idx.astype(str) + '_phe' + phenos_out1.phenocode.astype(str)"
   ]
  },
  {
   "cell_type": "code",
   "execution_count": 110,
   "metadata": {
    "ExecuteTime": {
     "end_time": "2025-03-21T18:09:37.712405Z",
     "start_time": "2025-03-21T18:09:37.709558Z"
    }
   },
   "outputs": [
    {
     "data": {
      "text/plain": [
       "Index(['n_cases', 'n_controls', 'heritability', 'saige_version',\n",
       "       'inv_normalized', 'trait_type', 'phenocode', 'pheno_sex', 'coding',\n",
       "       'modifier', 'n_cases_defined', 'n_cases_both_sexes', 'n_cases_females',\n",
       "       'n_cases_males', 'description', 'description_more',\n",
       "       'coding_description', 'category', 'N', 'gb_idx', 'StudyR'],\n",
       "      dtype='object')"
      ]
     },
     "execution_count": 110,
     "metadata": {},
     "output_type": "execute_result"
    }
   ],
   "source": [
    "phenos_out1.columns"
   ]
  },
  {
   "cell_type": "code",
   "execution_count": 111,
   "metadata": {
    "ExecuteTime": {
     "end_time": "2025-03-21T18:09:43.646157Z",
     "start_time": "2025-03-21T18:09:43.612586Z"
    }
   },
   "outputs": [],
   "source": [
    "phenos_out1.to_csv('/cellar/users/snwright/Data/RareCommon/GeneBASS/UKB_Atlas_matched_trait_info.txt', sep='\\t')"
   ]
  },
  {
   "cell_type": "code",
   "execution_count": 116,
   "metadata": {
    "ExecuteTime": {
     "end_time": "2025-03-21T18:16:57.323642Z",
     "start_time": "2025-03-21T18:16:57.305528Z"
    }
   },
   "outputs": [],
   "source": [
    "all_matches = all_matches.merge(phenos_out1.loc[:, ('gb_idx', 'StudyR')], on='gb_idx').merge(ukb_info_out.loc[:, ('ga_idx', 'StudyC')], on='ga_idx')\n",
    "all_matches.to_csv('/cellar/users/snwright/Data/RareCommon/inputs/UKB/trait_matches_genebass_atlas_Mar21.txt', sep='\\t', index=False)"
   ]
  },
  {
   "cell_type": "code",
   "execution_count": 117,
   "metadata": {
    "ExecuteTime": {
     "end_time": "2025-03-21T18:16:59.780340Z",
     "start_time": "2025-03-21T18:16:59.758720Z"
    }
   },
   "outputs": [],
   "source": [
    "all_matches.to_csv('/cellar/users/snwright/Data/RareCommon/inputs/UKB/trait_matches_genebass_atlas_Mar21.txt', sep='\\t', index=False)"
   ]
  },
  {
   "cell_type": "markdown",
   "metadata": {},
   "source": [
    "## RAVAR"
   ]
  },
  {
   "cell_type": "code",
   "execution_count": 797,
   "metadata": {
    "ExecuteTime": {
     "end_time": "2025-03-12T21:07:51.579572Z",
     "start_time": "2025-03-12T21:07:51.569812Z"
    }
   },
   "outputs": [],
   "source": [
    "ravar_info = pd.read_csv('/cellar/users/snwright/Data/RareCommon/Annotations/rare_info/cleaned_info_gwascat_matches.tsv', sep='\\t')\n",
    "ravar_ukb = ravar_info[ravar_info.COHORT=='UKB']\n",
    "ukb_pmid = list(ravar_ukb.PMID.unique()) + [33226994,33574263,34626176,36050321,36297015,36311265,36450729]"
   ]
  },
  {
   "cell_type": "code",
   "execution_count": 809,
   "metadata": {
    "ExecuteTime": {
     "end_time": "2025-03-12T21:11:59.859352Z",
     "start_time": "2025-03-12T21:11:59.654575Z"
    }
   },
   "outputs": [],
   "source": [
    "ravar_genes = pd.read_csv(os.path.join(datadir, '../RAVAR' ,'gene_fulltable_06112024.txt.entrez'),sep='\\t', \n",
    "                            usecols=['Gene Symbol', 'Ensembl ID', 'Gene Type', 'Entrez', 'CHR', 'Location', 'Reported Trait', 'Trait Label', 'Trait Ontology id', 'EFO synonym', 'P-value', 'PMID'])\n",
    "#replace '−' with '-'\n",
    "ravar_genes['P-value'] = ravar_genes['P-value'].apply(lambda x: float(x.replace('−','-')) if type(x) == str else float(x))\n",
    "ravar_genes['TRAIT_CODE'] = ravar_genes['Trait Ontology id'].apply(lambda x: x.replace(\":\", \"_\") if type(x) == str else x)\n",
    "ravar_genes['logp'] = -1 * np.log10(ravar_genes['P-value'] + 1e-250)"
   ]
  },
  {
   "cell_type": "code",
   "execution_count": 810,
   "metadata": {
    "ExecuteTime": {
     "end_time": "2025-03-12T21:12:00.470992Z",
     "start_time": "2025-03-12T21:12:00.272145Z"
    }
   },
   "outputs": [],
   "source": [
    "ukb_assoc = ravar_genes[ravar_genes.PMID.isin(ukb_pmid)]\n",
    "gene_counts = ukb_assoc.groupby(['PMID', 'TRAIT_CODE', 'Reported Trait']).Entrez.nunique().reset_index().rename(columns={'Entrez':'geneCount'})\n",
    "ukb_assoc = ukb_assoc.merge(gene_counts, on=['PMID', 'TRAIT_CODE', 'Reported Trait'])"
   ]
  },
  {
   "cell_type": "code",
   "execution_count": 812,
   "metadata": {
    "ExecuteTime": {
     "end_time": "2025-03-12T21:12:08.804415Z",
     "start_time": "2025-03-12T21:12:08.797840Z"
    }
   },
   "outputs": [],
   "source": [
    "ukb_assoc = ukb_assoc[ukb_assoc.geneCount>= 3]"
   ]
  },
  {
   "cell_type": "code",
   "execution_count": 818,
   "metadata": {
    "ExecuteTime": {
     "end_time": "2025-03-12T21:14:44.777623Z",
     "start_time": "2025-03-12T21:14:44.773401Z"
    }
   },
   "outputs": [],
   "source": [
    "ukb_assoc = ukb_assoc.drop_duplicates(['PMID', 'TRAIT_CODE', 'Reported Trait'])\n",
    "ukb_assoc['ravar_idx'] = [x for x in range(len(ukb_assoc))]"
   ]
  },
  {
   "cell_type": "code",
   "execution_count": 820,
   "metadata": {
    "ExecuteTime": {
     "end_time": "2025-03-12T21:15:48.986250Z",
     "start_time": "2025-03-12T21:15:43.088207Z"
    }
   },
   "outputs": [],
   "source": [
    "ravar_emb=model.encode(ukb_assoc['Reported Trait'].values, batch_size=32)"
   ]
  },
  {
   "cell_type": "markdown",
   "metadata": {},
   "source": [
    "### RAVAR + GWAS Cat"
   ]
  },
  {
   "cell_type": "code",
   "execution_count": 902,
   "metadata": {
    "ExecuteTime": {
     "end_time": "2025-03-12T22:42:29.727854Z",
     "start_time": "2025-03-12T22:42:15.479656Z"
    }
   },
   "outputs": [],
   "source": [
    "match1 = get_all_matches(ukb_cat.set_index('cat_idx')['DISEASE/TRAIT'], \n",
    "                ukb_assoc.set_index('ravar_idx')['Reported Trait'], \n",
    "                cat_embeddings, ravar_emb, th=0.8)"
   ]
  },
  {
   "cell_type": "code",
   "execution_count": 903,
   "metadata": {
    "ExecuteTime": {
     "end_time": "2025-03-12T22:42:30.201629Z",
     "start_time": "2025-03-12T22:42:30.196125Z"
    }
   },
   "outputs": [
    {
     "data": {
      "text/html": [
       "<div>\n",
       "<style scoped>\n",
       "    .dataframe tbody tr th:only-of-type {\n",
       "        vertical-align: middle;\n",
       "    }\n",
       "\n",
       "    .dataframe tbody tr th {\n",
       "        vertical-align: top;\n",
       "    }\n",
       "\n",
       "    .dataframe thead th {\n",
       "        text-align: right;\n",
       "    }\n",
       "</style>\n",
       "<table border=\"1\" class=\"dataframe\">\n",
       "  <thead>\n",
       "    <tr style=\"text-align: right;\">\n",
       "      <th></th>\n",
       "      <th>Series1_Index</th>\n",
       "      <th>Series1_Text</th>\n",
       "      <th>Series2_Index</th>\n",
       "      <th>Series2_Text</th>\n",
       "      <th>Cosine_Similarity</th>\n",
       "    </tr>\n",
       "  </thead>\n",
       "  <tbody>\n",
       "    <tr>\n",
       "      <th>5</th>\n",
       "      <td>9491</td>\n",
       "      <td>angina</td>\n",
       "      <td>1211</td>\n",
       "      <td>Angina</td>\n",
       "      <td>1.0</td>\n",
       "    </tr>\n",
       "    <tr>\n",
       "      <th>428</th>\n",
       "      <td>106787</td>\n",
       "      <td>hernia</td>\n",
       "      <td>603</td>\n",
       "      <td>Hernia</td>\n",
       "      <td>1.0</td>\n",
       "    </tr>\n",
       "    <tr>\n",
       "      <th>208</th>\n",
       "      <td>33656</td>\n",
       "      <td>mean reticulocyte volume</td>\n",
       "      <td>1497</td>\n",
       "      <td>Mean reticulocyte volume</td>\n",
       "      <td>1.0</td>\n",
       "    </tr>\n",
       "    <tr>\n",
       "      <th>130</th>\n",
       "      <td>29325</td>\n",
       "      <td>mean reticulocyte volume</td>\n",
       "      <td>1497</td>\n",
       "      <td>Mean reticulocyte volume</td>\n",
       "      <td>1.0</td>\n",
       "    </tr>\n",
       "    <tr>\n",
       "      <th>152</th>\n",
       "      <td>35295</td>\n",
       "      <td>triglycerides</td>\n",
       "      <td>20</td>\n",
       "      <td>Triglycerides</td>\n",
       "      <td>1.0</td>\n",
       "    </tr>\n",
       "  </tbody>\n",
       "</table>\n",
       "</div>"
      ],
      "text/plain": [
       "     Series1_Index              Series1_Text  Series2_Index  \\\n",
       "5             9491                    angina           1211   \n",
       "428         106787                    hernia            603   \n",
       "208          33656  mean reticulocyte volume           1497   \n",
       "130          29325  mean reticulocyte volume           1497   \n",
       "152          35295             triglycerides             20   \n",
       "\n",
       "                 Series2_Text  Cosine_Similarity  \n",
       "5                      Angina                1.0  \n",
       "428                    Hernia                1.0  \n",
       "208  Mean reticulocyte volume                1.0  \n",
       "130  Mean reticulocyte volume                1.0  \n",
       "152             Triglycerides                1.0  "
      ]
     },
     "execution_count": 903,
     "metadata": {},
     "output_type": "execute_result"
    }
   ],
   "source": [
    "match1.head()"
   ]
  },
  {
   "cell_type": "markdown",
   "metadata": {
    "ExecuteTime": {
     "end_time": "2025-03-12T21:38:53.680021Z",
     "start_time": "2025-03-12T21:38:53.677192Z"
    }
   },
   "source": [
    "#### Export RAVAR + gwasCAT"
   ]
  },
  {
   "cell_type": "code",
   "execution_count": 857,
   "metadata": {
    "ExecuteTime": {
     "end_time": "2025-03-12T21:41:10.722055Z",
     "start_time": "2025-03-12T21:41:10.716729Z"
    }
   },
   "outputs": [],
   "source": [
    "out_cat2 = ukb_cat[ukb_cat.cat_idx.isin(match1.Series1_Index.values)]\n",
    "\n",
    "out_cat2 = out_cat2.loc[:, ('PUBMED ID','DATE', 'DISEASE/TRAIT', 'INITIAL SAMPLE SIZE','N', 'ASSOCIATION COUNT', \n",
    "                               'MAPPED_TRAIT', 'MAPPED_TRAIT_URI','STUDY ACCESSION', 'cat_idx')]\n",
    "out_cat2['pop'] = [extract_ancestry(x) for x in out_cat2['INITIAL SAMPLE SIZE'].values]"
   ]
  },
  {
   "cell_type": "code",
   "execution_count": 860,
   "metadata": {
    "ExecuteTime": {
     "end_time": "2025-03-12T21:41:39.376955Z",
     "start_time": "2025-03-12T21:41:39.373303Z"
    }
   },
   "outputs": [
    {
     "name": "stdout",
     "output_type": "stream",
     "text": [
      "['white-British ancestry individuals']\n"
     ]
    }
   ],
   "source": [
    "print([x for x in out_cat2['pop'].unique() if x not in pop_map])\n",
    "pop_map['white-British ancestry individuals'] = 'EUR'"
   ]
  },
  {
   "cell_type": "code",
   "execution_count": 861,
   "metadata": {
    "ExecuteTime": {
     "end_time": "2025-03-12T21:41:46.543089Z",
     "start_time": "2025-03-12T21:41:46.540371Z"
    }
   },
   "outputs": [],
   "source": [
    "out_cat2['Ancestry'] = out_cat2['pop'].map(pop_map)"
   ]
  },
  {
   "cell_type": "code",
   "execution_count": 862,
   "metadata": {
    "ExecuteTime": {
     "end_time": "2025-03-12T21:42:07.774704Z",
     "start_time": "2025-03-12T21:42:07.750578Z"
    }
   },
   "outputs": [],
   "source": [
    "ukb_cat_out2 = out_cat2.loc[:, ('PUBMED ID','DATE', 'DISEASE/TRAIT', 'N', 'Ancestry',  'ASSOCIATION COUNT', \n",
    "                               'MAPPED_TRAIT', 'MAPPED_TRAIT_URI','STUDY ACCESSION', 'cat_idx')]\n",
    "ukb_cat_out2['StudyC'] = 'GC_idx'+ukb_cat_out2.cat_idx.astype(str) + '_' + ukb_cat_out2['STUDY ACCESSION']\n",
    "\n",
    "ukb_cat_out2.to_csv('/cellar/users/snwright/Data/RareCommon/GWASCatalog/UKB_GWASCat_RAVAR_matched_traits.tsv', sep='\\t', index=False)"
   ]
  },
  {
   "cell_type": "code",
   "execution_count": null,
   "metadata": {},
   "outputs": [],
   "source": [
    "#rare"
   ]
  },
  {
   "cell_type": "code",
   "execution_count": 908,
   "metadata": {
    "ExecuteTime": {
     "end_time": "2025-03-12T22:57:01.910773Z",
     "start_time": "2025-03-12T22:57:01.903588Z"
    }
   },
   "outputs": [
    {
     "data": {
      "text/html": [
       "<div>\n",
       "<style scoped>\n",
       "    .dataframe tbody tr th:only-of-type {\n",
       "        vertical-align: middle;\n",
       "    }\n",
       "\n",
       "    .dataframe tbody tr th {\n",
       "        vertical-align: top;\n",
       "    }\n",
       "\n",
       "    .dataframe thead th {\n",
       "        text-align: right;\n",
       "    }\n",
       "</style>\n",
       "<table border=\"1\" class=\"dataframe\">\n",
       "  <thead>\n",
       "    <tr style=\"text-align: right;\">\n",
       "      <th></th>\n",
       "      <th>Reported Trait</th>\n",
       "      <th>Trait Label</th>\n",
       "      <th>Trait Ontology id</th>\n",
       "      <th>PMID</th>\n",
       "      <th>COHORT</th>\n",
       "      <th>Ancestry</th>\n",
       "      <th>Notes</th>\n",
       "      <th>ExtraNote</th>\n",
       "      <th>index</th>\n",
       "      <th>N</th>\n",
       "      <th>Classification</th>\n",
       "    </tr>\n",
       "  </thead>\n",
       "  <tbody>\n",
       "    <tr>\n",
       "      <th>0</th>\n",
       "      <td>Abnormal findings on diagnostic imaging of oth...</td>\n",
       "      <td>abnormal result of diagnostic imaging</td>\n",
       "      <td>EFO:0009827</td>\n",
       "      <td>34375979</td>\n",
       "      <td>UKB</td>\n",
       "      <td>EUR</td>\n",
       "      <td>NaN</td>\n",
       "      <td>NaN</td>\n",
       "      <td>1</td>\n",
       "      <td>281104.0</td>\n",
       "      <td>Population CC/Q</td>\n",
       "    </tr>\n",
       "    <tr>\n",
       "      <th>1</th>\n",
       "      <td>Biochemistry Total Protein measurement</td>\n",
       "      <td>total blood protein measurement</td>\n",
       "      <td>EFO:0004536</td>\n",
       "      <td>34226706</td>\n",
       "      <td>UKB</td>\n",
       "      <td>EUR</td>\n",
       "      <td>NaN</td>\n",
       "      <td>NaN</td>\n",
       "      <td>2</td>\n",
       "      <td>400482.0</td>\n",
       "      <td>Population Q</td>\n",
       "    </tr>\n",
       "    <tr>\n",
       "      <th>2</th>\n",
       "      <td>Biochemistry Calcium measurement</td>\n",
       "      <td>calcium measurement</td>\n",
       "      <td>EFO:0004838</td>\n",
       "      <td>34226706</td>\n",
       "      <td>UKB</td>\n",
       "      <td>EUR</td>\n",
       "      <td>NaN</td>\n",
       "      <td>NaN</td>\n",
       "      <td>3</td>\n",
       "      <td>400792.0</td>\n",
       "      <td>Population Q</td>\n",
       "    </tr>\n",
       "    <tr>\n",
       "      <th>3</th>\n",
       "      <td>Biochemistry SHBG measurement</td>\n",
       "      <td>sex hormone-binding globulin measurement</td>\n",
       "      <td>EFO:0004696</td>\n",
       "      <td>34226706</td>\n",
       "      <td>UKB</td>\n",
       "      <td>EUR</td>\n",
       "      <td>NaN</td>\n",
       "      <td>NaN</td>\n",
       "      <td>4</td>\n",
       "      <td>397043.0</td>\n",
       "      <td>Population Q</td>\n",
       "    </tr>\n",
       "    <tr>\n",
       "      <th>4</th>\n",
       "      <td>Biochemistry Gamma Glutamyl transferase measur...</td>\n",
       "      <td>serum gamma-glutamyl transferase measurement</td>\n",
       "      <td>EFO:0004532</td>\n",
       "      <td>34226706</td>\n",
       "      <td>UKB</td>\n",
       "      <td>EUR</td>\n",
       "      <td>NaN</td>\n",
       "      <td>NaN</td>\n",
       "      <td>5</td>\n",
       "      <td>437651.0</td>\n",
       "      <td>Population Q</td>\n",
       "    </tr>\n",
       "  </tbody>\n",
       "</table>\n",
       "</div>"
      ],
      "text/plain": [
       "                                      Reported Trait  \\\n",
       "0  Abnormal findings on diagnostic imaging of oth...   \n",
       "1             Biochemistry Total Protein measurement   \n",
       "2                   Biochemistry Calcium measurement   \n",
       "3                      Biochemistry SHBG measurement   \n",
       "4  Biochemistry Gamma Glutamyl transferase measur...   \n",
       "\n",
       "                                    Trait Label Trait Ontology id      PMID  \\\n",
       "0         abnormal result of diagnostic imaging       EFO:0009827  34375979   \n",
       "1               total blood protein measurement       EFO:0004536  34226706   \n",
       "2                           calcium measurement       EFO:0004838  34226706   \n",
       "3      sex hormone-binding globulin measurement       EFO:0004696  34226706   \n",
       "4  serum gamma-glutamyl transferase measurement       EFO:0004532  34226706   \n",
       "\n",
       "  COHORT Ancestry Notes ExtraNote  index         N   Classification  \n",
       "0    UKB      EUR   NaN       NaN      1  281104.0  Population CC/Q  \n",
       "1    UKB      EUR   NaN       NaN      2  400482.0     Population Q  \n",
       "2    UKB      EUR   NaN       NaN      3  400792.0     Population Q  \n",
       "3    UKB      EUR   NaN       NaN      4  397043.0     Population Q  \n",
       "4    UKB      EUR   NaN       NaN      5  437651.0     Population Q  "
      ]
     },
     "execution_count": 908,
     "metadata": {},
     "output_type": "execute_result"
    }
   ],
   "source": [
    "ravar_info.head()"
   ]
  },
  {
   "cell_type": "code",
   "execution_count": 904,
   "metadata": {
    "ExecuteTime": {
     "end_time": "2025-03-12T22:42:35.291170Z",
     "start_time": "2025-03-12T22:42:35.287086Z"
    }
   },
   "outputs": [],
   "source": [
    "ravar_out1 = ukb_assoc[ukb_assoc.ravar_idx.isin(match1.Series2_Index).values].drop(columns=['Gene Symbol', 'Ensembl ID', \n",
    "                                                                                           'Gene Type', \n",
    "                                                                                           'CHR', 'Location',\n",
    "                                                                                           'logp','P-value', 'Entrez'])"
   ]
  },
  {
   "cell_type": "code",
   "execution_count": 905,
   "metadata": {
    "ExecuteTime": {
     "end_time": "2025-03-12T22:42:36.242338Z",
     "start_time": "2025-03-12T22:42:36.239146Z"
    }
   },
   "outputs": [],
   "source": [
    "ravar_out1['StudyR'] = 'UKB_RAVAR_idx' + ravar_out1['PMID'].astype(str) + '_' + ravar_out1['TRAIT_CODE']"
   ]
  },
  {
   "cell_type": "code",
   "execution_count": 913,
   "metadata": {
    "ExecuteTime": {
     "end_time": "2025-03-12T22:59:09.146749Z",
     "start_time": "2025-03-12T22:59:09.141175Z"
    }
   },
   "outputs": [],
   "source": [
    "ravar_out1 = ravar_out1.merge(ravar_info.loc[:, ('PMID', 'Reported Trait', 'N')], on=['PMID', 'Reported Trait'],  how='inner')"
   ]
  },
  {
   "cell_type": "code",
   "execution_count": 915,
   "metadata": {
    "ExecuteTime": {
     "end_time": "2025-03-12T22:59:36.842054Z",
     "start_time": "2025-03-12T22:59:36.833887Z"
    }
   },
   "outputs": [],
   "source": [
    "ravar_out1.to_csv('/cellar/users/snwright/Data/RareCommon/RAVAR/UKB_GWAScat_matched_trait_info.txt', sep='\\t', index=False)"
   ]
  },
  {
   "cell_type": "code",
   "execution_count": 909,
   "metadata": {
    "ExecuteTime": {
     "end_time": "2025-03-12T22:57:15.702790Z",
     "start_time": "2025-03-12T22:57:15.696215Z"
    }
   },
   "outputs": [
    {
     "data": {
      "text/html": [
       "<div>\n",
       "<style scoped>\n",
       "    .dataframe tbody tr th:only-of-type {\n",
       "        vertical-align: middle;\n",
       "    }\n",
       "\n",
       "    .dataframe tbody tr th {\n",
       "        vertical-align: top;\n",
       "    }\n",
       "\n",
       "    .dataframe thead th {\n",
       "        text-align: right;\n",
       "    }\n",
       "</style>\n",
       "<table border=\"1\" class=\"dataframe\">\n",
       "  <thead>\n",
       "    <tr style=\"text-align: right;\">\n",
       "      <th></th>\n",
       "      <th>Reported Trait</th>\n",
       "      <th>Trait Label</th>\n",
       "      <th>Trait Ontology id</th>\n",
       "      <th>EFO synonym</th>\n",
       "      <th>PMID</th>\n",
       "      <th>TRAIT_CODE</th>\n",
       "      <th>geneCount</th>\n",
       "      <th>ravar_idx</th>\n",
       "      <th>StudyR</th>\n",
       "    </tr>\n",
       "  </thead>\n",
       "  <tbody>\n",
       "    <tr>\n",
       "      <th>4</th>\n",
       "      <td>Biochemistry Gamma Glutamyl transferase measur...</td>\n",
       "      <td>serum gamma-glutamyl transferase measurement</td>\n",
       "      <td>EFO:0004532</td>\n",
       "      <td>GGT measurement;Gamma gluatamyl transferase le...</td>\n",
       "      <td>34226706.0</td>\n",
       "      <td>EFO_0004532</td>\n",
       "      <td>33</td>\n",
       "      <td>4</td>\n",
       "      <td>UKB_RAVAR_idx34226706.0_EFO_0004532</td>\n",
       "    </tr>\n",
       "    <tr>\n",
       "      <th>6</th>\n",
       "      <td>Biochemistry Total Bilirubin measurement</td>\n",
       "      <td>bilirubin measurement</td>\n",
       "      <td>EFO:0004570</td>\n",
       "      <td>bilirubin levels</td>\n",
       "      <td>34226706.0</td>\n",
       "      <td>EFO_0004570</td>\n",
       "      <td>23</td>\n",
       "      <td>6</td>\n",
       "      <td>UKB_RAVAR_idx34226706.0_EFO_0004570</td>\n",
       "    </tr>\n",
       "    <tr>\n",
       "      <th>7</th>\n",
       "      <td>Biochemistry Triglycerides</td>\n",
       "      <td>triglyceride</td>\n",
       "      <td>CHEBI:17855</td>\n",
       "      <td>triglycerides;Triglyceride</td>\n",
       "      <td>34226706.0</td>\n",
       "      <td>CHEBI_17855</td>\n",
       "      <td>25</td>\n",
       "      <td>7</td>\n",
       "      <td>UKB_RAVAR_idx34226706.0_CHEBI_17855</td>\n",
       "    </tr>\n",
       "    <tr>\n",
       "      <th>8</th>\n",
       "      <td>Biochemistry Apolipoprotein B measurement</td>\n",
       "      <td>apolipoprotein B change measurement</td>\n",
       "      <td>EFO:0020874</td>\n",
       "      <td>NaN</td>\n",
       "      <td>34226706.0</td>\n",
       "      <td>EFO_0020874</td>\n",
       "      <td>28</td>\n",
       "      <td>8</td>\n",
       "      <td>UKB_RAVAR_idx34226706.0_EFO_0020874</td>\n",
       "    </tr>\n",
       "    <tr>\n",
       "      <th>11</th>\n",
       "      <td>Apolipoprotein b (30640) measurement</td>\n",
       "      <td>apolipoprotein B change measurement</td>\n",
       "      <td>EFO:0020874</td>\n",
       "      <td>NaN</td>\n",
       "      <td>34662886.0</td>\n",
       "      <td>EFO_0020874</td>\n",
       "      <td>18</td>\n",
       "      <td>11</td>\n",
       "      <td>UKB_RAVAR_idx34662886.0_EFO_0020874</td>\n",
       "    </tr>\n",
       "  </tbody>\n",
       "</table>\n",
       "</div>"
      ],
      "text/plain": [
       "                                       Reported Trait  \\\n",
       "4   Biochemistry Gamma Glutamyl transferase measur...   \n",
       "6            Biochemistry Total Bilirubin measurement   \n",
       "7                          Biochemistry Triglycerides   \n",
       "8           Biochemistry Apolipoprotein B measurement   \n",
       "11               Apolipoprotein b (30640) measurement   \n",
       "\n",
       "                                     Trait Label Trait Ontology id  \\\n",
       "4   serum gamma-glutamyl transferase measurement       EFO:0004532   \n",
       "6                          bilirubin measurement       EFO:0004570   \n",
       "7                                   triglyceride       CHEBI:17855   \n",
       "8            apolipoprotein B change measurement       EFO:0020874   \n",
       "11           apolipoprotein B change measurement       EFO:0020874   \n",
       "\n",
       "                                          EFO synonym        PMID  \\\n",
       "4   GGT measurement;Gamma gluatamyl transferase le...  34226706.0   \n",
       "6                                    bilirubin levels  34226706.0   \n",
       "7                          triglycerides;Triglyceride  34226706.0   \n",
       "8                                                 NaN  34226706.0   \n",
       "11                                                NaN  34662886.0   \n",
       "\n",
       "     TRAIT_CODE  geneCount  ravar_idx                               StudyR  \n",
       "4   EFO_0004532         33          4  UKB_RAVAR_idx34226706.0_EFO_0004532  \n",
       "6   EFO_0004570         23          6  UKB_RAVAR_idx34226706.0_EFO_0004570  \n",
       "7   CHEBI_17855         25          7  UKB_RAVAR_idx34226706.0_CHEBI_17855  \n",
       "8   EFO_0020874         28          8  UKB_RAVAR_idx34226706.0_EFO_0020874  \n",
       "11  EFO_0020874         18         11  UKB_RAVAR_idx34662886.0_EFO_0020874  "
      ]
     },
     "execution_count": 909,
     "metadata": {},
     "output_type": "execute_result"
    }
   ],
   "source": [
    "ravar_out1.head()"
   ]
  },
  {
   "cell_type": "code",
   "execution_count": 892,
   "metadata": {
    "ExecuteTime": {
     "end_time": "2025-03-12T21:52:54.386963Z",
     "start_time": "2025-03-12T21:52:54.384773Z"
    }
   },
   "outputs": [],
   "source": [
    "# matches"
   ]
  },
  {
   "cell_type": "code",
   "execution_count": 906,
   "metadata": {
    "ExecuteTime": {
     "end_time": "2025-03-12T22:42:38.744558Z",
     "start_time": "2025-03-12T22:42:38.742403Z"
    }
   },
   "outputs": [],
   "source": [
    "match1.columns = ['cat_idx', 'DISEASE/TRAIT', 'ravar_idx', 'Reported Trait', 'Cosine']"
   ]
  },
  {
   "cell_type": "code",
   "execution_count": 907,
   "metadata": {
    "ExecuteTime": {
     "end_time": "2025-03-12T22:42:40.035975Z",
     "start_time": "2025-03-12T22:42:40.007349Z"
    }
   },
   "outputs": [],
   "source": [
    "match1 = match1.merge(ravar_out1.loc[:, ('ravar_idx', 'StudyR')], on='ravar_idx').merge(ukb_cat_out2.loc[:, ('cat_idx', 'StudyC')], on='cat_idx')\n",
    "match1.to_csv('/cellar/users/snwright/Data/RareCommon/inputs/UKB/trait_matches_ravar_gwascat_Mar12.txt', sep='\\t', index=False)"
   ]
  },
  {
   "cell_type": "markdown",
   "metadata": {},
   "source": [
    "### RAVAR + GWAS Atlas"
   ]
  },
  {
   "cell_type": "code",
   "execution_count": 834,
   "metadata": {
    "ExecuteTime": {
     "end_time": "2025-03-12T21:22:58.967323Z",
     "start_time": "2025-03-12T21:22:57.262568Z"
    }
   },
   "outputs": [
    {
     "data": {
      "application/vnd.jupyter.widget-view+json": {
       "model_id": "10d0ad0898674b498901ad7bc9094c43",
       "version_major": 2,
       "version_minor": 0
      },
      "text/plain": [
       "Batches:   0%|          | 0/21 [00:00<?, ?it/s]"
      ]
     },
     "metadata": {},
     "output_type": "display_data"
    }
   ],
   "source": [
    "ga_embeddings2 = model.encode(list(ukb_info['Trait'].values), batch_size=32, show_progress_bar=True)\n"
   ]
  },
  {
   "cell_type": "code",
   "execution_count": 842,
   "metadata": {
    "ExecuteTime": {
     "end_time": "2025-03-12T21:24:46.079902Z",
     "start_time": "2025-03-12T21:24:43.479470Z"
    }
   },
   "outputs": [],
   "source": [
    "match2 = get_all_matches(ukb_info.set_index('ga_idx')['Trait'], \n",
    "                ukb_assoc.set_index('ravar_idx')['Reported Trait'], \n",
    "                ga_embeddings2, ravar_emb, th=0.8)"
   ]
  },
  {
   "cell_type": "code",
   "execution_count": null,
   "metadata": {},
   "outputs": [],
   "source": []
  },
  {
   "cell_type": "markdown",
   "metadata": {
    "ExecuteTime": {
     "end_time": "2025-03-12T21:42:54.238613Z",
     "start_time": "2025-03-12T21:42:54.236741Z"
    }
   },
   "source": [
    "#### Export RAVAR + GWAS Atlas"
   ]
  },
  {
   "cell_type": "code",
   "execution_count": 885,
   "metadata": {
    "ExecuteTime": {
     "end_time": "2025-03-12T21:51:34.582042Z",
     "start_time": "2025-03-12T21:51:34.579271Z"
    }
   },
   "outputs": [],
   "source": [
    "ukb_info_out2 = ukb_info[ukb_info.ga_idx.isin(match2.Series1_Index.values)]"
   ]
  },
  {
   "cell_type": "code",
   "execution_count": 888,
   "metadata": {
    "ExecuteTime": {
     "end_time": "2025-03-12T21:52:02.884872Z",
     "start_time": "2025-03-12T21:52:02.881831Z"
    }
   },
   "outputs": [],
   "source": [
    "ukb_info_out2 = ukb_info_out2.assign(Population= ukb_info_out2.Population.map({'UKB1 (EUR)':'UKB1', 'UKB2 (EUR)':'UK2', \n",
    "                                                             'UKB2 (EUR meta)':'UKB2meta', 'UKB1 (EUR meta)':'UKB1meta'}))"
   ]
  },
  {
   "cell_type": "code",
   "execution_count": 890,
   "metadata": {
    "ExecuteTime": {
     "end_time": "2025-03-12T21:52:15.967545Z",
     "start_time": "2025-03-12T21:52:15.963148Z"
    }
   },
   "outputs": [],
   "source": [
    "ukb_info_out2['StudyC'] = 'GA_idx'+ukb_info_out2.ga_idx.astype(str) +'_'+ ukb_info_out2.Population + '_' + ukb_info_out2.PMID.astype(str)"
   ]
  },
  {
   "cell_type": "code",
   "execution_count": 891,
   "metadata": {
    "ExecuteTime": {
     "end_time": "2025-03-12T21:52:29.486591Z",
     "start_time": "2025-03-12T21:52:29.465868Z"
    }
   },
   "outputs": [],
   "source": [
    "ukb_info_out2.drop(columns=['File', 'Website', 'Consortium', 'DateAdded', 'DateLastModified']).to_csv('/cellar/users/snwright/Data/RareCommon/GWASAtlas/UKB_Atlas_RAVAR_matched_traits.tsv', sep='\\t', index=False)"
   ]
  },
  {
   "cell_type": "code",
   "execution_count": null,
   "metadata": {},
   "outputs": [],
   "source": []
  },
  {
   "cell_type": "code",
   "execution_count": 873,
   "metadata": {
    "ExecuteTime": {
     "end_time": "2025-03-12T21:46:24.207919Z",
     "start_time": "2025-03-12T21:46:24.203790Z"
    }
   },
   "outputs": [],
   "source": [
    "ravar_out = ukb_assoc[ukb_assoc.ravar_idx.isin(match2.Series2_Index).values].drop(columns=['Gene Symbol', 'Ensembl ID', \n",
    "                                                                                           'Gene Type', \n",
    "                                                                                           'CHR', 'Location',\n",
    "                                                                                           'logp','P-value', 'Entrez'])"
   ]
  },
  {
   "cell_type": "code",
   "execution_count": 878,
   "metadata": {
    "ExecuteTime": {
     "end_time": "2025-03-12T21:48:19.881227Z",
     "start_time": "2025-03-12T21:48:19.876795Z"
    }
   },
   "outputs": [],
   "source": [
    "ravar_out['StudyR'] = 'UKB_RAVAR_idx' + ravar_out['PMID'].astype(str) + '_' + ravar_out['TRAIT_CODE']"
   ]
  },
  {
   "cell_type": "code",
   "execution_count": 916,
   "metadata": {
    "ExecuteTime": {
     "end_time": "2025-03-12T23:00:03.607761Z",
     "start_time": "2025-03-12T23:00:03.602101Z"
    }
   },
   "outputs": [],
   "source": [
    "ravar_out = ravar_out.merge(ravar_info.loc[:, ('PMID', 'Reported Trait', 'N')], on=['PMID', 'Reported Trait'],  how='inner')"
   ]
  },
  {
   "cell_type": "code",
   "execution_count": 917,
   "metadata": {
    "ExecuteTime": {
     "end_time": "2025-03-12T23:00:04.487117Z",
     "start_time": "2025-03-12T23:00:04.482894Z"
    }
   },
   "outputs": [],
   "source": [
    "ravar_out.to_csv('/cellar/users/snwright/Data/RareCommon/RAVAR/UKB_Atlas_matched_trait_info.txt', sep='\\t', index=False)"
   ]
  },
  {
   "cell_type": "code",
   "execution_count": 900,
   "metadata": {
    "ExecuteTime": {
     "end_time": "2025-03-12T21:55:57.723776Z",
     "start_time": "2025-03-12T21:55:57.721597Z"
    }
   },
   "outputs": [],
   "source": [
    "match2.columns = ['ga_idx', 'Trait', 'ravar_idx', 'Reported Trait', 'Cosine']"
   ]
  },
  {
   "cell_type": "code",
   "execution_count": 901,
   "metadata": {
    "ExecuteTime": {
     "end_time": "2025-03-12T21:56:40.245843Z",
     "start_time": "2025-03-12T21:56:40.236078Z"
    }
   },
   "outputs": [],
   "source": [
    "match2 = match2.merge(ravar_out.loc[:, ('ravar_idx', 'StudyR')], on='ravar_idx').merge(ukb_info_out2.loc[:, ('ga_idx', 'StudyC')], on='ga_idx')\n",
    "match2.to_csv('/cellar/users/snwright/Data/RareCommon/inputs/UKB/trait_matches_ravar_atlas_Mar12.txt', sep='\\t', index=False)"
   ]
  },
  {
   "cell_type": "markdown",
   "metadata": {},
   "source": [
    "## OLD code"
   ]
  },
  {
   "cell_type": "code",
   "execution_count": 869,
   "metadata": {
    "ExecuteTime": {
     "end_time": "2025-03-12T21:44:28.711179Z",
     "start_time": "2025-03-12T21:44:28.703681Z"
    }
   },
   "outputs": [
    {
     "data": {
      "text/html": [
       "<div>\n",
       "<style scoped>\n",
       "    .dataframe tbody tr th:only-of-type {\n",
       "        vertical-align: middle;\n",
       "    }\n",
       "\n",
       "    .dataframe tbody tr th {\n",
       "        vertical-align: top;\n",
       "    }\n",
       "\n",
       "    .dataframe thead th {\n",
       "        text-align: right;\n",
       "    }\n",
       "</style>\n",
       "<table border=\"1\" class=\"dataframe\">\n",
       "  <thead>\n",
       "    <tr style=\"text-align: right;\">\n",
       "      <th></th>\n",
       "      <th>Reported Trait</th>\n",
       "      <th>Trait Label</th>\n",
       "      <th>Trait Ontology id</th>\n",
       "      <th>PMID</th>\n",
       "      <th>COHORT</th>\n",
       "      <th>Ancestry</th>\n",
       "      <th>Notes</th>\n",
       "      <th>ExtraNote</th>\n",
       "      <th>index</th>\n",
       "      <th>N</th>\n",
       "      <th>Classification</th>\n",
       "    </tr>\n",
       "  </thead>\n",
       "  <tbody>\n",
       "    <tr>\n",
       "      <th>0</th>\n",
       "      <td>Abnormal findings on diagnostic imaging of oth...</td>\n",
       "      <td>abnormal result of diagnostic imaging</td>\n",
       "      <td>EFO:0009827</td>\n",
       "      <td>34375979</td>\n",
       "      <td>UKB</td>\n",
       "      <td>EUR</td>\n",
       "      <td>NaN</td>\n",
       "      <td>NaN</td>\n",
       "      <td>1</td>\n",
       "      <td>281104.0</td>\n",
       "      <td>Population CC/Q</td>\n",
       "    </tr>\n",
       "    <tr>\n",
       "      <th>1</th>\n",
       "      <td>Biochemistry Total Protein measurement</td>\n",
       "      <td>total blood protein measurement</td>\n",
       "      <td>EFO:0004536</td>\n",
       "      <td>34226706</td>\n",
       "      <td>UKB</td>\n",
       "      <td>EUR</td>\n",
       "      <td>NaN</td>\n",
       "      <td>NaN</td>\n",
       "      <td>2</td>\n",
       "      <td>400482.0</td>\n",
       "      <td>Population Q</td>\n",
       "    </tr>\n",
       "    <tr>\n",
       "      <th>2</th>\n",
       "      <td>Biochemistry Calcium measurement</td>\n",
       "      <td>calcium measurement</td>\n",
       "      <td>EFO:0004838</td>\n",
       "      <td>34226706</td>\n",
       "      <td>UKB</td>\n",
       "      <td>EUR</td>\n",
       "      <td>NaN</td>\n",
       "      <td>NaN</td>\n",
       "      <td>3</td>\n",
       "      <td>400792.0</td>\n",
       "      <td>Population Q</td>\n",
       "    </tr>\n",
       "    <tr>\n",
       "      <th>3</th>\n",
       "      <td>Biochemistry SHBG measurement</td>\n",
       "      <td>sex hormone-binding globulin measurement</td>\n",
       "      <td>EFO:0004696</td>\n",
       "      <td>34226706</td>\n",
       "      <td>UKB</td>\n",
       "      <td>EUR</td>\n",
       "      <td>NaN</td>\n",
       "      <td>NaN</td>\n",
       "      <td>4</td>\n",
       "      <td>397043.0</td>\n",
       "      <td>Population Q</td>\n",
       "    </tr>\n",
       "    <tr>\n",
       "      <th>4</th>\n",
       "      <td>Biochemistry Gamma Glutamyl transferase measur...</td>\n",
       "      <td>serum gamma-glutamyl transferase measurement</td>\n",
       "      <td>EFO:0004532</td>\n",
       "      <td>34226706</td>\n",
       "      <td>UKB</td>\n",
       "      <td>EUR</td>\n",
       "      <td>NaN</td>\n",
       "      <td>NaN</td>\n",
       "      <td>5</td>\n",
       "      <td>437651.0</td>\n",
       "      <td>Population Q</td>\n",
       "    </tr>\n",
       "  </tbody>\n",
       "</table>\n",
       "</div>"
      ],
      "text/plain": [
       "                                      Reported Trait  \\\n",
       "0  Abnormal findings on diagnostic imaging of oth...   \n",
       "1             Biochemistry Total Protein measurement   \n",
       "2                   Biochemistry Calcium measurement   \n",
       "3                      Biochemistry SHBG measurement   \n",
       "4  Biochemistry Gamma Glutamyl transferase measur...   \n",
       "\n",
       "                                    Trait Label Trait Ontology id      PMID  \\\n",
       "0         abnormal result of diagnostic imaging       EFO:0009827  34375979   \n",
       "1               total blood protein measurement       EFO:0004536  34226706   \n",
       "2                           calcium measurement       EFO:0004838  34226706   \n",
       "3      sex hormone-binding globulin measurement       EFO:0004696  34226706   \n",
       "4  serum gamma-glutamyl transferase measurement       EFO:0004532  34226706   \n",
       "\n",
       "  COHORT Ancestry Notes ExtraNote  index         N   Classification  \n",
       "0    UKB      EUR   NaN       NaN      1  281104.0  Population CC/Q  \n",
       "1    UKB      EUR   NaN       NaN      2  400482.0     Population Q  \n",
       "2    UKB      EUR   NaN       NaN      3  400792.0     Population Q  \n",
       "3    UKB      EUR   NaN       NaN      4  397043.0     Population Q  \n",
       "4    UKB      EUR   NaN       NaN      5  437651.0     Population Q  "
      ]
     },
     "execution_count": 869,
     "metadata": {},
     "output_type": "execute_result"
    }
   ],
   "source": [
    "ravar_ukb.head()"
   ]
  },
  {
   "cell_type": "code",
   "execution_count": 192,
   "metadata": {
    "ExecuteTime": {
     "end_time": "2025-03-11T22:12:13.460333Z",
     "start_time": "2025-03-11T22:12:13.456291Z"
    }
   },
   "outputs": [
    {
     "data": {
      "text/plain": [
       "829"
      ]
     },
     "execution_count": 192,
     "metadata": {},
     "output_type": "execute_result"
    }
   ],
   "source": [
    "df[df['Cosine Similarity'] > 0.7].List1.nunique()"
   ]
  },
  {
   "cell_type": "code",
   "execution_count": 193,
   "metadata": {
    "ExecuteTime": {
     "end_time": "2025-03-11T22:12:14.914925Z",
     "start_time": "2025-03-11T22:12:14.911087Z"
    }
   },
   "outputs": [
    {
     "data": {
      "text/plain": [
       "268"
      ]
     },
     "execution_count": 193,
     "metadata": {},
     "output_type": "execute_result"
    }
   ],
   "source": [
    "df[df['Cosine Similarity'] > 0.8]['Best Match in List2'].nunique()"
   ]
  },
  {
   "cell_type": "code",
   "execution_count": 195,
   "metadata": {
    "ExecuteTime": {
     "end_time": "2025-03-11T22:13:04.598921Z",
     "start_time": "2025-03-11T22:13:04.593031Z"
    }
   },
   "outputs": [
    {
     "data": {
      "text/html": [
       "<div>\n",
       "<style scoped>\n",
       "    .dataframe tbody tr th:only-of-type {\n",
       "        vertical-align: middle;\n",
       "    }\n",
       "\n",
       "    .dataframe tbody tr th {\n",
       "        vertical-align: top;\n",
       "    }\n",
       "\n",
       "    .dataframe thead th {\n",
       "        text-align: right;\n",
       "    }\n",
       "</style>\n",
       "<table border=\"1\" class=\"dataframe\">\n",
       "  <thead>\n",
       "    <tr style=\"text-align: right;\">\n",
       "      <th></th>\n",
       "      <th>List1</th>\n",
       "      <th>Best Match in List2</th>\n",
       "      <th>Cosine Similarity</th>\n",
       "    </tr>\n",
       "  </thead>\n",
       "  <tbody>\n",
       "    <tr>\n",
       "      <th>1361</th>\n",
       "      <td>sciatica</td>\n",
       "      <td>sciatica</td>\n",
       "      <td>1.000001</td>\n",
       "    </tr>\n",
       "    <tr>\n",
       "      <th>1320</th>\n",
       "      <td>bone disorder</td>\n",
       "      <td>bone disorder</td>\n",
       "      <td>1.000000</td>\n",
       "    </tr>\n",
       "    <tr>\n",
       "      <th>112</th>\n",
       "      <td>angina</td>\n",
       "      <td>angina</td>\n",
       "      <td>1.000000</td>\n",
       "    </tr>\n",
       "    <tr>\n",
       "      <th>1311</th>\n",
       "      <td>angina</td>\n",
       "      <td>angina</td>\n",
       "      <td>1.000000</td>\n",
       "    </tr>\n",
       "    <tr>\n",
       "      <th>20156</th>\n",
       "      <td>rheumatoid arthritis</td>\n",
       "      <td>rheumatoid arthritis</td>\n",
       "      <td>1.000000</td>\n",
       "    </tr>\n",
       "    <tr>\n",
       "      <th>...</th>\n",
       "      <td>...</td>\n",
       "      <td>...</td>\n",
       "      <td>...</td>\n",
       "    </tr>\n",
       "    <tr>\n",
       "      <th>1297</th>\n",
       "      <td>other neurological problem</td>\n",
       "      <td>other neurological problem</td>\n",
       "      <td>1.000000</td>\n",
       "    </tr>\n",
       "    <tr>\n",
       "      <th>16011</th>\n",
       "      <td>osteoarthritis</td>\n",
       "      <td>osteoarthritis</td>\n",
       "      <td>1.000000</td>\n",
       "    </tr>\n",
       "    <tr>\n",
       "      <th>1303</th>\n",
       "      <td>joint disorder</td>\n",
       "      <td>joint disorder</td>\n",
       "      <td>1.000000</td>\n",
       "    </tr>\n",
       "    <tr>\n",
       "      <th>16010</th>\n",
       "      <td>osteoarthritis</td>\n",
       "      <td>osteoarthritis</td>\n",
       "      <td>1.000000</td>\n",
       "    </tr>\n",
       "    <tr>\n",
       "      <th>16008</th>\n",
       "      <td>osteoarthritis</td>\n",
       "      <td>osteoarthritis</td>\n",
       "      <td>1.000000</td>\n",
       "    </tr>\n",
       "  </tbody>\n",
       "</table>\n",
       "<p>100 rows × 3 columns</p>\n",
       "</div>"
      ],
      "text/plain": [
       "                            List1         Best Match in List2  \\\n",
       "1361                     sciatica                    sciatica   \n",
       "1320                bone disorder               bone disorder   \n",
       "112                        angina                      angina   \n",
       "1311                       angina                      angina   \n",
       "20156        rheumatoid arthritis        rheumatoid arthritis   \n",
       "...                           ...                         ...   \n",
       "1297   other neurological problem  other neurological problem   \n",
       "16011              osteoarthritis              osteoarthritis   \n",
       "1303               joint disorder              joint disorder   \n",
       "16010              osteoarthritis              osteoarthritis   \n",
       "16008              osteoarthritis              osteoarthritis   \n",
       "\n",
       "       Cosine Similarity  \n",
       "1361            1.000001  \n",
       "1320            1.000000  \n",
       "112             1.000000  \n",
       "1311            1.000000  \n",
       "20156           1.000000  \n",
       "...                  ...  \n",
       "1297            1.000000  \n",
       "16011           1.000000  \n",
       "1303            1.000000  \n",
       "16010           1.000000  \n",
       "16008           1.000000  \n",
       "\n",
       "[100 rows x 3 columns]"
      ]
     },
     "execution_count": 195,
     "metadata": {},
     "output_type": "execute_result"
    }
   ],
   "source": [
    "df.head(100)"
   ]
  },
  {
   "cell_type": "code",
   "execution_count": 144,
   "metadata": {
    "ExecuteTime": {
     "end_time": "2025-03-11T21:18:36.122345Z",
     "start_time": "2025-03-11T21:18:35.050832Z"
    }
   },
   "outputs": [
    {
     "data": {
      "application/vnd.jupyter.widget-view+json": {
       "model_id": "74b5bc64ea3d405388f9d32bde6122dd",
       "version_major": 2,
       "version_minor": 0
      },
      "text/plain": [
       "Batches:   0%|          | 0/1 [00:00<?, ?it/s]"
      ]
     },
     "metadata": {},
     "output_type": "display_data"
    },
    {
     "data": {
      "application/vnd.jupyter.widget-view+json": {
       "model_id": "088d81fdbf7c4122aa35ebb0980b079b",
       "version_major": 2,
       "version_minor": 0
      },
      "text/plain": [
       "Batches:   0%|          | 0/1 [00:00<?, ?it/s]"
      ]
     },
     "metadata": {},
     "output_type": "display_data"
    },
    {
     "name": "stdout",
     "output_type": "stream",
     "text": [
      "List1: 'The quick brown fox jumps over the lazy dog.'\n",
      "Best match in List2: 'A fast, dark-colored fox leaps above a sleeping canine.'\n",
      "Cosine similarity: 0.7404\n",
      "--------------------------------------------------------------------------------\n",
      "List1: 'Machine learning is fascinating.'\n",
      "Best match in List2: 'I find AI to be very interesting.'\n",
      "Cosine similarity: 0.5942\n",
      "--------------------------------------------------------------------------------\n",
      "List1: 'Artificial intelligence is transforming the world.'\n",
      "Best match in List2: 'The study of machine intelligence is evolving rapidly.'\n",
      "Cosine similarity: 0.6928\n",
      "--------------------------------------------------------------------------------\n",
      "List1: 'Lung cancer'\n",
      "Best match in List2: 'Self reported illness code or trait: lung cancer'\n",
      "Cosine similarity: 0.6208\n",
      "--------------------------------------------------------------------------------\n"
     ]
    }
   ],
   "source": [
    "# Example lists of strings (replace these with your actual data)\n",
    "list1 = [\n",
    "    \"The quick brown fox jumps over the lazy dog.\",\n",
    "    \"Machine learning is fascinating.\",\n",
    "    \"Artificial intelligence is transforming the world.\",\n",
    "    \"Lung cancer\"\n",
    "]\n",
    "list2 = [\n",
    "    \"A fast, dark-colored fox leaps above a sleeping canine.\",\n",
    "    \"I find AI to be very interesting.\",\n",
    "    \"The study of machine intelligence is evolving rapidly.\",\n",
    "    'Self reported illness code or trait: lung cancer'\n",
    "]\n",
    "\n",
    "# Load the pre-trained SBERT model\n",
    "model = SentenceTransformer('all-MiniLM-L6-v2')\n",
    "\n",
    "# Encode both lists using batch processing for efficiency\n",
    "embeddings1 = model.encode(list1, batch_size=32, show_progress_bar=True)\n",
    "embeddings2 = model.encode(list2, batch_size=32, show_progress_bar=True)\n",
    "\n",
    "# Compute cosine similarity matrix between embeddings1 and embeddings2\n",
    "# Each entry [i, j] corresponds to the cosine similarity between list1[i] and list2[j]\n",
    "cos_sim_matrix = cosine_similarity(embeddings1, embeddings2)\n",
    "\n",
    "# For each string in list1, identify the best matching string in list2\n",
    "best_match_indices = np.argmax(cos_sim_matrix, axis=1)\n",
    "best_match_scores = np.max(cos_sim_matrix, axis=1)\n",
    "\n",
    "# Display the best matches and their cosine similarity scores\n",
    "for idx, match_idx in enumerate(best_match_indices):\n",
    "    print(f\"List1: '{list1[idx]}'\")\n",
    "    print(f\"Best match in List2: '{list2[match_idx]}'\")\n",
    "    print(f\"Cosine similarity: {best_match_scores[idx]:.4f}\")\n",
    "    print(\"-\" * 80)"
   ]
  },
  {
   "cell_type": "code",
   "execution_count": null,
   "metadata": {},
   "outputs": [],
   "source": []
  },
  {
   "cell_type": "code",
   "execution_count": 72,
   "metadata": {
    "ExecuteTime": {
     "end_time": "2025-03-11T20:41:19.286384Z",
     "start_time": "2025-03-11T20:41:19.282213Z"
    }
   },
   "outputs": [
    {
     "data": {
      "text/plain": [
       "7125"
      ]
     },
     "execution_count": 72,
     "metadata": {},
     "output_type": "execute_result"
    }
   ],
   "source": [
    "cat_info['PUBMED ID'].nunique()"
   ]
  },
  {
   "cell_type": "code",
   "execution_count": 8,
   "metadata": {
    "ExecuteTime": {
     "end_time": "2025-03-06T19:48:51.382847Z",
     "start_time": "2025-03-06T19:48:51.379720Z"
    }
   },
   "outputs": [
    {
     "data": {
      "text/plain": [
       "array([25672763, 25649651, 25672891, 25628645, 25241909, 25241909,\n",
       "       25241909, 25823570, 25823570, 25826619])"
      ]
     },
     "execution_count": 8,
     "metadata": {},
     "output_type": "execute_result"
    }
   ],
   "source": [
    "cat_info['PUBMED ID'].values[0:10]"
   ]
  },
  {
   "cell_type": "code",
   "execution_count": 9,
   "metadata": {
    "ExecuteTime": {
     "end_time": "2025-03-06T19:48:51.387841Z",
     "start_time": "2025-03-06T19:48:51.383873Z"
    }
   },
   "outputs": [
    {
     "data": {
      "text/plain": [
       "array(['20732625', '30478444', '30478444', '28540026', '21926972',\n",
       "       '26754954', '26754954', '22472876', '21926974', '23974872'],\n",
       "      dtype=object)"
      ]
     },
     "execution_count": 9,
     "metadata": {},
     "output_type": "execute_result"
    }
   ],
   "source": [
    "info['PMID'].values[0:10]"
   ]
  },
  {
   "cell_type": "code",
   "execution_count": 10,
   "metadata": {
    "ExecuteTime": {
     "end_time": "2025-03-06T19:48:51.393472Z",
     "start_time": "2025-03-06T19:48:51.390103Z"
    }
   },
   "outputs": [],
   "source": [
    "all_pmids = [x for x in info.PMID.unique() if x.isnumeric()]"
   ]
  },
  {
   "cell_type": "code",
   "execution_count": 11,
   "metadata": {
    "ExecuteTime": {
     "end_time": "2025-03-06T19:48:51.629504Z",
     "start_time": "2025-03-06T19:48:51.394490Z"
    }
   },
   "outputs": [],
   "source": [
    "missing_pmids = [x for x in all_pmids if int(x) not in cat_info['PUBMED ID'].unique()]"
   ]
  },
  {
   "cell_type": "code",
   "execution_count": 12,
   "metadata": {
    "ExecuteTime": {
     "end_time": "2025-03-06T19:48:51.633670Z",
     "start_time": "2025-03-06T19:48:51.630340Z"
    }
   },
   "outputs": [],
   "source": [
    "all_traits = info.Trait.unique()"
   ]
  },
  {
   "cell_type": "code",
   "execution_count": 13,
   "metadata": {
    "ExecuteTime": {
     "end_time": "2025-03-06T19:48:57.784967Z",
     "start_time": "2025-03-06T19:48:51.634566Z"
    }
   },
   "outputs": [],
   "source": [
    "missing_triats = [x for x in all_traits if x not in cat_info['DISEASE/TRAIT'].values]"
   ]
  },
  {
   "cell_type": "code",
   "execution_count": 14,
   "metadata": {
    "ExecuteTime": {
     "end_time": "2025-03-06T19:48:57.790281Z",
     "start_time": "2025-03-06T19:48:57.786423Z"
    }
   },
   "outputs": [
    {
     "data": {
      "text/plain": [
       "4177"
      ]
     },
     "execution_count": 14,
     "metadata": {},
     "output_type": "execute_result"
    }
   ],
   "source": [
    "len(missing_triats)"
   ]
  },
  {
   "cell_type": "code",
   "execution_count": 15,
   "metadata": {
    "ExecuteTime": {
     "end_time": "2025-03-06T19:48:57.807881Z",
     "start_time": "2025-03-06T19:48:57.791347Z"
    }
   },
   "outputs": [
    {
     "data": {
      "text/html": [
       "<div>\n",
       "<style scoped>\n",
       "    .dataframe tbody tr th:only-of-type {\n",
       "        vertical-align: middle;\n",
       "    }\n",
       "\n",
       "    .dataframe tbody tr th {\n",
       "        vertical-align: top;\n",
       "    }\n",
       "\n",
       "    .dataframe thead th {\n",
       "        text-align: right;\n",
       "    }\n",
       "</style>\n",
       "<table border=\"1\" class=\"dataframe\">\n",
       "  <thead>\n",
       "    <tr style=\"text-align: right;\">\n",
       "      <th></th>\n",
       "      <th>DATE ADDED TO CATALOG</th>\n",
       "      <th>PUBMED ID</th>\n",
       "      <th>FIRST AUTHOR</th>\n",
       "      <th>DATE</th>\n",
       "      <th>JOURNAL</th>\n",
       "      <th>LINK</th>\n",
       "      <th>STUDY</th>\n",
       "      <th>DISEASE/TRAIT</th>\n",
       "      <th>INITIAL SAMPLE SIZE</th>\n",
       "      <th>REPLICATION SAMPLE SIZE</th>\n",
       "      <th>...</th>\n",
       "      <th>GENOTYPING TECHNOLOGY</th>\n",
       "      <th>SUBMISSION DATE</th>\n",
       "      <th>STATISTICAL MODEL</th>\n",
       "      <th>BACKGROUND TRAIT</th>\n",
       "      <th>MAPPED BACKGROUND TRAIT</th>\n",
       "      <th>MAPPED BACKGROUND TRAIT URI</th>\n",
       "      <th>COHORT</th>\n",
       "      <th>FULL SUMMARY STATISTICS</th>\n",
       "      <th>SUMMARY STATS LOCATION</th>\n",
       "      <th>GXE</th>\n",
       "    </tr>\n",
       "  </thead>\n",
       "  <tbody>\n",
       "    <tr>\n",
       "      <th>0</th>\n",
       "      <td>2015-12-16</td>\n",
       "      <td>25672763</td>\n",
       "      <td>Ueta M</td>\n",
       "      <td>2015-02-08</td>\n",
       "      <td>J Allergy Clin Immunol</td>\n",
       "      <td>www.ncbi.nlm.nih.gov/pubmed/25672763</td>\n",
       "      <td>IKZF1, a new susceptibility gene for cold medi...</td>\n",
       "      <td>Cold medicine-related Stevens-Johnson syndrome...</td>\n",
       "      <td>117 Japanese ancestry cases, 691 Japanese ance...</td>\n",
       "      <td>43 East Asian ancestry cases, 278 East Asian a...</td>\n",
       "      <td>...</td>\n",
       "      <td>Genome-wide genotyping array</td>\n",
       "      <td>NaN</td>\n",
       "      <td>NaN</td>\n",
       "      <td>NaN</td>\n",
       "      <td>NaN</td>\n",
       "      <td>NaN</td>\n",
       "      <td>NaN</td>\n",
       "      <td>no</td>\n",
       "      <td>NaN</td>\n",
       "      <td>no</td>\n",
       "    </tr>\n",
       "    <tr>\n",
       "      <th>1</th>\n",
       "      <td>2016-01-12</td>\n",
       "      <td>25649651</td>\n",
       "      <td>Wang X</td>\n",
       "      <td>2015-02-03</td>\n",
       "      <td>J Alzheimers Dis</td>\n",
       "      <td>www.ncbi.nlm.nih.gov/pubmed/25649651</td>\n",
       "      <td>Genetic Determinants of Survival in Patientswi...</td>\n",
       "      <td>Alzheimer's disease (survival time)</td>\n",
       "      <td>983 cases</td>\n",
       "      <td>NaN</td>\n",
       "      <td>...</td>\n",
       "      <td>Genome-wide genotyping array</td>\n",
       "      <td>NaN</td>\n",
       "      <td>NaN</td>\n",
       "      <td>NaN</td>\n",
       "      <td>NaN</td>\n",
       "      <td>NaN</td>\n",
       "      <td>NaN</td>\n",
       "      <td>no</td>\n",
       "      <td>NaN</td>\n",
       "      <td>no</td>\n",
       "    </tr>\n",
       "    <tr>\n",
       "      <th>2</th>\n",
       "      <td>2015-11-07</td>\n",
       "      <td>25672891</td>\n",
       "      <td>Shimizu S</td>\n",
       "      <td>2015-02-11</td>\n",
       "      <td>J Dent Res</td>\n",
       "      <td>www.ncbi.nlm.nih.gov/pubmed/25672891</td>\n",
       "      <td>A genome-wide association study of periodontit...</td>\n",
       "      <td>Periodontitis</td>\n",
       "      <td>1,593 Japanese ancestry cases, 7,980 Japanese ...</td>\n",
       "      <td>1,167 Japanese ancestry cases, 7,178 Japanese ...</td>\n",
       "      <td>...</td>\n",
       "      <td>Genome-wide genotyping array</td>\n",
       "      <td>NaN</td>\n",
       "      <td>NaN</td>\n",
       "      <td>NaN</td>\n",
       "      <td>NaN</td>\n",
       "      <td>NaN</td>\n",
       "      <td>NaN</td>\n",
       "      <td>no</td>\n",
       "      <td>NaN</td>\n",
       "      <td>no</td>\n",
       "    </tr>\n",
       "    <tr>\n",
       "      <th>3</th>\n",
       "      <td>2016-01-05</td>\n",
       "      <td>25628645</td>\n",
       "      <td>Tong Y</td>\n",
       "      <td>2015-01-13</td>\n",
       "      <td>Front Genet</td>\n",
       "      <td>www.ncbi.nlm.nih.gov/pubmed/25628645</td>\n",
       "      <td>Identification of genetic variants or genes th...</td>\n",
       "      <td>Response to Homoharringtonine (cytotoxicity)</td>\n",
       "      <td>93 African American ancestry lymphoblastoid ce...</td>\n",
       "      <td>NaN</td>\n",
       "      <td>...</td>\n",
       "      <td>Genome-wide genotyping array</td>\n",
       "      <td>NaN</td>\n",
       "      <td>NaN</td>\n",
       "      <td>NaN</td>\n",
       "      <td>NaN</td>\n",
       "      <td>NaN</td>\n",
       "      <td>NaN</td>\n",
       "      <td>no</td>\n",
       "      <td>NaN</td>\n",
       "      <td>no</td>\n",
       "    </tr>\n",
       "    <tr>\n",
       "      <th>4</th>\n",
       "      <td>2015-05-30</td>\n",
       "      <td>25241909</td>\n",
       "      <td>Lee JH</td>\n",
       "      <td>2014-09-21</td>\n",
       "      <td>Respir Res</td>\n",
       "      <td>www.ncbi.nlm.nih.gov/pubmed/25241909</td>\n",
       "      <td>Genetic susceptibility for chronic bronchitis ...</td>\n",
       "      <td>Chronic obstructive pulmonary disease</td>\n",
       "      <td>3,777 European ancestry cases, 3,520 European ...</td>\n",
       "      <td>NaN</td>\n",
       "      <td>...</td>\n",
       "      <td>Genome-wide genotyping array</td>\n",
       "      <td>NaN</td>\n",
       "      <td>NaN</td>\n",
       "      <td>NaN</td>\n",
       "      <td>NaN</td>\n",
       "      <td>NaN</td>\n",
       "      <td>NaN</td>\n",
       "      <td>no</td>\n",
       "      <td>NaN</td>\n",
       "      <td>no</td>\n",
       "    </tr>\n",
       "  </tbody>\n",
       "</table>\n",
       "<p>5 rows × 25 columns</p>\n",
       "</div>"
      ],
      "text/plain": [
       "  DATE ADDED TO CATALOG  PUBMED ID FIRST AUTHOR        DATE  \\\n",
       "0            2015-12-16   25672763       Ueta M  2015-02-08   \n",
       "1            2016-01-12   25649651       Wang X  2015-02-03   \n",
       "2            2015-11-07   25672891    Shimizu S  2015-02-11   \n",
       "3            2016-01-05   25628645       Tong Y  2015-01-13   \n",
       "4            2015-05-30   25241909       Lee JH  2014-09-21   \n",
       "\n",
       "                  JOURNAL                                  LINK  \\\n",
       "0  J Allergy Clin Immunol  www.ncbi.nlm.nih.gov/pubmed/25672763   \n",
       "1        J Alzheimers Dis  www.ncbi.nlm.nih.gov/pubmed/25649651   \n",
       "2              J Dent Res  www.ncbi.nlm.nih.gov/pubmed/25672891   \n",
       "3             Front Genet  www.ncbi.nlm.nih.gov/pubmed/25628645   \n",
       "4              Respir Res  www.ncbi.nlm.nih.gov/pubmed/25241909   \n",
       "\n",
       "                                               STUDY  \\\n",
       "0  IKZF1, a new susceptibility gene for cold medi...   \n",
       "1  Genetic Determinants of Survival in Patientswi...   \n",
       "2  A genome-wide association study of periodontit...   \n",
       "3  Identification of genetic variants or genes th...   \n",
       "4  Genetic susceptibility for chronic bronchitis ...   \n",
       "\n",
       "                                       DISEASE/TRAIT  \\\n",
       "0  Cold medicine-related Stevens-Johnson syndrome...   \n",
       "1                Alzheimer's disease (survival time)   \n",
       "2                                      Periodontitis   \n",
       "3       Response to Homoharringtonine (cytotoxicity)   \n",
       "4              Chronic obstructive pulmonary disease   \n",
       "\n",
       "                                 INITIAL SAMPLE SIZE  \\\n",
       "0  117 Japanese ancestry cases, 691 Japanese ance...   \n",
       "1                                          983 cases   \n",
       "2  1,593 Japanese ancestry cases, 7,980 Japanese ...   \n",
       "3  93 African American ancestry lymphoblastoid ce...   \n",
       "4  3,777 European ancestry cases, 3,520 European ...   \n",
       "\n",
       "                             REPLICATION SAMPLE SIZE  ...  \\\n",
       "0  43 East Asian ancestry cases, 278 East Asian a...  ...   \n",
       "1                                                NaN  ...   \n",
       "2  1,167 Japanese ancestry cases, 7,178 Japanese ...  ...   \n",
       "3                                                NaN  ...   \n",
       "4                                                NaN  ...   \n",
       "\n",
       "          GENOTYPING TECHNOLOGY  SUBMISSION DATE STATISTICAL MODEL  \\\n",
       "0  Genome-wide genotyping array              NaN               NaN   \n",
       "1  Genome-wide genotyping array              NaN               NaN   \n",
       "2  Genome-wide genotyping array              NaN               NaN   \n",
       "3  Genome-wide genotyping array              NaN               NaN   \n",
       "4  Genome-wide genotyping array              NaN               NaN   \n",
       "\n",
       "  BACKGROUND TRAIT MAPPED BACKGROUND TRAIT MAPPED BACKGROUND TRAIT URI  \\\n",
       "0              NaN                     NaN                         NaN   \n",
       "1              NaN                     NaN                         NaN   \n",
       "2              NaN                     NaN                         NaN   \n",
       "3              NaN                     NaN                         NaN   \n",
       "4              NaN                     NaN                         NaN   \n",
       "\n",
       "   COHORT  FULL SUMMARY STATISTICS  SUMMARY STATS LOCATION GXE  \n",
       "0     NaN                       no                     NaN  no  \n",
       "1     NaN                       no                     NaN  no  \n",
       "2     NaN                       no                     NaN  no  \n",
       "3     NaN                       no                     NaN  no  \n",
       "4     NaN                       no                     NaN  no  \n",
       "\n",
       "[5 rows x 25 columns]"
      ]
     },
     "execution_count": 15,
     "metadata": {},
     "output_type": "execute_result"
    }
   ],
   "source": [
    "cat_info.head()"
   ]
  },
  {
   "cell_type": "markdown",
   "metadata": {},
   "source": [
    "## BERT based matching"
   ]
  },
  {
   "cell_type": "code",
   "execution_count": 17,
   "metadata": {
    "ExecuteTime": {
     "end_time": "2025-03-06T19:49:44.947565Z",
     "start_time": "2025-03-06T19:49:43.934763Z"
    }
   },
   "outputs": [],
   "source": [
    "from sentence_transformers import SentenceTransformer, util\n",
    "\n",
    "model = SentenceTransformer('all-MiniLM-L6-v2')\n",
    "\n",
    "# Encode sentences\n",
    "embedding1 = model.encode('First sentence from database A')\n",
    "embedding2 = model.encode('Second sentence from database B')\n",
    "\n",
    "# Compute cosine similarity\n",
    "similarity = util.cos_sim(embedding1, embedding2)"
   ]
  },
  {
   "cell_type": "code",
   "execution_count": 18,
   "metadata": {
    "ExecuteTime": {
     "end_time": "2025-03-06T19:49:49.554631Z",
     "start_time": "2025-03-06T19:49:49.550964Z"
    }
   },
   "outputs": [
    {
     "data": {
      "text/plain": [
       "tensor([[0.8693]])"
      ]
     },
     "execution_count": 18,
     "metadata": {},
     "output_type": "execute_result"
    }
   ],
   "source": [
    "similarity"
   ]
  }
 ],
 "metadata": {
  "kernelspec": {
   "display_name": "Python (CARVA)",
   "language": "python",
   "name": "carva"
  },
  "language_info": {
   "codemirror_mode": {
    "name": "ipython",
    "version": 3
   },
   "file_extension": ".py",
   "mimetype": "text/x-python",
   "name": "python",
   "nbconvert_exporter": "python",
   "pygments_lexer": "ipython3",
   "version": "3.10.0"
  },
  "toc": {
   "base_numbering": 1,
   "nav_menu": {},
   "number_sections": true,
   "sideBar": true,
   "skip_h1_title": false,
   "title_cell": "Table of Contents",
   "title_sidebar": "Contents",
   "toc_cell": false,
   "toc_position": {
    "height": "calc(100% - 180px)",
    "left": "10px",
    "top": "150px",
    "width": "341.448px"
   },
   "toc_section_display": true,
   "toc_window_display": true
  },
  "varInspector": {
   "cols": {
    "lenName": 16,
    "lenType": 16,
    "lenVar": 40
   },
   "kernels_config": {
    "python": {
     "delete_cmd_postfix": "",
     "delete_cmd_prefix": "del ",
     "library": "var_list.py",
     "varRefreshCmd": "print(var_dic_list())"
    },
    "r": {
     "delete_cmd_postfix": ") ",
     "delete_cmd_prefix": "rm(",
     "library": "var_list.r",
     "varRefreshCmd": "cat(var_dic_list()) "
    }
   },
   "types_to_exclude": [
    "module",
    "function",
    "builtin_function_or_method",
    "instance",
    "_Feature"
   ],
   "window_display": false
  }
 },
 "nbformat": 4,
 "nbformat_minor": 2
}
