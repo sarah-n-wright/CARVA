{
 "cells": [
  {
   "cell_type": "code",
   "execution_count": 1,
   "metadata": {
    "ExecuteTime": {
     "end_time": "2024-11-18T17:32:53.459101Z",
     "start_time": "2024-11-18T17:32:36.712525Z"
    }
   },
   "outputs": [],
   "source": [
    "import pandas as pd\n",
    "import numpy as np\n",
    "import matplotlib.pyplot as plt\n",
    "import seaborn as sns\n",
    "import os\n",
    "from scipy.stats import hypergeom\n",
    "from statsmodels.stats.multitest import multipletests\n",
    "from matplotlib_venn import venn2"
   ]
  },
  {
   "cell_type": "code",
   "execution_count": 2,
   "metadata": {
    "ExecuteTime": {
     "end_time": "2024-11-18T17:32:53.462508Z",
     "start_time": "2024-11-18T17:32:53.460554Z"
    }
   },
   "outputs": [],
   "source": [
    "input_dir = '/cellar/users/snwright/Data/RareCommon/inputs/'\n",
    "output_dir = '/cellar/users/snwright/Data/RareCommon/outputs/'\n",
    "figdir = '/cellar/users/snwright/Data/Transfer/RVC/figures/Gene_Overlap/'"
   ]
  },
  {
   "cell_type": "code",
   "execution_count": 3,
   "metadata": {
    "ExecuteTime": {
     "end_time": "2024-11-18T17:32:53.470677Z",
     "start_time": "2024-11-18T17:32:53.463448Z"
    }
   },
   "outputs": [],
   "source": [
    "plt.rcParams['svg.fonttype'] = 'none'\n",
    "plt.rcParams.update({'font.size': 7})\n",
    "plt.rcParams['axes.linewidth'] = 0.5\n",
    "plt.rcParams['hatch.linewidth'] = 0.5\n",
    "plt.rcParams['xtick.major.width'] = 0.4\n",
    "plt.rcParams['ytick.major.width'] = 0.4\n",
    "plt.rcParams['xtick.minor.width'] = 0.3\n",
    "plt.rcParams['ytick.minor.width'] = 0.3\n",
    "plt.rcParams['legend.frameon'] = False\n",
    "plt.rcParams['xtick.major.size'] = 3\n",
    "plt.rcParams['ytick.major.size'] = 3\n",
    "plt.rcParams['xtick.minor.size'] = 2\n",
    "plt.rcParams['ytick.minor.size'] = 2\n",
    "plt.rcParams['xtick.major.pad'] = 1\n",
    "plt.rcParams['ytick.major.pad'] = 1\n",
    "plt.rcParams['axes.labelpad'] = 1\n",
    "plt.rcParams['patch.linewidth'] = 0.25"
   ]
  },
  {
   "cell_type": "markdown",
   "metadata": {},
   "source": [
    "## High-throughput"
   ]
  },
  {
   "cell_type": "code",
   "execution_count": 4,
   "metadata": {
    "ExecuteTime": {
     "end_time": "2024-11-18T17:32:53.475395Z",
     "start_time": "2024-11-18T17:32:53.472015Z"
    }
   },
   "outputs": [],
   "source": [
    "results_groups = ['defaults', 'defaults_9k', 'sig_only', 'sig_only_9k']\n",
    "params_file = 'overlap_params.txt'"
   ]
  },
  {
   "cell_type": "code",
   "execution_count": 5,
   "metadata": {
    "ExecuteTime": {
     "end_time": "2024-11-18T17:32:53.590636Z",
     "start_time": "2024-11-18T17:32:53.476274Z"
    }
   },
   "outputs": [],
   "source": [
    "overlap_results = []\n",
    "for group in results_groups:\n",
    "    group_df = pd.read_csv(os.path.join(output_dir, f'overlap_results.{group}.txt'), sep='\\t', header=None)\n",
    "    group_df.columns = ['trait_pair', 'param_set', 'n_common', 'n_rare', 'n_overlap', 'background', 'pval']\n",
    "    overlap_results.append(group_df)\n",
    "overlap_df = pd.concat(overlap_results)"
   ]
  },
  {
   "cell_type": "code",
   "execution_count": 6,
   "metadata": {
    "ExecuteTime": {
     "end_time": "2024-11-18T17:32:53.622481Z",
     "start_time": "2024-11-18T17:32:53.591736Z"
    }
   },
   "outputs": [
    {
     "data": {
      "text/html": [
       "<div>\n",
       "<style scoped>\n",
       "    .dataframe tbody tr th:only-of-type {\n",
       "        vertical-align: middle;\n",
       "    }\n",
       "\n",
       "    .dataframe tbody tr th {\n",
       "        vertical-align: top;\n",
       "    }\n",
       "\n",
       "    .dataframe thead th {\n",
       "        text-align: right;\n",
       "    }\n",
       "</style>\n",
       "<table border=\"1\" class=\"dataframe\">\n",
       "  <thead>\n",
       "    <tr style=\"text-align: right;\">\n",
       "      <th></th>\n",
       "      <th>trait_pair</th>\n",
       "      <th>param_set</th>\n",
       "      <th>n_common</th>\n",
       "      <th>n_rare</th>\n",
       "      <th>n_overlap</th>\n",
       "      <th>background</th>\n",
       "      <th>pval</th>\n",
       "    </tr>\n",
       "  </thead>\n",
       "  <tbody>\n",
       "    <tr>\n",
       "      <th>0</th>\n",
       "      <td>EFO_0000095_EFO_0000095</td>\n",
       "      <td>defaults</td>\n",
       "      <td>59</td>\n",
       "      <td>8</td>\n",
       "      <td>0</td>\n",
       "      <td>20000</td>\n",
       "      <td>0.023362</td>\n",
       "    </tr>\n",
       "    <tr>\n",
       "      <th>1</th>\n",
       "      <td>EFO_0000182_EFO_0000182</td>\n",
       "      <td>defaults</td>\n",
       "      <td>12</td>\n",
       "      <td>4</td>\n",
       "      <td>0</td>\n",
       "      <td>20000</td>\n",
       "      <td>0.002398</td>\n",
       "    </tr>\n",
       "    <tr>\n",
       "      <th>2</th>\n",
       "      <td>EFO_0000198_EFO_0000198</td>\n",
       "      <td>defaults</td>\n",
       "      <td>7</td>\n",
       "      <td>18</td>\n",
       "      <td>0</td>\n",
       "      <td>20000</td>\n",
       "      <td>0.006284</td>\n",
       "    </tr>\n",
       "    <tr>\n",
       "      <th>3</th>\n",
       "      <td>EFO_0000217_EFO_0000217</td>\n",
       "      <td>defaults</td>\n",
       "      <td>5</td>\n",
       "      <td>66</td>\n",
       "      <td>0</td>\n",
       "      <td>20000</td>\n",
       "      <td>0.016393</td>\n",
       "    </tr>\n",
       "    <tr>\n",
       "      <th>4</th>\n",
       "      <td>EFO_0000266_EFO_0000266</td>\n",
       "      <td>defaults</td>\n",
       "      <td>13</td>\n",
       "      <td>20</td>\n",
       "      <td>0</td>\n",
       "      <td>20000</td>\n",
       "      <td>0.012926</td>\n",
       "    </tr>\n",
       "  </tbody>\n",
       "</table>\n",
       "</div>"
      ],
      "text/plain": [
       "                trait_pair param_set  n_common  n_rare  n_overlap  background  \\\n",
       "0  EFO_0000095_EFO_0000095  defaults        59       8          0       20000   \n",
       "1  EFO_0000182_EFO_0000182  defaults        12       4          0       20000   \n",
       "2  EFO_0000198_EFO_0000198  defaults         7      18          0       20000   \n",
       "3  EFO_0000217_EFO_0000217  defaults         5      66          0       20000   \n",
       "4  EFO_0000266_EFO_0000266  defaults        13      20          0       20000   \n",
       "\n",
       "       pval  \n",
       "0  0.023362  \n",
       "1  0.002398  \n",
       "2  0.006284  \n",
       "3  0.016393  \n",
       "4  0.012926  "
      ]
     },
     "execution_count": 6,
     "metadata": {},
     "output_type": "execute_result"
    }
   ],
   "source": [
    "overlap_df.head()"
   ]
  },
  {
   "cell_type": "markdown",
   "metadata": {},
   "source": [
    "### Default vs sig\n",
    "\n",
    "All gene set counts"
   ]
  },
  {
   "cell_type": "code",
   "execution_count": 7,
   "metadata": {
    "ExecuteTime": {
     "end_time": "2024-11-18T17:32:54.732996Z",
     "start_time": "2024-11-18T17:32:53.623438Z"
    }
   },
   "outputs": [
    {
     "data": {
      "image/png": "[encoded data removed]",
      "text/plain": [
       "<Figure size 500x100 with 2 Axes>"
      ]
     },
     "metadata": {},
     "output_type": "display_data"
    }
   ],
   "source": [
    "_, [ax1, ax2] = plt.subplots(1, 2, figsize=(5, 1), gridspec_kw={'wspace':0.4})\n",
    "sns.histplot(overlap_df[overlap_df.param_set.isin(['defaults', 'sig_only'])], bins=[i*25 for i in range(40)], hue='param_set', \n",
    "                x='n_common', multiple='dodge', log_scale=False, cumulative=True, ax=ax1)\n",
    "ax1.set_xlim(0,1000)\n",
    "sns.histplot(overlap_df[overlap_df.param_set.isin(['defaults', 'sig_only'])], bins=[i*15 for i in range(40)], hue='param_set', \n",
    "                x='n_rare', multiple='dodge', log_scale=False, cumulative=True, ax=ax2)\n",
    "ax2.set_xlim(0,600)\n",
    "plt.savefig(os.path.join(figdir, 'cumulative_traits_significance_filter_bars.png'), dpi=300, bbox_inches='tight')"
   ]
  },
  {
   "cell_type": "markdown",
   "metadata": {},
   "source": [
    "All gene set counts < 10"
   ]
  },
  {
   "cell_type": "code",
   "execution_count": 8,
   "metadata": {
    "ExecuteTime": {
     "end_time": "2024-11-18T17:32:55.129279Z",
     "start_time": "2024-11-18T17:32:54.734040Z"
    }
   },
   "outputs": [
    {
     "data": {
      "image/png": "[encoded data removed]",
      "text/plain": [
       "<Figure size 400x100 with 2 Axes>"
      ]
     },
     "metadata": {},
     "output_type": "display_data"
    }
   ],
   "source": [
    "_, [ax1, ax2] = plt.subplots(1, 2, figsize=(4, 1), gridspec_kw={'wspace':0.4})\n",
    "sns.histplot(overlap_df[overlap_df.param_set.isin(['defaults', 'sig_only'])], bins=[i for i in range(11)], hue='param_set', \n",
    "                x='n_common', multiple='dodge', log_scale=False, cumulative=True, ax=ax1)\n",
    "ax1.set_xlim(0,11)\n",
    "sns.histplot(overlap_df[overlap_df.param_set.isin(['defaults', 'sig_only'])], bins=[i for i in range(11)], hue='param_set', \n",
    "                x='n_rare', multiple='dodge', log_scale=False, cumulative=True, ax=ax2)\n",
    "ax2.set_xlim(0,11)\n",
    "plt.savefig(os.path.join(figdir, 'cumutative_traits_significance_filter_bars_less_than_10genes.png'), dpi=300, bbox_inches='tight')"
   ]
  },
  {
   "cell_type": "markdown",
   "metadata": {},
   "source": [
    "Overlapping genes"
   ]
  },
  {
   "cell_type": "code",
   "execution_count": 9,
   "metadata": {
    "ExecuteTime": {
     "end_time": "2024-11-18T17:32:55.661197Z",
     "start_time": "2024-11-18T17:32:55.130342Z"
    }
   },
   "outputs": [
    {
     "data": {
      "image/png": "[encoded data removed]",
      "text/plain": [
       "<Figure size 300x150 with 1 Axes>"
      ]
     },
     "metadata": {},
     "output_type": "display_data"
    }
   ],
   "source": [
    "_, ax1 = plt.subplots(1, 1, figsize=(3, 1.5))\n",
    "sns.histplot(overlap_df[overlap_df.param_set.isin(['defaults', 'sig_only'])], bins=[i*2 for i in range(80)], hue='param_set', \n",
    "                x='n_overlap', multiple='dodge', log_scale=False, cumulative=True, ax=ax1)\n",
    "ax1.set_xlim(0,160)\n",
    "plt.savefig(os.path.join(figdir, 'cumulative_traits_overlapping_significance_filter_bars.png'), dpi=300, bbox_inches='tight')"
   ]
  },
  {
   "cell_type": "code",
   "execution_count": 10,
   "metadata": {
    "ExecuteTime": {
     "end_time": "2024-11-18T17:32:55.666543Z",
     "start_time": "2024-11-18T17:32:55.663639Z"
    }
   },
   "outputs": [],
   "source": [
    "overlap_df = overlap_df.sort_values(by='trait_pair')"
   ]
  },
  {
   "cell_type": "code",
   "execution_count": 11,
   "metadata": {
    "ExecuteTime": {
     "end_time": "2024-11-18T17:32:55.700708Z",
     "start_time": "2024-11-18T17:32:55.667716Z"
    }
   },
   "outputs": [
    {
     "data": {
      "text/html": [
       "<div>\n",
       "<style scoped>\n",
       "    .dataframe tbody tr th:only-of-type {\n",
       "        vertical-align: middle;\n",
       "    }\n",
       "\n",
       "    .dataframe tbody tr th {\n",
       "        vertical-align: top;\n",
       "    }\n",
       "\n",
       "    .dataframe thead th {\n",
       "        text-align: right;\n",
       "    }\n",
       "</style>\n",
       "<table border=\"1\" class=\"dataframe\">\n",
       "  <thead>\n",
       "    <tr style=\"text-align: right;\">\n",
       "      <th>param_set</th>\n",
       "      <th>defaults</th>\n",
       "      <th>defaults_9k</th>\n",
       "      <th>sig_only</th>\n",
       "      <th>sig_only_9k</th>\n",
       "    </tr>\n",
       "    <tr>\n",
       "      <th>trait_pair</th>\n",
       "      <th></th>\n",
       "      <th></th>\n",
       "      <th></th>\n",
       "      <th></th>\n",
       "    </tr>\n",
       "  </thead>\n",
       "  <tbody>\n",
       "    <tr>\n",
       "      <th>EFO_0000095_EFO_0000095</th>\n",
       "      <td>59.0</td>\n",
       "      <td>59.0</td>\n",
       "      <td>26.0</td>\n",
       "      <td>26.0</td>\n",
       "    </tr>\n",
       "    <tr>\n",
       "      <th>EFO_0000182_EFO_0000182</th>\n",
       "      <td>12.0</td>\n",
       "      <td>12.0</td>\n",
       "      <td>NaN</td>\n",
       "      <td>NaN</td>\n",
       "    </tr>\n",
       "    <tr>\n",
       "      <th>EFO_0000198_EFO_0000198</th>\n",
       "      <td>7.0</td>\n",
       "      <td>7.0</td>\n",
       "      <td>NaN</td>\n",
       "      <td>NaN</td>\n",
       "    </tr>\n",
       "    <tr>\n",
       "      <th>EFO_0000217_EFO_0000217</th>\n",
       "      <td>5.0</td>\n",
       "      <td>5.0</td>\n",
       "      <td>NaN</td>\n",
       "      <td>NaN</td>\n",
       "    </tr>\n",
       "    <tr>\n",
       "      <th>EFO_0000266_EFO_0000266</th>\n",
       "      <td>13.0</td>\n",
       "      <td>13.0</td>\n",
       "      <td>9.0</td>\n",
       "      <td>9.0</td>\n",
       "    </tr>\n",
       "    <tr>\n",
       "      <th>...</th>\n",
       "      <td>...</td>\n",
       "      <td>...</td>\n",
       "      <td>...</td>\n",
       "      <td>...</td>\n",
       "    </tr>\n",
       "    <tr>\n",
       "      <th>MONDO_0007915_MONDO_0007915</th>\n",
       "      <td>298.0</td>\n",
       "      <td>298.0</td>\n",
       "      <td>221.0</td>\n",
       "      <td>221.0</td>\n",
       "    </tr>\n",
       "    <tr>\n",
       "      <th>MONDO_0008315_MONDO_0008315</th>\n",
       "      <td>348.0</td>\n",
       "      <td>348.0</td>\n",
       "      <td>308.0</td>\n",
       "      <td>308.0</td>\n",
       "    </tr>\n",
       "    <tr>\n",
       "      <th>MONDO_0008903_MONDO_0008903</th>\n",
       "      <td>92.0</td>\n",
       "      <td>92.0</td>\n",
       "      <td>33.0</td>\n",
       "      <td>33.0</td>\n",
       "    </tr>\n",
       "    <tr>\n",
       "      <th>MONDO_0018309_MONDO_0018309</th>\n",
       "      <td>8.0</td>\n",
       "      <td>8.0</td>\n",
       "      <td>4.0</td>\n",
       "      <td>4.0</td>\n",
       "    </tr>\n",
       "    <tr>\n",
       "      <th>MONDO_0024647_MONDO_0024647</th>\n",
       "      <td>27.0</td>\n",
       "      <td>27.0</td>\n",
       "      <td>NaN</td>\n",
       "      <td>NaN</td>\n",
       "    </tr>\n",
       "  </tbody>\n",
       "</table>\n",
       "<p>350 rows × 4 columns</p>\n",
       "</div>"
      ],
      "text/plain": [
       "param_set                    defaults  defaults_9k  sig_only  sig_only_9k\n",
       "trait_pair                                                               \n",
       "EFO_0000095_EFO_0000095          59.0         59.0      26.0         26.0\n",
       "EFO_0000182_EFO_0000182          12.0         12.0       NaN          NaN\n",
       "EFO_0000198_EFO_0000198           7.0          7.0       NaN          NaN\n",
       "EFO_0000217_EFO_0000217           5.0          5.0       NaN          NaN\n",
       "EFO_0000266_EFO_0000266          13.0         13.0       9.0          9.0\n",
       "...                               ...          ...       ...          ...\n",
       "MONDO_0007915_MONDO_0007915     298.0        298.0     221.0        221.0\n",
       "MONDO_0008315_MONDO_0008315     348.0        348.0     308.0        308.0\n",
       "MONDO_0008903_MONDO_0008903      92.0         92.0      33.0         33.0\n",
       "MONDO_0018309_MONDO_0018309       8.0          8.0       4.0          4.0\n",
       "MONDO_0024647_MONDO_0024647      27.0         27.0       NaN          NaN\n",
       "\n",
       "[350 rows x 4 columns]"
      ]
     },
     "execution_count": 11,
     "metadata": {},
     "output_type": "execute_result"
    }
   ],
   "source": [
    "overlap_df.pivot_table(index='trait_pair', columns='param_set', values='n_common')"
   ]
  },
  {
   "cell_type": "code",
   "execution_count": 12,
   "metadata": {
    "ExecuteTime": {
     "end_time": "2024-11-18T17:32:55.713894Z",
     "start_time": "2024-11-18T17:32:55.701772Z"
    }
   },
   "outputs": [
    {
     "data": {
      "text/html": [
       "<div>\n",
       "<style scoped>\n",
       "    .dataframe tbody tr th:only-of-type {\n",
       "        vertical-align: middle;\n",
       "    }\n",
       "\n",
       "    .dataframe tbody tr th {\n",
       "        vertical-align: top;\n",
       "    }\n",
       "\n",
       "    .dataframe thead th {\n",
       "        text-align: right;\n",
       "    }\n",
       "</style>\n",
       "<table border=\"1\" class=\"dataframe\">\n",
       "  <thead>\n",
       "    <tr style=\"text-align: right;\">\n",
       "      <th>param_set</th>\n",
       "      <th>defaults</th>\n",
       "      <th>defaults_9k</th>\n",
       "      <th>sig_only</th>\n",
       "      <th>sig_only_9k</th>\n",
       "    </tr>\n",
       "    <tr>\n",
       "      <th>trait_pair</th>\n",
       "      <th></th>\n",
       "      <th></th>\n",
       "      <th></th>\n",
       "      <th></th>\n",
       "    </tr>\n",
       "  </thead>\n",
       "  <tbody>\n",
       "    <tr>\n",
       "      <th>EFO_0000095_EFO_0000095</th>\n",
       "      <td>59.0</td>\n",
       "      <td>59.0</td>\n",
       "      <td>26.0</td>\n",
       "      <td>26.0</td>\n",
       "    </tr>\n",
       "    <tr>\n",
       "      <th>EFO_0000182_EFO_0000182</th>\n",
       "      <td>12.0</td>\n",
       "      <td>12.0</td>\n",
       "      <td>NaN</td>\n",
       "      <td>NaN</td>\n",
       "    </tr>\n",
       "    <tr>\n",
       "      <th>EFO_0000198_EFO_0000198</th>\n",
       "      <td>7.0</td>\n",
       "      <td>7.0</td>\n",
       "      <td>NaN</td>\n",
       "      <td>NaN</td>\n",
       "    </tr>\n",
       "    <tr>\n",
       "      <th>EFO_0000217_EFO_0000217</th>\n",
       "      <td>5.0</td>\n",
       "      <td>5.0</td>\n",
       "      <td>NaN</td>\n",
       "      <td>NaN</td>\n",
       "    </tr>\n",
       "    <tr>\n",
       "      <th>EFO_0000266_EFO_0000266</th>\n",
       "      <td>13.0</td>\n",
       "      <td>13.0</td>\n",
       "      <td>9.0</td>\n",
       "      <td>9.0</td>\n",
       "    </tr>\n",
       "    <tr>\n",
       "      <th>...</th>\n",
       "      <td>...</td>\n",
       "      <td>...</td>\n",
       "      <td>...</td>\n",
       "      <td>...</td>\n",
       "    </tr>\n",
       "    <tr>\n",
       "      <th>MONDO_0007915_MONDO_0007915</th>\n",
       "      <td>298.0</td>\n",
       "      <td>298.0</td>\n",
       "      <td>221.0</td>\n",
       "      <td>221.0</td>\n",
       "    </tr>\n",
       "    <tr>\n",
       "      <th>MONDO_0008315_MONDO_0008315</th>\n",
       "      <td>348.0</td>\n",
       "      <td>348.0</td>\n",
       "      <td>308.0</td>\n",
       "      <td>308.0</td>\n",
       "    </tr>\n",
       "    <tr>\n",
       "      <th>MONDO_0008903_MONDO_0008903</th>\n",
       "      <td>92.0</td>\n",
       "      <td>92.0</td>\n",
       "      <td>33.0</td>\n",
       "      <td>33.0</td>\n",
       "    </tr>\n",
       "    <tr>\n",
       "      <th>MONDO_0018309_MONDO_0018309</th>\n",
       "      <td>8.0</td>\n",
       "      <td>8.0</td>\n",
       "      <td>4.0</td>\n",
       "      <td>4.0</td>\n",
       "    </tr>\n",
       "    <tr>\n",
       "      <th>MONDO_0024647_MONDO_0024647</th>\n",
       "      <td>27.0</td>\n",
       "      <td>27.0</td>\n",
       "      <td>NaN</td>\n",
       "      <td>NaN</td>\n",
       "    </tr>\n",
       "  </tbody>\n",
       "</table>\n",
       "<p>350 rows × 4 columns</p>\n",
       "</div>"
      ],
      "text/plain": [
       "param_set                    defaults  defaults_9k  sig_only  sig_only_9k\n",
       "trait_pair                                                               \n",
       "EFO_0000095_EFO_0000095          59.0         59.0      26.0         26.0\n",
       "EFO_0000182_EFO_0000182          12.0         12.0       NaN          NaN\n",
       "EFO_0000198_EFO_0000198           7.0          7.0       NaN          NaN\n",
       "EFO_0000217_EFO_0000217           5.0          5.0       NaN          NaN\n",
       "EFO_0000266_EFO_0000266          13.0         13.0       9.0          9.0\n",
       "...                               ...          ...       ...          ...\n",
       "MONDO_0007915_MONDO_0007915     298.0        298.0     221.0        221.0\n",
       "MONDO_0008315_MONDO_0008315     348.0        348.0     308.0        308.0\n",
       "MONDO_0008903_MONDO_0008903      92.0         92.0      33.0         33.0\n",
       "MONDO_0018309_MONDO_0018309       8.0          8.0       4.0          4.0\n",
       "MONDO_0024647_MONDO_0024647      27.0         27.0       NaN          NaN\n",
       "\n",
       "[350 rows x 4 columns]"
      ]
     },
     "execution_count": 12,
     "metadata": {},
     "output_type": "execute_result"
    }
   ],
   "source": [
    "overlap_df.pivot_table(index='trait_pair', columns='param_set', values='n_common')"
   ]
  },
  {
   "cell_type": "code",
   "execution_count": 13,
   "metadata": {
    "ExecuteTime": {
     "end_time": "2024-11-18T17:32:56.557423Z",
     "start_time": "2024-11-18T17:32:55.715045Z"
    }
   },
   "outputs": [
    {
     "data": {
      "image/png": "[encoded data removed]",
      "text/plain": [
       "<Figure size 600x250 with 2 Axes>"
      ]
     },
     "metadata": {},
     "output_type": "display_data"
    }
   ],
   "source": [
    "_, [ax1, ax2] = plt.subplots(1, 2, figsize=(6, 2.5))\n",
    "sns.scatterplot(overlap_df.pivot_table(index='trait_pair', columns='param_set', values='n_common'), y='defaults', \n",
    "                x='sig_only', label='n_common', alpha=0.5, ax=ax1, s=10)\n",
    "sns.scatterplot(overlap_df.pivot_table(index='trait_pair', columns='param_set', values='n_rare'), y='defaults', \n",
    "                x='sig_only', label='n_rare', alpha=0.5, ax=ax1, s=10)\n",
    "sns.scatterplot(overlap_df.pivot_table(index='trait_pair', columns='param_set', values='n_overlap'), y='defaults', \n",
    "                x='sig_only', label='n_overlap', alpha=0.5, ax=ax1, s=10)\n",
    "ax1.set_xlim(0, 1000)\n",
    "ax1.set_ylim(0, 1000)\n",
    "sns.scatterplot(overlap_df.pivot_table(index='trait_pair', columns='param_set', values='n_common'), y='defaults', \n",
    "                x='sig_only', label='n_common', alpha=0.5, ax=ax2, s=10)\n",
    "sns.scatterplot(overlap_df.pivot_table(index='trait_pair', columns='param_set', values='n_rare'), y='defaults', \n",
    "                x='sig_only', label='n_rare', alpha=0.5, ax=ax2, s=10)\n",
    "sns.scatterplot(overlap_df.pivot_table(index='trait_pair', columns='param_set', values='n_overlap'), y='defaults', \n",
    "                x='sig_only', label='n_overlap', alpha=0.5, ax=ax2, s=10)\n",
    "\n",
    "ax2.set_xlim(0, 200)\n",
    "ax2.set_ylim(0, 200)\n",
    "plt.savefig(os.path.join(figdir, 'scatter_default_vs_sig_only_gene_counts.png'), dpi=300, bbox_inches='tight')"
   ]
  },
  {
   "cell_type": "code",
   "execution_count": 14,
   "metadata": {
    "ExecuteTime": {
     "end_time": "2024-11-18T17:32:56.565827Z",
     "start_time": "2024-11-18T17:32:56.558714Z"
    }
   },
   "outputs": [
    {
     "data": {
      "text/html": [
       "<div>\n",
       "<style scoped>\n",
       "    .dataframe tbody tr th:only-of-type {\n",
       "        vertical-align: middle;\n",
       "    }\n",
       "\n",
       "    .dataframe tbody tr th {\n",
       "        vertical-align: top;\n",
       "    }\n",
       "\n",
       "    .dataframe thead th {\n",
       "        text-align: right;\n",
       "    }\n",
       "</style>\n",
       "<table border=\"1\" class=\"dataframe\">\n",
       "  <thead>\n",
       "    <tr style=\"text-align: right;\">\n",
       "      <th></th>\n",
       "      <th>trait_pair</th>\n",
       "      <th>param_set</th>\n",
       "      <th>n_common</th>\n",
       "      <th>n_rare</th>\n",
       "      <th>n_overlap</th>\n",
       "      <th>background</th>\n",
       "      <th>pval</th>\n",
       "    </tr>\n",
       "  </thead>\n",
       "  <tbody>\n",
       "    <tr>\n",
       "      <th>0</th>\n",
       "      <td>EFO_0000095_EFO_0000095</td>\n",
       "      <td>defaults</td>\n",
       "      <td>59</td>\n",
       "      <td>8</td>\n",
       "      <td>0</td>\n",
       "      <td>20000</td>\n",
       "      <td>0.023362</td>\n",
       "    </tr>\n",
       "    <tr>\n",
       "      <th>0</th>\n",
       "      <td>EFO_0000095_EFO_0000095</td>\n",
       "      <td>defaults_9k</td>\n",
       "      <td>59</td>\n",
       "      <td>8</td>\n",
       "      <td>0</td>\n",
       "      <td>9415</td>\n",
       "      <td>0.049065</td>\n",
       "    </tr>\n",
       "    <tr>\n",
       "      <th>0</th>\n",
       "      <td>EFO_0000095_EFO_0000095</td>\n",
       "      <td>sig_only_9k</td>\n",
       "      <td>26</td>\n",
       "      <td>8</td>\n",
       "      <td>0</td>\n",
       "      <td>9415</td>\n",
       "      <td>0.021888</td>\n",
       "    </tr>\n",
       "    <tr>\n",
       "      <th>0</th>\n",
       "      <td>EFO_0000095_EFO_0000095</td>\n",
       "      <td>sig_only</td>\n",
       "      <td>26</td>\n",
       "      <td>8</td>\n",
       "      <td>0</td>\n",
       "      <td>20000</td>\n",
       "      <td>0.010355</td>\n",
       "    </tr>\n",
       "    <tr>\n",
       "      <th>1</th>\n",
       "      <td>EFO_0000182_EFO_0000182</td>\n",
       "      <td>defaults_9k</td>\n",
       "      <td>12</td>\n",
       "      <td>4</td>\n",
       "      <td>0</td>\n",
       "      <td>9415</td>\n",
       "      <td>0.005089</td>\n",
       "    </tr>\n",
       "  </tbody>\n",
       "</table>\n",
       "</div>"
      ],
      "text/plain": [
       "                trait_pair    param_set  n_common  n_rare  n_overlap  \\\n",
       "0  EFO_0000095_EFO_0000095     defaults        59       8          0   \n",
       "0  EFO_0000095_EFO_0000095  defaults_9k        59       8          0   \n",
       "0  EFO_0000095_EFO_0000095  sig_only_9k        26       8          0   \n",
       "0  EFO_0000095_EFO_0000095     sig_only        26       8          0   \n",
       "1  EFO_0000182_EFO_0000182  defaults_9k        12       4          0   \n",
       "\n",
       "   background      pval  \n",
       "0       20000  0.023362  \n",
       "0        9415  0.049065  \n",
       "0        9415  0.021888  \n",
       "0       20000  0.010355  \n",
       "1        9415  0.005089  "
      ]
     },
     "execution_count": 14,
     "metadata": {},
     "output_type": "execute_result"
    }
   ],
   "source": [
    "overlap_df.head()"
   ]
  },
  {
   "cell_type": "code",
   "execution_count": 15,
   "metadata": {
    "ExecuteTime": {
     "end_time": "2024-11-18T17:32:56.578974Z",
     "start_time": "2024-11-18T17:32:56.566622Z"
    }
   },
   "outputs": [
    {
     "data": {
      "text/html": [
       "<div>\n",
       "<style scoped>\n",
       "    .dataframe tbody tr th:only-of-type {\n",
       "        vertical-align: middle;\n",
       "    }\n",
       "\n",
       "    .dataframe tbody tr th {\n",
       "        vertical-align: top;\n",
       "    }\n",
       "\n",
       "    .dataframe thead th {\n",
       "        text-align: right;\n",
       "    }\n",
       "</style>\n",
       "<table border=\"1\" class=\"dataframe\">\n",
       "  <thead>\n",
       "    <tr style=\"text-align: right;\">\n",
       "      <th></th>\n",
       "      <th>param_set</th>\n",
       "      <th>trait_pair</th>\n",
       "      <th>background</th>\n",
       "      <th>pval</th>\n",
       "      <th>variable</th>\n",
       "      <th>value</th>\n",
       "    </tr>\n",
       "  </thead>\n",
       "  <tbody>\n",
       "    <tr>\n",
       "      <th>0</th>\n",
       "      <td>defaults</td>\n",
       "      <td>EFO_0000095_EFO_0000095</td>\n",
       "      <td>20000</td>\n",
       "      <td>2.336181e-02</td>\n",
       "      <td>n_common</td>\n",
       "      <td>59</td>\n",
       "    </tr>\n",
       "    <tr>\n",
       "      <th>1</th>\n",
       "      <td>sig_only</td>\n",
       "      <td>EFO_0000095_EFO_0000095</td>\n",
       "      <td>20000</td>\n",
       "      <td>1.035461e-02</td>\n",
       "      <td>n_common</td>\n",
       "      <td>26</td>\n",
       "    </tr>\n",
       "    <tr>\n",
       "      <th>2</th>\n",
       "      <td>defaults</td>\n",
       "      <td>EFO_0000182_EFO_0000182</td>\n",
       "      <td>20000</td>\n",
       "      <td>2.398021e-03</td>\n",
       "      <td>n_common</td>\n",
       "      <td>12</td>\n",
       "    </tr>\n",
       "    <tr>\n",
       "      <th>3</th>\n",
       "      <td>defaults</td>\n",
       "      <td>EFO_0000198_EFO_0000198</td>\n",
       "      <td>20000</td>\n",
       "      <td>6.283956e-03</td>\n",
       "      <td>n_common</td>\n",
       "      <td>7</td>\n",
       "    </tr>\n",
       "    <tr>\n",
       "      <th>4</th>\n",
       "      <td>defaults</td>\n",
       "      <td>EFO_0000217_EFO_0000217</td>\n",
       "      <td>20000</td>\n",
       "      <td>1.639309e-02</td>\n",
       "      <td>n_common</td>\n",
       "      <td>5</td>\n",
       "    </tr>\n",
       "    <tr>\n",
       "      <th>...</th>\n",
       "      <td>...</td>\n",
       "      <td>...</td>\n",
       "      <td>...</td>\n",
       "      <td>...</td>\n",
       "      <td>...</td>\n",
       "      <td>...</td>\n",
       "    </tr>\n",
       "    <tr>\n",
       "      <th>1651</th>\n",
       "      <td>defaults</td>\n",
       "      <td>MONDO_0008903_MONDO_0008903</td>\n",
       "      <td>20000</td>\n",
       "      <td>3.401441e-03</td>\n",
       "      <td>n_overlap</td>\n",
       "      <td>1</td>\n",
       "    </tr>\n",
       "    <tr>\n",
       "      <th>1652</th>\n",
       "      <td>sig_only</td>\n",
       "      <td>MONDO_0008903_MONDO_0008903</td>\n",
       "      <td>20000</td>\n",
       "      <td>2.735146e-04</td>\n",
       "      <td>n_overlap</td>\n",
       "      <td>1</td>\n",
       "    </tr>\n",
       "    <tr>\n",
       "      <th>1653</th>\n",
       "      <td>defaults</td>\n",
       "      <td>MONDO_0018309_MONDO_0018309</td>\n",
       "      <td>20000</td>\n",
       "      <td>4.199055e-10</td>\n",
       "      <td>n_overlap</td>\n",
       "      <td>2</td>\n",
       "    </tr>\n",
       "    <tr>\n",
       "      <th>1654</th>\n",
       "      <td>sig_only</td>\n",
       "      <td>MONDO_0018309_MONDO_0018309</td>\n",
       "      <td>20000</td>\n",
       "      <td>1.200135e-11</td>\n",
       "      <td>n_overlap</td>\n",
       "      <td>2</td>\n",
       "    </tr>\n",
       "    <tr>\n",
       "      <th>1655</th>\n",
       "      <td>defaults</td>\n",
       "      <td>MONDO_0024647_MONDO_0024647</td>\n",
       "      <td>20000</td>\n",
       "      <td>2.271279e-02</td>\n",
       "      <td>n_overlap</td>\n",
       "      <td>0</td>\n",
       "    </tr>\n",
       "  </tbody>\n",
       "</table>\n",
       "<p>1656 rows × 6 columns</p>\n",
       "</div>"
      ],
      "text/plain": [
       "     param_set                   trait_pair  background          pval  \\\n",
       "0     defaults      EFO_0000095_EFO_0000095       20000  2.336181e-02   \n",
       "1     sig_only      EFO_0000095_EFO_0000095       20000  1.035461e-02   \n",
       "2     defaults      EFO_0000182_EFO_0000182       20000  2.398021e-03   \n",
       "3     defaults      EFO_0000198_EFO_0000198       20000  6.283956e-03   \n",
       "4     defaults      EFO_0000217_EFO_0000217       20000  1.639309e-02   \n",
       "...        ...                          ...         ...           ...   \n",
       "1651  defaults  MONDO_0008903_MONDO_0008903       20000  3.401441e-03   \n",
       "1652  sig_only  MONDO_0008903_MONDO_0008903       20000  2.735146e-04   \n",
       "1653  defaults  MONDO_0018309_MONDO_0018309       20000  4.199055e-10   \n",
       "1654  sig_only  MONDO_0018309_MONDO_0018309       20000  1.200135e-11   \n",
       "1655  defaults  MONDO_0024647_MONDO_0024647       20000  2.271279e-02   \n",
       "\n",
       "       variable  value  \n",
       "0      n_common     59  \n",
       "1      n_common     26  \n",
       "2      n_common     12  \n",
       "3      n_common      7  \n",
       "4      n_common      5  \n",
       "...         ...    ...  \n",
       "1651  n_overlap      1  \n",
       "1652  n_overlap      1  \n",
       "1653  n_overlap      2  \n",
       "1654  n_overlap      2  \n",
       "1655  n_overlap      0  \n",
       "\n",
       "[1656 rows x 6 columns]"
      ]
     },
     "execution_count": 15,
     "metadata": {},
     "output_type": "execute_result"
    }
   ],
   "source": [
    "overlap_df[overlap_df.param_set.isin(['defaults', 'sig_only'])].melt(id_vars=['param_set', 'trait_pair', 'background', 'pval'], value_vars=['n_common', 'n_rare', 'n_overlap'])"
   ]
  },
  {
   "cell_type": "code",
   "execution_count": 16,
   "metadata": {
    "ExecuteTime": {
     "end_time": "2024-11-18T17:32:56.902155Z",
     "start_time": "2024-11-18T17:32:56.579933Z"
    }
   },
   "outputs": [
    {
     "data": {
      "image/png": "[encoded data removed]",
      "text/plain": [
       "<Figure size 200x200 with 1 Axes>"
      ]
     },
     "metadata": {},
     "output_type": "display_data"
    }
   ],
   "source": [
    "_, ax = plt.subplots(1, 1, figsize=(2,2))\n",
    "sns.barplot(overlap_df[overlap_df.param_set.isin(['defaults', 'sig_only'])].melt(id_vars=['param_set', 'trait_pair', 'background', 'pval'], value_vars=['n_common', 'n_rare', 'n_overlap']), \n",
    "            x='variable', y='value', hue='param_set', estimator='mean', ax=ax)\n",
    "plt.savefig(os.path.join(figdir, 'default_vs_sig_only_gene_counts.png'), dpi=300, bbox_inches='tight')"
   ]
  },
  {
   "cell_type": "code",
   "execution_count": 17,
   "metadata": {
    "ExecuteTime": {
     "end_time": "2024-11-18T17:32:56.917016Z",
     "start_time": "2024-11-18T17:32:56.903106Z"
    }
   },
   "outputs": [
    {
     "data": {
      "text/html": [
       "<div>\n",
       "<style scoped>\n",
       "    .dataframe tbody tr th:only-of-type {\n",
       "        vertical-align: middle;\n",
       "    }\n",
       "\n",
       "    .dataframe tbody tr th {\n",
       "        vertical-align: top;\n",
       "    }\n",
       "\n",
       "    .dataframe thead th {\n",
       "        text-align: right;\n",
       "    }\n",
       "</style>\n",
       "<table border=\"1\" class=\"dataframe\">\n",
       "  <thead>\n",
       "    <tr style=\"text-align: right;\">\n",
       "      <th></th>\n",
       "      <th>param_set</th>\n",
       "      <th>trait_pair</th>\n",
       "      <th>background</th>\n",
       "      <th>pval</th>\n",
       "      <th>variable</th>\n",
       "      <th>value</th>\n",
       "    </tr>\n",
       "  </thead>\n",
       "  <tbody>\n",
       "    <tr>\n",
       "      <th>0</th>\n",
       "      <td>defaults</td>\n",
       "      <td>EFO_0000095_EFO_0000095</td>\n",
       "      <td>20000</td>\n",
       "      <td>0.023362</td>\n",
       "      <td>n_common</td>\n",
       "      <td>59</td>\n",
       "    </tr>\n",
       "    <tr>\n",
       "      <th>1</th>\n",
       "      <td>sig_only</td>\n",
       "      <td>EFO_0000095_EFO_0000095</td>\n",
       "      <td>20000</td>\n",
       "      <td>0.010355</td>\n",
       "      <td>n_common</td>\n",
       "      <td>26</td>\n",
       "    </tr>\n",
       "    <tr>\n",
       "      <th>2</th>\n",
       "      <td>defaults</td>\n",
       "      <td>EFO_0000182_EFO_0000182</td>\n",
       "      <td>20000</td>\n",
       "      <td>0.002398</td>\n",
       "      <td>n_common</td>\n",
       "      <td>12</td>\n",
       "    </tr>\n",
       "    <tr>\n",
       "      <th>3</th>\n",
       "      <td>defaults</td>\n",
       "      <td>EFO_0000198_EFO_0000198</td>\n",
       "      <td>20000</td>\n",
       "      <td>0.006284</td>\n",
       "      <td>n_common</td>\n",
       "      <td>7</td>\n",
       "    </tr>\n",
       "    <tr>\n",
       "      <th>4</th>\n",
       "      <td>defaults</td>\n",
       "      <td>EFO_0000217_EFO_0000217</td>\n",
       "      <td>20000</td>\n",
       "      <td>0.016393</td>\n",
       "      <td>n_common</td>\n",
       "      <td>5</td>\n",
       "    </tr>\n",
       "  </tbody>\n",
       "</table>\n",
       "</div>"
      ],
      "text/plain": [
       "  param_set               trait_pair  background      pval  variable  value\n",
       "0  defaults  EFO_0000095_EFO_0000095       20000  0.023362  n_common     59\n",
       "1  sig_only  EFO_0000095_EFO_0000095       20000  0.010355  n_common     26\n",
       "2  defaults  EFO_0000182_EFO_0000182       20000  0.002398  n_common     12\n",
       "3  defaults  EFO_0000198_EFO_0000198       20000  0.006284  n_common      7\n",
       "4  defaults  EFO_0000217_EFO_0000217       20000  0.016393  n_common      5"
      ]
     },
     "execution_count": 17,
     "metadata": {},
     "output_type": "execute_result"
    }
   ],
   "source": [
    "overlap_df[overlap_df.param_set.isin(['defaults', 'sig_only'])].melt(id_vars=['param_set', 'trait_pair', 'background', 'pval'], value_vars=['n_common', 'n_rare', 'n_overlap']).head()"
   ]
  },
  {
   "cell_type": "code",
   "execution_count": 18,
   "metadata": {
    "ExecuteTime": {
     "end_time": "2024-11-18T17:32:56.944604Z",
     "start_time": "2024-11-18T17:32:56.919334Z"
    }
   },
   "outputs": [
    {
     "data": {
      "text/html": [
       "<div>\n",
       "<style scoped>\n",
       "    .dataframe tbody tr th:only-of-type {\n",
       "        vertical-align: middle;\n",
       "    }\n",
       "\n",
       "    .dataframe tbody tr th {\n",
       "        vertical-align: top;\n",
       "    }\n",
       "\n",
       "    .dataframe thead th {\n",
       "        text-align: right;\n",
       "    }\n",
       "</style>\n",
       "<table border=\"1\" class=\"dataframe\">\n",
       "  <thead>\n",
       "    <tr style=\"text-align: right;\">\n",
       "      <th></th>\n",
       "      <th></th>\n",
       "      <th>count</th>\n",
       "      <th>mean</th>\n",
       "      <th>std</th>\n",
       "      <th>min</th>\n",
       "      <th>25%</th>\n",
       "      <th>50%</th>\n",
       "      <th>75%</th>\n",
       "      <th>max</th>\n",
       "    </tr>\n",
       "    <tr>\n",
       "      <th>param_set</th>\n",
       "      <th>variable</th>\n",
       "      <th></th>\n",
       "      <th></th>\n",
       "      <th></th>\n",
       "      <th></th>\n",
       "      <th></th>\n",
       "      <th></th>\n",
       "      <th></th>\n",
       "      <th></th>\n",
       "    </tr>\n",
       "  </thead>\n",
       "  <tbody>\n",
       "    <tr>\n",
       "      <th rowspan=\"3\" valign=\"top\">defaults</th>\n",
       "      <th>n_common</th>\n",
       "      <td>350.0</td>\n",
       "      <td>186.368571</td>\n",
       "      <td>403.138808</td>\n",
       "      <td>3.0</td>\n",
       "      <td>10.00</td>\n",
       "      <td>45.5</td>\n",
       "      <td>179.50</td>\n",
       "      <td>5481.0</td>\n",
       "    </tr>\n",
       "    <tr>\n",
       "      <th>n_overlap</th>\n",
       "      <td>350.0</td>\n",
       "      <td>8.774286</td>\n",
       "      <td>24.910911</td>\n",
       "      <td>0.0</td>\n",
       "      <td>0.00</td>\n",
       "      <td>0.0</td>\n",
       "      <td>3.00</td>\n",
       "      <td>194.0</td>\n",
       "    </tr>\n",
       "    <tr>\n",
       "      <th>n_rare</th>\n",
       "      <td>350.0</td>\n",
       "      <td>51.594286</td>\n",
       "      <td>164.142858</td>\n",
       "      <td>3.0</td>\n",
       "      <td>8.00</td>\n",
       "      <td>17.0</td>\n",
       "      <td>41.00</td>\n",
       "      <td>2217.0</td>\n",
       "    </tr>\n",
       "    <tr>\n",
       "      <th rowspan=\"3\" valign=\"top\">sig_only</th>\n",
       "      <th>n_common</th>\n",
       "      <td>202.0</td>\n",
       "      <td>243.935644</td>\n",
       "      <td>462.203462</td>\n",
       "      <td>3.0</td>\n",
       "      <td>23.25</td>\n",
       "      <td>78.5</td>\n",
       "      <td>311.75</td>\n",
       "      <td>5152.0</td>\n",
       "    </tr>\n",
       "    <tr>\n",
       "      <th>n_overlap</th>\n",
       "      <td>202.0</td>\n",
       "      <td>13.351485</td>\n",
       "      <td>27.326845</td>\n",
       "      <td>0.0</td>\n",
       "      <td>0.00</td>\n",
       "      <td>2.0</td>\n",
       "      <td>14.75</td>\n",
       "      <td>165.0</td>\n",
       "    </tr>\n",
       "    <tr>\n",
       "      <th>n_rare</th>\n",
       "      <td>202.0</td>\n",
       "      <td>56.554455</td>\n",
       "      <td>168.178564</td>\n",
       "      <td>3.0</td>\n",
       "      <td>5.00</td>\n",
       "      <td>10.5</td>\n",
       "      <td>37.75</td>\n",
       "      <td>1736.0</td>\n",
       "    </tr>\n",
       "  </tbody>\n",
       "</table>\n",
       "</div>"
      ],
      "text/plain": [
       "                     count        mean         std  min    25%   50%     75%  \\\n",
       "param_set variable                                                             \n",
       "defaults  n_common   350.0  186.368571  403.138808  3.0  10.00  45.5  179.50   \n",
       "          n_overlap  350.0    8.774286   24.910911  0.0   0.00   0.0    3.00   \n",
       "          n_rare     350.0   51.594286  164.142858  3.0   8.00  17.0   41.00   \n",
       "sig_only  n_common   202.0  243.935644  462.203462  3.0  23.25  78.5  311.75   \n",
       "          n_overlap  202.0   13.351485   27.326845  0.0   0.00   2.0   14.75   \n",
       "          n_rare     202.0   56.554455  168.178564  3.0   5.00  10.5   37.75   \n",
       "\n",
       "                        max  \n",
       "param_set variable           \n",
       "defaults  n_common   5481.0  \n",
       "          n_overlap   194.0  \n",
       "          n_rare     2217.0  \n",
       "sig_only  n_common   5152.0  \n",
       "          n_overlap   165.0  \n",
       "          n_rare     1736.0  "
      ]
     },
     "execution_count": 18,
     "metadata": {},
     "output_type": "execute_result"
    }
   ],
   "source": [
    "overlap_df[overlap_df.param_set.isin(['defaults', 'sig_only'])].melt(id_vars=['param_set', 'trait_pair', 'background', 'pval'], value_vars=['n_common', 'n_rare', 'n_overlap']).groupby(['param_set', 'variable']).value.describe()"
   ]
  },
  {
   "cell_type": "markdown",
   "metadata": {},
   "source": [
    "P-values"
   ]
  },
  {
   "cell_type": "code",
   "execution_count": 19,
   "metadata": {
    "ExecuteTime": {
     "end_time": "2024-11-18T17:32:56.951345Z",
     "start_time": "2024-11-18T17:32:56.947732Z"
    }
   },
   "outputs": [],
   "source": [
    "overlap_df['logp'] = -np.log10(overlap_df.pval + 1e-50)"
   ]
  },
  {
   "cell_type": "code",
   "execution_count": 20,
   "metadata": {
    "ExecuteTime": {
     "end_time": "2024-11-18T17:32:57.124914Z",
     "start_time": "2024-11-18T17:32:56.955015Z"
    }
   },
   "outputs": [
    {
     "data": {
      "image/png": "[encoded data removed]",
      "text/plain": [
       "<Figure size 200x200 with 1 Axes>"
      ]
     },
     "metadata": {},
     "output_type": "display_data"
    }
   ],
   "source": [
    "#sns.barplot(overlap_df[overlap_df.param_set.isin(['defaults', 'sig_only'])], x = 'param_set', y = 'logp', estimator='median')\n",
    "_, ax = plt.subplots(1, 1, figsize=(2,2))\n",
    "sns.boxplot(overlap_df[overlap_df.param_set.isin(['defaults', 'sig_only'])], x = 'param_set', y = 'logp', ax=ax, fliersize=2)\n",
    "plt.savefig(os.path.join(figdir, 'default_vs_sig_only_overlap_sig.png'), dpi=300, bbox_inches='tight')"
   ]
  },
  {
   "cell_type": "markdown",
   "metadata": {},
   "source": [
    "### Background comparison"
   ]
  },
  {
   "cell_type": "code",
   "execution_count": 21,
   "metadata": {
    "ExecuteTime": {
     "end_time": "2024-11-18T17:32:57.236300Z",
     "start_time": "2024-11-18T17:32:57.126140Z"
    }
   },
   "outputs": [
    {
     "data": {
      "text/plain": [
       "<Axes: xlabel='background', ylabel='logp'>"
      ]
     },
     "execution_count": 21,
     "metadata": {},
     "output_type": "execute_result"
    },
    {
     "data": {
      "image/png": "[encoded data removed]",
      "text/plain": [
       "<Figure size 640x480 with 1 Axes>"
      ]
     },
     "metadata": {},
     "output_type": "display_data"
    }
   ],
   "source": [
    "sns.boxplot(overlap_df, x = 'background', y = 'logp')"
   ]
  },
  {
   "cell_type": "code",
   "execution_count": 22,
   "metadata": {
    "ExecuteTime": {
     "end_time": "2024-11-18T17:32:57.449720Z",
     "start_time": "2024-11-18T17:32:57.237923Z"
    }
   },
   "outputs": [
    {
     "data": {
      "image/png": "[encoded data removed]",
      "text/plain": [
       "<Figure size 300x200 with 1 Axes>"
      ]
     },
     "metadata": {},
     "output_type": "display_data"
    }
   ],
   "source": [
    "_, ax = plt.subplots(1,1, figsize=(3, 2))\n",
    "sns.boxplot(overlap_df, x = 'param_set', y = 'logp', hue='param_set', fliersize=2)\n",
    "plt.savefig(os.path.join(figdir, 'default_sig_bkgnd_overlap_sig.png'), dpi=300, bbox_inches='tight')"
   ]
  },
  {
   "cell_type": "markdown",
   "metadata": {},
   "source": [
    "## Results of 9k analysis"
   ]
  },
  {
   "cell_type": "code",
   "execution_count": 23,
   "metadata": {
    "ExecuteTime": {
     "end_time": "2024-11-18T17:32:57.464761Z",
     "start_time": "2024-11-18T17:32:57.455767Z"
    }
   },
   "outputs": [],
   "source": [
    "k9_df = overlap_df[overlap_df.param_set.str.contains('9k')]\n",
    "k9_df = k9_df.sort_values(by='pval', ascending=True)"
   ]
  },
  {
   "cell_type": "code",
   "execution_count": 24,
   "metadata": {
    "ExecuteTime": {
     "end_time": "2024-11-18T17:32:57.579042Z",
     "start_time": "2024-11-18T17:32:57.470626Z"
    }
   },
   "outputs": [],
   "source": [
    "k9_df['expected'] = k9_df.apply(lambda x: hypergeom.mean(x.background, x.n_common, x.n_rare), axis=1)"
   ]
  },
  {
   "cell_type": "code",
   "execution_count": 25,
   "metadata": {
    "ExecuteTime": {
     "end_time": "2024-11-18T17:33:02.341969Z",
     "start_time": "2024-11-18T17:32:57.582739Z"
    }
   },
   "outputs": [
    {
     "data": {
      "image/png": "[encoded data removed]",
      "text/plain": [
       "<Figure size 500x300 with 4 Axes>"
      ]
     },
     "metadata": {},
     "output_type": "display_data"
    }
   ],
   "source": [
    "_, [ax1, ax2, ax3, ax4] = plt.subplots(4, 1, figsize=(5, 3), sharex=True)\n",
    "sns.barplot(k9_df[k9_df.param_set=='defaults_9k'], x = 'trait_pair', y = 'logp', ax=ax1)\n",
    "sns.barplot(k9_df[k9_df.param_set=='defaults_9k'], x = 'trait_pair', y = 'n_overlap', ax=ax2, zorder=10)\n",
    "sns.barplot(k9_df[k9_df.param_set=='defaults_9k'], x = 'trait_pair', y = 'n_common', ax=ax3)\n",
    "sns.barplot(k9_df[k9_df.param_set=='defaults_9k'], x = 'trait_pair', y = 'n_rare', ax=ax4)\n",
    "_ = plt.xticks([])\n",
    "ax3.set_ylim(0, 1000)\n",
    "ax4.set_ylim(0, 500)\n",
    "plt.savefig(os.path.join(figdir, 'overlap_sig_vs_seed_gene_counts.png'), dpi=300, bbox_inches='tight')"
   ]
  },
  {
   "cell_type": "code",
   "execution_count": 26,
   "metadata": {
    "ExecuteTime": {
     "end_time": "2024-11-18T17:33:02.351103Z",
     "start_time": "2024-11-18T17:33:02.343402Z"
    }
   },
   "outputs": [
    {
     "data": {
      "text/html": [
       "<div>\n",
       "<style scoped>\n",
       "    .dataframe tbody tr th:only-of-type {\n",
       "        vertical-align: middle;\n",
       "    }\n",
       "\n",
       "    .dataframe tbody tr th {\n",
       "        vertical-align: top;\n",
       "    }\n",
       "\n",
       "    .dataframe thead th {\n",
       "        text-align: right;\n",
       "    }\n",
       "</style>\n",
       "<table border=\"1\" class=\"dataframe\">\n",
       "  <thead>\n",
       "    <tr style=\"text-align: right;\">\n",
       "      <th></th>\n",
       "      <th>trait_pair</th>\n",
       "      <th>param_set</th>\n",
       "      <th>n_common</th>\n",
       "      <th>n_rare</th>\n",
       "      <th>n_overlap</th>\n",
       "      <th>background</th>\n",
       "      <th>pval</th>\n",
       "      <th>logp</th>\n",
       "      <th>expected</th>\n",
       "    </tr>\n",
       "  </thead>\n",
       "  <tbody>\n",
       "    <tr>\n",
       "      <th>179</th>\n",
       "      <td>EFO_0005208_EFO_0005208</td>\n",
       "      <td>defaults_9k</td>\n",
       "      <td>825</td>\n",
       "      <td>3</td>\n",
       "      <td>3</td>\n",
       "      <td>9415</td>\n",
       "      <td>0.0</td>\n",
       "      <td>50.0</td>\n",
       "      <td>0.262878</td>\n",
       "    </tr>\n",
       "    <tr>\n",
       "      <th>106</th>\n",
       "      <td>EFO_0005208_EFO_0005208</td>\n",
       "      <td>sig_only_9k</td>\n",
       "      <td>771</td>\n",
       "      <td>3</td>\n",
       "      <td>3</td>\n",
       "      <td>9415</td>\n",
       "      <td>0.0</td>\n",
       "      <td>50.0</td>\n",
       "      <td>0.245672</td>\n",
       "    </tr>\n",
       "    <tr>\n",
       "      <th>151</th>\n",
       "      <td>EFO_0004630_EFO_0004630</td>\n",
       "      <td>defaults_9k</td>\n",
       "      <td>15</td>\n",
       "      <td>3</td>\n",
       "      <td>3</td>\n",
       "      <td>9415</td>\n",
       "      <td>0.0</td>\n",
       "      <td>50.0</td>\n",
       "      <td>0.004780</td>\n",
       "    </tr>\n",
       "    <tr>\n",
       "      <th>147</th>\n",
       "      <td>EFO_0009767_EFO_0009767</td>\n",
       "      <td>sig_only_9k</td>\n",
       "      <td>262</td>\n",
       "      <td>3</td>\n",
       "      <td>3</td>\n",
       "      <td>9415</td>\n",
       "      <td>0.0</td>\n",
       "      <td>50.0</td>\n",
       "      <td>0.083484</td>\n",
       "    </tr>\n",
       "    <tr>\n",
       "      <th>86</th>\n",
       "      <td>EFO_0004630_EFO_0004630</td>\n",
       "      <td>sig_only_9k</td>\n",
       "      <td>9</td>\n",
       "      <td>3</td>\n",
       "      <td>3</td>\n",
       "      <td>9415</td>\n",
       "      <td>0.0</td>\n",
       "      <td>50.0</td>\n",
       "      <td>0.002868</td>\n",
       "    </tr>\n",
       "  </tbody>\n",
       "</table>\n",
       "</div>"
      ],
      "text/plain": [
       "                  trait_pair    param_set  n_common  n_rare  n_overlap  \\\n",
       "179  EFO_0005208_EFO_0005208  defaults_9k       825       3          3   \n",
       "106  EFO_0005208_EFO_0005208  sig_only_9k       771       3          3   \n",
       "151  EFO_0004630_EFO_0004630  defaults_9k        15       3          3   \n",
       "147  EFO_0009767_EFO_0009767  sig_only_9k       262       3          3   \n",
       "86   EFO_0004630_EFO_0004630  sig_only_9k         9       3          3   \n",
       "\n",
       "     background  pval  logp  expected  \n",
       "179        9415   0.0  50.0  0.262878  \n",
       "106        9415   0.0  50.0  0.245672  \n",
       "151        9415   0.0  50.0  0.004780  \n",
       "147        9415   0.0  50.0  0.083484  \n",
       "86         9415   0.0  50.0  0.002868  "
      ]
     },
     "execution_count": 26,
     "metadata": {},
     "output_type": "execute_result"
    }
   ],
   "source": [
    "k9_df.head()"
   ]
  },
  {
   "cell_type": "code",
   "execution_count": 27,
   "metadata": {
    "ExecuteTime": {
     "end_time": "2024-11-18T17:33:02.359124Z",
     "start_time": "2024-11-18T17:33:02.352355Z"
    }
   },
   "outputs": [],
   "source": [
    "k9_df['oe'] = k9_df.n_overlap / k9_df.expected"
   ]
  },
  {
   "cell_type": "code",
   "execution_count": 28,
   "metadata": {
    "ExecuteTime": {
     "end_time": "2024-11-18T17:33:02.980831Z",
     "start_time": "2024-11-18T17:33:02.364361Z"
    }
   },
   "outputs": [
    {
     "data": {
      "text/plain": [
       "<Axes: xlabel='oe', ylabel='Count'>"
      ]
     },
     "execution_count": 28,
     "metadata": {},
     "output_type": "execute_result"
    },
    {
     "data": {
      "image/png": "[encoded data removed]",
      "text/plain": [
       "<Figure size 640x480 with 1 Axes>"
      ]
     },
     "metadata": {},
     "output_type": "display_data"
    }
   ],
   "source": [
    "sns.histplot(k9_df[k9_df.param_set=='defaults_9k'], x='oe', log_scale=True, bins=50)"
   ]
  },
  {
   "cell_type": "code",
   "execution_count": 29,
   "metadata": {
    "ExecuteTime": {
     "end_time": "2024-11-18T17:33:03.152464Z",
     "start_time": "2024-11-18T17:33:02.982125Z"
    }
   },
   "outputs": [
    {
     "data": {
      "text/plain": [
       "<Axes: xlabel='oe', ylabel='logp'>"
      ]
     },
     "execution_count": 29,
     "metadata": {},
     "output_type": "execute_result"
    },
    {
     "data": {
      "image/png": "[encoded data removed]",
      "text/plain": [
       "<Figure size 640x480 with 1 Axes>"
      ]
     },
     "metadata": {},
     "output_type": "display_data"
    }
   ],
   "source": [
    "sns.scatterplot(k9_df[k9_df.param_set=='defaults_9k'], x='oe', y='logp', alpha=0.5)"
   ]
  },
  {
   "cell_type": "code",
   "execution_count": 30,
   "metadata": {
    "ExecuteTime": {
     "end_time": "2024-11-18T17:33:03.161229Z",
     "start_time": "2024-11-18T17:33:03.155730Z"
    }
   },
   "outputs": [],
   "source": [
    "k9_df['rare_only'] = k9_df.n_rare - k9_df.n_overlap\n",
    "k9_df['common_only'] = k9_df.n_common - k9_df.n_overlap\n",
    "k9_df['total'] = k9_df.rare_only + k9_df.common_only + k9_df.n_overlap\n",
    "k9_df['overlap+rare'] = k9_df.n_overlap + k9_df.rare_only\n",
    "k9_df = k9_df.sort_values(by=['n_overlap', 'total'], ascending=False)"
   ]
  },
  {
   "cell_type": "code",
   "execution_count": 31,
   "metadata": {
    "ExecuteTime": {
     "end_time": "2024-11-18T17:33:03.171743Z",
     "start_time": "2024-11-18T17:33:03.162602Z"
    }
   },
   "outputs": [],
   "source": [
    "plot_df =k9_df[(k9_df.param_set=='defaults_9k') & ((k9_df.total > 100) ) & (k9_df.total < 1000)].melt(id_vars=['trait_pair', 'pval', 'logp'], value_vars=['n_overlap', 'overlap+rare', 'total'])"
   ]
  },
  {
   "cell_type": "code",
   "execution_count": 32,
   "metadata": {
    "ExecuteTime": {
     "end_time": "2024-11-18T17:33:03.178979Z",
     "start_time": "2024-11-18T17:33:03.172887Z"
    }
   },
   "outputs": [],
   "source": [
    "total_order = k9_df[k9_df.param_set=='defaults_9k'].sort_values(by=['n_overlap', 'n_rare', 'n_common'], ascending=[False, False, False]).trait_pair.values"
   ]
  },
  {
   "cell_type": "code",
   "execution_count": 33,
   "metadata": {
    "ExecuteTime": {
     "end_time": "2024-11-18T17:33:03.185076Z",
     "start_time": "2024-11-18T17:33:03.180084Z"
    }
   },
   "outputs": [
    {
     "data": {
      "text/plain": [
       "array(['EFO_0004339_EFO_0004339', 'EFO_0006335_EFO_0006335',\n",
       "       'EFO_0004533_EFO_0004533', 'EFO_0004696_EFO_0004696',\n",
       "       'EFO_0004541_EFO_0004541', 'EFO_0006336_EFO_0006336',\n",
       "       'EFO_0007805_EFO_0007805', 'MONDO_0005090_MONDO_0005090',\n",
       "       'EFO_0004458_EFO_0004458', 'EFO_0004531_EFO_0004531'], dtype=object)"
      ]
     },
     "execution_count": 33,
     "metadata": {},
     "output_type": "execute_result"
    }
   ],
   "source": [
    "total_order[0:10]"
   ]
  },
  {
   "cell_type": "code",
   "execution_count": 35,
   "metadata": {
    "ExecuteTime": {
     "end_time": "2024-11-18T22:11:03.558477Z",
     "start_time": "2024-11-18T22:11:00.500411Z"
    }
   },
   "outputs": [
    {
     "name": "stdout",
     "output_type": "stream",
     "text": [
      "198\n"
     ]
    },
    {
     "data": {
      "image/png": "[encoded data removed]",
      "text/plain": [
       "<Figure size 800x150 with 4 Axes>"
      ]
     },
     "metadata": {},
     "output_type": "display_data"
    }
   ],
   "source": [
    "_, [[ax1a, ax2a], [ax1, ax2]] = plt.subplots(2, 2, figsize=(8, 1.5), sharex=False, gridspec_kw={'height_ratios': [1, 20], 'width_ratios':[150,198], 'hspace': 0})\n",
    "\n",
    "\n",
    "\n",
    "order = [x for x in total_order if x in plot_df.trait_pair.values]\n",
    "#plot_df[plot_df.variable=='n_overlap'].sort_values('value', ascending=False).trait_pair\n",
    "sns.heatmap(np.array(plot_df[plot_df.variable=='total'].set_index('trait_pair').loc[order]['logp']).reshape(-1, 1).T, ax=ax1a, cbar=False, cmap='Reds', yticklabels=False, xticklabels=False,vmax=50, vmin=0)\n",
    "\n",
    "sns.barplot(plot_df[plot_df.variable=='n_overlap'], x='trait_pair', y='value', color='purple', zorder=10, order=order, ax=ax1)\n",
    "sns.barplot(plot_df[plot_df.variable=='overlap+rare'], x='trait_pair', y='value', color='green', zorder=5, order=order, ax=ax1, alpha=0.5)\n",
    "sns.barplot(plot_df[plot_df.variable=='total'], x='trait_pair', y='value', color='skyblue', zorder=1, order=order, ax=ax1, alpha=0.5)\n",
    "ax1.set_xticks([])\n",
    "\n",
    "\n",
    "plot_df2 =k9_df[(k9_df.param_set=='defaults_9k')  & (k9_df.total <= 100)].melt(id_vars=['trait_pair', 'pval', 'logp'], value_vars=['n_overlap', 'overlap+rare', 'total'])\n",
    "order = [x for x in total_order if x in plot_df2.trait_pair.values]\n",
    "#plot_df2[plot_df2.variable=='n_overlap'].sort_values('value', ascending=False).trait_pair\n",
    "\n",
    "print(len(order))\n",
    "sns.heatmap(np.array(plot_df2[plot_df2.variable=='total'].set_index('trait_pair').loc[order]['logp']).reshape(-1, 1).T, ax=ax2a, cbar=False, cmap='Reds', yticklabels=False, xticklabels=False, vmax=10, vmin=0)\n",
    "\n",
    "sns.barplot(plot_df2[plot_df2.variable=='n_overlap'], x='trait_pair', y='value', color='purple', zorder=10, order=order, ax=ax2)\n",
    "sns.barplot(plot_df2[plot_df2.variable=='overlap+rare'], x='trait_pair', y='value', color='green', zorder=5, order=order, ax=ax2, alpha=0.5)\n",
    "sns.barplot(plot_df2[plot_df2.variable=='total'], x='trait_pair', y='value', color='skyblue', zorder=1, order=order, ax=ax2, alpha=0.5)\n",
    "ax2.set_xticks([])\n",
    "ax1.set_xlabel('Traits with more than 100 genes (n=139)')\n",
    "ax2.set_xlabel('Traits with fewer than 100 genes (n=198)')\n",
    "ax1.set_ylabel('Total associated genes')\n",
    "ax2.set_ylabel('Total associated genes')\n",
    "plt.savefig(os.path.join(figdir, 'overlap_summary_9k_v2.jpg'), dpi=400, bbox_inches='tight')"
   ]
  },
  {
   "cell_type": "code",
   "execution_count": null,
   "metadata": {
    "ExecuteTime": {
     "end_time": "2024-11-18T17:33:03.199146Z",
     "start_time": "2024-11-18T17:33:03.199137Z"
    }
   },
   "outputs": [],
   "source": [
    "plot_df.trait_pair.nunique()"
   ]
  },
  {
   "cell_type": "code",
   "execution_count": null,
   "metadata": {
    "ExecuteTime": {
     "end_time": "2024-11-18T17:33:03.199821Z",
     "start_time": "2024-11-18T17:33:03.199812Z"
    }
   },
   "outputs": [],
   "source": [
    "plot_df2.trait_pair.nunique()"
   ]
  },
  {
   "cell_type": "code",
   "execution_count": null,
   "metadata": {
    "ExecuteTime": {
     "end_time": "2024-11-18T17:33:03.200649Z",
     "start_time": "2024-11-18T17:33:03.200641Z"
    }
   },
   "outputs": [],
   "source": [
    "_ = plt.figure(figsize=(6, 4))\n",
    "sns.heatmap(np.array(plot_df2[plot_df2.variable=='total'].set_index('trait_pair').loc[order]['logp']).reshape(-1, 1).T, cbar=True, cmap='Reds', yticklabels=False, xticklabels=False, vmax=50, vmin=0)\n",
    "plt.savefig(os.path.join(figdir, 'overlap_summary_9k_colorbar.jpg'), dpi=400, bbox_inches='tight')"
   ]
  },
  {
   "cell_type": "markdown",
   "metadata": {},
   "source": [
    "## Venn Diagrams"
   ]
  },
  {
   "cell_type": "code",
   "execution_count": null,
   "metadata": {
    "ExecuteTime": {
     "end_time": "2024-11-18T17:33:03.201323Z",
     "start_time": "2024-11-18T17:33:03.201307Z"
    }
   },
   "outputs": [],
   "source": [
    "traits = ['EFO_0004570', 'EFO_0009961', 'EFO_0004630',  'EFO_0000612',  'EFO_0000400', 'EFO_0000756', 'EFO_0000684', ]\n",
    "trait_pairs = [f'{x}_{x}' for x in traits]"
   ]
  },
  {
   "cell_type": "code",
   "execution_count": null,
   "metadata": {
    "ExecuteTime": {
     "end_time": "2024-11-18T17:33:03.202097Z",
     "start_time": "2024-11-18T17:33:03.202089Z"
    }
   },
   "outputs": [],
   "source": [
    "k9_df[(k9_df.trait_pair==trait_pairs[i]) & (k9_df.param_set=='sig_only_9k')].loc[:, ('rare_only', 'common_only', 'n_overlap')].values"
   ]
  },
  {
   "cell_type": "code",
   "execution_count": null,
   "metadata": {
    "ExecuteTime": {
     "end_time": "2024-11-18T17:33:03.202566Z",
     "start_time": "2024-11-18T17:33:03.202557Z"
    }
   },
   "outputs": [],
   "source": [
    "_, [[ax1,ax2,ax3,ax4], [ax5, ax6, ax7, ax8]] = plt.subplots(2, 4, figsize=(20, 10), sharex=True, sharey=True)\n",
    "for i in range(len(trait_pairs)):\n",
    "    trait_info = k9_df[(k9_df.trait_pair==trait_pairs[i]) & (k9_df.param_set=='sig_only_9k')]\n",
    "    subsets = trait_info.loc[:, ('rare_only', 'common_only', 'n_overlap')].values[0]\n",
    "    v = venn2(subsets=subsets, set_labels=('Rare', 'Common'), ax=eval(f'ax{i+1}'))\n",
    "    eval(f'ax{i+1}').set_title(traits[i])\n",
    "    v.get_patch_by_id('10').set_color('mediumseagreen')\n",
    "    v.get_patch_by_id('01').set_color('dodgerblue')\n",
    "    v.get_patch_by_id('11').set_color('purple')\n"
   ]
  },
  {
   "cell_type": "code",
   "execution_count": null,
   "metadata": {
    "ExecuteTime": {
     "end_time": "2024-11-18T17:33:03.203314Z",
     "start_time": "2024-11-18T17:33:03.203305Z"
    }
   },
   "outputs": [],
   "source": [
    "overlap_df.head()"
   ]
  },
  {
   "cell_type": "markdown",
   "metadata": {},
   "source": [
    "## Development"
   ]
  },
  {
   "cell_type": "code",
   "execution_count": null,
   "metadata": {
    "ExecuteTime": {
     "end_time": "2024-11-18T17:33:03.203961Z",
     "start_time": "2024-11-18T17:33:03.203952Z"
    }
   },
   "outputs": [],
   "source": [
    "rv_gene_counts "
   ]
  },
  {
   "cell_type": "code",
   "execution_count": null,
   "metadata": {
    "ExecuteTime": {
     "end_time": "2024-11-18T17:33:03.204629Z",
     "start_time": "2024-11-18T17:33:03.204620Z"
    }
   },
   "outputs": [],
   "source": [
    "with open(os.path.join(input_dir,'overlap_traits_Jun17.txt'), 'r') as f:\n",
    "    traits = f.read().splitlines()"
   ]
  },
  {
   "cell_type": "code",
   "execution_count": null,
   "metadata": {
    "ExecuteTime": {
     "end_time": "2024-11-18T17:33:03.205255Z",
     "start_time": "2024-11-18T17:33:03.205246Z"
    }
   },
   "outputs": [],
   "source": [
    "df.head()"
   ]
  },
  {
   "cell_type": "markdown",
   "metadata": {},
   "source": []
  },
  {
   "cell_type": "code",
   "execution_count": null,
   "metadata": {
    "ExecuteTime": {
     "end_time": "2024-11-18T17:33:03.205879Z",
     "start_time": "2024-11-18T17:33:03.205871Z"
    }
   },
   "outputs": [],
   "source": [
    "def compare_common_rare_genes(traits, rare_th=1, common_th=1, count_th=1, background=20000):\n",
    "    rare_variants = {'ensembl':{}, 'symbol':{}}\n",
    "    for trait in traits:\n",
    "        df = pd.read_csv(os.path.join(input_dir,trait+'_RV.txt'), sep='\\t')\n",
    "        df = df[df['P-value']<=rare_th]\n",
    "        rare_variants['ensembl'][trait] = df['Ensembl ID'].unique()\n",
    "        rare_variants['symbol'][trait] = df['Gene Symbol'].unique()\n",
    "    common_variants = {'ensembl':{}, 'symbol':{}}\n",
    "    for trait in traits:\n",
    "        df = pd.read_csv(os.path.join(input_dir,trait+'_CV.txt'), sep='\\t')\n",
    "        df = df[df['P-value']<=common_th]\n",
    "        common_variants['ensembl'][trait] = df['Ensembl ID'].unique()\n",
    "        common_variants['symbol'][trait] = df['Gene Symbol'].unique()\n",
    "    shared_variants = {'ensembl':{}, 'symbol':{}}\n",
    "    for trait in traits:\n",
    "        shared_variants['ensembl'][trait] = len(np.intersect1d(rare_variants['ensembl'][trait], common_variants['ensembl'][trait]))\n",
    "        shared_variants['symbol'][trait] = len(np.intersect1d(rare_variants['symbol'][trait], common_variants['symbol'][trait]))\n",
    "    gene_comparison = pd.DataFrame({'ensembl':shared_variants['ensembl'], 'symbol':shared_variants['symbol']})\n",
    "    gene_comparison = gene_comparison.assign(Rare_ensembl = [len(rare_variants['ensembl'][trait]) for trait in traits])\n",
    "    gene_comparison = gene_comparison.assign(Rare_symbol = [len(rare_variants['symbol'][trait]) for trait in traits])\n",
    "    gene_comparison = gene_comparison.assign(Common_ensembl = [len(common_variants['ensembl'][trait]) for trait in traits])\n",
    "    gene_comparison = gene_comparison.assign(Common_symbol = [len(common_variants['symbol'][trait]) for trait in traits])\n",
    "    gene_comparison = gene_comparison.loc[(gene_comparison['Rare_ensembl'] >= count_th) & (gene_comparison['Common_ensembl'] >= count_th)].copy()\n",
    "    gene_comparison['hypergeom_ensembl'] = gene_comparison.apply(lambda x: hypergeom.sf(k=x['ensembl'], N=x['Rare_ensembl'], n=x['Common_ensembl'], M=background), axis=1)\n",
    "    gene_comparison['hypergeom_symbol'] = gene_comparison.apply(lambda x: hypergeom.sf(k=x['symbol'], N=x['Rare_symbol'], n=x['Common_symbol'], M=background), axis=1)\n",
    "    gene_comparison['BH_ensembl'] = multipletests(gene_comparison['hypergeom_ensembl'], method='fdr_bh')[1]\n",
    "    gene_comparison['BH_symbol'] = multipletests(gene_comparison['hypergeom_symbol'], method='fdr_bh')[1]\n",
    "    print('Total comparisons:', gene_comparison.shape[0])\n",
    "    print('Median q value:', gene_comparison['BH_ensembl'].median())\n",
    "    return gene_comparison"
   ]
  },
  {
   "cell_type": "code",
   "execution_count": null,
   "metadata": {
    "ExecuteTime": {
     "end_time": "2024-11-18T17:33:03.206446Z",
     "start_time": "2024-11-18T17:33:03.206437Z"
    }
   },
   "outputs": [],
   "source": [
    "gene_comparison = compare_common_rare_genes(traits, count_th=4)"
   ]
  },
  {
   "cell_type": "code",
   "execution_count": null,
   "metadata": {
    "ExecuteTime": {
     "end_time": "2024-11-18T17:33:03.207199Z",
     "start_time": "2024-11-18T17:33:03.207191Z"
    }
   },
   "outputs": [],
   "source": [
    "gene_comparison_sig_CV = compare_common_rare_genes(traits, count_th=4, common_th=5e-8)"
   ]
  },
  {
   "cell_type": "code",
   "execution_count": null,
   "metadata": {
    "ExecuteTime": {
     "end_time": "2024-11-18T17:33:03.207852Z",
     "start_time": "2024-11-18T17:33:03.207844Z"
    }
   },
   "outputs": [],
   "source": [
    "gene_comparison.BH_ensembl.median()"
   ]
  },
  {
   "cell_type": "code",
   "execution_count": null,
   "metadata": {
    "ExecuteTime": {
     "end_time": "2024-11-18T17:33:03.208722Z",
     "start_time": "2024-11-18T17:33:03.208713Z"
    }
   },
   "outputs": [],
   "source": [
    "sns.histplot(gene_comparison['BH_ensembl'], bins=50, log_scale=True)\n",
    "plt.xlim(1e-100, 1e-0)"
   ]
  },
  {
   "cell_type": "code",
   "execution_count": null,
   "metadata": {
    "ExecuteTime": {
     "end_time": "2024-11-18T17:33:03.209368Z",
     "start_time": "2024-11-18T17:33:03.209359Z"
    }
   },
   "outputs": [],
   "source": [
    "gene_comparison.sort_values('BH_ensembl').head(50)"
   ]
  }
 ],
 "metadata": {
  "kernelspec": {
   "display_name": "Python (CARVA)",
   "language": "python",
   "name": "carva"
  },
  "language_info": {
   "codemirror_mode": {
    "name": "ipython",
    "version": 3
   },
   "file_extension": ".py",
   "mimetype": "text/x-python",
   "name": "python",
   "nbconvert_exporter": "python",
   "pygments_lexer": "ipython3",
   "version": "3.10.0"
  },
  "toc": {
   "base_numbering": 1,
   "nav_menu": {},
   "number_sections": true,
   "sideBar": true,
   "skip_h1_title": false,
   "title_cell": "Table of Contents",
   "title_sidebar": "Contents",
   "toc_cell": false,
   "toc_position": {},
   "toc_section_display": true,
   "toc_window_display": true
  },
  "varInspector": {
   "cols": {
    "lenName": 16,
    "lenType": 16,
    "lenVar": 40
   },
   "kernels_config": {
    "python": {
     "delete_cmd_postfix": "",
     "delete_cmd_prefix": "del ",
     "library": "var_list.py",
     "varRefreshCmd": "print(var_dic_list())"
    },
    "r": {
     "delete_cmd_postfix": ") ",
     "delete_cmd_prefix": "rm(",
     "library": "var_list.r",
     "varRefreshCmd": "cat(var_dic_list()) "
    }
   },
   "types_to_exclude": [
    "module",
    "function",
    "builtin_function_or_method",
    "instance",
    "_Feature"
   ],
   "window_display": false
  }
 },
 "nbformat": 4,
 "nbformat_minor": 4
}
