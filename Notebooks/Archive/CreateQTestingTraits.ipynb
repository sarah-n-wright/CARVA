{
 "cells": [
  {
   "cell_type": "code",
   "execution_count": 1,
   "metadata": {
    "ExecuteTime": {
     "end_time": "2025-01-29T23:46:34.620394Z",
     "start_time": "2025-01-29T23:46:32.433895Z"
    }
   },
   "outputs": [],
   "source": [
    "import pandas as pd\n",
    "import numpy as np\n",
    "import matplotlib.pyplot as plt\n",
    "import seaborn as sns\n",
    "import os\n",
    "from collections import defaultdict\n",
    "from tqdm import tqdm\n",
    "import networkx as nx\n",
    "from matplotlib_venn import venn2, venn3\n",
    "from neteval import gene_mapper as gm\n",
    "from neteval import query_ensembl as qe\n",
    "from neteval import query_hgnc as qh\n",
    "import obonet as obo\n",
    "import random as rn"
   ]
  },
  {
   "cell_type": "code",
   "execution_count": 2,
   "metadata": {
    "ExecuteTime": {
     "end_time": "2025-01-29T23:46:34.632726Z",
     "start_time": "2025-01-29T23:46:34.631023Z"
    }
   },
   "outputs": [],
   "source": [
    "datadir='/cellar/users/snwright/Data/RareCommon/'\n",
    "outdir='/cellar/users/snwright/Data/Transfer/RVC/'\n",
    "figdir='/cellar/users/snwright/Data/Transfer/RVC/figures/RAVAR_GWASCat/'"
   ]
  },
  {
   "cell_type": "code",
   "execution_count": 3,
   "metadata": {
    "ExecuteTime": {
     "end_time": "2025-01-29T23:46:34.650156Z",
     "start_time": "2025-01-29T23:46:34.639804Z"
    }
   },
   "outputs": [],
   "source": [
    "plt.rcParams['svg.fonttype'] = 'none'\n",
    "plt.rcParams.update({'font.size': 7})\n",
    "plt.rcParams['axes.linewidth'] = 0.5\n",
    "plt.rcParams['hatch.linewidth'] = 0.5\n",
    "plt.rcParams['xtick.major.width'] = 0.4\n",
    "plt.rcParams['ytick.major.width'] = 0.4\n",
    "plt.rcParams['xtick.minor.width'] = 0.3\n",
    "plt.rcParams['ytick.minor.width'] = 0.3\n",
    "plt.rcParams['legend.frameon'] = False\n",
    "plt.rcParams['xtick.major.size'] = 3\n",
    "plt.rcParams['ytick.major.size'] = 3\n",
    "plt.rcParams['xtick.minor.size'] = 2\n",
    "plt.rcParams['ytick.minor.size'] = 2\n",
    "plt.rcParams['xtick.major.pad'] = 1\n",
    "plt.rcParams['ytick.major.pad'] = 1\n",
    "plt.rcParams['axes.labelpad'] = 1\n",
    "plt.rcParams['patch.linewidth'] = 0.25"
   ]
  },
  {
   "cell_type": "code",
   "execution_count": 4,
   "metadata": {
    "ExecuteTime": {
     "end_time": "2024-12-04T17:48:40.694399Z",
     "start_time": "2024-12-04T17:48:40.692003Z"
    }
   },
   "outputs": [],
   "source": [
    "with open(os.path.join('/cellar/users/snwright/Data/RareCommon/inputs/overlap_traits_Jun27.txt'), 'r') as f:\n",
    "    overlap_traits = [x.strip() for x in f.readlines()]"
   ]
  },
  {
   "cell_type": "markdown",
   "metadata": {},
   "source": [
    "# Identify testing traits"
   ]
  },
  {
   "cell_type": "markdown",
   "metadata": {},
   "source": [
    "## Load Ontology"
   ]
  },
  {
   "cell_type": "code",
   "execution_count": 5,
   "metadata": {
    "ExecuteTime": {
     "end_time": "2024-12-04T17:49:10.361684Z",
     "start_time": "2024-12-04T17:48:41.016921Z"
    }
   },
   "outputs": [],
   "source": [
    "efo = obo.read_obo('http://www.ebi.ac.uk/efo/efo.obo')\n",
    "efo_root='EFO:0000001'"
   ]
  },
  {
   "cell_type": "code",
   "execution_count": null,
   "metadata": {},
   "outputs": [],
   "source": [
    "def assign_trait_to_global(trait, efo, high_level_terms=['EFO:0000408','EFO:0001444','HP:0000118']):\n",
    "    trait = trait.replace('_', ':')\n",
    "    high_level_parents = []\n",
    "    if trait in efo.nodes:\n",
    "        for ancestor in list(nx.descendants(efo, trait)):\n",
    "            if ancestor in high_level_terms:\n",
    "                high_level_parents.append(ancestor)\n",
    "    else:\n",
    "        print(trait, 'not in efo graph')\n",
    "    return high_level_parents\n",
    "\n",
    "def assign_trait_list_to_global(trait_list, efo, high_level_terms=['EFO:0000408','EFO:0001444','HP:0000118']):\n",
    "    groups = {trait:[] for trait in high_level_terms}\n",
    "    for trait in trait_list:\n",
    "        parents = assign_trait_to_global(trait ,efo, high_level_terms=high_level_terms)\n",
    "        try:\n",
    "            for term in parents:\n",
    "                groups[term].append(trait)\n",
    "        except:\n",
    "            print(parents)\n",
    "    return groups"
   ]
  },
  {
   "cell_type": "markdown",
   "metadata": {},
   "source": [
    "## Load and filter study info"
   ]
  },
  {
   "cell_type": "code",
   "execution_count": null,
   "metadata": {},
   "outputs": [],
   "source": [
    "    gwas_study = pd.read_csv(os.path.join(datadir, 'GWASCatalog','trait_info_cleaned.txt'), sep='\\t')"
   ]
  },
  {
   "cell_type": "code",
   "execution_count": null,
   "metadata": {},
   "outputs": [],
   "source": [
    "gwas_study = gwas_study.loc[gwas_study['ASSOCIATION COUNT'] >= 1]\n",
    "gwas_study.TRAIT_CODE.nunique()"
   ]
  },
  {
   "cell_type": "code",
   "execution_count": null,
   "metadata": {},
   "outputs": [],
   "source": [
    "# keep those not in overlap\n",
    "testing_studies = [t for t in gwas_study[~gwas_study['SUMMARY STATS LOCATION'].isna()].TRAIT_CODE.unique() if (t not in overlap_traits) and (t.replace('_', ':') not in overlap_traits)]"
   ]
  },
  {
   "cell_type": "code",
   "execution_count": null,
   "metadata": {},
   "outputs": [],
   "source": [
    "# keep those with summary statistics\n",
    "testing_study = gwas_study[gwas_study.TRAIT_CODE.isin(testing_studies) & ~gwas_study['SUMMARY STATS LOCATION'].isna()]"
   ]
  },
  {
   "cell_type": "code",
   "execution_count": null,
   "metadata": {},
   "outputs": [],
   "source": [
    "# keep those with no background trait\n",
    "testing_study = testing_study[testing_study['MAPPED BACKGROUND TRAIT URI'].isna()]"
   ]
  },
  {
   "cell_type": "code",
   "execution_count": null,
   "metadata": {},
   "outputs": [],
   "source": [
    "# keep those with at least one association\n",
    "testing_study = testing_study[testing_study['ASSOCIATION COUNT'] > 0]"
   ]
  },
  {
   "cell_type": "code",
   "execution_count": null,
   "metadata": {},
   "outputs": [],
   "source": [
    "# look at the distribution of associations\n",
    "testing_study['ASSOCIATION COUNT'].describe(percentiles=[0.75,0.8,0.85, 0.9, 0.95, 0.99])"
   ]
  },
  {
   "cell_type": "code",
   "execution_count": null,
   "metadata": {},
   "outputs": [],
   "source": [
    "testing_study = testing_study[testing_study['ASSOCIATION COUNT'] >= 5]"
   ]
  },
  {
   "cell_type": "code",
   "execution_count": null,
   "metadata": {},
   "outputs": [],
   "source": [
    "# map traits to EFO categories?\n",
    "global_map = assign_trait_list_to_global(list(testing_study.TRAIT_CODE.unique()), efo)\n",
    "# map disease categories\n",
    "disease_map = assign_trait_list_to_global(global_map['EFO:0000408'],efo , [node for node in efo.predecessors( 'EFO:0000408')] )\n",
    "# map measurement categories\n",
    "measure_map = assign_trait_list_to_global(global_map['EFO:0001444'],efo, [node for node in efo.predecessors( 'EFO:0001444')] )\n",
    "# map abnormality categories\n",
    "abnorm_map = assign_trait_list_to_global(global_map['HP:0000118'],efo, [node for node in efo.predecessors( 'HP:0000118')] )"
   ]
  },
  {
   "cell_type": "markdown",
   "metadata": {},
   "source": [
    "## Select traits"
   ]
  },
  {
   "cell_type": "code",
   "execution_count": null,
   "metadata": {},
   "outputs": [],
   "source": [
    "import random as rn\n",
    "def select_random_traits(trait_map):\n",
    "    traits = []\n",
    "    for k in trait_map.keys():\n",
    "        n = len(trait_map[k])\n",
    "        if n == 0:\n",
    "            pass\n",
    "        elif n == 1:\n",
    "            traits += trait_map[k]\n",
    "        else:\n",
    "            n_select = min(1, int(n*0.1))\n",
    "            traits += rn.sample(trait_map[k], n_select)\n",
    "    return set(traits)\n",
    "disease_traits = select_random_traits(disease_map)\n",
    "measurement_traits = select_random_traits(measure_map)\n",
    "abnorm_traits = select_random_traits(abnorm_map)\n",
    "all_test_traits = disease_traits.union(measurement_traits).union(abnorm_traits)"
   ]
  },
  {
   "cell_type": "code",
   "execution_count": null,
   "metadata": {},
   "outputs": [],
   "source": [
    "all_test_traits =[x.replace(':', '_') for x in list(all_test_traits)]\n",
    "testing_study['Trait'] = testing_study.TRAIT_CODE.apply(lambda x: x.replace(':', '_'))\n",
    "exclude = list(testing_df.Trait.value_counts()[(testing_df.Trait.value_counts() >= 10)].index)"
   ]
  },
  {
   "cell_type": "code",
   "execution_count": null,
   "metadata": {},
   "outputs": [],
   "source": [
    "with open(os.path.join('/cellar/users/snwright/Data/RareCommon/inputs/testing/testing_gwas_traits_xxx.txt'), 'w') as f:\n",
    "    for trait in all_test_traits:\n",
    "        if trait not in exclude:\n",
    "            f.write(trait + '\\n')"
   ]
  },
  {
   "cell_type": "code",
   "execution_count": null,
   "metadata": {},
   "outputs": [],
   "source": [
    "testing_df = testing_study[testing_study.Trait.isin(all_test_traits) & ~testing_study.Trait.isin(exclude)].drop_duplicates()\n",
    "testing_df.to_csv('/cellar/users/snwright/Data/RareCommon/inputs/testing/testing_study_info_Dec3.txt', sep='\\t')"
   ]
  },
  {
   "cell_type": "code",
   "execution_count": null,
   "metadata": {},
   "outputs": [],
   "source": [
    "urls = list(testing_df['SUMMARY STATS LOCATION'].unique())"
   ]
  },
  {
   "cell_type": "code",
   "execution_count": null,
   "metadata": {},
   "outputs": [],
   "source": [
    "with open(os.path.join('/cellar/users/snwright/Data/RareCommon/inputs/testing/testing_gwas_sumstats_urls_xxx.txt'), 'w') as f:\n",
    "    for url in urls:\n",
    "        f.write(url + '\\n')"
   ]
  },
  {
   "cell_type": "markdown",
   "metadata": {},
   "source": [
    "# Create Gene sets"
   ]
  },
  {
   "cell_type": "markdown",
   "metadata": {},
   "source": [
    "### Identify unique trait-study pairs"
   ]
  },
  {
   "cell_type": "code",
   "execution_count": 4,
   "metadata": {
    "ExecuteTime": {
     "end_time": "2025-01-15T17:38:44.199409Z",
     "start_time": "2025-01-15T17:38:44.173085Z"
    }
   },
   "outputs": [],
   "source": [
    "testing_df = pd.read_csv('/cellar/users/snwright/Data/RareCommon/inputs/testing/testing_study_info_Dec3.txt', sep='\\t', index_col=0)"
   ]
  },
  {
   "cell_type": "code",
   "execution_count": 5,
   "metadata": {
    "ExecuteTime": {
     "end_time": "2025-01-15T17:38:44.989864Z",
     "start_time": "2025-01-15T17:38:44.986934Z"
    }
   },
   "outputs": [],
   "source": [
    "studies = testing_df.drop_duplicates(subset=['DISEASE/TRAIT', 'ASSOCIATION COUNT', 'STUDY ACCESSION', 'COHORT', 'Trait'])"
   ]
  },
  {
   "cell_type": "code",
   "execution_count": 6,
   "metadata": {
    "ExecuteTime": {
     "end_time": "2025-01-15T17:38:45.653040Z",
     "start_time": "2025-01-15T17:38:45.651163Z"
    }
   },
   "outputs": [],
   "source": [
    "trait_study_pairs = [pair for pair in zip(studies.Trait, studies['STUDY ACCESSION'])]"
   ]
  },
  {
   "cell_type": "code",
   "execution_count": 7,
   "metadata": {
    "ExecuteTime": {
     "end_time": "2025-01-15T17:38:46.358637Z",
     "start_time": "2025-01-15T17:38:46.350094Z"
    }
   },
   "outputs": [
    {
     "data": {
      "text/plain": [
       "[('EFO_1001976', 'GCST005842'),\n",
       " ('EFO_1001976', 'GCST006910'),\n",
       " ('EFO_0006525', 'GCST007602'),\n",
       " ('EFO_0004741', 'GCST008062'),\n",
       " ('EFO_0004274', 'GCST001791'),\n",
       " ('EFO_0009797', 'GCST003143'),\n",
       " ('EFO_0005213', 'GCST90000654'),\n",
       " ('EFO_0010156', 'GCST010572'),\n",
       " ('EFO_0004608', 'GCST007367'),\n",
       " ('EFO_0004502', 'GCST010901'),\n",
       " ('EFO_0004458', 'GCST010901'),\n",
       " ('EFO_0004502', 'GCST010900'),\n",
       " ('EFO_0004458', 'GCST010900'),\n",
       " ('EFO_0010903', 'GCST90006890'),\n",
       " ('EFO_0004575', 'GCST009731'),\n",
       " ('EFO_0004274', 'GCST010637'),\n",
       " ('HP_0000225', 'GCST004198'),\n",
       " ('EFO_0005213', 'GCST009414'),\n",
       " ('EFO_0005213', 'GCST006366'),\n",
       " ('EFO_0007663', 'GCST002986'),\n",
       " ('EFO_0005213', 'GCST003856'),\n",
       " ('EFO_0009388', 'GCST004620'),\n",
       " ('EFO_0006501', 'GCST010536'),\n",
       " ('EFO_0006501', 'GCST010538'),\n",
       " ('EFO_0006501', 'GCST010537'),\n",
       " ('EFO_0006501', 'GCST010541'),\n",
       " ('EFO_0006501', 'GCST010540'),\n",
       " ('EFO_0006501', 'GCST010539'),\n",
       " ('EFO_0008399', 'GCST90003936'),\n",
       " ('EFO_0008399', 'GCST90003890'),\n",
       " ('EFO_0008399', 'GCST90003881'),\n",
       " ('EFO_0004575', 'GCST90012000'),\n",
       " ('EFO_1001295', 'GCST009081'),\n",
       " ('EFO_0009182', 'GCST90013456'),\n",
       " ('EFO_0004575', 'GCST009159'),\n",
       " ('EFO_0004458', 'GCST009159'),\n",
       " ('EFO_0004795', 'GCST90077602'),\n",
       " ('EFO_0004795', 'GCST90077605'),\n",
       " ('EFO_0004274', 'GCST90025965'),\n",
       " ('EFO_0004991', 'GCST90093061'),\n",
       " ('EFO_0006332', 'GCST90100525'),\n",
       " ('EFO_0005266', 'GCST90100532'),\n",
       " ('EFO_0021533', 'GCST90100536'),\n",
       " ('EFO_0006332', 'GCST90100546'),\n",
       " ('EFO_0005266', 'GCST90100553'),\n",
       " ('EFO_0021533', 'GCST90100557'),\n",
       " ('EFO_0008036', 'GCST90094959'),\n",
       " ('EFO_0008036', 'GCST90094960'),\n",
       " ('EFO_0008036', 'GCST90094962'),\n",
       " ('EFO_0008036', 'GCST90094961'),\n",
       " ('EFO_0020010', 'GCST90010756'),\n",
       " ('EFO_0010362', 'GCST90010784'),\n",
       " ('EFO_0010362', 'GCST90024169'),\n",
       " ('EFO_0010362', 'GCST90024170'),\n",
       " ('EFO_0010369', 'GCST90024212'),\n",
       " ('EFO_0010369', 'GCST90024213'),\n",
       " ('EFO_0006525', 'GCST008027'),\n",
       " ('EFO_0004343', 'GCST008050'),\n",
       " ('EFO_0004343', 'GCST008052'),\n",
       " ('EFO_0009863', 'GCST007710'),\n",
       " ('EFO_0009397', 'GCST006891'),\n",
       " ('EFO_0004769', 'GCST007363'),\n",
       " ('EFO_0006525', 'GCST007459'),\n",
       " ('EFO_0004274', 'GCST90019524'),\n",
       " ('EFO_0004741', 'GCST90019525'),\n",
       " ('EFO_0005939', 'GCST90275190'),\n",
       " ('EFO_0005939', 'GCST90275191'),\n",
       " ('EFO_0007117', 'GCST90100572'),\n",
       " ('EFO_0007117', 'GCST90100573'),\n",
       " ('EFO_0007117', 'GCST90100574'),\n",
       " ('EFO_0007117', 'GCST90100579'),\n",
       " ('EFO_0007117', 'GCST90092502'),\n",
       " ('EFO_0007117', 'GCST90092503'),\n",
       " ('EFO_0007117', 'GCST90092504'),\n",
       " ('EFO_0007117', 'GCST90092505'),\n",
       " ('EFO_0010233', 'GCST90060618'),\n",
       " ('EFO_0010233', 'GCST90060617'),\n",
       " ('EFO_0010233', 'GCST90060624'),\n",
       " ('EFO_0010233', 'GCST90060622'),\n",
       " ('EFO_0010233', 'GCST90060620'),\n",
       " ('EFO_0010233', 'GCST90060630'),\n",
       " ('EFO_0010225', 'GCST90060137'),\n",
       " ('EFO_0010225', 'GCST90060139'),\n",
       " ('EFO_0005423', 'GCST008789'),\n",
       " ('EFO_0005423', 'GCST008788'),\n",
       " ('EFO_0000731', 'GCST009158'),\n",
       " ('EFO_0005423', 'GCST006902'),\n",
       " ('EFO_0004343', 'GCST008996'),\n",
       " ('EFO_0004343', 'GCST008997'),\n",
       " ('EFO_0004343', 'GCST008998'),\n",
       " ('EFO_0008470', 'GCST008648'),\n",
       " ('EFO_0006523', 'GCST009698'),\n",
       " ('EFO_0010369', 'GCST009698'),\n",
       " ('EFO_0010362', 'GCST009698'),\n",
       " ('EFO_0010504', 'GCST009698'),\n",
       " ('EFO_0010519', 'GCST009698'),\n",
       " ('EFO_0010541', 'GCST009698'),\n",
       " ('EFO_0010535', 'GCST009698'),\n",
       " ('EFO_0010488', 'GCST009698'),\n",
       " ('EFO_0010489', 'GCST009698'),\n",
       " ('EFO_0010483', 'GCST009698'),\n",
       " ('EFO_0010470', 'GCST009698'),\n",
       " ('EFO_0010451', 'GCST009698'),\n",
       " ('EFO_0004343', 'GCST009602'),\n",
       " ('EFO_0006525', 'GCST009405'),\n",
       " ('EFO_0006525', 'GCST009407'),\n",
       " ('EFO_0004343', 'GCST90103754'),\n",
       " ('EFO_0010225', 'GCST90060205'),\n",
       " ('EFO_0010225', 'GCST90060151'),\n",
       " ('EFO_0010225', 'GCST90060164'),\n",
       " ('EFO_0010225', 'GCST90060162'),\n",
       " ('EFO_0010225', 'GCST90060138'),\n",
       " ('EFO_0010225', 'GCST90060147'),\n",
       " ('EFO_0010821', 'GCST90016673'),\n",
       " ('EFO_0004887', 'GCST90093316'),\n",
       " ('EFO_0004741', 'GCST90103632'),\n",
       " ('EFO_0004237', 'GCST90018627'),\n",
       " ('EFO_0000731', 'GCST90018714'),\n",
       " ('EFO_0004741', 'GCST90018728'),\n",
       " ('EFO_0009934', 'GCST90018771'),\n",
       " ('EFO_0004237', 'GCST90018847'),\n",
       " ('EFO_0000731', 'GCST90018934'),\n",
       " ('EFO_0008036', 'GCST007858'),\n",
       " ('EFO_0004274', 'GCST008972'),\n",
       " ('EFO_0004274', 'GCST008971'),\n",
       " ('EFO_1001976', 'GCST90104541'),\n",
       " ('EFO_1001976', 'GCST90104536'),\n",
       " ('EFO_0009934', 'GCST90018991'),\n",
       " ('EFO_1001231', 'GCST90018938'),\n",
       " ('EFO_0004741', 'GCST90018948'),\n",
       " ('EFO_0004575', 'GCST90161802'),\n",
       " ('EFO_0800494', 'GCST90200101'),\n",
       " ('EFO_0021898', 'GCST90269581'),\n",
       " ('EFO_0010821', 'GCST90267352'),\n",
       " ('EFO_0009397', 'GCST90267931'),\n",
       " ('EFO_0009397', 'GCST90267932'),\n",
       " ('EFO_0009397', 'GCST90267909'),\n",
       " ('EFO_0009397', 'GCST90267910'),\n",
       " ('EFO_0009720', 'GCST90044774'),\n",
       " ('EFO_0004769', 'GCST90428625'),\n",
       " ('EFO_0006525', 'GCST90179151'),\n",
       " ('EFO_0009720', 'GCST90245773'),\n",
       " ('EFO_0004343', 'GCST90278649'),\n",
       " ('EFO_0004741', 'GCST90278623'),\n",
       " ('EFO_0000668', 'GCST90269903'),\n",
       " ('EFO_0600008', 'GCST90268467'),\n",
       " ('EFO_0600008', 'GCST90268476'),\n",
       " ('EFO_0600008', 'GCST90268482'),\n",
       " ('EFO_0600008', 'GCST90268483'),\n",
       " ('EFO_0007850', 'GCST90281274')]"
      ]
     },
     "execution_count": 7,
     "metadata": {},
     "output_type": "execute_result"
    }
   ],
   "source": [
    "trait_study_pairs"
   ]
  },
  {
   "cell_type": "markdown",
   "metadata": {},
   "source": [
    "### Load association data"
   ]
  },
  {
   "cell_type": "code",
   "execution_count": 8,
   "metadata": {
    "ExecuteTime": {
     "end_time": "2025-01-15T17:38:52.802785Z",
     "start_time": "2025-01-15T17:38:51.536270Z"
    }
   },
   "outputs": [],
   "source": [
    "gwas_genes = pd.read_csv(os.path.join(datadir, 'GWASCatalog', 'gwas_cat_download_Jan22.txt.cleanedDec4'), sep=\"\\t\")"
   ]
  },
  {
   "cell_type": "code",
   "execution_count": 9,
   "metadata": {
    "ExecuteTime": {
     "end_time": "2025-01-15T17:38:52.838349Z",
     "start_time": "2025-01-15T17:38:52.828950Z"
    }
   },
   "outputs": [],
   "source": [
    "gwas_genes['logp'] = -1 * np.log10(gwas_genes['P-VALUE']+1e-300)"
   ]
  },
  {
   "cell_type": "code",
   "execution_count": 10,
   "metadata": {
    "ExecuteTime": {
     "end_time": "2025-01-15T17:38:53.180988Z",
     "start_time": "2025-01-15T17:38:53.137803Z"
    }
   },
   "outputs": [],
   "source": [
    "gwas_genes['Trait'] = gwas_genes.TRAIT_CODE.apply(lambda x: x.replace(':', '_'))"
   ]
  },
  {
   "cell_type": "code",
   "execution_count": 11,
   "metadata": {
    "ExecuteTime": {
     "end_time": "2025-01-15T17:38:53.962378Z",
     "start_time": "2025-01-15T17:38:53.886490Z"
    }
   },
   "outputs": [],
   "source": [
    "gwas_genes['trait_study'] = [pair for pair in zip(gwas_genes.Trait, gwas_genes['STUDY ACCESSION'])]"
   ]
  },
  {
   "cell_type": "code",
   "execution_count": 12,
   "metadata": {
    "ExecuteTime": {
     "end_time": "2025-01-15T17:38:54.894821Z",
     "start_time": "2025-01-15T17:38:54.877501Z"
    }
   },
   "outputs": [],
   "source": [
    "testing_genes = gwas_genes[gwas_genes.trait_study.isin(trait_study_pairs)]"
   ]
  },
  {
   "cell_type": "markdown",
   "metadata": {},
   "source": [
    "### Load Entrez Mapping"
   ]
  },
  {
   "cell_type": "code",
   "execution_count": 13,
   "metadata": {
    "ExecuteTime": {
     "end_time": "2025-01-15T17:38:58.385748Z",
     "start_time": "2025-01-15T17:38:57.129846Z"
    }
   },
   "outputs": [],
   "source": [
    "converted_gwas_genes = pd.read_csv(os.path.join(datadir, 'GWASCatalog', 'gwas_cat_download_Jan22.txt.cleanedJun17.entrez'), \n",
    "                                   sep=\"\\t\", usecols = ['MAPPED_GENE', 'Entrez']).drop_duplicates()"
   ]
  },
  {
   "cell_type": "code",
   "execution_count": 14,
   "metadata": {
    "ExecuteTime": {
     "end_time": "2025-01-15T17:38:59.081914Z",
     "start_time": "2025-01-15T17:38:59.075561Z"
    }
   },
   "outputs": [],
   "source": [
    "gene_map = converted_gwas_genes.set_index('MAPPED_GENE').Entrez.to_dict()"
   ]
  },
  {
   "cell_type": "code",
   "execution_count": 15,
   "metadata": {
    "ExecuteTime": {
     "end_time": "2025-01-15T17:38:59.875133Z",
     "start_time": "2025-01-15T17:38:59.866742Z"
    }
   },
   "outputs": [],
   "source": [
    "testing_genes = testing_genes.assign(Entrez=testing_genes.MAPPED_GENE.map(gene_map))"
   ]
  },
  {
   "cell_type": "code",
   "execution_count": 16,
   "metadata": {
    "ExecuteTime": {
     "end_time": "2025-01-15T17:39:00.737224Z",
     "start_time": "2025-01-15T17:39:00.725769Z"
    }
   },
   "outputs": [
    {
     "data": {
      "text/html": [
       "<div>\n",
       "<style scoped>\n",
       "    .dataframe tbody tr th:only-of-type {\n",
       "        vertical-align: middle;\n",
       "    }\n",
       "\n",
       "    .dataframe tbody tr th {\n",
       "        vertical-align: top;\n",
       "    }\n",
       "\n",
       "    .dataframe thead th {\n",
       "        text-align: right;\n",
       "    }\n",
       "</style>\n",
       "<table border=\"1\" class=\"dataframe\">\n",
       "  <thead>\n",
       "    <tr style=\"text-align: right;\">\n",
       "      <th></th>\n",
       "      <th>PUBMEDID</th>\n",
       "      <th>DATE</th>\n",
       "      <th>DISEASE/TRAIT</th>\n",
       "      <th>MAPPED_GENE</th>\n",
       "      <th>SNP_GENE_IDS</th>\n",
       "      <th>INTERGENIC</th>\n",
       "      <th>P-VALUE</th>\n",
       "      <th>OR or BETA</th>\n",
       "      <th>MAPPED_TRAIT</th>\n",
       "      <th>MAPPED_TRAIT_URI</th>\n",
       "      <th>STUDY ACCESSION</th>\n",
       "      <th>TRAIT_CODE</th>\n",
       "      <th>logp</th>\n",
       "      <th>Trait</th>\n",
       "      <th>trait_study</th>\n",
       "      <th>Entrez</th>\n",
       "    </tr>\n",
       "  </thead>\n",
       "  <tbody>\n",
       "    <tr>\n",
       "      <th>9167</th>\n",
       "      <td>30239722</td>\n",
       "      <td>2018-09-14</td>\n",
       "      <td>Waist-hip ratio</td>\n",
       "      <td>ADAMTS9-AS2</td>\n",
       "      <td>ENSG00000241684</td>\n",
       "      <td>0.0</td>\n",
       "      <td>5.000000e-15</td>\n",
       "      <td>0.0320</td>\n",
       "      <td>waist-hip ratio</td>\n",
       "      <td>http://www.ebi.ac.uk/efo/EFO_0004343</td>\n",
       "      <td>GCST008996</td>\n",
       "      <td>EFO_0004343</td>\n",
       "      <td>14.301030</td>\n",
       "      <td>EFO_0004343</td>\n",
       "      <td>(EFO_0004343, GCST008996)</td>\n",
       "      <td>100507098</td>\n",
       "    </tr>\n",
       "    <tr>\n",
       "      <th>9168</th>\n",
       "      <td>30239722</td>\n",
       "      <td>2018-09-14</td>\n",
       "      <td>Waist-hip ratio</td>\n",
       "      <td>CDKAL1</td>\n",
       "      <td>ENSG00000145996</td>\n",
       "      <td>0.0</td>\n",
       "      <td>7.000000e-11</td>\n",
       "      <td>0.0125</td>\n",
       "      <td>waist-hip ratio</td>\n",
       "      <td>http://www.ebi.ac.uk/efo/EFO_0004343</td>\n",
       "      <td>GCST008996</td>\n",
       "      <td>EFO_0004343</td>\n",
       "      <td>10.154902</td>\n",
       "      <td>EFO_0004343</td>\n",
       "      <td>(EFO_0004343, GCST008996)</td>\n",
       "      <td>54901</td>\n",
       "    </tr>\n",
       "    <tr>\n",
       "      <th>9169</th>\n",
       "      <td>30239722</td>\n",
       "      <td>2018-09-14</td>\n",
       "      <td>Waist-hip ratio</td>\n",
       "      <td>ZMIZ1</td>\n",
       "      <td>ENSG00000108175</td>\n",
       "      <td>0.0</td>\n",
       "      <td>3.000000e-14</td>\n",
       "      <td>0.0133</td>\n",
       "      <td>waist-hip ratio</td>\n",
       "      <td>http://www.ebi.ac.uk/efo/EFO_0004343</td>\n",
       "      <td>GCST008996</td>\n",
       "      <td>EFO_0004343</td>\n",
       "      <td>13.522879</td>\n",
       "      <td>EFO_0004343</td>\n",
       "      <td>(EFO_0004343, GCST008996)</td>\n",
       "      <td>57178</td>\n",
       "    </tr>\n",
       "    <tr>\n",
       "      <th>9170</th>\n",
       "      <td>30239722</td>\n",
       "      <td>2018-09-14</td>\n",
       "      <td>Waist-hip ratio</td>\n",
       "      <td>ANAPC10</td>\n",
       "      <td>ENSG00000164162</td>\n",
       "      <td>0.0</td>\n",
       "      <td>8.000000e-13</td>\n",
       "      <td>0.0123</td>\n",
       "      <td>waist-hip ratio</td>\n",
       "      <td>http://www.ebi.ac.uk/efo/EFO_0004343</td>\n",
       "      <td>GCST008996</td>\n",
       "      <td>EFO_0004343</td>\n",
       "      <td>12.096910</td>\n",
       "      <td>EFO_0004343</td>\n",
       "      <td>(EFO_0004343, GCST008996)</td>\n",
       "      <td>10393</td>\n",
       "    </tr>\n",
       "    <tr>\n",
       "      <th>9171</th>\n",
       "      <td>30239722</td>\n",
       "      <td>2018-09-14</td>\n",
       "      <td>Waist-hip ratio</td>\n",
       "      <td>LASTR</td>\n",
       "      <td>ENSG00000242147</td>\n",
       "      <td>0.0</td>\n",
       "      <td>9.000000e-10</td>\n",
       "      <td>0.0109</td>\n",
       "      <td>waist-hip ratio</td>\n",
       "      <td>http://www.ebi.ac.uk/efo/EFO_0004343</td>\n",
       "      <td>GCST008996</td>\n",
       "      <td>EFO_0004343</td>\n",
       "      <td>9.045757</td>\n",
       "      <td>EFO_0004343</td>\n",
       "      <td>(EFO_0004343, GCST008996)</td>\n",
       "      <td>105376382</td>\n",
       "    </tr>\n",
       "  </tbody>\n",
       "</table>\n",
       "</div>"
      ],
      "text/plain": [
       "      PUBMEDID        DATE    DISEASE/TRAIT  MAPPED_GENE     SNP_GENE_IDS  \\\n",
       "9167  30239722  2018-09-14  Waist-hip ratio  ADAMTS9-AS2  ENSG00000241684   \n",
       "9168  30239722  2018-09-14  Waist-hip ratio       CDKAL1  ENSG00000145996   \n",
       "9169  30239722  2018-09-14  Waist-hip ratio        ZMIZ1  ENSG00000108175   \n",
       "9170  30239722  2018-09-14  Waist-hip ratio      ANAPC10  ENSG00000164162   \n",
       "9171  30239722  2018-09-14  Waist-hip ratio        LASTR  ENSG00000242147   \n",
       "\n",
       "      INTERGENIC       P-VALUE  OR or BETA     MAPPED_TRAIT  \\\n",
       "9167         0.0  5.000000e-15      0.0320  waist-hip ratio   \n",
       "9168         0.0  7.000000e-11      0.0125  waist-hip ratio   \n",
       "9169         0.0  3.000000e-14      0.0133  waist-hip ratio   \n",
       "9170         0.0  8.000000e-13      0.0123  waist-hip ratio   \n",
       "9171         0.0  9.000000e-10      0.0109  waist-hip ratio   \n",
       "\n",
       "                          MAPPED_TRAIT_URI STUDY ACCESSION   TRAIT_CODE  \\\n",
       "9167  http://www.ebi.ac.uk/efo/EFO_0004343      GCST008996  EFO_0004343   \n",
       "9168  http://www.ebi.ac.uk/efo/EFO_0004343      GCST008996  EFO_0004343   \n",
       "9169  http://www.ebi.ac.uk/efo/EFO_0004343      GCST008996  EFO_0004343   \n",
       "9170  http://www.ebi.ac.uk/efo/EFO_0004343      GCST008996  EFO_0004343   \n",
       "9171  http://www.ebi.ac.uk/efo/EFO_0004343      GCST008996  EFO_0004343   \n",
       "\n",
       "           logp        Trait                trait_study     Entrez  \n",
       "9167  14.301030  EFO_0004343  (EFO_0004343, GCST008996)  100507098  \n",
       "9168  10.154902  EFO_0004343  (EFO_0004343, GCST008996)      54901  \n",
       "9169  13.522879  EFO_0004343  (EFO_0004343, GCST008996)      57178  \n",
       "9170  12.096910  EFO_0004343  (EFO_0004343, GCST008996)      10393  \n",
       "9171   9.045757  EFO_0004343  (EFO_0004343, GCST008996)  105376382  "
      ]
     },
     "execution_count": 16,
     "metadata": {},
     "output_type": "execute_result"
    }
   ],
   "source": [
    "testing_genes.head()"
   ]
  },
  {
   "cell_type": "markdown",
   "metadata": {},
   "source": [
    "## Binary/Quant - nearestGene"
   ]
  },
  {
   "cell_type": "code",
   "execution_count": 17,
   "metadata": {
    "ExecuteTime": {
     "end_time": "2025-01-15T17:39:02.959376Z",
     "start_time": "2025-01-15T17:39:02.955660Z"
    }
   },
   "outputs": [],
   "source": [
    "def create_gene_set_profile(gene_data, trait_study,keep_cols=['MAPPED_GENE', 'P-VALUE', 'OR or BETA', 'Entrez'], p_th=1e-2):\n",
    "    trait_data = gene_data.loc[gene_data.trait_study==trait_study, keep_cols]\n",
    "    trait_data = trait_data[trait_data['P-VALUE']<=p_th]\n",
    "    trait_data = trait_data.rename(columns = {'MAPPED_GENE':'Gene Symbol', 'P-VALUE':'P-value', 'OR or BETA': 'ORB'})\n",
    "    trait_data = trait_data.sort_values(by='P-value').drop_duplicates(subset=['Entrez'], keep='first')\n",
    "    return trait_data\n",
    "\n",
    "def split_gene_set_profile(gene_profile):\n",
    "    n = len(gene_profile)\n",
    "    set1_idx = rn.sample([i for i in range(n)], n//2)\n",
    "    set2_idx = [i for i in range(n) if i not in set1_idx]\n",
    "    return gene_profile.iloc[set1_idx].sort_values(by='P-value'), gene_profile.iloc[set2_idx].sort_values(by='P-value')"
   ]
  },
  {
   "cell_type": "code",
   "execution_count": 18,
   "metadata": {
    "ExecuteTime": {
     "end_time": "2025-01-15T17:39:03.652899Z",
     "start_time": "2025-01-15T17:39:03.650420Z"
    }
   },
   "outputs": [
    {
     "data": {
      "text/plain": [
       "6"
      ]
     },
     "execution_count": 18,
     "metadata": {},
     "output_type": "execute_result"
    }
   ],
   "source": [
    "13//2"
   ]
  },
  {
   "cell_type": "code",
   "execution_count": 19,
   "metadata": {
    "ExecuteTime": {
     "end_time": "2025-01-15T17:39:05.449020Z",
     "start_time": "2025-01-15T17:39:05.443298Z"
    }
   },
   "outputs": [
    {
     "data": {
      "text/plain": [
       "count    1764.000000\n",
       "mean       16.498541\n",
       "std        25.165604\n",
       "min         5.000000\n",
       "25%         7.698970\n",
       "50%        10.301030\n",
       "75%        15.221849\n",
       "max       300.000000\n",
       "Name: logp, dtype: float64"
      ]
     },
     "execution_count": 19,
     "metadata": {},
     "output_type": "execute_result"
    }
   ],
   "source": [
    "testing_genes.logp.describe()"
   ]
  },
  {
   "cell_type": "code",
   "execution_count": 20,
   "metadata": {
    "ExecuteTime": {
     "end_time": "2025-01-15T17:39:08.424227Z",
     "start_time": "2025-01-15T17:39:08.363449Z"
    }
   },
   "outputs": [],
   "source": [
    "binary_sets = {t: testing_genes[testing_genes.trait_study==t].Entrez.unique() for t in trait_study_pairs}"
   ]
  },
  {
   "cell_type": "code",
   "execution_count": 21,
   "metadata": {
    "ExecuteTime": {
     "end_time": "2025-01-15T17:39:09.102254Z",
     "start_time": "2025-01-15T17:39:09.099225Z"
    }
   },
   "outputs": [
    {
     "data": {
      "text/plain": [
       "51"
      ]
     },
     "execution_count": 21,
     "metadata": {},
     "output_type": "execute_result"
    }
   ],
   "source": [
    "final_binary_sets = {t: binary_sets[t] for t in binary_sets if len(binary_sets[t])>=6}\n",
    "len(final_binary_sets)"
   ]
  },
  {
   "cell_type": "code",
   "execution_count": 131,
   "metadata": {
    "ExecuteTime": {
     "end_time": "2024-12-04T19:08:46.340583Z",
     "start_time": "2024-12-04T19:08:46.337299Z"
    }
   },
   "outputs": [
    {
     "data": {
      "text/plain": [
       "'asd_asdfa'"
      ]
     },
     "execution_count": 131,
     "metadata": {},
     "output_type": "execute_result"
    }
   ],
   "source": [
    "'_'.join(('asd', 'asdfa'))"
   ]
  },
  {
   "cell_type": "code",
   "execution_count": 22,
   "metadata": {
    "ExecuteTime": {
     "end_time": "2025-01-15T17:39:12.207681Z",
     "start_time": "2025-01-15T17:39:11.859207Z"
    }
   },
   "outputs": [
    {
     "data": {
      "image/png": "[encoded data removed]",
      "text/plain": [
       "<Figure size 200x200 with 1 Axes>"
      ]
     },
     "metadata": {},
     "output_type": "display_data"
    }
   ],
   "source": [
    "_= plt.figure(figsize=(2,2))\n",
    "plt.hist([len(x) for x in binary_sets.values()], bins=[0,1,4,6,8,10,20,40,50,100,200], cumulative=-1, histtype='step')\n",
    "plt.xscale('log')"
   ]
  },
  {
   "cell_type": "code",
   "execution_count": 24,
   "metadata": {
    "ExecuteTime": {
     "end_time": "2025-01-15T17:40:39.997088Z",
     "start_time": "2025-01-15T17:40:39.702938Z"
    }
   },
   "outputs": [],
   "source": [
    "file_names = []\n",
    "for t in list(final_binary_sets.keys()):\n",
    "    cv, rv = split_gene_set_profile(create_gene_set_profile(testing_genes, t))\n",
    "    prefix = 'nearestGene_' + '_'.join(t)\n",
    "    file_names.append(prefix)\n",
    "    cv.to_csv(os.path.join(datadir, 'inputs/testing/testing3', f'{prefix}_CV.txt'), sep='\\t', index=False)\n",
    "    rv.to_csv(os.path.join(datadir, 'inputs/testing/testing3', f'{prefix}_RV.txt'), sep='\\t', index=False)\n",
    "with open(os.path.join(datadir, 'inputs/testing/testing3', 'nearestGene.traitlist'), 'w') as f:\n",
    "    f.write('\\n'.join(file_names)+'\\n')"
   ]
  },
  {
   "cell_type": "markdown",
   "metadata": {},
   "source": [
    "What if I also include a threshold?"
   ]
  },
  {
   "cell_type": "code",
   "execution_count": 97,
   "metadata": {
    "ExecuteTime": {
     "end_time": "2024-12-04T18:51:15.414779Z",
     "start_time": "2024-12-04T18:51:15.341981Z"
    }
   },
   "outputs": [],
   "source": [
    "binary_sets_th = {t: testing_genes[(testing_genes.trait_study==t)&(testing_genes.logp>=8)].Entrez.unique() for t in trait_study_pairs}"
   ]
  },
  {
   "cell_type": "code",
   "execution_count": 138,
   "metadata": {
    "ExecuteTime": {
     "end_time": "2024-12-04T19:13:10.540953Z",
     "start_time": "2024-12-04T19:13:10.537990Z"
    }
   },
   "outputs": [
    {
     "data": {
      "text/plain": [
       "31"
      ]
     },
     "execution_count": 138,
     "metadata": {},
     "output_type": "execute_result"
    }
   ],
   "source": [
    "final_binary_sets_th = {t: binary_sets_th[t] for t in binary_sets_th if len(binary_sets_th[t])>=6}\n",
    "len(final_binary_sets_th)"
   ]
  },
  {
   "cell_type": "code",
   "execution_count": 99,
   "metadata": {
    "ExecuteTime": {
     "end_time": "2024-12-04T18:51:18.828308Z",
     "start_time": "2024-12-04T18:51:18.660960Z"
    }
   },
   "outputs": [
    {
     "data": {
      "image/png": "[encoded data removed]",
      "text/plain": [
       "<Figure size 200x200 with 1 Axes>"
      ]
     },
     "metadata": {},
     "output_type": "display_data"
    }
   ],
   "source": [
    "_= plt.figure(figsize=(2,2))\n",
    "plt.hist([len(x) for x in binary_sets_th.values()], bins=[0,1,4,6,8,10,20,40,50,100,200], cumulative=-1, histtype='step')\n",
    "plt.xscale('log')"
   ]
  },
  {
   "cell_type": "code",
   "execution_count": 140,
   "metadata": {
    "ExecuteTime": {
     "end_time": "2024-12-04T19:31:28.500956Z",
     "start_time": "2024-12-04T19:31:27.788231Z"
    }
   },
   "outputs": [],
   "source": [
    "file_names = []\n",
    "for t in list(final_binary_sets_th.keys()):\n",
    "    cv, rv = split_gene_set_profile(create_gene_set_profile(testing_genes, t, p_th=1e-8))\n",
    "    prefix = 'nearestGeneTH8_' + '_'.join(t)\n",
    "    file_names.append(prefix)\n",
    "    cv.to_csv(os.path.join(datadir, 'inputs/testing', f'{prefix}_CV.txt'), sep='\\t', index=False)\n",
    "    rv.to_csv(os.path.join(datadir, 'inputs/testing', f'{prefix}_RV.txt'), sep='\\t', index=False)\n",
    "with open(os.path.join(datadir, 'inputs/testing', 'nearestGeneTH8.traitlist'), 'w') as f:\n",
    "    f.write('\\n'.join(file_names)+'\\n')"
   ]
  },
  {
   "cell_type": "markdown",
   "metadata": {},
   "source": [
    "## Quant, PASCAL -all"
   ]
  },
  {
   "cell_type": "markdown",
   "metadata": {},
   "source": [
    "## Quant, PASCAL - threshold"
   ]
  },
  {
   "cell_type": "markdown",
   "metadata": {},
   "source": [
    "# Overlap QTesting genelists"
   ]
  },
  {
   "cell_type": "code",
   "execution_count": 4,
   "metadata": {
    "ExecuteTime": {
     "end_time": "2025-01-29T23:48:22.981866Z",
     "start_time": "2025-01-29T23:48:22.978573Z"
    }
   },
   "outputs": [],
   "source": [
    "datadir = '/cellar/users/snwright/Data/RareCommon/inputs/overlap'"
   ]
  },
  {
   "cell_type": "code",
   "execution_count": 5,
   "metadata": {
    "ExecuteTime": {
     "end_time": "2025-01-29T23:49:12.637150Z",
     "start_time": "2025-01-29T23:49:12.519037Z"
    }
   },
   "outputs": [],
   "source": [
    "with open(os.path.join(datadir, 'nearestGene.traitlist'), 'r') as f:\n",
    "    traits = [x.strip() for x in f.readlines()]"
   ]
  },
  {
   "cell_type": "code",
   "execution_count": 17,
   "metadata": {
    "ExecuteTime": {
     "end_time": "2025-01-30T00:02:06.995799Z",
     "start_time": "2025-01-30T00:02:06.991032Z"
    }
   },
   "outputs": [
    {
     "data": {
      "text/plain": [
       "1.0"
      ]
     },
     "execution_count": 17,
     "metadata": {},
     "output_type": "execute_result"
    }
   ],
   "source": [
    "np.floor(len(rv)*level/2)"
   ]
  },
  {
   "cell_type": "code",
   "execution_count": 56,
   "metadata": {
    "ExecuteTime": {
     "end_time": "2025-01-30T00:17:50.379411Z",
     "start_time": "2025-01-30T00:17:49.608560Z"
    }
   },
   "outputs": [],
   "source": [
    "overlap_levels = [0.1, 0.25, 0.5, 0.75, 0.9]\n",
    "for t in traits:\n",
    "    cv = pd.read_csv(os.path.join(datadir, t+'_CV.txt'), sep='\\t')\n",
    "    rv = pd.read_csv(os.path.join(datadir, t+'_RV.txt'), sep='\\t')\n",
    "    if (len(rv) < 5) or (len(cv)<5):\n",
    "        next\n",
    "    else:\n",
    "        for level in overlap_levels:\n",
    "            r_shared = np.random.choice(rv.Entrez.values, int(np.floor(len(rv)*level)), replace=False)\n",
    "            c_shared = np.random.choice(cv.Entrez.values, int(np.floor(len(cv)*level)), replace=False)\n",
    "            if (len(r_shared) > 0) and (len(c_shared) > 0):\n",
    "                if len(r_shared) < len(rv) and len(c_shared) < len(cv):\n",
    "                    c_all = pd.concat([cv, rv[rv.Entrez.isin(r_shared)]])\n",
    "                    r_all = pd.concat([rv, cv[cv.Entrez.isin(c_shared)]])\n",
    "                    c_all.to_csv(os.path.join(datadir, f'{t}_{level}_CV.txt'), sep='\\t')\n",
    "                    r_all.to_csv(os.path.join(datadir, f'{t}_{level}_RV.txt'), sep='\\t')\n",
    "        "
   ]
  },
  {
   "cell_type": "code",
   "execution_count": 54,
   "metadata": {
    "ExecuteTime": {
     "end_time": "2025-01-30T00:17:38.227670Z",
     "start_time": "2025-01-30T00:17:38.224936Z"
    }
   },
   "outputs": [],
   "source": [
    "            r_shared = np.random.choice(rv.Entrez.values, int(np.floor(len(rv)*level)), replace=False)\n",
    "            c_shared = np.random.choice(cv.Entrez.values, int(np.ceil(len(rv)*level)), replace=False)"
   ]
  }
 ],
 "metadata": {
  "kernelspec": {
   "display_name": "Python [conda env:carva]",
   "language": "python",
   "name": "conda-env-carva-py"
  },
  "language_info": {
   "codemirror_mode": {
    "name": "ipython",
    "version": 3
   },
   "file_extension": ".py",
   "mimetype": "text/x-python",
   "name": "python",
   "nbconvert_exporter": "python",
   "pygments_lexer": "ipython3",
   "version": "3.10.0"
  },
  "toc": {
   "base_numbering": 1,
   "nav_menu": {},
   "number_sections": true,
   "sideBar": true,
   "skip_h1_title": false,
   "title_cell": "Table of Contents",
   "title_sidebar": "Contents",
   "toc_cell": false,
   "toc_position": {},
   "toc_section_display": true,
   "toc_window_display": true
  },
  "varInspector": {
   "cols": {
    "lenName": 16,
    "lenType": 16,
    "lenVar": 40
   },
   "kernels_config": {
    "python": {
     "delete_cmd_postfix": "",
     "delete_cmd_prefix": "del ",
     "library": "var_list.py",
     "varRefreshCmd": "print(var_dic_list())"
    },
    "r": {
     "delete_cmd_postfix": ") ",
     "delete_cmd_prefix": "rm(",
     "library": "var_list.r",
     "varRefreshCmd": "cat(var_dic_list()) "
    }
   },
   "types_to_exclude": [
    "module",
    "function",
    "builtin_function_or_method",
    "instance",
    "_Feature"
   ],
   "window_display": false
  }
 },
 "nbformat": 4,
 "nbformat_minor": 2
}
