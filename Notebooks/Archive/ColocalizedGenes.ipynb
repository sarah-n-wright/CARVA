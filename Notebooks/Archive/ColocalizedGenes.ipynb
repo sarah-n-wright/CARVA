{
 "cells": [
  {
   "cell_type": "code",
   "execution_count": 2,
   "metadata": {
    "ExecuteTime": {
     "end_time": "2025-02-03T18:48:54.222345Z",
     "start_time": "2025-02-03T18:48:52.166140Z"
    }
   },
   "outputs": [],
   "source": [
    "import pandas as pd\n",
    "import numpy as np\n",
    "import seaborn as sns\n",
    "import matplotlib.pyplot as plt\n",
    "import os\n",
    "from scipy.stats import hypergeom\n",
    "import obonet as obo\n",
    "from tqdm import tqdm"
   ]
  },
  {
   "cell_type": "code",
   "execution_count": 3,
   "metadata": {
    "ExecuteTime": {
     "end_time": "2025-02-03T18:48:54.231981Z",
     "start_time": "2025-02-03T18:48:54.230271Z"
    }
   },
   "outputs": [],
   "source": [
    "output_dir='/cellar/users/snwright/Data/RareCommon/outputs'\n",
    "figdir='/cellar/users/snwright/Data/Transfer/RVC/figures/ColocalizedGenes/'"
   ]
  },
  {
   "cell_type": "code",
   "execution_count": 4,
   "metadata": {
    "ExecuteTime": {
     "end_time": "2025-02-03T18:48:54.242199Z",
     "start_time": "2025-02-03T18:48:54.238943Z"
    }
   },
   "outputs": [],
   "source": [
    "plt.rcParams['svg.fonttype'] = 'none'\n",
    "plt.rcParams.update({'font.size': 7})\n",
    "plt.rcParams['axes.linewidth'] = 0.5\n",
    "plt.rcParams['hatch.linewidth'] = 0.5\n",
    "plt.rcParams['xtick.major.width'] = 0.4\n",
    "plt.rcParams['ytick.major.width'] = 0.4\n",
    "plt.rcParams['xtick.minor.width'] = 0.3\n",
    "plt.rcParams['ytick.minor.width'] = 0.3\n",
    "plt.rcParams['legend.frameon'] = False\n",
    "plt.rcParams['xtick.major.size'] = 3\n",
    "plt.rcParams['ytick.major.size'] = 3\n",
    "plt.rcParams['xtick.minor.size'] = 2\n",
    "plt.rcParams['ytick.minor.size'] = 2\n",
    "plt.rcParams['xtick.major.pad'] = 1\n",
    "plt.rcParams['ytick.major.pad'] = 1\n",
    "plt.rcParams['axes.labelpad'] = 1\n",
    "plt.rcParams['patch.linewidth'] = 0.25"
   ]
  },
  {
   "cell_type": "markdown",
   "metadata": {},
   "source": [
    "### Global results\n"
   ]
  },
  {
   "cell_type": "code",
   "execution_count": 8,
   "metadata": {
    "ExecuteTime": {
     "end_time": "2025-02-03T18:49:21.191314Z",
     "start_time": "2025-02-03T18:49:21.137604Z"
    }
   },
   "outputs": [
    {
     "data": {
      "text/html": [
       "<div>\n",
       "<style scoped>\n",
       "    .dataframe tbody tr th:only-of-type {\n",
       "        vertical-align: middle;\n",
       "    }\n",
       "\n",
       "    .dataframe tbody tr th {\n",
       "        vertical-align: top;\n",
       "    }\n",
       "\n",
       "    .dataframe thead th {\n",
       "        text-align: right;\n",
       "    }\n",
       "</style>\n",
       "<table border=\"1\" class=\"dataframe\">\n",
       "  <thead>\n",
       "    <tr style=\"text-align: right;\">\n",
       "      <th></th>\n",
       "      <th>TraitR</th>\n",
       "      <th>TraitC</th>\n",
       "      <th>Network</th>\n",
       "      <th>Mean_NPS</th>\n",
       "      <th>Null_mean_NPS</th>\n",
       "      <th>P_mean_NPS</th>\n",
       "      <th>Size</th>\n",
       "      <th>Null_Size</th>\n",
       "      <th>P_size</th>\n",
       "    </tr>\n",
       "  </thead>\n",
       "  <tbody>\n",
       "    <tr>\n",
       "      <th>0</th>\n",
       "      <td>EFO_0000095</td>\n",
       "      <td>EFO_0000095</td>\n",
       "      <td>pcnet2_0</td>\n",
       "      <td>0.185715</td>\n",
       "      <td>0.003663</td>\n",
       "      <td>3.087000e-64</td>\n",
       "      <td>455</td>\n",
       "      <td>302.886</td>\n",
       "      <td>2.056000e-23</td>\n",
       "    </tr>\n",
       "    <tr>\n",
       "      <th>1</th>\n",
       "      <td>EFO_0000182</td>\n",
       "      <td>EFO_0000182</td>\n",
       "      <td>pcnet2_0</td>\n",
       "      <td>0.118129</td>\n",
       "      <td>0.011609</td>\n",
       "      <td>4.129000e-36</td>\n",
       "      <td>347</td>\n",
       "      <td>287.853</td>\n",
       "      <td>4.889000e-05</td>\n",
       "    </tr>\n",
       "    <tr>\n",
       "      <th>2</th>\n",
       "      <td>EFO_0000198</td>\n",
       "      <td>EFO_0000198</td>\n",
       "      <td>pcnet2_0</td>\n",
       "      <td>-0.053563</td>\n",
       "      <td>-0.003700</td>\n",
       "      <td>1.000000e+00</td>\n",
       "      <td>175</td>\n",
       "      <td>208.629</td>\n",
       "      <td>9.954000e-01</td>\n",
       "    </tr>\n",
       "    <tr>\n",
       "      <th>3</th>\n",
       "      <td>EFO_0000217</td>\n",
       "      <td>EFO_0000217</td>\n",
       "      <td>pcnet2_0</td>\n",
       "      <td>-0.003247</td>\n",
       "      <td>0.002253</td>\n",
       "      <td>7.643000e-01</td>\n",
       "      <td>204</td>\n",
       "      <td>192.122</td>\n",
       "      <td>1.684000e-01</td>\n",
       "    </tr>\n",
       "    <tr>\n",
       "      <th>4</th>\n",
       "      <td>EFO_0000266</td>\n",
       "      <td>EFO_0000266</td>\n",
       "      <td>pcnet2_0</td>\n",
       "      <td>0.161343</td>\n",
       "      <td>0.000873</td>\n",
       "      <td>2.705000e-95</td>\n",
       "      <td>336</td>\n",
       "      <td>204.794</td>\n",
       "      <td>5.949000e-26</td>\n",
       "    </tr>\n",
       "  </tbody>\n",
       "</table>\n",
       "</div>"
      ],
      "text/plain": [
       "        TraitR       TraitC   Network  Mean_NPS  Null_mean_NPS    P_mean_NPS  \\\n",
       "0  EFO_0000095  EFO_0000095  pcnet2_0  0.185715       0.003663  3.087000e-64   \n",
       "1  EFO_0000182  EFO_0000182  pcnet2_0  0.118129       0.011609  4.129000e-36   \n",
       "2  EFO_0000198  EFO_0000198  pcnet2_0 -0.053563      -0.003700  1.000000e+00   \n",
       "3  EFO_0000217  EFO_0000217  pcnet2_0 -0.003247       0.002253  7.643000e-01   \n",
       "4  EFO_0000266  EFO_0000266  pcnet2_0  0.161343       0.000873  2.705000e-95   \n",
       "\n",
       "   Size  Null_Size        P_size  \n",
       "0   455    302.886  2.056000e-23  \n",
       "1   347    287.853  4.889000e-05  \n",
       "2   175    208.629  9.954000e-01  \n",
       "3   204    192.122  1.684000e-01  \n",
       "4   336    204.794  5.949000e-26  "
      ]
     },
     "execution_count": 8,
     "metadata": {},
     "output_type": "execute_result"
    }
   ],
   "source": [
    "df = pd.read_csv(os.path.join(output_dir, 'pilot_netcoloc_within_v0.1.txt'), sep='\\t', header=None)\n",
    "df.columns=['TraitR', 'TraitC', 'Network','Mean_NPS', 'Null_mean_NPS', 'P_mean_NPS', 'Size', 'Null_Size', 'P_size' ]\n",
    "df.head()"
   ]
  },
  {
   "cell_type": "code",
   "execution_count": 9,
   "metadata": {
    "ExecuteTime": {
     "end_time": "2025-02-03T18:49:22.482684Z",
     "start_time": "2025-02-03T18:49:22.480638Z"
    }
   },
   "outputs": [],
   "source": [
    "all_traits = list(df.TraitR.unique())"
   ]
  },
  {
   "cell_type": "markdown",
   "metadata": {},
   "source": [
    "### Load Z scores"
   ]
  },
  {
   "cell_type": "code",
   "execution_count": 10,
   "metadata": {
    "ExecuteTime": {
     "end_time": "2025-02-03T18:49:23.074986Z",
     "start_time": "2025-02-03T18:49:23.071185Z"
    }
   },
   "outputs": [],
   "source": [
    "def load_z_scores(trait, outdir=os.path.join(output_dir, 'netcoloc')):\n",
    "    try:\n",
    "        rare_z = pd.read_csv(os.path.join(outdir, trait+'_z_RV.tsv'), index_col=0, sep='\\t', header=None, names=[trait]).sort_index()\n",
    "        common_z = pd.read_csv(os.path.join(outdir, trait+'_z_CV.tsv'), index_col=0, sep='\\t', header=None, names=[trait]).sort_index()\n",
    "    except FileNotFoundError:\n",
    "        print('Trait', trait, 'not found.')\n",
    "    return rare_z, common_z\n",
    "\n",
    "def load_all_z_scores(all_traits, outdir=os.path.join(output_dir, 'netcoloc')):\n",
    "    rare = []\n",
    "    common = []\n",
    "    for t in tqdm(all_traits):\n",
    "        r, c = load_z_scores(t, outdir)\n",
    "        rare.append(r)\n",
    "        common.append(c)\n",
    "    rare_df = pd.concat(rare, axis=1)\n",
    "    common_df = pd.concat(common, axis=1)\n",
    "    return rare_df, common_df"
   ]
  },
  {
   "cell_type": "code",
   "execution_count": null,
   "metadata": {},
   "outputs": [],
   "source": []
  },
  {
   "cell_type": "code",
   "execution_count": 11,
   "metadata": {
    "ExecuteTime": {
     "end_time": "2025-02-03T18:50:00.089614Z",
     "start_time": "2025-02-03T18:49:24.390450Z"
    }
   },
   "outputs": [
    {
     "name": "stderr",
     "output_type": "stream",
     "text": [
      "100%|██████████| 302/302 [00:35<00:00,  8.49it/s]\n"
     ]
    }
   ],
   "source": [
    "rare_df, common_df = load_all_z_scores(all_traits)"
   ]
  },
  {
   "cell_type": "code",
   "execution_count": 22,
   "metadata": {
    "ExecuteTime": {
     "end_time": "2024-11-18T20:04:55.798347Z",
     "start_time": "2024-11-18T20:04:55.778945Z"
    }
   },
   "outputs": [],
   "source": [
    "coloc_df = rare_df * common_df"
   ]
  },
  {
   "cell_type": "markdown",
   "metadata": {},
   "source": [
    "### Load gene sets"
   ]
  },
  {
   "cell_type": "code",
   "execution_count": 33,
   "metadata": {
    "ExecuteTime": {
     "end_time": "2024-11-18T20:29:53.566630Z",
     "start_time": "2024-11-18T20:29:53.563368Z"
    }
   },
   "outputs": [],
   "source": [
    "def load_genes(trait, indir=os.path.join(output_dir, '../inputs')):\n",
    "    rv = pd.read_csv(os.path.join(indir, trait+'_RV.txt'), sep='\\t')\n",
    "    cv = pd.read_csv(os.path.join(indir, trait+'_CV.txt'), sep='\\t')\n",
    "    return rv['Entrez'].unique(), cv['Entrez'].unique()"
   ]
  },
  {
   "cell_type": "code",
   "execution_count": 50,
   "metadata": {
    "ExecuteTime": {
     "end_time": "2024-11-18T21:01:40.390042Z",
     "start_time": "2024-11-18T21:01:40.386603Z"
    }
   },
   "outputs": [],
   "source": [
    "network_genes = list(rare_df.index.values)"
   ]
  },
  {
   "cell_type": "code",
   "execution_count": 52,
   "metadata": {
    "ExecuteTime": {
     "end_time": "2024-11-18T21:02:17.854327Z",
     "start_time": "2024-11-18T21:02:12.874634Z"
    }
   },
   "outputs": [],
   "source": [
    "rare_genes = {}\n",
    "common_genes = {}\n",
    "for trait in all_traits:\n",
    "    rv, cv = load_genes(trait)\n",
    "    rare_genes[trait] = [g for g in rv if g in network_genes]\n",
    "    common_genes[trait] = [g for g in cv if g in network_genes]\n"
   ]
  },
  {
   "cell_type": "code",
   "execution_count": 56,
   "metadata": {
    "ExecuteTime": {
     "end_time": "2024-11-18T21:02:30.637958Z",
     "start_time": "2024-11-18T21:02:30.627293Z"
    }
   },
   "outputs": [],
   "source": [
    "overlap_genes = {t:set(rare_genes[t]).intersection(common_genes[t]) for t in all_traits}\n",
    "rare_only = {t:set(rare_genes[t]).difference(common_genes[t]) for t in all_traits}\n",
    "common_only = {t:set(common_genes[t]).difference(rare_genes[t]) for t in all_traits}"
   ]
  },
  {
   "cell_type": "code",
   "execution_count": 57,
   "metadata": {
    "ExecuteTime": {
     "end_time": "2024-11-18T21:02:31.606815Z",
     "start_time": "2024-11-18T21:02:31.603615Z"
    }
   },
   "outputs": [],
   "source": [
    "gene_splits = pd.DataFrame({'Overlap':[len(overlap_genes[x]) for x in all_traits], \n",
    "                           'RareOnly':[len(rare_only[x]) for x in all_traits],\n",
    "                           'CommonOnly':[len(common_only[x]) for x in all_traits]}, index=all_traits)"
   ]
  },
  {
   "cell_type": "code",
   "execution_count": 58,
   "metadata": {
    "ExecuteTime": {
     "end_time": "2024-11-18T21:02:32.528854Z",
     "start_time": "2024-11-18T21:02:32.523123Z"
    }
   },
   "outputs": [
    {
     "data": {
      "text/html": [
       "<div>\n",
       "<style scoped>\n",
       "    .dataframe tbody tr th:only-of-type {\n",
       "        vertical-align: middle;\n",
       "    }\n",
       "\n",
       "    .dataframe tbody tr th {\n",
       "        vertical-align: top;\n",
       "    }\n",
       "\n",
       "    .dataframe thead th {\n",
       "        text-align: right;\n",
       "    }\n",
       "</style>\n",
       "<table border=\"1\" class=\"dataframe\">\n",
       "  <thead>\n",
       "    <tr style=\"text-align: right;\">\n",
       "      <th></th>\n",
       "      <th>Overlap</th>\n",
       "      <th>RareOnly</th>\n",
       "      <th>CommonOnly</th>\n",
       "    </tr>\n",
       "  </thead>\n",
       "  <tbody>\n",
       "    <tr>\n",
       "      <th>EFO_0004541</th>\n",
       "      <td>124</td>\n",
       "      <td>234</td>\n",
       "      <td>277</td>\n",
       "    </tr>\n",
       "    <tr>\n",
       "      <th>EFO_0007805</th>\n",
       "      <td>109</td>\n",
       "      <td>288</td>\n",
       "      <td>302</td>\n",
       "    </tr>\n",
       "    <tr>\n",
       "      <th>EFO_0004531</th>\n",
       "      <td>90</td>\n",
       "      <td>154</td>\n",
       "      <td>274</td>\n",
       "    </tr>\n",
       "    <tr>\n",
       "      <th>EFO_0004617</th>\n",
       "      <td>71</td>\n",
       "      <td>204</td>\n",
       "      <td>117</td>\n",
       "    </tr>\n",
       "    <tr>\n",
       "      <th>EFO_0004584</th>\n",
       "      <td>64</td>\n",
       "      <td>103</td>\n",
       "      <td>407</td>\n",
       "    </tr>\n",
       "    <tr>\n",
       "      <th>...</th>\n",
       "      <td>...</td>\n",
       "      <td>...</td>\n",
       "      <td>...</td>\n",
       "    </tr>\n",
       "    <tr>\n",
       "      <th>EFO_0004343</th>\n",
       "      <td>0</td>\n",
       "      <td>4</td>\n",
       "      <td>465</td>\n",
       "    </tr>\n",
       "    <tr>\n",
       "      <th>EFO_0004465</th>\n",
       "      <td>0</td>\n",
       "      <td>14</td>\n",
       "      <td>153</td>\n",
       "    </tr>\n",
       "    <tr>\n",
       "      <th>EFO_0004593</th>\n",
       "      <td>0</td>\n",
       "      <td>10</td>\n",
       "      <td>10</td>\n",
       "    </tr>\n",
       "    <tr>\n",
       "      <th>EFO_0004607</th>\n",
       "      <td>0</td>\n",
       "      <td>27</td>\n",
       "      <td>16</td>\n",
       "    </tr>\n",
       "    <tr>\n",
       "      <th>MONDO_0024647</th>\n",
       "      <td>0</td>\n",
       "      <td>17</td>\n",
       "      <td>25</td>\n",
       "    </tr>\n",
       "  </tbody>\n",
       "</table>\n",
       "<p>302 rows × 3 columns</p>\n",
       "</div>"
      ],
      "text/plain": [
       "               Overlap  RareOnly  CommonOnly\n",
       "EFO_0004541        124       234         277\n",
       "EFO_0007805        109       288         302\n",
       "EFO_0004531         90       154         274\n",
       "EFO_0004617         71       204         117\n",
       "EFO_0004584         64       103         407\n",
       "...                ...       ...         ...\n",
       "EFO_0004343          0         4         465\n",
       "EFO_0004465          0        14         153\n",
       "EFO_0004593          0        10          10\n",
       "EFO_0004607          0        27          16\n",
       "MONDO_0024647        0        17          25\n",
       "\n",
       "[302 rows x 3 columns]"
      ]
     },
     "execution_count": 58,
     "metadata": {},
     "output_type": "execute_result"
    }
   ],
   "source": [
    "gene_splits.sort_values('Overlap', ascending=False)"
   ]
  },
  {
   "cell_type": "code",
   "execution_count": 59,
   "metadata": {
    "ExecuteTime": {
     "end_time": "2024-11-18T21:02:34.958100Z",
     "start_time": "2024-11-18T21:02:34.942260Z"
    }
   },
   "outputs": [
    {
     "data": {
      "text/html": [
       "<div>\n",
       "<style scoped>\n",
       "    .dataframe tbody tr th:only-of-type {\n",
       "        vertical-align: middle;\n",
       "    }\n",
       "\n",
       "    .dataframe tbody tr th {\n",
       "        vertical-align: top;\n",
       "    }\n",
       "\n",
       "    .dataframe thead th {\n",
       "        text-align: right;\n",
       "    }\n",
       "</style>\n",
       "<table border=\"1\" class=\"dataframe\">\n",
       "  <thead>\n",
       "    <tr style=\"text-align: right;\">\n",
       "      <th></th>\n",
       "      <th>EFO_0000095</th>\n",
       "      <th>EFO_0000182</th>\n",
       "      <th>EFO_0000198</th>\n",
       "      <th>EFO_0000217</th>\n",
       "      <th>EFO_0000266</th>\n",
       "      <th>EFO_0000274</th>\n",
       "      <th>EFO_0000275</th>\n",
       "      <th>EFO_0000278</th>\n",
       "      <th>EFO_0000280</th>\n",
       "      <th>EFO_0000284</th>\n",
       "      <th>...</th>\n",
       "      <th>MONDO_0005277</th>\n",
       "      <th>MONDO_0005301</th>\n",
       "      <th>MONDO_0005475</th>\n",
       "      <th>MONDO_0007079</th>\n",
       "      <th>MONDO_0007254</th>\n",
       "      <th>MONDO_0007915</th>\n",
       "      <th>MONDO_0008315</th>\n",
       "      <th>MONDO_0008903</th>\n",
       "      <th>MONDO_0018309</th>\n",
       "      <th>MONDO_0024647</th>\n",
       "    </tr>\n",
       "  </thead>\n",
       "  <tbody>\n",
       "    <tr>\n",
       "      <th>1</th>\n",
       "      <td>2.201470</td>\n",
       "      <td>-0.064286</td>\n",
       "      <td>-0.745352</td>\n",
       "      <td>-0.381560</td>\n",
       "      <td>-0.437369</td>\n",
       "      <td>3.457941</td>\n",
       "      <td>-0.685234</td>\n",
       "      <td>0.070810</td>\n",
       "      <td>0.227321</td>\n",
       "      <td>-0.358006</td>\n",
       "      <td>...</td>\n",
       "      <td>-0.007420</td>\n",
       "      <td>-0.775996</td>\n",
       "      <td>-0.596522</td>\n",
       "      <td>-0.184527</td>\n",
       "      <td>1.015889</td>\n",
       "      <td>-0.235721</td>\n",
       "      <td>-0.695759</td>\n",
       "      <td>-0.606378</td>\n",
       "      <td>1.069330</td>\n",
       "      <td>-0.854117</td>\n",
       "    </tr>\n",
       "    <tr>\n",
       "      <th>2</th>\n",
       "      <td>-0.403311</td>\n",
       "      <td>-0.188799</td>\n",
       "      <td>-1.436143</td>\n",
       "      <td>0.469616</td>\n",
       "      <td>0.687906</td>\n",
       "      <td>1.501479</td>\n",
       "      <td>-0.875793</td>\n",
       "      <td>0.565999</td>\n",
       "      <td>1.393555</td>\n",
       "      <td>-0.487109</td>\n",
       "      <td>...</td>\n",
       "      <td>-0.066207</td>\n",
       "      <td>0.320128</td>\n",
       "      <td>0.324544</td>\n",
       "      <td>-0.369044</td>\n",
       "      <td>1.015490</td>\n",
       "      <td>-0.642993</td>\n",
       "      <td>-0.488060</td>\n",
       "      <td>-0.984985</td>\n",
       "      <td>0.804065</td>\n",
       "      <td>-0.789463</td>\n",
       "    </tr>\n",
       "    <tr>\n",
       "      <th>9</th>\n",
       "      <td>0.189474</td>\n",
       "      <td>1.827625</td>\n",
       "      <td>-0.886715</td>\n",
       "      <td>0.782902</td>\n",
       "      <td>-0.677435</td>\n",
       "      <td>-0.129292</td>\n",
       "      <td>-1.437661</td>\n",
       "      <td>-1.040589</td>\n",
       "      <td>-0.354858</td>\n",
       "      <td>-0.699863</td>\n",
       "      <td>...</td>\n",
       "      <td>-0.718232</td>\n",
       "      <td>-1.235542</td>\n",
       "      <td>-0.559139</td>\n",
       "      <td>0.484085</td>\n",
       "      <td>-0.742349</td>\n",
       "      <td>3.947169</td>\n",
       "      <td>-0.317240</td>\n",
       "      <td>-0.082412</td>\n",
       "      <td>2.208227</td>\n",
       "      <td>0.014465</td>\n",
       "    </tr>\n",
       "    <tr>\n",
       "      <th>10</th>\n",
       "      <td>-0.594422</td>\n",
       "      <td>0.554462</td>\n",
       "      <td>-0.909711</td>\n",
       "      <td>0.683009</td>\n",
       "      <td>-0.638126</td>\n",
       "      <td>0.501231</td>\n",
       "      <td>-1.411912</td>\n",
       "      <td>-0.987330</td>\n",
       "      <td>0.333858</td>\n",
       "      <td>-0.277134</td>\n",
       "      <td>...</td>\n",
       "      <td>-0.845026</td>\n",
       "      <td>-1.285812</td>\n",
       "      <td>-0.341894</td>\n",
       "      <td>0.404902</td>\n",
       "      <td>1.390889</td>\n",
       "      <td>2.925854</td>\n",
       "      <td>-0.417403</td>\n",
       "      <td>0.323694</td>\n",
       "      <td>2.873095</td>\n",
       "      <td>-0.363600</td>\n",
       "    </tr>\n",
       "    <tr>\n",
       "      <th>12</th>\n",
       "      <td>0.390819</td>\n",
       "      <td>-0.016393</td>\n",
       "      <td>-1.169100</td>\n",
       "      <td>0.449953</td>\n",
       "      <td>-0.358281</td>\n",
       "      <td>1.864729</td>\n",
       "      <td>-0.788121</td>\n",
       "      <td>0.937563</td>\n",
       "      <td>0.078634</td>\n",
       "      <td>-0.114886</td>\n",
       "      <td>...</td>\n",
       "      <td>-0.094281</td>\n",
       "      <td>-0.545187</td>\n",
       "      <td>-0.674530</td>\n",
       "      <td>-0.344144</td>\n",
       "      <td>1.864177</td>\n",
       "      <td>-0.509815</td>\n",
       "      <td>-0.798852</td>\n",
       "      <td>-0.739987</td>\n",
       "      <td>0.975886</td>\n",
       "      <td>-0.712898</td>\n",
       "    </tr>\n",
       "  </tbody>\n",
       "</table>\n",
       "<p>5 rows × 302 columns</p>\n",
       "</div>"
      ],
      "text/plain": [
       "    EFO_0000095  EFO_0000182  EFO_0000198  EFO_0000217  EFO_0000266  \\\n",
       "1      2.201470    -0.064286    -0.745352    -0.381560    -0.437369   \n",
       "2     -0.403311    -0.188799    -1.436143     0.469616     0.687906   \n",
       "9      0.189474     1.827625    -0.886715     0.782902    -0.677435   \n",
       "10    -0.594422     0.554462    -0.909711     0.683009    -0.638126   \n",
       "12     0.390819    -0.016393    -1.169100     0.449953    -0.358281   \n",
       "\n",
       "    EFO_0000274  EFO_0000275  EFO_0000278  EFO_0000280  EFO_0000284  ...  \\\n",
       "1      3.457941    -0.685234     0.070810     0.227321    -0.358006  ...   \n",
       "2      1.501479    -0.875793     0.565999     1.393555    -0.487109  ...   \n",
       "9     -0.129292    -1.437661    -1.040589    -0.354858    -0.699863  ...   \n",
       "10     0.501231    -1.411912    -0.987330     0.333858    -0.277134  ...   \n",
       "12     1.864729    -0.788121     0.937563     0.078634    -0.114886  ...   \n",
       "\n",
       "    MONDO_0005277  MONDO_0005301  MONDO_0005475  MONDO_0007079  MONDO_0007254  \\\n",
       "1       -0.007420      -0.775996      -0.596522      -0.184527       1.015889   \n",
       "2       -0.066207       0.320128       0.324544      -0.369044       1.015490   \n",
       "9       -0.718232      -1.235542      -0.559139       0.484085      -0.742349   \n",
       "10      -0.845026      -1.285812      -0.341894       0.404902       1.390889   \n",
       "12      -0.094281      -0.545187      -0.674530      -0.344144       1.864177   \n",
       "\n",
       "    MONDO_0007915  MONDO_0008315  MONDO_0008903  MONDO_0018309  MONDO_0024647  \n",
       "1       -0.235721      -0.695759      -0.606378       1.069330      -0.854117  \n",
       "2       -0.642993      -0.488060      -0.984985       0.804065      -0.789463  \n",
       "9        3.947169      -0.317240      -0.082412       2.208227       0.014465  \n",
       "10       2.925854      -0.417403       0.323694       2.873095      -0.363600  \n",
       "12      -0.509815      -0.798852      -0.739987       0.975886      -0.712898  \n",
       "\n",
       "[5 rows x 302 columns]"
      ]
     },
     "execution_count": 59,
     "metadata": {},
     "output_type": "execute_result"
    }
   ],
   "source": [
    "rare_df.head()"
   ]
  },
  {
   "cell_type": "markdown",
   "metadata": {},
   "source": [
    "## z scores per gene split"
   ]
  },
  {
   "cell_type": "code",
   "execution_count": 125,
   "metadata": {
    "ExecuteTime": {
     "end_time": "2024-11-18T21:27:22.029302Z",
     "start_time": "2024-11-18T21:27:22.024812Z"
    }
   },
   "outputs": [],
   "source": [
    "def get_single_z_support(trait, genes, data_df, th=3):\n",
    "    trait_df = data_df[trait]\n",
    "    gene_df = trait_df.loc[list(genes)]\n",
    "    return np.sum(gene_df >= th)\n",
    "\n",
    "def get_coloc_support(trait, genes, rare_df, common_df, th=3):\n",
    "    trait_rare = rare_df[trait]\n",
    "    trait_common = common_df[trait]\n",
    "    trait_df = pd.DataFrame({'rare':trait_rare, 'common':trait_common}).loc[list(genes)]\n",
    "    trait_df['coloc'] = trait_df.rare * trait_df.common\n",
    "    return len(trait_df[(trait_df.coloc >= th) & (trait_df.rare > 1) & (trait_df.common > 1)])\n",
    "\n",
    "def get_all_support(traits, rare_df, common_df):\n",
    "    \n",
    "    results = {'Overlap':{}, 'Rare':{}, 'Common':{}}\n",
    "    for t in tqdm(traits):\n",
    "        for i, geneset in enumerate([overlap_genes, rare_only, common_only]):\n",
    "            rare_n = get_single_z_support(t, geneset[t], rare_df)\n",
    "            common_n = get_single_z_support(t, geneset[t], common_df)\n",
    "            coloc_n = get_coloc_support(t, geneset[t], rare_df, common_df)\n",
    "            results[['Overlap', 'Rare', 'Common'][i]][t] = {'Zr':rare_n, 'Zc':common_n, 'Zrc':coloc_n}\n",
    "    return results"
   ]
  },
  {
   "cell_type": "code",
   "execution_count": 126,
   "metadata": {
    "ExecuteTime": {
     "end_time": "2024-11-18T21:27:25.295017Z",
     "start_time": "2024-11-18T21:27:23.988198Z"
    }
   },
   "outputs": [
    {
     "name": "stderr",
     "output_type": "stream",
     "text": [
      "100%|██████████| 302/302 [00:01<00:00, 231.90it/s]\n"
     ]
    }
   ],
   "source": [
    "results_dict = get_all_support(all_traits, rare_df, common_df)"
   ]
  },
  {
   "cell_type": "code",
   "execution_count": 127,
   "metadata": {
    "ExecuteTime": {
     "end_time": "2024-11-18T21:27:39.612747Z",
     "start_time": "2024-11-18T21:27:39.604021Z"
    }
   },
   "outputs": [],
   "source": [
    "results_overlap = pd.DataFrame.from_dict(results_dict['Overlap'], orient='index')\n",
    "results_rare = pd.DataFrame.from_dict(results_dict['Rare'], orient='index')\n",
    "results_common = pd.DataFrame.from_dict(results_dict['Common'], orient='index')\n",
    "results_rare.columns = ['Rare_'+x for x in  results_rare.columns]\n",
    "results_common.columns = ['Common_'+x for x in  results_common.columns]"
   ]
  },
  {
   "cell_type": "code",
   "execution_count": 121,
   "metadata": {
    "ExecuteTime": {
     "end_time": "2024-11-18T21:27:00.923217Z",
     "start_time": "2024-11-18T21:27:00.913854Z"
    }
   },
   "outputs": [
    {
     "data": {
      "text/html": [
       "<div>\n",
       "<style scoped>\n",
       "    .dataframe tbody tr th:only-of-type {\n",
       "        vertical-align: middle;\n",
       "    }\n",
       "\n",
       "    .dataframe tbody tr th {\n",
       "        vertical-align: top;\n",
       "    }\n",
       "\n",
       "    .dataframe thead th {\n",
       "        text-align: right;\n",
       "    }\n",
       "</style>\n",
       "<table border=\"1\" class=\"dataframe\">\n",
       "  <thead>\n",
       "    <tr style=\"text-align: right;\">\n",
       "      <th></th>\n",
       "      <th>Zr</th>\n",
       "      <th>Zc</th>\n",
       "      <th>Zrc</th>\n",
       "    </tr>\n",
       "  </thead>\n",
       "  <tbody>\n",
       "    <tr>\n",
       "      <th>count</th>\n",
       "      <td>302.000000</td>\n",
       "      <td>302.000000</td>\n",
       "      <td>302.000000</td>\n",
       "    </tr>\n",
       "    <tr>\n",
       "      <th>mean</th>\n",
       "      <td>4.788079</td>\n",
       "      <td>4.788079</td>\n",
       "      <td>4.788079</td>\n",
       "    </tr>\n",
       "    <tr>\n",
       "      <th>std</th>\n",
       "      <td>14.651481</td>\n",
       "      <td>14.651481</td>\n",
       "      <td>14.651481</td>\n",
       "    </tr>\n",
       "    <tr>\n",
       "      <th>min</th>\n",
       "      <td>0.000000</td>\n",
       "      <td>0.000000</td>\n",
       "      <td>0.000000</td>\n",
       "    </tr>\n",
       "    <tr>\n",
       "      <th>25%</th>\n",
       "      <td>0.000000</td>\n",
       "      <td>0.000000</td>\n",
       "      <td>0.000000</td>\n",
       "    </tr>\n",
       "    <tr>\n",
       "      <th>50%</th>\n",
       "      <td>0.000000</td>\n",
       "      <td>0.000000</td>\n",
       "      <td>0.000000</td>\n",
       "    </tr>\n",
       "    <tr>\n",
       "      <th>75%</th>\n",
       "      <td>2.000000</td>\n",
       "      <td>2.000000</td>\n",
       "      <td>2.000000</td>\n",
       "    </tr>\n",
       "    <tr>\n",
       "      <th>max</th>\n",
       "      <td>124.000000</td>\n",
       "      <td>124.000000</td>\n",
       "      <td>124.000000</td>\n",
       "    </tr>\n",
       "  </tbody>\n",
       "</table>\n",
       "</div>"
      ],
      "text/plain": [
       "               Zr          Zc         Zrc\n",
       "count  302.000000  302.000000  302.000000\n",
       "mean     4.788079    4.788079    4.788079\n",
       "std     14.651481   14.651481   14.651481\n",
       "min      0.000000    0.000000    0.000000\n",
       "25%      0.000000    0.000000    0.000000\n",
       "50%      0.000000    0.000000    0.000000\n",
       "75%      2.000000    2.000000    2.000000\n",
       "max    124.000000  124.000000  124.000000"
      ]
     },
     "execution_count": 121,
     "metadata": {},
     "output_type": "execute_result"
    }
   ],
   "source": [
    "# these results show that all overlapping genes are 'significant by all measures' - is this a red flag?\n",
    "results_overlap.describe()"
   ]
  },
  {
   "cell_type": "code",
   "execution_count": 129,
   "metadata": {
    "ExecuteTime": {
     "end_time": "2024-11-18T21:29:02.146762Z",
     "start_time": "2024-11-18T21:29:02.142807Z"
    }
   },
   "outputs": [],
   "source": [
    "gene_split_results = gene_splits.join(results_rare).join(results_common)"
   ]
  },
  {
   "cell_type": "code",
   "execution_count": 130,
   "metadata": {
    "ExecuteTime": {
     "end_time": "2024-11-18T21:29:08.253343Z",
     "start_time": "2024-11-18T21:29:08.246182Z"
    }
   },
   "outputs": [
    {
     "data": {
      "text/html": [
       "<div>\n",
       "<style scoped>\n",
       "    .dataframe tbody tr th:only-of-type {\n",
       "        vertical-align: middle;\n",
       "    }\n",
       "\n",
       "    .dataframe tbody tr th {\n",
       "        vertical-align: top;\n",
       "    }\n",
       "\n",
       "    .dataframe thead th {\n",
       "        text-align: right;\n",
       "    }\n",
       "</style>\n",
       "<table border=\"1\" class=\"dataframe\">\n",
       "  <thead>\n",
       "    <tr style=\"text-align: right;\">\n",
       "      <th></th>\n",
       "      <th>Overlap</th>\n",
       "      <th>RareOnly</th>\n",
       "      <th>CommonOnly</th>\n",
       "      <th>Rare_Zr</th>\n",
       "      <th>Rare_Zc</th>\n",
       "      <th>Rare_Zrc</th>\n",
       "      <th>Common_Zr</th>\n",
       "      <th>Common_Zc</th>\n",
       "      <th>Common_Zrc</th>\n",
       "    </tr>\n",
       "  </thead>\n",
       "  <tbody>\n",
       "    <tr>\n",
       "      <th>EFO_0000095</th>\n",
       "      <td>0</td>\n",
       "      <td>8</td>\n",
       "      <td>52</td>\n",
       "      <td>8</td>\n",
       "      <td>0</td>\n",
       "      <td>2</td>\n",
       "      <td>1</td>\n",
       "      <td>52</td>\n",
       "      <td>14</td>\n",
       "    </tr>\n",
       "    <tr>\n",
       "      <th>EFO_0000182</th>\n",
       "      <td>0</td>\n",
       "      <td>4</td>\n",
       "      <td>11</td>\n",
       "      <td>4</td>\n",
       "      <td>0</td>\n",
       "      <td>1</td>\n",
       "      <td>0</td>\n",
       "      <td>11</td>\n",
       "      <td>2</td>\n",
       "    </tr>\n",
       "    <tr>\n",
       "      <th>EFO_0000198</th>\n",
       "      <td>0</td>\n",
       "      <td>18</td>\n",
       "      <td>6</td>\n",
       "      <td>18</td>\n",
       "      <td>0</td>\n",
       "      <td>0</td>\n",
       "      <td>0</td>\n",
       "      <td>6</td>\n",
       "      <td>0</td>\n",
       "    </tr>\n",
       "    <tr>\n",
       "      <th>EFO_0000217</th>\n",
       "      <td>0</td>\n",
       "      <td>65</td>\n",
       "      <td>4</td>\n",
       "      <td>65</td>\n",
       "      <td>1</td>\n",
       "      <td>7</td>\n",
       "      <td>0</td>\n",
       "      <td>4</td>\n",
       "      <td>0</td>\n",
       "    </tr>\n",
       "    <tr>\n",
       "      <th>EFO_0000266</th>\n",
       "      <td>0</td>\n",
       "      <td>20</td>\n",
       "      <td>10</td>\n",
       "      <td>20</td>\n",
       "      <td>1</td>\n",
       "      <td>6</td>\n",
       "      <td>0</td>\n",
       "      <td>10</td>\n",
       "      <td>3</td>\n",
       "    </tr>\n",
       "    <tr>\n",
       "      <th>...</th>\n",
       "      <td>...</td>\n",
       "      <td>...</td>\n",
       "      <td>...</td>\n",
       "      <td>...</td>\n",
       "      <td>...</td>\n",
       "      <td>...</td>\n",
       "      <td>...</td>\n",
       "      <td>...</td>\n",
       "      <td>...</td>\n",
       "    </tr>\n",
       "    <tr>\n",
       "      <th>MONDO_0007915</th>\n",
       "      <td>1</td>\n",
       "      <td>5</td>\n",
       "      <td>260</td>\n",
       "      <td>5</td>\n",
       "      <td>0</td>\n",
       "      <td>2</td>\n",
       "      <td>9</td>\n",
       "      <td>260</td>\n",
       "      <td>52</td>\n",
       "    </tr>\n",
       "    <tr>\n",
       "      <th>MONDO_0008315</th>\n",
       "      <td>6</td>\n",
       "      <td>45</td>\n",
       "      <td>298</td>\n",
       "      <td>45</td>\n",
       "      <td>0</td>\n",
       "      <td>10</td>\n",
       "      <td>6</td>\n",
       "      <td>298</td>\n",
       "      <td>64</td>\n",
       "    </tr>\n",
       "    <tr>\n",
       "      <th>MONDO_0008903</th>\n",
       "      <td>1</td>\n",
       "      <td>18</td>\n",
       "      <td>79</td>\n",
       "      <td>18</td>\n",
       "      <td>0</td>\n",
       "      <td>5</td>\n",
       "      <td>2</td>\n",
       "      <td>79</td>\n",
       "      <td>25</td>\n",
       "    </tr>\n",
       "    <tr>\n",
       "      <th>MONDO_0018309</th>\n",
       "      <td>2</td>\n",
       "      <td>3</td>\n",
       "      <td>5</td>\n",
       "      <td>3</td>\n",
       "      <td>0</td>\n",
       "      <td>1</td>\n",
       "      <td>0</td>\n",
       "      <td>5</td>\n",
       "      <td>2</td>\n",
       "    </tr>\n",
       "    <tr>\n",
       "      <th>MONDO_0024647</th>\n",
       "      <td>0</td>\n",
       "      <td>17</td>\n",
       "      <td>25</td>\n",
       "      <td>17</td>\n",
       "      <td>1</td>\n",
       "      <td>4</td>\n",
       "      <td>1</td>\n",
       "      <td>25</td>\n",
       "      <td>6</td>\n",
       "    </tr>\n",
       "  </tbody>\n",
       "</table>\n",
       "<p>302 rows × 9 columns</p>\n",
       "</div>"
      ],
      "text/plain": [
       "               Overlap  RareOnly  CommonOnly  Rare_Zr  Rare_Zc  Rare_Zrc  \\\n",
       "EFO_0000095          0         8          52        8        0         2   \n",
       "EFO_0000182          0         4          11        4        0         1   \n",
       "EFO_0000198          0        18           6       18        0         0   \n",
       "EFO_0000217          0        65           4       65        1         7   \n",
       "EFO_0000266          0        20          10       20        1         6   \n",
       "...                ...       ...         ...      ...      ...       ...   \n",
       "MONDO_0007915        1         5         260        5        0         2   \n",
       "MONDO_0008315        6        45         298       45        0        10   \n",
       "MONDO_0008903        1        18          79       18        0         5   \n",
       "MONDO_0018309        2         3           5        3        0         1   \n",
       "MONDO_0024647        0        17          25       17        1         4   \n",
       "\n",
       "               Common_Zr  Common_Zc  Common_Zrc  \n",
       "EFO_0000095            1         52          14  \n",
       "EFO_0000182            0         11           2  \n",
       "EFO_0000198            0          6           0  \n",
       "EFO_0000217            0          4           0  \n",
       "EFO_0000266            0         10           3  \n",
       "...                  ...        ...         ...  \n",
       "MONDO_0007915          9        260          52  \n",
       "MONDO_0008315          6        298          64  \n",
       "MONDO_0008903          2         79          25  \n",
       "MONDO_0018309          0          5           2  \n",
       "MONDO_0024647          1         25           6  \n",
       "\n",
       "[302 rows x 9 columns]"
      ]
     },
     "execution_count": 130,
     "metadata": {},
     "output_type": "execute_result"
    }
   ],
   "source": [
    "gene_split_results"
   ]
  },
  {
   "cell_type": "code",
   "execution_count": 131,
   "metadata": {
    "ExecuteTime": {
     "end_time": "2024-11-18T21:32:10.877072Z",
     "start_time": "2024-11-18T21:32:10.871416Z"
    }
   },
   "outputs": [
    {
     "data": {
      "text/plain": [
       "count    301.000000\n",
       "mean       0.217553\n",
       "std        0.148293\n",
       "min        0.000000\n",
       "25%        0.124731\n",
       "50%        0.201923\n",
       "75%        0.307692\n",
       "max        1.000000\n",
       "dtype: float64"
      ]
     },
     "execution_count": 131,
     "metadata": {},
     "output_type": "execute_result"
    }
   ],
   "source": [
    "# Average 20% prioritized by network analysis\n",
    "(gene_split_results.Common_Zrc / gene_split_results.CommonOnly).describe()"
   ]
  },
  {
   "cell_type": "code",
   "execution_count": 132,
   "metadata": {
    "ExecuteTime": {
     "end_time": "2024-11-18T21:32:44.362717Z",
     "start_time": "2024-11-18T21:32:44.357352Z"
    }
   },
   "outputs": [
    {
     "data": {
      "text/plain": [
       "count    300.000000\n",
       "mean       0.251587\n",
       "std        0.194561\n",
       "min        0.000000\n",
       "25%        0.114316\n",
       "50%        0.222222\n",
       "75%        0.336538\n",
       "max        1.000000\n",
       "dtype: float64"
      ]
     },
     "execution_count": 132,
     "metadata": {},
     "output_type": "execute_result"
    }
   ],
   "source": [
    "# Average 25% prioritized by network analysis\n",
    "(gene_split_results.Rare_Zrc / gene_split_results.RareOnly).describe()"
   ]
  },
  {
   "cell_type": "code",
   "execution_count": 138,
   "metadata": {
    "ExecuteTime": {
     "end_time": "2024-11-18T22:15:02.052816Z",
     "start_time": "2024-11-18T22:15:02.050121Z"
    }
   },
   "outputs": [],
   "source": [
    "gene_splits['trait'] = gene_splits.index"
   ]
  },
  {
   "cell_type": "code",
   "execution_count": 142,
   "metadata": {
    "ExecuteTime": {
     "end_time": "2024-11-18T22:16:48.318339Z",
     "start_time": "2024-11-18T22:16:48.309439Z"
    }
   },
   "outputs": [
    {
     "data": {
      "text/html": [
       "<div>\n",
       "<style scoped>\n",
       "    .dataframe tbody tr th:only-of-type {\n",
       "        vertical-align: middle;\n",
       "    }\n",
       "\n",
       "    .dataframe tbody tr th {\n",
       "        vertical-align: top;\n",
       "    }\n",
       "\n",
       "    .dataframe thead th {\n",
       "        text-align: right;\n",
       "    }\n",
       "</style>\n",
       "<table border=\"1\" class=\"dataframe\">\n",
       "  <thead>\n",
       "    <tr style=\"text-align: right;\">\n",
       "      <th></th>\n",
       "      <th>Overlap</th>\n",
       "      <th>RareOnly</th>\n",
       "      <th>CommonOnly</th>\n",
       "      <th>trait</th>\n",
       "    </tr>\n",
       "  </thead>\n",
       "  <tbody>\n",
       "    <tr>\n",
       "      <th>EFO_0000095</th>\n",
       "      <td>0</td>\n",
       "      <td>8</td>\n",
       "      <td>52</td>\n",
       "      <td>EFO_0000095</td>\n",
       "    </tr>\n",
       "    <tr>\n",
       "      <th>EFO_0000182</th>\n",
       "      <td>0</td>\n",
       "      <td>4</td>\n",
       "      <td>11</td>\n",
       "      <td>EFO_0000182</td>\n",
       "    </tr>\n",
       "    <tr>\n",
       "      <th>EFO_0000198</th>\n",
       "      <td>0</td>\n",
       "      <td>18</td>\n",
       "      <td>6</td>\n",
       "      <td>EFO_0000198</td>\n",
       "    </tr>\n",
       "    <tr>\n",
       "      <th>EFO_0000217</th>\n",
       "      <td>0</td>\n",
       "      <td>65</td>\n",
       "      <td>4</td>\n",
       "      <td>EFO_0000217</td>\n",
       "    </tr>\n",
       "    <tr>\n",
       "      <th>EFO_0000266</th>\n",
       "      <td>0</td>\n",
       "      <td>20</td>\n",
       "      <td>10</td>\n",
       "      <td>EFO_0000266</td>\n",
       "    </tr>\n",
       "    <tr>\n",
       "      <th>...</th>\n",
       "      <td>...</td>\n",
       "      <td>...</td>\n",
       "      <td>...</td>\n",
       "      <td>...</td>\n",
       "    </tr>\n",
       "    <tr>\n",
       "      <th>MONDO_0007915</th>\n",
       "      <td>1</td>\n",
       "      <td>5</td>\n",
       "      <td>260</td>\n",
       "      <td>MONDO_0007915</td>\n",
       "    </tr>\n",
       "    <tr>\n",
       "      <th>MONDO_0008315</th>\n",
       "      <td>6</td>\n",
       "      <td>45</td>\n",
       "      <td>298</td>\n",
       "      <td>MONDO_0008315</td>\n",
       "    </tr>\n",
       "    <tr>\n",
       "      <th>MONDO_0008903</th>\n",
       "      <td>1</td>\n",
       "      <td>18</td>\n",
       "      <td>79</td>\n",
       "      <td>MONDO_0008903</td>\n",
       "    </tr>\n",
       "    <tr>\n",
       "      <th>MONDO_0018309</th>\n",
       "      <td>2</td>\n",
       "      <td>3</td>\n",
       "      <td>5</td>\n",
       "      <td>MONDO_0018309</td>\n",
       "    </tr>\n",
       "    <tr>\n",
       "      <th>MONDO_0024647</th>\n",
       "      <td>0</td>\n",
       "      <td>17</td>\n",
       "      <td>25</td>\n",
       "      <td>MONDO_0024647</td>\n",
       "    </tr>\n",
       "  </tbody>\n",
       "</table>\n",
       "<p>302 rows × 4 columns</p>\n",
       "</div>"
      ],
      "text/plain": [
       "               Overlap  RareOnly  CommonOnly          trait\n",
       "EFO_0000095          0         8          52    EFO_0000095\n",
       "EFO_0000182          0         4          11    EFO_0000182\n",
       "EFO_0000198          0        18           6    EFO_0000198\n",
       "EFO_0000217          0        65           4    EFO_0000217\n",
       "EFO_0000266          0        20          10    EFO_0000266\n",
       "...                ...       ...         ...            ...\n",
       "MONDO_0007915        1         5         260  MONDO_0007915\n",
       "MONDO_0008315        6        45         298  MONDO_0008315\n",
       "MONDO_0008903        1        18          79  MONDO_0008903\n",
       "MONDO_0018309        2         3           5  MONDO_0018309\n",
       "MONDO_0024647        0        17          25  MONDO_0024647\n",
       "\n",
       "[302 rows x 4 columns]"
      ]
     },
     "execution_count": 142,
     "metadata": {},
     "output_type": "execute_result"
    }
   ],
   "source": [
    "gene_splits"
   ]
  },
  {
   "cell_type": "code",
   "execution_count": 143,
   "metadata": {
    "ExecuteTime": {
     "end_time": "2024-11-18T22:16:53.934151Z",
     "start_time": "2024-11-18T22:16:53.930654Z"
    }
   },
   "outputs": [],
   "source": [
    "gene_splits['overlap+rare'] = gene_splits['Overlap'] + gene_splits['RareOnly']\n",
    "gene_splits['Total'] = gene_splits['overlap+rare'] + gene_splits['CommonOnly']\n",
    "gene_splits = gene_splits.sort_values(by=['Overlap', 'overlap+rare', 'Total'], ascending=False)"
   ]
  },
  {
   "cell_type": "code",
   "execution_count": 147,
   "metadata": {
    "ExecuteTime": {
     "end_time": "2024-11-18T22:18:52.665543Z",
     "start_time": "2024-11-18T22:18:52.591454Z"
    }
   },
   "outputs": [],
   "source": []
  },
  {
   "cell_type": "code",
   "execution_count": 207,
   "metadata": {
    "ExecuteTime": {
     "end_time": "2024-11-18T22:59:50.209492Z",
     "start_time": "2024-11-18T22:59:49.713725Z"
    }
   },
   "outputs": [
    {
     "data": {
      "image/png": "[encoded data removed]",
      "text/plain": [
       "<Figure size 600x300 with 1 Axes>"
      ]
     },
     "metadata": {},
     "output_type": "display_data"
    }
   ],
   "source": [
    "_ = plt.figure(figsize=(6, 3))\n",
    "sns.barplot(gene_splits[0:50], x='trait', y='Overlap', color='purple', zorder=10, )\n",
    "sns.barplot(gene_splits[0:50], x='trait', y='overlap+rare', color='mediumseagreen', zorder=5, )\n",
    "sns.barplot(gene_splits[0:50], x='trait', y='Total', color='skyblue', zorder=1, )\n",
    "_ = plt.xticks([])\n",
    "plt.ylabel('')\n",
    "plt.xlabel('')\n",
    "plt.savefig(os.path.join(figdir, 'overlap_bar_updated.jpg'), dpi=400, bbox_inches='tight')"
   ]
  },
  {
   "cell_type": "code",
   "execution_count": null,
   "metadata": {},
   "outputs": [],
   "source": []
  },
  {
   "cell_type": "code",
   "execution_count": 179,
   "metadata": {
    "ExecuteTime": {
     "end_time": "2024-11-18T22:45:55.861212Z",
     "start_time": "2024-11-18T22:45:55.855923Z"
    }
   },
   "outputs": [],
   "source": [
    "gene_split_results['trait'] = gene_split_results.index\n",
    "gene_split_results['overlap+rare'] = gene_split_results['Overlap'] + gene_split_results['RareOnly']\n",
    "gene_split_results['Total'] = gene_split_results['overlap+rare'] + gene_split_results['CommonOnly']\n",
    "gene_split_results['overlap+RareZ'] = gene_split_results['Overlap'] + gene_split_results['Rare_Zrc']\n",
    "gene_split_results['overlap+RareCommonZ'] = gene_split_results['overlap+RareZ'] + gene_split_results['Common_Zrc']\n",
    "\n",
    "gene_split_results = gene_split_results.sort_values(by=['Overlap', 'overlap+RareZ', 'overlap+RareCommonZ'], ascending=False)"
   ]
  },
  {
   "cell_type": "code",
   "execution_count": null,
   "metadata": {},
   "outputs": [],
   "source": []
  },
  {
   "cell_type": "code",
   "execution_count": 202,
   "metadata": {
    "ExecuteTime": {
     "end_time": "2024-11-18T22:54:52.411333Z",
     "start_time": "2024-11-18T22:54:52.404779Z"
    }
   },
   "outputs": [
    {
     "data": {
      "text/plain": [
       "count    50.000000\n",
       "mean      6.720424\n",
       "std       4.677923\n",
       "min       1.750000\n",
       "25%       3.253571\n",
       "50%       4.812605\n",
       "75%       8.812500\n",
       "max      24.000000\n",
       "dtype: float64"
      ]
     },
     "execution_count": 202,
     "metadata": {},
     "output_type": "execute_result"
    }
   ],
   "source": [
    "(gene_split_results.iloc[0:50]['overlap+RareCommonZ']/gene_split_results.iloc[0:50]['Overlap']).describe()"
   ]
  },
  {
   "cell_type": "code",
   "execution_count": 1,
   "metadata": {
    "ExecuteTime": {
     "end_time": "2025-02-03T18:48:48.423952Z",
     "start_time": "2025-02-03T18:48:48.224369Z"
    }
   },
   "outputs": [
    {
     "ename": "NameError",
     "evalue": "name 'plt' is not defined",
     "output_type": "error",
     "traceback": [
      "\u001b[0;31m---------------------------------------------------------------------------\u001b[0m",
      "\u001b[0;31mNameError\u001b[0m                                 Traceback (most recent call last)",
      "Cell \u001b[0;32mIn[1], line 1\u001b[0m\n\u001b[0;32m----> 1\u001b[0m _ \u001b[38;5;241m=\u001b[39m \u001b[43mplt\u001b[49m\u001b[38;5;241m.\u001b[39mfigure(figsize\u001b[38;5;241m=\u001b[39m(\u001b[38;5;241m6\u001b[39m, \u001b[38;5;241m3\u001b[39m))\n\u001b[1;32m      2\u001b[0m sns\u001b[38;5;241m.\u001b[39mbarplot(gene_split_results[\u001b[38;5;241m0\u001b[39m:\u001b[38;5;241m50\u001b[39m], x\u001b[38;5;241m=\u001b[39m\u001b[38;5;124m'\u001b[39m\u001b[38;5;124mtrait\u001b[39m\u001b[38;5;124m'\u001b[39m, y\u001b[38;5;241m=\u001b[39m\u001b[38;5;124m'\u001b[39m\u001b[38;5;124mOverlap\u001b[39m\u001b[38;5;124m'\u001b[39m, color\u001b[38;5;241m=\u001b[39m\u001b[38;5;124m'\u001b[39m\u001b[38;5;124mpurple\u001b[39m\u001b[38;5;124m'\u001b[39m, zorder\u001b[38;5;241m=\u001b[39m\u001b[38;5;241m10\u001b[39m,)\n\u001b[1;32m      3\u001b[0m sns\u001b[38;5;241m.\u001b[39mbarplot(gene_split_results[\u001b[38;5;241m0\u001b[39m:\u001b[38;5;241m50\u001b[39m], x\u001b[38;5;241m=\u001b[39m\u001b[38;5;124m'\u001b[39m\u001b[38;5;124mtrait\u001b[39m\u001b[38;5;124m'\u001b[39m, y\u001b[38;5;241m=\u001b[39m\u001b[38;5;124m'\u001b[39m\u001b[38;5;124moverlap+RareZ\u001b[39m\u001b[38;5;124m'\u001b[39m, color\u001b[38;5;241m=\u001b[39m\u001b[38;5;124m'\u001b[39m\u001b[38;5;124mmediumseagreen\u001b[39m\u001b[38;5;124m'\u001b[39m, zorder\u001b[38;5;241m=\u001b[39m\u001b[38;5;241m5\u001b[39m)\n",
      "\u001b[0;31mNameError\u001b[0m: name 'plt' is not defined"
     ]
    }
   ],
   "source": [
    "_ = plt.figure(figsize=(6, 3))\n",
    "sns.barplot(gene_split_results[0:50], x='trait', y='Overlap', color='purple', zorder=10,)\n",
    "sns.barplot(gene_split_results[0:50], x='trait', y='overlap+RareZ', color='mediumseagreen', zorder=5)\n",
    "sns.barplot(gene_split_results[0:50], x='trait', y='overlap+RareCommonZ', color='skyblue', zorder=3)\n",
    "sns.barplot(gene_split_results[0:50], x='trait', y='Total', color='lightgrey', zorder=1, saturation=1)\n",
    "_ = plt.xticks([])\n",
    "plt.ylabel('')\n",
    "plt.xlabel('')\n",
    "plt.savefig(os.path.join(figdir, 'overlap_bar_prioritized_updated.jpg'), dpi=400, bbox_inches='tight')"
   ]
  },
  {
   "cell_type": "code",
   "execution_count": 151,
   "metadata": {
    "ExecuteTime": {
     "end_time": "2024-11-18T22:19:50.439932Z",
     "start_time": "2024-11-18T22:19:50.431056Z"
    }
   },
   "outputs": [
    {
     "data": {
      "text/html": [
       "<div>\n",
       "<style scoped>\n",
       "    .dataframe tbody tr th:only-of-type {\n",
       "        vertical-align: middle;\n",
       "    }\n",
       "\n",
       "    .dataframe tbody tr th {\n",
       "        vertical-align: top;\n",
       "    }\n",
       "\n",
       "    .dataframe thead th {\n",
       "        text-align: right;\n",
       "    }\n",
       "</style>\n",
       "<table border=\"1\" class=\"dataframe\">\n",
       "  <thead>\n",
       "    <tr style=\"text-align: right;\">\n",
       "      <th></th>\n",
       "      <th>Overlap</th>\n",
       "      <th>RareOnly</th>\n",
       "      <th>CommonOnly</th>\n",
       "      <th>Rare_Zr</th>\n",
       "      <th>Rare_Zc</th>\n",
       "      <th>Rare_Zrc</th>\n",
       "      <th>Common_Zr</th>\n",
       "      <th>Common_Zc</th>\n",
       "      <th>Common_Zrc</th>\n",
       "    </tr>\n",
       "  </thead>\n",
       "  <tbody>\n",
       "    <tr>\n",
       "      <th>EFO_0000095</th>\n",
       "      <td>0</td>\n",
       "      <td>8</td>\n",
       "      <td>52</td>\n",
       "      <td>8</td>\n",
       "      <td>0</td>\n",
       "      <td>2</td>\n",
       "      <td>1</td>\n",
       "      <td>52</td>\n",
       "      <td>14</td>\n",
       "    </tr>\n",
       "    <tr>\n",
       "      <th>EFO_0000182</th>\n",
       "      <td>0</td>\n",
       "      <td>4</td>\n",
       "      <td>11</td>\n",
       "      <td>4</td>\n",
       "      <td>0</td>\n",
       "      <td>1</td>\n",
       "      <td>0</td>\n",
       "      <td>11</td>\n",
       "      <td>2</td>\n",
       "    </tr>\n",
       "    <tr>\n",
       "      <th>EFO_0000198</th>\n",
       "      <td>0</td>\n",
       "      <td>18</td>\n",
       "      <td>6</td>\n",
       "      <td>18</td>\n",
       "      <td>0</td>\n",
       "      <td>0</td>\n",
       "      <td>0</td>\n",
       "      <td>6</td>\n",
       "      <td>0</td>\n",
       "    </tr>\n",
       "    <tr>\n",
       "      <th>EFO_0000217</th>\n",
       "      <td>0</td>\n",
       "      <td>65</td>\n",
       "      <td>4</td>\n",
       "      <td>65</td>\n",
       "      <td>1</td>\n",
       "      <td>7</td>\n",
       "      <td>0</td>\n",
       "      <td>4</td>\n",
       "      <td>0</td>\n",
       "    </tr>\n",
       "    <tr>\n",
       "      <th>EFO_0000266</th>\n",
       "      <td>0</td>\n",
       "      <td>20</td>\n",
       "      <td>10</td>\n",
       "      <td>20</td>\n",
       "      <td>1</td>\n",
       "      <td>6</td>\n",
       "      <td>0</td>\n",
       "      <td>10</td>\n",
       "      <td>3</td>\n",
       "    </tr>\n",
       "  </tbody>\n",
       "</table>\n",
       "</div>"
      ],
      "text/plain": [
       "             Overlap  RareOnly  CommonOnly  Rare_Zr  Rare_Zc  Rare_Zrc  \\\n",
       "EFO_0000095        0         8          52        8        0         2   \n",
       "EFO_0000182        0         4          11        4        0         1   \n",
       "EFO_0000198        0        18           6       18        0         0   \n",
       "EFO_0000217        0        65           4       65        1         7   \n",
       "EFO_0000266        0        20          10       20        1         6   \n",
       "\n",
       "             Common_Zr  Common_Zc  Common_Zrc  \n",
       "EFO_0000095          1         52          14  \n",
       "EFO_0000182          0         11           2  \n",
       "EFO_0000198          0          6           0  \n",
       "EFO_0000217          0          4           0  \n",
       "EFO_0000266          0         10           3  "
      ]
     },
     "execution_count": 151,
     "metadata": {},
     "output_type": "execute_result"
    }
   ],
   "source": [
    "gene_split_results.head()"
   ]
  }
 ],
 "metadata": {
  "kernelspec": {
   "display_name": "Python (CARVA)",
   "language": "python",
   "name": "carva"
  },
  "language_info": {
   "codemirror_mode": {
    "name": "ipython",
    "version": 3
   },
   "file_extension": ".py",
   "mimetype": "text/x-python",
   "name": "python",
   "nbconvert_exporter": "python",
   "pygments_lexer": "ipython3",
   "version": "3.10.0"
  },
  "toc": {
   "base_numbering": 1,
   "nav_menu": {},
   "number_sections": true,
   "sideBar": true,
   "skip_h1_title": false,
   "title_cell": "Table of Contents",
   "title_sidebar": "Contents",
   "toc_cell": false,
   "toc_position": {},
   "toc_section_display": true,
   "toc_window_display": true
  },
  "varInspector": {
   "cols": {
    "lenName": 16,
    "lenType": 16,
    "lenVar": 40
   },
   "kernels_config": {
    "python": {
     "delete_cmd_postfix": "",
     "delete_cmd_prefix": "del ",
     "library": "var_list.py",
     "varRefreshCmd": "print(var_dic_list())"
    },
    "r": {
     "delete_cmd_postfix": ") ",
     "delete_cmd_prefix": "rm(",
     "library": "var_list.r",
     "varRefreshCmd": "cat(var_dic_list()) "
    }
   },
   "types_to_exclude": [
    "module",
    "function",
    "builtin_function_or_method",
    "instance",
    "_Feature"
   ],
   "window_display": false
  }
 },
 "nbformat": 4,
 "nbformat_minor": 2
}
