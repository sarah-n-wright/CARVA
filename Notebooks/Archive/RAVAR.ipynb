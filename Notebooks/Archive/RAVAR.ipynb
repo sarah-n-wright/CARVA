{
 "cells": [
  {
   "cell_type": "code",
   "execution_count": 2,
   "metadata": {
    "ExecuteTime": {
     "end_time": "2025-03-12T20:09:48.734078Z",
     "start_time": "2025-03-12T20:09:48.732196Z"
    }
   },
   "outputs": [],
   "source": [
    "import pandas as pd\n",
    "import os"
   ]
  },
  {
   "cell_type": "code",
   "execution_count": 3,
   "metadata": {
    "ExecuteTime": {
     "end_time": "2025-03-12T20:10:05.390464Z",
     "start_time": "2025-03-12T20:10:05.388735Z"
    }
   },
   "outputs": [],
   "source": [
    "datadir = '/cellar/users/snwright/Data/RareCommon/RAVAR'"
   ]
  },
  {
   "cell_type": "markdown",
   "metadata": {},
   "source": [
    "## RAVAR UKB"
   ]
  },
  {
   "cell_type": "code",
   "execution_count": 59,
   "metadata": {
    "ExecuteTime": {
     "end_time": "2025-03-12T20:36:14.068288Z",
     "start_time": "2025-03-12T20:36:13.593311Z"
    }
   },
   "outputs": [],
   "source": [
    "ravar_genes = pd.read_csv(os.path.join(datadir ,'gene_fulltable_06112024.txt.entrez'),sep='\\t', \n",
    "                            usecols=['Gene Symbol', 'Ensembl ID', 'Gene Type', 'Entrez', 'CHR', 'Location', 'Reported Trait', 'Trait Label', 'Trait Ontology id', 'EFO synonym', 'P-value', 'PMID'])\n",
    "#replace '−' with '-'\n",
    "ravar_genes['P-value'] = ravar_genes['P-value'].apply(lambda x: float(x.replace('−','-')) if type(x) == str else float(x))\n",
    "ravar_genes['TRAIT_CODE'] = ravar_genes['Trait Ontology id'].apply(lambda x: x.replace(\":\", \"_\") if type(x) == str else x)\n",
    "ravar_genes['logp'] = -1 * np.log10(ravar_genes['P-value'] + 1e-250)"
   ]
  },
  {
   "cell_type": "code",
   "execution_count": 63,
   "metadata": {
    "ExecuteTime": {
     "end_time": "2025-03-12T20:36:46.185348Z",
     "start_time": "2025-03-12T20:36:46.165251Z"
    }
   },
   "outputs": [],
   "source": [
    "gene_counts = ravar_genes.groupby(['PMID', 'Reported Trait', 'Trait Label']).Entrez.nunique().reset_index()"
   ]
  },
  {
   "cell_type": "code",
   "execution_count": 67,
   "metadata": {
    "ExecuteTime": {
     "end_time": "2025-03-12T20:37:18.971447Z",
     "start_time": "2025-03-12T20:37:18.967354Z"
    }
   },
   "outputs": [],
   "source": [
    "all_pmids = gene_counts[gene_counts.Entrez>=3].PMID.unique()"
   ]
  },
  {
   "cell_type": "code",
   "execution_count": 72,
   "metadata": {
    "ExecuteTime": {
     "end_time": "2025-03-12T20:38:44.894229Z",
     "start_time": "2025-03-12T20:38:44.892285Z"
    }
   },
   "outputs": [],
   "source": [
    "all_pmids = [int(x) for x in all_pmids]"
   ]
  },
  {
   "cell_type": "code",
   "execution_count": 81,
   "metadata": {
    "ExecuteTime": {
     "end_time": "2025-03-12T20:41:14.111415Z",
     "start_time": "2025-03-12T20:41:14.102287Z"
    }
   },
   "outputs": [],
   "source": [
    "missing = [x for x in all_pmids if int(x) not in manual_info.PMID.astype(int).values]"
   ]
  },
  {
   "cell_type": "code",
   "execution_count": 86,
   "metadata": {
    "ExecuteTime": {
     "end_time": "2025-03-12T20:57:00.284991Z",
     "start_time": "2025-03-12T20:57:00.282306Z"
    }
   },
   "outputs": [],
   "source": [
    "ukb_missing = [33226994,\n",
    "33574263,\n",
    "34626176,\n",
    "36050321,\n",
    "36297015,\n",
    "36311265,\n",
    "36450729]"
   ]
  },
  {
   "cell_type": "code",
   "execution_count": 87,
   "metadata": {
    "ExecuteTime": {
     "end_time": "2025-03-12T20:57:33.957541Z",
     "start_time": "2025-03-12T20:57:33.946059Z"
    }
   },
   "outputs": [
    {
     "data": {
      "text/plain": [
       "PMID\n",
       "33574263.0    204\n",
       "36450729.0     36\n",
       "33226994.0     17\n",
       "36050321.0     15\n",
       "36297015.0      7\n",
       "36311265.0      6\n",
       "34626176.0      3\n",
       "Name: count, dtype: int64"
      ]
     },
     "execution_count": 87,
     "metadata": {},
     "output_type": "execute_result"
    }
   ],
   "source": [
    "ravar_genes[ravar_genes.PMID.isin(ukb_missing)].PMID.value_counts()"
   ]
  },
  {
   "cell_type": "code",
   "execution_count": 89,
   "metadata": {
    "ExecuteTime": {
     "end_time": "2025-03-12T21:04:55.864559Z",
     "start_time": "2025-03-12T21:04:55.863001Z"
    }
   },
   "outputs": [],
   "source": [
    "# Match UKB traits first, then come back and extract info!\n",
    "# There are exactly 2 traits not already covered. Just ignore these."
   ]
  },
  {
   "cell_type": "markdown",
   "metadata": {},
   "source": [
    "## Manual info for RAVAR/GWAS Catalog shared traits"
   ]
  },
  {
   "cell_type": "code",
   "execution_count": 5,
   "metadata": {
    "ExecuteTime": {
     "end_time": "2025-03-12T20:10:42.471735Z",
     "start_time": "2025-03-12T20:10:42.410304Z"
    }
   },
   "outputs": [
    {
     "data": {
      "text/html": [
       "<div>\n",
       "<style scoped>\n",
       "    .dataframe tbody tr th:only-of-type {\n",
       "        vertical-align: middle;\n",
       "    }\n",
       "\n",
       "    .dataframe tbody tr th {\n",
       "        vertical-align: top;\n",
       "    }\n",
       "\n",
       "    .dataframe thead th {\n",
       "        text-align: right;\n",
       "    }\n",
       "</style>\n",
       "<table border=\"1\" class=\"dataframe\">\n",
       "  <thead>\n",
       "    <tr style=\"text-align: right;\">\n",
       "      <th></th>\n",
       "      <th>Reported Trait</th>\n",
       "      <th>Trait Label</th>\n",
       "      <th>Trait Ontology id</th>\n",
       "      <th>Method/Software</th>\n",
       "      <th>PMID</th>\n",
       "    </tr>\n",
       "  </thead>\n",
       "  <tbody>\n",
       "    <tr>\n",
       "      <th>0</th>\n",
       "      <td>Abnormal findings on diagnostic imaging of oth...</td>\n",
       "      <td>abnormal result of diagnostic imaging</td>\n",
       "      <td>EFO:0009827</td>\n",
       "      <td>collapsing analyse</td>\n",
       "      <td>34375979</td>\n",
       "    </tr>\n",
       "    <tr>\n",
       "      <th>1</th>\n",
       "      <td>Biochemistry Total Protein measurement</td>\n",
       "      <td>total blood protein measurement</td>\n",
       "      <td>EFO:0004536</td>\n",
       "      <td>BOLT-LMM</td>\n",
       "      <td>34226706</td>\n",
       "    </tr>\n",
       "    <tr>\n",
       "      <th>2</th>\n",
       "      <td>Biochemistry Calcium measurement</td>\n",
       "      <td>calcium measurement</td>\n",
       "      <td>EFO:0004838</td>\n",
       "      <td>BOLT-LMM</td>\n",
       "      <td>34226706</td>\n",
       "    </tr>\n",
       "    <tr>\n",
       "      <th>3</th>\n",
       "      <td>Biochemistry SHBG measurement</td>\n",
       "      <td>sex hormone-binding globulin measurement</td>\n",
       "      <td>EFO:0004696</td>\n",
       "      <td>BOLT-LMM</td>\n",
       "      <td>34226706</td>\n",
       "    </tr>\n",
       "    <tr>\n",
       "      <th>4</th>\n",
       "      <td>Biochemistry Gamma Glutamyl transferase measur...</td>\n",
       "      <td>serum gamma-glutamyl transferase measurement</td>\n",
       "      <td>EFO:0004532</td>\n",
       "      <td>BOLT-LMM</td>\n",
       "      <td>34226706</td>\n",
       "    </tr>\n",
       "  </tbody>\n",
       "</table>\n",
       "</div>"
      ],
      "text/plain": [
       "                                      Reported Trait  \\\n",
       "0  Abnormal findings on diagnostic imaging of oth...   \n",
       "1             Biochemistry Total Protein measurement   \n",
       "2                   Biochemistry Calcium measurement   \n",
       "3                      Biochemistry SHBG measurement   \n",
       "4  Biochemistry Gamma Glutamyl transferase measur...   \n",
       "\n",
       "                                    Trait Label Trait Ontology id  \\\n",
       "0         abnormal result of diagnostic imaging       EFO:0009827   \n",
       "1               total blood protein measurement       EFO:0004536   \n",
       "2                           calcium measurement       EFO:0004838   \n",
       "3      sex hormone-binding globulin measurement       EFO:0004696   \n",
       "4  serum gamma-glutamyl transferase measurement       EFO:0004532   \n",
       "\n",
       "      Method/Software      PMID  \n",
       "0  collapsing analyse  34375979  \n",
       "1            BOLT-LMM  34226706  \n",
       "2            BOLT-LMM  34226706  \n",
       "3            BOLT-LMM  34226706  \n",
       "4            BOLT-LMM  34226706  "
      ]
     },
     "execution_count": 5,
     "metadata": {},
     "output_type": "execute_result"
    }
   ],
   "source": [
    "study_info = pd.read_csv(os.path.join(datadir, 'study_info_condensed.txt'), sep='\\t')\n",
    "study_info.head()"
   ]
  },
  {
   "cell_type": "code",
   "execution_count": 38,
   "metadata": {
    "ExecuteTime": {
     "end_time": "2025-03-12T20:26:29.805756Z",
     "start_time": "2025-03-12T20:26:29.790542Z"
    }
   },
   "outputs": [],
   "source": [
    "manual_info = pd.read_csv(os.path.join(datadir, 'RVStudyInfo_manual_long.tsv'), sep='\\t')\n",
    "manual_info['index'] = [x+1 for x in range(len(manual_info))]\n",
    "s_36809768q = pd.read_csv('/cellar/users/snwright/Data/RareCommon/Annotations/rare_info/36809768_Q.tsv', sep='\\t')\n",
    "s_34662886 = pd.read_csv('/cellar/users/snwright/Data/RareCommon/Annotations/rare_info/34662886_All.tsv', sep='\\t')\n",
    "replace_idx = list(s_34662886['index'].values) + list(s_36809768q['index'].values)"
   ]
  },
  {
   "cell_type": "code",
   "execution_count": 39,
   "metadata": {
    "ExecuteTime": {
     "end_time": "2025-03-12T20:26:31.591932Z",
     "start_time": "2025-03-12T20:26:31.589327Z"
    }
   },
   "outputs": [],
   "source": [
    "# Remove the results for studies mapped separately.\n",
    "manual_info = manual_info[~manual_info.index.isin(replace_idx)]"
   ]
  },
  {
   "cell_type": "code",
   "execution_count": 40,
   "metadata": {
    "ExecuteTime": {
     "end_time": "2025-03-12T20:26:32.216632Z",
     "start_time": "2025-03-12T20:26:32.198606Z"
    }
   },
   "outputs": [],
   "source": [
    "# Clean up info\n",
    "# replace N with N Actual:\n",
    "manual_info = manual_info.assign(N_final = manual_info.apply(lambda x: x['N-Actual'] if x['N-Actual'] > 0 else x.N, axis=1))"
   ]
  },
  {
   "cell_type": "code",
   "execution_count": 41,
   "metadata": {
    "ExecuteTime": {
     "end_time": "2025-03-12T20:26:32.815092Z",
     "start_time": "2025-03-12T20:26:32.792422Z"
    }
   },
   "outputs": [],
   "source": [
    "manual_info = manual_info.assign(Class_final = manual_info.apply(lambda x: x['Classification.1'] if isinstance(x['Classification.1'], str) else x.Classification, axis=1))"
   ]
  },
  {
   "cell_type": "code",
   "execution_count": 42,
   "metadata": {
    "ExecuteTime": {
     "end_time": "2025-03-12T20:26:33.352624Z",
     "start_time": "2025-03-12T20:26:33.350104Z"
    }
   },
   "outputs": [],
   "source": [
    "clean_info = manual_info.drop(columns = ['N', 'N-Actual', 'Classification', 'Classification.1'])"
   ]
  },
  {
   "cell_type": "code",
   "execution_count": 47,
   "metadata": {
    "ExecuteTime": {
     "end_time": "2025-03-12T20:27:15.827054Z",
     "start_time": "2025-03-12T20:27:15.824486Z"
    }
   },
   "outputs": [],
   "source": [
    "clean_info = clean_info.rename(columns={'N_final': 'N', 'Class_final':'Classification', 'Unnamed: 11':'ExtraNote'})"
   ]
  },
  {
   "cell_type": "code",
   "execution_count": 48,
   "metadata": {
    "ExecuteTime": {
     "end_time": "2025-03-12T20:27:17.730045Z",
     "start_time": "2025-03-12T20:27:17.720531Z"
    }
   },
   "outputs": [
    {
     "data": {
      "text/html": [
       "<div>\n",
       "<style scoped>\n",
       "    .dataframe tbody tr th:only-of-type {\n",
       "        vertical-align: middle;\n",
       "    }\n",
       "\n",
       "    .dataframe tbody tr th {\n",
       "        vertical-align: top;\n",
       "    }\n",
       "\n",
       "    .dataframe thead th {\n",
       "        text-align: right;\n",
       "    }\n",
       "</style>\n",
       "<table border=\"1\" class=\"dataframe\">\n",
       "  <thead>\n",
       "    <tr style=\"text-align: right;\">\n",
       "      <th></th>\n",
       "      <th>Reported Trait</th>\n",
       "      <th>Trait Label</th>\n",
       "      <th>Trait Ontology id</th>\n",
       "      <th>PMID</th>\n",
       "      <th>COHORT</th>\n",
       "      <th>Ancestry</th>\n",
       "      <th>Notes</th>\n",
       "      <th>ExtraNote</th>\n",
       "      <th>index</th>\n",
       "      <th>N</th>\n",
       "      <th>Classification</th>\n",
       "    </tr>\n",
       "  </thead>\n",
       "  <tbody>\n",
       "    <tr>\n",
       "      <th>0</th>\n",
       "      <td>Abnormal findings on diagnostic imaging of oth...</td>\n",
       "      <td>abnormal result of diagnostic imaging</td>\n",
       "      <td>EFO:0009827</td>\n",
       "      <td>34375979</td>\n",
       "      <td>UKB</td>\n",
       "      <td>EUR</td>\n",
       "      <td>NaN</td>\n",
       "      <td>NaN</td>\n",
       "      <td>1</td>\n",
       "      <td>281104.0</td>\n",
       "      <td>Population CC/Q</td>\n",
       "    </tr>\n",
       "    <tr>\n",
       "      <th>1</th>\n",
       "      <td>Biochemistry Total Protein measurement</td>\n",
       "      <td>total blood protein measurement</td>\n",
       "      <td>EFO:0004536</td>\n",
       "      <td>34226706</td>\n",
       "      <td>UKB</td>\n",
       "      <td>EUR</td>\n",
       "      <td>NaN</td>\n",
       "      <td>NaN</td>\n",
       "      <td>2</td>\n",
       "      <td>400482.0</td>\n",
       "      <td>Population Q</td>\n",
       "    </tr>\n",
       "    <tr>\n",
       "      <th>2</th>\n",
       "      <td>Biochemistry Calcium measurement</td>\n",
       "      <td>calcium measurement</td>\n",
       "      <td>EFO:0004838</td>\n",
       "      <td>34226706</td>\n",
       "      <td>UKB</td>\n",
       "      <td>EUR</td>\n",
       "      <td>NaN</td>\n",
       "      <td>NaN</td>\n",
       "      <td>3</td>\n",
       "      <td>400792.0</td>\n",
       "      <td>Population Q</td>\n",
       "    </tr>\n",
       "    <tr>\n",
       "      <th>3</th>\n",
       "      <td>Biochemistry SHBG measurement</td>\n",
       "      <td>sex hormone-binding globulin measurement</td>\n",
       "      <td>EFO:0004696</td>\n",
       "      <td>34226706</td>\n",
       "      <td>UKB</td>\n",
       "      <td>EUR</td>\n",
       "      <td>NaN</td>\n",
       "      <td>NaN</td>\n",
       "      <td>4</td>\n",
       "      <td>397043.0</td>\n",
       "      <td>Population Q</td>\n",
       "    </tr>\n",
       "    <tr>\n",
       "      <th>4</th>\n",
       "      <td>Biochemistry Gamma Glutamyl transferase measur...</td>\n",
       "      <td>serum gamma-glutamyl transferase measurement</td>\n",
       "      <td>EFO:0004532</td>\n",
       "      <td>34226706</td>\n",
       "      <td>UKB</td>\n",
       "      <td>EUR</td>\n",
       "      <td>NaN</td>\n",
       "      <td>NaN</td>\n",
       "      <td>5</td>\n",
       "      <td>437651.0</td>\n",
       "      <td>Population Q</td>\n",
       "    </tr>\n",
       "    <tr>\n",
       "      <th>...</th>\n",
       "      <td>...</td>\n",
       "      <td>...</td>\n",
       "      <td>...</td>\n",
       "      <td>...</td>\n",
       "      <td>...</td>\n",
       "      <td>...</td>\n",
       "      <td>...</td>\n",
       "      <td>...</td>\n",
       "      <td>...</td>\n",
       "      <td>...</td>\n",
       "      <td>...</td>\n",
       "    </tr>\n",
       "    <tr>\n",
       "      <th>2916</th>\n",
       "      <td>Coronary artery disease</td>\n",
       "      <td>coronary artery disease</td>\n",
       "      <td>EFO:0001645</td>\n",
       "      <td>28642624</td>\n",
       "      <td>PDAY</td>\n",
       "      <td>EUR, AFR</td>\n",
       "      <td>NaN</td>\n",
       "      <td>NaN</td>\n",
       "      <td>2917</td>\n",
       "      <td>985.0</td>\n",
       "      <td>Population CC</td>\n",
       "    </tr>\n",
       "    <tr>\n",
       "      <th>2917</th>\n",
       "      <td>Momp a antigen for chlamydia trachomatis</td>\n",
       "      <td>Chlamydia trachomatis infectious disease</td>\n",
       "      <td>EFO:0007205</td>\n",
       "      <td>34375979</td>\n",
       "      <td>UKB</td>\n",
       "      <td>EUR</td>\n",
       "      <td>NaN</td>\n",
       "      <td>NaN</td>\n",
       "      <td>2918</td>\n",
       "      <td>281104.0</td>\n",
       "      <td>Population CC/Q</td>\n",
       "    </tr>\n",
       "    <tr>\n",
       "      <th>2918</th>\n",
       "      <td>Gestational [pregnancy-induced] hypertension w...</td>\n",
       "      <td>preeclampsia</td>\n",
       "      <td>EFO:0000668</td>\n",
       "      <td>34375979</td>\n",
       "      <td>UKB</td>\n",
       "      <td>EUR</td>\n",
       "      <td>NaN</td>\n",
       "      <td>NaN</td>\n",
       "      <td>2919</td>\n",
       "      <td>281104.0</td>\n",
       "      <td>Population CC/Q</td>\n",
       "    </tr>\n",
       "    <tr>\n",
       "      <th>2919</th>\n",
       "      <td>VLDLTG L measurement</td>\n",
       "      <td>very low density lipoprotein cholesterol chang...</td>\n",
       "      <td>EFO:0020857</td>\n",
       "      <td>36419110</td>\n",
       "      <td>Finnish</td>\n",
       "      <td>EUR</td>\n",
       "      <td>T1D patients</td>\n",
       "      <td>NaN</td>\n",
       "      <td>2920</td>\n",
       "      <td>738.0</td>\n",
       "      <td>Ascertained Q</td>\n",
       "    </tr>\n",
       "    <tr>\n",
       "      <th>2920</th>\n",
       "      <td>VLDL L measurement</td>\n",
       "      <td>very low density lipoprotein particle size mea...</td>\n",
       "      <td>EFO:0008594</td>\n",
       "      <td>36419110</td>\n",
       "      <td>Finnish</td>\n",
       "      <td>EUR</td>\n",
       "      <td>T1D patients</td>\n",
       "      <td>NaN</td>\n",
       "      <td>2921</td>\n",
       "      <td>738.0</td>\n",
       "      <td>Ascertained Q</td>\n",
       "    </tr>\n",
       "  </tbody>\n",
       "</table>\n",
       "<p>2351 rows × 11 columns</p>\n",
       "</div>"
      ],
      "text/plain": [
       "                                         Reported Trait  \\\n",
       "0     Abnormal findings on diagnostic imaging of oth...   \n",
       "1                Biochemistry Total Protein measurement   \n",
       "2                      Biochemistry Calcium measurement   \n",
       "3                         Biochemistry SHBG measurement   \n",
       "4     Biochemistry Gamma Glutamyl transferase measur...   \n",
       "...                                                 ...   \n",
       "2916                            Coronary artery disease   \n",
       "2917           Momp a antigen for chlamydia trachomatis   \n",
       "2918  Gestational [pregnancy-induced] hypertension w...   \n",
       "2919                               VLDLTG L measurement   \n",
       "2920                                 VLDL L measurement   \n",
       "\n",
       "                                            Trait Label Trait Ontology id  \\\n",
       "0                 abnormal result of diagnostic imaging       EFO:0009827   \n",
       "1                       total blood protein measurement       EFO:0004536   \n",
       "2                                   calcium measurement       EFO:0004838   \n",
       "3              sex hormone-binding globulin measurement       EFO:0004696   \n",
       "4          serum gamma-glutamyl transferase measurement       EFO:0004532   \n",
       "...                                                 ...               ...   \n",
       "2916                            coronary artery disease       EFO:0001645   \n",
       "2917           Chlamydia trachomatis infectious disease       EFO:0007205   \n",
       "2918                                       preeclampsia       EFO:0000668   \n",
       "2919  very low density lipoprotein cholesterol chang...       EFO:0020857   \n",
       "2920  very low density lipoprotein particle size mea...       EFO:0008594   \n",
       "\n",
       "          PMID   COHORT  Ancestry         Notes ExtraNote  index         N  \\\n",
       "0     34375979      UKB       EUR           NaN       NaN      1  281104.0   \n",
       "1     34226706      UKB       EUR           NaN       NaN      2  400482.0   \n",
       "2     34226706      UKB       EUR           NaN       NaN      3  400792.0   \n",
       "3     34226706      UKB       EUR           NaN       NaN      4  397043.0   \n",
       "4     34226706      UKB       EUR           NaN       NaN      5  437651.0   \n",
       "...        ...      ...       ...           ...       ...    ...       ...   \n",
       "2916  28642624     PDAY  EUR, AFR           NaN       NaN   2917     985.0   \n",
       "2917  34375979      UKB       EUR           NaN       NaN   2918  281104.0   \n",
       "2918  34375979      UKB       EUR           NaN       NaN   2919  281104.0   \n",
       "2919  36419110  Finnish       EUR  T1D patients       NaN   2920     738.0   \n",
       "2920  36419110  Finnish       EUR  T1D patients       NaN   2921     738.0   \n",
       "\n",
       "       Classification  \n",
       "0     Population CC/Q  \n",
       "1        Population Q  \n",
       "2        Population Q  \n",
       "3        Population Q  \n",
       "4        Population Q  \n",
       "...               ...  \n",
       "2916    Population CC  \n",
       "2917  Population CC/Q  \n",
       "2918  Population CC/Q  \n",
       "2919    Ascertained Q  \n",
       "2920    Ascertained Q  \n",
       "\n",
       "[2351 rows x 11 columns]"
      ]
     },
     "execution_count": 48,
     "metadata": {},
     "output_type": "execute_result"
    }
   ],
   "source": [
    "clean_info"
   ]
  },
  {
   "cell_type": "code",
   "execution_count": 51,
   "metadata": {
    "ExecuteTime": {
     "end_time": "2025-03-12T20:28:24.705974Z",
     "start_time": "2025-03-12T20:28:24.703494Z"
    }
   },
   "outputs": [],
   "source": [
    "s_36809768q= s_36809768q.rename(columns={'N_Actual':'N'})\n",
    "s_34662886 = s_34662886.rename(columns={'N_Actual':'N'})"
   ]
  },
  {
   "cell_type": "code",
   "execution_count": 52,
   "metadata": {
    "ExecuteTime": {
     "end_time": "2025-03-12T20:28:47.364679Z",
     "start_time": "2025-03-12T20:28:47.358938Z"
    }
   },
   "outputs": [],
   "source": [
    "all_info = pd.concat([clean_info, s_34662886, s_36809768q])"
   ]
  },
  {
   "cell_type": "code",
   "execution_count": 54,
   "metadata": {
    "ExecuteTime": {
     "end_time": "2025-03-12T20:30:40.362948Z",
     "start_time": "2025-03-12T20:30:40.343280Z"
    }
   },
   "outputs": [],
   "source": [
    "all_info.to_csv('/cellar/users/snwright/Data/RareCommon/Annotations/rare_info/cleaned_info_gwascat_matches.tsv', sep='\\t', index=False)"
   ]
  }
 ],
 "metadata": {
  "kernelspec": {
   "display_name": "Python (CARVA)",
   "language": "python",
   "name": "carva"
  },
  "language_info": {
   "codemirror_mode": {
    "name": "ipython",
    "version": 3
   },
   "file_extension": ".py",
   "mimetype": "text/x-python",
   "name": "python",
   "nbconvert_exporter": "python",
   "pygments_lexer": "ipython3",
   "version": "3.10.0"
  },
  "toc": {
   "base_numbering": 1,
   "nav_menu": {},
   "number_sections": true,
   "sideBar": true,
   "skip_h1_title": false,
   "title_cell": "Table of Contents",
   "title_sidebar": "Contents",
   "toc_cell": false,
   "toc_position": {},
   "toc_section_display": true,
   "toc_window_display": false
  },
  "varInspector": {
   "cols": {
    "lenName": 16,
    "lenType": 16,
    "lenVar": 40
   },
   "kernels_config": {
    "python": {
     "delete_cmd_postfix": "",
     "delete_cmd_prefix": "del ",
     "library": "var_list.py",
     "varRefreshCmd": "print(var_dic_list())"
    },
    "r": {
     "delete_cmd_postfix": ") ",
     "delete_cmd_prefix": "rm(",
     "library": "var_list.r",
     "varRefreshCmd": "cat(var_dic_list()) "
    }
   },
   "types_to_exclude": [
    "module",
    "function",
    "builtin_function_or_method",
    "instance",
    "_Feature"
   ],
   "window_display": false
  }
 },
 "nbformat": 4,
 "nbformat_minor": 2
}
