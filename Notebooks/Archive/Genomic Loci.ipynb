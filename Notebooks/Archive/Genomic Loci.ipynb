{
 "cells": [
  {
   "cell_type": "code",
   "execution_count": 583,
   "metadata": {
    "ExecuteTime": {
     "end_time": "2025-02-19T21:50:37.689140Z",
     "start_time": "2025-02-19T21:50:33.894657Z"
    }
   },
   "outputs": [],
   "source": [
    "import pandas as pd\n",
    "import os\n",
    "from tqdm import tqdm\n",
    "import seaborn as sns\n",
    "import matplotlib.pyplot as plt"
   ]
  },
  {
   "cell_type": "code",
   "execution_count": 659,
   "metadata": {
    "ExecuteTime": {
     "end_time": "2025-02-19T23:36:08.231550Z",
     "start_time": "2025-02-19T23:36:08.228045Z"
    }
   },
   "outputs": [],
   "source": [
    "plt.rcParams['svg.fonttype'] = 'none'\n",
    "plt.rcParams.update({'font.size': 8})\n",
    "plt.rcParams['axes.linewidth'] = 0.5\n",
    "plt.rcParams['hatch.linewidth'] = 0.5\n",
    "plt.rcParams['xtick.major.width'] = 0.4\n",
    "plt.rcParams['ytick.major.width'] = 0.4\n",
    "plt.rcParams['xtick.minor.width'] = 0.3\n",
    "plt.rcParams['ytick.minor.width'] = 0.3\n",
    "plt.rcParams['legend.frameon'] = False\n",
    "plt.rcParams['xtick.major.size'] = 3\n",
    "plt.rcParams['ytick.major.size'] = 3\n",
    "plt.rcParams['xtick.minor.size'] = 2\n",
    "plt.rcParams['ytick.minor.size'] = 2\n",
    "plt.rcParams['xtick.major.pad'] = 1\n",
    "plt.rcParams['ytick.major.pad'] = 1\n",
    "plt.rcParams['axes.labelpad'] = 1\n",
    "plt.rcParams['patch.linewidth'] = 0.25"
   ]
  },
  {
   "cell_type": "code",
   "execution_count": 747,
   "metadata": {
    "ExecuteTime": {
     "end_time": "2025-02-20T00:01:06.508023Z",
     "start_time": "2025-02-20T00:01:06.506124Z"
    }
   },
   "outputs": [],
   "source": [
    "datadir = '/cellar/users/snwright/Data/RareCommon'\n",
    "figdir = '/cellar/users/snwright/Data/Transfer/RVC/figures/GenomicLoci'"
   ]
  },
  {
   "cell_type": "code",
   "execution_count": 375,
   "metadata": {
    "ExecuteTime": {
     "end_time": "2025-02-19T18:06:06.267085Z",
     "start_time": "2025-02-19T18:06:05.368139Z"
    }
   },
   "outputs": [],
   "source": [
    "rv_gda = pd.read_csv(os.path.join(datadir, 'RAVAR', 'gene_fulltable_06112024.txt.loci'), sep='\\t', low_memory=False, index_col=0)\n",
    "cv_gda = pd.read_csv(os.path.join(datadir, 'GWASCatalog', 'gwas_catalog_Jan29_2025.txt.cleanedFeb19'), sep='\\t', low_memory=False).dropna(subset=['SNP_ID_CURRENT'])\n",
    "cv_gda = cv_gda.assign(rsID = cv_gda.SNP_ID_CURRENT.apply(lambda x: 'rs' + str(int(x)) if isinstance(x, float) else 'rs' + x if isinstance(x, str) else x)) "
   ]
  },
  {
   "cell_type": "code",
   "execution_count": 390,
   "metadata": {
    "ExecuteTime": {
     "end_time": "2025-02-19T18:11:24.915824Z",
     "start_time": "2025-02-19T18:11:24.886119Z"
    }
   },
   "outputs": [
    {
     "data": {
      "text/html": [
       "<div>\n",
       "<style scoped>\n",
       "    .dataframe tbody tr th:only-of-type {\n",
       "        vertical-align: middle;\n",
       "    }\n",
       "\n",
       "    .dataframe tbody tr th {\n",
       "        vertical-align: top;\n",
       "    }\n",
       "\n",
       "    .dataframe thead th {\n",
       "        text-align: right;\n",
       "    }\n",
       "</style>\n",
       "<table border=\"1\" class=\"dataframe\">\n",
       "  <thead>\n",
       "    <tr style=\"text-align: right;\">\n",
       "      <th></th>\n",
       "      <th>TraitR</th>\n",
       "      <th>TraitC</th>\n",
       "      <th>StudyR</th>\n",
       "      <th>StudyC</th>\n",
       "      <th>EFO</th>\n",
       "    </tr>\n",
       "  </thead>\n",
       "  <tbody>\n",
       "    <tr>\n",
       "      <th>0</th>\n",
       "      <td>34375979.0_EFO_0004631</td>\n",
       "      <td>GCST90000618_EFO_0004631</td>\n",
       "      <td>34375979.0</td>\n",
       "      <td>GCST90000618</td>\n",
       "      <td>EFO_0004631</td>\n",
       "    </tr>\n",
       "    <tr>\n",
       "      <th>1</th>\n",
       "      <td>34375979.0_MONDO_0002009</td>\n",
       "      <td>GCST009979_MONDO_0002009</td>\n",
       "      <td>34375979.0</td>\n",
       "      <td>GCST009979</td>\n",
       "      <td>MONDO_0002009</td>\n",
       "    </tr>\n",
       "    <tr>\n",
       "      <th>2</th>\n",
       "      <td>34375979.0_EFO_0020690</td>\n",
       "      <td>GCST90239636_EFO_0020690</td>\n",
       "      <td>34375979.0</td>\n",
       "      <td>GCST90239636</td>\n",
       "      <td>EFO_0020690</td>\n",
       "    </tr>\n",
       "    <tr>\n",
       "      <th>3</th>\n",
       "      <td>34375979.0_EFO_0004193</td>\n",
       "      <td>GCST90013410_EFO_0004193</td>\n",
       "      <td>34375979.0</td>\n",
       "      <td>GCST90013410</td>\n",
       "      <td>EFO_0004193</td>\n",
       "    </tr>\n",
       "    <tr>\n",
       "      <th>4</th>\n",
       "      <td>30206357.0_EFO_0004842</td>\n",
       "      <td>GCST90002302_EFO_0004842</td>\n",
       "      <td>30206357.0</td>\n",
       "      <td>GCST90002302</td>\n",
       "      <td>EFO_0004842</td>\n",
       "    </tr>\n",
       "  </tbody>\n",
       "</table>\n",
       "</div>"
      ],
      "text/plain": [
       "                     TraitR                    TraitC      StudyR  \\\n",
       "0    34375979.0_EFO_0004631  GCST90000618_EFO_0004631  34375979.0   \n",
       "1  34375979.0_MONDO_0002009  GCST009979_MONDO_0002009  34375979.0   \n",
       "2    34375979.0_EFO_0020690  GCST90239636_EFO_0020690  34375979.0   \n",
       "3    34375979.0_EFO_0004193  GCST90013410_EFO_0004193  34375979.0   \n",
       "4    30206357.0_EFO_0004842  GCST90002302_EFO_0004842  30206357.0   \n",
       "\n",
       "         StudyC            EFO  \n",
       "0  GCST90000618    EFO_0004631  \n",
       "1    GCST009979  MONDO_0002009  \n",
       "2  GCST90239636    EFO_0020690  \n",
       "3  GCST90013410    EFO_0004193  \n",
       "4  GCST90002302    EFO_0004842  "
      ]
     },
     "execution_count": 390,
     "metadata": {},
     "output_type": "execute_result"
    }
   ],
   "source": [
    "rv_traits = pd.read_csv(os.path.join(datadir, 'inputs/Jan_2025', 'rare.traitlist'), header=None, names=['TraitR'])\n",
    "cv_traits = pd.read_csv(os.path.join(datadir, 'inputs/Jan_2025', 'common.traitlist'), header=None, names=['TraitC'])\n",
    "trait_pairs = pd.concat([rv_traits, cv_traits], axis=1)\n",
    "trait_pairs['StudyR'] = trait_pairs.TraitR.apply(lambda x: float(x.split('_')[0]))\n",
    "trait_pairs['StudyC'] = trait_pairs.TraitC.apply(lambda x: x.split('_')[0])\n",
    "trait_pairs['EFO'] = trait_pairs.TraitC.apply(lambda x: x.split('_', 1)[-1])\n",
    "trait_pairs.head()"
   ]
  },
  {
   "cell_type": "code",
   "execution_count": 607,
   "metadata": {
    "ExecuteTime": {
     "end_time": "2025-02-19T23:06:59.903898Z",
     "start_time": "2025-02-19T23:06:59.900454Z"
    }
   },
   "outputs": [],
   "source": [
    "rv_only = trait_pairs.drop_duplicates(subset='TraitR')\n",
    "cv_only = trait_pairs.drop_duplicates(subset='TraitC')"
   ]
  },
  {
   "cell_type": "markdown",
   "metadata": {},
   "source": [
    "# Loci overlap v2"
   ]
  },
  {
   "cell_type": "code",
   "execution_count": 610,
   "metadata": {
    "ExecuteTime": {
     "end_time": "2025-02-19T23:07:20.112552Z",
     "start_time": "2025-02-19T23:07:20.109211Z"
    }
   },
   "outputs": [],
   "source": [
    "def get_rv_intervals2(rv_gda, study, trait, id_col='Ensembl ID', chr_col='Chromosome', start_col='Start', \n",
    "                     end_col='End', window=50000):\n",
    "    assoc = rv_gda[(rv_gda.TRAIT_CODE==trait) & (rv_gda.PMID == study)].drop_duplicates(subset=[id_col])\n",
    "    all_intervals = {}\n",
    "    chr_counts = assoc[chr_col].value_counts()\n",
    "    for CHR in chr_counts.index.values:\n",
    "        chr_assoc = assoc[assoc[chr_col]==CHR].sort_values(by=start_col)\n",
    "        intervals = [[start, end] for start, end in zip(chr_assoc.Start, chr_assoc.End)]\n",
    "        all_intervals[CHR] = intervals\n",
    "    return all_intervals"
   ]
  },
  {
   "cell_type": "code",
   "execution_count": 611,
   "metadata": {
    "ExecuteTime": {
     "end_time": "2025-02-19T23:07:29.995579Z",
     "start_time": "2025-02-19T23:07:25.377561Z"
    }
   },
   "outputs": [
    {
     "name": "stderr",
     "output_type": "stream",
     "text": [
      "529it [00:04, 114.66it/s]\n"
     ]
    }
   ],
   "source": [
    "rv_intervals2 = {}\n",
    "for trow in tqdm(rv_only.iterrows()):\n",
    "    rv_intervals2[trow[1]['TraitR']] = get_rv_intervals2(rv_gda, trow[1]['StudyR'], trow[1]['EFO'], window=50000)"
   ]
  },
  {
   "cell_type": "code",
   "execution_count": null,
   "metadata": {},
   "outputs": [],
   "source": [
    "def find_snp_matches(intervals, snp_df):\n",
    "    res = []\n",
    "    for CHR, ranges in intervals.items():\n",
    "        chr_df = snps_in_intervals(intervals[CHR],snp_df[snp_df['chr38']==f'chr{CHR}'])\n",
    "        chr_df['Chromosome'] = CHR\n",
    "        res.append(chr_df)\n",
    "    return pd.concat(res)\n",
    "    \n",
    "\n",
    "def snps_in_intervals(intervals, snp_df):\n",
    "    \"\"\"\n",
    "    For each interval in a list of intervals, assess whether any SNP positions\n",
    "    (given in the 'pos38' column of snp_df) fall within the interval.\n",
    "    \n",
    "    Parameters:\n",
    "      intervals (list of lists): A list of intervals, where each interval is \n",
    "                                 [start, end].\n",
    "      snp_df (pd.DataFrame): DataFrame containing a column 'pos38' with SNP positions.\n",
    "    \n",
    "    Returns:\n",
    "      pd.DataFrame: A DataFrame with columns 'start', 'end', and 'match', where 'match'\n",
    "                    is True if any SNP falls within the interval, otherwise False.\n",
    "    \"\"\"\n",
    "    # Convert the SNP positions to a sorted NumPy array for efficient searching.\n",
    "    snp_positions = np.sort(snp_df['pos38'].to_numpy())\n",
    "    \n",
    "    results = []\n",
    "    if len(snp_df) == 0:\n",
    "        for start, end in intervals:\n",
    "            results.append({'start': start, 'end': end, 'match': False}) \n",
    "    else: \n",
    "        for start, end in intervals:\n",
    "            # Find the index of the first SNP >= start\n",
    "            left_idx = np.searchsorted(snp_positions, start, side='left')\n",
    "            # Find the index of the first SNP > end\n",
    "            right_idx = np.searchsorted(snp_positions, end, side='right')\n",
    "\n",
    "            # If left_idx is less than right_idx, there is at least one SNP in the interval.\n",
    "            match = left_idx < right_idx\n",
    "            results.append({'start': start, 'end': end, 'match': match})\n",
    "    return pd.DataFrame(results)\n"
   ]
  },
  {
   "cell_type": "code",
   "execution_count": null,
   "metadata": {},
   "outputs": [],
   "source": []
  },
  {
   "cell_type": "code",
   "execution_count": 612,
   "metadata": {
    "ExecuteTime": {
     "end_time": "2025-02-19T23:11:02.962314Z",
     "start_time": "2025-02-19T23:08:58.933945Z"
    }
   },
   "outputs": [
    {
     "name": "stderr",
     "output_type": "stream",
     "text": [
      "1809it [02:03, 14.60it/s]\n"
     ]
    }
   ],
   "source": [
    "overlapping_loci = []\n",
    "for i, pair in tqdm(enumerate(trait_pairs.iterrows())):\n",
    "    snp_df = cv_gda[(cv_gda['STUDY ACCESSION']==pair[1]['StudyC']) & (cv_gda['TRAIT_CODE']==pair[1]['EFO'])].drop_duplicates(subset='rsID')\n",
    "    snp_df = snp_df.merge(all_snps, right_index=True, left_on='rsID', how='left').drop_duplicates(subset=['rsID'])\n",
    "    pair_df = find_snp_matches(rv_intervals2[pair[1]['TraitR']], snp_df)\n",
    "    pair_df['TraitR'] = pair[1]['TraitR']\n",
    "    pair_df['TraitC'] = pair[1]['TraitC']\n",
    "    overlapping_loci.append(pair_df)\n",
    "overlaps = pd.concat(overlapping_loci)"
   ]
  },
  {
   "cell_type": "code",
   "execution_count": 613,
   "metadata": {
    "ExecuteTime": {
     "end_time": "2025-02-19T23:11:49.903158Z",
     "start_time": "2025-02-19T23:11:49.876641Z"
    }
   },
   "outputs": [],
   "source": [
    "overlap_counts = overlaps.sort_values(['Chromosome', 'start']).groupby(['TraitR', 'TraitC']).match.value_counts().reset_index().pivot_table(index=['TraitR', 'TraitC'], values='count', columns='match', fill_value=0).reset_index()"
   ]
  },
  {
   "cell_type": "code",
   "execution_count": 614,
   "metadata": {
    "ExecuteTime": {
     "end_time": "2025-02-19T23:11:55.241309Z",
     "start_time": "2025-02-19T23:11:55.239290Z"
    }
   },
   "outputs": [],
   "source": [
    "overlap_counts.columns = ['TraitR', 'TraitC', 'NoMatch', 'Match']"
   ]
  },
  {
   "cell_type": "code",
   "execution_count": 615,
   "metadata": {
    "ExecuteTime": {
     "end_time": "2025-02-19T23:12:00.553421Z",
     "start_time": "2025-02-19T23:12:00.551217Z"
    }
   },
   "outputs": [],
   "source": [
    "rv_only_df.columns = ['GeneCount', 'RareLoci', 'RareSharedLoci']\n",
    "cv_only_df.columns = ['SNPCount', 'CommonLoci', 'CommonSharedLoci']"
   ]
  },
  {
   "cell_type": "code",
   "execution_count": 616,
   "metadata": {
    "ExecuteTime": {
     "end_time": "2025-02-19T23:12:05.870258Z",
     "start_time": "2025-02-19T23:12:05.864524Z"
    }
   },
   "outputs": [],
   "source": [
    "overlap_df = overlap_counts.merge(rv_only_df, left_on='TraitR', right_index=True, how='outer')\n",
    "overlap_df = overlap_df.merge(cv_only_df, left_on='TraitC', right_index=True, how='outer')"
   ]
  },
  {
   "cell_type": "code",
   "execution_count": 617,
   "metadata": {
    "ExecuteTime": {
     "end_time": "2025-02-19T23:12:11.183340Z",
     "start_time": "2025-02-19T23:12:11.180550Z"
    }
   },
   "outputs": [],
   "source": [
    "overlap_df['trait_pair'] = overlap_df['TraitR'] + '_' + overlap_df['TraitC']"
   ]
  },
  {
   "cell_type": "code",
   "execution_count": 618,
   "metadata": {
    "ExecuteTime": {
     "end_time": "2025-02-19T23:12:16.522506Z",
     "start_time": "2025-02-19T23:12:16.517466Z"
    }
   },
   "outputs": [
    {
     "data": {
      "text/plain": [
       "count    1777.000000\n",
       "mean        0.107183\n",
       "std         0.174532\n",
       "min         0.000000\n",
       "25%         0.000000\n",
       "50%         0.000000\n",
       "75%         0.187500\n",
       "max         1.000000\n",
       "dtype: float64"
      ]
     },
     "execution_count": 618,
     "metadata": {},
     "output_type": "execute_result"
    }
   ],
   "source": [
    "(overlap_df['Match'] / (overlap_df['Match']+overlap_df['NoMatch'])).describe()"
   ]
  },
  {
   "cell_type": "code",
   "execution_count": 619,
   "metadata": {
    "ExecuteTime": {
     "end_time": "2025-02-19T23:12:36.120492Z",
     "start_time": "2025-02-19T23:12:35.987885Z"
    }
   },
   "outputs": [],
   "source": [
    "hgeom_df = pd.read_csv('/cellar/users/snwright/Data/RareCommon/outputs/overlap/rvc_overlap_results_Jan_2025.txt', sep='\\t',\n",
    "                     header=None, names=['trait_pair', 'param_set', 'n_common', 'n_rare', 'n_overlap', 'background', 'pval'])\n",
    "import re\n",
    "def map_trait_code(code):\n",
    "    efo = next((match.group() for match in re.finditer(r'EFO_\\d+', code)), None)\n",
    "    if efo is not None:\n",
    "        return efo\n",
    "    mondo = next((match.group() for match in re.finditer(r'MONDO_\\d+', code)), None)\n",
    "    if mondo is not None:\n",
    "        return mondo\n",
    "    hp = next((match.group() for match in re.finditer(r'HP_\\d+', code)), None)\n",
    "    if hp is not None:\n",
    "        return hp\n",
    "    go = next((match.group() for match in re.finditer(r'GO_\\d+', code)), None)\n",
    "    if go is not None:\n",
    "        return go\n",
    "    return None\n",
    "hgeom_df['EFO'] = hgeom_df.trait_pair.apply(lambda x: map_trait_code(x))\n",
    "hgeom_df['StudyC'] = hgeom_df.trait_pair.apply(lambda x: next((match.group() for match in re.finditer(r'GCST\\d+', x)), None))\n",
    "hgeom_df['StudyR'] = hgeom_df.trait_pair.apply(lambda x: x.split('_')[0])"
   ]
  },
  {
   "cell_type": "code",
   "execution_count": 620,
   "metadata": {
    "ExecuteTime": {
     "end_time": "2025-02-19T23:12:41.440403Z",
     "start_time": "2025-02-19T23:12:41.434763Z"
    }
   },
   "outputs": [],
   "source": [
    "combo_df = hgeom_df.loc[:, ('trait_pair', 'n_rare', 'n_overlap',)].merge(overlap_df.loc[:, ('trait_pair', 'RareLoci', 'Match', 'TraitR', 'TraitC')], on='trait_pair')"
   ]
  },
  {
   "cell_type": "code",
   "execution_count": 621,
   "metadata": {
    "ExecuteTime": {
     "end_time": "2025-02-19T23:12:46.775466Z",
     "start_time": "2025-02-19T23:12:46.772658Z"
    }
   },
   "outputs": [],
   "source": [
    "combo_df['Gene'] = combo_df['n_overlap']/combo_df['n_rare']\n",
    "combo_df['Loci'] = combo_df['Match']/combo_df['RareLoci']"
   ]
  },
  {
   "cell_type": "code",
   "execution_count": 622,
   "metadata": {
    "ExecuteTime": {
     "end_time": "2025-02-19T23:12:52.418117Z",
     "start_time": "2025-02-19T23:12:52.099939Z"
    }
   },
   "outputs": [
    {
     "data": {
      "image/png": "[encoded data removed]",
      "text/plain": [
       "<Figure size 640x480 with 1 Axes>"
      ]
     },
     "metadata": {},
     "output_type": "display_data"
    }
   ],
   "source": [
    "sns.scatterplot(combo_df, x='n_rare', y='RareLoci')\n",
    "plt.yscale('log')\n",
    "plt.xscale('log')"
   ]
  },
  {
   "cell_type": "code",
   "execution_count": 748,
   "metadata": {
    "ExecuteTime": {
     "end_time": "2025-02-20T00:01:13.163065Z",
     "start_time": "2025-02-20T00:01:12.718476Z"
    }
   },
   "outputs": [
    {
     "data": {
      "image/png": "[encoded data removed]",
      "text/plain": [
       "<Figure size 200x200 with 1 Axes>"
      ]
     },
     "metadata": {},
     "output_type": "display_data"
    }
   ],
   "source": [
    "_ = plt.figure(figsize=(2,2))\n",
    "plot_df = combo_df[combo_df.Match != combo_df.n_overlap].groupby(['n_overlap', 'Match']).trait_pair.nunique().reset_index()\n",
    "plot_df.rename(columns={'trait_pair': 'Pairs'}, inplace=True)\n",
    "\n",
    "plt.plot(range(0, 18), range(0, 18), color='grey', linestyle='--', linewidth=0.5)\n",
    "plt.hlines(y=0, xmin=-1, xmax=18, color='grey', linewidth=0.5,)\n",
    "plt.vlines(x=0, ymin=-1, ymax=18, color='grey', linewidth=0.5,)\n",
    "sns.scatterplot(plot_df, x='n_overlap', y='Match', size='Pairs',color='darkgreen', edgecolor='black', zorder=100)\n",
    "plt.xlabel('Shared Genes')\n",
    "plt.ylabel('Shared Loci')\n",
    "plt.xlim(-1, 17)\n",
    "plt.ylim(-1, 17)\n",
    "plt.savefig(os.path.join(figdir, 'genomic_loci_scatter.svg'), bbox_inches='tight')"
   ]
  },
  {
   "cell_type": "code",
   "execution_count": 749,
   "metadata": {
    "ExecuteTime": {
     "end_time": "2025-02-20T00:01:18.588708Z",
     "start_time": "2025-02-20T00:01:18.464354Z"
    }
   },
   "outputs": [
    {
     "data": {
      "image/png": "[encoded data removed]",
      "text/plain": [
       "<Figure size 50x200 with 1 Axes>"
      ]
     },
     "metadata": {},
     "output_type": "display_data"
    }
   ],
   "source": [
    "_ = plt.figure(figsize=(0.5,2))\n",
    "plot_df = pd.DataFrame({'Count': [len(combo_df[combo_df.Match == combo_df.n_overlap]),  len(combo_df[combo_df.Match != combo_df.n_overlap])], \n",
    "                         'x': [1,1], 'Group':['Unchanged', 'Changed']})\n",
    "sns.barplot(plot_df, x='x', y='Count', hue='Group',legend=False, \n",
    "           palette=['mediumseagreen', 'darkgreen'], edgecolor='black')\n",
    "#_ = plt.text(x=-0.4, y=plot_df[plot_df.Group=='Unchanged'].Count.values+25, s=str(plot_df[plot_df.Group=='Unchanged'].Count.values[0]), rotation=45)\n",
    "_ = plt.text(x=0.05, y=plot_df[plot_df.Group=='Changed'].Count.values+25, s=str(plot_df[plot_df.Group=='Changed'].Count.values[0]))\n",
    "plt.ylim(0,1800)\n",
    "plt.ylabel('Study Pairs')\n",
    "plt.xticks([-0.25, 0.25], ['Unchanged', 'Changed'], rotation=90)\n",
    "plt.xlabel('')\n",
    "plt.savefig(os.path.join(figdir, 'genomic_loci_bar.svg'), bbox_inches='tight')"
   ]
  },
  {
   "cell_type": "code",
   "execution_count": 750,
   "metadata": {
    "ExecuteTime": {
     "end_time": "2025-02-20T00:20:39.330205Z",
     "start_time": "2025-02-20T00:20:39.327253Z"
    }
   },
   "outputs": [
    {
     "data": {
      "text/plain": [
       "0.010692177827799663"
      ]
     },
     "execution_count": 750,
     "metadata": {},
     "output_type": "execute_result"
    }
   ],
   "source": [
    "19/(1758+19)"
   ]
  },
  {
   "cell_type": "code",
   "execution_count": 650,
   "metadata": {
    "ExecuteTime": {
     "end_time": "2025-02-19T23:32:33.844036Z",
     "start_time": "2025-02-19T23:32:33.654745Z"
    }
   },
   "outputs": [
    {
     "data": {
      "text/plain": [
       "(-1.0, 20.0)"
      ]
     },
     "execution_count": 650,
     "metadata": {},
     "output_type": "execute_result"
    },
    {
     "data": {
      "image/png": "[encoded data removed]",
      "text/plain": [
       "<Figure size 640x480 with 1 Axes>"
      ]
     },
     "metadata": {},
     "output_type": "display_data"
    }
   ],
   "source": [
    "plot_df = combo_df.groupby(['n_overlap', 'Match']).trait_pair.nunique().reset_index()\n",
    "plot_df['logCount'] = np.log2(plot_df['trait_pair'] + 1)\n",
    "sns.scatterplot(plot_df, x='n_overlap', y='Match', size='logCount')\n",
    "plt.xlim(-1,20)\n",
    "plt.ylim(-1,20)"
   ]
  },
  {
   "cell_type": "code",
   "execution_count": 624,
   "metadata": {
    "ExecuteTime": {
     "end_time": "2025-02-19T23:13:03.592663Z",
     "start_time": "2025-02-19T23:13:03.584331Z"
    }
   },
   "outputs": [
    {
     "data": {
      "text/html": [
       "<div>\n",
       "<style scoped>\n",
       "    .dataframe tbody tr th:only-of-type {\n",
       "        vertical-align: middle;\n",
       "    }\n",
       "\n",
       "    .dataframe tbody tr th {\n",
       "        vertical-align: top;\n",
       "    }\n",
       "\n",
       "    .dataframe thead th {\n",
       "        text-align: right;\n",
       "    }\n",
       "</style>\n",
       "<table border=\"1\" class=\"dataframe\">\n",
       "  <thead>\n",
       "    <tr style=\"text-align: right;\">\n",
       "      <th></th>\n",
       "      <th>trait_pair</th>\n",
       "      <th>n_rare</th>\n",
       "      <th>n_overlap</th>\n",
       "      <th>RareLoci</th>\n",
       "      <th>Match</th>\n",
       "      <th>TraitR</th>\n",
       "      <th>TraitC</th>\n",
       "      <th>Gene</th>\n",
       "      <th>Loci</th>\n",
       "    </tr>\n",
       "  </thead>\n",
       "  <tbody>\n",
       "    <tr>\n",
       "      <th>0</th>\n",
       "      <td>19847924.0_EFO_0001645_GCST005195_EFO_0001645</td>\n",
       "      <td>6</td>\n",
       "      <td>0</td>\n",
       "      <td>6</td>\n",
       "      <td>0.0</td>\n",
       "      <td>19847924.0_EFO_0001645</td>\n",
       "      <td>GCST005195_EFO_0001645</td>\n",
       "      <td>0.0</td>\n",
       "      <td>0.0</td>\n",
       "    </tr>\n",
       "    <tr>\n",
       "      <th>1</th>\n",
       "      <td>19847924.0_EFO_0001645_GCST008370_EFO_0001645</td>\n",
       "      <td>6</td>\n",
       "      <td>0</td>\n",
       "      <td>6</td>\n",
       "      <td>0.0</td>\n",
       "      <td>19847924.0_EFO_0001645</td>\n",
       "      <td>GCST008370_EFO_0001645</td>\n",
       "      <td>0.0</td>\n",
       "      <td>0.0</td>\n",
       "    </tr>\n",
       "    <tr>\n",
       "      <th>2</th>\n",
       "      <td>19847924.0_EFO_0001645_GCST010479_EFO_0001645</td>\n",
       "      <td>6</td>\n",
       "      <td>0</td>\n",
       "      <td>6</td>\n",
       "      <td>0.0</td>\n",
       "      <td>19847924.0_EFO_0001645</td>\n",
       "      <td>GCST010479_EFO_0001645</td>\n",
       "      <td>0.0</td>\n",
       "      <td>0.0</td>\n",
       "    </tr>\n",
       "    <tr>\n",
       "      <th>3</th>\n",
       "      <td>19847924.0_EFO_0001645_GCST90132315_EFO_0001645</td>\n",
       "      <td>6</td>\n",
       "      <td>0</td>\n",
       "      <td>6</td>\n",
       "      <td>0.0</td>\n",
       "      <td>19847924.0_EFO_0001645</td>\n",
       "      <td>GCST90132315_EFO_0001645</td>\n",
       "      <td>0.0</td>\n",
       "      <td>0.0</td>\n",
       "    </tr>\n",
       "    <tr>\n",
       "      <th>4</th>\n",
       "      <td>19847924.0_EFO_0001645_GCST90449059_EFO_0001645</td>\n",
       "      <td>6</td>\n",
       "      <td>0</td>\n",
       "      <td>6</td>\n",
       "      <td>0.0</td>\n",
       "      <td>19847924.0_EFO_0001645</td>\n",
       "      <td>GCST90449059_EFO_0001645</td>\n",
       "      <td>0.0</td>\n",
       "      <td>0.0</td>\n",
       "    </tr>\n",
       "    <tr>\n",
       "      <th>...</th>\n",
       "      <td>...</td>\n",
       "      <td>...</td>\n",
       "      <td>...</td>\n",
       "      <td>...</td>\n",
       "      <td>...</td>\n",
       "      <td>...</td>\n",
       "      <td>...</td>\n",
       "      <td>...</td>\n",
       "      <td>...</td>\n",
       "    </tr>\n",
       "    <tr>\n",
       "      <th>1772</th>\n",
       "      <td>37301943.0_EFO_0006941_GCST005829_EFO_0006941</td>\n",
       "      <td>30</td>\n",
       "      <td>0</td>\n",
       "      <td>30</td>\n",
       "      <td>0.0</td>\n",
       "      <td>37301943.0_EFO_0006941</td>\n",
       "      <td>GCST005829_EFO_0006941</td>\n",
       "      <td>0.0</td>\n",
       "      <td>0.0</td>\n",
       "    </tr>\n",
       "    <tr>\n",
       "      <th>1773</th>\n",
       "      <td>37301943.0_EFO_0006941_GCST005830_EFO_0006941</td>\n",
       "      <td>30</td>\n",
       "      <td>0</td>\n",
       "      <td>30</td>\n",
       "      <td>0.0</td>\n",
       "      <td>37301943.0_EFO_0006941</td>\n",
       "      <td>GCST005830_EFO_0006941</td>\n",
       "      <td>0.0</td>\n",
       "      <td>0.0</td>\n",
       "    </tr>\n",
       "    <tr>\n",
       "      <th>1774</th>\n",
       "      <td>37301943.0_EFO_0006941_GCST90007526_EFO_0006941</td>\n",
       "      <td>30</td>\n",
       "      <td>0</td>\n",
       "      <td>30</td>\n",
       "      <td>0.0</td>\n",
       "      <td>37301943.0_EFO_0006941</td>\n",
       "      <td>GCST90007526_EFO_0006941</td>\n",
       "      <td>0.0</td>\n",
       "      <td>0.0</td>\n",
       "    </tr>\n",
       "    <tr>\n",
       "      <th>1775</th>\n",
       "      <td>37301943.0_EFO_0006941_GCST90095048_EFO_0006941</td>\n",
       "      <td>30</td>\n",
       "      <td>0</td>\n",
       "      <td>30</td>\n",
       "      <td>0.0</td>\n",
       "      <td>37301943.0_EFO_0006941</td>\n",
       "      <td>GCST90095048_EFO_0006941</td>\n",
       "      <td>0.0</td>\n",
       "      <td>0.0</td>\n",
       "    </tr>\n",
       "    <tr>\n",
       "      <th>1776</th>\n",
       "      <td>37301943.0_EFO_0006941_GCST90258643_EFO_0006941</td>\n",
       "      <td>30</td>\n",
       "      <td>0</td>\n",
       "      <td>30</td>\n",
       "      <td>0.0</td>\n",
       "      <td>37301943.0_EFO_0006941</td>\n",
       "      <td>GCST90258643_EFO_0006941</td>\n",
       "      <td>0.0</td>\n",
       "      <td>0.0</td>\n",
       "    </tr>\n",
       "  </tbody>\n",
       "</table>\n",
       "<p>1777 rows × 9 columns</p>\n",
       "</div>"
      ],
      "text/plain": [
       "                                           trait_pair  n_rare  n_overlap  \\\n",
       "0       19847924.0_EFO_0001645_GCST005195_EFO_0001645       6          0   \n",
       "1       19847924.0_EFO_0001645_GCST008370_EFO_0001645       6          0   \n",
       "2       19847924.0_EFO_0001645_GCST010479_EFO_0001645       6          0   \n",
       "3     19847924.0_EFO_0001645_GCST90132315_EFO_0001645       6          0   \n",
       "4     19847924.0_EFO_0001645_GCST90449059_EFO_0001645       6          0   \n",
       "...                                               ...     ...        ...   \n",
       "1772    37301943.0_EFO_0006941_GCST005829_EFO_0006941      30          0   \n",
       "1773    37301943.0_EFO_0006941_GCST005830_EFO_0006941      30          0   \n",
       "1774  37301943.0_EFO_0006941_GCST90007526_EFO_0006941      30          0   \n",
       "1775  37301943.0_EFO_0006941_GCST90095048_EFO_0006941      30          0   \n",
       "1776  37301943.0_EFO_0006941_GCST90258643_EFO_0006941      30          0   \n",
       "\n",
       "      RareLoci  Match                  TraitR                    TraitC  Gene  \\\n",
       "0            6    0.0  19847924.0_EFO_0001645    GCST005195_EFO_0001645   0.0   \n",
       "1            6    0.0  19847924.0_EFO_0001645    GCST008370_EFO_0001645   0.0   \n",
       "2            6    0.0  19847924.0_EFO_0001645    GCST010479_EFO_0001645   0.0   \n",
       "3            6    0.0  19847924.0_EFO_0001645  GCST90132315_EFO_0001645   0.0   \n",
       "4            6    0.0  19847924.0_EFO_0001645  GCST90449059_EFO_0001645   0.0   \n",
       "...        ...    ...                     ...                       ...   ...   \n",
       "1772        30    0.0  37301943.0_EFO_0006941    GCST005829_EFO_0006941   0.0   \n",
       "1773        30    0.0  37301943.0_EFO_0006941    GCST005830_EFO_0006941   0.0   \n",
       "1774        30    0.0  37301943.0_EFO_0006941  GCST90007526_EFO_0006941   0.0   \n",
       "1775        30    0.0  37301943.0_EFO_0006941  GCST90095048_EFO_0006941   0.0   \n",
       "1776        30    0.0  37301943.0_EFO_0006941  GCST90258643_EFO_0006941   0.0   \n",
       "\n",
       "      Loci  \n",
       "0      0.0  \n",
       "1      0.0  \n",
       "2      0.0  \n",
       "3      0.0  \n",
       "4      0.0  \n",
       "...    ...  \n",
       "1772   0.0  \n",
       "1773   0.0  \n",
       "1774   0.0  \n",
       "1775   0.0  \n",
       "1776   0.0  \n",
       "\n",
       "[1777 rows x 9 columns]"
      ]
     },
     "execution_count": 624,
     "metadata": {},
     "output_type": "execute_result"
    }
   ],
   "source": [
    "combo_df"
   ]
  },
  {
   "cell_type": "code",
   "execution_count": 626,
   "metadata": {
    "ExecuteTime": {
     "end_time": "2025-02-19T23:13:16.999749Z",
     "start_time": "2025-02-19T23:13:15.626202Z"
    }
   },
   "outputs": [
    {
     "data": {
      "image/png": "[encoded data removed]",
      "text/plain": [
       "<Figure size 1500x400 with 1 Axes>"
      ]
     },
     "metadata": {},
     "output_type": "display_data"
    }
   ],
   "source": [
    "_ = plt.figure(figsize=(15, 4))\n",
    "sns.barplot(combo_df.sort_values('Match', ascending=False).drop_duplicates(subset=['TraitR'])[0:100].melt(id_vars=['trait_pair'], value_vars=['n_rare', 'RareLoci']), \n",
    "            x='trait_pair', y='value', hue='variable', palette=['mediumseagreen', 'lightgreen'], hue_order=['n_rare', 'RareLoci'])\n",
    "sns.barplot(combo_df.sort_values('Match', ascending=False).drop_duplicates(subset=['TraitR'])[0:100].melt(id_vars=['trait_pair'], value_vars=['n_overlap', 'Match']), \n",
    "            x='trait_pair', y='value', hue='variable', \n",
    "            palette=['purple', 'orchid'], hue_order=['n_overlap', 'Match'])\n",
    "plt.xticks([])\n",
    "plt.yscale('log')"
   ]
  },
  {
   "cell_type": "markdown",
   "metadata": {},
   "source": [
    "# Loci overlap v1"
   ]
  },
  {
   "cell_type": "code",
   "execution_count": 562,
   "metadata": {
    "ExecuteTime": {
     "end_time": "2025-02-19T21:34:40.157892Z",
     "start_time": "2025-02-19T21:34:40.151941Z"
    }
   },
   "outputs": [
    {
     "data": {
      "text/plain": [
       "count    7.627800e+04\n",
       "mean     7.186642e+04\n",
       "std      1.164192e+05\n",
       "min      7.900000e+01\n",
       "25%      1.312000e+04\n",
       "50%      3.421400e+04\n",
       "75%      8.382825e+04\n",
       "max      2.473538e+06\n",
       "dtype: float64"
      ]
     },
     "execution_count": 562,
     "metadata": {},
     "output_type": "execute_result"
    }
   ],
   "source": [
    "(rv_gda['End'] - rv_gda['Start']).describe()"
   ]
  },
  {
   "cell_type": "code",
   "execution_count": 565,
   "metadata": {
    "ExecuteTime": {
     "end_time": "2025-02-19T21:35:29.026548Z",
     "start_time": "2025-02-19T21:35:29.023971Z"
    }
   },
   "outputs": [
    {
     "data": {
      "text/plain": [
       "83828.25"
      ]
     },
     "execution_count": 565,
     "metadata": {},
     "output_type": "execute_result"
    }
   ],
   "source": [
    "8.382825e+04"
   ]
  },
  {
   "cell_type": "markdown",
   "metadata": {},
   "source": [
    "## Overlapping RV loci"
   ]
  },
  {
   "cell_type": "code",
   "execution_count": 393,
   "metadata": {
    "ExecuteTime": {
     "end_time": "2025-02-19T18:12:23.198998Z",
     "start_time": "2025-02-19T18:12:23.196170Z"
    }
   },
   "outputs": [],
   "source": [
    "rv_only = trait_pairs.drop_duplicates(subset='TraitR')"
   ]
  },
  {
   "cell_type": "code",
   "execution_count": 451,
   "metadata": {
    "ExecuteTime": {
     "end_time": "2025-02-19T19:47:54.277210Z",
     "start_time": "2025-02-19T19:47:54.273614Z"
    }
   },
   "outputs": [],
   "source": []
  },
  {
   "cell_type": "code",
   "execution_count": 452,
   "metadata": {
    "ExecuteTime": {
     "end_time": "2025-02-19T19:48:02.133562Z",
     "start_time": "2025-02-19T19:47:56.290169Z"
    }
   },
   "outputs": [],
   "source": [
    "rv_only_overlap = {'GeneCount':{}, 'LociCount': {}}\n",
    "for trow in rv_only.iterrows():\n",
    "    gene, loci = get_rv_interval_counts(rv_gda, trow[1]['StudyR'], trow[1]['EFO'], window=50000)\n",
    "    rv_only_overlap['GeneCount'][trow[1]['TraitR']] = gene\n",
    "    rv_only_overlap['LociCount'][trow[1]['TraitR']] = loci\n",
    "rv_only_df = pd.DataFrame(rv_only_overlap)\n",
    "rv_only_df['SharedLoci'] = rv_only_df['GeneCount']-rv_only_df['LociCount']"
   ]
  },
  {
   "cell_type": "code",
   "execution_count": 455,
   "metadata": {
    "ExecuteTime": {
     "end_time": "2025-02-19T19:52:39.081007Z",
     "start_time": "2025-02-19T19:52:39.072653Z"
    },
    "code_folding": [
     0
    ],
    "run_control": {
     "marked": true
    }
   },
   "outputs": [],
   "source": [
    "def collapse_gene_regions(df, window):\n",
    "    \"\"\"\n",
    "    Collapses overlapping gene regions (extended by the given window) into a single region and\n",
    "    returns the total number of distinct regions along with their bounds.\n",
    "    \n",
    "    Parameters:\n",
    "      df (pd.DataFrame): DataFrame with three columns: \n",
    "                         'gene' (gene identifier), 'start' (start position), 'end' (end position).\n",
    "      window (int or float): The window size to extend each region on either side.\n",
    "    \n",
    "    Returns:\n",
    "      tuple: A tuple (num_regions, merged_intervals) where:\n",
    "             - num_regions (int): The number of collapsed regions.\n",
    "             - merged_intervals (list of lists): Each sublist contains [start, end] bounds of a merged region.\n",
    "    \"\"\"\n",
    "    # Create effective intervals by extending each region\n",
    "    df = df.copy()\n",
    "    df['eff_start'] = df['Start'] - window\n",
    "    df['eff_end'] = df['End'] + window\n",
    "\n",
    "    # Sort intervals by the effective start position\n",
    "    df = df.sort_values('eff_start')\n",
    "    \n",
    "    # List to store merged intervals\n",
    "    merged_intervals = []\n",
    "    \n",
    "    # Iterate through each effective interval\n",
    "    for _, row in df.iterrows():\n",
    "        current_start, current_end = row['eff_start'], row['eff_end']\n",
    "        \n",
    "        # If there are no intervals yet, add the first one\n",
    "        if not merged_intervals:\n",
    "            merged_intervals.append([current_start, current_end])\n",
    "        else:\n",
    "            # Get the last merged interval\n",
    "            last_interval = merged_intervals[-1]\n",
    "            # If current interval overlaps with the last one, merge them\n",
    "            if current_start <= last_interval[1]:\n",
    "                last_interval[1] = max(last_interval[1], current_end)\n",
    "            else:\n",
    "                # No overlap, so add this as a new interval\n",
    "                merged_intervals.append([current_start, current_end])\n",
    "    \n",
    "    return merged_intervals\n",
    "\n",
    "\n",
    "def get_rv_interval_counts(rv_gda, study, trait, id_col='Ensembl ID', chr_col='Chromosome', start_col='Start', \n",
    "                     end_col='End', window=50000):\n",
    "    assoc = rv_gda[(rv_gda.TRAIT_CODE==trait) & (rv_gda.PMID == study)].drop_duplicates(subset=[id_col])\n",
    "    gene_count = len(assoc)\n",
    "    loci_count = 0\n",
    "    chr_counts = assoc[chr_col].value_counts()\n",
    "    single_gene_chr = chr_counts[chr_counts == 1].index.values\n",
    "    loci_count += len(single_gene_chr)\n",
    "    multiple_gene_chr = chr_counts[chr_counts > 1].index.values\n",
    "    if len(multiple_gene_chr) > 0:\n",
    "        for CHR in multiple_gene_chr:\n",
    "            chr_assoc = assoc[assoc[chr_col]==CHR].sort_values(by=start_col)\n",
    "            intervals = collapse_gene_regions(chr_assoc, window=50000)\n",
    "            loci_count += len(intervals)\n",
    "    return gene_count, loci_count\n"
   ]
  },
  {
   "cell_type": "markdown",
   "metadata": {},
   "source": [
    "## Overlapping CV loci"
   ]
  },
  {
   "cell_type": "code",
   "execution_count": 418,
   "metadata": {
    "ExecuteTime": {
     "end_time": "2025-02-19T19:18:28.614902Z",
     "start_time": "2025-02-19T19:18:28.608855Z"
    }
   },
   "outputs": [
    {
     "data": {
      "text/html": [
       "<div>\n",
       "<style scoped>\n",
       "    .dataframe tbody tr th:only-of-type {\n",
       "        vertical-align: middle;\n",
       "    }\n",
       "\n",
       "    .dataframe tbody tr th {\n",
       "        vertical-align: top;\n",
       "    }\n",
       "\n",
       "    .dataframe thead th {\n",
       "        text-align: right;\n",
       "    }\n",
       "</style>\n",
       "<table border=\"1\" class=\"dataframe\">\n",
       "  <thead>\n",
       "    <tr style=\"text-align: right;\">\n",
       "      <th></th>\n",
       "      <th>TraitR</th>\n",
       "      <th>TraitC</th>\n",
       "      <th>StudyR</th>\n",
       "      <th>StudyC</th>\n",
       "      <th>EFO</th>\n",
       "    </tr>\n",
       "  </thead>\n",
       "  <tbody>\n",
       "    <tr>\n",
       "      <th>0</th>\n",
       "      <td>34375979.0_EFO_0004631</td>\n",
       "      <td>GCST90000618_EFO_0004631</td>\n",
       "      <td>34375979.0</td>\n",
       "      <td>GCST90000618</td>\n",
       "      <td>EFO_0004631</td>\n",
       "    </tr>\n",
       "    <tr>\n",
       "      <th>1</th>\n",
       "      <td>34375979.0_MONDO_0002009</td>\n",
       "      <td>GCST009979_MONDO_0002009</td>\n",
       "      <td>34375979.0</td>\n",
       "      <td>GCST009979</td>\n",
       "      <td>MONDO_0002009</td>\n",
       "    </tr>\n",
       "  </tbody>\n",
       "</table>\n",
       "</div>"
      ],
      "text/plain": [
       "                     TraitR                    TraitC      StudyR  \\\n",
       "0    34375979.0_EFO_0004631  GCST90000618_EFO_0004631  34375979.0   \n",
       "1  34375979.0_MONDO_0002009  GCST009979_MONDO_0002009  34375979.0   \n",
       "\n",
       "         StudyC            EFO  \n",
       "0  GCST90000618    EFO_0004631  \n",
       "1    GCST009979  MONDO_0002009  "
      ]
     },
     "execution_count": 418,
     "metadata": {},
     "output_type": "execute_result"
    }
   ],
   "source": [
    "cv_only = trait_pairs.drop_duplicates(subset='TraitC')\n",
    "cv_only.head(2)"
   ]
  },
  {
   "cell_type": "code",
   "execution_count": 419,
   "metadata": {
    "ExecuteTime": {
     "end_time": "2025-02-19T19:19:06.744334Z",
     "start_time": "2025-02-19T19:19:06.736314Z"
    }
   },
   "outputs": [
    {
     "data": {
      "text/html": [
       "<div>\n",
       "<style scoped>\n",
       "    .dataframe tbody tr th:only-of-type {\n",
       "        vertical-align: middle;\n",
       "    }\n",
       "\n",
       "    .dataframe tbody tr th {\n",
       "        vertical-align: top;\n",
       "    }\n",
       "\n",
       "    .dataframe thead th {\n",
       "        text-align: right;\n",
       "    }\n",
       "</style>\n",
       "<table border=\"1\" class=\"dataframe\">\n",
       "  <thead>\n",
       "    <tr style=\"text-align: right;\">\n",
       "      <th></th>\n",
       "      <th>PUBMEDID</th>\n",
       "      <th>DATE</th>\n",
       "      <th>DISEASE/TRAIT</th>\n",
       "      <th>MAPPED_GENE</th>\n",
       "      <th>SNP_GENE_IDS</th>\n",
       "      <th>SNP_ID_CURRENT</th>\n",
       "      <th>INTERGENIC</th>\n",
       "      <th>P-VALUE</th>\n",
       "      <th>OR or BETA</th>\n",
       "      <th>MAPPED_TRAIT</th>\n",
       "      <th>MAPPED_TRAIT_URI</th>\n",
       "      <th>STUDY ACCESSION</th>\n",
       "      <th>TRAIT_CODE</th>\n",
       "      <th>rsID</th>\n",
       "    </tr>\n",
       "  </thead>\n",
       "  <tbody>\n",
       "    <tr>\n",
       "      <th>0</th>\n",
       "      <td>25673412</td>\n",
       "      <td>2015-02-12</td>\n",
       "      <td>Hip circumference adjusted for BMI</td>\n",
       "      <td>TSEN15</td>\n",
       "      <td>ENSG00000198860</td>\n",
       "      <td>1046934.0</td>\n",
       "      <td>0.0</td>\n",
       "      <td>6.000000e-10</td>\n",
       "      <td>0.0232</td>\n",
       "      <td>BMI-adjusted hip circumference</td>\n",
       "      <td>http://www.ebi.ac.uk/efo/EFO_0008039</td>\n",
       "      <td>GCST004067</td>\n",
       "      <td>EFO_0008039</td>\n",
       "      <td>rs1046934</td>\n",
       "    </tr>\n",
       "  </tbody>\n",
       "</table>\n",
       "</div>"
      ],
      "text/plain": [
       "   PUBMEDID        DATE                       DISEASE/TRAIT MAPPED_GENE  \\\n",
       "0  25673412  2015-02-12  Hip circumference adjusted for BMI      TSEN15   \n",
       "\n",
       "      SNP_GENE_IDS  SNP_ID_CURRENT  INTERGENIC       P-VALUE  OR or BETA  \\\n",
       "0  ENSG00000198860       1046934.0         0.0  6.000000e-10      0.0232   \n",
       "\n",
       "                     MAPPED_TRAIT                      MAPPED_TRAIT_URI  \\\n",
       "0  BMI-adjusted hip circumference  http://www.ebi.ac.uk/efo/EFO_0008039   \n",
       "\n",
       "  STUDY ACCESSION   TRAIT_CODE       rsID  \n",
       "0      GCST004067  EFO_0008039  rs1046934  "
      ]
     },
     "execution_count": 419,
     "metadata": {},
     "output_type": "execute_result"
    }
   ],
   "source": [
    "cv_gda.head(1)"
   ]
  },
  {
   "cell_type": "code",
   "execution_count": 447,
   "metadata": {
    "ExecuteTime": {
     "end_time": "2025-02-19T19:45:30.586354Z",
     "start_time": "2025-02-19T19:44:23.128451Z"
    }
   },
   "outputs": [],
   "source": [
    "cv_only_overlap = {'SNPCount':{}, 'LociCount': {}}\n",
    "for i, trow in enumerate(cv_only.iterrows()):\n",
    "    snp, loci = get_cv_interval_counts(cv_gda, trow[1]['StudyC'], trow[1]['EFO'], window=50000)\n",
    "    cv_only_overlap['SNPCount'][trow[1]['TraitC']] = snp\n",
    "    cv_only_overlap['LociCount'][trow[1]['TraitC']] = loci\n",
    "cv_only_df = pd.DataFrame(cv_only_overlap)\n",
    "cv_only_df['SharedLoci'] = cv_only_df['SNPCount']-cv_only_df['LociCount']"
   ]
  },
  {
   "cell_type": "code",
   "execution_count": 453,
   "metadata": {
    "ExecuteTime": {
     "end_time": "2025-02-19T19:48:04.241806Z",
     "start_time": "2025-02-19T19:48:04.236951Z"
    }
   },
   "outputs": [
    {
     "data": {
      "text/html": [
       "<div>\n",
       "<style scoped>\n",
       "    .dataframe tbody tr th:only-of-type {\n",
       "        vertical-align: middle;\n",
       "    }\n",
       "\n",
       "    .dataframe tbody tr th {\n",
       "        vertical-align: top;\n",
       "    }\n",
       "\n",
       "    .dataframe thead th {\n",
       "        text-align: right;\n",
       "    }\n",
       "</style>\n",
       "<table border=\"1\" class=\"dataframe\">\n",
       "  <thead>\n",
       "    <tr style=\"text-align: right;\">\n",
       "      <th></th>\n",
       "      <th>SNPCount</th>\n",
       "      <th>LociCount</th>\n",
       "      <th>SharedLoci</th>\n",
       "    </tr>\n",
       "  </thead>\n",
       "  <tbody>\n",
       "    <tr>\n",
       "      <th>GCST90027168_HP_0000023</th>\n",
       "      <td>1049</td>\n",
       "      <td>40</td>\n",
       "      <td>1009</td>\n",
       "    </tr>\n",
       "  </tbody>\n",
       "</table>\n",
       "</div>"
      ],
      "text/plain": [
       "                         SNPCount  LociCount  SharedLoci\n",
       "GCST90027168_HP_0000023      1049         40        1009"
      ]
     },
     "execution_count": 453,
     "metadata": {},
     "output_type": "execute_result"
    }
   ],
   "source": [
    "cv_only_df[cv_only_df.SharedLoci==1009]"
   ]
  },
  {
   "cell_type": "code",
   "execution_count": 456,
   "metadata": {
    "ExecuteTime": {
     "end_time": "2025-02-19T19:52:40.841642Z",
     "start_time": "2025-02-19T19:52:40.834088Z"
    },
    "code_folding": [],
    "run_control": {
     "marked": true
    }
   },
   "outputs": [],
   "source": [
    "def get_cv_interval_counts(cv_gda, study, trait, id_col='rsID', chr_col='chr38', pos_col='pos38', window=50000):\n",
    "    assoc = cv_gda[(cv_gda['STUDY ACCESSION']==study) & (cv_gda['TRAIT_CODE']==trait)].drop_duplicates(subset=id_col)\n",
    "    assoc = assoc.merge(all_snps, right_index=True, left_on=id_col, how='left').drop_duplicates(subset=[id_col])\n",
    "    snp_count =len(assoc)\n",
    "    loci_count = 0\n",
    "    chr_counts = assoc[chr_col].value_counts()\n",
    "    single_gene_chr = chr_counts[chr_counts == 1].index.values\n",
    "    loci_count += len(single_gene_chr)\n",
    "    multiple_gene_chr = chr_counts[chr_counts > 1].index.values\n",
    "    if len(multiple_gene_chr) > 0:\n",
    "        for CHR in multiple_gene_chr:\n",
    "            chr_assoc = assoc[assoc[chr_col]==CHR].sort_values(by=pos_col)\n",
    "            intervals = collapse_positions(chr_assoc, window=window)\n",
    "            loci_count += len(intervals)\n",
    "    return snp_count, loci_count\n",
    "\n",
    "def get_cv_intervals(cv_gda, study, trait, id_col='rsID', chr_col='chr38', pos_col='pos38', window=50000):\n",
    "    assoc = cv_gda[(cv_gda['STUDY ACCESSION']==study) & (cv_gda['TRAIT_CODE']==trait)].drop_duplicates(subset=id_col)\n",
    "    assoc = assoc.merge(all_snps, right_index=True, left_on=id_col, how='left').drop_duplicates(subset=[id_col])\n",
    "    all_intervals = {}\n",
    "    chr_counts = assoc[chr_col].value_counts()\n",
    "    for CHR in chr_counts.index.values:\n",
    "        chr_assoc = assoc[assoc[chr_col]==CHR].sort_values(by=pos_col)\n",
    "        intervals = collapse_positions(chr_assoc, window=window)\n",
    "        all_intervals[CHR] = intervals\n",
    "    return all_intervals\n",
    "\n",
    "\n",
    "def collapse_positions(df, window):\n",
    "    \"\"\"\n",
    "    Collapse individual positions into intervals if they are within the given window distance.\n",
    "\n",
    "    For positions that are close enough (i.e. the gap between successive positions is less than or equal\n",
    "    to the window), the function groups them into a merged interval. If only one position is present in\n",
    "    a group, that position is returned as is.\n",
    "\n",
    "    Parameters:\n",
    "      df (pd.DataFrame): A DataFrame with a single column 'position' containing numeric positions.\n",
    "      window (int or float): The maximum allowed gap between positions to consider them part of the same group.\n",
    "\n",
    "    Returns:\n",
    "      list: A list where each element is either a single position (if isolated) or a tuple (start, end)\n",
    "            representing the merged interval of positions.\n",
    "    \"\"\"\n",
    "    # Sort the positions in ascending order.\n",
    "    positions = sorted(df['pos38'])\n",
    "    if not positions:\n",
    "        return []\n",
    "    \n",
    "    merged = []\n",
    "    # Initialize the first group with the first position.\n",
    "    current_start = positions[0]\n",
    "    current_end = positions[0]\n",
    "    group_count = 1  # To track how many positions are in the current group.\n",
    "\n",
    "    for pos in positions[1:]:\n",
    "        # If the gap between the current position and the last one in the group is within the window,\n",
    "        # include it in the group.\n",
    "        if pos - current_end <= window:\n",
    "            current_end = pos  # Extend the group to include the new position.\n",
    "            group_count += 1\n",
    "        else:\n",
    "            # Finalize the current group.\n",
    "            if group_count == 1:\n",
    "                merged.append(current_start)\n",
    "            else:\n",
    "                merged.append((current_start, current_end))\n",
    "            # Start a new group with the current position.\n",
    "            current_start = pos\n",
    "            current_end = pos\n",
    "            group_count = 1\n",
    "\n",
    "    # Append the final group.\n",
    "    if group_count == 1:\n",
    "        merged.append(current_start)\n",
    "    else:\n",
    "        merged.append((current_start, current_end))\n",
    "    \n",
    "    return merged"
   ]
  },
  {
   "cell_type": "markdown",
   "metadata": {},
   "source": [
    "## Shared loci"
   ]
  },
  {
   "cell_type": "code",
   "execution_count": null,
   "metadata": {},
   "outputs": [],
   "source": [
    "def get_rv_intervals(rv_gda, study, trait, id_col='Ensembl ID', chr_col='Chromosome', start_col='Start', \n",
    "                     end_col='End', window=50000):\n",
    "    assoc = rv_gda[(rv_gda.TRAIT_CODE==trait) & (rv_gda.PMID == study)].drop_duplicates(subset=[id_col])\n",
    "    all_intervals = {}\n",
    "    chr_counts = assoc[chr_col].value_counts()\n",
    "    for CHR in chr_counts.index.values:\n",
    "        chr_assoc = assoc[assoc[chr_col]==CHR].sort_values(by=start_col)\n",
    "        intervals = collapse_gene_regions(chr_assoc, window=50000)\n",
    "        all_intervals[CHR] = intervals\n",
    "    return all_intervals"
   ]
  },
  {
   "cell_type": "code",
   "execution_count": 550,
   "metadata": {
    "ExecuteTime": {
     "end_time": "2025-02-19T21:13:51.521019Z",
     "start_time": "2025-02-19T21:13:51.516462Z"
    }
   },
   "outputs": [],
   "source": [
    "def find_snp_matches(intervals, snp_df):\n",
    "    res = []\n",
    "    for CHR, ranges in intervals.items():\n",
    "        chr_df = snps_in_intervals(intervals[CHR],snp_df[snp_df['chr38']==f'chr{CHR}'])\n",
    "        chr_df['Chromosome'] = CHR\n",
    "        res.append(chr_df)\n",
    "    return pd.concat(res)\n",
    "    \n",
    "\n",
    "def snps_in_intervals(intervals, snp_df):\n",
    "    \"\"\"\n",
    "    For each interval in a list of intervals, assess whether any SNP positions\n",
    "    (given in the 'pos38' column of snp_df) fall within the interval.\n",
    "    \n",
    "    Parameters:\n",
    "      intervals (list of lists): A list of intervals, where each interval is \n",
    "                                 [start, end].\n",
    "      snp_df (pd.DataFrame): DataFrame containing a column 'pos38' with SNP positions.\n",
    "    \n",
    "    Returns:\n",
    "      pd.DataFrame: A DataFrame with columns 'start', 'end', and 'match', where 'match'\n",
    "                    is True if any SNP falls within the interval, otherwise False.\n",
    "    \"\"\"\n",
    "    # Convert the SNP positions to a sorted NumPy array for efficient searching.\n",
    "    snp_positions = np.sort(snp_df['pos38'].to_numpy())\n",
    "    \n",
    "    results = []\n",
    "    if len(snp_df) == 0:\n",
    "        for start, end in intervals:\n",
    "            results.append({'start': start, 'end': end, 'match': False}) \n",
    "    else: \n",
    "        for start, end in intervals:\n",
    "            # Find the index of the first SNP >= start\n",
    "            left_idx = np.searchsorted(snp_positions, start, side='left')\n",
    "            # Find the index of the first SNP > end\n",
    "            right_idx = np.searchsorted(snp_positions, end, side='right')\n",
    "\n",
    "            # If left_idx is less than right_idx, there is at least one SNP in the interval.\n",
    "            match = left_idx < right_idx\n",
    "            results.append({'start': start, 'end': end, 'match': match})\n",
    "    return pd.DataFrame(results)\n"
   ]
  },
  {
   "cell_type": "code",
   "execution_count": 457,
   "metadata": {
    "ExecuteTime": {
     "end_time": "2025-02-19T19:56:15.719919Z",
     "start_time": "2025-02-19T19:56:07.239832Z"
    }
   },
   "outputs": [
    {
     "name": "stderr",
     "output_type": "stream",
     "text": [
      "529it [00:08, 62.42it/s]\n"
     ]
    }
   ],
   "source": [
    "rv_intervals = {}\n",
    "for trow in tqdm(rv_only.iterrows()):\n",
    "    rv_intervals[trow[1]['TraitR']] = get_rv_intervals(rv_gda, trow[1]['StudyR'], trow[1]['EFO'], window=50000)"
   ]
  },
  {
   "cell_type": "code",
   "execution_count": 551,
   "metadata": {
    "ExecuteTime": {
     "end_time": "2025-02-19T21:16:05.990601Z",
     "start_time": "2025-02-19T21:14:02.230767Z"
    }
   },
   "outputs": [
    {
     "name": "stderr",
     "output_type": "stream",
     "text": [
      "1809it [02:03, 14.63it/s]\n"
     ]
    }
   ],
   "source": [
    "overlapping_loci = []\n",
    "for i, pair in tqdm(enumerate(trait_pairs.iterrows())):\n",
    "    snp_df = cv_gda[(cv_gda['STUDY ACCESSION']==pair[1]['StudyC']) & (cv_gda['TRAIT_CODE']==pair[1]['EFO'])].drop_duplicates(subset='rsID')\n",
    "    snp_df = snp_df.merge(all_snps, right_index=True, left_on='rsID', how='left').drop_duplicates(subset=['rsID'])\n",
    "    pair_df = find_snp_matches(rv_intervals[pair[1]['TraitR']], snp_df)\n",
    "    pair_df['TraitR'] = pair[1]['TraitR']\n",
    "    pair_df['TraitC'] = pair[1]['TraitC']\n",
    "    overlapping_loci.append(pair_df)\n",
    "overlaps = pd.concat(overlapping_loci)"
   ]
  },
  {
   "cell_type": "code",
   "execution_count": 553,
   "metadata": {
    "ExecuteTime": {
     "end_time": "2025-02-19T21:18:22.929934Z",
     "start_time": "2025-02-19T21:18:22.906580Z"
    }
   },
   "outputs": [],
   "source": [
    "overlap_counts = overlaps.sort_values(['Chromosome', 'start']).groupby(['TraitR', 'TraitC']).match.value_counts().reset_index().pivot_table(index=['TraitR', 'TraitC'], values='count', columns='match', fill_value=0).reset_index()"
   ]
  },
  {
   "cell_type": "code",
   "execution_count": 558,
   "metadata": {
    "ExecuteTime": {
     "end_time": "2025-02-19T21:19:18.334870Z",
     "start_time": "2025-02-19T21:19:18.332695Z"
    }
   },
   "outputs": [],
   "source": [
    "overlap_counts.columns = ['TraitR', 'TraitC', 'NoMatch', 'Match']"
   ]
  },
  {
   "cell_type": "code",
   "execution_count": 559,
   "metadata": {
    "ExecuteTime": {
     "end_time": "2025-02-19T21:19:23.583743Z",
     "start_time": "2025-02-19T21:19:23.581537Z"
    }
   },
   "outputs": [],
   "source": [
    "rv_only_df.columns = ['GeneCount', 'RareLoci', 'RareSharedLoci']\n",
    "cv_only_df.columns = ['SNPCount', 'CommonLoci', 'CommonSharedLoci']"
   ]
  },
  {
   "cell_type": "code",
   "execution_count": 560,
   "metadata": {
    "ExecuteTime": {
     "end_time": "2025-02-19T21:19:28.799009Z",
     "start_time": "2025-02-19T21:19:28.793442Z"
    }
   },
   "outputs": [],
   "source": [
    "overlap_df = overlap_counts.merge(rv_only_df, left_on='TraitR', right_index=True, how='outer')\n",
    "overlap_df = overlap_df.merge(cv_only_df, left_on='TraitC', right_index=True, how='outer')"
   ]
  },
  {
   "cell_type": "code",
   "execution_count": 574,
   "metadata": {
    "ExecuteTime": {
     "end_time": "2025-02-19T21:47:24.457868Z",
     "start_time": "2025-02-19T21:47:24.454541Z"
    }
   },
   "outputs": [],
   "source": [
    "overlap_df['trait_pair'] = overlap_df['TraitR'] + '_' + overlap_df['TraitC']"
   ]
  },
  {
   "cell_type": "code",
   "execution_count": 567,
   "metadata": {
    "ExecuteTime": {
     "end_time": "2025-02-19T21:42:58.579632Z",
     "start_time": "2025-02-19T21:42:58.574268Z"
    }
   },
   "outputs": [
    {
     "data": {
      "text/plain": [
       "count    1777.000000\n",
       "mean        0.142797\n",
       "std         0.213613\n",
       "min         0.000000\n",
       "25%         0.000000\n",
       "50%         0.000000\n",
       "75%         0.250000\n",
       "max         1.000000\n",
       "dtype: float64"
      ]
     },
     "execution_count": 567,
     "metadata": {},
     "output_type": "execute_result"
    }
   ],
   "source": [
    "(overlap_df['Match'] / (overlap_df['Match']+overlap_df['NoMatch'])).describe()"
   ]
  },
  {
   "cell_type": "markdown",
   "metadata": {},
   "source": [
    "## combined counts"
   ]
  },
  {
   "cell_type": "code",
   "execution_count": 569,
   "metadata": {
    "ExecuteTime": {
     "end_time": "2025-02-19T21:44:23.145757Z",
     "start_time": "2025-02-19T21:44:23.130068Z"
    }
   },
   "outputs": [],
   "source": [
    "hgeom_df = pd.read_csv('/cellar/users/snwright/Data/RareCommon/outputs/overlap/rvc_overlap_results_Jan_2025.txt', sep='\\t',\n",
    "                     header=None, names=['trait_pair', 'param_set', 'n_common', 'n_rare', 'n_overlap', 'background', 'pval'])\n",
    "import re\n",
    "def map_trait_code(code):\n",
    "    efo = next((match.group() for match in re.finditer(r'EFO_\\d+', code)), None)\n",
    "    if efo is not None:\n",
    "        return efo\n",
    "    mondo = next((match.group() for match in re.finditer(r'MONDO_\\d+', code)), None)\n",
    "    if mondo is not None:\n",
    "        return mondo\n",
    "    hp = next((match.group() for match in re.finditer(r'HP_\\d+', code)), None)\n",
    "    if hp is not None:\n",
    "        return hp\n",
    "    go = next((match.group() for match in re.finditer(r'GO_\\d+', code)), None)\n",
    "    if go is not None:\n",
    "        return go\n",
    "    return None\n",
    "hgeom_df['EFO'] = hgeom_df.trait_pair.apply(lambda x: map_trait_code(x))\n",
    "hgeom_df['StudyC'] = hgeom_df.trait_pair.apply(lambda x: next((match.group() for match in re.finditer(r'GCST\\d+', x)), None))\n",
    "hgeom_df['StudyR'] = hgeom_df.trait_pair.apply(lambda x: x.split('_')[0])"
   ]
  },
  {
   "cell_type": "code",
   "execution_count": 595,
   "metadata": {
    "ExecuteTime": {
     "end_time": "2025-02-19T22:24:41.013656Z",
     "start_time": "2025-02-19T22:24:41.008266Z"
    }
   },
   "outputs": [],
   "source": [
    "combo_df = hgeom_df.loc[:, ('trait_pair', 'n_rare', 'n_overlap',)].merge(overlap_df.loc[:, ('trait_pair', 'RareLoci', 'Match', 'TraitR', 'TraitC')], on='trait_pair')"
   ]
  },
  {
   "cell_type": "code",
   "execution_count": 596,
   "metadata": {
    "ExecuteTime": {
     "end_time": "2025-02-19T22:24:46.267269Z",
     "start_time": "2025-02-19T22:24:46.264374Z"
    }
   },
   "outputs": [],
   "source": [
    "combo_df['Gene'] = combo_df['n_overlap']/combo_df['n_rare']\n",
    "combo_df['Loci'] = combo_df['Match']/combo_df['RareLoci']"
   ]
  },
  {
   "cell_type": "code",
   "execution_count": 597,
   "metadata": {
    "ExecuteTime": {
     "end_time": "2025-02-19T22:24:51.791696Z",
     "start_time": "2025-02-19T22:24:51.468992Z"
    }
   },
   "outputs": [
    {
     "data": {
      "image/png": "[encoded data removed]",
      "text/plain": [
       "<Figure size 640x480 with 1 Axes>"
      ]
     },
     "metadata": {},
     "output_type": "display_data"
    }
   ],
   "source": [
    "sns.scatterplot(combo_df, x='n_rare', y='RareLoci')\n",
    "plt.yscale('log')\n",
    "plt.xscale('log')"
   ]
  },
  {
   "cell_type": "code",
   "execution_count": 584,
   "metadata": {
    "ExecuteTime": {
     "end_time": "2025-02-19T21:50:44.893043Z",
     "start_time": "2025-02-19T21:50:44.467774Z"
    }
   },
   "outputs": [
    {
     "data": {
      "text/plain": [
       "<Axes: xlabel='Gene', ylabel='Loci'>"
      ]
     },
     "execution_count": 584,
     "metadata": {},
     "output_type": "execute_result"
    },
    {
     "data": {
      "image/png": "[encoded data removed]",
      "text/plain": [
       "<Figure size 640x480 with 1 Axes>"
      ]
     },
     "metadata": {},
     "output_type": "display_data"
    }
   ],
   "source": [
    "sns.scatterplot(combo_df, x='Gene', y='Loci')"
   ]
  },
  {
   "cell_type": "code",
   "execution_count": 594,
   "metadata": {
    "ExecuteTime": {
     "end_time": "2025-02-19T22:24:21.552868Z",
     "start_time": "2025-02-19T22:24:21.544244Z"
    }
   },
   "outputs": [
    {
     "data": {
      "text/html": [
       "<div>\n",
       "<style scoped>\n",
       "    .dataframe tbody tr th:only-of-type {\n",
       "        vertical-align: middle;\n",
       "    }\n",
       "\n",
       "    .dataframe tbody tr th {\n",
       "        vertical-align: top;\n",
       "    }\n",
       "\n",
       "    .dataframe thead th {\n",
       "        text-align: right;\n",
       "    }\n",
       "</style>\n",
       "<table border=\"1\" class=\"dataframe\">\n",
       "  <thead>\n",
       "    <tr style=\"text-align: right;\">\n",
       "      <th></th>\n",
       "      <th>trait_pair</th>\n",
       "      <th>n_rare</th>\n",
       "      <th>n_overlap</th>\n",
       "      <th>RareLoci</th>\n",
       "      <th>Match</th>\n",
       "      <th>Gene</th>\n",
       "      <th>Loci</th>\n",
       "    </tr>\n",
       "  </thead>\n",
       "  <tbody>\n",
       "    <tr>\n",
       "      <th>0</th>\n",
       "      <td>19847924.0_EFO_0001645_GCST005195_EFO_0001645</td>\n",
       "      <td>6</td>\n",
       "      <td>0</td>\n",
       "      <td>6</td>\n",
       "      <td>0.0</td>\n",
       "      <td>0.0</td>\n",
       "      <td>0.000000</td>\n",
       "    </tr>\n",
       "    <tr>\n",
       "      <th>1</th>\n",
       "      <td>19847924.0_EFO_0001645_GCST008370_EFO_0001645</td>\n",
       "      <td>6</td>\n",
       "      <td>0</td>\n",
       "      <td>6</td>\n",
       "      <td>0.0</td>\n",
       "      <td>0.0</td>\n",
       "      <td>0.000000</td>\n",
       "    </tr>\n",
       "    <tr>\n",
       "      <th>2</th>\n",
       "      <td>19847924.0_EFO_0001645_GCST010479_EFO_0001645</td>\n",
       "      <td>6</td>\n",
       "      <td>0</td>\n",
       "      <td>6</td>\n",
       "      <td>0.0</td>\n",
       "      <td>0.0</td>\n",
       "      <td>0.000000</td>\n",
       "    </tr>\n",
       "    <tr>\n",
       "      <th>3</th>\n",
       "      <td>19847924.0_EFO_0001645_GCST90132315_EFO_0001645</td>\n",
       "      <td>6</td>\n",
       "      <td>0</td>\n",
       "      <td>6</td>\n",
       "      <td>0.0</td>\n",
       "      <td>0.0</td>\n",
       "      <td>0.000000</td>\n",
       "    </tr>\n",
       "    <tr>\n",
       "      <th>4</th>\n",
       "      <td>19847924.0_EFO_0001645_GCST90449059_EFO_0001645</td>\n",
       "      <td>6</td>\n",
       "      <td>0</td>\n",
       "      <td>6</td>\n",
       "      <td>1.0</td>\n",
       "      <td>0.0</td>\n",
       "      <td>0.166667</td>\n",
       "    </tr>\n",
       "    <tr>\n",
       "      <th>...</th>\n",
       "      <td>...</td>\n",
       "      <td>...</td>\n",
       "      <td>...</td>\n",
       "      <td>...</td>\n",
       "      <td>...</td>\n",
       "      <td>...</td>\n",
       "      <td>...</td>\n",
       "    </tr>\n",
       "    <tr>\n",
       "      <th>1772</th>\n",
       "      <td>37301943.0_EFO_0006941_GCST005829_EFO_0006941</td>\n",
       "      <td>30</td>\n",
       "      <td>0</td>\n",
       "      <td>30</td>\n",
       "      <td>1.0</td>\n",
       "      <td>0.0</td>\n",
       "      <td>0.033333</td>\n",
       "    </tr>\n",
       "    <tr>\n",
       "      <th>1773</th>\n",
       "      <td>37301943.0_EFO_0006941_GCST005830_EFO_0006941</td>\n",
       "      <td>30</td>\n",
       "      <td>0</td>\n",
       "      <td>30</td>\n",
       "      <td>1.0</td>\n",
       "      <td>0.0</td>\n",
       "      <td>0.033333</td>\n",
       "    </tr>\n",
       "    <tr>\n",
       "      <th>1774</th>\n",
       "      <td>37301943.0_EFO_0006941_GCST90007526_EFO_0006941</td>\n",
       "      <td>30</td>\n",
       "      <td>0</td>\n",
       "      <td>30</td>\n",
       "      <td>0.0</td>\n",
       "      <td>0.0</td>\n",
       "      <td>0.000000</td>\n",
       "    </tr>\n",
       "    <tr>\n",
       "      <th>1775</th>\n",
       "      <td>37301943.0_EFO_0006941_GCST90095048_EFO_0006941</td>\n",
       "      <td>30</td>\n",
       "      <td>0</td>\n",
       "      <td>30</td>\n",
       "      <td>0.0</td>\n",
       "      <td>0.0</td>\n",
       "      <td>0.000000</td>\n",
       "    </tr>\n",
       "    <tr>\n",
       "      <th>1776</th>\n",
       "      <td>37301943.0_EFO_0006941_GCST90258643_EFO_0006941</td>\n",
       "      <td>30</td>\n",
       "      <td>0</td>\n",
       "      <td>30</td>\n",
       "      <td>0.0</td>\n",
       "      <td>0.0</td>\n",
       "      <td>0.000000</td>\n",
       "    </tr>\n",
       "  </tbody>\n",
       "</table>\n",
       "<p>1777 rows × 7 columns</p>\n",
       "</div>"
      ],
      "text/plain": [
       "                                           trait_pair  n_rare  n_overlap  \\\n",
       "0       19847924.0_EFO_0001645_GCST005195_EFO_0001645       6          0   \n",
       "1       19847924.0_EFO_0001645_GCST008370_EFO_0001645       6          0   \n",
       "2       19847924.0_EFO_0001645_GCST010479_EFO_0001645       6          0   \n",
       "3     19847924.0_EFO_0001645_GCST90132315_EFO_0001645       6          0   \n",
       "4     19847924.0_EFO_0001645_GCST90449059_EFO_0001645       6          0   \n",
       "...                                               ...     ...        ...   \n",
       "1772    37301943.0_EFO_0006941_GCST005829_EFO_0006941      30          0   \n",
       "1773    37301943.0_EFO_0006941_GCST005830_EFO_0006941      30          0   \n",
       "1774  37301943.0_EFO_0006941_GCST90007526_EFO_0006941      30          0   \n",
       "1775  37301943.0_EFO_0006941_GCST90095048_EFO_0006941      30          0   \n",
       "1776  37301943.0_EFO_0006941_GCST90258643_EFO_0006941      30          0   \n",
       "\n",
       "      RareLoci  Match  Gene      Loci  \n",
       "0            6    0.0   0.0  0.000000  \n",
       "1            6    0.0   0.0  0.000000  \n",
       "2            6    0.0   0.0  0.000000  \n",
       "3            6    0.0   0.0  0.000000  \n",
       "4            6    1.0   0.0  0.166667  \n",
       "...        ...    ...   ...       ...  \n",
       "1772        30    1.0   0.0  0.033333  \n",
       "1773        30    1.0   0.0  0.033333  \n",
       "1774        30    0.0   0.0  0.000000  \n",
       "1775        30    0.0   0.0  0.000000  \n",
       "1776        30    0.0   0.0  0.000000  \n",
       "\n",
       "[1777 rows x 7 columns]"
      ]
     },
     "execution_count": 594,
     "metadata": {},
     "output_type": "execute_result"
    }
   ],
   "source": [
    "combo_df"
   ]
  },
  {
   "cell_type": "code",
   "execution_count": 600,
   "metadata": {
    "ExecuteTime": {
     "end_time": "2025-02-19T22:27:22.152596Z",
     "start_time": "2025-02-19T22:27:20.780933Z"
    }
   },
   "outputs": [
    {
     "data": {
      "image/png": "[encoded data removed]",
      "text/plain": [
       "<Figure size 1500x400 with 1 Axes>"
      ]
     },
     "metadata": {},
     "output_type": "display_data"
    }
   ],
   "source": [
    "_ = plt.figure(figsize=(15, 4))\n",
    "sns.barplot(combo_df.sort_values('Match', ascending=False).drop_duplicates(subset=['TraitR'])[0:100].melt(id_vars=['trait_pair'], value_vars=['n_rare', 'RareLoci']), \n",
    "            x='trait_pair', y='value', hue='variable', palette=['mediumseagreen', 'lightgreen'], hue_order=['n_rare', 'RareLoci'])\n",
    "sns.barplot(combo_df.sort_values('Match', ascending=False).drop_duplicates(subset=['TraitR'])[0:100].melt(id_vars=['trait_pair'], value_vars=['n_overlap', 'Match']), \n",
    "            x='trait_pair', y='value', hue='variable', \n",
    "            palette=['purple', 'orchid'], hue_order=['n_overlap', 'Match'])\n",
    "plt.xticks([])\n",
    "plt.yscale('log')"
   ]
  },
  {
   "cell_type": "code",
   "execution_count": null,
   "metadata": {},
   "outputs": [],
   "source": []
  },
  {
   "cell_type": "markdown",
   "metadata": {},
   "source": [
    "# GENE MAPPING"
   ]
  },
  {
   "cell_type": "code",
   "execution_count": 280,
   "metadata": {
    "ExecuteTime": {
     "end_time": "2025-02-19T00:21:26.945503Z",
     "start_time": "2025-02-19T00:21:26.621749Z"
    }
   },
   "outputs": [],
   "source": [
    "## get all rv_gda genes (Entrez)\n",
    "rv_gda = pd.read_csv(os.path.join(datadir, 'RAVAR', 'gene_fulltable_06112024.txt.entrez'), sep='\\t')\n",
    "all_genes = rv_gda.Entrez.unique()"
   ]
  },
  {
   "cell_type": "code",
   "execution_count": 281,
   "metadata": {
    "ExecuteTime": {
     "end_time": "2025-02-19T00:21:29.399464Z",
     "start_time": "2025-02-19T00:21:28.864147Z"
    }
   },
   "outputs": [],
   "source": [
    "## get gene positions from Ensembl (Entrez)\n",
    "gene_df = pd.read_csv(os.path.join(datadir, 'Reference', 'Ensembl_Feb14_2025.txt.gz'), sep='\\t', low_memory=False,\n",
    "                     usecols=['Gene stable ID', 'Gene start (bp)', 'Gene end (bp)', 'Chromosome/scaffold name', \n",
    "                               'NCBI gene (formerly Entrezgene) ID']).drop_duplicates()\n",
    "gene_df.columns = ['EnsemblID', 'GeneStart', 'GeneEnd', 'Chromosome', 'Entrez']\n"
   ]
  },
  {
   "cell_type": "code",
   "execution_count": 282,
   "metadata": {
    "ExecuteTime": {
     "end_time": "2025-02-19T00:21:31.321134Z",
     "start_time": "2025-02-19T00:21:31.314550Z"
    }
   },
   "outputs": [],
   "source": [
    "position_df = gene_df[gene_df.Entrez.isin(all_genes)]"
   ]
  },
  {
   "cell_type": "code",
   "execution_count": 283,
   "metadata": {
    "ExecuteTime": {
     "end_time": "2025-02-19T00:21:33.310857Z",
     "start_time": "2025-02-19T00:21:33.226008Z"
    },
    "run_control": {
     "marked": false
    }
   },
   "outputs": [],
   "source": [
    "## check if all genes have positions\n",
    "mapped_entrez = gene_df[gene_df.Entrez.isin(all_genes)].Entrez.unique()\n",
    "missing_genes = [gene for gene in all_genes if gene not in mapped_entrez]\n"
   ]
  },
  {
   "cell_type": "code",
   "execution_count": 284,
   "metadata": {
    "ExecuteTime": {
     "end_time": "2025-02-19T00:21:35.230899Z",
     "start_time": "2025-02-19T00:21:35.226939Z"
    }
   },
   "outputs": [],
   "source": [
    "missing_ensem = rv_gda[rv_gda.Entrez.isin(missing_genes)].drop_duplicates(subset=['Entrez', 'Ensembl ID']).loc[:, ('Ensembl ID', 'Entrez')]"
   ]
  },
  {
   "cell_type": "code",
   "execution_count": 285,
   "metadata": {
    "ExecuteTime": {
     "end_time": "2025-02-19T00:21:37.149839Z",
     "start_time": "2025-02-19T00:21:37.133119Z"
    }
   },
   "outputs": [],
   "source": [
    "missing_ensem = missing_ensem.merge(gene_df, left_on='Ensembl ID', right_on='EnsemblID', how='left', suffixes=('', '_y')).drop(columns=['Entrez_y', 'Ensembl ID'])"
   ]
  },
  {
   "cell_type": "code",
   "execution_count": 286,
   "metadata": {
    "ExecuteTime": {
     "end_time": "2025-02-19T00:21:39.055297Z",
     "start_time": "2025-02-19T00:21:39.052433Z"
    }
   },
   "outputs": [],
   "source": [
    "position_df = pd.concat([position_df, missing_ensem])"
   ]
  },
  {
   "cell_type": "code",
   "execution_count": 287,
   "metadata": {
    "ExecuteTime": {
     "end_time": "2025-02-19T00:21:40.956013Z",
     "start_time": "2025-02-19T00:21:40.950796Z"
    }
   },
   "outputs": [],
   "source": [
    "# restrict to those on primary chromosomes\n",
    "position_df = position_df[(position_df.Chromosome.str.isnumeric()) | (position_df.Chromosome.isin(['X', 'Y','MT']))]"
   ]
  },
  {
   "cell_type": "code",
   "execution_count": 288,
   "metadata": {
    "ExecuteTime": {
     "end_time": "2025-02-19T00:21:43.013857Z",
     "start_time": "2025-02-19T00:21:42.855496Z"
    }
   },
   "outputs": [
    {
     "data": {
      "text/plain": [
       "[401289]"
      ]
     },
     "execution_count": 288,
     "metadata": {},
     "output_type": "execute_result"
    }
   ],
   "source": [
    "# genes without a primary chromosome mapping:\n",
    "[x for x in all_genes if x not in position_df.Entrez.values]"
   ]
  },
  {
   "cell_type": "code",
   "execution_count": 289,
   "metadata": {
    "ExecuteTime": {
     "end_time": "2025-02-19T00:21:44.916972Z",
     "start_time": "2025-02-19T00:21:44.913569Z"
    }
   },
   "outputs": [],
   "source": [
    "# manually add missing information\n",
    "position_df = pd.concat([position_df, pd.DataFrame({'EnsemblID':['ENSG00000227508'], 'GeneStart':[170266624], \n",
    "                                                    'GeneEnd':[170279978], 'Chromosome':['6'], 'Entrez':[401289]})])"
   ]
  },
  {
   "cell_type": "code",
   "execution_count": 290,
   "metadata": {
    "ExecuteTime": {
     "end_time": "2025-02-19T00:21:46.847029Z",
     "start_time": "2025-02-19T00:21:46.835859Z"
    }
   },
   "outputs": [],
   "source": [
    "# use Ensembl ID as primary, fix any multiples - does this work though, not all had correct Ensembl. Need to\n",
    "multiples = position_df.EnsemblID.value_counts()[position_df.EnsemblID.value_counts() > 1]"
   ]
  },
  {
   "cell_type": "code",
   "execution_count": 291,
   "metadata": {
    "ExecuteTime": {
     "end_time": "2025-02-19T00:21:48.763957Z",
     "start_time": "2025-02-19T00:21:48.756945Z"
    }
   },
   "outputs": [
    {
     "data": {
      "text/html": [
       "<div>\n",
       "<style scoped>\n",
       "    .dataframe tbody tr th:only-of-type {\n",
       "        vertical-align: middle;\n",
       "    }\n",
       "\n",
       "    .dataframe tbody tr th {\n",
       "        vertical-align: top;\n",
       "    }\n",
       "\n",
       "    .dataframe thead th {\n",
       "        text-align: right;\n",
       "    }\n",
       "</style>\n",
       "<table border=\"1\" class=\"dataframe\">\n",
       "  <thead>\n",
       "    <tr style=\"text-align: right;\">\n",
       "      <th></th>\n",
       "      <th>EnsemblID</th>\n",
       "      <th>GeneStart</th>\n",
       "      <th>GeneEnd</th>\n",
       "      <th>Chromosome</th>\n",
       "      <th>Entrez</th>\n",
       "    </tr>\n",
       "  </thead>\n",
       "  <tbody>\n",
       "    <tr>\n",
       "      <th>223958</th>\n",
       "      <td>ENSG00000111215</td>\n",
       "      <td>10845849</td>\n",
       "      <td>10849475</td>\n",
       "      <td>12</td>\n",
       "      <td>5554.0</td>\n",
       "    </tr>\n",
       "    <tr>\n",
       "      <th>223966</th>\n",
       "      <td>ENSG00000111215</td>\n",
       "      <td>10845849</td>\n",
       "      <td>10849475</td>\n",
       "      <td>12</td>\n",
       "      <td>11272.0</td>\n",
       "    </tr>\n",
       "    <tr>\n",
       "      <th>286730</th>\n",
       "      <td>ENSG00000203668</td>\n",
       "      <td>241628851</td>\n",
       "      <td>241640369</td>\n",
       "      <td>1</td>\n",
       "      <td>1122.0</td>\n",
       "    </tr>\n",
       "    <tr>\n",
       "      <th>286735</th>\n",
       "      <td>ENSG00000203668</td>\n",
       "      <td>241628851</td>\n",
       "      <td>241640369</td>\n",
       "      <td>1</td>\n",
       "      <td>23596.0</td>\n",
       "    </tr>\n",
       "    <tr>\n",
       "      <th>118826</th>\n",
       "      <td>ENSG00000237541</td>\n",
       "      <td>32741391</td>\n",
       "      <td>32747198</td>\n",
       "      <td>6</td>\n",
       "      <td>3117.0</td>\n",
       "    </tr>\n",
       "    <tr>\n",
       "      <th>118827</th>\n",
       "      <td>ENSG00000237541</td>\n",
       "      <td>32741391</td>\n",
       "      <td>32747198</td>\n",
       "      <td>6</td>\n",
       "      <td>3118.0</td>\n",
       "    </tr>\n",
       "    <tr>\n",
       "      <th>89235</th>\n",
       "      <td>ENSG00000257365</td>\n",
       "      <td>64986895</td>\n",
       "      <td>65062652</td>\n",
       "      <td>14</td>\n",
       "      <td>2342.0</td>\n",
       "    </tr>\n",
       "    <tr>\n",
       "      <th>89243</th>\n",
       "      <td>ENSG00000257365</td>\n",
       "      <td>64986895</td>\n",
       "      <td>65062652</td>\n",
       "      <td>14</td>\n",
       "      <td>100529261.0</td>\n",
       "    </tr>\n",
       "  </tbody>\n",
       "</table>\n",
       "</div>"
      ],
      "text/plain": [
       "              EnsemblID  GeneStart    GeneEnd Chromosome       Entrez\n",
       "223958  ENSG00000111215   10845849   10849475         12       5554.0\n",
       "223966  ENSG00000111215   10845849   10849475         12      11272.0\n",
       "286730  ENSG00000203668  241628851  241640369          1       1122.0\n",
       "286735  ENSG00000203668  241628851  241640369          1      23596.0\n",
       "118826  ENSG00000237541   32741391   32747198          6       3117.0\n",
       "118827  ENSG00000237541   32741391   32747198          6       3118.0\n",
       "89235   ENSG00000257365   64986895   65062652         14       2342.0\n",
       "89243   ENSG00000257365   64986895   65062652         14  100529261.0"
      ]
     },
     "execution_count": 291,
     "metadata": {},
     "output_type": "execute_result"
    }
   ],
   "source": [
    "#corrections = {'ENSG00000111215': 11272, 'ENSG00000203668': 1122 ,'ENSG00000237541': 3118,  'ENSG00000257365':100529261 }\n",
    "position_df[position_df.EnsemblID.isin(multiples.index.values)].sort_values('EnsemblID')"
   ]
  },
  {
   "cell_type": "code",
   "execution_count": 299,
   "metadata": {
    "ExecuteTime": {
     "end_time": "2025-02-19T00:25:55.896892Z",
     "start_time": "2025-02-19T00:25:55.261178Z"
    }
   },
   "outputs": [],
   "source": [
    "# Some RAVAR genes are mapped to ensembl not on primary assembly. Correct to primary assembly. \n",
    "corrections = {10407:'ENSG00000164871' ,\n",
    "6606:'ENSG00000172062',\n",
    "653720:'ENSG00000261480',\n",
    "3117: 'ENSG00000196735',\n",
    "9884:'ENSG00000176681',\n",
    "54984:'ENSG00000258724',\n",
    "5554:'ENSG00000231887',\n",
    "100132396:'ENSG00000215356'}\n",
    "\n",
    "rv_gda['Ensembl ID'] = rv_gda.apply(lambda x: corrections[x.Entrez] if x.Entrez in corrections else x['Ensembl ID'], axis=1)"
   ]
  },
  {
   "cell_type": "code",
   "execution_count": 300,
   "metadata": {
    "ExecuteTime": {
     "end_time": "2025-02-19T00:25:57.816239Z",
     "start_time": "2025-02-19T00:25:57.807625Z"
    }
   },
   "outputs": [],
   "source": [
    "# the problem is actually where there are multiple matches to Entrez. How many do I have where the Entrez, Ensembl \n",
    "# pair doesn't have a match? I need to be able to match each gda to ONE region. \n",
    "position_df['pair'] = position_df['EnsemblID'] + '_' + position_df['Entrez'].astype(int).astype(str)"
   ]
  },
  {
   "cell_type": "code",
   "execution_count": 301,
   "metadata": {
    "ExecuteTime": {
     "end_time": "2025-02-19T00:25:59.753253Z",
     "start_time": "2025-02-19T00:25:59.725927Z"
    }
   },
   "outputs": [],
   "source": [
    "rv_gda['pair'] = rv_gda['Ensembl ID'] + '_' + rv_gda['Entrez'].astype(int).astype(str)"
   ]
  },
  {
   "cell_type": "code",
   "execution_count": null,
   "metadata": {},
   "outputs": [],
   "source": [
    "# 1 - all ensembl map to exactly one position. First try to map these."
   ]
  },
  {
   "cell_type": "code",
   "execution_count": 317,
   "metadata": {
    "ExecuteTime": {
     "end_time": "2025-02-19T00:37:35.594507Z",
     "start_time": "2025-02-19T00:37:35.587676Z"
    }
   },
   "outputs": [
    {
     "data": {
      "text/html": [
       "<div>\n",
       "<style scoped>\n",
       "    .dataframe tbody tr th:only-of-type {\n",
       "        vertical-align: middle;\n",
       "    }\n",
       "\n",
       "    .dataframe tbody tr th {\n",
       "        vertical-align: top;\n",
       "    }\n",
       "\n",
       "    .dataframe thead th {\n",
       "        text-align: right;\n",
       "    }\n",
       "</style>\n",
       "<table border=\"1\" class=\"dataframe\">\n",
       "  <thead>\n",
       "    <tr style=\"text-align: right;\">\n",
       "      <th></th>\n",
       "      <th>EnsemblID</th>\n",
       "      <th>GeneStart</th>\n",
       "      <th>GeneEnd</th>\n",
       "      <th>Chromosome</th>\n",
       "      <th>Entrez</th>\n",
       "      <th>pair</th>\n",
       "    </tr>\n",
       "  </thead>\n",
       "  <tbody>\n",
       "    <tr>\n",
       "      <th>4357</th>\n",
       "      <td>ENSG00000292338</td>\n",
       "      <td>2219506</td>\n",
       "      <td>2502805</td>\n",
       "      <td>Y</td>\n",
       "      <td>207063.0</td>\n",
       "      <td>ENSG00000292338_207063</td>\n",
       "    </tr>\n",
       "    <tr>\n",
       "      <th>4407</th>\n",
       "      <td>ENSG00000292354</td>\n",
       "      <td>624344</td>\n",
       "      <td>659411</td>\n",
       "      <td>Y</td>\n",
       "      <td>6473.0</td>\n",
       "      <td>ENSG00000292354_6473</td>\n",
       "    </tr>\n",
       "    <tr>\n",
       "      <th>4428</th>\n",
       "      <td>ENSG00000292357</td>\n",
       "      <td>1268793</td>\n",
       "      <td>1325373</td>\n",
       "      <td>Y</td>\n",
       "      <td>1438.0</td>\n",
       "      <td>ENSG00000292357_1438</td>\n",
       "    </tr>\n",
       "    <tr>\n",
       "      <th>4690</th>\n",
       "      <td>ENSG00000292373</td>\n",
       "      <td>57184216</td>\n",
       "      <td>57199537</td>\n",
       "      <td>Y</td>\n",
       "      <td>3581.0</td>\n",
       "      <td>ENSG00000292373_3581</td>\n",
       "    </tr>\n",
       "    <tr>\n",
       "      <th>4751</th>\n",
       "      <td>ENSG00000114374</td>\n",
       "      <td>12537650</td>\n",
       "      <td>12860839</td>\n",
       "      <td>Y</td>\n",
       "      <td>8287.0</td>\n",
       "      <td>ENSG00000114374_8287</td>\n",
       "    </tr>\n",
       "  </tbody>\n",
       "</table>\n",
       "</div>"
      ],
      "text/plain": [
       "            EnsemblID  GeneStart   GeneEnd Chromosome    Entrez  \\\n",
       "4357  ENSG00000292338    2219506   2502805          Y  207063.0   \n",
       "4407  ENSG00000292354     624344    659411          Y    6473.0   \n",
       "4428  ENSG00000292357    1268793   1325373          Y    1438.0   \n",
       "4690  ENSG00000292373   57184216  57199537          Y    3581.0   \n",
       "4751  ENSG00000114374   12537650  12860839          Y    8287.0   \n",
       "\n",
       "                        pair  \n",
       "4357  ENSG00000292338_207063  \n",
       "4407    ENSG00000292354_6473  \n",
       "4428    ENSG00000292357_1438  \n",
       "4690    ENSG00000292373_3581  \n",
       "4751    ENSG00000114374_8287  "
      ]
     },
     "execution_count": 317,
     "metadata": {},
     "output_type": "execute_result"
    }
   ],
   "source": [
    "position_df.head()"
   ]
  },
  {
   "cell_type": "code",
   "execution_count": 319,
   "metadata": {
    "ExecuteTime": {
     "end_time": "2025-02-19T00:38:16.726183Z",
     "start_time": "2025-02-19T00:38:16.722886Z"
    }
   },
   "outputs": [],
   "source": [
    "def get_gene_region(ensembl_id, entrez_id, position_df):\n",
    "    pos = position_df[position_df.EnsemblID==ensembl_id]\n",
    "    if len(pos) > 0:\n",
    "        return pos.Chromosome.values[0], pos.GeneStart.values[0], pos.GeneEnd.values[0]\n",
    "    else:\n",
    "        pos = position_df[position_df.Entrez==entrez_id]\n",
    "        if len(pos) == 1:\n",
    "            return pos.Chromosome.values[0], pos.GeneStart.values[0], pos.GeneEnd.values[0]\n",
    "        elif len(pos) == 0:\n",
    "            print('No match found')\n",
    "        else:\n",
    "            print(ensembl_id, entrez_id, len(pos))\n",
    "    print('oops')\n",
    "    "
   ]
  },
  {
   "cell_type": "code",
   "execution_count": 320,
   "metadata": {
    "ExecuteTime": {
     "end_time": "2025-02-19T00:39:41.543673Z",
     "start_time": "2025-02-19T00:38:20.171036Z"
    }
   },
   "outputs": [],
   "source": [
    "gene_bp = rv_gda.apply(lambda x: get_gene_region(x['Ensembl ID'], x['Entrez'], position_df), axis=1)"
   ]
  },
  {
   "cell_type": "code",
   "execution_count": 321,
   "metadata": {
    "ExecuteTime": {
     "end_time": "2025-02-19T00:39:43.789684Z",
     "start_time": "2025-02-19T00:39:43.465770Z"
    }
   },
   "outputs": [],
   "source": [
    "rv_gda['Chromosome'] = [pos[0] for pos in gene_bp]\n",
    "rv_gda['Start'] = [pos[1] for pos in gene_bp]\n",
    "rv_gda['End'] = [pos[2] for pos in gene_bp]"
   ]
  },
  {
   "cell_type": "code",
   "execution_count": 323,
   "metadata": {
    "ExecuteTime": {
     "end_time": "2025-02-19T00:41:44.788727Z",
     "start_time": "2025-02-19T00:41:44.060967Z"
    }
   },
   "outputs": [],
   "source": [
    "rv_gda.sort_values(by=['Chromosome', 'Start']).to_csv(os.path.join(datadir, 'RAVAR', 'gene_fulltable_06112024.txt.loci'), sep='\\t')"
   ]
  },
  {
   "cell_type": "code",
   "execution_count": 332,
   "metadata": {
    "ExecuteTime": {
     "end_time": "2025-02-19T00:59:17.220998Z",
     "start_time": "2025-02-19T00:59:17.208756Z"
    }
   },
   "outputs": [
    {
     "data": {
      "text/html": [
       "<div>\n",
       "<style scoped>\n",
       "    .dataframe tbody tr th:only-of-type {\n",
       "        vertical-align: middle;\n",
       "    }\n",
       "\n",
       "    .dataframe tbody tr th {\n",
       "        vertical-align: top;\n",
       "    }\n",
       "\n",
       "    .dataframe thead th {\n",
       "        text-align: right;\n",
       "    }\n",
       "</style>\n",
       "<table border=\"1\" class=\"dataframe\">\n",
       "  <thead>\n",
       "    <tr style=\"text-align: right;\">\n",
       "      <th></th>\n",
       "      <th>Gene Symbol</th>\n",
       "      <th>Ensembl ID</th>\n",
       "      <th>Gene Type</th>\n",
       "      <th>CHR</th>\n",
       "      <th>Location</th>\n",
       "      <th>Reported Trait</th>\n",
       "      <th>Trait Label</th>\n",
       "      <th>Trait Ontology id</th>\n",
       "      <th>EFO synonym</th>\n",
       "      <th>P-value</th>\n",
       "      <th>TRAIT_CODE</th>\n",
       "      <th>from</th>\n",
       "      <th>Entrez</th>\n",
       "      <th>PMID</th>\n",
       "      <th>pair</th>\n",
       "      <th>Start</th>\n",
       "      <th>End</th>\n",
       "      <th>Chromosome</th>\n",
       "    </tr>\n",
       "  </thead>\n",
       "  <tbody>\n",
       "    <tr>\n",
       "      <th>0</th>\n",
       "      <td>A1BG</td>\n",
       "      <td>ENSG00000121410</td>\n",
       "      <td>protein_coding</td>\n",
       "      <td>19</td>\n",
       "      <td>chr19:58345178-58353492</td>\n",
       "      <td>Abnormal findings on diagnostic imaging of oth...</td>\n",
       "      <td>abnormal result of diagnostic imaging</td>\n",
       "      <td>EFO:0009827</td>\n",
       "      <td>NaN</td>\n",
       "      <td>5.910000e-05</td>\n",
       "      <td>EFO_0009827</td>\n",
       "      <td>ENSG00000121410</td>\n",
       "      <td>1</td>\n",
       "      <td>34375979.0</td>\n",
       "      <td>ENSG00000121410_1</td>\n",
       "      <td>58345178</td>\n",
       "      <td>58353492</td>\n",
       "      <td>19</td>\n",
       "    </tr>\n",
       "    <tr>\n",
       "      <th>1</th>\n",
       "      <td>A1CF</td>\n",
       "      <td>ENSG00000148584</td>\n",
       "      <td>protein_coding</td>\n",
       "      <td>10</td>\n",
       "      <td>chr10:50799409-50885675</td>\n",
       "      <td>Biochemistry Total Protein measurement</td>\n",
       "      <td>total blood protein measurement</td>\n",
       "      <td>EFO:0004536</td>\n",
       "      <td>serum total protein;TBP</td>\n",
       "      <td>5.000000e-09</td>\n",
       "      <td>EFO_0004536</td>\n",
       "      <td>ENSG00000148584</td>\n",
       "      <td>29974</td>\n",
       "      <td>34226706.0</td>\n",
       "      <td>ENSG00000148584_29974</td>\n",
       "      <td>50799409</td>\n",
       "      <td>50885675</td>\n",
       "      <td>10</td>\n",
       "    </tr>\n",
       "    <tr>\n",
       "      <th>2</th>\n",
       "      <td>A1CF</td>\n",
       "      <td>ENSG00000148584</td>\n",
       "      <td>protein_coding</td>\n",
       "      <td>10</td>\n",
       "      <td>chr10:50799409-50885675</td>\n",
       "      <td>Biochemistry Calcium measurement</td>\n",
       "      <td>calcium measurement</td>\n",
       "      <td>EFO:0004838</td>\n",
       "      <td>calcium levels</td>\n",
       "      <td>2.100000e-08</td>\n",
       "      <td>EFO_0004838</td>\n",
       "      <td>ENSG00000148584</td>\n",
       "      <td>29974</td>\n",
       "      <td>34226706.0</td>\n",
       "      <td>ENSG00000148584_29974</td>\n",
       "      <td>50799409</td>\n",
       "      <td>50885675</td>\n",
       "      <td>10</td>\n",
       "    </tr>\n",
       "    <tr>\n",
       "      <th>3</th>\n",
       "      <td>A1CF</td>\n",
       "      <td>ENSG00000148584</td>\n",
       "      <td>protein_coding</td>\n",
       "      <td>10</td>\n",
       "      <td>chr10:50799409-50885675</td>\n",
       "      <td>Biochemistry SHBG measurement</td>\n",
       "      <td>sex hormone-binding globulin measurement</td>\n",
       "      <td>EFO:0004696</td>\n",
       "      <td>SHBG levels;SHBG level</td>\n",
       "      <td>1.000000e-06</td>\n",
       "      <td>EFO_0004696</td>\n",
       "      <td>ENSG00000148584</td>\n",
       "      <td>29974</td>\n",
       "      <td>34226706.0</td>\n",
       "      <td>ENSG00000148584_29974</td>\n",
       "      <td>50799409</td>\n",
       "      <td>50885675</td>\n",
       "      <td>10</td>\n",
       "    </tr>\n",
       "    <tr>\n",
       "      <th>4</th>\n",
       "      <td>A1CF</td>\n",
       "      <td>ENSG00000148584</td>\n",
       "      <td>protein_coding</td>\n",
       "      <td>10</td>\n",
       "      <td>chr10:50799409-50885675</td>\n",
       "      <td>Biochemistry Gamma Glutamyl transferase measur...</td>\n",
       "      <td>serum gamma-glutamyl transferase measurement</td>\n",
       "      <td>EFO:0004532</td>\n",
       "      <td>GGT measurement;Gamma gluatamyl transferase le...</td>\n",
       "      <td>1.400000e-19</td>\n",
       "      <td>EFO_0004532</td>\n",
       "      <td>ENSG00000148584</td>\n",
       "      <td>29974</td>\n",
       "      <td>34226706.0</td>\n",
       "      <td>ENSG00000148584_29974</td>\n",
       "      <td>50799409</td>\n",
       "      <td>50885675</td>\n",
       "      <td>10</td>\n",
       "    </tr>\n",
       "    <tr>\n",
       "      <th>...</th>\n",
       "      <td>...</td>\n",
       "      <td>...</td>\n",
       "      <td>...</td>\n",
       "      <td>...</td>\n",
       "      <td>...</td>\n",
       "      <td>...</td>\n",
       "      <td>...</td>\n",
       "      <td>...</td>\n",
       "      <td>...</td>\n",
       "      <td>...</td>\n",
       "      <td>...</td>\n",
       "      <td>...</td>\n",
       "      <td>...</td>\n",
       "      <td>...</td>\n",
       "      <td>...</td>\n",
       "      <td>...</td>\n",
       "      <td>...</td>\n",
       "      <td>...</td>\n",
       "    </tr>\n",
       "    <tr>\n",
       "      <th>76273</th>\n",
       "      <td>ADAMTS2</td>\n",
       "      <td>ENSG00000283802</td>\n",
       "      <td>protein_coding</td>\n",
       "      <td>5</td>\n",
       "      <td>chr5:179110853-179345461</td>\n",
       "      <td>Hypothyroidism|myxoedema</td>\n",
       "      <td>hypothyroidism</td>\n",
       "      <td>EFO:0004705</td>\n",
       "      <td>thyroid insufficiency;underactive thyroid;hypo...</td>\n",
       "      <td>3.240000e-05</td>\n",
       "      <td>EFO_0004705</td>\n",
       "      <td>ADAMTS2</td>\n",
       "      <td>9509</td>\n",
       "      <td>34375979.0</td>\n",
       "      <td>ENSG00000283802_9509</td>\n",
       "      <td>179110853</td>\n",
       "      <td>179345461</td>\n",
       "      <td>5</td>\n",
       "    </tr>\n",
       "    <tr>\n",
       "      <th>76274</th>\n",
       "      <td>ADAMTS2</td>\n",
       "      <td>ENSG00000283802</td>\n",
       "      <td>protein_coding</td>\n",
       "      <td>5</td>\n",
       "      <td>chr5:179110853-179345461</td>\n",
       "      <td>Alkaline phosphatase measurement</td>\n",
       "      <td>alkaline phosphatase measurement</td>\n",
       "      <td>EFO:0004533</td>\n",
       "      <td>AP</td>\n",
       "      <td>2.430000e-09</td>\n",
       "      <td>EFO_0004533</td>\n",
       "      <td>ADAMTS2</td>\n",
       "      <td>9509</td>\n",
       "      <td>36809768.0</td>\n",
       "      <td>ENSG00000283802_9509</td>\n",
       "      <td>179110853</td>\n",
       "      <td>179345461</td>\n",
       "      <td>5</td>\n",
       "    </tr>\n",
       "    <tr>\n",
       "      <th>76275</th>\n",
       "      <td>ADAMTS2</td>\n",
       "      <td>ENSG00000283802</td>\n",
       "      <td>protein_coding</td>\n",
       "      <td>5</td>\n",
       "      <td>chr5:179110853-179345461</td>\n",
       "      <td>Seropositive rheumatoid arthritis| unspecified</td>\n",
       "      <td>juvenile idiopathic arthritis</td>\n",
       "      <td>EFO:0002609</td>\n",
       "      <td>Juvenile idiopathic arthritis (disorder);Juven...</td>\n",
       "      <td>2.310000e-05</td>\n",
       "      <td>EFO_0002609</td>\n",
       "      <td>ADAMTS2</td>\n",
       "      <td>9509</td>\n",
       "      <td>34375979.0</td>\n",
       "      <td>ENSG00000283802_9509</td>\n",
       "      <td>179110853</td>\n",
       "      <td>179345461</td>\n",
       "      <td>5</td>\n",
       "    </tr>\n",
       "    <tr>\n",
       "      <th>76276</th>\n",
       "      <td>ADAMTS2</td>\n",
       "      <td>ENSG00000283802</td>\n",
       "      <td>protein_coding</td>\n",
       "      <td>5</td>\n",
       "      <td>chr5:179110853-179345461</td>\n",
       "      <td>Seropositive rheumatoid arthritis</td>\n",
       "      <td>juvenile idiopathic arthritis</td>\n",
       "      <td>EFO:0002609</td>\n",
       "      <td>Juvenile idiopathic arthritis (disorder);Juven...</td>\n",
       "      <td>2.240000e-05</td>\n",
       "      <td>EFO_0002609</td>\n",
       "      <td>ADAMTS2</td>\n",
       "      <td>9509</td>\n",
       "      <td>34375979.0</td>\n",
       "      <td>ENSG00000283802_9509</td>\n",
       "      <td>179110853</td>\n",
       "      <td>179345461</td>\n",
       "      <td>5</td>\n",
       "    </tr>\n",
       "    <tr>\n",
       "      <th>76277</th>\n",
       "      <td>ADAMTS2</td>\n",
       "      <td>ENSG00000283802</td>\n",
       "      <td>protein_coding</td>\n",
       "      <td>5</td>\n",
       "      <td>chr5:179110853-179345461</td>\n",
       "      <td>Seropositive rheumatoid arthritis</td>\n",
       "      <td>juvenile idiopathic arthritis</td>\n",
       "      <td>EFO:0002609</td>\n",
       "      <td>Juvenile idiopathic arthritis (disorder);Juven...</td>\n",
       "      <td>1.120000e-05</td>\n",
       "      <td>EFO_0002609</td>\n",
       "      <td>ADAMTS2</td>\n",
       "      <td>9509</td>\n",
       "      <td>34375979.0</td>\n",
       "      <td>ENSG00000283802_9509</td>\n",
       "      <td>179110853</td>\n",
       "      <td>179345461</td>\n",
       "      <td>5</td>\n",
       "    </tr>\n",
       "  </tbody>\n",
       "</table>\n",
       "<p>76278 rows × 18 columns</p>\n",
       "</div>"
      ],
      "text/plain": [
       "      Gene Symbol       Ensembl ID       Gene Type CHR  \\\n",
       "0            A1BG  ENSG00000121410  protein_coding  19   \n",
       "1            A1CF  ENSG00000148584  protein_coding  10   \n",
       "2            A1CF  ENSG00000148584  protein_coding  10   \n",
       "3            A1CF  ENSG00000148584  protein_coding  10   \n",
       "4            A1CF  ENSG00000148584  protein_coding  10   \n",
       "...           ...              ...             ...  ..   \n",
       "76273     ADAMTS2  ENSG00000283802  protein_coding   5   \n",
       "76274     ADAMTS2  ENSG00000283802  protein_coding   5   \n",
       "76275     ADAMTS2  ENSG00000283802  protein_coding   5   \n",
       "76276     ADAMTS2  ENSG00000283802  protein_coding   5   \n",
       "76277     ADAMTS2  ENSG00000283802  protein_coding   5   \n",
       "\n",
       "                       Location  \\\n",
       "0       chr19:58345178-58353492   \n",
       "1       chr10:50799409-50885675   \n",
       "2       chr10:50799409-50885675   \n",
       "3       chr10:50799409-50885675   \n",
       "4       chr10:50799409-50885675   \n",
       "...                         ...   \n",
       "76273  chr5:179110853-179345461   \n",
       "76274  chr5:179110853-179345461   \n",
       "76275  chr5:179110853-179345461   \n",
       "76276  chr5:179110853-179345461   \n",
       "76277  chr5:179110853-179345461   \n",
       "\n",
       "                                          Reported Trait  \\\n",
       "0      Abnormal findings on diagnostic imaging of oth...   \n",
       "1                 Biochemistry Total Protein measurement   \n",
       "2                       Biochemistry Calcium measurement   \n",
       "3                          Biochemistry SHBG measurement   \n",
       "4      Biochemistry Gamma Glutamyl transferase measur...   \n",
       "...                                                  ...   \n",
       "76273                           Hypothyroidism|myxoedema   \n",
       "76274                   Alkaline phosphatase measurement   \n",
       "76275     Seropositive rheumatoid arthritis| unspecified   \n",
       "76276                  Seropositive rheumatoid arthritis   \n",
       "76277                  Seropositive rheumatoid arthritis   \n",
       "\n",
       "                                        Trait Label Trait Ontology id  \\\n",
       "0             abnormal result of diagnostic imaging       EFO:0009827   \n",
       "1                   total blood protein measurement       EFO:0004536   \n",
       "2                               calcium measurement       EFO:0004838   \n",
       "3          sex hormone-binding globulin measurement       EFO:0004696   \n",
       "4      serum gamma-glutamyl transferase measurement       EFO:0004532   \n",
       "...                                             ...               ...   \n",
       "76273                                hypothyroidism       EFO:0004705   \n",
       "76274              alkaline phosphatase measurement       EFO:0004533   \n",
       "76275                 juvenile idiopathic arthritis       EFO:0002609   \n",
       "76276                 juvenile idiopathic arthritis       EFO:0002609   \n",
       "76277                 juvenile idiopathic arthritis       EFO:0002609   \n",
       "\n",
       "                                             EFO synonym       P-value  \\\n",
       "0                                                    NaN  5.910000e-05   \n",
       "1                                serum total protein;TBP  5.000000e-09   \n",
       "2                                         calcium levels  2.100000e-08   \n",
       "3                                 SHBG levels;SHBG level  1.000000e-06   \n",
       "4      GGT measurement;Gamma gluatamyl transferase le...  1.400000e-19   \n",
       "...                                                  ...           ...   \n",
       "76273  thyroid insufficiency;underactive thyroid;hypo...  3.240000e-05   \n",
       "76274                                                 AP  2.430000e-09   \n",
       "76275  Juvenile idiopathic arthritis (disorder);Juven...  2.310000e-05   \n",
       "76276  Juvenile idiopathic arthritis (disorder);Juven...  2.240000e-05   \n",
       "76277  Juvenile idiopathic arthritis (disorder);Juven...  1.120000e-05   \n",
       "\n",
       "        TRAIT_CODE             from  Entrez        PMID  \\\n",
       "0      EFO_0009827  ENSG00000121410       1  34375979.0   \n",
       "1      EFO_0004536  ENSG00000148584   29974  34226706.0   \n",
       "2      EFO_0004838  ENSG00000148584   29974  34226706.0   \n",
       "3      EFO_0004696  ENSG00000148584   29974  34226706.0   \n",
       "4      EFO_0004532  ENSG00000148584   29974  34226706.0   \n",
       "...            ...              ...     ...         ...   \n",
       "76273  EFO_0004705          ADAMTS2    9509  34375979.0   \n",
       "76274  EFO_0004533          ADAMTS2    9509  36809768.0   \n",
       "76275  EFO_0002609          ADAMTS2    9509  34375979.0   \n",
       "76276  EFO_0002609          ADAMTS2    9509  34375979.0   \n",
       "76277  EFO_0002609          ADAMTS2    9509  34375979.0   \n",
       "\n",
       "                        pair      Start        End Chromosome  \n",
       "0          ENSG00000121410_1   58345178   58353492         19  \n",
       "1      ENSG00000148584_29974   50799409   50885675         10  \n",
       "2      ENSG00000148584_29974   50799409   50885675         10  \n",
       "3      ENSG00000148584_29974   50799409   50885675         10  \n",
       "4      ENSG00000148584_29974   50799409   50885675         10  \n",
       "...                      ...        ...        ...        ...  \n",
       "76273   ENSG00000283802_9509  179110853  179345461          5  \n",
       "76274   ENSG00000283802_9509  179110853  179345461          5  \n",
       "76275   ENSG00000283802_9509  179110853  179345461          5  \n",
       "76276   ENSG00000283802_9509  179110853  179345461          5  \n",
       "76277   ENSG00000283802_9509  179110853  179345461          5  \n",
       "\n",
       "[76278 rows x 18 columns]"
      ]
     },
     "execution_count": 332,
     "metadata": {},
     "output_type": "execute_result"
    }
   ],
   "source": [
    "rv_gda"
   ]
  },
  {
   "cell_type": "markdown",
   "metadata": {},
   "source": [
    "# SNP MAPPING"
   ]
  },
  {
   "cell_type": "code",
   "execution_count": 72,
   "metadata": {
    "ExecuteTime": {
     "end_time": "2025-02-18T19:08:11.519602Z",
     "start_time": "2025-02-18T19:08:11.515344Z"
    }
   },
   "outputs": [],
   "source": [
    "import requests\n",
    "import os\n",
    "import pandas as pd\n",
    "\n",
    "\n",
    "def query_snp(rsid):\n",
    "    \"\"\"\n",
    "    Queries the Clinical Tables API for SNP information using an rsID.\n",
    "    \n",
    "    Args:\n",
    "        rsid (str): The SNP rsID (e.g., \"rs2856674\").\n",
    "    \n",
    "    Returns:\n",
    "        dict: A dictionary containing chromosome and position details for GRCh38 and GRCh37.\n",
    "    \"\"\"\n",
    "    base_url = \"https://clinicaltables.nlm.nih.gov/api/snps/v3/search\"\n",
    "    params = {\n",
    "        \"sf\": \"rsNum\",\n",
    "        \"df\": \"38.chr,38.pos,37.chr,37.pos\",\n",
    "        \"terms\": rsid,\n",
    "        \"q\":rsid\n",
    "    }\n",
    "    \n",
    "    try:\n",
    "        response = requests.get(base_url, params=params)\n",
    "        response.raise_for_status()  # Raise an error for bad status codes\n",
    "        data = response.json()\n",
    "        num_responses = data[0]\n",
    "        if num_responses > 0:\n",
    "            try:\n",
    "                results = {'chr.38': f'chr{data[3][0][0]}',\n",
    "                      'chr.37': f'chr{data[3][0][2]}',\n",
    "                      'pos.38': int(data[3][0][1]),\n",
    "                      'pos.37': int(data[3][0][3])}\n",
    "            except ValueError:\n",
    "                results = {'chr.38': f'chr{data[3][0][0]}',\n",
    "                      'chr.37': f'chr{data[3][0][2]}',\n",
    "                      'pos.38.err': data[3][0][1],\n",
    "                      'pos.37.err': data[3][0][3]}\n",
    "        else:\n",
    "            return {f\"error{rsid}\": data}\n",
    "        return results\n",
    "\n",
    "    except requests.exceptions.RequestException as e:\n",
    "        return {\"error\": str(e)}\n"
   ]
  },
  {
   "cell_type": "markdown",
   "metadata": {},
   "source": [
    "## Load & clean SNP results"
   ]
  },
  {
   "cell_type": "code",
   "execution_count": 324,
   "metadata": {
    "ExecuteTime": {
     "end_time": "2025-02-19T00:56:26.612478Z",
     "start_time": "2025-02-19T00:56:25.896955Z"
    }
   },
   "outputs": [
    {
     "name": "stderr",
     "output_type": "stream",
     "text": [
      "100%|██████████| 157/157 [00:00<00:00, 221.71it/s]\n"
     ]
    }
   ],
   "source": [
    "snps = []\n",
    "for i in tqdm(range(157)):\n",
    "    info = pd.read_csv(os.path.join(datadir, 'GWASCatalog/snp_info', f'rsSNP_info{i}.txt'), sep='\\t', index_col=0)\n",
    "    snps.append(info)"
   ]
  },
  {
   "cell_type": "code",
   "execution_count": 325,
   "metadata": {
    "ExecuteTime": {
     "end_time": "2025-02-19T00:56:28.560213Z",
     "start_time": "2025-02-19T00:56:28.531357Z"
    }
   },
   "outputs": [],
   "source": [
    "all_snps = pd.concat(snps)"
   ]
  },
  {
   "cell_type": "code",
   "execution_count": 326,
   "metadata": {
    "ExecuteTime": {
     "end_time": "2025-02-19T00:56:30.499262Z",
     "start_time": "2025-02-19T00:56:30.483189Z"
    }
   },
   "outputs": [],
   "source": [
    "retry_snps = all_snps[~all_snps.error.isna()].index.values"
   ]
  },
  {
   "cell_type": "code",
   "execution_count": 76,
   "metadata": {
    "ExecuteTime": {
     "end_time": "2025-02-18T19:10:42.794630Z",
     "start_time": "2025-02-18T19:10:38.065332Z"
    }
   },
   "outputs": [
    {
     "name": "stderr",
     "output_type": "stream",
     "text": [
      " 11%|█▏        | 22/192 [00:04<00:35,  4.84it/s]\n"
     ]
    },
    {
     "ename": "KeyboardInterrupt",
     "evalue": "",
     "output_type": "error",
     "traceback": [
      "\u001b[0;31m---------------------------------------------------------------------------\u001b[0m",
      "\u001b[0;31mKeyboardInterrupt\u001b[0m                         Traceback (most recent call last)",
      "Cell \u001b[0;32mIn[76], line 3\u001b[0m\n\u001b[1;32m      1\u001b[0m retried \u001b[38;5;241m=\u001b[39m {}\n\u001b[1;32m      2\u001b[0m \u001b[38;5;28;01mfor\u001b[39;00m snp \u001b[38;5;129;01min\u001b[39;00m tqdm(retry_snps):\n\u001b[0;32m----> 3\u001b[0m     retried[snp] \u001b[38;5;241m=\u001b[39m \u001b[43mquery_snp\u001b[49m\u001b[43m(\u001b[49m\u001b[43msnp\u001b[49m\u001b[43m)\u001b[49m\n\u001b[1;32m      4\u001b[0m \u001b[38;5;66;03m# retried all and did not get any data for any of them, will just drop these. \u001b[39;00m\n",
      "Cell \u001b[0;32mIn[72], line 25\u001b[0m, in \u001b[0;36mquery_snp\u001b[0;34m(rsid)\u001b[0m\n\u001b[1;32m     17\u001b[0m params \u001b[38;5;241m=\u001b[39m {\n\u001b[1;32m     18\u001b[0m     \u001b[38;5;124m\"\u001b[39m\u001b[38;5;124msf\u001b[39m\u001b[38;5;124m\"\u001b[39m: \u001b[38;5;124m\"\u001b[39m\u001b[38;5;124mrsNum\u001b[39m\u001b[38;5;124m\"\u001b[39m,\n\u001b[1;32m     19\u001b[0m     \u001b[38;5;124m\"\u001b[39m\u001b[38;5;124mdf\u001b[39m\u001b[38;5;124m\"\u001b[39m: \u001b[38;5;124m\"\u001b[39m\u001b[38;5;124m38.chr,38.pos,37.chr,37.pos\u001b[39m\u001b[38;5;124m\"\u001b[39m,\n\u001b[1;32m     20\u001b[0m     \u001b[38;5;124m\"\u001b[39m\u001b[38;5;124mterms\u001b[39m\u001b[38;5;124m\"\u001b[39m: rsid,\n\u001b[1;32m     21\u001b[0m     \u001b[38;5;124m\"\u001b[39m\u001b[38;5;124mq\u001b[39m\u001b[38;5;124m\"\u001b[39m:rsid\n\u001b[1;32m     22\u001b[0m }\n\u001b[1;32m     24\u001b[0m \u001b[38;5;28;01mtry\u001b[39;00m:\n\u001b[0;32m---> 25\u001b[0m     response \u001b[38;5;241m=\u001b[39m \u001b[43mrequests\u001b[49m\u001b[38;5;241;43m.\u001b[39;49m\u001b[43mget\u001b[49m\u001b[43m(\u001b[49m\u001b[43mbase_url\u001b[49m\u001b[43m,\u001b[49m\u001b[43m \u001b[49m\u001b[43mparams\u001b[49m\u001b[38;5;241;43m=\u001b[39;49m\u001b[43mparams\u001b[49m\u001b[43m)\u001b[49m\n\u001b[1;32m     26\u001b[0m     response\u001b[38;5;241m.\u001b[39mraise_for_status()  \u001b[38;5;66;03m# Raise an error for bad status codes\u001b[39;00m\n\u001b[1;32m     27\u001b[0m     data \u001b[38;5;241m=\u001b[39m response\u001b[38;5;241m.\u001b[39mjson()\n",
      "File \u001b[0;32m~/anaconda3/envs/carva/lib/python3.10/site-packages/requests/api.py:73\u001b[0m, in \u001b[0;36mget\u001b[0;34m(url, params, **kwargs)\u001b[0m\n\u001b[1;32m     62\u001b[0m \u001b[38;5;28;01mdef\u001b[39;00m \u001b[38;5;21mget\u001b[39m(url, params\u001b[38;5;241m=\u001b[39m\u001b[38;5;28;01mNone\u001b[39;00m, \u001b[38;5;241m*\u001b[39m\u001b[38;5;241m*\u001b[39mkwargs):\n\u001b[1;32m     63\u001b[0m \u001b[38;5;250m    \u001b[39m\u001b[38;5;124mr\u001b[39m\u001b[38;5;124;03m\"\"\"Sends a GET request.\u001b[39;00m\n\u001b[1;32m     64\u001b[0m \n\u001b[1;32m     65\u001b[0m \u001b[38;5;124;03m    :param url: URL for the new :class:`Request` object.\u001b[39;00m\n\u001b[0;32m   (...)\u001b[0m\n\u001b[1;32m     70\u001b[0m \u001b[38;5;124;03m    :rtype: requests.Response\u001b[39;00m\n\u001b[1;32m     71\u001b[0m \u001b[38;5;124;03m    \"\"\"\u001b[39;00m\n\u001b[0;32m---> 73\u001b[0m     \u001b[38;5;28;01mreturn\u001b[39;00m \u001b[43mrequest\u001b[49m\u001b[43m(\u001b[49m\u001b[38;5;124;43m\"\u001b[39;49m\u001b[38;5;124;43mget\u001b[39;49m\u001b[38;5;124;43m\"\u001b[39;49m\u001b[43m,\u001b[49m\u001b[43m \u001b[49m\u001b[43murl\u001b[49m\u001b[43m,\u001b[49m\u001b[43m \u001b[49m\u001b[43mparams\u001b[49m\u001b[38;5;241;43m=\u001b[39;49m\u001b[43mparams\u001b[49m\u001b[43m,\u001b[49m\u001b[43m \u001b[49m\u001b[38;5;241;43m*\u001b[39;49m\u001b[38;5;241;43m*\u001b[39;49m\u001b[43mkwargs\u001b[49m\u001b[43m)\u001b[49m\n",
      "File \u001b[0;32m~/anaconda3/envs/carva/lib/python3.10/site-packages/requests/api.py:59\u001b[0m, in \u001b[0;36mrequest\u001b[0;34m(method, url, **kwargs)\u001b[0m\n\u001b[1;32m     55\u001b[0m \u001b[38;5;66;03m# By using the 'with' statement we are sure the session is closed, thus we\u001b[39;00m\n\u001b[1;32m     56\u001b[0m \u001b[38;5;66;03m# avoid leaving sockets open which can trigger a ResourceWarning in some\u001b[39;00m\n\u001b[1;32m     57\u001b[0m \u001b[38;5;66;03m# cases, and look like a memory leak in others.\u001b[39;00m\n\u001b[1;32m     58\u001b[0m \u001b[38;5;28;01mwith\u001b[39;00m sessions\u001b[38;5;241m.\u001b[39mSession() \u001b[38;5;28;01mas\u001b[39;00m session:\n\u001b[0;32m---> 59\u001b[0m     \u001b[38;5;28;01mreturn\u001b[39;00m \u001b[43msession\u001b[49m\u001b[38;5;241;43m.\u001b[39;49m\u001b[43mrequest\u001b[49m\u001b[43m(\u001b[49m\u001b[43mmethod\u001b[49m\u001b[38;5;241;43m=\u001b[39;49m\u001b[43mmethod\u001b[49m\u001b[43m,\u001b[49m\u001b[43m \u001b[49m\u001b[43murl\u001b[49m\u001b[38;5;241;43m=\u001b[39;49m\u001b[43murl\u001b[49m\u001b[43m,\u001b[49m\u001b[43m \u001b[49m\u001b[38;5;241;43m*\u001b[39;49m\u001b[38;5;241;43m*\u001b[39;49m\u001b[43mkwargs\u001b[49m\u001b[43m)\u001b[49m\n",
      "File \u001b[0;32m~/anaconda3/envs/carva/lib/python3.10/site-packages/requests/sessions.py:589\u001b[0m, in \u001b[0;36mSession.request\u001b[0;34m(self, method, url, params, data, headers, cookies, files, auth, timeout, allow_redirects, proxies, hooks, stream, verify, cert, json)\u001b[0m\n\u001b[1;32m    584\u001b[0m send_kwargs \u001b[38;5;241m=\u001b[39m {\n\u001b[1;32m    585\u001b[0m     \u001b[38;5;124m\"\u001b[39m\u001b[38;5;124mtimeout\u001b[39m\u001b[38;5;124m\"\u001b[39m: timeout,\n\u001b[1;32m    586\u001b[0m     \u001b[38;5;124m\"\u001b[39m\u001b[38;5;124mallow_redirects\u001b[39m\u001b[38;5;124m\"\u001b[39m: allow_redirects,\n\u001b[1;32m    587\u001b[0m }\n\u001b[1;32m    588\u001b[0m send_kwargs\u001b[38;5;241m.\u001b[39mupdate(settings)\n\u001b[0;32m--> 589\u001b[0m resp \u001b[38;5;241m=\u001b[39m \u001b[38;5;28;43mself\u001b[39;49m\u001b[38;5;241;43m.\u001b[39;49m\u001b[43msend\u001b[49m\u001b[43m(\u001b[49m\u001b[43mprep\u001b[49m\u001b[43m,\u001b[49m\u001b[43m \u001b[49m\u001b[38;5;241;43m*\u001b[39;49m\u001b[38;5;241;43m*\u001b[39;49m\u001b[43msend_kwargs\u001b[49m\u001b[43m)\u001b[49m\n\u001b[1;32m    591\u001b[0m \u001b[38;5;28;01mreturn\u001b[39;00m resp\n",
      "File \u001b[0;32m~/anaconda3/envs/carva/lib/python3.10/site-packages/requests/sessions.py:703\u001b[0m, in \u001b[0;36mSession.send\u001b[0;34m(self, request, **kwargs)\u001b[0m\n\u001b[1;32m    700\u001b[0m start \u001b[38;5;241m=\u001b[39m preferred_clock()\n\u001b[1;32m    702\u001b[0m \u001b[38;5;66;03m# Send the request\u001b[39;00m\n\u001b[0;32m--> 703\u001b[0m r \u001b[38;5;241m=\u001b[39m \u001b[43madapter\u001b[49m\u001b[38;5;241;43m.\u001b[39;49m\u001b[43msend\u001b[49m\u001b[43m(\u001b[49m\u001b[43mrequest\u001b[49m\u001b[43m,\u001b[49m\u001b[43m \u001b[49m\u001b[38;5;241;43m*\u001b[39;49m\u001b[38;5;241;43m*\u001b[39;49m\u001b[43mkwargs\u001b[49m\u001b[43m)\u001b[49m\n\u001b[1;32m    705\u001b[0m \u001b[38;5;66;03m# Total elapsed time of the request (approximately)\u001b[39;00m\n\u001b[1;32m    706\u001b[0m elapsed \u001b[38;5;241m=\u001b[39m preferred_clock() \u001b[38;5;241m-\u001b[39m start\n",
      "File \u001b[0;32m~/anaconda3/envs/carva/lib/python3.10/site-packages/requests/adapters.py:667\u001b[0m, in \u001b[0;36mHTTPAdapter.send\u001b[0;34m(self, request, stream, timeout, verify, cert, proxies)\u001b[0m\n\u001b[1;32m    664\u001b[0m     timeout \u001b[38;5;241m=\u001b[39m TimeoutSauce(connect\u001b[38;5;241m=\u001b[39mtimeout, read\u001b[38;5;241m=\u001b[39mtimeout)\n\u001b[1;32m    666\u001b[0m \u001b[38;5;28;01mtry\u001b[39;00m:\n\u001b[0;32m--> 667\u001b[0m     resp \u001b[38;5;241m=\u001b[39m \u001b[43mconn\u001b[49m\u001b[38;5;241;43m.\u001b[39;49m\u001b[43murlopen\u001b[49m\u001b[43m(\u001b[49m\n\u001b[1;32m    668\u001b[0m \u001b[43m        \u001b[49m\u001b[43mmethod\u001b[49m\u001b[38;5;241;43m=\u001b[39;49m\u001b[43mrequest\u001b[49m\u001b[38;5;241;43m.\u001b[39;49m\u001b[43mmethod\u001b[49m\u001b[43m,\u001b[49m\n\u001b[1;32m    669\u001b[0m \u001b[43m        \u001b[49m\u001b[43murl\u001b[49m\u001b[38;5;241;43m=\u001b[39;49m\u001b[43murl\u001b[49m\u001b[43m,\u001b[49m\n\u001b[1;32m    670\u001b[0m \u001b[43m        \u001b[49m\u001b[43mbody\u001b[49m\u001b[38;5;241;43m=\u001b[39;49m\u001b[43mrequest\u001b[49m\u001b[38;5;241;43m.\u001b[39;49m\u001b[43mbody\u001b[49m\u001b[43m,\u001b[49m\n\u001b[1;32m    671\u001b[0m \u001b[43m        \u001b[49m\u001b[43mheaders\u001b[49m\u001b[38;5;241;43m=\u001b[39;49m\u001b[43mrequest\u001b[49m\u001b[38;5;241;43m.\u001b[39;49m\u001b[43mheaders\u001b[49m\u001b[43m,\u001b[49m\n\u001b[1;32m    672\u001b[0m \u001b[43m        \u001b[49m\u001b[43mredirect\u001b[49m\u001b[38;5;241;43m=\u001b[39;49m\u001b[38;5;28;43;01mFalse\u001b[39;49;00m\u001b[43m,\u001b[49m\n\u001b[1;32m    673\u001b[0m \u001b[43m        \u001b[49m\u001b[43massert_same_host\u001b[49m\u001b[38;5;241;43m=\u001b[39;49m\u001b[38;5;28;43;01mFalse\u001b[39;49;00m\u001b[43m,\u001b[49m\n\u001b[1;32m    674\u001b[0m \u001b[43m        \u001b[49m\u001b[43mpreload_content\u001b[49m\u001b[38;5;241;43m=\u001b[39;49m\u001b[38;5;28;43;01mFalse\u001b[39;49;00m\u001b[43m,\u001b[49m\n\u001b[1;32m    675\u001b[0m \u001b[43m        \u001b[49m\u001b[43mdecode_content\u001b[49m\u001b[38;5;241;43m=\u001b[39;49m\u001b[38;5;28;43;01mFalse\u001b[39;49;00m\u001b[43m,\u001b[49m\n\u001b[1;32m    676\u001b[0m \u001b[43m        \u001b[49m\u001b[43mretries\u001b[49m\u001b[38;5;241;43m=\u001b[39;49m\u001b[38;5;28;43mself\u001b[39;49m\u001b[38;5;241;43m.\u001b[39;49m\u001b[43mmax_retries\u001b[49m\u001b[43m,\u001b[49m\n\u001b[1;32m    677\u001b[0m \u001b[43m        \u001b[49m\u001b[43mtimeout\u001b[49m\u001b[38;5;241;43m=\u001b[39;49m\u001b[43mtimeout\u001b[49m\u001b[43m,\u001b[49m\n\u001b[1;32m    678\u001b[0m \u001b[43m        \u001b[49m\u001b[43mchunked\u001b[49m\u001b[38;5;241;43m=\u001b[39;49m\u001b[43mchunked\u001b[49m\u001b[43m,\u001b[49m\n\u001b[1;32m    679\u001b[0m \u001b[43m    \u001b[49m\u001b[43m)\u001b[49m\n\u001b[1;32m    681\u001b[0m \u001b[38;5;28;01mexcept\u001b[39;00m (ProtocolError, \u001b[38;5;167;01mOSError\u001b[39;00m) \u001b[38;5;28;01mas\u001b[39;00m err:\n\u001b[1;32m    682\u001b[0m     \u001b[38;5;28;01mraise\u001b[39;00m \u001b[38;5;167;01mConnectionError\u001b[39;00m(err, request\u001b[38;5;241m=\u001b[39mrequest)\n",
      "File \u001b[0;32m~/anaconda3/envs/carva/lib/python3.10/site-packages/urllib3/connectionpool.py:789\u001b[0m, in \u001b[0;36mHTTPConnectionPool.urlopen\u001b[0;34m(self, method, url, body, headers, retries, redirect, assert_same_host, timeout, pool_timeout, release_conn, chunked, body_pos, preload_content, decode_content, **response_kw)\u001b[0m\n\u001b[1;32m    786\u001b[0m response_conn \u001b[38;5;241m=\u001b[39m conn \u001b[38;5;28;01mif\u001b[39;00m \u001b[38;5;129;01mnot\u001b[39;00m release_conn \u001b[38;5;28;01melse\u001b[39;00m \u001b[38;5;28;01mNone\u001b[39;00m\n\u001b[1;32m    788\u001b[0m \u001b[38;5;66;03m# Make the request on the HTTPConnection object\u001b[39;00m\n\u001b[0;32m--> 789\u001b[0m response \u001b[38;5;241m=\u001b[39m \u001b[38;5;28;43mself\u001b[39;49m\u001b[38;5;241;43m.\u001b[39;49m\u001b[43m_make_request\u001b[49m\u001b[43m(\u001b[49m\n\u001b[1;32m    790\u001b[0m \u001b[43m    \u001b[49m\u001b[43mconn\u001b[49m\u001b[43m,\u001b[49m\n\u001b[1;32m    791\u001b[0m \u001b[43m    \u001b[49m\u001b[43mmethod\u001b[49m\u001b[43m,\u001b[49m\n\u001b[1;32m    792\u001b[0m \u001b[43m    \u001b[49m\u001b[43murl\u001b[49m\u001b[43m,\u001b[49m\n\u001b[1;32m    793\u001b[0m \u001b[43m    \u001b[49m\u001b[43mtimeout\u001b[49m\u001b[38;5;241;43m=\u001b[39;49m\u001b[43mtimeout_obj\u001b[49m\u001b[43m,\u001b[49m\n\u001b[1;32m    794\u001b[0m \u001b[43m    \u001b[49m\u001b[43mbody\u001b[49m\u001b[38;5;241;43m=\u001b[39;49m\u001b[43mbody\u001b[49m\u001b[43m,\u001b[49m\n\u001b[1;32m    795\u001b[0m \u001b[43m    \u001b[49m\u001b[43mheaders\u001b[49m\u001b[38;5;241;43m=\u001b[39;49m\u001b[43mheaders\u001b[49m\u001b[43m,\u001b[49m\n\u001b[1;32m    796\u001b[0m \u001b[43m    \u001b[49m\u001b[43mchunked\u001b[49m\u001b[38;5;241;43m=\u001b[39;49m\u001b[43mchunked\u001b[49m\u001b[43m,\u001b[49m\n\u001b[1;32m    797\u001b[0m \u001b[43m    \u001b[49m\u001b[43mretries\u001b[49m\u001b[38;5;241;43m=\u001b[39;49m\u001b[43mretries\u001b[49m\u001b[43m,\u001b[49m\n\u001b[1;32m    798\u001b[0m \u001b[43m    \u001b[49m\u001b[43mresponse_conn\u001b[49m\u001b[38;5;241;43m=\u001b[39;49m\u001b[43mresponse_conn\u001b[49m\u001b[43m,\u001b[49m\n\u001b[1;32m    799\u001b[0m \u001b[43m    \u001b[49m\u001b[43mpreload_content\u001b[49m\u001b[38;5;241;43m=\u001b[39;49m\u001b[43mpreload_content\u001b[49m\u001b[43m,\u001b[49m\n\u001b[1;32m    800\u001b[0m \u001b[43m    \u001b[49m\u001b[43mdecode_content\u001b[49m\u001b[38;5;241;43m=\u001b[39;49m\u001b[43mdecode_content\u001b[49m\u001b[43m,\u001b[49m\n\u001b[1;32m    801\u001b[0m \u001b[43m    \u001b[49m\u001b[38;5;241;43m*\u001b[39;49m\u001b[38;5;241;43m*\u001b[39;49m\u001b[43mresponse_kw\u001b[49m\u001b[43m,\u001b[49m\n\u001b[1;32m    802\u001b[0m \u001b[43m\u001b[49m\u001b[43m)\u001b[49m\n\u001b[1;32m    804\u001b[0m \u001b[38;5;66;03m# Everything went great!\u001b[39;00m\n\u001b[1;32m    805\u001b[0m clean_exit \u001b[38;5;241m=\u001b[39m \u001b[38;5;28;01mTrue\u001b[39;00m\n",
      "File \u001b[0;32m~/anaconda3/envs/carva/lib/python3.10/site-packages/urllib3/connectionpool.py:466\u001b[0m, in \u001b[0;36mHTTPConnectionPool._make_request\u001b[0;34m(self, conn, method, url, body, headers, retries, timeout, chunked, response_conn, preload_content, decode_content, enforce_content_length)\u001b[0m\n\u001b[1;32m    463\u001b[0m \u001b[38;5;28;01mtry\u001b[39;00m:\n\u001b[1;32m    464\u001b[0m     \u001b[38;5;66;03m# Trigger any extra validation we need to do.\u001b[39;00m\n\u001b[1;32m    465\u001b[0m     \u001b[38;5;28;01mtry\u001b[39;00m:\n\u001b[0;32m--> 466\u001b[0m         \u001b[38;5;28;43mself\u001b[39;49m\u001b[38;5;241;43m.\u001b[39;49m\u001b[43m_validate_conn\u001b[49m\u001b[43m(\u001b[49m\u001b[43mconn\u001b[49m\u001b[43m)\u001b[49m\n\u001b[1;32m    467\u001b[0m     \u001b[38;5;28;01mexcept\u001b[39;00m (SocketTimeout, BaseSSLError) \u001b[38;5;28;01mas\u001b[39;00m e:\n\u001b[1;32m    468\u001b[0m         \u001b[38;5;28mself\u001b[39m\u001b[38;5;241m.\u001b[39m_raise_timeout(err\u001b[38;5;241m=\u001b[39me, url\u001b[38;5;241m=\u001b[39murl, timeout_value\u001b[38;5;241m=\u001b[39mconn\u001b[38;5;241m.\u001b[39mtimeout)\n",
      "File \u001b[0;32m~/anaconda3/envs/carva/lib/python3.10/site-packages/urllib3/connectionpool.py:1095\u001b[0m, in \u001b[0;36mHTTPSConnectionPool._validate_conn\u001b[0;34m(self, conn)\u001b[0m\n\u001b[1;32m   1093\u001b[0m \u001b[38;5;66;03m# Force connect early to allow us to validate the connection.\u001b[39;00m\n\u001b[1;32m   1094\u001b[0m \u001b[38;5;28;01mif\u001b[39;00m conn\u001b[38;5;241m.\u001b[39mis_closed:\n\u001b[0;32m-> 1095\u001b[0m     \u001b[43mconn\u001b[49m\u001b[38;5;241;43m.\u001b[39;49m\u001b[43mconnect\u001b[49m\u001b[43m(\u001b[49m\u001b[43m)\u001b[49m\n\u001b[1;32m   1097\u001b[0m \u001b[38;5;66;03m# TODO revise this, see https://github.com/urllib3/urllib3/issues/2791\u001b[39;00m\n\u001b[1;32m   1098\u001b[0m \u001b[38;5;28;01mif\u001b[39;00m \u001b[38;5;129;01mnot\u001b[39;00m conn\u001b[38;5;241m.\u001b[39mis_verified \u001b[38;5;129;01mand\u001b[39;00m \u001b[38;5;129;01mnot\u001b[39;00m conn\u001b[38;5;241m.\u001b[39mproxy_is_verified:\n",
      "File \u001b[0;32m~/anaconda3/envs/carva/lib/python3.10/site-packages/urllib3/connection.py:615\u001b[0m, in \u001b[0;36mHTTPSConnection.connect\u001b[0;34m(self)\u001b[0m\n\u001b[1;32m    613\u001b[0m \u001b[38;5;28;01mdef\u001b[39;00m \u001b[38;5;21mconnect\u001b[39m(\u001b[38;5;28mself\u001b[39m) \u001b[38;5;241m-\u001b[39m\u001b[38;5;241m>\u001b[39m \u001b[38;5;28;01mNone\u001b[39;00m:\n\u001b[1;32m    614\u001b[0m     sock: socket\u001b[38;5;241m.\u001b[39msocket \u001b[38;5;241m|\u001b[39m ssl\u001b[38;5;241m.\u001b[39mSSLSocket\n\u001b[0;32m--> 615\u001b[0m     \u001b[38;5;28mself\u001b[39m\u001b[38;5;241m.\u001b[39msock \u001b[38;5;241m=\u001b[39m sock \u001b[38;5;241m=\u001b[39m \u001b[38;5;28;43mself\u001b[39;49m\u001b[38;5;241;43m.\u001b[39;49m\u001b[43m_new_conn\u001b[49m\u001b[43m(\u001b[49m\u001b[43m)\u001b[49m\n\u001b[1;32m    616\u001b[0m     server_hostname: \u001b[38;5;28mstr\u001b[39m \u001b[38;5;241m=\u001b[39m \u001b[38;5;28mself\u001b[39m\u001b[38;5;241m.\u001b[39mhost\n\u001b[1;32m    617\u001b[0m     tls_in_tls \u001b[38;5;241m=\u001b[39m \u001b[38;5;28;01mFalse\u001b[39;00m\n",
      "File \u001b[0;32m~/anaconda3/envs/carva/lib/python3.10/site-packages/urllib3/connection.py:196\u001b[0m, in \u001b[0;36mHTTPConnection._new_conn\u001b[0;34m(self)\u001b[0m\n\u001b[1;32m    191\u001b[0m \u001b[38;5;250m\u001b[39m\u001b[38;5;124;03m\"\"\"Establish a socket connection and set nodelay settings on it.\u001b[39;00m\n\u001b[1;32m    192\u001b[0m \n\u001b[1;32m    193\u001b[0m \u001b[38;5;124;03m:return: New socket connection.\u001b[39;00m\n\u001b[1;32m    194\u001b[0m \u001b[38;5;124;03m\"\"\"\u001b[39;00m\n\u001b[1;32m    195\u001b[0m \u001b[38;5;28;01mtry\u001b[39;00m:\n\u001b[0;32m--> 196\u001b[0m     sock \u001b[38;5;241m=\u001b[39m \u001b[43mconnection\u001b[49m\u001b[38;5;241;43m.\u001b[39;49m\u001b[43mcreate_connection\u001b[49m\u001b[43m(\u001b[49m\n\u001b[1;32m    197\u001b[0m \u001b[43m        \u001b[49m\u001b[43m(\u001b[49m\u001b[38;5;28;43mself\u001b[39;49m\u001b[38;5;241;43m.\u001b[39;49m\u001b[43m_dns_host\u001b[49m\u001b[43m,\u001b[49m\u001b[43m \u001b[49m\u001b[38;5;28;43mself\u001b[39;49m\u001b[38;5;241;43m.\u001b[39;49m\u001b[43mport\u001b[49m\u001b[43m)\u001b[49m\u001b[43m,\u001b[49m\n\u001b[1;32m    198\u001b[0m \u001b[43m        \u001b[49m\u001b[38;5;28;43mself\u001b[39;49m\u001b[38;5;241;43m.\u001b[39;49m\u001b[43mtimeout\u001b[49m\u001b[43m,\u001b[49m\n\u001b[1;32m    199\u001b[0m \u001b[43m        \u001b[49m\u001b[43msource_address\u001b[49m\u001b[38;5;241;43m=\u001b[39;49m\u001b[38;5;28;43mself\u001b[39;49m\u001b[38;5;241;43m.\u001b[39;49m\u001b[43msource_address\u001b[49m\u001b[43m,\u001b[49m\n\u001b[1;32m    200\u001b[0m \u001b[43m        \u001b[49m\u001b[43msocket_options\u001b[49m\u001b[38;5;241;43m=\u001b[39;49m\u001b[38;5;28;43mself\u001b[39;49m\u001b[38;5;241;43m.\u001b[39;49m\u001b[43msocket_options\u001b[49m\u001b[43m,\u001b[49m\n\u001b[1;32m    201\u001b[0m \u001b[43m    \u001b[49m\u001b[43m)\u001b[49m\n\u001b[1;32m    202\u001b[0m \u001b[38;5;28;01mexcept\u001b[39;00m socket\u001b[38;5;241m.\u001b[39mgaierror \u001b[38;5;28;01mas\u001b[39;00m e:\n\u001b[1;32m    203\u001b[0m     \u001b[38;5;28;01mraise\u001b[39;00m NameResolutionError(\u001b[38;5;28mself\u001b[39m\u001b[38;5;241m.\u001b[39mhost, \u001b[38;5;28mself\u001b[39m, e) \u001b[38;5;28;01mfrom\u001b[39;00m \u001b[38;5;21;01me\u001b[39;00m\n",
      "File \u001b[0;32m~/anaconda3/envs/carva/lib/python3.10/site-packages/urllib3/util/connection.py:73\u001b[0m, in \u001b[0;36mcreate_connection\u001b[0;34m(address, timeout, source_address, socket_options)\u001b[0m\n\u001b[1;32m     71\u001b[0m \u001b[38;5;28;01mif\u001b[39;00m source_address:\n\u001b[1;32m     72\u001b[0m     sock\u001b[38;5;241m.\u001b[39mbind(source_address)\n\u001b[0;32m---> 73\u001b[0m \u001b[43msock\u001b[49m\u001b[38;5;241;43m.\u001b[39;49m\u001b[43mconnect\u001b[49m\u001b[43m(\u001b[49m\u001b[43msa\u001b[49m\u001b[43m)\u001b[49m\n\u001b[1;32m     74\u001b[0m \u001b[38;5;66;03m# Break explicitly a reference cycle\u001b[39;00m\n\u001b[1;32m     75\u001b[0m err \u001b[38;5;241m=\u001b[39m \u001b[38;5;28;01mNone\u001b[39;00m\n",
      "\u001b[0;31mKeyboardInterrupt\u001b[0m: "
     ]
    }
   ],
   "source": [
    "retried = {}\n",
    "for snp in tqdm(retry_snps):\n",
    "    retried[snp] = query_snp(snp)\n",
    "# retried all and did not get any data for any of them, will just drop these. "
   ]
  },
  {
   "cell_type": "code",
   "execution_count": 327,
   "metadata": {
    "ExecuteTime": {
     "end_time": "2025-02-19T00:56:32.446348Z",
     "start_time": "2025-02-19T00:56:32.422670Z"
    }
   },
   "outputs": [],
   "source": [
    "all_snps = all_snps.drop(index=retry_snps)"
   ]
  },
  {
   "cell_type": "code",
   "execution_count": 328,
   "metadata": {
    "ExecuteTime": {
     "end_time": "2025-02-19T00:56:34.407918Z",
     "start_time": "2025-02-19T00:56:34.370827Z"
    }
   },
   "outputs": [],
   "source": [
    "# remove those with no chr38 mapping\n",
    "no_chr_38 = all_snps[~all_snps[\"pos.37.err\"].isna() & all_snps[\"pos.38.err\"].isna()].index.values\n",
    "all_snps = all_snps.drop(index=no_chr_38)"
   ]
  },
  {
   "cell_type": "code",
   "execution_count": 329,
   "metadata": {
    "ExecuteTime": {
     "end_time": "2025-02-19T00:56:36.400390Z",
     "start_time": "2025-02-19T00:56:36.336973Z"
    }
   },
   "outputs": [
    {
     "name": "stderr",
     "output_type": "stream",
     "text": [
      "/tmp/ipykernel_3245210/3389276696.py:3: SettingWithCopyWarning: \n",
      "A value is trying to be set on a copy of a slice from a DataFrame.\n",
      "Try using .loc[row_indexer,col_indexer] = value instead\n",
      "\n",
      "See the caveats in the documentation: https://pandas.pydata.org/pandas-docs/stable/user_guide/indexing.html#returning-a-view-versus-a-copy\n",
      "  no_chr_37['pos.38'] = no_chr_37['pos.38.err']\n"
     ]
    }
   ],
   "source": [
    "# replace these with 38 mapping onlty\n",
    "no_chr_37 = all_snps[all_snps[\"pos.37.err\"].isna() & ~all_snps[\"pos.38.err\"].isna()]\n",
    "no_chr_37['pos.38'] = no_chr_37['pos.38.err']\n",
    "no_chr_37 = no_chr_37.drop(columns=['error', 'pos.38.err', 'pos.37.err', 'chr.37'])\n",
    "all_snps = all_snps.drop(index=no_chr_37.index.values).copy()\n",
    "all_snps = pd.concat([all_snps, no_chr_37])"
   ]
  },
  {
   "cell_type": "code",
   "execution_count": 330,
   "metadata": {
    "ExecuteTime": {
     "end_time": "2025-02-19T00:56:38.352659Z",
     "start_time": "2025-02-19T00:56:38.332586Z"
    }
   },
   "outputs": [],
   "source": [
    "conflicts = all_snps[~all_snps[\"pos.37.err\"].isna()]\n",
    "conflictsXY = conflicts[(conflicts['chr.38'] == 'chrY; X') & (conflicts['pos.38.err'].str.contains(';'))]\n",
    "conflictsXY\n",
    "\n",
    "snp_dictX = {}\n",
    "snp_dictY = {}\n",
    "for row in conflictsXY.iterrows():\n",
    "    positions = row[1]['pos.38.err'].split('; ')\n",
    "    snp_dictX[row[0]] = {'chr.38': 'chrX', 'pos.38': positions[1]}\n",
    "    snp_dictY[row[0]] = {'chr.38': 'chrY', 'pos.38': positions[0]}\n",
    "    \n",
    "conflictsXY = pd.concat([pd.DataFrame.from_dict(snp_dictX, orient='index'),\n",
    "          pd.DataFrame.from_dict(snp_dictY, orient='index')])\n"
   ]
  },
  {
   "cell_type": "code",
   "execution_count": 331,
   "metadata": {
    "ExecuteTime": {
     "end_time": "2025-02-19T00:56:40.299081Z",
     "start_time": "2025-02-19T00:56:40.291425Z"
    }
   },
   "outputs": [
    {
     "name": "stderr",
     "output_type": "stream",
     "text": [
      "/tmp/ipykernel_3245210/1303013380.py:2: SettingWithCopyWarning: \n",
      "A value is trying to be set on a copy of a slice from a DataFrame.\n",
      "Try using .loc[row_indexer,col_indexer] = value instead\n",
      "\n",
      "See the caveats in the documentation: https://pandas.pydata.org/pandas-docs/stable/user_guide/indexing.html#returning-a-view-versus-a-copy\n",
      "  conflictsY['chr.38'] = 'chrY'\n",
      "/tmp/ipykernel_3245210/1303013380.py:3: SettingWithCopyWarning: \n",
      "A value is trying to be set on a copy of a slice from a DataFrame.\n",
      "Try using .loc[row_indexer,col_indexer] = value instead\n",
      "\n",
      "See the caveats in the documentation: https://pandas.pydata.org/pandas-docs/stable/user_guide/indexing.html#returning-a-view-versus-a-copy\n",
      "  conflictsY['pos.38'] = conflictsY['pos.38.err']\n"
     ]
    },
    {
     "data": {
      "text/html": [
       "<div>\n",
       "<style scoped>\n",
       "    .dataframe tbody tr th:only-of-type {\n",
       "        vertical-align: middle;\n",
       "    }\n",
       "\n",
       "    .dataframe tbody tr th {\n",
       "        vertical-align: top;\n",
       "    }\n",
       "\n",
       "    .dataframe thead th {\n",
       "        text-align: right;\n",
       "    }\n",
       "</style>\n",
       "<table border=\"1\" class=\"dataframe\">\n",
       "  <thead>\n",
       "    <tr style=\"text-align: right;\">\n",
       "      <th></th>\n",
       "      <th>chr.38</th>\n",
       "      <th>pos.38</th>\n",
       "      <th>pos.37</th>\n",
       "    </tr>\n",
       "  </thead>\n",
       "  <tbody>\n",
       "    <tr>\n",
       "      <th>rs9330638</th>\n",
       "      <td>chrY</td>\n",
       "      <td>1224600</td>\n",
       "      <td>NaN</td>\n",
       "    </tr>\n",
       "    <tr>\n",
       "      <th>rs141498873</th>\n",
       "      <td>chrY</td>\n",
       "      <td>1245107</td>\n",
       "      <td>NaN</td>\n",
       "    </tr>\n",
       "    <tr>\n",
       "      <th>rs28649190</th>\n",
       "      <td>chrY</td>\n",
       "      <td>1254156</td>\n",
       "      <td>NaN</td>\n",
       "    </tr>\n",
       "    <tr>\n",
       "      <th>rs4933152</th>\n",
       "      <td>chrY</td>\n",
       "      <td>1464549</td>\n",
       "      <td>NaN</td>\n",
       "    </tr>\n",
       "    <tr>\n",
       "      <th>rs4129148</th>\n",
       "      <td>chrY</td>\n",
       "      <td>1029444.0</td>\n",
       "      <td>NaN</td>\n",
       "    </tr>\n",
       "    <tr>\n",
       "      <th>rs28578016</th>\n",
       "      <td>chrY</td>\n",
       "      <td>1466185.0</td>\n",
       "      <td>NaN</td>\n",
       "    </tr>\n",
       "    <tr>\n",
       "      <th>rs112833075</th>\n",
       "      <td>chrY</td>\n",
       "      <td>1580825.0</td>\n",
       "      <td>NaN</td>\n",
       "    </tr>\n",
       "    <tr>\n",
       "      <th>rs35494566</th>\n",
       "      <td>chrY</td>\n",
       "      <td>1334131.0</td>\n",
       "      <td>NaN</td>\n",
       "    </tr>\n",
       "    <tr>\n",
       "      <th>rs9785465</th>\n",
       "      <td>chrY</td>\n",
       "      <td>1231918</td>\n",
       "      <td>NaN</td>\n",
       "    </tr>\n",
       "    <tr>\n",
       "      <th>rs28380386</th>\n",
       "      <td>chrY</td>\n",
       "      <td>1249215</td>\n",
       "      <td>NaN</td>\n",
       "    </tr>\n",
       "    <tr>\n",
       "      <th>rs28578016</th>\n",
       "      <td>chrY</td>\n",
       "      <td>1466185.0</td>\n",
       "      <td>NaN</td>\n",
       "    </tr>\n",
       "    <tr>\n",
       "      <th>rs28532112</th>\n",
       "      <td>chrY</td>\n",
       "      <td>1256293.0</td>\n",
       "      <td>NaN</td>\n",
       "    </tr>\n",
       "    <tr>\n",
       "      <th>rs311103</th>\n",
       "      <td>chrY</td>\n",
       "      <td>2748342.0</td>\n",
       "      <td>NaN</td>\n",
       "    </tr>\n",
       "  </tbody>\n",
       "</table>\n",
       "</div>"
      ],
      "text/plain": [
       "            chr.38     pos.38  pos.37\n",
       "rs9330638     chrY    1224600     NaN\n",
       "rs141498873   chrY    1245107     NaN\n",
       "rs28649190    chrY    1254156     NaN\n",
       "rs4933152     chrY    1464549     NaN\n",
       "rs4129148     chrY  1029444.0     NaN\n",
       "rs28578016    chrY  1466185.0     NaN\n",
       "rs112833075   chrY  1580825.0     NaN\n",
       "rs35494566    chrY  1334131.0     NaN\n",
       "rs9785465     chrY    1231918     NaN\n",
       "rs28380386    chrY    1249215     NaN\n",
       "rs28578016    chrY  1466185.0     NaN\n",
       "rs28532112    chrY  1256293.0     NaN\n",
       "rs311103      chrY  2748342.0     NaN"
      ]
     },
     "execution_count": 331,
     "metadata": {},
     "output_type": "execute_result"
    }
   ],
   "source": [
    "conflictsY = conflicts[(conflicts['chr.38'] == 'chrY; X') & (~conflicts.index.isin(conflictsXY.index.values))]\n",
    "conflictsY['chr.38'] = 'chrY'\n",
    "conflictsY['pos.38'] = conflictsY['pos.38.err']\n",
    "conflictsY = conflictsY.drop(columns=['chr.37', 'error', 'pos.38.err', 'pos.37.err']).copy()\n",
    "conflictsY"
   ]
  },
  {
   "cell_type": "code",
   "execution_count": 95,
   "metadata": {
    "ExecuteTime": {
     "end_time": "2025-02-18T19:14:15.367266Z",
     "start_time": "2025-02-18T19:14:15.360364Z"
    }
   },
   "outputs": [
    {
     "name": "stderr",
     "output_type": "stream",
     "text": [
      "/tmp/ipykernel_3245210/1222367715.py:2: SettingWithCopyWarning: \n",
      "A value is trying to be set on a copy of a slice from a DataFrame.\n",
      "Try using .loc[row_indexer,col_indexer] = value instead\n",
      "\n",
      "See the caveats in the documentation: https://pandas.pydata.org/pandas-docs/stable/user_guide/indexing.html#returning-a-view-versus-a-copy\n",
      "  conflictsOther['pos.38'] = conflictsOther['pos.38.err']\n"
     ]
    },
    {
     "data": {
      "text/html": [
       "<div>\n",
       "<style scoped>\n",
       "    .dataframe tbody tr th:only-of-type {\n",
       "        vertical-align: middle;\n",
       "    }\n",
       "\n",
       "    .dataframe tbody tr th {\n",
       "        vertical-align: top;\n",
       "    }\n",
       "\n",
       "    .dataframe thead th {\n",
       "        text-align: right;\n",
       "    }\n",
       "</style>\n",
       "<table border=\"1\" class=\"dataframe\">\n",
       "  <thead>\n",
       "    <tr style=\"text-align: right;\">\n",
       "      <th></th>\n",
       "      <th>chr.38</th>\n",
       "      <th>pos.38</th>\n",
       "      <th>pos.37</th>\n",
       "    </tr>\n",
       "  </thead>\n",
       "  <tbody>\n",
       "    <tr>\n",
       "      <th>rs373703160</th>\n",
       "      <td>chr17</td>\n",
       "      <td>37489935.0</td>\n",
       "      <td>NaN</td>\n",
       "    </tr>\n",
       "    <tr>\n",
       "      <th>rs11268956</th>\n",
       "      <td>chr22</td>\n",
       "      <td>42152933.0</td>\n",
       "      <td>NaN</td>\n",
       "    </tr>\n",
       "  </tbody>\n",
       "</table>\n",
       "</div>"
      ],
      "text/plain": [
       "            chr.38      pos.38  pos.37\n",
       "rs373703160  chr17  37489935.0     NaN\n",
       "rs11268956   chr22  42152933.0     NaN"
      ]
     },
     "execution_count": 95,
     "metadata": {},
     "output_type": "execute_result"
    }
   ],
   "source": [
    "conflictsOther = conflicts[~conflicts.index.isin(list(conflictsXY.index.values) + list(conflictsY.index.values))]\n",
    "conflictsOther['pos.38'] = conflictsOther['pos.38.err']\n",
    "conflictsOther = conflictsOther.copy().drop(columns=['pos.38.err', 'pos.37.err', 'error', 'chr.37'])\n",
    "conflictsOther"
   ]
  },
  {
   "cell_type": "code",
   "execution_count": 96,
   "metadata": {
    "ExecuteTime": {
     "end_time": "2025-02-18T19:14:17.011694Z",
     "start_time": "2025-02-18T19:14:17.008796Z"
    }
   },
   "outputs": [],
   "source": [
    "all_conflicts  = pd.concat([conflictsXY, conflictsY, conflictsOther])"
   ]
  },
  {
   "cell_type": "code",
   "execution_count": 97,
   "metadata": {
    "ExecuteTime": {
     "end_time": "2025-02-18T19:14:18.136310Z",
     "start_time": "2025-02-18T19:14:17.774468Z"
    }
   },
   "outputs": [],
   "source": [
    "all_snps = all_snps.drop(index=all_conflicts.index.values).copy()\n",
    "all_snps = pd.concat([all_snps, all_conflicts])\n",
    "all_snps = all_snps.drop(columns = ['pos.38.err', 'pos.37.err'])"
   ]
  },
  {
   "cell_type": "code",
   "execution_count": 98,
   "metadata": {
    "ExecuteTime": {
     "end_time": "2025-02-18T19:14:19.048587Z",
     "start_time": "2025-02-18T19:14:19.040999Z"
    }
   },
   "outputs": [],
   "source": [
    "all_snps = all_snps.drop(columns = ['error'])"
   ]
  },
  {
   "cell_type": "code",
   "execution_count": 99,
   "metadata": {
    "ExecuteTime": {
     "end_time": "2025-02-18T19:14:19.665567Z",
     "start_time": "2025-02-18T19:14:19.656187Z"
    }
   },
   "outputs": [],
   "source": [
    "all_snps.columns=['chr38', 'chr37', 'pos38', 'pos37']\n",
    "all_snps['pos38'] = all_snps['pos38'].astype(int)"
   ]
  },
  {
   "cell_type": "code",
   "execution_count": 100,
   "metadata": {
    "ExecuteTime": {
     "end_time": "2025-02-18T19:14:21.239447Z",
     "start_time": "2025-02-18T19:14:21.177022Z"
    }
   },
   "outputs": [],
   "source": [
    "all_snps = all_snps.sort_values(by=['chr38','pos38'])"
   ]
  },
  {
   "cell_type": "code",
   "execution_count": 103,
   "metadata": {
    "ExecuteTime": {
     "end_time": "2025-02-18T19:16:10.758873Z",
     "start_time": "2025-02-18T19:16:10.218737Z"
    }
   },
   "outputs": [],
   "source": [
    "all_snps.to_csv(os.path.join(datadir, 'GWASCatalog', 'rsSNP_info_all.txt'), sep='\\t', index=True)\n",
    "all_snps.drop(columns=['chr37', 'pos37']).to_csv(os.path.join(datadir, 'GWASCatalog', 'rsSNP_info_all_hg38.txt'), sep='\\t', index=True)"
   ]
  },
  {
   "cell_type": "markdown",
   "metadata": {
    "ExecuteTime": {
     "end_time": "2025-02-14T22:02:15.312483Z",
     "start_time": "2025-02-14T22:02:15.310652Z"
    }
   },
   "source": [
    "## DEV - Load All GWAS associations"
   ]
  },
  {
   "cell_type": "code",
   "execution_count": 16,
   "metadata": {
    "ExecuteTime": {
     "end_time": "2025-02-14T22:07:34.856843Z",
     "start_time": "2025-02-14T22:07:30.970367Z"
    }
   },
   "outputs": [
    {
     "name": "stderr",
     "output_type": "stream",
     "text": [
      "/tmp/ipykernel_228265/1634525330.py:1: DtypeWarning: Columns (11,12,13,23) have mixed types. Specify dtype option on import or set low_memory=False.\n",
      "  gda = pd.read_csv(os.path.join(datadir, 'GWASCatalog', 'gwas_catalog_Jan29_2025.txt'),\n"
     ]
    }
   ],
   "source": [
    "gda = pd.read_csv(os.path.join(datadir, 'GWASCatalog', 'gwas_catalog_Jan29_2025.txt'), \n",
    "                  usecols=['PUBMEDID', 'DISEASE/TRAIT', 'REGION', 'CHR_ID', 'CHR_POS', 'REPORTED GENE(S)',\n",
    "                           'MAPPED_GENE', 'SNP_GENE_IDS', 'STRONGEST SNP-RISK ALLELE', 'SNPS', 'SNP_ID_CURRENT', \n",
    "                           'P-VALUE', 'PVALUE_MLOG', 'MAPPED_TRAIT', 'MAPPED_TRAIT_URI', 'STUDY ACCESSION'], sep='\\t')"
   ]
  },
  {
   "cell_type": "code",
   "execution_count": null,
   "metadata": {},
   "outputs": [],
   "source": [
    "# i think it is safe to ignore the rows with no current SNP id\n",
    "gda[gda.SNP_ID_CURRENT.isna()]['MAPPED_GENE'].value_counts()"
   ]
  },
  {
   "cell_type": "code",
   "execution_count": 29,
   "metadata": {
    "ExecuteTime": {
     "end_time": "2025-02-14T22:13:34.113919Z",
     "start_time": "2025-02-14T22:13:33.884837Z"
    }
   },
   "outputs": [
    {
     "data": {
      "text/plain": [
       "332234"
      ]
     },
     "execution_count": 29,
     "metadata": {},
     "output_type": "execute_result"
    }
   ],
   "source": [
    "# Total unique SNPS across all studies\n",
    "gda[~gda.SNP_ID_CURRENT.isna()].SNP_ID_CURRENT.nunique()"
   ]
  },
  {
   "cell_type": "code",
   "execution_count": 38,
   "metadata": {
    "ExecuteTime": {
     "end_time": "2025-02-14T22:17:29.379847Z",
     "start_time": "2025-02-14T22:17:28.973660Z"
    }
   },
   "outputs": [],
   "source": [
    "gda_snps = gda[~gda.SNP_ID_CURRENT.isna()]\n",
    "gda_snps = gda_snps.assign(TRAIT_CODE=gda_snps.MAPPED_TRAIT_URI.apply(lambda x: x.split('/')[-1] if isinstance(x, str) else np.nan))"
   ]
  },
  {
   "cell_type": "code",
   "execution_count": 30,
   "metadata": {
    "ExecuteTime": {
     "end_time": "2025-02-14T22:15:17.314685Z",
     "start_time": "2025-02-14T22:15:17.188525Z"
    }
   },
   "outputs": [],
   "source": [
    "with open(os.path.join(datadir, 'inputs/Jan_2025', 'common.traitlist'), 'r') as f:\n",
    "    traits = [x.strip().split('_', 1)[-1] for x in f.readlines()]"
   ]
  },
  {
   "cell_type": "code",
   "execution_count": 40,
   "metadata": {
    "ExecuteTime": {
     "end_time": "2025-02-14T22:18:02.763105Z",
     "start_time": "2025-02-14T22:18:02.676462Z"
    }
   },
   "outputs": [],
   "source": [
    "gda_snps_traits = gda_snps[gda_snps.TRAIT_CODE.isin(traits)]"
   ]
  },
  {
   "cell_type": "code",
   "execution_count": 41,
   "metadata": {
    "ExecuteTime": {
     "end_time": "2025-02-14T22:18:29.597354Z",
     "start_time": "2025-02-14T22:18:29.562360Z"
    }
   },
   "outputs": [
    {
     "data": {
      "text/plain": [
       "156664"
      ]
     },
     "execution_count": 41,
     "metadata": {},
     "output_type": "execute_result"
    }
   ],
   "source": [
    "# Total remaining SNPS\n",
    "gda_snps_traits.SNP_ID_CURRENT.nunique()"
   ]
  },
  {
   "cell_type": "code",
   "execution_count": 46,
   "metadata": {
    "ExecuteTime": {
     "end_time": "2025-02-14T22:31:52.287356Z",
     "start_time": "2025-02-14T22:31:52.260281Z"
    }
   },
   "outputs": [
    {
     "data": {
      "text/html": [
       "<div>\n",
       "<style scoped>\n",
       "    .dataframe tbody tr th:only-of-type {\n",
       "        vertical-align: middle;\n",
       "    }\n",
       "\n",
       "    .dataframe tbody tr th {\n",
       "        vertical-align: top;\n",
       "    }\n",
       "\n",
       "    .dataframe thead th {\n",
       "        text-align: right;\n",
       "    }\n",
       "</style>\n",
       "<table border=\"1\" class=\"dataframe\">\n",
       "  <thead>\n",
       "    <tr style=\"text-align: right;\">\n",
       "      <th></th>\n",
       "      <th>PUBMEDID</th>\n",
       "      <th>STUDY</th>\n",
       "      <th>DISEASE/TRAIT</th>\n",
       "      <th>REGION</th>\n",
       "      <th>CHR_ID</th>\n",
       "      <th>CHR_POS</th>\n",
       "      <th>REPORTED GENE(S)</th>\n",
       "      <th>MAPPED_GENE</th>\n",
       "      <th>SNP_GENE_IDS</th>\n",
       "      <th>STRONGEST SNP-RISK ALLELE</th>\n",
       "      <th>SNPS</th>\n",
       "      <th>SNP_ID_CURRENT</th>\n",
       "      <th>P-VALUE</th>\n",
       "      <th>PVALUE_MLOG</th>\n",
       "      <th>MAPPED_TRAIT</th>\n",
       "      <th>MAPPED_TRAIT_URI</th>\n",
       "      <th>STUDY ACCESSION</th>\n",
       "      <th>TRAIT_CODE</th>\n",
       "    </tr>\n",
       "  </thead>\n",
       "  <tbody>\n",
       "    <tr>\n",
       "      <th>122400</th>\n",
       "      <td>29892016</td>\n",
       "      <td>Association analyses of more than 140,000 men ...</td>\n",
       "      <td>Prostate cancer</td>\n",
       "      <td>NaN</td>\n",
       "      <td>NaN</td>\n",
       "      <td>NaN</td>\n",
       "      <td>PPFIBP2</td>\n",
       "      <td>NaN</td>\n",
       "      <td>NaN</td>\n",
       "      <td>rs61890184-A</td>\n",
       "      <td>rs61890184d</td>\n",
       "      <td>61890184d</td>\n",
       "      <td>7.000000e-09</td>\n",
       "      <td>8.154902</td>\n",
       "      <td>prostate carcinoma</td>\n",
       "      <td>http://www.ebi.ac.uk/efo/EFO_0001663</td>\n",
       "      <td>GCST006085</td>\n",
       "      <td>EFO_0001663</td>\n",
       "    </tr>\n",
       "  </tbody>\n",
       "</table>\n",
       "</div>"
      ],
      "text/plain": [
       "        PUBMEDID                                              STUDY  \\\n",
       "122400  29892016  Association analyses of more than 140,000 men ...   \n",
       "\n",
       "          DISEASE/TRAIT REGION CHR_ID CHR_POS REPORTED GENE(S) MAPPED_GENE  \\\n",
       "122400  Prostate cancer    NaN    NaN     NaN          PPFIBP2         NaN   \n",
       "\n",
       "       SNP_GENE_IDS STRONGEST SNP-RISK ALLELE         SNPS SNP_ID_CURRENT  \\\n",
       "122400          NaN              rs61890184-A  rs61890184d      61890184d   \n",
       "\n",
       "             P-VALUE  PVALUE_MLOG        MAPPED_TRAIT  \\\n",
       "122400  7.000000e-09     8.154902  prostate carcinoma   \n",
       "\n",
       "                            MAPPED_TRAIT_URI STUDY ACCESSION   TRAIT_CODE  \n",
       "122400  http://www.ebi.ac.uk/efo/EFO_0001663      GCST006085  EFO_0001663  "
      ]
     },
     "execution_count": 46,
     "metadata": {},
     "output_type": "execute_result"
    }
   ],
   "source": [
    "gda_snps_traits[gda_snps_traits.SNP_ID_CURRENT=='61890184d']"
   ]
  },
  {
   "cell_type": "code",
   "execution_count": 55,
   "metadata": {
    "ExecuteTime": {
     "end_time": "2025-02-14T22:37:44.080700Z",
     "start_time": "2025-02-14T22:37:44.031077Z"
    }
   },
   "outputs": [],
   "source": [
    "query_snps = [snp for snp in gda_snps_traits.SNP_ID_CURRENT.unique() if isinstance(snp, float) or snp.isnumeric()]"
   ]
  },
  {
   "cell_type": "code",
   "execution_count": 56,
   "metadata": {
    "ExecuteTime": {
     "end_time": "2025-02-14T22:37:50.410454Z",
     "start_time": "2025-02-14T22:37:50.407761Z"
    }
   },
   "outputs": [
    {
     "data": {
      "text/plain": [
       "156661"
      ]
     },
     "execution_count": 56,
     "metadata": {},
     "output_type": "execute_result"
    }
   ],
   "source": [
    "len(query_snps)"
   ]
  },
  {
   "cell_type": "code",
   "execution_count": 64,
   "metadata": {
    "ExecuteTime": {
     "end_time": "2025-02-14T22:44:17.282258Z",
     "start_time": "2025-02-14T22:43:54.882441Z"
    }
   },
   "outputs": [
    {
     "name": "stderr",
     "output_type": "stream",
     "text": [
      "100%|██████████| 100/100 [00:22<00:00,  4.47it/s]\n"
     ]
    }
   ],
   "source": [
    "snp_info1 = {}\n",
    "for rsid in tqdm(query_snps[0:100]):\n",
    "    rsid_st = 'rs'+ str(int(rsid))\n",
    "    snp_info1[rsid_st] = query_snp(rsid_st)"
   ]
  },
  {
   "cell_type": "code",
   "execution_count": 67,
   "metadata": {
    "ExecuteTime": {
     "end_time": "2025-02-14T22:48:23.408779Z",
     "start_time": "2025-02-14T22:48:23.281827Z"
    }
   },
   "outputs": [],
   "source": [
    "# export the snp info\n",
    "\n",
    "snp_out = ['rs'+str(int(snp)) for snp in query_snps]\n",
    "with open(os.path.join(datadir, 'GWASCatalog', 'Shared_trait_snp_rsid.txt'), 'w') as f:\n",
    "    f.write('\\n'.join(snp_out) +'\\n')"
   ]
  },
  {
   "cell_type": "markdown",
   "metadata": {},
   "source": [
    "## Check outputs"
   ]
  },
  {
   "cell_type": "code",
   "execution_count": 353,
   "metadata": {
    "ExecuteTime": {
     "end_time": "2025-02-19T17:44:32.028594Z",
     "start_time": "2025-02-19T17:44:31.917906Z"
    }
   },
   "outputs": [],
   "source": [
    "all_snps = pd.read_csv(os.path.join(datadir, 'GWASCatalog', 'rsSNP_info_all_hg38.txt'), sep='\\t', index_col=0)\n",
    "snp_inputs = pd.read_csv(os.path.join(datadir, 'GWASCatalog', 'Shared_trait_snp_rsid.txt'), sep='\\t', header=None, names=['rsID'])"
   ]
  },
  {
   "cell_type": "code",
   "execution_count": 358,
   "metadata": {
    "ExecuteTime": {
     "end_time": "2025-02-19T17:46:34.458244Z",
     "start_time": "2025-02-19T17:46:34.382604Z"
    }
   },
   "outputs": [
    {
     "name": "stdout",
     "output_type": "stream",
     "text": [
      "Input SNPs: 140594\n",
      "Mapped SNPs: 140403\n",
      "Percent mapped: 0.9986414782992162\n"
     ]
    }
   ],
   "source": [
    "print('Input SNPs:', snp_inputs.rsID.nunique())\n",
    "print('Mapped SNPs:', all_snps.index.nunique())\n",
    "print('Percent mapped:', all_snps.index.nunique()/ snp_inputs.rsID.nunique())"
   ]
  }
 ],
 "metadata": {
  "kernelspec": {
   "display_name": "Python (CARVA)",
   "language": "python",
   "name": "carva"
  },
  "language_info": {
   "codemirror_mode": {
    "name": "ipython",
    "version": 3
   },
   "file_extension": ".py",
   "mimetype": "text/x-python",
   "name": "python",
   "nbconvert_exporter": "python",
   "pygments_lexer": "ipython3",
   "version": "3.10.0"
  },
  "toc": {
   "base_numbering": 1,
   "nav_menu": {},
   "number_sections": true,
   "sideBar": true,
   "skip_h1_title": false,
   "title_cell": "Table of Contents",
   "title_sidebar": "Contents",
   "toc_cell": false,
   "toc_position": {
    "height": "calc(100% - 180px)",
    "left": "10px",
    "top": "150px",
    "width": "253.115px"
   },
   "toc_section_display": true,
   "toc_window_display": true
  },
  "varInspector": {
   "cols": {
    "lenName": 16,
    "lenType": 16,
    "lenVar": 40
   },
   "kernels_config": {
    "python": {
     "delete_cmd_postfix": "",
     "delete_cmd_prefix": "del ",
     "library": "var_list.py",
     "varRefreshCmd": "print(var_dic_list())"
    },
    "r": {
     "delete_cmd_postfix": ") ",
     "delete_cmd_prefix": "rm(",
     "library": "var_list.r",
     "varRefreshCmd": "cat(var_dic_list()) "
    }
   },
   "types_to_exclude": [
    "module",
    "function",
    "builtin_function_or_method",
    "instance",
    "_Feature"
   ],
   "window_display": false
  }
 },
 "nbformat": 4,
 "nbformat_minor": 2
}
