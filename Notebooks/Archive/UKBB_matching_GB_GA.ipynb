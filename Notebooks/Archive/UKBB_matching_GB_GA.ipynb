{
 "cells": [
  {
   "cell_type": "code",
   "execution_count": 203,
   "metadata": {
    "ExecuteTime": {
     "end_time": "2025-03-25T18:52:40.418701Z",
     "start_time": "2025-03-25T18:52:40.416704Z"
    }
   },
   "outputs": [],
   "source": [
    "from tqdm import tqdm\n",
    "\n",
    "import pandas as pd\n",
    "import numpy as np\n",
    "import seaborn as sns\n",
    "import os\n",
    "from sentence_transformers import SentenceTransformer\n",
    "from sklearn.metrics.pairwise import cosine_similarity\n",
    "from matplotlib_venn import venn2, venn3\n",
    "import matplotlib.pyplot as plt"
   ]
  },
  {
   "cell_type": "code",
   "execution_count": 291,
   "metadata": {
    "ExecuteTime": {
     "end_time": "2025-03-26T00:08:26.056450Z",
     "start_time": "2025-03-26T00:08:26.052970Z"
    }
   },
   "outputs": [],
   "source": [
    "plt.rcParams['svg.fonttype'] = 'none'\n",
    "plt.rcParams.update({'font.size': 7})\n",
    "plt.rcParams['axes.linewidth'] = 0.5\n",
    "plt.rcParams['hatch.linewidth'] = 0.5\n",
    "plt.rcParams['xtick.major.width'] = 0.4\n",
    "plt.rcParams['ytick.major.width'] = 0.4\n",
    "plt.rcParams['xtick.minor.width'] = 0.3\n",
    "plt.rcParams['ytick.minor.width'] = 0.3\n",
    "plt.rcParams['legend.frameon'] = False\n",
    "plt.rcParams['xtick.major.size'] = 3\n",
    "plt.rcParams['ytick.major.size'] = 3\n",
    "plt.rcParams['xtick.minor.size'] = 2\n",
    "plt.rcParams['ytick.minor.size'] = 2\n",
    "plt.rcParams['xtick.major.pad'] = 1\n",
    "plt.rcParams['ytick.major.pad'] = 1\n",
    "plt.rcParams['axes.labelpad'] = 1\n",
    "plt.rcParams['patch.linewidth'] = 0.25"
   ]
  },
  {
   "cell_type": "code",
   "execution_count": 289,
   "metadata": {
    "ExecuteTime": {
     "end_time": "2025-03-26T00:08:12.605839Z",
     "start_time": "2025-03-26T00:08:12.603803Z"
    }
   },
   "outputs": [],
   "source": [
    "datadir = '/cellar/users/snwright/Data/RareCommon/'\n",
    "inputdir = os.path.join(datadir, 'inputs/UKB/')\n",
    "figdir = '/cellar/users/snwright/Data/Transfer/RVC/figures/Figure_UKB_Inputs/'"
   ]
  },
  {
   "cell_type": "code",
   "execution_count": 12,
   "metadata": {
    "ExecuteTime": {
     "end_time": "2025-03-25T16:56:57.738768Z",
     "start_time": "2025-03-25T16:56:57.705074Z"
    }
   },
   "outputs": [],
   "source": [
    "pc_nodes = pd.read_csv(os.path.join(datadir, 'inputs', 'pcnet2_0_nodes.txt' ), sep='\\t', header=None, names=['Entrez', 'degree']).Entrez.values"
   ]
  },
  {
   "cell_type": "markdown",
   "metadata": {},
   "source": [
    "## GWASAtlas"
   ]
  },
  {
   "cell_type": "code",
   "execution_count": 49,
   "metadata": {
    "ExecuteTime": {
     "end_time": "2025-03-25T17:09:06.880479Z",
     "start_time": "2025-03-25T17:08:52.848400Z"
    }
   },
   "outputs": [],
   "source": [
    "info = pd.read_csv(os.path.join(datadir, 'GWASAtlas','gwasATLAS_v20191115.txt.gz' ), sep='\\t', low_memory=False, index_col=0)\n",
    "info.shape\n",
    "info['ga_idx'] = [x for x in range(1, len(info)+1)]\n",
    "\n",
    "ga_map = pd.read_csv(os.path.join(datadir, 'GWASAtlas','gda_entrez_mapped.tsv' ), sep='\\t', index_col=0, usecols=['GENE', 'Entrez'])\n",
    "ga_gda = pd.read_csv(os.path.join(datadir, 'GWASAtlas', 'gwasATLAS_v20191115_magma_P.txt.gz'), sep='\\t')\n",
    "ga_gda = ga_gda.merge(ga_map, on='GENE', how='inner')\n",
    "ga_gda = ga_gda[ga_gda.Entrez.isin(pc_nodes)]"
   ]
  },
  {
   "cell_type": "code",
   "execution_count": 50,
   "metadata": {
    "ExecuteTime": {
     "end_time": "2025-03-25T17:09:10.460910Z",
     "start_time": "2025-03-25T17:09:10.455289Z"
    },
    "scrolled": true
   },
   "outputs": [
    {
     "name": "stdout",
     "output_type": "stream",
     "text": [
      "Unique domains: 28\n",
      "Unique chapters: 55\n",
      "Unique subchapters: 209\n",
      "Unique traits: 4363\n",
      "Unique UniqTraits: 3307\n",
      "Unique PMID: 473\n",
      "Unique Consortium: 40\n",
      "Unique Populations: 34\n"
     ]
    }
   ],
   "source": [
    "print(f'Unique domains: {info.Domain.nunique()}')\n",
    "print(f'Unique chapters: {info.ChapterLevel.nunique()}')\n",
    "print(f'Unique subchapters: {info.SubchapterLevel.nunique()}')\n",
    "print(f'Unique traits: {info.Trait.nunique()}')\n",
    "print(f'Unique UniqTraits: {info.uniqTrait.nunique()}')\n",
    "print(f'Unique PMID: {info.PMID.nunique()}')\n",
    "print(f'Unique Consortium: {info.Consortium.nunique()}')\n",
    "print(f'Unique Populations: {info.Population.nunique()}')"
   ]
  },
  {
   "cell_type": "code",
   "execution_count": 51,
   "metadata": {
    "ExecuteTime": {
     "end_time": "2025-03-25T17:09:12.010030Z",
     "start_time": "2025-03-25T17:09:12.006818Z"
    }
   },
   "outputs": [],
   "source": [
    "ukb_ids = ['UKB2 (EUR)', 'UKB1 (EUR)']"
   ]
  },
  {
   "cell_type": "code",
   "execution_count": 59,
   "metadata": {
    "ExecuteTime": {
     "end_time": "2025-03-25T17:10:55.748530Z",
     "start_time": "2025-03-25T17:10:55.745720Z"
    }
   },
   "outputs": [],
   "source": [
    "ukb_info = info[info.Population.isin(ukb_ids)]"
   ]
  },
  {
   "cell_type": "code",
   "execution_count": 60,
   "metadata": {
    "ExecuteTime": {
     "end_time": "2025-03-25T17:10:56.814275Z",
     "start_time": "2025-03-25T17:10:56.810449Z"
    }
   },
   "outputs": [
    {
     "name": "stdout",
     "output_type": "stream",
     "text": [
      "Unique domains: 24\n",
      "Unique chapters: 42\n",
      "Unique subchapters: 116\n",
      "Unique traits: 961\n",
      "Unique UniqTraits: 865\n",
      "Unique PMID: 159\n",
      "Unique Consortium: 5\n",
      "Unique Populations: 2\n"
     ]
    }
   ],
   "source": [
    "print(f'Unique domains: {ukb_info.Domain.nunique()}')\n",
    "print(f'Unique chapters: {ukb_info.ChapterLevel.nunique()}')\n",
    "print(f'Unique subchapters: {ukb_info.SubchapterLevel.nunique()}')\n",
    "print(f'Unique traits: {ukb_info.Trait.nunique()}')\n",
    "print(f'Unique UniqTraits: {ukb_info.uniqTrait.nunique()}')\n",
    "print(f'Unique PMID: {ukb_info.PMID.nunique()}')\n",
    "print(f'Unique Consortium: {ukb_info.Consortium.nunique()}')\n",
    "print(f'Unique Populations: {ukb_info.Population.nunique()}')"
   ]
  },
  {
   "cell_type": "code",
   "execution_count": 61,
   "metadata": {
    "ExecuteTime": {
     "end_time": "2025-03-25T17:11:03.813556Z",
     "start_time": "2025-03-25T17:11:03.808881Z"
    }
   },
   "outputs": [
    {
     "data": {
      "text/plain": [
       "(471, 29)"
      ]
     },
     "execution_count": 61,
     "metadata": {},
     "output_type": "execute_result"
    }
   ],
   "source": [
    "# remove any with missing N\n",
    "ukb_info = ukb_info[~ukb_info.N.isna()]\n",
    "#restrict to those with at least 3 hits\n",
    "ukb_info = ukb_info[ukb_info.Nhits >= 3]\n",
    "# remove any with missing Genome information\n",
    "ukb_info = ukb_info[~ukb_info.Genome.isna()]\n",
    "ukb_info.shape"
   ]
  },
  {
   "cell_type": "code",
   "execution_count": 55,
   "metadata": {
    "ExecuteTime": {
     "end_time": "2025-03-25T17:09:15.515732Z",
     "start_time": "2025-03-25T17:09:15.335769Z"
    }
   },
   "outputs": [],
   "source": [
    "# keep studies with at least 3 pcnet assoc\n",
    "assoc_counts = (ga_gda.iloc[:, 1:-2] < 1e-4).sum(axis=0)\n",
    "drop_small = assoc_counts[assoc_counts<3].index.values\n",
    "# remove studies with > 1000 pcnet assoc\n",
    "drop_large = assoc_counts[assoc_counts>1000].index.values"
   ]
  },
  {
   "cell_type": "code",
   "execution_count": 64,
   "metadata": {
    "ExecuteTime": {
     "end_time": "2025-03-25T17:12:02.995273Z",
     "start_time": "2025-03-25T17:12:02.991835Z"
    }
   },
   "outputs": [],
   "source": [
    "ukb_info = ukb_info[(~ukb_info.ga_idx.isin([int(x) for x in drop_small])) & (~ukb_info.ga_idx.isin([int(x) for x in drop_large]))]"
   ]
  },
  {
   "cell_type": "code",
   "execution_count": 65,
   "metadata": {
    "ExecuteTime": {
     "end_time": "2025-03-25T17:12:07.576143Z",
     "start_time": "2025-03-25T17:12:07.573409Z"
    }
   },
   "outputs": [],
   "source": [
    "def extract_phecode(s):\n",
    "    if isinstance(s, str):\n",
    "        parts = [x for x in s.split('. ')]\n",
    "        for p in parts:\n",
    "            if 'UKB phenotype field' in p:\n",
    "                return p.split(': ')[-1].split(' (')[0]\n",
    "        else:\n",
    "            return np.nan\n",
    "    else:\n",
    "        return np.nan"
   ]
  },
  {
   "cell_type": "code",
   "execution_count": 66,
   "metadata": {
    "ExecuteTime": {
     "end_time": "2025-03-25T17:12:09.043619Z",
     "start_time": "2025-03-25T17:12:09.040846Z"
    }
   },
   "outputs": [],
   "source": [
    "# extract ukb_phecodes where available in notes\n",
    "ukb_info['phecode'] = ukb_info.Note.apply(lambda x: extract_phecode(x))"
   ]
  },
  {
   "cell_type": "code",
   "execution_count": 67,
   "metadata": {
    "ExecuteTime": {
     "end_time": "2025-03-25T17:12:09.730107Z",
     "start_time": "2025-03-25T17:12:09.726182Z"
    }
   },
   "outputs": [
    {
     "data": {
      "text/plain": [
       "phecode\n",
       "134      1\n",
       "2897     1\n",
       "2704     1\n",
       "2724     1\n",
       "2734     1\n",
       "        ..\n",
       "1498     1\n",
       "1518     1\n",
       "1528     1\n",
       "1538     1\n",
       "20525    1\n",
       "Name: count, Length: 169, dtype: int64"
      ]
     },
     "execution_count": 67,
     "metadata": {},
     "output_type": "execute_result"
    }
   ],
   "source": [
    "ukb_info['phecode'].value_counts()"
   ]
  },
  {
   "cell_type": "markdown",
   "metadata": {},
   "source": [
    "Notes field: (need to figure out how to extract)\n",
    "\n",
    "- 'Population prevalence:'\n",
    "- 'Case-control GWAS.'\n",
    "- 'Factor score GWAS.'\n",
    "- 'Quantitative phenotype'\n",
    "- 'Dichotomized phetnotype'"
   ]
  },
  {
   "cell_type": "code",
   "execution_count": 68,
   "metadata": {
    "ExecuteTime": {
     "end_time": "2025-03-25T17:12:12.615113Z",
     "start_time": "2025-03-25T17:12:12.608275Z"
    }
   },
   "outputs": [
    {
     "data": {
      "text/plain": [
       "Consortium          90.664424\n",
       "SNPh2_l_se          87.510513\n",
       "SNPh2_l             87.510513\n",
       "Ncase               84.377628\n",
       "Ncontrol            84.377628\n",
       "SNPh2               52.460050\n",
       "Intercept           52.460050\n",
       "Chi2                52.460050\n",
       "LambdaGC            52.460050\n",
       "SNPh2_z             52.460050\n",
       "SNPh2_se            52.460050\n",
       "Note                 9.188394\n",
       "Website              1.619008\n",
       "Genome               0.315391\n",
       "DateLastModified     0.000000\n",
       "DateAdded            0.000000\n",
       "PMID                 0.000000\n",
       "Nhits                0.000000\n",
       "Nsnps                0.000000\n",
       "Year                 0.000000\n",
       "N                    0.000000\n",
       "Population           0.000000\n",
       "uniqTrait            0.000000\n",
       "Trait                0.000000\n",
       "SubchapterLevel      0.000000\n",
       "ChapterLevel         0.000000\n",
       "Domain               0.000000\n",
       "File                 0.000000\n",
       "ga_idx               0.000000\n",
       "dtype: float64"
      ]
     },
     "execution_count": 68,
     "metadata": {},
     "output_type": "execute_result"
    }
   ],
   "source": [
    "# percent missing values\n",
    "(info.isna().sum()/len(info)).sort_values(ascending=False) * 100"
   ]
  },
  {
   "cell_type": "code",
   "execution_count": 69,
   "metadata": {
    "ExecuteTime": {
     "end_time": "2025-03-25T17:12:14.477039Z",
     "start_time": "2025-03-25T17:12:14.474221Z"
    }
   },
   "outputs": [],
   "source": [
    "ukb_info['Trait'] = ukb_info['Trait'].apply(lambda x: x.lower())\n",
    "ukb_info['uniqTrait'] = ukb_info['uniqTrait'].apply(lambda x: x.lower())"
   ]
  },
  {
   "cell_type": "markdown",
   "metadata": {},
   "source": [
    "## Genebass"
   ]
  },
  {
   "cell_type": "code",
   "execution_count": 71,
   "metadata": {
    "ExecuteTime": {
     "end_time": "2025-03-25T17:12:24.769370Z",
     "start_time": "2025-03-25T17:12:24.736099Z"
    }
   },
   "outputs": [],
   "source": [
    "phenos = pd.read_csv(os.path.join(datadir,'GeneBASS/', 'genebass_pheno_df_full.txt'), sep='\\t', index_col=0)\n",
    "phenos['description'] = phenos['description'].apply(lambda z: z.lower() if isinstance(z, str) else np.nan)\n",
    "phenos['coding_description'] = phenos['coding_description'].apply(lambda z: z.lower() if isinstance(z, str) else np.nan)\n",
    "phenos['n_controls'] = phenos['n_controls'].fillna(0)\n",
    "phenos['N'] = phenos['n_cases'] + phenos['n_controls']\n",
    "phenos['gb_idx'] = [x for x in range(len(phenos))]"
   ]
  },
  {
   "cell_type": "code",
   "execution_count": 72,
   "metadata": {
    "ExecuteTime": {
     "end_time": "2025-03-25T17:12:26.794432Z",
     "start_time": "2025-03-25T17:12:26.791788Z"
    }
   },
   "outputs": [
    {
     "data": {
      "text/plain": [
       "4529"
      ]
     },
     "execution_count": 72,
     "metadata": {},
     "output_type": "execute_result"
    }
   ],
   "source": [
    "len(phenos)"
   ]
  },
  {
   "cell_type": "code",
   "execution_count": 73,
   "metadata": {
    "ExecuteTime": {
     "end_time": "2025-03-25T17:12:30.884334Z",
     "start_time": "2025-03-25T17:12:30.880277Z"
    }
   },
   "outputs": [],
   "source": [
    "phenos = phenos.dropna(subset='N')"
   ]
  },
  {
   "cell_type": "code",
   "execution_count": 74,
   "metadata": {
    "ExecuteTime": {
     "end_time": "2025-03-25T17:12:31.586262Z",
     "start_time": "2025-03-25T17:12:31.583232Z"
    }
   },
   "outputs": [],
   "source": [
    "phenos=phenos.sort_values(by='N', ascending=False)"
   ]
  },
  {
   "cell_type": "markdown",
   "metadata": {},
   "source": [
    "### Test SBERT"
   ]
  },
  {
   "cell_type": "code",
   "execution_count": 78,
   "metadata": {
    "ExecuteTime": {
     "end_time": "2025-03-25T17:14:52.955025Z",
     "start_time": "2025-03-25T17:14:30.174053Z"
    }
   },
   "outputs": [],
   "source": [
    "from sentence_transformers import SentenceTransformer\n",
    "import numpy as np\n",
    "from sklearn.metrics.pairwise import cosine_similarity"
   ]
  },
  {
   "cell_type": "code",
   "execution_count": 88,
   "metadata": {
    "ExecuteTime": {
     "end_time": "2025-03-25T17:17:52.579184Z",
     "start_time": "2025-03-25T17:17:52.571456Z"
    },
    "code_folding": [
     61
    ],
    "run_control": {
     "marked": true
    }
   },
   "outputs": [],
   "source": [
    "def compute_bidirectional_matches(embeddings1, embeddings2, series1, series2):\n",
    "    \"\"\"\n",
    "    Computes the best matches between two pandas Series of text using SBERT.\n",
    "    \n",
    "    For each entry in series1, it finds the best matching entry in series2 and vice versa.\n",
    "    The results are combined into a single DataFrame with a 'Direction' column.\n",
    "    \n",
    "    Parameters:\n",
    "        series1 (pd.Series): A pandas Series with text entries. The Series index is preserved.\n",
    "        series2 (pd.Series): A pandas Series with text entries. The Series index is preserved.\n",
    "        model_name (str): The name of the SentenceTransformer model to use.\n",
    "        batch_size (int): Batch size for encoding.\n",
    "        show_progress_bar (bool): Whether to show the progress bar during encoding.\n",
    "    \n",
    "    Returns:\n",
    "        pd.DataFrame: A DataFrame containing the results from both matching directions.\n",
    "    \"\"\"\n",
    "    # Convert Series to lists (order is maintained)\n",
    "    list1 = series1.tolist()\n",
    "    list2 = series2.tolist()\n",
    "    \n",
    "    # Compute the cosine similarity matrix between embeddings from series1 and series2\n",
    "    cos_sim_matrix = cosine_similarity(embeddings1, embeddings2)\n",
    "    \n",
    "    # -------------------------------\n",
    "    # Matches: Series1 -> Series2\n",
    "    # -------------------------------\n",
    "    best_match_indices_1_to_2 = np.argmax(cos_sim_matrix, axis=1)\n",
    "    best_match_scores_1_to_2 = np.max(cos_sim_matrix, axis=1)\n",
    "    \n",
    "    # Create a DataFrame for matches from series1 to series2 with standardized column names\n",
    "    df1_to_2 = pd.DataFrame({\n",
    "        \"Direction\": \"Series1_to_Series2\",\n",
    "        \"Query_Index\": series1.index,\n",
    "        \"Query_Text\": list1,\n",
    "        \"Match_Index\": [series2.index[i] for i in best_match_indices_1_to_2],\n",
    "        \"Match_Text\": [list2[i] for i in best_match_indices_1_to_2],\n",
    "        \"Cosine_Similarity\": best_match_scores_1_to_2\n",
    "    })\n",
    "    \n",
    "    # -------------------------------\n",
    "    # Matches: Series2 -> Series1\n",
    "    # -------------------------------\n",
    "    best_match_indices_2_to_1 = np.argmax(cos_sim_matrix, axis=0)\n",
    "    best_match_scores_2_to_1 = np.max(cos_sim_matrix, axis=0)\n",
    "    \n",
    "    # Create a DataFrame for matches from series2 to series1 with standardized column names\n",
    "    df2_to_1 = pd.DataFrame({\n",
    "        \"Direction\": \"Series2_to_Series1\",\n",
    "        \"Query_Index\": series2.index,\n",
    "        \"Query_Text\": list2,\n",
    "        \"Match_Index\": [series1.index[i] for i in best_match_indices_2_to_1],\n",
    "        \"Match_Text\": [list1[i] for i in best_match_indices_2_to_1],\n",
    "        \"Cosine_Similarity\": best_match_scores_2_to_1\n",
    "    })\n",
    "    \n",
    "    # Combine both DataFrames into one for downstream analysis.\n",
    "    combined_df = pd.concat([df1_to_2, df2_to_1], ignore_index=True)\n",
    "    \n",
    "    return combined_df.sort_values(by='Cosine_Similarity', ascending=False)\n",
    "\n",
    "def extract_mutual_matches(bidirectional_df):\n",
    "\n",
    " # Split the bidirectional DataFrame by direction.\n",
    "    df1_to_2 = bidirectional_df[bidirectional_df['Direction'] == 'Series1_to_Series2'].copy()\n",
    "    df2_to_1 = bidirectional_df[bidirectional_df['Direction'] == 'Series2_to_Series1'].copy()\n",
    "\n",
    "    # Rename columns for df1_to_2.\n",
    "    df1_to_2.rename(columns={\n",
    "        \"Query_Index\": \"Series1_Index\",\n",
    "        \"Query_Text\": \"Series1_Text\",\n",
    "        \"Match_Index\": \"Series2_Index\",\n",
    "        \"Match_Text\": \"Series2_Text\",\n",
    "        \"Cosine_Similarity\": \"Cosine_Similarity_1\"\n",
    "    }, inplace=True)\n",
    "\n",
    "    # Rename columns for df2_to_1.\n",
    "    df2_to_1.rename(columns={\n",
    "        \"Query_Index\": \"Series2_Index\",\n",
    "        \"Query_Text\": \"Series2_Text\",\n",
    "        \"Match_Index\": \"Series1_Index\",\n",
    "        \"Match_Text\": \"Series1_Text\",\n",
    "        \"Cosine_Similarity\": \"Cosine_Similarity_2\"\n",
    "    }, inplace=True)\n",
    "\n",
    "    # Merge the two DataFrames on Series1_Index and Series2_Index.\n",
    "    mutual = pd.merge(df1_to_2, df2_to_1, on=[\"Series1_Index\", \"Series2_Index\"], suffixes=('_1', '_2'))\n",
    "    \n",
    "    # Compute the average cosine similarity.\n",
    "    mutual[\"Average_Cosine_Similarity\"] = (mutual[\"Cosine_Similarity_1\"] + mutual[\"Cosine_Similarity_2\"]) / 2.0\n",
    "\n",
    "    # Select columns for output. Here we choose the text columns from the first direction (suffix _1).\n",
    "    result = mutual[[\n",
    "        \"Series1_Index\", \"Series1_Text_1\", \"Series2_Index\", \"Series2_Text_1\", \"Average_Cosine_Similarity\"\n",
    "    ]].copy()\n",
    "    \n",
    "    # Rename the suffixed text columns to standard names.\n",
    "    result.rename(columns={\"Series1_Text_1\": \"Series1_Text\", \"Series2_Text_1\": \"Series2_Text\"}, inplace=True)\n",
    "    \n",
    "    return result\n"
   ]
  },
  {
   "cell_type": "code",
   "execution_count": 79,
   "metadata": {
    "ExecuteTime": {
     "end_time": "2025-03-25T17:14:55.253397Z",
     "start_time": "2025-03-25T17:14:53.014225Z"
    }
   },
   "outputs": [],
   "source": [
    "# Load the pre-trained SBERT model\n",
    "model = SentenceTransformer('all-MiniLM-L6-v2')"
   ]
  },
  {
   "cell_type": "markdown",
   "metadata": {},
   "source": [
    "## BERT matching of Genebass and GwasAtlas"
   ]
  },
  {
   "cell_type": "code",
   "execution_count": 80,
   "metadata": {
    "ExecuteTime": {
     "end_time": "2025-03-25T17:14:57.962841Z",
     "start_time": "2025-03-25T17:14:57.958135Z"
    },
    "code_folding": [
     6
    ]
   },
   "outputs": [],
   "source": [
    "import numpy as np\n",
    "import pandas as pd\n",
    "from sklearn.metrics.pairwise import cosine_similarity\n",
    "from scipy.cluster.hierarchy import linkage, fcluster\n",
    "from scipy.spatial.distance import pdist\n",
    "\n",
    "def get_all_matchesx(series1, series2, emb1, emb2, th=0.8):\n",
    "    \"\"\"\n",
    "    Given two pandas Series (series1 and series2) along with their precomputed embeddings (emb1 and emb2),\n",
    "    compute the cosine similarity between every string from series1 and every string from series2.\n",
    "    \n",
    "    Returns a DataFrame with all pairs (one string from each Series) having a cosine similarity >= th.\n",
    "    Each row includes:\n",
    "      - Series1_Index, Series1_Text,\n",
    "      - Series2_Index, Series2_Text,\n",
    "      - Cosine_Similarity.\n",
    "    \n",
    "    Parameters:\n",
    "      series1 (pd.Series): Series of strings (with index) for list1.\n",
    "      series2 (pd.Series): Series of strings (with index) for list2.\n",
    "      emb1 (np.ndarray): Embeddings for the strings in series1 (assumed to correspond in order to series1.index).\n",
    "      emb2 (np.ndarray): Embeddings for the strings in series2.\n",
    "      th (float): Cosine similarity threshold (default=0.8).\n",
    "    \n",
    "    Returns:\n",
    "      pd.DataFrame: DataFrame containing all unique pairs with similarity >= th.\n",
    "    \"\"\"\n",
    "    # Compute the cosine similarity matrix between emb1 and emb2.\n",
    "    sim_matrix = cosine_similarity(emb1, emb2)\n",
    "    \n",
    "    pairs = []\n",
    "    # Loop over rows (series1) and columns (series2) to collect pairs meeting threshold.\n",
    "    n1, n2 = sim_matrix.shape\n",
    "    for i in range(n1):\n",
    "        for j in range(n2):\n",
    "            sim = sim_matrix[i, j]\n",
    "            if sim >= th:\n",
    "                pairs.append({\n",
    "                    \"Series1_Index\": series1.index[i],\n",
    "                    \"Series1_Text\": series1.iloc[i],\n",
    "                    \"Series2_Index\": series2.index[j],\n",
    "                    \"Series2_Text\": series2.iloc[j],\n",
    "                    \"Cosine_Similarity\": sim\n",
    "                })\n",
    "    \n",
    "    # Create DataFrame of matches.\n",
    "    matches_df = pd.DataFrame(pairs)\n",
    "    # (If the same pair could be found twice by any chance, drop duplicates.)\n",
    "    matches_df.drop_duplicates(inplace=True)\n",
    "    # Optionally, sort by descending similarity.\n",
    "    matches_df.sort_values(by=\"Cosine_Similarity\", ascending=False, inplace=True)\n",
    "    return matches_df\n"
   ]
  },
  {
   "cell_type": "code",
   "execution_count": 81,
   "metadata": {
    "ExecuteTime": {
     "end_time": "2025-03-25T17:15:05.051665Z",
     "start_time": "2025-03-25T17:15:05.046294Z"
    }
   },
   "outputs": [
    {
     "data": {
      "text/plain": [
       "(30, 50)"
      ]
     },
     "execution_count": 81,
     "metadata": {},
     "output_type": "execute_result"
    }
   ],
   "source": [
    "# first direct matches based on phecodes - do not use 'coding' from genebass will give incorrect matches\n",
    "phe_match = phenos.merge(ukb_info, left_on='phenocode', right_on='phecode', how='inner')\n",
    "phe_match.shape"
   ]
  },
  {
   "cell_type": "code",
   "execution_count": null,
   "metadata": {
    "ExecuteTime": {
     "end_time": "2025-03-12T18:05:40.506907Z",
     "start_time": "2025-03-12T18:05:40.501172Z"
    }
   },
   "outputs": [],
   "source": []
  },
  {
   "cell_type": "code",
   "execution_count": 82,
   "metadata": {
    "ExecuteTime": {
     "end_time": "2025-03-25T17:15:07.761246Z",
     "start_time": "2025-03-25T17:15:07.759308Z"
    }
   },
   "outputs": [],
   "source": [
    "ga_match_ids = list(phe_match.ga_idx.values)"
   ]
  },
  {
   "cell_type": "markdown",
   "metadata": {},
   "source": [
    "#### Descriptions"
   ]
  },
  {
   "cell_type": "code",
   "execution_count": 114,
   "metadata": {
    "ExecuteTime": {
     "end_time": "2025-03-25T17:24:51.220560Z",
     "start_time": "2025-03-25T17:24:51.214520Z"
    }
   },
   "outputs": [
    {
     "data": {
      "text/plain": [
       "(2093, 20)"
      ]
     },
     "execution_count": 114,
     "metadata": {},
     "output_type": "execute_result"
    }
   ],
   "source": [
    "# get the traits where we will use the description column\n",
    "desc_counts = phenos.description.value_counts()\n",
    "use_description = phenos[~phenos.description.isin(desc_counts[desc_counts>10].index.values)]\n",
    "use_description = use_description[~use_description.description.isna()]\n",
    "use_description.shape"
   ]
  },
  {
   "cell_type": "code",
   "execution_count": 115,
   "metadata": {
    "ExecuteTime": {
     "end_time": "2025-03-25T17:25:03.154640Z",
     "start_time": "2025-03-25T17:24:54.438734Z"
    }
   },
   "outputs": [
    {
     "data": {
      "application/vnd.jupyter.widget-view+json": {
       "model_id": "ff74e6286c4e4681af0081cae685b3b5",
       "version_major": 2,
       "version_minor": 0
      },
      "text/plain": [
       "Batches:   0%|          | 0/12 [00:00<?, ?it/s]"
      ]
     },
     "metadata": {},
     "output_type": "display_data"
    },
    {
     "data": {
      "application/vnd.jupyter.widget-view+json": {
       "model_id": "a0f74deb38834d069ee39a5f079fd31c",
       "version_major": 2,
       "version_minor": 0
      },
      "text/plain": [
       "Batches:   0%|          | 0/66 [00:00<?, ?it/s]"
      ]
     },
     "metadata": {},
     "output_type": "display_data"
    }
   ],
   "source": [
    "# get embeddings\n",
    "ga_embeddings = model.encode(list(ukb_info[~ukb_info.ga_idx.isin(ga_match_ids)]['Trait'].values), batch_size=32, show_progress_bar=True)\n",
    "bass_embeddings1 = model.encode(use_description.description.values, batch_size=32, show_progress_bar=True)"
   ]
  },
  {
   "cell_type": "code",
   "execution_count": 116,
   "metadata": {
    "ExecuteTime": {
     "end_time": "2025-03-25T17:25:28.289457Z",
     "start_time": "2025-03-25T17:25:28.262822Z"
    }
   },
   "outputs": [],
   "source": [
    "desc_df = compute_bidirectional_matches(ga_embeddings, bass_embeddings1, \n",
    "                                        ukb_info[~ukb_info.ga_idx.isin(ga_match_ids)].set_index('ga_idx').Trait, \n",
    "                                        use_description.set_index('gb_idx').description)\n",
    "desc_out = extract_mutual_matches(desc_df)"
   ]
  },
  {
   "cell_type": "code",
   "execution_count": 76,
   "metadata": {
    "ExecuteTime": {
     "end_time": "2025-03-21T18:06:21.670995Z",
     "start_time": "2025-03-21T18:06:20.103885Z"
    }
   },
   "outputs": [],
   "source": [
    "#ga_desc = get_all_matches(ukb_info[~ukb_info.ga_idx.isin(ga_match_ids)].set_index('ga_idx').Trait, \n",
    "#                          use_description.set_index('gb_idx').description, \n",
    "#                          ga_embeddings, bass_embeddings1, th=0.7)"
   ]
  },
  {
   "cell_type": "markdown",
   "metadata": {},
   "source": [
    "#### Coding descriptions"
   ]
  },
  {
   "cell_type": "code",
   "execution_count": 140,
   "metadata": {
    "ExecuteTime": {
     "end_time": "2025-03-25T17:32:13.516977Z",
     "start_time": "2025-03-25T17:32:02.895338Z"
    }
   },
   "outputs": [
    {
     "name": "stderr",
     "output_type": "stream",
     "text": [
      "/tmp/ipykernel_2532028/2676421464.py:2: SettingWithCopyWarning: \n",
      "A value is trying to be set on a copy of a slice from a DataFrame.\n",
      "Try using .loc[row_indexer,col_indexer] = value instead\n",
      "\n",
      "See the caveats in the documentation: https://pandas.pydata.org/pandas-docs/stable/user_guide/indexing.html#returning-a-view-versus-a-copy\n",
      "  use_coding['full_description'] = use_coding['description'] + ' ' + use_coding['coding_description']\n"
     ]
    },
    {
     "data": {
      "application/vnd.jupyter.widget-view+json": {
       "model_id": "ccc00b79674648c39b8decb915daf3cf",
       "version_major": 2,
       "version_minor": 0
      },
      "text/plain": [
       "Batches:   0%|          | 0/77 [00:00<?, ?it/s]"
      ]
     },
     "metadata": {},
     "output_type": "display_data"
    }
   ],
   "source": [
    "use_coding = phenos[(~phenos.coding_description.isna())]\n",
    "use_coding['full_description'] = use_coding['description'] + ' ' + use_coding['coding_description']\n",
    "bass_embeddings2 = model.encode(use_coding.full_description.values, batch_size=32, show_progress_bar=True)\n"
   ]
  },
  {
   "cell_type": "code",
   "execution_count": 149,
   "metadata": {
    "ExecuteTime": {
     "end_time": "2025-03-25T17:33:01.887211Z",
     "start_time": "2025-03-25T17:33:01.860340Z"
    }
   },
   "outputs": [],
   "source": [
    "coding_df = compute_bidirectional_matches(ga_embeddings, bass_embeddings2, \n",
    "                                        ukb_info[~ukb_info.ga_idx.isin(ga_match_ids)].set_index('ga_idx').Trait, \n",
    "                                        use_coding.set_index('gb_idx').full_description)\n",
    "coding_out = extract_mutual_matches(coding_df)"
   ]
  },
  {
   "cell_type": "code",
   "execution_count": 150,
   "metadata": {
    "ExecuteTime": {
     "end_time": "2025-03-25T17:33:04.925064Z",
     "start_time": "2025-03-25T17:33:04.917722Z"
    }
   },
   "outputs": [
    {
     "data": {
      "text/html": [
       "<div>\n",
       "<style scoped>\n",
       "    .dataframe tbody tr th:only-of-type {\n",
       "        vertical-align: middle;\n",
       "    }\n",
       "\n",
       "    .dataframe tbody tr th {\n",
       "        vertical-align: top;\n",
       "    }\n",
       "\n",
       "    .dataframe thead th {\n",
       "        text-align: right;\n",
       "    }\n",
       "</style>\n",
       "<table border=\"1\" class=\"dataframe\">\n",
       "  <thead>\n",
       "    <tr style=\"text-align: right;\">\n",
       "      <th></th>\n",
       "      <th>Series1_Index</th>\n",
       "      <th>Series1_Text</th>\n",
       "      <th>Series2_Index</th>\n",
       "      <th>Series2_Text</th>\n",
       "      <th>Average_Cosine_Similarity</th>\n",
       "    </tr>\n",
       "  </thead>\n",
       "  <tbody>\n",
       "    <tr>\n",
       "      <th>0</th>\n",
       "      <td>4276</td>\n",
       "      <td>carpal tunnel syndrome</td>\n",
       "      <td>210</td>\n",
       "      <td>non-cancer illness code, self-reported carpal ...</td>\n",
       "      <td>0.730365</td>\n",
       "    </tr>\n",
       "    <tr>\n",
       "      <th>1</th>\n",
       "      <td>4311</td>\n",
       "      <td>diverticular disease</td>\n",
       "      <td>164</td>\n",
       "      <td>non-cancer illness code, self-reported diverti...</td>\n",
       "      <td>0.728060</td>\n",
       "    </tr>\n",
       "    <tr>\n",
       "      <th>2</th>\n",
       "      <td>3190</td>\n",
       "      <td>number of self-reported non-cancer illnesses</td>\n",
       "      <td>83</td>\n",
       "      <td>non-cancer illness code, self-reported psychol...</td>\n",
       "      <td>0.714881</td>\n",
       "    </tr>\n",
       "    <tr>\n",
       "      <th>3</th>\n",
       "      <td>4237</td>\n",
       "      <td>antihistamines for systemic use</td>\n",
       "      <td>543</td>\n",
       "      <td>treatment/medication code antihistamine 60mg t...</td>\n",
       "      <td>0.712241</td>\n",
       "    </tr>\n",
       "    <tr>\n",
       "      <th>4</th>\n",
       "      <td>3393</td>\n",
       "      <td>number of depression episodes</td>\n",
       "      <td>875</td>\n",
       "      <td>bipolar and major depression status single pro...</td>\n",
       "      <td>0.699889</td>\n",
       "    </tr>\n",
       "    <tr>\n",
       "      <th>...</th>\n",
       "      <td>...</td>\n",
       "      <td>...</td>\n",
       "      <td>...</td>\n",
       "      <td>...</td>\n",
       "      <td>...</td>\n",
       "    </tr>\n",
       "    <tr>\n",
       "      <th>60</th>\n",
       "      <td>4448</td>\n",
       "      <td>left entorhinal</td>\n",
       "      <td>1176</td>\n",
       "      <td>operative procedures - main opcs4 j38.9 unspec...</td>\n",
       "      <td>0.367268</td>\n",
       "    </tr>\n",
       "    <tr>\n",
       "      <th>61</th>\n",
       "      <td>3324</td>\n",
       "      <td>relative age of first facial hair (male)</td>\n",
       "      <td>1388</td>\n",
       "      <td>operative procedures - main opcs4 s06.3 shave ...</td>\n",
       "      <td>0.357934</td>\n",
       "    </tr>\n",
       "    <tr>\n",
       "      <th>62</th>\n",
       "      <td>4305</td>\n",
       "      <td>trunk-trunk fat ratio (male)</td>\n",
       "      <td>2317</td>\n",
       "      <td>operative procedures - secondary opcs4 z49.8 s...</td>\n",
       "      <td>0.343400</td>\n",
       "    </tr>\n",
       "    <tr>\n",
       "      <th>63</th>\n",
       "      <td>3315</td>\n",
       "      <td>use of sun/uv protection</td>\n",
       "      <td>1089</td>\n",
       "      <td>operative procedures - main opcs4 f32.4 operat...</td>\n",
       "      <td>0.337101</td>\n",
       "    </tr>\n",
       "    <tr>\n",
       "      <th>64</th>\n",
       "      <td>3210</td>\n",
       "      <td>usual walking pace</td>\n",
       "      <td>840</td>\n",
       "      <td>operation code pacemaker insertion</td>\n",
       "      <td>0.276917</td>\n",
       "    </tr>\n",
       "  </tbody>\n",
       "</table>\n",
       "<p>65 rows × 5 columns</p>\n",
       "</div>"
      ],
      "text/plain": [
       "    Series1_Index                                  Series1_Text  \\\n",
       "0            4276                        carpal tunnel syndrome   \n",
       "1            4311                          diverticular disease   \n",
       "2            3190  number of self-reported non-cancer illnesses   \n",
       "3            4237               antihistamines for systemic use   \n",
       "4            3393                 number of depression episodes   \n",
       "..            ...                                           ...   \n",
       "60           4448                               left entorhinal   \n",
       "61           3324      relative age of first facial hair (male)   \n",
       "62           4305                  trunk-trunk fat ratio (male)   \n",
       "63           3315                      use of sun/uv protection   \n",
       "64           3210                            usual walking pace   \n",
       "\n",
       "    Series2_Index                                       Series2_Text  \\\n",
       "0             210  non-cancer illness code, self-reported carpal ...   \n",
       "1             164  non-cancer illness code, self-reported diverti...   \n",
       "2              83  non-cancer illness code, self-reported psychol...   \n",
       "3             543  treatment/medication code antihistamine 60mg t...   \n",
       "4             875  bipolar and major depression status single pro...   \n",
       "..            ...                                                ...   \n",
       "60           1176  operative procedures - main opcs4 j38.9 unspec...   \n",
       "61           1388  operative procedures - main opcs4 s06.3 shave ...   \n",
       "62           2317  operative procedures - secondary opcs4 z49.8 s...   \n",
       "63           1089  operative procedures - main opcs4 f32.4 operat...   \n",
       "64            840                 operation code pacemaker insertion   \n",
       "\n",
       "    Average_Cosine_Similarity  \n",
       "0                    0.730365  \n",
       "1                    0.728060  \n",
       "2                    0.714881  \n",
       "3                    0.712241  \n",
       "4                    0.699889  \n",
       "..                        ...  \n",
       "60                   0.367268  \n",
       "61                   0.357934  \n",
       "62                   0.343400  \n",
       "63                   0.337101  \n",
       "64                   0.276917  \n",
       "\n",
       "[65 rows x 5 columns]"
      ]
     },
     "execution_count": 150,
     "metadata": {},
     "output_type": "execute_result"
    }
   ],
   "source": [
    "coding_out"
   ]
  },
  {
   "cell_type": "code",
   "execution_count": 78,
   "metadata": {
    "ExecuteTime": {
     "end_time": "2025-03-21T18:06:31.114647Z",
     "start_time": "2025-03-21T18:06:29.270166Z"
    }
   },
   "outputs": [],
   "source": [
    "#ga_coding = get_all_matches(ukb_info[~ukb_info.ga_idx.isin(ga_match_ids)].set_index('ga_idx').Trait, \n",
    "#                          use_coding.set_index('gb_idx').coding_description, \n",
    "#                          ga_embeddings, bass_embeddings2, th=0.7)"
   ]
  },
  {
   "cell_type": "markdown",
   "metadata": {},
   "source": [
    "#### Combine dfs and identify groups"
   ]
  },
  {
   "cell_type": "code",
   "execution_count": 151,
   "metadata": {
    "ExecuteTime": {
     "end_time": "2025-03-25T17:33:19.244244Z",
     "start_time": "2025-03-25T17:33:19.241697Z"
    }
   },
   "outputs": [],
   "source": [
    "ga_all = pd.concat([desc_out, coding_out])"
   ]
  },
  {
   "cell_type": "code",
   "execution_count": 152,
   "metadata": {
    "ExecuteTime": {
     "end_time": "2025-03-25T17:33:19.737957Z",
     "start_time": "2025-03-25T17:33:19.735121Z"
    }
   },
   "outputs": [],
   "source": [
    "ga_all = ga_all.sort_values('Average_Cosine_Similarity', ascending=False).drop_duplicates('Series1_Index')\n",
    "ga_all.columns = ['ga_idx', 'Trait', 'gb_idx', 'description', 'Cosine']"
   ]
  },
  {
   "cell_type": "code",
   "execution_count": 153,
   "metadata": {
    "ExecuteTime": {
     "end_time": "2025-03-25T17:33:20.252238Z",
     "start_time": "2025-03-25T17:33:20.249568Z"
    }
   },
   "outputs": [],
   "source": [
    "phe_combined = phe_match.loc[:, ('ga_idx', 'Trait', 'gb_idx', 'description')]\n",
    "phe_combined['Cosine'] = 1.0"
   ]
  },
  {
   "cell_type": "code",
   "execution_count": 165,
   "metadata": {
    "ExecuteTime": {
     "end_time": "2025-03-25T17:46:28.814884Z",
     "start_time": "2025-03-25T17:46:28.812344Z"
    }
   },
   "outputs": [],
   "source": [
    "all_matches = pd.concat([ga_all, phe_combined])"
   ]
  },
  {
   "cell_type": "code",
   "execution_count": 166,
   "metadata": {
    "ExecuteTime": {
     "end_time": "2025-03-25T17:46:29.434357Z",
     "start_time": "2025-03-25T17:46:29.431062Z"
    }
   },
   "outputs": [],
   "source": [
    "all_matches = all_matches.sort_values(by='Cosine', ascending=False).drop_duplicates('ga_idx').drop_duplicates('gb_idx')"
   ]
  },
  {
   "cell_type": "code",
   "execution_count": 167,
   "metadata": {
    "ExecuteTime": {
     "end_time": "2025-03-25T17:46:29.978130Z",
     "start_time": "2025-03-25T17:46:29.972533Z"
    }
   },
   "outputs": [],
   "source": [
    "all_matches.to_csv('/cellar/users/snwright/Data/Transfer/RVC/data/gb_ga_trait_cosines.txt', sep='\\t')"
   ]
  },
  {
   "cell_type": "code",
   "execution_count": 159,
   "metadata": {
    "ExecuteTime": {
     "end_time": "2025-03-25T17:44:54.508020Z",
     "start_time": "2025-03-25T17:44:54.498251Z"
    }
   },
   "outputs": [
    {
     "data": {
      "text/html": [
       "<div>\n",
       "<style scoped>\n",
       "    .dataframe tbody tr th:only-of-type {\n",
       "        vertical-align: middle;\n",
       "    }\n",
       "\n",
       "    .dataframe tbody tr th {\n",
       "        vertical-align: top;\n",
       "    }\n",
       "\n",
       "    .dataframe thead th {\n",
       "        text-align: right;\n",
       "    }\n",
       "</style>\n",
       "<table border=\"1\" class=\"dataframe\">\n",
       "  <thead>\n",
       "    <tr style=\"text-align: right;\">\n",
       "      <th></th>\n",
       "      <th>ga_idx</th>\n",
       "      <th>Trait</th>\n",
       "      <th>gb_idx</th>\n",
       "      <th>description</th>\n",
       "      <th>Cosine</th>\n",
       "      <th>Keep</th>\n",
       "    </tr>\n",
       "  </thead>\n",
       "  <tbody>\n",
       "    <tr>\n",
       "      <th>29</th>\n",
       "      <td>3720</td>\n",
       "      <td>frequency of failure to fulfil normal expectat...</td>\n",
       "      <td>2640</td>\n",
       "      <td>frequency of failure to fulfil normal expectat...</td>\n",
       "      <td>1.0</td>\n",
       "      <td>1</td>\n",
       "    </tr>\n",
       "    <tr>\n",
       "      <th>0</th>\n",
       "      <td>3235</td>\n",
       "      <td>current tobacco smoking</td>\n",
       "      <td>2599</td>\n",
       "      <td>current tobacco smoking</td>\n",
       "      <td>1.0</td>\n",
       "      <td>1</td>\n",
       "    </tr>\n",
       "    <tr>\n",
       "      <th>2</th>\n",
       "      <td>3328</td>\n",
       "      <td>diabetes (diagnosed by doctor)</td>\n",
       "      <td>933</td>\n",
       "      <td>diabetes diagnosed by doctor</td>\n",
       "      <td>1.0</td>\n",
       "      <td>1</td>\n",
       "    </tr>\n",
       "    <tr>\n",
       "      <th>3</th>\n",
       "      <td>3329</td>\n",
       "      <td>cancer (diagnosed by doctor)</td>\n",
       "      <td>934</td>\n",
       "      <td>cancer diagnosed by doctor</td>\n",
       "      <td>1.0</td>\n",
       "      <td>1</td>\n",
       "    </tr>\n",
       "    <tr>\n",
       "      <th>4</th>\n",
       "      <td>3302</td>\n",
       "      <td>seen a psychiatrist for nerves, anxiety, tensi...</td>\n",
       "      <td>922</td>\n",
       "      <td>seen a psychiatrist for nerves, anxiety, tensi...</td>\n",
       "      <td>1.0</td>\n",
       "      <td>1</td>\n",
       "    </tr>\n",
       "  </tbody>\n",
       "</table>\n",
       "</div>"
      ],
      "text/plain": [
       "    ga_idx                                              Trait  gb_idx  \\\n",
       "29    3720  frequency of failure to fulfil normal expectat...    2640   \n",
       "0     3235                            current tobacco smoking    2599   \n",
       "2     3328                     diabetes (diagnosed by doctor)     933   \n",
       "3     3329                       cancer (diagnosed by doctor)     934   \n",
       "4     3302  seen a psychiatrist for nerves, anxiety, tensi...     922   \n",
       "\n",
       "                                          description  Cosine  Keep  \n",
       "29  frequency of failure to fulfil normal expectat...     1.0     1  \n",
       "0                             current tobacco smoking     1.0     1  \n",
       "2                        diabetes diagnosed by doctor     1.0     1  \n",
       "3                          cancer diagnosed by doctor     1.0     1  \n",
       "4   seen a psychiatrist for nerves, anxiety, tensi...     1.0     1  "
      ]
     },
     "execution_count": 159,
     "metadata": {},
     "output_type": "execute_result"
    }
   ],
   "source": [
    "keep_matches = pd.read_csv(os.path.join('/cellar/users/snwright/Data/Transfer/RVC/data/RV Study Info - UKB shared traits.tsv'), sep='\\t', index_col=0)\n",
    "keep_matches.head()"
   ]
  },
  {
   "cell_type": "code",
   "execution_count": 171,
   "metadata": {
    "ExecuteTime": {
     "end_time": "2025-03-25T17:47:52.606067Z",
     "start_time": "2025-03-25T17:47:52.601967Z"
    }
   },
   "outputs": [],
   "source": [
    "all_matches = all_matches.merge(keep_matches.loc[keep_matches.Keep==1, ('ga_idx', 'gb_idx') ], on=['ga_idx', 'gb_idx'], how='inner')"
   ]
  },
  {
   "cell_type": "markdown",
   "metadata": {},
   "source": [
    "### Export"
   ]
  },
  {
   "cell_type": "code",
   "execution_count": 172,
   "metadata": {
    "ExecuteTime": {
     "end_time": "2025-03-25T17:48:13.578731Z",
     "start_time": "2025-03-25T17:48:13.576051Z"
    }
   },
   "outputs": [],
   "source": [
    "ukb_info_out = ukb_info[ukb_info.ga_idx.isin(all_matches.ga_idx.values)]"
   ]
  },
  {
   "cell_type": "code",
   "execution_count": 173,
   "metadata": {
    "ExecuteTime": {
     "end_time": "2025-03-25T17:48:15.119435Z",
     "start_time": "2025-03-25T17:48:15.115885Z"
    }
   },
   "outputs": [
    {
     "data": {
      "text/plain": [
       "(96, 30)"
      ]
     },
     "execution_count": 173,
     "metadata": {},
     "output_type": "execute_result"
    }
   ],
   "source": [
    "ukb_info_out.drop_duplicates(subset=['PMID', 'Trait', 'Population']).shape"
   ]
  },
  {
   "cell_type": "code",
   "execution_count": 174,
   "metadata": {
    "ExecuteTime": {
     "end_time": "2025-03-25T17:48:20.408244Z",
     "start_time": "2025-03-25T17:48:20.405330Z"
    }
   },
   "outputs": [],
   "source": [
    "ukb_info_out = ukb_info_out.assign(Population= ukb_info_out.Population.map({'UKB1 (EUR)':'UKB1', 'UKB2 (EUR)':'UKB2', \n",
    "                                                             'UKB2 (EUR meta)':'UKB2meta', 'UKB1 (EUR meta)':'UKB1meta'}))"
   ]
  },
  {
   "cell_type": "code",
   "execution_count": 175,
   "metadata": {
    "ExecuteTime": {
     "end_time": "2025-03-25T17:48:21.364636Z",
     "start_time": "2025-03-25T17:48:21.361667Z"
    }
   },
   "outputs": [
    {
     "data": {
      "text/plain": [
       "array(['UKB1', 'UKB2'], dtype=object)"
      ]
     },
     "execution_count": 175,
     "metadata": {},
     "output_type": "execute_result"
    }
   ],
   "source": [
    "ukb_info_out.Population.unique()"
   ]
  },
  {
   "cell_type": "code",
   "execution_count": 176,
   "metadata": {
    "ExecuteTime": {
     "end_time": "2025-03-25T17:48:26.077348Z",
     "start_time": "2025-03-25T17:48:26.074185Z"
    }
   },
   "outputs": [],
   "source": [
    "ukb_info_out['StudyC'] = 'GA_idx'+ukb_info_out.ga_idx.astype(str) +'_'+ ukb_info_out.Population + '_' + ukb_info_out.PMID.astype(str)"
   ]
  },
  {
   "cell_type": "code",
   "execution_count": 177,
   "metadata": {
    "ExecuteTime": {
     "end_time": "2025-03-25T17:48:31.655610Z",
     "start_time": "2025-03-25T17:48:31.345503Z"
    }
   },
   "outputs": [],
   "source": [
    "ukb_info_out.drop(columns=['File', 'Website', 'Consortium', 'DateAdded', 'DateLastModified']).to_csv('/cellar/users/snwright/Data/RareCommon/GWASAtlas/UKB_Atlas_Genebass_matched_traits2.tsv', sep='\\t', index=False)"
   ]
  },
  {
   "cell_type": "code",
   "execution_count": 178,
   "metadata": {
    "ExecuteTime": {
     "end_time": "2025-03-25T17:48:34.188679Z",
     "start_time": "2025-03-25T17:48:34.186167Z"
    }
   },
   "outputs": [],
   "source": [
    "phenos_out1 = phenos[phenos.gb_idx.isin(all_matches.gb_idx.values)]"
   ]
  },
  {
   "cell_type": "code",
   "execution_count": 179,
   "metadata": {
    "ExecuteTime": {
     "end_time": "2025-03-25T17:48:35.490590Z",
     "start_time": "2025-03-25T17:48:35.487405Z"
    }
   },
   "outputs": [
    {
     "name": "stderr",
     "output_type": "stream",
     "text": [
      "/tmp/ipykernel_2532028/2085730337.py:1: SettingWithCopyWarning: \n",
      "A value is trying to be set on a copy of a slice from a DataFrame.\n",
      "Try using .loc[row_indexer,col_indexer] = value instead\n",
      "\n",
      "See the caveats in the documentation: https://pandas.pydata.org/pandas-docs/stable/user_guide/indexing.html#returning-a-view-versus-a-copy\n",
      "  phenos_out1['StudyR'] = 'GB_UKB_idx' + phenos_out1.gb_idx.astype(str) + '_phe' + phenos_out1.phenocode.astype(str)\n"
     ]
    }
   ],
   "source": [
    "phenos_out1['StudyR'] = 'GB_UKB_idx' + phenos_out1.gb_idx.astype(str) + '_phe' + phenos_out1.phenocode.astype(str)"
   ]
  },
  {
   "cell_type": "code",
   "execution_count": 181,
   "metadata": {
    "ExecuteTime": {
     "end_time": "2025-03-25T17:48:43.229705Z",
     "start_time": "2025-03-25T17:48:43.227040Z"
    }
   },
   "outputs": [
    {
     "data": {
      "text/plain": [
       "(96, 21)"
      ]
     },
     "execution_count": 181,
     "metadata": {},
     "output_type": "execute_result"
    }
   ],
   "source": [
    "phenos_out1.shape"
   ]
  },
  {
   "cell_type": "code",
   "execution_count": 184,
   "metadata": {
    "ExecuteTime": {
     "end_time": "2025-03-25T18:30:58.727236Z",
     "start_time": "2025-03-25T18:30:58.713028Z"
    }
   },
   "outputs": [],
   "source": [
    "phenos_out1.to_csv('/cellar/users/snwright/Data/RareCommon/GeneBASS/UKB_Atlas_matched_trait_info2.txt', sep='\\t')"
   ]
  },
  {
   "cell_type": "code",
   "execution_count": 183,
   "metadata": {
    "ExecuteTime": {
     "end_time": "2025-03-25T17:48:51.458741Z",
     "start_time": "2025-03-25T17:48:51.194776Z"
    }
   },
   "outputs": [],
   "source": [
    "all_matches = all_matches.merge(phenos_out1.loc[:, ('gb_idx', 'StudyR')], on='gb_idx').merge(ukb_info_out.loc[:, ('ga_idx', 'StudyC')], on='ga_idx')\n",
    "all_matches.to_csv('/cellar/users/snwright/Data/RareCommon/inputs/UKB/trait_matches_genebass_atlas_Mar25.txt', sep='\\t', index=False)"
   ]
  },
  {
   "cell_type": "code",
   "execution_count": 117,
   "metadata": {
    "ExecuteTime": {
     "end_time": "2025-03-21T18:16:59.780340Z",
     "start_time": "2025-03-21T18:16:59.758720Z"
    }
   },
   "outputs": [],
   "source": [
    "all_matches.to_csv('/cellar/users/snwright/Data/RareCommon/inputs/UKB/trait_matches_genebass_atlas_Mar21.txt', sep='\\t', index=False)"
   ]
  },
  {
   "cell_type": "markdown",
   "metadata": {},
   "source": [
    "## Create Genesets"
   ]
  },
  {
   "cell_type": "code",
   "execution_count": 189,
   "metadata": {
    "ExecuteTime": {
     "end_time": "2025-03-25T18:49:45.020090Z",
     "start_time": "2025-03-25T18:49:44.871291Z"
    }
   },
   "outputs": [],
   "source": [
    "gb_ga = pd.read_csv(os.path.join(datadir, 'inputs/UKB','trait_matches_genebass_atlas_Mar25.txt' ), sep='\\t')\n",
    "matches = {'GB_GA': gb_ga}"
   ]
  },
  {
   "cell_type": "code",
   "execution_count": 190,
   "metadata": {
    "ExecuteTime": {
     "end_time": "2025-03-25T18:49:47.178680Z",
     "start_time": "2025-03-25T18:49:47.176807Z"
    }
   },
   "outputs": [],
   "source": [
    "info_files = {\n",
    "'GB_GA':{'R':'GeneBASS/UKB_Atlas_matched_trait_info2.txt',\n",
    " 'C':'GWASAtlas/UKB_Atlas_Genebass_matched_traits2.tsv'},\n",
    "}"
   ]
  },
  {
   "cell_type": "code",
   "execution_count": 191,
   "metadata": {
    "ExecuteTime": {
     "end_time": "2025-03-25T18:49:47.873029Z",
     "start_time": "2025-03-25T18:49:47.863820Z"
    }
   },
   "outputs": [],
   "source": [
    "for k, df in matches.items():\n",
    "    rare_info = pd.read_csv(os.path.join(datadir, info_files[k]['R']), sep='\\t')\n",
    "    common_info = pd.read_csv(os.path.join(datadir, info_files[k]['C']), sep='\\t')\n",
    "    df['N_R'] = df.StudyR.map(rare_info.set_index('StudyR').N.to_dict())\n",
    "    df['N_C'] = df.StudyC.map(common_info.set_index('StudyC').N.to_dict())\n",
    "    df.dropna(subset=['N_R', 'N_C'], inplace=True)"
   ]
  },
  {
   "cell_type": "markdown",
   "metadata": {},
   "source": [
    "### Common gene sets"
   ]
  },
  {
   "cell_type": "code",
   "execution_count": 192,
   "metadata": {
    "ExecuteTime": {
     "end_time": "2025-03-25T18:49:57.621432Z",
     "start_time": "2025-03-25T18:49:57.616622Z"
    }
   },
   "outputs": [],
   "source": [
    "common_info = pd.read_csv(os.path.join(datadir, info_files['GB_GA']['C']), sep='\\t')\n",
    "common_info['StudyID'] =  [str(x+1) for x in common_info.ga_idx.values]"
   ]
  },
  {
   "cell_type": "code",
   "execution_count": 196,
   "metadata": {
    "ExecuteTime": {
     "end_time": "2025-03-25T18:50:33.813330Z",
     "start_time": "2025-03-25T18:50:33.808203Z"
    }
   },
   "outputs": [],
   "source": [
    "gda = ga_gda.loc[:, ['GENE', 'Entrez']+list(common_info['StudyID'].values)]"
   ]
  },
  {
   "cell_type": "code",
   "execution_count": 197,
   "metadata": {
    "ExecuteTime": {
     "end_time": "2025-03-25T18:50:35.754957Z",
     "start_time": "2025-03-25T18:50:35.742397Z"
    }
   },
   "outputs": [
    {
     "data": {
      "text/html": [
       "<div>\n",
       "<style scoped>\n",
       "    .dataframe tbody tr th:only-of-type {\n",
       "        vertical-align: middle;\n",
       "    }\n",
       "\n",
       "    .dataframe tbody tr th {\n",
       "        vertical-align: top;\n",
       "    }\n",
       "\n",
       "    .dataframe thead th {\n",
       "        text-align: right;\n",
       "    }\n",
       "</style>\n",
       "<table border=\"1\" class=\"dataframe\">\n",
       "  <thead>\n",
       "    <tr style=\"text-align: right;\">\n",
       "      <th></th>\n",
       "      <th>GENE</th>\n",
       "      <th>Entrez</th>\n",
       "      <th>47</th>\n",
       "      <th>1142</th>\n",
       "      <th>1143</th>\n",
       "      <th>3205</th>\n",
       "      <th>3209</th>\n",
       "      <th>3224</th>\n",
       "      <th>3232</th>\n",
       "      <th>3233</th>\n",
       "      <th>...</th>\n",
       "      <th>4705</th>\n",
       "      <th>4706</th>\n",
       "      <th>4707</th>\n",
       "      <th>4708</th>\n",
       "      <th>4709</th>\n",
       "      <th>4710</th>\n",
       "      <th>4711</th>\n",
       "      <th>4712</th>\n",
       "      <th>4713</th>\n",
       "      <th>4742</th>\n",
       "    </tr>\n",
       "  </thead>\n",
       "  <tbody>\n",
       "    <tr>\n",
       "      <th>0</th>\n",
       "      <td>ENSG00000187634</td>\n",
       "      <td>148398</td>\n",
       "      <td>NaN</td>\n",
       "      <td>0.106270</td>\n",
       "      <td>0.92052</td>\n",
       "      <td>0.79605</td>\n",
       "      <td>0.89888</td>\n",
       "      <td>0.043579</td>\n",
       "      <td>0.068541</td>\n",
       "      <td>0.64091</td>\n",
       "      <td>...</td>\n",
       "      <td>0.53228</td>\n",
       "      <td>0.53311</td>\n",
       "      <td>0.36927</td>\n",
       "      <td>0.77127</td>\n",
       "      <td>0.70269</td>\n",
       "      <td>0.61337</td>\n",
       "      <td>0.70708</td>\n",
       "      <td>0.000018</td>\n",
       "      <td>0.007813</td>\n",
       "      <td>0.085329</td>\n",
       "    </tr>\n",
       "    <tr>\n",
       "      <th>1</th>\n",
       "      <td>ENSG00000188976</td>\n",
       "      <td>26155</td>\n",
       "      <td>0.4478</td>\n",
       "      <td>0.161230</td>\n",
       "      <td>0.84198</td>\n",
       "      <td>0.39602</td>\n",
       "      <td>0.89947</td>\n",
       "      <td>0.370050</td>\n",
       "      <td>0.632910</td>\n",
       "      <td>0.22279</td>\n",
       "      <td>...</td>\n",
       "      <td>0.49320</td>\n",
       "      <td>0.34424</td>\n",
       "      <td>0.52961</td>\n",
       "      <td>0.85583</td>\n",
       "      <td>0.67401</td>\n",
       "      <td>0.71050</td>\n",
       "      <td>0.37939</td>\n",
       "      <td>0.149420</td>\n",
       "      <td>0.700460</td>\n",
       "      <td>0.328520</td>\n",
       "    </tr>\n",
       "    <tr>\n",
       "      <th>2</th>\n",
       "      <td>ENSG00000187961</td>\n",
       "      <td>339451</td>\n",
       "      <td>NaN</td>\n",
       "      <td>0.340410</td>\n",
       "      <td>0.81703</td>\n",
       "      <td>0.65549</td>\n",
       "      <td>0.69781</td>\n",
       "      <td>0.635300</td>\n",
       "      <td>0.544110</td>\n",
       "      <td>0.32311</td>\n",
       "      <td>...</td>\n",
       "      <td>0.57123</td>\n",
       "      <td>0.39074</td>\n",
       "      <td>0.74453</td>\n",
       "      <td>0.93562</td>\n",
       "      <td>0.59525</td>\n",
       "      <td>0.77132</td>\n",
       "      <td>0.38019</td>\n",
       "      <td>0.166310</td>\n",
       "      <td>0.782890</td>\n",
       "      <td>0.498130</td>\n",
       "    </tr>\n",
       "    <tr>\n",
       "      <th>3</th>\n",
       "      <td>ENSG00000187583</td>\n",
       "      <td>84069</td>\n",
       "      <td>NaN</td>\n",
       "      <td>0.004155</td>\n",
       "      <td>0.89544</td>\n",
       "      <td>0.82120</td>\n",
       "      <td>0.78829</td>\n",
       "      <td>0.008788</td>\n",
       "      <td>0.443210</td>\n",
       "      <td>0.65017</td>\n",
       "      <td>...</td>\n",
       "      <td>0.65945</td>\n",
       "      <td>0.94447</td>\n",
       "      <td>0.90588</td>\n",
       "      <td>0.52784</td>\n",
       "      <td>0.57166</td>\n",
       "      <td>0.69896</td>\n",
       "      <td>0.84158</td>\n",
       "      <td>0.025276</td>\n",
       "      <td>0.932730</td>\n",
       "      <td>0.462870</td>\n",
       "    </tr>\n",
       "    <tr>\n",
       "      <th>4</th>\n",
       "      <td>ENSG00000187642</td>\n",
       "      <td>84808</td>\n",
       "      <td>NaN</td>\n",
       "      <td>0.038963</td>\n",
       "      <td>0.38839</td>\n",
       "      <td>0.59982</td>\n",
       "      <td>0.80755</td>\n",
       "      <td>0.002337</td>\n",
       "      <td>0.440850</td>\n",
       "      <td>0.80172</td>\n",
       "      <td>...</td>\n",
       "      <td>0.71412</td>\n",
       "      <td>0.97945</td>\n",
       "      <td>0.97337</td>\n",
       "      <td>0.89200</td>\n",
       "      <td>0.93736</td>\n",
       "      <td>0.55354</td>\n",
       "      <td>0.95491</td>\n",
       "      <td>0.037403</td>\n",
       "      <td>0.887940</td>\n",
       "      <td>0.335730</td>\n",
       "    </tr>\n",
       "  </tbody>\n",
       "</table>\n",
       "<p>5 rows × 98 columns</p>\n",
       "</div>"
      ],
      "text/plain": [
       "              GENE  Entrez      47      1142     1143     3205     3209  \\\n",
       "0  ENSG00000187634  148398     NaN  0.106270  0.92052  0.79605  0.89888   \n",
       "1  ENSG00000188976   26155  0.4478  0.161230  0.84198  0.39602  0.89947   \n",
       "2  ENSG00000187961  339451     NaN  0.340410  0.81703  0.65549  0.69781   \n",
       "3  ENSG00000187583   84069     NaN  0.004155  0.89544  0.82120  0.78829   \n",
       "4  ENSG00000187642   84808     NaN  0.038963  0.38839  0.59982  0.80755   \n",
       "\n",
       "       3224      3232     3233  ...     4705     4706     4707     4708  \\\n",
       "0  0.043579  0.068541  0.64091  ...  0.53228  0.53311  0.36927  0.77127   \n",
       "1  0.370050  0.632910  0.22279  ...  0.49320  0.34424  0.52961  0.85583   \n",
       "2  0.635300  0.544110  0.32311  ...  0.57123  0.39074  0.74453  0.93562   \n",
       "3  0.008788  0.443210  0.65017  ...  0.65945  0.94447  0.90588  0.52784   \n",
       "4  0.002337  0.440850  0.80172  ...  0.71412  0.97945  0.97337  0.89200   \n",
       "\n",
       "      4709     4710     4711      4712      4713      4742  \n",
       "0  0.70269  0.61337  0.70708  0.000018  0.007813  0.085329  \n",
       "1  0.67401  0.71050  0.37939  0.149420  0.700460  0.328520  \n",
       "2  0.59525  0.77132  0.38019  0.166310  0.782890  0.498130  \n",
       "3  0.57166  0.69896  0.84158  0.025276  0.932730  0.462870  \n",
       "4  0.93736  0.55354  0.95491  0.037403  0.887940  0.335730  \n",
       "\n",
       "[5 rows x 98 columns]"
      ]
     },
     "execution_count": 197,
     "metadata": {},
     "output_type": "execute_result"
    }
   ],
   "source": [
    "gda.head()"
   ]
  },
  {
   "cell_type": "code",
   "execution_count": 198,
   "metadata": {
    "ExecuteTime": {
     "end_time": "2025-03-25T18:51:16.695827Z",
     "start_time": "2025-03-25T18:51:16.688208Z"
    }
   },
   "outputs": [],
   "source": [
    "gda[gda['Entrez'].isin(['1201', '10492', '54984'])]\n",
    "drop= ['ENSG00000271793', 'ENSG00000261832', 'ENSG00000258724']\n",
    "gda = gda[~gda['GENE'].isin(drop)]"
   ]
  },
  {
   "cell_type": "code",
   "execution_count": null,
   "metadata": {},
   "outputs": [],
   "source": []
  },
  {
   "cell_type": "code",
   "execution_count": 259,
   "metadata": {
    "ExecuteTime": {
     "end_time": "2025-03-25T20:38:56.263766Z",
     "start_time": "2025-03-25T20:38:55.842650Z"
    }
   },
   "outputs": [
    {
     "name": "stderr",
     "output_type": "stream",
     "text": [
      "96it [00:00, 230.69it/s]\n"
     ]
    }
   ],
   "source": [
    "common_final = []\n",
    "for i, idx in tqdm(enumerate(gda.columns[2:])):\n",
    "    results = gda.loc[:, ('Entrez', 'GENE', idx)]\n",
    "    results = results[results[idx] < 0.0001]\n",
    "    if len(results) <= 1000:\n",
    "        results.columns = ['Entrez', 'Ensembl ID', 'P-value']\n",
    "        results['StudyID'] = idx\n",
    "        outpref = common_info[common_info.StudyID==idx].StudyC.values[0]\n",
    "        try:\n",
    "            pass\n",
    "            results.to_csv(os.path.join(inputdir, outpref + '_104_CV.txt'), sep='\\t', index=False)\n",
    "        except:\n",
    "            outpref = ''.join(outpref.split(': https://doi.org/10.1101/'))\n",
    "            results.to_csv(os.path.join(inputdir, outpref + '_104_CV.txt'), sep='\\t', index=False)\n",
    "        common_final.append(outpref)"
   ]
  },
  {
   "cell_type": "markdown",
   "metadata": {},
   "source": [
    "### Rare gene sets"
   ]
  },
  {
   "cell_type": "code",
   "execution_count": 214,
   "metadata": {
    "ExecuteTime": {
     "end_time": "2025-03-25T18:56:44.444824Z",
     "start_time": "2025-03-25T18:56:44.431280Z"
    }
   },
   "outputs": [
    {
     "data": {
      "text/html": [
       "<div>\n",
       "<style scoped>\n",
       "    .dataframe tbody tr th:only-of-type {\n",
       "        vertical-align: middle;\n",
       "    }\n",
       "\n",
       "    .dataframe tbody tr th {\n",
       "        vertical-align: top;\n",
       "    }\n",
       "\n",
       "    .dataframe thead th {\n",
       "        text-align: right;\n",
       "    }\n",
       "</style>\n",
       "<table border=\"1\" class=\"dataframe\">\n",
       "  <thead>\n",
       "    <tr style=\"text-align: right;\">\n",
       "      <th></th>\n",
       "      <th>n_cases</th>\n",
       "      <th>n_controls</th>\n",
       "      <th>heritability</th>\n",
       "      <th>saige_version</th>\n",
       "      <th>inv_normalized</th>\n",
       "      <th>trait_type</th>\n",
       "      <th>phenocode</th>\n",
       "      <th>pheno_sex</th>\n",
       "      <th>coding</th>\n",
       "      <th>modifier</th>\n",
       "      <th>...</th>\n",
       "      <th>n_cases_both_sexes</th>\n",
       "      <th>n_cases_females</th>\n",
       "      <th>n_cases_males</th>\n",
       "      <th>description</th>\n",
       "      <th>description_more</th>\n",
       "      <th>coding_description</th>\n",
       "      <th>category</th>\n",
       "      <th>N</th>\n",
       "      <th>gb_idx</th>\n",
       "      <th>StudyR</th>\n",
       "    </tr>\n",
       "  </thead>\n",
       "  <tbody>\n",
       "    <tr>\n",
       "      <th>375</th>\n",
       "      <td>229</td>\n",
       "      <td>394554.0</td>\n",
       "      <td>0.0</td>\n",
       "      <td>SAIGE_0.44.5</td>\n",
       "      <td>False</td>\n",
       "      <td>categorical</td>\n",
       "      <td>20003</td>\n",
       "      <td>both_sexes</td>\n",
       "      <td>1.140872e+09</td>\n",
       "      <td>NaN</td>\n",
       "      <td>...</td>\n",
       "      <td>289</td>\n",
       "      <td>142</td>\n",
       "      <td>130</td>\n",
       "      <td>treatment/medication code</td>\n",
       "      <td>Code for treatment Negative codes indicate fre...</td>\n",
       "      <td>morphine</td>\n",
       "      <td>UK Biobank Assessment Centre &gt; Verbal intervie...</td>\n",
       "      <td>394783.0</td>\n",
       "      <td>375</td>\n",
       "      <td>GB_UKB_idx375_phe20003</td>\n",
       "    </tr>\n",
       "  </tbody>\n",
       "</table>\n",
       "<p>1 rows × 21 columns</p>\n",
       "</div>"
      ],
      "text/plain": [
       "     n_cases  n_controls  heritability saige_version  inv_normalized  \\\n",
       "375      229    394554.0           0.0  SAIGE_0.44.5           False   \n",
       "\n",
       "      trait_type phenocode   pheno_sex        coding modifier  ...  \\\n",
       "375  categorical     20003  both_sexes  1.140872e+09      NaN  ...   \n",
       "\n",
       "     n_cases_both_sexes  n_cases_females  n_cases_males  \\\n",
       "375                 289              142            130   \n",
       "\n",
       "                   description  \\\n",
       "375  treatment/medication code   \n",
       "\n",
       "                                      description_more coding_description  \\\n",
       "375  Code for treatment Negative codes indicate fre...           morphine   \n",
       "\n",
       "                                              category         N  gb_idx  \\\n",
       "375  UK Biobank Assessment Centre > Verbal intervie...  394783.0     375   \n",
       "\n",
       "                     StudyR  \n",
       "375  GB_UKB_idx375_phe20003  \n",
       "\n",
       "[1 rows x 21 columns]"
      ]
     },
     "execution_count": 214,
     "metadata": {},
     "output_type": "execute_result"
    }
   ],
   "source": [
    "rare_info = pd.read_csv(os.path.join(datadir, info_files['GB_GA']['R']), sep='\\t', index_col=0)\n",
    "rare_info.head(1)"
   ]
  },
  {
   "cell_type": "code",
   "execution_count": 239,
   "metadata": {
    "ExecuteTime": {
     "end_time": "2025-03-25T20:32:39.661459Z",
     "start_time": "2025-03-25T20:32:28.505017Z"
    }
   },
   "outputs": [],
   "source": [
    "rare_gda = pd.read_csv('/cellar/users/snwright/Data/Transfer/RVC/data/gene_x_phenotype_pvalues.tsv', sep='\\t')"
   ]
  },
  {
   "cell_type": "code",
   "execution_count": 240,
   "metadata": {
    "ExecuteTime": {
     "end_time": "2025-03-25T20:32:54.206706Z",
     "start_time": "2025-03-25T20:32:40.650041Z"
    }
   },
   "outputs": [],
   "source": [
    "gda_map = pd.read_csv(os.path.join(datadir, 'GeneBASS', 'UKB_mapped_gene_results.tsv'), sep='\\t', usecols=['gene_id', 'gene_symbol', 'Entrez']).drop_duplicates()"
   ]
  },
  {
   "cell_type": "code",
   "execution_count": 241,
   "metadata": {
    "ExecuteTime": {
     "end_time": "2025-03-25T20:32:56.617116Z",
     "start_time": "2025-03-25T20:32:55.193632Z"
    }
   },
   "outputs": [],
   "source": [
    "rare_gda = rare_gda.merge(gda_map, on=['gene_id', 'gene_symbol'], how='inner')"
   ]
  },
  {
   "cell_type": "code",
   "execution_count": 242,
   "metadata": {
    "ExecuteTime": {
     "end_time": "2025-03-25T20:33:53.259312Z",
     "start_time": "2025-03-25T20:33:53.249976Z"
    }
   },
   "outputs": [
    {
     "data": {
      "text/html": [
       "<div>\n",
       "<style scoped>\n",
       "    .dataframe tbody tr th:only-of-type {\n",
       "        vertical-align: middle;\n",
       "    }\n",
       "\n",
       "    .dataframe tbody tr th {\n",
       "        vertical-align: top;\n",
       "    }\n",
       "\n",
       "    .dataframe thead th {\n",
       "        text-align: right;\n",
       "    }\n",
       "</style>\n",
       "<table border=\"1\" class=\"dataframe\">\n",
       "  <thead>\n",
       "    <tr style=\"text-align: right;\">\n",
       "      <th></th>\n",
       "      <th>gene_id</th>\n",
       "      <th>gene_symbol</th>\n",
       "      <th>annotation</th>\n",
       "      <th>trait_type</th>\n",
       "      <th>phenocode</th>\n",
       "      <th>pheno_sex</th>\n",
       "      <th>coding</th>\n",
       "      <th>modifier</th>\n",
       "      <th>Pvalue</th>\n",
       "      <th>BETA_Burden</th>\n",
       "      <th>Entrez</th>\n",
       "    </tr>\n",
       "  </thead>\n",
       "  <tbody>\n",
       "    <tr>\n",
       "      <th>0</th>\n",
       "      <td>ENSG00000000003</td>\n",
       "      <td>TSPAN6</td>\n",
       "      <td>missense|LC</td>\n",
       "      <td>categorical</td>\n",
       "      <td>20002</td>\n",
       "      <td>both_sexes</td>\n",
       "      <td>1.458000e+03</td>\n",
       "      <td>NaN</td>\n",
       "      <td>0.242190</td>\n",
       "      <td>-0.008195</td>\n",
       "      <td>7105</td>\n",
       "    </tr>\n",
       "    <tr>\n",
       "      <th>1</th>\n",
       "      <td>ENSG00000000003</td>\n",
       "      <td>TSPAN6</td>\n",
       "      <td>missense|LC</td>\n",
       "      <td>categorical</td>\n",
       "      <td>20002</td>\n",
       "      <td>both_sexes</td>\n",
       "      <td>1.465000e+03</td>\n",
       "      <td>NaN</td>\n",
       "      <td>0.216000</td>\n",
       "      <td>0.003933</td>\n",
       "      <td>7105</td>\n",
       "    </tr>\n",
       "    <tr>\n",
       "      <th>2</th>\n",
       "      <td>ENSG00000000003</td>\n",
       "      <td>TSPAN6</td>\n",
       "      <td>missense|LC</td>\n",
       "      <td>categorical</td>\n",
       "      <td>20002</td>\n",
       "      <td>both_sexes</td>\n",
       "      <td>1.541000e+03</td>\n",
       "      <td>NaN</td>\n",
       "      <td>0.640670</td>\n",
       "      <td>-0.018266</td>\n",
       "      <td>7105</td>\n",
       "    </tr>\n",
       "    <tr>\n",
       "      <th>3</th>\n",
       "      <td>ENSG00000000003</td>\n",
       "      <td>TSPAN6</td>\n",
       "      <td>missense|LC</td>\n",
       "      <td>categorical</td>\n",
       "      <td>20003</td>\n",
       "      <td>both_sexes</td>\n",
       "      <td>1.140872e+09</td>\n",
       "      <td>NaN</td>\n",
       "      <td>0.654130</td>\n",
       "      <td>-0.028052</td>\n",
       "      <td>7105</td>\n",
       "    </tr>\n",
       "    <tr>\n",
       "      <th>4</th>\n",
       "      <td>ENSG00000000003</td>\n",
       "      <td>TSPAN6</td>\n",
       "      <td>missense|LC</td>\n",
       "      <td>categorical</td>\n",
       "      <td>20003</td>\n",
       "      <td>both_sexes</td>\n",
       "      <td>1.140927e+09</td>\n",
       "      <td>NaN</td>\n",
       "      <td>0.010012</td>\n",
       "      <td>0.072423</td>\n",
       "      <td>7105</td>\n",
       "    </tr>\n",
       "    <tr>\n",
       "      <th>...</th>\n",
       "      <td>...</td>\n",
       "      <td>...</td>\n",
       "      <td>...</td>\n",
       "      <td>...</td>\n",
       "      <td>...</td>\n",
       "      <td>...</td>\n",
       "      <td>...</td>\n",
       "      <td>...</td>\n",
       "      <td>...</td>\n",
       "      <td>...</td>\n",
       "      <td>...</td>\n",
       "    </tr>\n",
       "    <tr>\n",
       "      <th>6500626</th>\n",
       "      <td>ENSG00000288645</td>\n",
       "      <td>AC084756.2</td>\n",
       "      <td>synonymous</td>\n",
       "      <td>continuous</td>\n",
       "      <td>Met_minutes_walking</td>\n",
       "      <td>both_sexes</td>\n",
       "      <td>NaN</td>\n",
       "      <td>custom</td>\n",
       "      <td>0.827380</td>\n",
       "      <td>-0.001554</td>\n",
       "      <td>128092252</td>\n",
       "    </tr>\n",
       "    <tr>\n",
       "      <th>6500627</th>\n",
       "      <td>ENSG00000288645</td>\n",
       "      <td>AC084756.2</td>\n",
       "      <td>synonymous</td>\n",
       "      <td>continuous</td>\n",
       "      <td>chronotype_1180_quant</td>\n",
       "      <td>both_sexes</td>\n",
       "      <td>NaN</td>\n",
       "      <td>custom</td>\n",
       "      <td>0.027624</td>\n",
       "      <td>-0.006358</td>\n",
       "      <td>128092252</td>\n",
       "    </tr>\n",
       "    <tr>\n",
       "      <th>6500628</th>\n",
       "      <td>ENSG00000288645</td>\n",
       "      <td>AC084756.2</td>\n",
       "      <td>synonymous</td>\n",
       "      <td>continuous</td>\n",
       "      <td>easy_wakeup_1170_quant</td>\n",
       "      <td>both_sexes</td>\n",
       "      <td>NaN</td>\n",
       "      <td>custom</td>\n",
       "      <td>0.131510</td>\n",
       "      <td>0.005089</td>\n",
       "      <td>128092252</td>\n",
       "    </tr>\n",
       "    <tr>\n",
       "      <th>6500629</th>\n",
       "      <td>ENSG00000288645</td>\n",
       "      <td>AC084756.2</td>\n",
       "      <td>synonymous</td>\n",
       "      <td>continuous</td>\n",
       "      <td>insomnia_1200_quant</td>\n",
       "      <td>both_sexes</td>\n",
       "      <td>NaN</td>\n",
       "      <td>custom</td>\n",
       "      <td>0.866060</td>\n",
       "      <td>-0.001149</td>\n",
       "      <td>128092252</td>\n",
       "    </tr>\n",
       "    <tr>\n",
       "      <th>6500630</th>\n",
       "      <td>ENSG00000288645</td>\n",
       "      <td>AC084756.2</td>\n",
       "      <td>synonymous</td>\n",
       "      <td>continuous</td>\n",
       "      <td>sleep_duration_1160</td>\n",
       "      <td>both_sexes</td>\n",
       "      <td>NaN</td>\n",
       "      <td>custom</td>\n",
       "      <td>0.179370</td>\n",
       "      <td>-0.000166</td>\n",
       "      <td>128092252</td>\n",
       "    </tr>\n",
       "  </tbody>\n",
       "</table>\n",
       "<p>6500631 rows × 11 columns</p>\n",
       "</div>"
      ],
      "text/plain": [
       "                 gene_id gene_symbol   annotation   trait_type  \\\n",
       "0        ENSG00000000003      TSPAN6  missense|LC  categorical   \n",
       "1        ENSG00000000003      TSPAN6  missense|LC  categorical   \n",
       "2        ENSG00000000003      TSPAN6  missense|LC  categorical   \n",
       "3        ENSG00000000003      TSPAN6  missense|LC  categorical   \n",
       "4        ENSG00000000003      TSPAN6  missense|LC  categorical   \n",
       "...                  ...         ...          ...          ...   \n",
       "6500626  ENSG00000288645  AC084756.2   synonymous   continuous   \n",
       "6500627  ENSG00000288645  AC084756.2   synonymous   continuous   \n",
       "6500628  ENSG00000288645  AC084756.2   synonymous   continuous   \n",
       "6500629  ENSG00000288645  AC084756.2   synonymous   continuous   \n",
       "6500630  ENSG00000288645  AC084756.2   synonymous   continuous   \n",
       "\n",
       "                      phenocode   pheno_sex        coding modifier    Pvalue  \\\n",
       "0                         20002  both_sexes  1.458000e+03      NaN  0.242190   \n",
       "1                         20002  both_sexes  1.465000e+03      NaN  0.216000   \n",
       "2                         20002  both_sexes  1.541000e+03      NaN  0.640670   \n",
       "3                         20003  both_sexes  1.140872e+09      NaN  0.654130   \n",
       "4                         20003  both_sexes  1.140927e+09      NaN  0.010012   \n",
       "...                         ...         ...           ...      ...       ...   \n",
       "6500626     Met_minutes_walking  both_sexes           NaN   custom  0.827380   \n",
       "6500627   chronotype_1180_quant  both_sexes           NaN   custom  0.027624   \n",
       "6500628  easy_wakeup_1170_quant  both_sexes           NaN   custom  0.131510   \n",
       "6500629     insomnia_1200_quant  both_sexes           NaN   custom  0.866060   \n",
       "6500630     sleep_duration_1160  both_sexes           NaN   custom  0.179370   \n",
       "\n",
       "         BETA_Burden     Entrez  \n",
       "0          -0.008195       7105  \n",
       "1           0.003933       7105  \n",
       "2          -0.018266       7105  \n",
       "3          -0.028052       7105  \n",
       "4           0.072423       7105  \n",
       "...              ...        ...  \n",
       "6500626    -0.001554  128092252  \n",
       "6500627    -0.006358  128092252  \n",
       "6500628     0.005089  128092252  \n",
       "6500629    -0.001149  128092252  \n",
       "6500630    -0.000166  128092252  \n",
       "\n",
       "[6500631 rows x 11 columns]"
      ]
     },
     "execution_count": 242,
     "metadata": {},
     "output_type": "execute_result"
    }
   ],
   "source": [
    "rare_gda"
   ]
  },
  {
   "cell_type": "code",
   "execution_count": 243,
   "metadata": {
    "ExecuteTime": {
     "end_time": "2025-03-25T20:33:57.543974Z",
     "start_time": "2025-03-25T20:33:57.536174Z"
    }
   },
   "outputs": [],
   "source": [
    "rare_gda_sig = rare_gda[rare_gda.Pvalue<0.0001]"
   ]
  },
  {
   "cell_type": "code",
   "execution_count": 244,
   "metadata": {
    "ExecuteTime": {
     "end_time": "2025-03-25T20:34:00.974961Z",
     "start_time": "2025-03-25T20:34:00.971005Z"
    }
   },
   "outputs": [],
   "source": [
    "rare_info = rare_info.fillna(np.nan)"
   ]
  },
  {
   "cell_type": "code",
   "execution_count": 223,
   "metadata": {
    "ExecuteTime": {
     "end_time": "2025-03-25T19:27:31.326049Z",
     "start_time": "2025-03-25T19:27:31.185285Z"
    }
   },
   "outputs": [],
   "source": [
    "rare_info.to_csv('/cellar/users/snwright/Data/Transfer/RVC/data/studies.csv')"
   ]
  },
  {
   "cell_type": "code",
   "execution_count": 258,
   "metadata": {
    "ExecuteTime": {
     "end_time": "2025-03-25T20:38:52.450137Z",
     "start_time": "2025-03-25T20:38:50.417638Z"
    }
   },
   "outputs": [
    {
     "name": "stderr",
     "output_type": "stream",
     "text": [
      "96it [00:02, 47.37it/s] \n"
     ]
    }
   ],
   "source": [
    "rare_final = []\n",
    "for i, studyR in tqdm(enumerate(rare_info.StudyR.values)):\n",
    "    phenocode=rare_info.iloc[i].phenocode\n",
    "    coding = rare_info.iloc[i].coding\n",
    "    trait_type=rare_info.iloc[i].trait_type\n",
    "    modifier = rare_info.iloc[i].modifier\n",
    "    results = rare_gda_sig[(rare_gda_sig.phenocode==phenocode) & (rare_gda_sig.trait_type==trait_type)]\n",
    "    if len(results) == 0:\n",
    "        print(phenocode)\n",
    "    if coding > 0:\n",
    "        results = results[results.coding==coding]\n",
    "    if isinstance(modifier, str):\n",
    "        results = results[results.modifier==modifier]\n",
    "    # Take the most significant model    \n",
    "    results = results.sort_values('Pvalue', ascending=True).drop_duplicates(subset=['Entrez'])\n",
    "    results_out = results.loc[:, ('gene_id', 'gene_symbol', 'Pvalue', 'BETA_Burden', 'Entrez')]\n",
    "    results_out.columns = ['Ensembl ID', 'Gene Symbol', 'P-value', 'BETA_Burden', 'Entrez']\n",
    "    #print(len(results_out))\n",
    "    if len(results) >= 3:\n",
    "        rare_final.append(studyR)\n",
    "        results_out.to_csv(os.path.join(inputdir, studyR + '_104_RV.txt'), sep='\\t', index=False)"
   ]
  },
  {
   "cell_type": "code",
   "execution_count": 265,
   "metadata": {
    "ExecuteTime": {
     "end_time": "2025-03-25T20:40:25.616114Z",
     "start_time": "2025-03-25T20:40:25.612043Z"
    }
   },
   "outputs": [
    {
     "data": {
      "text/plain": [
       "96"
      ]
     },
     "execution_count": 265,
     "metadata": {},
     "output_type": "execute_result"
    }
   ],
   "source": [
    "len(rare_final)"
   ]
  },
  {
   "cell_type": "code",
   "execution_count": 266,
   "metadata": {
    "ExecuteTime": {
     "end_time": "2025-03-25T20:40:37.341078Z",
     "start_time": "2025-03-25T20:40:37.336590Z"
    }
   },
   "outputs": [
    {
     "data": {
      "text/plain": [
       "93"
      ]
     },
     "execution_count": 266,
     "metadata": {},
     "output_type": "execute_result"
    }
   ],
   "source": [
    "len(common_final)"
   ]
  },
  {
   "cell_type": "markdown",
   "metadata": {},
   "source": [
    "### Traitlists"
   ]
  },
  {
   "cell_type": "code",
   "execution_count": 272,
   "metadata": {
    "ExecuteTime": {
     "end_time": "2025-03-25T20:50:32.278007Z",
     "start_time": "2025-03-25T20:50:32.273374Z"
    }
   },
   "outputs": [
    {
     "name": "stderr",
     "output_type": "stream",
     "text": [
      "/tmp/ipykernel_2532028/2935981255.py:4: SettingWithCopyWarning: \n",
      "A value is trying to be set on a copy of a slice from a DataFrame.\n",
      "Try using .loc[row_indexer,col_indexer] = value instead\n",
      "\n",
      "See the caveats in the documentation: https://pandas.pydata.org/pandas-docs/stable/user_guide/indexing.html#returning-a-view-versus-a-copy\n",
      "  final_matches['StudyC'] = final_matches['StudyC'] + '_104'\n",
      "/tmp/ipykernel_2532028/2935981255.py:5: SettingWithCopyWarning: \n",
      "A value is trying to be set on a copy of a slice from a DataFrame.\n",
      "Try using .loc[row_indexer,col_indexer] = value instead\n",
      "\n",
      "See the caveats in the documentation: https://pandas.pydata.org/pandas-docs/stable/user_guide/indexing.html#returning-a-view-versus-a-copy\n",
      "  final_matches['StudyR'] = final_matches['StudyR'] + '_104'\n"
     ]
    }
   ],
   "source": [
    "final_matches = matches['GB_GA']\n",
    "final_matches['StudyC'] = final_matches['StudyC'].apply(lambda z: ''.join(z.split(': https://doi.org/10.1101/')))\n",
    "final_matches =final_matches[final_matches.StudyR.isin(rare_final) & final_matches.StudyC.isin(common_final)]\n",
    "final_matches['StudyC'] = final_matches['StudyC'] + '_104'\n",
    "final_matches['StudyR'] = final_matches['StudyR'] + '_104'"
   ]
  },
  {
   "cell_type": "code",
   "execution_count": 273,
   "metadata": {
    "ExecuteTime": {
     "end_time": "2025-03-25T20:50:35.479832Z",
     "start_time": "2025-03-25T20:50:35.471649Z"
    }
   },
   "outputs": [],
   "source": [
    "final_matches.to_csv(os.path.join(inputdir, 'gb_ga_matches_th104.txt'), sep='\\t', index=False)"
   ]
  },
  {
   "cell_type": "code",
   "execution_count": 275,
   "metadata": {
    "ExecuteTime": {
     "end_time": "2025-03-25T20:50:45.134658Z",
     "start_time": "2025-03-25T20:50:45.113602Z"
    }
   },
   "outputs": [],
   "source": [
    "final_matches.StudyC.to_csv(os.path.join(inputdir, 'gb_ga_104_common.traitlist'), sep='\\t', index=False, header=False)\n",
    "final_matches.StudyR.to_csv(os.path.join(inputdir, 'gb_ga_104_rare.traitlist'), sep='\\t', index=False, header=False)"
   ]
  },
  {
   "cell_type": "markdown",
   "metadata": {},
   "source": [
    "## Input figures"
   ]
  },
  {
   "cell_type": "code",
   "execution_count": 282,
   "metadata": {
    "ExecuteTime": {
     "end_time": "2025-03-26T00:05:34.471054Z",
     "start_time": "2025-03-26T00:05:34.469218Z"
    }
   },
   "outputs": [],
   "source": [
    "import matplotlib.pyplot as plt"
   ]
  },
  {
   "cell_type": "code",
   "execution_count": 280,
   "metadata": {
    "ExecuteTime": {
     "end_time": "2025-03-26T00:05:22.328958Z",
     "start_time": "2025-03-26T00:05:22.325664Z"
    }
   },
   "outputs": [],
   "source": [
    "ukb_info_out = ukb_info_out.assign(trait_type=ukb_info.Ncase.apply(lambda x: 'CC' if x > 0 else 'Q'))"
   ]
  },
  {
   "cell_type": "code",
   "execution_count": 292,
   "metadata": {
    "ExecuteTime": {
     "end_time": "2025-03-26T00:08:31.093450Z",
     "start_time": "2025-03-26T00:08:30.716824Z"
    }
   },
   "outputs": [
    {
     "data": {
      "text/plain": [
       "([<matplotlib.axis.XTick at 0x1555106c8ca0>,\n",
       "  <matplotlib.axis.XTick at 0x1555134f3910>,\n",
       "  <matplotlib.axis.XTick at 0x155512ac3dc0>,\n",
       "  <matplotlib.axis.XTick at 0x1555106a16c0>],\n",
       " [Text(0, 0, '0'), Text(10, 0, '10'), Text(20, 0, '20'), Text(30, 0, '30')])"
      ]
     },
     "execution_count": 292,
     "metadata": {},
     "output_type": "execute_result"
    },
    {
     "data": {
      "image/png": "[encoded data removed]",
      "text/plain": [
       "<Figure size 150x200 with 1 Axes>"
      ]
     },
     "metadata": {},
     "output_type": "display_data"
    }
   ],
   "source": [
    "ukb_info_out = ukb_info_out[ukb_info_out.ga_idx.isin(final_matches.ga_idx.values)]\n",
    "domains = ukb_info_out[ukb_info_out.trait_type=='Q'].Domain.value_counts().reset_index()\n",
    "domains_plot = domains[domains['count']>=2]\n",
    "other=domains[~domains.Domain.isin(domains_plot.Domain.values)]['count'].sum()\n",
    "domain_dict =domains_plot.set_index('Domain')['count'].to_dict()\n",
    "domain_dict['Other'] = other\n",
    "\n",
    "domains = ukb_info_out[ukb_info_out.trait_type=='CC'].Domain.value_counts().reset_index()\n",
    "domains_plot2 = domains[domains.Domain.isin(domains_plot.Domain.values)]\n",
    "other2=domains[~domains.Domain.isin(domains_plot2.Domain.values)]['count'].sum()\n",
    "domain_dict2 =domains_plot2.set_index('Domain')['count'].to_dict()\n",
    "domain_dict2['Other'] = other2\n",
    "\n",
    "_ = plt.figure(figsize=(1.5, 2))\n",
    "pd.DataFrame({'Continuous': domain_dict, 'Categorical': domain_dict2}).iloc[::-1].plot(kind='barh', stacked=True, ax=plt.gca(),\n",
    "                                                                              edgecolor='black', linewidth=0.3, width=0.8,\n",
    "                                                                              color=[ '#509AA6', '#00606f',])\n",
    "plt.xticks([0, 10, 20, 30])\n",
    "#plt.savefig(os.path.join(figdir, 'UKB_input_trait_types.svg'), bbox_inches='tight')"
   ]
  },
  {
   "cell_type": "code",
   "execution_count": 293,
   "metadata": {
    "ExecuteTime": {
     "end_time": "2025-03-26T00:08:32.665158Z",
     "start_time": "2025-03-26T00:08:32.546997Z"
    }
   },
   "outputs": [
    {
     "data": {
      "image/png": "[encoded data removed]",
      "text/plain": [
       "<Figure size 150x200 with 2 Axes>"
      ]
     },
     "metadata": {},
     "output_type": "display_data"
    }
   ],
   "source": [
    "_, [ax1, ax2] = plt.subplots(nrows=1, ncols=2, figsize=(1.5, 2), sharey=True, gridspec_kw={'wspace':0})\n",
    "bins=[x*25000 for x in range(0,  20)]\n",
    "sns.histplot(y= final_matches.N_R, bins=bins, kde=False, element='step', ax=ax2, color='#5fad56', alpha=1, edgecolor='black')\n",
    "sns.histplot(y= final_matches.N_C, bins=bins, kde=False, element='step', ax=ax1,color='#6ec1e0' , alpha=1, edgecolor='black')\n",
    "ax1.invert_xaxis()\n",
    "ax1.set_xlim(52, 0)\n",
    "ax2.set_xlim(0, 52)\n",
    "ax1.set_ylim(0, 500000)\n",
    "_ = ax1.set_yticks([x*100000 for x in range(6)], labels=[0, '100k', '200k', '300k', '400k', '500k'])\n",
    "ax1.set_ylabel('Study Population')\n",
    "ax1.set_xticks([50, 25, 0])\n",
    "ax2.set_xticks([0, 25, 50])\n",
    "ax1.set_xlabel('Common')\n",
    "ax2.set_xlabel('Rare')\n",
    "ax2.tick_params(axis='y', size=0)\n",
    "#plt.savefig(os.path.join(figdir, 'population_size_histograms_ukb.svg'), bbox_inches='tight')"
   ]
  },
  {
   "cell_type": "code",
   "execution_count": 295,
   "metadata": {
    "ExecuteTime": {
     "end_time": "2025-03-26T00:09:44.637384Z",
     "start_time": "2025-03-26T00:09:44.634888Z"
    }
   },
   "outputs": [],
   "source": [
    "ukb_info_out = ukb_info_out[ukb_info_out.ga_idx.isin(final_matches.ga_idx.values)]"
   ]
  },
  {
   "cell_type": "code",
   "execution_count": 303,
   "metadata": {
    "ExecuteTime": {
     "end_time": "2025-03-26T00:13:19.005559Z",
     "start_time": "2025-03-26T00:13:18.907975Z"
    }
   },
   "outputs": [],
   "source": [
    "ukb_info_out.merge(final_matches, on=['ga_idx', 'Trait']).loc[:, ('Trait', 'N_C', 'N_R', 'Domain' ,'trait_type')].to_csv(os.path.join(datadir, 'inputs/UKB/input_figure_metadata.tsv'), sep='\\t', index=False)"
   ]
  }
 ],
 "metadata": {
  "kernelspec": {
   "display_name": "Python (CARVA)",
   "language": "python",
   "name": "carva"
  },
  "language_info": {
   "codemirror_mode": {
    "name": "ipython",
    "version": 3
   },
   "file_extension": ".py",
   "mimetype": "text/x-python",
   "name": "python",
   "nbconvert_exporter": "python",
   "pygments_lexer": "ipython3",
   "version": "3.10.0"
  },
  "toc": {
   "base_numbering": 1,
   "nav_menu": {},
   "number_sections": true,
   "sideBar": true,
   "skip_h1_title": false,
   "title_cell": "Table of Contents",
   "title_sidebar": "Contents",
   "toc_cell": false,
   "toc_position": {
    "height": "calc(100% - 180px)",
    "left": "10px",
    "top": "150px",
    "width": "341.448px"
   },
   "toc_section_display": true,
   "toc_window_display": true
  },
  "varInspector": {
   "cols": {
    "lenName": 16,
    "lenType": 16,
    "lenVar": 40
   },
   "kernels_config": {
    "python": {
     "delete_cmd_postfix": "",
     "delete_cmd_prefix": "del ",
     "library": "var_list.py",
     "varRefreshCmd": "print(var_dic_list())"
    },
    "r": {
     "delete_cmd_postfix": ") ",
     "delete_cmd_prefix": "rm(",
     "library": "var_list.r",
     "varRefreshCmd": "cat(var_dic_list()) "
    }
   },
   "types_to_exclude": [
    "module",
    "function",
    "builtin_function_or_method",
    "instance",
    "_Feature"
   ],
   "window_display": false
  }
 },
 "nbformat": 4,
 "nbformat_minor": 2
}
