{
 "cells": [
  {
   "cell_type": "code",
   "execution_count": 6,
   "metadata": {
    "ExecuteTime": {
     "end_time": "2025-03-24T16:51:30.349413Z",
     "start_time": "2025-03-24T16:50:57.390244Z"
    }
   },
   "outputs": [],
   "source": [
    "import pandas as pd\n",
    "import numpy as np\n",
    "import seaborn as sns\n",
    "import os\n",
    "from sentence_transformers import SentenceTransformer\n",
    "from sklearn.metrics.pairwise import cosine_similarity\n",
    "from matplotlib_venn import venn2, venn3\n",
    "import matplotlib.pyplot as plt"
   ]
  },
  {
   "cell_type": "code",
   "execution_count": 7,
   "metadata": {
    "ExecuteTime": {
     "end_time": "2025-03-24T16:51:30.355551Z",
     "start_time": "2025-03-24T16:51:30.350884Z"
    }
   },
   "outputs": [],
   "source": [
    "plt.rcParams['svg.fonttype'] = 'none'\n",
    "plt.rcParams.update({'font.size': 12})\n",
    "plt.rcParams['axes.linewidth'] = 0.5\n",
    "plt.rcParams['hatch.linewidth'] = 0.5\n",
    "plt.rcParams['xtick.major.width'] = 0.4\n",
    "plt.rcParams['ytick.major.width'] = 0.4\n",
    "plt.rcParams['xtick.minor.width'] = 0.3\n",
    "plt.rcParams['ytick.minor.width'] = 0.3\n",
    "plt.rcParams['legend.frameon'] = False\n",
    "plt.rcParams['xtick.major.size'] = 3\n",
    "plt.rcParams['ytick.major.size'] = 3\n",
    "plt.rcParams['xtick.minor.size'] = 2\n",
    "plt.rcParams['ytick.minor.size'] = 2\n",
    "plt.rcParams['xtick.major.pad'] = 1\n",
    "plt.rcParams['ytick.major.pad'] = 1\n",
    "plt.rcParams['axes.labelpad'] = 1\n",
    "plt.rcParams['patch.linewidth'] = 0.25"
   ]
  },
  {
   "cell_type": "code",
   "execution_count": 8,
   "metadata": {
    "ExecuteTime": {
     "end_time": "2025-03-24T16:51:47.263222Z",
     "start_time": "2025-03-24T16:51:30.357563Z"
    }
   },
   "outputs": [],
   "source": [
    "model = SentenceTransformer('all-MiniLM-L6-v2')"
   ]
  },
  {
   "cell_type": "code",
   "execution_count": 9,
   "metadata": {
    "ExecuteTime": {
     "end_time": "2025-03-24T16:51:47.267519Z",
     "start_time": "2025-03-24T16:51:47.264854Z"
    }
   },
   "outputs": [],
   "source": [
    "datadir = '/cellar/users/snwright/Data/RareCommon/GWASAtlas'\n",
    "figdir = '/cellar/users/snwright/Data/Transfer/RVC/figures/Figure_UKB_Inputs/'"
   ]
  },
  {
   "cell_type": "markdown",
   "metadata": {},
   "source": [
    "## Load Data\n",
    "### GWAS Atlas"
   ]
  },
  {
   "cell_type": "code",
   "execution_count": 10,
   "metadata": {
    "ExecuteTime": {
     "end_time": "2025-03-24T16:51:47.535620Z",
     "start_time": "2025-03-24T16:51:47.268438Z"
    }
   },
   "outputs": [],
   "source": [
    "info = pd.read_csv(os.path.join(datadir, 'gwasATLAS_v20191115.txt.gz' ), sep='\\t', low_memory=False, index_col=0)\n",
    "info.shape\n",
    "info['ga_idx'] = [x for x in range(len(info))]\n",
    "ukb_ids = ['UKB2 (EUR)', 'UKB1 (EUR)']\n",
    "ukb_info = info[info.Population.isin(ukb_ids)]\n",
    "# remove any with missing N\n",
    "ukb_info = ukb_info[~ukb_info.N.isna()]\n",
    "# remove any with missing Genome information\n",
    "ukb_info = ukb_info[~ukb_info.Genome.isna()]\n",
    "#restrict to those with at least 3 hits\n",
    "ukb_info = ukb_info[ukb_info.Nhits >= 3]\n",
    "cv_start = ukb_info.uniqTrait.nunique()\n",
    "ukb_info = ukb_info.assign(trait_type=ukb_info.Ncase.apply(lambda x: 'CC' if x > 0 else 'Q'))"
   ]
  },
  {
   "cell_type": "code",
   "execution_count": null,
   "metadata": {},
   "outputs": [],
   "source": []
  },
  {
   "cell_type": "code",
   "execution_count": null,
   "metadata": {
    "ExecuteTime": {
     "end_time": "2025-03-21T20:55:28.052639Z",
     "start_time": "2025-03-21T20:55:28.049484Z"
    }
   },
   "outputs": [],
   "source": []
  },
  {
   "cell_type": "code",
   "execution_count": 11,
   "metadata": {
    "ExecuteTime": {
     "end_time": "2025-03-24T16:51:47.541134Z",
     "start_time": "2025-03-24T16:51:47.536724Z"
    }
   },
   "outputs": [
    {
     "data": {
      "text/plain": [
       "(471, 30)"
      ]
     },
     "execution_count": 11,
     "metadata": {},
     "output_type": "execute_result"
    }
   ],
   "source": [
    "\n",
    "ukb_info.shape"
   ]
  },
  {
   "cell_type": "code",
   "execution_count": 12,
   "metadata": {
    "ExecuteTime": {
     "end_time": "2025-03-24T16:51:47.703168Z",
     "start_time": "2025-03-24T16:51:47.542183Z"
    }
   },
   "outputs": [],
   "source": [
    "def extract_phecode(s):\n",
    "    if isinstance(s, str):\n",
    "        parts = [x for x in s.split('. ')]\n",
    "        for p in parts:\n",
    "            if 'UKB phenotype field' in p:\n",
    "                return p.split(': ')[-1].split(' (')[0]\n",
    "        else:\n",
    "            return np.nan\n",
    "    else:\n",
    "        return np.nan\n",
    "# extract ukb_phecodes where available in notes\n",
    "ukb_info['phecode'] = ukb_info.Note.apply(lambda x: extract_phecode(x))"
   ]
  },
  {
   "cell_type": "code",
   "execution_count": 13,
   "metadata": {
    "ExecuteTime": {
     "end_time": "2025-03-24T16:51:47.854937Z",
     "start_time": "2025-03-24T16:51:47.704183Z"
    }
   },
   "outputs": [],
   "source": [
    "ukb_info['Trait'] = ukb_info['Trait'].apply(lambda x: x.lower())\n",
    "ukb_info['uniqTrait'] = ukb_info['uniqTrait'].apply(lambda x: x.lower())"
   ]
  },
  {
   "cell_type": "markdown",
   "metadata": {},
   "source": [
    "### Genebass"
   ]
  },
  {
   "cell_type": "code",
   "execution_count": 14,
   "metadata": {
    "ExecuteTime": {
     "end_time": "2025-03-24T16:51:48.014459Z",
     "start_time": "2025-03-24T16:51:47.855890Z"
    }
   },
   "outputs": [],
   "source": [
    "phenos = pd.read_csv(os.path.join(datadir,'../GeneBASS/', 'genebass_pheno_df_full.txt'), sep='\\t', index_col=0)\n",
    "phenos['description'] = phenos['description'].apply(lambda z: z.lower() if isinstance(z, str) else np.nan)\n",
    "phenos['coding_description'] = phenos['coding_description'].apply(lambda z: z.lower() if isinstance(z, str) else np.nan)\n",
    "phenos['n_controls'] = phenos['n_controls'].fillna(0)\n",
    "phenos['N'] = phenos['n_cases'] + phenos['n_controls']\n",
    "phenos['gb_idx'] = [x for x in range(len(phenos))]\n",
    "phenos = phenos.dropna(subset='N')\n",
    "phenos=phenos.sort_values(by='N', ascending=False)\n",
    "phenos = phenos[phenos.trait_type != 'icd_first_occurrence']\n",
    "rv_start = phenos.description.nunique()"
   ]
  },
  {
   "cell_type": "code",
   "execution_count": 15,
   "metadata": {
    "ExecuteTime": {
     "end_time": "2025-03-24T16:51:48.025561Z",
     "start_time": "2025-03-24T16:51:48.016990Z"
    }
   },
   "outputs": [
    {
     "data": {
      "text/plain": [
       "n_cases               1725\n",
       "n_controls            1627\n",
       "heritability          2459\n",
       "saige_version            1\n",
       "inv_normalized           1\n",
       "trait_type               3\n",
       "phenocode             1417\n",
       "pheno_sex                3\n",
       "coding                2057\n",
       "modifier                 3\n",
       "n_cases_defined       1809\n",
       "n_cases_both_sexes    1796\n",
       "n_cases_females       1572\n",
       "n_cases_males         1435\n",
       "description           1372\n",
       "description_more      1213\n",
       "coding_description    2147\n",
       "category               117\n",
       "N                      386\n",
       "gb_idx                3849\n",
       "dtype: int64"
      ]
     },
     "execution_count": 15,
     "metadata": {},
     "output_type": "execute_result"
    }
   ],
   "source": [
    "phenos.nunique()"
   ]
  },
  {
   "cell_type": "markdown",
   "metadata": {},
   "source": [
    "## Trait matching"
   ]
  },
  {
   "cell_type": "markdown",
   "metadata": {},
   "source": [
    "### Direct PheCode matches"
   ]
  },
  {
   "cell_type": "code",
   "execution_count": 16,
   "metadata": {
    "ExecuteTime": {
     "end_time": "2025-03-24T16:51:48.128021Z",
     "start_time": "2025-03-24T16:51:48.026501Z"
    }
   },
   "outputs": [
    {
     "data": {
      "text/plain": [
       "(69, 51)"
      ]
     },
     "execution_count": 16,
     "metadata": {},
     "output_type": "execute_result"
    }
   ],
   "source": [
    "# first direct matches based on phecodes - do not use 'coding' from genebass will give incorrect matches\n",
    "phe_match = phenos.merge(ukb_info, left_on='phenocode', right_on='phecode', how='inner')\n",
    "phe_match.shape"
   ]
  },
  {
   "cell_type": "code",
   "execution_count": 17,
   "metadata": {
    "ExecuteTime": {
     "end_time": "2025-03-24T16:51:48.132459Z",
     "start_time": "2025-03-24T16:51:48.128996Z"
    }
   },
   "outputs": [],
   "source": [
    "ga_match_ids = list(phe_match.ga_idx.values)"
   ]
  },
  {
   "cell_type": "markdown",
   "metadata": {},
   "source": [
    "### SBERT trait matching"
   ]
  },
  {
   "cell_type": "code",
   "execution_count": 18,
   "metadata": {
    "ExecuteTime": {
     "end_time": "2025-03-24T16:51:48.140196Z",
     "start_time": "2025-03-24T16:51:48.134096Z"
    },
    "code_folding": [
     0
    ],
    "run_control": {
     "marked": true
    }
   },
   "outputs": [],
   "source": [
    "def get_all_matches(series1, series2, emb1, emb2, th=0.8):\n",
    "    \"\"\"\n",
    "    Given two pandas Series (series1 and series2) along with their precomputed embeddings (emb1 and emb2),\n",
    "    compute the cosine similarity between every string from series1 and every string from series2.\n",
    "    \n",
    "    Returns a DataFrame with all pairs (one string from each Series) having a cosine similarity >= th.\n",
    "    Each row includes:\n",
    "      - Series1_Index, Series1_Text,\n",
    "      - Series2_Index, Series2_Text,\n",
    "      - Cosine_Similarity.\n",
    "    \n",
    "    Parameters:\n",
    "      series1 (pd.Series): Series of strings (with index) for list1.\n",
    "      series2 (pd.Series): Series of strings (with index) for list2.\n",
    "      emb1 (np.ndarray): Embeddings for the strings in series1 (assumed to correspond in order to series1.index).\n",
    "      emb2 (np.ndarray): Embeddings for the strings in series2.\n",
    "      th (float): Cosine similarity threshold (default=0.8).\n",
    "    \n",
    "    Returns:\n",
    "      pd.DataFrame: DataFrame containing all unique pairs with similarity >= th.\n",
    "    \"\"\"\n",
    "    # Compute the cosine similarity matrix between emb1 and emb2.\n",
    "    sim_matrix = cosine_similarity(emb1, emb2)\n",
    "    \n",
    "    pairs = []\n",
    "    # Loop over rows (series1) and columns (series2) to collect pairs meeting threshold.\n",
    "    n1, n2 = sim_matrix.shape\n",
    "    for i in range(n1):\n",
    "        for j in range(n2):\n",
    "            sim = sim_matrix[i, j]\n",
    "            if sim >= th:\n",
    "                pairs.append({\n",
    "                    \"Series1_Index\": series1.index[i],\n",
    "                    \"Series1_Text\": series1.iloc[i],\n",
    "                    \"Series2_Index\": series2.index[j],\n",
    "                    \"Series2_Text\": series2.iloc[j],\n",
    "                    \"Cosine_Similarity\": sim\n",
    "                })\n",
    "    \n",
    "    # Create DataFrame of matches.\n",
    "    matches_df = pd.DataFrame(pairs)\n",
    "    # (If the same pair could be found twice by any chance, drop duplicates.)\n",
    "    matches_df.drop_duplicates(inplace=True)\n",
    "    # Optionally, sort by descending similarity.\n",
    "    matches_df.sort_values(by=\"Cosine_Similarity\", ascending=False, inplace=True)\n",
    "    return matches_df"
   ]
  },
  {
   "cell_type": "code",
   "execution_count": 19,
   "metadata": {
    "ExecuteTime": {
     "end_time": "2025-03-24T16:51:48.149033Z",
     "start_time": "2025-03-24T16:51:48.142137Z"
    }
   },
   "outputs": [
    {
     "data": {
      "text/plain": [
       "(1378, 20)"
      ]
     },
     "execution_count": 19,
     "metadata": {},
     "output_type": "execute_result"
    }
   ],
   "source": [
    "# get the traits where we will use the description column\n",
    "desc_counts = phenos.description.value_counts()\n",
    "use_description = phenos[~phenos.description.isin(desc_counts[desc_counts>3].index.values)]\n",
    "use_description = use_description[~use_description.description.isna()]\n",
    "use_description.shape"
   ]
  },
  {
   "cell_type": "code",
   "execution_count": 20,
   "metadata": {
    "ExecuteTime": {
     "end_time": "2025-03-24T16:51:58.073702Z",
     "start_time": "2025-03-24T16:51:48.149989Z"
    }
   },
   "outputs": [
    {
     "data": {
      "application/vnd.jupyter.widget-view+json": {
       "model_id": "9999a7e6ab074b708278f13572b0a07b",
       "version_major": 2,
       "version_minor": 0
      },
      "text/plain": [
       "Batches:   0%|          | 0/13 [00:00<?, ?it/s]"
      ]
     },
     "metadata": {},
     "output_type": "display_data"
    },
    {
     "data": {
      "application/vnd.jupyter.widget-view+json": {
       "model_id": "e1d4f003ad4748a89482f4d8f85b8b2b",
       "version_major": 2,
       "version_minor": 0
      },
      "text/plain": [
       "Batches:   0%|          | 0/44 [00:00<?, ?it/s]"
      ]
     },
     "metadata": {},
     "output_type": "display_data"
    }
   ],
   "source": [
    "# get embeddings\n",
    "ga_embeddings = model.encode(list(ukb_info[~ukb_info.ga_idx.isin(ga_match_ids)]['Trait'].values), batch_size=32, show_progress_bar=True)\n",
    "bass_embeddings1 = model.encode(use_description.description.values, batch_size=32, show_progress_bar=True)"
   ]
  },
  {
   "cell_type": "code",
   "execution_count": 21,
   "metadata": {
    "ExecuteTime": {
     "end_time": "2025-03-24T16:51:59.202212Z",
     "start_time": "2025-03-24T16:51:58.075152Z"
    }
   },
   "outputs": [],
   "source": [
    "ga_desc = get_all_matches(ukb_info[~ukb_info.ga_idx.isin(ga_match_ids)].set_index('ga_idx').Trait, \n",
    "                          use_description.set_index('gb_idx').description, \n",
    "                          ga_embeddings, bass_embeddings1, th=0.7)"
   ]
  },
  {
   "cell_type": "code",
   "execution_count": 22,
   "metadata": {
    "ExecuteTime": {
     "end_time": "2025-03-24T16:52:06.939520Z",
     "start_time": "2025-03-24T16:51:59.203293Z"
    }
   },
   "outputs": [
    {
     "data": {
      "application/vnd.jupyter.widget-view+json": {
       "model_id": "0600ed156a534b17b3a7840cd81e1522",
       "version_major": 2,
       "version_minor": 0
      },
      "text/plain": [
       "Batches:   0%|          | 0/76 [00:00<?, ?it/s]"
      ]
     },
     "metadata": {},
     "output_type": "display_data"
    }
   ],
   "source": [
    "use_coding = phenos[(~phenos.coding_description.isna()) & (~phenos.gb_idx.isin(use_description.gb_idx.values))]\n",
    "bass_embeddings2 = model.encode(use_coding.coding_description.values, batch_size=32, show_progress_bar=True)"
   ]
  },
  {
   "cell_type": "code",
   "execution_count": 23,
   "metadata": {
    "ExecuteTime": {
     "end_time": "2025-03-24T16:52:08.989338Z",
     "start_time": "2025-03-24T16:52:06.940949Z"
    }
   },
   "outputs": [],
   "source": [
    "ga_coding = get_all_matches(ukb_info[~ukb_info.ga_idx.isin(ga_match_ids)].set_index('ga_idx').Trait, \n",
    "                          use_coding.set_index('gb_idx').coding_description, \n",
    "                          ga_embeddings, bass_embeddings2, th=0.7)"
   ]
  },
  {
   "cell_type": "code",
   "execution_count": 24,
   "metadata": {
    "ExecuteTime": {
     "end_time": "2025-03-24T16:52:08.994240Z",
     "start_time": "2025-03-24T16:52:08.990340Z"
    }
   },
   "outputs": [],
   "source": [
    "ga_all = pd.concat([ga_desc, ga_coding])\n",
    "ga_all.columns = ['ga_idx', 'Trait', 'gb_idx', 'description', 'Cosine']\n",
    "ga_all = ga_all[ga_all.Cosine>0.8]"
   ]
  },
  {
   "cell_type": "code",
   "execution_count": 25,
   "metadata": {
    "ExecuteTime": {
     "end_time": "2025-03-24T16:52:09.038618Z",
     "start_time": "2025-03-24T16:52:08.995104Z"
    }
   },
   "outputs": [],
   "source": [
    "phe_combined = phe_match.loc[:, ('ga_idx', 'Trait', 'gb_idx', 'description')]\n",
    "phe_combined['Cosine'] = 1.0"
   ]
  },
  {
   "cell_type": "code",
   "execution_count": 33,
   "metadata": {
    "ExecuteTime": {
     "end_time": "2025-03-24T16:52:31.665553Z",
     "start_time": "2025-03-24T16:52:31.663055Z"
    }
   },
   "outputs": [],
   "source": [
    "all_matches = pd.concat([ga_all, phe_combined])\n"
   ]
  },
  {
   "cell_type": "code",
   "execution_count": 34,
   "metadata": {
    "ExecuteTime": {
     "end_time": "2025-03-24T16:52:32.190442Z",
     "start_time": "2025-03-24T16:52:32.183586Z"
    }
   },
   "outputs": [
    {
     "data": {
      "text/plain": [
       "(103, 32)"
      ]
     },
     "execution_count": 34,
     "metadata": {},
     "output_type": "execute_result"
    }
   ],
   "source": [
    "ukb_info_out = ukb_info[ukb_info.ga_idx.isin(all_matches.ga_idx.values)]\n",
    "ukb_info_out = ukb_info_out.assign(Population= ukb_info_out.Population.map({'UKB1 (EUR)':'UKB1', 'UKB2 (EUR)':'UK2', \n",
    "                                                             'UKB2 (EUR meta)':'UKB2meta', 'UKB1 (EUR meta)':'UKB1meta'}))\n",
    "ukb_info_out['StudyC'] = 'GA_idx'+ukb_info_out.ga_idx.astype(str) +'_'+ ukb_info_out.Population + '_' + ukb_info_out.PMID.astype(str)\n",
    "ukb_info_out.drop_duplicates(subset=['PMID', 'Trait', 'Population']).shape"
   ]
  },
  {
   "cell_type": "code",
   "execution_count": 35,
   "metadata": {
    "ExecuteTime": {
     "end_time": "2025-03-24T16:52:32.892294Z",
     "start_time": "2025-03-24T16:52:32.887903Z"
    }
   },
   "outputs": [
    {
     "data": {
      "text/plain": [
       "(162, 21)"
      ]
     },
     "execution_count": 35,
     "metadata": {},
     "output_type": "execute_result"
    }
   ],
   "source": [
    "phenos_out = phenos[phenos.gb_idx.isin(all_matches.gb_idx.values)]\n",
    "phenos_out = phenos_out.assign(StudyR = 'GB_UKB_idx' + phenos_out.gb_idx.astype(str) + '_phe' + phenos_out.phenocode.astype(str))\n",
    "phenos_out.shape"
   ]
  },
  {
   "cell_type": "code",
   "execution_count": 36,
   "metadata": {
    "ExecuteTime": {
     "end_time": "2025-03-24T16:52:34.365248Z",
     "start_time": "2025-03-24T16:52:34.359785Z"
    }
   },
   "outputs": [],
   "source": [
    "all_matches = all_matches.merge(phenos_out.loc[:, ('gb_idx', 'StudyR', 'N')], on='gb_idx').merge(ukb_info_out.loc[:, ('ga_idx', 'StudyC', 'N')], on='ga_idx', suffixes=['_C', '_R'])"
   ]
  },
  {
   "cell_type": "code",
   "execution_count": 30,
   "metadata": {
    "ExecuteTime": {
     "end_time": "2025-03-24T16:52:09.122452Z",
     "start_time": "2025-03-24T16:52:09.105149Z"
    }
   },
   "outputs": [],
   "source": [
    "#all_matches = pd.read_csv('/cellar/users/snwright/Data/RareCommon/inputs/UKB/trait_matches_genebass_atlas_Mar21.txt', sep='\\t')"
   ]
  },
  {
   "cell_type": "code",
   "execution_count": 37,
   "metadata": {
    "ExecuteTime": {
     "end_time": "2025-03-24T16:52:37.980831Z",
     "start_time": "2025-03-24T16:52:37.975562Z"
    }
   },
   "outputs": [],
   "source": [
    "all_matches_filtered = all_matches.sort_values(by=['Cosine', 'N_C'], ascending=False).drop_duplicates(subset='ga_idx')\n",
    "all_matches_filtered = all_matches_filtered.sort_values(by=['Cosine', 'N_R'], ascending=False).drop_duplicates(subset='gb_idx')\n",
    "all_matches_filtered\n",
    "final_count = len(all_matches_filtered)"
   ]
  },
  {
   "cell_type": "code",
   "execution_count": 45,
   "metadata": {
    "ExecuteTime": {
     "end_time": "2025-03-24T16:53:50.323283Z",
     "start_time": "2025-03-24T16:53:50.319010Z"
    }
   },
   "outputs": [
    {
     "data": {
      "text/plain": [
       "'/cellar/users/snwright/Data/RareCommon/GWASAtlas'"
      ]
     },
     "execution_count": 45,
     "metadata": {},
     "output_type": "execute_result"
    }
   ],
   "source": [
    "datadir"
   ]
  },
  {
   "cell_type": "code",
   "execution_count": 46,
   "metadata": {
    "ExecuteTime": {
     "end_time": "2025-03-24T16:54:45.201459Z",
     "start_time": "2025-03-24T16:54:44.870776Z"
    }
   },
   "outputs": [],
   "source": [
    "all_matches_filtered.to_csv('/cellar/users/snwright/Data/RareCommon/inputs/UKB/GB_GA_input_stats.tsv', sep='\\t', index=False)"
   ]
  },
  {
   "cell_type": "code",
   "execution_count": 44,
   "metadata": {
    "ExecuteTime": {
     "end_time": "2025-03-24T16:53:14.473491Z",
     "start_time": "2025-03-24T16:53:14.470839Z"
    }
   },
   "outputs": [
    {
     "data": {
      "text/plain": [
       "1372"
      ]
     },
     "execution_count": 44,
     "metadata": {},
     "output_type": "execute_result"
    }
   ],
   "source": [
    "cv_start = 437\n",
    "rv_start = 1372\n"
   ]
  },
  {
   "cell_type": "markdown",
   "metadata": {},
   "source": [
    "## Figures"
   ]
  },
  {
   "cell_type": "code",
   "execution_count": 125,
   "metadata": {
    "ExecuteTime": {
     "end_time": "2025-03-24T20:08:59.050884Z",
     "start_time": "2025-03-24T20:08:58.930268Z"
    }
   },
   "outputs": [
    {
     "data": {
      "image/png": "[encoded data removed]",
      "text/plain": [
       "<Figure size 300x200 with 1 Axes>"
      ]
     },
     "metadata": {},
     "output_type": "display_data"
    }
   ],
   "source": [
    "plt.rcParams.update({'font.size': 8})\n",
    "_ = plt.figure(figsize=(3,2))\n",
    "v = venn2(subsets=(cv_start-final_count,rv_start - final_count, final_count), set_labels=('GWAS Atlas', 'Genebass'))\n",
    "v.get_patch_by_id('10').set_color('#6ec1e0')\n",
    "v.get_patch_by_id('01').set_color('#5fad56')\n",
    "v.get_patch_by_id('11').set_color('#00606f')\n",
    "for patch in ['01', '10', '11']:\n",
    "    v.get_patch_by_id(patch).set_alpha(1)\n",
    "    v.get_patch_by_id(patch).set_ec('black')\n",
    "    v.get_patch_by_id(patch).set_lw(0.3)\n",
    "plt.savefig(os.path.join(figdir, 'trait_overlap_ukb_venn2.svg'), dpi=400, bbox_inches='tight')"
   ]
  },
  {
   "cell_type": "code",
   "execution_count": null,
   "metadata": {
    "ExecuteTime": {
     "end_time": "2025-03-21T21:10:02.070109Z",
     "start_time": "2025-03-21T21:10:02.067545Z"
    }
   },
   "outputs": [],
   "source": []
  },
  {
   "cell_type": "code",
   "execution_count": 39,
   "metadata": {
    "ExecuteTime": {
     "end_time": "2025-03-24T16:52:41.684313Z",
     "start_time": "2025-03-24T16:52:41.625648Z"
    }
   },
   "outputs": [
    {
     "data": {
      "image/png": "[encoded data removed]",
      "text/plain": [
       "<Figure size 200x100 with 1 Axes>"
      ]
     },
     "metadata": {},
     "output_type": "display_data"
    }
   ],
   "source": [
    "plt.rcParams.update({'font.size': 8})\n",
    "_ = plt.figure(figsize=(2,1))\n",
    "v = venn2(subsets=(cv_start-final_count,rv_start - final_count, final_count), set_labels=('GWAS Atlas', 'Genebass'))\n",
    "v.get_patch_by_id('01').set_color('mediumseagreen')\n",
    "v.get_patch_by_id('10').set_color('dodgerblue')\n",
    "v.get_patch_by_id('11').set_color('purple')\n",
    "plt.savefig(os.path.join(figdir, 'trait_overlap_ukb_venn2.svg'), dpi=400, bbox_inches='tight')"
   ]
  },
  {
   "cell_type": "code",
   "execution_count": 40,
   "metadata": {
    "ExecuteTime": {
     "end_time": "2025-03-24T16:52:43.810180Z",
     "start_time": "2025-03-24T16:52:43.806815Z"
    }
   },
   "outputs": [
    {
     "data": {
      "text/plain": [
       "array(['Psychiatric', 'Metabolic', 'Skeletal', 'Cardiovascular',\n",
       "       'Mortality', 'Activities', 'Environment', 'Respiratory',\n",
       "       'Endocrine', 'Neoplasms', 'Body Structures', 'Reproduction',\n",
       "       'Cognitive', 'Connective Tissue', 'Gastrointestinal',\n",
       "       'Neurological'], dtype=object)"
      ]
     },
     "execution_count": 40,
     "metadata": {},
     "output_type": "execute_result"
    }
   ],
   "source": [
    "ukb_info_out.Domain.unique()\n"
   ]
  },
  {
   "cell_type": "code",
   "execution_count": 127,
   "metadata": {
    "ExecuteTime": {
     "end_time": "2025-03-24T20:13:27.062174Z",
     "start_time": "2025-03-24T20:13:26.828602Z"
    }
   },
   "outputs": [
    {
     "data": {
      "image/png": "[encoded data removed]",
      "text/plain": [
       "<Figure size 150x200 with 1 Axes>"
      ]
     },
     "metadata": {},
     "output_type": "display_data"
    }
   ],
   "source": [
    "ukb_info_out = ukb_info_out[ukb_info_out.ga_idx.isin(all_matches_filtered.ga_idx.values)]\n",
    "domains = ukb_info_out[ukb_info_out.trait_type=='Q'].Domain.value_counts().reset_index()\n",
    "domains_plot = domains[domains['count']>=2]\n",
    "other=domains[~domains.Domain.isin(domains_plot.Domain.values)]['count'].sum()\n",
    "domain_dict =domains_plot.set_index('Domain')['count'].to_dict()\n",
    "domain_dict['Other'] = other\n",
    "\n",
    "domains = ukb_info_out[ukb_info_out.trait_type=='CC'].Domain.value_counts().reset_index()\n",
    "domains_plot2 = domains[domains.Domain.isin(domains_plot.Domain.values)]\n",
    "other2=domains[~domains.Domain.isin(domains_plot2.Domain.values)]['count'].sum()\n",
    "domain_dict2 =domains_plot2.set_index('Domain')['count'].to_dict()\n",
    "domain_dict2['Other'] = other2\n",
    "\n",
    "_ = plt.figure(figsize=(1.5, 2))\n",
    "pd.DataFrame({'Continuous': domain_dict, 'Categorical': domain_dict2}).iloc[::-1].plot(kind='barh', stacked=True, ax=plt.gca(),\n",
    "                                                                              edgecolor='black', linewidth=0.3, width=0.8,\n",
    "                                                                              color=[ '#509AA6', '#00606f',])\n",
    "plt.xticks([0, 10, 20, 30])\n",
    "plt.savefig(os.path.join(figdir, 'UKB_input_trait_types.svg'), bbox_inches='tight')"
   ]
  },
  {
   "cell_type": "code",
   "execution_count": 124,
   "metadata": {
    "ExecuteTime": {
     "end_time": "2025-03-24T20:08:52.468167Z",
     "start_time": "2025-03-24T20:08:52.220363Z"
    }
   },
   "outputs": [
    {
     "data": {
      "image/png": "[encoded data removed]",
      "text/plain": [
       "<Figure size 200x100 with 1 Axes>"
      ]
     },
     "metadata": {},
     "output_type": "display_data"
    }
   ],
   "source": [
    "ukb_info_out = ukb_info_out[ukb_info_out.ga_idx.isin(all_matches_filtered.ga_idx.values)]\n",
    "domains = ukb_info_out[ukb_info_out.trait_type=='Q'].Domain.value_counts().reset_index()\n",
    "domains_plot = domains[domains['count']>=2]\n",
    "other=domains[~domains.Domain.isin(domains_plot.Domain.values)]['count'].sum()\n",
    "domain_dict =domains_plot.set_index('Domain')['count'].to_dict()\n",
    "domain_dict['Other'] = other\n",
    "\n",
    "domains = ukb_info_out[ukb_info_out.trait_type=='CC'].Domain.value_counts().reset_index()\n",
    "domains_plot2 = domains[domains.Domain.isin(domains_plot.Domain.values)]\n",
    "other2=domains[~domains.Domain.isin(domains_plot2.Domain.values)]['count'].sum()\n",
    "domain_dict2 =domains_plot2.set_index('Domain')['count'].to_dict()\n",
    "domain_dict2['Other'] = other2\n",
    "\n",
    "_ = plt.figure(figsize=(2, 1))\n",
    "pd.DataFrame({'Continuous': domain_dict, 'Categorical': domain_dict2}).plot(kind='bar', stacked=True, ax=plt.gca(),\n",
    "                                                                              edgecolor='black', linewidth=0.3, width=0.8,\n",
    "                                                                              color=[ '#509AA6', '#00606f',])\n",
    "plt.yticks([0, 10, 20, 30])\n",
    "plt.gca().tick_params(axis='x', rotation=90)\n",
    "plt.savefig(os.path.join(figdir, 'UKB_input_trait_types_vertical.svg'), bbox_inches='tight')"
   ]
  },
  {
   "cell_type": "code",
   "execution_count": 126,
   "metadata": {
    "ExecuteTime": {
     "end_time": "2025-03-24T20:09:04.646441Z",
     "start_time": "2025-03-24T20:09:04.465849Z"
    }
   },
   "outputs": [
    {
     "data": {
      "image/png": "[encoded data removed]",
      "text/plain": [
       "<Figure size 150x200 with 2 Axes>"
      ]
     },
     "metadata": {},
     "output_type": "display_data"
    }
   ],
   "source": [
    "_, [ax1, ax2] = plt.subplots(nrows=1, ncols=2, figsize=(1.5, 2), sharey=True, gridspec_kw={'wspace':0})\n",
    "bins=[x*25000 for x in range(0,  20)]\n",
    "sns.histplot(y= all_matches_filtered.N_R, bins=bins, kde=False, element='step', ax=ax2, color='#5fad56', alpha=1, edgecolor='black')\n",
    "sns.histplot(y= all_matches_filtered.N_C, bins=bins, kde=False, element='step', ax=ax1,color='#6ec1e0' , alpha=1, edgecolor='black')\n",
    "ax1.invert_xaxis()\n",
    "ax1.set_xlim(52, 0)\n",
    "ax2.set_xlim(0, 52)\n",
    "ax1.set_ylim(0, 500000)\n",
    "_ = ax1.set_yticks([x*100000 for x in range(6)], labels=[0, '100k', '200k', '300k', '400k', '500k'])\n",
    "ax1.set_ylabel('Study Population')\n",
    "ax1.set_xticks([50, 25, 0])\n",
    "ax2.set_xticks([0, 25, 50])\n",
    "ax1.set_xlabel('Common')\n",
    "ax2.set_xlabel('Rare')\n",
    "ax2.tick_params(axis='y', size=0)\n",
    "plt.savefig(os.path.join(figdir, 'population_size_histograms_ukb.svg'), bbox_inches='tight')"
   ]
  },
  {
   "cell_type": "code",
   "execution_count": 130,
   "metadata": {
    "ExecuteTime": {
     "end_time": "2025-03-24T20:29:07.039284Z",
     "start_time": "2025-03-24T20:29:07.000460Z"
    }
   },
   "outputs": [],
   "source": [
    "all_matches_filtered.to_csv('/cellar/users/snwright/Data/RareCommon/inputs/UKB/filtered_matched_traits.tsv', sep='\\t')"
   ]
  }
 ],
 "metadata": {
  "kernelspec": {
   "display_name": "Python (CARVA)",
   "language": "python",
   "name": "carva"
  },
  "language_info": {
   "codemirror_mode": {
    "name": "ipython",
    "version": 3
   },
   "file_extension": ".py",
   "mimetype": "text/x-python",
   "name": "python",
   "nbconvert_exporter": "python",
   "pygments_lexer": "ipython3",
   "version": "3.10.0"
  },
  "toc": {
   "base_numbering": 1,
   "nav_menu": {},
   "number_sections": true,
   "sideBar": true,
   "skip_h1_title": false,
   "title_cell": "Table of Contents",
   "title_sidebar": "Contents",
   "toc_cell": false,
   "toc_position": {
    "height": "calc(100% - 180px)",
    "left": "10px",
    "top": "150px",
    "width": "341.447px"
   },
   "toc_section_display": true,
   "toc_window_display": true
  },
  "varInspector": {
   "cols": {
    "lenName": 16,
    "lenType": 16,
    "lenVar": 40
   },
   "kernels_config": {
    "python": {
     "delete_cmd_postfix": "",
     "delete_cmd_prefix": "del ",
     "library": "var_list.py",
     "varRefreshCmd": "print(var_dic_list())"
    },
    "r": {
     "delete_cmd_postfix": ") ",
     "delete_cmd_prefix": "rm(",
     "library": "var_list.r",
     "varRefreshCmd": "cat(var_dic_list()) "
    }
   },
   "types_to_exclude": [
    "module",
    "function",
    "builtin_function_or_method",
    "instance",
    "_Feature"
   ],
   "window_display": false
  }
 },
 "nbformat": 4,
 "nbformat_minor": 2
}
