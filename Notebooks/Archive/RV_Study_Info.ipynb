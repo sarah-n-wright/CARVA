{
 "cells": [
  {
   "cell_type": "code",
   "execution_count": 5,
   "metadata": {
    "ExecuteTime": {
     "end_time": "2025-03-24T17:47:50.666395Z",
     "start_time": "2025-03-24T17:47:50.664487Z"
    }
   },
   "outputs": [],
   "source": [
    "import pandas as pd\n",
    "import os\n",
    "\n",
    "\n",
    "datadir='/cellar/users/snwright/Data/RareCommon'"
   ]
  },
  {
   "cell_type": "code",
   "execution_count": 114,
   "metadata": {
    "ExecuteTime": {
     "end_time": "2025-03-24T18:31:13.354522Z",
     "start_time": "2025-03-24T18:31:13.342713Z"
    }
   },
   "outputs": [],
   "source": [
    "rv_study_info = pd.read_csv(os.path.join(datadir, 'RAVAR', 'RVStudyInfo_manual_long.tsv'), sep='\\t')\n",
    "rv_study_info['rv_idx'] = [i for i in range(len(rv_study_info))]"
   ]
  },
  {
   "cell_type": "code",
   "execution_count": 115,
   "metadata": {
    "ExecuteTime": {
     "end_time": "2025-03-24T18:31:15.293372Z",
     "start_time": "2025-03-24T18:31:15.272140Z"
    }
   },
   "outputs": [],
   "source": [
    "rv_study_info['N'] = rv_study_info.apply(lambda x: x['N-Actual'] if x['N-Actual'] > 0 else x.N , axis=1)"
   ]
  },
  {
   "cell_type": "code",
   "execution_count": 116,
   "metadata": {
    "ExecuteTime": {
     "end_time": "2025-03-24T18:31:16.173784Z",
     "start_time": "2025-03-24T18:31:16.152769Z"
    }
   },
   "outputs": [],
   "source": [
    "rv_study_info['Classification'] = rv_study_info.apply(lambda x: x['Classification.1'] if isinstance(x['Classification.1'], str) else x['Classification'] , axis=1)"
   ]
  },
  {
   "cell_type": "code",
   "execution_count": 117,
   "metadata": {
    "ExecuteTime": {
     "end_time": "2025-03-24T18:31:16.602959Z",
     "start_time": "2025-03-24T18:31:16.599467Z"
    }
   },
   "outputs": [],
   "source": [
    "rv_study_info = rv_study_info.drop(columns=['N-Actual', 'Classification.1', 'Unnamed: 11'])"
   ]
  },
  {
   "cell_type": "code",
   "execution_count": 118,
   "metadata": {
    "ExecuteTime": {
     "end_time": "2025-03-24T18:31:18.344786Z",
     "start_time": "2025-03-24T18:31:18.287727Z"
    }
   },
   "outputs": [],
   "source": [
    "## Study specific\n",
    "add_886 = pd.read_csv(os.path.join(datadir, 'RAVAR', '34662886_samples_clean.txt'), sep='\\t')\n",
    "add_796 = pd.read_csv(os.path.join(datadir, 'RAVAR', '36809768_samples.csv'))\n",
    "add_343b = pd.read_csv(os.path.join(datadir, 'RAVAR', '34375979_union_binary.txt'), sep='\\t')\n",
    "add_343q = pd.read_csv(os.path.join(datadir, 'RAVAR', '34375979_union_quant.txt'), sep='\\t')"
   ]
  },
  {
   "cell_type": "markdown",
   "metadata": {},
   "source": [
    "## 343"
   ]
  },
  {
   "cell_type": "code",
   "execution_count": 119,
   "metadata": {
    "ExecuteTime": {
     "end_time": "2025-03-24T18:31:21.129818Z",
     "start_time": "2025-03-24T18:31:21.120395Z"
    }
   },
   "outputs": [],
   "source": [
    "add_343b['trait'] = add_343b.Phenotype.apply(lambda x: x.split(' ', 1)[-1].lower())\n",
    "add_343q['trait'] = add_343q.Phenotype.apply(lambda x: x.replace(' measurement', '').lower())"
   ]
  },
  {
   "cell_type": "code",
   "execution_count": 120,
   "metadata": {
    "ExecuteTime": {
     "end_time": "2025-03-24T18:31:21.579565Z",
     "start_time": "2025-03-24T18:31:21.575720Z"
    }
   },
   "outputs": [
    {
     "name": "stderr",
     "output_type": "stream",
     "text": [
      "/tmp/ipykernel_2298860/2512684926.py:2: SettingWithCopyWarning: \n",
      "A value is trying to be set on a copy of a slice from a DataFrame.\n",
      "Try using .loc[row_indexer,col_indexer] = value instead\n",
      "\n",
      "See the caveats in the documentation: https://pandas.pydata.org/pandas-docs/stable/user_guide/indexing.html#returning-a-view-versus-a-copy\n",
      "  rv_343['trait'] = rv_343['Reported Trait'].apply(lambda x: x.replace(' measurement', '').lower())\n"
     ]
    }
   ],
   "source": [
    "rv_343 = rv_study_info.loc[rv_study_info.PMID==34375979]\n",
    "rv_343['trait'] = rv_343['Reported Trait'].apply(lambda x: x.replace(' measurement', '').lower())"
   ]
  },
  {
   "cell_type": "code",
   "execution_count": 121,
   "metadata": {
    "ExecuteTime": {
     "end_time": "2025-03-24T18:31:22.432990Z",
     "start_time": "2025-03-24T18:31:22.431023Z"
    }
   },
   "outputs": [],
   "source": [
    "rv_343_traits = rv_343['Reported Trait'].unique()"
   ]
  },
  {
   "cell_type": "code",
   "execution_count": 122,
   "metadata": {
    "ExecuteTime": {
     "end_time": "2025-03-24T18:31:22.881433Z",
     "start_time": "2025-03-24T18:31:22.871479Z"
    }
   },
   "outputs": [
    {
     "data": {
      "text/html": [
       "<div>\n",
       "<style scoped>\n",
       "    .dataframe tbody tr th:only-of-type {\n",
       "        vertical-align: middle;\n",
       "    }\n",
       "\n",
       "    .dataframe tbody tr th {\n",
       "        vertical-align: top;\n",
       "    }\n",
       "\n",
       "    .dataframe thead th {\n",
       "        text-align: right;\n",
       "    }\n",
       "</style>\n",
       "<table border=\"1\" class=\"dataframe\">\n",
       "  <thead>\n",
       "    <tr style=\"text-align: right;\">\n",
       "      <th></th>\n",
       "      <th>Phenotype</th>\n",
       "      <th>Path</th>\n",
       "      <th>Root</th>\n",
       "      <th>Field</th>\n",
       "      <th>N Cases_300Kv2</th>\n",
       "      <th>N Controls_300Kv2</th>\n",
       "      <th>Smart Controls</th>\n",
       "      <th>Sex Matching</th>\n",
       "      <th>Unique to Release 300Kv2</th>\n",
       "      <th>trait</th>\n",
       "    </tr>\n",
       "  </thead>\n",
       "  <tbody>\n",
       "    <tr>\n",
       "      <th>1292</th>\n",
       "      <td>Union#BlockC50-C50#C50-C50 Malignant neoplasm ...</td>\n",
       "      <td>Union</td>\n",
       "      <td>Chapter II Neoplasms</td>\n",
       "      <td>Union</td>\n",
       "      <td>11091</td>\n",
       "      <td>136034</td>\n",
       "      <td>NO</td>\n",
       "      <td>YES</td>\n",
       "      <td>NO</td>\n",
       "      <td>malignant neoplasm of breast</td>\n",
       "    </tr>\n",
       "    <tr>\n",
       "      <th>1422</th>\n",
       "      <td>Union#C50#C50 Malignant neoplasm of breast</td>\n",
       "      <td>Union</td>\n",
       "      <td>Chapter II Neoplasms</td>\n",
       "      <td>Union</td>\n",
       "      <td>10031</td>\n",
       "      <td>137079</td>\n",
       "      <td>NO</td>\n",
       "      <td>YES</td>\n",
       "      <td>NO</td>\n",
       "      <td>malignant neoplasm of breast</td>\n",
       "    </tr>\n",
       "  </tbody>\n",
       "</table>\n",
       "</div>"
      ],
      "text/plain": [
       "                                              Phenotype   Path  \\\n",
       "1292  Union#BlockC50-C50#C50-C50 Malignant neoplasm ...  Union   \n",
       "1422         Union#C50#C50 Malignant neoplasm of breast  Union   \n",
       "\n",
       "                      Root  Field  N Cases_300Kv2  N Controls_300Kv2  \\\n",
       "1292  Chapter II Neoplasms  Union           11091             136034   \n",
       "1422  Chapter II Neoplasms  Union           10031             137079   \n",
       "\n",
       "     Smart Controls Sex Matching Unique to Release 300Kv2  \\\n",
       "1292             NO          YES                       NO   \n",
       "1422             NO          YES                       NO   \n",
       "\n",
       "                             trait  \n",
       "1292  malignant neoplasm of breast  \n",
       "1422  malignant neoplasm of breast  "
      ]
     },
     "execution_count": 122,
     "metadata": {},
     "output_type": "execute_result"
    }
   ],
   "source": [
    "add_343b[(add_343b.Path=='Union') & (add_343b.trait=='malignant neoplasm of breast')]"
   ]
  },
  {
   "cell_type": "code",
   "execution_count": 123,
   "metadata": {
    "ExecuteTime": {
     "end_time": "2025-03-24T18:31:23.977189Z",
     "start_time": "2025-03-24T18:31:23.967196Z"
    }
   },
   "outputs": [],
   "source": [
    "binary = rv_343.merge(add_343b[add_343b.Path=='Union'], on='trait', how='inner').sort_values('N Cases_300Kv2', ascending=False).drop_duplicates(subset='trait')\n",
    "binary['N'] = binary['N Cases_300Kv2'] + binary['N Controls_300Kv2']\n",
    "binary['Classification'] = 'Population CC'"
   ]
  },
  {
   "cell_type": "code",
   "execution_count": 124,
   "metadata": {
    "ExecuteTime": {
     "end_time": "2025-03-24T18:31:24.457265Z",
     "start_time": "2025-03-24T18:31:24.455060Z"
    }
   },
   "outputs": [],
   "source": [
    "remaining = set(rv_343_traits) - set(binary['Reported Trait'].values)"
   ]
  },
  {
   "cell_type": "code",
   "execution_count": 125,
   "metadata": {
    "ExecuteTime": {
     "end_time": "2025-03-24T18:31:24.965879Z",
     "start_time": "2025-03-24T18:31:24.960353Z"
    }
   },
   "outputs": [],
   "source": [
    "quant = rv_343.merge(add_343q, on='trait', how='inner').sort_values('N Tested', ascending=False).drop_duplicates(subset='trait')\n",
    "quant['N'] = quant['N Tested']\n",
    "quant['Classification'] = 'Population Q'"
   ]
  },
  {
   "cell_type": "code",
   "execution_count": 126,
   "metadata": {
    "ExecuteTime": {
     "end_time": "2025-03-24T18:31:31.668757Z",
     "start_time": "2025-03-24T18:31:31.664232Z"
    }
   },
   "outputs": [],
   "source": [
    "all_add_343 = pd.concat([binary, quant]).loc[:, rv_study_info.columns]"
   ]
  },
  {
   "cell_type": "code",
   "execution_count": 130,
   "metadata": {
    "ExecuteTime": {
     "end_time": "2025-03-24T18:32:28.739956Z",
     "start_time": "2025-03-24T18:32:28.735466Z"
    }
   },
   "outputs": [],
   "source": [
    "rv_study1 = pd.concat([rv_study_info[~rv_study_info.rv_idx.isin(all_add_343.rv_idx.values)], all_add_343])"
   ]
  },
  {
   "cell_type": "markdown",
   "metadata": {},
   "source": [
    "## 886"
   ]
  },
  {
   "cell_type": "code",
   "execution_count": 201,
   "metadata": {
    "ExecuteTime": {
     "end_time": "2025-03-24T18:52:55.882451Z",
     "start_time": "2025-03-24T18:52:55.877135Z"
    }
   },
   "outputs": [
    {
     "name": "stderr",
     "output_type": "stream",
     "text": [
      "/tmp/ipykernel_2298860/3536213656.py:2: SettingWithCopyWarning: \n",
      "A value is trying to be set on a copy of a slice from a DataFrame.\n",
      "Try using .loc[row_indexer,col_indexer] = value instead\n",
      "\n",
      "See the caveats in the documentation: https://pandas.pydata.org/pandas-docs/stable/user_guide/indexing.html#returning-a-view-versus-a-copy\n",
      "  rv_886['trait'] = rv_886['Reported Trait'].apply(lambda x: x.replace(' measurement', '').replace('_inst_mean__rint', '').replace('__bin', '').replace('Rgc_', '').split('_', 1)[-1].replace('_', ' ').split(' (')[0].lower())\n"
     ]
    }
   ],
   "source": [
    "rv_886 = rv_study1[rv_study1.PMID==34662886]\n",
    "rv_886['trait'] = rv_886['Reported Trait'].apply(lambda x: x.replace(' measurement', '').replace('_inst_mean__rint', '').replace('__bin', '').replace('Rgc_', '').split('_', 1)[-1].replace('_', ' ').split(' (')[0].lower())"
   ]
  },
  {
   "cell_type": "code",
   "execution_count": 219,
   "metadata": {
    "ExecuteTime": {
     "end_time": "2025-03-24T18:55:28.208908Z",
     "start_time": "2025-03-24T18:55:28.062010Z"
    }
   },
   "outputs": [],
   "source": [
    "add_886 = pd.read_csv(os.path.join(datadir, 'RAVAR', '34662886_samples_clean.txt'), sep='\\t')\n",
    "add_886['Ncase'] = add_886['N cases with 0|1|2 copies of effect allele'].apply(lambda x: sum([int(n) for n in x.split('|') if n != np.nan]))\n",
    "add_886['Ncontrol'] = add_886['N controls with 0|1|2 copies of effect allele'].apply(lambda x: sum([int(n) for n in x.split('|') if n != 'NA']))"
   ]
  },
  {
   "cell_type": "code",
   "execution_count": 220,
   "metadata": {
    "ExecuteTime": {
     "end_time": "2025-03-24T18:55:28.625877Z",
     "start_time": "2025-03-24T18:55:28.620626Z"
    }
   },
   "outputs": [],
   "source": [
    "add_886['N'] = add_886['Ncase'] + add_886['Ncontrol']\n",
    "add_886 = add_886.loc[:, ('Trait', 'Ncase', 'Ncontrol', 'N')].groupby('Trait').mean().reset_index()"
   ]
  },
  {
   "cell_type": "code",
   "execution_count": 221,
   "metadata": {
    "ExecuteTime": {
     "end_time": "2025-03-24T18:55:29.151825Z",
     "start_time": "2025-03-24T18:55:29.148765Z"
    }
   },
   "outputs": [],
   "source": [
    "add_886['Classification'] = add_886.Ncontrol.apply(lambda x: 'Population Q' if x==0 else 'Population CC')\n",
    "add_886['trait'] = add_886.Trait.apply(lambda x: x.split(' (')[0].lower())"
   ]
  },
  {
   "cell_type": "code",
   "execution_count": 222,
   "metadata": {
    "ExecuteTime": {
     "end_time": "2025-03-24T18:55:30.146187Z",
     "start_time": "2025-03-24T18:55:30.142045Z"
    }
   },
   "outputs": [],
   "source": [
    "z = rv_886.drop(columns=['N', 'Classification']).merge(add_886, on='trait', how='inner')"
   ]
  },
  {
   "cell_type": "code",
   "execution_count": 223,
   "metadata": {
    "ExecuteTime": {
     "end_time": "2025-03-24T18:55:31.407573Z",
     "start_time": "2025-03-24T18:55:31.398671Z"
    }
   },
   "outputs": [
    {
     "data": {
      "text/html": [
       "<div>\n",
       "<style scoped>\n",
       "    .dataframe tbody tr th:only-of-type {\n",
       "        vertical-align: middle;\n",
       "    }\n",
       "\n",
       "    .dataframe tbody tr th {\n",
       "        vertical-align: top;\n",
       "    }\n",
       "\n",
       "    .dataframe thead th {\n",
       "        text-align: right;\n",
       "    }\n",
       "</style>\n",
       "<table border=\"1\" class=\"dataframe\">\n",
       "  <thead>\n",
       "    <tr style=\"text-align: right;\">\n",
       "      <th></th>\n",
       "      <th>Reported Trait</th>\n",
       "      <th>Trait Label</th>\n",
       "      <th>Trait Ontology id</th>\n",
       "      <th>PMID</th>\n",
       "      <th>COHORT</th>\n",
       "      <th>Ancestry</th>\n",
       "      <th>Notes</th>\n",
       "      <th>rv_idx</th>\n",
       "      <th>trait</th>\n",
       "      <th>Trait</th>\n",
       "      <th>Ncase</th>\n",
       "      <th>Ncontrol</th>\n",
       "      <th>N</th>\n",
       "      <th>Classification</th>\n",
       "    </tr>\n",
       "  </thead>\n",
       "  <tbody>\n",
       "    <tr>\n",
       "      <th>0</th>\n",
       "      <td>Gamma glutamyltransferase (30730) measurement</td>\n",
       "      <td>protein-glutamine gamma-glutamyltransferase e ...</td>\n",
       "      <td>EFO:0020690</td>\n",
       "      <td>34662886</td>\n",
       "      <td>UKB</td>\n",
       "      <td>EUR</td>\n",
       "      <td>Separate File</td>\n",
       "      <td>10</td>\n",
       "      <td>gamma glutamyltransferase</td>\n",
       "      <td>Gamma glutamyltransferase (30730)</td>\n",
       "      <td>411824.383333</td>\n",
       "      <td>0.0</td>\n",
       "      <td>411824.383333</td>\n",
       "      <td>Population Q</td>\n",
       "    </tr>\n",
       "    <tr>\n",
       "      <th>1</th>\n",
       "      <td>Apolipoprotein b (30640) measurement</td>\n",
       "      <td>apolipoprotein B change measurement</td>\n",
       "      <td>EFO:0020874</td>\n",
       "      <td>34662886</td>\n",
       "      <td>UKB</td>\n",
       "      <td>EUR</td>\n",
       "      <td>Separate File</td>\n",
       "      <td>11</td>\n",
       "      <td>apolipoprotein b</td>\n",
       "      <td>Apolipoprotein B (30640)</td>\n",
       "      <td>410088.384615</td>\n",
       "      <td>0.0</td>\n",
       "      <td>410088.384615</td>\n",
       "      <td>Population Q</td>\n",
       "    </tr>\n",
       "    <tr>\n",
       "      <th>2</th>\n",
       "      <td>Triglycerides (30870)</td>\n",
       "      <td>triglyceride</td>\n",
       "      <td>CHEBI:17855</td>\n",
       "      <td>34662886</td>\n",
       "      <td>UKB</td>\n",
       "      <td>EUR</td>\n",
       "      <td>Separate File</td>\n",
       "      <td>12</td>\n",
       "      <td>triglycerides</td>\n",
       "      <td>Triglycerides (30870)</td>\n",
       "      <td>411723.153846</td>\n",
       "      <td>0.0</td>\n",
       "      <td>411723.153846</td>\n",
       "      <td>Population Q</td>\n",
       "    </tr>\n",
       "    <tr>\n",
       "      <th>3</th>\n",
       "      <td>30730_gamma_glutamyltransferase_inst_mean__rin...</td>\n",
       "      <td>protein-glutamine gamma-glutamyltransferase e ...</td>\n",
       "      <td>EFO:0020690</td>\n",
       "      <td>34662886</td>\n",
       "      <td>UKB</td>\n",
       "      <td>EUR</td>\n",
       "      <td>Separate File</td>\n",
       "      <td>17</td>\n",
       "      <td>gamma glutamyltransferase</td>\n",
       "      <td>Gamma glutamyltransferase (30730)</td>\n",
       "      <td>411824.383333</td>\n",
       "      <td>0.0</td>\n",
       "      <td>411824.383333</td>\n",
       "      <td>Population Q</td>\n",
       "    </tr>\n",
       "    <tr>\n",
       "      <th>4</th>\n",
       "      <td>Hdl cholesterol (30760) measurement</td>\n",
       "      <td>HDL cholesterol change measurement</td>\n",
       "      <td>EFO:0007805</td>\n",
       "      <td>34662886</td>\n",
       "      <td>UKB</td>\n",
       "      <td>EUR</td>\n",
       "      <td>Separate File</td>\n",
       "      <td>67</td>\n",
       "      <td>hdl cholesterol</td>\n",
       "      <td>HDL cholesterol (30760)</td>\n",
       "      <td>378175.226277</td>\n",
       "      <td>0.0</td>\n",
       "      <td>378175.226277</td>\n",
       "      <td>Population Q</td>\n",
       "    </tr>\n",
       "  </tbody>\n",
       "</table>\n",
       "</div>"
      ],
      "text/plain": [
       "                                      Reported Trait  \\\n",
       "0      Gamma glutamyltransferase (30730) measurement   \n",
       "1               Apolipoprotein b (30640) measurement   \n",
       "2                              Triglycerides (30870)   \n",
       "3  30730_gamma_glutamyltransferase_inst_mean__rin...   \n",
       "4                Hdl cholesterol (30760) measurement   \n",
       "\n",
       "                                         Trait Label Trait Ontology id  \\\n",
       "0  protein-glutamine gamma-glutamyltransferase e ...       EFO:0020690   \n",
       "1                apolipoprotein B change measurement       EFO:0020874   \n",
       "2                                       triglyceride       CHEBI:17855   \n",
       "3  protein-glutamine gamma-glutamyltransferase e ...       EFO:0020690   \n",
       "4                 HDL cholesterol change measurement       EFO:0007805   \n",
       "\n",
       "       PMID COHORT Ancestry          Notes  rv_idx                      trait  \\\n",
       "0  34662886    UKB      EUR  Separate File      10  gamma glutamyltransferase   \n",
       "1  34662886    UKB      EUR  Separate File      11           apolipoprotein b   \n",
       "2  34662886    UKB      EUR  Separate File      12              triglycerides   \n",
       "3  34662886    UKB      EUR  Separate File      17  gamma glutamyltransferase   \n",
       "4  34662886    UKB      EUR  Separate File      67            hdl cholesterol   \n",
       "\n",
       "                               Trait          Ncase  Ncontrol              N  \\\n",
       "0  Gamma glutamyltransferase (30730)  411824.383333       0.0  411824.383333   \n",
       "1           Apolipoprotein B (30640)  410088.384615       0.0  410088.384615   \n",
       "2              Triglycerides (30870)  411723.153846       0.0  411723.153846   \n",
       "3  Gamma glutamyltransferase (30730)  411824.383333       0.0  411824.383333   \n",
       "4            HDL cholesterol (30760)  378175.226277       0.0  378175.226277   \n",
       "\n",
       "  Classification  \n",
       "0   Population Q  \n",
       "1   Population Q  \n",
       "2   Population Q  \n",
       "3   Population Q  \n",
       "4   Population Q  "
      ]
     },
     "execution_count": 223,
     "metadata": {},
     "output_type": "execute_result"
    }
   ],
   "source": [
    "z.head()"
   ]
  },
  {
   "cell_type": "code",
   "execution_count": 207,
   "metadata": {
    "ExecuteTime": {
     "end_time": "2025-03-24T18:53:01.039181Z",
     "start_time": "2025-03-24T18:53:01.037154Z"
    }
   },
   "outputs": [],
   "source": [
    "missing = set(rv_886['Reported Trait'].values) - set(z['Reported Trait'].values)"
   ]
  },
  {
   "cell_type": "code",
   "execution_count": 227,
   "metadata": {
    "ExecuteTime": {
     "end_time": "2025-03-24T18:57:14.425553Z",
     "start_time": "2025-03-24T18:57:14.420967Z"
    }
   },
   "outputs": [],
   "source": [
    "rv_study2 = pd.concat([rv_study1[~rv_study1.rv_idx.isin(z.rv_idx.values)], z.loc[:, rv_study1.columns].sort_values('N', ascending=False).drop_duplicates(subset='rv_idx')])"
   ]
  },
  {
   "cell_type": "markdown",
   "metadata": {},
   "source": [
    "## 768"
   ]
  },
  {
   "cell_type": "code",
   "execution_count": 286,
   "metadata": {
    "ExecuteTime": {
     "end_time": "2025-03-24T19:18:26.749652Z",
     "start_time": "2025-03-24T19:18:26.745779Z"
    }
   },
   "outputs": [],
   "source": [
    "rv_768 = rv_study2[rv_study2.PMID==36809768].drop(columns=['N', 'Classification'])\n",
    "rv_768['trait'] = rv_768['Reported Trait'].apply(lambda x: x.replace(' measurement', '').lower())"
   ]
  },
  {
   "cell_type": "code",
   "execution_count": 287,
   "metadata": {
    "ExecuteTime": {
     "end_time": "2025-03-24T19:18:29.401120Z",
     "start_time": "2025-03-24T19:18:29.376781Z"
    }
   },
   "outputs": [],
   "source": [
    "add_768 = pd.read_csv(os.path.join(datadir, 'RAVAR', '36809768_samples.csv'))\n",
    "add_768['N'] = add_768['Number with non-missing data               (out of 412,393)'].apply(lambda x: (x.replace(',', '')))"
   ]
  },
  {
   "cell_type": "code",
   "execution_count": 288,
   "metadata": {
    "ExecuteTime": {
     "end_time": "2025-03-24T19:18:30.710834Z",
     "start_time": "2025-03-24T19:18:30.707722Z"
    }
   },
   "outputs": [],
   "source": [
    "add_768_1 = add_768.iloc[0:102]\n",
    "add_768_2 = add_768.iloc[103:]\n",
    "add_768_2.columns = ['Measurement', 'Description', 'N-in', 'Adjusted', 'N']"
   ]
  },
  {
   "cell_type": "code",
   "execution_count": 289,
   "metadata": {
    "ExecuteTime": {
     "end_time": "2025-03-24T19:18:31.427337Z",
     "start_time": "2025-03-24T19:18:31.423257Z"
    }
   },
   "outputs": [
    {
     "data": {
      "text/html": [
       "<div>\n",
       "<style scoped>\n",
       "    .dataframe tbody tr th:only-of-type {\n",
       "        vertical-align: middle;\n",
       "    }\n",
       "\n",
       "    .dataframe tbody tr th {\n",
       "        vertical-align: top;\n",
       "    }\n",
       "\n",
       "    .dataframe thead th {\n",
       "        text-align: right;\n",
       "    }\n",
       "</style>\n",
       "<table border=\"1\" class=\"dataframe\">\n",
       "  <thead>\n",
       "    <tr style=\"text-align: right;\">\n",
       "      <th></th>\n",
       "      <th>Metabolite measurement</th>\n",
       "      <th>Metabolite description</th>\n",
       "      <th>Number with non-missing data               (out of 412,393)</th>\n",
       "      <th>Analysed for medication-adjusted values?</th>\n",
       "      <th>N</th>\n",
       "    </tr>\n",
       "  </thead>\n",
       "  <tbody>\n",
       "  </tbody>\n",
       "</table>\n",
       "</div>"
      ],
      "text/plain": [
       "Empty DataFrame\n",
       "Columns: [Metabolite measurement, Metabolite description, Number with non-missing data               (out of 412,393), Analysed for medication-adjusted values? , N]\n",
       "Index: []"
      ]
     },
     "execution_count": 289,
     "metadata": {},
     "output_type": "execute_result"
    }
   ],
   "source": [
    "add_768_1.head(0)"
   ]
  },
  {
   "cell_type": "code",
   "execution_count": 290,
   "metadata": {
    "ExecuteTime": {
     "end_time": "2025-03-24T19:18:32.578442Z",
     "start_time": "2025-03-24T19:18:32.574681Z"
    }
   },
   "outputs": [
    {
     "name": "stderr",
     "output_type": "stream",
     "text": [
      "/tmp/ipykernel_2298860/806896550.py:1: SettingWithCopyWarning: \n",
      "A value is trying to be set on a copy of a slice from a DataFrame.\n",
      "Try using .loc[row_indexer,col_indexer] = value instead\n",
      "\n",
      "See the caveats in the documentation: https://pandas.pydata.org/pandas-docs/stable/user_guide/indexing.html#returning-a-view-versus-a-copy\n",
      "  add_768_1['trait'] = add_768_1['Metabolite description'].apply(lambda x: x.lower())\n",
      "/tmp/ipykernel_2298860/806896550.py:2: SettingWithCopyWarning: \n",
      "A value is trying to be set on a copy of a slice from a DataFrame.\n",
      "Try using .loc[row_indexer,col_indexer] = value instead\n",
      "\n",
      "See the caveats in the documentation: https://pandas.pydata.org/pandas-docs/stable/user_guide/indexing.html#returning-a-view-versus-a-copy\n",
      "  add_768_2['trait'] = add_768_2['Description'].apply(lambda x: x.lower())\n",
      "/tmp/ipykernel_2298860/806896550.py:3: SettingWithCopyWarning: \n",
      "A value is trying to be set on a copy of a slice from a DataFrame.\n",
      "Try using .loc[row_indexer,col_indexer] = value instead\n",
      "\n",
      "See the caveats in the documentation: https://pandas.pydata.org/pandas-docs/stable/user_guide/indexing.html#returning-a-view-versus-a-copy\n",
      "  add_768_1['N'] = add_768_1['N'].astype(int)\n",
      "/tmp/ipykernel_2298860/806896550.py:4: SettingWithCopyWarning: \n",
      "A value is trying to be set on a copy of a slice from a DataFrame.\n",
      "Try using .loc[row_indexer,col_indexer] = value instead\n",
      "\n",
      "See the caveats in the documentation: https://pandas.pydata.org/pandas-docs/stable/user_guide/indexing.html#returning-a-view-versus-a-copy\n",
      "  add_768_2['N'] = add_768_2['N'].astype(int)\n"
     ]
    }
   ],
   "source": [
    "add_768_1['trait'] = add_768_1['Metabolite description'].apply(lambda x: x.lower())\n",
    "add_768_2['trait'] = add_768_2['Description'].apply(lambda x: x.lower())\n",
    "add_768_1['N'] = add_768_1['N'].astype(int)\n",
    "add_768_2['N'] = add_768_2['N'].astype(int)"
   ]
  },
  {
   "cell_type": "code",
   "execution_count": 291,
   "metadata": {
    "ExecuteTime": {
     "end_time": "2025-03-24T19:18:38.150389Z",
     "start_time": "2025-03-24T19:18:38.146679Z"
    }
   },
   "outputs": [],
   "source": [
    "match_768_1 = rv_768.merge(add_768_1, on='trait', how='inner')"
   ]
  },
  {
   "cell_type": "code",
   "execution_count": 292,
   "metadata": {
    "ExecuteTime": {
     "end_time": "2025-03-24T19:18:38.854640Z",
     "start_time": "2025-03-24T19:18:38.851054Z"
    }
   },
   "outputs": [],
   "source": [
    "match_768_2 = rv_768.merge(add_768_2, on='trait', how='inner')"
   ]
  },
  {
   "cell_type": "code",
   "execution_count": 293,
   "metadata": {
    "ExecuteTime": {
     "end_time": "2025-03-24T19:18:39.333982Z",
     "start_time": "2025-03-24T19:18:39.329998Z"
    }
   },
   "outputs": [],
   "source": [
    "all_match = pd.concat([match_768_1, match_768_2])"
   ]
  },
  {
   "cell_type": "code",
   "execution_count": 295,
   "metadata": {
    "ExecuteTime": {
     "end_time": "2025-03-24T19:18:56.141437Z",
     "start_time": "2025-03-24T19:18:56.137644Z"
    }
   },
   "outputs": [],
   "source": [
    "all_match['Classification'] = 'Population Q'"
   ]
  },
  {
   "cell_type": "code",
   "execution_count": 296,
   "metadata": {
    "ExecuteTime": {
     "end_time": "2025-03-24T19:19:07.381101Z",
     "start_time": "2025-03-24T19:19:07.377662Z"
    }
   },
   "outputs": [],
   "source": [
    "all_match = all_match.loc[:, rv_study2.columns].sort_values('N', ascending=False).drop_duplicates(subset='rv_idx')"
   ]
  },
  {
   "cell_type": "code",
   "execution_count": 297,
   "metadata": {
    "ExecuteTime": {
     "end_time": "2025-03-24T19:19:59.020547Z",
     "start_time": "2025-03-24T19:19:59.016678Z"
    }
   },
   "outputs": [],
   "source": [
    "rv_study3 = pd.concat([rv_study2[~rv_study2.rv_idx.isin(all_match.rv_idx.values)], all_match])"
   ]
  },
  {
   "cell_type": "code",
   "execution_count": 303,
   "metadata": {
    "ExecuteTime": {
     "end_time": "2025-03-24T19:21:42.468091Z",
     "start_time": "2025-03-24T19:21:42.268981Z"
    }
   },
   "outputs": [],
   "source": [
    "rv_study3.to_csv(os.path.join(datadir, 'rv_study_info_cleaned_with_manual.tsv'), sep='\\t')"
   ]
  }
 ],
 "metadata": {
  "kernelspec": {
   "display_name": "Python (CARVA)",
   "language": "python",
   "name": "carva"
  },
  "language_info": {
   "codemirror_mode": {
    "name": "ipython",
    "version": 3
   },
   "file_extension": ".py",
   "mimetype": "text/x-python",
   "name": "python",
   "nbconvert_exporter": "python",
   "pygments_lexer": "ipython3",
   "version": "3.10.0"
  },
  "toc": {
   "base_numbering": 1,
   "nav_menu": {},
   "number_sections": true,
   "sideBar": true,
   "skip_h1_title": false,
   "title_cell": "Table of Contents",
   "title_sidebar": "Contents",
   "toc_cell": false,
   "toc_position": {},
   "toc_section_display": true,
   "toc_window_display": false
  },
  "varInspector": {
   "cols": {
    "lenName": 16,
    "lenType": 16,
    "lenVar": 40
   },
   "kernels_config": {
    "python": {
     "delete_cmd_postfix": "",
     "delete_cmd_prefix": "del ",
     "library": "var_list.py",
     "varRefreshCmd": "print(var_dic_list())"
    },
    "r": {
     "delete_cmd_postfix": ") ",
     "delete_cmd_prefix": "rm(",
     "library": "var_list.r",
     "varRefreshCmd": "cat(var_dic_list()) "
    }
   },
   "types_to_exclude": [
    "module",
    "function",
    "builtin_function_or_method",
    "instance",
    "_Feature"
   ],
   "window_display": false
  }
 },
 "nbformat": 4,
 "nbformat_minor": 2
}
