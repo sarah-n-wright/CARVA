{
 "cells": [
  {
   "cell_type": "code",
   "execution_count": 304,
   "metadata": {
    "ExecuteTime": {
     "end_time": "2025-01-26T18:14:12.689738Z",
     "start_time": "2025-01-26T18:14:12.686604Z"
    }
   },
   "outputs": [],
   "source": [
    "import pandas as pd\n",
    "import numpy as np\n",
    "import matplotlib.pyplot as plt\n",
    "import seaborn as sns\n",
    "import os\n",
    "from collections import defaultdict\n",
    "from tqdm import tqdm\n",
    "import networkx as nx\n",
    "from matplotlib_venn import venn2, venn3\n",
    "from neteval import gene_mapper as gm\n",
    "from neteval import query_ensembl as qe\n",
    "from neteval import query_hgnc as qh\n",
    "import obonet as obo\n",
    "import random as rn\n",
    "import glob\n",
    "import re"
   ]
  },
  {
   "cell_type": "code",
   "execution_count": 305,
   "metadata": {
    "ExecuteTime": {
     "end_time": "2025-01-26T18:14:13.313503Z",
     "start_time": "2025-01-26T18:14:13.311712Z"
    }
   },
   "outputs": [],
   "source": [
    "datadir='/cellar/users/snwright/Data/RareCommon/inputs/'\n",
    "resdir= '/cellar/users/snwright/Data/RareCommon/outputs/netcoloc/'\n",
    "outdir='/cellar/users/snwright/Data/Transfer/RVC/'\n",
    "figdir='/cellar/users/snwright/Data/Transfer/RVC/figures/RAVAR_GWASCat/'"
   ]
  },
  {
   "cell_type": "code",
   "execution_count": 306,
   "metadata": {
    "ExecuteTime": {
     "end_time": "2025-01-26T18:14:13.769444Z",
     "start_time": "2025-01-26T18:14:13.766121Z"
    }
   },
   "outputs": [],
   "source": [
    "plt.rcParams['svg.fonttype'] = 'none'\n",
    "plt.rcParams.update({'font.size': 7})\n",
    "plt.rcParams['axes.linewidth'] = 0.5\n",
    "plt.rcParams['hatch.linewidth'] = 0.5\n",
    "plt.rcParams['xtick.major.width'] = 0.4\n",
    "plt.rcParams['ytick.major.width'] = 0.4\n",
    "plt.rcParams['xtick.minor.width'] = 0.3\n",
    "plt.rcParams['ytick.minor.width'] = 0.3\n",
    "plt.rcParams['legend.frameon'] = False\n",
    "plt.rcParams['xtick.major.size'] = 3\n",
    "plt.rcParams['ytick.major.size'] = 3\n",
    "plt.rcParams['xtick.minor.size'] = 2\n",
    "plt.rcParams['ytick.minor.size'] = 2\n",
    "plt.rcParams['xtick.major.pad'] = 1\n",
    "plt.rcParams['ytick.major.pad'] = 1\n",
    "plt.rcParams['axes.labelpad'] = 1\n",
    "plt.rcParams['patch.linewidth'] = 0.25"
   ]
  },
  {
   "cell_type": "markdown",
   "metadata": {},
   "source": [
    "## Load Data"
   ]
  },
  {
   "cell_type": "code",
   "execution_count": 307,
   "metadata": {
    "ExecuteTime": {
     "end_time": "2025-01-26T18:14:15.283185Z",
     "start_time": "2025-01-26T18:14:15.279499Z"
    }
   },
   "outputs": [],
   "source": [
    "col_names=['TraitR', 'TraitC', 'Network','Transform', 'Norm', 'Mean_NPS', 'Null_mean_NPS', 'P_mean_NPS', 'Size', 'Null_Size', 'P_size' ]"
   ]
  },
  {
   "cell_type": "code",
   "execution_count": 308,
   "metadata": {
    "ExecuteTime": {
     "end_time": "2025-01-26T18:14:15.913102Z",
     "start_time": "2025-01-26T18:14:15.757213Z"
    }
   },
   "outputs": [],
   "source": [
    "ng_binary1 = pd.read_csv(os.path.join(resdir, 'testing', 'netcoloc_nearestGene_repeat1.tsv'), sep='\\t', header=None,names=col_names).fillna({'Norm':'binary'})\n",
    "ng_binary2 = pd.read_csv(os.path.join(resdir, 'testing/testing2', 'netcoloc_nearestGene_repeat2.tsv'), sep='\\t', header=None,\n",
    "                        names=col_names).fillna({'Norm':'binary'})\n",
    "ng_binary3 = pd.read_csv(os.path.join(resdir, 'testing/testing3', 'netcoloc_nearestGene_repeat3.tsv'), sep='\\t', header=None,names=col_names).fillna({'Norm':'binary'})\n",
    "ng_q1 = pd.read_csv(os.path.join(resdir, 'testing', 'qnetcoloc_nearestGene_repeat1.tsv'), sep='\\t', header=None,names=col_names).fillna({'Norm':'base'})\n",
    "ng_q2 = pd.read_csv(os.path.join(resdir, 'testing/testing2', 'qnetcoloc_nearestGene_repeat2.tsv'), sep='\\t', header=None,names=col_names).fillna({'Norm':'base'})\n",
    "ng_q3 = pd.read_csv(os.path.join(resdir, 'testing/testing3', 'qnetcoloc_nearestGene_repeat3.tsv'), sep='\\t', header=None,names=col_names).fillna({'Norm':'base'})"
   ]
  },
  {
   "cell_type": "code",
   "execution_count": 309,
   "metadata": {
    "ExecuteTime": {
     "end_time": "2025-01-26T18:14:16.643843Z",
     "start_time": "2025-01-26T18:14:16.636099Z"
    }
   },
   "outputs": [],
   "source": [
    "ng1 = pd.concat([ng_binary1, ng_q1])\n",
    "ng1 = ng1.assign(repeat=1)\n",
    "ng2 = pd.concat([ng_binary2, ng_q2])\n",
    "ng2 = ng2.assign(repeat=2)\n",
    "ng3 = pd.concat([ng_binary3, ng_q3])\n",
    "ng3 = ng3.assign(repeat=3)\n",
    "ng_all = pd.concat([ng1[ng1.Norm.isin(['base', 'binary', 'sum'])], ng2, ng3])\n",
    "ng_all = ng_all.assign(logp_nps = -1 * np.log10(ng_all.P_mean_NPS.values+1e-250))\n",
    "ng_all = ng_all.assign(logp_size = -1 * np.log10(ng_all.P_size.values+1e-250))\n",
    "ng_all = ng_all.assign(SizeOE = ng_all.Size / ng_all.Null_Size)\n",
    "ng_all = ng_all.assign(Group='NG')"
   ]
  },
  {
   "cell_type": "code",
   "execution_count": 310,
   "metadata": {
    "ExecuteTime": {
     "end_time": "2025-01-26T18:14:17.163054Z",
     "start_time": "2025-01-26T18:14:17.149773Z"
    }
   },
   "outputs": [],
   "source": [
    "mag_binary1 = pd.read_csv(os.path.join(resdir, 'magma', 'netcoloc_magma103_repeat1.tsv'), sep='\\t', header=None,names=col_names).fillna({'Norm':'binary'})\n",
    "mag_binary2 = pd.read_csv(os.path.join(resdir, 'magma/magma2', 'netcoloc_magma_th103_repeat2.tsv'), sep='\\t', header=None,names=col_names).fillna({'Norm':'binary'})\n",
    "mag_binary3 = pd.read_csv(os.path.join(resdir, 'magma/magma3', 'netcoloc_magma_th103_repeat3.tsv'), sep='\\t', header=None,names=col_names).fillna({'Norm':'binary'})\n",
    "mag_q1 = pd.read_csv(os.path.join(resdir, 'magma', 'qnetcoloc_magma103_repeat1.tsv'), sep='\\t', header=None,names=col_names).fillna({'Norm':'base'})\n",
    "mag_q2 = pd.read_csv(os.path.join(resdir, 'magma/magma2', 'qnetcoloc_magma_th103_repeat2.tsv'), sep='\\t', header=None,names=col_names).fillna({'Norm':'base'})\n",
    "mag_q3 = pd.read_csv(os.path.join(resdir, 'magma/magma3', 'qnetcoloc_magma_th103_repeat3.tsv'), sep='\\t', header=None,names=col_names).fillna({'Norm':'base'})"
   ]
  },
  {
   "cell_type": "code",
   "execution_count": 311,
   "metadata": {
    "ExecuteTime": {
     "end_time": "2025-01-26T18:14:18.400754Z",
     "start_time": "2025-01-26T18:14:18.391590Z"
    }
   },
   "outputs": [],
   "source": [
    "mag1 = pd.concat([mag_binary1, mag_q1])\n",
    "mag1 = mag1.assign(repeat=1)\n",
    "mag2 = pd.concat([mag_binary2, mag_q2])\n",
    "mag2 = mag2.assign(repeat=2)\n",
    "mag3 = pd.concat([mag_binary3, mag_q3])\n",
    "mag3 = mag3.assign(repeat=3)\n",
    "mag_all = pd.concat([mag1[mag1.Norm.isin(['base', 'binary', 'sum'])], mag2, mag3])\n",
    "mag_all = mag_all.assign(logp_nps = -1 * np.log10(mag_all.P_mean_NPS.values+1e-250))\n",
    "mag_all = mag_all.assign(logp_size = -1 * np.log10(mag_all.P_size.values+1e-250))\n",
    "mag_all = mag_all.assign(SizeOE = mag_all.Size / mag_all.Null_Size)\n",
    "mag_all = mag_all.assign(Group=\"MAG\")"
   ]
  },
  {
   "cell_type": "markdown",
   "metadata": {},
   "source": [
    "## Export the results"
   ]
  },
  {
   "cell_type": "code",
   "execution_count": 313,
   "metadata": {
    "ExecuteTime": {
     "end_time": "2025-01-26T18:16:43.412150Z",
     "start_time": "2025-01-26T18:16:43.389764Z"
    }
   },
   "outputs": [],
   "source": [
    "ng_all.to_csv('/cellar/users/snwright/Data/RareCommon/outputs/netcoloc/nearestGene_all_repeat_results.tsv', index=False, sep='\\t')\n",
    "mag_all.to_csv('/cellar/users/snwright/Data/RareCommon/outputs/netcoloc/magma_all_repeat_results.tsv', index=False, sep='\\t')"
   ]
  },
  {
   "cell_type": "markdown",
   "metadata": {},
   "source": [
    "## How consistent are the repeats?\n",
    "\n",
    "For NPS they cluster first by repeat number\n",
    "\n",
    "For Size they cluster first by q vs binary, then by repeat number. \n",
    "\n",
    "\n",
    "### Mean NPS"
   ]
  },
  {
   "cell_type": "code",
   "execution_count": 298,
   "metadata": {
    "ExecuteTime": {
     "end_time": "2025-01-22T21:48:25.599102Z",
     "start_time": "2025-01-22T21:48:25.230842Z"
    }
   },
   "outputs": [
    {
     "data": {
      "text/plain": [
       "Text(0.5, 1.0, 'Mean_NPS')"
      ]
     },
     "execution_count": 298,
     "metadata": {},
     "output_type": "execute_result"
    },
    {
     "data": {
      "image/png": "[encoded data removed]",
      "text/plain": [
       "<Figure size 400x400 with 4 Axes>"
      ]
     },
     "metadata": {},
     "output_type": "display_data"
    }
   ],
   "source": [
    "sns.clustermap(mag_all.pivot_table(columns=['Norm', 'repeat'], index='TraitR', values='Mean_NPS').corr(), figsize=(4,4))\n",
    "plt.title('Mean_NPS')"
   ]
  },
  {
   "cell_type": "code",
   "execution_count": 299,
   "metadata": {
    "ExecuteTime": {
     "end_time": "2025-01-22T21:48:30.889295Z",
     "start_time": "2025-01-22T21:48:30.611506Z"
    }
   },
   "outputs": [
    {
     "data": {
      "text/plain": [
       "Text(0.5, 1.0, 'P_NPS')"
      ]
     },
     "execution_count": 299,
     "metadata": {},
     "output_type": "execute_result"
    },
    {
     "data": {
      "image/png": "[encoded data removed]",
      "text/plain": [
       "<Figure size 400x400 with 4 Axes>"
      ]
     },
     "metadata": {},
     "output_type": "display_data"
    }
   ],
   "source": [
    "sns.clustermap(mag_all.pivot_table(columns=['Norm', 'repeat'], index='TraitR', values='logp_nps').dropna().corr(), cmap='viridis', figsize=(4,4))\n",
    "plt.title('P_NPS')"
   ]
  },
  {
   "cell_type": "markdown",
   "metadata": {},
   "source": [
    "### Size"
   ]
  },
  {
   "cell_type": "code",
   "execution_count": 300,
   "metadata": {
    "ExecuteTime": {
     "end_time": "2025-01-22T21:48:45.575091Z",
     "start_time": "2025-01-22T21:48:44.972896Z"
    }
   },
   "outputs": [
    {
     "data": {
      "text/plain": [
       "Text(0.5, 1.0, 'SizeOE')"
      ]
     },
     "execution_count": 300,
     "metadata": {},
     "output_type": "execute_result"
    },
    {
     "data": {
      "image/png": "[encoded data removed]",
      "text/plain": [
       "<Figure size 400x400 with 4 Axes>"
      ]
     },
     "metadata": {},
     "output_type": "display_data"
    }
   ],
   "source": [
    "sns.clustermap(mag_all.pivot_table(columns=['Norm', 'repeat'], index='TraitR', values='SizeOE').dropna().corr(), figsize=(4,4))\n",
    "plt.title('SizeOE')"
   ]
  },
  {
   "cell_type": "code",
   "execution_count": 301,
   "metadata": {
    "ExecuteTime": {
     "end_time": "2025-01-22T21:48:57.305089Z",
     "start_time": "2025-01-22T21:48:57.029023Z"
    }
   },
   "outputs": [
    {
     "data": {
      "text/plain": [
       "Text(0.5, 1.0, 'P_size')"
      ]
     },
     "execution_count": 301,
     "metadata": {},
     "output_type": "execute_result"
    },
    {
     "data": {
      "image/png": "[encoded data removed]",
      "text/plain": [
       "<Figure size 400x400 with 4 Axes>"
      ]
     },
     "metadata": {},
     "output_type": "display_data"
    }
   ],
   "source": [
    "sns.clustermap(mag_all.pivot_table(columns=['Norm', 'repeat'], index='TraitR', values='logp_size').dropna().corr(), cmap='viridis', figsize=(4,4))\n",
    "plt.title('P_size')"
   ]
  },
  {
   "cell_type": "code",
   "execution_count": null,
   "metadata": {},
   "outputs": [],
   "source": []
  },
  {
   "cell_type": "markdown",
   "metadata": {},
   "source": [
    "## How consistent are the method rankings?\n",
    "\n",
    "Are they consistently better?"
   ]
  },
  {
   "cell_type": "code",
   "execution_count": 171,
   "metadata": {
    "ExecuteTime": {
     "end_time": "2025-01-22T19:51:59.577167Z",
     "start_time": "2025-01-22T19:51:59.568624Z"
    }
   },
   "outputs": [],
   "source": [
    "all_df = pd.concat([ng_all, mag_all])\n",
    "all_df['EFO'] = all_df.TraitR.apply(lambda x: next((match.group() for match in re.finditer(r'EFO_\\d+', x)), None))\n",
    "all_df['Study'] = all_df.TraitR.apply(lambda x: next((match.group() for match in re.finditer(r'GCST\\d+', x)), None))\n",
    "all_df['StudyEFO'] = all_df['Study'] + ':' + all_df['EFO']"
   ]
  },
  {
   "cell_type": "code",
   "execution_count": 222,
   "metadata": {
    "ExecuteTime": {
     "end_time": "2025-01-22T20:21:58.603098Z",
     "start_time": "2025-01-22T20:21:58.588202Z"
    }
   },
   "outputs": [
    {
     "data": {
      "text/html": [
       "<div>\n",
       "<style scoped>\n",
       "    .dataframe tbody tr th:only-of-type {\n",
       "        vertical-align: middle;\n",
       "    }\n",
       "\n",
       "    .dataframe tbody tr th {\n",
       "        vertical-align: top;\n",
       "    }\n",
       "\n",
       "    .dataframe thead tr th {\n",
       "        text-align: left;\n",
       "    }\n",
       "\n",
       "    .dataframe thead tr:last-of-type th {\n",
       "        text-align: right;\n",
       "    }\n",
       "</style>\n",
       "<table border=\"1\" class=\"dataframe\">\n",
       "  <thead>\n",
       "    <tr>\n",
       "      <th>Group</th>\n",
       "      <th colspan=\"3\" halign=\"left\">MAG</th>\n",
       "      <th colspan=\"3\" halign=\"left\">NG</th>\n",
       "    </tr>\n",
       "    <tr>\n",
       "      <th>Norm</th>\n",
       "      <th>base</th>\n",
       "      <th>binary</th>\n",
       "      <th>sum</th>\n",
       "      <th>base</th>\n",
       "      <th>binary</th>\n",
       "      <th>sum</th>\n",
       "    </tr>\n",
       "    <tr>\n",
       "      <th>StudyEFO</th>\n",
       "      <th></th>\n",
       "      <th></th>\n",
       "      <th></th>\n",
       "      <th></th>\n",
       "      <th></th>\n",
       "      <th></th>\n",
       "    </tr>\n",
       "  </thead>\n",
       "  <tbody>\n",
       "    <tr>\n",
       "      <th>GCST006366:EFO_0005213</th>\n",
       "      <td>111.069854</td>\n",
       "      <td>69.304608</td>\n",
       "      <td>104.881791</td>\n",
       "      <td>227.736200</td>\n",
       "      <td>184.987383</td>\n",
       "      <td>237.032122</td>\n",
       "    </tr>\n",
       "    <tr>\n",
       "      <th>GCST007459:EFO_0006525</th>\n",
       "      <td>250.000000</td>\n",
       "      <td>198.059019</td>\n",
       "      <td>250.000000</td>\n",
       "      <td>236.580454</td>\n",
       "      <td>186.375207</td>\n",
       "      <td>239.786988</td>\n",
       "    </tr>\n",
       "    <tr>\n",
       "      <th>GCST007710:EFO_0009863</th>\n",
       "      <td>68.581565</td>\n",
       "      <td>28.240132</td>\n",
       "      <td>63.880770</td>\n",
       "      <td>46.761631</td>\n",
       "      <td>25.352772</td>\n",
       "      <td>49.672467</td>\n",
       "    </tr>\n",
       "    <tr>\n",
       "      <th>GCST008062:EFO_0004741</th>\n",
       "      <td>250.000000</td>\n",
       "      <td>87.046599</td>\n",
       "      <td>250.000000</td>\n",
       "      <td>48.678657</td>\n",
       "      <td>67.119700</td>\n",
       "      <td>50.078042</td>\n",
       "    </tr>\n",
       "    <tr>\n",
       "      <th>GCST009414:EFO_0005213</th>\n",
       "      <td>85.980906</td>\n",
       "      <td>49.266062</td>\n",
       "      <td>85.455470</td>\n",
       "      <td>250.000000</td>\n",
       "      <td>250.000000</td>\n",
       "      <td>250.000000</td>\n",
       "    </tr>\n",
       "    <tr>\n",
       "      <th>GCST010572:EFO_0010156</th>\n",
       "      <td>81.546583</td>\n",
       "      <td>38.892289</td>\n",
       "      <td>76.225951</td>\n",
       "      <td>51.999915</td>\n",
       "      <td>30.956741</td>\n",
       "      <td>60.718691</td>\n",
       "    </tr>\n",
       "    <tr>\n",
       "      <th>GCST90016673:EFO_0010821</th>\n",
       "      <td>142.538312</td>\n",
       "      <td>114.787761</td>\n",
       "      <td>132.669436</td>\n",
       "      <td>185.494695</td>\n",
       "      <td>83.333333</td>\n",
       "      <td>179.934377</td>\n",
       "    </tr>\n",
       "    <tr>\n",
       "      <th>GCST90018627:EFO_0004237</th>\n",
       "      <td>250.000000</td>\n",
       "      <td>250.000000</td>\n",
       "      <td>250.000000</td>\n",
       "      <td>108.798327</td>\n",
       "      <td>13.037939</td>\n",
       "      <td>113.855896</td>\n",
       "    </tr>\n",
       "    <tr>\n",
       "      <th>GCST90018714:EFO_0000731</th>\n",
       "      <td>11.534990</td>\n",
       "      <td>7.366839</td>\n",
       "      <td>12.339303</td>\n",
       "      <td>191.594944</td>\n",
       "      <td>177.181467</td>\n",
       "      <td>207.117028</td>\n",
       "    </tr>\n",
       "    <tr>\n",
       "      <th>GCST90018728:EFO_0004741</th>\n",
       "      <td>215.542087</td>\n",
       "      <td>93.828096</td>\n",
       "      <td>219.610040</td>\n",
       "      <td>36.478219</td>\n",
       "      <td>84.719287</td>\n",
       "      <td>35.490581</td>\n",
       "    </tr>\n",
       "    <tr>\n",
       "      <th>GCST90092502:EFO_0007117</th>\n",
       "      <td>32.893091</td>\n",
       "      <td>33.518767</td>\n",
       "      <td>30.257043</td>\n",
       "      <td>60.376834</td>\n",
       "      <td>47.936502</td>\n",
       "      <td>57.504396</td>\n",
       "    </tr>\n",
       "    <tr>\n",
       "      <th>GCST90092503:EFO_0007117</th>\n",
       "      <td>61.137137</td>\n",
       "      <td>64.256692</td>\n",
       "      <td>58.517714</td>\n",
       "      <td>131.702026</td>\n",
       "      <td>119.841778</td>\n",
       "      <td>137.898041</td>\n",
       "    </tr>\n",
       "    <tr>\n",
       "      <th>GCST90092504:EFO_0007117</th>\n",
       "      <td>0.590871</td>\n",
       "      <td>0.571374</td>\n",
       "      <td>1.135234</td>\n",
       "      <td>33.149010</td>\n",
       "      <td>34.599062</td>\n",
       "      <td>34.703446</td>\n",
       "    </tr>\n",
       "    <tr>\n",
       "      <th>GCST90092505:EFO_0007117</th>\n",
       "      <td>14.190144</td>\n",
       "      <td>8.175597</td>\n",
       "      <td>11.834257</td>\n",
       "      <td>0.000159</td>\n",
       "      <td>0.000595</td>\n",
       "      <td>0.000014</td>\n",
       "    </tr>\n",
       "    <tr>\n",
       "      <th>GCST90093316:EFO_0004887</th>\n",
       "      <td>36.653438</td>\n",
       "      <td>15.144461</td>\n",
       "      <td>40.649516</td>\n",
       "      <td>179.898360</td>\n",
       "      <td>176.202728</td>\n",
       "      <td>179.429989</td>\n",
       "    </tr>\n",
       "    <tr>\n",
       "      <th>GCST90094960:EFO_0008036</th>\n",
       "      <td>54.567525</td>\n",
       "      <td>27.516600</td>\n",
       "      <td>55.153559</td>\n",
       "      <td>250.000000</td>\n",
       "      <td>250.000000</td>\n",
       "      <td>250.000000</td>\n",
       "    </tr>\n",
       "    <tr>\n",
       "      <th>GCST90100525:EFO_0006332</th>\n",
       "      <td>0.000000</td>\n",
       "      <td>0.000000</td>\n",
       "      <td>0.000000</td>\n",
       "      <td>250.000000</td>\n",
       "      <td>250.000000</td>\n",
       "      <td>250.000000</td>\n",
       "    </tr>\n",
       "    <tr>\n",
       "      <th>GCST90103632:EFO_0004741</th>\n",
       "      <td>250.000000</td>\n",
       "      <td>78.736423</td>\n",
       "      <td>250.000000</td>\n",
       "      <td>88.490417</td>\n",
       "      <td>62.141179</td>\n",
       "      <td>86.177737</td>\n",
       "    </tr>\n",
       "    <tr>\n",
       "      <th>GCST90103754:EFO_0004343</th>\n",
       "      <td>14.980985</td>\n",
       "      <td>21.167733</td>\n",
       "      <td>11.981922</td>\n",
       "      <td>18.321168</td>\n",
       "      <td>16.024840</td>\n",
       "      <td>19.338544</td>\n",
       "    </tr>\n",
       "    <tr>\n",
       "      <th>GCST90179151:EFO_0006525</th>\n",
       "      <td>250.000000</td>\n",
       "      <td>160.625054</td>\n",
       "      <td>250.000000</td>\n",
       "      <td>127.446169</td>\n",
       "      <td>86.365985</td>\n",
       "      <td>130.673058</td>\n",
       "    </tr>\n",
       "    <tr>\n",
       "      <th>GCST90267352:EFO_0010821</th>\n",
       "      <td>102.303611</td>\n",
       "      <td>53.563205</td>\n",
       "      <td>104.803600</td>\n",
       "      <td>250.000000</td>\n",
       "      <td>250.000000</td>\n",
       "      <td>250.000000</td>\n",
       "    </tr>\n",
       "    <tr>\n",
       "      <th>GCST90269581:EFO_0021898</th>\n",
       "      <td>250.000000</td>\n",
       "      <td>105.918583</td>\n",
       "      <td>250.000000</td>\n",
       "      <td>189.032457</td>\n",
       "      <td>166.536300</td>\n",
       "      <td>199.043700</td>\n",
       "    </tr>\n",
       "    <tr>\n",
       "      <th>GCST90278623:EFO_0004741</th>\n",
       "      <td>136.769821</td>\n",
       "      <td>45.183865</td>\n",
       "      <td>136.441995</td>\n",
       "      <td>132.625711</td>\n",
       "      <td>95.566152</td>\n",
       "      <td>117.428290</td>\n",
       "    </tr>\n",
       "    <tr>\n",
       "      <th>GCST90278649:EFO_0004343</th>\n",
       "      <td>169.705071</td>\n",
       "      <td>70.891946</td>\n",
       "      <td>175.661714</td>\n",
       "      <td>24.167007</td>\n",
       "      <td>46.313070</td>\n",
       "      <td>27.091043</td>\n",
       "    </tr>\n",
       "  </tbody>\n",
       "</table>\n",
       "</div>"
      ],
      "text/plain": [
       "Group                            MAG                                  NG  \\\n",
       "Norm                            base      binary         sum        base   \n",
       "StudyEFO                                                                   \n",
       "GCST006366:EFO_0005213    111.069854   69.304608  104.881791  227.736200   \n",
       "GCST007459:EFO_0006525    250.000000  198.059019  250.000000  236.580454   \n",
       "GCST007710:EFO_0009863     68.581565   28.240132   63.880770   46.761631   \n",
       "GCST008062:EFO_0004741    250.000000   87.046599  250.000000   48.678657   \n",
       "GCST009414:EFO_0005213     85.980906   49.266062   85.455470  250.000000   \n",
       "GCST010572:EFO_0010156     81.546583   38.892289   76.225951   51.999915   \n",
       "GCST90016673:EFO_0010821  142.538312  114.787761  132.669436  185.494695   \n",
       "GCST90018627:EFO_0004237  250.000000  250.000000  250.000000  108.798327   \n",
       "GCST90018714:EFO_0000731   11.534990    7.366839   12.339303  191.594944   \n",
       "GCST90018728:EFO_0004741  215.542087   93.828096  219.610040   36.478219   \n",
       "GCST90092502:EFO_0007117   32.893091   33.518767   30.257043   60.376834   \n",
       "GCST90092503:EFO_0007117   61.137137   64.256692   58.517714  131.702026   \n",
       "GCST90092504:EFO_0007117    0.590871    0.571374    1.135234   33.149010   \n",
       "GCST90092505:EFO_0007117   14.190144    8.175597   11.834257    0.000159   \n",
       "GCST90093316:EFO_0004887   36.653438   15.144461   40.649516  179.898360   \n",
       "GCST90094960:EFO_0008036   54.567525   27.516600   55.153559  250.000000   \n",
       "GCST90100525:EFO_0006332    0.000000    0.000000    0.000000  250.000000   \n",
       "GCST90103632:EFO_0004741  250.000000   78.736423  250.000000   88.490417   \n",
       "GCST90103754:EFO_0004343   14.980985   21.167733   11.981922   18.321168   \n",
       "GCST90179151:EFO_0006525  250.000000  160.625054  250.000000  127.446169   \n",
       "GCST90267352:EFO_0010821  102.303611   53.563205  104.803600  250.000000   \n",
       "GCST90269581:EFO_0021898  250.000000  105.918583  250.000000  189.032457   \n",
       "GCST90278623:EFO_0004741  136.769821   45.183865  136.441995  132.625711   \n",
       "GCST90278649:EFO_0004343  169.705071   70.891946  175.661714   24.167007   \n",
       "\n",
       "Group                                             \n",
       "Norm                          binary         sum  \n",
       "StudyEFO                                          \n",
       "GCST006366:EFO_0005213    184.987383  237.032122  \n",
       "GCST007459:EFO_0006525    186.375207  239.786988  \n",
       "GCST007710:EFO_0009863     25.352772   49.672467  \n",
       "GCST008062:EFO_0004741     67.119700   50.078042  \n",
       "GCST009414:EFO_0005213    250.000000  250.000000  \n",
       "GCST010572:EFO_0010156     30.956741   60.718691  \n",
       "GCST90016673:EFO_0010821   83.333333  179.934377  \n",
       "GCST90018627:EFO_0004237   13.037939  113.855896  \n",
       "GCST90018714:EFO_0000731  177.181467  207.117028  \n",
       "GCST90018728:EFO_0004741   84.719287   35.490581  \n",
       "GCST90092502:EFO_0007117   47.936502   57.504396  \n",
       "GCST90092503:EFO_0007117  119.841778  137.898041  \n",
       "GCST90092504:EFO_0007117   34.599062   34.703446  \n",
       "GCST90092505:EFO_0007117    0.000595    0.000014  \n",
       "GCST90093316:EFO_0004887  176.202728  179.429989  \n",
       "GCST90094960:EFO_0008036  250.000000  250.000000  \n",
       "GCST90100525:EFO_0006332  250.000000  250.000000  \n",
       "GCST90103632:EFO_0004741   62.141179   86.177737  \n",
       "GCST90103754:EFO_0004343   16.024840   19.338544  \n",
       "GCST90179151:EFO_0006525   86.365985  130.673058  \n",
       "GCST90267352:EFO_0010821  250.000000  250.000000  \n",
       "GCST90269581:EFO_0021898  166.536300  199.043700  \n",
       "GCST90278623:EFO_0004741   95.566152  117.428290  \n",
       "GCST90278649:EFO_0004343   46.313070   27.091043  "
      ]
     },
     "execution_count": 222,
     "metadata": {},
     "output_type": "execute_result"
    }
   ],
   "source": [
    "all_df.pivot_table(columns=['Group', 'Norm'], index='StudyEFO', values='logp_nps', aggfunc='mean').dropna()"
   ]
  },
  {
   "cell_type": "code",
   "execution_count": 221,
   "metadata": {
    "ExecuteTime": {
     "end_time": "2025-01-22T20:21:34.761337Z",
     "start_time": "2025-01-22T20:21:34.565530Z"
    }
   },
   "outputs": [
    {
     "data": {
      "image/png": "[encoded data removed]",
      "text/plain": [
       "<Figure size 800x600 with 1 Axes>"
      ]
     },
     "metadata": {},
     "output_type": "display_data"
    }
   ],
   "source": [
    "df = all_df.pivot_table(columns=['Group', 'Norm'], index='StudyEFO', values='logp_nps', aggfunc='mean').dropna().rank(ascending=False, axis=1)\n",
    "\n",
    "def plot_stacked_rank_distribution(df):\n",
    "    \"\"\"\n",
    "    Creates a stacked bar chart showing the distribution of ranks.\n",
    "    \n",
    "    Parameters:\n",
    "        df (pd.DataFrame): MultiIndex DataFrame with ranking values.\n",
    "    \"\"\"\n",
    "    # Rank each row\n",
    "    ranked_df = df.rank(axis=1, method='min')\n",
    "\n",
    "    # Define colors for MAG and NG methods\n",
    "    mag_colors = ['purple', 'mediumpurple', 'plum']\n",
    "    ng_colors = ['darkgreen', 'mediumseagreen', 'lightgreen']\n",
    "\n",
    "    # Prepare rank counts for plotting\n",
    "    rank_counts = {rank: (ranked_df == rank).sum() for rank in range(1, 7)}\n",
    "\n",
    "    # Stacked bar chart\n",
    "    x_labels = range(1, 7)\n",
    "    bottom_mag = np.zeros(len(x_labels))\n",
    "    bottom_ng = np.zeros(len(x_labels))\n",
    "\n",
    "    fig, ax = plt.subplots(figsize=(8, 6))\n",
    "\n",
    "    # Plot MAG methods\n",
    "    for i, method in enumerate(['base', 'binary', 'sum']):\n",
    "        values = [rank_counts[rank][('MAG', method)] for rank in x_labels]\n",
    "        ax.bar(x_labels, values, label=f'MAG-{method}', bottom=bottom_mag, color=mag_colors[i])\n",
    "        bottom_mag += values\n",
    "\n",
    "    # Plot NG methods\n",
    "    for i, method in enumerate(['base', 'binary', 'sum']):\n",
    "        values = [rank_counts[rank][('NG', method)] for rank in x_labels]\n",
    "        ax.bar(x_labels, values, label=f'NG-{method}', bottom=bottom_ng + bottom_mag, color=ng_colors[i])\n",
    "        bottom_ng += values\n",
    "\n",
    "    ax.set_xlabel('Rank')\n",
    "    ax.set_ylabel('Count')\n",
    "    ax.set_title('Stacked Distribution of Ranks Across Methods')\n",
    "    ax.legend()\n",
    "    ax.set_xticks(x_labels)\n",
    "\n",
    "    plt.show()\n",
    "\n",
    "# Call the function to visualize\n",
    "plot_stacked_rank_distribution(df)\n",
    "\n"
   ]
  },
  {
   "cell_type": "code",
   "execution_count": 292,
   "metadata": {
    "ExecuteTime": {
     "end_time": "2025-01-22T21:35:05.151333Z",
     "start_time": "2025-01-22T21:35:05.143116Z"
    }
   },
   "outputs": [],
   "source": [
    "def plot_horizontal_stacked_ranks(df, title):\n",
    "    \"\"\"\n",
    "    Creates a horizontal stacked bar chart showing the distribution of ranks per method.\n",
    "    \n",
    "    Parameters:\n",
    "        df (pd.DataFrame): MultiIndex DataFrame with ranking values.\n",
    "    \"\"\"\n",
    "    # Rank each row\n",
    "    ranked_df = df.rank(axis=1, method='min')\n",
    "\n",
    "    # Define colors for rank groups\n",
    "    right_colors = ['blue', 'deepskyblue', 'lightblue'][::-1]  # Ranks 1, 2, 3\n",
    "    left_colors = ['darkred', 'red', 'lightcoral'][::-1]        # Ranks 4, 5, 6\n",
    "\n",
    "    # Count occurrences of each rank per method\n",
    "    rank_counts = pd.DataFrame(0, index=df.columns, columns=range(1, 7))\n",
    "\n",
    "    for rank in range(1, 7):\n",
    "        rank_counts[rank] = (ranked_df == rank).sum(axis=0)\n",
    "\n",
    "    fig, ax = plt.subplots(figsize=(4, 4))\n",
    "    #return rank_counts\n",
    "\n",
    "    order = pd.DataFrame(rank_counts.apply(lambda y: np.sum([y[i]*i for i in rank_counts.columns]), axis=1).rank())\n",
    "    order = order.assign(idx=[i for i in range(6)])\n",
    "    rank_counts = rank_counts.iloc[order.sort_values(by=0, ascending=False).idx.values]\n",
    "    methods = rank_counts.index\n",
    "    y_pos = np.arange(len(methods))\n",
    "    # Plot the right-side (ranks 1, 2, 3)\n",
    "    right_cumsum = np.zeros(len(methods))\n",
    "    for i, rank in enumerate([3, 2, 1]):\n",
    "        values = rank_counts[rank].values\n",
    "        ax.barh(y_pos, values, left=3.5+right_cumsum, color=right_colors[i], label=f'Rank {rank}')\n",
    "        right_cumsum += values\n",
    "\n",
    "    # Plot the left-side (ranks 4, 5, 6)\n",
    "    left_cumsum = np.zeros(len(methods))\n",
    "    for i, rank in enumerate([6, 5, 4]):\n",
    "        values = rank_counts[rank].values\n",
    "        ax.barh(y_pos, -values, left=3.5-left_cumsum, color=left_colors[i], label=f'Rank {rank}')\n",
    "        left_cumsum += values\n",
    "\n",
    "    ax.set_yticks(y_pos)\n",
    "    ax.set_yticklabels([f'{group} - {norm}' for group, norm in methods])\n",
    "    ax.set_xlabel('Trait Counts')\n",
    "    ax.set_title(f'{title}: Stacked Horizontal Bar Chart of Ranks by Method')\n",
    "    ax.legend(loc='upper right')\n",
    "    ax.axvline(3.5, color='black', linestyle='--')  # Centerline at 3.5\n",
    "\n",
    "    plt.show()\n",
    "\n",
    "# Call the function to visualize\n",
    "\n",
    "\n"
   ]
  },
  {
   "cell_type": "code",
   "execution_count": 293,
   "metadata": {
    "ExecuteTime": {
     "end_time": "2025-01-22T21:35:07.602858Z",
     "start_time": "2025-01-22T21:35:07.436898Z"
    }
   },
   "outputs": [
    {
     "data": {
      "image/png": "[encoded data removed]",
      "text/plain": [
       "<Figure size 400x400 with 1 Axes>"
      ]
     },
     "metadata": {},
     "output_type": "display_data"
    }
   ],
   "source": [
    "df = all_df.pivot_table(columns=['Group', 'Norm'], index='StudyEFO', values='Mean_NPS', aggfunc='mean').dropna().rank(ascending=False, axis=1)\n",
    "plot_horizontal_stacked_ranks(df, 'Mean_NPS')"
   ]
  },
  {
   "cell_type": "code",
   "execution_count": 294,
   "metadata": {
    "ExecuteTime": {
     "end_time": "2025-01-22T21:35:09.628760Z",
     "start_time": "2025-01-22T21:35:09.458220Z"
    }
   },
   "outputs": [
    {
     "data": {
      "image/png": "[encoded data removed]",
      "text/plain": [
       "<Figure size 400x400 with 1 Axes>"
      ]
     },
     "metadata": {},
     "output_type": "display_data"
    }
   ],
   "source": [
    "df = all_df.pivot_table(columns=['Group', 'Norm'], index='StudyEFO', values='logp_nps', aggfunc='mean').dropna().rank(ascending=False, axis=1)\n",
    "plot_horizontal_stacked_ranks(df, 'LogP_NPS')"
   ]
  },
  {
   "cell_type": "code",
   "execution_count": 295,
   "metadata": {
    "ExecuteTime": {
     "end_time": "2025-01-22T21:35:11.551944Z",
     "start_time": "2025-01-22T21:35:11.380805Z"
    }
   },
   "outputs": [
    {
     "data": {
      "image/png": "[encoded data removed]",
      "text/plain": [
       "<Figure size 400x400 with 1 Axes>"
      ]
     },
     "metadata": {},
     "output_type": "display_data"
    }
   ],
   "source": [
    "df = all_df.pivot_table(columns=['Group', 'Norm'], index='StudyEFO', values='SizeOE', aggfunc='mean').dropna().rank(ascending=False, axis=1)\n",
    "plot_horizontal_stacked_ranks(df, 'SizeOE')"
   ]
  },
  {
   "cell_type": "code",
   "execution_count": 296,
   "metadata": {
    "ExecuteTime": {
     "end_time": "2025-01-22T21:35:13.053547Z",
     "start_time": "2025-01-22T21:35:12.886957Z"
    }
   },
   "outputs": [
    {
     "data": {
      "image/png": "[encoded data removed]",
      "text/plain": [
       "<Figure size 400x400 with 1 Axes>"
      ]
     },
     "metadata": {},
     "output_type": "display_data"
    }
   ],
   "source": [
    "df = all_df.pivot_table(columns=['Group', 'Norm'], index='StudyEFO', values='logp_size', aggfunc='mean').dropna().rank(ascending=False, axis=1)\n",
    "plot_horizontal_stacked_ranks(df, 'LogP_Size')"
   ]
  },
  {
   "cell_type": "code",
   "execution_count": 262,
   "metadata": {
    "ExecuteTime": {
     "end_time": "2025-01-22T20:48:22.991667Z",
     "start_time": "2025-01-22T20:48:22.987057Z"
    }
   },
   "outputs": [],
   "source": [
    "order = pd.DataFrame(x.apply(lambda y: np.sum([y[i]*i for i in x.columns]), axis=1).rank())\n",
    "order = order.assign(idx=[i for i in range(6)])"
   ]
  },
  {
   "cell_type": "code",
   "execution_count": 266,
   "metadata": {
    "ExecuteTime": {
     "end_time": "2025-01-22T20:48:42.886441Z",
     "start_time": "2025-01-22T20:48:42.883005Z"
    }
   },
   "outputs": [
    {
     "data": {
      "text/plain": [
       "array([5, 0, 2, 3, 4, 1])"
      ]
     },
     "execution_count": 266,
     "metadata": {},
     "output_type": "execute_result"
    }
   ],
   "source": [
    "order.sort_values(by=0).idx.values"
   ]
  },
  {
   "cell_type": "code",
   "execution_count": 274,
   "metadata": {
    "ExecuteTime": {
     "end_time": "2025-01-22T20:53:08.076305Z",
     "start_time": "2025-01-22T20:53:08.074530Z"
    }
   },
   "outputs": [],
   "source": [
    "x"
   ]
  },
  {
   "cell_type": "code",
   "execution_count": 204,
   "metadata": {
    "ExecuteTime": {
     "end_time": "2025-01-22T20:03:33.714139Z",
     "start_time": "2025-01-22T20:03:33.678554Z"
    }
   },
   "outputs": [
    {
     "data": {
      "text/html": [
       "<div>\n",
       "<style scoped>\n",
       "    .dataframe tbody tr th:only-of-type {\n",
       "        vertical-align: middle;\n",
       "    }\n",
       "\n",
       "    .dataframe tbody tr th {\n",
       "        vertical-align: top;\n",
       "    }\n",
       "\n",
       "    .dataframe thead tr th {\n",
       "        text-align: left;\n",
       "    }\n",
       "\n",
       "    .dataframe thead tr:last-of-type th {\n",
       "        text-align: right;\n",
       "    }\n",
       "</style>\n",
       "<table border=\"1\" class=\"dataframe\">\n",
       "  <thead>\n",
       "    <tr>\n",
       "      <th>Group</th>\n",
       "      <th colspan=\"9\" halign=\"left\">MAG</th>\n",
       "      <th colspan=\"9\" halign=\"left\">NG</th>\n",
       "    </tr>\n",
       "    <tr>\n",
       "      <th>Norm</th>\n",
       "      <th colspan=\"3\" halign=\"left\">base</th>\n",
       "      <th colspan=\"3\" halign=\"left\">binary</th>\n",
       "      <th colspan=\"3\" halign=\"left\">sum</th>\n",
       "      <th colspan=\"3\" halign=\"left\">base</th>\n",
       "      <th colspan=\"3\" halign=\"left\">binary</th>\n",
       "      <th colspan=\"3\" halign=\"left\">sum</th>\n",
       "    </tr>\n",
       "    <tr>\n",
       "      <th>repeat</th>\n",
       "      <th>1</th>\n",
       "      <th>2</th>\n",
       "      <th>3</th>\n",
       "      <th>1</th>\n",
       "      <th>2</th>\n",
       "      <th>3</th>\n",
       "      <th>1</th>\n",
       "      <th>2</th>\n",
       "      <th>3</th>\n",
       "      <th>1</th>\n",
       "      <th>2</th>\n",
       "      <th>3</th>\n",
       "      <th>1</th>\n",
       "      <th>2</th>\n",
       "      <th>3</th>\n",
       "      <th>1</th>\n",
       "      <th>2</th>\n",
       "      <th>3</th>\n",
       "    </tr>\n",
       "    <tr>\n",
       "      <th>StudyEFO</th>\n",
       "      <th></th>\n",
       "      <th></th>\n",
       "      <th></th>\n",
       "      <th></th>\n",
       "      <th></th>\n",
       "      <th></th>\n",
       "      <th></th>\n",
       "      <th></th>\n",
       "      <th></th>\n",
       "      <th></th>\n",
       "      <th></th>\n",
       "      <th></th>\n",
       "      <th></th>\n",
       "      <th></th>\n",
       "      <th></th>\n",
       "      <th></th>\n",
       "      <th></th>\n",
       "      <th></th>\n",
       "    </tr>\n",
       "  </thead>\n",
       "  <tbody>\n",
       "    <tr>\n",
       "      <th>GCST006366:EFO_0005213</th>\n",
       "      <td>12.0</td>\n",
       "      <td>17.0</td>\n",
       "      <td>15.0</td>\n",
       "      <td>9.0</td>\n",
       "      <td>11.0</td>\n",
       "      <td>5.0</td>\n",
       "      <td>13.0</td>\n",
       "      <td>16.0</td>\n",
       "      <td>14.0</td>\n",
       "      <td>2.0</td>\n",
       "      <td>8.0</td>\n",
       "      <td>4.0</td>\n",
       "      <td>6.0</td>\n",
       "      <td>10.0</td>\n",
       "      <td>18.0</td>\n",
       "      <td>1.0</td>\n",
       "      <td>7.0</td>\n",
       "      <td>3.0</td>\n",
       "    </tr>\n",
       "    <tr>\n",
       "      <th>GCST007459:EFO_0006525</th>\n",
       "      <td>5.0</td>\n",
       "      <td>9.0</td>\n",
       "      <td>6.0</td>\n",
       "      <td>2.0</td>\n",
       "      <td>3.0</td>\n",
       "      <td>1.0</td>\n",
       "      <td>4.0</td>\n",
       "      <td>7.0</td>\n",
       "      <td>8.0</td>\n",
       "      <td>11.0</td>\n",
       "      <td>12.0</td>\n",
       "      <td>16.0</td>\n",
       "      <td>15.0</td>\n",
       "      <td>17.0</td>\n",
       "      <td>18.0</td>\n",
       "      <td>10.0</td>\n",
       "      <td>13.0</td>\n",
       "      <td>14.0</td>\n",
       "    </tr>\n",
       "    <tr>\n",
       "      <th>GCST007710:EFO_0009863</th>\n",
       "      <td>6.0</td>\n",
       "      <td>11.0</td>\n",
       "      <td>8.0</td>\n",
       "      <td>2.0</td>\n",
       "      <td>5.0</td>\n",
       "      <td>1.0</td>\n",
       "      <td>7.0</td>\n",
       "      <td>12.0</td>\n",
       "      <td>9.0</td>\n",
       "      <td>4.0</td>\n",
       "      <td>16.0</td>\n",
       "      <td>15.0</td>\n",
       "      <td>10.0</td>\n",
       "      <td>18.0</td>\n",
       "      <td>13.0</td>\n",
       "      <td>3.0</td>\n",
       "      <td>17.0</td>\n",
       "      <td>14.0</td>\n",
       "    </tr>\n",
       "    <tr>\n",
       "      <th>GCST008062:EFO_0004741</th>\n",
       "      <td>6.0</td>\n",
       "      <td>5.0</td>\n",
       "      <td>9.0</td>\n",
       "      <td>2.0</td>\n",
       "      <td>3.0</td>\n",
       "      <td>1.0</td>\n",
       "      <td>7.0</td>\n",
       "      <td>4.0</td>\n",
       "      <td>8.0</td>\n",
       "      <td>16.0</td>\n",
       "      <td>18.0</td>\n",
       "      <td>13.0</td>\n",
       "      <td>12.0</td>\n",
       "      <td>10.0</td>\n",
       "      <td>11.0</td>\n",
       "      <td>15.0</td>\n",
       "      <td>17.0</td>\n",
       "      <td>14.0</td>\n",
       "    </tr>\n",
       "    <tr>\n",
       "      <th>GCST009414:EFO_0005213</th>\n",
       "      <td>14.0</td>\n",
       "      <td>15.0</td>\n",
       "      <td>12.0</td>\n",
       "      <td>18.0</td>\n",
       "      <td>13.0</td>\n",
       "      <td>10.0</td>\n",
       "      <td>17.0</td>\n",
       "      <td>16.0</td>\n",
       "      <td>11.0</td>\n",
       "      <td>2.0</td>\n",
       "      <td>4.0</td>\n",
       "      <td>7.0</td>\n",
       "      <td>6.0</td>\n",
       "      <td>1.0</td>\n",
       "      <td>9.0</td>\n",
       "      <td>3.0</td>\n",
       "      <td>5.0</td>\n",
       "      <td>8.0</td>\n",
       "    </tr>\n",
       "    <tr>\n",
       "      <th>GCST90016673:EFO_0010821</th>\n",
       "      <td>7.0</td>\n",
       "      <td>16.0</td>\n",
       "      <td>15.0</td>\n",
       "      <td>3.0</td>\n",
       "      <td>6.0</td>\n",
       "      <td>5.0</td>\n",
       "      <td>8.0</td>\n",
       "      <td>14.0</td>\n",
       "      <td>13.0</td>\n",
       "      <td>1.0</td>\n",
       "      <td>9.0</td>\n",
       "      <td>10.0</td>\n",
       "      <td>4.0</td>\n",
       "      <td>18.0</td>\n",
       "      <td>17.0</td>\n",
       "      <td>2.0</td>\n",
       "      <td>11.0</td>\n",
       "      <td>12.0</td>\n",
       "    </tr>\n",
       "    <tr>\n",
       "      <th>GCST90018627:EFO_0004237</th>\n",
       "      <td>4.0</td>\n",
       "      <td>8.0</td>\n",
       "      <td>7.0</td>\n",
       "      <td>2.0</td>\n",
       "      <td>3.0</td>\n",
       "      <td>1.0</td>\n",
       "      <td>5.0</td>\n",
       "      <td>9.0</td>\n",
       "      <td>6.0</td>\n",
       "      <td>13.0</td>\n",
       "      <td>11.0</td>\n",
       "      <td>14.0</td>\n",
       "      <td>16.5</td>\n",
       "      <td>16.5</td>\n",
       "      <td>18.0</td>\n",
       "      <td>10.0</td>\n",
       "      <td>12.0</td>\n",
       "      <td>15.0</td>\n",
       "    </tr>\n",
       "    <tr>\n",
       "      <th>GCST90018714:EFO_0000731</th>\n",
       "      <td>15.0</td>\n",
       "      <td>18.0</td>\n",
       "      <td>11.0</td>\n",
       "      <td>13.0</td>\n",
       "      <td>17.0</td>\n",
       "      <td>10.0</td>\n",
       "      <td>14.0</td>\n",
       "      <td>16.0</td>\n",
       "      <td>12.0</td>\n",
       "      <td>5.0</td>\n",
       "      <td>8.0</td>\n",
       "      <td>2.0</td>\n",
       "      <td>9.0</td>\n",
       "      <td>6.0</td>\n",
       "      <td>1.0</td>\n",
       "      <td>4.0</td>\n",
       "      <td>7.0</td>\n",
       "      <td>3.0</td>\n",
       "    </tr>\n",
       "    <tr>\n",
       "      <th>GCST90018728:EFO_0004741</th>\n",
       "      <td>7.0</td>\n",
       "      <td>4.0</td>\n",
       "      <td>9.0</td>\n",
       "      <td>3.0</td>\n",
       "      <td>1.0</td>\n",
       "      <td>2.0</td>\n",
       "      <td>6.0</td>\n",
       "      <td>5.0</td>\n",
       "      <td>8.0</td>\n",
       "      <td>14.0</td>\n",
       "      <td>13.0</td>\n",
       "      <td>17.0</td>\n",
       "      <td>10.0</td>\n",
       "      <td>11.0</td>\n",
       "      <td>16.0</td>\n",
       "      <td>15.0</td>\n",
       "      <td>12.0</td>\n",
       "      <td>18.0</td>\n",
       "    </tr>\n",
       "    <tr>\n",
       "      <th>GCST90092502:EFO_0007117</th>\n",
       "      <td>2.0</td>\n",
       "      <td>15.0</td>\n",
       "      <td>17.0</td>\n",
       "      <td>1.0</td>\n",
       "      <td>14.0</td>\n",
       "      <td>16.0</td>\n",
       "      <td>3.0</td>\n",
       "      <td>13.0</td>\n",
       "      <td>18.0</td>\n",
       "      <td>11.0</td>\n",
       "      <td>5.0</td>\n",
       "      <td>6.0</td>\n",
       "      <td>10.0</td>\n",
       "      <td>8.0</td>\n",
       "      <td>7.0</td>\n",
       "      <td>12.0</td>\n",
       "      <td>4.0</td>\n",
       "      <td>9.0</td>\n",
       "    </tr>\n",
       "    <tr>\n",
       "      <th>GCST90092503:EFO_0007117</th>\n",
       "      <td>15.0</td>\n",
       "      <td>17.0</td>\n",
       "      <td>9.0</td>\n",
       "      <td>13.0</td>\n",
       "      <td>16.0</td>\n",
       "      <td>8.0</td>\n",
       "      <td>14.0</td>\n",
       "      <td>18.0</td>\n",
       "      <td>12.0</td>\n",
       "      <td>3.0</td>\n",
       "      <td>10.0</td>\n",
       "      <td>5.0</td>\n",
       "      <td>1.0</td>\n",
       "      <td>7.0</td>\n",
       "      <td>4.0</td>\n",
       "      <td>2.0</td>\n",
       "      <td>11.0</td>\n",
       "      <td>6.0</td>\n",
       "    </tr>\n",
       "    <tr>\n",
       "      <th>GCST90092504:EFO_0007117</th>\n",
       "      <td>15.0</td>\n",
       "      <td>16.0</td>\n",
       "      <td>12.0</td>\n",
       "      <td>17.0</td>\n",
       "      <td>18.0</td>\n",
       "      <td>11.0</td>\n",
       "      <td>14.0</td>\n",
       "      <td>13.0</td>\n",
       "      <td>10.0</td>\n",
       "      <td>7.0</td>\n",
       "      <td>5.0</td>\n",
       "      <td>3.0</td>\n",
       "      <td>8.0</td>\n",
       "      <td>4.0</td>\n",
       "      <td>1.0</td>\n",
       "      <td>9.0</td>\n",
       "      <td>6.0</td>\n",
       "      <td>2.0</td>\n",
       "    </tr>\n",
       "    <tr>\n",
       "      <th>GCST90092505:EFO_0007117</th>\n",
       "      <td>11.0</td>\n",
       "      <td>1.0</td>\n",
       "      <td>4.0</td>\n",
       "      <td>10.0</td>\n",
       "      <td>3.0</td>\n",
       "      <td>6.0</td>\n",
       "      <td>12.0</td>\n",
       "      <td>2.0</td>\n",
       "      <td>5.0</td>\n",
       "      <td>8.0</td>\n",
       "      <td>17.0</td>\n",
       "      <td>15.0</td>\n",
       "      <td>7.0</td>\n",
       "      <td>18.0</td>\n",
       "      <td>13.0</td>\n",
       "      <td>9.0</td>\n",
       "      <td>16.0</td>\n",
       "      <td>14.0</td>\n",
       "    </tr>\n",
       "    <tr>\n",
       "      <th>GCST90093316:EFO_0004887</th>\n",
       "      <td>9.0</td>\n",
       "      <td>13.0</td>\n",
       "      <td>17.0</td>\n",
       "      <td>10.0</td>\n",
       "      <td>15.0</td>\n",
       "      <td>18.0</td>\n",
       "      <td>8.0</td>\n",
       "      <td>12.0</td>\n",
       "      <td>16.0</td>\n",
       "      <td>1.0</td>\n",
       "      <td>5.0</td>\n",
       "      <td>7.0</td>\n",
       "      <td>2.0</td>\n",
       "      <td>6.0</td>\n",
       "      <td>14.0</td>\n",
       "      <td>3.0</td>\n",
       "      <td>4.0</td>\n",
       "      <td>11.0</td>\n",
       "    </tr>\n",
       "    <tr>\n",
       "      <th>GCST90094960:EFO_0008036</th>\n",
       "      <td>17.0</td>\n",
       "      <td>15.0</td>\n",
       "      <td>10.0</td>\n",
       "      <td>18.0</td>\n",
       "      <td>11.0</td>\n",
       "      <td>12.0</td>\n",
       "      <td>16.0</td>\n",
       "      <td>14.0</td>\n",
       "      <td>13.0</td>\n",
       "      <td>6.0</td>\n",
       "      <td>4.0</td>\n",
       "      <td>8.0</td>\n",
       "      <td>2.0</td>\n",
       "      <td>1.0</td>\n",
       "      <td>7.0</td>\n",
       "      <td>5.0</td>\n",
       "      <td>3.0</td>\n",
       "      <td>9.0</td>\n",
       "    </tr>\n",
       "    <tr>\n",
       "      <th>GCST90100525:EFO_0006332</th>\n",
       "      <td>18.0</td>\n",
       "      <td>14.0</td>\n",
       "      <td>11.0</td>\n",
       "      <td>17.0</td>\n",
       "      <td>13.0</td>\n",
       "      <td>10.0</td>\n",
       "      <td>16.0</td>\n",
       "      <td>15.0</td>\n",
       "      <td>12.0</td>\n",
       "      <td>6.0</td>\n",
       "      <td>7.0</td>\n",
       "      <td>3.0</td>\n",
       "      <td>5.0</td>\n",
       "      <td>4.0</td>\n",
       "      <td>2.0</td>\n",
       "      <td>9.0</td>\n",
       "      <td>8.0</td>\n",
       "      <td>1.0</td>\n",
       "    </tr>\n",
       "    <tr>\n",
       "      <th>GCST90103632:EFO_0004741</th>\n",
       "      <td>6.0</td>\n",
       "      <td>4.0</td>\n",
       "      <td>9.0</td>\n",
       "      <td>2.0</td>\n",
       "      <td>1.0</td>\n",
       "      <td>3.0</td>\n",
       "      <td>7.0</td>\n",
       "      <td>5.0</td>\n",
       "      <td>8.0</td>\n",
       "      <td>11.0</td>\n",
       "      <td>14.0</td>\n",
       "      <td>17.0</td>\n",
       "      <td>12.0</td>\n",
       "      <td>13.0</td>\n",
       "      <td>16.0</td>\n",
       "      <td>10.0</td>\n",
       "      <td>15.0</td>\n",
       "      <td>18.0</td>\n",
       "    </tr>\n",
       "    <tr>\n",
       "      <th>GCST90103754:EFO_0004343</th>\n",
       "      <td>10.0</td>\n",
       "      <td>12.0</td>\n",
       "      <td>14.0</td>\n",
       "      <td>2.0</td>\n",
       "      <td>8.0</td>\n",
       "      <td>9.0</td>\n",
       "      <td>11.0</td>\n",
       "      <td>13.0</td>\n",
       "      <td>15.0</td>\n",
       "      <td>7.0</td>\n",
       "      <td>3.0</td>\n",
       "      <td>18.0</td>\n",
       "      <td>5.0</td>\n",
       "      <td>1.0</td>\n",
       "      <td>16.0</td>\n",
       "      <td>6.0</td>\n",
       "      <td>4.0</td>\n",
       "      <td>17.0</td>\n",
       "    </tr>\n",
       "    <tr>\n",
       "      <th>GCST90179151:EFO_0006525</th>\n",
       "      <td>7.0</td>\n",
       "      <td>9.0</td>\n",
       "      <td>6.0</td>\n",
       "      <td>2.0</td>\n",
       "      <td>3.0</td>\n",
       "      <td>1.0</td>\n",
       "      <td>4.0</td>\n",
       "      <td>8.0</td>\n",
       "      <td>5.0</td>\n",
       "      <td>13.0</td>\n",
       "      <td>11.0</td>\n",
       "      <td>18.0</td>\n",
       "      <td>15.0</td>\n",
       "      <td>14.0</td>\n",
       "      <td>16.0</td>\n",
       "      <td>12.0</td>\n",
       "      <td>10.0</td>\n",
       "      <td>17.0</td>\n",
       "    </tr>\n",
       "    <tr>\n",
       "      <th>GCST90267352:EFO_0010821</th>\n",
       "      <td>17.0</td>\n",
       "      <td>14.0</td>\n",
       "      <td>15.0</td>\n",
       "      <td>10.0</td>\n",
       "      <td>12.0</td>\n",
       "      <td>11.0</td>\n",
       "      <td>18.0</td>\n",
       "      <td>16.0</td>\n",
       "      <td>13.0</td>\n",
       "      <td>4.0</td>\n",
       "      <td>7.0</td>\n",
       "      <td>3.0</td>\n",
       "      <td>1.0</td>\n",
       "      <td>9.0</td>\n",
       "      <td>6.0</td>\n",
       "      <td>2.0</td>\n",
       "      <td>8.0</td>\n",
       "      <td>5.0</td>\n",
       "    </tr>\n",
       "    <tr>\n",
       "      <th>GCST90269581:EFO_0021898</th>\n",
       "      <td>7.0</td>\n",
       "      <td>6.0</td>\n",
       "      <td>8.0</td>\n",
       "      <td>3.0</td>\n",
       "      <td>2.0</td>\n",
       "      <td>1.0</td>\n",
       "      <td>4.0</td>\n",
       "      <td>9.0</td>\n",
       "      <td>5.0</td>\n",
       "      <td>12.0</td>\n",
       "      <td>13.0</td>\n",
       "      <td>15.0</td>\n",
       "      <td>18.0</td>\n",
       "      <td>16.0</td>\n",
       "      <td>10.0</td>\n",
       "      <td>11.0</td>\n",
       "      <td>17.0</td>\n",
       "      <td>14.0</td>\n",
       "    </tr>\n",
       "    <tr>\n",
       "      <th>GCST90278623:EFO_0004741</th>\n",
       "      <td>10.0</td>\n",
       "      <td>5.0</td>\n",
       "      <td>11.0</td>\n",
       "      <td>3.0</td>\n",
       "      <td>1.0</td>\n",
       "      <td>2.0</td>\n",
       "      <td>12.0</td>\n",
       "      <td>4.0</td>\n",
       "      <td>9.0</td>\n",
       "      <td>16.0</td>\n",
       "      <td>7.0</td>\n",
       "      <td>13.0</td>\n",
       "      <td>17.0</td>\n",
       "      <td>8.0</td>\n",
       "      <td>15.0</td>\n",
       "      <td>18.0</td>\n",
       "      <td>6.0</td>\n",
       "      <td>14.0</td>\n",
       "    </tr>\n",
       "    <tr>\n",
       "      <th>GCST90278649:EFO_0004343</th>\n",
       "      <td>8.0</td>\n",
       "      <td>7.0</td>\n",
       "      <td>5.0</td>\n",
       "      <td>3.0</td>\n",
       "      <td>2.0</td>\n",
       "      <td>1.0</td>\n",
       "      <td>9.0</td>\n",
       "      <td>6.0</td>\n",
       "      <td>4.0</td>\n",
       "      <td>13.0</td>\n",
       "      <td>16.0</td>\n",
       "      <td>18.0</td>\n",
       "      <td>12.0</td>\n",
       "      <td>10.0</td>\n",
       "      <td>11.0</td>\n",
       "      <td>15.0</td>\n",
       "      <td>14.0</td>\n",
       "      <td>17.0</td>\n",
       "    </tr>\n",
       "  </tbody>\n",
       "</table>\n",
       "</div>"
      ],
      "text/plain": [
       "Group                      MAG                                             \\\n",
       "Norm                      base             binary               sum         \n",
       "repeat                       1     2     3      1     2     3     1     2   \n",
       "StudyEFO                                                                    \n",
       "GCST006366:EFO_0005213    12.0  17.0  15.0    9.0  11.0   5.0  13.0  16.0   \n",
       "GCST007459:EFO_0006525     5.0   9.0   6.0    2.0   3.0   1.0   4.0   7.0   \n",
       "GCST007710:EFO_0009863     6.0  11.0   8.0    2.0   5.0   1.0   7.0  12.0   \n",
       "GCST008062:EFO_0004741     6.0   5.0   9.0    2.0   3.0   1.0   7.0   4.0   \n",
       "GCST009414:EFO_0005213    14.0  15.0  12.0   18.0  13.0  10.0  17.0  16.0   \n",
       "GCST90016673:EFO_0010821   7.0  16.0  15.0    3.0   6.0   5.0   8.0  14.0   \n",
       "GCST90018627:EFO_0004237   4.0   8.0   7.0    2.0   3.0   1.0   5.0   9.0   \n",
       "GCST90018714:EFO_0000731  15.0  18.0  11.0   13.0  17.0  10.0  14.0  16.0   \n",
       "GCST90018728:EFO_0004741   7.0   4.0   9.0    3.0   1.0   2.0   6.0   5.0   \n",
       "GCST90092502:EFO_0007117   2.0  15.0  17.0    1.0  14.0  16.0   3.0  13.0   \n",
       "GCST90092503:EFO_0007117  15.0  17.0   9.0   13.0  16.0   8.0  14.0  18.0   \n",
       "GCST90092504:EFO_0007117  15.0  16.0  12.0   17.0  18.0  11.0  14.0  13.0   \n",
       "GCST90092505:EFO_0007117  11.0   1.0   4.0   10.0   3.0   6.0  12.0   2.0   \n",
       "GCST90093316:EFO_0004887   9.0  13.0  17.0   10.0  15.0  18.0   8.0  12.0   \n",
       "GCST90094960:EFO_0008036  17.0  15.0  10.0   18.0  11.0  12.0  16.0  14.0   \n",
       "GCST90100525:EFO_0006332  18.0  14.0  11.0   17.0  13.0  10.0  16.0  15.0   \n",
       "GCST90103632:EFO_0004741   6.0   4.0   9.0    2.0   1.0   3.0   7.0   5.0   \n",
       "GCST90103754:EFO_0004343  10.0  12.0  14.0    2.0   8.0   9.0  11.0  13.0   \n",
       "GCST90179151:EFO_0006525   7.0   9.0   6.0    2.0   3.0   1.0   4.0   8.0   \n",
       "GCST90267352:EFO_0010821  17.0  14.0  15.0   10.0  12.0  11.0  18.0  16.0   \n",
       "GCST90269581:EFO_0021898   7.0   6.0   8.0    3.0   2.0   1.0   4.0   9.0   \n",
       "GCST90278623:EFO_0004741  10.0   5.0  11.0    3.0   1.0   2.0  12.0   4.0   \n",
       "GCST90278649:EFO_0004343   8.0   7.0   5.0    3.0   2.0   1.0   9.0   6.0   \n",
       "\n",
       "Group                             NG                                       \\\n",
       "Norm                            base             binary               sum   \n",
       "repeat                       3     1     2     3      1     2     3     1   \n",
       "StudyEFO                                                                    \n",
       "GCST006366:EFO_0005213    14.0   2.0   8.0   4.0    6.0  10.0  18.0   1.0   \n",
       "GCST007459:EFO_0006525     8.0  11.0  12.0  16.0   15.0  17.0  18.0  10.0   \n",
       "GCST007710:EFO_0009863     9.0   4.0  16.0  15.0   10.0  18.0  13.0   3.0   \n",
       "GCST008062:EFO_0004741     8.0  16.0  18.0  13.0   12.0  10.0  11.0  15.0   \n",
       "GCST009414:EFO_0005213    11.0   2.0   4.0   7.0    6.0   1.0   9.0   3.0   \n",
       "GCST90016673:EFO_0010821  13.0   1.0   9.0  10.0    4.0  18.0  17.0   2.0   \n",
       "GCST90018627:EFO_0004237   6.0  13.0  11.0  14.0   16.5  16.5  18.0  10.0   \n",
       "GCST90018714:EFO_0000731  12.0   5.0   8.0   2.0    9.0   6.0   1.0   4.0   \n",
       "GCST90018728:EFO_0004741   8.0  14.0  13.0  17.0   10.0  11.0  16.0  15.0   \n",
       "GCST90092502:EFO_0007117  18.0  11.0   5.0   6.0   10.0   8.0   7.0  12.0   \n",
       "GCST90092503:EFO_0007117  12.0   3.0  10.0   5.0    1.0   7.0   4.0   2.0   \n",
       "GCST90092504:EFO_0007117  10.0   7.0   5.0   3.0    8.0   4.0   1.0   9.0   \n",
       "GCST90092505:EFO_0007117   5.0   8.0  17.0  15.0    7.0  18.0  13.0   9.0   \n",
       "GCST90093316:EFO_0004887  16.0   1.0   5.0   7.0    2.0   6.0  14.0   3.0   \n",
       "GCST90094960:EFO_0008036  13.0   6.0   4.0   8.0    2.0   1.0   7.0   5.0   \n",
       "GCST90100525:EFO_0006332  12.0   6.0   7.0   3.0    5.0   4.0   2.0   9.0   \n",
       "GCST90103632:EFO_0004741   8.0  11.0  14.0  17.0   12.0  13.0  16.0  10.0   \n",
       "GCST90103754:EFO_0004343  15.0   7.0   3.0  18.0    5.0   1.0  16.0   6.0   \n",
       "GCST90179151:EFO_0006525   5.0  13.0  11.0  18.0   15.0  14.0  16.0  12.0   \n",
       "GCST90267352:EFO_0010821  13.0   4.0   7.0   3.0    1.0   9.0   6.0   2.0   \n",
       "GCST90269581:EFO_0021898   5.0  12.0  13.0  15.0   18.0  16.0  10.0  11.0   \n",
       "GCST90278623:EFO_0004741   9.0  16.0   7.0  13.0   17.0   8.0  15.0  18.0   \n",
       "GCST90278649:EFO_0004343   4.0  13.0  16.0  18.0   12.0  10.0  11.0  15.0   \n",
       "\n",
       "Group                                 \n",
       "Norm                                  \n",
       "repeat                       2     3  \n",
       "StudyEFO                              \n",
       "GCST006366:EFO_0005213     7.0   3.0  \n",
       "GCST007459:EFO_0006525    13.0  14.0  \n",
       "GCST007710:EFO_0009863    17.0  14.0  \n",
       "GCST008062:EFO_0004741    17.0  14.0  \n",
       "GCST009414:EFO_0005213     5.0   8.0  \n",
       "GCST90016673:EFO_0010821  11.0  12.0  \n",
       "GCST90018627:EFO_0004237  12.0  15.0  \n",
       "GCST90018714:EFO_0000731   7.0   3.0  \n",
       "GCST90018728:EFO_0004741  12.0  18.0  \n",
       "GCST90092502:EFO_0007117   4.0   9.0  \n",
       "GCST90092503:EFO_0007117  11.0   6.0  \n",
       "GCST90092504:EFO_0007117   6.0   2.0  \n",
       "GCST90092505:EFO_0007117  16.0  14.0  \n",
       "GCST90093316:EFO_0004887   4.0  11.0  \n",
       "GCST90094960:EFO_0008036   3.0   9.0  \n",
       "GCST90100525:EFO_0006332   8.0   1.0  \n",
       "GCST90103632:EFO_0004741  15.0  18.0  \n",
       "GCST90103754:EFO_0004343   4.0  17.0  \n",
       "GCST90179151:EFO_0006525  10.0  17.0  \n",
       "GCST90267352:EFO_0010821   8.0   5.0  \n",
       "GCST90269581:EFO_0021898  17.0  14.0  \n",
       "GCST90278623:EFO_0004741   6.0  14.0  \n",
       "GCST90278649:EFO_0004343  14.0  17.0  "
      ]
     },
     "execution_count": 204,
     "metadata": {},
     "output_type": "execute_result"
    }
   ],
   "source": [
    "all_df.pivot_table(columns=['Group', 'Norm', 'repeat'], index='StudyEFO', values='Mean_NPS').dropna().rank(axis=1, ascending=False)"
   ]
  },
  {
   "cell_type": "code",
   "execution_count": 202,
   "metadata": {
    "ExecuteTime": {
     "end_time": "2025-01-22T20:03:12.322971Z",
     "start_time": "2025-01-22T20:03:12.312583Z"
    }
   },
   "outputs": [
    {
     "data": {
      "text/plain": [
       "Group  Norm  \n",
       "MAG    base      10.420290\n",
       "       binary     7.115942\n",
       "       sum       10.289855\n",
       "NG     base       9.507246\n",
       "       binary     9.985507\n",
       "       sum        9.681159\n",
       "dtype: float64"
      ]
     },
     "execution_count": 202,
     "metadata": {},
     "output_type": "execute_result"
    }
   ],
   "source": [
    "all_df.pivot_table(columns=['Group', 'Norm', 'repeat'], index='StudyEFO', values='Mean_NPS').dropna().rank(axis=1, ascending=False).mean().groupby(['Group', 'Norm']).mean()"
   ]
  },
  {
   "cell_type": "code",
   "execution_count": 201,
   "metadata": {
    "ExecuteTime": {
     "end_time": "2025-01-22T20:00:37.344822Z",
     "start_time": "2025-01-22T20:00:37.208664Z"
    }
   },
   "outputs": [
    {
     "data": {
      "text/plain": [
       "<Axes: xlabel='Norm', ylabel='0'>"
      ]
     },
     "execution_count": 201,
     "metadata": {},
     "output_type": "execute_result"
    },
    {
     "data": {
      "image/png": "[encoded data removed]",
      "text/plain": [
       "<Figure size 640x480 with 1 Axes>"
      ]
     },
     "metadata": {},
     "output_type": "display_data"
    }
   ],
   "source": [
    "sns.barplot(pd.DataFrame(all_df.pivot_table(columns=['Group', 'Norm', 'repeat'], index='StudyEFO', values='logp_nps').dropna().rank(axis=1, ascending=False).mean().groupby(['Group', 'Norm']).mean()).reset_index(), x='Norm', y=0,hue='Group' )"
   ]
  },
  {
   "cell_type": "code",
   "execution_count": 187,
   "metadata": {
    "ExecuteTime": {
     "end_time": "2025-01-22T19:56:20.917276Z",
     "start_time": "2025-01-22T19:56:20.905097Z"
    }
   },
   "outputs": [
    {
     "data": {
      "text/plain": [
       "Group  Norm  \n",
       "MAG    base       9.579710\n",
       "       binary    12.536232\n",
       "       sum        9.550725\n",
       "NG     base       8.202899\n",
       "       binary     8.971014\n",
       "       sum        8.159420\n",
       "dtype: float64"
      ]
     },
     "execution_count": 187,
     "metadata": {},
     "output_type": "execute_result"
    }
   ],
   "source": [
    "all_df.pivot_table(columns=['Group', 'Norm', 'repeat'], index='StudyEFO', values='SizeOE').dropna().rank(axis=1, ascending=False).mean().groupby(['Group', 'Norm']).mean()"
   ]
  },
  {
   "cell_type": "code",
   "execution_count": 188,
   "metadata": {
    "ExecuteTime": {
     "end_time": "2025-01-22T19:56:29.606261Z",
     "start_time": "2025-01-22T19:56:29.595469Z"
    }
   },
   "outputs": [
    {
     "data": {
      "text/plain": [
       "Group  Norm  \n",
       "MAG    base      10.530303\n",
       "       binary    11.075758\n",
       "       sum       10.606061\n",
       "NG     base       8.037879\n",
       "       binary     8.704545\n",
       "       sum        8.045455\n",
       "dtype: float64"
      ]
     },
     "execution_count": 188,
     "metadata": {},
     "output_type": "execute_result"
    }
   ],
   "source": [
    "all_df.pivot_table(columns=['Group', 'Norm', 'repeat'], index='StudyEFO', values='logp_size').dropna().rank(axis=1, ascending=False).mean().groupby(['Group', 'Norm']).mean()"
   ]
  },
  {
   "cell_type": "code",
   "execution_count": 174,
   "metadata": {
    "ExecuteTime": {
     "end_time": "2025-01-22T19:52:34.691095Z",
     "start_time": "2025-01-22T19:52:34.680734Z"
    }
   },
   "outputs": [
    {
     "data": {
      "text/plain": [
       "Norm\n",
       "base      9.963768\n",
       "binary    8.550725\n",
       "sum       9.985507\n",
       "dtype: float64"
      ]
     },
     "execution_count": 174,
     "metadata": {},
     "output_type": "execute_result"
    }
   ],
   "source": [
    "all_df.pivot_table(columns=['Group', 'Norm', 'repeat'], index='StudyEFO', values='Mean_NPS').dropna().rank(axis=1, ascending=False).mean().groupby('Norm').mean()\n"
   ]
  },
  {
   "cell_type": "code",
   "execution_count": 142,
   "metadata": {
    "ExecuteTime": {
     "end_time": "2025-01-22T19:36:53.687462Z",
     "start_time": "2025-01-22T19:36:53.678172Z"
    }
   },
   "outputs": [
    {
     "data": {
      "text/plain": [
       "Norm\n",
       "base      5.944444\n",
       "binary    3.236111\n",
       "sum       5.819444\n",
       "dtype: float64"
      ]
     },
     "execution_count": 142,
     "metadata": {},
     "output_type": "execute_result"
    }
   ],
   "source": [
    "mag_all.pivot_table(columns=['Norm', 'repeat'], index='TraitR', values='Mean_NPS').dropna().rank(axis=1, ascending=False).mean().groupby('Norm').mean()"
   ]
  },
  {
   "cell_type": "code",
   "execution_count": 137,
   "metadata": {
    "ExecuteTime": {
     "end_time": "2025-01-22T19:32:09.226061Z",
     "start_time": "2025-01-22T19:32:09.215180Z"
    }
   },
   "outputs": [
    {
     "data": {
      "text/plain": [
       "Norm\n",
       "base      4.809524\n",
       "binary    5.357143\n",
       "sum       4.833333\n",
       "dtype: float64"
      ]
     },
     "execution_count": 137,
     "metadata": {},
     "output_type": "execute_result"
    }
   ],
   "source": [
    "ng_all.pivot_table(columns=['Norm', 'repeat'], index='TraitR', values='logp_nps').dropna().rank(axis=1, ascending=False).mean().groupby('Norm').mean()"
   ]
  },
  {
   "cell_type": "code",
   "execution_count": 143,
   "metadata": {
    "ExecuteTime": {
     "end_time": "2025-01-22T19:37:13.224507Z",
     "start_time": "2025-01-22T19:37:13.215164Z"
    }
   },
   "outputs": [
    {
     "data": {
      "text/plain": [
       "Norm\n",
       "base      4.086957\n",
       "binary    6.695652\n",
       "sum       4.217391\n",
       "dtype: float64"
      ]
     },
     "execution_count": 143,
     "metadata": {},
     "output_type": "execute_result"
    }
   ],
   "source": [
    "mag_all.pivot_table(columns=['Norm', 'repeat'], index='TraitR', values='logp_nps').dropna().rank(axis=1, ascending=False).mean().groupby('Norm').mean()"
   ]
  },
  {
   "cell_type": "code",
   "execution_count": 140,
   "metadata": {
    "ExecuteTime": {
     "end_time": "2025-01-22T19:32:57.052279Z",
     "start_time": "2025-01-22T19:32:57.041536Z"
    }
   },
   "outputs": [
    {
     "data": {
      "text/plain": [
       "Norm\n",
       "base      4.884058\n",
       "binary    5.304348\n",
       "sum       4.811594\n",
       "dtype: float64"
      ]
     },
     "execution_count": 140,
     "metadata": {},
     "output_type": "execute_result"
    }
   ],
   "source": [
    "ng_all.pivot_table(columns=['Norm', 'repeat'], index='TraitR', values='SizeOE').dropna().rank(axis=1, ascending=False).mean().groupby('Norm').mean()"
   ]
  },
  {
   "cell_type": "code",
   "execution_count": 144,
   "metadata": {
    "ExecuteTime": {
     "end_time": "2025-01-22T19:37:31.681876Z",
     "start_time": "2025-01-22T19:37:31.670249Z"
    }
   },
   "outputs": [
    {
     "data": {
      "text/plain": [
       "Norm\n",
       "base      4.250000\n",
       "binary    6.694444\n",
       "sum       4.055556\n",
       "dtype: float64"
      ]
     },
     "execution_count": 144,
     "metadata": {},
     "output_type": "execute_result"
    }
   ],
   "source": [
    "mag_all.pivot_table(columns=['Norm', 'repeat'], index='TraitR', values='SizeOE').dropna().rank(axis=1, ascending=False).mean().groupby('Norm').mean()"
   ]
  },
  {
   "cell_type": "code",
   "execution_count": 157,
   "metadata": {
    "ExecuteTime": {
     "end_time": "2025-01-22T19:46:23.094079Z",
     "start_time": "2025-01-22T19:46:23.083926Z"
    }
   },
   "outputs": [
    {
     "data": {
      "text/plain": [
       "Norm\n",
       "base      4.891304\n",
       "binary    5.282609\n",
       "sum       4.826087\n",
       "dtype: float64"
      ]
     },
     "execution_count": 157,
     "metadata": {},
     "output_type": "execute_result"
    }
   ],
   "source": [
    "ng_all.pivot_table(columns=['Norm', 'repeat'], index='TraitR', values='logp_size').dropna().rank(axis=1, ascending=False).mean().groupby('Norm').mean()\n"
   ]
  },
  {
   "cell_type": "code",
   "execution_count": 158,
   "metadata": {
    "ExecuteTime": {
     "end_time": "2025-01-22T19:46:27.125142Z",
     "start_time": "2025-01-22T19:46:27.115776Z"
    }
   },
   "outputs": [
    {
     "data": {
      "text/plain": [
       "Norm\n",
       "base      4.811594\n",
       "binary    5.376812\n",
       "sum       4.811594\n",
       "dtype: float64"
      ]
     },
     "execution_count": 158,
     "metadata": {},
     "output_type": "execute_result"
    }
   ],
   "source": [
    "mag_all.pivot_table(columns=['Norm', 'repeat'], index='TraitR', values='logp_size').dropna().rank(axis=1, ascending=False).mean().groupby('Norm').mean()"
   ]
  },
  {
   "cell_type": "code",
   "execution_count": 161,
   "metadata": {
    "ExecuteTime": {
     "end_time": "2025-01-22T19:47:18.645933Z",
     "start_time": "2025-01-22T19:47:18.635907Z"
    }
   },
   "outputs": [
    {
     "data": {
      "text/html": [
       "<div>\n",
       "<style scoped>\n",
       "    .dataframe tbody tr th:only-of-type {\n",
       "        vertical-align: middle;\n",
       "    }\n",
       "\n",
       "    .dataframe tbody tr th {\n",
       "        vertical-align: top;\n",
       "    }\n",
       "\n",
       "    .dataframe thead th {\n",
       "        text-align: right;\n",
       "    }\n",
       "</style>\n",
       "<table border=\"1\" class=\"dataframe\">\n",
       "  <thead>\n",
       "    <tr style=\"text-align: right;\">\n",
       "      <th></th>\n",
       "      <th>TraitR</th>\n",
       "      <th>TraitC</th>\n",
       "      <th>Network</th>\n",
       "      <th>Transform</th>\n",
       "      <th>Norm</th>\n",
       "      <th>Mean_NPS</th>\n",
       "      <th>Null_mean_NPS</th>\n",
       "      <th>P_mean_NPS</th>\n",
       "      <th>Size</th>\n",
       "      <th>Null_Size</th>\n",
       "      <th>P_size</th>\n",
       "      <th>repeat</th>\n",
       "      <th>logp_nps</th>\n",
       "      <th>logp_size</th>\n",
       "      <th>SizeOE</th>\n",
       "    </tr>\n",
       "  </thead>\n",
       "  <tbody>\n",
       "    <tr>\n",
       "      <th>0</th>\n",
       "      <td>magma_th103_GCST001791_EFO_0004531</td>\n",
       "      <td>magma_th103_GCST001791_EFO_0004531</td>\n",
       "      <td>pcnet2_0</td>\n",
       "      <td>neglog10</td>\n",
       "      <td>binary</td>\n",
       "      <td>0.320161</td>\n",
       "      <td>0.001831</td>\n",
       "      <td>5.508000e-81</td>\n",
       "      <td>481</td>\n",
       "      <td>259.892</td>\n",
       "      <td>1.212000e-54</td>\n",
       "      <td>1</td>\n",
       "      <td>80.259006</td>\n",
       "      <td>53.916497</td>\n",
       "      <td>1.850769</td>\n",
       "    </tr>\n",
       "    <tr>\n",
       "      <th>1</th>\n",
       "      <td>magma_th103_GCST006366_EFO_0005213</td>\n",
       "      <td>magma_th103_GCST006366_EFO_0005213</td>\n",
       "      <td>pcnet2_0</td>\n",
       "      <td>neglog10</td>\n",
       "      <td>binary</td>\n",
       "      <td>0.190775</td>\n",
       "      <td>0.000059</td>\n",
       "      <td>1.651000e-69</td>\n",
       "      <td>383</td>\n",
       "      <td>246.133</td>\n",
       "      <td>2.023000e-22</td>\n",
       "      <td>1</td>\n",
       "      <td>68.782253</td>\n",
       "      <td>21.694004</td>\n",
       "      <td>1.556069</td>\n",
       "    </tr>\n",
       "    <tr>\n",
       "      <th>2</th>\n",
       "      <td>magma_th103_GCST006891_EFO_0009397</td>\n",
       "      <td>magma_th103_GCST006891_EFO_0009397</td>\n",
       "      <td>pcnet2_0</td>\n",
       "      <td>neglog10</td>\n",
       "      <td>binary</td>\n",
       "      <td>0.034302</td>\n",
       "      <td>-0.005910</td>\n",
       "      <td>7.516000e-06</td>\n",
       "      <td>203</td>\n",
       "      <td>214.323</td>\n",
       "      <td>8.088000e-01</td>\n",
       "      <td>1</td>\n",
       "      <td>5.124013</td>\n",
       "      <td>0.092159</td>\n",
       "      <td>0.947169</td>\n",
       "    </tr>\n",
       "    <tr>\n",
       "      <th>3</th>\n",
       "      <td>magma_th103_GCST007367_EFO_0004608</td>\n",
       "      <td>magma_th103_GCST007367_EFO_0004608</td>\n",
       "      <td>pcnet2_0</td>\n",
       "      <td>neglog10</td>\n",
       "      <td>binary</td>\n",
       "      <td>0.060020</td>\n",
       "      <td>0.001218</td>\n",
       "      <td>1.570000e-12</td>\n",
       "      <td>272</td>\n",
       "      <td>220.020</td>\n",
       "      <td>7.390000e-05</td>\n",
       "      <td>1</td>\n",
       "      <td>11.804100</td>\n",
       "      <td>4.131356</td>\n",
       "      <td>1.236251</td>\n",
       "    </tr>\n",
       "    <tr>\n",
       "      <th>4</th>\n",
       "      <td>magma_th103_GCST007459_EFO_0006525</td>\n",
       "      <td>magma_th103_GCST007459_EFO_0006525</td>\n",
       "      <td>pcnet2_0</td>\n",
       "      <td>neglog10</td>\n",
       "      <td>binary</td>\n",
       "      <td>0.632710</td>\n",
       "      <td>0.000721</td>\n",
       "      <td>7.355000e-217</td>\n",
       "      <td>463</td>\n",
       "      <td>304.519</td>\n",
       "      <td>3.098000e-25</td>\n",
       "      <td>1</td>\n",
       "      <td>216.133417</td>\n",
       "      <td>24.508919</td>\n",
       "      <td>1.520431</td>\n",
       "    </tr>\n",
       "  </tbody>\n",
       "</table>\n",
       "</div>"
      ],
      "text/plain": [
       "                               TraitR                              TraitC  \\\n",
       "0  magma_th103_GCST001791_EFO_0004531  magma_th103_GCST001791_EFO_0004531   \n",
       "1  magma_th103_GCST006366_EFO_0005213  magma_th103_GCST006366_EFO_0005213   \n",
       "2  magma_th103_GCST006891_EFO_0009397  magma_th103_GCST006891_EFO_0009397   \n",
       "3  magma_th103_GCST007367_EFO_0004608  magma_th103_GCST007367_EFO_0004608   \n",
       "4  magma_th103_GCST007459_EFO_0006525  magma_th103_GCST007459_EFO_0006525   \n",
       "\n",
       "    Network Transform    Norm  Mean_NPS  Null_mean_NPS     P_mean_NPS  Size  \\\n",
       "0  pcnet2_0  neglog10  binary  0.320161       0.001831   5.508000e-81   481   \n",
       "1  pcnet2_0  neglog10  binary  0.190775       0.000059   1.651000e-69   383   \n",
       "2  pcnet2_0  neglog10  binary  0.034302      -0.005910   7.516000e-06   203   \n",
       "3  pcnet2_0  neglog10  binary  0.060020       0.001218   1.570000e-12   272   \n",
       "4  pcnet2_0  neglog10  binary  0.632710       0.000721  7.355000e-217   463   \n",
       "\n",
       "   Null_Size        P_size  repeat    logp_nps  logp_size    SizeOE  \n",
       "0    259.892  1.212000e-54       1   80.259006  53.916497  1.850769  \n",
       "1    246.133  2.023000e-22       1   68.782253  21.694004  1.556069  \n",
       "2    214.323  8.088000e-01       1    5.124013   0.092159  0.947169  \n",
       "3    220.020  7.390000e-05       1   11.804100   4.131356  1.236251  \n",
       "4    304.519  3.098000e-25       1  216.133417  24.508919  1.520431  "
      ]
     },
     "execution_count": 161,
     "metadata": {},
     "output_type": "execute_result"
    }
   ],
   "source": [
    "mag_all.head()"
   ]
  },
  {
   "cell_type": "code",
   "execution_count": 160,
   "metadata": {
    "ExecuteTime": {
     "end_time": "2025-01-22T19:46:49.462422Z",
     "start_time": "2025-01-22T19:46:49.446154Z"
    }
   },
   "outputs": [
    {
     "data": {
      "text/html": [
       "<div>\n",
       "<style scoped>\n",
       "    .dataframe tbody tr th:only-of-type {\n",
       "        vertical-align: middle;\n",
       "    }\n",
       "\n",
       "    .dataframe tbody tr th {\n",
       "        vertical-align: top;\n",
       "    }\n",
       "\n",
       "    .dataframe thead tr th {\n",
       "        text-align: left;\n",
       "    }\n",
       "\n",
       "    .dataframe thead tr:last-of-type th {\n",
       "        text-align: right;\n",
       "    }\n",
       "</style>\n",
       "<table border=\"1\" class=\"dataframe\">\n",
       "  <thead>\n",
       "    <tr>\n",
       "      <th>Norm</th>\n",
       "      <th colspan=\"3\" halign=\"left\">base</th>\n",
       "      <th colspan=\"3\" halign=\"left\">binary</th>\n",
       "      <th colspan=\"3\" halign=\"left\">sum</th>\n",
       "    </tr>\n",
       "    <tr>\n",
       "      <th>repeat</th>\n",
       "      <th>1</th>\n",
       "      <th>2</th>\n",
       "      <th>3</th>\n",
       "      <th>1</th>\n",
       "      <th>2</th>\n",
       "      <th>3</th>\n",
       "      <th>1</th>\n",
       "      <th>2</th>\n",
       "      <th>3</th>\n",
       "    </tr>\n",
       "    <tr>\n",
       "      <th>TraitR</th>\n",
       "      <th></th>\n",
       "      <th></th>\n",
       "      <th></th>\n",
       "      <th></th>\n",
       "      <th></th>\n",
       "      <th></th>\n",
       "      <th></th>\n",
       "      <th></th>\n",
       "      <th></th>\n",
       "    </tr>\n",
       "  </thead>\n",
       "  <tbody>\n",
       "    <tr>\n",
       "      <th>magma_th103_GCST006366_EFO_0005213</th>\n",
       "      <td>32.777024</td>\n",
       "      <td>34.334325</td>\n",
       "      <td>44.094636</td>\n",
       "      <td>21.694004</td>\n",
       "      <td>14.476644</td>\n",
       "      <td>31.174899</td>\n",
       "      <td>34.198665</td>\n",
       "      <td>30.845576</td>\n",
       "      <td>45.636200</td>\n",
       "    </tr>\n",
       "    <tr>\n",
       "      <th>magma_th103_GCST007459_EFO_0006525</th>\n",
       "      <td>37.862329</td>\n",
       "      <td>19.322028</td>\n",
       "      <td>17.227605</td>\n",
       "      <td>24.508919</td>\n",
       "      <td>20.260982</td>\n",
       "      <td>15.370896</td>\n",
       "      <td>35.455684</td>\n",
       "      <td>20.216454</td>\n",
       "      <td>15.971022</td>\n",
       "    </tr>\n",
       "    <tr>\n",
       "      <th>magma_th103_GCST007710_EFO_0009863</th>\n",
       "      <td>13.710411</td>\n",
       "      <td>6.547907</td>\n",
       "      <td>8.521145</td>\n",
       "      <td>10.721475</td>\n",
       "      <td>5.297311</td>\n",
       "      <td>13.222646</td>\n",
       "      <td>13.935917</td>\n",
       "      <td>5.622148</td>\n",
       "      <td>10.191992</td>\n",
       "    </tr>\n",
       "    <tr>\n",
       "      <th>magma_th103_GCST008062_EFO_0004741</th>\n",
       "      <td>27.822752</td>\n",
       "      <td>34.852633</td>\n",
       "      <td>25.039054</td>\n",
       "      <td>31.768276</td>\n",
       "      <td>34.412851</td>\n",
       "      <td>48.823619</td>\n",
       "      <td>30.517698</td>\n",
       "      <td>39.324955</td>\n",
       "      <td>28.140922</td>\n",
       "    </tr>\n",
       "    <tr>\n",
       "      <th>magma_th103_GCST009414_EFO_0005213</th>\n",
       "      <td>34.964570</td>\n",
       "      <td>22.118216</td>\n",
       "      <td>49.395882</td>\n",
       "      <td>32.117646</td>\n",
       "      <td>26.365321</td>\n",
       "      <td>34.177505</td>\n",
       "      <td>34.809949</td>\n",
       "      <td>28.282579</td>\n",
       "      <td>47.374173</td>\n",
       "    </tr>\n",
       "    <tr>\n",
       "      <th>magma_th103_GCST010572_EFO_0010156</th>\n",
       "      <td>23.149293</td>\n",
       "      <td>20.385103</td>\n",
       "      <td>43.802995</td>\n",
       "      <td>5.425969</td>\n",
       "      <td>6.847406</td>\n",
       "      <td>26.870955</td>\n",
       "      <td>22.489991</td>\n",
       "      <td>21.428408</td>\n",
       "      <td>47.411953</td>\n",
       "    </tr>\n",
       "    <tr>\n",
       "      <th>magma_th103_GCST90016673_EFO_0010821</th>\n",
       "      <td>37.207678</td>\n",
       "      <td>22.296107</td>\n",
       "      <td>21.982967</td>\n",
       "      <td>30.809388</td>\n",
       "      <td>14.607127</td>\n",
       "      <td>24.106016</td>\n",
       "      <td>35.024522</td>\n",
       "      <td>23.344190</td>\n",
       "      <td>18.968188</td>\n",
       "    </tr>\n",
       "    <tr>\n",
       "      <th>magma_th103_GCST90018714_EFO_0000731</th>\n",
       "      <td>1.650140</td>\n",
       "      <td>2.342848</td>\n",
       "      <td>1.399463</td>\n",
       "      <td>3.134304</td>\n",
       "      <td>0.362610</td>\n",
       "      <td>0.486516</td>\n",
       "      <td>2.351347</td>\n",
       "      <td>2.395018</td>\n",
       "      <td>0.775467</td>\n",
       "    </tr>\n",
       "    <tr>\n",
       "      <th>magma_th103_GCST90018728_EFO_0004741</th>\n",
       "      <td>22.245422</td>\n",
       "      <td>17.842241</td>\n",
       "      <td>14.731656</td>\n",
       "      <td>21.052910</td>\n",
       "      <td>10.771343</td>\n",
       "      <td>10.480434</td>\n",
       "      <td>21.488518</td>\n",
       "      <td>17.037868</td>\n",
       "      <td>12.848324</td>\n",
       "    </tr>\n",
       "    <tr>\n",
       "      <th>magma_th103_GCST90092502_EFO_0007117</th>\n",
       "      <td>26.810229</td>\n",
       "      <td>0.000000</td>\n",
       "      <td>0.000000</td>\n",
       "      <td>37.451856</td>\n",
       "      <td>0.000000</td>\n",
       "      <td>0.000000</td>\n",
       "      <td>31.894490</td>\n",
       "      <td>0.000087</td>\n",
       "      <td>0.000000</td>\n",
       "    </tr>\n",
       "    <tr>\n",
       "      <th>magma_th103_GCST90092503_EFO_0007117</th>\n",
       "      <td>0.626720</td>\n",
       "      <td>0.498941</td>\n",
       "      <td>0.313632</td>\n",
       "      <td>0.734710</td>\n",
       "      <td>0.658565</td>\n",
       "      <td>0.121478</td>\n",
       "      <td>1.039958</td>\n",
       "      <td>0.491740</td>\n",
       "      <td>0.082180</td>\n",
       "    </tr>\n",
       "    <tr>\n",
       "      <th>magma_th103_GCST90092504_EFO_0007117</th>\n",
       "      <td>2.155834</td>\n",
       "      <td>2.115715</td>\n",
       "      <td>0.412177</td>\n",
       "      <td>1.655411</td>\n",
       "      <td>1.150458</td>\n",
       "      <td>1.028168</td>\n",
       "      <td>2.379760</td>\n",
       "      <td>2.259243</td>\n",
       "      <td>0.790217</td>\n",
       "    </tr>\n",
       "    <tr>\n",
       "      <th>magma_th103_GCST90092505_EFO_0007117</th>\n",
       "      <td>0.000087</td>\n",
       "      <td>64.330033</td>\n",
       "      <td>0.227312</td>\n",
       "      <td>0.000174</td>\n",
       "      <td>54.266562</td>\n",
       "      <td>0.122513</td>\n",
       "      <td>0.000000</td>\n",
       "      <td>59.009350</td>\n",
       "      <td>0.275478</td>\n",
       "    </tr>\n",
       "    <tr>\n",
       "      <th>magma_th103_GCST90093316_EFO_0004887</th>\n",
       "      <td>7.477425</td>\n",
       "      <td>4.733768</td>\n",
       "      <td>4.388383</td>\n",
       "      <td>9.520425</td>\n",
       "      <td>3.713319</td>\n",
       "      <td>1.592949</td>\n",
       "      <td>6.194159</td>\n",
       "      <td>3.866461</td>\n",
       "      <td>3.623241</td>\n",
       "    </tr>\n",
       "    <tr>\n",
       "      <th>magma_th103_GCST90094960_EFO_0008036</th>\n",
       "      <td>12.964170</td>\n",
       "      <td>13.479910</td>\n",
       "      <td>17.858864</td>\n",
       "      <td>4.222283</td>\n",
       "      <td>10.379760</td>\n",
       "      <td>7.222863</td>\n",
       "      <td>13.108463</td>\n",
       "      <td>13.066209</td>\n",
       "      <td>19.244430</td>\n",
       "    </tr>\n",
       "    <tr>\n",
       "      <th>magma_th103_GCST90100525_EFO_0006332</th>\n",
       "      <td>1.557677</td>\n",
       "      <td>4.529443</td>\n",
       "      <td>0.023604</td>\n",
       "      <td>0.947306</td>\n",
       "      <td>4.881405</td>\n",
       "      <td>0.067831</td>\n",
       "      <td>1.326795</td>\n",
       "      <td>4.145512</td>\n",
       "      <td>0.027196</td>\n",
       "    </tr>\n",
       "    <tr>\n",
       "      <th>magma_th103_GCST90103632_EFO_0004741</th>\n",
       "      <td>30.763463</td>\n",
       "      <td>26.173731</td>\n",
       "      <td>27.341798</td>\n",
       "      <td>65.399354</td>\n",
       "      <td>52.262569</td>\n",
       "      <td>62.279593</td>\n",
       "      <td>30.218891</td>\n",
       "      <td>29.112889</td>\n",
       "      <td>29.694649</td>\n",
       "    </tr>\n",
       "    <tr>\n",
       "      <th>magma_th103_GCST90103754_EFO_0004343</th>\n",
       "      <td>5.640354</td>\n",
       "      <td>2.096584</td>\n",
       "      <td>0.787280</td>\n",
       "      <td>6.597223</td>\n",
       "      <td>3.557520</td>\n",
       "      <td>1.309007</td>\n",
       "      <td>6.316773</td>\n",
       "      <td>2.327533</td>\n",
       "      <td>0.515131</td>\n",
       "    </tr>\n",
       "    <tr>\n",
       "      <th>magma_th103_GCST90179151_EFO_0006525</th>\n",
       "      <td>51.941954</td>\n",
       "      <td>53.162854</td>\n",
       "      <td>45.617803</td>\n",
       "      <td>56.108295</td>\n",
       "      <td>48.048371</td>\n",
       "      <td>43.296365</td>\n",
       "      <td>57.065401</td>\n",
       "      <td>55.260349</td>\n",
       "      <td>40.703335</td>\n",
       "    </tr>\n",
       "    <tr>\n",
       "      <th>magma_th103_GCST90267352_EFO_0010821</th>\n",
       "      <td>29.262648</td>\n",
       "      <td>13.522589</td>\n",
       "      <td>28.344862</td>\n",
       "      <td>19.185752</td>\n",
       "      <td>17.733533</td>\n",
       "      <td>26.159016</td>\n",
       "      <td>25.394911</td>\n",
       "      <td>13.186019</td>\n",
       "      <td>31.519993</td>\n",
       "    </tr>\n",
       "    <tr>\n",
       "      <th>magma_th103_GCST90269581_EFO_0021898</th>\n",
       "      <td>50.576263</td>\n",
       "      <td>54.990124</td>\n",
       "      <td>63.690796</td>\n",
       "      <td>40.091837</td>\n",
       "      <td>40.288193</td>\n",
       "      <td>60.464959</td>\n",
       "      <td>48.066817</td>\n",
       "      <td>52.673664</td>\n",
       "      <td>56.196338</td>\n",
       "    </tr>\n",
       "    <tr>\n",
       "      <th>magma_th103_GCST90278623_EFO_0004741</th>\n",
       "      <td>15.151441</td>\n",
       "      <td>22.327164</td>\n",
       "      <td>20.513428</td>\n",
       "      <td>16.435571</td>\n",
       "      <td>24.024982</td>\n",
       "      <td>23.620513</td>\n",
       "      <td>14.657972</td>\n",
       "      <td>22.388702</td>\n",
       "      <td>19.916856</td>\n",
       "    </tr>\n",
       "    <tr>\n",
       "      <th>magma_th103_GCST90278649_EFO_0004343</th>\n",
       "      <td>17.535361</td>\n",
       "      <td>18.697886</td>\n",
       "      <td>27.027797</td>\n",
       "      <td>12.240332</td>\n",
       "      <td>21.122917</td>\n",
       "      <td>19.725611</td>\n",
       "      <td>16.060431</td>\n",
       "      <td>16.469288</td>\n",
       "      <td>26.948847</td>\n",
       "    </tr>\n",
       "  </tbody>\n",
       "</table>\n",
       "</div>"
      ],
      "text/plain": [
       "Norm                                       base                        \\\n",
       "repeat                                        1          2          3   \n",
       "TraitR                                                                  \n",
       "magma_th103_GCST006366_EFO_0005213    32.777024  34.334325  44.094636   \n",
       "magma_th103_GCST007459_EFO_0006525    37.862329  19.322028  17.227605   \n",
       "magma_th103_GCST007710_EFO_0009863    13.710411   6.547907   8.521145   \n",
       "magma_th103_GCST008062_EFO_0004741    27.822752  34.852633  25.039054   \n",
       "magma_th103_GCST009414_EFO_0005213    34.964570  22.118216  49.395882   \n",
       "magma_th103_GCST010572_EFO_0010156    23.149293  20.385103  43.802995   \n",
       "magma_th103_GCST90016673_EFO_0010821  37.207678  22.296107  21.982967   \n",
       "magma_th103_GCST90018714_EFO_0000731   1.650140   2.342848   1.399463   \n",
       "magma_th103_GCST90018728_EFO_0004741  22.245422  17.842241  14.731656   \n",
       "magma_th103_GCST90092502_EFO_0007117  26.810229   0.000000   0.000000   \n",
       "magma_th103_GCST90092503_EFO_0007117   0.626720   0.498941   0.313632   \n",
       "magma_th103_GCST90092504_EFO_0007117   2.155834   2.115715   0.412177   \n",
       "magma_th103_GCST90092505_EFO_0007117   0.000087  64.330033   0.227312   \n",
       "magma_th103_GCST90093316_EFO_0004887   7.477425   4.733768   4.388383   \n",
       "magma_th103_GCST90094960_EFO_0008036  12.964170  13.479910  17.858864   \n",
       "magma_th103_GCST90100525_EFO_0006332   1.557677   4.529443   0.023604   \n",
       "magma_th103_GCST90103632_EFO_0004741  30.763463  26.173731  27.341798   \n",
       "magma_th103_GCST90103754_EFO_0004343   5.640354   2.096584   0.787280   \n",
       "magma_th103_GCST90179151_EFO_0006525  51.941954  53.162854  45.617803   \n",
       "magma_th103_GCST90267352_EFO_0010821  29.262648  13.522589  28.344862   \n",
       "magma_th103_GCST90269581_EFO_0021898  50.576263  54.990124  63.690796   \n",
       "magma_th103_GCST90278623_EFO_0004741  15.151441  22.327164  20.513428   \n",
       "magma_th103_GCST90278649_EFO_0004343  17.535361  18.697886  27.027797   \n",
       "\n",
       "Norm                                     binary                        \\\n",
       "repeat                                        1          2          3   \n",
       "TraitR                                                                  \n",
       "magma_th103_GCST006366_EFO_0005213    21.694004  14.476644  31.174899   \n",
       "magma_th103_GCST007459_EFO_0006525    24.508919  20.260982  15.370896   \n",
       "magma_th103_GCST007710_EFO_0009863    10.721475   5.297311  13.222646   \n",
       "magma_th103_GCST008062_EFO_0004741    31.768276  34.412851  48.823619   \n",
       "magma_th103_GCST009414_EFO_0005213    32.117646  26.365321  34.177505   \n",
       "magma_th103_GCST010572_EFO_0010156     5.425969   6.847406  26.870955   \n",
       "magma_th103_GCST90016673_EFO_0010821  30.809388  14.607127  24.106016   \n",
       "magma_th103_GCST90018714_EFO_0000731   3.134304   0.362610   0.486516   \n",
       "magma_th103_GCST90018728_EFO_0004741  21.052910  10.771343  10.480434   \n",
       "magma_th103_GCST90092502_EFO_0007117  37.451856   0.000000   0.000000   \n",
       "magma_th103_GCST90092503_EFO_0007117   0.734710   0.658565   0.121478   \n",
       "magma_th103_GCST90092504_EFO_0007117   1.655411   1.150458   1.028168   \n",
       "magma_th103_GCST90092505_EFO_0007117   0.000174  54.266562   0.122513   \n",
       "magma_th103_GCST90093316_EFO_0004887   9.520425   3.713319   1.592949   \n",
       "magma_th103_GCST90094960_EFO_0008036   4.222283  10.379760   7.222863   \n",
       "magma_th103_GCST90100525_EFO_0006332   0.947306   4.881405   0.067831   \n",
       "magma_th103_GCST90103632_EFO_0004741  65.399354  52.262569  62.279593   \n",
       "magma_th103_GCST90103754_EFO_0004343   6.597223   3.557520   1.309007   \n",
       "magma_th103_GCST90179151_EFO_0006525  56.108295  48.048371  43.296365   \n",
       "magma_th103_GCST90267352_EFO_0010821  19.185752  17.733533  26.159016   \n",
       "magma_th103_GCST90269581_EFO_0021898  40.091837  40.288193  60.464959   \n",
       "magma_th103_GCST90278623_EFO_0004741  16.435571  24.024982  23.620513   \n",
       "magma_th103_GCST90278649_EFO_0004343  12.240332  21.122917  19.725611   \n",
       "\n",
       "Norm                                        sum                        \n",
       "repeat                                        1          2          3  \n",
       "TraitR                                                                 \n",
       "magma_th103_GCST006366_EFO_0005213    34.198665  30.845576  45.636200  \n",
       "magma_th103_GCST007459_EFO_0006525    35.455684  20.216454  15.971022  \n",
       "magma_th103_GCST007710_EFO_0009863    13.935917   5.622148  10.191992  \n",
       "magma_th103_GCST008062_EFO_0004741    30.517698  39.324955  28.140922  \n",
       "magma_th103_GCST009414_EFO_0005213    34.809949  28.282579  47.374173  \n",
       "magma_th103_GCST010572_EFO_0010156    22.489991  21.428408  47.411953  \n",
       "magma_th103_GCST90016673_EFO_0010821  35.024522  23.344190  18.968188  \n",
       "magma_th103_GCST90018714_EFO_0000731   2.351347   2.395018   0.775467  \n",
       "magma_th103_GCST90018728_EFO_0004741  21.488518  17.037868  12.848324  \n",
       "magma_th103_GCST90092502_EFO_0007117  31.894490   0.000087   0.000000  \n",
       "magma_th103_GCST90092503_EFO_0007117   1.039958   0.491740   0.082180  \n",
       "magma_th103_GCST90092504_EFO_0007117   2.379760   2.259243   0.790217  \n",
       "magma_th103_GCST90092505_EFO_0007117   0.000000  59.009350   0.275478  \n",
       "magma_th103_GCST90093316_EFO_0004887   6.194159   3.866461   3.623241  \n",
       "magma_th103_GCST90094960_EFO_0008036  13.108463  13.066209  19.244430  \n",
       "magma_th103_GCST90100525_EFO_0006332   1.326795   4.145512   0.027196  \n",
       "magma_th103_GCST90103632_EFO_0004741  30.218891  29.112889  29.694649  \n",
       "magma_th103_GCST90103754_EFO_0004343   6.316773   2.327533   0.515131  \n",
       "magma_th103_GCST90179151_EFO_0006525  57.065401  55.260349  40.703335  \n",
       "magma_th103_GCST90267352_EFO_0010821  25.394911  13.186019  31.519993  \n",
       "magma_th103_GCST90269581_EFO_0021898  48.066817  52.673664  56.196338  \n",
       "magma_th103_GCST90278623_EFO_0004741  14.657972  22.388702  19.916856  \n",
       "magma_th103_GCST90278649_EFO_0004343  16.060431  16.469288  26.948847  "
      ]
     },
     "execution_count": 160,
     "metadata": {},
     "output_type": "execute_result"
    }
   ],
   "source": [
    "mag_all.pivot_table(columns=['Norm', 'repeat'], index='TraitR', values='logp_size').dropna()"
   ]
  }
 ],
 "metadata": {
  "kernelspec": {
   "display_name": "Python (CARVA)",
   "language": "python",
   "name": "carva"
  },
  "language_info": {
   "codemirror_mode": {
    "name": "ipython",
    "version": 3
   },
   "file_extension": ".py",
   "mimetype": "text/x-python",
   "name": "python",
   "nbconvert_exporter": "python",
   "pygments_lexer": "ipython3",
   "version": "3.10.0"
  },
  "toc": {
   "base_numbering": 1,
   "nav_menu": {},
   "number_sections": true,
   "sideBar": true,
   "skip_h1_title": false,
   "title_cell": "Table of Contents",
   "title_sidebar": "Contents",
   "toc_cell": false,
   "toc_position": {},
   "toc_section_display": true,
   "toc_window_display": false
  },
  "varInspector": {
   "cols": {
    "lenName": 16,
    "lenType": 16,
    "lenVar": 40
   },
   "kernels_config": {
    "python": {
     "delete_cmd_postfix": "",
     "delete_cmd_prefix": "del ",
     "library": "var_list.py",
     "varRefreshCmd": "print(var_dic_list())"
    },
    "r": {
     "delete_cmd_postfix": ") ",
     "delete_cmd_prefix": "rm(",
     "library": "var_list.r",
     "varRefreshCmd": "cat(var_dic_list()) "
    }
   },
   "types_to_exclude": [
    "module",
    "function",
    "builtin_function_or_method",
    "instance",
    "_Feature"
   ],
   "window_display": false
  }
 },
 "nbformat": 4,
 "nbformat_minor": 2
}
