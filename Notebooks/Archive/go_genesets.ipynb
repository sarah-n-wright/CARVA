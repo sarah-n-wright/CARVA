{
 "cells": [
  {
   "cell_type": "code",
   "execution_count": 121,
   "metadata": {},
   "outputs": [],
   "source": [
    "import pandas as pd\n",
    "import matplotlib.pyplot as plt\n",
    "import seaborn as sns\n",
    "from collections import defaultdict\n",
    "from tqdm import tqdm\n",
    "from scipy.stats import spearmanr, pearsonr\n",
    "import re\n",
    "import numpy as np\n",
    "import networkx as nx\n",
    "import obonet as obo\n",
    "from goatools.base import download_ncbi_associations\n",
    "from goatools.anno.genetogo_reader import Gene2GoReader\n",
    "from fuzzywuzzy import fuzz, process\n",
    "import warnings\n",
    "from scipy.stats import fisher_exact\n",
    "from statsmodels.stats.multitest import fdrcorrection\n",
    "import random as rn\n",
    "import os"
   ]
  },
  {
   "cell_type": "code",
   "execution_count": 2,
   "metadata": {},
   "outputs": [],
   "source": [
    "class GoData:\n",
    "    \"\"\"Class to load GO data and perform GO enrichment analysis.\n",
    "    \"\"\"\n",
    "    def __init__(self, ontpath, taxid=9606, debug=None, assoc_source='ncbi', assoc_file=None):\n",
    "        \"\"\"Initialize the GoData object.\n",
    "        Args:\n",
    "            ontpath (str): Path to the ontology file. Can be a local path or a URL.\n",
    "            taxid (int): NCBI Taxonomy ID of the species to use. Default is 9606 (human).\n",
    "            debug (GoData): A previous GoData object to use for debugging. Default is None.\n",
    "            associations (str): Path to the gene2go file. Can be a local path or a URL. Default is None.\n",
    "            \n",
    "        Returns:\n",
    "            GoData: A GoData object.\n",
    "        \"\"\"\n",
    "        assert assoc_source in ['mygene', 'ncbi', 'file'], \"assoc_source must be one of ['mygene', 'goatools', 'file']\"\n",
    "        if assoc_source == 'file':\n",
    "            assert assoc_file is not None, \"assoc_file must be provided if assoc_source is 'file'\"\n",
    "        \n",
    "        self.__ontpath = ontpath\n",
    "        self.__taxid = taxid\n",
    "        taxonomy_dict = {9606: 'Human', 10090: 'Mouse', 10116: 'Rat', 7227: 'Fruit fly', \n",
    "                    3702: 'Arabidopsis', 562: 'E. coli', 4932: 'S. cerevisiae', \n",
    "                    6239: 'C. elegans', 7955: 'Zebrafish', 9031: 'Chicken'}\n",
    "        try:\n",
    "            self.__species = taxonomy_dict[self.__taxid]\n",
    "        except KeyError:\n",
    "            warnings.warn(\"taxid not one of \"+\", \".join(taxonomy_dict.values()) +\". Defaulting to species=human for GO Enrichment\" , UserWarning)\n",
    "            self.__species = \"Human\"\n",
    "        self.BP = 'GO:0008150'\n",
    "        self.CC = 'GO:0005575'\n",
    "        self.MF = 'GO:0003674'\n",
    "\n",
    "        # debug allows you to load a previous GoData object to update functions without reloading the data\n",
    "        if debug is not None:\n",
    "            self.go = debug.go\n",
    "            self.id_to_name = debug.id_to_name\n",
    "            self.name_to_id = debug.name_to_id\n",
    "            self.geneid2go = debug.geneid2go\n",
    "            self.go2geneid = debug.go2geneid\n",
    "            self.assoc_file = debug.assoc_file\n",
    "            self.assoc_source = debug.assoc_source\n",
    "        else:\n",
    "        # Ontology\n",
    "            self.go = obo.read_obo(ontpath)\n",
    "            self.id_to_name = {id_: data.get('name') for id_, data in self.go.nodes(data=True)}\n",
    "            self.name_to_id = {data.get('name'): id_ for id_, data in self.go.nodes(data=True)}\n",
    "            # Associations\n",
    "            self.get_associations(assoc_source, assoc_file, taxid=taxid)\n",
    "            \n",
    "    def get_associations(self, assoc_source='ncbi', assoc_file=None, taxid=None):\n",
    "        self.assoc_source = assoc_source\n",
    "        self.assoc_file = assoc_file\n",
    "        if self.assoc_source == 'file':\n",
    "            assert assoc_file is not None, \"assoc_file must be provided if assoc_source is 'file'\"\n",
    "        if self.assoc_source == 'mygene':\n",
    "            raise(NotImplementedError)\n",
    "            #geneid2go, go2geneid = self._map_using_mygene(gene_list, self.id_type)\n",
    "        elif self.assoc_source == 'ncbi':\n",
    "            geneid2go, go2geneid =  self._map_using_ncbi(taxid=taxid)\n",
    "        elif self.assoc_source == 'file':\n",
    "            raise(NotImplementedError)\n",
    "            #geneid2go, go2geneid =  self._map_using_file(id_type=self.id_type)\n",
    "        self.geneid2go = geneid2go\n",
    "        self.go2geneid = go2geneid\n",
    "    \n",
    "    def _reverse_dict_of_sets(self, d):\n",
    "        result = defaultdict(set)\n",
    "        for k in d.keys():\n",
    "            for v in d[k]:\n",
    "                result[v].add(k)\n",
    "        return result        \n",
    "\n",
    "    def _map_using_ncbi(self, taxid=9606):\n",
    "        if taxid is None:\n",
    "            warnings.warn(\"taxid not provided. Defaulting to taxid=9606\" , UserWarning)\n",
    "            taxid = 9606\n",
    "        gene2go = download_ncbi_associations()\n",
    "        geneid2go = Gene2GoReader(gene2go, taxids=[taxid]).get_id2gos_nss(taxid=taxid)\n",
    "        go2geneid = self._reverse_dict_of_sets(geneid2go)\n",
    "        return geneid2go, go2geneid\n",
    "    \n",
    "    def get_subterms(self, node):\n",
    "        \"\"\"Get the direct subterms of a GO term, where subterms are represented as parents in the ontology.\n",
    "\n",
    "        Args:\n",
    "            node (str): The GO id of the term\n",
    "\n",
    "        Returns:\n",
    "            list: The GO ids of the subterms\n",
    "        \"\"\"\n",
    "        subterm = []\n",
    "        for parent, _ , _ in self.go.in_edges(node, keys=True):\n",
    "            subterm.append(parent)\n",
    "        return subterm\n",
    "\n",
    "    def get_superterms(self, node):\n",
    "        \"\"\"Get the direct superterms of a GO term, where superterms are represented as children in the ontology.\n",
    "\n",
    "        Args:\n",
    "            node (str): The GO id of the term\n",
    "\n",
    "        Returns:\n",
    "            list: The GO ids of the superterms\n",
    "        \"\"\"\n",
    "        superterm = []\n",
    "        for _ , child, _ in self.go.out_edges(node, keys=True):\n",
    "            superterm.append(child)\n",
    "        return superterm\n",
    "\n",
    "    def get_all_superterms(self, node):\n",
    "        \"\"\"Get all the superterms of a GO term, where superterms are represented as children in the ontology.\n",
    "\n",
    "        Args:\n",
    "            node (str): The GO id of the term\n",
    "\n",
    "        Returns:\n",
    "            list: The GO ids of the superterms\n",
    "        \"\"\"\n",
    "        ancestors = [superterm for superterm in nx.descendants(self.go, node)]\n",
    "        return ancestors\n",
    "\n",
    "    def get_all_subterms(self, node):\n",
    "        \"\"\"Get all the subterms of a GO term, where subterms are represented as parents in the ontology.\n",
    "\n",
    "        Args:\n",
    "            node (str): The GO id of the term\n",
    "\n",
    "        Returns:\n",
    "            list: The GO ids of the subterms\n",
    "        \"\"\"\n",
    "        descendents = [superterm for superterm in nx.ancestors(self.go, node)]\n",
    "        return descendents\n",
    "    \n",
    "    def get_associated_genes(self, goID):\n",
    "        \"\"\"Get all the genes associated with a GO term, including genes associated with subterms.\n",
    "\n",
    "        Args:\n",
    "            goID (str): The GO id of the term\n",
    "\n",
    "        Returns:\n",
    "            set: The gene ids associated with the GO term\n",
    "        \"\"\"\n",
    "        all_genes = self.go2geneid[goID]\n",
    "        subterms = self.get_all_subterms(goID)\n",
    "        for goid in subterms:\n",
    "            all_genes = all_genes.union(self.go2geneid[goid])\n",
    "            \n",
    "        return all_genes\n",
    "    \n",
    "    def to_name(self, goID):\n",
    "        \"\"\"Convert a GO id to a GO name.\n",
    "\n",
    "        Args:\n",
    "            goID (str): The GO id of the term\n",
    "\n",
    "        Returns:\n",
    "            str: The GO name of the term\n",
    "        \"\"\"\n",
    "        if type(goID) == int:\n",
    "            goID = self.to_id(goID)\n",
    "        assert goID in self.go.nodes, \"ID \"+ goID +\" is not in the ontology.\"\n",
    "        return self.id_to_name[goID]\n",
    "    \n",
    "    def to_id(self, name):\n",
    "        \"\"\"Convert a GO name or numerical suffix to a GO id. Where the name does not exactly match a GO term, \n",
    "        a list of possible matches is given in the error message.\n",
    "        \n",
    "        Args:\n",
    "            name (str or int): The GO name or numerical suffix of the term\n",
    "            \n",
    "        Returns:\n",
    "            str: The GO id of the term\n",
    "        \"\"\"\n",
    "        if type(name) == int:\n",
    "            id_ = \"GO:\" + \"0\" * (7-len(str(name))) + str(name)\n",
    "            assert id_ in self.go.nodes, \"ID \"+id_+\" is not in the ontology.\"\n",
    "            return id_\n",
    "        elif type(name) == str:\n",
    "            assert name in self.name_to_id.keys(), name+\" is not in the ontology. Maybe you meant (one of):\\n\" + \"\\n\".join(self.get_fuzzy_go_terms(name))\n",
    "            return self.name_to_id[name]\n",
    "        \n",
    "    def get_fuzzy_go_terms(self, term, max_terms=10):\n",
    "        \"\"\"Get a list of GO terms that are similar to the input term, using fuzzy matching.\n",
    "\n",
    "        Args:\n",
    "            term (str): The GO term to match\n",
    "            max_terms (int, optional): The maximum number of terms to return. Defaults to 10.\n",
    "\n",
    "        Returns:\n",
    "            list: A list of GO terms that are similar to the input term\n",
    "        \"\"\"\n",
    "        results = process.extract(term, self.name_to_id.keys(), scorer=fuzz.token_sort_ratio, limit=max_terms)\n",
    "        for term, score in results:\n",
    "            if score == 100:\n",
    "                return [term]\n",
    "        return [match[0] for match in results]\n",
    "    \n",
    "    def plot_go_counts(self, terms, min_gene=100, max_gene=20000, plot_title=\"None\"):\n",
    "        \"\"\"Plot the number of genes associated with a GO term, and its subterms.\n",
    "        \n",
    "        Args:\n",
    "            terms (str or list): The GO term or list of GO terms to plot\n",
    "            min_gene (int, optional): The minimum number of genes to include in the plot. Defaults to 100.\n",
    "            max_gene (int, optional): The maximum number of genes to include in the plot. Defaults to 20000.\n",
    "            plot_title (str, optional): The title of the plot. Defaults to \"None\".\n",
    "        \n",
    "        Returns:\n",
    "            None        \n",
    "        \"\"\"\n",
    "        if type(terms) == str:\n",
    "            root_term = terms\n",
    "            terms = self.get_subterms(terms)\n",
    "        else:\n",
    "            if type(terms) == set:\n",
    "                terms = list(terms)\n",
    "            root_term = \"\"\n",
    "        term_counts = {term:len(self.get_associated_genes(term)) for term in terms}\n",
    "        keep_counts = {term:term_counts[term] for term in terms if (term_counts[term] >= min_gene) & (term_counts[term] <= max_gene)}\n",
    "        if len(keep_counts) == 0:\n",
    "            print(\"All terms excluded!\\nMaximum count: \", max(term_counts.values()), \n",
    "                    \"\\nMinimum count: \", min(term_counts.values()))\n",
    "            return\n",
    "        print(\"Terms excluded:\", len(terms) - len(keep_counts))\n",
    "        plot_df = pd.DataFrame({'term':keep_counts.keys(), 'count':keep_counts.values()})\n",
    "        plot_df.sort_values(by=\"count\", ascending=False, inplace=True)\n",
    "        _ = plt.figure(figsize=(15, 4))\n",
    "        ax = plt.gca()\n",
    "        sns.barplot(data=plot_df, x='term', y='count', ax=ax)\n",
    "        ax.set_xticklabels([self.to_name(term) for term in plot_df[\"term\"]], rotation=90)\n",
    "        if root_term != \"\":\n",
    "            ax.set_title(self.to_name(root_term))\n",
    "        elif plot_title is not None:\n",
    "            ax.set_title(plot_title)\n",
    "        return ax\n",
    "    \n",
    "    def get_go_term_subset(self, root_term, min_size=100, max_size=1000):\n",
    "        \"\"\"Get a subset of GO terms that are within a certain size range, and are descendants of a root term.\n",
    "\n",
    "        Args:\n",
    "            root_term (str): The GO term to use as the root of the subset\n",
    "            min_size (int, optional): The lower bound of the size range. Defaults to 100.\n",
    "            max_size (int, optional): The upper bound of the size range. Defaults to 1000.\n",
    "\n",
    "        Returns:\n",
    "            set: The set of GO terms that are within the size range, and are descendants of the root term\n",
    "        \"\"\"\n",
    "        stack = [root_term]\n",
    "        visited_nodes = set()\n",
    "        final_terms = set()\n",
    "        # perform a modified depth first search with min and max size constraints\n",
    "        while stack:\n",
    "            term = stack.pop()\n",
    "            # check if we have already visited this node, as graph may have cycles\n",
    "            if term in visited_nodes:\n",
    "                continue\n",
    "            visited_nodes.add(term)\n",
    "            # check if the term is within the size constraints\n",
    "            term_size = len(self.get_associated_genes(term))\n",
    "            if term_size < min_size:\n",
    "                continue \n",
    "            # if the term is within the size constraints, add it to the final set\n",
    "            if term_size >= min_size and term_size <= max_size:\n",
    "                final_terms.add(term)\n",
    "            # if the term is too large, add its subterms to the stack\n",
    "            else:\n",
    "                subterms = self.get_subterms(term)\n",
    "                for subterm in subterms:\n",
    "                    if subterm not in visited_nodes:\n",
    "                        stack.append(subterm)\n",
    "        # remove any terms that are subterms of other terms in the final set\n",
    "        subgraph = self.go.subgraph(final_terms)\n",
    "        remove_nodes = [node for node in subgraph.nodes if len(list(subgraph.predecessors(node))) > 0]\n",
    "        final_terms = [term for term in final_terms if term not in remove_nodes]\n",
    "        return final_terms\n",
    "    \n",
    "    def go_enrichment(self, gene_list, terms, background_genes=None, plot=False):\n",
    "        \"\"\"Perform a GO enrichment analysis on a list of genes.\n",
    "\n",
    "        Args:\n",
    "            gene_list (list): The list of genes to perform the enrichment analysis on\n",
    "            terms (str or list): The GO term or list of GO terms to perform the enrichment analysis on\n",
    "            background_genes (list, optional): The list of genes to use as the background. Defaults to None.\n",
    "            plot (bool, optional): Whether to plot the results. Defaults to False.\n",
    "\n",
    "        Returns:\n",
    "            pandas.DataFrame: A dataframe containing the results of the enrichment analysis\n",
    "        \"\"\"\n",
    "        # subset gene_list to those present in the ontology\n",
    "        if background_genes is not None:\n",
    "            if type(background_genes) == list:\n",
    "                background_genes = set(background_genes)\n",
    "            gene_list_present = [gene for gene in list(set(gene_list).intersection(background_genes)) if gene in self.geneid2go.keys()]\n",
    "        else:\n",
    "            gene_list_present = [gene for gene in gene_list if gene in self.geneid2go.keys()]\n",
    "        \n",
    "        if len(gene_list) - len(gene_list_present) >0:\n",
    "            print(\"Warning: \", len(gene_list) - len(gene_list_present), \" genes not in the ontology and/or background genes.\")\n",
    "        gene_list = gene_list_present\n",
    "        #process the term list\n",
    "        if type(terms) == str:\n",
    "            terms = [terms]\n",
    "        # Get the genes associated with each term\n",
    "        term_genes = {term: self.get_associated_genes(term) for term in terms}\n",
    "        if background_genes is not None:\n",
    "            if type(background_genes) == list:\n",
    "                background_genes = set(background_genes)\n",
    "            term_genes = {term: term_genes[term].intersection(background_genes) for term in terms}\n",
    "        # Count the number of genes in each term\n",
    "        term_gene_counts = {term: len(term_genes[term]) for term in terms}\n",
    "        # Count the number of genes in the gene set that are associated with each term\n",
    "        term_gene_set_counts = {term: len(set(gene_list).intersection(term_genes[term])) for term in terms}\n",
    "        # Calculate the p-value for each term using the Fisher's exact test\n",
    "        p_values = {}\n",
    "        expected = {}\n",
    "        for term in terms:\n",
    "            term_p, term_e = self._fisher_test(background_genes, term_gene_counts[term], term_gene_set_counts[term], gene_list)\n",
    "            p_values[term] = term_p\n",
    "            expected[term] = term_e\n",
    "        \n",
    "        # Sort the terms by p-value in ascending order\n",
    "        sorted_terms = sorted(p_values, key=p_values.get)\n",
    "        if len(sorted_terms) == 1:\n",
    "            enriched_terms = pd.DataFrame({'Term': sorted_terms, 'P-value': [p_values[sorted_terms[0]]]})\n",
    "        else:\n",
    "            enriched_terms = pd.DataFrame({'Term': sorted_terms, 'P-value': [p_values[term] for term in sorted_terms]})\n",
    "        enriched_terms[\"Term_size\"] = enriched_terms.Term.apply(lambda x: term_gene_counts[x])\n",
    "        enriched_terms[\"Intersection\"] = enriched_terms.Term.apply(lambda x: term_gene_set_counts[x])\n",
    "        enriched_terms[\"Expected\"] = enriched_terms.Term.apply(lambda x: expected[x])\n",
    "        if plot:\n",
    "            self._plot_enrichment(enriched_terms, expected, p_values, terms, sorted_terms) \n",
    "        \n",
    "        return enriched_terms\n",
    "    \n",
    "    def _fisher_test(self,  background_genes, gene_count, gene_set_count, gene_list):\n",
    "        \"\"\"Perform a Fisher's exact test on a gene set.\n",
    "\n",
    "        Args:\n",
    "            background_genes (list): The list of genes to use as the background\n",
    "            gene_count (int): The number of genes associated with the term\n",
    "            gene_set_count (int): The number of genes in the gene set that are associated with the term\n",
    "            gene_list (list): The list of genes to perform the enrichment analysis on\n",
    "\n",
    "        Returns:\n",
    "            tuple: The p-value and expected value of the Fisher's exact test\n",
    "        \"\"\"\n",
    "        if background_genes is not None:\n",
    "            N = len(set(self.geneid2go.keys()).intersection(background_genes))\n",
    "        else:\n",
    "            N = len(self.geneid2go) # Total number of genes\n",
    "        a = gene_set_count # Number of genes in the gene set that are associated with the term\n",
    "        b = len(gene_list) - a # Number of genes in the gene set that are not associated with the term\n",
    "        c = gene_count - a # Number of genes not in the gene set that are associated with the term\n",
    "        d = N - a - b - c # Number of genes not in the gene set that are not associated with the term\n",
    "        p_val = fisher_exact([[a, b], [c, d]])[1]\n",
    "        expected = (gene_count/N) * len(gene_list)\n",
    "        return p_val, expected\n",
    "    \n",
    "    def _plot_enrichment(self, enriched_terms, expected, p_values, terms, sorted_terms):\n",
    "        \"\"\"Plot the results of a GO enrichment analysis.\n",
    "\n",
    "        Args:\n",
    "            enriched_terms (pandas.DataFrame): The dataframe containing the results of the enrichment analysis\n",
    "            expected (dict): The expected value of the number of term associated genes in the gene set\n",
    "            p_values (dict): The p-value of enrichment for each term\n",
    "            terms (list): The list of terms that were tested\n",
    "            sorted_terms (list): The list of terms sorted by p-value\n",
    "            \n",
    "        Returns:\n",
    "            None\n",
    "        \"\"\"\n",
    "        plot_data = enriched_terms.loc[:, (\"Term\", \"Intersection\")]\n",
    "        plot_data.columns = [\"Term\", \"#Genes\"]\n",
    "        plot_data[\"Color\"] = \"Observed\"\n",
    "        plot_data = pd.concat([plot_data, pd.DataFrame({\"Term\": expected.keys(), \"#Genes\":expected.values(), \"Color\":\"Expected\"})])\n",
    "        _ = plt.figure(figsize=(10, 5))\n",
    "        plot_data['Term'] = plot_data.Term.apply(self.to_name)\n",
    "        sns.barplot(data=plot_data, x=\"Term\", y=\"#Genes\", hue=\"Color\", alpha=0.7, hue_order=[\"Expected\", \"Observed\"], palette=['grey', 'blue'])\n",
    "        ax = plt.gca()\n",
    "        for i, p in enumerate(ax.patches):\n",
    "            if i >= len(terms):\n",
    "                text = f\"{p_values[sorted_terms[i-len(terms)]]:.1e}\"\n",
    "                ax.text(p.get_x() + p.get_width()/2., p.get_height(), text, rotation=90,\n",
    "                    fontsize=10, color='black', ha='center', va='bottom')\n",
    "        ax.set_xticklabels(ax.get_xticklabels(), rotation=90)\n",
    "        "
   ]
  },
  {
   "cell_type": "code",
   "execution_count": 3,
   "metadata": {},
   "outputs": [],
   "source": [
    "go_path = 'https://current.geneontology.org/ontology/go.obo'"
   ]
  },
  {
   "cell_type": "code",
   "execution_count": 4,
   "metadata": {},
   "outputs": [
    {
     "name": "stdout",
     "output_type": "stream",
     "text": [
      "  EXISTS: gene2go\n",
      "HMS:0:01:26.372947 347,845 annotations, 20,780 genes, 18,718 GOs, 1 taxids READ: gene2go \n"
     ]
    }
   ],
   "source": [
    "go_data = GoData(ontpath = 'http://purl.obolibrary.org/obo/go.obo', debug=None)\n"
   ]
  },
  {
   "cell_type": "code",
   "execution_count": 5,
   "metadata": {},
   "outputs": [
    {
     "name": "stderr",
     "output_type": "stream",
     "text": [
      "/tmp/ipykernel_3154087/1022444022.py:75: UserWarning: taxid not provided. Defaulting to taxid=9606\n",
      "  warnings.warn(\"taxid not provided. Defaulting to taxid=9606\" , UserWarning)\n"
     ]
    },
    {
     "name": "stdout",
     "output_type": "stream",
     "text": [
      "  EXISTS: gene2go\n",
      "HMS:0:01:11.533848 347,845 annotations, 20,780 genes, 18,718 GOs, 1 taxids READ: gene2go \n"
     ]
    }
   ],
   "source": [
    "go_data.get_associations()"
   ]
  },
  {
   "cell_type": "markdown",
   "metadata": {},
   "source": [
    "Goal: get a diverse range of GO terms with between 150 and 500 genes associated. \n",
    "\n",
    "How: I think the depth and breadth first searches will give the same ultimate result - so use the existing depth first search method."
   ]
  },
  {
   "cell_type": "code",
   "execution_count": 6,
   "metadata": {},
   "outputs": [
    {
     "name": "stdout",
     "output_type": "stream",
     "text": [
      "230\n"
     ]
    }
   ],
   "source": [
    "bp_terms = go_data.get_go_term_subset('GO:0008150', min_size=200, max_size=300)\n",
    "print(len(bp_terms))"
   ]
  },
  {
   "cell_type": "code",
   "execution_count": 7,
   "metadata": {},
   "outputs": [
    {
     "name": "stdout",
     "output_type": "stream",
     "text": [
      "44\n"
     ]
    }
   ],
   "source": [
    "cc_terms = go_data.get_go_term_subset('GO:0005575', min_size=200, max_size=300)\n",
    "print(len(cc_terms))"
   ]
  },
  {
   "cell_type": "code",
   "execution_count": 8,
   "metadata": {},
   "outputs": [
    {
     "name": "stdout",
     "output_type": "stream",
     "text": [
      "54\n"
     ]
    }
   ],
   "source": [
    "mf_terms = go_data.get_go_term_subset('GO:0003674', min_size=200, max_size=300)\n",
    "print(len(mf_terms))"
   ]
  },
  {
   "cell_type": "code",
   "execution_count": 2,
   "metadata": {},
   "outputs": [
    {
     "ename": "NameError",
     "evalue": "name 'bp_terms' is not defined",
     "output_type": "error",
     "traceback": [
      "\u001b[0;31m---------------------------------------------------------------------------\u001b[0m",
      "\u001b[0;31mNameError\u001b[0m                                 Traceback (most recent call last)",
      "\u001b[0;32m/tmp/ipykernel_3993731/464225541.py\u001b[0m in \u001b[0;36m<module>\u001b[0;34m\u001b[0m\n\u001b[0;32m----> 1\u001b[0;31m \u001b[0mbp_genesets\u001b[0m \u001b[0;34m=\u001b[0m \u001b[0;34m{\u001b[0m\u001b[0mterm\u001b[0m\u001b[0;34m:\u001b[0m \u001b[0mgo_data\u001b[0m\u001b[0;34m.\u001b[0m\u001b[0mget_associated_genes\u001b[0m\u001b[0;34m(\u001b[0m\u001b[0mterm\u001b[0m\u001b[0;34m)\u001b[0m \u001b[0;32mfor\u001b[0m \u001b[0mterm\u001b[0m \u001b[0;32min\u001b[0m \u001b[0mbp_terms\u001b[0m\u001b[0;34m}\u001b[0m\u001b[0;34m\u001b[0m\u001b[0;34m\u001b[0m\u001b[0m\n\u001b[0m\u001b[1;32m      2\u001b[0m \u001b[0mcc_genesets\u001b[0m \u001b[0;34m=\u001b[0m \u001b[0;34m{\u001b[0m\u001b[0mterm\u001b[0m\u001b[0;34m:\u001b[0m \u001b[0mgo_data\u001b[0m\u001b[0;34m.\u001b[0m\u001b[0mget_associated_genes\u001b[0m\u001b[0;34m(\u001b[0m\u001b[0mterm\u001b[0m\u001b[0;34m)\u001b[0m \u001b[0;32mfor\u001b[0m \u001b[0mterm\u001b[0m \u001b[0;32min\u001b[0m \u001b[0mcc_terms\u001b[0m\u001b[0;34m}\u001b[0m\u001b[0;34m\u001b[0m\u001b[0;34m\u001b[0m\u001b[0m\n\u001b[1;32m      3\u001b[0m \u001b[0mmf_genesets\u001b[0m \u001b[0;34m=\u001b[0m \u001b[0;34m{\u001b[0m\u001b[0mterm\u001b[0m\u001b[0;34m:\u001b[0m \u001b[0mgo_data\u001b[0m\u001b[0;34m.\u001b[0m\u001b[0mget_associated_genes\u001b[0m\u001b[0;34m(\u001b[0m\u001b[0mterm\u001b[0m\u001b[0;34m)\u001b[0m \u001b[0;32mfor\u001b[0m \u001b[0mterm\u001b[0m \u001b[0;32min\u001b[0m \u001b[0mmf_terms\u001b[0m\u001b[0;34m}\u001b[0m\u001b[0;34m\u001b[0m\u001b[0;34m\u001b[0m\u001b[0m\n\u001b[1;32m      4\u001b[0m \u001b[0mgenesets\u001b[0m \u001b[0;34m=\u001b[0m \u001b[0;34m{\u001b[0m\u001b[0;34m**\u001b[0m\u001b[0mbp_genesets\u001b[0m\u001b[0;34m,\u001b[0m \u001b[0;34m**\u001b[0m\u001b[0mcc_genesets\u001b[0m\u001b[0;34m,\u001b[0m \u001b[0;34m**\u001b[0m\u001b[0mmf_genesets\u001b[0m\u001b[0;34m}\u001b[0m\u001b[0;34m\u001b[0m\u001b[0;34m\u001b[0m\u001b[0m\n",
      "\u001b[0;31mNameError\u001b[0m: name 'bp_terms' is not defined"
     ]
    }
   ],
   "source": [
    "bp_genesets = {term: go_data.get_associated_genes(term) for term in bp_terms}\n",
    "cc_genesets = {term: go_data.get_associated_genes(term) for term in cc_terms}\n",
    "mf_genesets = {term: go_data.get_associated_genes(term) for term in mf_terms}\n",
    "genesets = {**bp_genesets, **cc_genesets, **mf_genesets}"
   ]
  },
  {
   "cell_type": "code",
   "execution_count": 1,
   "metadata": {},
   "outputs": [
    {
     "ename": "NameError",
     "evalue": "name 'bp_genesets' is not defined",
     "output_type": "error",
     "traceback": [
      "\u001b[0;31m---------------------------------------------------------------------------\u001b[0m",
      "\u001b[0;31mNameError\u001b[0m                                 Traceback (most recent call last)",
      "\u001b[0;32m/tmp/ipykernel_3993731/887761323.py\u001b[0m in \u001b[0;36m<module>\u001b[0;34m\u001b[0m\n\u001b[0;32m----> 1\u001b[0;31m \u001b[0mbp_genesets\u001b[0m\u001b[0;34m\u001b[0m\u001b[0;34m\u001b[0m\u001b[0m\n\u001b[0m",
      "\u001b[0;31mNameError\u001b[0m: name 'bp_genesets' is not defined"
     ]
    }
   ],
   "source": [
    "bp_genesets"
   ]
  },
  {
   "cell_type": "code",
   "execution_count": 18,
   "metadata": {},
   "outputs": [],
   "source": [
    "from neteval.data_import_export_tools import write_node_sets"
   ]
  },
  {
   "cell_type": "code",
   "execution_count": 19,
   "metadata": {},
   "outputs": [],
   "source": [
    "write_node_sets(genesets, '/cellar/users/snwright/Data/NetColocTest/Reference/go.genesets')"
   ]
  },
  {
   "cell_type": "markdown",
   "metadata": {},
   "source": [
    "Will need to find some way to exclude sibling terms."
   ]
  },
  {
   "cell_type": "markdown",
   "metadata": {},
   "source": [
    "## Measure the ontology distance between terms\n",
    "Expectation: distance between different branches will be high -> do within each branch separately  \n",
    "May need to make an undirected version of the graph."
   ]
  },
  {
   "cell_type": "code",
   "execution_count": 14,
   "metadata": {},
   "outputs": [],
   "source": [
    "G = go_data.go.to_undirected()"
   ]
  },
  {
   "cell_type": "code",
   "execution_count": 57,
   "metadata": {},
   "outputs": [],
   "source": [
    "def plot_go_distances(term_list, G):\n",
    "    dists = []\n",
    "    for t in tqdm(term_list):\n",
    "        for t2 in term_list:\n",
    "            if t != t2:\n",
    "                dists.append(nx.shortest_path_length(G, source=t, target=t2, weight=None, method='dijkstra'))\n",
    "    return dists"
   ]
  },
  {
   "cell_type": "code",
   "execution_count": 62,
   "metadata": {},
   "outputs": [
    {
     "name": "stderr",
     "output_type": "stream",
     "text": [
      "100%|██████████| 230/230 [00:14<00:00, 15.49it/s]\n",
      "100%|██████████| 44/44 [00:00<00:00, 217.74it/s]\n",
      "100%|██████████| 54/54 [00:00<00:00, 110.47it/s]\n"
     ]
    }
   ],
   "source": [
    "bp_dist = plot_go_distances(bp_terms, G)\n",
    "cc_dist = plot_go_distances(cc_terms, G)\n",
    "mf_dist = plot_go_distances(mf_terms, G)"
   ]
  },
  {
   "cell_type": "code",
   "execution_count": 106,
   "metadata": {},
   "outputs": [
    {
     "data": {
      "text/plain": [
       "8.136680888459592"
      ]
     },
     "execution_count": 106,
     "metadata": {},
     "output_type": "execute_result"
    }
   ],
   "source": [
    "np.mean(bp_dist) + np.std(bp_dist)*1.5"
   ]
  },
  {
   "cell_type": "code",
   "execution_count": 105,
   "metadata": {},
   "outputs": [
    {
     "data": {
      "text/plain": [
       "8.091173416749623"
      ]
     },
     "execution_count": 105,
     "metadata": {},
     "output_type": "execute_result"
    }
   ],
   "source": [
    "np.mean(mf_dist) + np.std(mf_dist)*1.5"
   ]
  },
  {
   "cell_type": "code",
   "execution_count": 104,
   "metadata": {},
   "outputs": [
    {
     "data": {
      "text/plain": [
       "7.022483169767417"
      ]
     },
     "execution_count": 104,
     "metadata": {},
     "output_type": "execute_result"
    }
   ],
   "source": [
    "np.mean(cc_dist) + np.std(cc_dist)*1.5"
   ]
  },
  {
   "cell_type": "code",
   "execution_count": 98,
   "metadata": {},
   "outputs": [
    {
     "data": {
      "text/plain": [
       "array([2., 2., 3.])"
      ]
     },
     "execution_count": 98,
     "metadata": {},
     "output_type": "execute_result"
    }
   ],
   "source": [
    "np.percentile(np.array(bp_dist), [0.1, 0.5, 0.9])"
   ]
  },
  {
   "cell_type": "code",
   "execution_count": 71,
   "metadata": {},
   "outputs": [
    {
     "name": "stderr",
     "output_type": "stream",
     "text": [
      "100%|██████████| 297/297 [00:40<00:00,  7.29it/s]\n"
     ]
    }
   ],
   "source": [
    "all_dist = plot_go_distances(list(genesets.keys()), G)"
   ]
  },
  {
   "cell_type": "code",
   "execution_count": 67,
   "metadata": {},
   "outputs": [
    {
     "data": {
      "image/png": "[encoded data removed]",
      "text/plain": [
       "<Figure size 864x216 with 3 Axes>"
      ]
     },
     "metadata": {
      "needs_background": "light"
     },
     "output_type": "display_data"
    }
   ],
   "source": [
    "_, [ax1, ax2, ax3] = plt.subplots(nrows=1, ncols=3, figsize=(12, 3), sharex=True, sharey=False)\n",
    "sns.histplot(bp_dist, bins=[i for i in range(12)], ax=ax1, discrete=True)\n",
    "sns.histplot(cc_dist, bins=[i for i in range(12)], ax=ax2, discrete=True)\n",
    "sns.histplot(mf_dist, bins=[i for i in range(12)], ax=ax3, discrete=True)\n",
    "for i, ax in enumerate([ax1,ax2, ax3]):\n",
    "    ax.set_xticks([2,4,6,8,10,12])\n",
    "    ax.set_title(['BP', 'CC', 'MF'][i])"
   ]
  },
  {
   "cell_type": "code",
   "execution_count": 56,
   "metadata": {},
   "outputs": [],
   "source": [
    "def get_distal_go_terms(G, term_list, max_pairs_per_term=2, min_distance=8):\n",
    "    rn.shuffle(term_list)\n",
    "    term_pairs = defaultdict(list)\n",
    "    for t in tqdm(term_list):\n",
    "        for t2 in term_list:\n",
    "            if (len(term_pairs[t]) < max_pairs_per_term) and (len(term_pairs[t2]) < max_pairs_per_term):\n",
    "                if nx.shortest_path_length(G, source=t, target=t2, weight=None, method='dijkstra') >= min_distance:\n",
    "                    term_pairs[t].append(t2)\n",
    "                    term_pairs[t2].append(t)\n",
    "            elif term_pairs[t] == max_pairs_per_term:\n",
    "                break            \n",
    "    all_pairs = []\n",
    "    for k, p in term_pairs.items():\n",
    "        if len(p) > 0:\n",
    "            for term in p:\n",
    "                all_pairs.append(sorted((k, term)))\n",
    "    cross_pairs = pd.DataFrame(all_pairs, columns=['TraitR', 'TraitC']).drop_duplicates()\n",
    "    return cross_pairs"
   ]
  },
  {
   "cell_type": "code",
   "execution_count": 86,
   "metadata": {},
   "outputs": [
    {
     "name": "stderr",
     "output_type": "stream",
     "text": [
      "100%|██████████| 230/230 [00:02<00:00, 90.86it/s]\n",
      "100%|██████████| 44/44 [00:00<00:00, 610.02it/s]\n",
      "100%|██████████| 54/54 [00:00<00:00, 395.67it/s]\n"
     ]
    }
   ],
   "source": [
    "bp_cross_pairs = get_distal_go_terms(G, bp_terms, 2, 8)\n",
    "cc_cross_pairs = get_distal_go_terms(G, cc_terms, 2, 7)\n",
    "mf_cross_pairs = get_distal_go_terms(G, mf_terms, 2, 8)"
   ]
  },
  {
   "cell_type": "code",
   "execution_count": 87,
   "metadata": {},
   "outputs": [],
   "source": [
    "all_cross_pairs= pd.concat([bp_cross_pairs, cc_cross_pairs, mf_cross_pairs])"
   ]
  },
  {
   "cell_type": "code",
   "execution_count": 91,
   "metadata": {},
   "outputs": [],
   "source": [
    "all_cross_pairs.to_csv('/cellar/users/snwright/Data/NetColocTest/inputs/trait_pairs_cross_GO.txt', sep='\\t', index=False)"
   ]
  },
  {
   "cell_type": "code",
   "execution_count": 118,
   "metadata": {},
   "outputs": [
    {
     "data": {
      "text/html": [
       "<div>\n",
       "<style scoped>\n",
       "    .dataframe tbody tr th:only-of-type {\n",
       "        vertical-align: middle;\n",
       "    }\n",
       "\n",
       "    .dataframe tbody tr th {\n",
       "        vertical-align: top;\n",
       "    }\n",
       "\n",
       "    .dataframe thead th {\n",
       "        text-align: right;\n",
       "    }\n",
       "</style>\n",
       "<table border=\"1\" class=\"dataframe\">\n",
       "  <thead>\n",
       "    <tr style=\"text-align: right;\">\n",
       "      <th></th>\n",
       "      <th>TraitR</th>\n",
       "      <th>TraitC</th>\n",
       "    </tr>\n",
       "  </thead>\n",
       "  <tbody>\n",
       "    <tr>\n",
       "      <th>0</th>\n",
       "      <td>GO:0042113</td>\n",
       "      <td>GO:0050821</td>\n",
       "    </tr>\n",
       "    <tr>\n",
       "      <th>1</th>\n",
       "      <td>GO:0045333</td>\n",
       "      <td>GO:0050821</td>\n",
       "    </tr>\n",
       "    <tr>\n",
       "      <th>3</th>\n",
       "      <td>GO:0009152</td>\n",
       "      <td>GO:0042113</td>\n",
       "    </tr>\n",
       "    <tr>\n",
       "      <th>4</th>\n",
       "      <td>GO:0005125</td>\n",
       "      <td>GO:0009152</td>\n",
       "    </tr>\n",
       "    <tr>\n",
       "      <th>5</th>\n",
       "      <td>GO:0005125</td>\n",
       "      <td>GO:0042098</td>\n",
       "    </tr>\n",
       "  </tbody>\n",
       "</table>\n",
       "</div>"
      ],
      "text/plain": [
       "       TraitR      TraitC\n",
       "0  GO:0042113  GO:0050821\n",
       "1  GO:0045333  GO:0050821\n",
       "3  GO:0009152  GO:0042113\n",
       "4  GO:0005125  GO:0009152\n",
       "5  GO:0005125  GO:0042098"
      ]
     },
     "execution_count": 118,
     "metadata": {},
     "output_type": "execute_result"
    }
   ],
   "source": [
    "all_cross_pairs.head()"
   ]
  },
  {
   "cell_type": "code",
   "execution_count": 122,
   "metadata": {},
   "outputs": [],
   "source": [
    "for i, pair in all_cross_pairs.iterrows():\n",
    "    rare1 = rn.sample(list(genesets[pair.TraitR]), 50)\n",
    "    common1 = rn.sample(list(genesets[pair.TraitR]), 100)\n",
    "    rare2 = rn.sample(list(genesets[pair.TraitC]), 100)\n",
    "    common2 = rn.sample(list(genesets[pair.TraitC]), 50)\n",
    "    traits = [pair.TraitR, pair.TraitR, pair.TraitC, pair.TraitC]\n",
    "    suffix = ['_RV.txt', '_CV.txt', '_RV.txt', '_CV.txt']\n",
    "    for i, geneset in enumerate([rare1, common1, rare2, common2]):\n",
    "        with open(os.path.join('/cellar/users/snwright/Data/NetColocTest/inputs/GO', traits[i]+suffix[i]), 'w') as out:\n",
    "            out.write('\\n'.join([str(x) for x in geneset]))\n"
   ]
  }
 ],
 "metadata": {
  "kernelspec": {
   "display_name": "Python 3",
   "language": "python",
   "name": "python3"
  },
  "language_info": {
   "codemirror_mode": {
    "name": "ipython",
    "version": 3
   },
   "file_extension": ".py",
   "mimetype": "text/x-python",
   "name": "python",
   "nbconvert_exporter": "python",
   "pygments_lexer": "ipython3",
   "version": "3.7.4"
  }
 },
 "nbformat": 4,
 "nbformat_minor": 4
}
