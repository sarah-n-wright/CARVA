{
 "cells": [
  {
   "cell_type": "markdown",
   "metadata": {},
   "source": [
    "# Network Colocalization Notebook\n",
    "\n",
    "Figures generated:\n",
    "- Figure 2B\n",
    "- Figure 2C\n",
    "- Figure 2D\n",
    "- Figure 2E\n"
   ]
  },
  {
   "cell_type": "markdown",
   "metadata": {},
   "source": [
    "### Set Up"
   ]
  },
  {
   "cell_type": "code",
   "execution_count": 1,
   "metadata": {
    "ExecuteTime": {
     "end_time": "2025-06-30T17:48:19.418074Z",
     "start_time": "2025-06-30T17:48:16.053813Z"
    }
   },
   "outputs": [],
   "source": [
    "import pandas as pd\n",
    "import numpy as np\n",
    "import seaborn as sns\n",
    "import matplotlib.pyplot as plt\n",
    "import os\n",
    "from scipy.stats import hypergeom\n",
    "from scipy.stats import mannwhitneyu\n",
    "import obonet as obo\n",
    "import re\n",
    "from tqdm import tqdm\n",
    "from statsmodels.stats.multitest import fdrcorrection\n",
    "from sklearn.metrics import roc_auc_score"
   ]
  },
  {
   "cell_type": "code",
   "execution_count": 2,
   "metadata": {
    "ExecuteTime": {
     "end_time": "2025-06-30T17:48:19.425423Z",
     "start_time": "2025-06-30T17:48:19.423597Z"
    }
   },
   "outputs": [],
   "source": [
    "cwd = os.getcwd()\n",
    "datadir = os.path.join(cwd, '..')"
   ]
  },
  {
   "cell_type": "code",
   "execution_count": 3,
   "metadata": {
    "ExecuteTime": {
     "end_time": "2025-06-30T17:48:50.073867Z",
     "start_time": "2025-06-30T17:48:49.985615Z"
    }
   },
   "outputs": [],
   "source": [
    "plt.rcParams['svg.fonttype'] = 'none'\n",
    "plt.rcParams.update({'font.size': 7})\n",
    "plt.rcParams['axes.linewidth'] = 0.5\n",
    "plt.rcParams['hatch.linewidth'] = 0.5\n",
    "plt.rcParams['xtick.major.width'] = 0.4\n",
    "plt.rcParams['ytick.major.width'] = 0.4\n",
    "plt.rcParams['xtick.minor.width'] = 0.3\n",
    "plt.rcParams['ytick.minor.width'] = 0.3\n",
    "plt.rcParams['legend.frameon'] = False\n",
    "plt.rcParams['xtick.major.size'] = 3\n",
    "plt.rcParams['ytick.major.size'] = 3\n",
    "plt.rcParams['xtick.minor.size'] = 2\n",
    "plt.rcParams['ytick.minor.size'] = 2\n",
    "plt.rcParams['xtick.major.pad'] = 1\n",
    "plt.rcParams['ytick.major.pad'] = 1\n",
    "plt.rcParams['axes.labelpad'] = 1\n",
    "plt.rcParams['patch.linewidth'] = 0.5\n",
    "import matplotlib.font_manager as fm\n",
    "arial_font_path = os.path.join(datadir, 'Reference_Data', 'Arial.TTF')\n",
    "fm.fontManager.addfont(arial_font_path)\n",
    "import matplotlib\n",
    "matplotlib.rcParams['font.family'] = 'Arial'"
   ]
  },
  {
   "cell_type": "code",
   "execution_count": 4,
   "metadata": {
    "ExecuteTime": {
     "end_time": "2025-06-30T17:48:52.036022Z",
     "start_time": "2025-06-30T17:48:52.032435Z"
    }
   },
   "outputs": [],
   "source": [
    "import re\n",
    "def map_trait_code(code):\n",
    "    efo = next((match.group() for match in re.finditer(r'EFO_\\d+', code)), None)\n",
    "    if efo is not None:\n",
    "        return efo\n",
    "    mondo = next((match.group() for match in re.finditer(r'MONDO_\\d+', code)), None)\n",
    "    if mondo is not None:\n",
    "        return mondo\n",
    "    hp = next((match.group() for match in re.finditer(r'HP_\\d+', code)), None)\n",
    "    if hp is not None:\n",
    "        return hp\n",
    "    go = next((match.group() for match in re.finditer(r'GO_\\d+', code)), None)\n",
    "    if go is not None:\n",
    "        return go\n",
    "    oba = next((match.group() for match in re.finditer(r'OBA_\\d+', code)), None)\n",
    "    if oba is not None:\n",
    "        return oba\n",
    "    return None"
   ]
  },
  {
   "cell_type": "code",
   "execution_count": 7,
   "metadata": {
    "ExecuteTime": {
     "end_time": "2025-06-30T17:49:20.457820Z",
     "start_time": "2025-06-30T17:49:20.455755Z"
    }
   },
   "outputs": [],
   "source": [
    "def get_trait_pair(df, rcol='Rare Study', ccol='Common Study', efocol='EFO'):\n",
    "    df['trait_pair'] = df[rcol].astype(int).astype(str) + '_' + df[efocol] +'_' +df[ccol] +'_'+ df[efocol]\n",
    "    return df"
   ]
  },
  {
   "cell_type": "markdown",
   "metadata": {},
   "source": [
    "## Load NetColoc Results"
   ]
  },
  {
   "cell_type": "code",
   "execution_count": 10,
   "metadata": {
    "ExecuteTime": {
     "end_time": "2025-06-30T17:49:59.432524Z",
     "start_time": "2025-06-30T17:49:59.421275Z"
    }
   },
   "outputs": [],
   "source": [
    "coloc_df = pd.read_csv(os.path.join(datadir, 'outputs/STable2.tsv'), sep='\\t')\n",
    "coloc_df = get_trait_pair(coloc_df)\n",
    "df = coloc_df[coloc_df['Analysis Set']=='Initial'].copy()"
   ]
  },
  {
   "cell_type": "code",
   "execution_count": 11,
   "metadata": {
    "ExecuteTime": {
     "end_time": "2025-06-30T17:50:21.887658Z",
     "start_time": "2025-06-30T17:50:21.871861Z"
    }
   },
   "outputs": [
    {
     "data": {
      "text/html": [
       "<div>\n",
       "<style scoped>\n",
       "    .dataframe tbody tr th:only-of-type {\n",
       "        vertical-align: middle;\n",
       "    }\n",
       "\n",
       "    .dataframe tbody tr th {\n",
       "        vertical-align: top;\n",
       "    }\n",
       "\n",
       "    .dataframe thead th {\n",
       "        text-align: right;\n",
       "    }\n",
       "</style>\n",
       "<table border=\"1\" class=\"dataframe\">\n",
       "  <thead>\n",
       "    <tr style=\"text-align: right;\">\n",
       "      <th></th>\n",
       "      <th>EFO</th>\n",
       "      <th>Trait</th>\n",
       "      <th>Common Study</th>\n",
       "      <th>Rare Study</th>\n",
       "      <th>Analysis Set</th>\n",
       "      <th>nCommon</th>\n",
       "      <th>nRare</th>\n",
       "      <th>nShared</th>\n",
       "      <th>pShared</th>\n",
       "      <th>Network</th>\n",
       "      <th>...</th>\n",
       "      <th>COLOC Score HN</th>\n",
       "      <th>COLOC P HN</th>\n",
       "      <th>COLOC -logp HN</th>\n",
       "      <th>Observed Size ST</th>\n",
       "      <th>Expected Size ST</th>\n",
       "      <th>Log2SizeOE ST</th>\n",
       "      <th>COLOC Score ST</th>\n",
       "      <th>COLOC P ST</th>\n",
       "      <th>COLOC -logp ST</th>\n",
       "      <th>trait_pair</th>\n",
       "    </tr>\n",
       "  </thead>\n",
       "  <tbody>\n",
       "    <tr>\n",
       "      <th>4</th>\n",
       "      <td>EFO_0000095</td>\n",
       "      <td>chronic lymphocytic leukemia</td>\n",
       "      <td>GCST90027053</td>\n",
       "      <td>34662886</td>\n",
       "      <td>Initial</td>\n",
       "      <td>24</td>\n",
       "      <td>4</td>\n",
       "      <td>0</td>\n",
       "      <td>0.005043</td>\n",
       "      <td>PCNet2.0</td>\n",
       "      <td>...</td>\n",
       "      <td>NaN</td>\n",
       "      <td>NaN</td>\n",
       "      <td>NaN</td>\n",
       "      <td>NaN</td>\n",
       "      <td>NaN</td>\n",
       "      <td>NaN</td>\n",
       "      <td>NaN</td>\n",
       "      <td>NaN</td>\n",
       "      <td>NaN</td>\n",
       "      <td>34662886_EFO_0000095_GCST90027053_EFO_0000095</td>\n",
       "    </tr>\n",
       "    <tr>\n",
       "      <th>5</th>\n",
       "      <td>EFO_0000096</td>\n",
       "      <td>neoplasm of mature B-cells</td>\n",
       "      <td>GCST002643</td>\n",
       "      <td>34375979</td>\n",
       "      <td>Initial</td>\n",
       "      <td>4</td>\n",
       "      <td>8</td>\n",
       "      <td>0</td>\n",
       "      <td>0.001683</td>\n",
       "      <td>PCNet2.0</td>\n",
       "      <td>...</td>\n",
       "      <td>0.509329</td>\n",
       "      <td>1.661000e-11</td>\n",
       "      <td>10.779630</td>\n",
       "      <td>NaN</td>\n",
       "      <td>NaN</td>\n",
       "      <td>NaN</td>\n",
       "      <td>NaN</td>\n",
       "      <td>NaN</td>\n",
       "      <td>NaN</td>\n",
       "      <td>34375979_EFO_0000096_GCST002643_EFO_0000096</td>\n",
       "    </tr>\n",
       "    <tr>\n",
       "      <th>6</th>\n",
       "      <td>EFO_0000198</td>\n",
       "      <td>myelodysplastic syndrome</td>\n",
       "      <td>GCST009516</td>\n",
       "      <td>34375979</td>\n",
       "      <td>Initial</td>\n",
       "      <td>5</td>\n",
       "      <td>14</td>\n",
       "      <td>0</td>\n",
       "      <td>0.003679</td>\n",
       "      <td>PCNet2.0</td>\n",
       "      <td>...</td>\n",
       "      <td>0.303945</td>\n",
       "      <td>2.408000e-27</td>\n",
       "      <td>26.618344</td>\n",
       "      <td>123.0</td>\n",
       "      <td>133.584</td>\n",
       "      <td>-0.119089</td>\n",
       "      <td>0.920769</td>\n",
       "      <td>2.971000e-01</td>\n",
       "      <td>0.527097</td>\n",
       "      <td>34375979_EFO_0000198_GCST009516_EFO_0000198</td>\n",
       "    </tr>\n",
       "    <tr>\n",
       "      <th>7</th>\n",
       "      <td>EFO_0000217</td>\n",
       "      <td>gastritis</td>\n",
       "      <td>GCST002638</td>\n",
       "      <td>34375979</td>\n",
       "      <td>Initial</td>\n",
       "      <td>4</td>\n",
       "      <td>23</td>\n",
       "      <td>0</td>\n",
       "      <td>0.004834</td>\n",
       "      <td>PCNet2.0</td>\n",
       "      <td>...</td>\n",
       "      <td>0.759908</td>\n",
       "      <td>3.760000e-04</td>\n",
       "      <td>3.424812</td>\n",
       "      <td>144.0</td>\n",
       "      <td>169.132</td>\n",
       "      <td>-0.232081</td>\n",
       "      <td>0.851406</td>\n",
       "      <td>2.702000e-02</td>\n",
       "      <td>1.568315</td>\n",
       "      <td>34375979_EFO_0000217_GCST002638_EFO_0000217</td>\n",
       "    </tr>\n",
       "    <tr>\n",
       "      <th>8</th>\n",
       "      <td>EFO_0000266</td>\n",
       "      <td>aortic stenosis</td>\n",
       "      <td>GCST90276156</td>\n",
       "      <td>34375979</td>\n",
       "      <td>Initial</td>\n",
       "      <td>9</td>\n",
       "      <td>19</td>\n",
       "      <td>0</td>\n",
       "      <td>0.008966</td>\n",
       "      <td>PCNet2.0</td>\n",
       "      <td>...</td>\n",
       "      <td>1.646397</td>\n",
       "      <td>4.895000e-22</td>\n",
       "      <td>21.310247</td>\n",
       "      <td>296.0</td>\n",
       "      <td>139.678</td>\n",
       "      <td>1.083492</td>\n",
       "      <td>2.119160</td>\n",
       "      <td>2.000000e-47</td>\n",
       "      <td>46.698970</td>\n",
       "      <td>34375979_EFO_0000266_GCST90276156_EFO_0000266</td>\n",
       "    </tr>\n",
       "  </tbody>\n",
       "</table>\n",
       "<p>5 rows × 36 columns</p>\n",
       "</div>"
      ],
      "text/plain": [
       "           EFO                         Trait  Common Study  Rare Study  \\\n",
       "4  EFO_0000095  chronic lymphocytic leukemia  GCST90027053    34662886   \n",
       "5  EFO_0000096    neoplasm of mature B-cells    GCST002643    34375979   \n",
       "6  EFO_0000198      myelodysplastic syndrome    GCST009516    34375979   \n",
       "7  EFO_0000217                     gastritis    GCST002638    34375979   \n",
       "8  EFO_0000266               aortic stenosis  GCST90276156    34375979   \n",
       "\n",
       "  Analysis Set  nCommon  nRare  nShared   pShared   Network  ...  \\\n",
       "4      Initial       24      4        0  0.005043  PCNet2.0  ...   \n",
       "5      Initial        4      8        0  0.001683  PCNet2.0  ...   \n",
       "6      Initial        5     14        0  0.003679  PCNet2.0  ...   \n",
       "7      Initial        4     23        0  0.004834  PCNet2.0  ...   \n",
       "8      Initial        9     19        0  0.008966  PCNet2.0  ...   \n",
       "\n",
       "   COLOC Score HN    COLOC P HN  COLOC -logp HN  Observed Size ST  \\\n",
       "4             NaN           NaN             NaN               NaN   \n",
       "5        0.509329  1.661000e-11       10.779630               NaN   \n",
       "6        0.303945  2.408000e-27       26.618344             123.0   \n",
       "7        0.759908  3.760000e-04        3.424812             144.0   \n",
       "8        1.646397  4.895000e-22       21.310247             296.0   \n",
       "\n",
       "   Expected Size ST  Log2SizeOE ST  COLOC Score ST    COLOC P ST  \\\n",
       "4               NaN            NaN             NaN           NaN   \n",
       "5               NaN            NaN             NaN           NaN   \n",
       "6           133.584      -0.119089        0.920769  2.971000e-01   \n",
       "7           169.132      -0.232081        0.851406  2.702000e-02   \n",
       "8           139.678       1.083492        2.119160  2.000000e-47   \n",
       "\n",
       "   COLOC -logp ST                                     trait_pair  \n",
       "4             NaN  34662886_EFO_0000095_GCST90027053_EFO_0000095  \n",
       "5             NaN    34375979_EFO_0000096_GCST002643_EFO_0000096  \n",
       "6        0.527097    34375979_EFO_0000198_GCST009516_EFO_0000198  \n",
       "7        1.568315    34375979_EFO_0000217_GCST002638_EFO_0000217  \n",
       "8       46.698970  34375979_EFO_0000266_GCST90276156_EFO_0000266  \n",
       "\n",
       "[5 rows x 36 columns]"
      ]
     },
     "execution_count": 11,
     "metadata": {},
     "output_type": "execute_result"
    }
   ],
   "source": [
    "df['StudyC']"
   ]
  },
  {
   "cell_type": "code",
   "execution_count": 5,
   "metadata": {
    "ExecuteTime": {
     "end_time": "2025-06-18T17:02:02.948405Z",
     "start_time": "2025-06-18T17:02:02.943711Z"
    }
   },
   "outputs": [],
   "source": [
    "def load_files_from_list(outdir, job_id):\n",
    "    with open(os.path.join(outdir, f'{job_id}.files'), 'r') as f:\n",
    "        filenames = [s.strip() for s in f.readlines()] \n",
    "    loaded_data = []\n",
    "    not_found = 0\n",
    "    for f in filenames:\n",
    "        try:\n",
    "            loaded_data.append(pd.read_csv(os.path.join(outdir, f), sep='\\t', header=None))\n",
    "        except:\n",
    "            not_found += 1\n",
    "    print(f'Files loaded {len(loaded_data)}\\n', f'Files not found {not_found}')\n",
    "    results = pd.concat(loaded_data)\n",
    "    results.columns = ['TraitR', 'TraitC', 'Network','Transform', 'Norm', 'Mean_NPS', \n",
    "                             'Null_mean_NPS', 'P_mean_NPS', 'Size', 'Null_Size', 'P_size' ]\n",
    "    results['logp_nps'] = results.P_mean_NPS.apply(lambda x: -1 * np.log10(x+1e-250))\n",
    "    results['logp_size'] = results.P_size.apply(lambda x: -1 * np.log10(x+1e-250))\n",
    "    results['log2SizeOE'] = np.log2(results['Size'] / results['Null_Size'])\n",
    "    return results\n"
   ]
  },
  {
   "cell_type": "code",
   "execution_count": 6,
   "metadata": {
    "ExecuteTime": {
     "end_time": "2025-06-18T17:02:04.597418Z",
     "start_time": "2025-06-18T17:02:02.949871Z"
    }
   },
   "outputs": [
    {
     "name": "stdout",
     "output_type": "stream",
     "text": [
      "Files loaded 373\n",
      " Files not found 0\n"
     ]
    }
   ],
   "source": [
    "#df = pd.read_csv(os.path.join(output_dir, 'netcoloc/March_2025', 'rvc_qnetcoloc_rv_gc.txt'), sep='\\t', header=None,\n",
    "#                names =['TraitR', 'TraitC', 'Network','Transform', 'Norm','Mean_NPS', 'Null_mean_NPS', 'P_mean_NPS', 'Size', 'Null_Size', 'P_size' ])\n",
    "\n",
    "df = load_files_from_list(os.path.join(output_dir, 'netcoloc', 'March_2025'), 2214576)\n",
    "df['slurm_idx'] = [x for x in range(len(df))]\n",
    "df['EFO'] = df.TraitR.apply(lambda x: map_trait_code(x))\n",
    "df['StudyC'] = df.TraitC.apply(lambda x: next((match.group() for match in re.finditer(r'GCST\\d+', x)), None))\n",
    "df['StudyR'] = df.TraitR.apply(lambda x: x.split('_')[0])\n",
    "df['trait_pair'] = df['TraitR'] + '_' + df['TraitC']"
   ]
  },
  {
   "cell_type": "code",
   "execution_count": 7,
   "metadata": {
    "ExecuteTime": {
     "end_time": "2025-06-18T17:02:04.852673Z",
     "start_time": "2025-06-18T17:02:04.598904Z"
    }
   },
   "outputs": [],
   "source": [
    "c_traitlist = pd.read_csv(os.path.join(input_dir, 'March_2025', 'common_Mar28.traitlist'), header=None)[0].values\n",
    "r_traitlist = pd.read_csv(os.path.join(input_dir, 'March_2025', 'rare_Mar28.traitlist'), header=None)[0].values"
   ]
  },
  {
   "cell_type": "code",
   "execution_count": 8,
   "metadata": {
    "ExecuteTime": {
     "end_time": "2025-06-18T17:02:04.855887Z",
     "start_time": "2025-06-18T17:02:04.853963Z"
    }
   },
   "outputs": [],
   "source": [
    "trait_pairs = ['_'.join(x) for x in zip(r_traitlist, c_traitlist)]"
   ]
  },
  {
   "cell_type": "code",
   "execution_count": 17,
   "metadata": {
    "ExecuteTime": {
     "end_time": "2025-06-30T17:51:58.900608Z",
     "start_time": "2025-06-30T17:51:58.896217Z"
    }
   },
   "outputs": [],
   "source": [
    "df['q'] = fdrcorrection(df['COLOC p'].values)[1]\n",
    "df['logq'] = df.q.apply(lambda z: -1 * np.log10(z + 1e-250))\n",
    "df['plot_color'] = df['COLOC -logp'].apply(lambda z: min(z, 50))"
   ]
  },
  {
   "cell_type": "code",
   "execution_count": 19,
   "metadata": {
    "ExecuteTime": {
     "end_time": "2025-06-30T17:52:24.995218Z",
     "start_time": "2025-06-30T17:52:24.992056Z"
    }
   },
   "outputs": [
    {
     "data": {
      "text/plain": [
       "Index(['EFO', 'Trait', 'Common Study', 'Rare Study', 'Analysis Set', 'nCommon',\n",
       "       'nRare', 'nShared', 'pShared', 'Network', 'Observed Size',\n",
       "       'Expected Size', 'Log2SizeOE', 'COLOC Score', 'COLOC p', 'COLOC -logp',\n",
       "       'Optimal COLOC', 'Observed Size PC22', 'Expected Size PC22',\n",
       "       'Log2SizeOE PC22', 'COLOC Score PC22', 'COLOC P PC22',\n",
       "       'COLOC -logp PC22', 'Observed Size HN', 'Expected Size HN',\n",
       "       'Log2SizeOE HN', 'COLOC Score HN', 'COLOC P HN', 'COLOC -logp HN',\n",
       "       'Observed Size ST', 'Expected Size ST', 'Log2SizeOE ST',\n",
       "       'COLOC Score ST', 'COLOC P ST', 'COLOC -logp ST', 'trait_pair', 'q',\n",
       "       'logq', 'plot_color'],\n",
       "      dtype='object')"
      ]
     },
     "execution_count": 19,
     "metadata": {},
     "output_type": "execute_result"
    }
   ],
   "source": [
    "df.columns"
   ]
  },
  {
   "cell_type": "markdown",
   "metadata": {},
   "source": [
    "Load optimization results"
   ]
  },
  {
   "cell_type": "markdown",
   "metadata": {},
   "source": [
    "## Figure 2B - NetColoc Spectrum"
   ]
  },
  {
   "cell_type": "code",
   "execution_count": 20,
   "metadata": {
    "ExecuteTime": {
     "end_time": "2025-06-30T17:52:38.772966Z",
     "start_time": "2025-06-30T17:52:36.592567Z"
    }
   },
   "outputs": [
    {
     "data": {
      "text/plain": [
       "<Axes: >"
      ]
     },
     "execution_count": 20,
     "metadata": {},
     "output_type": "execute_result"
    },
    {
     "data": {
      "image/png": "[encoded data removed]",
      "text/plain": [
       "<Figure size 1100x200 with 3 Axes>"
      ]
     },
     "metadata": {},
     "output_type": "display_data"
    }
   ],
   "source": [
    "_, [ax1, ax2] = plt.subplots(nrows=1, ncols=2, figsize=(11, 2), gridspec_kw={'width_ratios':[7,2]})\n",
    "\n",
    "df['plot_color'] = df.logq.apply(lambda z: min(z, 50))\n",
    "sns.barplot(df.sort_values(by='Log2SizeOE', ascending=False), x='trait_pair', y='Log2SizeOE', hue='plot_color', \n",
    "            palette='RdPu', width=1, zorder=5, ax=ax1)\n",
    "_ = ax1.set_xticks([])\n",
    "ax1.hlines(y=[ np.log2(2.5),], xmin=-0.5, xmax=373, linestyle='-', color='black', alpha=0.6, \n",
    "           linewidth=0.3, zorder=0)\n",
    "ax1.hlines(y=[ np.log2(1.3),], xmin=-0.5, xmax=373, linestyle='-', color='black', alpha=0.3, \n",
    "           linewidth=0.3, zorder=0)\n",
    "ax1.hlines(y=0, xmin=-0.5, xmax=373.5, color='black', linewidth=0.5, zorder=6)\n",
    "ax1.set_xlim(-0.75, 372.75)\n",
    "\n",
    "ax1.set_yticks([-1, 0, 1, 2], labels=[0.5, 1, 2, 4])\n",
    "_ = ax1.set_yticks(np.log2([3,5,6]), minor=True)\n",
    "ax1.set_ylabel('COLOC Score')\n",
    "ax1.set_xlabel(f'Phenotypes (n={len(df)})')\n",
    "ax1.set_xticks([0, 50, 100, 150, 200, 250, 300, 350], labels = [0, 50, 100, 150, 200, 250, 300, 350])\n",
    "sns.heatmap(df.plot_color.values.reshape(373, 1), cmap='RdPu', cbar_kws={'shrink':0.75})"
   ]
  },
  {
   "cell_type": "code",
   "execution_count": 21,
   "metadata": {
    "ExecuteTime": {
     "end_time": "2025-06-30T17:53:05.203312Z",
     "start_time": "2025-06-30T17:53:05.199373Z"
    }
   },
   "outputs": [
    {
     "name": "stdout",
     "output_type": "stream",
     "text": [
      "Total sig coloc 254\n",
      "Total sig coloc % 68.1\n"
     ]
    }
   ],
   "source": [
    "print('Total sig coloc', len(df[(df.Log2SizeOE > 0) & (df.q < 0.05)]))\n",
    "print('Total sig coloc %', f'{100*len(df[(df.Log2SizeOE > 0) & (df.q < 0.05)])/373:.1f}')"
   ]
  },
  {
   "cell_type": "code",
   "execution_count": 22,
   "metadata": {
    "ExecuteTime": {
     "end_time": "2025-06-30T17:53:06.915567Z",
     "start_time": "2025-06-30T17:53:06.911929Z"
    }
   },
   "outputs": [
    {
     "name": "stdout",
     "output_type": "stream",
     "text": [
      "Total strong 174\n",
      "Total strong % 46.64879356568365\n"
     ]
    }
   ],
   "source": [
    "print('Total strong', len(df[(df.Log2SizeOE > np.log2(2))& (df.q < 0.05)]))\n",
    "print('Total strong %', 100*len(df[(df.Log2SizeOE > np.log2(2))& (df.q < 0.05)])/373)"
   ]
  },
  {
   "cell_type": "markdown",
   "metadata": {},
   "source": [
    "## Figure 2C - Categorical vs Continuous"
   ]
  },
  {
   "cell_type": "code",
   "execution_count": 34,
   "metadata": {
    "ExecuteTime": {
     "end_time": "2025-06-30T17:58:41.445199Z",
     "start_time": "2025-06-30T17:58:41.434304Z"
    }
   },
   "outputs": [],
   "source": [
    "info_df = pd.read_csv(os.path.join(datadir, 'outputs/STable1.tsv'), sep='\\t', usecols=['Mapped EFO', 'Trait Type', \n",
    "                                                                              'Biological Domain', 'Mapped Trait']).drop_duplicates()\n",
    "info_df.columns = ['TRAIT', 'EFO', 'trait_type', 'Domain']"
   ]
  },
  {
   "cell_type": "code",
   "execution_count": 35,
   "metadata": {
    "ExecuteTime": {
     "end_time": "2025-06-30T17:58:43.738205Z",
     "start_time": "2025-06-30T17:58:43.733850Z"
    }
   },
   "outputs": [],
   "source": [
    "type_df = df.merge(info_df.loc[:, ['EFO', 'trait_type', 'Domain']].drop_duplicates(), on='EFO', how='inner')"
   ]
  },
  {
   "cell_type": "code",
   "execution_count": 37,
   "metadata": {
    "ExecuteTime": {
     "end_time": "2025-06-30T17:58:49.646427Z",
     "start_time": "2025-06-30T17:58:48.918776Z"
    }
   },
   "outputs": [
    {
     "data": {
      "image/png": "[encoded data removed]",
      "text/plain": [
       "<Figure size 200x200 with 1 Axes>"
      ]
     },
     "metadata": {},
     "output_type": "display_data"
    }
   ],
   "source": [
    "_ = plt.figure(figsize=(2,2))\n",
    "\n",
    "type_df['swarm_color'] = type_df.apply(lambda x: 'Lipid' if x.Domain=='Lipid Measurement' else x.trait_type, axis=1)\n",
    "sns.violinplot(type_df, x='trait_type', y='Log2SizeOE', cut=0, fill=0,color='grey', zorder=2, linewidth=0.5, width=1)\n",
    "sns.swarmplot(type_df, x='trait_type', y='Log2SizeOE', hue='swarm_color', zorder=1, \n",
    "              palette=['#00606f', '#509aa5', '#ADD7DE'],  s=2)\n",
    "\n",
    "ax1 = plt.gca()\n",
    "\n",
    "ax1.hlines(y=[1, 2], xmin=-0.5, xmax=1.5, linestyle='-', color='grey', \n",
    "           linewidth=0.3, zorder=0)\n",
    "ax1.hlines(y=0, xmin=-0.5, xmax=1.5, color='black', linewidth=0.5, zorder=6)\n",
    "ax1.set_xlim(-0.5, 1.5)\n",
    "ax1.set_yticks([-1, 0, 1, 2], labels=[0.5, 1, 2, 4])\n",
    "_ = ax1.set_yticks(np.log2([3,5,6]), minor=True)\n",
    "ax1.set_xlabel('Trait Type')\n",
    "_ = ax1.set_xticks([0,1], labels=['Categorical', 'Continuous'])\n",
    "_ = ax1.set_ylabel('COLOC Score')"
   ]
  },
  {
   "cell_type": "code",
   "execution_count": 30,
   "metadata": {
    "ExecuteTime": {
     "end_time": "2025-06-30T17:56:14.884773Z",
     "start_time": "2025-06-30T17:56:14.879736Z"
    }
   },
   "outputs": [
    {
     "data": {
      "text/plain": [
       "MannwhitneyuResult(statistic=1173.0, pvalue=1.0565521566904869e-54)"
      ]
     },
     "execution_count": 30,
     "metadata": {},
     "output_type": "execute_result"
    }
   ],
   "source": [
    "mannwhitneyu(type_df[type_df.trait_type=='Categorical'].Log2SizeOE.values,type_df[(type_df.trait_type=='Continuous')].Log2SizeOE.values )"
   ]
  },
  {
   "cell_type": "code",
   "execution_count": 38,
   "metadata": {
    "ExecuteTime": {
     "end_time": "2025-06-30T17:58:54.519934Z",
     "start_time": "2025-06-30T17:58:54.517136Z"
    }
   },
   "outputs": [
    {
     "name": "stdout",
     "output_type": "stream",
     "text": [
      "Average COLOC, Lipid Measurement: 3.6\n"
     ]
    }
   ],
   "source": [
    "print('Average COLOC, Lipid Measurement:', f'{np.mean([2*x for x in type_df[type_df.Domain==\"Lipid Measurement\"].Log2SizeOE.values]):.1f}')"
   ]
  },
  {
   "cell_type": "markdown",
   "metadata": {},
   "source": [
    "## Figure 2D"
   ]
  },
  {
   "cell_type": "code",
   "execution_count": 41,
   "metadata": {
    "ExecuteTime": {
     "end_time": "2025-06-30T17:59:37.512942Z",
     "start_time": "2025-06-30T17:59:37.509874Z"
    }
   },
   "outputs": [],
   "source": [
    "domain_map = {d:d for d in type_df.Domain.unique()}\n",
    "domain_map['Pain'] = 'Other'\n",
    "domain_map['Hepatic'] = 'Other'\n",
    "type_df['Domain'] = type_df.Domain.map(domain_map)"
   ]
  },
  {
   "cell_type": "code",
   "execution_count": 42,
   "metadata": {
    "ExecuteTime": {
     "end_time": "2025-06-30T17:59:39.245463Z",
     "start_time": "2025-06-30T17:59:39.237335Z"
    }
   },
   "outputs": [
    {
     "data": {
      "text/html": [
       "<div>\n",
       "<style scoped>\n",
       "    .dataframe tbody tr th:only-of-type {\n",
       "        vertical-align: middle;\n",
       "    }\n",
       "\n",
       "    .dataframe tbody tr th {\n",
       "        vertical-align: top;\n",
       "    }\n",
       "\n",
       "    .dataframe thead th {\n",
       "        text-align: right;\n",
       "    }\n",
       "</style>\n",
       "<table border=\"1\" class=\"dataframe\">\n",
       "  <thead>\n",
       "    <tr style=\"text-align: right;\">\n",
       "      <th></th>\n",
       "      <th>total</th>\n",
       "      <th>Colocalized</th>\n",
       "      <th>fraction</th>\n",
       "    </tr>\n",
       "    <tr>\n",
       "      <th>Domain</th>\n",
       "      <th></th>\n",
       "      <th></th>\n",
       "      <th></th>\n",
       "    </tr>\n",
       "  </thead>\n",
       "  <tbody>\n",
       "    <tr>\n",
       "      <th>Infection</th>\n",
       "      <td>18</td>\n",
       "      <td>4</td>\n",
       "      <td>0.222222</td>\n",
       "    </tr>\n",
       "    <tr>\n",
       "      <th>Other</th>\n",
       "      <td>8</td>\n",
       "      <td>2</td>\n",
       "      <td>0.250000</td>\n",
       "    </tr>\n",
       "    <tr>\n",
       "      <th>Neoplasm</th>\n",
       "      <td>26</td>\n",
       "      <td>9</td>\n",
       "      <td>0.346154</td>\n",
       "    </tr>\n",
       "    <tr>\n",
       "      <th>Skeletal</th>\n",
       "      <td>17</td>\n",
       "      <td>6</td>\n",
       "      <td>0.352941</td>\n",
       "    </tr>\n",
       "    <tr>\n",
       "      <th>Dermatological</th>\n",
       "      <td>10</td>\n",
       "      <td>4</td>\n",
       "      <td>0.400000</td>\n",
       "    </tr>\n",
       "    <tr>\n",
       "      <th>Gastrointestinal</th>\n",
       "      <td>12</td>\n",
       "      <td>5</td>\n",
       "      <td>0.416667</td>\n",
       "    </tr>\n",
       "    <tr>\n",
       "      <th>Respiratory</th>\n",
       "      <td>9</td>\n",
       "      <td>4</td>\n",
       "      <td>0.444444</td>\n",
       "    </tr>\n",
       "    <tr>\n",
       "      <th>Muscular</th>\n",
       "      <td>9</td>\n",
       "      <td>4</td>\n",
       "      <td>0.444444</td>\n",
       "    </tr>\n",
       "    <tr>\n",
       "      <th>Psychiatric</th>\n",
       "      <td>8</td>\n",
       "      <td>4</td>\n",
       "      <td>0.500000</td>\n",
       "    </tr>\n",
       "    <tr>\n",
       "      <th>Reproductive</th>\n",
       "      <td>6</td>\n",
       "      <td>3</td>\n",
       "      <td>0.500000</td>\n",
       "    </tr>\n",
       "    <tr>\n",
       "      <th>EarNoseThroat</th>\n",
       "      <td>6</td>\n",
       "      <td>3</td>\n",
       "      <td>0.500000</td>\n",
       "    </tr>\n",
       "    <tr>\n",
       "      <th>Neurological</th>\n",
       "      <td>13</td>\n",
       "      <td>7</td>\n",
       "      <td>0.538462</td>\n",
       "    </tr>\n",
       "    <tr>\n",
       "      <th>Endocrine</th>\n",
       "      <td>11</td>\n",
       "      <td>6</td>\n",
       "      <td>0.545455</td>\n",
       "    </tr>\n",
       "    <tr>\n",
       "      <th>Cardiovascular</th>\n",
       "      <td>21</td>\n",
       "      <td>12</td>\n",
       "      <td>0.571429</td>\n",
       "    </tr>\n",
       "    <tr>\n",
       "      <th>Opthamological</th>\n",
       "      <td>12</td>\n",
       "      <td>8</td>\n",
       "      <td>0.666667</td>\n",
       "    </tr>\n",
       "    <tr>\n",
       "      <th>Renal</th>\n",
       "      <td>9</td>\n",
       "      <td>6</td>\n",
       "      <td>0.666667</td>\n",
       "    </tr>\n",
       "    <tr>\n",
       "      <th>Immunological</th>\n",
       "      <td>18</td>\n",
       "      <td>14</td>\n",
       "      <td>0.777778</td>\n",
       "    </tr>\n",
       "    <tr>\n",
       "      <th>Hematological</th>\n",
       "      <td>14</td>\n",
       "      <td>11</td>\n",
       "      <td>0.785714</td>\n",
       "    </tr>\n",
       "    <tr>\n",
       "      <th>Metabolic</th>\n",
       "      <td>24</td>\n",
       "      <td>21</td>\n",
       "      <td>0.875000</td>\n",
       "    </tr>\n",
       "    <tr>\n",
       "      <th>Lipid Measurement</th>\n",
       "      <td>116</td>\n",
       "      <td>115</td>\n",
       "      <td>0.991379</td>\n",
       "    </tr>\n",
       "    <tr>\n",
       "      <th>Anthropometric</th>\n",
       "      <td>6</td>\n",
       "      <td>6</td>\n",
       "      <td>1.000000</td>\n",
       "    </tr>\n",
       "  </tbody>\n",
       "</table>\n",
       "</div>"
      ],
      "text/plain": [
       "                   total  Colocalized  fraction\n",
       "Domain                                         \n",
       "Infection             18            4  0.222222\n",
       "Other                  8            2  0.250000\n",
       "Neoplasm              26            9  0.346154\n",
       "Skeletal              17            6  0.352941\n",
       "Dermatological        10            4  0.400000\n",
       "Gastrointestinal      12            5  0.416667\n",
       "Respiratory            9            4  0.444444\n",
       "Muscular               9            4  0.444444\n",
       "Psychiatric            8            4  0.500000\n",
       "Reproductive           6            3  0.500000\n",
       "EarNoseThroat          6            3  0.500000\n",
       "Neurological          13            7  0.538462\n",
       "Endocrine             11            6  0.545455\n",
       "Cardiovascular        21           12  0.571429\n",
       "Opthamological        12            8  0.666667\n",
       "Renal                  9            6  0.666667\n",
       "Immunological         18           14  0.777778\n",
       "Hematological         14           11  0.785714\n",
       "Metabolic             24           21  0.875000\n",
       "Lipid Measurement    116          115  0.991379\n",
       "Anthropometric         6            6  1.000000"
      ]
     },
     "execution_count": 42,
     "metadata": {},
     "output_type": "execute_result"
    }
   ],
   "source": [
    "domain_counts = pd.DataFrame({'total':type_df.groupby('Domain').EFO.count(), \n",
    "             'Colocalized': type_df[(type_df.q < 0.05) & (type_df.Log2SizeOE > 0)].groupby('Domain').EFO.count()}).fillna(0)\n",
    "domain_counts['fraction'] = domain_counts.Colocalized / domain_counts.total\n",
    "domain_counts.sort_values('fraction')"
   ]
  },
  {
   "cell_type": "code",
   "execution_count": 43,
   "metadata": {
    "ExecuteTime": {
     "end_time": "2025-06-30T17:59:54.032837Z",
     "start_time": "2025-06-30T17:59:54.030181Z"
    }
   },
   "outputs": [],
   "source": [
    "order = type_df.groupby('Domain').Log2SizeOE.median().sort_values().index[::-1]"
   ]
  },
  {
   "cell_type": "code",
   "execution_count": 44,
   "metadata": {
    "ExecuteTime": {
     "end_time": "2025-06-30T18:00:15.461349Z",
     "start_time": "2025-06-30T18:00:15.453541Z"
    }
   },
   "outputs": [],
   "source": [
    "percent_continuous = type_df.groupby('Domain').trait_type.value_counts().reset_index().pivot(index='Domain', columns='trait_type', values='count'\n",
    "                                                                                            ).reset_index().fillna(0)\n",
    "percent_continuous['frac'] = percent_continuous['Continuous']/(percent_continuous['Categorical']+percent_continuous['Continuous'])"
   ]
  },
  {
   "cell_type": "code",
   "execution_count": 47,
   "metadata": {
    "ExecuteTime": {
     "end_time": "2025-06-30T18:01:11.721984Z",
     "start_time": "2025-06-30T18:01:11.377802Z"
    }
   },
   "outputs": [
    {
     "data": {
      "text/plain": [
       "Text(0, 0.5, '% Cont.')"
      ]
     },
     "execution_count": 47,
     "metadata": {},
     "output_type": "execute_result"
    },
    {
     "data": {
      "image/png": "[encoded data removed]",
      "text/plain": [
       "<Figure size 500x175 with 2 Axes>"
      ]
     },
     "metadata": {},
     "output_type": "display_data"
    }
   ],
   "source": [
    "_, [ax2, ax1] = plt.subplots(nrows=2, ncols=1, figsize=(5, 1.75), gridspec_kw={'height_ratios':[0.5,3], 'hspace':0}, sharex=True)\n",
    "sns.stripplot(type_df, x='Domain', y='Log2SizeOE', hue='Domain', jitter=0, s=8,ax=ax1,\n",
    "               alpha=0.6, legend=False, palette=['#441f5d', '#8d3b72']*10+['#441f5d'], order=order, hue_order=order)\n",
    "percent_contuinuous = type_df.groupby('Domain').trait_type.value_counts()\n",
    "sns.barplot(percent_continuous, x='Domain', y='frac', ax=ax2, edgecolor='black', saturation=1, color='#509aa5')\n",
    "\n",
    "# add a median bar for each value of x\n",
    "sns.pointplot(type_df.groupby('Domain').Log2SizeOE.median().reset_index(), x='Domain', y='Log2SizeOE', color='black', markers='_', dodge=True, order=order, zorder=200,\n",
    "              linestyle='none', markersize=10, ax=ax1)#, hue='Domain', palette=['darkblue', 'royalblue']*10+['darkblue'], hue_order=order)\n",
    "ax1.tick_params(axis='x', rotation=90)\n",
    "ax1.hlines(y=0, xmin=-0.5, xmax=20.5, color='black',linewidth=0.5, linestyle='-', zorder=100)\n",
    "ax1.vlines(x=[i+0.5 for i in range(20)], ymin=-1.55, ymax=3, linewidth=0.3, color='grey')\n",
    "ax1.set_xlim(-0.5, 20.5)\n",
    "ax1.set_ylim(-1.55, 3)\n",
    "ax1.set_yticks([-1, 0, 1, 2], labels=[0.5, 1, 2, 4])\n",
    "_ = ax1.set_yticks(np.log2([3,5,6]), minor=True)\n",
    "plt.ylabel('COLOC Score')\n",
    "ax2.set_ylabel('% Cont.', rotation=0)"
   ]
  }
 ],
 "metadata": {
  "kernelspec": {
   "display_name": "Python (CARVA)",
   "language": "python",
   "name": "carva"
  },
  "language_info": {
   "codemirror_mode": {
    "name": "ipython",
    "version": 3
   },
   "file_extension": ".py",
   "mimetype": "text/x-python",
   "name": "python",
   "nbconvert_exporter": "python",
   "pygments_lexer": "ipython3",
   "version": "3.10.0"
  },
  "toc": {
   "base_numbering": 1,
   "nav_menu": {},
   "number_sections": true,
   "sideBar": true,
   "skip_h1_title": false,
   "title_cell": "Table of Contents",
   "title_sidebar": "Contents",
   "toc_cell": false,
   "toc_position": {
    "height": "calc(100% - 180px)",
    "left": "10px",
    "top": "150px",
    "width": "306.328px"
   },
   "toc_section_display": true,
   "toc_window_display": true
  },
  "varInspector": {
   "cols": {
    "lenName": 16,
    "lenType": 16,
    "lenVar": 40
   },
   "kernels_config": {
    "python": {
     "delete_cmd_postfix": "",
     "delete_cmd_prefix": "del ",
     "library": "var_list.py",
     "varRefreshCmd": "print(var_dic_list())"
    },
    "r": {
     "delete_cmd_postfix": ") ",
     "delete_cmd_prefix": "rm(",
     "library": "var_list.r",
     "varRefreshCmd": "cat(var_dic_list()) "
    }
   },
   "types_to_exclude": [
    "module",
    "function",
    "builtin_function_or_method",
    "instance",
    "_Feature"
   ],
   "window_display": false
  }
 },
 "nbformat": 4,
 "nbformat_minor": 2
}
