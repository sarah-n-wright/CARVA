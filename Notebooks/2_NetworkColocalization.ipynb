{
 "cells": [
  {
   "cell_type": "markdown",
   "metadata": {},
   "source": [
    "# Network Colocalization Notebook\n",
    "\n",
    "Figures generated:\n",
    "- Figure 2B\n",
    "- Figure 2C\n",
    "- Figure 2D\n",
    "- Figure 2E\n"
   ]
  },
  {
   "cell_type": "markdown",
   "metadata": {},
   "source": [
    "### Set Up"
   ]
  },
  {
   "cell_type": "code",
   "execution_count": 1,
   "metadata": {
    "ExecuteTime": {
     "end_time": "2025-06-18T17:02:02.893394Z",
     "start_time": "2025-06-18T17:01:55.882095Z"
    }
   },
   "outputs": [],
   "source": [
    "import pandas as pd\n",
    "import numpy as np\n",
    "import seaborn as sns\n",
    "import matplotlib.pyplot as plt\n",
    "import os\n",
    "from scipy.stats import hypergeom\n",
    "from scipy.stats import mannwhitneyu\n",
    "import obonet as obo\n",
    "import re\n",
    "from tqdm import tqdm\n",
    "from statsmodels.stats.multitest import fdrcorrection\n",
    "from sklearn.metrics import roc_auc_score"
   ]
  },
  {
   "cell_type": "code",
   "execution_count": 2,
   "metadata": {
    "ExecuteTime": {
     "end_time": "2025-06-18T17:02:02.897462Z",
     "start_time": "2025-06-18T17:02:02.895473Z"
    }
   },
   "outputs": [],
   "source": [
    "datadir = '/cellar/users/snwright/Data/RareCommon/'\n",
    "output_dir='/cellar/users/snwright/Data/RareCommon/outputs'\n",
    "figdir='/cellar/users/snwright/Data/Transfer/RVC/figures/RVC_Results/'\n",
    "input_dir= '/cellar/users/snwright/Data/RareCommon/inputs'"
   ]
  },
  {
   "cell_type": "code",
   "execution_count": 3,
   "metadata": {
    "ExecuteTime": {
     "end_time": "2025-06-18T17:02:02.936813Z",
     "start_time": "2025-06-18T17:02:02.898599Z"
    }
   },
   "outputs": [],
   "source": [
    "plt.rcParams['svg.fonttype'] = 'none'\n",
    "plt.rcParams.update({'font.size': 7})\n",
    "plt.rcParams['axes.linewidth'] = 0.5\n",
    "plt.rcParams['hatch.linewidth'] = 0.5\n",
    "plt.rcParams['xtick.major.width'] = 0.4\n",
    "plt.rcParams['ytick.major.width'] = 0.4\n",
    "plt.rcParams['xtick.minor.width'] = 0.3\n",
    "plt.rcParams['ytick.minor.width'] = 0.3\n",
    "plt.rcParams['legend.frameon'] = False\n",
    "plt.rcParams['xtick.major.size'] = 3\n",
    "plt.rcParams['ytick.major.size'] = 3\n",
    "plt.rcParams['xtick.minor.size'] = 2\n",
    "plt.rcParams['ytick.minor.size'] = 2\n",
    "plt.rcParams['xtick.major.pad'] = 1\n",
    "plt.rcParams['ytick.major.pad'] = 1\n",
    "plt.rcParams['axes.labelpad'] = 1\n",
    "plt.rcParams['patch.linewidth'] = 0.5\n",
    "import matplotlib.font_manager as fm\n",
    "arial_font_path = '/cellar/users/snwright/Fonts/msfonts/Arial.TTF'\n",
    "fm.fontManager.addfont(arial_font_path)\n",
    "import matplotlib\n",
    "matplotlib.rcParams['font.family'] = 'Arial'"
   ]
  },
  {
   "cell_type": "code",
   "execution_count": 4,
   "metadata": {
    "ExecuteTime": {
     "end_time": "2025-06-18T17:02:02.942515Z",
     "start_time": "2025-06-18T17:02:02.938840Z"
    }
   },
   "outputs": [],
   "source": [
    "import re\n",
    "def map_trait_code(code):\n",
    "    efo = next((match.group() for match in re.finditer(r'EFO_\\d+', code)), None)\n",
    "    if efo is not None:\n",
    "        return efo\n",
    "    mondo = next((match.group() for match in re.finditer(r'MONDO_\\d+', code)), None)\n",
    "    if mondo is not None:\n",
    "        return mondo\n",
    "    hp = next((match.group() for match in re.finditer(r'HP_\\d+', code)), None)\n",
    "    if hp is not None:\n",
    "        return hp\n",
    "    go = next((match.group() for match in re.finditer(r'GO_\\d+', code)), None)\n",
    "    if go is not None:\n",
    "        return go\n",
    "    oba = next((match.group() for match in re.finditer(r'OBA_\\d+', code)), None)\n",
    "    if oba is not None:\n",
    "        return oba\n",
    "    return None"
   ]
  },
  {
   "cell_type": "markdown",
   "metadata": {},
   "source": [
    "## Load NetColoc Results"
   ]
  },
  {
   "cell_type": "code",
   "execution_count": 5,
   "metadata": {
    "ExecuteTime": {
     "end_time": "2025-06-18T17:02:02.948405Z",
     "start_time": "2025-06-18T17:02:02.943711Z"
    }
   },
   "outputs": [],
   "source": [
    "def load_files_from_list(outdir, job_id):\n",
    "    with open(os.path.join(outdir, f'{job_id}.files'), 'r') as f:\n",
    "        filenames = [s.strip() for s in f.readlines()] \n",
    "    loaded_data = []\n",
    "    not_found = 0\n",
    "    for f in filenames:\n",
    "        try:\n",
    "            loaded_data.append(pd.read_csv(os.path.join(outdir, f), sep='\\t', header=None))\n",
    "        except:\n",
    "            not_found += 1\n",
    "    print(f'Files loaded {len(loaded_data)}\\n', f'Files not found {not_found}')\n",
    "    results = pd.concat(loaded_data)\n",
    "    results.columns = ['TraitR', 'TraitC', 'Network','Transform', 'Norm', 'Mean_NPS', \n",
    "                             'Null_mean_NPS', 'P_mean_NPS', 'Size', 'Null_Size', 'P_size' ]\n",
    "    results['logp_nps'] = results.P_mean_NPS.apply(lambda x: -1 * np.log10(x+1e-250))\n",
    "    results['logp_size'] = results.P_size.apply(lambda x: -1 * np.log10(x+1e-250))\n",
    "    results['log2SizeOE'] = np.log2(results['Size'] / results['Null_Size'])\n",
    "    return results\n"
   ]
  },
  {
   "cell_type": "code",
   "execution_count": 6,
   "metadata": {
    "ExecuteTime": {
     "end_time": "2025-06-18T17:02:04.597418Z",
     "start_time": "2025-06-18T17:02:02.949871Z"
    }
   },
   "outputs": [
    {
     "name": "stdout",
     "output_type": "stream",
     "text": [
      "Files loaded 373\n",
      " Files not found 0\n"
     ]
    }
   ],
   "source": [
    "#df = pd.read_csv(os.path.join(output_dir, 'netcoloc/March_2025', 'rvc_qnetcoloc_rv_gc.txt'), sep='\\t', header=None,\n",
    "#                names =['TraitR', 'TraitC', 'Network','Transform', 'Norm','Mean_NPS', 'Null_mean_NPS', 'P_mean_NPS', 'Size', 'Null_Size', 'P_size' ])\n",
    "\n",
    "df = load_files_from_list(os.path.join(output_dir, 'netcoloc', 'March_2025'), 2214576)\n",
    "df['slurm_idx'] = [x for x in range(len(df))]\n",
    "df['EFO'] = df.TraitR.apply(lambda x: map_trait_code(x))\n",
    "df['StudyC'] = df.TraitC.apply(lambda x: next((match.group() for match in re.finditer(r'GCST\\d+', x)), None))\n",
    "df['StudyR'] = df.TraitR.apply(lambda x: x.split('_')[0])\n",
    "df['trait_pair'] = df['TraitR'] + '_' + df['TraitC']"
   ]
  },
  {
   "cell_type": "code",
   "execution_count": 7,
   "metadata": {
    "ExecuteTime": {
     "end_time": "2025-06-18T17:02:04.852673Z",
     "start_time": "2025-06-18T17:02:04.598904Z"
    }
   },
   "outputs": [],
   "source": [
    "c_traitlist = pd.read_csv(os.path.join(input_dir, 'March_2025', 'common_Mar28.traitlist'), header=None)[0].values\n",
    "r_traitlist = pd.read_csv(os.path.join(input_dir, 'March_2025', 'rare_Mar28.traitlist'), header=None)[0].values"
   ]
  },
  {
   "cell_type": "code",
   "execution_count": 8,
   "metadata": {
    "ExecuteTime": {
     "end_time": "2025-06-18T17:02:04.855887Z",
     "start_time": "2025-06-18T17:02:04.853963Z"
    }
   },
   "outputs": [],
   "source": [
    "trait_pairs = ['_'.join(x) for x in zip(r_traitlist, c_traitlist)]"
   ]
  },
  {
   "cell_type": "code",
   "execution_count": 9,
   "metadata": {
    "ExecuteTime": {
     "end_time": "2025-06-18T17:02:04.862802Z",
     "start_time": "2025-06-18T17:02:04.857196Z"
    }
   },
   "outputs": [],
   "source": [
    "df['q'] = fdrcorrection(df.P_size.values)[1]\n",
    "df['logq'] = df.q.apply(lambda z: -1 * np.log10(z + 1e-250))\n",
    "df['plot_color'] = df.logp_size.apply(lambda z: min(z, 50))"
   ]
  },
  {
   "cell_type": "markdown",
   "metadata": {},
   "source": [
    "Load optimization results"
   ]
  },
  {
   "cell_type": "code",
   "execution_count": 10,
   "metadata": {
    "ExecuteTime": {
     "end_time": "2025-06-18T17:02:04.937069Z",
     "start_time": "2025-06-18T17:02:04.865552Z"
    }
   },
   "outputs": [],
   "source": [
    "opt_df = pd.read_csv('/cellar/users/snwright/Data/RareCommon/outputs/key_files/optimization_results.tsv', sep='\\t', index_col=0)"
   ]
  },
  {
   "cell_type": "markdown",
   "metadata": {},
   "source": [
    "## Figure 2B - Overall performance"
   ]
  },
  {
   "cell_type": "code",
   "execution_count": 11,
   "metadata": {
    "ExecuteTime": {
     "end_time": "2025-06-18T17:02:04.956392Z",
     "start_time": "2025-06-18T17:02:04.938259Z"
    }
   },
   "outputs": [],
   "source": [
    "fdr_df = opt_df[(opt_df.Norm=='sum')].dropna() # exclude binary results\n",
    "fdr_df = fdr_df.sort_values(by='SizeOE', ascending=False)\n",
    "fdr = []\n",
    "val = []\n",
    "fp = 0\n",
    "tp = 0\n",
    "for row in fdr_df.iterrows():\n",
    "    if row[1]['Set'] == 'Test':\n",
    "        tp +=1\n",
    "    else:\n",
    "        fp +=1\n",
    "    fdr.append(fp / (fp+tp))\n",
    "    val.append(row[1]['SizeOE'])\n"
   ]
  },
  {
   "cell_type": "code",
   "execution_count": 12,
   "metadata": {
    "ExecuteTime": {
     "end_time": "2025-06-18T17:02:04.967836Z",
     "start_time": "2025-06-18T17:02:04.957767Z"
    }
   },
   "outputs": [
    {
     "data": {
      "text/plain": [
       "0.8394424367578731"
      ]
     },
     "execution_count": 12,
     "metadata": {},
     "output_type": "execute_result"
    }
   ],
   "source": [
    "roc_auc_score(y_true=fdr_df.Set=='Test', y_score=fdr_df.SizeOE)"
   ]
  },
  {
   "cell_type": "code",
   "execution_count": 13,
   "metadata": {
    "ExecuteTime": {
     "end_time": "2025-06-18T17:02:05.330371Z",
     "start_time": "2025-06-18T17:02:04.969101Z"
    }
   },
   "outputs": [
    {
     "data": {
      "text/plain": [
       "Text(0, 0.5, 'COLOC Score')"
      ]
     },
     "execution_count": 13,
     "metadata": {},
     "output_type": "execute_result"
    },
    {
     "data": {
      "image/png": "[encoded data removed]",
      "text/plain": [
       "<Figure size 120x275 with 2 Axes>"
      ]
     },
     "metadata": {},
     "output_type": "display_data"
    }
   ],
   "source": [
    "_, [ax1, ax2] = plt.subplots(nrows=2, ncols=1, figsize=(1.2, 2.75), sharey=True, gridspec_kw={'hspace':0.3})\n",
    "sns.violinplot(fdr_df, x='Set', y='SizeOE', hue='Set', ax=ax1, cut=0, palette=['#97247C', 'grey'])\n",
    "ax1.hlines(y=0, xmin=-0.5, xmax=1.5, color='black', linewidth=0.5)\n",
    "ax1.set_xlim(-0.5, 1.5)\n",
    "ax1.set_ylabel('COLOC Score')\n",
    "_ = ax1.set_yticks([-1, 0,  1, 2], [0.5, 1, 2, 4])\n",
    "_ = ax1.set_yticks(np.log2([3,5,6,7]), minor=True)\n",
    "\n",
    "fdr_df = fdr_df.sort_values(by='SizeOE', ascending=False)\n",
    "fdr = []\n",
    "val = []\n",
    "count_tp = []\n",
    "sensitivity =[]\n",
    "fp = 0\n",
    "tp = 0\n",
    "total_pos = fdr_df[fdr_df.Norm=='sum'].Set.value_counts()['Test']\n",
    "for row in fdr_df.iterrows():\n",
    "    if row[1]['Set'] == 'Test':\n",
    "        tp +=1\n",
    "    else:\n",
    "        fp +=1\n",
    "    count_tp.append(tp)\n",
    "    fdr.append(fp / (fp+tp))\n",
    "    val.append(row[1]['SizeOE'])\n",
    "    sensitivity.append(tp/(total_pos))\n",
    "    val\n",
    "\n",
    "#_,  [ax1, ax2] = plt.subplots(nrows=2, ncols=1, figsize=(5, 5))\n",
    "ax2.plot(fdr, val, color=\"#97247C\", drawstyle=\"steps-post\")\n",
    "ax2.set_xlabel('False Discovery Rate')\n",
    "_ = ax2.set_xticks([0, 0.1, 0.2, 0.3, 0.4, 0.5], labels=[0, '', 0.2, '', 0.4, 0.5])\n",
    "\n",
    "\n",
    "\n",
    "ax1.set_xticks([0,1], labels=[f'{s}\\n(n={fdr_df.Set.value_counts()[s]})' for s in ['Test', 'Control']])\n",
    "ax1.set_xlabel('')\n",
    "ax2.vlines(x=[0.05, 0.2], ymin=-1.5, ymax=2.5, linestyle='--', color='black', linewidth=0.5)\n",
    "ax2.hlines(y=0, xmin=-0.1, xmax=0.52, color='black', linewidth=0.5)\n",
    "ax2.hlines(y=np.log2(1.3), xmin=-0.1, xmax=0.52, color='grey', linewidth=0.5)\n",
    "ax2.hlines(y=np.log2(2.5), xmin=-0.1, xmax=0.52, color='grey', linewidth=0.5)\n",
    "ax2.set_xlim(-0.02, 0.51)\n",
    "ax2.set_ylim(-1.5, 2.5)\n",
    "ax2.set_ylabel('COLOC Score')\n",
    "#sns.lineplot(pd.DataFrame({'x':fdr, 'y':val}),x='x', y='y', ax=ax2, markers=True)\n",
    "#sns.lineplot(pd.DataFrame({'x':val, 'y':sensitivity}),x='x', y='y', ax=ax2)\n",
    "#sns.lineplot(pd.DataFrame({'x':val, 'y':count_tp}),x='x', y='y', ax=ax2)    \n",
    "#plt.savefig(os.path.join(figdir, 'violin_plus_fdr_vert.svg'), bbox_inches='tight')"
   ]
  },
  {
   "cell_type": "markdown",
   "metadata": {},
   "source": [
    "## Figure 2B - NetColoc Spectrum"
   ]
  },
  {
   "cell_type": "code",
   "execution_count": 14,
   "metadata": {
    "ExecuteTime": {
     "end_time": "2025-06-18T17:02:08.427757Z",
     "start_time": "2025-06-18T17:02:05.331868Z"
    }
   },
   "outputs": [
    {
     "data": {
      "image/png": "[encoded data removed]",
      "text/plain": [
       "<Figure size 1100x200 with 3 Axes>"
      ]
     },
     "metadata": {},
     "output_type": "display_data"
    }
   ],
   "source": [
    "_, [ax1, ax2] = plt.subplots(nrows=1, ncols=2, figsize=(11, 2), gridspec_kw={'width_ratios':[7,2]})\n",
    "\n",
    "df['plot_color'] = df.logq.apply(lambda z: min(z, 50))\n",
    "sns.barplot(df.sort_values(by='log2SizeOE', ascending=False), x='trait_pair', y='log2SizeOE', hue='plot_color', \n",
    "            palette='RdPu', width=1, zorder=5, ax=ax1)\n",
    "_ = ax1.set_xticks([])\n",
    "ax1.hlines(y=[ np.log2(2.5),], xmin=-0.5, xmax=373, linestyle='-', color='black', alpha=0.6, \n",
    "           linewidth=0.3, zorder=0)\n",
    "ax1.hlines(y=[ np.log2(1.3),], xmin=-0.5, xmax=373, linestyle='-', color='black', alpha=0.3, \n",
    "           linewidth=0.3, zorder=0)\n",
    "ax1.hlines(y=0, xmin=-0.5, xmax=373.5, color='black', linewidth=0.5, zorder=6)\n",
    "ax1.set_xlim(-0.75, 372.75)\n",
    "\n",
    "ax1.set_yticks([-1, 0, 1, 2], labels=[0.5, 1, 2, 4])\n",
    "_ = ax1.set_yticks(np.log2([3,5,6]), minor=True)\n",
    "ax1.set_ylabel('COLOC Score')\n",
    "ax1.set_xlabel(f'Phenotypes (n={len(df)})')\n",
    "ax1.set_xticks([0, 50, 100, 150, 200, 250, 300, 350], labels = [0, 50, 100, 150, 200, 250, 300, 350])\n",
    "sns.heatmap(df.plot_color.values.reshape(373, 1), cmap='RdPu', cbar_kws={'shrink':0.75})\n",
    "plt.savefig(os.path.join(figdir, 'coloc_test.svg'), bbox_inches='tight')"
   ]
  },
  {
   "cell_type": "code",
   "execution_count": null,
   "metadata": {},
   "outputs": [],
   "source": []
  },
  {
   "cell_type": "code",
   "execution_count": 15,
   "metadata": {
    "ExecuteTime": {
     "end_time": "2025-06-18T17:02:08.434652Z",
     "start_time": "2025-06-18T17:02:08.429529Z"
    }
   },
   "outputs": [
    {
     "name": "stdout",
     "output_type": "stream",
     "text": [
      "Total sig coloc 254\n",
      "Total sig coloc % 68.1\n"
     ]
    }
   ],
   "source": [
    "print('Total sig coloc', len(df[(df.log2SizeOE > 0) & (df.q < 0.05)]))\n",
    "print('Total sig coloc %', f'{100*len(df[(df.log2SizeOE > 0) & (df.q < 0.05)])/373:.1f}')"
   ]
  },
  {
   "cell_type": "code",
   "execution_count": 20,
   "metadata": {
    "ExecuteTime": {
     "end_time": "2025-06-18T17:02:43.366847Z",
     "start_time": "2025-06-18T17:02:43.363057Z"
    }
   },
   "outputs": [
    {
     "name": "stdout",
     "output_type": "stream",
     "text": [
      "Total strong 174\n",
      "Total strong % 46.64879356568365\n"
     ]
    }
   ],
   "source": [
    "print('Total strong', len(df[(df.log2SizeOE > np.log2(2))& (df.q < 0.05)]))\n",
    "print('Total strong %', 100*len(df[(df.log2SizeOE > np.log2(2))& (df.q < 0.05)])/373)"
   ]
  },
  {
   "cell_type": "markdown",
   "metadata": {},
   "source": [
    "## Figure 2C - Categorical vs Continuous"
   ]
  },
  {
   "cell_type": "code",
   "execution_count": 33,
   "metadata": {
    "ExecuteTime": {
     "end_time": "2025-06-19T17:49:32.662691Z",
     "start_time": "2025-06-19T17:49:32.657490Z"
    }
   },
   "outputs": [],
   "source": [
    "gcat_meta = pd.read_csv(os.path.join(datadir, 'inputs', 'gcat_input_features_Mar28.tsv'), sep='\\t')\n",
    "gcat_meta = gcat_meta.rename(columns={'ClassificationFinal':'trait_type', 'DISEASE/TRAIT':'Trait',\n",
    "                                     'StudyC':'TraitC', 'StudyR':'TraitR'})"
   ]
  },
  {
   "cell_type": "code",
   "execution_count": 34,
   "metadata": {
    "ExecuteTime": {
     "end_time": "2025-06-19T17:49:33.194302Z",
     "start_time": "2025-06-19T17:49:33.185094Z"
    }
   },
   "outputs": [
    {
     "data": {
      "text/plain": [
       "(373, 12)"
      ]
     },
     "execution_count": 34,
     "metadata": {},
     "output_type": "execute_result"
    }
   ],
   "source": [
    "###\n",
    "over_df = pd.read_csv('/cellar/users/snwright/Data/RareCommon/outputs/overlap/March_2025/RV_GC_overlap.txt', sep='\\t',\n",
    "                     header=None, names=['trait_pair', 'param_set', 'n_common', 'n_rare', 'n_overlap', 'background', 'pval'])\n",
    "\n",
    "over_df['EFO'] = over_df.trait_pair.apply(lambda x: map_trait_code(x))\n",
    "over_df['StudyC'] = over_df.trait_pair.apply(lambda x: next((match.group() for match in re.finditer(r'GCST\\d+', x)), None))\n",
    "over_df['StudyR'] = over_df.trait_pair.apply(lambda x: x.split('_')[0])\n",
    "over_df['Expected'] = over_df.n_rare * over_df.n_common / 19000\n",
    "over_df['logp'] = -1 * np.log10(over_df['pval'] + 1e-250)\n",
    "over_df.shape"
   ]
  },
  {
   "cell_type": "code",
   "execution_count": 35,
   "metadata": {
    "ExecuteTime": {
     "end_time": "2025-06-19T17:49:33.836382Z",
     "start_time": "2025-06-19T17:49:33.831412Z"
    }
   },
   "outputs": [],
   "source": [
    "type_df = df.merge(gcat_meta, on=['TraitC', 'TraitR'], how='inner')\n",
    "type_df['size_diff'] = type_df['N_C'] = type_df['N_R']\n",
    "type_df['trait_pair'] = type_df['TraitR'] + '_' + type_df['TraitC']"
   ]
  },
  {
   "cell_type": "code",
   "execution_count": 36,
   "metadata": {
    "ExecuteTime": {
     "end_time": "2025-06-19T17:49:34.461573Z",
     "start_time": "2025-06-19T17:49:34.457793Z"
    }
   },
   "outputs": [],
   "source": [
    "type_df = type_df.merge(over_df, on='trait_pair', how='inner')"
   ]
  },
  {
   "cell_type": "code",
   "execution_count": 37,
   "metadata": {
    "ExecuteTime": {
     "end_time": "2025-06-19T17:49:36.636948Z",
     "start_time": "2025-06-19T17:49:34.974740Z"
    }
   },
   "outputs": [
    {
     "data": {
      "image/png": "[encoded data removed]",
      "text/plain": [
       "<Figure size 200x200 with 1 Axes>"
      ]
     },
     "metadata": {},
     "output_type": "display_data"
    }
   ],
   "source": [
    "_ = plt.figure(figsize=(2,2))\n",
    "\n",
    "type_df['swarm_color'] = type_df.apply(lambda x: 'Lipid' if x.Domain=='Lipid Measurment' else x.trait_type, axis=1)\n",
    "sns.violinplot(type_df, x='trait_type', y='log2SizeOE', cut=0, fill=0,color='grey', zorder=2, linewidth=0.5, width=1)\n",
    "sns.swarmplot(type_df, x='trait_type', y='log2SizeOE', hue='swarm_color', zorder=1, \n",
    "              palette=['#00606f', '#509aa5', '#ADD7DE'],  s=2)\n",
    "\n",
    "ax1 = plt.gca()\n",
    "\n",
    "ax1.hlines(y=[1, 2], xmin=-0.5, xmax=1.5, linestyle='-', color='grey', \n",
    "           linewidth=0.3, zorder=0)\n",
    "ax1.hlines(y=0, xmin=-0.5, xmax=1.5, color='black', linewidth=0.5, zorder=6)\n",
    "ax1.set_xlim(-0.5, 1.5)\n",
    "ax1.set_yticks([-1, 0, 1, 2], labels=[0.5, 1, 2, 4])\n",
    "_ = ax1.set_yticks(np.log2([3,5,6]), minor=True)\n",
    "ax1.set_xlabel('Trait Type')\n",
    "_ = ax1.set_xticks([0,1], labels=['Categorical', 'Continuous'])\n",
    "_ = ax1.set_ylabel('COLOC Score')\n",
    "plt.savefig(os.path.join(figdir, 'cc_vs_q.svg'), bbox_inches='tight')"
   ]
  },
  {
   "cell_type": "code",
   "execution_count": 20,
   "metadata": {
    "ExecuteTime": {
     "end_time": "2025-06-11T22:26:48.531054Z",
     "start_time": "2025-06-11T22:26:48.525845Z"
    }
   },
   "outputs": [
    {
     "data": {
      "text/plain": [
       "MannwhitneyuResult(statistic=1173.0, pvalue=1.0565521566904869e-54)"
      ]
     },
     "execution_count": 20,
     "metadata": {},
     "output_type": "execute_result"
    }
   ],
   "source": [
    "mannwhitneyu(type_df[type_df.trait_type=='CC'].log2SizeOE.values,type_df[(type_df.trait_type=='Q')].log2SizeOE.values )"
   ]
  },
  {
   "cell_type": "code",
   "execution_count": 46,
   "metadata": {
    "ExecuteTime": {
     "end_time": "2025-06-11T22:37:19.424636Z",
     "start_time": "2025-06-11T22:37:19.421665Z"
    }
   },
   "outputs": [
    {
     "name": "stdout",
     "output_type": "stream",
     "text": [
      "Average COLOC, Lipid Measurement: 3.6\n"
     ]
    }
   ],
   "source": [
    "print('Average COLOC, Lipid Measurement:', f'{np.mean([2*x for x in type_df[type_df.Domain==\"Lipid Measurment\"].log2SizeOE.values]):.1f}')"
   ]
  },
  {
   "cell_type": "code",
   "execution_count": 61,
   "metadata": {
    "ExecuteTime": {
     "end_time": "2025-06-11T22:43:58.578742Z",
     "start_time": "2025-06-11T22:43:58.568643Z"
    }
   },
   "outputs": [
    {
     "data": {
      "text/html": [
       "<div>\n",
       "<style scoped>\n",
       "    .dataframe tbody tr th:only-of-type {\n",
       "        vertical-align: middle;\n",
       "    }\n",
       "\n",
       "    .dataframe tbody tr th {\n",
       "        vertical-align: top;\n",
       "    }\n",
       "\n",
       "    .dataframe thead th {\n",
       "        text-align: right;\n",
       "    }\n",
       "</style>\n",
       "<table border=\"1\" class=\"dataframe\">\n",
       "  <thead>\n",
       "    <tr style=\"text-align: right;\">\n",
       "      <th></th>\n",
       "      <th>total</th>\n",
       "      <th>Colocalized</th>\n",
       "      <th>fraction</th>\n",
       "    </tr>\n",
       "    <tr>\n",
       "      <th>Domain</th>\n",
       "      <th></th>\n",
       "      <th></th>\n",
       "      <th></th>\n",
       "    </tr>\n",
       "  </thead>\n",
       "  <tbody>\n",
       "    <tr>\n",
       "      <th>dermatological</th>\n",
       "      <td>1</td>\n",
       "      <td>0.0</td>\n",
       "      <td>0.000000</td>\n",
       "    </tr>\n",
       "    <tr>\n",
       "      <th>Pain</th>\n",
       "      <td>3</td>\n",
       "      <td>0.0</td>\n",
       "      <td>0.000000</td>\n",
       "    </tr>\n",
       "    <tr>\n",
       "      <th>Other</th>\n",
       "      <td>1</td>\n",
       "      <td>0.0</td>\n",
       "      <td>0.000000</td>\n",
       "    </tr>\n",
       "    <tr>\n",
       "      <th>Infection</th>\n",
       "      <td>18</td>\n",
       "      <td>4.0</td>\n",
       "      <td>0.222222</td>\n",
       "    </tr>\n",
       "    <tr>\n",
       "      <th>Neoplasm</th>\n",
       "      <td>26</td>\n",
       "      <td>9.0</td>\n",
       "      <td>0.346154</td>\n",
       "    </tr>\n",
       "    <tr>\n",
       "      <th>Skeletal</th>\n",
       "      <td>17</td>\n",
       "      <td>6.0</td>\n",
       "      <td>0.352941</td>\n",
       "    </tr>\n",
       "    <tr>\n",
       "      <th>Gastrointestinal</th>\n",
       "      <td>12</td>\n",
       "      <td>5.0</td>\n",
       "      <td>0.416667</td>\n",
       "    </tr>\n",
       "    <tr>\n",
       "      <th>Muscular</th>\n",
       "      <td>9</td>\n",
       "      <td>4.0</td>\n",
       "      <td>0.444444</td>\n",
       "    </tr>\n",
       "    <tr>\n",
       "      <th>Respiratory</th>\n",
       "      <td>9</td>\n",
       "      <td>4.0</td>\n",
       "      <td>0.444444</td>\n",
       "    </tr>\n",
       "    <tr>\n",
       "      <th>Dermatological</th>\n",
       "      <td>9</td>\n",
       "      <td>4.0</td>\n",
       "      <td>0.444444</td>\n",
       "    </tr>\n",
       "    <tr>\n",
       "      <th>Hepatic</th>\n",
       "      <td>4</td>\n",
       "      <td>2.0</td>\n",
       "      <td>0.500000</td>\n",
       "    </tr>\n",
       "    <tr>\n",
       "      <th>EarNoseThroat</th>\n",
       "      <td>6</td>\n",
       "      <td>3.0</td>\n",
       "      <td>0.500000</td>\n",
       "    </tr>\n",
       "    <tr>\n",
       "      <th>Psychiatric</th>\n",
       "      <td>8</td>\n",
       "      <td>4.0</td>\n",
       "      <td>0.500000</td>\n",
       "    </tr>\n",
       "    <tr>\n",
       "      <th>Reproductive</th>\n",
       "      <td>6</td>\n",
       "      <td>3.0</td>\n",
       "      <td>0.500000</td>\n",
       "    </tr>\n",
       "    <tr>\n",
       "      <th>Neurological</th>\n",
       "      <td>13</td>\n",
       "      <td>7.0</td>\n",
       "      <td>0.538462</td>\n",
       "    </tr>\n",
       "    <tr>\n",
       "      <th>Endocrine</th>\n",
       "      <td>11</td>\n",
       "      <td>6.0</td>\n",
       "      <td>0.545455</td>\n",
       "    </tr>\n",
       "    <tr>\n",
       "      <th>Cardiovascular</th>\n",
       "      <td>21</td>\n",
       "      <td>12.0</td>\n",
       "      <td>0.571429</td>\n",
       "    </tr>\n",
       "    <tr>\n",
       "      <th>Renal</th>\n",
       "      <td>9</td>\n",
       "      <td>6.0</td>\n",
       "      <td>0.666667</td>\n",
       "    </tr>\n",
       "    <tr>\n",
       "      <th>Opthamological</th>\n",
       "      <td>12</td>\n",
       "      <td>8.0</td>\n",
       "      <td>0.666667</td>\n",
       "    </tr>\n",
       "    <tr>\n",
       "      <th>Immunological</th>\n",
       "      <td>18</td>\n",
       "      <td>14.0</td>\n",
       "      <td>0.777778</td>\n",
       "    </tr>\n",
       "    <tr>\n",
       "      <th>Hematological</th>\n",
       "      <td>14</td>\n",
       "      <td>11.0</td>\n",
       "      <td>0.785714</td>\n",
       "    </tr>\n",
       "    <tr>\n",
       "      <th>Metabolic</th>\n",
       "      <td>24</td>\n",
       "      <td>21.0</td>\n",
       "      <td>0.875000</td>\n",
       "    </tr>\n",
       "    <tr>\n",
       "      <th>Lipid Measurment</th>\n",
       "      <td>116</td>\n",
       "      <td>115.0</td>\n",
       "      <td>0.991379</td>\n",
       "    </tr>\n",
       "    <tr>\n",
       "      <th>Anthropometric</th>\n",
       "      <td>6</td>\n",
       "      <td>6.0</td>\n",
       "      <td>1.000000</td>\n",
       "    </tr>\n",
       "  </tbody>\n",
       "</table>\n",
       "</div>"
      ],
      "text/plain": [
       "                  total  Colocalized  fraction\n",
       "Domain                                        \n",
       "dermatological        1          0.0  0.000000\n",
       "Pain                  3          0.0  0.000000\n",
       "Other                 1          0.0  0.000000\n",
       "Infection            18          4.0  0.222222\n",
       "Neoplasm             26          9.0  0.346154\n",
       "Skeletal             17          6.0  0.352941\n",
       "Gastrointestinal     12          5.0  0.416667\n",
       "Muscular              9          4.0  0.444444\n",
       "Respiratory           9          4.0  0.444444\n",
       "Dermatological        9          4.0  0.444444\n",
       "Hepatic               4          2.0  0.500000\n",
       "EarNoseThroat         6          3.0  0.500000\n",
       "Psychiatric           8          4.0  0.500000\n",
       "Reproductive          6          3.0  0.500000\n",
       "Neurological         13          7.0  0.538462\n",
       "Endocrine            11          6.0  0.545455\n",
       "Cardiovascular       21         12.0  0.571429\n",
       "Renal                 9          6.0  0.666667\n",
       "Opthamological       12          8.0  0.666667\n",
       "Immunological        18         14.0  0.777778\n",
       "Hematological        14         11.0  0.785714\n",
       "Metabolic            24         21.0  0.875000\n",
       "Lipid Measurment    116        115.0  0.991379\n",
       "Anthropometric        6          6.0  1.000000"
      ]
     },
     "execution_count": 61,
     "metadata": {},
     "output_type": "execute_result"
    }
   ],
   "source": [
    "domain_counts = pd.DataFrame({'total':type_df.groupby('Domain').TraitR.count(), \n",
    "             'Colocalized': type_df[(type_df.q < 0.05) & (type_df.log2SizeOE > 0)].groupby('Domain').TraitR.count()}).fillna(0)\n",
    "domain_counts['fraction'] = domain_counts.Colocalized / domain_counts.total\n",
    "domain_counts.sort_values('fraction')"
   ]
  },
  {
   "cell_type": "markdown",
   "metadata": {},
   "source": [
    "## Figure 2D"
   ]
  },
  {
   "cell_type": "code",
   "execution_count": 39,
   "metadata": {
    "ExecuteTime": {
     "end_time": "2025-06-19T17:51:53.570588Z",
     "start_time": "2025-06-19T17:51:53.567773Z"
    }
   },
   "outputs": [],
   "source": [
    "domain_map = {d:d for d in type_df.Domain.unique()}\n",
    "domain_map['dermatological'] = 'Dermatological'\n",
    "domain_map['Lipid Measurment'] = 'Lipid Measurement'\n",
    "domain_map['Pain'] = 'Other'\n",
    "domain_map['Hepatic'] = 'Other'"
   ]
  },
  {
   "cell_type": "code",
   "execution_count": 40,
   "metadata": {
    "ExecuteTime": {
     "end_time": "2025-06-19T17:51:54.403831Z",
     "start_time": "2025-06-19T17:51:54.401336Z"
    }
   },
   "outputs": [],
   "source": [
    "type_df['Domain'] = type_df.Domain.map(domain_map)"
   ]
  },
  {
   "cell_type": "code",
   "execution_count": 41,
   "metadata": {
    "ExecuteTime": {
     "end_time": "2025-06-19T17:51:54.973360Z",
     "start_time": "2025-06-19T17:51:54.970594Z"
    }
   },
   "outputs": [],
   "source": [
    "order = type_df.groupby('Domain').log2SizeOE.median().sort_values().index[::-1]"
   ]
  },
  {
   "cell_type": "code",
   "execution_count": 42,
   "metadata": {
    "ExecuteTime": {
     "end_time": "2025-06-19T17:51:55.472459Z",
     "start_time": "2025-06-19T17:51:55.466377Z"
    }
   },
   "outputs": [],
   "source": [
    "percent_continuous = type_df.groupby('Domain').trait_type.value_counts().reset_index().pivot(index='Domain', columns='trait_type', values='count'\n",
    "                                                                                            ).reset_index().fillna(0)\n",
    "percent_continuous['frac'] = percent_continuous['Q']/(percent_continuous['CC']+percent_continuous['Q'])"
   ]
  },
  {
   "cell_type": "code",
   "execution_count": 55,
   "metadata": {
    "ExecuteTime": {
     "end_time": "2025-06-19T17:56:08.400421Z",
     "start_time": "2025-06-19T17:56:07.684513Z"
    }
   },
   "outputs": [
    {
     "data": {
      "image/png": "[encoded data removed]",
      "text/plain": [
       "<Figure size 500x175 with 2 Axes>"
      ]
     },
     "metadata": {},
     "output_type": "display_data"
    }
   ],
   "source": [
    "_, [ax2, ax1] = plt.subplots(nrows=2, ncols=1, figsize=(5, 1.75), gridspec_kw={'height_ratios':[0.5,3], 'hspace':0}, sharex=True)\n",
    "sns.stripplot(type_df, x='Domain', y='log2SizeOE', hue='Domain', jitter=0, s=8,ax=ax1,\n",
    "               alpha=0.6, legend=False, palette=['#441f5d', '#8d3b72']*10+['#441f5d'], order=order, hue_order=order)\n",
    "percent_contuinuous = type_df.groupby('Domain').trait_type.value_counts()\n",
    "sns.barplot(percent_continuous, x='Domain', y='frac', ax=ax2, edgecolor='black', saturation=1, color='#509aa5')\n",
    "\n",
    "# add a median bar for each value of x\n",
    "sns.pointplot(type_df.groupby('Domain').log2SizeOE.median().reset_index(), x='Domain', y='log2SizeOE', color='black', markers='_', dodge=True, order=order, zorder=200,\n",
    "              linestyle='none', markersize=10, ax=ax1)#, hue='Domain', palette=['darkblue', 'royalblue']*10+['darkblue'], hue_order=order)\n",
    "#sns.boxplot(type_df, x='Domain', y='log2SizeOE', color='black', fill=False, linewidth=0.5, fliersize=0, order=order, zorder=200)\n",
    "ax1.tick_params(axis='x', rotation=90)\n",
    "#ax1.hlines(y=np.log2(1.3), xmin=-0.5, xmax=20.5, color='grey',linewidth=0.5, linestyle='--', zorder=100)\n",
    "ax1.hlines(y=0, xmin=-0.5, xmax=20.5, color='black',linewidth=0.5, linestyle='-', zorder=100)\n",
    "#ax1.hlines(y=np.log2(2.5), xmin=-0.5, xmax=20.5, color='grey',linewidth=0.5, linestyle='--', zorder=100)\n",
    "ax1.vlines(x=[i+0.5 for i in range(20)], ymin=-1.55, ymax=3, linewidth=0.3, color='grey')\n",
    "ax1.set_xlim(-0.5, 20.5)\n",
    "ax1.set_ylim(-1.55, 3)\n",
    "ax1.set_yticks([-1, 0, 1, 2], labels=[0.5, 1, 2, 4])\n",
    "_ = ax1.set_yticks(np.log2([3,5,6]), minor=True)\n",
    "#sns.stripplot(type_df[type_df.log2SizeOE<0], x='Domain', y='log2SizeOE', hue='Domain', jitter=0.2, s=6,\n",
    "#               alpha=0.7,  ax=ax2, legend=False, palette=['maroon', 'indianred']*10+['maroon'], order=order, hue_order=order)\n",
    "plt.ylabel('COLOC Score')\n",
    "ax2.set_ylabel('% Cont.', rotation=0)\n",
    "plt.savefig(os.path.join(figdir, 'domain_manhattan_initial.svg'), bbox_inches='tight')"
   ]
  }
 ],
 "metadata": {
  "kernelspec": {
   "display_name": "Python (CARVA)",
   "language": "python",
   "name": "carva"
  },
  "language_info": {
   "codemirror_mode": {
    "name": "ipython",
    "version": 3
   },
   "file_extension": ".py",
   "mimetype": "text/x-python",
   "name": "python",
   "nbconvert_exporter": "python",
   "pygments_lexer": "ipython3",
   "version": "3.10.0"
  },
  "toc": {
   "base_numbering": 1,
   "nav_menu": {},
   "number_sections": true,
   "sideBar": true,
   "skip_h1_title": false,
   "title_cell": "Table of Contents",
   "title_sidebar": "Contents",
   "toc_cell": false,
   "toc_position": {
    "height": "calc(100% - 180px)",
    "left": "10px",
    "top": "150px",
    "width": "165px"
   },
   "toc_section_display": true,
   "toc_window_display": true
  },
  "varInspector": {
   "cols": {
    "lenName": 16,
    "lenType": 16,
    "lenVar": 40
   },
   "kernels_config": {
    "python": {
     "delete_cmd_postfix": "",
     "delete_cmd_prefix": "del ",
     "library": "var_list.py",
     "varRefreshCmd": "print(var_dic_list())"
    },
    "r": {
     "delete_cmd_postfix": ") ",
     "delete_cmd_prefix": "rm(",
     "library": "var_list.r",
     "varRefreshCmd": "cat(var_dic_list()) "
    }
   },
   "types_to_exclude": [
    "module",
    "function",
    "builtin_function_or_method",
    "instance",
    "_Feature"
   ],
   "window_display": false
  }
 },
 "nbformat": 4,
 "nbformat_minor": 2
}
