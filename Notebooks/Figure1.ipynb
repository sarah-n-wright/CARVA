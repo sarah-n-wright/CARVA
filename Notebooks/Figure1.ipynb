{
 "cells": [
  {
   "cell_type": "code",
   "execution_count": 1,
   "metadata": {
    "ExecuteTime": {
     "end_time": "2025-03-31T21:36:40.974951Z",
     "start_time": "2025-03-31T21:36:36.625477Z"
    }
   },
   "outputs": [],
   "source": [
    "import pandas as pd\n",
    "import numpy as np\n",
    "import seaborn as sns\n",
    "import os\n",
    "from sentence_transformers import SentenceTransformer\n",
    "from sklearn.metrics.pairwise import cosine_similarity\n",
    "from matplotlib_venn import venn2, venn3\n",
    "import matplotlib.pyplot as plt"
   ]
  },
  {
   "cell_type": "code",
   "execution_count": 3,
   "metadata": {
    "ExecuteTime": {
     "end_time": "2025-03-31T21:36:48.264540Z",
     "start_time": "2025-03-31T21:36:48.258647Z"
    }
   },
   "outputs": [],
   "source": [
    "plt.rcParams['svg.fonttype'] = 'none'\n",
    "plt.rcParams.update({'font.size': 7})\n",
    "plt.rcParams['axes.linewidth'] = 0.5\n",
    "plt.rcParams['hatch.linewidth'] = 0.5\n",
    "plt.rcParams['xtick.major.width'] = 0.4\n",
    "plt.rcParams['ytick.major.width'] = 0.4\n",
    "plt.rcParams['xtick.minor.width'] = 0.3\n",
    "plt.rcParams['ytick.minor.width'] = 0.3\n",
    "plt.rcParams['legend.frameon'] = False\n",
    "plt.rcParams['xtick.major.size'] = 3\n",
    "plt.rcParams['ytick.major.size'] = 3\n",
    "plt.rcParams['xtick.minor.size'] = 2\n",
    "plt.rcParams['ytick.minor.size'] = 2\n",
    "plt.rcParams['xtick.major.pad'] = 1\n",
    "plt.rcParams['ytick.major.pad'] = 1\n",
    "plt.rcParams['axes.labelpad'] = 1\n",
    "plt.rcParams['patch.linewidth'] = 0.25\n",
    "import matplotlib.font_manager as fm\n",
    "arial_font_path = '/cellar/users/snwright/Fonts/msfonts/Arial.TTF'\n",
    "fm.fontManager.addfont(arial_font_path)\n",
    "import matplotlib\n",
    "matplotlib.rcParams['font.family'] = 'Arial'"
   ]
  },
  {
   "cell_type": "code",
   "execution_count": 4,
   "metadata": {
    "ExecuteTime": {
     "end_time": "2025-03-31T21:36:50.841112Z",
     "start_time": "2025-03-31T21:36:50.839213Z"
    }
   },
   "outputs": [],
   "source": [
    "datadir = '/cellar/users/snwright/Data/RareCommon/'\n",
    "figdir = '/cellar/users/snwright/Data/Transfer/RVC/figures/Figure1/'"
   ]
  },
  {
   "cell_type": "markdown",
   "metadata": {},
   "source": [
    "# GCat Only"
   ]
  },
  {
   "cell_type": "code",
   "execution_count": 5,
   "metadata": {
    "ExecuteTime": {
     "end_time": "2025-03-31T21:36:51.753173Z",
     "start_time": "2025-03-31T21:36:51.718606Z"
    }
   },
   "outputs": [],
   "source": [
    "gcat_meta = pd.read_csv(os.path.join(datadir, 'inputs', 'gcat_input_features.tsv'), sep='\\t')\n",
    "gcat_meta = gcat_meta.rename(columns={'ClassificationFinal':'trait_type', 'DISEASE/TRAIT':'Trait'})"
   ]
  },
  {
   "cell_type": "code",
   "execution_count": 6,
   "metadata": {
    "ExecuteTime": {
     "end_time": "2025-03-31T21:36:52.199570Z",
     "start_time": "2025-03-31T21:36:52.195194Z"
    }
   },
   "outputs": [
    {
     "data": {
      "text/plain": [
       "(261, 7)"
      ]
     },
     "execution_count": 6,
     "metadata": {},
     "output_type": "execute_result"
    }
   ],
   "source": [
    "gcat_meta.shape"
   ]
  },
  {
   "cell_type": "code",
   "execution_count": 7,
   "metadata": {
    "ExecuteTime": {
     "end_time": "2025-03-31T21:37:00.122273Z",
     "start_time": "2025-03-31T21:36:59.859930Z"
    }
   },
   "outputs": [
    {
     "data": {
      "text/plain": [
       "<Axes: >"
      ]
     },
     "execution_count": 7,
     "metadata": {},
     "output_type": "execute_result"
    },
    {
     "data": {
      "image/png": "[encoded data removed]",
      "text/plain": [
       "<Figure size 125x250 with 1 Axes>"
      ]
     },
     "metadata": {},
     "output_type": "display_data"
    }
   ],
   "source": [
    "domains = gcat_meta.Domain.value_counts()\n",
    "domains_plot = domains[domains>=5].index.values\n",
    "\n",
    "q_counts = gcat_meta[(gcat_meta.trait_type=='Q') & gcat_meta.Domain.isin(domains_plot)].Domain.value_counts().to_dict()\n",
    "cc_counts = gcat_meta[(gcat_meta.trait_type=='CC') & gcat_meta.Domain.isin(domains_plot)].Domain.value_counts().to_dict()\n",
    "q_other = gcat_meta[(gcat_meta.trait_type=='Q') & ~gcat_meta.Domain.isin(domains_plot)].Domain.value_counts().sum()\n",
    "cc_other = gcat_meta[(gcat_meta.trait_type=='CC') & ~gcat_meta.Domain.isin(domains_plot)].Domain.value_counts().sum()\n",
    "q_counts['Other'] = q_other\n",
    "cc_counts['Other'] = cc_other\n",
    "plot_df = pd.DataFrame({'Continuous': q_counts, 'Categorical': cc_counts}).iloc[::-1].fillna(0)\n",
    "plot_df['sum'] = np.nansum(plot_df, axis=1)\n",
    "plot_df.at['Other', 'sum'] = 0\n",
    "plot_df = plot_df.sort_values('sum', ascending=False)\n",
    "_ = plt.figure(figsize=(1.25, 2.5))\n",
    "plot_df.drop(columns=['sum']).iloc[::-1].plot(kind='barh', stacked=True, ax=plt.gca(),\n",
    "                                                                              edgecolor='black', linewidth=0.3, width=0.8,\n",
    "                                                                              color=[ '#509AA6', '#00606f',])\n",
    "#plt.savefig(os.path.join(figdir, 'disease_distribution_barplot_gcat.svg'), bbox_inches='tight')"
   ]
  },
  {
   "cell_type": "code",
   "execution_count": 19,
   "metadata": {
    "ExecuteTime": {
     "end_time": "2025-03-26T19:04:24.349174Z",
     "start_time": "2025-03-26T19:04:24.162511Z"
    }
   },
   "outputs": [
    {
     "data": {
      "image/png": "[encoded data removed]",
      "text/plain": [
       "<Figure size 125x250 with 2 Axes>"
      ]
     },
     "metadata": {},
     "output_type": "display_data"
    }
   ],
   "source": [
    "_, [ax1, ax2] = plt.subplots(nrows=1, ncols=2, figsize=(1.25, 2.5), sharey=True, gridspec_kw={'wspace':0})\n",
    "bins=[x*25000 for x in range(0,  20)]\n",
    "sns.histplot(y= gcat_meta.N_R, bins=bins, kde=False, element='step', ax=ax2, color='#5fad56', alpha=1, edgecolor='black')\n",
    "sns.histplot(y= gcat_meta.N_C, bins=bins, kde=False, element='step', ax=ax1,color='#6ec1e0' , alpha=1, edgecolor='black')\n",
    "ax1.invert_xaxis()\n",
    "ax1.set_xlim(60, 0)\n",
    "ax2.set_xlim(0, 60)\n",
    "ax1.set_ylim(0, 500000)\n",
    "_ = ax1.set_yticks([x*100000 for x in range(6)], labels=[0, '100k', '200k', '300k', '400k', '500k'])\n",
    "ax1.set_ylabel('Study Population')\n",
    "ax1.set_xticks([60, 40, 20, 0])\n",
    "ax2.set_xticks([0, 20,40, 60])\n",
    "ax1.set_xlabel('Common')\n",
    "ax2.set_xlabel('Rare')\n",
    "ax2.tick_params(axis='y', size=0)\n",
    "plt.savefig(os.path.join(figdir, 'population_size_histograms_gcat.svg'), bbox_inches='tight')"
   ]
  },
  {
   "cell_type": "markdown",
   "metadata": {},
   "source": [
    "# Combined UKB and GCat"
   ]
  },
  {
   "cell_type": "code",
   "execution_count": 4,
   "metadata": {
    "ExecuteTime": {
     "end_time": "2025-03-26T19:00:29.573818Z",
     "start_time": "2025-03-26T19:00:29.502982Z"
    }
   },
   "outputs": [],
   "source": [
    "ukb_meta = pd.read_csv(os.path.join(datadir, 'inputs/UKB/input_figure_metadata.tsv'), sep='\\t')\n",
    "gcat_meta = pd.read_csv(os.path.join(datadir, 'inputs', 'gcat_input_features_no_ukb.tsv'), sep='\\t')\n",
    "gcat_meta = gcat_meta.rename(columns={'ClassificationFinal':'trait_type', 'DISEASE/TRAIT':'Trait'})"
   ]
  },
  {
   "cell_type": "code",
   "execution_count": 5,
   "metadata": {
    "ExecuteTime": {
     "end_time": "2025-03-26T19:00:29.616272Z",
     "start_time": "2025-03-26T19:00:29.613723Z"
    }
   },
   "outputs": [],
   "source": [
    "all_meta = pd.concat([ukb_meta, gcat_meta])"
   ]
  },
  {
   "cell_type": "code",
   "execution_count": 6,
   "metadata": {
    "ExecuteTime": {
     "end_time": "2025-03-26T19:00:29.670257Z",
     "start_time": "2025-03-26T19:00:29.667858Z"
    }
   },
   "outputs": [],
   "source": [
    "all_meta['Domain'] = all_meta.Domain.apply(lambda z: z if z != 'Neoplasm' else 'Neoplasms')"
   ]
  },
  {
   "cell_type": "markdown",
   "metadata": {},
   "source": [
    "### Trait distribution"
   ]
  },
  {
   "cell_type": "code",
   "execution_count": 7,
   "metadata": {
    "ExecuteTime": {
     "end_time": "2025-03-26T19:00:30.212421Z",
     "start_time": "2025-03-26T19:00:29.718997Z"
    }
   },
   "outputs": [
    {
     "data": {
      "image/png": "[encoded data removed]",
      "text/plain": [
       "<Figure size 125x250 with 1 Axes>"
      ]
     },
     "metadata": {},
     "output_type": "display_data"
    }
   ],
   "source": [
    "domains = all_meta.Domain.value_counts()\n",
    "domains_plot = domains[domains>=10].index.values\n",
    "\n",
    "q_counts = all_meta[(all_meta.trait_type=='Q') & all_meta.Domain.isin(domains_plot)].Domain.value_counts().to_dict()\n",
    "cc_counts = all_meta[(all_meta.trait_type=='CC') & all_meta.Domain.isin(domains_plot)].Domain.value_counts().to_dict()\n",
    "q_other = all_meta[(all_meta.trait_type=='Q') & ~all_meta.Domain.isin(domains_plot)].Domain.value_counts().sum()\n",
    "cc_other = all_meta[(all_meta.trait_type=='CC') & ~all_meta.Domain.isin(domains_plot)].Domain.value_counts().sum()\n",
    "q_counts['Other'] = q_other\n",
    "cc_counts['Other'] = cc_other\n",
    "plot_df = pd.DataFrame({'Continuous': q_counts, 'Categorical': cc_counts}).iloc[::-1].fillna(0)\n",
    "plot_df['sum'] = np.nansum(plot_df, axis=1)\n",
    "plot_df.at['Other', 'sum'] = 0\n",
    "plot_df = plot_df.sort_values('sum', ascending=False)\n",
    "_ = plt.figure(figsize=(1.25, 2.5))\n",
    "plot_df.drop(columns=['sum']).iloc[::-1].plot(kind='barh', stacked=True, ax=plt.gca(),\n",
    "                                                                              edgecolor='black', linewidth=0.3, width=0.8,\n",
    "                                                                              color=[ '#509AA6', '#00606f',])\n",
    "plt.savefig(os.path.join(figdir, 'disease_distribution_barplot_combined.svg'), bbox_inches='tight')"
   ]
  },
  {
   "cell_type": "code",
   "execution_count": 8,
   "metadata": {
    "ExecuteTime": {
     "end_time": "2025-03-26T19:00:30.532701Z",
     "start_time": "2025-03-26T19:00:30.279107Z"
    }
   },
   "outputs": [
    {
     "data": {
      "image/png": "[encoded data removed]",
      "text/plain": [
       "<Figure size 125x250 with 2 Axes>"
      ]
     },
     "metadata": {},
     "output_type": "display_data"
    }
   ],
   "source": [
    "_, [ax1, ax2] = plt.subplots(nrows=1, ncols=2, figsize=(1.25, 2.5), sharey=True, gridspec_kw={'wspace':0})\n",
    "bins=[x*25000 for x in range(0,  20)]\n",
    "sns.histplot(y= all_meta.N_R, bins=bins, kde=False, element='step', ax=ax2, color='#5fad56', alpha=1, edgecolor='black')\n",
    "sns.histplot(y= all_meta.N_C, bins=bins, kde=False, element='step', ax=ax1,color='#6ec1e0' , alpha=1, edgecolor='black')\n",
    "ax1.invert_xaxis()\n",
    "ax1.set_xlim(100, 0)\n",
    "ax2.set_xlim(0, 100)\n",
    "ax1.set_ylim(0, 500000)\n",
    "_ = ax1.set_yticks([x*100000 for x in range(6)], labels=[0, '100k', '200k', '300k', '400k', '500k'])\n",
    "ax1.set_ylabel('Study Population')\n",
    "ax1.set_xticks([100, 50, 0])\n",
    "ax2.set_xticks([0, 50, 100])\n",
    "ax1.set_xlabel('Common')\n",
    "ax2.set_xlabel('Rare')\n",
    "ax2.tick_params(axis='y', size=0)\n",
    "plt.savefig(os.path.join(figdir, 'population_size_histograms_combined.svg'), bbox_inches='tight')"
   ]
  }
 ],
 "metadata": {
  "kernelspec": {
   "display_name": "Python (CARVA)",
   "language": "python",
   "name": "carva"
  },
  "language_info": {
   "codemirror_mode": {
    "name": "ipython",
    "version": 3
   },
   "file_extension": ".py",
   "mimetype": "text/x-python",
   "name": "python",
   "nbconvert_exporter": "python",
   "pygments_lexer": "ipython3",
   "version": "3.10.0"
  },
  "toc": {
   "base_numbering": 1,
   "nav_menu": {},
   "number_sections": true,
   "sideBar": true,
   "skip_h1_title": false,
   "title_cell": "Table of Contents",
   "title_sidebar": "Contents",
   "toc_cell": false,
   "toc_position": {
    "height": "calc(100% - 180px)",
    "left": "10px",
    "top": "150px",
    "width": "426.823px"
   },
   "toc_section_display": true,
   "toc_window_display": true
  },
  "varInspector": {
   "cols": {
    "lenName": 16,
    "lenType": 16,
    "lenVar": 40
   },
   "kernels_config": {
    "python": {
     "delete_cmd_postfix": "",
     "delete_cmd_prefix": "del ",
     "library": "var_list.py",
     "varRefreshCmd": "print(var_dic_list())"
    },
    "r": {
     "delete_cmd_postfix": ") ",
     "delete_cmd_prefix": "rm(",
     "library": "var_list.r",
     "varRefreshCmd": "cat(var_dic_list()) "
    }
   },
   "types_to_exclude": [
    "module",
    "function",
    "builtin_function_or_method",
    "instance",
    "_Feature"
   ],
   "window_display": false
  }
 },
 "nbformat": 4,
 "nbformat_minor": 2
}
