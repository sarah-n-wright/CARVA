{
 "cells": [
  {
   "cell_type": "markdown",
   "metadata": {},
   "source": [
    "#  Examples - Neuropsychiatric traits\n",
    "\n",
    "**Related to Figure 6.**  \n",
    "\n",
    "Datasets generated:\n",
    "- Figure 6A\n",
    "- Figure 6B Edgelist and Node information\n"
   ]
  },
  {
   "cell_type": "markdown",
   "metadata": {},
   "source": [
    "### Set Up"
   ]
  },
  {
   "cell_type": "code",
   "execution_count": 28,
   "metadata": {
    "ExecuteTime": {
     "end_time": "2025-06-22T16:27:20.958082Z",
     "start_time": "2025-06-22T16:27:20.955085Z"
    }
   },
   "outputs": [],
   "source": [
    "import pandas as pd\n",
    "import os\n",
    "import sys\n",
    "import seaborn as sns\n",
    "import matplotlib.pyplot as plt\n",
    "import numpy as np\n",
    "from tqdm import tqdm\n",
    "from statsmodels.stats.multitest import fdrcorrection\n",
    "import sklearn.preprocessing as prep\n",
    "import statsmodels.api as sm\n",
    "from sklearn.metrics.pairwise import cosine_similarity\n",
    "import numpy as np"
   ]
  },
  {
   "cell_type": "code",
   "execution_count": 30,
   "metadata": {
    "ExecuteTime": {
     "end_time": "2025-06-22T16:27:24.500231Z",
     "start_time": "2025-06-22T16:27:24.497851Z"
    }
   },
   "outputs": [],
   "source": [
    "cwd = os.getcwd()\n",
    "sys.path.append(os.path.join(cwd, '../carva'))\n",
    "from network_utils import *\n",
    "from geneset_utils import *\n",
    "from hierarchy_utils import *\n"
   ]
  },
  {
   "cell_type": "code",
   "execution_count": 31,
   "metadata": {
    "ExecuteTime": {
     "end_time": "2025-06-22T16:28:42.276546Z",
     "start_time": "2025-06-22T16:28:42.274195Z"
    }
   },
   "outputs": [],
   "source": [
    "datadir=os.path.join(cwd, '..')\n",
    "outdir=os.path.join(datadir, 'outputs')"
   ]
  },
  {
   "cell_type": "code",
   "execution_count": 34,
   "metadata": {
    "ExecuteTime": {
     "end_time": "2025-06-22T16:29:23.391662Z",
     "start_time": "2025-06-22T16:29:23.386739Z"
    }
   },
   "outputs": [],
   "source": [
    "plt.rcParams['svg.fonttype'] = 'none'\n",
    "plt.rcParams.update({'font.size': 7})\n",
    "plt.rcParams['axes.linewidth'] = 0.5\n",
    "plt.rcParams['hatch.linewidth'] = 0.5\n",
    "plt.rcParams['xtick.major.width'] = 0.4\n",
    "plt.rcParams['ytick.major.width'] = 0.4\n",
    "plt.rcParams['xtick.minor.width'] = 0.3\n",
    "plt.rcParams['ytick.minor.width'] = 0.3\n",
    "plt.rcParams['legend.frameon'] = False\n",
    "plt.rcParams['xtick.major.size'] = 3\n",
    "plt.rcParams['ytick.major.size'] = 3\n",
    "plt.rcParams['xtick.minor.size'] = 2\n",
    "plt.rcParams['ytick.minor.size'] = 2\n",
    "plt.rcParams['xtick.major.pad'] = 1\n",
    "plt.rcParams['ytick.major.pad'] = 1\n",
    "plt.rcParams['axes.labelpad'] = 1\n",
    "plt.rcParams['patch.linewidth'] = 0.5\n",
    "import matplotlib.font_manager as fm\n",
    "arial_font_path = os.path.join(datadir, 'Reference_Data/Arial.TTF')\n",
    "fm.fontManager.addfont(arial_font_path)\n",
    "import matplotlib\n",
    "matplotlib.rcParams['font.family'] = 'Arial'\n",
    "blue='#6ec1e0'\n",
    "green='#5fad56'\n",
    "shared='#af3800'\n",
    "binary='#00606f'\n",
    "purple='#441f5d'\n",
    "raspberry='#b4436c'"
   ]
  },
  {
   "cell_type": "markdown",
   "metadata": {},
   "source": [
    "## Import Data"
   ]
  },
  {
   "cell_type": "code",
   "execution_count": 147,
   "metadata": {
    "ExecuteTime": {
     "end_time": "2025-06-22T18:36:55.262120Z",
     "start_time": "2025-06-22T18:36:55.253733Z"
    }
   },
   "outputs": [],
   "source": [
    "coloc_df = pd.read_csv(os.path.join(outdir, 'STable2.tsv'), sep='\\t')\n",
    "best_df = coloc_df[coloc_df['Optimal COLOC']]"
   ]
  },
  {
   "cell_type": "code",
   "execution_count": 148,
   "metadata": {
    "ExecuteTime": {
     "end_time": "2025-06-22T18:36:55.446041Z",
     "start_time": "2025-06-22T18:36:55.438226Z"
    }
   },
   "outputs": [],
   "source": [
    "info_df = pd.read_csv(os.path.join(outdir, 'STable1.tsv'), sep='\\t', usecols=['Mapped EFO', 'Trait Type', \n",
    "                                                                              'Biological Domain', 'Mapped Trait']).drop_duplicates()\n",
    "info_df.columns = ['TRAIT', 'EFO', 'trait_type', 'Domain']"
   ]
  },
  {
   "cell_type": "code",
   "execution_count": 149,
   "metadata": {
    "ExecuteTime": {
     "end_time": "2025-06-22T18:36:55.613651Z",
     "start_time": "2025-06-22T18:36:55.609858Z"
    }
   },
   "outputs": [],
   "source": [
    "best_df = best_df.reset_index().merge(domain_info.loc[:, ('EFO', 'Domain', 'trait_type')], on=['EFO'], how='left')"
   ]
  },
  {
   "cell_type": "code",
   "execution_count": 150,
   "metadata": {
    "ExecuteTime": {
     "end_time": "2025-06-22T18:36:55.792431Z",
     "start_time": "2025-06-22T18:36:55.790056Z"
    }
   },
   "outputs": [],
   "source": [
    "def get_trait_pair(df):\n",
    "    df['trait_pair'] = df['Rare Study'].astype(int).astype(str) + '_' + df['EFO'] +'_' +df['Common Study'] +'_'+ df['EFO']\n",
    "    return df"
   ]
  },
  {
   "cell_type": "code",
   "execution_count": 151,
   "metadata": {
    "ExecuteTime": {
     "end_time": "2025-06-22T18:36:55.946278Z",
     "start_time": "2025-06-22T18:36:55.943604Z"
    }
   },
   "outputs": [],
   "source": [
    "best_df = get_trait_pair(best_df)"
   ]
  },
  {
   "cell_type": "code",
   "execution_count": 152,
   "metadata": {
    "ExecuteTime": {
     "end_time": "2025-06-22T18:36:56.136413Z",
     "start_time": "2025-06-22T18:36:56.132331Z"
    }
   },
   "outputs": [
    {
     "name": "stdout",
     "output_type": "stream",
     "text": [
      "Total Neuropsychiatric Traits: 21\n",
      "Neuropsychiatric Traits with at least Moderate Coloc: 14\n"
     ]
    }
   ],
   "source": [
    "npd_df_full = best_df[best_df.EFO.isin(domain_info[domain_info.Domain.isin(['Neurological', 'Psychiatric'])].EFO.values)]\n",
    "npd_df = npd_df_full[(npd_df_full.Log2SizeOE >= 0 ) & (npd_df_full['COLOC p'] < 0.01) ].copy()\n",
    "print('Total Neuropsychiatric Traits:', len(npd_df_full))\n",
    "print('Neuropsychiatric Traits with at least Moderate Coloc:', len(npd_df))"
   ]
  },
  {
   "cell_type": "code",
   "execution_count": 153,
   "metadata": {
    "ExecuteTime": {
     "end_time": "2025-06-22T18:36:56.344625Z",
     "start_time": "2025-06-22T18:36:56.343031Z"
    }
   },
   "outputs": [],
   "source": [
    "efo_list = npd_df.EFO.values"
   ]
  },
  {
   "cell_type": "markdown",
   "metadata": {},
   "source": [
    "### Load subnetworks"
   ]
  },
  {
   "cell_type": "code",
   "execution_count": 122,
   "metadata": {
    "ExecuteTime": {
     "end_time": "2025-06-22T18:32:32.835896Z",
     "start_time": "2025-06-22T18:32:32.831126Z"
    }
   },
   "outputs": [],
   "source": [
    "uuid_list = pd.read_csv(os.path.join(cwd, '../outputs/uuid_list.txt'), sep='\\t')\n",
    "uuid_list['EFO'] = uuid_list.TraitR.apply(lambda z: z.split('_', 1)[-1])\n",
    "uuid_dict = uuid_list.set_index('EFO')['uuid'].to_dict()"
   ]
  },
  {
   "cell_type": "code",
   "execution_count": 58,
   "metadata": {
    "ExecuteTime": {
     "end_time": "2025-06-22T16:46:41.911925Z",
     "start_time": "2025-06-22T16:46:34.448982Z"
    }
   },
   "outputs": [
    {
     "name": "stdout",
     "output_type": "stream",
     "text": [
      "Username:········\n",
      "Password········\n"
     ]
    }
   ],
   "source": [
    "username=getpass('Username:')\n",
    "password = getpass('Password')"
   ]
  },
  {
   "cell_type": "code",
   "execution_count": 82,
   "metadata": {
    "ExecuteTime": {
     "end_time": "2025-06-22T16:54:38.029148Z",
     "start_time": "2025-06-22T16:54:34.559197Z"
    }
   },
   "outputs": [],
   "source": [
    "node_lists = {}\n",
    "for efo in efo_list:\n",
    "    uuid = uuid_dict[efo]\n",
    "    G = load_network(uuid, use_password=True, ndex_password=password, ndex_user=username, verbose=False)\n",
    "    node_lists[efo] = [int(n) for n in G.nodes()]"
   ]
  },
  {
   "cell_type": "markdown",
   "metadata": {},
   "source": [
    "### Load Features"
   ]
  },
  {
   "cell_type": "code",
   "execution_count": 154,
   "metadata": {
    "ExecuteTime": {
     "end_time": "2025-06-22T18:36:59.094700Z",
     "start_time": "2025-06-22T18:36:59.076799Z"
    }
   },
   "outputs": [
    {
     "data": {
      "text/html": [
       "<div>\n",
       "<style scoped>\n",
       "    .dataframe tbody tr th:only-of-type {\n",
       "        vertical-align: middle;\n",
       "    }\n",
       "\n",
       "    .dataframe tbody tr th {\n",
       "        vertical-align: top;\n",
       "    }\n",
       "\n",
       "    .dataframe thead th {\n",
       "        text-align: right;\n",
       "    }\n",
       "</style>\n",
       "<table border=\"1\" class=\"dataframe\">\n",
       "  <thead>\n",
       "    <tr style=\"text-align: right;\">\n",
       "      <th></th>\n",
       "      <th>EFO</th>\n",
       "      <th>Common Study</th>\n",
       "      <th>Rare Study</th>\n",
       "      <th>log2COLOC</th>\n",
       "      <th>N_C</th>\n",
       "      <th>N_R</th>\n",
       "      <th>binary</th>\n",
       "      <th>g_C</th>\n",
       "      <th>g_R</th>\n",
       "      <th>J_RC</th>\n",
       "      <th>...</th>\n",
       "      <th>Mean_LOEUF</th>\n",
       "      <th>DiffRC_LOEUF</th>\n",
       "      <th>Mean_GeneSize</th>\n",
       "      <th>DiffRC_GeneSize</th>\n",
       "      <th>Mean_GO</th>\n",
       "      <th>DiffRC_GO</th>\n",
       "      <th>Mean_mRNA</th>\n",
       "      <th>DiffRC_mRNA</th>\n",
       "      <th>Mean_nTissues</th>\n",
       "      <th>DiffRC_nTissues</th>\n",
       "    </tr>\n",
       "  </thead>\n",
       "  <tbody>\n",
       "    <tr>\n",
       "      <th>0</th>\n",
       "      <td>EFO_0001645</td>\n",
       "      <td>GCST010866</td>\n",
       "      <td>19847924</td>\n",
       "      <td>0.114939</td>\n",
       "      <td>649058.0</td>\n",
       "      <td>4764.0</td>\n",
       "      <td>1</td>\n",
       "      <td>99</td>\n",
       "      <td>6</td>\n",
       "      <td>0.0</td>\n",
       "      <td>...</td>\n",
       "      <td>3.571876</td>\n",
       "      <td>-0.970322</td>\n",
       "      <td>111587.000000</td>\n",
       "      <td>-1.389547</td>\n",
       "      <td>19.771429</td>\n",
       "      <td>-0.222222</td>\n",
       "      <td>13.801416</td>\n",
       "      <td>-0.415252</td>\n",
       "      <td>52.971429</td>\n",
       "      <td>-0.009479</td>\n",
       "    </tr>\n",
       "    <tr>\n",
       "      <th>1</th>\n",
       "      <td>EFO_0001645</td>\n",
       "      <td>GCST011488</td>\n",
       "      <td>19847924</td>\n",
       "      <td>-0.114747</td>\n",
       "      <td>66643.0</td>\n",
       "      <td>4764.0</td>\n",
       "      <td>1</td>\n",
       "      <td>5</td>\n",
       "      <td>6</td>\n",
       "      <td>0.0</td>\n",
       "      <td>...</td>\n",
       "      <td>2.362307</td>\n",
       "      <td>-0.958482</td>\n",
       "      <td>75381.090909</td>\n",
       "      <td>-1.478176</td>\n",
       "      <td>17.363636</td>\n",
       "      <td>-0.171429</td>\n",
       "      <td>7.956012</td>\n",
       "      <td>0.360069</td>\n",
       "      <td>52.727273</td>\n",
       "      <td>-0.009479</td>\n",
       "    </tr>\n",
       "    <tr>\n",
       "      <th>2</th>\n",
       "      <td>EFO_0001645</td>\n",
       "      <td>GCST90132305</td>\n",
       "      <td>19847924</td>\n",
       "      <td>0.257235</td>\n",
       "      <td>1077578.0</td>\n",
       "      <td>4764.0</td>\n",
       "      <td>1</td>\n",
       "      <td>35</td>\n",
       "      <td>6</td>\n",
       "      <td>0.0</td>\n",
       "      <td>...</td>\n",
       "      <td>2.441375</td>\n",
       "      <td>-0.689403</td>\n",
       "      <td>156237.000000</td>\n",
       "      <td>-1.579342</td>\n",
       "      <td>15.146341</td>\n",
       "      <td>0.064516</td>\n",
       "      <td>8.089873</td>\n",
       "      <td>0.156914</td>\n",
       "      <td>52.073171</td>\n",
       "      <td>0.009569</td>\n",
       "    </tr>\n",
       "    <tr>\n",
       "      <th>3</th>\n",
       "      <td>EFO_0001645</td>\n",
       "      <td>GCST90446534</td>\n",
       "      <td>19847924</td>\n",
       "      <td>-0.107372</td>\n",
       "      <td>459138.0</td>\n",
       "      <td>4764.0</td>\n",
       "      <td>1</td>\n",
       "      <td>33</td>\n",
       "      <td>6</td>\n",
       "      <td>0.0</td>\n",
       "      <td>...</td>\n",
       "      <td>3.289389</td>\n",
       "      <td>-0.958482</td>\n",
       "      <td>92777.000000</td>\n",
       "      <td>-1.335380</td>\n",
       "      <td>21.076923</td>\n",
       "      <td>-0.315789</td>\n",
       "      <td>9.984043</td>\n",
       "      <td>-0.091197</td>\n",
       "      <td>51.230769</td>\n",
       "      <td>0.028986</td>\n",
       "    </tr>\n",
       "    <tr>\n",
       "      <th>4</th>\n",
       "      <td>EFO_0001645</td>\n",
       "      <td>GCST90449059</td>\n",
       "      <td>19847924</td>\n",
       "      <td>0.020130</td>\n",
       "      <td>640258.0</td>\n",
       "      <td>4764.0</td>\n",
       "      <td>1</td>\n",
       "      <td>32</td>\n",
       "      <td>6</td>\n",
       "      <td>0.0</td>\n",
       "      <td>...</td>\n",
       "      <td>3.047721</td>\n",
       "      <td>-0.896941</td>\n",
       "      <td>85553.131579</td>\n",
       "      <td>-1.289639</td>\n",
       "      <td>22.315789</td>\n",
       "      <td>-0.379747</td>\n",
       "      <td>13.666197</td>\n",
       "      <td>-0.443203</td>\n",
       "      <td>52.500000</td>\n",
       "      <td>0.000000</td>\n",
       "    </tr>\n",
       "  </tbody>\n",
       "</table>\n",
       "<p>5 rows × 24 columns</p>\n",
       "</div>"
      ],
      "text/plain": [
       "           EFO  Common Study  Rare Study  log2COLOC        N_C     N_R  \\\n",
       "0  EFO_0001645    GCST010866    19847924   0.114939   649058.0  4764.0   \n",
       "1  EFO_0001645    GCST011488    19847924  -0.114747    66643.0  4764.0   \n",
       "2  EFO_0001645  GCST90132305    19847924   0.257235  1077578.0  4764.0   \n",
       "3  EFO_0001645  GCST90446534    19847924  -0.107372   459138.0  4764.0   \n",
       "4  EFO_0001645  GCST90449059    19847924   0.020130   640258.0  4764.0   \n",
       "\n",
       "   binary  g_C  g_R  J_RC  ...  Mean_LOEUF  DiffRC_LOEUF  Mean_GeneSize  \\\n",
       "0       1   99    6   0.0  ...    3.571876     -0.970322  111587.000000   \n",
       "1       1    5    6   0.0  ...    2.362307     -0.958482   75381.090909   \n",
       "2       1   35    6   0.0  ...    2.441375     -0.689403  156237.000000   \n",
       "3       1   33    6   0.0  ...    3.289389     -0.958482   92777.000000   \n",
       "4       1   32    6   0.0  ...    3.047721     -0.896941   85553.131579   \n",
       "\n",
       "   DiffRC_GeneSize    Mean_GO  DiffRC_GO  Mean_mRNA  DiffRC_mRNA  \\\n",
       "0        -1.389547  19.771429  -0.222222  13.801416    -0.415252   \n",
       "1        -1.478176  17.363636  -0.171429   7.956012     0.360069   \n",
       "2        -1.579342  15.146341   0.064516   8.089873     0.156914   \n",
       "3        -1.335380  21.076923  -0.315789   9.984043    -0.091197   \n",
       "4        -1.289639  22.315789  -0.379747  13.666197    -0.443203   \n",
       "\n",
       "   Mean_nTissues  DiffRC_nTissues  \n",
       "0      52.971429        -0.009479  \n",
       "1      52.727273        -0.009479  \n",
       "2      52.073171         0.009569  \n",
       "3      51.230769         0.028986  \n",
       "4      52.500000         0.000000  \n",
       "\n",
       "[5 rows x 24 columns]"
      ]
     },
     "execution_count": 154,
     "metadata": {},
     "output_type": "execute_result"
    }
   ],
   "source": [
    "all_feat = pd.read_csv(os.path.join(datadir, 'outputs/STable4.tsv'), sep='\\t')\n",
    "all_feat.head()"
   ]
  },
  {
   "cell_type": "code",
   "execution_count": 155,
   "metadata": {
    "ExecuteTime": {
     "end_time": "2025-06-22T18:36:59.689837Z",
     "start_time": "2025-06-22T18:36:59.685821Z"
    }
   },
   "outputs": [],
   "source": [
    "all_feat = get_trait_pair(all_feat).set_index('trait_pair')\n",
    "all_feat.index.name=''"
   ]
  },
  {
   "cell_type": "markdown",
   "metadata": {},
   "source": [
    "## Figure 6A"
   ]
  },
  {
   "cell_type": "code",
   "execution_count": 156,
   "metadata": {
    "ExecuteTime": {
     "end_time": "2025-06-22T18:37:02.208679Z",
     "start_time": "2025-06-22T18:37:02.205744Z"
    }
   },
   "outputs": [],
   "source": [
    "npd_feat = all_feat.loc[npd_df.trait_pair.values]"
   ]
  },
  {
   "cell_type": "code",
   "execution_count": 161,
   "metadata": {
    "ExecuteTime": {
     "end_time": "2025-06-22T18:38:23.135438Z",
     "start_time": "2025-06-22T18:38:23.133355Z"
    }
   },
   "outputs": [],
   "source": [
    "trait_labels={'autism spectrum disorder':'ASD', 'Alzheimer disease':'AD',\n",
    "       'whole-brain volume':'WBV', 'bipolar disorder':'BD', 'multiple sclerosis':'MS',\n",
    "       'obsessive-compulsive disorder':'OCD', 'insomnia':'Insomnia', 'epilepsy':'Epilepsy',\n",
    "       'schizophrenia':'SCZ', 'carpal tunnel syndrome':'Carpal Tunnel Synd.', 'partial epilepsy':'Partial Epilepsy',\n",
    "       'migraine disorder':'Migraine', 'Headache': 'Headache', 'Vertigo':'Vertigo'}"
   ]
  },
  {
   "cell_type": "code",
   "execution_count": 159,
   "metadata": {
    "ExecuteTime": {
     "end_time": "2025-06-22T18:38:14.715017Z",
     "start_time": "2025-06-22T18:38:14.710399Z"
    }
   },
   "outputs": [],
   "source": [
    "plot_df = npd_feat.loc[:, ('EFO', 'log2COLOC', 'g_R', 'g_C')].merge(npd_df.loc[:, \n",
    "                ('Trait', 'Domain', 'trait_type', 'nShared', 'COLOC -logp', 'EFO')], on=['EFO'], how='left')"
   ]
  },
  {
   "cell_type": "code",
   "execution_count": 166,
   "metadata": {
    "ExecuteTime": {
     "end_time": "2025-06-22T18:40:00.794552Z",
     "start_time": "2025-06-22T18:40:00.791298Z"
    }
   },
   "outputs": [],
   "source": [
    "plot_df['TRAIT'] = plot_df['Trait'].map(trait_labels)"
   ]
  },
  {
   "cell_type": "code",
   "execution_count": 162,
   "metadata": {
    "ExecuteTime": {
     "end_time": "2025-06-22T18:38:46.708360Z",
     "start_time": "2025-06-22T18:38:46.703501Z"
    }
   },
   "outputs": [],
   "source": [
    "plot_df['Domain'] = plot_df.Domain.map({'Psychiatric': 1, 'Neurological':2})\n",
    "plot_df['trait_type'] = plot_df.trait_type.map({'CC':1, 'Q': 0})\n",
    "plot_df['g_R'] = plot_df.g_R.apply(lambda x: np.log10(x))\n",
    "plot_df['g_C'] = plot_df.g_C.apply(lambda x: np.log10(x))\n",
    "plot_df['plotq'] = plot_df['COLOC -logp'].apply(lambda x: min(x, 50))"
   ]
  },
  {
   "cell_type": "code",
   "execution_count": 171,
   "metadata": {
    "ExecuteTime": {
     "end_time": "2025-06-22T18:40:38.072853Z",
     "start_time": "2025-06-22T18:40:38.070717Z"
    }
   },
   "outputs": [],
   "source": [
    "plot_df = plot_df.sort_values('log2COLOC', ascending=False)"
   ]
  },
  {
   "cell_type": "code",
   "execution_count": 172,
   "metadata": {
    "ExecuteTime": {
     "end_time": "2025-06-22T18:40:39.584802Z",
     "start_time": "2025-06-22T18:40:39.383687Z"
    }
   },
   "outputs": [
    {
     "data": {
      "text/plain": [
       "Text(0, 0.5, 'COLOC Score')"
      ]
     },
     "execution_count": 172,
     "metadata": {},
     "output_type": "execute_result"
    },
    {
     "data": {
      "image/png": "[encoded data removed]",
      "text/plain": [
       "<Figure size 300x50 with 1 Axes>"
      ]
     },
     "metadata": {},
     "output_type": "display_data"
    }
   ],
   "source": [
    "_ = plt.figure(figsize=(3, 0.5))\n",
    "plt.hlines(y=[np.log2(1.3), np.log2(2.5)], xmin=-0.5, xmax=11.5, color='grey', linestyle='--', linewidth=0.5\n",
    "          )\n",
    "sns.barplot(plot_df, x='TRAIT', y='log2COLOC', hue='plotq', palette='RdPu', edgecolor='black', zorder=10)\n",
    "_ = plt.xticks([])\n",
    "_ = plt.xlabel('')\n",
    "_ = plt.yticks([0, 1, np.log2(3)], labels=[1, 2, 3])\n",
    "plt.ylabel('COLOC Score')\n",
    "#plt.savefig(os.path.join(figdir, 'npd_coloc.svg'), bbox_inches='tight')"
   ]
  },
  {
   "cell_type": "code",
   "execution_count": 173,
   "metadata": {
    "ExecuteTime": {
     "end_time": "2025-06-22T18:41:07.249651Z",
     "start_time": "2025-06-22T18:41:06.560529Z"
    }
   },
   "outputs": [
    {
     "data": {
      "image/png": "[encoded data removed]",
      "text/plain": [
       "<Figure size 300x200 with 5 Axes>"
      ]
     },
     "metadata": {},
     "output_type": "display_data"
    }
   ],
   "source": [
    "import matplotlib as mpl\n",
    "_, axs = plt.subplots(ncols=1, nrows=5, sharex=True, gridspec_kw={'height_ratios':[1,1,1,1,1], 'hspace':0.1}, \n",
    "                     figsize=(3, 2))\n",
    "\n",
    "metrics = [['log2COLOC'], ['trait_type'], ['nShared'], ['g_C'], ['g_R']]\n",
    "cmaps = ['RdPu', \n",
    "         sns.blend_palette(['#509aa5', binary], as_cmap=True), \n",
    "         sns.blend_palette(['lightgrey', shared], as_cmap=True), \n",
    "         sns.blend_palette(['white', blue], as_cmap=True), \n",
    "         sns.blend_palette(['white', green], as_cmap=True),\n",
    "         sns.blend_palette(['white', '#F78154'], as_cmap=True),\n",
    "         'vlag']\n",
    "norms = [mpl.colors.Normalize(vmin=-1, vmax=np.log2(3)),\n",
    "        None,\n",
    "        None,\n",
    "        mpl.colors.Normalize(vmin=0, vmax=2.5),\n",
    "        mpl.colors.Normalize(vmin=0, vmax=2.5),\n",
    "        None,\n",
    "        None]\n",
    "\n",
    "\n",
    "ylabels=['COLOC Score', 'Trait Type', 'Shared Genes', 'CVGs', 'RVGs']\n",
    "\n",
    "for i in range(0, 5):\n",
    "    sns.heatmap(plot_df.loc[:, ['TRAIT'] + metrics[i]].set_index('TRAIT').T, ax=axs[i], cmap=cmaps[i], square=True, \n",
    "           linecolor='white', linewidth=0.5, norm=norms[i], cbar=False)\n",
    "    axs[i].tick_params(axis='y', rotation=0)\n",
    "    axs[i].set_xlabel('')\n",
    "plt.savefig(os.path.join(figdir, 'npd_features.svg'), bbox_inches='tight')"
   ]
  },
  {
   "cell_type": "code",
   "execution_count": 179,
   "metadata": {
    "ExecuteTime": {
     "end_time": "2025-06-22T18:42:51.714329Z",
     "start_time": "2025-06-22T18:42:51.708197Z"
    }
   },
   "outputs": [
    {
     "data": {
      "text/html": [
       "<div>\n",
       "<style scoped>\n",
       "    .dataframe tbody tr th:only-of-type {\n",
       "        vertical-align: middle;\n",
       "    }\n",
       "\n",
       "    .dataframe tbody tr th {\n",
       "        vertical-align: top;\n",
       "    }\n",
       "\n",
       "    .dataframe thead th {\n",
       "        text-align: right;\n",
       "    }\n",
       "</style>\n",
       "<table border=\"1\" class=\"dataframe\">\n",
       "  <thead>\n",
       "    <tr style=\"text-align: right;\">\n",
       "      <th></th>\n",
       "      <th>Trait</th>\n",
       "      <th>COLOC p</th>\n",
       "      <th>Log2SizeOE</th>\n",
       "    </tr>\n",
       "  </thead>\n",
       "  <tbody>\n",
       "    <tr>\n",
       "      <th>45</th>\n",
       "      <td>autism spectrum disorder</td>\n",
       "      <td>2.740000e-266</td>\n",
       "      <td>1.494694</td>\n",
       "    </tr>\n",
       "    <tr>\n",
       "      <th>349</th>\n",
       "      <td>Alzheimer disease</td>\n",
       "      <td>2.162000e-87</td>\n",
       "      <td>1.119217</td>\n",
       "    </tr>\n",
       "    <tr>\n",
       "      <th>351</th>\n",
       "      <td>bipolar disorder</td>\n",
       "      <td>1.940000e-58</td>\n",
       "      <td>1.042778</td>\n",
       "    </tr>\n",
       "  </tbody>\n",
       "</table>\n",
       "</div>"
      ],
      "text/plain": [
       "                        Trait        COLOC p  Log2SizeOE\n",
       "45   autism spectrum disorder  2.740000e-266    1.494694\n",
       "349         Alzheimer disease   2.162000e-87    1.119217\n",
       "351          bipolar disorder   1.940000e-58    1.042778"
      ]
     },
     "execution_count": 179,
     "metadata": {},
     "output_type": "execute_result"
    }
   ],
   "source": [
    "npd_df.sort_values(by='COLOC p', ascending=True).loc[:, ['Trait', 'COLOC p', 'Log2SizeOE']].head(3)"
   ]
  },
  {
   "cell_type": "markdown",
   "metadata": {},
   "source": [
    "## Trait Similarity"
   ]
  },
  {
   "cell_type": "code",
   "execution_count": 63,
   "metadata": {
    "ExecuteTime": {
     "end_time": "2025-06-22T16:48:33.884879Z",
     "start_time": "2025-06-22T16:48:33.880759Z"
    }
   },
   "outputs": [],
   "source": [
    "## Load all_zscores\n",
    "def load_z(trait, datadir, transform, norm, rorc):\n",
    "    df = pd.read_csv(os.path.join(datadir, f'{trait}_z_{rorc}V_q_{transform}_{norm}.tsv'), sep='\\t', header=None,\n",
    "                    index_col=0, names=['z']).dropna()\n",
    "    return df\n",
    "\n",
    "def load_all_scores(df, datadir, rorc):\n",
    "    allz = {}\n",
    "    if rorc == 'C':\n",
    "        other = 'TraitR'\n",
    "    else:\n",
    "        other = 'TraitC'\n",
    "    for i, t in tqdm(enumerate(list(df[f'Trait{rorc}'].values))):\n",
    "        if rorc == 'R':\n",
    "            other = 'TraitC'\n",
    "            allz[f'{t}_{df[other].values[i]}'] = load_z(t, datadir, 'neglog10', 'sum', rorc=rorc).z.to_dict()\n",
    "        else:\n",
    "            other = 'TraitR'\n",
    "            allz[f'{df[other].values[i]}_{t}'] = load_z(t, datadir, 'neglog10', 'sum', rorc=rorc).z.to_dict()\n",
    "    z = pd.DataFrame.from_dict(allz)\n",
    "    return z"
   ]
  },
  {
   "cell_type": "code",
   "execution_count": 77,
   "metadata": {
    "ExecuteTime": {
     "end_time": "2025-06-22T16:53:13.845726Z",
     "start_time": "2025-06-22T16:53:13.841834Z"
    }
   },
   "outputs": [],
   "source": [
    "npd_df['TraitR'] = npd_df['Rare Study'].astype(int).astype(str)+ '_' + npd_df['EFO']\n",
    "npd_df['TraitC'] = npd_df['Common Study']+ '_' + npd_df['EFO']\n",
    "npd_df['trait_pair'] = npd_df['TraitR'] + '_' + npd_df['TraitC']"
   ]
  },
  {
   "cell_type": "code",
   "execution_count": 70,
   "metadata": {
    "ExecuteTime": {
     "end_time": "2025-06-22T16:51:00.447535Z",
     "start_time": "2025-06-22T16:51:00.114137Z"
    }
   },
   "outputs": [
    {
     "name": "stderr",
     "output_type": "stream",
     "text": [
      "14it [00:00, 115.77it/s]\n",
      "14it [00:00, 119.16it/s]\n"
     ]
    }
   ],
   "source": [
    "z_dir = '/cellar/users/snwright/Data/RareCommon/'\n",
    "zR = load_all_scores(npd_df, os.path.join(z_dir, 'outputs/netcoloc/March_2025'), 'R').dropna()\n",
    "zC = load_all_scores(npd_df, os.path.join(z_dir, 'outputs/netcoloc/March_2025'), 'C').dropna()\n",
    "z_coloc = zR * zC\n",
    "z_coloc_order = z_coloc.columns"
   ]
  },
  {
   "cell_type": "code",
   "execution_count": 87,
   "metadata": {
    "ExecuteTime": {
     "end_time": "2025-06-22T16:56:11.524111Z",
     "start_time": "2025-06-22T16:56:11.520688Z"
    }
   },
   "outputs": [
    {
     "data": {
      "text/plain": [
       "Index(['EFO', 'Trait', 'Common Study', 'Rare Study', 'Analysis Set', 'nCommon',\n",
       "       'nRare', 'nShared', 'pShared', 'Network', 'Observed Size',\n",
       "       'Expected Size', 'Log2SizeOE', 'COLOC Score', 'COLOC p', 'COLOC -logp',\n",
       "       'Optimal COLOC', 'Observed Size PC22', 'Expected Size PC22',\n",
       "       'Log2SizeOE PC22', 'COLOC Score PC22', 'COLOC P PC22',\n",
       "       'COLOC -logp PC22', 'Observed Size HN', 'Expected Size HN',\n",
       "       'Log2SizeOE HN', 'COLOC Score HN', 'COLOC P HN', 'COLOC -logp HN',\n",
       "       'Observed Size ST', 'Expected Size ST', 'Log2SizeOE ST',\n",
       "       'COLOC Score ST', 'COLOC P ST', 'COLOC -logp ST', 'TraitR', 'TraitC',\n",
       "       'trait_pair'],\n",
       "      dtype='object')"
      ]
     },
     "execution_count": 87,
     "metadata": {},
     "output_type": "execute_result"
    }
   ],
   "source": [
    "npd_df.columns"
   ]
  },
  {
   "cell_type": "code",
   "execution_count": 89,
   "metadata": {
    "ExecuteTime": {
     "end_time": "2025-06-22T16:56:31.840601Z",
     "start_time": "2025-06-22T16:56:31.835329Z"
    }
   },
   "outputs": [],
   "source": [
    "def get_similarities_df(npd_df, z_df, node_lists):\n",
    "    cosine_sims = {}\n",
    "    for tp, efo in zip(npd_df.trait_pair.values, npd_df.EFO.values):\n",
    "        cosine_sims[tp] = {}\n",
    "        for tp1, efo1 in zip(npd_df.trait_pair.values, npd_df.EFO.values):\n",
    "            cosine_sims[tp][tp1] = cosine_similarity_of_subnetworks(z_df[tp], z_df[tp1], \n",
    "                                                                    node_lists[efo], node_lists[efo1])[0,1]\n",
    "    out_sims = pd.DataFrame(cosine_sims).melt(var_name='trait2', value_name='Cosine', ignore_index=False).reset_index(names=['trait1'])\n",
    "    #print(out_sims)\n",
    "    out_sims['trait1'] = out_sims['trait1'].map(npd_df.set_index('trait_pair')['Trait'].to_dict())\n",
    "    out_sims['trait2'] = out_sims['trait2'].map(npd_df.set_index('trait_pair')['Trait'].to_dict())\n",
    "    out_sims['traitA'] = out_sims.apply(lambda z: sorted([z.trait1, z.trait2])[0], axis=1)\n",
    "    out_sims['traitB'] = out_sims.apply(lambda z: sorted([z.trait1, z.trait2])[1], axis=1)\n",
    "    out_sims = out_sims[out_sims.trait1 != out_sims.trait2]\n",
    "    return out_sims.drop(columns=['trait1', 'trait2']).drop_duplicates(subset=['traitA', 'traitB'])\n",
    "\n",
    "\n",
    "def cosine_similarity_of_subnetworks(z1, z2, sub1=None, sub2=None):\n",
    "    gene_df = pd.DataFrame({'z1':z1, 'z2':z2}).fillna(0)\n",
    "    if sub1 is not None:\n",
    "        gene_df = gene_df.loc[list(set(sub1).union(set(sub2)))]\n",
    "    return cosine_similarity(np.array(gene_df).T)\n",
    "    "
   ]
  },
  {
   "cell_type": "code",
   "execution_count": 90,
   "metadata": {
    "ExecuteTime": {
     "end_time": "2025-06-22T16:56:34.051491Z",
     "start_time": "2025-06-22T16:56:33.600640Z"
    }
   },
   "outputs": [],
   "source": [
    "out_sims = get_similarities_df(npd_df, z_coloc, node_lists)\n",
    "out_rare = get_similarities_df(npd_df, zR, node_lists)\n",
    "out_common = get_similarities_df(npd_df, zC, node_lists)"
   ]
  },
  {
   "cell_type": "code",
   "execution_count": 91,
   "metadata": {
    "ExecuteTime": {
     "end_time": "2025-06-22T16:56:41.748540Z",
     "start_time": "2025-06-22T16:56:41.743665Z"
    }
   },
   "outputs": [],
   "source": [
    "out = out_rare.merge(out_common, on=['traitA', 'traitB'], suffixes=['_R', '_C']).merge(out_sims, on=['traitA', 'traitB'])"
   ]
  },
  {
   "cell_type": "markdown",
   "metadata": {},
   "source": [
    "### Export similarity node and edge information "
   ]
  },
  {
   "cell_type": "code",
   "execution_count": 94,
   "metadata": {
    "ExecuteTime": {
     "end_time": "2025-06-22T16:58:16.027845Z",
     "start_time": "2025-06-22T16:58:16.022068Z"
    }
   },
   "outputs": [],
   "source": [
    "out.to_csv(os.path.join(datadir, 'outputs/npd_similiarities.csv'), index=False)"
   ]
  },
  {
   "cell_type": "code",
   "execution_count": 93,
   "metadata": {
    "ExecuteTime": {
     "end_time": "2025-06-22T16:58:13.913731Z",
     "start_time": "2025-06-22T16:58:13.907193Z"
    }
   },
   "outputs": [],
   "source": [
    "npd_df.loc[:, ('Trait', 'Log2SizeOE', 'COLOC -logp', 'nCommon', 'nRare', 'nShared')].to_csv(os.path.join(datadir, 'outputs/npd_similiarities_nodes.csv'), index=False)"
   ]
  },
  {
   "cell_type": "code",
   "execution_count": 25,
   "metadata": {
    "ExecuteTime": {
     "end_time": "2025-06-18T03:24:55.059025Z",
     "start_time": "2025-06-18T03:24:55.052672Z"
    }
   },
   "outputs": [
    {
     "data": {
      "text/html": [
       "<div>\n",
       "<style scoped>\n",
       "    .dataframe tbody tr th:only-of-type {\n",
       "        vertical-align: middle;\n",
       "    }\n",
       "\n",
       "    .dataframe tbody tr th {\n",
       "        vertical-align: top;\n",
       "    }\n",
       "\n",
       "    .dataframe thead th {\n",
       "        text-align: right;\n",
       "    }\n",
       "</style>\n",
       "<table border=\"1\" class=\"dataframe\">\n",
       "  <thead>\n",
       "    <tr style=\"text-align: right;\">\n",
       "      <th></th>\n",
       "      <th>Cosine_R</th>\n",
       "      <th>traitA</th>\n",
       "      <th>traitB</th>\n",
       "      <th>Cosine_C</th>\n",
       "      <th>Cosine</th>\n",
       "    </tr>\n",
       "  </thead>\n",
       "  <tbody>\n",
       "    <tr>\n",
       "      <th>6</th>\n",
       "      <td>0.485890</td>\n",
       "      <td>autism spectrum disorder</td>\n",
       "      <td>epilepsy</td>\n",
       "      <td>0.664921</td>\n",
       "      <td>0.483911</td>\n",
       "    </tr>\n",
       "    <tr>\n",
       "      <th>5</th>\n",
       "      <td>0.496724</td>\n",
       "      <td>autism spectrum disorder</td>\n",
       "      <td>insomnia</td>\n",
       "      <td>0.389807</td>\n",
       "      <td>0.463350</td>\n",
       "    </tr>\n",
       "    <tr>\n",
       "      <th>2</th>\n",
       "      <td>0.564635</td>\n",
       "      <td>autism spectrum disorder</td>\n",
       "      <td>bipolar disorder</td>\n",
       "      <td>0.640450</td>\n",
       "      <td>0.455083</td>\n",
       "    </tr>\n",
       "    <tr>\n",
       "      <th>63</th>\n",
       "      <td>0.485370</td>\n",
       "      <td>epilepsy</td>\n",
       "      <td>insomnia</td>\n",
       "      <td>0.368556</td>\n",
       "      <td>0.343820</td>\n",
       "    </tr>\n",
       "    <tr>\n",
       "      <th>39</th>\n",
       "      <td>0.387097</td>\n",
       "      <td>bipolar disorder</td>\n",
       "      <td>epilepsy</td>\n",
       "      <td>0.591045</td>\n",
       "      <td>0.329153</td>\n",
       "    </tr>\n",
       "    <tr>\n",
       "      <th>...</th>\n",
       "      <td>...</td>\n",
       "      <td>...</td>\n",
       "      <td>...</td>\n",
       "      <td>...</td>\n",
       "      <td>...</td>\n",
       "    </tr>\n",
       "    <tr>\n",
       "      <th>61</th>\n",
       "      <td>0.189895</td>\n",
       "      <td>Vertigo</td>\n",
       "      <td>obsessive-compulsive disorder</td>\n",
       "      <td>-0.175849</td>\n",
       "      <td>-0.050960</td>\n",
       "    </tr>\n",
       "    <tr>\n",
       "      <th>89</th>\n",
       "      <td>0.042257</td>\n",
       "      <td>Headache</td>\n",
       "      <td>migraine disorder</td>\n",
       "      <td>0.655678</td>\n",
       "      <td>-0.059287</td>\n",
       "    </tr>\n",
       "    <tr>\n",
       "      <th>82</th>\n",
       "      <td>0.206044</td>\n",
       "      <td>carpal tunnel syndrome</td>\n",
       "      <td>migraine disorder</td>\n",
       "      <td>0.024016</td>\n",
       "      <td>-0.059637</td>\n",
       "    </tr>\n",
       "    <tr>\n",
       "      <th>27</th>\n",
       "      <td>0.196788</td>\n",
       "      <td>obsessive-compulsive disorder</td>\n",
       "      <td>whole-brain volume</td>\n",
       "      <td>-0.152317</td>\n",
       "      <td>-0.077214</td>\n",
       "    </tr>\n",
       "    <tr>\n",
       "      <th>28</th>\n",
       "      <td>0.535262</td>\n",
       "      <td>insomnia</td>\n",
       "      <td>whole-brain volume</td>\n",
       "      <td>-0.104348</td>\n",
       "      <td>-0.107305</td>\n",
       "    </tr>\n",
       "  </tbody>\n",
       "</table>\n",
       "<p>91 rows × 5 columns</p>\n",
       "</div>"
      ],
      "text/plain": [
       "    Cosine_R                         traitA                         traitB  \\\n",
       "6   0.485890       autism spectrum disorder                       epilepsy   \n",
       "5   0.496724       autism spectrum disorder                       insomnia   \n",
       "2   0.564635       autism spectrum disorder               bipolar disorder   \n",
       "63  0.485370                       epilepsy                       insomnia   \n",
       "39  0.387097               bipolar disorder                       epilepsy   \n",
       "..       ...                            ...                            ...   \n",
       "61  0.189895                        Vertigo  obsessive-compulsive disorder   \n",
       "89  0.042257                       Headache              migraine disorder   \n",
       "82  0.206044         carpal tunnel syndrome              migraine disorder   \n",
       "27  0.196788  obsessive-compulsive disorder             whole-brain volume   \n",
       "28  0.535262                       insomnia             whole-brain volume   \n",
       "\n",
       "    Cosine_C    Cosine  \n",
       "6   0.664921  0.483911  \n",
       "5   0.389807  0.463350  \n",
       "2   0.640450  0.455083  \n",
       "63  0.368556  0.343820  \n",
       "39  0.591045  0.329153  \n",
       "..       ...       ...  \n",
       "61 -0.175849 -0.050960  \n",
       "89  0.655678 -0.059287  \n",
       "82  0.024016 -0.059637  \n",
       "27 -0.152317 -0.077214  \n",
       "28 -0.104348 -0.107305  \n",
       "\n",
       "[91 rows x 5 columns]"
      ]
     },
     "execution_count": 25,
     "metadata": {},
     "output_type": "execute_result"
    }
   ],
   "source": [
    "out.sort_values('Cosine', ascending=False)"
   ]
  },
  {
   "cell_type": "code",
   "execution_count": 26,
   "metadata": {
    "ExecuteTime": {
     "end_time": "2025-06-18T03:25:13.389732Z",
     "start_time": "2025-06-18T03:25:13.374054Z"
    }
   },
   "outputs": [
    {
     "data": {
      "text/html": [
       "<div>\n",
       "<style scoped>\n",
       "    .dataframe tbody tr th:only-of-type {\n",
       "        vertical-align: middle;\n",
       "    }\n",
       "\n",
       "    .dataframe tbody tr th {\n",
       "        vertical-align: top;\n",
       "    }\n",
       "\n",
       "    .dataframe thead th {\n",
       "        text-align: right;\n",
       "    }\n",
       "</style>\n",
       "<table border=\"1\" class=\"dataframe\">\n",
       "  <thead>\n",
       "    <tr style=\"text-align: right;\">\n",
       "      <th></th>\n",
       "      <th>Cosine_R</th>\n",
       "      <th>traitA</th>\n",
       "      <th>traitB</th>\n",
       "      <th>Cosine_C</th>\n",
       "      <th>Cosine</th>\n",
       "    </tr>\n",
       "  </thead>\n",
       "  <tbody>\n",
       "    <tr>\n",
       "      <th>2</th>\n",
       "      <td>0.564635</td>\n",
       "      <td>autism spectrum disorder</td>\n",
       "      <td>bipolar disorder</td>\n",
       "      <td>0.640450</td>\n",
       "      <td>0.455083</td>\n",
       "    </tr>\n",
       "    <tr>\n",
       "      <th>3</th>\n",
       "      <td>-0.080041</td>\n",
       "      <td>autism spectrum disorder</td>\n",
       "      <td>multiple sclerosis</td>\n",
       "      <td>-0.261567</td>\n",
       "      <td>0.078787</td>\n",
       "    </tr>\n",
       "    <tr>\n",
       "      <th>4</th>\n",
       "      <td>0.082418</td>\n",
       "      <td>autism spectrum disorder</td>\n",
       "      <td>obsessive-compulsive disorder</td>\n",
       "      <td>0.131821</td>\n",
       "      <td>0.121216</td>\n",
       "    </tr>\n",
       "    <tr>\n",
       "      <th>5</th>\n",
       "      <td>0.496724</td>\n",
       "      <td>autism spectrum disorder</td>\n",
       "      <td>insomnia</td>\n",
       "      <td>0.389807</td>\n",
       "      <td>0.463350</td>\n",
       "    </tr>\n",
       "    <tr>\n",
       "      <th>6</th>\n",
       "      <td>0.485890</td>\n",
       "      <td>autism spectrum disorder</td>\n",
       "      <td>epilepsy</td>\n",
       "      <td>0.664921</td>\n",
       "      <td>0.483911</td>\n",
       "    </tr>\n",
       "    <tr>\n",
       "      <th>7</th>\n",
       "      <td>0.069335</td>\n",
       "      <td>autism spectrum disorder</td>\n",
       "      <td>schizophrenia</td>\n",
       "      <td>0.618231</td>\n",
       "      <td>0.133457</td>\n",
       "    </tr>\n",
       "    <tr>\n",
       "      <th>8</th>\n",
       "      <td>-0.226152</td>\n",
       "      <td>autism spectrum disorder</td>\n",
       "      <td>carpal tunnel syndrome</td>\n",
       "      <td>-0.187613</td>\n",
       "      <td>0.095961</td>\n",
       "    </tr>\n",
       "    <tr>\n",
       "      <th>9</th>\n",
       "      <td>-0.069629</td>\n",
       "      <td>autism spectrum disorder</td>\n",
       "      <td>partial epilepsy</td>\n",
       "      <td>0.609386</td>\n",
       "      <td>0.065821</td>\n",
       "    </tr>\n",
       "    <tr>\n",
       "      <th>11</th>\n",
       "      <td>0.354986</td>\n",
       "      <td>Vertigo</td>\n",
       "      <td>autism spectrum disorder</td>\n",
       "      <td>0.302642</td>\n",
       "      <td>0.110910</td>\n",
       "    </tr>\n",
       "    <tr>\n",
       "      <th>12</th>\n",
       "      <td>0.395888</td>\n",
       "      <td>Headache</td>\n",
       "      <td>autism spectrum disorder</td>\n",
       "      <td>0.375373</td>\n",
       "      <td>0.231925</td>\n",
       "    </tr>\n",
       "    <tr>\n",
       "      <th>15</th>\n",
       "      <td>0.189782</td>\n",
       "      <td>Alzheimer disease</td>\n",
       "      <td>multiple sclerosis</td>\n",
       "      <td>0.436299</td>\n",
       "      <td>0.131114</td>\n",
       "    </tr>\n",
       "    <tr>\n",
       "      <th>16</th>\n",
       "      <td>0.262615</td>\n",
       "      <td>Alzheimer disease</td>\n",
       "      <td>obsessive-compulsive disorder</td>\n",
       "      <td>0.567943</td>\n",
       "      <td>0.256948</td>\n",
       "    </tr>\n",
       "    <tr>\n",
       "      <th>22</th>\n",
       "      <td>0.111869</td>\n",
       "      <td>Alzheimer disease</td>\n",
       "      <td>migraine disorder</td>\n",
       "      <td>0.060012</td>\n",
       "      <td>0.079010</td>\n",
       "    </tr>\n",
       "    <tr>\n",
       "      <th>38</th>\n",
       "      <td>0.471077</td>\n",
       "      <td>bipolar disorder</td>\n",
       "      <td>insomnia</td>\n",
       "      <td>0.376995</td>\n",
       "      <td>0.312097</td>\n",
       "    </tr>\n",
       "    <tr>\n",
       "      <th>39</th>\n",
       "      <td>0.387097</td>\n",
       "      <td>bipolar disorder</td>\n",
       "      <td>epilepsy</td>\n",
       "      <td>0.591045</td>\n",
       "      <td>0.329153</td>\n",
       "    </tr>\n",
       "    <tr>\n",
       "      <th>40</th>\n",
       "      <td>0.333244</td>\n",
       "      <td>bipolar disorder</td>\n",
       "      <td>schizophrenia</td>\n",
       "      <td>0.433536</td>\n",
       "      <td>0.115316</td>\n",
       "    </tr>\n",
       "    <tr>\n",
       "      <th>41</th>\n",
       "      <td>-0.177067</td>\n",
       "      <td>bipolar disorder</td>\n",
       "      <td>carpal tunnel syndrome</td>\n",
       "      <td>-0.146317</td>\n",
       "      <td>0.072190</td>\n",
       "    </tr>\n",
       "    <tr>\n",
       "      <th>44</th>\n",
       "      <td>0.236190</td>\n",
       "      <td>Vertigo</td>\n",
       "      <td>bipolar disorder</td>\n",
       "      <td>0.279756</td>\n",
       "      <td>0.114459</td>\n",
       "    </tr>\n",
       "    <tr>\n",
       "      <th>45</th>\n",
       "      <td>0.313510</td>\n",
       "      <td>Headache</td>\n",
       "      <td>bipolar disorder</td>\n",
       "      <td>0.300957</td>\n",
       "      <td>0.122795</td>\n",
       "    </tr>\n",
       "    <tr>\n",
       "      <th>46</th>\n",
       "      <td>0.253877</td>\n",
       "      <td>multiple sclerosis</td>\n",
       "      <td>obsessive-compulsive disorder</td>\n",
       "      <td>0.712610</td>\n",
       "      <td>0.208760</td>\n",
       "    </tr>\n",
       "    <tr>\n",
       "      <th>50</th>\n",
       "      <td>0.156421</td>\n",
       "      <td>carpal tunnel syndrome</td>\n",
       "      <td>multiple sclerosis</td>\n",
       "      <td>-0.007716</td>\n",
       "      <td>0.063763</td>\n",
       "    </tr>\n",
       "    <tr>\n",
       "      <th>52</th>\n",
       "      <td>0.203231</td>\n",
       "      <td>migraine disorder</td>\n",
       "      <td>multiple sclerosis</td>\n",
       "      <td>0.127811</td>\n",
       "      <td>0.059420</td>\n",
       "    </tr>\n",
       "    <tr>\n",
       "      <th>55</th>\n",
       "      <td>-0.102579</td>\n",
       "      <td>insomnia</td>\n",
       "      <td>obsessive-compulsive disorder</td>\n",
       "      <td>0.056419</td>\n",
       "      <td>0.088898</td>\n",
       "    </tr>\n",
       "    <tr>\n",
       "      <th>63</th>\n",
       "      <td>0.485370</td>\n",
       "      <td>epilepsy</td>\n",
       "      <td>insomnia</td>\n",
       "      <td>0.368556</td>\n",
       "      <td>0.343820</td>\n",
       "    </tr>\n",
       "    <tr>\n",
       "      <th>64</th>\n",
       "      <td>0.233816</td>\n",
       "      <td>insomnia</td>\n",
       "      <td>schizophrenia</td>\n",
       "      <td>0.337266</td>\n",
       "      <td>0.103590</td>\n",
       "    </tr>\n",
       "    <tr>\n",
       "      <th>65</th>\n",
       "      <td>-0.233170</td>\n",
       "      <td>carpal tunnel syndrome</td>\n",
       "      <td>insomnia</td>\n",
       "      <td>-0.157473</td>\n",
       "      <td>0.065764</td>\n",
       "    </tr>\n",
       "    <tr>\n",
       "      <th>68</th>\n",
       "      <td>0.063627</td>\n",
       "      <td>Vertigo</td>\n",
       "      <td>insomnia</td>\n",
       "      <td>0.170533</td>\n",
       "      <td>0.079902</td>\n",
       "    </tr>\n",
       "    <tr>\n",
       "      <th>69</th>\n",
       "      <td>0.166285</td>\n",
       "      <td>Headache</td>\n",
       "      <td>insomnia</td>\n",
       "      <td>0.308446</td>\n",
       "      <td>0.109183</td>\n",
       "    </tr>\n",
       "    <tr>\n",
       "      <th>70</th>\n",
       "      <td>0.078554</td>\n",
       "      <td>epilepsy</td>\n",
       "      <td>schizophrenia</td>\n",
       "      <td>0.498696</td>\n",
       "      <td>0.125831</td>\n",
       "    </tr>\n",
       "    <tr>\n",
       "      <th>71</th>\n",
       "      <td>-0.124492</td>\n",
       "      <td>carpal tunnel syndrome</td>\n",
       "      <td>epilepsy</td>\n",
       "      <td>-0.203220</td>\n",
       "      <td>0.064380</td>\n",
       "    </tr>\n",
       "    <tr>\n",
       "      <th>74</th>\n",
       "      <td>0.145998</td>\n",
       "      <td>Vertigo</td>\n",
       "      <td>epilepsy</td>\n",
       "      <td>0.188708</td>\n",
       "      <td>0.050775</td>\n",
       "    </tr>\n",
       "    <tr>\n",
       "      <th>75</th>\n",
       "      <td>0.244160</td>\n",
       "      <td>Headache</td>\n",
       "      <td>epilepsy</td>\n",
       "      <td>0.252895</td>\n",
       "      <td>0.104412</td>\n",
       "    </tr>\n",
       "    <tr>\n",
       "      <th>77</th>\n",
       "      <td>0.253070</td>\n",
       "      <td>partial epilepsy</td>\n",
       "      <td>schizophrenia</td>\n",
       "      <td>0.447351</td>\n",
       "      <td>0.050453</td>\n",
       "    </tr>\n",
       "    <tr>\n",
       "      <th>84</th>\n",
       "      <td>0.162954</td>\n",
       "      <td>Headache</td>\n",
       "      <td>carpal tunnel syndrome</td>\n",
       "      <td>0.307320</td>\n",
       "      <td>0.055359</td>\n",
       "    </tr>\n",
       "    <tr>\n",
       "      <th>85</th>\n",
       "      <td>0.168696</td>\n",
       "      <td>migraine disorder</td>\n",
       "      <td>partial epilepsy</td>\n",
       "      <td>0.102861</td>\n",
       "      <td>0.080540</td>\n",
       "    </tr>\n",
       "    <tr>\n",
       "      <th>87</th>\n",
       "      <td>0.142074</td>\n",
       "      <td>Headache</td>\n",
       "      <td>partial epilepsy</td>\n",
       "      <td>0.420832</td>\n",
       "      <td>0.094244</td>\n",
       "    </tr>\n",
       "    <tr>\n",
       "      <th>90</th>\n",
       "      <td>0.145556</td>\n",
       "      <td>Headache</td>\n",
       "      <td>Vertigo</td>\n",
       "      <td>0.179564</td>\n",
       "      <td>0.054895</td>\n",
       "    </tr>\n",
       "  </tbody>\n",
       "</table>\n",
       "</div>"
      ],
      "text/plain": [
       "    Cosine_R                    traitA                         traitB  \\\n",
       "2   0.564635  autism spectrum disorder               bipolar disorder   \n",
       "3  -0.080041  autism spectrum disorder             multiple sclerosis   \n",
       "4   0.082418  autism spectrum disorder  obsessive-compulsive disorder   \n",
       "5   0.496724  autism spectrum disorder                       insomnia   \n",
       "6   0.485890  autism spectrum disorder                       epilepsy   \n",
       "7   0.069335  autism spectrum disorder                  schizophrenia   \n",
       "8  -0.226152  autism spectrum disorder         carpal tunnel syndrome   \n",
       "9  -0.069629  autism spectrum disorder               partial epilepsy   \n",
       "11  0.354986                   Vertigo       autism spectrum disorder   \n",
       "12  0.395888                  Headache       autism spectrum disorder   \n",
       "15  0.189782         Alzheimer disease             multiple sclerosis   \n",
       "16  0.262615         Alzheimer disease  obsessive-compulsive disorder   \n",
       "22  0.111869         Alzheimer disease              migraine disorder   \n",
       "38  0.471077          bipolar disorder                       insomnia   \n",
       "39  0.387097          bipolar disorder                       epilepsy   \n",
       "40  0.333244          bipolar disorder                  schizophrenia   \n",
       "41 -0.177067          bipolar disorder         carpal tunnel syndrome   \n",
       "44  0.236190                   Vertigo               bipolar disorder   \n",
       "45  0.313510                  Headache               bipolar disorder   \n",
       "46  0.253877        multiple sclerosis  obsessive-compulsive disorder   \n",
       "50  0.156421    carpal tunnel syndrome             multiple sclerosis   \n",
       "52  0.203231         migraine disorder             multiple sclerosis   \n",
       "55 -0.102579                  insomnia  obsessive-compulsive disorder   \n",
       "63  0.485370                  epilepsy                       insomnia   \n",
       "64  0.233816                  insomnia                  schizophrenia   \n",
       "65 -0.233170    carpal tunnel syndrome                       insomnia   \n",
       "68  0.063627                   Vertigo                       insomnia   \n",
       "69  0.166285                  Headache                       insomnia   \n",
       "70  0.078554                  epilepsy                  schizophrenia   \n",
       "71 -0.124492    carpal tunnel syndrome                       epilepsy   \n",
       "74  0.145998                   Vertigo                       epilepsy   \n",
       "75  0.244160                  Headache                       epilepsy   \n",
       "77  0.253070          partial epilepsy                  schizophrenia   \n",
       "84  0.162954                  Headache         carpal tunnel syndrome   \n",
       "85  0.168696         migraine disorder               partial epilepsy   \n",
       "87  0.142074                  Headache               partial epilepsy   \n",
       "90  0.145556                  Headache                        Vertigo   \n",
       "\n",
       "    Cosine_C    Cosine  \n",
       "2   0.640450  0.455083  \n",
       "3  -0.261567  0.078787  \n",
       "4   0.131821  0.121216  \n",
       "5   0.389807  0.463350  \n",
       "6   0.664921  0.483911  \n",
       "7   0.618231  0.133457  \n",
       "8  -0.187613  0.095961  \n",
       "9   0.609386  0.065821  \n",
       "11  0.302642  0.110910  \n",
       "12  0.375373  0.231925  \n",
       "15  0.436299  0.131114  \n",
       "16  0.567943  0.256948  \n",
       "22  0.060012  0.079010  \n",
       "38  0.376995  0.312097  \n",
       "39  0.591045  0.329153  \n",
       "40  0.433536  0.115316  \n",
       "41 -0.146317  0.072190  \n",
       "44  0.279756  0.114459  \n",
       "45  0.300957  0.122795  \n",
       "46  0.712610  0.208760  \n",
       "50 -0.007716  0.063763  \n",
       "52  0.127811  0.059420  \n",
       "55  0.056419  0.088898  \n",
       "63  0.368556  0.343820  \n",
       "64  0.337266  0.103590  \n",
       "65 -0.157473  0.065764  \n",
       "68  0.170533  0.079902  \n",
       "69  0.308446  0.109183  \n",
       "70  0.498696  0.125831  \n",
       "71 -0.203220  0.064380  \n",
       "74  0.188708  0.050775  \n",
       "75  0.252895  0.104412  \n",
       "77  0.447351  0.050453  \n",
       "84  0.307320  0.055359  \n",
       "85  0.102861  0.080540  \n",
       "87  0.420832  0.094244  \n",
       "90  0.179564  0.054895  "
      ]
     },
     "execution_count": 26,
     "metadata": {},
     "output_type": "execute_result"
    }
   ],
   "source": [
    "out[out.Cosine > 0.05]"
   ]
  }
 ],
 "metadata": {
  "kernelspec": {
   "display_name": "Python (CARVA)",
   "language": "python",
   "name": "carva"
  },
  "language_info": {
   "codemirror_mode": {
    "name": "ipython",
    "version": 3
   },
   "file_extension": ".py",
   "mimetype": "text/x-python",
   "name": "python",
   "nbconvert_exporter": "python",
   "pygments_lexer": "ipython3",
   "version": "3.10.0"
  },
  "toc": {
   "base_numbering": 1,
   "nav_menu": {},
   "number_sections": true,
   "sideBar": true,
   "skip_h1_title": false,
   "title_cell": "Table of Contents",
   "title_sidebar": "Contents",
   "toc_cell": false,
   "toc_position": {},
   "toc_section_display": true,
   "toc_window_display": false
  },
  "varInspector": {
   "cols": {
    "lenName": 16,
    "lenType": 16,
    "lenVar": 40
   },
   "kernels_config": {
    "python": {
     "delete_cmd_postfix": "",
     "delete_cmd_prefix": "del ",
     "library": "var_list.py",
     "varRefreshCmd": "print(var_dic_list())"
    },
    "r": {
     "delete_cmd_postfix": ") ",
     "delete_cmd_prefix": "rm(",
     "library": "var_list.r",
     "varRefreshCmd": "cat(var_dic_list()) "
    }
   },
   "types_to_exclude": [
    "module",
    "function",
    "builtin_function_or_method",
    "instance",
    "_Feature"
   ],
   "window_display": false
  }
 },
 "nbformat": 4,
 "nbformat_minor": 2
}
