{
 "cells": [
  {
   "cell_type": "markdown",
   "metadata": {},
   "source": [
    "# Data Curation Notebook C - Gene Set Annotation\n",
    "\n",
    "Covers:\n",
    "- Processing of annotation data\n",
    "- Biological features\n",
    "- Analysis of gene sets\n",
    "- analysis of overlap data\n",
    "\n",
    "\n",
    "Figures generated:\n",
    "- Figure 1C\n",
    "- Figure 1F\n",
    "\n",
    "Data generated:\n",
    "- ??"
   ]
  },
  {
   "cell_type": "markdown",
   "metadata": {},
   "source": [
    "### Set Up"
   ]
  },
  {
   "cell_type": "code",
   "execution_count": 1,
   "metadata": {
    "ExecuteTime": {
     "end_time": "2025-06-18T17:21:39.519958Z",
     "start_time": "2025-06-18T17:21:35.936006Z"
    }
   },
   "outputs": [],
   "source": [
    "import pandas as pd\n",
    "import numpy as np\n",
    "import matplotlib.pyplot as plt\n",
    "import seaborn as sns\n",
    "import os\n",
    "from collections import defaultdict\n",
    "from tqdm import tqdm\n",
    "#import networkx as nx\n",
    "#import obonet as obo\n",
    "from scipy.stats import wilcoxon, mannwhitneyu\n",
    "from statsmodels.stats.multitest import fdrcorrection\n",
    "import sys"
   ]
  },
  {
   "cell_type": "code",
   "execution_count": 2,
   "metadata": {
    "ExecuteTime": {
     "end_time": "2025-06-18T17:21:40.173223Z",
     "start_time": "2025-06-18T17:21:39.526473Z"
    }
   },
   "outputs": [],
   "source": [
    "sys.path.append('/cellar/users/snwright/Git/Network_Evaluation_Tools/neteval/')\n",
    "from gene_mapper import *"
   ]
  },
  {
   "cell_type": "code",
   "execution_count": 3,
   "metadata": {
    "ExecuteTime": {
     "end_time": "2025-06-18T17:21:40.184235Z",
     "start_time": "2025-06-18T17:21:40.178919Z"
    }
   },
   "outputs": [],
   "source": [
    "plt.rcParams['svg.fonttype'] = 'none'\n",
    "plt.rcParams.update({'font.size': 7})\n",
    "plt.rcParams['axes.linewidth'] = 0.5\n",
    "plt.rcParams['hatch.linewidth'] = 0.5\n",
    "plt.rcParams['xtick.major.width'] = 0.4\n",
    "plt.rcParams['ytick.major.width'] = 0.4\n",
    "plt.rcParams['xtick.minor.width'] = 0.3\n",
    "plt.rcParams['ytick.minor.width'] = 0.3\n",
    "plt.rcParams['legend.frameon'] = False\n",
    "plt.rcParams['xtick.major.size'] = 3\n",
    "plt.rcParams['ytick.major.size'] = 3\n",
    "plt.rcParams['xtick.minor.size'] = 2\n",
    "plt.rcParams['ytick.minor.size'] = 2\n",
    "plt.rcParams['xtick.major.pad'] = 1\n",
    "plt.rcParams['ytick.major.pad'] = 1\n",
    "plt.rcParams['axes.labelpad'] = 1\n",
    "plt.rcParams['patch.linewidth'] = 0.25\n",
    "import matplotlib.font_manager as fm\n",
    "arial_font_path = '/cellar/users/snwright/Fonts/msfonts/Arial.TTF'\n",
    "fm.fontManager.addfont(arial_font_path)\n",
    "import matplotlib\n",
    "matplotlib.rcParams['font.family'] = 'Arial'"
   ]
  },
  {
   "cell_type": "code",
   "execution_count": 4,
   "metadata": {
    "ExecuteTime": {
     "end_time": "2025-06-18T17:21:40.190603Z",
     "start_time": "2025-06-18T17:21:40.188929Z"
    }
   },
   "outputs": [],
   "source": [
    "datadir='/cellar/users/snwright/Data/RareCommon/'\n",
    "outdir='/cellar/users/snwright/Data/Transfer/RVC/'\n",
    "figdir='/cellar/users/snwright/Data/Transfer/RVC/figures/FigureOverlap/'"
   ]
  },
  {
   "cell_type": "code",
   "execution_count": 5,
   "metadata": {
    "ExecuteTime": {
     "end_time": "2025-06-18T17:21:40.197603Z",
     "start_time": "2025-06-18T17:21:40.195376Z"
    }
   },
   "outputs": [],
   "source": [
    "basedir='/cellar/users/snwright/Data/RareCommon'\n",
    "annot_dir = os.path.join(basedir, 'Annotations')\n",
    "input_dir = os.path.join(basedir, 'inputs/March_2025')\n",
    "keydir= os.path.join(basedir, 'outputs/key_files')\n",
    "colocdir = os.path.join(basedir, 'outputs/netcoloc/March_2025')\n",
    "figdir = '/cellar/users/snwright/Data/Transfer/RVC/figures/Bio_features'"
   ]
  },
  {
   "cell_type": "code",
   "execution_count": 6,
   "metadata": {
    "ExecuteTime": {
     "end_time": "2025-06-18T17:21:40.205145Z",
     "start_time": "2025-06-18T17:21:40.203479Z"
    }
   },
   "outputs": [],
   "source": [
    "blue='#6ec1e0'\n",
    "green='#5fad56'\n",
    "shared='#af3800'\n",
    "binary='#00606f'"
   ]
  },
  {
   "cell_type": "code",
   "execution_count": 7,
   "metadata": {
    "ExecuteTime": {
     "end_time": "2025-06-18T17:21:40.213719Z",
     "start_time": "2025-06-18T17:21:40.210053Z"
    }
   },
   "outputs": [],
   "source": [
    "import re\n",
    "def map_trait_code(code):\n",
    "    efo = next((match.group() for match in re.finditer(r'EFO_\\d+', code)), None)\n",
    "    if efo is not None:\n",
    "        return efo\n",
    "    mondo = next((match.group() for match in re.finditer(r'MONDO_\\d+', code)), None)\n",
    "    if mondo is not None:\n",
    "        return mondo\n",
    "    hp = next((match.group() for match in re.finditer(r'HP_\\d+', code)), None)\n",
    "    if hp is not None:\n",
    "        return hp\n",
    "    go = next((match.group() for match in re.finditer(r'GO_\\d+', code)), None)\n",
    "    if go is not None:\n",
    "        return go\n",
    "    oba = next((match.group() for match in re.finditer(r'OBA_\\d+', code)), None)\n",
    "    if oba is not None:\n",
    "        return oba\n",
    "    return None"
   ]
  },
  {
   "cell_type": "markdown",
   "metadata": {},
   "source": [
    "### Load Data"
   ]
  },
  {
   "cell_type": "code",
   "execution_count": null,
   "metadata": {},
   "outputs": [],
   "source": []
  },
  {
   "cell_type": "code",
   "execution_count": 8,
   "metadata": {
    "ExecuteTime": {
     "end_time": "2025-06-18T17:21:40.361224Z",
     "start_time": "2025-06-18T17:21:40.218580Z"
    }
   },
   "outputs": [],
   "source": [
    "###\n",
    "over_df = pd.read_csv('/cellar/users/snwright/Data/RareCommon/outputs/overlap/March_2025/RV_GC_overlap.txt', sep='\\t',\n",
    "                     header=None, names=['trait_pair', 'param_set', 'n_common', 'n_rare', 'n_overlap', 'background', 'pval'])\n",
    "\n",
    "over_df['EFO'] = over_df.trait_pair.apply(lambda x: map_trait_code(x))\n",
    "over_df['StudyC'] = over_df.trait_pair.apply(lambda x: next((match.group() for match in re.finditer(r'GCST\\d+', x)), None))\n",
    "over_df['StudyR'] = over_df.trait_pair.apply(lambda x: x.split('_')[0])\n",
    "over_df['Expected'] = over_df.n_rare * over_df.n_common / 19000\n",
    "over_df['logp'] = -1 * np.log10(over_df['pval'] + 1e-250)"
   ]
  },
  {
   "cell_type": "code",
   "execution_count": 9,
   "metadata": {
    "ExecuteTime": {
     "end_time": "2025-06-18T17:21:40.499308Z",
     "start_time": "2025-06-18T17:21:40.371894Z"
    }
   },
   "outputs": [],
   "source": [
    "r_traitlist = pd.read_csv(os.path.join(datadir, 'inputs/March_2025', 'rare_Mar28.traitlist'), header=None)[0].values\n",
    "c_traitlist = pd.read_csv(os.path.join(datadir, 'inputs/March_2025', 'common_Mar28.traitlist'), header=None)[0].values\n",
    "pairs = [r_traitlist[i]+'_'+c_traitlist[i] for i in range(len(r_traitlist))]"
   ]
  },
  {
   "cell_type": "markdown",
   "metadata": {},
   "source": [
    "## Annotation Data Processing"
   ]
  },
  {
   "cell_type": "markdown",
   "metadata": {},
   "source": [
    "### Mutational Constraint\n",
    "\n",
    "- LOEUF\n",
    "    * -lof.oe_ci.upper: LOEUF: upper bound of 90% confidence interval for o/e ratio for high confidence pLoF variants (lower values indicate more constrained)\n",
    "- Synonymous intolerance"
   ]
  },
  {
   "cell_type": "code",
   "execution_count": 10,
   "metadata": {
    "ExecuteTime": {
     "end_time": "2025-06-18T17:21:40.514611Z",
     "start_time": "2025-06-18T17:21:40.509946Z"
    }
   },
   "outputs": [],
   "source": [
    "def prioritize_gene_duplicates(df, gene, score_cols):\n",
    "    \"\"\"Where there are multiple distinct entries for a gene, we first prioritize those representing canonical transcripts. \n",
    "    If there are multiple or no canonical transcripts we next prioritize MANE Select transcripts. Where these filters are \n",
    "    unable to produce a single gene entry, we prioritize the entry assigned an NCBI Gene ID. \"\"\"\n",
    "    # sort such that NCBI Gene IDs will be first\n",
    "    gene_df = df[df.gene==gene].sort_values('gene_id')\n",
    "    if len(gene_df) == 0:\n",
    "        return None\n",
    "    # if there is only one entry, take this entry\n",
    "    if len(gene_df)==1:\n",
    "        return gene_df.index.values[0]\n",
    "    # if there are multiple entries\n",
    "    else:\n",
    "        # if all entries have the same scores, take the first ID (will be NCBI Gene ID if available)\n",
    "        if len(gene_df.drop_duplicates(subset=score_cols)) == 1:\n",
    "            # results are all the same anyway. Return the entry with entrez id\n",
    "            return gene_df.index.values[0]\n",
    "        \n",
    "        # Otherwise, we need to prioritize amongst the results\n",
    "        else:\n",
    "            # is there at least one canonical transcript\n",
    "            if len(gene_df[(gene_df.canonical)]) >= 1:\n",
    "                gene_df = gene_df[gene_df.canonical]\n",
    "                \n",
    "            # is there at least one mane select transcript\n",
    "            if len(gene_df[(gene_df.mane_select)]) >= 1:\n",
    "                gene_df = gene_df[gene_df.mane_select]\n",
    "                \n",
    "            # at this point all entries should have the same values for canonical and mane_select\n",
    "            # check if these prioritizations have left us with just one entry\n",
    "            if len(gene_df) == 1:\n",
    "                return gene_df.index.values[0]\n",
    "            \n",
    "            # check if there are any duplicates\n",
    "            dups = gene_df.duplicated(subset=score_cols, keep='first')\n",
    "            if sum(dups) > 0:\n",
    "                # take the duplicated values as the correct ones.\n",
    "                return gene_df[~dups].index.values[0]\n",
    "            \n",
    "            # any dfs making it here have different scores, but same transcript designations\n",
    "            return gene_df.index.values[0]\n",
    "\n",
    "                \n",
    " "
   ]
  },
  {
   "cell_type": "markdown",
   "metadata": {},
   "source": [
    "#### LOEUF"
   ]
  },
  {
   "cell_type": "code",
   "execution_count": 11,
   "metadata": {
    "ExecuteTime": {
     "end_time": "2025-06-18T17:21:41.491323Z",
     "start_time": "2025-06-18T17:21:41.158448Z"
    }
   },
   "outputs": [
    {
     "ename": "NameError",
     "evalue": "name 'refdir' is not defined",
     "output_type": "error",
     "traceback": [
      "\u001b[0;31m---------------------------------------------------------------------------\u001b[0m",
      "\u001b[0;31mNameError\u001b[0m                                 Traceback (most recent call last)",
      "Cell \u001b[0;32mIn[11], line 1\u001b[0m\n\u001b[0;32m----> 1\u001b[0m pli_df \u001b[38;5;241m=\u001b[39m pd\u001b[38;5;241m.\u001b[39mread_csv(os\u001b[38;5;241m.\u001b[39mpath\u001b[38;5;241m.\u001b[39mjoin(\u001b[43mrefdir\u001b[49m, \u001b[38;5;124m'\u001b[39m\u001b[38;5;124mgnomAD\u001b[39m\u001b[38;5;124m'\u001b[39m, \u001b[38;5;124m'\u001b[39m\u001b[38;5;124mgnomad.v4.1.constraint_metrics.tsv\u001b[39m\u001b[38;5;124m'\u001b[39m), sep\u001b[38;5;241m=\u001b[39m\u001b[38;5;124m'\u001b[39m\u001b[38;5;130;01m\\t\u001b[39;00m\u001b[38;5;124m'\u001b[39m,\n\u001b[1;32m      2\u001b[0m                     usecols\u001b[38;5;241m=\u001b[39m[\u001b[38;5;124m'\u001b[39m\u001b[38;5;124mgene\u001b[39m\u001b[38;5;124m'\u001b[39m, \u001b[38;5;124m'\u001b[39m\u001b[38;5;124mgene_id\u001b[39m\u001b[38;5;124m'\u001b[39m, \u001b[38;5;124m'\u001b[39m\u001b[38;5;124mcanonical\u001b[39m\u001b[38;5;124m'\u001b[39m,\u001b[38;5;124m'\u001b[39m\u001b[38;5;124mmane_select\u001b[39m\u001b[38;5;124m'\u001b[39m, \u001b[38;5;124m'\u001b[39m\u001b[38;5;124mlof.z_score\u001b[39m\u001b[38;5;124m'\u001b[39m, \u001b[38;5;124m'\u001b[39m\u001b[38;5;124mlof.pLI\u001b[39m\u001b[38;5;124m'\u001b[39m, \u001b[38;5;124m'\u001b[39m\u001b[38;5;124mlof_hc_lc.pLI\u001b[39m\u001b[38;5;124m'\u001b[39m,\u001b[38;5;124m'\u001b[39m\u001b[38;5;124mlof.oe_ci.upper\u001b[39m\u001b[38;5;124m'\u001b[39m ])\n\u001b[1;32m      3\u001b[0m \u001b[38;5;66;03m# exclude non-canonical transcripts\u001b[39;00m\n\u001b[1;32m      4\u001b[0m \u001b[38;5;28mprint\u001b[39m(pli_df\u001b[38;5;241m.\u001b[39mgene\u001b[38;5;241m.\u001b[39mnunique())\n",
      "\u001b[0;31mNameError\u001b[0m: name 'refdir' is not defined"
     ]
    }
   ],
   "source": [
    "pli_df = pd.read_csv(os.path.join(refdir, 'gnomAD', 'gnomad.v4.1.constraint_metrics.tsv'), sep='\\t',\n",
    "                    usecols=['gene', 'gene_id', 'canonical','mane_select', 'lof.z_score', 'lof.pLI', 'lof_hc_lc.pLI','lof.oe_ci.upper' ])\n",
    "# exclude non-canonical transcripts\n",
    "print(pli_df.gene.nunique())"
   ]
  },
  {
   "cell_type": "code",
   "execution_count": null,
   "metadata": {
    "ExecuteTime": {
     "end_time": "2025-06-18T17:21:41.493757Z",
     "start_time": "2025-06-18T17:21:41.493749Z"
    }
   },
   "outputs": [],
   "source": [
    "out = []\n",
    "for gene in tqdm(pli_df.gene.unique()):\n",
    "    out.append(prioritize_gene_duplicates(pli_df, gene, score_cols=['lof.pLI', 'lof.z_score', 'lof_hc_lc.pLI', 'lof.oe_ci.upper']))"
   ]
  },
  {
   "cell_type": "code",
   "execution_count": 12,
   "metadata": {
    "ExecuteTime": {
     "end_time": "2025-06-18T17:21:43.374533Z",
     "start_time": "2025-06-18T17:21:43.361636Z"
    }
   },
   "outputs": [
    {
     "ename": "NameError",
     "evalue": "name 'pli_df' is not defined",
     "output_type": "error",
     "traceback": [
      "\u001b[0;31m---------------------------------------------------------------------------\u001b[0m",
      "\u001b[0;31mNameError\u001b[0m                                 Traceback (most recent call last)",
      "Cell \u001b[0;32mIn[12], line 1\u001b[0m\n\u001b[0;32m----> 1\u001b[0m gene_pli \u001b[38;5;241m=\u001b[39m \u001b[43mpli_df\u001b[49m\u001b[38;5;241m.\u001b[39miloc[out[:\u001b[38;5;241m-\u001b[39m\u001b[38;5;241m1\u001b[39m], :]\n",
      "\u001b[0;31mNameError\u001b[0m: name 'pli_df' is not defined"
     ]
    }
   ],
   "source": [
    "gene_pli = pli_df.iloc[out[:-1], :]"
   ]
  },
  {
   "cell_type": "markdown",
   "metadata": {},
   "source": [
    "Map identifiers to NCBI Gene IDs"
   ]
  },
  {
   "cell_type": "code",
   "execution_count": null,
   "metadata": {},
   "outputs": [],
   "source": [
    "print('# Ensembl IDs:', len(gene_pli[~gene_pli.gene_id.str.isnumeric()]))"
   ]
  },
  {
   "cell_type": "code",
   "execution_count": null,
   "metadata": {},
   "outputs": [],
   "source": [
    "gene_map = pli_df.loc[pli_df.gene_id.str.isnumeric(), ('gene', 'gene_id')].merge(gene_pli[~gene_pli.gene_id.str.isnumeric()], on='gene', suffixes=('', 'x'), how='right').drop_duplicates(subset=['gene'])\n",
    "gene_pli = pd.concat([gene_pli[gene_pli.gene_id.str.isnumeric()], gene_map])#.drop(columns=['gene_idx', 'canonical', 'mane_select'])"
   ]
  },
  {
   "cell_type": "code",
   "execution_count": null,
   "metadata": {},
   "outputs": [],
   "source": [
    "missing_pli = gene_pli[gene_pli.gene_id.isna()]\n",
    "missing_sym = gene_pli[gene_pli.gene_id.isna()]['gene'].values"
   ]
  },
  {
   "cell_type": "code",
   "execution_count": null,
   "metadata": {},
   "outputs": [],
   "source": [
    "updated_symb, missing = update_nodes(missing_sym, 'Symbol')\n",
    "print('Missing:', len(missing))\n",
    "converted_ids, missing= convert_node_ids(list(updated_symb.values()), 'Symbol', 'Entrez') \n",
    "print('Missing:', len(missing))\n",
    "missing_pli['gene_id'] = missing_pli.gene.apply(lambda x: converted_ids[updated_symb[x]])"
   ]
  },
  {
   "cell_type": "code",
   "execution_count": null,
   "metadata": {},
   "outputs": [],
   "source": [
    "gene_pli = pd.concat([gene_pli, missing_pli ])\n",
    "gene_pli = gene_pli.drop_duplicates(subset=['gene_id', 'lof.oe_ci.upper'])\n",
    "print(len(gene_pli), gene_pli.gene_id.nunique())"
   ]
  },
  {
   "cell_type": "code",
   "execution_count": null,
   "metadata": {},
   "outputs": [],
   "source": [
    "gene_pli = gene_pli.drop(columns=['gene_idx', 'canonical', 'mane_select'])\n",
    "gene_pli.columns = ['Symbol', 'Entrez', 'lof_hc_lc.pLI', 'lof.pLI', 'lof.z_score', 'LOEUF']\n",
    "gene_pli.loc[:, ('Entrez', 'LOEUF')].to_csv(os.path.join(outdir, 'Gene_pLI.txt'), index=False, sep='\\t')"
   ]
  },
  {
   "cell_type": "markdown",
   "metadata": {},
   "source": [
    "#### Synonymous Intolerance\n",
    "\n",
    "-syn.z_score: Z-score for synonymous variants in transcript. Higher (more positive) Z scores indicate that the transcript is more intolerant of variation (more constrained)."
   ]
  },
  {
   "cell_type": "code",
   "execution_count": null,
   "metadata": {},
   "outputs": [],
   "source": [
    "mis_df = pd.read_csv(os.path.join(refdir, 'gnomAD', 'gnomad.v4.1.constraint_metrics.tsv'), sep='\\t',\n",
    "                    usecols=['gene', 'gene_id', 'canonical','mane_select', 'mis.z_score', 'syn.z_score'])\n",
    "# exclude non-canonical transcripts\n",
    "print(mis_df.gene.nunique())"
   ]
  },
  {
   "cell_type": "code",
   "execution_count": null,
   "metadata": {},
   "outputs": [],
   "source": [
    "out = []\n",
    "for gene in tqdm(mis_df.gene.unique()):\n",
    "    out.append(prioritize_gene_duplicates(mis_df, gene, score_cols=['mis.z_score', 'syn.z_score']))"
   ]
  },
  {
   "cell_type": "code",
   "execution_count": null,
   "metadata": {},
   "outputs": [],
   "source": [
    "gene_mis = mis_df.iloc[out[:-1], :]\n",
    "len(gene_mis)"
   ]
  },
  {
   "cell_type": "markdown",
   "metadata": {},
   "source": [
    "Map indentifiers to NCBI Gene IDs"
   ]
  },
  {
   "cell_type": "code",
   "execution_count": null,
   "metadata": {},
   "outputs": [],
   "source": [
    "# replace with NCBI IDs as needed\n",
    "print('# Ensembl IDs:', len(gene_mis[~gene_mis.gene_id.str.isnumeric()]))"
   ]
  },
  {
   "cell_type": "code",
   "execution_count": null,
   "metadata": {},
   "outputs": [],
   "source": [
    "gene_map = mis_df.loc[mis_df.gene_id.str.isnumeric(), ('gene', 'gene_id')].merge(gene_mis[~gene_mis.gene_id.str.isnumeric()], on='gene', suffixes=('', 'x'), how='right').drop_duplicates(subset=['gene'])\n",
    "gene_mis = pd.concat([gene_mis[gene_mis.gene_id.str.isnumeric()], gene_map]).drop(columns=['gene_idx', 'canonical', 'mane_select'])\n",
    "gene_mis.columns = ['Symbol', 'Entrez', 'mis.z_score', 'syn.z_score']"
   ]
  },
  {
   "cell_type": "code",
   "execution_count": null,
   "metadata": {},
   "outputs": [],
   "source": [
    "gene_mis.loc[:, ('Entrez', 'syn.z_score')].to_csv(os.path.join(outdir, 'Gene_MisSyn.txt'), index=False, sep='\\t')"
   ]
  },
  {
   "cell_type": "markdown",
   "metadata": {},
   "source": [
    "### mRNA Expression\n",
    "\n",
    "- Average expression\n",
    "- Number of expressed tissues"
   ]
  },
  {
   "cell_type": "code",
   "execution_count": null,
   "metadata": {},
   "outputs": [],
   "source": [
    "rna_raw = pd.read_csv(os.path.join(refdir, 'gtex_median_processed_1.tsv.gz'), sep='\\t')\n",
    "rna_df = rna_raw[~rna_raw.Entrez.isna()].drop(columns=['Ensembl_ID', 'Symbol']).set_index('Entrez')"
   ]
  },
  {
   "cell_type": "code",
   "execution_count": null,
   "metadata": {},
   "outputs": [],
   "source": [
    "rna_metrics = pd.DataFrame({'Mean_mRNA':rna_df.mean(axis=1), 'n_Expressed':(rna_df > 1).sum(axis=1)}).reset_index()"
   ]
  },
  {
   "cell_type": "code",
   "execution_count": null,
   "metadata": {},
   "outputs": [],
   "source": [
    "rna_metrics = rna_metrics.sort_values(by='Mean_mRNA', ascending=False).drop_duplicates(subset='Entrez', keep='first')"
   ]
  },
  {
   "cell_type": "code",
   "execution_count": null,
   "metadata": {},
   "outputs": [],
   "source": [
    "rna_metrics.to_csv(os.path.join(outdir, 'Gene_mRNA.txt'), sep='\\t', index=False)"
   ]
  },
  {
   "cell_type": "markdown",
   "metadata": {},
   "source": [
    "### GO Annotations"
   ]
  },
  {
   "cell_type": "code",
   "execution_count": null,
   "metadata": {},
   "outputs": [],
   "source": [
    "go_df = pd.read_csv(os.path.join(refdir, 'gene2go.gz'), sep='\\t')\n",
    "go_df = go_df[go_df['#tax_id']==9606].drop(columns=['#tax_id'])"
   ]
  },
  {
   "cell_type": "code",
   "execution_count": null,
   "metadata": {},
   "outputs": [],
   "source": [
    "# remove negating qualifiers\n",
    "exclude_qualifiers = [x for x in go_df.Qualifier.unique() if 'NOT' in x]\n",
    "go_df = go_df[~go_df.Qualifier.isin(exclude_qualifiers)]"
   ]
  },
  {
   "cell_type": "code",
   "execution_count": null,
   "metadata": {},
   "outputs": [],
   "source": [
    "go_counts = go_df.groupby(['GeneID', 'Category']).GO_ID.nunique().reset_index()\n",
    "go_counts = go_counts.pivot_table(index='GeneID', columns=['Category'], values='GO_ID', fill_value=0).reset_index()\n",
    "go_counts.columns = ['Entrez', 'n_GO_CC', 'n_GO_MF', 'n_GO_BP']\n",
    "go_counts['n_GO']=go_counts['n_GO_CC'] + go_counts['n_GO_MF'] + go_counts['n_GO_BP']"
   ]
  },
  {
   "cell_type": "code",
   "execution_count": null,
   "metadata": {},
   "outputs": [],
   "source": [
    "go_counts.to_csv(os.path.join(outdir, 'Gene_GO.txt'), sep='\\t', index=False)"
   ]
  },
  {
   "cell_type": "markdown",
   "metadata": {},
   "source": [
    "### Gene length"
   ]
  },
  {
   "cell_type": "code",
   "execution_count": null,
   "metadata": {},
   "outputs": [],
   "source": [
    "length_df = pd.read_csv(os.path.join(refdir,'Ensembl_Feb14_2025.txt.gz'), sep='\\t', low_memory=False,\n",
    "                       usecols=['Gene stable ID', 'Gene start (bp)', 'Gene end (bp)', 'Chromosome/scaffold name',\n",
    "                               'NCBI gene (formerly Entrezgene) ID', 'HGNC symbol'],\n",
    "                       )\n",
    "length_df.columns = ['Ensembl', 'Start', 'End', 'Chrom', 'Entrez', 'Symbol']\n",
    "length_df = length_df.dropna(subset=['Start', 'End', 'Entrez']).drop_duplicates()\n",
    "length_df = length_df[length_df.Chrom.isin([str(x) for x in range(1, 23)] + ['X', 'Y'])]\n",
    "length_df = length_df[~length_df.Symbol.isna()]\n",
    "length_df['GeneSize'] = length_df['End'] - length_df['Start']"
   ]
  },
  {
   "cell_type": "markdown",
   "metadata": {},
   "source": [
    "Map indentifiers to NCBI Gene IDs"
   ]
  },
  {
   "cell_type": "code",
   "execution_count": null,
   "metadata": {},
   "outputs": [],
   "source": [
    "updated_symbols, missing = update_nodes(length_df.Symbol.unique(), 'Symbol')\n",
    "print('Missing:', len(missing))\n",
    "converted_ids, missing= convert_node_ids(list(updated_symbols.values()), 'Symbol', 'Entrez') \n",
    "print('Missing:', len(missing))"
   ]
  },
  {
   "cell_type": "code",
   "execution_count": null,
   "metadata": {},
   "outputs": [],
   "source": [
    "gene_map = {x: converted_ids[y] for x,y in updated_symbols.items()}\n",
    "length_df = length_df.assign(Entrez = length_df.Symbol.map(gene_map))\n",
    "# remove duplicated gene lengths\n",
    "length_df = length_df.drop_duplicates(subset=['Entrez', 'GeneSize'])"
   ]
  },
  {
   "cell_type": "code",
   "execution_count": null,
   "metadata": {},
   "outputs": [],
   "source": [
    "print('Genes with conflicting entries:',  length_df[length_df.Entrez.duplicated(keep=False)].Entrez.nunique())\n",
    "# Remove genes with conflicting entries\n",
    "length_df = length_df[~length_df.Entrez.isin(length_df[length_df.Entrez.duplicated(keep=False)].Entrez.values)]\n",
    "print('Final size:', len(length_df))"
   ]
  },
  {
   "cell_type": "code",
   "execution_count": null,
   "metadata": {},
   "outputs": [],
   "source": [
    "length_df.sort_values('Entrez').loc[:, ('Entrez','Chrom', 'Start', 'End', 'GeneSize')].to_csv(os.path.join(outdir, 'Gene_length.txt'), sep='\\t', index=False)"
   ]
  },
  {
   "cell_type": "markdown",
   "metadata": {},
   "source": [
    "## Collate Annotations"
   ]
  },
  {
   "cell_type": "code",
   "execution_count": 13,
   "metadata": {
    "ExecuteTime": {
     "end_time": "2025-06-18T17:21:52.048594Z",
     "start_time": "2025-06-18T17:21:52.046094Z"
    }
   },
   "outputs": [],
   "source": [
    "files = { 'MisSyn': 'Gene_MisSyn.txt',  'pli': 'Gene_pLI.txt',\n",
    "    'Length': 'Gene_length.txt',\n",
    "    'GO': 'Gene_GO.txt' ,\n",
    "    'mrna':'Gene_mRNA.txt', 'n_mrna':'Gene_mRNA.txt'\n",
    "}  "
   ]
  },
  {
   "cell_type": "code",
   "execution_count": 14,
   "metadata": {
    "ExecuteTime": {
     "end_time": "2025-06-18T17:21:52.397720Z",
     "start_time": "2025-06-18T17:21:52.395450Z"
    }
   },
   "outputs": [],
   "source": [
    "missing_val = {\n",
    " 'GO': 0,\n",
    "}\n",
    "\n",
    "usecols = {\n",
    " 'MisSyn': 'syn.z_score',\n",
    " 'pli': 'LOEUF',\n",
    " 'Length': 'GeneSize',\n",
    " 'GO': 'n_GO',\n",
    " 'mrna': 'Mean_mRNA', \n",
    " 'n_mrna': 'n_Expressed'}\n",
    "\n",
    "labels = {\n",
    " 'MisSyn': 'Synonymous intolerance',\n",
    " 'pli': 'Med. LOEUF',\n",
    " 'Length': 'Med. Gene Size',\n",
    " 'GO': 'Med. GO Terms',\n",
    " 'mrna': 'mRNA Exp.', \n",
    " 'n_mrna': 'Med. Exp. Tissues'}"
   ]
  },
  {
   "cell_type": "code",
   "execution_count": 15,
   "metadata": {
    "ExecuteTime": {
     "end_time": "2025-06-18T17:21:53.104385Z",
     "start_time": "2025-06-18T17:21:52.715254Z"
    }
   },
   "outputs": [
    {
     "name": "stdout",
     "output_type": "stream",
     "text": [
      "MisSyn (18075, 1)\n",
      "pli (17954, 1)\n",
      "Length (25013, 1)\n",
      "GO (20739, 1)\n",
      "mrna (34812, 1)\n",
      "n_mrna (34812, 1)\n"
     ]
    }
   ],
   "source": [
    "annot_dfs = {}\n",
    "for met, file in files.items():\n",
    "    annot_dfs[met] = pd.read_csv(os.path.join(annot_dir, file), sep='\\t', index_col=0, usecols=['Entrez']+[usecols[met]]).dropna()\n",
    "    annot_dfs[met] = annot_dfs[met][~annot_dfs[met].index.isna()]\n",
    "    annot_dfs[met].index = annot_dfs[met].index.astype(int)\n",
    "    print(met, annot_dfs[met].shape)"
   ]
  },
  {
   "cell_type": "code",
   "execution_count": 16,
   "metadata": {
    "ExecuteTime": {
     "end_time": "2025-06-18T17:21:53.163132Z",
     "start_time": "2025-06-18T17:21:53.134849Z"
    }
   },
   "outputs": [],
   "source": [
    "bio_df = annot_dfs['MisSyn']\n",
    "for met, df in annot_dfs.items():\n",
    "    if met != 'MisSyn':\n",
    "        bio_df = bio_df.join(annot_dfs[met], how='outer')\n",
    "bio_df = bio_df.dropna(thresh=2)\n",
    "#bio_df = bio_df.fillna({usecols[k]:missing_val[k] for k in missing_val})\n",
    "bio_df = bio_df.rename(columns={usecols[k]:k for k in usecols})"
   ]
  },
  {
   "cell_type": "code",
   "execution_count": 17,
   "metadata": {
    "ExecuteTime": {
     "end_time": "2025-06-18T17:21:53.969911Z",
     "start_time": "2025-06-18T17:21:53.827916Z"
    }
   },
   "outputs": [],
   "source": [
    "bio_df.to_csv(os.path.join(keydir, 'Features_bio_gene_test.txt'), sep='\\t')"
   ]
  },
  {
   "cell_type": "markdown",
   "metadata": {},
   "source": [
    "## Gene Set Annotations"
   ]
  },
  {
   "cell_type": "code",
   "execution_count": 18,
   "metadata": {
    "ExecuteTime": {
     "end_time": "2025-06-18T17:21:55.166963Z",
     "start_time": "2025-06-18T17:21:54.913557Z"
    }
   },
   "outputs": [
    {
     "name": "stdout",
     "output_type": "stream",
     "text": [
      "536 947\n"
     ]
    }
   ],
   "source": [
    "r_traitlist = set()\n",
    "c_traitlist = set()\n",
    "\n",
    "with open(os.path.join(input_dir, 'best_rare.traitlist'), 'r') as f:\n",
    "    r_traitlist = r_traitlist.union(set([x.strip() for x in f.readlines()]))\n",
    "with open(os.path.join(input_dir, 'not_best_rare.traitlist'), 'r') as f:\n",
    "    r_traitlist = r_traitlist.union(set([x.strip() for x in f.readlines()]))\n",
    "    \n",
    "with open(os.path.join(input_dir, 'best_common.traitlist'), 'r') as f:\n",
    "    c_traitlist = c_traitlist.union(set([x.strip() for x in f.readlines()]))\n",
    "with open(os.path.join(input_dir, 'not_best_common.traitlist'), 'r') as f:\n",
    "    c_traitlist = c_traitlist.union(set([x.strip() for x in f.readlines()]))\n",
    "print(len(r_traitlist), len(c_traitlist))"
   ]
  },
  {
   "cell_type": "code",
   "execution_count": 19,
   "metadata": {
    "ExecuteTime": {
     "end_time": "2025-06-18T17:22:01.064408Z",
     "start_time": "2025-06-18T17:21:57.206547Z"
    }
   },
   "outputs": [
    {
     "name": "stderr",
     "output_type": "stream",
     "text": [
      "100%|██████████| 536/536 [00:03<00:00, 140.29it/s]\n"
     ]
    }
   ],
   "source": [
    "rare_annot = {}\n",
    "for gs in tqdm(list(r_traitlist)):\n",
    "    genes = pd.read_csv(os.path.join(input_dir, f'{gs}_RV.txt'), sep='\\t').Entrez.values\n",
    "    genes = [x for x in genes if x in bio_df.index.values]\n",
    "    gene_df = bio_df.loc[genes, :]\n",
    "    gene_df = gene_df.fillna(missing_val)\n",
    "    #gene_df = gene_df.dropna(axis=1, thresh=)\n",
    "    rare_annot[gs] = gene_df.median(axis=0).to_dict()"
   ]
  },
  {
   "cell_type": "code",
   "execution_count": 20,
   "metadata": {
    "ExecuteTime": {
     "end_time": "2025-06-18T17:22:07.625883Z",
     "start_time": "2025-06-18T17:22:01.089867Z"
    }
   },
   "outputs": [
    {
     "name": "stderr",
     "output_type": "stream",
     "text": [
      "100%|██████████| 947/947 [00:06<00:00, 144.99it/s]\n"
     ]
    }
   ],
   "source": [
    "common_annot = {}\n",
    "for gs in tqdm(list(c_traitlist)):\n",
    "    genes = pd.read_csv(os.path.join(input_dir, f'{gs}_CV.txt'), sep='\\t').Entrez.values\n",
    "    genes = [x for x in genes if x in bio_df.index.values]\n",
    "    gene_df = bio_df.loc[genes, :]\n",
    "    gene_df = gene_df.fillna(missing_val)\n",
    "    #gene_df = gene_df.dropna(axis=1, thresh=3)\n",
    "    common_annot[gs] = gene_df.median(axis=0).to_dict()"
   ]
  },
  {
   "cell_type": "code",
   "execution_count": 21,
   "metadata": {
    "ExecuteTime": {
     "end_time": "2025-06-18T17:22:07.672414Z",
     "start_time": "2025-06-18T17:22:07.651029Z"
    }
   },
   "outputs": [],
   "source": [
    "rare_df = pd.DataFrame(rare_annot).T\n",
    "rare_df['Set'] = 'Rare'\n",
    "common_df = pd.DataFrame(common_annot).T\n",
    "common_df['Set'] = 'Common'"
   ]
  },
  {
   "cell_type": "code",
   "execution_count": 22,
   "metadata": {
    "ExecuteTime": {
     "end_time": "2025-06-18T17:22:07.701925Z",
     "start_time": "2025-06-18T17:22:07.699801Z"
    }
   },
   "outputs": [],
   "source": [
    "rc_df= pd.concat([rare_df, common_df])"
   ]
  },
  {
   "cell_type": "code",
   "execution_count": 23,
   "metadata": {
    "ExecuteTime": {
     "end_time": "2025-06-18T17:22:07.745901Z",
     "start_time": "2025-06-18T17:22:07.732953Z"
    }
   },
   "outputs": [],
   "source": [
    "rc_df.to_csv(os.path.join(keydir, 'Features_bio_genesets_test.txt'), sep='\\t')"
   ]
  },
  {
   "cell_type": "code",
   "execution_count": 24,
   "metadata": {
    "ExecuteTime": {
     "end_time": "2025-06-18T17:22:07.906697Z",
     "start_time": "2025-06-18T17:22:07.777713Z"
    }
   },
   "outputs": [
    {
     "data": {
      "text/plain": [
       "Index(['TraitR', 'TraitC', 'Network', 'Transform', 'Norm', 'Mean_NPS',\n",
       "       'Null_mean_NPS', 'P_mean_NPS', 'Size', 'Null_Size', 'P_size',\n",
       "       'logp_nps', 'logp_size', 'log2SizeOE', 'EFO', 'Set', 'trait_pair', 'q',\n",
       "       'param_set', 'n_common', 'n_rare', 'n_overlap', 'background', 'pval'],\n",
       "      dtype='object')"
      ]
     },
     "execution_count": 24,
     "metadata": {},
     "output_type": "execute_result"
    }
   ],
   "source": [
    "initial_df = pd.read_csv(os.path.join(keydir, 'initial_coloc_overlap.txt'), sep='\\t')\n",
    "repeat_df = pd.read_csv(os.path.join(keydir, 'repeat_coloc_overlap.txt'), sep='\\t')\n",
    "best_df = pd.read_csv(os.path.join(keydir, 'best_coloc_overlap.txt'), sep='\\t')\n",
    "coloc_df = pd.concat([initial_df, repeat_df])\n",
    "coloc_df.columns"
   ]
  },
  {
   "cell_type": "code",
   "execution_count": 25,
   "metadata": {
    "ExecuteTime": {
     "end_time": "2025-06-18T17:22:07.963201Z",
     "start_time": "2025-06-18T17:22:07.961111Z"
    }
   },
   "outputs": [],
   "source": [
    "initial_trait_pairs = list(initial_df.trait_pair.values)\n",
    "initial_r_traits = list(initial_df.TraitR.values)\n",
    "initial_c_traits = list(initial_df.TraitC.values)"
   ]
  },
  {
   "cell_type": "code",
   "execution_count": 26,
   "metadata": {
    "ExecuteTime": {
     "end_time": "2025-06-18T17:22:08.018593Z",
     "start_time": "2025-06-18T17:22:08.015947Z"
    }
   },
   "outputs": [],
   "source": [
    "rc_initial = rc_df.loc[initial_r_traits+initial_c_traits]"
   ]
  },
  {
   "cell_type": "code",
   "execution_count": 27,
   "metadata": {
    "ExecuteTime": {
     "end_time": "2025-06-18T17:22:08.191207Z",
     "start_time": "2025-06-18T17:22:08.073825Z"
    }
   },
   "outputs": [],
   "source": [
    "study_df = pd.read_csv(os.path.join(keydir, 'all_study_info.txt'), sep='\\t', index_col=0)\n",
    "study_df['N_C'] = study_df.apply(lambda x: x.N_C if x['PUBMED ID']!=34610981 else 5705, axis=1)\n",
    "domain_info = pd.read_csv(os.path.join(keydir, 'domain_trait_type.txt'), sep='\\t', index_col=0).drop_duplicates()\n",
    "best_df = best_df.merge(domain_info.loc[:, ('EFO', 'Domain')], on=['EFO'], how='left')\n",
    "coloc_df = coloc_df.merge(domain_info, on=['EFO'], how='left')\n",
    "best_df = coloc_df[coloc_df.trait_pair.isin(best_df.trait_pair.values)]\n",
    "best_pairs = best_df.trait_pair.values\n",
    "all_pairs = coloc_df.trait_pair.values"
   ]
  },
  {
   "cell_type": "code",
   "execution_count": 28,
   "metadata": {
    "ExecuteTime": {
     "end_time": "2025-06-18T17:22:08.313595Z",
     "start_time": "2025-06-18T17:22:08.254479Z"
    }
   },
   "outputs": [],
   "source": [
    "input_df = study_df.loc[:, ('trait_pair', 'N_R', 'N_C', 'Cosine_R', 'Cosine_C')].set_index('trait_pair').join(coloc_df.loc[:, \n",
    "                                        ('trait_pair', 'log2SizeOE','logp_size', 'n_common', 'n_rare', \n",
    "                                         'n_overlap', 'pval', 'trait_type')].set_index('trait_pair'))\n",
    "input_df['jaccard'] = input_df.apply(lambda x: (x.n_overlap/(x.n_common+x.n_rare-x.n_overlap)), axis=1)\n",
    "input_df['binary'] = input_df.trait_type.apply(lambda x: 1 if x=='CC' else 0)\n",
    "input_df['jaccard_zero'] = input_df.jaccard.apply(lambda x: 1 if x ==0  else 0)\n",
    "input_df['Gene_ratioRC']= input_df.apply(lambda x: x.n_rare/x.n_common, axis=1)\n",
    "input_df['overlap_logp'] = input_df.pval.apply(lambda x: -1 * np.log10(x + 1e-250))"
   ]
  },
  {
   "cell_type": "code",
   "execution_count": 29,
   "metadata": {
    "ExecuteTime": {
     "end_time": "2025-06-18T17:22:08.420784Z",
     "start_time": "2025-06-18T17:22:08.379551Z"
    }
   },
   "outputs": [],
   "source": [
    "input_initial= input_df.reset_index().loc[input_df.reset_index().trait_pair.isin(initial_trait_pairs), ['N_R', 'N_C', 'n_common', 'n_rare', 'trait_pair']]\n",
    "\n",
    "input_initial = input_initial.assign(TraitR = input_initial.trait_pair.apply(lambda x: x.split('_GCST')[0]))\n",
    "input_initial = input_initial.assign(TraitC = input_initial.trait_pair.apply(lambda x: 'GCST' + x.split('_GCST')[-1]))\n",
    "input_initial = input_initial.melt(id_vars=['trait_pair', 'TraitR', 'TraitC'])\n",
    "input_initial = input_initial.assign(Set = input_initial.variable.apply(lambda x: 'Rare' if (x=='N_R') or (x=='n_rare') else 'Common'),\n",
    "                                    metric = input_initial.variable.apply(lambda x: 'N' if 'N' in x else 'n'))\n",
    "input_initial = input_initial.pivot(index=['trait_pair', 'Set', 'TraitR', 'TraitC'], columns='metric', values='value').reset_index()\n",
    "input_initial = input_initial.assign(trait = input_initial.apply(lambda x:  x.TraitR if x.Set=='Rare' else x.TraitC, axis=1)).drop(columns=['TraitR', 'TraitC'])\n",
    "input_initial = input_initial.set_index('trait')\n",
    "input_initial.index.name=''\n",
    "input_initial.columns.name=''"
   ]
  },
  {
   "cell_type": "code",
   "execution_count": 30,
   "metadata": {
    "ExecuteTime": {
     "end_time": "2025-06-18T17:22:08.542726Z",
     "start_time": "2025-06-18T17:22:08.488700Z"
    }
   },
   "outputs": [],
   "source": [
    "input_df.to_csv(os.path.join(keydir, 'Features_input_test.txt'), sep='\\t')"
   ]
  },
  {
   "cell_type": "code",
   "execution_count": 31,
   "metadata": {
    "ExecuteTime": {
     "end_time": "2025-06-18T17:22:08.613892Z",
     "start_time": "2025-06-18T17:22:08.610934Z"
    }
   },
   "outputs": [],
   "source": [
    "all_rc_initial = input_initial.join(rc_initial.drop(columns=['Set']))"
   ]
  },
  {
   "cell_type": "code",
   "execution_count": 32,
   "metadata": {
    "ExecuteTime": {
     "end_time": "2025-06-18T17:22:08.688525Z",
     "start_time": "2025-06-18T17:22:08.685041Z"
    }
   },
   "outputs": [],
   "source": [
    "def do_paired_test(rc_df, metric=np.median):\n",
    "    print('Diff < 0 = rare is higher')\n",
    "    overall_res = {}\n",
    "    \n",
    "    for met in rc_df.columns:\n",
    "        if met not in ['Set', 'trait_pair']:\n",
    "            test_df = rc_df.loc[:, ('Set', 'trait_pair', met)].pivot(index='trait_pair', columns='Set', values=met).dropna().reset_index()\n",
    "            median_diff = np.median(test_df.Rare.values - test_df.Common.values)\n",
    "            res = wilcoxon(test_df.Rare.values - test_df.Common.values)\n",
    "            overall_res[met] = {'Diff':median_diff, 'p':res.pvalue}\n",
    "    overall_res = pd.DataFrame(overall_res).T\n",
    "    overall_res['q'] = fdrcorrection(overall_res.p)[1]\n",
    "    overall_res['sig'] = overall_res.q < 0.05\n",
    "    return overall_res"
   ]
  },
  {
   "cell_type": "code",
   "execution_count": 33,
   "metadata": {
    "ExecuteTime": {
     "end_time": "2025-06-18T17:22:08.788531Z",
     "start_time": "2025-06-18T17:22:08.762701Z"
    }
   },
   "outputs": [
    {
     "name": "stdout",
     "output_type": "stream",
     "text": [
      "Diff < 0 = rare is higher\n"
     ]
    }
   ],
   "source": [
    "paired_res = do_paired_test(all_rc_initial)"
   ]
  },
  {
   "cell_type": "code",
   "execution_count": 34,
   "metadata": {
    "ExecuteTime": {
     "end_time": "2025-06-18T17:22:08.890839Z",
     "start_time": "2025-06-18T17:22:08.862247Z"
    }
   },
   "outputs": [
    {
     "name": "stdout",
     "output_type": "stream",
     "text": [
      "Median Population Sample Sizes\n"
     ]
    },
    {
     "data": {
      "text/plain": [
       "Set\n",
       "Common    136016.0\n",
       "Rare      209319.0\n",
       "Name: N, dtype: float64"
      ]
     },
     "execution_count": 34,
     "metadata": {},
     "output_type": "execute_result"
    }
   ],
   "source": [
    "print('Median Population Sample Sizes')\n",
    "all_rc_initial.groupby('Set').N.median()"
   ]
  },
  {
   "cell_type": "code",
   "execution_count": 35,
   "metadata": {
    "ExecuteTime": {
     "end_time": "2025-06-18T17:22:08.970915Z",
     "start_time": "2025-06-18T17:22:08.964628Z"
    }
   },
   "outputs": [
    {
     "data": {
      "text/html": [
       "<div>\n",
       "<style scoped>\n",
       "    .dataframe tbody tr th:only-of-type {\n",
       "        vertical-align: middle;\n",
       "    }\n",
       "\n",
       "    .dataframe tbody tr th {\n",
       "        vertical-align: top;\n",
       "    }\n",
       "\n",
       "    .dataframe thead th {\n",
       "        text-align: right;\n",
       "    }\n",
       "</style>\n",
       "<table border=\"1\" class=\"dataframe\">\n",
       "  <thead>\n",
       "    <tr style=\"text-align: right;\">\n",
       "      <th></th>\n",
       "      <th>Diff</th>\n",
       "      <th>p</th>\n",
       "      <th>q</th>\n",
       "      <th>sig</th>\n",
       "    </tr>\n",
       "  </thead>\n",
       "  <tbody>\n",
       "    <tr>\n",
       "      <th>N</th>\n",
       "      <td>-37117.000000</td>\n",
       "      <td>3.380602e-08</td>\n",
       "      <td>9.014938e-08</td>\n",
       "      <td>True</td>\n",
       "    </tr>\n",
       "    <tr>\n",
       "      <th>n</th>\n",
       "      <td>5.000000</td>\n",
       "      <td>6.235698e-04</td>\n",
       "      <td>8.314265e-04</td>\n",
       "      <td>True</td>\n",
       "    </tr>\n",
       "    <tr>\n",
       "      <th>MisSyn</th>\n",
       "      <td>-0.010966</td>\n",
       "      <td>5.634648e-01</td>\n",
       "      <td>5.634648e-01</td>\n",
       "      <td>False</td>\n",
       "    </tr>\n",
       "    <tr>\n",
       "      <th>pli</th>\n",
       "      <td>-1.148475</td>\n",
       "      <td>1.038547e-33</td>\n",
       "      <td>4.154187e-33</td>\n",
       "      <td>True</td>\n",
       "    </tr>\n",
       "    <tr>\n",
       "      <th>Length</th>\n",
       "      <td>-45367.500000</td>\n",
       "      <td>1.256413e-51</td>\n",
       "      <td>1.005130e-50</td>\n",
       "      <td>True</td>\n",
       "    </tr>\n",
       "    <tr>\n",
       "      <th>GO</th>\n",
       "      <td>-1.500000</td>\n",
       "      <td>1.443852e-05</td>\n",
       "      <td>2.887704e-05</td>\n",
       "      <td>True</td>\n",
       "    </tr>\n",
       "    <tr>\n",
       "      <th>mrna</th>\n",
       "      <td>-0.588599</td>\n",
       "      <td>4.314782e-01</td>\n",
       "      <td>4.931179e-01</td>\n",
       "      <td>False</td>\n",
       "    </tr>\n",
       "    <tr>\n",
       "      <th>n_mrna</th>\n",
       "      <td>-0.500000</td>\n",
       "      <td>3.674170e-04</td>\n",
       "      <td>5.878673e-04</td>\n",
       "      <td>True</td>\n",
       "    </tr>\n",
       "  </tbody>\n",
       "</table>\n",
       "</div>"
      ],
      "text/plain": [
       "                Diff             p             q    sig\n",
       "N      -37117.000000  3.380602e-08  9.014938e-08   True\n",
       "n           5.000000  6.235698e-04  8.314265e-04   True\n",
       "MisSyn     -0.010966  5.634648e-01  5.634648e-01  False\n",
       "pli        -1.148475  1.038547e-33  4.154187e-33   True\n",
       "Length -45367.500000  1.256413e-51  1.005130e-50   True\n",
       "GO         -1.500000  1.443852e-05  2.887704e-05   True\n",
       "mrna       -0.588599  4.314782e-01  4.931179e-01  False\n",
       "n_mrna     -0.500000  3.674170e-04  5.878673e-04   True"
      ]
     },
     "execution_count": 35,
     "metadata": {},
     "output_type": "execute_result"
    }
   ],
   "source": [
    "paired_res"
   ]
  },
  {
   "cell_type": "code",
   "execution_count": 36,
   "metadata": {
    "ExecuteTime": {
     "end_time": "2025-06-18T17:22:09.876284Z",
     "start_time": "2025-06-18T17:22:09.044043Z"
    }
   },
   "outputs": [],
   "source": [
    "# need a list of protein coding genes IDed by Entrez.\n",
    "coding_genes = pd.read_csv(os.path.join(basedir, 'Reference/Ensembl_Feb14_2025.txt.gz'), sep='\\t', usecols=['Gene type', 'NCBI gene (formerly Entrezgene) ID'])\n",
    "coding_genes = coding_genes[coding_genes['Gene type']=='protein_coding'].dropna().drop_duplicates()\n",
    "coding_genes.columns=['Gene type', 'Entrez']\n",
    "coding_genes.Entrez = coding_genes.Entrez.astype(int)\n",
    "coding_df = bio_df.loc[[x for x in coding_genes.Entrez.values if x in bio_df.index.values]]"
   ]
  },
  {
   "cell_type": "markdown",
   "metadata": {},
   "source": [
    "### Figure 1C"
   ]
  },
  {
   "cell_type": "code",
   "execution_count": 37,
   "metadata": {
    "ExecuteTime": {
     "end_time": "2025-06-18T17:22:09.959836Z",
     "start_time": "2025-06-18T17:22:09.954406Z"
    }
   },
   "outputs": [],
   "source": [
    "def plot_r_vs_c_violin2(rc_df, overall_res, labels):\n",
    "    n_sig = len(overall_res)\n",
    "    _ , axs = plt.subplots(nrows=1, ncols=n_sig, figsize=(n_sig, 1.25), gridspec_kw={'wspace':0.8})\n",
    "    for i, met in enumerate(overall_res.index.values):\n",
    "    #plot_median = bio_df[met].dropna().median()\n",
    "        if met in ['Length', 'CDS', 'mrna', 'Cite', 'N', 'n']:\n",
    "            sns.violinplot(rc_df, x='Set', y=met, cut=0, ax=axs[i], log_scale=True, hue_order=['Common', 'Rare'],\n",
    "                           saturation=1, zorder=2, linewidth=0.5, hue='Set', palette=[blue, green])\n",
    "\n",
    "        else:\n",
    "            sns.violinplot(rc_df, x='Set', y=met, cut=0, ax=axs[i], log_scale=False, hue_order=['Common', 'Rare'],\n",
    "                           saturation=1, zorder=2, linewidth=0.5, hue='Set', palette=[blue, green])\n",
    "\n",
    "        _ = axs[i].set_xlabel('')\n",
    "        _ = axs[i].set_ylabel(labels[met])\n",
    "        if overall_res.at[met, \"q\"] < 1e-5:\n",
    "            s= '***'\n",
    "        elif overall_res.at[met, \"q\"] < 1e-3:\n",
    "            s='**'\n",
    "        elif overall_res.at[met, \"q\"] < 0.05:\n",
    "            s='*'\n",
    "        else:\n",
    "            s='n.s.'\n",
    "        axs[i].set_title(f'{s}', fontsize=7)\n",
    "        axs[i].tick_params(axis='x', rotation=30)\n",
    "        out_ax1 = axs\n",
    "    return out_ax1"
   ]
  },
  {
   "cell_type": "code",
   "execution_count": 40,
   "metadata": {
    "ExecuteTime": {
     "end_time": "2025-06-18T17:23:07.094428Z",
     "start_time": "2025-06-18T17:23:05.140554Z"
    }
   },
   "outputs": [
    {
     "data": {
      "image/png": "[encoded data removed]",
      "text/plain": [
       "<Figure size 800x125 with 8 Axes>"
      ]
     },
     "metadata": {},
     "output_type": "display_data"
    }
   ],
   "source": [
    "ax1= plot_r_vs_c_violin2(all_rc_initial, paired_res.loc[['N', 'n', 'Length', 'pli', 'n_mrna','GO','MisSyn', 'mrna']], \n",
    "                              labels={**labels, 'N':'Study Size', 'n': 'Geneset Size'})\n",
    "ax1[2].hlines(y=bio_df.Length.median(), xmin=-0.5, xmax=1.5, linewidth=0.5, color='red')\n",
    "ax1[2].set_ylim(2500, 1.2e6)\n",
    "ax1[1].set_ylim(3, 1000)\n",
    "ax1[3].hlines(y=coding_df.pli.dropna().median(), xmin=-0.5, xmax=1.5, linewidth=0.5, color='red')\n",
    "ax1[4].hlines(y=coding_df.n_mrna.dropna().median(), xmin=-0.5, xmax=1.5, linewidth=0.5, color='red')\n",
    "ax1[5].hlines(y=coding_df.GO.dropna().median(), xmin=-0.5, xmax=1.5, linewidth=0.5, color='red')\n",
    "ax1[6].hlines(y=coding_df.MisSyn.dropna().median(), xmin=-0.5, xmax=1.5, linewidth=0.5, color='red')\n",
    "ax1[7].hlines(y=coding_df.mrna.dropna().median(), xmin=-0.5, xmax=1.5, linewidth=0.5, color='red')\n",
    "#ax1[1].set_ylim(-0/3, 1.2e6)\n",
    "for ax in ax1:\n",
    "    ax.set_xlim(-0.5, 1.5)\n",
    "    \n",
    "_ = ax1[3].set_yticks([0,0.6,4,8])\n",
    "_ = ax1[4].set_yticks([0, 20, 40, 54])\n",
    "ax1[4].set_ylim(0, 54)\n",
    "plt.savefig(os.path.join(figdir, 'gene_set_features_fig1.svg'), bbox_inches='tight')\n"
   ]
  },
  {
   "cell_type": "markdown",
   "metadata": {},
   "source": [
    "## CV & RV Overlaps"
   ]
  },
  {
   "cell_type": "code",
   "execution_count": 9,
   "metadata": {
    "ExecuteTime": {
     "end_time": "2025-06-11T21:43:19.270877Z",
     "start_time": "2025-06-11T21:43:19.265903Z"
    }
   },
   "outputs": [],
   "source": [
    "top_over_df = over_df[over_df.trait_pair.isin(pairs)]\n",
    "top_over_df['q'] = fdrcorrection(top_over_df.pval.values)[1]\n",
    "top_over_df['J'] = top_over_df.n_overlap / (top_over_df.n_common + top_over_df.n_rare - top_over_df.n_overlap)"
   ]
  },
  {
   "cell_type": "code",
   "execution_count": 31,
   "metadata": {
    "ExecuteTime": {
     "end_time": "2025-06-11T20:54:56.892087Z",
     "start_time": "2025-06-11T20:54:56.888292Z"
    }
   },
   "outputs": [
    {
     "name": "stdout",
     "output_type": "stream",
     "text": [
      "Trait with highest CV-RV similarity:\n",
      "EFO          EFO_0007805\n",
      "n_rare                17\n",
      "n_common              22\n",
      "n_overlap             11\n",
      "logq           31.268479\n",
      "Name: 152, dtype: object\n"
     ]
    }
   ],
   "source": [
    "print('Trait with highest CV-RV similarity:')\n",
    "print(top_over_df.sort_values('J', ascending=False).iloc[0].loc[['EFO', 'n_rare', 'n_common', 'n_overlap', 'logq']])"
   ]
  },
  {
   "cell_type": "code",
   "execution_count": 50,
   "metadata": {
    "ExecuteTime": {
     "end_time": "2025-06-11T21:02:49.756395Z",
     "start_time": "2025-06-11T21:02:49.752622Z"
    }
   },
   "outputs": [
    {
     "name": "stdout",
     "output_type": "stream",
     "text": [
      "Traits with no shared genes: 189\n",
      "Traits with significant number of shared genes: 184\n"
     ]
    }
   ],
   "source": [
    "print('Traits with no shared genes:', len(top_over_df[top_over_df.n_overlap==0]))\n",
    "print('Traits with significant number of shared genes:', len(top_over_df[(top_over_df.n_overlap>0) & (top_over_df.q <0.05)]))"
   ]
  },
  {
   "cell_type": "code",
   "execution_count": 13,
   "metadata": {
    "ExecuteTime": {
     "end_time": "2025-06-11T20:47:35.743908Z",
     "start_time": "2025-06-11T20:47:35.739295Z"
    }
   },
   "outputs": [],
   "source": [
    "top_over_df['rare_only'] = top_over_df.n_rare - top_over_df.n_overlap\n",
    "top_over_df['common_only'] = top_over_df.n_common - top_over_df.n_overlap\n",
    "top_over_df['total'] = top_over_df.rare_only + top_over_df.common_only + top_over_df.n_overlap\n",
    "top_over_df['overlap+rare'] = top_over_df.n_overlap + top_over_df.rare_only\n",
    "top_over_df = top_over_df.sort_values(by=['n_overlap', 'total'], ascending=False)"
   ]
  },
  {
   "cell_type": "code",
   "execution_count": 14,
   "metadata": {
    "ExecuteTime": {
     "end_time": "2025-06-11T20:47:37.445637Z",
     "start_time": "2025-06-11T20:47:37.442906Z"
    }
   },
   "outputs": [],
   "source": [
    "top_over_df['logq'] = top_over_df.q.apply(lambda x: -1 * np.log10(x+1e-50))"
   ]
  },
  {
   "cell_type": "code",
   "execution_count": 15,
   "metadata": {
    "ExecuteTime": {
     "end_time": "2025-06-11T20:47:38.183273Z",
     "start_time": "2025-06-11T20:47:38.178502Z"
    }
   },
   "outputs": [],
   "source": [
    "plot_df=top_over_df[(top_over_df.param_set=='defaults') & ((top_over_df.total > 100) ) & (top_over_df.total < 1000)].melt(id_vars=['trait_pair', 'q', 'logq'], value_vars=['n_overlap', 'overlap+rare', 'total'])\n",
    "total_order = top_over_df[top_over_df.param_set=='defaults'].sort_values(by=['n_overlap', 'n_rare', 'n_common'], ascending=[False, False, False]).trait_pair.values"
   ]
  },
  {
   "cell_type": "markdown",
   "metadata": {},
   "source": [
    "### Figure 1F"
   ]
  },
  {
   "cell_type": "code",
   "execution_count": 17,
   "metadata": {
    "ExecuteTime": {
     "end_time": "2025-06-11T20:47:45.320210Z",
     "start_time": "2025-06-11T20:47:41.759519Z"
    }
   },
   "outputs": [
    {
     "data": {
      "image/png": "[encoded data removed]",
      "text/plain": [
       "<Figure size 800x200 with 4 Axes>"
      ]
     },
     "metadata": {},
     "output_type": "display_data"
    }
   ],
   "source": [
    "_, [[ax1a, ax2a], [ax1, ax2]] = plt.subplots(2, 2, figsize=(8, 2), sharex=False, \n",
    "                                             gridspec_kw={'height_ratios': [1, 20], 'width_ratios':[49,324], 'hspace': 0})\n",
    "\n",
    "\n",
    "\n",
    "order = [x for x in total_order if x in plot_df.trait_pair.values]\n",
    "n1=len(order)\n",
    "#plot_df[plot_df.variable=='n_overlap'].sort_values('value', ascending=False).trait_pair\n",
    "sns.heatmap(np.array(plot_df[plot_df.variable=='total'].set_index('trait_pair').loc[order]['logq']).reshape(-1, 1).T,\n",
    "            ax=ax1a, cbar=False, cmap='Reds', yticklabels=False, xticklabels=False,vmax=25, vmin=0)\n",
    "\n",
    "sns.barplot(plot_df[plot_df.variable=='n_overlap'], x='trait_pair', y='value', color='#af3800', zorder=10, order=order, \n",
    "            saturation=1, ax=ax1, alpha=1, width=1)\n",
    "sns.barplot(plot_df[plot_df.variable=='overlap+rare'], x='trait_pair', y='value', color='#5fad56', zorder=5, order=order,\n",
    "            saturation=1,  ax=ax1, alpha=1, width=1)\n",
    "sns.barplot(plot_df[plot_df.variable=='total'], x='trait_pair', y='value', color='#6ec1e0', zorder=1, order=order, \n",
    "            saturation=1, ax=ax1, alpha=1, width=1)\n",
    "ax1.set_xticks([])\n",
    "\n",
    "\n",
    "plot_df2 =top_over_df[(top_over_df.param_set=='defaults')  & (top_over_df.total <= 100)].melt(id_vars=['trait_pair', 'q', \n",
    "                                                                                                       'logq'], \n",
    "                                                                  value_vars=['n_overlap', 'overlap+rare', 'total'])\n",
    "order = [x for x in total_order if x in plot_df2.trait_pair.values]\n",
    "#plot_df2[plot_df2.variable=='n_overlap'].sort_values('value', ascending=False).trait_pair\n",
    "\n",
    "n2=len(order)\n",
    "sns.heatmap(np.array(plot_df2[plot_df2.variable=='total'].set_index('trait_pair').loc[order]['logq']).reshape(-1, 1).T, \n",
    "            ax=ax2a, cbar=False, \n",
    "            cmap='Reds', yticklabels=False, xticklabels=False, vmax=25, vmin=0)\n",
    "\n",
    "sns.barplot(plot_df2[plot_df2.variable=='n_overlap'], x='trait_pair', y='value', color='#af3800', \n",
    "            zorder=10, order=order, ax=ax2, alpha=1, saturation=1, width=1,)\n",
    "sns.barplot(plot_df2[plot_df2.variable=='overlap+rare'], x='trait_pair', y='value', color='#5fad56', \n",
    "            zorder=5, order=order, ax=ax2, alpha=1, saturation=1, width=1,)\n",
    "sns.barplot(plot_df2[plot_df2.variable=='total'], x='trait_pair', y='value', color='#6ec1e0', \n",
    "            zorder=1, order=order, ax=ax2, alpha=1, saturation=1, width=1)\n",
    "ax2.set_xticks([])\n",
    "ax1.set_xlabel(f'\\nTraits with more than\\n 100 genes (n={n1})')\n",
    "ax2.set_xlabel(f'\\nTraits with fewer than 100 genes (n={n2})')\n",
    "_ = ax1.set_ylabel('Total associated genes')\n",
    "_ = ax2.set_ylabel('Total associated genes')\n",
    "\n",
    "for ax in [ax1a, ax2a]:\n",
    "    for _, spine in ax.spines.items():\n",
    "        spine.set_visible(True)\n",
    "        \n",
    "plt.savefig(os.path.join(figdir, 'overlap_summary_gcat.svg'), dpi=400, bbox_inches='tight')"
   ]
  },
  {
   "cell_type": "code",
   "execution_count": 52,
   "metadata": {
    "ExecuteTime": {
     "end_time": "2025-06-11T21:03:06.294674Z",
     "start_time": "2025-06-11T21:03:06.292098Z"
    }
   },
   "outputs": [],
   "source": [
    "top_over_df_sig = top_over_df[(top_over_df.q<0.05) & (top_over_df.n_overlap>0)]"
   ]
  },
  {
   "cell_type": "code",
   "execution_count": 65,
   "metadata": {
    "ExecuteTime": {
     "end_time": "2025-06-11T21:07:05.232408Z",
     "start_time": "2025-06-11T21:07:05.229975Z"
    }
   },
   "outputs": [
    {
     "name": "stdout",
     "output_type": "stream",
     "text": [
      "Median percent of CVGs shared: 27.5%\n"
     ]
    }
   ],
   "source": [
    "print('Median percent of CVGs shared:', f'{100*(top_over_df_sig[\"n_overlap\"]/top_over_df_sig[\"n_common\"]).median():.1f}%')"
   ]
  },
  {
   "cell_type": "code",
   "execution_count": 66,
   "metadata": {
    "ExecuteTime": {
     "end_time": "2025-06-11T21:07:16.176706Z",
     "start_time": "2025-06-11T21:07:16.174116Z"
    }
   },
   "outputs": [
    {
     "name": "stdout",
     "output_type": "stream",
     "text": [
      "Median percent of RVGs shared: 18.3%\n"
     ]
    }
   ],
   "source": [
    "print('Median percent of RVGs shared:', f'{100*(top_over_df_sig[\"n_overlap\"]/top_over_df_sig[\"n_rare\"]).median():.1f}%')"
   ]
  }
 ],
 "metadata": {
  "kernelspec": {
   "display_name": "Python (CARVA)",
   "language": "python",
   "name": "carva"
  },
  "language_info": {
   "codemirror_mode": {
    "name": "ipython",
    "version": 3
   },
   "file_extension": ".py",
   "mimetype": "text/x-python",
   "name": "python",
   "nbconvert_exporter": "python",
   "pygments_lexer": "ipython3",
   "version": "3.10.0"
  },
  "toc": {
   "base_numbering": 1,
   "nav_menu": {},
   "number_sections": true,
   "sideBar": true,
   "skip_h1_title": false,
   "title_cell": "Table of Contents",
   "title_sidebar": "Contents",
   "toc_cell": false,
   "toc_position": {},
   "toc_section_display": true,
   "toc_window_display": true
  },
  "varInspector": {
   "cols": {
    "lenName": 16,
    "lenType": 16,
    "lenVar": 40
   },
   "kernels_config": {
    "python": {
     "delete_cmd_postfix": "",
     "delete_cmd_prefix": "del ",
     "library": "var_list.py",
     "varRefreshCmd": "print(var_dic_list())"
    },
    "r": {
     "delete_cmd_postfix": ") ",
     "delete_cmd_prefix": "rm(",
     "library": "var_list.r",
     "varRefreshCmd": "cat(var_dic_list()) "
    }
   },
   "types_to_exclude": [
    "module",
    "function",
    "builtin_function_or_method",
    "instance",
    "_Feature"
   ],
   "window_display": false
  }
 },
 "nbformat": 4,
 "nbformat_minor": 2
}
