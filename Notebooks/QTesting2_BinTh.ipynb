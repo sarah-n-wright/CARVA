{
 "cells": [
  {
   "cell_type": "code",
   "execution_count": 1,
   "metadata": {
    "ExecuteTime": {
     "end_time": "2025-04-03T17:23:36.160323Z",
     "start_time": "2025-04-03T17:23:18.392051Z"
    }
   },
   "outputs": [],
   "source": [
    "import pandas as pd\n",
    "import numpy as np\n",
    "import matplotlib.pyplot as plt\n",
    "import seaborn as sns\n",
    "import os\n",
    "from collections import defaultdict\n",
    "from tqdm import tqdm\n",
    "import networkx as nx\n",
    "from matplotlib_venn import venn2, venn3\n",
    "from neteval import gene_mapper as gm\n",
    "from neteval import query_ensembl as qe\n",
    "from neteval import query_hgnc as qh\n",
    "import obonet as obo\n",
    "import random as rn\n",
    "import glob\n",
    "import re"
   ]
  },
  {
   "cell_type": "code",
   "execution_count": 2,
   "metadata": {
    "ExecuteTime": {
     "end_time": "2025-04-03T17:23:36.163666Z",
     "start_time": "2025-04-03T17:23:36.161768Z"
    }
   },
   "outputs": [],
   "source": [
    "datadir='/cellar/users/snwright/Data/RareCommon/inputs/testing/'\n",
    "resdir= '/cellar/users/snwright/Data/RareCommon/outputs/netcoloc/testing/'\n",
    "outdir='/cellar/users/snwright/Data/Transfer/RVC/'\n",
    "figdir='/cellar/users/snwright/Data/Transfer/RVC/figures/QTesting2_BinTh/'"
   ]
  },
  {
   "cell_type": "code",
   "execution_count": 433,
   "metadata": {
    "ExecuteTime": {
     "end_time": "2025-04-03T21:56:27.959613Z",
     "start_time": "2025-04-03T21:56:27.943379Z"
    }
   },
   "outputs": [],
   "source": [
    "import matplotlib\n",
    "import matplotlib.font_manager as fm\n",
    "arial_font_path = '/cellar/users/snwright/Fonts/msfonts/Arial.TTF'\n",
    "fm.fontManager.addfont(arial_font_path)\n",
    "matplotlib.rcParams['font.family'] = 'Arial'\n",
    "plt.rcParams['svg.fonttype'] = 'none'\n",
    "plt.rcParams.update({'font.size': 7})\n",
    "plt.rcParams['axes.linewidth'] = 0.5\n",
    "plt.rcParams['hatch.linewidth'] = 0.5\n",
    "plt.rcParams['xtick.major.width'] = 0.4\n",
    "plt.rcParams['ytick.major.width'] = 0.4\n",
    "plt.rcParams['xtick.minor.width'] = 0.3\n",
    "plt.rcParams['ytick.minor.width'] = 0.3\n",
    "plt.rcParams['legend.frameon'] = False\n",
    "plt.rcParams['xtick.major.size'] = 3\n",
    "plt.rcParams['ytick.major.size'] = 3\n",
    "plt.rcParams['xtick.minor.size'] = 2\n",
    "plt.rcParams['ytick.minor.size'] = 2\n",
    "plt.rcParams['xtick.major.pad'] = 1\n",
    "plt.rcParams['ytick.major.pad'] = 1\n",
    "plt.rcParams['axes.labelpad'] = 1\n",
    "plt.rcParams['patch.linewidth'] = 0.25"
   ]
  },
  {
   "cell_type": "markdown",
   "metadata": {},
   "source": [
    "## Load data"
   ]
  },
  {
   "cell_type": "code",
   "execution_count": 4,
   "metadata": {
    "ExecuteTime": {
     "end_time": "2025-04-03T17:23:36.182692Z",
     "start_time": "2025-04-03T17:23:36.174596Z"
    }
   },
   "outputs": [],
   "source": [
    "file_lists = {'q_test': 2181779, 'q_control':2181417 , 'b_test':2181785, 'b_control':2181423}"
   ]
  },
  {
   "cell_type": "code",
   "execution_count": 5,
   "metadata": {
    "ExecuteTime": {
     "end_time": "2025-04-03T17:23:36.191631Z",
     "start_time": "2025-04-03T17:23:36.183612Z"
    }
   },
   "outputs": [
    {
     "data": {
      "text/plain": [
       "['', '1', '', '3']"
      ]
     },
     "execution_count": 5,
     "metadata": {},
     "output_type": "execute_result"
    }
   ],
   "source": [
    "'z1zz3'.split('z')"
   ]
  },
  {
   "cell_type": "code",
   "execution_count": 6,
   "metadata": {
    "ExecuteTime": {
     "end_time": "2025-04-03T17:23:36.196548Z",
     "start_time": "2025-04-03T17:23:36.192565Z"
    }
   },
   "outputs": [],
   "source": [
    "z_suffs = []\n",
    "for i in [1, 1.5, 2, 2.5, 3, 3.5, 4]:\n",
    "    for j in [1, 1.5, 2, 2.5, 3, 3.5, 4]:\n",
    "        if i >= j:\n",
    "            z_suffs.append(f'z{i}zz{j}')"
   ]
  },
  {
   "cell_type": "code",
   "execution_count": 7,
   "metadata": {
    "ExecuteTime": {
     "end_time": "2025-04-03T17:25:09.171599Z",
     "start_time": "2025-04-03T17:23:36.197500Z"
    }
   },
   "outputs": [
    {
     "name": "stderr",
     "output_type": "stream",
     "text": [
      "100%|██████████| 51/51 [00:26<00:00,  1.93it/s]\n",
      "/cellar/users/snwright/anaconda3/envs/carva/lib/python3.10/site-packages/pandas/core/arraylike.py:399: RuntimeWarning: divide by zero encountered in log2\n",
      "  result = getattr(ufunc, method)(*inputs, **kwargs)\n",
      "100%|██████████| 51/51 [00:21<00:00,  2.38it/s]\n",
      "/cellar/users/snwright/anaconda3/envs/carva/lib/python3.10/site-packages/pandas/core/arraylike.py:399: RuntimeWarning: divide by zero encountered in log2\n",
      "  result = getattr(ufunc, method)(*inputs, **kwargs)\n",
      "100%|██████████| 51/51 [00:21<00:00,  2.34it/s]\n",
      "/cellar/users/snwright/anaconda3/envs/carva/lib/python3.10/site-packages/pandas/core/arraylike.py:399: RuntimeWarning: divide by zero encountered in log2\n",
      "  result = getattr(ufunc, method)(*inputs, **kwargs)\n",
      "100%|██████████| 51/51 [00:22<00:00,  2.29it/s]\n",
      "/cellar/users/snwright/anaconda3/envs/carva/lib/python3.10/site-packages/pandas/core/arraylike.py:399: RuntimeWarning: divide by zero encountered in log2\n",
      "  result = getattr(ufunc, method)(*inputs, **kwargs)\n"
     ]
    }
   ],
   "source": [
    "not_found = []\n",
    "results = {}\n",
    "for z,  job_id in file_lists.items():\n",
    "    with open(os.path.join(resdir, f'{job_id}.files'), 'r') as f:\n",
    "        filenames = [s.strip() for s in f.readlines()]\n",
    "    filenames = set(filenames)\n",
    "    loaded_data = []\n",
    "    for f in tqdm(filenames):\n",
    "        f_strip = f.split('.txt')[0]\n",
    "        for suff in ['_bin5', '_bin10', '_bin20', '_bin40', '_bin80', '_bin160']:\n",
    "            try:\n",
    "                df = pd.read_csv(os.path.join(resdir,  f_strip+suff+'.txt'), \n",
    "                                 sep='\\t', header=None, names=['TraitR', 'TraitC', 'Network','Transform', 'Norm', 'Mean_NPS', \n",
    "                             'Null_mean_NPS', 'P_mean_NPS', 'Size', 'Null_Size', 'P_size'])\n",
    "                df['param'] = 'bin'\n",
    "                if suff == '':\n",
    "                    df['value'] =  10\n",
    "                else:\n",
    "                    df['value'] = int(suff.split('bin')[-1])\n",
    "                loaded_data.append(df)\n",
    "            except FileNotFoundError:\n",
    "                not_found.append(f_strip+suff+'.txt')\n",
    "            \n",
    "        for suff in z_suffs:\n",
    "            try:\n",
    "                df = pd.read_csv(os.path.join(resdir, f_strip+'_'+suff+'.txt'), \n",
    "                                 sep='\\t', header=None, names=['TraitR', 'TraitC', 'Network','Transform', 'Norm', 'Mean_NPS', \n",
    "                             'Null_mean_NPS', 'P_mean_NPS', 'Size', 'Null_Size', 'P_size'])\n",
    "                df['param'] = 'th'\n",
    "                df['value'] = suff.split('z')[1]\n",
    "                df['value2'] = suff.split('z')[-1]\n",
    "                loaded_data.append(df)\n",
    "            except FileNotFoundError:\n",
    "                not_found.append(f_strip+'_'+suff+'.txt')\n",
    "        \n",
    "    results[z] = pd.concat(loaded_data)\n",
    "    results[z]['logp_nps'] = results[z].P_mean_NPS.apply(lambda x: -1 * np.log10(x+1e-250))\n",
    "    results[z]['logp_size'] = results[z].P_size.apply(lambda x: -1 * np.log10(x+1e-250))\n",
    "    results[z]['SizeOE'] = np.log2(results[z]['Size'] / results[z]['Null_Size'])\n",
    "    results[z]['Set'] = z\n",
    "    results[z]['FullTrait'] = results[z].apply(lambda a: '_'.join([a.TraitR, a.TraitC]), axis=1)"
   ]
  },
  {
   "cell_type": "code",
   "execution_count": 8,
   "metadata": {
    "ExecuteTime": {
     "end_time": "2025-04-03T17:25:09.176699Z",
     "start_time": "2025-04-03T17:25:09.172580Z"
    }
   },
   "outputs": [],
   "source": [
    "all_results = pd.concat(results.values())"
   ]
  },
  {
   "cell_type": "markdown",
   "metadata": {},
   "source": [
    "## Compare positive and negative examples"
   ]
  },
  {
   "cell_type": "code",
   "execution_count": 9,
   "metadata": {
    "ExecuteTime": {
     "end_time": "2025-04-03T17:25:11.887322Z",
     "start_time": "2025-04-03T17:25:09.177724Z"
    }
   },
   "outputs": [],
   "source": [
    "import pandas as pd\n",
    "from sklearn.metrics import roc_auc_score\n",
    "from scipy.stats import mannwhitneyu\n",
    "\n",
    "def calculate_auc(df_in, value_col, processing_col, normalization_col, control_col, control_labels):\n",
    "    \"\"\"\n",
    "    Calculate the AUC for each combination of processing and normalization methods.\n",
    "\n",
    "    Args:\n",
    "        df (pd.DataFrame): Input dataframe containing the data.\n",
    "        value_col (str): Column containing the score values.\n",
    "        processing_col (str): Column specifying input processing methods.\n",
    "        normalization_col (str): Column specifying normalization methods.\n",
    "        control_col (str): Column indicating positive/negative controls.\n",
    "        control_labels (tuple): Tuple with positive and negative labels (e.g., ('positive', 'negative')).\n",
    "\n",
    "    Returns:\n",
    "        pd.DataFrame: AUC scores for each method combination.\n",
    "    \"\"\"\n",
    "    results = []\n",
    "    df = df_in.copy().dropna(subset=value_col)\n",
    "    \n",
    "    for (proc, norm), group in df.groupby([processing_col, normalization_col]):\n",
    "        y_true = group[control_col].apply(lambda x: 1 if x == control_labels[0] else 0)\n",
    "        try:\n",
    "            auc_score = roc_auc_score(y_true, group[value_col])\n",
    "        except:\n",
    "            return y_true, group[value_col]\n",
    "        results.append({\n",
    "            processing_col: proc,\n",
    "            normalization_col: norm,\n",
    "            'AUC': auc_score\n",
    "        })\n",
    "    \n",
    "    return pd.DataFrame(results)\n",
    "\n",
    "\n",
    "def perform_mann_whitney(df_in, value_col, processing_col, normalization_col, control_col, control_labels):\n",
    "    \"\"\"\n",
    "    Perform Mann-Whitney U test for each combination of processing and normalization methods.\n",
    "\n",
    "    Args:\n",
    "        df (pd.DataFrame): Input dataframe containing the data.\n",
    "        value_col (str): Column containing the score values.\n",
    "        processing_col (str): Column specifying input processing methods.\n",
    "        normalization_col (str): Column specifying normalization methods.\n",
    "        control_col (str): Column indicating positive/negative controls.\n",
    "        control_labels (tuple): Tuple with positive and negative labels (e.g., ('positive', 'negative')).\n",
    "\n",
    "    Returns:\n",
    "        pd.DataFrame: Mann-Whitney U test statistics and p-values for each method combination.\n",
    "    \"\"\"\n",
    "    results = []\n",
    "    df = df_in.copy().dropna(subset=value_col)\n",
    "    for (proc, norm), group in df.groupby([processing_col, normalization_col]):\n",
    "        pos_scores = group[group[control_col] == control_labels[0]][value_col]\n",
    "        neg_scores = group[group[control_col] == control_labels[1]][value_col]\n",
    "        try:\n",
    "            u_stat, p_value = mannwhitneyu(pos_scores, neg_scores, alternative='greater')\n",
    "        except:\n",
    "            return group, pos_scores, neg_scores\n",
    "        results.append({\n",
    "            processing_col: proc,\n",
    "            normalization_col: norm,\n",
    "            'U_statistic': u_stat,\n",
    "            'p_value': p_value\n",
    "        })\n",
    "    \n",
    "    return pd.DataFrame(results)\n"
   ]
  },
  {
   "cell_type": "code",
   "execution_count": 10,
   "metadata": {
    "ExecuteTime": {
     "end_time": "2025-04-03T17:25:11.894614Z",
     "start_time": "2025-04-03T17:25:11.889999Z"
    }
   },
   "outputs": [],
   "source": [
    "all_results['Method'] = all_results.Set.apply(lambda x: 'Q' if 'q' in x else 'B')\n",
    "all_results['Test'] = all_results.Set.apply(lambda x: 'Test' if 'test' in x else 'Control')"
   ]
  },
  {
   "cell_type": "code",
   "execution_count": 11,
   "metadata": {
    "ExecuteTime": {
     "end_time": "2025-04-03T17:25:11.901868Z",
     "start_time": "2025-04-03T17:25:11.895530Z"
    }
   },
   "outputs": [
    {
     "data": {
      "text/plain": [
       "Index(['TraitR', 'TraitC', 'Network', 'Transform', 'Norm', 'Mean_NPS',\n",
       "       'Null_mean_NPS', 'P_mean_NPS', 'Size', 'Null_Size', 'P_size', 'param',\n",
       "       'value', 'value2', 'logp_nps', 'logp_size', 'SizeOE', 'Set',\n",
       "       'FullTrait', 'Method', 'Test'],\n",
       "      dtype='object')"
      ]
     },
     "execution_count": 11,
     "metadata": {},
     "output_type": "execute_result"
    }
   ],
   "source": [
    "all_results.columns"
   ]
  },
  {
   "cell_type": "markdown",
   "metadata": {},
   "source": [
    "### Bin size"
   ]
  },
  {
   "cell_type": "code",
   "execution_count": 12,
   "metadata": {
    "ExecuteTime": {
     "end_time": "2025-04-03T17:25:12.092926Z",
     "start_time": "2025-04-03T17:25:11.902820Z"
    }
   },
   "outputs": [],
   "source": [
    "stats = ['Mean_NPS', 'logp_nps', 'SizeOE', 'logp_size']\n",
    "bin_res = []\n",
    "for stat in stats:\n",
    "    bin_df = all_results[all_results.param=='bin']\n",
    "\n",
    "    auc = calculate_auc(bin_df, value_col=stat, processing_col='value', normalization_col='Method', \n",
    "                        control_col='Test', control_labels=('Test', 'Control'))\n",
    "    mannu = perform_mann_whitney(bin_df, value_col=stat, processing_col='value', normalization_col='Method', \n",
    "                               control_col='Test', control_labels=('Test', 'Control'))\n",
    "    res = auc.merge(mannu, on=['value', 'Method'], how='outer')\n",
    "    res['stat'] = stat\n",
    "    bin_res.append(res)\n",
    "bin_results = pd.concat(bin_res)"
   ]
  },
  {
   "cell_type": "code",
   "execution_count": 13,
   "metadata": {
    "ExecuteTime": {
     "end_time": "2025-04-03T17:25:12.690770Z",
     "start_time": "2025-04-03T17:25:12.094081Z"
    }
   },
   "outputs": [
    {
     "data": {
      "text/html": [
       "<div>\n",
       "<style scoped>\n",
       "    .dataframe tbody tr th:only-of-type {\n",
       "        vertical-align: middle;\n",
       "    }\n",
       "\n",
       "    .dataframe tbody tr th {\n",
       "        vertical-align: top;\n",
       "    }\n",
       "\n",
       "    .dataframe thead th {\n",
       "        text-align: right;\n",
       "    }\n",
       "</style>\n",
       "<table border=\"1\" class=\"dataframe\">\n",
       "  <thead>\n",
       "    <tr style=\"text-align: right;\">\n",
       "      <th></th>\n",
       "      <th>value</th>\n",
       "      <th>Method</th>\n",
       "      <th>AUC</th>\n",
       "      <th>U_statistic</th>\n",
       "      <th>p_value</th>\n",
       "      <th>stat</th>\n",
       "    </tr>\n",
       "  </thead>\n",
       "  <tbody>\n",
       "    <tr>\n",
       "      <th>0</th>\n",
       "      <td>5</td>\n",
       "      <td>B</td>\n",
       "      <td>0.805766</td>\n",
       "      <td>1705.0</td>\n",
       "      <td>2.226803e-07</td>\n",
       "      <td>Mean_NPS</td>\n",
       "    </tr>\n",
       "    <tr>\n",
       "      <th>1</th>\n",
       "      <td>5</td>\n",
       "      <td>Q</td>\n",
       "      <td>0.805766</td>\n",
       "      <td>1705.0</td>\n",
       "      <td>2.226803e-07</td>\n",
       "      <td>Mean_NPS</td>\n",
       "    </tr>\n",
       "    <tr>\n",
       "      <th>2</th>\n",
       "      <td>10</td>\n",
       "      <td>B</td>\n",
       "      <td>0.801512</td>\n",
       "      <td>1696.0</td>\n",
       "      <td>3.209075e-07</td>\n",
       "      <td>Mean_NPS</td>\n",
       "    </tr>\n",
       "    <tr>\n",
       "      <th>3</th>\n",
       "      <td>10</td>\n",
       "      <td>Q</td>\n",
       "      <td>0.804820</td>\n",
       "      <td>1703.0</td>\n",
       "      <td>2.416169e-07</td>\n",
       "      <td>Mean_NPS</td>\n",
       "    </tr>\n",
       "    <tr>\n",
       "      <th>4</th>\n",
       "      <td>20</td>\n",
       "      <td>B</td>\n",
       "      <td>0.796786</td>\n",
       "      <td>1686.0</td>\n",
       "      <td>4.789366e-07</td>\n",
       "      <td>Mean_NPS</td>\n",
       "    </tr>\n",
       "  </tbody>\n",
       "</table>\n",
       "</div>"
      ],
      "text/plain": [
       "   value Method       AUC  U_statistic       p_value      stat\n",
       "0      5      B  0.805766       1705.0  2.226803e-07  Mean_NPS\n",
       "1      5      Q  0.805766       1705.0  2.226803e-07  Mean_NPS\n",
       "2     10      B  0.801512       1696.0  3.209075e-07  Mean_NPS\n",
       "3     10      Q  0.804820       1703.0  2.416169e-07  Mean_NPS\n",
       "4     20      B  0.796786       1686.0  4.789366e-07  Mean_NPS"
      ]
     },
     "execution_count": 13,
     "metadata": {},
     "output_type": "execute_result"
    },
    {
     "data": {
      "image/png": "[encoded data removed]",
      "text/plain": [
       "<Figure size 640x480 with 1 Axes>"
      ]
     },
     "metadata": {},
     "output_type": "display_data"
    }
   ],
   "source": [
    "sns.lineplot(bin_results, x='value', y='AUC', hue='stat', style='Method')\n",
    "\n",
    "bin_results.head()"
   ]
  },
  {
   "cell_type": "code",
   "execution_count": 14,
   "metadata": {
    "ExecuteTime": {
     "end_time": "2025-04-03T17:25:12.707096Z",
     "start_time": "2025-04-03T17:25:12.691854Z"
    }
   },
   "outputs": [
    {
     "data": {
      "text/html": [
       "<div>\n",
       "<style scoped>\n",
       "    .dataframe tbody tr th:only-of-type {\n",
       "        vertical-align: middle;\n",
       "    }\n",
       "\n",
       "    .dataframe tbody tr th {\n",
       "        vertical-align: top;\n",
       "    }\n",
       "\n",
       "    .dataframe thead th {\n",
       "        text-align: right;\n",
       "    }\n",
       "</style>\n",
       "<table border=\"1\" class=\"dataframe\">\n",
       "  <thead>\n",
       "    <tr style=\"text-align: right;\">\n",
       "      <th></th>\n",
       "      <th>TraitR</th>\n",
       "      <th>TraitC</th>\n",
       "      <th>Network</th>\n",
       "      <th>Transform</th>\n",
       "      <th>Norm</th>\n",
       "      <th>Mean_NPS</th>\n",
       "      <th>Null_mean_NPS</th>\n",
       "      <th>P_mean_NPS</th>\n",
       "      <th>Size</th>\n",
       "      <th>Null_Size</th>\n",
       "      <th>...</th>\n",
       "      <th>param</th>\n",
       "      <th>value</th>\n",
       "      <th>value2</th>\n",
       "      <th>logp_nps</th>\n",
       "      <th>logp_size</th>\n",
       "      <th>SizeOE</th>\n",
       "      <th>Set</th>\n",
       "      <th>FullTrait</th>\n",
       "      <th>Method</th>\n",
       "      <th>Test</th>\n",
       "    </tr>\n",
       "  </thead>\n",
       "  <tbody>\n",
       "    <tr>\n",
       "      <th>0</th>\n",
       "      <td>nearestGene_EFO_0004741_GCST008062</td>\n",
       "      <td>nearestGene_EFO_0004741_GCST008062</td>\n",
       "      <td>pcnet2_0</td>\n",
       "      <td>neglog10</td>\n",
       "      <td>sum</td>\n",
       "      <td>0.090069</td>\n",
       "      <td>0.000552</td>\n",
       "      <td>6.901000e-35</td>\n",
       "      <td>292</td>\n",
       "      <td>220.316</td>\n",
       "      <td>...</td>\n",
       "      <td>bin</td>\n",
       "      <td>5</td>\n",
       "      <td>NaN</td>\n",
       "      <td>34.161088</td>\n",
       "      <td>7.531062</td>\n",
       "      <td>0.406394</td>\n",
       "      <td>q_test</td>\n",
       "      <td>nearestGene_EFO_0004741_GCST008062_nearestGene...</td>\n",
       "      <td>Q</td>\n",
       "      <td>Test</td>\n",
       "    </tr>\n",
       "    <tr>\n",
       "      <th>0</th>\n",
       "      <td>nearestGene_EFO_0004741_GCST008062</td>\n",
       "      <td>nearestGene_EFO_0004741_GCST008062</td>\n",
       "      <td>pcnet2_0</td>\n",
       "      <td>neglog10</td>\n",
       "      <td>sum</td>\n",
       "      <td>0.092045</td>\n",
       "      <td>0.000375</td>\n",
       "      <td>1.002000e-33</td>\n",
       "      <td>296</td>\n",
       "      <td>230.428</td>\n",
       "      <td>...</td>\n",
       "      <td>bin</td>\n",
       "      <td>10</td>\n",
       "      <td>NaN</td>\n",
       "      <td>32.999132</td>\n",
       "      <td>5.852324</td>\n",
       "      <td>0.361281</td>\n",
       "      <td>q_test</td>\n",
       "      <td>nearestGene_EFO_0004741_GCST008062_nearestGene...</td>\n",
       "      <td>Q</td>\n",
       "      <td>Test</td>\n",
       "    </tr>\n",
       "    <tr>\n",
       "      <th>0</th>\n",
       "      <td>nearestGene_EFO_0004741_GCST008062</td>\n",
       "      <td>nearestGene_EFO_0004741_GCST008062</td>\n",
       "      <td>pcnet2_0</td>\n",
       "      <td>neglog10</td>\n",
       "      <td>sum</td>\n",
       "      <td>0.083334</td>\n",
       "      <td>0.000299</td>\n",
       "      <td>3.507000e-28</td>\n",
       "      <td>275</td>\n",
       "      <td>222.338</td>\n",
       "      <td>...</td>\n",
       "      <td>bin</td>\n",
       "      <td>20</td>\n",
       "      <td>NaN</td>\n",
       "      <td>27.455064</td>\n",
       "      <td>4.297311</td>\n",
       "      <td>0.306677</td>\n",
       "      <td>q_test</td>\n",
       "      <td>nearestGene_EFO_0004741_GCST008062_nearestGene...</td>\n",
       "      <td>Q</td>\n",
       "      <td>Test</td>\n",
       "    </tr>\n",
       "    <tr>\n",
       "      <th>0</th>\n",
       "      <td>nearestGene_EFO_0004741_GCST008062</td>\n",
       "      <td>nearestGene_EFO_0004741_GCST008062</td>\n",
       "      <td>pcnet2_0</td>\n",
       "      <td>neglog10</td>\n",
       "      <td>sum</td>\n",
       "      <td>0.100215</td>\n",
       "      <td>-0.000327</td>\n",
       "      <td>1.131000e-42</td>\n",
       "      <td>278</td>\n",
       "      <td>213.371</td>\n",
       "      <td>...</td>\n",
       "      <td>bin</td>\n",
       "      <td>40</td>\n",
       "      <td>NaN</td>\n",
       "      <td>41.946537</td>\n",
       "      <td>5.747390</td>\n",
       "      <td>0.381721</td>\n",
       "      <td>q_test</td>\n",
       "      <td>nearestGene_EFO_0004741_GCST008062_nearestGene...</td>\n",
       "      <td>Q</td>\n",
       "      <td>Test</td>\n",
       "    </tr>\n",
       "    <tr>\n",
       "      <th>0</th>\n",
       "      <td>nearestGene_EFO_0004741_GCST008062</td>\n",
       "      <td>nearestGene_EFO_0004741_GCST008062</td>\n",
       "      <td>pcnet2_0</td>\n",
       "      <td>neglog10</td>\n",
       "      <td>sum</td>\n",
       "      <td>0.072214</td>\n",
       "      <td>-0.000296</td>\n",
       "      <td>4.469000e-24</td>\n",
       "      <td>223</td>\n",
       "      <td>194.007</td>\n",
       "      <td>...</td>\n",
       "      <td>bin</td>\n",
       "      <td>80</td>\n",
       "      <td>NaN</td>\n",
       "      <td>23.349790</td>\n",
       "      <td>1.640924</td>\n",
       "      <td>0.200935</td>\n",
       "      <td>q_test</td>\n",
       "      <td>nearestGene_EFO_0004741_GCST008062_nearestGene...</td>\n",
       "      <td>Q</td>\n",
       "      <td>Test</td>\n",
       "    </tr>\n",
       "  </tbody>\n",
       "</table>\n",
       "<p>5 rows × 21 columns</p>\n",
       "</div>"
      ],
      "text/plain": [
       "                               TraitR                              TraitC  \\\n",
       "0  nearestGene_EFO_0004741_GCST008062  nearestGene_EFO_0004741_GCST008062   \n",
       "0  nearestGene_EFO_0004741_GCST008062  nearestGene_EFO_0004741_GCST008062   \n",
       "0  nearestGene_EFO_0004741_GCST008062  nearestGene_EFO_0004741_GCST008062   \n",
       "0  nearestGene_EFO_0004741_GCST008062  nearestGene_EFO_0004741_GCST008062   \n",
       "0  nearestGene_EFO_0004741_GCST008062  nearestGene_EFO_0004741_GCST008062   \n",
       "\n",
       "    Network Transform Norm  Mean_NPS  Null_mean_NPS    P_mean_NPS  Size  \\\n",
       "0  pcnet2_0  neglog10  sum  0.090069       0.000552  6.901000e-35   292   \n",
       "0  pcnet2_0  neglog10  sum  0.092045       0.000375  1.002000e-33   296   \n",
       "0  pcnet2_0  neglog10  sum  0.083334       0.000299  3.507000e-28   275   \n",
       "0  pcnet2_0  neglog10  sum  0.100215      -0.000327  1.131000e-42   278   \n",
       "0  pcnet2_0  neglog10  sum  0.072214      -0.000296  4.469000e-24   223   \n",
       "\n",
       "   Null_Size  ...  param value value2   logp_nps  logp_size    SizeOE     Set  \\\n",
       "0    220.316  ...    bin     5    NaN  34.161088   7.531062  0.406394  q_test   \n",
       "0    230.428  ...    bin    10    NaN  32.999132   5.852324  0.361281  q_test   \n",
       "0    222.338  ...    bin    20    NaN  27.455064   4.297311  0.306677  q_test   \n",
       "0    213.371  ...    bin    40    NaN  41.946537   5.747390  0.381721  q_test   \n",
       "0    194.007  ...    bin    80    NaN  23.349790   1.640924  0.200935  q_test   \n",
       "\n",
       "                                           FullTrait Method  Test  \n",
       "0  nearestGene_EFO_0004741_GCST008062_nearestGene...      Q  Test  \n",
       "0  nearestGene_EFO_0004741_GCST008062_nearestGene...      Q  Test  \n",
       "0  nearestGene_EFO_0004741_GCST008062_nearestGene...      Q  Test  \n",
       "0  nearestGene_EFO_0004741_GCST008062_nearestGene...      Q  Test  \n",
       "0  nearestGene_EFO_0004741_GCST008062_nearestGene...      Q  Test  \n",
       "\n",
       "[5 rows x 21 columns]"
      ]
     },
     "execution_count": 14,
     "metadata": {},
     "output_type": "execute_result"
    }
   ],
   "source": [
    "all_results.head()"
   ]
  },
  {
   "cell_type": "code",
   "execution_count": 15,
   "metadata": {
    "ExecuteTime": {
     "end_time": "2025-04-03T17:25:14.014268Z",
     "start_time": "2025-04-03T17:25:12.708151Z"
    }
   },
   "outputs": [
    {
     "name": "stderr",
     "output_type": "stream",
     "text": [
      "/tmp/ipykernel_615689/2365819726.py:16: UserWarning: set_ticklabels() should only be used with a fixed number of ticks, i.e. after set_ticks() or using a FixedLocator.\n",
      "  axa.set_yticklabels(['', 0.5, 1, 2, 4])\n"
     ]
    },
    {
     "data": {
      "image/png": "[encoded data removed]",
      "text/plain": [
       "<Figure size 500x150 with 4 Axes>"
      ]
     },
     "metadata": {},
     "output_type": "display_data"
    }
   ],
   "source": [
    "_, [axa, axb] = plt.subplots(nrows=1, ncols=2, sharex=True, sharey=True, figsize=(5,1.5))\n",
    "\n",
    "sns.violinplot(all_results[(all_results.param=='bin') & (all_results.Method=='Q')].reset_index(), x='value', y='SizeOE', hue='Test', cut=0,\n",
    "              palette=['#97247C', 'grey'], ax=axa, saturation=1)\n",
    "axa.hlines(y=0, xmin=-0.5, xmax=5.5, color='black', linewidth=0.5)\n",
    "axa.set_xlim(-0.5, 5.5)\n",
    "ax2 = axa.twinx()\n",
    "bin_results['plotx'] = bin_results.value.map({5:0, 10:1, 20:2, 40:3, 80:4, 160:5})\n",
    "sns.lineplot(bin_results[(bin_results.stat=='SizeOE') & (bin_results.Method=='Q')], x='plotx', y='AUC', hue='stat', style='Method', ax=ax2, markers=True,\n",
    "            palette=['#00798C'], linewidth=0.5)\n",
    "ax2.set_ylim(0.6, 0.85)\n",
    "ax2.tick_params(axis='y', colors='#00798C')\n",
    "ax2.spines['right'].set_color('#00798C')\n",
    "axa.set_xlabel('Bin size')\n",
    "axa.set_ylabel('Log2 Size OE')\n",
    "axa.set_yticklabels(['', 0.5, 1, 2, 4])\n",
    "\n",
    "\n",
    "sns.violinplot(all_results[(all_results.param=='bin') & (all_results.Method=='B')].reset_index(), x='value', y='SizeOE', hue='Test', cut=0,\n",
    "              palette=['#F36F38', 'grey'], ax=axb, saturation=1)\n",
    "axb.hlines(y=0, xmin=-0.5, xmax=5.5, color='black', linewidth=0.5)\n",
    "axb.set_xlim(-0.5, 5.5)\n",
    "ax3 = axb.twinx()\n",
    "bin_results['plotx'] = bin_results.value.map({5:0, 10:1, 20:2, 40:3, 80:4, 160:5})\n",
    "sns.lineplot(bin_results[(bin_results.stat=='SizeOE') & (bin_results.Method=='B')], x='plotx', y='AUC', hue='stat', style='Method', ax=ax3, markers=True,\n",
    "            palette=['#00798C'], linewidth=0.5)\n",
    "ax3.set_ylim(0.6, 0.85)\n",
    "ax3.tick_params(axis='y', colors='#00798C')\n",
    "ax3.spines['right'].set_color('#00798C')\n",
    "axb.set_xlabel('Bin size')\n",
    "\n",
    "plt.savefig(os.path.join(figdir, 'optimize_bin_sizeOE.svg'), bbox_inches='tight')"
   ]
  },
  {
   "cell_type": "code",
   "execution_count": 16,
   "metadata": {
    "ExecuteTime": {
     "end_time": "2025-04-03T17:25:15.489043Z",
     "start_time": "2025-04-03T17:25:14.015376Z"
    }
   },
   "outputs": [
    {
     "data": {
      "image/png": "[encoded data removed]",
      "text/plain": [
       "<Figure size 500x150 with 4 Axes>"
      ]
     },
     "metadata": {},
     "output_type": "display_data"
    }
   ],
   "source": [
    "_, [axa, axb] = plt.subplots(nrows=1, ncols=2, sharex=True, sharey=True, figsize=(5,1.5))\n",
    "\n",
    "sns.violinplot(all_results[(all_results.param=='bin') & (all_results.Method=='Q')].reset_index(), x='value', \n",
    "               y='logp_size', hue='Test', cut=0,\n",
    "              palette=['#97247C', 'grey'], ax=axa, saturation=1)\n",
    "axa.hlines(y=0, xmin=-0.5, xmax=5.5, color='black', linewidth=0.5)\n",
    "axa.set_xlim(-0.5, 5.5)\n",
    "ax2 = axa.twinx()\n",
    "bin_results['plotx'] = bin_results.value.map({5:0, 10:1, 20:2, 40:3, 80:4, 160:5})\n",
    "sns.lineplot(bin_results[(bin_results.stat=='logp_size') & (bin_results.Method=='Q')], x='plotx', y='AUC', \n",
    "             hue='stat', style='Method', ax=ax2, markers=True,\n",
    "            palette=['#00798C'], linewidth=0.5)\n",
    "ax2.set_ylim(0.6, 0.85)\n",
    "ax2.tick_params(axis='y', colors='#00798C')\n",
    "ax2.spines['right'].set_color('#00798C')\n",
    "axa.set_xlabel('Bin size')\n",
    "axa.set_ylabel('Coloc P')\n",
    "\n",
    "\n",
    "sns.violinplot(all_results[(all_results.param=='bin') & (all_results.Method=='B')].reset_index(), x='value',\n",
    "               y='logp_size', hue='Test', cut=0,\n",
    "              palette=['#F36F38', 'grey'], ax=axb, saturation=1)\n",
    "axb.hlines(y=0, xmin=-0.5, xmax=5.5, color='black', linewidth=0.5)\n",
    "axb.set_xlim(-0.5, 5.5)\n",
    "ax3 = axb.twinx()\n",
    "bin_results['plotx'] = bin_results.value.map({5:0, 10:1, 20:2, 40:3, 80:4, 160:5})\n",
    "sns.lineplot(bin_results[(bin_results.stat=='logp_size') & (bin_results.Method=='B')], x='plotx', y='AUC', \n",
    "             hue='stat', style='Method', ax=ax3, markers=True,\n",
    "            palette=['#00798C'], linewidth=0.5)\n",
    "ax3.set_ylim(0.6, 0.85)\n",
    "ax3.tick_params(axis='y', colors='#00798C')\n",
    "ax3.spines['right'].set_color('#00798C')\n",
    "axb.set_xlabel('Bin size')\n",
    "plt.savefig(os.path.join(figdir, 'optimize_bin_pval.svg'), bbox_inches='tight')"
   ]
  },
  {
   "cell_type": "markdown",
   "metadata": {},
   "source": [
    "### Thresholds"
   ]
  },
  {
   "cell_type": "code",
   "execution_count": 17,
   "metadata": {
    "ExecuteTime": {
     "end_time": "2025-04-03T17:25:15.496846Z",
     "start_time": "2025-04-03T17:25:15.490047Z"
    }
   },
   "outputs": [],
   "source": [
    "all_results['Threshold'] = [x for x in zip(all_results.value, all_results.value2)]"
   ]
  },
  {
   "cell_type": "code",
   "execution_count": 18,
   "metadata": {
    "ExecuteTime": {
     "end_time": "2025-04-03T17:25:16.092155Z",
     "start_time": "2025-04-03T17:25:15.497854Z"
    }
   },
   "outputs": [],
   "source": [
    "stats = ['Mean_NPS', 'logp_nps', 'SizeOE', 'logp_size']\n",
    "th_res = []\n",
    "for stat in stats:\n",
    "    th_df = all_results[all_results.param=='th']\n",
    "    if stat in ['SizeOE', 'logp_size']:\n",
    "        th_df = th_df[th_df.Size > 0]\n",
    "\n",
    "    auc = calculate_auc(th_df, value_col=stat, processing_col='Threshold', normalization_col='Method', \n",
    "                        control_col='Test', control_labels=('Test', 'Control'))\n",
    "    mannu = perform_mann_whitney(th_df, value_col=stat, processing_col='Threshold', normalization_col='Method', \n",
    "                               control_col='Test', control_labels=('Test', 'Control'))\n",
    "    res = auc.merge(mannu, on=['Threshold', 'Method'], how='outer')\n",
    "    res['stat'] = stat\n",
    "    th_res.append(res)\n",
    "th_results = pd.concat(th_res)"
   ]
  },
  {
   "cell_type": "code",
   "execution_count": 19,
   "metadata": {
    "ExecuteTime": {
     "end_time": "2025-04-03T17:25:16.097234Z",
     "start_time": "2025-04-03T17:25:16.093255Z"
    }
   },
   "outputs": [],
   "source": [
    "th_results['ThZ'] = th_results.Threshold.apply(lambda x: x[0]) \n",
    "th_results['ThZZ'] = th_results.Threshold.apply(lambda x: x[1]) "
   ]
  },
  {
   "cell_type": "code",
   "execution_count": 20,
   "metadata": {
    "ExecuteTime": {
     "end_time": "2025-04-03T17:25:16.101698Z",
     "start_time": "2025-04-03T17:25:16.098205Z"
    }
   },
   "outputs": [],
   "source": [
    "th_results['logp'] = np.log10(th_results.p_value) * -1"
   ]
  },
  {
   "cell_type": "code",
   "execution_count": 21,
   "metadata": {
    "ExecuteTime": {
     "end_time": "2025-04-03T17:25:16.120628Z",
     "start_time": "2025-04-03T17:25:16.102606Z"
    }
   },
   "outputs": [
    {
     "data": {
      "text/html": [
       "<div>\n",
       "<style scoped>\n",
       "    .dataframe tbody tr th:only-of-type {\n",
       "        vertical-align: middle;\n",
       "    }\n",
       "\n",
       "    .dataframe tbody tr th {\n",
       "        vertical-align: top;\n",
       "    }\n",
       "\n",
       "    .dataframe thead th {\n",
       "        text-align: right;\n",
       "    }\n",
       "</style>\n",
       "<table border=\"1\" class=\"dataframe\">\n",
       "  <thead>\n",
       "    <tr style=\"text-align: right;\">\n",
       "      <th>ThZ</th>\n",
       "      <th>1</th>\n",
       "      <th>1.5</th>\n",
       "      <th>2</th>\n",
       "      <th>2.5</th>\n",
       "      <th>3</th>\n",
       "      <th>3.5</th>\n",
       "      <th>4</th>\n",
       "    </tr>\n",
       "    <tr>\n",
       "      <th>ThZZ</th>\n",
       "      <th></th>\n",
       "      <th></th>\n",
       "      <th></th>\n",
       "      <th></th>\n",
       "      <th></th>\n",
       "      <th></th>\n",
       "      <th></th>\n",
       "    </tr>\n",
       "  </thead>\n",
       "  <tbody>\n",
       "    <tr>\n",
       "      <th>4</th>\n",
       "      <td>NaN</td>\n",
       "      <td>NaN</td>\n",
       "      <td>NaN</td>\n",
       "      <td>NaN</td>\n",
       "      <td>NaN</td>\n",
       "      <td>NaN</td>\n",
       "      <td>0.590133</td>\n",
       "    </tr>\n",
       "    <tr>\n",
       "      <th>3.5</th>\n",
       "      <td>NaN</td>\n",
       "      <td>NaN</td>\n",
       "      <td>NaN</td>\n",
       "      <td>NaN</td>\n",
       "      <td>NaN</td>\n",
       "      <td>0.598884</td>\n",
       "      <td>0.595058</td>\n",
       "    </tr>\n",
       "    <tr>\n",
       "      <th>3</th>\n",
       "      <td>NaN</td>\n",
       "      <td>NaN</td>\n",
       "      <td>NaN</td>\n",
       "      <td>NaN</td>\n",
       "      <td>0.690382</td>\n",
       "      <td>0.693176</td>\n",
       "      <td>0.691217</td>\n",
       "    </tr>\n",
       "    <tr>\n",
       "      <th>2.5</th>\n",
       "      <td>NaN</td>\n",
       "      <td>NaN</td>\n",
       "      <td>NaN</td>\n",
       "      <td>0.777410</td>\n",
       "      <td>0.778592</td>\n",
       "      <td>0.780009</td>\n",
       "      <td>0.778119</td>\n",
       "    </tr>\n",
       "    <tr>\n",
       "      <th>2</th>\n",
       "      <td>NaN</td>\n",
       "      <td>NaN</td>\n",
       "      <td>0.800567</td>\n",
       "      <td>0.799622</td>\n",
       "      <td>0.800331</td>\n",
       "      <td>0.801040</td>\n",
       "      <td>0.800095</td>\n",
       "    </tr>\n",
       "    <tr>\n",
       "      <th>1.5</th>\n",
       "      <td>NaN</td>\n",
       "      <td>0.831522</td>\n",
       "      <td>0.831994</td>\n",
       "      <td>0.830340</td>\n",
       "      <td>0.827977</td>\n",
       "      <td>0.825614</td>\n",
       "      <td>0.819943</td>\n",
       "    </tr>\n",
       "    <tr>\n",
       "      <th>1</th>\n",
       "      <td>0.845463</td>\n",
       "      <td>0.844754</td>\n",
       "      <td>0.833412</td>\n",
       "      <td>0.832231</td>\n",
       "      <td>0.831994</td>\n",
       "      <td>0.828686</td>\n",
       "      <td>0.823015</td>\n",
       "    </tr>\n",
       "  </tbody>\n",
       "</table>\n",
       "</div>"
      ],
      "text/plain": [
       "ThZ          1       1.5         2       2.5         3       3.5         4\n",
       "ThZZ                                                                      \n",
       "4          NaN       NaN       NaN       NaN       NaN       NaN  0.590133\n",
       "3.5        NaN       NaN       NaN       NaN       NaN  0.598884  0.595058\n",
       "3          NaN       NaN       NaN       NaN  0.690382  0.693176  0.691217\n",
       "2.5        NaN       NaN       NaN  0.777410  0.778592  0.780009  0.778119\n",
       "2          NaN       NaN  0.800567  0.799622  0.800331  0.801040  0.800095\n",
       "1.5        NaN  0.831522  0.831994  0.830340  0.827977  0.825614  0.819943\n",
       "1     0.845463  0.844754  0.833412  0.832231  0.831994  0.828686  0.823015"
      ]
     },
     "execution_count": 21,
     "metadata": {},
     "output_type": "execute_result"
    }
   ],
   "source": [
    "th_results[th_results.stat=='SizeOE'].reset_index().pivot_table(columns='ThZ', index='ThZZ', values='AUC').iloc[::-1]"
   ]
  },
  {
   "cell_type": "code",
   "execution_count": 22,
   "metadata": {
    "ExecuteTime": {
     "end_time": "2025-04-03T17:25:16.124896Z",
     "start_time": "2025-04-03T17:25:16.121654Z"
    }
   },
   "outputs": [],
   "source": [
    "import matplotlib.colors as mcolors\n",
    "cmapx = mcolors.LinearSegmentedColormap.from_list(\"my_cmap\", ['#F5D1A0','#F08E02', '#BD6E01'])"
   ]
  },
  {
   "cell_type": "code",
   "execution_count": 23,
   "metadata": {
    "ExecuteTime": {
     "end_time": "2025-04-03T17:25:17.214593Z",
     "start_time": "2025-04-03T17:25:16.125925Z"
    }
   },
   "outputs": [
    {
     "data": {
      "image/png": "[encoded data removed]",
      "text/plain": [
       "<Figure size 450x300 with 8 Axes>"
      ]
     },
     "metadata": {},
     "output_type": "display_data"
    }
   ],
   "source": [
    "_, [[ax1, ax2, ax3], [ax4, ax5, ax6]] = plt.subplots(nrows=2, ncols=3, figsize=(4.5, 3), sharex=True, sharey=True)\n",
    "\n",
    "sns.heatmap(th_results[(th_results.stat=='SizeOE') & (th_results.Method=='Q')].reset_index().pivot_table(columns='ThZ', index='ThZZ', values='AUC').iloc[::-1], \n",
    "            ax=ax1, cmap='RdPu', square=True, vmax=0.85, vmin=0.5, cbar=False)\n",
    "sns.heatmap(th_results[(th_results.stat=='logp_size') & (th_results.Method=='Q')].reset_index().pivot_table(columns='ThZ', index='ThZZ', values='AUC').iloc[::-1], \n",
    "            ax=ax4, cmap='RdPu', square=True, vmax=0.85, vmin=0.5, cbar=False)\n",
    "sns.heatmap(th_results[th_results.stat=='logp_size'].reset_index().pivot_table(columns='ThZ', index='ThZZ', values='AUC').iloc[::-1], \n",
    "            ax=ax3, cmap='RdPu', square=True, vmax=0.85, vmin=0.5, cbar=True,cbar_kws={'shrink':1, 'orientation':'horizontal'} )\n",
    "\n",
    "\n",
    "sns.heatmap(th_results[(th_results.stat=='SizeOE') & (th_results.Method=='B')].reset_index().pivot_table(columns='ThZ', index='ThZZ', values='AUC').iloc[::-1], \n",
    "            ax=ax2, cmap='YlOrRd', square=True, vmax=0.85, vmin=0.5, cbar=False)\n",
    "sns.heatmap(th_results[(th_results.stat=='logp_size') & (th_results.Method=='B')].reset_index().pivot_table(columns='ThZ', index='ThZZ', values='AUC').iloc[::-1], \n",
    "            ax=ax5, cmap='YlOrRd', square=True, vmax=0.85, vmin=0.5, cbar=False)\n",
    "sns.heatmap(th_results[(th_results.stat=='logp_size') & (th_results.Method=='B')].reset_index().pivot_table(columns='ThZ', index='ThZZ', values='AUC').iloc[::-1], \n",
    "            ax=ax6, cmap='YlOrRd', square=True, vmax=0.85, vmin=0.5, cbar=True, cbar_kws={'shrink':1, 'orientation':'horizontal'})\n",
    "\n",
    "for ax in [ax1, ax2, ax4, ax5]:\n",
    "    for spine in ax.spines.values():\n",
    "        spine.set_visible(True)      # Ensure the spine is visible         # Set the thickness of the border\n",
    "        spine.set_edgecolor('black')  \n",
    "\n",
    "ax4.set_xlabel('Combined NPS Threshold')\n",
    "ax5.set_xlabel('Combined NPS Threshold')\n",
    "ax1.set_ylabel('Q-NetColoc\\nIndividual NPS Threshold')\n",
    "ax4.set_ylabel('B-NetColoc\\nIndividual NPS Threshold')\n",
    "ax1.tick_params(axis='y', rotation=0)\n",
    "ax4.tick_params(axis='y', rotation=0)\n",
    "ax1.set_title('log2SizeOE')\n",
    "ax2.set_title('logp_size')\n",
    "plt.savefig(os.path.join(figdir, 'optimize_th_heatmaps.svg'), bbox_inches='tight')"
   ]
  },
  {
   "cell_type": "code",
   "execution_count": 24,
   "metadata": {
    "ExecuteTime": {
     "end_time": "2025-04-03T17:25:20.966030Z",
     "start_time": "2025-04-03T17:25:17.215956Z"
    }
   },
   "outputs": [
    {
     "data": {
      "image/png": "[encoded data removed]",
      "text/plain": [
       "<Figure size 500x500 with 56 Axes>"
      ]
     },
     "metadata": {},
     "output_type": "display_data"
    }
   ],
   "source": [
    "_, axs = plt.subplots(nrows=7, ncols=8, figsize=(5,5), sharey=True, sharex='col')\n",
    "\n",
    "for x, i in enumerate([1, 1.5, 2, 2.5, 3, 3.5, 4]):\n",
    "    for y, j in enumerate([1, 1.5, 2, 2.5, 3, 3.5, 4]):\n",
    "        if i >= j:\n",
    "            sns.violinplot(all_results[(all_results.param=='th') & (all_results.Method=='Q') & (all_results.value==str(i)) & (all_results.value2==str(j))].reset_index(), x='value', \n",
    "               y='logp_size', hue='Test', cut=0, legend=False, \n",
    "              palette=['orchid', 'grey'], ax=axs[y][x+1])\n",
    "        if i <= j:\n",
    "            axs[y][x].annotate(xy=(-0.25,100), text=f'{th_results[(th_results.stat==\"logp_size\") & (th_results.Method==\"Q\") & (th_results.ThZ==str(j)) & (th_results.ThZZ==str(i))].AUC.values[0]:.3f}')\n",
    "            if x == 0:\n",
    "                axs[y][x].set_xlim(-0.5, 0.5)"
   ]
  },
  {
   "cell_type": "code",
   "execution_count": 27,
   "metadata": {
    "ExecuteTime": {
     "end_time": "2025-04-03T17:46:16.641524Z",
     "start_time": "2025-04-03T17:46:16.318289Z"
    }
   },
   "outputs": [
    {
     "data": {
      "text/plain": [
       "(-0.5, 6.5)"
      ]
     },
     "execution_count": 27,
     "metadata": {},
     "output_type": "execute_result"
    },
    {
     "data": {
      "image/png": "[encoded data removed]",
      "text/plain": [
       "<Figure size 640x480 with 1 Axes>"
      ]
     },
     "metadata": {},
     "output_type": "display_data"
    }
   ],
   "source": [
    "sns.violinplot(all_results[all_results.param=='th'].reset_index(), x='value', y='SizeOE', hue='Test', cut=0,\n",
    "              palette=['lightgreen', 'grey'])\n",
    "plt.hlines(y=0, xmin=-0.5, xmax=6.5, color='red')\n",
    "plt.xlim(-0.5, 6.5)"
   ]
  },
  {
   "cell_type": "code",
   "execution_count": 28,
   "metadata": {
    "ExecuteTime": {
     "end_time": "2025-04-03T17:46:20.642182Z",
     "start_time": "2025-04-03T17:46:20.326913Z"
    }
   },
   "outputs": [
    {
     "data": {
      "text/plain": [
       "(-0.5, 6.5)"
      ]
     },
     "execution_count": 28,
     "metadata": {},
     "output_type": "execute_result"
    },
    {
     "data": {
      "image/png": "[encoded data removed]",
      "text/plain": [
       "<Figure size 640x480 with 1 Axes>"
      ]
     },
     "metadata": {},
     "output_type": "display_data"
    }
   ],
   "source": [
    "sns.violinplot(all_results[all_results.param=='th'].reset_index(), x='value2', y='SizeOE', hue='Test', cut=0,\n",
    "              palette=['lightgreen', 'grey'])\n",
    "plt.hlines(y=0, xmin=-0.5, xmax=6.5, color='red')\n",
    "plt.xlim(-0.5, 6.5)"
   ]
  },
  {
   "cell_type": "markdown",
   "metadata": {},
   "source": [
    "## SNP-to-Gene + p Threshold\n",
    "\n",
    "### Load data"
   ]
  },
  {
   "cell_type": "code",
   "execution_count": 129,
   "metadata": {
    "ExecuteTime": {
     "end_time": "2025-04-03T18:14:14.166383Z",
     "start_time": "2025-04-03T18:14:14.161255Z"
    }
   },
   "outputs": [],
   "source": [
    "file_lists = {'nearestGene': { 'sum':2181779, 'binary':2181785},\n",
    "             'nearestGeneTH8': { 'sum':2182650, 'binary':2182651},\n",
    "             'magma_th104':{ 'sum':2194408, 'binary':2194396},\n",
    "             'magma_th256': { 'sum':2182655, 'binary':2182656}}\n",
    "results = {x: {} for x in file_lists}"
   ]
  },
  {
   "cell_type": "code",
   "execution_count": 130,
   "metadata": {
    "ExecuteTime": {
     "end_time": "2025-04-03T18:14:15.185010Z",
     "start_time": "2025-04-03T18:14:15.182431Z"
    }
   },
   "outputs": [
    {
     "data": {
      "text/plain": [
       "'/cellar/users/snwright/Data/RareCommon/outputs/netcoloc/testing/'"
      ]
     },
     "execution_count": 130,
     "metadata": {},
     "output_type": "execute_result"
    }
   ],
   "source": [
    "resdir"
   ]
  },
  {
   "cell_type": "code",
   "execution_count": 190,
   "metadata": {
    "ExecuteTime": {
     "end_time": "2025-04-03T18:54:45.665519Z",
     "start_time": "2025-04-03T18:54:43.894748Z"
    }
   },
   "outputs": [
    {
     "name": "stdout",
     "output_type": "stream",
     "text": [
      "nearestGene\n",
      "nearestGeneTH8\n",
      "magma_th104\n",
      "magma_th256\n"
     ]
    }
   ],
   "source": [
    "not_found = []\n",
    "for x, y in file_lists.items():\n",
    "    print(x)\n",
    "    for z,  job_id in y.items():\n",
    "        if 'magma' in x:\n",
    "            with open(os.path.join(resdir,'../magma', f'{job_id}.files'), 'r') as f:\n",
    "                filenames = list(set([s.strip() for s in f.readlines()]))\n",
    "            loaded_data = []\n",
    "            for f in filenames:\n",
    "                f = f.replace('.txt', '_bin20.txt')\n",
    "                try:\n",
    "                    loaded_data.append(pd.read_csv(os.path.join(resdir, '../magma', f), sep='\\t', header=None))\n",
    "                except FileNotFoundError:\n",
    "                    try:\n",
    "                        f = f.replace('_bin20.txt', '.txt')\n",
    "                        loaded_data.append(pd.read_csv(os.path.join(resdir, '../magma', f), sep='\\t', header=None))\n",
    "                    except:\n",
    "                        not_found.append(os.path.join(resdir, '../magma', f))\n",
    "        else:\n",
    "            with open(os.path.join(resdir, f'{job_id}.files'), 'r') as f:\n",
    "                filenames = list(set([s.strip() for s in f.readlines()]))\n",
    "            loaded_data = []\n",
    "            for f in filenames:\n",
    "                f = f.replace('.txt', '_bin20.txt')\n",
    "                try:\n",
    "                    loaded_data.append(pd.read_csv(os.path.join(resdir, f), sep='\\t', header=None))\n",
    "                except FileNotFoundError:\n",
    "                    not_found.append(f)\n",
    "        results[x][z] = pd.concat(loaded_data)\n",
    "        results[x][z].columns = ['TraitR', 'TraitC', 'Network','Transform', 'Norm', 'Mean_NPS', \n",
    "                                 'Null_mean_NPS', 'P_mean_NPS', 'Size', 'Null_Size', 'P_size' ]\n",
    "        results[x][z]['Group'] = x\n",
    "        results[x][z]['Norm'] = z\n",
    "        results[x][z]['logp_nps'] = results[x][z].P_mean_NPS.apply(lambda x: -1 * np.log10(x+1e-250))\n",
    "        results[x][z]['logp_size'] = results[x][z].P_size.apply(lambda x: -1 * np.log10(x+1e-250))\n",
    "        results[x][z]['SizeOE'] = np.log2(results[x][z]['Size'] / results[x][z]['Null_Size'])\n",
    "        results[x][z]['Set'] = 'Test'\n",
    "        results[x][z]['FullTrait'] = results[x][z].apply(lambda a: '_'.join([a.TraitR, a.TraitC]), axis=1)"
   ]
  },
  {
   "cell_type": "code",
   "execution_count": 132,
   "metadata": {
    "ExecuteTime": {
     "end_time": "2025-04-03T18:14:20.165523Z",
     "start_time": "2025-04-03T18:14:20.161271Z"
    }
   },
   "outputs": [],
   "source": [
    "ng = pd.concat(results['nearestGene'].values())\n",
    "ng8 = pd.concat(results['nearestGeneTH8'].values())\n",
    "mag104 = pd.concat(results['magma_th104'].values())\n",
    "mag256 = pd.concat(results['magma_th256'].values())"
   ]
  },
  {
   "cell_type": "code",
   "execution_count": 217,
   "metadata": {
    "ExecuteTime": {
     "end_time": "2025-04-03T19:13:57.413919Z",
     "start_time": "2025-04-03T19:13:57.410973Z"
    }
   },
   "outputs": [],
   "source": [
    "control_lists = {'nearestGene': { 'sum':2221434, 'binary':2221426},\n",
    "             'nearestGeneTH8': { 'sum':2182653, 'binary':2182652},\n",
    "             'magma_th104':{ 'sum': 2221406, 'binary':2221413},\n",
    "             'magma_th256': { 'sum':2182659, 'binary':2182657}}\n",
    "control_results = {x: {} for x in control_lists}"
   ]
  },
  {
   "cell_type": "code",
   "execution_count": 216,
   "metadata": {
    "ExecuteTime": {
     "end_time": "2025-04-03T19:00:06.065443Z",
     "start_time": "2025-04-03T19:00:06.061511Z"
    }
   },
   "outputs": [
    {
     "data": {
      "text/plain": [
       "'/cellar/users/snwright/Data/RareCommon/outputs/netcoloc/testing/'"
      ]
     },
     "execution_count": 216,
     "metadata": {},
     "output_type": "execute_result"
    }
   ],
   "source": [
    "resdir"
   ]
  },
  {
   "cell_type": "code",
   "execution_count": 218,
   "metadata": {
    "ExecuteTime": {
     "end_time": "2025-04-03T19:14:01.661132Z",
     "start_time": "2025-04-03T19:13:58.917075Z"
    }
   },
   "outputs": [
    {
     "name": "stdout",
     "output_type": "stream",
     "text": [
      "nearestGene\n",
      "nearestGeneTH8\n",
      "magma_th104\n",
      "magma_th256\n"
     ]
    }
   ],
   "source": [
    "not_found = []\n",
    "for x, y in control_lists.items():\n",
    "    print(x)\n",
    "    for z,  job_id in y.items():\n",
    "        if 'magma' in x:\n",
    "            with open(os.path.join(resdir,'../magma', f'{job_id}.files'), 'r') as f:\n",
    "                filenames = list(set([s.strip() for s in f.readlines()]))\n",
    "            \n",
    "            loaded_data = []\n",
    "            for f in filenames:\n",
    "                f = f.replace('.txt', '_bin20.txt')\n",
    "                try:\n",
    "                    loaded_data.append(pd.read_csv(os.path.join(resdir, '../magma', f), sep='\\t', header=None))\n",
    "                except FileNotFoundError:\n",
    "                    try:\n",
    "                        f = f.replace('_bin20.txt', '.txt')\n",
    "                        loaded_data.append(pd.read_csv(os.path.join(resdir, '../magma', f), sep='\\t', header=None))\n",
    "                    except:\n",
    "                        not_found.append(os.path.join(resdir, '../magma', f))\n",
    "        else:\n",
    "            with open(os.path.join(resdir, f'{job_id}.files'), 'r') as f:\n",
    "                filenames = list(set([s.strip() for s in f.readlines()]))\n",
    "            loaded_data = []\n",
    "            for f in filenames:\n",
    "                try:\n",
    "                    loaded_data.append(pd.read_csv(os.path.join(resdir, f), sep='\\t', header=None))\n",
    "                except FileNotFoundError:\n",
    "                    try:\n",
    "                        f = f.replace('.txt', '_bin20.txt')\n",
    "                        loaded_data.append(pd.read_csv(os.path.join(resdir, f), sep='\\t', header=None))\n",
    "                    except:\n",
    "                        not_found.append(f)\n",
    "        control_results[x][z] = pd.concat(loaded_data)\n",
    "        control_results[x][z].columns = ['TraitR', 'TraitC', 'Network','Transform', 'Norm', 'Mean_NPS', \n",
    "                                 'Null_mean_NPS', 'P_mean_NPS', 'Size', 'Null_Size', 'P_size' ]\n",
    "        control_results[x][z]['Group'] = x\n",
    "        control_results[x][z]['Norm'] = z\n",
    "        control_results[x][z]['logp_nps'] = control_results[x][z].P_mean_NPS.apply(lambda x: -1 * np.log10(x+1e-250))\n",
    "        control_results[x][z]['logp_size'] = control_results[x][z].P_size.apply(lambda x: -1 * np.log10(x+1e-250))\n",
    "        control_results[x][z]['SizeOE'] = np.log2(control_results[x][z]['Size'] / control_results[x][z]['Null_Size'])\n",
    "        control_results[x][z]['Set'] = 'Control'\n",
    "        control_results[x][z]['FullTrait'] = control_results[x][z].apply(lambda a: '_'.join([a.TraitR, a.TraitC]), axis=1)"
   ]
  },
  {
   "cell_type": "code",
   "execution_count": 220,
   "metadata": {
    "ExecuteTime": {
     "end_time": "2025-04-03T19:14:08.625336Z",
     "start_time": "2025-04-03T19:14:08.619688Z"
    }
   },
   "outputs": [],
   "source": [
    "ng_cont = pd.concat(control_results['nearestGene'].values())\n",
    "ng8_cont = pd.concat(control_results['nearestGeneTH8'].values())\n",
    "mag104_cont = pd.concat(control_results['magma_th104'].values())\n",
    "mag256_cont = pd.concat(control_results['magma_th256'].values())"
   ]
  },
  {
   "cell_type": "code",
   "execution_count": 221,
   "metadata": {
    "ExecuteTime": {
     "end_time": "2025-04-03T19:14:09.950467Z",
     "start_time": "2025-04-03T19:14:09.947324Z"
    }
   },
   "outputs": [],
   "source": [
    "all_df = pd.concat([ng, ng8, mag104, mag256,ng_cont, ng8_cont, mag104_cont, mag256_cont])"
   ]
  },
  {
   "cell_type": "code",
   "execution_count": 222,
   "metadata": {
    "ExecuteTime": {
     "end_time": "2025-04-03T19:14:10.963511Z",
     "start_time": "2025-04-03T19:14:10.942882Z"
    }
   },
   "outputs": [],
   "source": [
    "def clean_trait(x):\n",
    "    # replace magma_\n",
    "    x = x.replace('magma_', 'magma')\n",
    "    return x.split('_', 1)[-1]\n",
    "\n",
    "import re\n",
    "def map_trait_code(code):\n",
    "    efo = next((match.group() for match in re.finditer(r'EFO_\\d+', code)), None)\n",
    "    if efo is not None:\n",
    "        return efo\n",
    "    mondo = next((match.group() for match in re.finditer(r'MONDO_\\d+', code)), None)\n",
    "    if mondo is not None:\n",
    "        return mondo\n",
    "    hp = next((match.group() for match in re.finditer(r'HP_\\d+', code)), None)\n",
    "    if hp is not None:\n",
    "        return hp\n",
    "    go = next((match.group() for match in re.finditer(r'GO_\\d+', code)), None)\n",
    "    if go is not None:\n",
    "        return go\n",
    "    return None\n",
    "\n",
    "\n",
    "all_df['CleanTrait'] = all_df.apply(lambda x: '_'.join([clean_trait(x.TraitR), clean_trait(x.TraitC)]), axis=1)\n",
    "all_df['StudyR'] = all_df.TraitR.apply(lambda x: next((match.group() for match in re.finditer(r'GCST\\d+', x)), None))\n",
    "all_df['StudyC'] = all_df.TraitC.apply(lambda x: next((match.group() for match in re.finditer(r'GCST\\d+', x)), None))\n",
    "all_df['EFOR'] = all_df.TraitR.apply(lambda x: map_trait_code(x))\n",
    "all_df['EFOC'] = all_df.TraitC.apply(lambda x: map_trait_code(x))\n",
    "all_df['testID'] = all_df['StudyR'] + all_df['StudyC'] + all_df['EFOR'] + all_df['EFOC']"
   ]
  },
  {
   "cell_type": "markdown",
   "metadata": {},
   "source": [
    "### Association p threshold"
   ]
  },
  {
   "cell_type": "code",
   "execution_count": 223,
   "metadata": {
    "ExecuteTime": {
     "end_time": "2025-04-03T19:14:12.297852Z",
     "start_time": "2025-04-03T19:14:12.278762Z"
    }
   },
   "outputs": [
    {
     "data": {
      "text/html": [
       "<div>\n",
       "<style scoped>\n",
       "    .dataframe tbody tr th:only-of-type {\n",
       "        vertical-align: middle;\n",
       "    }\n",
       "\n",
       "    .dataframe tbody tr th {\n",
       "        vertical-align: top;\n",
       "    }\n",
       "\n",
       "    .dataframe thead th {\n",
       "        text-align: right;\n",
       "    }\n",
       "</style>\n",
       "<table border=\"1\" class=\"dataframe\">\n",
       "  <thead>\n",
       "    <tr style=\"text-align: right;\">\n",
       "      <th></th>\n",
       "      <th>Group</th>\n",
       "      <th>Norm</th>\n",
       "      <th>AUC</th>\n",
       "    </tr>\n",
       "  </thead>\n",
       "  <tbody>\n",
       "    <tr>\n",
       "      <th>0</th>\n",
       "      <td>nearestGene</td>\n",
       "      <td>binary</td>\n",
       "      <td>0.837288</td>\n",
       "    </tr>\n",
       "    <tr>\n",
       "      <th>1</th>\n",
       "      <td>nearestGene</td>\n",
       "      <td>sum</td>\n",
       "      <td>0.836158</td>\n",
       "    </tr>\n",
       "    <tr>\n",
       "      <th>2</th>\n",
       "      <td>nearestGeneTH8</td>\n",
       "      <td>binary</td>\n",
       "      <td>0.823729</td>\n",
       "    </tr>\n",
       "    <tr>\n",
       "      <th>3</th>\n",
       "      <td>nearestGeneTH8</td>\n",
       "      <td>sum</td>\n",
       "      <td>0.817514</td>\n",
       "    </tr>\n",
       "  </tbody>\n",
       "</table>\n",
       "</div>"
      ],
      "text/plain": [
       "            Group    Norm       AUC\n",
       "0     nearestGene  binary  0.837288\n",
       "1     nearestGene     sum  0.836158\n",
       "2  nearestGeneTH8  binary  0.823729\n",
       "3  nearestGeneTH8     sum  0.817514"
      ]
     },
     "execution_count": 223,
     "metadata": {},
     "output_type": "execute_result"
    }
   ],
   "source": [
    "df1 = all_df[all_df.Group == 'nearestGene']\n",
    "df2 = all_df[all_df.Group == 'nearestGeneTH8']\n",
    "shared_tests = set(df1.testID.unique()).intersection(set(df2.testID.unique()))\n",
    "n=len(shared_tests)\n",
    "controls1 = df1[df1.Set=='Control'].sort_values('testID').iloc[0:2*n]\n",
    "controls2 = df2[df2.Set=='Control'].sort_values('testID').iloc[0:2*n]\n",
    "df1 = pd.concat([df1[(df1.testID.isin(shared_tests))], controls1])\n",
    "df2 = pd.concat([df2[(df2.testID.isin(shared_tests))], controls2])\n",
    "auc = calculate_auc(pd.concat([df1, df2]), value_col='SizeOE', processing_col='Group', normalization_col='Norm', \n",
    "                            control_col='Set', control_labels=('Test', 'Control'))\n",
    "auc"
   ]
  },
  {
   "cell_type": "code",
   "execution_count": 204,
   "metadata": {
    "ExecuteTime": {
     "end_time": "2025-04-03T18:57:53.309956Z",
     "start_time": "2025-04-03T18:57:53.301878Z"
    }
   },
   "outputs": [
    {
     "data": {
      "text/html": [
       "<div>\n",
       "<style scoped>\n",
       "    .dataframe tbody tr th:only-of-type {\n",
       "        vertical-align: middle;\n",
       "    }\n",
       "\n",
       "    .dataframe tbody tr th {\n",
       "        vertical-align: top;\n",
       "    }\n",
       "\n",
       "    .dataframe thead th {\n",
       "        text-align: right;\n",
       "    }\n",
       "</style>\n",
       "<table border=\"1\" class=\"dataframe\">\n",
       "  <thead>\n",
       "    <tr style=\"text-align: right;\">\n",
       "      <th></th>\n",
       "      <th>Group</th>\n",
       "      <th>Norm</th>\n",
       "      <th>Set</th>\n",
       "      <th>count</th>\n",
       "    </tr>\n",
       "  </thead>\n",
       "  <tbody>\n",
       "    <tr>\n",
       "      <th>0</th>\n",
       "      <td>magma_th104</td>\n",
       "      <td>binary</td>\n",
       "      <td>Test</td>\n",
       "      <td>61</td>\n",
       "    </tr>\n",
       "    <tr>\n",
       "      <th>1</th>\n",
       "      <td>magma_th104</td>\n",
       "      <td>binary</td>\n",
       "      <td>Control</td>\n",
       "      <td>35</td>\n",
       "    </tr>\n",
       "    <tr>\n",
       "      <th>2</th>\n",
       "      <td>magma_th104</td>\n",
       "      <td>sum</td>\n",
       "      <td>Test</td>\n",
       "      <td>61</td>\n",
       "    </tr>\n",
       "    <tr>\n",
       "      <th>3</th>\n",
       "      <td>magma_th104</td>\n",
       "      <td>sum</td>\n",
       "      <td>Control</td>\n",
       "      <td>31</td>\n",
       "    </tr>\n",
       "    <tr>\n",
       "      <th>4</th>\n",
       "      <td>magma_th256</td>\n",
       "      <td>binary</td>\n",
       "      <td>Test</td>\n",
       "      <td>48</td>\n",
       "    </tr>\n",
       "    <tr>\n",
       "      <th>5</th>\n",
       "      <td>magma_th256</td>\n",
       "      <td>binary</td>\n",
       "      <td>Control</td>\n",
       "      <td>45</td>\n",
       "    </tr>\n",
       "    <tr>\n",
       "      <th>6</th>\n",
       "      <td>magma_th256</td>\n",
       "      <td>sum</td>\n",
       "      <td>Test</td>\n",
       "      <td>48</td>\n",
       "    </tr>\n",
       "    <tr>\n",
       "      <th>7</th>\n",
       "      <td>magma_th256</td>\n",
       "      <td>sum</td>\n",
       "      <td>Control</td>\n",
       "      <td>45</td>\n",
       "    </tr>\n",
       "    <tr>\n",
       "      <th>8</th>\n",
       "      <td>nearestGene</td>\n",
       "      <td>binary</td>\n",
       "      <td>Test</td>\n",
       "      <td>46</td>\n",
       "    </tr>\n",
       "    <tr>\n",
       "      <th>9</th>\n",
       "      <td>nearestGene</td>\n",
       "      <td>binary</td>\n",
       "      <td>Control</td>\n",
       "      <td>2</td>\n",
       "    </tr>\n",
       "    <tr>\n",
       "      <th>10</th>\n",
       "      <td>nearestGene</td>\n",
       "      <td>sum</td>\n",
       "      <td>Test</td>\n",
       "      <td>46</td>\n",
       "    </tr>\n",
       "    <tr>\n",
       "      <th>11</th>\n",
       "      <td>nearestGene</td>\n",
       "      <td>sum</td>\n",
       "      <td>Control</td>\n",
       "      <td>2</td>\n",
       "    </tr>\n",
       "    <tr>\n",
       "      <th>12</th>\n",
       "      <td>nearestGeneTH8</td>\n",
       "      <td>binary</td>\n",
       "      <td>Control</td>\n",
       "      <td>30</td>\n",
       "    </tr>\n",
       "    <tr>\n",
       "      <th>13</th>\n",
       "      <td>nearestGeneTH8</td>\n",
       "      <td>binary</td>\n",
       "      <td>Test</td>\n",
       "      <td>30</td>\n",
       "    </tr>\n",
       "    <tr>\n",
       "      <th>14</th>\n",
       "      <td>nearestGeneTH8</td>\n",
       "      <td>sum</td>\n",
       "      <td>Control</td>\n",
       "      <td>30</td>\n",
       "    </tr>\n",
       "    <tr>\n",
       "      <th>15</th>\n",
       "      <td>nearestGeneTH8</td>\n",
       "      <td>sum</td>\n",
       "      <td>Test</td>\n",
       "      <td>30</td>\n",
       "    </tr>\n",
       "  </tbody>\n",
       "</table>\n",
       "</div>"
      ],
      "text/plain": [
       "             Group    Norm      Set  count\n",
       "0      magma_th104  binary     Test     61\n",
       "1      magma_th104  binary  Control     35\n",
       "2      magma_th104     sum     Test     61\n",
       "3      magma_th104     sum  Control     31\n",
       "4      magma_th256  binary     Test     48\n",
       "5      magma_th256  binary  Control     45\n",
       "6      magma_th256     sum     Test     48\n",
       "7      magma_th256     sum  Control     45\n",
       "8      nearestGene  binary     Test     46\n",
       "9      nearestGene  binary  Control      2\n",
       "10     nearestGene     sum     Test     46\n",
       "11     nearestGene     sum  Control      2\n",
       "12  nearestGeneTH8  binary  Control     30\n",
       "13  nearestGeneTH8  binary     Test     30\n",
       "14  nearestGeneTH8     sum  Control     30\n",
       "15  nearestGeneTH8     sum     Test     30"
      ]
     },
     "execution_count": 204,
     "metadata": {},
     "output_type": "execute_result"
    }
   ],
   "source": [
    "all_df.groupby(['Group', 'Norm']).Set.value_counts().reset_index()"
   ]
  },
  {
   "cell_type": "code",
   "execution_count": 340,
   "metadata": {
    "ExecuteTime": {
     "end_time": "2025-04-03T21:08:04.988859Z",
     "start_time": "2025-04-03T21:08:04.826945Z"
    }
   },
   "outputs": [],
   "source": [
    "def pair_auc(df1, df2, stats=['Mean_NPS', 'SizeOE', 'logp_size', 'logp_nps'], comp1='Group', comp2='Norm'):\n",
    "    auc_res = []\n",
    "    for stat in stats:\n",
    "        shared_tests = set(df1[df1.Set=='Test'].testID.unique()).intersection(set(df2[df2.Set=='Test'].testID.unique()))\n",
    "        shared_controls = set(df1[df1.Set=='Control'].testID.unique()).intersection(set(df2[df2.Set=='Control'].testID.unique()))\n",
    "        n=len(shared_tests)\n",
    "        #controls1 = df1[df1.Set=='Control'].sort_values('testID').iloc[0:2*n]\n",
    "        #controls2 = df2[df2.Set=='Control'].sort_values('testID').iloc[0:2*n]\n",
    "        df1 = pd.concat([df1[(df1.testID.isin(shared_tests))], df1[(df1.testID.isin(shared_controls))]])\n",
    "        df2 = pd.concat([df2[(df2.testID.isin(shared_tests))], df2[(df2.testID.isin(shared_controls))]])\n",
    "        test_df = pd.concat([df1, df2])\n",
    "        if stat == 'logp_size':\n",
    "            test_df['logp_size'] = test_df.apply(lambda z: z.logp_size if z.SizeOE> 0 else -1 * z.logp_size, axis=1)\n",
    "        \n",
    "        auc = calculate_auc(test_df, value_col=stat, processing_col=comp1, normalization_col=comp2, \n",
    "                                    control_col='Set', control_labels=('Test', 'Control'))\n",
    "        mannu = perform_mann_whitney(test_df, value_col=stat, processing_col=comp1, normalization_col=comp2, \n",
    "                                   control_col='Set', control_labels=('Test', 'Control'))\n",
    "        res = auc.merge(mannu, on=[comp1, comp2], how='outer')\n",
    "        res['stat'] = stat\n",
    "        auc_res.append(res)\n",
    "    return pd.concat(auc_res), test_df\n",
    "\n",
    "ng_th, ng_th_df = pair_auc(all_df[all_df.Group == 'nearestGene'], all_df[all_df.Group == 'nearestGeneTH8'])\n",
    "magma_th, magma_th_df = pair_auc(all_df[all_df.Group == 'magma_th104'], all_df[all_df.Group == 'magma_th256'])"
   ]
  },
  {
   "cell_type": "code",
   "execution_count": 334,
   "metadata": {
    "ExecuteTime": {
     "end_time": "2025-04-03T21:07:05.705452Z",
     "start_time": "2025-04-03T21:07:05.699632Z"
    }
   },
   "outputs": [
    {
     "data": {
      "text/plain": [
       "Group           Norm    Set    \n",
       "nearestGene     binary  Test       30\n",
       "                        Control    29\n",
       "                sum     Test       30\n",
       "                        Control    29\n",
       "nearestGeneTH8  binary  Test       30\n",
       "                        Control    29\n",
       "                sum     Test       30\n",
       "                        Control    29\n",
       "Name: count, dtype: int64"
      ]
     },
     "execution_count": 334,
     "metadata": {},
     "output_type": "execute_result"
    }
   ],
   "source": [
    "ng_th_df.groupby(['Group', 'Norm']).Set.value_counts()"
   ]
  },
  {
   "cell_type": "code",
   "execution_count": 335,
   "metadata": {
    "ExecuteTime": {
     "end_time": "2025-04-03T21:07:06.852416Z",
     "start_time": "2025-04-03T21:07:06.846846Z"
    }
   },
   "outputs": [
    {
     "data": {
      "text/plain": [
       "Group        Norm    Set    \n",
       "magma_th104  binary  Test       48\n",
       "                     Control    45\n",
       "             sum     Test       48\n",
       "                     Control    44\n",
       "magma_th256  binary  Test       48\n",
       "                     Control    45\n",
       "             sum     Test       48\n",
       "                     Control    45\n",
       "Name: count, dtype: int64"
      ]
     },
     "execution_count": 335,
     "metadata": {},
     "output_type": "execute_result"
    }
   ],
   "source": [
    "magma_th_df.groupby(['Group', 'Norm']).Set.value_counts()"
   ]
  },
  {
   "cell_type": "code",
   "execution_count": 336,
   "metadata": {
    "ExecuteTime": {
     "end_time": "2025-04-03T21:07:07.947033Z",
     "start_time": "2025-04-03T21:07:07.931074Z"
    }
   },
   "outputs": [
    {
     "ename": "IndexError",
     "evalue": "index 0 is out of bounds for axis 0 with size 0",
     "output_type": "error",
     "traceback": [
      "\u001b[0;31m---------------------------------------------------------------------------\u001b[0m",
      "\u001b[0;31mIndexError\u001b[0m                                Traceback (most recent call last)",
      "Cell \u001b[0;32mIn[336], line 2\u001b[0m\n\u001b[1;32m      1\u001b[0m res_df\u001b[38;5;241m=\u001b[39m ng_th\n\u001b[0;32m----> 2\u001b[0m \u001b[43mres_df\u001b[49m\u001b[43m[\u001b[49m\u001b[43m(\u001b[49m\u001b[43mres_df\u001b[49m\u001b[38;5;241;43m.\u001b[39;49m\u001b[43mGroup\u001b[49m\u001b[38;5;241;43m==\u001b[39;49m\u001b[38;5;124;43m'\u001b[39;49m\u001b[38;5;124;43mnearestGene\u001b[39;49m\u001b[38;5;124;43m'\u001b[39;49m\u001b[43m)\u001b[49m\u001b[43m \u001b[49m\u001b[38;5;241;43m&\u001b[39;49m\u001b[43m \u001b[49m\u001b[43m(\u001b[49m\u001b[43mres_df\u001b[49m\u001b[38;5;241;43m.\u001b[39;49m\u001b[43mNorm\u001b[49m\u001b[38;5;241;43m==\u001b[39;49m\u001b[38;5;124;43m'\u001b[39;49m\u001b[38;5;124;43mbinary\u001b[39;49m\u001b[38;5;124;43m'\u001b[39;49m\u001b[43m)\u001b[49m\u001b[43m \u001b[49m\u001b[38;5;241;43m&\u001b[39;49m\u001b[43m \u001b[49m\u001b[43m(\u001b[49m\u001b[43mres_df\u001b[49m\u001b[38;5;241;43m.\u001b[39;49m\u001b[43mstat\u001b[49m\u001b[38;5;241;43m==\u001b[39;49m\u001b[38;5;124;43m'\u001b[39;49m\u001b[38;5;124;43mlogp_size\u001b[39;49m\u001b[38;5;124;43m'\u001b[39;49m\u001b[43m)\u001b[49m\u001b[43m]\u001b[49m\u001b[38;5;241;43m.\u001b[39;49m\u001b[43mAUC\u001b[49m\u001b[38;5;241;43m.\u001b[39;49m\u001b[43mvalues\u001b[49m\u001b[43m[\u001b[49m\u001b[38;5;241;43m0\u001b[39;49m\u001b[43m]\u001b[49m\n",
      "\u001b[0;31mIndexError\u001b[0m: index 0 is out of bounds for axis 0 with size 0"
     ]
    }
   ],
   "source": [
    "res_df= ng_th\n",
    "res_df[(res_df.Group=='nearestGene') & (res_df.Norm=='binary') & (res_df.stat=='logp_size')].AUC.values[0]"
   ]
  },
  {
   "cell_type": "code",
   "execution_count": 337,
   "metadata": {
    "ExecuteTime": {
     "end_time": "2025-04-03T21:07:12.187411Z",
     "start_time": "2025-04-03T21:07:12.180488Z"
    },
    "code_folding": []
   },
   "outputs": [],
   "source": [
    "def plot_pair_auc(res_df, plot_df, ax=None, group='Group', stat='logp_size', group_col='Group', group2_col='Norm', \n",
    "                  color='lightgreen', text_p = False, text_n=False):\n",
    "    sns.violinplot(plot_df[plot_df[group_col]==group], y=stat, x=group2_col, hue='Set',cut=0, linewidth=0.5, \n",
    "                   palette=[color, 'grey'],  zorder=1, legend=False, ax=ax, saturation=1)\n",
    "    for j, norm in enumerate(plot_df[group2_col].unique()):\n",
    "        \n",
    "        auc = float('%.3g' % res_df[(res_df[group_col]==group) & (res_df[group2_col]==norm) & (res_df.stat==stat)].AUC.values[0])\n",
    "        if text_p:\n",
    "            p = float('%.2g' % res_df[(res_df[group_col]==group) & (res_df[group2_col]==norm) & (res_df.stat==stat)].p_value.values[0])\n",
    "            ax.text(x=j-0.1, y=plot_df[stat].max()*0.9, s=f'AUC:{auc}\\np:{p}', fontsize=7)\n",
    "        elif text_n:\n",
    "            n = int(plot_df[plot_df[group_col]==group].groupby(group2_col).Set.value_counts().values[0])\n",
    "            ax.text(x=j-0.1, y=plot_df[stat].max()*0.9, s=f'AUC:{auc}\\nn={n}', fontsize=7)\n",
    "        else:\n",
    "            ax.text(x=j-0.1, y=plot_df[stat].max()*0.9, s=f'AUC:{auc}', fontsize=7)\n",
    "    if (stat == 'SizeOE') or (stat=='log2SizeOE'):\n",
    "        _ = ax.set_yticks([-1, 0, 1, 2, 3], [0.5, 1, 2, 4, 8])\n",
    "        _ = ax.set_yticks(np.log2([3,5,6,7]), minor=True)\n",
    "    \n",
    "    testId_counts =  plot_df[plot_df[group_col]==group].groupby(group2_col).Set.value_counts()\n",
    "    minor_label = []\n",
    "    for g in plot_df[plot_df[group_col]==group][group2_col].unique():\n",
    "        for s in ['Test', 'Control']:\n",
    "            minor_label.append(f'n={testId_counts[g][s]}')\n",
    "    \n",
    "    ax.set_xticks([-0.2,  0.2, 0.8, 1.2], labels=minor_label, minor=True)\n",
    "    \n",
    "    return plot_df[plot_df[group_col]==group]"
   ]
  },
  {
   "cell_type": "code",
   "execution_count": 342,
   "metadata": {
    "ExecuteTime": {
     "end_time": "2025-04-03T21:08:21.307398Z",
     "start_time": "2025-04-03T21:08:21.010357Z"
    },
    "code_folding": [],
    "run_control": {
     "marked": true
    }
   },
   "outputs": [
    {
     "data": {
      "text/plain": [
       "Text(0.5, 0, 'B-NetColoc')"
      ]
     },
     "execution_count": 342,
     "metadata": {},
     "output_type": "execute_result"
    },
    {
     "data": {
      "image/png": "[encoded data removed]",
      "text/plain": [
       "<Figure size 500x150 with 2 Axes>"
      ]
     },
     "metadata": {},
     "output_type": "display_data"
    }
   ],
   "source": [
    "_, [ax1, ax2] = plt.subplots(nrows=1, ncols=2, figsize=(5,1.5), sharey=True)    \n",
    "\n",
    "a = plot_pair_auc(ng_th, ng_th_df, ax=ax1, group='sum', stat='SizeOE', group_col='Norm', group2_col='Group', color='#97247C', text_p=False, text_n=True)\n",
    "plot_pair_auc(ng_th, ng_th_df, ax=ax2, group='binary', stat='SizeOE', group_col='Norm', group2_col='Group', color='#F36F38')\n",
    "for ax in [ax1, ax2]:\n",
    "    ax.hlines(y=0, xmin=-0.5, xmax=1.5, color='black', linewidth=0.5, zorder=0)\n",
    "    ax.set_xlim(-0.5, 1.5)\n",
    "    ax.set_ylim(-1.2, 3)\n",
    "    ax.set_xticks([0,1], labels=['\\nNG (lenient)', '\\nNG (strict)'])\n",
    "ax1.set_xlabel('Q-NetColoc')\n",
    "ax2.set_xlabel('B-NetColoc')\n",
    "#ax1.set_ylabel('SizeOE')"
   ]
  },
  {
   "cell_type": "code",
   "execution_count": 344,
   "metadata": {
    "ExecuteTime": {
     "end_time": "2025-04-03T21:08:48.737842Z",
     "start_time": "2025-04-03T21:08:48.389137Z"
    }
   },
   "outputs": [
    {
     "data": {
      "text/html": [
       "<div>\n",
       "<style scoped>\n",
       "    .dataframe tbody tr th:only-of-type {\n",
       "        vertical-align: middle;\n",
       "    }\n",
       "\n",
       "    .dataframe tbody tr th {\n",
       "        vertical-align: top;\n",
       "    }\n",
       "\n",
       "    .dataframe thead th {\n",
       "        text-align: right;\n",
       "    }\n",
       "</style>\n",
       "<table border=\"1\" class=\"dataframe\">\n",
       "  <thead>\n",
       "    <tr style=\"text-align: right;\">\n",
       "      <th></th>\n",
       "      <th>TraitR</th>\n",
       "      <th>TraitC</th>\n",
       "      <th>Network</th>\n",
       "      <th>Transform</th>\n",
       "      <th>Norm</th>\n",
       "      <th>Mean_NPS</th>\n",
       "      <th>Null_mean_NPS</th>\n",
       "      <th>P_mean_NPS</th>\n",
       "      <th>Size</th>\n",
       "      <th>Null_Size</th>\n",
       "      <th>...</th>\n",
       "      <th>logp_size</th>\n",
       "      <th>SizeOE</th>\n",
       "      <th>Set</th>\n",
       "      <th>FullTrait</th>\n",
       "      <th>CleanTrait</th>\n",
       "      <th>StudyR</th>\n",
       "      <th>StudyC</th>\n",
       "      <th>EFOR</th>\n",
       "      <th>EFOC</th>\n",
       "      <th>testID</th>\n",
       "    </tr>\n",
       "  </thead>\n",
       "  <tbody>\n",
       "    <tr>\n",
       "      <th>0</th>\n",
       "      <td>nearestGene_EFO_0007117_GCST90100572</td>\n",
       "      <td>nearestGene_EFO_0007117_GCST90100572</td>\n",
       "      <td>pcnet2_0</td>\n",
       "      <td>neglog10</td>\n",
       "      <td>binary</td>\n",
       "      <td>0.168354</td>\n",
       "      <td>0.000968</td>\n",
       "      <td>4.046000e-137</td>\n",
       "      <td>318</td>\n",
       "      <td>207.210</td>\n",
       "      <td>...</td>\n",
       "      <td>17.153787</td>\n",
       "      <td>0.617933</td>\n",
       "      <td>Test</td>\n",
       "      <td>nearestGene_EFO_0007117_GCST90100572_nearestGe...</td>\n",
       "      <td>EFO_0007117_GCST90100572_EFO_0007117_GCST90100572</td>\n",
       "      <td>GCST90100572</td>\n",
       "      <td>GCST90100572</td>\n",
       "      <td>EFO_0007117</td>\n",
       "      <td>EFO_0007117</td>\n",
       "      <td>GCST90100572GCST90100572EFO_0007117EFO_0007117</td>\n",
       "    </tr>\n",
       "    <tr>\n",
       "      <th>0</th>\n",
       "      <td>nearestGene_EFO_0000731_GCST90018934</td>\n",
       "      <td>nearestGene_EFO_0000731_GCST90018934</td>\n",
       "      <td>pcnet2_0</td>\n",
       "      <td>neglog10</td>\n",
       "      <td>binary</td>\n",
       "      <td>0.218864</td>\n",
       "      <td>-0.000344</td>\n",
       "      <td>9.102000e-189</td>\n",
       "      <td>414</td>\n",
       "      <td>235.913</td>\n",
       "      <td>...</td>\n",
       "      <td>36.042393</td>\n",
       "      <td>0.811376</td>\n",
       "      <td>Test</td>\n",
       "      <td>nearestGene_EFO_0000731_GCST90018934_nearestGe...</td>\n",
       "      <td>EFO_0000731_GCST90018934_EFO_0000731_GCST90018934</td>\n",
       "      <td>GCST90018934</td>\n",
       "      <td>GCST90018934</td>\n",
       "      <td>EFO_0000731</td>\n",
       "      <td>EFO_0000731</td>\n",
       "      <td>GCST90018934GCST90018934EFO_0000731EFO_0000731</td>\n",
       "    </tr>\n",
       "    <tr>\n",
       "      <th>0</th>\n",
       "      <td>nearestGene_EFO_0009397_GCST90267932</td>\n",
       "      <td>nearestGene_EFO_0009397_GCST90267932</td>\n",
       "      <td>pcnet2_0</td>\n",
       "      <td>neglog10</td>\n",
       "      <td>binary</td>\n",
       "      <td>-0.035995</td>\n",
       "      <td>0.015830</td>\n",
       "      <td>1.689000e-17</td>\n",
       "      <td>144</td>\n",
       "      <td>172.947</td>\n",
       "      <td>...</td>\n",
       "      <td>1.801618</td>\n",
       "      <td>-0.264261</td>\n",
       "      <td>Test</td>\n",
       "      <td>nearestGene_EFO_0009397_GCST90267932_nearestGe...</td>\n",
       "      <td>EFO_0009397_GCST90267932_EFO_0009397_GCST90267932</td>\n",
       "      <td>GCST90267932</td>\n",
       "      <td>GCST90267932</td>\n",
       "      <td>EFO_0009397</td>\n",
       "      <td>EFO_0009397</td>\n",
       "      <td>GCST90267932GCST90267932EFO_0009397EFO_0009397</td>\n",
       "    </tr>\n",
       "    <tr>\n",
       "      <th>0</th>\n",
       "      <td>nearestGene_EFO_0010225_GCST90060164</td>\n",
       "      <td>nearestGene_EFO_0010225_GCST90060164</td>\n",
       "      <td>pcnet2_0</td>\n",
       "      <td>neglog10</td>\n",
       "      <td>binary</td>\n",
       "      <td>0.384701</td>\n",
       "      <td>-0.023586</td>\n",
       "      <td>0.000000e+00</td>\n",
       "      <td>552</td>\n",
       "      <td>152.104</td>\n",
       "      <td>...</td>\n",
       "      <td>250.000000</td>\n",
       "      <td>1.859610</td>\n",
       "      <td>Test</td>\n",
       "      <td>nearestGene_EFO_0010225_GCST90060164_nearestGe...</td>\n",
       "      <td>EFO_0010225_GCST90060164_EFO_0010225_GCST90060164</td>\n",
       "      <td>GCST90060164</td>\n",
       "      <td>GCST90060164</td>\n",
       "      <td>EFO_0010225</td>\n",
       "      <td>EFO_0010225</td>\n",
       "      <td>GCST90060164GCST90060164EFO_0010225EFO_0010225</td>\n",
       "    </tr>\n",
       "    <tr>\n",
       "      <th>0</th>\n",
       "      <td>nearestGene_EFO_0010225_GCST90060151</td>\n",
       "      <td>nearestGene_EFO_0010225_GCST90060151</td>\n",
       "      <td>pcnet2_0</td>\n",
       "      <td>neglog10</td>\n",
       "      <td>binary</td>\n",
       "      <td>0.330633</td>\n",
       "      <td>0.015769</td>\n",
       "      <td>0.000000e+00</td>\n",
       "      <td>324</td>\n",
       "      <td>147.128</td>\n",
       "      <td>...</td>\n",
       "      <td>55.174574</td>\n",
       "      <td>1.138922</td>\n",
       "      <td>Test</td>\n",
       "      <td>nearestGene_EFO_0010225_GCST90060151_nearestGe...</td>\n",
       "      <td>EFO_0010225_GCST90060151_EFO_0010225_GCST90060151</td>\n",
       "      <td>GCST90060151</td>\n",
       "      <td>GCST90060151</td>\n",
       "      <td>EFO_0010225</td>\n",
       "      <td>EFO_0010225</td>\n",
       "      <td>GCST90060151GCST90060151EFO_0010225EFO_0010225</td>\n",
       "    </tr>\n",
       "    <tr>\n",
       "      <th>...</th>\n",
       "      <td>...</td>\n",
       "      <td>...</td>\n",
       "      <td>...</td>\n",
       "      <td>...</td>\n",
       "      <td>...</td>\n",
       "      <td>...</td>\n",
       "      <td>...</td>\n",
       "      <td>...</td>\n",
       "      <td>...</td>\n",
       "      <td>...</td>\n",
       "      <td>...</td>\n",
       "      <td>...</td>\n",
       "      <td>...</td>\n",
       "      <td>...</td>\n",
       "      <td>...</td>\n",
       "      <td>...</td>\n",
       "      <td>...</td>\n",
       "      <td>...</td>\n",
       "      <td>...</td>\n",
       "      <td>...</td>\n",
       "      <td>...</td>\n",
       "    </tr>\n",
       "    <tr>\n",
       "      <th>0</th>\n",
       "      <td>nearestGeneTH8_EFO_0000731_GCST009158</td>\n",
       "      <td>nearestGeneTH8_EFO_0004741_GCST90018728</td>\n",
       "      <td>pcnet2_0</td>\n",
       "      <td>neglog10</td>\n",
       "      <td>binary</td>\n",
       "      <td>0.098173</td>\n",
       "      <td>0.002033</td>\n",
       "      <td>1.007000e-51</td>\n",
       "      <td>275</td>\n",
       "      <td>167.988</td>\n",
       "      <td>...</td>\n",
       "      <td>19.466991</td>\n",
       "      <td>0.711073</td>\n",
       "      <td>Control</td>\n",
       "      <td>nearestGeneTH8_EFO_0000731_GCST009158_nearestG...</td>\n",
       "      <td>EFO_0000731_GCST009158_EFO_0004741_GCST90018728</td>\n",
       "      <td>GCST009158</td>\n",
       "      <td>GCST90018728</td>\n",
       "      <td>EFO_0000731</td>\n",
       "      <td>EFO_0004741</td>\n",
       "      <td>GCST009158GCST90018728EFO_0000731EFO_0004741</td>\n",
       "    </tr>\n",
       "    <tr>\n",
       "      <th>0</th>\n",
       "      <td>nearestGeneTH8_EFO_0009397_GCST90267932</td>\n",
       "      <td>nearestGeneTH8_EFO_0021898_GCST90269581</td>\n",
       "      <td>pcnet2_0</td>\n",
       "      <td>neglog10</td>\n",
       "      <td>binary</td>\n",
       "      <td>0.042336</td>\n",
       "      <td>0.001888</td>\n",
       "      <td>7.084000e-10</td>\n",
       "      <td>226</td>\n",
       "      <td>202.075</td>\n",
       "      <td>...</td>\n",
       "      <td>1.565751</td>\n",
       "      <td>0.161432</td>\n",
       "      <td>Control</td>\n",
       "      <td>nearestGeneTH8_EFO_0009397_GCST90267932_neares...</td>\n",
       "      <td>EFO_0009397_GCST90267932_EFO_0021898_GCST90269581</td>\n",
       "      <td>GCST90267932</td>\n",
       "      <td>GCST90269581</td>\n",
       "      <td>EFO_0009397</td>\n",
       "      <td>EFO_0021898</td>\n",
       "      <td>GCST90267932GCST90269581EFO_0009397EFO_0021898</td>\n",
       "    </tr>\n",
       "    <tr>\n",
       "      <th>0</th>\n",
       "      <td>nearestGeneTH8_EFO_0000731_GCST90018934</td>\n",
       "      <td>nearestGeneTH8_EFO_0004343_GCST008998</td>\n",
       "      <td>pcnet2_0</td>\n",
       "      <td>neglog10</td>\n",
       "      <td>binary</td>\n",
       "      <td>0.178993</td>\n",
       "      <td>0.012956</td>\n",
       "      <td>6.931000e-129</td>\n",
       "      <td>337</td>\n",
       "      <td>248.799</td>\n",
       "      <td>...</td>\n",
       "      <td>9.922632</td>\n",
       "      <td>0.437768</td>\n",
       "      <td>Control</td>\n",
       "      <td>nearestGeneTH8_EFO_0000731_GCST90018934_neares...</td>\n",
       "      <td>EFO_0000731_GCST90018934_EFO_0004343_GCST008998</td>\n",
       "      <td>GCST90018934</td>\n",
       "      <td>GCST008998</td>\n",
       "      <td>EFO_0000731</td>\n",
       "      <td>EFO_0004343</td>\n",
       "      <td>GCST90018934GCST008998EFO_0000731EFO_0004343</td>\n",
       "    </tr>\n",
       "    <tr>\n",
       "      <th>0</th>\n",
       "      <td>nearestGeneTH8_EFO_0004343_GCST90278649</td>\n",
       "      <td>nearestGeneTH8_EFO_0007117_GCST90100573</td>\n",
       "      <td>pcnet2_0</td>\n",
       "      <td>neglog10</td>\n",
       "      <td>binary</td>\n",
       "      <td>0.141246</td>\n",
       "      <td>0.007682</td>\n",
       "      <td>2.957000e-90</td>\n",
       "      <td>396</td>\n",
       "      <td>209.423</td>\n",
       "      <td>...</td>\n",
       "      <td>46.275315</td>\n",
       "      <td>0.919081</td>\n",
       "      <td>Control</td>\n",
       "      <td>nearestGeneTH8_EFO_0004343_GCST90278649_neares...</td>\n",
       "      <td>EFO_0004343_GCST90278649_EFO_0007117_GCST90100573</td>\n",
       "      <td>GCST90278649</td>\n",
       "      <td>GCST90100573</td>\n",
       "      <td>EFO_0004343</td>\n",
       "      <td>EFO_0007117</td>\n",
       "      <td>GCST90278649GCST90100573EFO_0004343EFO_0007117</td>\n",
       "    </tr>\n",
       "    <tr>\n",
       "      <th>0</th>\n",
       "      <td>nearestGeneTH8_EFO_0004741_GCST90278623</td>\n",
       "      <td>nearestGeneTH8_EFO_0006525_GCST007459</td>\n",
       "      <td>pcnet2_0</td>\n",
       "      <td>neglog10</td>\n",
       "      <td>binary</td>\n",
       "      <td>-0.004873</td>\n",
       "      <td>-0.001071</td>\n",
       "      <td>7.099000e-01</td>\n",
       "      <td>198</td>\n",
       "      <td>187.610</td>\n",
       "      <td>...</td>\n",
       "      <td>0.689732</td>\n",
       "      <td>0.077764</td>\n",
       "      <td>Control</td>\n",
       "      <td>nearestGeneTH8_EFO_0004741_GCST90278623_neares...</td>\n",
       "      <td>EFO_0004741_GCST90278623_EFO_0006525_GCST007459</td>\n",
       "      <td>GCST90278623</td>\n",
       "      <td>GCST007459</td>\n",
       "      <td>EFO_0004741</td>\n",
       "      <td>EFO_0006525</td>\n",
       "      <td>GCST90278623GCST007459EFO_0004741EFO_0006525</td>\n",
       "    </tr>\n",
       "  </tbody>\n",
       "</table>\n",
       "<p>118 rows × 23 columns</p>\n",
       "</div>"
      ],
      "text/plain": [
       "                                     TraitR  \\\n",
       "0      nearestGene_EFO_0007117_GCST90100572   \n",
       "0      nearestGene_EFO_0000731_GCST90018934   \n",
       "0      nearestGene_EFO_0009397_GCST90267932   \n",
       "0      nearestGene_EFO_0010225_GCST90060164   \n",
       "0      nearestGene_EFO_0010225_GCST90060151   \n",
       "..                                      ...   \n",
       "0     nearestGeneTH8_EFO_0000731_GCST009158   \n",
       "0   nearestGeneTH8_EFO_0009397_GCST90267932   \n",
       "0   nearestGeneTH8_EFO_0000731_GCST90018934   \n",
       "0   nearestGeneTH8_EFO_0004343_GCST90278649   \n",
       "0   nearestGeneTH8_EFO_0004741_GCST90278623   \n",
       "\n",
       "                                     TraitC   Network Transform    Norm  \\\n",
       "0      nearestGene_EFO_0007117_GCST90100572  pcnet2_0  neglog10  binary   \n",
       "0      nearestGene_EFO_0000731_GCST90018934  pcnet2_0  neglog10  binary   \n",
       "0      nearestGene_EFO_0009397_GCST90267932  pcnet2_0  neglog10  binary   \n",
       "0      nearestGene_EFO_0010225_GCST90060164  pcnet2_0  neglog10  binary   \n",
       "0      nearestGene_EFO_0010225_GCST90060151  pcnet2_0  neglog10  binary   \n",
       "..                                      ...       ...       ...     ...   \n",
       "0   nearestGeneTH8_EFO_0004741_GCST90018728  pcnet2_0  neglog10  binary   \n",
       "0   nearestGeneTH8_EFO_0021898_GCST90269581  pcnet2_0  neglog10  binary   \n",
       "0     nearestGeneTH8_EFO_0004343_GCST008998  pcnet2_0  neglog10  binary   \n",
       "0   nearestGeneTH8_EFO_0007117_GCST90100573  pcnet2_0  neglog10  binary   \n",
       "0     nearestGeneTH8_EFO_0006525_GCST007459  pcnet2_0  neglog10  binary   \n",
       "\n",
       "    Mean_NPS  Null_mean_NPS     P_mean_NPS  Size  Null_Size  ...   logp_size  \\\n",
       "0   0.168354       0.000968  4.046000e-137   318    207.210  ...   17.153787   \n",
       "0   0.218864      -0.000344  9.102000e-189   414    235.913  ...   36.042393   \n",
       "0  -0.035995       0.015830   1.689000e-17   144    172.947  ...    1.801618   \n",
       "0   0.384701      -0.023586   0.000000e+00   552    152.104  ...  250.000000   \n",
       "0   0.330633       0.015769   0.000000e+00   324    147.128  ...   55.174574   \n",
       "..       ...            ...            ...   ...        ...  ...         ...   \n",
       "0   0.098173       0.002033   1.007000e-51   275    167.988  ...   19.466991   \n",
       "0   0.042336       0.001888   7.084000e-10   226    202.075  ...    1.565751   \n",
       "0   0.178993       0.012956  6.931000e-129   337    248.799  ...    9.922632   \n",
       "0   0.141246       0.007682   2.957000e-90   396    209.423  ...   46.275315   \n",
       "0  -0.004873      -0.001071   7.099000e-01   198    187.610  ...    0.689732   \n",
       "\n",
       "      SizeOE      Set                                          FullTrait  \\\n",
       "0   0.617933     Test  nearestGene_EFO_0007117_GCST90100572_nearestGe...   \n",
       "0   0.811376     Test  nearestGene_EFO_0000731_GCST90018934_nearestGe...   \n",
       "0  -0.264261     Test  nearestGene_EFO_0009397_GCST90267932_nearestGe...   \n",
       "0   1.859610     Test  nearestGene_EFO_0010225_GCST90060164_nearestGe...   \n",
       "0   1.138922     Test  nearestGene_EFO_0010225_GCST90060151_nearestGe...   \n",
       "..       ...      ...                                                ...   \n",
       "0   0.711073  Control  nearestGeneTH8_EFO_0000731_GCST009158_nearestG...   \n",
       "0   0.161432  Control  nearestGeneTH8_EFO_0009397_GCST90267932_neares...   \n",
       "0   0.437768  Control  nearestGeneTH8_EFO_0000731_GCST90018934_neares...   \n",
       "0   0.919081  Control  nearestGeneTH8_EFO_0004343_GCST90278649_neares...   \n",
       "0   0.077764  Control  nearestGeneTH8_EFO_0004741_GCST90278623_neares...   \n",
       "\n",
       "                                           CleanTrait        StudyR  \\\n",
       "0   EFO_0007117_GCST90100572_EFO_0007117_GCST90100572  GCST90100572   \n",
       "0   EFO_0000731_GCST90018934_EFO_0000731_GCST90018934  GCST90018934   \n",
       "0   EFO_0009397_GCST90267932_EFO_0009397_GCST90267932  GCST90267932   \n",
       "0   EFO_0010225_GCST90060164_EFO_0010225_GCST90060164  GCST90060164   \n",
       "0   EFO_0010225_GCST90060151_EFO_0010225_GCST90060151  GCST90060151   \n",
       "..                                                ...           ...   \n",
       "0     EFO_0000731_GCST009158_EFO_0004741_GCST90018728    GCST009158   \n",
       "0   EFO_0009397_GCST90267932_EFO_0021898_GCST90269581  GCST90267932   \n",
       "0     EFO_0000731_GCST90018934_EFO_0004343_GCST008998  GCST90018934   \n",
       "0   EFO_0004343_GCST90278649_EFO_0007117_GCST90100573  GCST90278649   \n",
       "0     EFO_0004741_GCST90278623_EFO_0006525_GCST007459  GCST90278623   \n",
       "\n",
       "          StudyC         EFOR         EFOC  \\\n",
       "0   GCST90100572  EFO_0007117  EFO_0007117   \n",
       "0   GCST90018934  EFO_0000731  EFO_0000731   \n",
       "0   GCST90267932  EFO_0009397  EFO_0009397   \n",
       "0   GCST90060164  EFO_0010225  EFO_0010225   \n",
       "0   GCST90060151  EFO_0010225  EFO_0010225   \n",
       "..           ...          ...          ...   \n",
       "0   GCST90018728  EFO_0000731  EFO_0004741   \n",
       "0   GCST90269581  EFO_0009397  EFO_0021898   \n",
       "0     GCST008998  EFO_0000731  EFO_0004343   \n",
       "0   GCST90100573  EFO_0004343  EFO_0007117   \n",
       "0     GCST007459  EFO_0004741  EFO_0006525   \n",
       "\n",
       "                                            testID  \n",
       "0   GCST90100572GCST90100572EFO_0007117EFO_0007117  \n",
       "0   GCST90018934GCST90018934EFO_0000731EFO_0000731  \n",
       "0   GCST90267932GCST90267932EFO_0009397EFO_0009397  \n",
       "0   GCST90060164GCST90060164EFO_0010225EFO_0010225  \n",
       "0   GCST90060151GCST90060151EFO_0010225EFO_0010225  \n",
       "..                                             ...  \n",
       "0     GCST009158GCST90018728EFO_0000731EFO_0004741  \n",
       "0   GCST90267932GCST90269581EFO_0009397EFO_0021898  \n",
       "0     GCST90018934GCST008998EFO_0000731EFO_0004343  \n",
       "0   GCST90278649GCST90100573EFO_0004343EFO_0007117  \n",
       "0     GCST90278623GCST007459EFO_0004741EFO_0006525  \n",
       "\n",
       "[118 rows x 23 columns]"
      ]
     },
     "execution_count": 344,
     "metadata": {},
     "output_type": "execute_result"
    },
    {
     "data": {
      "image/png": "[encoded data removed]",
      "text/plain": [
       "<Figure size 500x150 with 2 Axes>"
      ]
     },
     "metadata": {},
     "output_type": "display_data"
    }
   ],
   "source": [
    "_, [ax1, ax2] = plt.subplots(nrows=1, ncols=2, figsize=(5,1.5), sharey=True)  \n",
    "a = plot_pair_auc(ng_th, ng_th_df, ax=ax1, group='sum', stat='logp_size', group_col='Norm', group2_col='Group', color='#97247C', text_p=False, text_n=True)\n",
    "plot_pair_auc(ng_th, ng_th_df, ax=ax2, group='binary', stat='logp_size', group_col='Norm', group2_col='Group', color='#F36F38')\n"
   ]
  },
  {
   "cell_type": "markdown",
   "metadata": {},
   "source": [
    "## Identify threholds based on FDR"
   ]
  },
  {
   "cell_type": "code",
   "execution_count": 377,
   "metadata": {
    "ExecuteTime": {
     "end_time": "2025-04-03T21:37:30.545244Z",
     "start_time": "2025-04-03T21:37:30.541375Z"
    }
   },
   "outputs": [],
   "source": [
    "fdr_df = all_df[(all_df.Norm=='sum')].dropna()"
   ]
  },
  {
   "cell_type": "code",
   "execution_count": 378,
   "metadata": {
    "ExecuteTime": {
     "end_time": "2025-04-03T21:37:32.100396Z",
     "start_time": "2025-04-03T21:37:32.083069Z"
    }
   },
   "outputs": [],
   "source": [
    "fdr_df = fdr_df.sort_values(by='SizeOE', ascending=False)\n",
    "fdr = []\n",
    "val = []\n",
    "fp = 0\n",
    "tp = 0\n",
    "for row in fdr_df.iterrows():\n",
    "    if row[1]['Set'] == 'Test':\n",
    "        tp +=1\n",
    "    else:\n",
    "        fp +=1\n",
    "    fdr.append(fp / (fp+tp))\n",
    "    val.append(row[1]['SizeOE'])\n"
   ]
  },
  {
   "cell_type": "code",
   "execution_count": 402,
   "metadata": {
    "ExecuteTime": {
     "end_time": "2025-04-03T21:46:45.851853Z",
     "start_time": "2025-04-03T21:46:45.845550Z"
    }
   },
   "outputs": [],
   "source": [
    "fdr_df['directed_p'] = fdr_df.apply(lambda z: z['logp_size'] if z.SizeOE>=0 else -1* z.logp_size, axis=1)"
   ]
  },
  {
   "cell_type": "code",
   "execution_count": 380,
   "metadata": {
    "ExecuteTime": {
     "end_time": "2025-04-03T21:37:35.220214Z",
     "start_time": "2025-04-03T21:37:35.218412Z"
    }
   },
   "outputs": [],
   "source": [
    "from sklearn.metrics import roc_auc_score"
   ]
  },
  {
   "cell_type": "code",
   "execution_count": 381,
   "metadata": {
    "ExecuteTime": {
     "end_time": "2025-04-03T21:37:35.672799Z",
     "start_time": "2025-04-03T21:37:35.667734Z"
    }
   },
   "outputs": [
    {
     "data": {
      "text/plain": [
       "0.8394424367578731"
      ]
     },
     "execution_count": 381,
     "metadata": {},
     "output_type": "execute_result"
    }
   ],
   "source": [
    "roc_auc_score(y_true=fdr_df.Set=='Test', y_score=fdr_df.SizeOE)"
   ]
  },
  {
   "cell_type": "code",
   "execution_count": 382,
   "metadata": {
    "ExecuteTime": {
     "end_time": "2025-04-03T21:37:36.359856Z",
     "start_time": "2025-04-03T21:37:36.355263Z"
    }
   },
   "outputs": [
    {
     "data": {
      "text/plain": [
       "0.8298547090493399"
      ]
     },
     "execution_count": 382,
     "metadata": {},
     "output_type": "execute_result"
    }
   ],
   "source": [
    "roc_auc_score(y_true=fdr_df.Set=='Test', y_score=fdr_df.logp_size)"
   ]
  },
  {
   "cell_type": "code",
   "execution_count": 383,
   "metadata": {
    "ExecuteTime": {
     "end_time": "2025-04-03T21:37:37.053827Z",
     "start_time": "2025-04-03T21:37:37.049309Z"
    }
   },
   "outputs": [
    {
     "data": {
      "text/plain": [
       "0.8368242495759275"
      ]
     },
     "execution_count": 383,
     "metadata": {},
     "output_type": "execute_result"
    }
   ],
   "source": [
    "roc_auc_score(y_true=fdr_df.Set=='Test', y_score=fdr_df.directed_p)"
   ]
  },
  {
   "cell_type": "code",
   "execution_count": 434,
   "metadata": {
    "ExecuteTime": {
     "end_time": "2025-04-03T21:56:42.927227Z",
     "start_time": "2025-04-03T21:56:42.677879Z"
    }
   },
   "outputs": [
    {
     "data": {
      "image/png": "[encoded data removed]",
      "text/plain": [
       "<Figure size 250x200 with 2 Axes>"
      ]
     },
     "metadata": {},
     "output_type": "display_data"
    }
   ],
   "source": [
    "_, [ax1, ax2] = plt.subplots(nrows=1, ncols=2, figsize=(2.5, 2), sharey=True, gridspec_kw={'wspace':0.1})\n",
    "sns.violinplot(fdr_df, x='Set', y='SizeOE', hue='Set', ax=ax1, cut=0, palette=['#97247C', 'grey'])\n",
    "ax1.hlines(y=0, xmin=-0.5, xmax=1.5, color='black', linewidth=0.5)\n",
    "ax1.set_xlim(-0.5, 1.5)\n",
    "ax1.set_ylabel('Coloc Score')\n",
    "_ = ax1.set_yticks([-1, 0,  1, 2], [0.5, 1, 2, 4])\n",
    "_ = ax1.set_yticks(np.log2([3,5,6,7]), minor=True)\n",
    "\n",
    "fdr_df = fdr_df.sort_values(by='SizeOE', ascending=False)\n",
    "fdr = []\n",
    "val = []\n",
    "count_tp = []\n",
    "sensitivity =[]\n",
    "fp = 0\n",
    "tp = 0\n",
    "total_pos = fdr_df[fdr_df.Norm=='sum'].Set.value_counts()['Test']\n",
    "for row in fdr_df.iterrows():\n",
    "    if row[1]['Set'] == 'Test':\n",
    "        tp +=1\n",
    "    else:\n",
    "        fp +=1\n",
    "    count_tp.append(tp)\n",
    "    fdr.append(fp / (fp+tp))\n",
    "    val.append(row[1]['SizeOE'])\n",
    "    sensitivity.append(tp/(total_pos))\n",
    "    val\n",
    "\n",
    "#_,  [ax1, ax2] = plt.subplots(nrows=2, ncols=1, figsize=(5, 5))\n",
    "ax2.plot(fdr, val, color=\"#97247C\", drawstyle=\"steps-post\")\n",
    "ax2.set_xlabel('False Discovery Rate')\n",
    "_ = ax2.set_xticks([0, 0.1, 0.2, 0.3, 0.4, 0.5], labels=[0, '', 0.2, '', 0.4, 0.5])\n",
    "\n",
    "\n",
    "\n",
    "ax1.set_xticks([0,1], labels=[f'{s}\\n(n={fdr_df.Set.value_counts()[s]})' for s in ['Test', 'Control']])\n",
    "ax1.set_xlabel('')\n",
    "ax2.vlines(x=[0.05, 0.2], ymin=-1.5, ymax=2.5, linestyle='--', color='black', linewidth=0.5)\n",
    "ax2.hlines(y=0, xmin=-0.1, xmax=0.52, color='black', linewidth=0.5)\n",
    "ax2.hlines(y=np.log2(1.3), xmin=-0.1, xmax=0.52, color='grey', linewidth=0.5)\n",
    "ax2.hlines(y=np.log2(2.5) xmin=-0.1, xmax=0.52, color='grey', linewidth=0.5)\n",
    "ax2.set_xlim(-0.02, 0.51)\n",
    "ax2.set_ylim(-1.5, 2.5)\n",
    "#sns.lineplot(pd.DataFrame({'x':fdr, 'y':val}),x='x', y='y', ax=ax2, markers=True)\n",
    "#sns.lineplot(pd.DataFrame({'x':val, 'y':sensitivity}),x='x', y='y', ax=ax2)\n",
    "#sns.lineplot(pd.DataFrame({'x':val, 'y':count_tp}),x='x', y='y', ax=ax2)    \n",
    "plt.savefig(os.path.join(figdir, 'violin_plus_fdr.svg'), bbox_inches='tight')"
   ]
  },
  {
   "cell_type": "code",
   "execution_count": 432,
   "metadata": {
    "ExecuteTime": {
     "end_time": "2025-04-03T21:54:24.344816Z",
     "start_time": "2025-04-03T21:54:24.341965Z"
    }
   },
   "outputs": [
    {
     "name": "stdout",
     "output_type": "stream",
     "text": [
      "Low value: 1.2970331939757214\n",
      "High value: 2.898462752477351\n"
     ]
    }
   ],
   "source": [
    "print('Low value:', 2**(val[[i for i in range(len(fdr)) if fdr[i] > 0.20][0]]))\n",
    "print('High value:',2**(val[[i for i in range(len(fdr)) if fdr[i] > 0.05][0]]))"
   ]
  },
  {
   "cell_type": "code",
   "execution_count": null,
   "metadata": {},
   "outputs": [],
   "source": [
    "2.5, 1.3?"
   ]
  },
  {
   "cell_type": "code",
   "execution_count": 401,
   "metadata": {
    "ExecuteTime": {
     "end_time": "2025-04-03T21:46:39.164123Z",
     "start_time": "2025-04-03T21:46:39.161058Z"
    }
   },
   "outputs": [
    {
     "data": {
      "text/plain": [
       "Index(['TraitR', 'TraitC', 'Network', 'Transform', 'Norm', 'Mean_NPS',\n",
       "       'Null_mean_NPS', 'P_mean_NPS', 'Size', 'Null_Size', 'P_size', 'Group',\n",
       "       'logp_nps', 'logp_size', 'SizeOE', 'Set', 'FullTrait', 'CleanTrait',\n",
       "       'StudyR', 'StudyC', 'EFOR', 'EFOC', 'testID', 'directed_p'],\n",
       "      dtype='object')"
      ]
     },
     "execution_count": 401,
     "metadata": {},
     "output_type": "execute_result"
    }
   ],
   "source": [
    "fdr_df.columns"
   ]
  },
  {
   "cell_type": "code",
   "execution_count": 406,
   "metadata": {
    "ExecuteTime": {
     "end_time": "2025-04-03T21:47:48.025818Z",
     "start_time": "2025-04-03T21:47:47.847934Z"
    }
   },
   "outputs": [
    {
     "data": {
      "text/plain": [
       "(-0.02, 0.51)"
      ]
     },
     "execution_count": 406,
     "metadata": {},
     "output_type": "execute_result"
    },
    {
     "data": {
      "image/png": "[encoded data removed]",
      "text/plain": [
       "<Figure size 250x200 with 2 Axes>"
      ]
     },
     "metadata": {},
     "output_type": "display_data"
    }
   ],
   "source": [
    "_, [ax1, ax2] = plt.subplots(nrows=1, ncols=2, figsize=(2.5, 2), sharey=True, gridspec_kw={'wspace':0.1})\n",
    "sns.violinplot(fdr_df, x='Set', y='directed_p', hue='Set', ax=ax1, cut=0, palette=['#97247C', 'grey'])\n",
    "ax1.hlines(y=0, xmin=-0.5, xmax=1.5, color='black', linewidth=0.5)\n",
    "ax1.set_xlim(-0.5, 1.5)\n",
    "ax1.set_ylabel('Coloc Score')\n",
    "#_ = ax1.set_yticks([-1, 0,  1, 2], [0.5, 1, 2, 4])\n",
    "#_ = ax1.set_yticks(np.log2([3,5,6,7]), minor=True)\n",
    "\n",
    "fdr_df = fdr_df.sort_values(by='directed_p', ascending=False)\n",
    "fdr = []\n",
    "val = []\n",
    "count_tp = []\n",
    "sensitivity =[]\n",
    "fp = 0\n",
    "tp = 0\n",
    "total_pos = fdr_df[fdr_df.Norm=='sum'].Set.value_counts()['Test']\n",
    "for row in fdr_df.iterrows():\n",
    "    if row[1]['Set'] == 'Test':\n",
    "        tp +=1\n",
    "    else:\n",
    "        fp +=1\n",
    "    count_tp.append(tp)\n",
    "    fdr.append(fp / (fp+tp))\n",
    "    val.append(row[1]['directed_p'])\n",
    "    sensitivity.append(tp/(total_pos))\n",
    "    val\n",
    "\n",
    "#_,  [ax1, ax2] = plt.subplots(nrows=2, ncols=1, figsize=(5, 5))\n",
    "ax2.plot(fdr, val, color=\"#97247C\", drawstyle=\"steps-post\")\n",
    "ax2.set_xlabel('False Discovery Rate')\n",
    "_ = ax2.set_xticks([0, 0.1, 0.2, 0.3, 0.4, 0.5], labels=[0, '', 0.2, '', 0.4, 0.5])\n",
    "\n",
    "\n",
    "\n",
    "ax1.set_xticks([0,1], labels=[f'{s}\\n(n={fdr_df.Set.value_counts()[s]})' for s in ['Test', 'Control']])\n",
    "ax1.set_xlabel('')\n",
    "ax2.vlines(x=[0.05, 0.2], ymin=-20, ymax=250, linestyle='--', color='black', linewidth=0.5)\n",
    "ax2.hlines(y=0, xmin=-0.1, xmax=0.52, color='black', linewidth=0.5)\n",
    "ax2.set_xlim(-0.02, 0.51)\n",
    "#ax2.set_ylim(-1.5, 2.5)\n",
    "#sns.lineplot(pd.DataFrame({'x':fdr, 'y':val}),x='x', y='y', ax=ax2, markers=True)\n",
    "#sns.lineplot(pd.DataFrame({'x':val, 'y':sensitivity}),x='x', y='y', ax=ax2)\n",
    "#sns.lineplot(pd.DataFrame({'x':val, 'y':count_tp}),x='x', y='y', ax=ax2)    \n",
    "#plt.savefig(os.path.join(figdir, 'violin_plus_fdr.svg'), bbox_inches='tight')"
   ]
  },
  {
   "cell_type": "code",
   "execution_count": 427,
   "metadata": {
    "ExecuteTime": {
     "end_time": "2025-04-03T21:52:10.674802Z",
     "start_time": "2025-04-03T21:52:10.671648Z"
    }
   },
   "outputs": [
    {
     "name": "stdout",
     "output_type": "stream",
     "text": [
      "Low value: 4.6302277114030375\n",
      "High value: 183.45954538632859\n"
     ]
    }
   ],
   "source": [
    "print('Low value:', val[[i for i in range(len(fdr)) if fdr[i] > 0.20][0]])\n",
    "print('High value:', val[[i for i in range(len(fdr)) if fdr[i] > 0.05][0]])"
   ]
  },
  {
   "cell_type": "code",
   "execution_count": 424,
   "metadata": {
    "ExecuteTime": {
     "end_time": "2025-04-03T21:51:50.033952Z",
     "start_time": "2025-04-03T21:51:50.031108Z"
    }
   },
   "outputs": [
    {
     "data": {
      "text/plain": [
       "-4.301029995663981"
      ]
     },
     "execution_count": 424,
     "metadata": {},
     "output_type": "execute_result"
    }
   ],
   "source": [
    "np.log10(0.00005)"
   ]
  },
  {
   "cell_type": "code",
   "execution_count": 428,
   "metadata": {
    "ExecuteTime": {
     "end_time": "2025-04-03T21:52:23.643737Z",
     "start_time": "2025-04-03T21:52:23.641081Z"
    }
   },
   "outputs": [
    {
     "data": {
      "text/plain": [
       "0.015000000000000001"
      ]
     },
     "execution_count": 428,
     "metadata": {},
     "output_type": "execute_result"
    }
   ],
   "source": [
    "0.00005 * 300"
   ]
  },
  {
   "cell_type": "code",
   "execution_count": 53,
   "metadata": {
    "ExecuteTime": {
     "end_time": "2025-04-03T17:47:42.511330Z",
     "start_time": "2025-04-03T17:47:42.393459Z"
    }
   },
   "outputs": [
    {
     "data": {
      "text/plain": [
       "<matplotlib.collections.LineCollection at 0x155519effa60>"
      ]
     },
     "execution_count": 53,
     "metadata": {},
     "output_type": "execute_result"
    },
    {
     "data": {
      "image/png": "[encoded data removed]",
      "text/plain": [
       "<Figure size 640x480 with 1 Axes>"
      ]
     },
     "metadata": {},
     "output_type": "display_data"
    }
   ],
   "source": [
    "sns.scatterplot(fdr_df, x='SizeOE', y='logp_size')\n",
    "plt.vlines(x = [0.5, 1], ymin=-1, ymax=250)\n",
    "plt.hlines(y= [3, 60], xmin=-1, xmax=2)"
   ]
  },
  {
   "cell_type": "code",
   "execution_count": 54,
   "metadata": {
    "ExecuteTime": {
     "end_time": "2025-04-03T17:47:45.094823Z",
     "start_time": "2025-04-03T17:47:44.831695Z"
    }
   },
   "outputs": [
    {
     "data": {
      "text/plain": [
       "<matplotlib.collections.LineCollection at 0x155519fd90c0>"
      ]
     },
     "execution_count": 54,
     "metadata": {},
     "output_type": "execute_result"
    },
    {
     "data": {
      "image/png": "[encoded data removed]",
      "text/plain": [
       "<Figure size 500x500 with 2 Axes>"
      ]
     },
     "metadata": {},
     "output_type": "display_data"
    }
   ],
   "source": [
    "fdr_df = fdr_df.sort_values(by='directed_p', ascending=False)\n",
    "fdr = []\n",
    "val = []\n",
    "count_tp = []\n",
    "fp = 0\n",
    "tp = 0\n",
    "for row in fdr_df.iterrows():\n",
    "    if row[1]['Set'] == 'Test':\n",
    "        tp +=1\n",
    "    else:\n",
    "        fp +=1\n",
    "    count_tp.append(tp)\n",
    "    fdr.append(fp / (fp+tp))\n",
    "    val.append(row[1]['directed_p'])\n",
    "\n",
    "_,  [ax1, ax2] = plt.subplots(nrows=2, ncols=1, figsize=(5, 5))\n",
    "sns.lineplot(pd.DataFrame({'x':val, 'y':fdr}),x='x', y='y', ax=ax1)\n",
    "sns.lineplot(pd.DataFrame({'x':val, 'y':count_tp}),x='x', y='y', ax=ax2)\n",
    "#ax1.hlines(y=0.2, xmin=0, xmax=260)\n",
    "#ax2.hlines(y=40, xmin=0, xmax=260)\n",
    "\n",
    "ax1.vlines(x= val[[i for i in range(len(fdr)) if fdr[i] > 0.20][0]], ymin=0, ymax=0.5 )\n",
    "ax1.vlines(x= val[[i for i in range(len(fdr)) if fdr[i] > 0.05][0]], ymin=0, ymax=0.5 )\n",
    "ax2.hlines(y= count_tp[[i for i in range(len(fdr)) if fdr[i] > 0.20][0]], xmin=-10, xmax=250 )\n",
    "ax2.hlines(y= count_tp[[i for i in range(len(fdr)) if fdr[i] > 0.05][0]], xmin=-10, xmax=250 )"
   ]
  },
  {
   "cell_type": "code",
   "execution_count": 55,
   "metadata": {
    "ExecuteTime": {
     "end_time": "2025-04-03T17:47:48.043237Z",
     "start_time": "2025-04-03T17:47:48.040563Z"
    }
   },
   "outputs": [
    {
     "name": "stdout",
     "output_type": "stream",
     "text": [
      "Low value: 5.578889870206566\n",
      "High value: 59.52695119491146\n"
     ]
    }
   ],
   "source": [
    "print('Low value:', val[[i for i in range(len(fdr)) if fdr[i] > 0.2][0]])\n",
    "print('High value:', val[[i for i in range(len(fdr)) if fdr[i] > 0.05][0]])"
   ]
  },
  {
   "cell_type": "code",
   "execution_count": 56,
   "metadata": {
    "ExecuteTime": {
     "end_time": "2025-04-03T17:48:10.432865Z",
     "start_time": "2025-04-03T17:48:10.222162Z"
    }
   },
   "outputs": [
    {
     "data": {
      "text/plain": [
       "<matplotlib.collections.LineCollection at 0x155519e9e290>"
      ]
     },
     "execution_count": 56,
     "metadata": {},
     "output_type": "execute_result"
    },
    {
     "data": {
      "image/png": "[encoded data removed]",
      "text/plain": [
       "<Figure size 500x500 with 2 Axes>"
      ]
     },
     "metadata": {},
     "output_type": "display_data"
    }
   ],
   "source": [
    "fdr_df = fdr_df.sort_values(by='SizeOE', ascending=False)\n",
    "fdr = []\n",
    "val = []\n",
    "count_tp = []\n",
    "sensitivity =[]\n",
    "fp = 0\n",
    "tp = 0\n",
    "total_pos = fdr_df[fdr_df.Norm=='sum'].Set.value_counts()['Test']\n",
    "for row in fdr_df.iterrows():\n",
    "    if row[1]['Set'] == 'Test':\n",
    "        tp +=1\n",
    "    else:\n",
    "        fp +=1\n",
    "    count_tp.append(tp)\n",
    "    fdr.append(fp / (fp+tp))\n",
    "    val.append(row[1]['SizeOE'])\n",
    "    sensitivity.append(tp/(total_pos))\n",
    "    val\n",
    "\n",
    "_,  [ax1, ax2] = plt.subplots(nrows=2, ncols=1, figsize=(5, 5))\n",
    "sns.lineplot(pd.DataFrame({'x':val, 'y':fdr}),x='x', y='y', ax=ax1)\n",
    "sns.lineplot(pd.DataFrame({'x':val, 'y':sensitivity}),x='x', y='y', ax=ax1)\n",
    "sns.lineplot(pd.DataFrame({'x':val, 'y':count_tp}),x='x', y='y', ax=ax2)    \n",
    "#ax1.hlines(y=0.05, xmin=-1, xmax=2)\n",
    "#ax2.hlines(y=35, xmin=-1, xmax=2)\n",
    "\n",
    "ax1.vlines(x= val[[i for i in range(len(fdr)) if fdr[i] > 0.2][0]], ymin=0, ymax=1 )\n",
    "ax1.vlines(x= val[[i for i in range(len(fdr)) if fdr[i] > 0.05][0]], ymin=0, ymax=1 )\n",
    "ax2.hlines(y= count_tp[[i for i in range(len(fdr)) if fdr[i] > 0.2][0]], xmin=-1, xmax=2)\n",
    "ax2.hlines(y= count_tp[[i for i in range(len(fdr)) if fdr[i] > 0.05][0]], xmin=-1, xmax=2)"
   ]
  },
  {
   "cell_type": "code",
   "execution_count": 57,
   "metadata": {
    "ExecuteTime": {
     "end_time": "2025-04-03T17:48:12.914164Z",
     "start_time": "2025-04-03T17:48:12.911054Z"
    }
   },
   "outputs": [
    {
     "name": "stdout",
     "output_type": "stream",
     "text": [
      "Low value: 0.3488944409243706\n",
      "High value: 1.0310403369413843\n"
     ]
    }
   ],
   "source": [
    "print('Low value:', val[[i for i in range(len(fdr)) if fdr[i] > 0.20][0]])\n",
    "print('High value:',val[[i for i in range(len(fdr)) if fdr[i] > 0.05][0]])"
   ]
  },
  {
   "cell_type": "code",
   "execution_count": 58,
   "metadata": {
    "ExecuteTime": {
     "end_time": "2025-04-03T17:48:13.836425Z",
     "start_time": "2025-04-03T17:48:13.730856Z"
    }
   },
   "outputs": [
    {
     "data": {
      "text/plain": [
       "<Axes: xlabel='x', ylabel='y'>"
      ]
     },
     "execution_count": 58,
     "metadata": {},
     "output_type": "execute_result"
    },
    {
     "data": {
      "image/png": "[encoded data removed]",
      "text/plain": [
       "<Figure size 640x480 with 1 Axes>"
      ]
     },
     "metadata": {},
     "output_type": "display_data"
    }
   ],
   "source": [
    "sns.lineplot(pd.DataFrame({'x':val, 'y':count_tp}),x='x', y='y')"
   ]
  },
  {
   "cell_type": "code",
   "execution_count": 60,
   "metadata": {
    "ExecuteTime": {
     "end_time": "2025-04-03T17:48:15.987790Z",
     "start_time": "2025-04-03T17:48:15.983839Z"
    }
   },
   "outputs": [
    {
     "data": {
      "text/plain": [
       "TraitR                        nearestGene_EFO_0009397_GCST90267931\n",
       "TraitC                        nearestGene_EFO_0009397_GCST90267931\n",
       "Network                                                   pcnet2_0\n",
       "Transform                                                 neglog10\n",
       "Norm                                                           sum\n",
       "Mean_NPS                                                 -0.081031\n",
       "Null_mean_NPS                                             0.001753\n",
       "P_mean_NPS                                                     0.0\n",
       "Size                                                            65\n",
       "Null_Size                                                  130.665\n",
       "P_size                                                         0.0\n",
       "Group                                                  nearestGene\n",
       "logp_nps                                                 44.973058\n",
       "logp_size                                                 8.801618\n",
       "SizeOE                                                   -1.007361\n",
       "Set                                                           Test\n",
       "FullTrait        nearestGene_EFO_0009397_GCST90267931_nearestGe...\n",
       "CleanTrait       EFO_0009397_GCST90267931_EFO_0009397_GCST90267931\n",
       "StudyR                                                GCST90267931\n",
       "StudyC                                                GCST90267931\n",
       "EFOR                                                   EFO_0009397\n",
       "EFOC                                                   EFO_0009397\n",
       "testID              GCST90267931GCST90267931EFO_0009397EFO_0009397\n",
       "directed_p                                               -8.801618\n",
       "Name: 0, dtype: object"
      ]
     },
     "execution_count": 60,
     "metadata": {},
     "output_type": "execute_result"
    }
   ],
   "source": [
    "row[1]"
   ]
  },
  {
   "cell_type": "code",
   "execution_count": 350,
   "metadata": {
    "ExecuteTime": {
     "end_time": "2025-04-03T21:19:00.901141Z",
     "start_time": "2025-04-03T21:19:00.226330Z"
    }
   },
   "outputs": [
    {
     "data": {
      "image/png": "[encoded data removed]",
      "text/plain": [
       "<Figure size 400x250 with 4 Axes>"
      ]
     },
     "metadata": {},
     "output_type": "display_data"
    }
   ],
   "source": [
    "_, [[ax1, ax2], [ax3, ax4]] = plt.subplots(nrows=2, ncols=2, figsize=(4,2.5), sharey='row', sharex=True, \n",
    "                                          gridspec_kw={'wspace':0.05, 'hspace':0.1})    \n",
    "\n",
    "a = plot_pair_auc(ng_th, ng_th_df, ax=ax1, group='sum', stat='SizeOE', group_col='Norm', group2_col='Group', color='#97247C')\n",
    "plot_pair_auc(ng_th, ng_th_df, ax=ax2, group='binary', stat='SizeOE', group_col='Norm', group2_col='Group', color='#F36F38')\n",
    "\n",
    "plot_pair_auc(ng_th, ng_th_df, ax=ax3, group='sum', stat='logp_size', group_col='Norm', group2_col='Group', color='#97247C')\n",
    "plot_pair_auc(ng_th, ng_th_df, ax=ax4, group='binary', stat='logp_size', group_col='Norm', group2_col='Group', color='#F36F38')\n",
    "for ax in [ax1, ax2, ax3, ax4]:\n",
    "    ax.hlines(y=0, xmin=-0.5, xmax=1.5, color='black', linewidth=0.5, zorder=0)\n",
    "    ax.set_xlim(-0.5, 1.5)\n",
    "    ax.set_xticks([0,1], labels=['\\nLenient pth', '\\nStrict pth'])\n",
    "for ax in [ax1, ax2]:\n",
    "    ax.set_ylim(-1.5, 3)\n",
    "    ax.set_yticks([-1, 0, 1, 2])\n",
    "\n",
    "ax3.set_xlabel(f'Q-NetColoc, Direct S2G')\n",
    "ax4.set_xlabel(f'B-NetColoc, Direct S2G')\n",
    "#ax1.set_ylabel('Log2SizeOE')\n",
    "ax3.set_ylabel('Coloc P')\n",
    "plt.savefig(os.path.join(figdir, 'assocp_compare_ng.svg'), bbox_inches='tight')"
   ]
  },
  {
   "cell_type": "code",
   "execution_count": 364,
   "metadata": {
    "ExecuteTime": {
     "end_time": "2025-04-03T21:34:08.358349Z",
     "start_time": "2025-04-03T21:34:08.353681Z"
    }
   },
   "outputs": [
    {
     "data": {
      "text/plain": [
       "stat\n",
       "SizeOE       0.831609\n",
       "logp_size    0.827874\n",
       "Name: AUC, dtype: float64"
      ]
     },
     "execution_count": 364,
     "metadata": {},
     "output_type": "execute_result"
    }
   ],
   "source": [
    "ng_th[ng_th.stat.isin(['SizeOE', 'logp_size'])].groupby('stat').AUC.mean()"
   ]
  },
  {
   "cell_type": "code",
   "execution_count": 365,
   "metadata": {
    "ExecuteTime": {
     "end_time": "2025-04-03T21:34:14.797608Z",
     "start_time": "2025-04-03T21:34:14.793107Z"
    }
   },
   "outputs": [
    {
     "data": {
      "text/plain": [
       "stat\n",
       "SizeOE       0.880072\n",
       "logp_size    0.881028\n",
       "Name: AUC, dtype: float64"
      ]
     },
     "execution_count": 365,
     "metadata": {},
     "output_type": "execute_result"
    }
   ],
   "source": [
    "magma_th[magma_th.stat.isin(['SizeOE', 'logp_size'])].groupby('stat').AUC.mean()"
   ]
  },
  {
   "cell_type": "code",
   "execution_count": 348,
   "metadata": {
    "ExecuteTime": {
     "end_time": "2025-04-03T21:18:12.883712Z",
     "start_time": "2025-04-03T21:18:12.094208Z"
    }
   },
   "outputs": [
    {
     "data": {
      "image/png": "[encoded data removed]",
      "text/plain": [
       "<Figure size 400x250 with 4 Axes>"
      ]
     },
     "metadata": {},
     "output_type": "display_data"
    }
   ],
   "source": [
    "_, [[ax1, ax2], [ax3, ax4]] = plt.subplots(nrows=2, ncols=2, figsize=(4,2.5), sharey='row', sharex=True, \n",
    "                                          gridspec_kw={'wspace':0.05, 'hspace':0.1})    \n",
    "\n",
    "a = plot_pair_auc(magma_th, magma_th_df.reset_index(), ax=ax1, group='sum', stat='SizeOE', group_col='Norm', group2_col='Group', color='#97247C')\n",
    "plot_pair_auc(magma_th, magma_th_df.reset_index(), ax=ax2, group='binary', stat='SizeOE', group_col='Norm', group2_col='Group', color='#F36F38')\n",
    "\n",
    "a = plot_pair_auc(magma_th, magma_th_df.reset_index(), ax=ax3, group='sum', stat='logp_size', group_col='Norm', group2_col='Group', color='#97247C')\n",
    "plot_pair_auc(magma_th, magma_th_df.reset_index(), ax=ax4, group='binary', stat='logp_size', group_col='Norm', group2_col='Group', color='#F36F38')\n",
    "for ax in [ax1, ax2, ax3, ax4]:\n",
    "    ax.hlines(y=0, xmin=-0.5, xmax=1.5, color='black', linewidth=0.5, zorder=0)\n",
    "    ax.set_xlim(-0.5, 1.5)\n",
    "    ax.set_xticks([0,1], labels=['\\nLenient pth', '\\nStrict pth'])\n",
    "for ax in [ax1, ax2]:\n",
    "    ax.set_ylim(-1.5, 3)\n",
    "    ax.set_yticks([-1, 0, 1, 2])\n",
    "\n",
    "ax3.set_xlabel('Q-NetColoc, MAGMA')\n",
    "ax4.set_xlabel('B-NetColoc, MAGMA')\n",
    "#ax1.set_ylabel('Log2SizeOE')\n",
    "ax3.set_ylabel('Coloc P')\n",
    "plt.savefig(os.path.join(figdir, 'assocp_compare_magma.svg'), bbox_inches='tight')"
   ]
  },
  {
   "cell_type": "code",
   "execution_count": 351,
   "metadata": {
    "ExecuteTime": {
     "end_time": "2025-04-03T21:25:35.139599Z",
     "start_time": "2025-04-03T21:25:35.124864Z"
    }
   },
   "outputs": [
    {
     "data": {
      "text/html": [
       "<div>\n",
       "<style scoped>\n",
       "    .dataframe tbody tr th:only-of-type {\n",
       "        vertical-align: middle;\n",
       "    }\n",
       "\n",
       "    .dataframe tbody tr th {\n",
       "        vertical-align: top;\n",
       "    }\n",
       "\n",
       "    .dataframe thead th {\n",
       "        text-align: right;\n",
       "    }\n",
       "</style>\n",
       "<table border=\"1\" class=\"dataframe\">\n",
       "  <thead>\n",
       "    <tr style=\"text-align: right;\">\n",
       "      <th></th>\n",
       "      <th>TraitR</th>\n",
       "      <th>TraitC</th>\n",
       "      <th>Network</th>\n",
       "      <th>Transform</th>\n",
       "      <th>Norm</th>\n",
       "      <th>Mean_NPS</th>\n",
       "      <th>Null_mean_NPS</th>\n",
       "      <th>P_mean_NPS</th>\n",
       "      <th>Size</th>\n",
       "      <th>Null_Size</th>\n",
       "      <th>...</th>\n",
       "      <th>logp_size</th>\n",
       "      <th>SizeOE</th>\n",
       "      <th>Set</th>\n",
       "      <th>FullTrait</th>\n",
       "      <th>CleanTrait</th>\n",
       "      <th>StudyR</th>\n",
       "      <th>StudyC</th>\n",
       "      <th>EFOR</th>\n",
       "      <th>EFOC</th>\n",
       "      <th>testID</th>\n",
       "    </tr>\n",
       "  </thead>\n",
       "  <tbody>\n",
       "    <tr>\n",
       "      <th>0</th>\n",
       "      <td>nearestGene_EFO_0004741_GCST008062</td>\n",
       "      <td>nearestGene_EFO_0004741_GCST008062</td>\n",
       "      <td>pcnet2_0</td>\n",
       "      <td>neglog10</td>\n",
       "      <td>sum</td>\n",
       "      <td>0.083334</td>\n",
       "      <td>0.000299</td>\n",
       "      <td>3.507000e-28</td>\n",
       "      <td>275</td>\n",
       "      <td>222.338</td>\n",
       "      <td>...</td>\n",
       "      <td>4.297311</td>\n",
       "      <td>0.306677</td>\n",
       "      <td>Test</td>\n",
       "      <td>nearestGene_EFO_0004741_GCST008062_nearestGene...</td>\n",
       "      <td>EFO_0004741_GCST008062_EFO_0004741_GCST008062</td>\n",
       "      <td>GCST008062</td>\n",
       "      <td>GCST008062</td>\n",
       "      <td>EFO_0004741</td>\n",
       "      <td>EFO_0004741</td>\n",
       "      <td>GCST008062GCST008062EFO_0004741EFO_0004741</td>\n",
       "    </tr>\n",
       "    <tr>\n",
       "      <th>0</th>\n",
       "      <td>nearestGene_EFO_0010821_GCST90016673</td>\n",
       "      <td>nearestGene_EFO_0010821_GCST90016673</td>\n",
       "      <td>pcnet2_0</td>\n",
       "      <td>neglog10</td>\n",
       "      <td>sum</td>\n",
       "      <td>0.431058</td>\n",
       "      <td>-0.000825</td>\n",
       "      <td>0.000000e+00</td>\n",
       "      <td>587</td>\n",
       "      <td>151.837</td>\n",
       "      <td>...</td>\n",
       "      <td>250.000000</td>\n",
       "      <td>1.950837</td>\n",
       "      <td>Test</td>\n",
       "      <td>nearestGene_EFO_0010821_GCST90016673_nearestGe...</td>\n",
       "      <td>EFO_0010821_GCST90016673_EFO_0010821_GCST90016673</td>\n",
       "      <td>GCST90016673</td>\n",
       "      <td>GCST90016673</td>\n",
       "      <td>EFO_0010821</td>\n",
       "      <td>EFO_0010821</td>\n",
       "      <td>GCST90016673GCST90016673EFO_0010821EFO_0010821</td>\n",
       "    </tr>\n",
       "    <tr>\n",
       "      <th>0</th>\n",
       "      <td>nearestGene_EFO_0007117_GCST90100574</td>\n",
       "      <td>nearestGene_EFO_0007117_GCST90100574</td>\n",
       "      <td>pcnet2_0</td>\n",
       "      <td>neglog10</td>\n",
       "      <td>sum</td>\n",
       "      <td>0.081672</td>\n",
       "      <td>0.008164</td>\n",
       "      <td>1.909000e-23</td>\n",
       "      <td>310</td>\n",
       "      <td>239.688</td>\n",
       "      <td>...</td>\n",
       "      <td>6.746662</td>\n",
       "      <td>0.371111</td>\n",
       "      <td>Test</td>\n",
       "      <td>nearestGene_EFO_0007117_GCST90100574_nearestGe...</td>\n",
       "      <td>EFO_0007117_GCST90100574_EFO_0007117_GCST90100574</td>\n",
       "      <td>GCST90100574</td>\n",
       "      <td>GCST90100574</td>\n",
       "      <td>EFO_0007117</td>\n",
       "      <td>EFO_0007117</td>\n",
       "      <td>GCST90100574GCST90100574EFO_0007117EFO_0007117</td>\n",
       "    </tr>\n",
       "    <tr>\n",
       "      <th>0</th>\n",
       "      <td>nearestGene_EFO_0004343_GCST008996</td>\n",
       "      <td>nearestGene_EFO_0004343_GCST008996</td>\n",
       "      <td>pcnet2_0</td>\n",
       "      <td>neglog10</td>\n",
       "      <td>sum</td>\n",
       "      <td>0.349866</td>\n",
       "      <td>0.001183</td>\n",
       "      <td>0.000000e+00</td>\n",
       "      <td>395</td>\n",
       "      <td>221.006</td>\n",
       "      <td>...</td>\n",
       "      <td>38.816730</td>\n",
       "      <td>0.837767</td>\n",
       "      <td>Test</td>\n",
       "      <td>nearestGene_EFO_0004343_GCST008996_nearestGene...</td>\n",
       "      <td>EFO_0004343_GCST008996_EFO_0004343_GCST008996</td>\n",
       "      <td>GCST008996</td>\n",
       "      <td>GCST008996</td>\n",
       "      <td>EFO_0004343</td>\n",
       "      <td>EFO_0004343</td>\n",
       "      <td>GCST008996GCST008996EFO_0004343EFO_0004343</td>\n",
       "    </tr>\n",
       "    <tr>\n",
       "      <th>0</th>\n",
       "      <td>nearestGene_EFO_0004741_GCST90103632</td>\n",
       "      <td>nearestGene_EFO_0004741_GCST90103632</td>\n",
       "      <td>pcnet2_0</td>\n",
       "      <td>neglog10</td>\n",
       "      <td>sum</td>\n",
       "      <td>0.160230</td>\n",
       "      <td>-0.000057</td>\n",
       "      <td>2.147000e-115</td>\n",
       "      <td>288</td>\n",
       "      <td>196.987</td>\n",
       "      <td>...</td>\n",
       "      <td>11.880414</td>\n",
       "      <td>0.547968</td>\n",
       "      <td>Test</td>\n",
       "      <td>nearestGene_EFO_0004741_GCST90103632_nearestGe...</td>\n",
       "      <td>EFO_0004741_GCST90103632_EFO_0004741_GCST90103632</td>\n",
       "      <td>GCST90103632</td>\n",
       "      <td>GCST90103632</td>\n",
       "      <td>EFO_0004741</td>\n",
       "      <td>EFO_0004741</td>\n",
       "      <td>GCST90103632GCST90103632EFO_0004741EFO_0004741</td>\n",
       "    </tr>\n",
       "    <tr>\n",
       "      <th>...</th>\n",
       "      <td>...</td>\n",
       "      <td>...</td>\n",
       "      <td>...</td>\n",
       "      <td>...</td>\n",
       "      <td>...</td>\n",
       "      <td>...</td>\n",
       "      <td>...</td>\n",
       "      <td>...</td>\n",
       "      <td>...</td>\n",
       "      <td>...</td>\n",
       "      <td>...</td>\n",
       "      <td>...</td>\n",
       "      <td>...</td>\n",
       "      <td>...</td>\n",
       "      <td>...</td>\n",
       "      <td>...</td>\n",
       "      <td>...</td>\n",
       "      <td>...</td>\n",
       "      <td>...</td>\n",
       "      <td>...</td>\n",
       "      <td>...</td>\n",
       "    </tr>\n",
       "    <tr>\n",
       "      <th>0</th>\n",
       "      <td>nearestGeneTH8_EFO_0009397_GCST90267932</td>\n",
       "      <td>nearestGeneTH8_EFO_0021898_GCST90269581</td>\n",
       "      <td>pcnet2_0</td>\n",
       "      <td>neglog10</td>\n",
       "      <td>sum</td>\n",
       "      <td>0.049448</td>\n",
       "      <td>0.001563</td>\n",
       "      <td>2.356000e-14</td>\n",
       "      <td>221</td>\n",
       "      <td>190.501</td>\n",
       "      <td>...</td>\n",
       "      <td>2.158453</td>\n",
       "      <td>0.214248</td>\n",
       "      <td>Control</td>\n",
       "      <td>nearestGeneTH8_EFO_0009397_GCST90267932_neares...</td>\n",
       "      <td>EFO_0009397_GCST90267932_EFO_0021898_GCST90269581</td>\n",
       "      <td>GCST90267932</td>\n",
       "      <td>GCST90269581</td>\n",
       "      <td>EFO_0009397</td>\n",
       "      <td>EFO_0021898</td>\n",
       "      <td>GCST90267932GCST90269581EFO_0009397EFO_0021898</td>\n",
       "    </tr>\n",
       "    <tr>\n",
       "      <th>0</th>\n",
       "      <td>nearestGeneTH8_EFO_0000731_GCST90018714</td>\n",
       "      <td>nearestGeneTH8_EFO_0007117_GCST90100574</td>\n",
       "      <td>pcnet2_0</td>\n",
       "      <td>neglog10</td>\n",
       "      <td>sum</td>\n",
       "      <td>-0.016646</td>\n",
       "      <td>-0.001409</td>\n",
       "      <td>9.913000e-01</td>\n",
       "      <td>115</td>\n",
       "      <td>164.347</td>\n",
       "      <td>...</td>\n",
       "      <td>-0.000000</td>\n",
       "      <td>-0.515111</td>\n",
       "      <td>Control</td>\n",
       "      <td>nearestGeneTH8_EFO_0000731_GCST90018714_neares...</td>\n",
       "      <td>EFO_0000731_GCST90018714_EFO_0007117_GCST90100574</td>\n",
       "      <td>GCST90018714</td>\n",
       "      <td>GCST90100574</td>\n",
       "      <td>EFO_0000731</td>\n",
       "      <td>EFO_0007117</td>\n",
       "      <td>GCST90018714GCST90100574EFO_0000731EFO_0007117</td>\n",
       "    </tr>\n",
       "    <tr>\n",
       "      <th>0</th>\n",
       "      <td>nearestGeneTH8_EFO_0006525_GCST007459</td>\n",
       "      <td>nearestGeneTH8_EFO_0004343_GCST008997</td>\n",
       "      <td>pcnet2_0</td>\n",
       "      <td>neglog10</td>\n",
       "      <td>sum</td>\n",
       "      <td>0.073467</td>\n",
       "      <td>0.002376</td>\n",
       "      <td>1.789000e-22</td>\n",
       "      <td>169</td>\n",
       "      <td>167.548</td>\n",
       "      <td>...</td>\n",
       "      <td>0.345246</td>\n",
       "      <td>0.012449</td>\n",
       "      <td>Control</td>\n",
       "      <td>nearestGeneTH8_EFO_0006525_GCST007459_nearestG...</td>\n",
       "      <td>EFO_0006525_GCST007459_EFO_0004343_GCST008997</td>\n",
       "      <td>GCST007459</td>\n",
       "      <td>GCST008997</td>\n",
       "      <td>EFO_0006525</td>\n",
       "      <td>EFO_0004343</td>\n",
       "      <td>GCST007459GCST008997EFO_0006525EFO_0004343</td>\n",
       "    </tr>\n",
       "    <tr>\n",
       "      <th>0</th>\n",
       "      <td>nearestGeneTH8_EFO_0010821_GCST90267352</td>\n",
       "      <td>nearestGeneTH8_EFO_0004741_GCST90278623</td>\n",
       "      <td>pcnet2_0</td>\n",
       "      <td>neglog10</td>\n",
       "      <td>sum</td>\n",
       "      <td>0.041209</td>\n",
       "      <td>0.004128</td>\n",
       "      <td>2.430000e-07</td>\n",
       "      <td>145</td>\n",
       "      <td>181.880</td>\n",
       "      <td>...</td>\n",
       "      <td>0.000652</td>\n",
       "      <td>-0.326934</td>\n",
       "      <td>Control</td>\n",
       "      <td>nearestGeneTH8_EFO_0010821_GCST90267352_neares...</td>\n",
       "      <td>EFO_0010821_GCST90267352_EFO_0004741_GCST90278623</td>\n",
       "      <td>GCST90267352</td>\n",
       "      <td>GCST90278623</td>\n",
       "      <td>EFO_0010821</td>\n",
       "      <td>EFO_0004741</td>\n",
       "      <td>GCST90267352GCST90278623EFO_0010821EFO_0004741</td>\n",
       "    </tr>\n",
       "    <tr>\n",
       "      <th>0</th>\n",
       "      <td>nearestGeneTH8_EFO_0004237_GCST90018627</td>\n",
       "      <td>nearestGeneTH8_EFO_0010225_GCST90060151</td>\n",
       "      <td>pcnet2_0</td>\n",
       "      <td>neglog10</td>\n",
       "      <td>sum</td>\n",
       "      <td>0.130667</td>\n",
       "      <td>0.011817</td>\n",
       "      <td>1.236000e-67</td>\n",
       "      <td>231</td>\n",
       "      <td>147.970</td>\n",
       "      <td>...</td>\n",
       "      <td>14.870632</td>\n",
       "      <td>0.642588</td>\n",
       "      <td>Control</td>\n",
       "      <td>nearestGeneTH8_EFO_0004237_GCST90018627_neares...</td>\n",
       "      <td>EFO_0004237_GCST90018627_EFO_0010225_GCST90060151</td>\n",
       "      <td>GCST90018627</td>\n",
       "      <td>GCST90060151</td>\n",
       "      <td>EFO_0004237</td>\n",
       "      <td>EFO_0010225</td>\n",
       "      <td>GCST90018627GCST90060151EFO_0004237EFO_0010225</td>\n",
       "    </tr>\n",
       "  </tbody>\n",
       "</table>\n",
       "<p>118 rows × 23 columns</p>\n",
       "</div>"
      ],
      "text/plain": [
       "                                     TraitR  \\\n",
       "0        nearestGene_EFO_0004741_GCST008062   \n",
       "0      nearestGene_EFO_0010821_GCST90016673   \n",
       "0      nearestGene_EFO_0007117_GCST90100574   \n",
       "0        nearestGene_EFO_0004343_GCST008996   \n",
       "0      nearestGene_EFO_0004741_GCST90103632   \n",
       "..                                      ...   \n",
       "0   nearestGeneTH8_EFO_0009397_GCST90267932   \n",
       "0   nearestGeneTH8_EFO_0000731_GCST90018714   \n",
       "0     nearestGeneTH8_EFO_0006525_GCST007459   \n",
       "0   nearestGeneTH8_EFO_0010821_GCST90267352   \n",
       "0   nearestGeneTH8_EFO_0004237_GCST90018627   \n",
       "\n",
       "                                     TraitC   Network Transform Norm  \\\n",
       "0        nearestGene_EFO_0004741_GCST008062  pcnet2_0  neglog10  sum   \n",
       "0      nearestGene_EFO_0010821_GCST90016673  pcnet2_0  neglog10  sum   \n",
       "0      nearestGene_EFO_0007117_GCST90100574  pcnet2_0  neglog10  sum   \n",
       "0        nearestGene_EFO_0004343_GCST008996  pcnet2_0  neglog10  sum   \n",
       "0      nearestGene_EFO_0004741_GCST90103632  pcnet2_0  neglog10  sum   \n",
       "..                                      ...       ...       ...  ...   \n",
       "0   nearestGeneTH8_EFO_0021898_GCST90269581  pcnet2_0  neglog10  sum   \n",
       "0   nearestGeneTH8_EFO_0007117_GCST90100574  pcnet2_0  neglog10  sum   \n",
       "0     nearestGeneTH8_EFO_0004343_GCST008997  pcnet2_0  neglog10  sum   \n",
       "0   nearestGeneTH8_EFO_0004741_GCST90278623  pcnet2_0  neglog10  sum   \n",
       "0   nearestGeneTH8_EFO_0010225_GCST90060151  pcnet2_0  neglog10  sum   \n",
       "\n",
       "    Mean_NPS  Null_mean_NPS     P_mean_NPS  Size  Null_Size  ...   logp_size  \\\n",
       "0   0.083334       0.000299   3.507000e-28   275    222.338  ...    4.297311   \n",
       "0   0.431058      -0.000825   0.000000e+00   587    151.837  ...  250.000000   \n",
       "0   0.081672       0.008164   1.909000e-23   310    239.688  ...    6.746662   \n",
       "0   0.349866       0.001183   0.000000e+00   395    221.006  ...   38.816730   \n",
       "0   0.160230      -0.000057  2.147000e-115   288    196.987  ...   11.880414   \n",
       "..       ...            ...            ...   ...        ...  ...         ...   \n",
       "0   0.049448       0.001563   2.356000e-14   221    190.501  ...    2.158453   \n",
       "0  -0.016646      -0.001409   9.913000e-01   115    164.347  ...   -0.000000   \n",
       "0   0.073467       0.002376   1.789000e-22   169    167.548  ...    0.345246   \n",
       "0   0.041209       0.004128   2.430000e-07   145    181.880  ...    0.000652   \n",
       "0   0.130667       0.011817   1.236000e-67   231    147.970  ...   14.870632   \n",
       "\n",
       "      SizeOE      Set                                          FullTrait  \\\n",
       "0   0.306677     Test  nearestGene_EFO_0004741_GCST008062_nearestGene...   \n",
       "0   1.950837     Test  nearestGene_EFO_0010821_GCST90016673_nearestGe...   \n",
       "0   0.371111     Test  nearestGene_EFO_0007117_GCST90100574_nearestGe...   \n",
       "0   0.837767     Test  nearestGene_EFO_0004343_GCST008996_nearestGene...   \n",
       "0   0.547968     Test  nearestGene_EFO_0004741_GCST90103632_nearestGe...   \n",
       "..       ...      ...                                                ...   \n",
       "0   0.214248  Control  nearestGeneTH8_EFO_0009397_GCST90267932_neares...   \n",
       "0  -0.515111  Control  nearestGeneTH8_EFO_0000731_GCST90018714_neares...   \n",
       "0   0.012449  Control  nearestGeneTH8_EFO_0006525_GCST007459_nearestG...   \n",
       "0  -0.326934  Control  nearestGeneTH8_EFO_0010821_GCST90267352_neares...   \n",
       "0   0.642588  Control  nearestGeneTH8_EFO_0004237_GCST90018627_neares...   \n",
       "\n",
       "                                           CleanTrait        StudyR  \\\n",
       "0       EFO_0004741_GCST008062_EFO_0004741_GCST008062    GCST008062   \n",
       "0   EFO_0010821_GCST90016673_EFO_0010821_GCST90016673  GCST90016673   \n",
       "0   EFO_0007117_GCST90100574_EFO_0007117_GCST90100574  GCST90100574   \n",
       "0       EFO_0004343_GCST008996_EFO_0004343_GCST008996    GCST008996   \n",
       "0   EFO_0004741_GCST90103632_EFO_0004741_GCST90103632  GCST90103632   \n",
       "..                                                ...           ...   \n",
       "0   EFO_0009397_GCST90267932_EFO_0021898_GCST90269581  GCST90267932   \n",
       "0   EFO_0000731_GCST90018714_EFO_0007117_GCST90100574  GCST90018714   \n",
       "0       EFO_0006525_GCST007459_EFO_0004343_GCST008997    GCST007459   \n",
       "0   EFO_0010821_GCST90267352_EFO_0004741_GCST90278623  GCST90267352   \n",
       "0   EFO_0004237_GCST90018627_EFO_0010225_GCST90060151  GCST90018627   \n",
       "\n",
       "          StudyC         EFOR         EFOC  \\\n",
       "0     GCST008062  EFO_0004741  EFO_0004741   \n",
       "0   GCST90016673  EFO_0010821  EFO_0010821   \n",
       "0   GCST90100574  EFO_0007117  EFO_0007117   \n",
       "0     GCST008996  EFO_0004343  EFO_0004343   \n",
       "0   GCST90103632  EFO_0004741  EFO_0004741   \n",
       "..           ...          ...          ...   \n",
       "0   GCST90269581  EFO_0009397  EFO_0021898   \n",
       "0   GCST90100574  EFO_0000731  EFO_0007117   \n",
       "0     GCST008997  EFO_0006525  EFO_0004343   \n",
       "0   GCST90278623  EFO_0010821  EFO_0004741   \n",
       "0   GCST90060151  EFO_0004237  EFO_0010225   \n",
       "\n",
       "                                            testID  \n",
       "0       GCST008062GCST008062EFO_0004741EFO_0004741  \n",
       "0   GCST90016673GCST90016673EFO_0010821EFO_0010821  \n",
       "0   GCST90100574GCST90100574EFO_0007117EFO_0007117  \n",
       "0       GCST008996GCST008996EFO_0004343EFO_0004343  \n",
       "0   GCST90103632GCST90103632EFO_0004741EFO_0004741  \n",
       "..                                             ...  \n",
       "0   GCST90267932GCST90269581EFO_0009397EFO_0021898  \n",
       "0   GCST90018714GCST90100574EFO_0000731EFO_0007117  \n",
       "0       GCST007459GCST008997EFO_0006525EFO_0004343  \n",
       "0   GCST90267352GCST90278623EFO_0010821EFO_0004741  \n",
       "0   GCST90018627GCST90060151EFO_0004237EFO_0010225  \n",
       "\n",
       "[118 rows x 23 columns]"
      ]
     },
     "execution_count": 351,
     "metadata": {},
     "output_type": "execute_result"
    }
   ],
   "source": [
    "a"
   ]
  },
  {
   "cell_type": "markdown",
   "metadata": {},
   "source": [
    "## MAGMA vs NG"
   ]
  },
  {
   "cell_type": "code",
   "execution_count": 323,
   "metadata": {
    "ExecuteTime": {
     "end_time": "2025-04-03T21:01:56.321676Z",
     "start_time": "2025-04-03T21:01:56.317246Z"
    }
   },
   "outputs": [],
   "source": [
    "control_lists = {'nearestGene': { 'sum':2221662, 'binary':2221678},\n",
    "             'magma_th104':{ 'sum': 2221690, 'binary':2221684},}\n",
    "control_lists = {'nearestGene': { 'sum':2221852, 'binary':2221859},\n",
    "             'magma_th104':{ 'sum': 2221866, 'binary':2221872},}\n",
    "control_lists = {'nearestGene': { 'sum':2222022, 'binary':2222028},\n",
    "             'magma_th104':{ 'sum': 2222034, 'binary':2222040},}\n",
    "control_results = {x: {} for x in control_lists}"
   ]
  },
  {
   "cell_type": "code",
   "execution_count": 216,
   "metadata": {
    "ExecuteTime": {
     "end_time": "2025-04-03T19:00:06.065443Z",
     "start_time": "2025-04-03T19:00:06.061511Z"
    }
   },
   "outputs": [
    {
     "data": {
      "text/plain": [
       "'/cellar/users/snwright/Data/RareCommon/outputs/netcoloc/testing/'"
      ]
     },
     "execution_count": 216,
     "metadata": {},
     "output_type": "execute_result"
    }
   ],
   "source": [
    "resdir"
   ]
  },
  {
   "cell_type": "code",
   "execution_count": 324,
   "metadata": {
    "ExecuteTime": {
     "end_time": "2025-04-03T21:01:57.544150Z",
     "start_time": "2025-04-03T21:01:57.357387Z"
    }
   },
   "outputs": [
    {
     "name": "stdout",
     "output_type": "stream",
     "text": [
      "nearestGene\n",
      "magma_th104\n"
     ]
    }
   ],
   "source": [
    "not_found = []\n",
    "for x, y in control_lists.items():\n",
    "    print(x)\n",
    "    for z,  job_id in y.items():\n",
    "        if 'magma' in x:\n",
    "            with open(os.path.join(resdir,'../magma', f'{job_id}.files'), 'r') as f:\n",
    "                filenames = list(set([s.strip() for s in f.readlines()]))\n",
    "            \n",
    "            loaded_data = []\n",
    "            for f in filenames:\n",
    "                f = f.replace('.txt', '_bin20.txt')\n",
    "                try:\n",
    "                    loaded_data.append(pd.read_csv(os.path.join(resdir, '../magma', f), sep='\\t', header=None))\n",
    "                except FileNotFoundError:\n",
    "                    try:\n",
    "                        f = f.replace('_bin20.txt', '.txt')\n",
    "                        loaded_data.append(pd.read_csv(os.path.join(resdir, '../magma', f), sep='\\t', header=None))\n",
    "                    except:\n",
    "                        not_found.append(os.path.join(resdir, '../magma', f))\n",
    "        else:\n",
    "            with open(os.path.join(resdir, f'{job_id}.files'), 'r') as f:\n",
    "                filenames = list(set([s.strip() for s in f.readlines()]))\n",
    "            loaded_data = []\n",
    "            for f in filenames:\n",
    "                try:\n",
    "                    loaded_data.append(pd.read_csv(os.path.join(resdir, f), sep='\\t', header=None))\n",
    "                except FileNotFoundError:\n",
    "                    try:\n",
    "                        f = f.replace('.txt', '_bin20.txt')\n",
    "                        loaded_data.append(pd.read_csv(os.path.join(resdir, f), sep='\\t', header=None))\n",
    "                    except:\n",
    "                        not_found.append(f)\n",
    "        control_results[x][z] = pd.concat(loaded_data)\n",
    "        control_results[x][z].columns = ['TraitR', 'TraitC', 'Network','Transform', 'Norm', 'Mean_NPS', \n",
    "                                 'Null_mean_NPS', 'P_mean_NPS', 'Size', 'Null_Size', 'P_size' ]\n",
    "        control_results[x][z]['Group'] = x\n",
    "        control_results[x][z]['Norm'] = z\n",
    "        control_results[x][z]['logp_nps'] = control_results[x][z].P_mean_NPS.apply(lambda x: -1 * np.log10(x+1e-250))\n",
    "        control_results[x][z]['logp_size'] = control_results[x][z].P_size.apply(lambda x: -1 * np.log10(x+1e-250))\n",
    "        control_results[x][z]['SizeOE'] = np.log2(control_results[x][z]['Size'] / control_results[x][z]['Null_Size'])\n",
    "        control_results[x][z]['Set'] = 'Control'\n",
    "        control_results[x][z]['FullTrait'] = control_results[x][z].apply(lambda a: '_'.join([a.TraitR, a.TraitC]), axis=1)"
   ]
  },
  {
   "cell_type": "code",
   "execution_count": 325,
   "metadata": {
    "ExecuteTime": {
     "end_time": "2025-04-03T21:01:58.766563Z",
     "start_time": "2025-04-03T21:01:58.763385Z"
    }
   },
   "outputs": [],
   "source": [
    "ng_cont2 = pd.concat(control_results['nearestGene'].values())\n",
    "mag104_cont2 = pd.concat(control_results['magma_th104'].values())"
   ]
  },
  {
   "cell_type": "code",
   "execution_count": 326,
   "metadata": {
    "ExecuteTime": {
     "end_time": "2025-04-03T21:01:59.415553Z",
     "start_time": "2025-04-03T21:01:59.412980Z"
    }
   },
   "outputs": [],
   "source": [
    "all_df2 = pd.concat([ng, mag104,ng_cont2, mag104_cont2])"
   ]
  },
  {
   "cell_type": "code",
   "execution_count": 327,
   "metadata": {
    "ExecuteTime": {
     "end_time": "2025-04-03T21:01:59.873053Z",
     "start_time": "2025-04-03T21:01:59.861895Z"
    }
   },
   "outputs": [],
   "source": [
    "all_df2['CleanTrait'] = all_df2.apply(lambda x: '_'.join([clean_trait(x.TraitR), clean_trait(x.TraitC)]), axis=1)\n",
    "all_df2['StudyR'] = all_df2.TraitR.apply(lambda x: next((match.group() for match in re.finditer(r'GCST\\d+', x)), None))\n",
    "all_df2['StudyC'] = all_df2.TraitC.apply(lambda x: next((match.group() for match in re.finditer(r'GCST\\d+', x)), None))\n",
    "all_df2['EFOR'] = all_df2.TraitR.apply(lambda x: map_trait_code(x))\n",
    "all_df2['EFOC'] = all_df2.TraitC.apply(lambda x: map_trait_code(x))\n",
    "all_df2['testID'] = all_df2['StudyR'] + all_df2['StudyC'] + all_df2['EFOR'] + all_df2['EFOC']"
   ]
  },
  {
   "cell_type": "code",
   "execution_count": null,
   "metadata": {},
   "outputs": [],
   "source": []
  },
  {
   "cell_type": "code",
   "execution_count": 328,
   "metadata": {
    "ExecuteTime": {
     "end_time": "2025-04-03T21:02:01.242403Z",
     "start_time": "2025-04-03T21:02:01.165387Z"
    }
   },
   "outputs": [],
   "source": [
    "x_th, x_th_df = pair_auc(all_df2[all_df2.Group == 'nearestGene'], all_df2[all_df2.Group == 'magma_th104'])"
   ]
  },
  {
   "cell_type": "code",
   "execution_count": 347,
   "metadata": {
    "ExecuteTime": {
     "end_time": "2025-04-03T21:09:42.379121Z",
     "start_time": "2025-04-03T21:09:41.996066Z"
    }
   },
   "outputs": [
    {
     "data": {
      "image/png": "[encoded data removed]",
      "text/plain": [
       "<Figure size 250x250 with 2 Axes>"
      ]
     },
     "metadata": {},
     "output_type": "display_data"
    }
   ],
   "source": [
    "_, [ax1, ax2] = plt.subplots(nrows=2, ncols=1, figsize=(2.5,2.5), sharey='row', sharex=True, gridspec_kw={'hspace':0.1})    \n",
    "plot_pair_auc(x_th, x_th_df,ax=ax1, group='sum', stat='SizeOE', group_col='Norm', group2_col='Group', color='#97247C')\n",
    "plot_pair_auc(x_th, x_th_df,ax=ax2, group='sum', stat='logp_size', group_col='Norm', group2_col='Group', color='#97247C')\n",
    "for ax in [ax1, ax2]:\n",
    "    ax.hlines(y=0, xmin=-0.5, xmax=1.5, color='black', linewidth=0.5, zorder=0)\n",
    "    ax.set_xlim(-0.5, 1.5)\n",
    "    ax.set_xticks([0,1], labels=['\\nDirect S2G', '\\nMAGMA'])\n",
    "ax1.set_ylabel('Log2SizeOE')\n",
    "ax1.set_ylim(-1.2, 3)\n",
    "ax1.set_yticks([-1, 0,1,2])\n",
    "ax2.set_ylabel('Coloc P')\n",
    "plt.savefig(os.path.join(figdir, 'ng_vs_magma.svg'), bbox_inches='tight')"
   ]
  },
  {
   "cell_type": "code",
   "execution_count": 305,
   "metadata": {
    "ExecuteTime": {
     "end_time": "2025-04-03T20:43:29.404953Z",
     "start_time": "2025-04-03T20:43:29.047106Z"
    }
   },
   "outputs": [
    {
     "data": {
      "image/png": "[encoded data removed]",
      "text/plain": [
       "<Figure size 250x250 with 2 Axes>"
      ]
     },
     "metadata": {},
     "output_type": "display_data"
    }
   ],
   "source": [
    "_, [ax1, ax2] = plt.subplots(nrows=2, ncols=1, figsize=(2.5,2.5), sharey='row', sharex=True, gridspec_kw={'hspace':0.1})    \n",
    "plot_pair_auc(x_th, x_th_df,ax=ax1, group='sum', stat='SizeOE', group_col='Norm', group2_col='Group', color='#97247C')\n",
    "plot_pair_auc(x_th, x_th_df,ax=ax2, group='sum', stat='logp_size', group_col='Norm', group2_col='Group', color='#97247C')\n",
    "for ax in [ax1, ax2]:\n",
    "    ax.hlines(y=0, xmin=-0.5, xmax=1.5, color='black', linewidth=0.5, zorder=0)\n",
    "    ax.set_xlim(-0.5, 1.5)\n",
    "    ax.set_xticks([0,1], labels=['\\nDirect S2G', '\\nMAGMA'])\n",
    "ax1.set_ylabel('Log2SizeOE')\n",
    "ax1.set_ylim(-1.2, 3)\n",
    "ax1.set_yticks([-1, 0,1,2])\n",
    "ax2.set_ylabel('Coloc P')\n",
    "plt.savefig(os.path.join(figdir, 'ng_vs_magma.svg'), bbox_inches='tight')"
   ]
  },
  {
   "cell_type": "code",
   "execution_count": 330,
   "metadata": {
    "ExecuteTime": {
     "end_time": "2025-04-03T21:02:07.238655Z",
     "start_time": "2025-04-03T21:02:07.223064Z"
    }
   },
   "outputs": [
    {
     "data": {
      "text/html": [
       "<div>\n",
       "<style scoped>\n",
       "    .dataframe tbody tr th:only-of-type {\n",
       "        vertical-align: middle;\n",
       "    }\n",
       "\n",
       "    .dataframe tbody tr th {\n",
       "        vertical-align: top;\n",
       "    }\n",
       "\n",
       "    .dataframe thead th {\n",
       "        text-align: right;\n",
       "    }\n",
       "</style>\n",
       "<table border=\"1\" class=\"dataframe\">\n",
       "  <thead>\n",
       "    <tr style=\"text-align: right;\">\n",
       "      <th></th>\n",
       "      <th>TraitR</th>\n",
       "      <th>TraitC</th>\n",
       "      <th>Network</th>\n",
       "      <th>Transform</th>\n",
       "      <th>Norm</th>\n",
       "      <th>Mean_NPS</th>\n",
       "      <th>Null_mean_NPS</th>\n",
       "      <th>P_mean_NPS</th>\n",
       "      <th>Size</th>\n",
       "      <th>Null_Size</th>\n",
       "      <th>...</th>\n",
       "      <th>logp_size</th>\n",
       "      <th>SizeOE</th>\n",
       "      <th>Set</th>\n",
       "      <th>FullTrait</th>\n",
       "      <th>CleanTrait</th>\n",
       "      <th>StudyR</th>\n",
       "      <th>StudyC</th>\n",
       "      <th>EFOR</th>\n",
       "      <th>EFOC</th>\n",
       "      <th>testID</th>\n",
       "    </tr>\n",
       "  </thead>\n",
       "  <tbody>\n",
       "    <tr>\n",
       "      <th>0</th>\n",
       "      <td>nearestGene_EFO_0008036_GCST90094960</td>\n",
       "      <td>nearestGene_EFO_0010821_GCST90267352</td>\n",
       "      <td>pcnet2_0</td>\n",
       "      <td>neglog10</td>\n",
       "      <td>binary</td>\n",
       "      <td>0.501603</td>\n",
       "      <td>-0.001785</td>\n",
       "      <td>0.000000e+00</td>\n",
       "      <td>648</td>\n",
       "      <td>170.592</td>\n",
       "      <td>...</td>\n",
       "      <td>250.000000</td>\n",
       "      <td>1.925444</td>\n",
       "      <td>Control</td>\n",
       "      <td>nearestGene_EFO_0008036_GCST90094960_nearestGe...</td>\n",
       "      <td>EFO_0008036_GCST90094960_EFO_0010821_GCST90267352</td>\n",
       "      <td>GCST90094960</td>\n",
       "      <td>GCST90267352</td>\n",
       "      <td>EFO_0008036</td>\n",
       "      <td>EFO_0010821</td>\n",
       "      <td>GCST90094960GCST90267352EFO_0008036EFO_0010821</td>\n",
       "    </tr>\n",
       "    <tr>\n",
       "      <th>0</th>\n",
       "      <td>nearestGene_EFO_0008036_GCST90094960</td>\n",
       "      <td>nearestGene_EFO_0010821_GCST90267352</td>\n",
       "      <td>pcnet2_0</td>\n",
       "      <td>neglog10</td>\n",
       "      <td>sum</td>\n",
       "      <td>0.514784</td>\n",
       "      <td>-0.002632</td>\n",
       "      <td>0.000000e+00</td>\n",
       "      <td>706</td>\n",
       "      <td>186.935</td>\n",
       "      <td>...</td>\n",
       "      <td>250.000000</td>\n",
       "      <td>1.917131</td>\n",
       "      <td>Control</td>\n",
       "      <td>nearestGene_EFO_0008036_GCST90094960_nearestGe...</td>\n",
       "      <td>EFO_0008036_GCST90094960_EFO_0010821_GCST90267352</td>\n",
       "      <td>GCST90094960</td>\n",
       "      <td>GCST90267352</td>\n",
       "      <td>EFO_0008036</td>\n",
       "      <td>EFO_0010821</td>\n",
       "      <td>GCST90094960GCST90267352EFO_0008036EFO_0010821</td>\n",
       "    </tr>\n",
       "    <tr>\n",
       "      <th>0</th>\n",
       "      <td>nearestGene_EFO_0004343_GCST90278649</td>\n",
       "      <td>nearestGene_EFO_0005213_GCST009414</td>\n",
       "      <td>pcnet2_0</td>\n",
       "      <td>neglog10</td>\n",
       "      <td>binary</td>\n",
       "      <td>0.115252</td>\n",
       "      <td>0.003877</td>\n",
       "      <td>8.469000e-53</td>\n",
       "      <td>463</td>\n",
       "      <td>247.734</td>\n",
       "      <td>...</td>\n",
       "      <td>53.611011</td>\n",
       "      <td>0.902220</td>\n",
       "      <td>Control</td>\n",
       "      <td>nearestGene_EFO_0004343_GCST90278649_nearestGe...</td>\n",
       "      <td>EFO_0004343_GCST90278649_EFO_0005213_GCST009414</td>\n",
       "      <td>GCST90278649</td>\n",
       "      <td>GCST009414</td>\n",
       "      <td>EFO_0004343</td>\n",
       "      <td>EFO_0005213</td>\n",
       "      <td>GCST90278649GCST009414EFO_0004343EFO_0005213</td>\n",
       "    </tr>\n",
       "    <tr>\n",
       "      <th>0</th>\n",
       "      <td>nearestGene_EFO_0006525_GCST90179151</td>\n",
       "      <td>nearestGene_EFO_0010821_GCST90016673</td>\n",
       "      <td>pcnet2_0</td>\n",
       "      <td>neglog10</td>\n",
       "      <td>sum</td>\n",
       "      <td>0.220362</td>\n",
       "      <td>-0.003873</td>\n",
       "      <td>1.113000e-226</td>\n",
       "      <td>312</td>\n",
       "      <td>167.943</td>\n",
       "      <td>...</td>\n",
       "      <td>33.669789</td>\n",
       "      <td>0.893574</td>\n",
       "      <td>Control</td>\n",
       "      <td>nearestGene_EFO_0006525_GCST90179151_nearestGe...</td>\n",
       "      <td>EFO_0006525_GCST90179151_EFO_0010821_GCST90016673</td>\n",
       "      <td>GCST90179151</td>\n",
       "      <td>GCST90016673</td>\n",
       "      <td>EFO_0006525</td>\n",
       "      <td>EFO_0010821</td>\n",
       "      <td>GCST90179151GCST90016673EFO_0006525EFO_0010821</td>\n",
       "    </tr>\n",
       "    <tr>\n",
       "      <th>0</th>\n",
       "      <td>nearestGene_EFO_0006525_GCST90179151</td>\n",
       "      <td>nearestGene_EFO_0010821_GCST90016673</td>\n",
       "      <td>pcnet2_0</td>\n",
       "      <td>neglog10</td>\n",
       "      <td>binary</td>\n",
       "      <td>0.216210</td>\n",
       "      <td>-0.004634</td>\n",
       "      <td>7.213000e-239</td>\n",
       "      <td>308</td>\n",
       "      <td>166.928</td>\n",
       "      <td>...</td>\n",
       "      <td>32.833570</td>\n",
       "      <td>0.883704</td>\n",
       "      <td>Control</td>\n",
       "      <td>nearestGene_EFO_0006525_GCST90179151_nearestGe...</td>\n",
       "      <td>EFO_0006525_GCST90179151_EFO_0010821_GCST90016673</td>\n",
       "      <td>GCST90179151</td>\n",
       "      <td>GCST90016673</td>\n",
       "      <td>EFO_0006525</td>\n",
       "      <td>EFO_0010821</td>\n",
       "      <td>GCST90179151GCST90016673EFO_0006525EFO_0010821</td>\n",
       "    </tr>\n",
       "    <tr>\n",
       "      <th>...</th>\n",
       "      <td>...</td>\n",
       "      <td>...</td>\n",
       "      <td>...</td>\n",
       "      <td>...</td>\n",
       "      <td>...</td>\n",
       "      <td>...</td>\n",
       "      <td>...</td>\n",
       "      <td>...</td>\n",
       "      <td>...</td>\n",
       "      <td>...</td>\n",
       "      <td>...</td>\n",
       "      <td>...</td>\n",
       "      <td>...</td>\n",
       "      <td>...</td>\n",
       "      <td>...</td>\n",
       "      <td>...</td>\n",
       "      <td>...</td>\n",
       "      <td>...</td>\n",
       "      <td>...</td>\n",
       "      <td>...</td>\n",
       "      <td>...</td>\n",
       "    </tr>\n",
       "    <tr>\n",
       "      <th>0</th>\n",
       "      <td>nearestGene_EFO_0004741_GCST008062</td>\n",
       "      <td>nearestGene_EFO_0004237_GCST90018627</td>\n",
       "      <td>pcnet2_0</td>\n",
       "      <td>neglog10</td>\n",
       "      <td>binary</td>\n",
       "      <td>-0.090133</td>\n",
       "      <td>-0.000067</td>\n",
       "      <td>3.621000e-41</td>\n",
       "      <td>112</td>\n",
       "      <td>164.513</td>\n",
       "      <td>...</td>\n",
       "      <td>5.377682</td>\n",
       "      <td>-0.554703</td>\n",
       "      <td>Control</td>\n",
       "      <td>nearestGene_EFO_0004741_GCST008062_nearestGene...</td>\n",
       "      <td>EFO_0004741_GCST008062_EFO_0004237_GCST90018627</td>\n",
       "      <td>GCST008062</td>\n",
       "      <td>GCST90018627</td>\n",
       "      <td>EFO_0004741</td>\n",
       "      <td>EFO_0004237</td>\n",
       "      <td>GCST008062GCST90018627EFO_0004741EFO_0004237</td>\n",
       "    </tr>\n",
       "    <tr>\n",
       "      <th>0</th>\n",
       "      <td>nearestGene_EFO_0007117_GCST90092502</td>\n",
       "      <td>nearestGene_EFO_0004741_GCST008062</td>\n",
       "      <td>pcnet2_0</td>\n",
       "      <td>neglog10</td>\n",
       "      <td>binary</td>\n",
       "      <td>-0.080844</td>\n",
       "      <td>0.003430</td>\n",
       "      <td>2.880000e-28</td>\n",
       "      <td>171</td>\n",
       "      <td>251.408</td>\n",
       "      <td>...</td>\n",
       "      <td>7.569280</td>\n",
       "      <td>-0.556034</td>\n",
       "      <td>Control</td>\n",
       "      <td>nearestGene_EFO_0007117_GCST90092502_nearestGe...</td>\n",
       "      <td>EFO_0007117_GCST90092502_EFO_0004741_GCST008062</td>\n",
       "      <td>GCST90092502</td>\n",
       "      <td>GCST008062</td>\n",
       "      <td>EFO_0007117</td>\n",
       "      <td>EFO_0004741</td>\n",
       "      <td>GCST90092502GCST008062EFO_0007117EFO_0004741</td>\n",
       "    </tr>\n",
       "    <tr>\n",
       "      <th>0</th>\n",
       "      <td>magma_th104_GCST008062_EFO_0004741</td>\n",
       "      <td>magma_th104_GCST90018627_EFO_0004237</td>\n",
       "      <td>pcnet2_0</td>\n",
       "      <td>neglog10</td>\n",
       "      <td>sum</td>\n",
       "      <td>-0.068989</td>\n",
       "      <td>0.009390</td>\n",
       "      <td>3.444000e-17</td>\n",
       "      <td>137</td>\n",
       "      <td>201.759</td>\n",
       "      <td>...</td>\n",
       "      <td>6.692718</td>\n",
       "      <td>-0.558457</td>\n",
       "      <td>Control</td>\n",
       "      <td>magma_th104_GCST008062_EFO_0004741_magma_th104...</td>\n",
       "      <td>GCST008062_EFO_0004741_GCST90018627_EFO_0004237</td>\n",
       "      <td>GCST008062</td>\n",
       "      <td>GCST90018627</td>\n",
       "      <td>EFO_0004741</td>\n",
       "      <td>EFO_0004237</td>\n",
       "      <td>GCST008062GCST90018627EFO_0004741EFO_0004237</td>\n",
       "    </tr>\n",
       "    <tr>\n",
       "      <th>0</th>\n",
       "      <td>nearestGene_EFO_0007117_GCST90092502</td>\n",
       "      <td>nearestGene_EFO_0004741_GCST008062</td>\n",
       "      <td>pcnet2_0</td>\n",
       "      <td>neglog10</td>\n",
       "      <td>sum</td>\n",
       "      <td>-0.078502</td>\n",
       "      <td>0.002708</td>\n",
       "      <td>7.613000e-29</td>\n",
       "      <td>166</td>\n",
       "      <td>248.821</td>\n",
       "      <td>...</td>\n",
       "      <td>8.327348</td>\n",
       "      <td>-0.583925</td>\n",
       "      <td>Control</td>\n",
       "      <td>nearestGene_EFO_0007117_GCST90092502_nearestGe...</td>\n",
       "      <td>EFO_0007117_GCST90092502_EFO_0004741_GCST008062</td>\n",
       "      <td>GCST90092502</td>\n",
       "      <td>GCST008062</td>\n",
       "      <td>EFO_0007117</td>\n",
       "      <td>EFO_0004741</td>\n",
       "      <td>GCST90092502GCST008062EFO_0007117EFO_0004741</td>\n",
       "    </tr>\n",
       "    <tr>\n",
       "      <th>0</th>\n",
       "      <td>nearestGene_EFO_0004741_GCST008062</td>\n",
       "      <td>nearestGene_EFO_0004237_GCST90018627</td>\n",
       "      <td>pcnet2_0</td>\n",
       "      <td>neglog10</td>\n",
       "      <td>sum</td>\n",
       "      <td>-0.101448</td>\n",
       "      <td>0.000101</td>\n",
       "      <td>1.010000e-49</td>\n",
       "      <td>113</td>\n",
       "      <td>171.748</td>\n",
       "      <td>...</td>\n",
       "      <td>6.322576</td>\n",
       "      <td>-0.603971</td>\n",
       "      <td>Control</td>\n",
       "      <td>nearestGene_EFO_0004741_GCST008062_nearestGene...</td>\n",
       "      <td>EFO_0004741_GCST008062_EFO_0004237_GCST90018627</td>\n",
       "      <td>GCST008062</td>\n",
       "      <td>GCST90018627</td>\n",
       "      <td>EFO_0004741</td>\n",
       "      <td>EFO_0004237</td>\n",
       "      <td>GCST008062GCST90018627EFO_0004741EFO_0004237</td>\n",
       "    </tr>\n",
       "  </tbody>\n",
       "</table>\n",
       "<p>76 rows × 23 columns</p>\n",
       "</div>"
      ],
      "text/plain": [
       "                                  TraitR  \\\n",
       "0   nearestGene_EFO_0008036_GCST90094960   \n",
       "0   nearestGene_EFO_0008036_GCST90094960   \n",
       "0   nearestGene_EFO_0004343_GCST90278649   \n",
       "0   nearestGene_EFO_0006525_GCST90179151   \n",
       "0   nearestGene_EFO_0006525_GCST90179151   \n",
       "..                                   ...   \n",
       "0     nearestGene_EFO_0004741_GCST008062   \n",
       "0   nearestGene_EFO_0007117_GCST90092502   \n",
       "0     magma_th104_GCST008062_EFO_0004741   \n",
       "0   nearestGene_EFO_0007117_GCST90092502   \n",
       "0     nearestGene_EFO_0004741_GCST008062   \n",
       "\n",
       "                                  TraitC   Network Transform    Norm  \\\n",
       "0   nearestGene_EFO_0010821_GCST90267352  pcnet2_0  neglog10  binary   \n",
       "0   nearestGene_EFO_0010821_GCST90267352  pcnet2_0  neglog10     sum   \n",
       "0     nearestGene_EFO_0005213_GCST009414  pcnet2_0  neglog10  binary   \n",
       "0   nearestGene_EFO_0010821_GCST90016673  pcnet2_0  neglog10     sum   \n",
       "0   nearestGene_EFO_0010821_GCST90016673  pcnet2_0  neglog10  binary   \n",
       "..                                   ...       ...       ...     ...   \n",
       "0   nearestGene_EFO_0004237_GCST90018627  pcnet2_0  neglog10  binary   \n",
       "0     nearestGene_EFO_0004741_GCST008062  pcnet2_0  neglog10  binary   \n",
       "0   magma_th104_GCST90018627_EFO_0004237  pcnet2_0  neglog10     sum   \n",
       "0     nearestGene_EFO_0004741_GCST008062  pcnet2_0  neglog10     sum   \n",
       "0   nearestGene_EFO_0004237_GCST90018627  pcnet2_0  neglog10     sum   \n",
       "\n",
       "    Mean_NPS  Null_mean_NPS     P_mean_NPS  Size  Null_Size  ...   logp_size  \\\n",
       "0   0.501603      -0.001785   0.000000e+00   648    170.592  ...  250.000000   \n",
       "0   0.514784      -0.002632   0.000000e+00   706    186.935  ...  250.000000   \n",
       "0   0.115252       0.003877   8.469000e-53   463    247.734  ...   53.611011   \n",
       "0   0.220362      -0.003873  1.113000e-226   312    167.943  ...   33.669789   \n",
       "0   0.216210      -0.004634  7.213000e-239   308    166.928  ...   32.833570   \n",
       "..       ...            ...            ...   ...        ...  ...         ...   \n",
       "0  -0.090133      -0.000067   3.621000e-41   112    164.513  ...    5.377682   \n",
       "0  -0.080844       0.003430   2.880000e-28   171    251.408  ...    7.569280   \n",
       "0  -0.068989       0.009390   3.444000e-17   137    201.759  ...    6.692718   \n",
       "0  -0.078502       0.002708   7.613000e-29   166    248.821  ...    8.327348   \n",
       "0  -0.101448       0.000101   1.010000e-49   113    171.748  ...    6.322576   \n",
       "\n",
       "      SizeOE      Set                                          FullTrait  \\\n",
       "0   1.925444  Control  nearestGene_EFO_0008036_GCST90094960_nearestGe...   \n",
       "0   1.917131  Control  nearestGene_EFO_0008036_GCST90094960_nearestGe...   \n",
       "0   0.902220  Control  nearestGene_EFO_0004343_GCST90278649_nearestGe...   \n",
       "0   0.893574  Control  nearestGene_EFO_0006525_GCST90179151_nearestGe...   \n",
       "0   0.883704  Control  nearestGene_EFO_0006525_GCST90179151_nearestGe...   \n",
       "..       ...      ...                                                ...   \n",
       "0  -0.554703  Control  nearestGene_EFO_0004741_GCST008062_nearestGene...   \n",
       "0  -0.556034  Control  nearestGene_EFO_0007117_GCST90092502_nearestGe...   \n",
       "0  -0.558457  Control  magma_th104_GCST008062_EFO_0004741_magma_th104...   \n",
       "0  -0.583925  Control  nearestGene_EFO_0007117_GCST90092502_nearestGe...   \n",
       "0  -0.603971  Control  nearestGene_EFO_0004741_GCST008062_nearestGene...   \n",
       "\n",
       "                                           CleanTrait        StudyR  \\\n",
       "0   EFO_0008036_GCST90094960_EFO_0010821_GCST90267352  GCST90094960   \n",
       "0   EFO_0008036_GCST90094960_EFO_0010821_GCST90267352  GCST90094960   \n",
       "0     EFO_0004343_GCST90278649_EFO_0005213_GCST009414  GCST90278649   \n",
       "0   EFO_0006525_GCST90179151_EFO_0010821_GCST90016673  GCST90179151   \n",
       "0   EFO_0006525_GCST90179151_EFO_0010821_GCST90016673  GCST90179151   \n",
       "..                                                ...           ...   \n",
       "0     EFO_0004741_GCST008062_EFO_0004237_GCST90018627    GCST008062   \n",
       "0     EFO_0007117_GCST90092502_EFO_0004741_GCST008062  GCST90092502   \n",
       "0     GCST008062_EFO_0004741_GCST90018627_EFO_0004237    GCST008062   \n",
       "0     EFO_0007117_GCST90092502_EFO_0004741_GCST008062  GCST90092502   \n",
       "0     EFO_0004741_GCST008062_EFO_0004237_GCST90018627    GCST008062   \n",
       "\n",
       "          StudyC         EFOR         EFOC  \\\n",
       "0   GCST90267352  EFO_0008036  EFO_0010821   \n",
       "0   GCST90267352  EFO_0008036  EFO_0010821   \n",
       "0     GCST009414  EFO_0004343  EFO_0005213   \n",
       "0   GCST90016673  EFO_0006525  EFO_0010821   \n",
       "0   GCST90016673  EFO_0006525  EFO_0010821   \n",
       "..           ...          ...          ...   \n",
       "0   GCST90018627  EFO_0004741  EFO_0004237   \n",
       "0     GCST008062  EFO_0007117  EFO_0004741   \n",
       "0   GCST90018627  EFO_0004741  EFO_0004237   \n",
       "0     GCST008062  EFO_0007117  EFO_0004741   \n",
       "0   GCST90018627  EFO_0004741  EFO_0004237   \n",
       "\n",
       "                                            testID  \n",
       "0   GCST90094960GCST90267352EFO_0008036EFO_0010821  \n",
       "0   GCST90094960GCST90267352EFO_0008036EFO_0010821  \n",
       "0     GCST90278649GCST009414EFO_0004343EFO_0005213  \n",
       "0   GCST90179151GCST90016673EFO_0006525EFO_0010821  \n",
       "0   GCST90179151GCST90016673EFO_0006525EFO_0010821  \n",
       "..                                             ...  \n",
       "0     GCST008062GCST90018627EFO_0004741EFO_0004237  \n",
       "0     GCST90092502GCST008062EFO_0007117EFO_0004741  \n",
       "0     GCST008062GCST90018627EFO_0004741EFO_0004237  \n",
       "0     GCST90092502GCST008062EFO_0007117EFO_0004741  \n",
       "0     GCST008062GCST90018627EFO_0004741EFO_0004237  \n",
       "\n",
       "[76 rows x 23 columns]"
      ]
     },
     "execution_count": 330,
     "metadata": {},
     "output_type": "execute_result"
    }
   ],
   "source": [
    "x_th_df[x_th_df.Set=='Control'].sort_values('SizeOE', ascending=False)"
   ]
  }
 ],
 "metadata": {
  "kernelspec": {
   "display_name": "Python (CARVA)",
   "language": "python",
   "name": "carva"
  },
  "language_info": {
   "codemirror_mode": {
    "name": "ipython",
    "version": 3
   },
   "file_extension": ".py",
   "mimetype": "text/x-python",
   "name": "python",
   "nbconvert_exporter": "python",
   "pygments_lexer": "ipython3",
   "version": "3.10.0"
  },
  "toc": {
   "base_numbering": 1,
   "nav_menu": {},
   "number_sections": true,
   "sideBar": true,
   "skip_h1_title": false,
   "title_cell": "Table of Contents",
   "title_sidebar": "Contents",
   "toc_cell": false,
   "toc_position": {
    "height": "calc(100% - 180px)",
    "left": "10px",
    "top": "150px",
    "width": "426.823px"
   },
   "toc_section_display": true,
   "toc_window_display": true
  },
  "varInspector": {
   "cols": {
    "lenName": 16,
    "lenType": 16,
    "lenVar": 40
   },
   "kernels_config": {
    "python": {
     "delete_cmd_postfix": "",
     "delete_cmd_prefix": "del ",
     "library": "var_list.py",
     "varRefreshCmd": "print(var_dic_list())"
    },
    "r": {
     "delete_cmd_postfix": ") ",
     "delete_cmd_prefix": "rm(",
     "library": "var_list.r",
     "varRefreshCmd": "cat(var_dic_list()) "
    }
   },
   "types_to_exclude": [
    "module",
    "function",
    "builtin_function_or_method",
    "instance",
    "_Feature"
   ],
   "window_display": false
  }
 },
 "nbformat": 4,
 "nbformat_minor": 2
}
