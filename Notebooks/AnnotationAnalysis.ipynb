{
 "cells": [
  {
   "cell_type": "code",
   "execution_count": 1,
   "metadata": {
    "ExecuteTime": {
     "end_time": "2025-04-14T21:18:20.018759Z",
     "start_time": "2025-04-14T21:18:18.826626Z"
    }
   },
   "outputs": [],
   "source": [
    "import pandas as pd\n",
    "import os\n",
    "from tqdm import tqdm\n",
    "import seaborn as sns\n",
    "import matplotlib.pyplot as plt\n",
    "import sys\n",
    "sys.path.append('/cellar/users/snwright/Git/Network_Evaluation_Tools/neteval/')"
   ]
  },
  {
   "cell_type": "markdown",
   "metadata": {},
   "source": [
    "# SetUP\n"
   ]
  },
  {
   "cell_type": "code",
   "execution_count": 2,
   "metadata": {
    "ExecuteTime": {
     "end_time": "2025-04-14T21:18:20.029596Z",
     "start_time": "2025-04-14T21:18:20.027501Z"
    }
   },
   "outputs": [],
   "source": [
    "datadir='/cellar/users/snwright/Data/RareCommon'\n",
    "refdir='/cellar/users/snwright/Data/RareCommon/Reference/'\n",
    "outdir='/cellar/users/snwright/Data/RareCommon/Annotations'\n",
    "figdir='/cellar/users/snwright/Data/Transfer/RVC/figures/AnnotationAnalysis'\n",
    "featuredir='/cellar/users/snwright/Data/RareCommon/outputs/Features'"
   ]
  },
  {
   "cell_type": "code",
   "execution_count": 3,
   "metadata": {
    "ExecuteTime": {
     "end_time": "2025-04-14T21:18:20.242726Z",
     "start_time": "2025-04-14T21:18:20.239115Z"
    }
   },
   "outputs": [],
   "source": [
    "plt.rcParams['svg.fonttype'] = 'none'\n",
    "plt.rcParams.update({'font.size':8})\n",
    "plt.rcParams['axes.linewidth'] = 0.5\n",
    "plt.rcParams['hatch.linewidth'] = 0.5\n",
    "plt.rcParams['xtick.major.width'] = 0.4\n",
    "plt.rcParams['ytick.major.width'] = 0.4\n",
    "plt.rcParams['xtick.minor.width'] = 0.3\n",
    "plt.rcParams['ytick.minor.width'] = 0.3\n",
    "plt.rcParams['legend.frameon'] = False\n",
    "plt.rcParams['xtick.major.size'] = 3\n",
    "plt.rcParams['ytick.major.size'] = 3\n",
    "plt.rcParams['xtick.minor.size'] = 2\n",
    "plt.rcParams['ytick.minor.size'] = 2\n",
    "plt.rcParams['xtick.major.pad'] = 1\n",
    "plt.rcParams['ytick.major.pad'] = 1\n",
    "plt.rcParams['axes.labelpad'] = 1\n",
    "plt.rcParams['patch.linewidth'] = 0.25"
   ]
  },
  {
   "cell_type": "code",
   "execution_count": 5,
   "metadata": {
    "ExecuteTime": {
     "end_time": "2025-04-14T21:18:30.586198Z",
     "start_time": "2025-04-14T21:18:30.583981Z"
    }
   },
   "outputs": [],
   "source": [
    "files = {\n",
    "    'Cite':'Gene_Citation_Dec23.txt', 'MisSyn': 'Gene_MisSyn.txt', \n",
    "    'Disgen':'Gene_disgen.txt', 'pli': 'Gene_pLI.txt',\n",
    "    'dgi': 'Gene_DGI_scores.txt', 'omim': 'Gene_OMIM.txt', \n",
    "    'Length': 'Gene_length.txt', 'Prot': 'Gene_prot.txt',\n",
    "    'GO': 'Gene_GO.txt' , 'phylop': 'Gene_PhyloP.txt',\n",
    "    'mrna':'Gene_mRNA.txt'\n",
    "}\n",
    "\n",
    "annot_dir = '/cellar/users/snwright/Data/RareCommon/Annotations'"
   ]
  },
  {
   "cell_type": "code",
   "execution_count": 6,
   "metadata": {
    "ExecuteTime": {
     "end_time": "2025-04-14T21:18:31.348678Z",
     "start_time": "2025-04-14T21:18:31.344595Z"
    }
   },
   "outputs": [],
   "source": [
    "transform = {'Cite': np.log10,\n",
    " 'MisSyn': None,\n",
    " 'Disgen': np.log10,\n",
    " 'pli': None,\n",
    " 'dgi': np.log10,\n",
    " 'omim': np.log10,\n",
    " 'Length': np.log10,\n",
    " 'Prot': None,\n",
    " 'GO': np.log10,\n",
    " 'phylop': None,\n",
    " 'mrna': np.log10}\n",
    "\n",
    "metric = {'Cite': np.median,\n",
    " 'MisSyn': np.mean,\n",
    " 'Disgen': np.median,\n",
    " 'pli': np.median,\n",
    " 'dgi': np.mean,\n",
    " 'omim': np.mean,\n",
    " 'Length': np.median,\n",
    " 'Prot': np.median,\n",
    " 'GO': np.median,\n",
    " 'phylop': np.median,\n",
    " 'mrna': np.median}\n",
    "\n",
    "missing_val = {'Cite':0,\n",
    " 'MisSyn': None,\n",
    " 'Disgen': 0,\n",
    " 'pli': None,\n",
    " 'dgi': None,\n",
    " 'omim': 0,\n",
    " 'Length': None,\n",
    " 'Prot': None,\n",
    " 'GO': 0,\n",
    " 'phylop': None,\n",
    " 'mrna': None}\n",
    "\n",
    "usecols = {'Cite': 'CitationCount',\n",
    " 'MisSyn': 'mis.z_score',\n",
    " 'Disgen': 'n_DISGENET',\n",
    " 'pli': 'LOEUF',\n",
    " 'dgi': 'mean_score',\n",
    " 'omim': 'OMIM_count',\n",
    " 'Length': 'GeneSize',\n",
    " 'Prot': 'Mean_prot',\n",
    " 'GO': 'n_GO',\n",
    " 'phylop': 'PhyloP_mean',\n",
    " 'mrna': 'Mean_mRNA'}\n",
    "\n",
    "labels = {'Cite': 'Citation Count',\n",
    " 'MisSyn': 'Missense intolerance',\n",
    " 'Disgen': 'Disease Assoc.',\n",
    " 'pli': 'LOEUF',\n",
    " 'dgi': 'Drug Interactions',\n",
    " 'omim': 'Mendelian Assoc',\n",
    " 'Length': 'Gene Size',\n",
    " 'Prot': 'Protein Abun.',\n",
    " 'GO': 'GO Terms',\n",
    " 'phylop': 'Gene Conservation',\n",
    " 'mrna': 'mRNA Exp.'}"
   ]
  },
  {
   "cell_type": "code",
   "execution_count": null,
   "metadata": {},
   "outputs": [],
   "source": []
  },
  {
   "cell_type": "markdown",
   "metadata": {},
   "source": [
    "## Load Data"
   ]
  },
  {
   "cell_type": "code",
   "execution_count": 7,
   "metadata": {
    "ExecuteTime": {
     "end_time": "2025-04-14T21:18:37.280480Z",
     "start_time": "2025-04-14T21:18:36.692071Z"
    }
   },
   "outputs": [
    {
     "name": "stdout",
     "output_type": "stream",
     "text": [
      "Cite (162986, 1)\n",
      "MisSyn (18203, 2)\n",
      "Disgen (14624, 1)\n",
      "pli (17954, 3)\n",
      "dgi (11207, 3)\n",
      "omim (5960, 1)\n",
      "Length (25013, 4)\n",
      "Prot (11131, 2)\n",
      "GO (20739, 4)\n",
      "phylop (19827, 3)\n",
      "mrna (34812, 2)\n"
     ]
    }
   ],
   "source": [
    "annot_dfs = {}\n",
    "for met, file in files.items():\n",
    "    annot_dfs[met] = pd.read_csv(os.path.join(annot_dir, file), sep='\\t', index_col=0)\n",
    "    print(met, annot_dfs[met].shape)"
   ]
  },
  {
   "cell_type": "markdown",
   "metadata": {},
   "source": [
    "## Feature development\n",
    "\n",
    "**Primary features:**\n",
    "1. Citation Count (log10)\n",
    "3. LOEUF\n",
    "4. Length (gene region)\n",
    "5. Length (cds)\n",
    "6. PhyloP\n",
    "7. mRNA (# expressed tissues)\n",
    "8. mRNA (log10, mean expression) - whether in expressed only or all tissues, values are perfectly correlated.\n",
    "9. OMIM\n",
    "10. Associated drugs"
   ]
  },
  {
   "cell_type": "code",
   "execution_count": 8,
   "metadata": {
    "ExecuteTime": {
     "end_time": "2025-04-14T21:18:39.472481Z",
     "start_time": "2025-04-14T21:18:39.470743Z"
    }
   },
   "outputs": [],
   "source": [
    "features_list = []"
   ]
  },
  {
   "cell_type": "code",
   "execution_count": 9,
   "metadata": {
    "ExecuteTime": {
     "end_time": "2025-04-14T21:18:40.420488Z",
     "start_time": "2025-04-14T21:18:40.418815Z"
    }
   },
   "outputs": [],
   "source": [
    "# Citation\n",
    "features_list.append(annot_dfs['Cite'])\n",
    "#annot_dfs['Cite'] = annot_dfs['Cite'].assign(log10_Cite= np.log10(annot_dfs['Cite'].CitationCount))\n",
    "#features_list.append(annot_dfs['Cite'].drop(columns=['CitationCount']))\n",
    "#annot_dfs['Cite'].index.values"
   ]
  },
  {
   "cell_type": "code",
   "execution_count": 10,
   "metadata": {
    "ExecuteTime": {
     "end_time": "2025-04-14T21:18:41.229835Z",
     "start_time": "2025-04-14T21:18:41.220754Z"
    }
   },
   "outputs": [
    {
     "data": {
      "text/html": [
       "<div>\n",
       "<style scoped>\n",
       "    .dataframe tbody tr th:only-of-type {\n",
       "        vertical-align: middle;\n",
       "    }\n",
       "\n",
       "    .dataframe tbody tr th {\n",
       "        vertical-align: top;\n",
       "    }\n",
       "\n",
       "    .dataframe thead th {\n",
       "        text-align: right;\n",
       "    }\n",
       "</style>\n",
       "<table border=\"1\" class=\"dataframe\">\n",
       "  <thead>\n",
       "    <tr style=\"text-align: right;\">\n",
       "      <th></th>\n",
       "      <th>lof.pLI</th>\n",
       "      <th>lof.z_score</th>\n",
       "      <th>LOEUF</th>\n",
       "    </tr>\n",
       "    <tr>\n",
       "      <th>Entrez</th>\n",
       "      <th></th>\n",
       "      <th></th>\n",
       "      <th></th>\n",
       "    </tr>\n",
       "  </thead>\n",
       "  <tbody>\n",
       "    <tr>\n",
       "      <th>1</th>\n",
       "      <td>1.770600e-16</td>\n",
       "      <td>1.340</td>\n",
       "      <td>-0.252120</td>\n",
       "    </tr>\n",
       "    <tr>\n",
       "      <th>29974</th>\n",
       "      <td>7.656000e-10</td>\n",
       "      <td>0.825</td>\n",
       "      <td>2.528600</td>\n",
       "    </tr>\n",
       "    <tr>\n",
       "      <th>2</th>\n",
       "      <td>9.756800e-20</td>\n",
       "      <td>0.765</td>\n",
       "      <td>3.647500</td>\n",
       "    </tr>\n",
       "    <tr>\n",
       "      <th>144568</th>\n",
       "      <td>1.712700e-40</td>\n",
       "      <td>0.953</td>\n",
       "      <td>1.898600</td>\n",
       "    </tr>\n",
       "    <tr>\n",
       "      <th>127550</th>\n",
       "      <td>1.016900e-06</td>\n",
       "      <td>1.529</td>\n",
       "      <td>-0.075727</td>\n",
       "    </tr>\n",
       "  </tbody>\n",
       "</table>\n",
       "</div>"
      ],
      "text/plain": [
       "             lof.pLI  lof.z_score     LOEUF\n",
       "Entrez                                     \n",
       "1       1.770600e-16        1.340 -0.252120\n",
       "29974   7.656000e-10        0.825  2.528600\n",
       "2       9.756800e-20        0.765  3.647500\n",
       "144568  1.712700e-40        0.953  1.898600\n",
       "127550  1.016900e-06        1.529 -0.075727"
      ]
     },
     "execution_count": 10,
     "metadata": {},
     "output_type": "execute_result"
    }
   ],
   "source": [
    "#LOEUF\n",
    "annot_dfs['pli'].head()\n",
    "features_list.append(annot_dfs['pli'].drop(columns=['lof.pLI', 'lof.z_score']))\n",
    "annot_dfs['pli'].head()"
   ]
  },
  {
   "cell_type": "code",
   "execution_count": 11,
   "metadata": {
    "ExecuteTime": {
     "end_time": "2025-04-14T21:18:42.013472Z",
     "start_time": "2025-04-14T21:18:42.011192Z"
    }
   },
   "outputs": [],
   "source": [
    "# length\n",
    "features_list.append(annot_dfs['Length'].drop(columns=['Chrom', 'Start', 'End']))"
   ]
  },
  {
   "cell_type": "code",
   "execution_count": 12,
   "metadata": {
    "ExecuteTime": {
     "end_time": "2025-04-14T21:18:44.092272Z",
     "start_time": "2025-04-14T21:18:44.089843Z"
    }
   },
   "outputs": [],
   "source": [
    "# Conservation and CDS\n",
    "features_list.append(annot_dfs['phylop'].drop(columns =['PhyloP_median']))"
   ]
  },
  {
   "cell_type": "code",
   "execution_count": 13,
   "metadata": {
    "ExecuteTime": {
     "end_time": "2025-04-14T21:18:45.742630Z",
     "start_time": "2025-04-14T21:18:45.740899Z"
    }
   },
   "outputs": [],
   "source": [
    "# mRNA\n",
    "features_list.append(annot_dfs['mrna'])"
   ]
  },
  {
   "cell_type": "code",
   "execution_count": 14,
   "metadata": {
    "ExecuteTime": {
     "end_time": "2025-04-14T21:18:46.243686Z",
     "start_time": "2025-04-14T21:18:46.241845Z"
    }
   },
   "outputs": [],
   "source": [
    "# OMIM\n",
    "features_list.append(annot_dfs['omim'])"
   ]
  },
  {
   "cell_type": "code",
   "execution_count": 15,
   "metadata": {
    "ExecuteTime": {
     "end_time": "2025-04-14T21:18:47.009241Z",
     "start_time": "2025-04-14T21:18:47.006996Z"
    }
   },
   "outputs": [],
   "source": [
    "# DGI\n",
    "features_list.append(annot_dfs['dgi'].drop(columns=['mean_score', 'druggability']))"
   ]
  },
  {
   "cell_type": "code",
   "execution_count": 16,
   "metadata": {
    "ExecuteTime": {
     "end_time": "2025-04-14T21:18:47.999730Z",
     "start_time": "2025-04-14T21:18:47.926846Z"
    }
   },
   "outputs": [],
   "source": [
    "all_features = features_list[0]\n",
    "for df in features_list[1:]:\n",
    "    all_features = all_features.join(df)"
   ]
  },
  {
   "cell_type": "code",
   "execution_count": 17,
   "metadata": {
    "ExecuteTime": {
     "end_time": "2025-04-14T21:18:48.488339Z",
     "start_time": "2025-04-14T21:18:48.485780Z"
    }
   },
   "outputs": [
    {
     "data": {
      "text/plain": [
       "(163130, 9)"
      ]
     },
     "execution_count": 17,
     "metadata": {},
     "output_type": "execute_result"
    }
   ],
   "source": [
    "all_features.shape"
   ]
  },
  {
   "cell_type": "code",
   "execution_count": 18,
   "metadata": {
    "ExecuteTime": {
     "end_time": "2025-04-14T21:18:50.118484Z",
     "start_time": "2025-04-14T21:18:50.114418Z"
    }
   },
   "outputs": [],
   "source": [
    "all_features['OMIM_count'] = all_features['OMIM_count'].fillna(0)\n",
    "all_features['n_drugs'] = all_features['n_drugs'].fillna(0)"
   ]
  },
  {
   "cell_type": "code",
   "execution_count": 19,
   "metadata": {
    "ExecuteTime": {
     "end_time": "2025-04-14T21:18:51.106461Z",
     "start_time": "2025-04-14T21:18:51.098274Z"
    }
   },
   "outputs": [
    {
     "data": {
      "text/html": [
       "<div>\n",
       "<style scoped>\n",
       "    .dataframe tbody tr th:only-of-type {\n",
       "        vertical-align: middle;\n",
       "    }\n",
       "\n",
       "    .dataframe tbody tr th {\n",
       "        vertical-align: top;\n",
       "    }\n",
       "\n",
       "    .dataframe thead th {\n",
       "        text-align: right;\n",
       "    }\n",
       "</style>\n",
       "<table border=\"1\" class=\"dataframe\">\n",
       "  <thead>\n",
       "    <tr style=\"text-align: right;\">\n",
       "      <th></th>\n",
       "      <th>CitationCount</th>\n",
       "      <th>LOEUF</th>\n",
       "      <th>GeneSize</th>\n",
       "      <th>PhyloP_mean</th>\n",
       "      <th>CDS_Length</th>\n",
       "      <th>Mean_mRNA</th>\n",
       "      <th>n_Expressed</th>\n",
       "      <th>OMIM_count</th>\n",
       "      <th>n_drugs</th>\n",
       "    </tr>\n",
       "    <tr>\n",
       "      <th>Entrez</th>\n",
       "      <th></th>\n",
       "      <th></th>\n",
       "      <th></th>\n",
       "      <th></th>\n",
       "      <th></th>\n",
       "      <th></th>\n",
       "      <th></th>\n",
       "      <th></th>\n",
       "      <th></th>\n",
       "    </tr>\n",
       "  </thead>\n",
       "  <tbody>\n",
       "    <tr>\n",
       "      <th>1.0</th>\n",
       "      <td>38</td>\n",
       "      <td>-0.25212</td>\n",
       "      <td>8314.0</td>\n",
       "      <td>0.062387</td>\n",
       "      <td>1488.0</td>\n",
       "      <td>11.657717</td>\n",
       "      <td>52.0</td>\n",
       "      <td>0.0</td>\n",
       "      <td>116.0</td>\n",
       "    </tr>\n",
       "    <tr>\n",
       "      <th>2.0</th>\n",
       "      <td>301</td>\n",
       "      <td>3.64750</td>\n",
       "      <td>48565.0</td>\n",
       "      <td>0.470092</td>\n",
       "      <td>4425.0</td>\n",
       "      <td>363.563748</td>\n",
       "      <td>54.0</td>\n",
       "      <td>0.0</td>\n",
       "      <td>83.0</td>\n",
       "    </tr>\n",
       "    <tr>\n",
       "      <th>3.0</th>\n",
       "      <td>6</td>\n",
       "      <td>NaN</td>\n",
       "      <td>NaN</td>\n",
       "      <td>NaN</td>\n",
       "      <td>NaN</td>\n",
       "      <td>NaN</td>\n",
       "      <td>NaN</td>\n",
       "      <td>0.0</td>\n",
       "      <td>84.0</td>\n",
       "    </tr>\n",
       "    <tr>\n",
       "      <th>9.0</th>\n",
       "      <td>255</td>\n",
       "      <td>-0.14938</td>\n",
       "      <td>53212.0</td>\n",
       "      <td>0.443825</td>\n",
       "      <td>910.0</td>\n",
       "      <td>1.609826</td>\n",
       "      <td>29.0</td>\n",
       "      <td>0.0</td>\n",
       "      <td>36.0</td>\n",
       "    </tr>\n",
       "    <tr>\n",
       "      <th>10.0</th>\n",
       "      <td>739</td>\n",
       "      <td>-1.09880</td>\n",
       "      <td>9936.0</td>\n",
       "      <td>0.299896</td>\n",
       "      <td>678.0</td>\n",
       "      <td>1.331957</td>\n",
       "      <td>5.0</td>\n",
       "      <td>1.0</td>\n",
       "      <td>48.0</td>\n",
       "    </tr>\n",
       "  </tbody>\n",
       "</table>\n",
       "</div>"
      ],
      "text/plain": [
       "        CitationCount    LOEUF  GeneSize  PhyloP_mean  CDS_Length   Mean_mRNA  \\\n",
       "Entrez                                                                          \n",
       "1.0                38 -0.25212    8314.0     0.062387      1488.0   11.657717   \n",
       "2.0               301  3.64750   48565.0     0.470092      4425.0  363.563748   \n",
       "3.0                 6      NaN       NaN          NaN         NaN         NaN   \n",
       "9.0               255 -0.14938   53212.0     0.443825       910.0    1.609826   \n",
       "10.0              739 -1.09880    9936.0     0.299896       678.0    1.331957   \n",
       "\n",
       "        n_Expressed  OMIM_count  n_drugs  \n",
       "Entrez                                    \n",
       "1.0            52.0         0.0    116.0  \n",
       "2.0            54.0         0.0     83.0  \n",
       "3.0             NaN         0.0     84.0  \n",
       "9.0            29.0         0.0     36.0  \n",
       "10.0            5.0         1.0     48.0  "
      ]
     },
     "execution_count": 19,
     "metadata": {},
     "output_type": "execute_result"
    }
   ],
   "source": [
    "all_features.head()"
   ]
  },
  {
   "cell_type": "code",
   "execution_count": 20,
   "metadata": {
    "ExecuteTime": {
     "end_time": "2025-04-14T21:18:51.952802Z",
     "start_time": "2025-04-14T21:18:51.928583Z"
    }
   },
   "outputs": [
    {
     "data": {
      "text/html": [
       "<div>\n",
       "<style scoped>\n",
       "    .dataframe tbody tr th:only-of-type {\n",
       "        vertical-align: middle;\n",
       "    }\n",
       "\n",
       "    .dataframe tbody tr th {\n",
       "        vertical-align: top;\n",
       "    }\n",
       "\n",
       "    .dataframe thead th {\n",
       "        text-align: right;\n",
       "    }\n",
       "</style>\n",
       "<table border=\"1\" class=\"dataframe\">\n",
       "  <thead>\n",
       "    <tr style=\"text-align: right;\">\n",
       "      <th></th>\n",
       "      <th>CitationCount</th>\n",
       "      <th>LOEUF</th>\n",
       "      <th>GeneSize</th>\n",
       "      <th>PhyloP_mean</th>\n",
       "      <th>CDS_Length</th>\n",
       "      <th>Mean_mRNA</th>\n",
       "      <th>n_Expressed</th>\n",
       "      <th>OMIM_count</th>\n",
       "      <th>n_drugs</th>\n",
       "    </tr>\n",
       "  </thead>\n",
       "  <tbody>\n",
       "    <tr>\n",
       "      <th>CitationCount</th>\n",
       "      <td>1.000000</td>\n",
       "      <td>0.166161</td>\n",
       "      <td>0.028585</td>\n",
       "      <td>0.100623</td>\n",
       "      <td>0.054841</td>\n",
       "      <td>0.022761</td>\n",
       "      <td>0.189956</td>\n",
       "      <td>0.450221</td>\n",
       "      <td>0.411534</td>\n",
       "    </tr>\n",
       "    <tr>\n",
       "      <th>LOEUF</th>\n",
       "      <td>0.166161</td>\n",
       "      <td>1.000000</td>\n",
       "      <td>0.304241</td>\n",
       "      <td>0.431891</td>\n",
       "      <td>0.519616</td>\n",
       "      <td>0.046383</td>\n",
       "      <td>0.275349</td>\n",
       "      <td>0.188528</td>\n",
       "      <td>0.070581</td>\n",
       "    </tr>\n",
       "    <tr>\n",
       "      <th>GeneSize</th>\n",
       "      <td>0.028585</td>\n",
       "      <td>0.304241</td>\n",
       "      <td>1.000000</td>\n",
       "      <td>0.207621</td>\n",
       "      <td>0.264823</td>\n",
       "      <td>-0.051713</td>\n",
       "      <td>0.072917</td>\n",
       "      <td>0.081762</td>\n",
       "      <td>0.027934</td>\n",
       "    </tr>\n",
       "    <tr>\n",
       "      <th>PhyloP_mean</th>\n",
       "      <td>0.100623</td>\n",
       "      <td>0.431891</td>\n",
       "      <td>0.207621</td>\n",
       "      <td>1.000000</td>\n",
       "      <td>0.095940</td>\n",
       "      <td>-0.127002</td>\n",
       "      <td>0.469934</td>\n",
       "      <td>0.138143</td>\n",
       "      <td>0.041374</td>\n",
       "    </tr>\n",
       "    <tr>\n",
       "      <th>CDS_Length</th>\n",
       "      <td>0.054841</td>\n",
       "      <td>0.519616</td>\n",
       "      <td>0.264823</td>\n",
       "      <td>0.095940</td>\n",
       "      <td>1.000000</td>\n",
       "      <td>-0.017985</td>\n",
       "      <td>0.070224</td>\n",
       "      <td>0.174228</td>\n",
       "      <td>0.031027</td>\n",
       "    </tr>\n",
       "    <tr>\n",
       "      <th>Mean_mRNA</th>\n",
       "      <td>0.022761</td>\n",
       "      <td>0.046383</td>\n",
       "      <td>-0.051713</td>\n",
       "      <td>-0.127002</td>\n",
       "      <td>-0.017985</td>\n",
       "      <td>1.000000</td>\n",
       "      <td>0.054286</td>\n",
       "      <td>0.010816</td>\n",
       "      <td>0.005255</td>\n",
       "    </tr>\n",
       "    <tr>\n",
       "      <th>n_Expressed</th>\n",
       "      <td>0.189956</td>\n",
       "      <td>0.275349</td>\n",
       "      <td>0.072917</td>\n",
       "      <td>0.469934</td>\n",
       "      <td>0.070224</td>\n",
       "      <td>0.054286</td>\n",
       "      <td>1.000000</td>\n",
       "      <td>0.186480</td>\n",
       "      <td>0.050543</td>\n",
       "    </tr>\n",
       "    <tr>\n",
       "      <th>OMIM_count</th>\n",
       "      <td>0.450221</td>\n",
       "      <td>0.188528</td>\n",
       "      <td>0.081762</td>\n",
       "      <td>0.138143</td>\n",
       "      <td>0.174228</td>\n",
       "      <td>0.010816</td>\n",
       "      <td>0.186480</td>\n",
       "      <td>1.000000</td>\n",
       "      <td>0.215338</td>\n",
       "    </tr>\n",
       "    <tr>\n",
       "      <th>n_drugs</th>\n",
       "      <td>0.411534</td>\n",
       "      <td>0.070581</td>\n",
       "      <td>0.027934</td>\n",
       "      <td>0.041374</td>\n",
       "      <td>0.031027</td>\n",
       "      <td>0.005255</td>\n",
       "      <td>0.050543</td>\n",
       "      <td>0.215338</td>\n",
       "      <td>1.000000</td>\n",
       "    </tr>\n",
       "  </tbody>\n",
       "</table>\n",
       "</div>"
      ],
      "text/plain": [
       "               CitationCount     LOEUF  GeneSize  PhyloP_mean  CDS_Length  \\\n",
       "CitationCount       1.000000  0.166161  0.028585     0.100623    0.054841   \n",
       "LOEUF               0.166161  1.000000  0.304241     0.431891    0.519616   \n",
       "GeneSize            0.028585  0.304241  1.000000     0.207621    0.264823   \n",
       "PhyloP_mean         0.100623  0.431891  0.207621     1.000000    0.095940   \n",
       "CDS_Length          0.054841  0.519616  0.264823     0.095940    1.000000   \n",
       "Mean_mRNA           0.022761  0.046383 -0.051713    -0.127002   -0.017985   \n",
       "n_Expressed         0.189956  0.275349  0.072917     0.469934    0.070224   \n",
       "OMIM_count          0.450221  0.188528  0.081762     0.138143    0.174228   \n",
       "n_drugs             0.411534  0.070581  0.027934     0.041374    0.031027   \n",
       "\n",
       "               Mean_mRNA  n_Expressed  OMIM_count   n_drugs  \n",
       "CitationCount   0.022761     0.189956    0.450221  0.411534  \n",
       "LOEUF           0.046383     0.275349    0.188528  0.070581  \n",
       "GeneSize       -0.051713     0.072917    0.081762  0.027934  \n",
       "PhyloP_mean    -0.127002     0.469934    0.138143  0.041374  \n",
       "CDS_Length     -0.017985     0.070224    0.174228  0.031027  \n",
       "Mean_mRNA       1.000000     0.054286    0.010816  0.005255  \n",
       "n_Expressed     0.054286     1.000000    0.186480  0.050543  \n",
       "OMIM_count      0.010816     0.186480    1.000000  0.215338  \n",
       "n_drugs         0.005255     0.050543    0.215338  1.000000  "
      ]
     },
     "execution_count": 20,
     "metadata": {},
     "output_type": "execute_result"
    }
   ],
   "source": [
    "all_features.corr()"
   ]
  },
  {
   "cell_type": "code",
   "execution_count": 21,
   "metadata": {
    "ExecuteTime": {
     "end_time": "2025-04-14T21:18:54.920800Z",
     "start_time": "2025-04-14T21:18:53.883609Z"
    }
   },
   "outputs": [
    {
     "data": {
      "image/png": "[encoded data removed]",
      "text/plain": [
       "<Figure size 400x400 with 2 Axes>"
      ]
     },
     "metadata": {},
     "output_type": "display_data"
    }
   ],
   "source": [
    "_ = plt.figure(figsize=(4,4))\n",
    "cg = sns.clustermap(all_features.corr(method='spearman'), figsize=(4,4), cmap='RdBu', center=0)\n",
    "plt.close()\n",
    "order= cg.dendrogram_row.reordered_ind[::-1]\n",
    "sns.heatmap(all_features.corr(method='spearman').iloc[order, order], cmap='RdBu', center=0, square=True, annot=True, fmt='.2f', \n",
    "            annot_kws={'fontsize':7})\n",
    "plt.savefig(os.path.join(figdir, 'FeatureCorrelationsHeatmap.svg'), bbox_inches='tight')\n"
   ]
  },
  {
   "cell_type": "markdown",
   "metadata": {},
   "source": [
    "## Data Exploration"
   ]
  },
  {
   "cell_type": "code",
   "execution_count": 22,
   "metadata": {
    "ExecuteTime": {
     "end_time": "2025-04-14T21:19:02.415832Z",
     "start_time": "2025-04-14T21:18:59.373197Z"
    }
   },
   "outputs": [
    {
     "data": {
      "image/png": "[encoded data removed]",
      "text/plain": [
       "<Figure size 600x300 with 1 Axes>"
      ]
     },
     "metadata": {},
     "output_type": "display_data"
    },
    {
     "data": {
      "image/png": "[encoded data removed]",
      "text/plain": [
       "<Figure size 600x300 with 1 Axes>"
      ]
     },
     "metadata": {},
     "output_type": "display_data"
    },
    {
     "data": {
      "image/png": "[encoded data removed]",
      "text/plain": [
       "<Figure size 600x300 with 1 Axes>"
      ]
     },
     "metadata": {},
     "output_type": "display_data"
    },
    {
     "data": {
      "image/png": "[encoded data removed]",
      "text/plain": [
       "<Figure size 600x300 with 1 Axes>"
      ]
     },
     "metadata": {},
     "output_type": "display_data"
    },
    {
     "data": {
      "image/png": "[encoded data removed]",
      "text/plain": [
       "<Figure size 600x300 with 1 Axes>"
      ]
     },
     "metadata": {},
     "output_type": "display_data"
    },
    {
     "data": {
      "image/png": "[encoded data removed]",
      "text/plain": [
       "<Figure size 600x300 with 1 Axes>"
      ]
     },
     "metadata": {},
     "output_type": "display_data"
    },
    {
     "data": {
      "image/png": "[encoded data removed]",
      "text/plain": [
       "<Figure size 600x300 with 1 Axes>"
      ]
     },
     "metadata": {},
     "output_type": "display_data"
    },
    {
     "data": {
      "image/png": "[encoded data removed]",
      "text/plain": [
       "<Figure size 600x300 with 1 Axes>"
      ]
     },
     "metadata": {},
     "output_type": "display_data"
    },
    {
     "data": {
      "image/png": "[encoded data removed]",
      "text/plain": [
       "<Figure size 600x300 with 1 Axes>"
      ]
     },
     "metadata": {},
     "output_type": "display_data"
    },
    {
     "data": {
      "image/png": "[encoded data removed]",
      "text/plain": [
       "<Figure size 600x300 with 1 Axes>"
      ]
     },
     "metadata": {},
     "output_type": "display_data"
    },
    {
     "name": "stderr",
     "output_type": "stream",
     "text": [
      "/cellar/users/snwright/anaconda3/envs/carva/lib/python3.10/site-packages/pandas/core/arraylike.py:399: RuntimeWarning: divide by zero encountered in log10\n",
      "  result = getattr(ufunc, method)(*inputs, **kwargs)\n"
     ]
    },
    {
     "data": {
      "image/png": "[encoded data removed]",
      "text/plain": [
       "<Figure size 600x300 with 1 Axes>"
      ]
     },
     "metadata": {},
     "output_type": "display_data"
    }
   ],
   "source": [
    "for met, df in annot_dfs.items():\n",
    "    _ = plt.figure(figsize=(6,3))\n",
    "    if transform[met] is not None:\n",
    "        sns.histplot(np.log10(df[usecols[met]]), bins=200)\n",
    "    else:\n",
    "        sns.histplot(df[usecols[met]], bins=200)\n",
    "    plt.show()"
   ]
  },
  {
   "cell_type": "markdown",
   "metadata": {},
   "source": [
    "### Normality assumptions\n",
    "Even the most normal looking are not normally distributed. I think I will be better off using non-parametric tests. But should I take the log of exponential variables? Probably?"
   ]
  },
  {
   "cell_type": "code",
   "execution_count": null,
   "metadata": {},
   "outputs": [],
   "source": [
    "from scipy.stats import kstest\n",
    "from scipy.stats import anderson\n",
    "from scipy.stats import normaltest # d-angostino and pearson test\n",
    "import scipy\n",
    "from scipy.stats import zscore"
   ]
  },
  {
   "cell_type": "code",
   "execution_count": null,
   "metadata": {},
   "outputs": [],
   "source": [
    "annot_dfs['MisSyn'].dropna()['syn.z_score'].values"
   ]
  },
  {
   "cell_type": "code",
   "execution_count": null,
   "metadata": {},
   "outputs": [],
   "source": [
    "zscore(annot_dfs['MisSyn'].dropna()['mis.z_score'].values)"
   ]
  },
  {
   "cell_type": "code",
   "execution_count": null,
   "metadata": {},
   "outputs": [],
   "source": [
    "anderson(zscore(annot_dfs['MisSyn'].dropna()['mis.z_score'].values), dist='norm')"
   ]
  },
  {
   "cell_type": "markdown",
   "metadata": {},
   "source": [
    "# Input annotations"
   ]
  },
  {
   "cell_type": "code",
   "execution_count": 23,
   "metadata": {
    "ExecuteTime": {
     "end_time": "2025-04-14T21:19:46.321286Z",
     "start_time": "2025-04-14T21:19:46.315616Z"
    }
   },
   "outputs": [],
   "source": [
    "best_df = pd.read_csv(os.path.join(datadir, 'outputs/netcoloc/March_2025/', 'coloc_repeat_best_results.tsv'), sep='\\t')"
   ]
  },
  {
   "cell_type": "code",
   "execution_count": 24,
   "metadata": {
    "ExecuteTime": {
     "end_time": "2025-04-14T21:20:01.374448Z",
     "start_time": "2025-04-14T21:20:01.370812Z"
    }
   },
   "outputs": [
    {
     "data": {
      "text/plain": [
       "0      GCST90025947_EFO_0004533\n",
       "1      GCST90025950_EFO_0005091\n",
       "2      GCST90019513_EFO_0006925\n",
       "3      GCST90025956_EFO_0007805\n",
       "4      GCST90025965_EFO_0004531\n",
       "                 ...           \n",
       "368    GCST90239630_EFO_0010967\n",
       "369      GCST006956_EFO_0004234\n",
       "370      GCST005010_EFO_1000831\n",
       "371      GCST001854_EFO_0003839\n",
       "372    GCST90270216_EFO_0000783\n",
       "Name: TraitC, Length: 373, dtype: object"
      ]
     },
     "execution_count": 24,
     "metadata": {},
     "output_type": "execute_result"
    }
   ],
   "source": [
    "best_df.TraitC"
   ]
  },
  {
   "cell_type": "code",
   "execution_count": 25,
   "metadata": {
    "ExecuteTime": {
     "end_time": "2025-04-14T21:20:18.783550Z",
     "start_time": "2025-04-14T21:20:18.780534Z"
    }
   },
   "outputs": [
    {
     "data": {
      "text/plain": [
       "373"
      ]
     },
     "execution_count": 25,
     "metadata": {},
     "output_type": "execute_result"
    }
   ],
   "source": [
    "r_traitlist = best_df.TraitR.values\n",
    "c_traitlist = best_df.TraitC.values\n",
    "len(r_traitlist)"
   ]
  },
  {
   "cell_type": "markdown",
   "metadata": {},
   "source": [
    "## R vs C WSR from all_features"
   ]
  },
  {
   "cell_type": "code",
   "execution_count": 30,
   "metadata": {
    "ExecuteTime": {
     "end_time": "2025-04-14T21:23:05.617196Z",
     "start_time": "2025-04-14T21:23:05.611919Z"
    }
   },
   "outputs": [],
   "source": [
    "all_features.head()\n",
    "rgenes = pd.read_csv(os.path.join(datadir,'inputs/March_2025', '34375979_EFO_0004631_RV.txt'), sep='\\t').Entrez.unique()\n",
    "\n",
    "cgenes = pd.read_csv(os.path.join(datadir, 'inputs/March_2025','GCST90239630_EFO_0010967_CV.txt'), sep='\\t').Entrez.unique()"
   ]
  },
  {
   "cell_type": "code",
   "execution_count": 31,
   "metadata": {
    "ExecuteTime": {
     "end_time": "2025-04-14T21:23:08.631714Z",
     "start_time": "2025-04-14T21:23:08.619534Z"
    }
   },
   "outputs": [
    {
     "ename": "TypeError",
     "evalue": "percentileofscore() missing 1 required positional argument: 'score'",
     "output_type": "error",
     "traceback": [
      "\u001b[0;31m---------------------------------------------------------------------------\u001b[0m",
      "\u001b[0;31mTypeError\u001b[0m                                 Traceback (most recent call last)",
      "Cell \u001b[0;32mIn[31], line 2\u001b[0m\n\u001b[1;32m      1\u001b[0m \u001b[38;5;28;01mfrom\u001b[39;00m \u001b[38;5;21;01mscipy\u001b[39;00m\u001b[38;5;21;01m.\u001b[39;00m\u001b[38;5;21;01mstats\u001b[39;00m \u001b[38;5;28;01mimport\u001b[39;00m percentileofscore\n\u001b[0;32m----> 2\u001b[0m \u001b[43mpercentileofscore\u001b[49m\u001b[43m(\u001b[49m\u001b[43mall_features\u001b[49m\u001b[38;5;241;43m.\u001b[39;49m\u001b[43mLOEUF\u001b[49m\u001b[38;5;241;43m.\u001b[39;49m\u001b[43mvalues\u001b[49m\u001b[43m)\u001b[49m\n",
      "\u001b[0;31mTypeError\u001b[0m: percentileofscore() missing 1 required positional argument: 'score'"
     ]
    }
   ],
   "source": [
    "from scipy.stats import percentileofscore\n",
    "percentileofscore(all_features.LOEUF.values)\n"
   ]
  },
  {
   "cell_type": "code",
   "execution_count": 56,
   "metadata": {
    "ExecuteTime": {
     "end_time": "2025-04-14T21:30:32.319814Z",
     "start_time": "2025-04-14T21:30:32.291701Z"
    }
   },
   "outputs": [],
   "source": [
    "res_df.to_csv('/cellar/users/snwright/Data/RareCommon/outputs/Features/best_bio_feature_summarized.txt', sep='\\t', index=False)"
   ]
  },
  {
   "cell_type": "code",
   "execution_count": 32,
   "metadata": {
    "ExecuteTime": {
     "end_time": "2025-04-14T21:23:21.638727Z",
     "start_time": "2025-04-14T21:23:21.586201Z"
    }
   },
   "outputs": [],
   "source": [
    "from scipy.stats import wilcoxon, mannwhitneyu\n",
    "from statsmodels.stats.multitest import fdrcorrection\n",
    "\n",
    "\n",
    "def pair_test_annotations(rtraits, ctraits, features):\n",
    "    all_results = []\n",
    "    for i, rt in tqdm(enumerate(rtraits)):\n",
    "        ct = ctraits[i]\n",
    "        rgenes = pd.read_csv(os.path.join(datadir,'inputs/March_2025', f'{rt}_RV.txt'), sep='\\t').Entrez.unique()\n",
    "        cgenes = pd.read_csv(os.path.join(datadir,'inputs/March_2025',f'{ct}_CV.txt'), sep='\\t').Entrez.unique()\n",
    "        df = get_summary_values(rgenes, cgenes, features)\n",
    "        df['TraitC'] = ct\n",
    "        df['TraitR'] = rt\n",
    "        df['q'] = fdrcorrection(df.p)[1]\n",
    "        all_results.append(df)\n",
    "    return pd.concat(all_results)\n",
    "    \n",
    "    \n",
    "def get_summary_values(rgenes, cgenes, all_features):\n",
    "    all_genes = list(set(rgenes).union(set(cgenes)))\n",
    "    test_df = all_features.loc[[g for g in all_genes if g in all_features.index.values]]\n",
    "    rg = [g for g in rgenes if g in test_df.index.values]\n",
    "    cg= [g for g in cgenes if g in test_df.index.values]\n",
    "    \n",
    "    df_r = test_df.loc[rg]\n",
    "    df_c = test_df.loc[cg]\n",
    "    p = {}\n",
    "    for met in df_r.columns:\n",
    "        \n",
    "        if (len(df_r.dropna(subset=met)) > 2) and (len(df_c.dropna(subset=met)) > 2):\n",
    "            p[met] = mannwhitneyu(df_r.dropna(subset=met)[met].values,df_c.dropna(subset=met)[met].values).pvalue\n",
    "        else:\n",
    "            p[met] = np.nan\n",
    "    \n",
    "    mean_cols = ['OMIM_count', 'n_drugs', 'n_Expressed']\n",
    "    median_cols = [x for x in test_df.columns if x not in mean_cols]\n",
    "    mean_r = df_r.mean().loc[mean_cols].to_dict()\n",
    "    median_r = df_r.median().loc[median_cols].to_dict()\n",
    "    mean_c = df_c.mean().loc[mean_cols].to_dict()\n",
    "    median_c = df_c.median().loc[median_cols].to_dict()\n",
    "    return pd.DataFrame({'R':{**mean_r, **median_r}, 'C': {**mean_c, **median_c},\n",
    "                        'p': p}).reset_index(names=['metric'])\n",
    "    \n",
    "    "
   ]
  },
  {
   "cell_type": "code",
   "execution_count": 33,
   "metadata": {
    "ExecuteTime": {
     "end_time": "2025-04-14T21:23:39.283604Z",
     "start_time": "2025-04-14T21:23:26.569072Z"
    }
   },
   "outputs": [
    {
     "name": "stderr",
     "output_type": "stream",
     "text": [
      "373it [00:12, 29.56it/s]\n"
     ]
    }
   ],
   "source": [
    "res_df = pair_test_annotations(r_traitlist, c_traitlist, all_features)"
   ]
  },
  {
   "cell_type": "code",
   "execution_count": 34,
   "metadata": {
    "ExecuteTime": {
     "end_time": "2025-04-14T21:23:42.343157Z",
     "start_time": "2025-04-14T21:23:42.323764Z"
    }
   },
   "outputs": [
    {
     "name": "stdout",
     "output_type": "stream",
     "text": [
      "OMIM_count\n",
      "n_drugs\n",
      "n_Expressed\n",
      "CitationCount\n",
      "LOEUF\n",
      "GeneSize\n",
      "PhyloP_mean\n",
      "CDS_Length\n",
      "Mean_mRNA\n"
     ]
    }
   ],
   "source": [
    "from scipy.stats import wilcoxon\n",
    "pvals = {} \n",
    "for x in res_df['metric'].unique():\n",
    "    print(x)\n",
    "    pvals[x] = (wilcoxon(res_df[res_df['metric']==x]['C'].values, \n",
    "                          res_df[res_df['metric']==x]['R'].values, nan_policy='omit').pvalue)\n",
    "p_df = pd.DataFrame({'p':pvals})\n",
    "p_df['q'] = fdrcorrection(p_df.p)[1]"
   ]
  },
  {
   "cell_type": "code",
   "execution_count": 35,
   "metadata": {
    "ExecuteTime": {
     "end_time": "2025-04-14T21:23:44.262170Z",
     "start_time": "2025-04-14T21:23:44.257364Z"
    }
   },
   "outputs": [
    {
     "data": {
      "text/html": [
       "<div>\n",
       "<style scoped>\n",
       "    .dataframe tbody tr th:only-of-type {\n",
       "        vertical-align: middle;\n",
       "    }\n",
       "\n",
       "    .dataframe tbody tr th {\n",
       "        vertical-align: top;\n",
       "    }\n",
       "\n",
       "    .dataframe thead th {\n",
       "        text-align: right;\n",
       "    }\n",
       "</style>\n",
       "<table border=\"1\" class=\"dataframe\">\n",
       "  <thead>\n",
       "    <tr style=\"text-align: right;\">\n",
       "      <th></th>\n",
       "      <th>p</th>\n",
       "      <th>q</th>\n",
       "    </tr>\n",
       "  </thead>\n",
       "  <tbody>\n",
       "    <tr>\n",
       "      <th>OMIM_count</th>\n",
       "      <td>3.713854e-01</td>\n",
       "      <td>3.713854e-01</td>\n",
       "    </tr>\n",
       "    <tr>\n",
       "      <th>n_drugs</th>\n",
       "      <td>3.684975e-05</td>\n",
       "      <td>4.737825e-05</td>\n",
       "    </tr>\n",
       "    <tr>\n",
       "      <th>n_Expressed</th>\n",
       "      <td>1.488459e-12</td>\n",
       "      <td>2.679226e-12</td>\n",
       "    </tr>\n",
       "    <tr>\n",
       "      <th>CitationCount</th>\n",
       "      <td>6.900783e-14</td>\n",
       "      <td>1.552676e-13</td>\n",
       "    </tr>\n",
       "    <tr>\n",
       "      <th>LOEUF</th>\n",
       "      <td>5.969841e-35</td>\n",
       "      <td>2.686428e-34</td>\n",
       "    </tr>\n",
       "    <tr>\n",
       "      <th>GeneSize</th>\n",
       "      <td>4.776367e-47</td>\n",
       "      <td>4.298730e-46</td>\n",
       "    </tr>\n",
       "    <tr>\n",
       "      <th>PhyloP_mean</th>\n",
       "      <td>3.703258e-16</td>\n",
       "      <td>1.110977e-15</td>\n",
       "    </tr>\n",
       "    <tr>\n",
       "      <th>CDS_Length</th>\n",
       "      <td>6.597134e-08</td>\n",
       "      <td>9.895701e-08</td>\n",
       "    </tr>\n",
       "    <tr>\n",
       "      <th>Mean_mRNA</th>\n",
       "      <td>1.308236e-01</td>\n",
       "      <td>1.471766e-01</td>\n",
       "    </tr>\n",
       "  </tbody>\n",
       "</table>\n",
       "</div>"
      ],
      "text/plain": [
       "                          p             q\n",
       "OMIM_count     3.713854e-01  3.713854e-01\n",
       "n_drugs        3.684975e-05  4.737825e-05\n",
       "n_Expressed    1.488459e-12  2.679226e-12\n",
       "CitationCount  6.900783e-14  1.552676e-13\n",
       "LOEUF          5.969841e-35  2.686428e-34\n",
       "GeneSize       4.776367e-47  4.298730e-46\n",
       "PhyloP_mean    3.703258e-16  1.110977e-15\n",
       "CDS_Length     6.597134e-08  9.895701e-08\n",
       "Mean_mRNA      1.308236e-01  1.471766e-01"
      ]
     },
     "execution_count": 35,
     "metadata": {},
     "output_type": "execute_result"
    }
   ],
   "source": [
    "p_df"
   ]
  },
  {
   "cell_type": "code",
   "execution_count": 37,
   "metadata": {
    "ExecuteTime": {
     "end_time": "2025-04-14T21:24:04.138062Z",
     "start_time": "2025-04-14T21:24:04.131320Z"
    }
   },
   "outputs": [
    {
     "data": {
      "text/html": [
       "<div>\n",
       "<style scoped>\n",
       "    .dataframe tbody tr th:only-of-type {\n",
       "        vertical-align: middle;\n",
       "    }\n",
       "\n",
       "    .dataframe tbody tr th {\n",
       "        vertical-align: top;\n",
       "    }\n",
       "\n",
       "    .dataframe thead th {\n",
       "        text-align: right;\n",
       "    }\n",
       "</style>\n",
       "<table border=\"1\" class=\"dataframe\">\n",
       "  <thead>\n",
       "    <tr style=\"text-align: right;\">\n",
       "      <th></th>\n",
       "      <th>metric</th>\n",
       "      <th>R</th>\n",
       "      <th>C</th>\n",
       "      <th>p</th>\n",
       "      <th>TraitC</th>\n",
       "      <th>TraitR</th>\n",
       "      <th>q</th>\n",
       "      <th>EFO</th>\n",
       "    </tr>\n",
       "  </thead>\n",
       "  <tbody>\n",
       "    <tr>\n",
       "      <th>0</th>\n",
       "      <td>OMIM_count</td>\n",
       "      <td>1.2500</td>\n",
       "      <td>1.000000</td>\n",
       "      <td>0.533073</td>\n",
       "      <td>GCST90025947_EFO_0004533</td>\n",
       "      <td>34375979_EFO_0004533</td>\n",
       "      <td>0.748335</td>\n",
       "      <td>EFO_0004533</td>\n",
       "    </tr>\n",
       "    <tr>\n",
       "      <th>1</th>\n",
       "      <td>n_drugs</td>\n",
       "      <td>16.3750</td>\n",
       "      <td>22.529412</td>\n",
       "      <td>0.675793</td>\n",
       "      <td>GCST90025947_EFO_0004533</td>\n",
       "      <td>34375979_EFO_0004533</td>\n",
       "      <td>0.748335</td>\n",
       "      <td>EFO_0004533</td>\n",
       "    </tr>\n",
       "    <tr>\n",
       "      <th>2</th>\n",
       "      <td>n_Expressed</td>\n",
       "      <td>24.1250</td>\n",
       "      <td>38.058824</td>\n",
       "      <td>0.061393</td>\n",
       "      <td>GCST90025947_EFO_0004533</td>\n",
       "      <td>34375979_EFO_0004533</td>\n",
       "      <td>0.552540</td>\n",
       "      <td>EFO_0004533</td>\n",
       "    </tr>\n",
       "    <tr>\n",
       "      <th>3</th>\n",
       "      <td>CitationCount</td>\n",
       "      <td>90.0000</td>\n",
       "      <td>140.000000</td>\n",
       "      <td>0.430986</td>\n",
       "      <td>GCST90025947_EFO_0004533</td>\n",
       "      <td>34375979_EFO_0004533</td>\n",
       "      <td>0.748335</td>\n",
       "      <td>EFO_0004533</td>\n",
       "    </tr>\n",
       "    <tr>\n",
       "      <th>4</th>\n",
       "      <td>LOEUF</td>\n",
       "      <td>1.9093</td>\n",
       "      <td>2.852900</td>\n",
       "      <td>0.397642</td>\n",
       "      <td>GCST90025947_EFO_0004533</td>\n",
       "      <td>34375979_EFO_0004533</td>\n",
       "      <td>0.748335</td>\n",
       "      <td>EFO_0004533</td>\n",
       "    </tr>\n",
       "  </tbody>\n",
       "</table>\n",
       "</div>"
      ],
      "text/plain": [
       "          metric        R           C         p                    TraitC  \\\n",
       "0     OMIM_count   1.2500    1.000000  0.533073  GCST90025947_EFO_0004533   \n",
       "1        n_drugs  16.3750   22.529412  0.675793  GCST90025947_EFO_0004533   \n",
       "2    n_Expressed  24.1250   38.058824  0.061393  GCST90025947_EFO_0004533   \n",
       "3  CitationCount  90.0000  140.000000  0.430986  GCST90025947_EFO_0004533   \n",
       "4          LOEUF   1.9093    2.852900  0.397642  GCST90025947_EFO_0004533   \n",
       "\n",
       "                 TraitR         q          EFO  \n",
       "0  34375979_EFO_0004533  0.748335  EFO_0004533  \n",
       "1  34375979_EFO_0004533  0.748335  EFO_0004533  \n",
       "2  34375979_EFO_0004533  0.552540  EFO_0004533  \n",
       "3  34375979_EFO_0004533  0.748335  EFO_0004533  \n",
       "4  34375979_EFO_0004533  0.748335  EFO_0004533  "
      ]
     },
     "execution_count": 37,
     "metadata": {},
     "output_type": "execute_result"
    }
   ],
   "source": [
    "res_df.head()"
   ]
  },
  {
   "cell_type": "code",
   "execution_count": 38,
   "metadata": {
    "ExecuteTime": {
     "end_time": "2025-04-14T21:24:18.768272Z",
     "start_time": "2025-04-14T21:24:18.764400Z"
    }
   },
   "outputs": [],
   "source": [
    "res_df = res_df.assign(EFO=res_df.TraitC.apply(lambda x: x.split('_', 1)[-1]))"
   ]
  },
  {
   "cell_type": "code",
   "execution_count": 39,
   "metadata": {
    "ExecuteTime": {
     "end_time": "2025-04-14T21:24:19.337831Z",
     "start_time": "2025-04-14T21:24:19.335891Z"
    }
   },
   "outputs": [],
   "source": [
    "plot_labels={'OMIM_count':'OMIM', 'n_drugs':'# drugs', 'n_Expressed': '# Tissues', 'CitationCount':'Citations', 'LOEUF':'LOEUF',\n",
    "       'GeneSize':'Gene Size', 'PhyloP_mean':'PhyloP', 'CDS_Length':'CDS Size', 'Mean_mRNA':'mRNA Exp.'}"
   ]
  },
  {
   "cell_type": "code",
   "execution_count": 40,
   "metadata": {
    "ExecuteTime": {
     "end_time": "2025-04-14T21:24:20.213800Z",
     "start_time": "2025-04-14T21:24:20.210555Z"
    }
   },
   "outputs": [],
   "source": [
    "res_df = res_df.assign(trait=res_df.TraitR+'_'+res_df.TraitC)"
   ]
  },
  {
   "cell_type": "code",
   "execution_count": 41,
   "metadata": {
    "ExecuteTime": {
     "end_time": "2025-04-14T21:24:21.001958Z",
     "start_time": "2025-04-14T21:24:20.991470Z"
    }
   },
   "outputs": [],
   "source": [
    "r_vals = res_df.pivot_table(index='trait', columns='metric', values='R').reset_index()\n",
    "r_vals.index.name=None\n",
    "r_vals = r_vals.assign(varset='rare')\n",
    "c_vals= res_df.pivot(index='trait', columns='metric', values='C').reset_index()\n",
    "c_vals = c_vals.assign(varset='common')\n",
    "c_vals.index.name=None"
   ]
  },
  {
   "cell_type": "code",
   "execution_count": 42,
   "metadata": {
    "ExecuteTime": {
     "end_time": "2025-04-14T21:24:22.566145Z",
     "start_time": "2025-04-14T21:24:22.535046Z"
    }
   },
   "outputs": [],
   "source": [
    "all_vals = pd.concat([r_vals, c_vals])\n",
    "all_vals.to_csv('/cellar/users/snwright/Data/RareCommon/outputs/Features/initial_bio_features.tsv', sep='\\t', index=False)"
   ]
  },
  {
   "cell_type": "code",
   "execution_count": 43,
   "metadata": {
    "ExecuteTime": {
     "end_time": "2025-04-14T21:24:25.326087Z",
     "start_time": "2025-04-14T21:24:24.171861Z"
    }
   },
   "outputs": [
    {
     "data": {
      "image/png": "[encoded data removed]",
      "text/plain": [
       "<Figure size 700x200 with 6 Axes>"
      ]
     },
     "metadata": {},
     "output_type": "display_data"
    }
   ],
   "source": [
    "_, [ax1, ax2, ax3, ax4, ax5, ax6] = plt.subplots(nrows=1, ncols=6, figsize=(7, 2), gridspec_kw={'width_ratios':[1,1,1,4,2, 1], 'wspace':1})\n",
    "res_df['label'] = res_df['metric'].apply(lambda x: plot_labels[x])\n",
    "sns.boxplot(res_df[res_df['label'].isin(['Gene Size'])].loc[:, ('label', 'R', 'C')].melt(id_vars=['label']), x='label', y='value', \n",
    "            hue='variable', fliersize=0, ax=ax1, legend=False, palette=['mediumseagreen', 'skyblue'], log_scale=True, linewidth=0.3)\n",
    "sns.boxplot(res_df[res_df['label'].isin(['CDS Size', ])].loc[:, ('label', 'R', 'C')].melt(id_vars=['label']), x='label', y='value', \n",
    "            hue='variable', fliersize=0, ax=ax2, legend=False, palette=['mediumseagreen', 'skyblue'], log_scale=False, linewidth=0.3)\n",
    "sns.boxplot(res_df[res_df['label'].isin(['Citations' ])].loc[:, ('label', 'R', 'C')].melt(id_vars=['label']), x='label', y='value', \n",
    "            hue='variable', fliersize=0, ax=ax3, legend=False, palette=['mediumseagreen', 'skyblue'], linewidth=0.3)\n",
    "sns.boxplot(res_df[res_df['label'].isin(['# Tissues', 'mRNA Exp.', '# drugs'])].loc[:, ('label', 'R', 'C')].melt(id_vars=['label']), x='label', y='value', \n",
    "            hue='variable', fliersize=0, ax=ax4, legend=False, order=['# Tissues', 'mRNA Exp.', '# drugs'], palette=['mediumseagreen', 'skyblue'], linewidth=0.3)\n",
    "sns.boxplot(res_df[res_df['label'].isin(['LOEUF', 'OMIM'])].loc[:, ('label', 'R', 'C')].melt(id_vars=['label']), x='label', y='value', \n",
    "            hue='variable', fliersize=0, ax=ax5, legend=False, order=['LOEUF', 'OMIM'], palette=['mediumseagreen', 'skyblue'], linewidth=0.3)\n",
    "sns.boxplot(res_df[res_df['label'].isin(['PhyloP'])].loc[:, ('label', 'R', 'C')].melt(id_vars=['label']), x='label', y='value', \n",
    "            hue='variable', fliersize=0, ax=ax6, legend=False, palette=['mediumseagreen', 'skyblue'], linewidth=0.3)\n",
    "ax1.set_ylim(1000, 1000000)\n",
    "ax2.set_ylim(0, 3000)\n",
    "ax3.set_ylim(0, 250)\n",
    "ax4.set_ylim(0, 60)\n",
    "ax5.set_ylim(0, 6)\n",
    "ax6.set_ylim(0, 1)\n",
    "ax1.set_ylabel('Annotation Value')\n",
    "ax1.set_xlabel('')\n",
    "ax1.tick_params(axis='x', rotation=90)\n",
    "for ax in [ax2, ax3, ax4, ax5, ax6]:\n",
    "    ax.set_ylabel('')\n",
    "    ax.set_xlabel('')\n",
    "    ax.tick_params(axis='x', rotation=90)\n",
    "    \n",
    "plt.savefig(os.path.join(figdir, 'AnnotationBoxPlots.svg'), bbox_inches='tight')"
   ]
  },
  {
   "cell_type": "code",
   "execution_count": 44,
   "metadata": {
    "ExecuteTime": {
     "end_time": "2025-04-14T21:24:55.709219Z",
     "start_time": "2025-04-14T21:24:55.698567Z"
    }
   },
   "outputs": [
    {
     "data": {
      "text/html": [
       "<div>\n",
       "<style scoped>\n",
       "    .dataframe tbody tr th:only-of-type {\n",
       "        vertical-align: middle;\n",
       "    }\n",
       "\n",
       "    .dataframe tbody tr th {\n",
       "        vertical-align: top;\n",
       "    }\n",
       "\n",
       "    .dataframe thead th {\n",
       "        text-align: right;\n",
       "    }\n",
       "</style>\n",
       "<table border=\"1\" class=\"dataframe\">\n",
       "  <thead>\n",
       "    <tr style=\"text-align: right;\">\n",
       "      <th></th>\n",
       "      <th>metric</th>\n",
       "      <th>R</th>\n",
       "      <th>C</th>\n",
       "      <th>p</th>\n",
       "      <th>TraitC</th>\n",
       "      <th>TraitR</th>\n",
       "      <th>q</th>\n",
       "      <th>EFO</th>\n",
       "      <th>trait</th>\n",
       "      <th>label</th>\n",
       "      <th>q2</th>\n",
       "    </tr>\n",
       "  </thead>\n",
       "  <tbody>\n",
       "    <tr>\n",
       "      <th>0</th>\n",
       "      <td>OMIM_count</td>\n",
       "      <td>1.2500</td>\n",
       "      <td>1.000000</td>\n",
       "      <td>0.533073</td>\n",
       "      <td>GCST90025947_EFO_0004533</td>\n",
       "      <td>34375979_EFO_0004533</td>\n",
       "      <td>0.748335</td>\n",
       "      <td>EFO_0004533</td>\n",
       "      <td>34375979_EFO_0004533_GCST90025947_EFO_0004533</td>\n",
       "      <td>OMIM</td>\n",
       "      <td>0.854640</td>\n",
       "    </tr>\n",
       "    <tr>\n",
       "      <th>1</th>\n",
       "      <td>n_drugs</td>\n",
       "      <td>16.3750</td>\n",
       "      <td>22.529412</td>\n",
       "      <td>0.675793</td>\n",
       "      <td>GCST90025947_EFO_0004533</td>\n",
       "      <td>34375979_EFO_0004533</td>\n",
       "      <td>0.748335</td>\n",
       "      <td>EFO_0004533</td>\n",
       "      <td>34375979_EFO_0004533_GCST90025947_EFO_0004533</td>\n",
       "      <td># drugs</td>\n",
       "      <td>0.928522</td>\n",
       "    </tr>\n",
       "    <tr>\n",
       "      <th>2</th>\n",
       "      <td>n_Expressed</td>\n",
       "      <td>24.1250</td>\n",
       "      <td>38.058824</td>\n",
       "      <td>0.061393</td>\n",
       "      <td>GCST90025947_EFO_0004533</td>\n",
       "      <td>34375979_EFO_0004533</td>\n",
       "      <td>0.552540</td>\n",
       "      <td>EFO_0004533</td>\n",
       "      <td>34375979_EFO_0004533_GCST90025947_EFO_0004533</td>\n",
       "      <td># Tissues</td>\n",
       "      <td>0.448113</td>\n",
       "    </tr>\n",
       "    <tr>\n",
       "      <th>3</th>\n",
       "      <td>CitationCount</td>\n",
       "      <td>90.0000</td>\n",
       "      <td>140.000000</td>\n",
       "      <td>0.430986</td>\n",
       "      <td>GCST90025947_EFO_0004533</td>\n",
       "      <td>34375979_EFO_0004533</td>\n",
       "      <td>0.748335</td>\n",
       "      <td>EFO_0004533</td>\n",
       "      <td>34375979_EFO_0004533_GCST90025947_EFO_0004533</td>\n",
       "      <td>Citations</td>\n",
       "      <td>0.786190</td>\n",
       "    </tr>\n",
       "    <tr>\n",
       "      <th>4</th>\n",
       "      <td>LOEUF</td>\n",
       "      <td>1.9093</td>\n",
       "      <td>2.852900</td>\n",
       "      <td>0.397642</td>\n",
       "      <td>GCST90025947_EFO_0004533</td>\n",
       "      <td>34375979_EFO_0004533</td>\n",
       "      <td>0.748335</td>\n",
       "      <td>EFO_0004533</td>\n",
       "      <td>34375979_EFO_0004533_GCST90025947_EFO_0004533</td>\n",
       "      <td>LOEUF</td>\n",
       "      <td>0.768605</td>\n",
       "    </tr>\n",
       "  </tbody>\n",
       "</table>\n",
       "</div>"
      ],
      "text/plain": [
       "          metric        R           C         p                    TraitC  \\\n",
       "0     OMIM_count   1.2500    1.000000  0.533073  GCST90025947_EFO_0004533   \n",
       "1        n_drugs  16.3750   22.529412  0.675793  GCST90025947_EFO_0004533   \n",
       "2    n_Expressed  24.1250   38.058824  0.061393  GCST90025947_EFO_0004533   \n",
       "3  CitationCount  90.0000  140.000000  0.430986  GCST90025947_EFO_0004533   \n",
       "4          LOEUF   1.9093    2.852900  0.397642  GCST90025947_EFO_0004533   \n",
       "\n",
       "                 TraitR         q          EFO  \\\n",
       "0  34375979_EFO_0004533  0.748335  EFO_0004533   \n",
       "1  34375979_EFO_0004533  0.748335  EFO_0004533   \n",
       "2  34375979_EFO_0004533  0.552540  EFO_0004533   \n",
       "3  34375979_EFO_0004533  0.748335  EFO_0004533   \n",
       "4  34375979_EFO_0004533  0.748335  EFO_0004533   \n",
       "\n",
       "                                           trait      label        q2  \n",
       "0  34375979_EFO_0004533_GCST90025947_EFO_0004533       OMIM  0.854640  \n",
       "1  34375979_EFO_0004533_GCST90025947_EFO_0004533    # drugs  0.928522  \n",
       "2  34375979_EFO_0004533_GCST90025947_EFO_0004533  # Tissues  0.448113  \n",
       "3  34375979_EFO_0004533_GCST90025947_EFO_0004533  Citations  0.786190  \n",
       "4  34375979_EFO_0004533_GCST90025947_EFO_0004533      LOEUF  0.768605  "
      ]
     },
     "execution_count": 44,
     "metadata": {},
     "output_type": "execute_result"
    }
   ],
   "source": [
    "res_df2 = res_df.copy().dropna(subset='p')\n",
    "res_df2 = res_df2.assign(q2=fdrcorrection(res_df2.p.values)[1])\n",
    "res_df2.head()"
   ]
  },
  {
   "cell_type": "code",
   "execution_count": 45,
   "metadata": {
    "ExecuteTime": {
     "end_time": "2025-04-14T21:24:56.696532Z",
     "start_time": "2025-04-14T21:24:56.693259Z"
    }
   },
   "outputs": [],
   "source": [
    "res_df2 = res_df2.assign(logq= -1 * np.log10(res_df2.q2), minus_logq= np.log10(res_df2.q2))"
   ]
  },
  {
   "cell_type": "code",
   "execution_count": 46,
   "metadata": {
    "ExecuteTime": {
     "end_time": "2025-04-14T21:24:57.563891Z",
     "start_time": "2025-04-14T21:24:57.258911Z"
    }
   },
   "outputs": [
    {
     "data": {
      "image/png": "[encoded data removed]",
      "text/plain": [
       "<Figure size 150x200 with 1 Axes>"
      ]
     },
     "metadata": {},
     "output_type": "display_data"
    }
   ],
   "source": [
    "_ = plt.figure(figsize=(1.5, 2))\n",
    "res_df2 = res_df2.assign(minus_logq = res_df2['logq'] * -1)\n",
    "sns.violinplot(res_df2[res_df2.C > res_df2.R], y='metric', x='logq', color='skyblue', cut=0, inner=None, \n",
    "               density_norm='count', orient='h', linewidth=0.3, order=['GeneSize', 'LOEUF', 'PhyloP_mean', 'CitationCount',\n",
    "                                                                      'CDS_Length','n_Expressed', 'Mean_mRNA', 'OMIM_count',\n",
    "                                                                      'n_drugs'])\n",
    "sns.violinplot(res_df2[res_df2.C<res_df2.R], y='metric', x='minus_logq', color='mediumseagreen', cut=0, inner=None, \n",
    "               density_norm='count', orient='h', linewidth=0.3, order=['GeneSize', 'LOEUF', 'PhyloP_mean', 'CitationCount',\n",
    "                                                                      'CDS_Length','n_Expressed', 'Mean_mRNA', 'OMIM_count',\n",
    "                                                                      'n_drugs'])\n",
    "plt.vlines(x=0, ymin=10.5, ymax=-0.5, color='black', linewidth=0.5)\n",
    "plt.vlines(x=[np.log10(0.05), -1 * np.log10(0.05)], ymin=-0.5, ymax=10.5, linewidth=0.5, linestyle='--', color='black')\n",
    "plt.ylim(-0.5, 8.5)\n",
    "\n",
    "plt.gca().invert_yaxis()\n",
    "_ = plt.xticks([-4, -1.3, 0, 1.3, 4, 10], ['10-4','' , 1,'', '10-4', '10-10'])\n",
    "plt.xlim(-4, 4)\n",
    "_ = plt.yticks(plt.yticks()[0], [plot_labels[x.get_text()] for x in plt.yticks()[1]])\n",
    "plt.savefig(os.path.join(figdir, 'AnnotationViolins.svg'), bbox_inches='tight')"
   ]
  },
  {
   "cell_type": "code",
   "execution_count": 47,
   "metadata": {
    "ExecuteTime": {
     "end_time": "2025-04-14T21:24:59.790540Z",
     "start_time": "2025-04-14T21:24:59.467127Z"
    }
   },
   "outputs": [
    {
     "data": {
      "image/png": "[encoded data removed]",
      "text/plain": [
       "<Figure size 150x200 with 1 Axes>"
      ]
     },
     "metadata": {},
     "output_type": "display_data"
    }
   ],
   "source": [
    "_ = plt.figure(figsize=(1.5, 2))\n",
    "res_df2 = res_df2.assign(minus_logq = res_df2['logq'] * -1)\n",
    "sns.violinplot(res_df2[res_df2.C > res_df2.R], y='metric', x='logq', color='skyblue', cut=0, inner=None, \n",
    "               density_norm='count', orient='h', linewidth=0.3, order=['GeneSize', 'LOEUF', 'PhyloP_mean', 'CitationCount',\n",
    "                                                                      'CDS_Length','n_Expressed', 'Mean_mRNA', 'OMIM_count',\n",
    "                                                                      'n_drugs'])\n",
    "sns.violinplot(res_df2[res_df2.C<res_df2.R], y='metric', x='minus_logq', color='mediumseagreen', cut=0, inner=None, \n",
    "               density_norm='count', orient='h', linewidth=0.3, order=['GeneSize', 'LOEUF', 'PhyloP_mean', 'CitationCount',\n",
    "                                                                      'CDS_Length','n_Expressed', 'Mean_mRNA', 'OMIM_count',\n",
    "                                                                      'n_drugs'])\n",
    "plt.vlines(x=0, ymin=10.5, ymax=-0.5, color='black', linewidth=0.5)\n",
    "plt.vlines(x=[np.log10(0.05), -1 * np.log10(0.05)], ymin=-0.5, ymax=10.5, linewidth=0.5, linestyle='--', color='black')\n",
    "plt.ylim(-0.5, 8.5)\n",
    "\n",
    "plt.gca().invert_yaxis()\n",
    "_ = plt.xticks([-4, -1.3, 0, 1.3, 4, 10], ['10-4','' , 1,'', '10-4', '10-10'])\n",
    "plt.xlim(-4, 4)\n",
    "plt.savefig(os.path.join(figdir, 'AnnotationViolins.svg'), bbox_inches='tight')"
   ]
  },
  {
   "cell_type": "markdown",
   "metadata": {},
   "source": [
    "## R vs C MannWhitneyU"
   ]
  },
  {
   "cell_type": "code",
   "execution_count": 48,
   "metadata": {
    "ExecuteTime": {
     "end_time": "2025-04-14T21:25:00.985396Z",
     "start_time": "2025-04-14T21:25:00.979774Z"
    }
   },
   "outputs": [],
   "source": [
    "from scipy.stats import mannwhitneyu\n",
    "from statsmodels.stats.multitest import fdrcorrection\n",
    "def test_annotation(rgenes, cgenes, annot_df, annot_col, metric=np.median, missing_value=None):\n",
    "    rg = [g for g in rgenes if g in annot_df.dropna(subset=[annot_col]).index.values]\n",
    "    cg = [g for g in cgenes if g in annot_df.dropna(subset=[annot_col]).index.values]\n",
    "    if missing_value is None:\n",
    "        use_df = annot_df.loc[list(rg)+list(cg)]\n",
    "    else:\n",
    "        missing = [g for g in rgenes if g not in annot_df.dropna(subset=[annot_col]).index.values] + [g for g in cgenes if g not in annot_df.dropna(subset=[annot_col]).index.values]\n",
    "        append_df = pd.DataFrame({annot_col: missing_value}, index=missing)\n",
    "        if len(append_df) > 0:\n",
    "            use_df = pd.concat([annot_df.loc[list(rg)+list(cg)], append_df])\n",
    "        else:\n",
    "            use_df = annot_df.loc[list(rg)+list(cg)]\n",
    "        rg = rgenes\n",
    "        cg = cgenes\n",
    "    if (len(rg) > 0 and len(cg) > 0) and (len(rg) + len(cg) >= 6):\n",
    "        med_rg = metric(use_df.loc[rg][annot_col].values)\n",
    "        med_cg = metric(use_df.loc[cg][annot_col].values)\n",
    "        res = mannwhitneyu(use_df.loc[rg][annot_col].values, use_df.loc[cg][annot_col].values)\n",
    "    else:\n",
    "        return {'R_med':np.nan, 'C_med': np.nan, 'p': np.nan}\n",
    "    return {'R_med':med_rg, 'C_med': med_cg, 'p': res.pvalue}"
   ]
  },
  {
   "cell_type": "code",
   "execution_count": 50,
   "metadata": {
    "ExecuteTime": {
     "end_time": "2025-04-14T21:28:18.577297Z",
     "start_time": "2025-04-14T21:25:16.444283Z"
    }
   },
   "outputs": [
    {
     "name": "stderr",
     "output_type": "stream",
     "text": [
      "373it [03:02,  2.05it/s]\n"
     ]
    }
   ],
   "source": [
    "trait_results = []\n",
    "for i, rt in tqdm(enumerate(r_traitlist)):\n",
    "    ct = c_traitlist[i]\n",
    "    all_res = {}\n",
    "    rgenes = pd.read_csv(os.path.join(datadir,'inputs/March_2025', f'{rt}_RV.txt'), sep='\\t').Entrez.unique()\n",
    "    cgenes = pd.read_csv(os.path.join(datadir,'inputs/March_2025',f'{ct}_CV.txt'), sep='\\t').Entrez.unique()\n",
    "    for met, df in annot_dfs.items():\n",
    "        all_res[met] = test_annotation(rgenes, cgenes, df, usecols[met], missing_value = missing_val[met])\n",
    "    \n",
    "    all_res = pd.DataFrame.from_dict(all_res,orient='index').reset_index().dropna()\n",
    "    all_res['CTrait'] = ct\n",
    "    all_res['RTrait'] = rt\n",
    "    all_res['q'] = fdrcorrection(all_res.p.values)[1]\n",
    "    trait_results.append(all_res)"
   ]
  },
  {
   "cell_type": "code",
   "execution_count": 51,
   "metadata": {
    "ExecuteTime": {
     "end_time": "2025-04-14T21:28:19.962615Z",
     "start_time": "2025-04-14T21:28:19.942561Z"
    }
   },
   "outputs": [],
   "source": [
    "df = pd.concat(trait_results).sort_values('q')\n",
    "df['EFO'] = df.CTrait.apply(lambda x: x.split('_', 1)[-1])\n",
    "df_drop = df.drop_duplicates(subset=['EFO', 'index'])\n",
    "df_drop = df_drop.assign(logq = -1 * np.log10(df_drop.q))"
   ]
  },
  {
   "cell_type": "code",
   "execution_count": 52,
   "metadata": {
    "ExecuteTime": {
     "end_time": "2025-04-14T21:28:21.335109Z",
     "start_time": "2025-04-14T21:28:21.332372Z"
    }
   },
   "outputs": [
    {
     "data": {
      "text/plain": [
       "array(['Length', 'omim', 'mrna', 'Disgen', 'phylop', 'MisSyn', 'pli',\n",
       "       'GO', 'Cite', 'Prot', 'dgi'], dtype=object)"
      ]
     },
     "execution_count": 52,
     "metadata": {},
     "output_type": "execute_result"
    }
   ],
   "source": [
    "df['index'].unique()"
   ]
  },
  {
   "cell_type": "code",
   "execution_count": 44,
   "metadata": {
    "ExecuteTime": {
     "end_time": "2025-03-03T17:56:42.341685Z",
     "start_time": "2025-03-03T17:56:42.336919Z"
    }
   },
   "outputs": [],
   "source": [
    "plot_df = df_drop[df_drop['index']=='pli'].reset_index()\n",
    "plot_df = plot_df.assign(minus_logq = plot_df['logq'] * -1)\n",
    "plot_df = plot_df.assign(Cmore=plot_df['R_med'] < plot_df['C_med'])\n",
    "plot_df = plot_df.assign(sig_level=plot_df.logq.apply(lambda z: 0 if z < 1.3 else 1 if z < 3 else 2 if z < 5 else 3))"
   ]
  },
  {
   "cell_type": "markdown",
   "metadata": {},
   "source": [
    "### Violin plots"
   ]
  },
  {
   "cell_type": "code",
   "execution_count": 15,
   "metadata": {
    "ExecuteTime": {
     "end_time": "2025-02-25T00:31:25.351670Z",
     "start_time": "2025-02-25T00:31:25.021744Z"
    }
   },
   "outputs": [
    {
     "data": {
      "image/png": "[encoded data removed]",
      "text/plain": [
       "<Figure size 200x300 with 1 Axes>"
      ]
     },
     "metadata": {},
     "output_type": "display_data"
    }
   ],
   "source": [
    "_ = plt.figure(figsize=(2, 3))\n",
    "df_drop = df_drop.assign(minus_logq = df_drop['logq'] * -1)\n",
    "plot_df = df_drop.assign(Metric=df_drop['index'].map(labels))\n",
    "sns.violinplot(plot_df[plot_df.C_med > plot_df.R_med], y='Metric', x='logq', color='skyblue', cut=0, inner=None, \n",
    "               density_norm='count', orient='h', linewidth=0.3)\n",
    "sns.violinplot(plot_df[plot_df.C_med < plot_df.R_med], y='Metric', x='minus_logq', color='mediumseagreen', cut=0, inner=None, \n",
    "               density_norm='count', orient='h', linewidth=0.3)\n",
    "plt.vlines(x=0, ymin=10.5, ymax=-0.5, color='black', linewidth=0.5)\n",
    "plt.vlines(x=[np.log10(0.05), -1 * np.log10(0.05)], ymin=-0.5, ymax=10.5, linewidth=0.5, linestyle='--', color='black')\n",
    "plt.ylim(-0.5, 10.5)\n",
    "plt.gca().invert_yaxis()\n",
    "_ = plt.xticks([-5, -1.3, 0, 1.3, 5, 10], ['10-5','' , 1,'', '10-5', '10-10'])"
   ]
  },
  {
   "cell_type": "code",
   "execution_count": 83,
   "metadata": {
    "ExecuteTime": {
     "end_time": "2025-03-03T21:26:33.950909Z",
     "start_time": "2025-03-03T21:26:33.935069Z"
    }
   },
   "outputs": [],
   "source": [
    "plot_df.to_csv('/cellar/users/snwright/Data/RareCommon/outputs/Features/initial_bio_features.tsv', sep='\\t', index=False)"
   ]
  },
  {
   "cell_type": "markdown",
   "metadata": {},
   "source": [
    "## Paired Wilcoxon on medians/means"
   ]
  },
  {
   "cell_type": "code",
   "execution_count": 45,
   "metadata": {
    "ExecuteTime": {
     "end_time": "2025-03-03T17:56:42.970402Z",
     "start_time": "2025-03-03T17:56:42.947915Z"
    }
   },
   "outputs": [
    {
     "name": "stdout",
     "output_type": "stream",
     "text": [
      "Length\n",
      "phylop\n",
      "Cite\n",
      "Disgen\n",
      "GO\n",
      "pli\n",
      "omim\n",
      "MisSyn\n",
      "mrna\n",
      "Prot\n",
      "dgi\n"
     ]
    }
   ],
   "source": [
    "from scipy.stats import wilcoxon\n",
    "pvals = [] \n",
    "for x in df_drop['index'].unique():\n",
    "    print(x)\n",
    "    pvals.append(wilcoxon(df_drop[df_drop['index']==x]['C_med'].values, df_drop[df_drop['index']==x]['R_med'].values, nan_policy='omit').pvalue)\n",
    "    \n",
    "fdrcorrection(pvals, alpha=0.05)"
   ]
  },
  {
   "cell_type": "code",
   "execution_count": 46,
   "metadata": {
    "ExecuteTime": {
     "end_time": "2025-03-03T17:56:43.577816Z",
     "start_time": "2025-03-03T17:56:43.574673Z"
    }
   },
   "outputs": [
    {
     "data": {
      "text/plain": [
       "(array([ True,  True,  True,  True,  True,  True, False,  True, False,\n",
       "        False,  True]),\n",
       " array([1.36471054e-40, 8.66315977e-14, 7.02818324e-06, 1.25337067e-03,\n",
       "        3.73063259e-06, 8.11268224e-20, 7.12484085e-01, 2.46729150e-12,\n",
       "        7.12484085e-01, 6.77720587e-01, 3.85679452e-02]))"
      ]
     },
     "execution_count": 46,
     "metadata": {},
     "output_type": "execute_result"
    }
   ],
   "source": [
    "fdrcorrection(pvals, alpha=0.05)"
   ]
  },
  {
   "cell_type": "markdown",
   "metadata": {},
   "source": [
    "## Additional metrics"
   ]
  },
  {
   "cell_type": "code",
   "execution_count": 22,
   "metadata": {
    "ExecuteTime": {
     "end_time": "2025-02-25T00:48:28.888338Z",
     "start_time": "2025-02-25T00:48:28.845702Z"
    }
   },
   "outputs": [],
   "source": [
    "transform = {\n",
    " 'MisSyn': None,\n",
    " 'pli': None,\n",
    " 'dgi': np.log10,\n",
    " 'Prot': None,\n",
    " 'phylop': None,\n",
    " 'mrna': np.log10,\n",
    "    'pli_z': None,\n",
    " 'drug': None}\n",
    "\n",
    "metric = {\n",
    " 'MisSyn': np.mean,\n",
    " 'pli': np.median,\n",
    " 'dgi': np.mean,\n",
    " 'Prot': np.median,\n",
    " 'phylop': np.median,\n",
    " 'mrna': np.median,\n",
    "    'pli_z': np.median,\n",
    " 'drug': np.mean}\n",
    "\n",
    "missing_val = {\n",
    " 'MisSyn': None,\n",
    " 'pli': None,\n",
    " 'dgi': 0,\n",
    " 'Prot': None,\n",
    " 'phylop': None,\n",
    " 'mrna': None,\n",
    "'pli_z': None,\n",
    " 'drug': 0}\n",
    "\n",
    "usecols = {\n",
    " 'MisSyn': 'syn.z_score',\n",
    " 'pli': 'lof.pLI',\n",
    " 'dgi': 'n_drugs',\n",
    " 'Prot': 'n_Expressed',\n",
    " 'phylop': 'PhyloP_median',\n",
    " 'mrna': 'n_Expressed',\n",
    " 'pli_z': 'lof.z_score',\n",
    " 'drug': 'druggability'}\n",
    "\n",
    "labels = {\n",
    " 'MisSyn': 'Synonymous intolerance',\n",
    " 'pli': 'lof.pLI',\n",
    " 'dgi': 'Drug Count',\n",
    " 'Prot': 'Protein Abun.',\n",
    " 'phylop': 'Gene Conservation',\n",
    " 'mrna': 'mRNA Exp.',\n",
    "  'pli_z': 'lof.z_score',\n",
    " 'drug': 'druggability'}\n",
    "\n",
    "files = {\n",
    "    'MisSyn': 'Gene_MisSyn.txt', \n",
    "    'pli': 'Gene_pLI.txt',\n",
    "    'dgi': 'Gene_DGI_scores.txt', \n",
    "    'Prot': 'Gene_prot.txt',\n",
    "    'phylop': 'Gene_PhyloP.txt',\n",
    "    'mrna':'Gene_mRNA.txt',\n",
    "        'pli_z': 'Gene_pLI.txt',\n",
    "    'drug': 'Gene_DGI_scores.txt', \n",
    "}\n",
    "\n",
    "annot_dfs2 = {}\n",
    "for met, file in files.items():\n",
    "    annot_dfs2[met] = pd.read_csv(os.path.join(annot_dir, file), sep='\\t', index_col=0)"
   ]
  },
  {
   "cell_type": "code",
   "execution_count": 23,
   "metadata": {
    "ExecuteTime": {
     "end_time": "2025-02-25T00:51:43.311319Z",
     "start_time": "2025-02-25T00:48:30.716234Z"
    }
   },
   "outputs": [
    {
     "name": "stderr",
     "output_type": "stream",
     "text": [
      "400it [03:12,  2.08it/s]\n"
     ]
    }
   ],
   "source": [
    "trait_results2 = []\n",
    "for i, rt in tqdm(enumerate(r_traitlist[0:400])):\n",
    "    ct = c_traitlist[i]\n",
    "    all_res = {}\n",
    "    rgenes = pd.read_csv(os.path.join(datadir,'inputs/Jan_2025', f'{rt}_RV.txt'), sep='\\t').Entrez.unique()\n",
    "    cgenes = pd.read_csv(os.path.join(datadir,'inputs/Jan_2025',f'{ct}_CV.txt'), sep='\\t').Entrez.unique()\n",
    "    for met, df in annot_dfs2.items():\n",
    "        all_res[met] = test_annotation(rgenes, cgenes, df, usecols[met], missing_value = missing_val[met])\n",
    "    \n",
    "    all_res = pd.DataFrame.from_dict(all_res,orient='index').reset_index().dropna()\n",
    "    all_res['CTrait'] = ct\n",
    "    all_res['RTrait'] = rt\n",
    "    all_res['q'] = fdrcorrection(all_res.p.values)[1]\n",
    "    trait_results2.append(all_res)"
   ]
  },
  {
   "cell_type": "code",
   "execution_count": 24,
   "metadata": {
    "ExecuteTime": {
     "end_time": "2025-02-25T00:51:49.267440Z",
     "start_time": "2025-02-25T00:51:49.245516Z"
    }
   },
   "outputs": [],
   "source": [
    "df2 = pd.concat(trait_results2).sort_values('q')\n",
    "df2['EFO'] = df2.CTrait.apply(lambda x: x.split('_', 1)[-1])\n",
    "df2_drop = df2.drop_duplicates(subset=['EFO', 'index'])\n",
    "df2_drop = df2_drop.assign(logq = -1 * np.log10(df2_drop.q))"
   ]
  },
  {
   "cell_type": "code",
   "execution_count": 25,
   "metadata": {
    "ExecuteTime": {
     "end_time": "2025-02-25T00:51:52.231329Z",
     "start_time": "2025-02-25T00:51:51.994662Z"
    }
   },
   "outputs": [
    {
     "data": {
      "image/png": "[encoded data removed]",
      "text/plain": [
       "<Figure size 200x300 with 1 Axes>"
      ]
     },
     "metadata": {},
     "output_type": "display_data"
    }
   ],
   "source": [
    "_ = plt.figure(figsize=(2, 3))\n",
    "df2_drop = df2_drop.assign(minus_logq = df2_drop['logq'] * -1)\n",
    "plot_df = df2_drop.assign(Metric=df2_drop['index'].map(labels))\n",
    "sns.violinplot(plot_df[plot_df.C_med > plot_df.R_med], y='Metric', x='logq', color='skyblue', cut=0, inner=None, \n",
    "               density_norm='count', orient='h', linewidth=0.3)\n",
    "sns.violinplot(plot_df[plot_df.C_med < plot_df.R_med], y='Metric', x='minus_logq', color='mediumseagreen', cut=0, inner=None, \n",
    "               density_norm='count', orient='h', linewidth=0.3)\n",
    "plt.vlines(x=0, ymin=10.5, ymax=-0.5, color='black', linewidth=0.5)\n",
    "plt.vlines(x=[np.log10(0.05), -1 * np.log10(0.05)], ymin=-0.5, ymax=10.5, linewidth=0.5, linestyle='--', color='black')\n",
    "plt.ylim(-0.5, 10.5)\n",
    "plt.gca().invert_yaxis()\n",
    "_ = plt.xticks([-5, -1.3, 0, 1.3, 5, 10], ['10-5','' , 1,'', '10-5', '10-10'])"
   ]
  },
  {
   "cell_type": "markdown",
   "metadata": {},
   "source": [
    "# Network Annotations"
   ]
  },
  {
   "cell_type": "code",
   "execution_count": 47,
   "metadata": {
    "ExecuteTime": {
     "end_time": "2025-03-03T17:56:44.185692Z",
     "start_time": "2025-03-03T17:56:44.182639Z"
    }
   },
   "outputs": [
    {
     "data": {
      "text/plain": [
       "336"
      ]
     },
     "execution_count": 47,
     "metadata": {},
     "output_type": "execute_result"
    }
   ],
   "source": [
    "all_pairs = [r_traitlist[i]+'_'+c_traitlist[i] for i in range(len(r_traitlist))]\n",
    "len(all_pairs)"
   ]
  },
  {
   "cell_type": "code",
   "execution_count": 48,
   "metadata": {
    "ExecuteTime": {
     "end_time": "2025-03-03T17:56:46.038177Z",
     "start_time": "2025-03-03T17:56:44.784832Z"
    }
   },
   "outputs": [],
   "source": [
    "# Load network results\n",
    "net = []\n",
    "for pair in all_pairs:\n",
    "    try:\n",
    "        x = pd.read_csv(os.path.join(datadir, 'outputs/Features', f'network_stats_pcnet2_0_rare.traitlist2.{pair}'), sep='\\t', low_memory=False)\n",
    "        net.append(x)\n",
    "    except FileNotFoundError:\n",
    "        print(f'{pair} not found')"
   ]
  },
  {
   "cell_type": "code",
   "execution_count": 49,
   "metadata": {
    "ExecuteTime": {
     "end_time": "2025-03-03T17:56:47.378556Z",
     "start_time": "2025-03-03T17:56:47.356040Z"
    }
   },
   "outputs": [],
   "source": [
    "netdf = pd.concat(net)"
   ]
  },
  {
   "cell_type": "code",
   "execution_count": 50,
   "metadata": {
    "ExecuteTime": {
     "end_time": "2025-03-03T17:56:48.693414Z",
     "start_time": "2025-03-03T17:56:48.675629Z"
    }
   },
   "outputs": [],
   "source": [
    "mod_df = pd.read_csv(os.path.join(datadir, 'outputs/Features/network_modularities_pcnet2_2_rare.traitlist2'), sep='\\t')"
   ]
  },
  {
   "cell_type": "code",
   "execution_count": 51,
   "metadata": {
    "ExecuteTime": {
     "end_time": "2025-03-03T17:56:49.986319Z",
     "start_time": "2025-03-03T17:56:49.984391Z"
    }
   },
   "outputs": [],
   "source": [
    "mod_df.index = all_pairs"
   ]
  },
  {
   "cell_type": "code",
   "execution_count": 52,
   "metadata": {
    "ExecuteTime": {
     "end_time": "2025-03-03T17:56:51.387872Z",
     "start_time": "2025-03-03T17:56:51.385903Z"
    }
   },
   "outputs": [],
   "source": [
    "mod_df.columns = ['common', 'rare', 'overlap', 'subnetwork?', 'rare_common']"
   ]
  },
  {
   "cell_type": "code",
   "execution_count": 53,
   "metadata": {
    "ExecuteTime": {
     "end_time": "2025-03-03T17:56:52.698535Z",
     "start_time": "2025-03-03T17:56:52.694915Z"
    }
   },
   "outputs": [],
   "source": [
    "mod_df = mod_df.melt(value_name='Modularity', var_name='varset', ignore_index=False).reset_index(names='trait')"
   ]
  },
  {
   "cell_type": "code",
   "execution_count": 54,
   "metadata": {
    "ExecuteTime": {
     "end_time": "2025-03-03T17:56:54.003430Z",
     "start_time": "2025-03-03T17:56:53.998698Z"
    }
   },
   "outputs": [
    {
     "data": {
      "text/html": [
       "<div>\n",
       "<style scoped>\n",
       "    .dataframe tbody tr th:only-of-type {\n",
       "        vertical-align: middle;\n",
       "    }\n",
       "\n",
       "    .dataframe tbody tr th {\n",
       "        vertical-align: top;\n",
       "    }\n",
       "\n",
       "    .dataframe thead th {\n",
       "        text-align: right;\n",
       "    }\n",
       "</style>\n",
       "<table border=\"1\" class=\"dataframe\">\n",
       "  <thead>\n",
       "    <tr style=\"text-align: right;\">\n",
       "      <th></th>\n",
       "      <th>trait</th>\n",
       "      <th>varset</th>\n",
       "      <th>Modularity</th>\n",
       "    </tr>\n",
       "  </thead>\n",
       "  <tbody>\n",
       "    <tr>\n",
       "      <th>0</th>\n",
       "      <td>34375979.0_EFO_0009322_GCST007289_EFO_0009322</td>\n",
       "      <td>common</td>\n",
       "      <td>-3.362651e-08</td>\n",
       "    </tr>\n",
       "    <tr>\n",
       "      <th>1</th>\n",
       "      <td>34375979.0_EFO_0007997_GCST004608_EFO_0007997</td>\n",
       "      <td>common</td>\n",
       "      <td>4.296145e-05</td>\n",
       "    </tr>\n",
       "    <tr>\n",
       "      <th>2</th>\n",
       "      <td>34375979.0_EFO_0009959_GCST008105_EFO_0009959</td>\n",
       "      <td>common</td>\n",
       "      <td>5.995276e-07</td>\n",
       "    </tr>\n",
       "    <tr>\n",
       "      <th>3</th>\n",
       "      <td>34662886.0_EFO_0009819_GCST010989_EFO_0009819</td>\n",
       "      <td>common</td>\n",
       "      <td>5.622304e-05</td>\n",
       "    </tr>\n",
       "    <tr>\n",
       "      <th>4</th>\n",
       "      <td>36809768.0_EFO_0010114_GCST90092813_EFO_0010114</td>\n",
       "      <td>common</td>\n",
       "      <td>2.226009e-07</td>\n",
       "    </tr>\n",
       "  </tbody>\n",
       "</table>\n",
       "</div>"
      ],
      "text/plain": [
       "                                             trait  varset    Modularity\n",
       "0    34375979.0_EFO_0009322_GCST007289_EFO_0009322  common -3.362651e-08\n",
       "1    34375979.0_EFO_0007997_GCST004608_EFO_0007997  common  4.296145e-05\n",
       "2    34375979.0_EFO_0009959_GCST008105_EFO_0009959  common  5.995276e-07\n",
       "3    34662886.0_EFO_0009819_GCST010989_EFO_0009819  common  5.622304e-05\n",
       "4  36809768.0_EFO_0010114_GCST90092813_EFO_0010114  common  2.226009e-07"
      ]
     },
     "execution_count": 54,
     "metadata": {},
     "output_type": "execute_result"
    }
   ],
   "source": [
    "mod_df.head()"
   ]
  },
  {
   "cell_type": "code",
   "execution_count": 55,
   "metadata": {
    "ExecuteTime": {
     "end_time": "2025-03-03T17:56:55.336845Z",
     "start_time": "2025-03-03T17:56:55.316841Z"
    }
   },
   "outputs": [],
   "source": [
    "# get gene set sizes\n",
    "\n",
    "over_df = pd.read_csv('/cellar/users/snwright/Data/RareCommon/outputs/overlap/rvc_overlap_results_Jan_2025_v2.txt', sep='\\t',\n",
    "                     header=None, names=['trait_pair', 'param_set', 'n_common', 'n_rare', 'n_overlap', 'background', 'pval'])\n",
    "over_df = over_df[over_df.trait_pair.isin(all_pairs)]\n",
    "size_df = over_df.loc[:, ('trait_pair','n_common', 'n_rare', 'n_overlap')]\n",
    "size_df = size_df.assign(total=size_df.n_common + size_df.n_rare - 2 * size_df.n_overlap)"
   ]
  },
  {
   "cell_type": "code",
   "execution_count": 56,
   "metadata": {
    "ExecuteTime": {
     "end_time": "2025-03-03T17:56:56.637714Z",
     "start_time": "2025-03-03T17:56:56.633936Z"
    }
   },
   "outputs": [],
   "source": [
    "size_df = size_df.melt(id_vars='trait_pair', var_name='varset', value_name='SetSize')"
   ]
  },
  {
   "cell_type": "code",
   "execution_count": 57,
   "metadata": {
    "ExecuteTime": {
     "end_time": "2025-03-03T17:56:57.936295Z",
     "start_time": "2025-03-03T17:56:57.933653Z"
    }
   },
   "outputs": [],
   "source": [
    "size_df = size_df.assign(varset=size_df.varset.map({'n_common':'common', 'n_rare':'rare', 'n_overlap':'overlap', 'total':'rare_common'}))"
   ]
  },
  {
   "cell_type": "code",
   "execution_count": 58,
   "metadata": {
    "ExecuteTime": {
     "end_time": "2025-03-03T17:56:59.244256Z",
     "start_time": "2025-03-03T17:56:59.239644Z"
    }
   },
   "outputs": [
    {
     "data": {
      "text/html": [
       "<div>\n",
       "<style scoped>\n",
       "    .dataframe tbody tr th:only-of-type {\n",
       "        vertical-align: middle;\n",
       "    }\n",
       "\n",
       "    .dataframe tbody tr th {\n",
       "        vertical-align: top;\n",
       "    }\n",
       "\n",
       "    .dataframe thead th {\n",
       "        text-align: right;\n",
       "    }\n",
       "</style>\n",
       "<table border=\"1\" class=\"dataframe\">\n",
       "  <thead>\n",
       "    <tr style=\"text-align: right;\">\n",
       "      <th></th>\n",
       "      <th>trait_pair</th>\n",
       "      <th>varset</th>\n",
       "      <th>SetSize</th>\n",
       "    </tr>\n",
       "  </thead>\n",
       "  <tbody>\n",
       "    <tr>\n",
       "      <th>0</th>\n",
       "      <td>20549515.0_EFO_0000384_GCST90446792_EFO_0000384</td>\n",
       "      <td>common</td>\n",
       "      <td>102</td>\n",
       "    </tr>\n",
       "    <tr>\n",
       "      <th>1</th>\n",
       "      <td>20549515.0_EFO_0000685_GCST90018910_EFO_0000685</td>\n",
       "      <td>common</td>\n",
       "      <td>11</td>\n",
       "    </tr>\n",
       "    <tr>\n",
       "      <th>2</th>\n",
       "      <td>20691247.0_EFO_0004825_GCST001531_EFO_0004825</td>\n",
       "      <td>common</td>\n",
       "      <td>6</td>\n",
       "    </tr>\n",
       "    <tr>\n",
       "      <th>3</th>\n",
       "      <td>20876667.0_EFO_0000765_GCST001060_EFO_0000765</td>\n",
       "      <td>common</td>\n",
       "      <td>3</td>\n",
       "    </tr>\n",
       "    <tr>\n",
       "      <th>4</th>\n",
       "      <td>23263489.0_EFO_0009961_GCST008110_EFO_0009961</td>\n",
       "      <td>common</td>\n",
       "      <td>3</td>\n",
       "    </tr>\n",
       "  </tbody>\n",
       "</table>\n",
       "</div>"
      ],
      "text/plain": [
       "                                        trait_pair  varset  SetSize\n",
       "0  20549515.0_EFO_0000384_GCST90446792_EFO_0000384  common      102\n",
       "1  20549515.0_EFO_0000685_GCST90018910_EFO_0000685  common       11\n",
       "2    20691247.0_EFO_0004825_GCST001531_EFO_0004825  common        6\n",
       "3    20876667.0_EFO_0000765_GCST001060_EFO_0000765  common        3\n",
       "4    23263489.0_EFO_0009961_GCST008110_EFO_0009961  common        3"
      ]
     },
     "execution_count": 58,
     "metadata": {},
     "output_type": "execute_result"
    }
   ],
   "source": [
    "size_df.head()"
   ]
  },
  {
   "cell_type": "code",
   "execution_count": 59,
   "metadata": {
    "ExecuteTime": {
     "end_time": "2025-03-03T17:57:00.557684Z",
     "start_time": "2025-03-03T17:57:00.553025Z"
    }
   },
   "outputs": [],
   "source": [
    "netdf = netdf.merge(size_df, left_on=['trait','varset'], right_on=['trait_pair', 'varset'], how='left')"
   ]
  },
  {
   "cell_type": "code",
   "execution_count": 684,
   "metadata": {
    "ExecuteTime": {
     "end_time": "2025-03-01T02:18:10.681635Z",
     "start_time": "2025-03-01T02:18:10.676657Z"
    }
   },
   "outputs": [
    {
     "data": {
      "text/html": [
       "<div>\n",
       "<style scoped>\n",
       "    .dataframe tbody tr th:only-of-type {\n",
       "        vertical-align: middle;\n",
       "    }\n",
       "\n",
       "    .dataframe tbody tr th {\n",
       "        vertical-align: top;\n",
       "    }\n",
       "\n",
       "    .dataframe thead th {\n",
       "        text-align: right;\n",
       "    }\n",
       "</style>\n",
       "<table border=\"1\" class=\"dataframe\">\n",
       "  <thead>\n",
       "    <tr style=\"text-align: right;\">\n",
       "      <th></th>\n",
       "      <th>Modularity</th>\n",
       "      <th>varset</th>\n",
       "    </tr>\n",
       "  </thead>\n",
       "  <tbody>\n",
       "    <tr>\n",
       "      <th>0</th>\n",
       "      <td>common</td>\n",
       "      <td>-3.362651e-08</td>\n",
       "    </tr>\n",
       "    <tr>\n",
       "      <th>1</th>\n",
       "      <td>common</td>\n",
       "      <td>4.296145e-05</td>\n",
       "    </tr>\n",
       "    <tr>\n",
       "      <th>2</th>\n",
       "      <td>common</td>\n",
       "      <td>5.995276e-07</td>\n",
       "    </tr>\n",
       "    <tr>\n",
       "      <th>3</th>\n",
       "      <td>common</td>\n",
       "      <td>5.622304e-05</td>\n",
       "    </tr>\n",
       "    <tr>\n",
       "      <th>4</th>\n",
       "      <td>common</td>\n",
       "      <td>2.226009e-07</td>\n",
       "    </tr>\n",
       "  </tbody>\n",
       "</table>\n",
       "</div>"
      ],
      "text/plain": [
       "  Modularity        varset\n",
       "0     common -3.362651e-08\n",
       "1     common  4.296145e-05\n",
       "2     common  5.995276e-07\n",
       "3     common  5.622304e-05\n",
       "4     common  2.226009e-07"
      ]
     },
     "execution_count": 684,
     "metadata": {},
     "output_type": "execute_result"
    }
   ],
   "source": [
    "mod_df.head()"
   ]
  },
  {
   "cell_type": "code",
   "execution_count": 60,
   "metadata": {
    "ExecuteTime": {
     "end_time": "2025-03-03T17:57:01.878360Z",
     "start_time": "2025-03-03T17:57:01.874112Z"
    }
   },
   "outputs": [],
   "source": [
    "netdf = netdf.merge(mod_df, on=['trait', 'varset'])"
   ]
  },
  {
   "cell_type": "code",
   "execution_count": 61,
   "metadata": {
    "ExecuteTime": {
     "end_time": "2025-03-03T17:57:03.184652Z",
     "start_time": "2025-03-03T17:57:03.182372Z"
    }
   },
   "outputs": [],
   "source": [
    "netdf = netdf.drop(columns=['trait_pair'])"
   ]
  },
  {
   "cell_type": "code",
   "execution_count": 62,
   "metadata": {
    "ExecuteTime": {
     "end_time": "2025-03-03T17:57:04.509046Z",
     "start_time": "2025-03-03T17:57:04.499949Z"
    }
   },
   "outputs": [
    {
     "data": {
      "text/html": [
       "<div>\n",
       "<style scoped>\n",
       "    .dataframe tbody tr th:only-of-type {\n",
       "        vertical-align: middle;\n",
       "    }\n",
       "\n",
       "    .dataframe tbody tr th {\n",
       "        vertical-align: top;\n",
       "    }\n",
       "\n",
       "    .dataframe thead th {\n",
       "        text-align: right;\n",
       "    }\n",
       "</style>\n",
       "<table border=\"1\" class=\"dataframe\">\n",
       "  <thead>\n",
       "    <tr style=\"text-align: right;\">\n",
       "      <th></th>\n",
       "      <th>trait</th>\n",
       "      <th>varset</th>\n",
       "      <th>subnetwork_density</th>\n",
       "      <th>n_components</th>\n",
       "      <th>average_degree</th>\n",
       "      <th>subnetwork_average_degree</th>\n",
       "      <th>clustering</th>\n",
       "      <th>subnetwork_clustering</th>\n",
       "      <th>assortativity</th>\n",
       "      <th>average_path</th>\n",
       "      <th>subnetwork_assortativity</th>\n",
       "      <th>SetSize</th>\n",
       "      <th>Modularity</th>\n",
       "    </tr>\n",
       "  </thead>\n",
       "  <tbody>\n",
       "    <tr>\n",
       "      <th>0</th>\n",
       "      <td>34375979.0_EFO_0009322_GCST007289_EFO_0009322</td>\n",
       "      <td>rare</td>\n",
       "      <td>0.0</td>\n",
       "      <td>4</td>\n",
       "      <td>362.250000</td>\n",
       "      <td>0.0</td>\n",
       "      <td>0.245490</td>\n",
       "      <td>0.0</td>\n",
       "      <td>-0.000188</td>\n",
       "      <td>2.333333</td>\n",
       "      <td>NaN</td>\n",
       "      <td>4.0</td>\n",
       "      <td>-6.005819e-08</td>\n",
       "    </tr>\n",
       "    <tr>\n",
       "      <th>1</th>\n",
       "      <td>34375979.0_EFO_0009322_GCST007289_EFO_0009322</td>\n",
       "      <td>common</td>\n",
       "      <td>0.0</td>\n",
       "      <td>7</td>\n",
       "      <td>166.142857</td>\n",
       "      <td>0.0</td>\n",
       "      <td>0.279579</td>\n",
       "      <td>0.0</td>\n",
       "      <td>-0.000151</td>\n",
       "      <td>2.571429</td>\n",
       "      <td>NaN</td>\n",
       "      <td>7.0</td>\n",
       "      <td>-3.362651e-08</td>\n",
       "    </tr>\n",
       "    <tr>\n",
       "      <th>2</th>\n",
       "      <td>34375979.0_EFO_0009322_GCST007289_EFO_0009322</td>\n",
       "      <td>overlap</td>\n",
       "      <td>0.0</td>\n",
       "      <td>0</td>\n",
       "      <td>0.000000</td>\n",
       "      <td>0.0</td>\n",
       "      <td>0.000000</td>\n",
       "      <td>0.0</td>\n",
       "      <td>0.000000</td>\n",
       "      <td>0.000000</td>\n",
       "      <td>NaN</td>\n",
       "      <td>0.0</td>\n",
       "      <td>0.000000e+00</td>\n",
       "    </tr>\n",
       "    <tr>\n",
       "      <th>3</th>\n",
       "      <td>34375979.0_EFO_0009322_GCST007289_EFO_0009322</td>\n",
       "      <td>rare_common</td>\n",
       "      <td>0.0</td>\n",
       "      <td>11</td>\n",
       "      <td>237.454545</td>\n",
       "      <td>0.0</td>\n",
       "      <td>0.269090</td>\n",
       "      <td>0.0</td>\n",
       "      <td>-0.000339</td>\n",
       "      <td>2.454545</td>\n",
       "      <td>0.0</td>\n",
       "      <td>11.0</td>\n",
       "      <td>-1.835635e-07</td>\n",
       "    </tr>\n",
       "    <tr>\n",
       "      <th>4</th>\n",
       "      <td>34375979.0_EFO_0007997_GCST004608_EFO_0007997</td>\n",
       "      <td>rare</td>\n",
       "      <td>0.0</td>\n",
       "      <td>11</td>\n",
       "      <td>285.000000</td>\n",
       "      <td>0.0</td>\n",
       "      <td>0.257782</td>\n",
       "      <td>0.0</td>\n",
       "      <td>-0.000407</td>\n",
       "      <td>2.672727</td>\n",
       "      <td>NaN</td>\n",
       "      <td>11.0</td>\n",
       "      <td>-3.175640e-07</td>\n",
       "    </tr>\n",
       "  </tbody>\n",
       "</table>\n",
       "</div>"
      ],
      "text/plain": [
       "                                           trait       varset  \\\n",
       "0  34375979.0_EFO_0009322_GCST007289_EFO_0009322         rare   \n",
       "1  34375979.0_EFO_0009322_GCST007289_EFO_0009322       common   \n",
       "2  34375979.0_EFO_0009322_GCST007289_EFO_0009322      overlap   \n",
       "3  34375979.0_EFO_0009322_GCST007289_EFO_0009322  rare_common   \n",
       "4  34375979.0_EFO_0007997_GCST004608_EFO_0007997         rare   \n",
       "\n",
       "   subnetwork_density  n_components  average_degree  \\\n",
       "0                 0.0             4      362.250000   \n",
       "1                 0.0             7      166.142857   \n",
       "2                 0.0             0        0.000000   \n",
       "3                 0.0            11      237.454545   \n",
       "4                 0.0            11      285.000000   \n",
       "\n",
       "   subnetwork_average_degree  clustering  subnetwork_clustering  \\\n",
       "0                        0.0    0.245490                    0.0   \n",
       "1                        0.0    0.279579                    0.0   \n",
       "2                        0.0    0.000000                    0.0   \n",
       "3                        0.0    0.269090                    0.0   \n",
       "4                        0.0    0.257782                    0.0   \n",
       "\n",
       "   assortativity  average_path subnetwork_assortativity  SetSize    Modularity  \n",
       "0      -0.000188      2.333333                      NaN      4.0 -6.005819e-08  \n",
       "1      -0.000151      2.571429                      NaN      7.0 -3.362651e-08  \n",
       "2       0.000000      0.000000                      NaN      0.0  0.000000e+00  \n",
       "3      -0.000339      2.454545                      0.0     11.0 -1.835635e-07  \n",
       "4      -0.000407      2.672727                      NaN     11.0 -3.175640e-07  "
      ]
     },
     "execution_count": 62,
     "metadata": {},
     "output_type": "execute_result"
    }
   ],
   "source": [
    "netdf.head()"
   ]
  },
  {
   "cell_type": "markdown",
   "metadata": {},
   "source": [
    "## Feature Correlations"
   ]
  },
  {
   "cell_type": "code",
   "execution_count": 63,
   "metadata": {
    "ExecuteTime": {
     "end_time": "2025-03-03T17:57:05.831564Z",
     "start_time": "2025-03-03T17:57:05.822565Z"
    }
   },
   "outputs": [
    {
     "data": {
      "text/html": [
       "<div>\n",
       "<style scoped>\n",
       "    .dataframe tbody tr th:only-of-type {\n",
       "        vertical-align: middle;\n",
       "    }\n",
       "\n",
       "    .dataframe tbody tr th {\n",
       "        vertical-align: top;\n",
       "    }\n",
       "\n",
       "    .dataframe thead th {\n",
       "        text-align: right;\n",
       "    }\n",
       "</style>\n",
       "<table border=\"1\" class=\"dataframe\">\n",
       "  <thead>\n",
       "    <tr style=\"text-align: right;\">\n",
       "      <th></th>\n",
       "      <th>trait</th>\n",
       "      <th>varset</th>\n",
       "      <th>subnetwork_density</th>\n",
       "      <th>n_components</th>\n",
       "      <th>average_degree</th>\n",
       "      <th>subnetwork_average_degree</th>\n",
       "      <th>clustering</th>\n",
       "      <th>subnetwork_clustering</th>\n",
       "      <th>assortativity</th>\n",
       "      <th>average_path</th>\n",
       "      <th>subnetwork_assortativity</th>\n",
       "      <th>SetSize</th>\n",
       "      <th>Modularity</th>\n",
       "    </tr>\n",
       "  </thead>\n",
       "  <tbody>\n",
       "    <tr>\n",
       "      <th>0</th>\n",
       "      <td>34375979.0_EFO_0009322_GCST007289_EFO_0009322</td>\n",
       "      <td>rare</td>\n",
       "      <td>0.0</td>\n",
       "      <td>4</td>\n",
       "      <td>362.250000</td>\n",
       "      <td>0.0</td>\n",
       "      <td>0.245490</td>\n",
       "      <td>0.0</td>\n",
       "      <td>-0.000188</td>\n",
       "      <td>2.333333</td>\n",
       "      <td>NaN</td>\n",
       "      <td>4.0</td>\n",
       "      <td>-6.005819e-08</td>\n",
       "    </tr>\n",
       "    <tr>\n",
       "      <th>1</th>\n",
       "      <td>34375979.0_EFO_0009322_GCST007289_EFO_0009322</td>\n",
       "      <td>common</td>\n",
       "      <td>0.0</td>\n",
       "      <td>7</td>\n",
       "      <td>166.142857</td>\n",
       "      <td>0.0</td>\n",
       "      <td>0.279579</td>\n",
       "      <td>0.0</td>\n",
       "      <td>-0.000151</td>\n",
       "      <td>2.571429</td>\n",
       "      <td>NaN</td>\n",
       "      <td>7.0</td>\n",
       "      <td>-3.362651e-08</td>\n",
       "    </tr>\n",
       "    <tr>\n",
       "      <th>2</th>\n",
       "      <td>34375979.0_EFO_0009322_GCST007289_EFO_0009322</td>\n",
       "      <td>overlap</td>\n",
       "      <td>0.0</td>\n",
       "      <td>0</td>\n",
       "      <td>0.000000</td>\n",
       "      <td>0.0</td>\n",
       "      <td>0.000000</td>\n",
       "      <td>0.0</td>\n",
       "      <td>0.000000</td>\n",
       "      <td>0.000000</td>\n",
       "      <td>NaN</td>\n",
       "      <td>0.0</td>\n",
       "      <td>0.000000e+00</td>\n",
       "    </tr>\n",
       "    <tr>\n",
       "      <th>3</th>\n",
       "      <td>34375979.0_EFO_0009322_GCST007289_EFO_0009322</td>\n",
       "      <td>rare_common</td>\n",
       "      <td>0.0</td>\n",
       "      <td>11</td>\n",
       "      <td>237.454545</td>\n",
       "      <td>0.0</td>\n",
       "      <td>0.269090</td>\n",
       "      <td>0.0</td>\n",
       "      <td>-0.000339</td>\n",
       "      <td>2.454545</td>\n",
       "      <td>0.0</td>\n",
       "      <td>11.0</td>\n",
       "      <td>-1.835635e-07</td>\n",
       "    </tr>\n",
       "    <tr>\n",
       "      <th>4</th>\n",
       "      <td>34375979.0_EFO_0007997_GCST004608_EFO_0007997</td>\n",
       "      <td>rare</td>\n",
       "      <td>0.0</td>\n",
       "      <td>11</td>\n",
       "      <td>285.000000</td>\n",
       "      <td>0.0</td>\n",
       "      <td>0.257782</td>\n",
       "      <td>0.0</td>\n",
       "      <td>-0.000407</td>\n",
       "      <td>2.672727</td>\n",
       "      <td>NaN</td>\n",
       "      <td>11.0</td>\n",
       "      <td>-3.175640e-07</td>\n",
       "    </tr>\n",
       "  </tbody>\n",
       "</table>\n",
       "</div>"
      ],
      "text/plain": [
       "                                           trait       varset  \\\n",
       "0  34375979.0_EFO_0009322_GCST007289_EFO_0009322         rare   \n",
       "1  34375979.0_EFO_0009322_GCST007289_EFO_0009322       common   \n",
       "2  34375979.0_EFO_0009322_GCST007289_EFO_0009322      overlap   \n",
       "3  34375979.0_EFO_0009322_GCST007289_EFO_0009322  rare_common   \n",
       "4  34375979.0_EFO_0007997_GCST004608_EFO_0007997         rare   \n",
       "\n",
       "   subnetwork_density  n_components  average_degree  \\\n",
       "0                 0.0             4      362.250000   \n",
       "1                 0.0             7      166.142857   \n",
       "2                 0.0             0        0.000000   \n",
       "3                 0.0            11      237.454545   \n",
       "4                 0.0            11      285.000000   \n",
       "\n",
       "   subnetwork_average_degree  clustering  subnetwork_clustering  \\\n",
       "0                        0.0    0.245490                    0.0   \n",
       "1                        0.0    0.279579                    0.0   \n",
       "2                        0.0    0.000000                    0.0   \n",
       "3                        0.0    0.269090                    0.0   \n",
       "4                        0.0    0.257782                    0.0   \n",
       "\n",
       "   assortativity  average_path subnetwork_assortativity  SetSize    Modularity  \n",
       "0      -0.000188      2.333333                      NaN      4.0 -6.005819e-08  \n",
       "1      -0.000151      2.571429                      NaN      7.0 -3.362651e-08  \n",
       "2       0.000000      0.000000                      NaN      0.0  0.000000e+00  \n",
       "3      -0.000339      2.454545                      0.0     11.0 -1.835635e-07  \n",
       "4      -0.000407      2.672727                      NaN     11.0 -3.175640e-07  "
      ]
     },
     "execution_count": 63,
     "metadata": {},
     "output_type": "execute_result"
    }
   ],
   "source": [
    "netdf.head()"
   ]
  },
  {
   "cell_type": "code",
   "execution_count": 64,
   "metadata": {
    "ExecuteTime": {
     "end_time": "2025-03-03T17:57:07.148299Z",
     "start_time": "2025-03-03T17:57:07.145289Z"
    }
   },
   "outputs": [],
   "source": [
    "initial_features = ['SetSize', 'average_path', 'subnetwork_clustering', 'average_degree', 'clustering', 'Modularity']\n",
    "\n",
    "corr_df = netdf.loc[netdf.varset.isin(['rare', 'common']), ['trait', 'varset']+initial_features]"
   ]
  },
  {
   "cell_type": "code",
   "execution_count": 66,
   "metadata": {
    "ExecuteTime": {
     "end_time": "2025-03-03T18:00:03.584517Z",
     "start_time": "2025-03-03T18:00:03.053226Z"
    }
   },
   "outputs": [
    {
     "data": {
      "image/png": "[encoded data removed]",
      "text/plain": [
       "<Figure size 250x250 with 2 Axes>"
      ]
     },
     "metadata": {},
     "output_type": "display_data"
    }
   ],
   "source": [
    "_ = plt.figure(figsize=(2.5,2.5))\n",
    "cg = sns.clustermap(corr_df.corr(numeric_only=True, method='spearman'), figsize=(4,4), cmap='RdBu', center=0)\n",
    "plt.close()\n",
    "order= cg.dendrogram_row.reordered_ind\n",
    "sns.heatmap(corr_df.corr(numeric_only=True, method='spearman').iloc[order, order], cmap='RdBu', center=0, square=True, annot=True, fmt='.2f', \n",
    "            annot_kws={'fontsize':7})\n",
    "plt.savefig(os.path.join(figdir, 'FeatureCorrelationsHeatmap_network.svg'), bbox_inches='tight')"
   ]
  },
  {
   "cell_type": "code",
   "execution_count": 72,
   "metadata": {
    "ExecuteTime": {
     "end_time": "2025-03-03T18:11:07.262674Z",
     "start_time": "2025-03-03T18:11:07.252802Z"
    }
   },
   "outputs": [
    {
     "data": {
      "text/html": [
       "<div>\n",
       "<style scoped>\n",
       "    .dataframe tbody tr th:only-of-type {\n",
       "        vertical-align: middle;\n",
       "    }\n",
       "\n",
       "    .dataframe tbody tr th {\n",
       "        vertical-align: top;\n",
       "    }\n",
       "\n",
       "    .dataframe thead th {\n",
       "        text-align: right;\n",
       "    }\n",
       "</style>\n",
       "<table border=\"1\" class=\"dataframe\">\n",
       "  <thead>\n",
       "    <tr style=\"text-align: right;\">\n",
       "      <th></th>\n",
       "      <th>trait</th>\n",
       "      <th>varset</th>\n",
       "      <th>metric</th>\n",
       "      <th>value</th>\n",
       "    </tr>\n",
       "  </thead>\n",
       "  <tbody>\n",
       "    <tr>\n",
       "      <th>0</th>\n",
       "      <td>34375979.0_EFO_0009322_GCST007289_EFO_0009322</td>\n",
       "      <td>rare</td>\n",
       "      <td>SetSize</td>\n",
       "      <td>4.0</td>\n",
       "    </tr>\n",
       "    <tr>\n",
       "      <th>1</th>\n",
       "      <td>34375979.0_EFO_0009322_GCST007289_EFO_0009322</td>\n",
       "      <td>common</td>\n",
       "      <td>SetSize</td>\n",
       "      <td>7.0</td>\n",
       "    </tr>\n",
       "    <tr>\n",
       "      <th>2</th>\n",
       "      <td>34375979.0_EFO_0007997_GCST004608_EFO_0007997</td>\n",
       "      <td>rare</td>\n",
       "      <td>SetSize</td>\n",
       "      <td>11.0</td>\n",
       "    </tr>\n",
       "    <tr>\n",
       "      <th>3</th>\n",
       "      <td>34375979.0_EFO_0007997_GCST004608_EFO_0007997</td>\n",
       "      <td>common</td>\n",
       "      <td>SetSize</td>\n",
       "      <td>89.0</td>\n",
       "    </tr>\n",
       "    <tr>\n",
       "      <th>4</th>\n",
       "      <td>34375979.0_EFO_0009959_GCST008105_EFO_0009959</td>\n",
       "      <td>rare</td>\n",
       "      <td>SetSize</td>\n",
       "      <td>65.0</td>\n",
       "    </tr>\n",
       "  </tbody>\n",
       "</table>\n",
       "</div>"
      ],
      "text/plain": [
       "                                           trait  varset   metric  value\n",
       "0  34375979.0_EFO_0009322_GCST007289_EFO_0009322    rare  SetSize    4.0\n",
       "1  34375979.0_EFO_0009322_GCST007289_EFO_0009322  common  SetSize    7.0\n",
       "2  34375979.0_EFO_0007997_GCST004608_EFO_0007997    rare  SetSize   11.0\n",
       "3  34375979.0_EFO_0007997_GCST004608_EFO_0007997  common  SetSize   89.0\n",
       "4  34375979.0_EFO_0009959_GCST008105_EFO_0009959    rare  SetSize   65.0"
      ]
     },
     "execution_count": 72,
     "metadata": {},
     "output_type": "execute_result"
    }
   ],
   "source": [
    "plot_df = netdf.loc[netdf.varset.isin(['rare', 'common']), ['trait', 'varset']+initial_features].melt(id_vars=['trait', 'varset'], var_name='metric')\n",
    "plot_df.head()"
   ]
  },
  {
   "cell_type": "code",
   "execution_count": 73,
   "metadata": {
    "ExecuteTime": {
     "end_time": "2025-03-03T18:11:08.578662Z",
     "start_time": "2025-03-03T18:11:08.572683Z"
    }
   },
   "outputs": [
    {
     "data": {
      "text/html": [
       "<div>\n",
       "<style scoped>\n",
       "    .dataframe tbody tr th:only-of-type {\n",
       "        vertical-align: middle;\n",
       "    }\n",
       "\n",
       "    .dataframe tbody tr th {\n",
       "        vertical-align: top;\n",
       "    }\n",
       "\n",
       "    .dataframe thead th {\n",
       "        text-align: right;\n",
       "    }\n",
       "</style>\n",
       "<table border=\"1\" class=\"dataframe\">\n",
       "  <thead>\n",
       "    <tr style=\"text-align: right;\">\n",
       "      <th></th>\n",
       "      <th>trait</th>\n",
       "      <th>varset</th>\n",
       "      <th>metric</th>\n",
       "      <th>value</th>\n",
       "    </tr>\n",
       "  </thead>\n",
       "  <tbody>\n",
       "    <tr>\n",
       "      <th>2301</th>\n",
       "      <td>26264438.0_EFO_0000519_GCST003220_EFO_0000519</td>\n",
       "      <td>common</td>\n",
       "      <td>average_degree</td>\n",
       "      <td>2007.750000</td>\n",
       "    </tr>\n",
       "    <tr>\n",
       "      <th>2140</th>\n",
       "      <td>34662886.0_MONDO_0004992_GCST90267270_MONDO_00...</td>\n",
       "      <td>rare</td>\n",
       "      <td>average_degree</td>\n",
       "      <td>1951.666667</td>\n",
       "    </tr>\n",
       "    <tr>\n",
       "      <th>2153</th>\n",
       "      <td>34375979.0_EFO_1000726_GCST90435153_EFO_1000726</td>\n",
       "      <td>common</td>\n",
       "      <td>average_degree</td>\n",
       "      <td>1755.000000</td>\n",
       "    </tr>\n",
       "    <tr>\n",
       "      <th>2072</th>\n",
       "      <td>34662886.0_EFO_0000095_GCST90027053_EFO_0000095</td>\n",
       "      <td>rare</td>\n",
       "      <td>average_degree</td>\n",
       "      <td>1695.428571</td>\n",
       "    </tr>\n",
       "    <tr>\n",
       "      <th>2200</th>\n",
       "      <td>31242253.0_GO_0036273_GCST000635_GO_0036273</td>\n",
       "      <td>rare</td>\n",
       "      <td>average_degree</td>\n",
       "      <td>1686.800000</td>\n",
       "    </tr>\n",
       "  </tbody>\n",
       "</table>\n",
       "</div>"
      ],
      "text/plain": [
       "                                                  trait  varset  \\\n",
       "2301      26264438.0_EFO_0000519_GCST003220_EFO_0000519  common   \n",
       "2140  34662886.0_MONDO_0004992_GCST90267270_MONDO_00...    rare   \n",
       "2153    34375979.0_EFO_1000726_GCST90435153_EFO_1000726  common   \n",
       "2072    34662886.0_EFO_0000095_GCST90027053_EFO_0000095    rare   \n",
       "2200        31242253.0_GO_0036273_GCST000635_GO_0036273    rare   \n",
       "\n",
       "              metric        value  \n",
       "2301  average_degree  2007.750000  \n",
       "2140  average_degree  1951.666667  \n",
       "2153  average_degree  1755.000000  \n",
       "2072  average_degree  1695.428571  \n",
       "2200  average_degree  1686.800000  "
      ]
     },
     "execution_count": 73,
     "metadata": {},
     "output_type": "execute_result"
    }
   ],
   "source": [
    "plot_df.sort_values('value', ascending=False).head()"
   ]
  },
  {
   "cell_type": "markdown",
   "metadata": {},
   "source": [
    "## Feature Values"
   ]
  },
  {
   "cell_type": "code",
   "execution_count": 68,
   "metadata": {
    "ExecuteTime": {
     "end_time": "2025-03-03T18:11:01.820575Z",
     "start_time": "2025-03-03T18:09:31.953162Z"
    }
   },
   "outputs": [
    {
     "name": "stdout",
     "output_type": "stream",
     "text": [
      "2.3892726615876203\n"
     ]
    }
   ],
   "source": [
    "# get network averages\n",
    "path_sum = pd.read_csv(os.path.join(datadir, 'outputs/Features', 'pcnet2_0path_lengths.csv'), index_col=0).sum().sum()\n",
    "mean_path = path_sum / (19267**2 -19267)\n",
    "print(mean_path)"
   ]
  },
  {
   "cell_type": "code",
   "execution_count": 69,
   "metadata": {
    "ExecuteTime": {
     "end_time": "2025-03-03T18:11:03.168370Z",
     "start_time": "2025-03-03T18:11:03.146816Z"
    }
   },
   "outputs": [
    {
     "name": "stdout",
     "output_type": "stream",
     "text": [
      "0.30505576232614184\n"
     ]
    }
   ],
   "source": [
    "mean_clust = pd.read_csv(os.path.join(datadir, 'outputs/Features', 'pcnet2_0_clustering_coefficients.csv'), index_col=0).mean().values[0]\n",
    "print(mean_clust)"
   ]
  },
  {
   "cell_type": "code",
   "execution_count": 70,
   "metadata": {
    "ExecuteTime": {
     "end_time": "2025-03-03T18:11:04.493079Z",
     "start_time": "2025-03-03T18:11:04.483032Z"
    }
   },
   "outputs": [
    {
     "data": {
      "text/plain": [
       "399.8670265220325"
      ]
     },
     "execution_count": 70,
     "metadata": {},
     "output_type": "execute_result"
    }
   ],
   "source": [
    "mean_degree = pd.read_csv(os.path.join(datadir, 'inputs', 'pcnet2_0_nodes.txt'), header=None, index_col=0, sep='\\t').mean().values[0]\n",
    "mean_degree"
   ]
  },
  {
   "cell_type": "code",
   "execution_count": 71,
   "metadata": {
    "ExecuteTime": {
     "end_time": "2025-03-03T18:11:05.929838Z",
     "start_time": "2025-03-03T18:11:05.927067Z"
    }
   },
   "outputs": [
    {
     "data": {
      "text/plain": [
       "['SetSize',\n",
       " 'average_path',\n",
       " 'subnetwork_clustering',\n",
       " 'average_degree',\n",
       " 'clustering',\n",
       " 'Modularity']"
      ]
     },
     "execution_count": 71,
     "metadata": {},
     "output_type": "execute_result"
    }
   ],
   "source": [
    "initial_features"
   ]
  },
  {
   "cell_type": "code",
   "execution_count": 76,
   "metadata": {
    "ExecuteTime": {
     "end_time": "2025-03-03T18:14:38.972334Z",
     "start_time": "2025-03-03T18:14:38.388075Z"
    }
   },
   "outputs": [
    {
     "data": {
      "image/png": "[encoded data removed]",
      "text/plain": [
       "<Figure size 300x200 with 5 Axes>"
      ]
     },
     "metadata": {},
     "output_type": "display_data"
    }
   ],
   "source": [
    "_, [ax1, ax2, ax3, ax4, ax5] = plt.subplots(ncols=5, nrows=1, figsize=(3, 2), gridspec_kw={'width_ratios':[1,1,1,2,1], 'wspace':1})\n",
    "sns.boxplot(plot_df[plot_df.metric=='average_degree'], x='metric', y='value', hue='varset', ax=ax1, legend=False,\n",
    "           fliersize=0, palette=['mediumseagreen', 'skyblue'], hue_order=['rare', 'common'], linewidth=0.3)\n",
    "ax1.hlines(y=mean_degree, xmin=-0.5, xmax=0.5, color='red', linestyle='--', linewidth=0.5)\n",
    "sns.boxplot(plot_df[plot_df.metric=='SetSize'], x='metric', y='value', hue='varset', ax=ax2, linewidth=0.3\n",
    "            , legend=False, fliersize=0,palette=['mediumseagreen', 'skyblue'], hue_order=['rare', 'common'])\n",
    "sns.boxplot(plot_df[plot_df.metric.isin([ 'average_path'])], x='metric', y='value', \n",
    "            hue='varset', palette=['mediumseagreen', 'skyblue'], hue_order=['rare', 'common'],\n",
    "            ax=ax3, fliersize=0, legend=False, linewidth=0.3)\n",
    "ax3.hlines(y=mean_path, xmin=-0.5, xmax=0.5, color='red', linestyle='--', linewidth=0.5)\n",
    "sns.boxplot(plot_df[~plot_df.metric.isin(['average_degree', 'average_path', 'SetSize', 'Modularity'])], \n",
    "            x='metric', y='value', hue='varset', palette=['mediumseagreen', 'skyblue'], hue_order=['rare', 'common'],\n",
    "            ax=ax4, fliersize=0, legend=False, linewidth=0.3)\n",
    "sns.boxplot(plot_df[plot_df.metric.isin(['Modularity'])], \n",
    "            x='metric', y='value', hue='varset', palette=['mediumseagreen', 'skyblue'], hue_order=['rare', 'common'],\n",
    "            ax=ax5, fliersize=0, legend=False, linewidth=0.3)\n",
    "ax4.hlines(y=mean_clust, xmin=0.5, xmax=1.5, color='red', linestyle='--', linewidth=0.5)\n",
    "ax1.set_ylim(0, 1000)\n",
    "ax2.set_ylim(0, 100)\n",
    "ax3.set_ylim(0, 4)\n",
    "ax4.set_ylim(-0.1, 1)\n",
    "ax5.set_ylim(-0.000005, 0.00002)\n",
    "for ax in [ax1, ax2, ax3, ax4, ax5]:\n",
    "    ax.tick_params(axis='x',rotation=90)\n",
    "    ax.set_xlabel('')\n",
    "    ax.set_ylabel('')\n",
    "_ = ax2.set_ylabel('Mean Gene Set Annotation')\n",
    "plt.savefig(os.path.join(figdir, 'BoxPlots_NetAnno.svg'), bbox_inches='tight')"
   ]
  },
  {
   "cell_type": "code",
   "execution_count": 715,
   "metadata": {
    "ExecuteTime": {
     "end_time": "2025-03-01T02:26:00.747032Z",
     "start_time": "2025-03-01T02:26:00.735574Z"
    }
   },
   "outputs": [],
   "source": [
    "rc_netdf = netdf[netdf.varset.isin(['rare', 'common'])].melt(id_vars=['trait', 'varset'], var_name='metric').pivot(index=['trait', 'metric'], columns='varset')\n",
    "rc_netdf.columns = [x[1] for x in rc_netdf.columns]\n",
    "rc_netdf = rc_netdf.reset_index()\n",
    "rc_netdf['common'] = rc_netdf['common'].astype(float)\n",
    "rc_netdf['rare'] = rc_netdf['rare'].astype(float)"
   ]
  },
  {
   "cell_type": "code",
   "execution_count": 716,
   "metadata": {
    "ExecuteTime": {
     "end_time": "2025-03-01T02:26:11.361659Z",
     "start_time": "2025-03-01T02:26:11.347478Z"
    }
   },
   "outputs": [],
   "source": [
    "from scipy.stats import wilcoxon\n",
    "pvals = {} \n",
    "for x in rc_netdf['metric'].unique():\n",
    "    if x in initial_features:\n",
    "        pvals[x] = (wilcoxon(rc_netdf[rc_netdf['metric']==x]['common'].values, \n",
    "                          rc_netdf[rc_netdf['metric']==x]['rare'].values, nan_policy='omit').pvalue)\n",
    "p_net = pd.DataFrame({'p':pvals})\n",
    "p_net['q'] = fdrcorrection(p_net.p)[1]"
   ]
  },
  {
   "cell_type": "code",
   "execution_count": 717,
   "metadata": {
    "ExecuteTime": {
     "end_time": "2025-03-01T02:26:21.951321Z",
     "start_time": "2025-03-01T02:26:21.945876Z"
    }
   },
   "outputs": [
    {
     "data": {
      "text/html": [
       "<div>\n",
       "<style scoped>\n",
       "    .dataframe tbody tr th:only-of-type {\n",
       "        vertical-align: middle;\n",
       "    }\n",
       "\n",
       "    .dataframe tbody tr th {\n",
       "        vertical-align: top;\n",
       "    }\n",
       "\n",
       "    .dataframe thead th {\n",
       "        text-align: right;\n",
       "    }\n",
       "</style>\n",
       "<table border=\"1\" class=\"dataframe\">\n",
       "  <thead>\n",
       "    <tr style=\"text-align: right;\">\n",
       "      <th></th>\n",
       "      <th>p</th>\n",
       "      <th>q</th>\n",
       "    </tr>\n",
       "  </thead>\n",
       "  <tbody>\n",
       "    <tr>\n",
       "      <th>Modularity</th>\n",
       "      <td>2.404778e-15</td>\n",
       "      <td>1.442867e-14</td>\n",
       "    </tr>\n",
       "    <tr>\n",
       "      <th>SetSize</th>\n",
       "      <td>7.008944e-01</td>\n",
       "      <td>7.008944e-01</td>\n",
       "    </tr>\n",
       "    <tr>\n",
       "      <th>average_degree</th>\n",
       "      <td>6.685117e-01</td>\n",
       "      <td>7.008944e-01</td>\n",
       "    </tr>\n",
       "    <tr>\n",
       "      <th>average_path</th>\n",
       "      <td>3.815042e-05</td>\n",
       "      <td>1.098563e-04</td>\n",
       "    </tr>\n",
       "    <tr>\n",
       "      <th>clustering</th>\n",
       "      <td>8.809589e-05</td>\n",
       "      <td>1.321438e-04</td>\n",
       "    </tr>\n",
       "    <tr>\n",
       "      <th>subnetwork_clustering</th>\n",
       "      <td>5.492814e-05</td>\n",
       "      <td>1.098563e-04</td>\n",
       "    </tr>\n",
       "  </tbody>\n",
       "</table>\n",
       "</div>"
      ],
      "text/plain": [
       "                                  p             q\n",
       "Modularity             2.404778e-15  1.442867e-14\n",
       "SetSize                7.008944e-01  7.008944e-01\n",
       "average_degree         6.685117e-01  7.008944e-01\n",
       "average_path           3.815042e-05  1.098563e-04\n",
       "clustering             8.809589e-05  1.321438e-04\n",
       "subnetwork_clustering  5.492814e-05  1.098563e-04"
      ]
     },
     "execution_count": 717,
     "metadata": {},
     "output_type": "execute_result"
    }
   ],
   "source": [
    "p_net"
   ]
  },
  {
   "cell_type": "code",
   "execution_count": 79,
   "metadata": {
    "ExecuteTime": {
     "end_time": "2025-03-03T19:42:12.709932Z",
     "start_time": "2025-03-03T19:42:12.674113Z"
    }
   },
   "outputs": [],
   "source": [
    "netdf.to_csv('/cellar/users/snwright/Data/RareCommon/outputs/Features/initial_net_features.tsv', sep='\\t', index=False)"
   ]
  },
  {
   "cell_type": "markdown",
   "metadata": {},
   "source": [
    "# Coloc annotations"
   ]
  },
  {
   "cell_type": "markdown",
   "metadata": {},
   "source": [
    "## Let's just look at some correlations"
   ]
  },
  {
   "cell_type": "code",
   "execution_count": null,
   "metadata": {
    "ExecuteTime": {
     "start_time": "2025-02-28T22:03:18.778Z"
    }
   },
   "outputs": [],
   "source": [
    "import obonet as obo\n",
    "efo = obo.read_obo('http://www.ebi.ac.uk/efo/efo.obo')\n",
    "efo_root='EFO:0000001'"
   ]
  },
  {
   "cell_type": "code",
   "execution_count": 660,
   "metadata": {
    "ExecuteTime": {
     "end_time": "2025-02-28T22:03:29.195956Z",
     "start_time": "2025-02-28T22:03:17.234417Z"
    }
   },
   "outputs": [],
   "source": [
    "all_efo = [':'.join(x.split('_')[1:3]) for x in all_pairs]"
   ]
  },
  {
   "cell_type": "code",
   "execution_count": 662,
   "metadata": {
    "ExecuteTime": {
     "end_time": "2025-02-28T22:03:45.866909Z",
     "start_time": "2025-02-28T22:03:45.863972Z"
    }
   },
   "outputs": [
    {
     "data": {
      "text/plain": [
       "'aconitate measurement'"
      ]
     },
     "execution_count": 662,
     "metadata": {},
     "output_type": "execute_result"
    }
   ],
   "source": [
    "efo.nodes[all_efo[12]]['name']"
   ]
  },
  {
   "cell_type": "code",
   "execution_count": null,
   "metadata": {},
   "outputs": [],
   "source": []
  },
  {
   "cell_type": "code",
   "execution_count": null,
   "metadata": {},
   "outputs": [],
   "source": [
    "# import coloc results"
   ]
  },
  {
   "cell_type": "code",
   "execution_count": 649,
   "metadata": {
    "ExecuteTime": {
     "end_time": "2025-02-28T21:53:36.123279Z",
     "start_time": "2025-02-28T21:53:36.116305Z"
    }
   },
   "outputs": [
    {
     "data": {
      "text/plain": [
       "(318, 23)"
      ]
     },
     "execution_count": 649,
     "metadata": {},
     "output_type": "execute_result"
    }
   ],
   "source": [
    "coloc_df = pd.read_csv(os.path.join(datadir, 'outputs/netcoloc', 'prelim_coloc_results.tsv'), sep='\\t')"
   ]
  },
  {
   "cell_type": "code",
   "execution_count": null,
   "metadata": {},
   "outputs": [],
   "source": []
  }
 ],
 "metadata": {
  "kernelspec": {
   "display_name": "Python (CARVA)",
   "language": "python",
   "name": "carva"
  },
  "language_info": {
   "codemirror_mode": {
    "name": "ipython",
    "version": 3
   },
   "file_extension": ".py",
   "mimetype": "text/x-python",
   "name": "python",
   "nbconvert_exporter": "python",
   "pygments_lexer": "ipython3",
   "version": "3.10.0"
  },
  "toc": {
   "base_numbering": 1,
   "nav_menu": {},
   "number_sections": true,
   "sideBar": true,
   "skip_h1_title": false,
   "title_cell": "Table of Contents",
   "title_sidebar": "Contents",
   "toc_cell": false,
   "toc_position": {
    "height": "calc(100% - 180px)",
    "left": "10px",
    "top": "150px",
    "width": "426.823px"
   },
   "toc_section_display": true,
   "toc_window_display": true
  },
  "varInspector": {
   "cols": {
    "lenName": 16,
    "lenType": 16,
    "lenVar": 40
   },
   "kernels_config": {
    "python": {
     "delete_cmd_postfix": "",
     "delete_cmd_prefix": "del ",
     "library": "var_list.py",
     "varRefreshCmd": "print(var_dic_list())"
    },
    "r": {
     "delete_cmd_postfix": ") ",
     "delete_cmd_prefix": "rm(",
     "library": "var_list.r",
     "varRefreshCmd": "cat(var_dic_list()) "
    }
   },
   "types_to_exclude": [
    "module",
    "function",
    "builtin_function_or_method",
    "instance",
    "_Feature"
   ],
   "window_display": false
  }
 },
 "nbformat": 4,
 "nbformat_minor": 2
}
