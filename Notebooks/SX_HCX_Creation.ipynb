{
 "cells": [
  {
   "cell_type": "markdown",
   "metadata": {},
   "source": [
    "# Supplemental Notebook - Interactive Hierarchy Creation"
   ]
  },
  {
   "cell_type": "markdown",
   "metadata": {},
   "source": [
    "This notebook shows the generation of hierarchy networks in HCX format for interactive capabilities using [web.cytoscape.org](web.cytoscape.org)"
   ]
  },
  {
   "cell_type": "markdown",
   "metadata": {},
   "source": [
    "### Set Up"
   ]
  },
  {
   "cell_type": "code",
   "execution_count": 1,
   "metadata": {
    "ExecuteTime": {
     "end_time": "2025-06-21T22:42:35.072959Z",
     "start_time": "2025-06-21T22:42:33.882562Z"
    }
   },
   "outputs": [],
   "source": [
    "import pandas as pd\n",
    "import os\n",
    "import seaborn as sns\n",
    "import sys\n",
    "import ndex2 as ndex\n",
    "import networkx as nx\n",
    "import matplotlib.pyplot as plt\n",
    "from ndex2.cx2 import NetworkXToCX2NetworkFactory, CX2Network,  PandasDataFrameToCX2NetworkFactory"
   ]
  },
  {
   "cell_type": "code",
   "execution_count": 2,
   "metadata": {
    "ExecuteTime": {
     "end_time": "2025-06-21T22:42:35.095260Z",
     "start_time": "2025-06-21T22:42:35.088896Z"
    }
   },
   "outputs": [],
   "source": [
    "cwd = os.getcwd()\n",
    "sys.path.append(os.path.join(cwd, '../carva'))\n",
    "from network_utils import *\n",
    "from geneset_utils import *\n",
    "from hierarchy_utils import *"
   ]
  },
  {
   "cell_type": "code",
   "execution_count": 3,
   "metadata": {
    "ExecuteTime": {
     "end_time": "2025-06-21T22:58:44.929273Z",
     "start_time": "2025-06-21T22:42:35.285696Z"
    }
   },
   "outputs": [
    {
     "name": "stdout",
     "output_type": "stream",
     "text": [
      "Username:········\n",
      "Password:········\n"
     ]
    }
   ],
   "source": [
    "from getpass import getpass\n",
    "user = getpass('Username:')\n",
    "password = getpass('Password:')\n",
    "client = ndex2.client.Ndex2(username=user, password=password)"
   ]
  },
  {
   "cell_type": "markdown",
   "metadata": {},
   "source": [
    "## Load the subnetworks"
   ]
  },
  {
   "cell_type": "code",
   "execution_count": 5,
   "metadata": {
    "ExecuteTime": {
     "end_time": "2025-06-21T22:29:58.359847Z",
     "start_time": "2025-06-21T22:29:58.358203Z"
    }
   },
   "outputs": [],
   "source": [
    "subnetworks = {'autism spectrum disorder': '94590325-4ed4-11f0-a218-005056ae3c32',\n",
    " 'Alzheimer disease': 'a25cd00e-4ed4-11f0-a218-005056ae3c32',\n",
    " 'bipolar disorder': 'a454f6a0-4ed4-11f0-a218-005056ae3c32'}"
   ]
  },
  {
   "cell_type": "code",
   "execution_count": 6,
   "metadata": {
    "ExecuteTime": {
     "end_time": "2025-06-21T22:30:53.153854Z",
     "start_time": "2025-06-21T22:30:52.089675Z"
    }
   },
   "outputs": [
    {
     "name": "stdout",
     "output_type": "stream",
     "text": [
      "Network Name:autism spectrum disorder\n",
      "Number of nodes: 871\n",
      "Number of edges: 30131\n",
      "Network Name:bipolar disorder\n",
      "Number of nodes: 387\n",
      "Number of edges: 7711\n",
      "Network Name:Alzheimer disease\n",
      "Number of nodes: 526\n",
      "Number of edges: 9574\n"
     ]
    }
   ],
   "source": [
    "asd_parentG= load_network(uuid=subnetworks['autism spectrum disorder'], use_password=True,ndex_password=password, ndex_user=user)\n",
    "bip_parentG=load_network(uuid=subnetworks['bipolar disorder'], use_password=True,ndex_password=password, ndex_user=user)\n",
    "azd_parentG=load_network(uuid=subnetworks['Alzheimer disease'], use_password=True,ndex_password=password, ndex_user=user)"
   ]
  },
  {
   "cell_type": "markdown",
   "metadata": {},
   "source": [
    "## Create hierarchy via community detection\n",
    "\n",
    "Example for creation of network hierarchy using HiDeF"
   ]
  },
  {
   "cell_type": "code",
   "execution_count": null,
   "metadata": {},
   "outputs": [],
   "source": [
    "uuid = '3cc84672-1653-11f0-9806-005056ae3c32'\n",
    "outdir = '/cellar/users/snwright/Data/RareCommon/outputs/subnetworks/hierarchies/'"
   ]
  },
  {
   "cell_type": "code",
   "execution_count": null,
   "metadata": {},
   "outputs": [],
   "source": [
    "G_cx = load_network(uuid, use_password=True, return_cx=True, username=username, password=password)"
   ]
  },
  {
   "cell_type": "code",
   "execution_count": null,
   "metadata": {},
   "outputs": [],
   "source": [
    "name = G_cx.get_name()"
   ]
  },
  {
   "cell_type": "code",
   "execution_count": null,
   "metadata": {},
   "outputs": [],
   "source": [
    "G_hier = create_hierarchy(G_cx, verbose=True)\n",
    "hier_df = create_hier_df(G_hier)"
   ]
  },
  {
   "cell_type": "code",
   "execution_count": null,
   "metadata": {},
   "outputs": [],
   "source": [
    "hier_df = add_seed_gene_fractions(hier_df, G_cx)"
   ]
  },
  {
   "cell_type": "code",
   "execution_count": null,
   "metadata": {},
   "outputs": [],
   "source": [
    "hier_df_annot = name_hierarchy_systems(hier_df, outdir=outdir, gene_col='SymbolList', write=True, hier_name=name)"
   ]
  },
  {
   "cell_type": "code",
   "execution_count": null,
   "metadata": {},
   "outputs": [],
   "source": [
    "write_nx_hierarchy(G_hier, hier_df_annot, outdir, name)"
   ]
  },
  {
   "cell_type": "code",
   "execution_count": null,
   "metadata": {},
   "outputs": [],
   "source": [
    "G_out = add_annotations_to_hierarchy(G_hier, hier_df)"
   ]
  },
  {
   "cell_type": "code",
   "execution_count": null,
   "metadata": {},
   "outputs": [],
   "source": [
    "upload_cx_hierarchy(G_hier, hier_df_annot, outdir, name, username, password)"
   ]
  },
  {
   "cell_type": "markdown",
   "metadata": {},
   "source": [
    "### Load Pre-computed Hierarchies"
   ]
  },
  {
   "cell_type": "code",
   "execution_count": 7,
   "metadata": {
    "ExecuteTime": {
     "end_time": "2025-06-21T22:31:51.881559Z",
     "start_time": "2025-06-21T22:31:51.879618Z"
    }
   },
   "outputs": [],
   "source": [
    "asd_uuid = '4c4ffe8a-3cc5-11f0-a469-005056ae3c32'\n",
    "azd_uuid = '44345758-3cc5-11f0-a469-005056ae3c32'\n",
    "bip_uuid = '3f551676-3cc5-11f0-a469-005056ae3c32'"
   ]
  },
  {
   "cell_type": "code",
   "execution_count": 8,
   "metadata": {
    "ExecuteTime": {
     "end_time": "2025-06-21T22:31:56.087251Z",
     "start_time": "2025-06-21T22:31:56.077768Z"
    }
   },
   "outputs": [
    {
     "name": "stdout",
     "output_type": "stream",
     "text": [
      "Network Name:hidef_(none)_ASD BRAIN\n",
      "Number of nodes: 57\n",
      "Number of edges: 58\n"
     ]
    }
   ],
   "source": [
    "asdG = load_network(uuid=asd_uuid, ndex_password=password, ndex_user=user, verbose=True, use_password=True,\n",
    "                return_cx=False)"
   ]
  },
  {
   "cell_type": "code",
   "execution_count": 9,
   "metadata": {
    "ExecuteTime": {
     "end_time": "2025-06-21T22:31:57.000241Z",
     "start_time": "2025-06-21T22:31:56.991190Z"
    }
   },
   "outputs": [
    {
     "name": "stdout",
     "output_type": "stream",
     "text": [
      "Network Name:hidef_(none)_AZD BRAIN\n",
      "Number of nodes: 57\n",
      "Number of edges: 56\n"
     ]
    }
   ],
   "source": [
    "azdG = load_network(uuid=azd_uuid, ndex_password=password, ndex_user=user, verbose=True, use_password=True,\n",
    "                return_cx=False)"
   ]
  },
  {
   "cell_type": "code",
   "execution_count": 10,
   "metadata": {
    "ExecuteTime": {
     "end_time": "2025-06-21T22:31:58.289279Z",
     "start_time": "2025-06-21T22:31:58.280293Z"
    }
   },
   "outputs": [
    {
     "name": "stdout",
     "output_type": "stream",
     "text": [
      "Network Name:hidef_(none)_BIP BRAIN\n",
      "Number of nodes: 57\n",
      "Number of edges: 56\n"
     ]
    }
   ],
   "source": [
    "bipG = load_network(uuid=bip_uuid, ndex_password=password, ndex_user=user, verbose=True, use_password=True,\n",
    "                return_cx=False)"
   ]
  },
  {
   "cell_type": "code",
   "execution_count": 11,
   "metadata": {
    "ExecuteTime": {
     "end_time": "2025-06-21T22:31:59.499735Z",
     "start_time": "2025-06-21T22:31:59.496862Z"
    }
   },
   "outputs": [],
   "source": [
    "def load_hierarchy_info(G):\n",
    "    node_data = {}\n",
    "    for n, data in G.nodes(data=True):\n",
    "        node_data[n] = data\n",
    "    node_data = pd.DataFrame(node_data).T\n",
    "    node_data = node_data.loc[:, ['CD_MemberList', 'CD_AnnotatedMembers_Pvalue', 'CD_CommunityName', 'CD_MemberList_LogSize',\n",
    "                                 'CD_AnnotatedMembers_SourceTerm', 'CD_AnnotatedMembers_SourceDB']]\n",
    "    node_data.columns = ['Genes', 'Pvalue', 'Name', 'LogSize', 'SourceTerm', 'SourceDB']\n",
    "    gene_dict = {}\n",
    "    for comm, genes in zip(node_data.index, node_data.Genes):\n",
    "        gene_dict[comm] = [int(x) for x in genes.split(' ')]\n",
    "    return node_data, gene_dict"
   ]
  },
  {
   "cell_type": "code",
   "execution_count": 12,
   "metadata": {
    "ExecuteTime": {
     "end_time": "2025-06-21T22:32:07.596023Z",
     "start_time": "2025-06-21T22:32:07.586952Z"
    }
   },
   "outputs": [],
   "source": [
    "asd_df, asd_genes = load_hierarchy_info(asdG)\n",
    "azd_df, azd_genes = load_hierarchy_info(azdG)\n",
    "bip_df, bip_genes = load_hierarchy_info(bipG)"
   ]
  },
  {
   "cell_type": "markdown",
   "metadata": {},
   "source": [
    "## Construct the HCX Object"
   ]
  },
  {
   "cell_type": "code",
   "execution_count": 13,
   "metadata": {
    "ExecuteTime": {
     "end_time": "2025-06-21T22:32:12.083891Z",
     "start_time": "2025-06-21T22:32:12.081103Z"
    }
   },
   "outputs": [],
   "source": [
    "def get_cx2_networks(hierG, parentG, comm_df):\n",
    "    factory = NetworkXToCX2NetworkFactory()\n",
    "    factorypd = PandasDataFrameToCX2NetworkFactory()\n",
    "    parent_net =factory.get_cx2network(parentG)\n",
    "    hier_df = nx.to_pandas_edgelist(hierG)\n",
    "    hier_net = factorypd.get_cx2network(hier_df, source_field='source', target_field='target')\n",
    "    for node_id, node_obj in hier_net.get_nodes().items():\n",
    "        comm = hier_net.get_node(node_id).get('v', {}).get('name')\n",
    "        hier_net.add_node_attribute(node_id, 'CD_MemberList', comm_df.loc[comm]['Genes'] ,datatype='string')\n",
    "    return hier_net, parent_net"
   ]
  },
  {
   "cell_type": "code",
   "execution_count": 14,
   "metadata": {
    "ExecuteTime": {
     "end_time": "2025-06-21T22:32:14.034686Z",
     "start_time": "2025-06-21T22:32:13.298503Z"
    }
   },
   "outputs": [],
   "source": [
    "asd_hier, asd_parent = get_cx2_networks(asdG, asd_parentG, asd_df)\n",
    "azd_hier, azd_parent = get_cx2_networks(azdG, azd_parentG, azd_df)\n",
    "bip_hier, bip_parent = get_cx2_networks(bipG, bip_parentG, bip_df)"
   ]
  },
  {
   "cell_type": "code",
   "execution_count": 15,
   "metadata": {
    "ExecuteTime": {
     "end_time": "2025-06-21T22:32:14.720615Z",
     "start_time": "2025-06-21T22:32:14.716406Z"
    }
   },
   "outputs": [],
   "source": [
    "def get_hcx(hier_net, parent_net, parent_uuid, hier_name):\n",
    "    hier_net.add_network_attribute('ndexSchema', 'hierarchy_v0.1', datatype='string')\n",
    "    hier_net.add_network_attribute('HCX::modelFileCount', '2', datatype='integer')\n",
    "    hier_net.set_name(hier_name)\n",
    "    hier_net.add_network_attribute('HCX::interactionNetworkUUID', parent_uuid, datatype='string')\n",
    "    all_nodes = set(hier_net.get_nodes().keys())\n",
    "    targets = set()\n",
    "    for edge_id, edge_obj in hier_net.get_edges().items():\n",
    "        targets.add(edge_obj['t'])\n",
    "    # Source node is not a target of any edge\n",
    "    root_nodes = all_nodes.difference(targets)\n",
    "    attr_name = 'HCX::isRoot'\n",
    "    for node_id in hier_net.get_nodes().keys():\n",
    "        hier_net.add_node_attribute(node_id, attr_name, str(node_id in root_nodes).lower(), datatype='boolean')\n",
    "    for node_id, node_obj in hier_net.get_nodes().items():\n",
    "        memberlist = hier_net.get_node(node_id).get('v', {}).get('CD_MemberList', '').split(' ')\n",
    "        membersids = []\n",
    "        for member in memberlist:\n",
    "            membersids.append(int(member))\n",
    "        hier_net.add_node_attribute(node_id, 'HCX::members', membersids, datatype='list_of_integer')\n",
    "    return hier_net"
   ]
  },
  {
   "cell_type": "code",
   "execution_count": null,
   "metadata": {},
   "outputs": [],
   "source": [
    "asd_HCX = get_hcx(asd_hier, asd_parent, 'ccd5e0d3-31ac-11f0-a469-005056ae3c32', hier_name='ASD Hierarchy HCX')\n",
    "azd_HCX = get_hcx(azd_hier, azd_parent, 'cd0ad385-31ac-11f0-a469-005056ae3c32', hier_name='AZD Hierarchy HCX')\n",
    "bip_HCX = get_hcx(bip_hier, bip_parent, 'cd515269-31ac-11f0-a469-005056ae3c32', hier_name='BIP Hierarchy HCX')"
   ]
  },
  {
   "cell_type": "markdown",
   "metadata": {},
   "source": [
    "### Upload hiearchies"
   ]
  },
  {
   "cell_type": "code",
   "execution_count": null,
   "metadata": {},
   "outputs": [],
   "source": [
    "client.save_new_cx2_network(asd_HCX.to_cx2(), visibility='PRIVATE')"
   ]
  },
  {
   "cell_type": "code",
   "execution_count": null,
   "metadata": {},
   "outputs": [],
   "source": [
    "client.save_new_cx2_network(azd_HCX.to_cx2(), visibility='PRIVATE')"
   ]
  },
  {
   "cell_type": "code",
   "execution_count": null,
   "metadata": {},
   "outputs": [],
   "source": [
    "client.save_new_cx2_network(bip_HCX.to_cx2(), visibility='PRIVATE')"
   ]
  },
  {
   "cell_type": "markdown",
   "metadata": {},
   "source": [
    "## Add hierarchy annotations"
   ]
  },
  {
   "cell_type": "code",
   "execution_count": null,
   "metadata": {
    "ExecuteTime": {
     "end_time": "2025-06-13T21:49:04.244024Z",
     "start_time": "2025-06-13T21:49:04.240498Z"
    }
   },
   "outputs": [],
   "source": [
    "def annotate_and_clean_hierarchy(hier_df, parentG):\n",
    "    hier_df['logp'] = hier_df.Pvalue.apply(lambda x: -1 * np.log10(float(x)))\n",
    "    hier_df['Name'] = clean_names(hier_df['Name'].values)\n",
    "    hier_df = hier_df.drop(columns = ['Pvalue', 'SourceDB'])\n",
    "    comm_features = {comm: {} for comm in hier_df.index.values} \n",
    "    node_data = parentG.nodes(data=True)\n",
    "    for comm in comm_features:\n",
    "        genes = hier_df.at[comm, 'Genes'].split(' ')\n",
    "        # seed genes\n",
    "        gene_classes = pd.DataFrame({'gene_class':[node_data[n]['gene_class'] for n in genes]}).gene_class.value_counts()\n",
    "        for frac in ['shared_fraction', 'rare_fraction', 'common_fraction', 'network_fraction']:\n",
    "            comm_features[comm][frac] = 0\n",
    "        if 'shared' in gene_classes.index.values:\n",
    "            comm_features[comm]['shared_fraction'] = gene_classes['shared']/len(genes)\n",
    "        if 'rare' in gene_classes.index.values:\n",
    "            comm_features[comm]['rare_fraction'] = gene_classes['rare']/len(genes)\n",
    "        if 'common' in gene_classes.index.values:\n",
    "            comm_features[comm]['common_fraction'] = gene_classes['common']/len(genes)\n",
    "        if 'Network' in gene_classes.index.values:\n",
    "            comm_features[comm]['network_fraction'] = gene_classes['Network']/len(genes)\n",
    "        assert (comm_features[comm]['shared_fraction'] +comm_features[comm]['rare_fraction']+comm_features[comm]['common_fraction']+comm_features[comm]['network_fraction']) == 1, 'Fractions do not add up to ...'\n",
    "\n",
    "        # NPS scores\n",
    "        for z, nps in zip(['z_C', 'z_R', 'Z_coloc'], ['NPSc', 'NPSr', 'NPSrc']):\n",
    "            scores = [float(node_data[n][z]) for n in genes]\n",
    "            comm_features[comm][nps] = np.mean(np.array(scores))\n",
    "        comm_features[comm]['c_vs_r'] = comm_features[comm]['NPSc'] / (comm_features[comm]['NPSc'] + comm_features[comm]['NPSr']) - 0.5\n",
    "        # symbols\n",
    "        symbols = [node_data[n]['HGNC'] for n in genes]\n",
    "        comm_features[comm]['HGNC'] = ' '.join(symbols)\n",
    "\n",
    "    comm_df = pd.DataFrame.from_dict(comm_features, orient='index')\n",
    "    return hier_df.join(comm_df)\n",
    "    \n",
    "def clean_names(names):\n",
    "    replace = {'calcium': 'Ca', 'Calcium':'Ca', 'regulation':'reg.', 'Regulation':'Reg.', \n",
    "          'activity': 'activ.', 'organization':'org.', '(none)': 'NA'}\n",
    "    names_out =[]\n",
    "    for name in names:\n",
    "        for before, after in replace.items():\n",
    "            name = name.replace(before, after)\n",
    "        names_out.append(name[0].capitalize() + name[1:])\n",
    "    return names_out"
   ]
  },
  {
   "cell_type": "code",
   "execution_count": null,
   "metadata": {},
   "outputs": [],
   "source": [
    "asd_out = annotate_and_clean_hierarchy(asd_df.copy(), asd_parentG.copy())"
   ]
  },
  {
   "cell_type": "code",
   "execution_count": null,
   "metadata": {},
   "outputs": [],
   "source": [
    "azd_out = annotate_and_clean_hierarchy(azd_df.copy(), azd_parentG.copy())"
   ]
  },
  {
   "cell_type": "code",
   "execution_count": null,
   "metadata": {},
   "outputs": [],
   "source": [
    "bip_out = annotate_and_clean_hierarchy(bip_df.copy(), bip_parentG.copy())"
   ]
  },
  {
   "cell_type": "code",
   "execution_count": null,
   "metadata": {},
   "outputs": [],
   "source": [
    "asd_out.to_csv('~/Data/Transfer/RVC/figures/NPD/ASD_hier_info.tsv', sep='\\t')\n",
    "azd_out.to_csv('~/Data/Transfer/RVC/figures/NPD/AZD_hier_info.tsv', sep='\\t')\n",
    "bip_out.to_csv('~/Data/Transfer/RVC/figures/NPD/BIP_hier_info.tsv', sep='\\t')"
   ]
  }
 ],
 "metadata": {
  "kernelspec": {
   "display_name": "Python (CARVA)",
   "language": "python",
   "name": "carva"
  },
  "language_info": {
   "codemirror_mode": {
    "name": "ipython",
    "version": 3
   },
   "file_extension": ".py",
   "mimetype": "text/x-python",
   "name": "python",
   "nbconvert_exporter": "python",
   "pygments_lexer": "ipython3",
   "version": "3.10.0"
  },
  "toc": {
   "base_numbering": 1,
   "nav_menu": {},
   "number_sections": true,
   "sideBar": true,
   "skip_h1_title": false,
   "title_cell": "Table of Contents",
   "title_sidebar": "Contents",
   "toc_cell": false,
   "toc_position": {},
   "toc_section_display": true,
   "toc_window_display": false
  },
  "varInspector": {
   "cols": {
    "lenName": 16,
    "lenType": 16,
    "lenVar": 40
   },
   "kernels_config": {
    "python": {
     "delete_cmd_postfix": "",
     "delete_cmd_prefix": "del ",
     "library": "var_list.py",
     "varRefreshCmd": "print(var_dic_list())"
    },
    "r": {
     "delete_cmd_postfix": ") ",
     "delete_cmd_prefix": "rm(",
     "library": "var_list.r",
     "varRefreshCmd": "cat(var_dic_list()) "
    }
   },
   "types_to_exclude": [
    "module",
    "function",
    "builtin_function_or_method",
    "instance",
    "_Feature"
   ],
   "window_display": false
  }
 },
 "nbformat": 4,
 "nbformat_minor": 2
}
