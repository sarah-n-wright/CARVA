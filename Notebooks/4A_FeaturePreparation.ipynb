{
 "cells": [
  {
   "cell_type": "markdown",
   "metadata": {},
   "source": [
    "# Feature Preparation Notebook\n",
    "\n",
    "**Related to Figure 4, Figure 5 and Supplemental Figure 2**  \n",
    "\n",
    "Figures Generated:\n",
    "- SFig 2A - feature correlations\n",
    "\n",
    "Data generated:\n",
    "- Supplemental Table 3\n"
   ]
  },
  {
   "cell_type": "markdown",
   "metadata": {},
   "source": [
    "### Set Up"
   ]
  },
  {
   "cell_type": "code",
   "execution_count": 1,
   "metadata": {
    "ExecuteTime": {
     "end_time": "2025-06-22T17:49:56.052712Z",
     "start_time": "2025-06-22T17:49:54.077377Z"
    }
   },
   "outputs": [],
   "source": [
    "import pandas as pd\n",
    "import os\n",
    "import sys\n",
    "import seaborn as sns\n",
    "import matplotlib.pyplot as plt\n",
    "import numpy as np\n",
    "from tqdm import tqdm\n",
    "from statsmodels.stats.multitest import fdrcorrection\n",
    "import sklearn.preprocessing as prep\n",
    "import statsmodels.api as sm\n",
    "\n",
    "import numpy as np\n",
    "from sklearn.linear_model import ElasticNetCV\n",
    "from sklearn.model_selection import KFold\n",
    "from sklearn.metrics import mean_squared_error, r2_score"
   ]
  },
  {
   "cell_type": "code",
   "execution_count": 43,
   "metadata": {
    "ExecuteTime": {
     "end_time": "2025-06-22T18:47:10.017536Z",
     "start_time": "2025-06-22T18:47:10.014953Z"
    }
   },
   "outputs": [],
   "source": [
    "cwd = os.getcwd()\n",
    "datadir = os.path.join(cwd, '..')"
   ]
  },
  {
   "cell_type": "code",
   "execution_count": 44,
   "metadata": {
    "ExecuteTime": {
     "end_time": "2025-06-22T18:47:23.730308Z",
     "start_time": "2025-06-22T18:47:23.725035Z"
    }
   },
   "outputs": [],
   "source": [
    "plt.rcParams['svg.fonttype'] = 'none'\n",
    "plt.rcParams.update({'font.size': 7})\n",
    "plt.rcParams['axes.linewidth'] = 0.5\n",
    "plt.rcParams['hatch.linewidth'] = 0.5\n",
    "plt.rcParams['xtick.major.width'] = 0.4\n",
    "plt.rcParams['ytick.major.width'] = 0.4\n",
    "plt.rcParams['xtick.minor.width'] = 0.3\n",
    "plt.rcParams['ytick.minor.width'] = 0.3\n",
    "plt.rcParams['legend.frameon'] = False\n",
    "plt.rcParams['xtick.major.size'] = 3\n",
    "plt.rcParams['ytick.major.size'] = 3\n",
    "plt.rcParams['xtick.minor.size'] = 2\n",
    "plt.rcParams['ytick.minor.size'] = 2\n",
    "plt.rcParams['xtick.major.pad'] = 1\n",
    "plt.rcParams['ytick.major.pad'] = 1\n",
    "plt.rcParams['axes.labelpad'] = 1\n",
    "plt.rcParams['patch.linewidth'] = 0.5\n",
    "import matplotlib.font_manager as fm\n",
    "arial_font_path = os.path.join(datadir, 'Reference_Data', 'Arial.TTF')\n",
    "fm.fontManager.addfont(arial_font_path)\n",
    "import matplotlib\n",
    "matplotlib.rcParams['font.family'] = 'Arial'\n",
    "blue='#6ec1e0'\n",
    "green='#5fad56'\n",
    "shared='#af3800'\n",
    "binary='#00606f'"
   ]
  },
  {
   "cell_type": "code",
   "execution_count": 45,
   "metadata": {
    "ExecuteTime": {
     "end_time": "2025-06-22T18:47:32.103189Z",
     "start_time": "2025-06-22T18:47:30.556518Z"
    }
   },
   "outputs": [],
   "source": [
    "from sentence_transformers import SentenceTransformer\n",
    "from sklearn.metrics.pairwise import cosine_similarity\n",
    "model = SentenceTransformer('all-MiniLM-L6-v2')"
   ]
  },
  {
   "cell_type": "markdown",
   "metadata": {},
   "source": [
    "### Load initial data"
   ]
  },
  {
   "cell_type": "code",
   "execution_count": 47,
   "metadata": {
    "ExecuteTime": {
     "end_time": "2025-06-22T18:48:28.365479Z",
     "start_time": "2025-06-22T18:48:28.363166Z"
    }
   },
   "outputs": [],
   "source": [
    "def get_trait_pair(df):\n",
    "    df['trait_pair'] = df['Rare Study'].astype(int).astype(str) + '_' + df['EFO'] +'_' +df['Common Study'] +'_'+ df['EFO']\n",
    "    return df"
   ]
  },
  {
   "cell_type": "code",
   "execution_count": 48,
   "metadata": {
    "ExecuteTime": {
     "end_time": "2025-06-22T18:48:35.141545Z",
     "start_time": "2025-06-22T18:48:35.129568Z"
    }
   },
   "outputs": [],
   "source": [
    "coloc_df = pd.read_csv(os.path.join(datadir, 'outputs/STable2.tsv'), sep='\\t')\n",
    "coloc_df = get_trait_pair(coloc_df)\n",
    "best_df = coloc_df[coloc_df['Optimal COLOC']].copy()"
   ]
  },
  {
   "cell_type": "code",
   "execution_count": 49,
   "metadata": {
    "ExecuteTime": {
     "end_time": "2025-06-22T18:48:41.918254Z",
     "start_time": "2025-06-22T18:48:41.916388Z"
    }
   },
   "outputs": [],
   "source": [
    "all_pairs = coloc_df.trait_pair.values"
   ]
  },
  {
   "cell_type": "code",
   "execution_count": 50,
   "metadata": {
    "ExecuteTime": {
     "end_time": "2025-06-22T18:48:48.838811Z",
     "start_time": "2025-06-22T18:48:48.836982Z"
    }
   },
   "outputs": [],
   "source": [
    "best_pairs = best_df.trait_pair.values"
   ]
  },
  {
   "cell_type": "markdown",
   "metadata": {},
   "source": [
    "## Biological Features"
   ]
  },
  {
   "cell_type": "code",
   "execution_count": 53,
   "metadata": {
    "ExecuteTime": {
     "end_time": "2025-06-22T18:49:53.160987Z",
     "start_time": "2025-06-22T18:49:53.154664Z"
    }
   },
   "outputs": [],
   "source": [
    "bio_df = pd.read_csv(os.path.join(datadir, 'outputs/Raw_geneset_gene_features.txt'), sep='\\t', index_col=0)\n",
    "bio_df = bio_df.loc[:,[ 'pli', 'Length', 'GO', 'n_mrna', 'mrna', 'Set'] ]\n",
    "bio_df.columns = ['LOEUF', 'GeneSize', 'GO','nTissues', 'mRNA', 'Set']"
   ]
  },
  {
   "cell_type": "code",
   "execution_count": 54,
   "metadata": {
    "ExecuteTime": {
     "end_time": "2025-06-22T18:50:00.032813Z",
     "start_time": "2025-06-22T18:50:00.026224Z"
    }
   },
   "outputs": [
    {
     "data": {
      "text/html": [
       "<div>\n",
       "<style scoped>\n",
       "    .dataframe tbody tr th:only-of-type {\n",
       "        vertical-align: middle;\n",
       "    }\n",
       "\n",
       "    .dataframe tbody tr th {\n",
       "        vertical-align: top;\n",
       "    }\n",
       "\n",
       "    .dataframe thead th {\n",
       "        text-align: right;\n",
       "    }\n",
       "</style>\n",
       "<table border=\"1\" class=\"dataframe\">\n",
       "  <thead>\n",
       "    <tr style=\"text-align: right;\">\n",
       "      <th></th>\n",
       "      <th>LOEUF</th>\n",
       "      <th>GeneSize</th>\n",
       "      <th>GO</th>\n",
       "      <th>nTissues</th>\n",
       "      <th>mRNA</th>\n",
       "      <th>Set</th>\n",
       "    </tr>\n",
       "  </thead>\n",
       "  <tbody>\n",
       "    <tr>\n",
       "      <th>34244158_MONDO_0004986</th>\n",
       "      <td>1.10035</td>\n",
       "      <td>64007.0</td>\n",
       "      <td>12.0</td>\n",
       "      <td>52.0</td>\n",
       "      <td>5.073262</td>\n",
       "      <td>Rare</td>\n",
       "    </tr>\n",
       "    <tr>\n",
       "      <th>34375979_MONDO_0005277</th>\n",
       "      <td>1.16710</td>\n",
       "      <td>40270.0</td>\n",
       "      <td>11.0</td>\n",
       "      <td>53.0</td>\n",
       "      <td>9.957110</td>\n",
       "      <td>Rare</td>\n",
       "    </tr>\n",
       "    <tr>\n",
       "      <th>32492392_EFO_0001073</th>\n",
       "      <td>2.98230</td>\n",
       "      <td>54188.5</td>\n",
       "      <td>17.0</td>\n",
       "      <td>54.0</td>\n",
       "      <td>9.936466</td>\n",
       "      <td>Rare</td>\n",
       "    </tr>\n",
       "    <tr>\n",
       "      <th>34226706_EFO_0004570</th>\n",
       "      <td>1.61325</td>\n",
       "      <td>60393.0</td>\n",
       "      <td>17.0</td>\n",
       "      <td>7.0</td>\n",
       "      <td>1.057579</td>\n",
       "      <td>Rare</td>\n",
       "    </tr>\n",
       "    <tr>\n",
       "      <th>30175238_EFO_0004312</th>\n",
       "      <td>0.51479</td>\n",
       "      <td>18959.0</td>\n",
       "      <td>14.0</td>\n",
       "      <td>37.0</td>\n",
       "      <td>8.706008</td>\n",
       "      <td>Rare</td>\n",
       "    </tr>\n",
       "  </tbody>\n",
       "</table>\n",
       "</div>"
      ],
      "text/plain": [
       "                          LOEUF  GeneSize    GO  nTissues      mRNA   Set\n",
       "34244158_MONDO_0004986  1.10035   64007.0  12.0      52.0  5.073262  Rare\n",
       "34375979_MONDO_0005277  1.16710   40270.0  11.0      53.0  9.957110  Rare\n",
       "32492392_EFO_0001073    2.98230   54188.5  17.0      54.0  9.936466  Rare\n",
       "34226706_EFO_0004570    1.61325   60393.0  17.0       7.0  1.057579  Rare\n",
       "30175238_EFO_0004312    0.51479   18959.0  14.0      37.0  8.706008  Rare"
      ]
     },
     "execution_count": 54,
     "metadata": {},
     "output_type": "execute_result"
    }
   ],
   "source": [
    "bio_df.head()"
   ]
  },
  {
   "cell_type": "markdown",
   "metadata": {},
   "source": [
    "## Study & Study Design Features"
   ]
  },
  {
   "cell_type": "code",
   "execution_count": 96,
   "metadata": {
    "ExecuteTime": {
     "end_time": "2025-06-22T19:24:29.769074Z",
     "start_time": "2025-06-22T19:24:29.753946Z"
    }
   },
   "outputs": [
    {
     "data": {
      "text/html": [
       "<div>\n",
       "<style scoped>\n",
       "    .dataframe tbody tr th:only-of-type {\n",
       "        vertical-align: middle;\n",
       "    }\n",
       "\n",
       "    .dataframe tbody tr th {\n",
       "        vertical-align: top;\n",
       "    }\n",
       "\n",
       "    .dataframe thead th {\n",
       "        text-align: right;\n",
       "    }\n",
       "</style>\n",
       "<table border=\"1\" class=\"dataframe\">\n",
       "  <thead>\n",
       "    <tr style=\"text-align: right;\">\n",
       "      <th></th>\n",
       "      <th>TRAIT</th>\n",
       "      <th>EFO</th>\n",
       "      <th>Study</th>\n",
       "      <th>Set</th>\n",
       "      <th>trait_type</th>\n",
       "      <th>Domain</th>\n",
       "      <th>N</th>\n",
       "      <th>g</th>\n",
       "      <th>StudyTrait</th>\n",
       "    </tr>\n",
       "  </thead>\n",
       "  <tbody>\n",
       "    <tr>\n",
       "      <th>0</th>\n",
       "      <td>neutrophil count</td>\n",
       "      <td>EFO_0004833</td>\n",
       "      <td>34226706</td>\n",
       "      <td>Rare</td>\n",
       "      <td>Continuous</td>\n",
       "      <td>Immunological</td>\n",
       "      <td>443782.0</td>\n",
       "      <td>22</td>\n",
       "      <td>34226706_EFO_0004833</td>\n",
       "    </tr>\n",
       "  </tbody>\n",
       "</table>\n",
       "</div>"
      ],
      "text/plain": [
       "              TRAIT          EFO     Study   Set  trait_type         Domain  \\\n",
       "0  neutrophil count  EFO_0004833  34226706  Rare  Continuous  Immunological   \n",
       "\n",
       "          N   g            StudyTrait  \n",
       "0  443782.0  22  34226706_EFO_0004833  "
      ]
     },
     "execution_count": 96,
     "metadata": {},
     "output_type": "execute_result"
    }
   ],
   "source": [
    "study_info = pd.read_csv(os.path.join(datadir, 'outputs/STable1.tsv'), sep='\\t',\n",
    "                        usecols=['Mapped EFO', 'Study Identifier', 'Variant Type', 'Population Sample Size', 'Gene Count',\n",
    "                                'Trait Type', 'Biological Domain', 'Mapped Trait'])\n",
    "study_info.columns = ['TRAIT', 'EFO', 'Study', 'Set', 'trait_type', 'Domain', 'N', 'g' ]\n",
    "study_info['StudyTrait'] = study_info['Study'] + '_' + study_info['EFO']\n",
    "info_df = study_info.copy()"
   ]
  },
  {
   "cell_type": "code",
   "execution_count": 97,
   "metadata": {
    "ExecuteTime": {
     "end_time": "2025-06-22T19:24:36.567011Z",
     "start_time": "2025-06-22T19:24:36.564331Z"
    }
   },
   "outputs": [],
   "source": [
    "coloc_feat = coloc_df.loc[:, ['EFO', 'Trait', 'Common Study', 'Rare Study', 'nCommon', 'nRare', 'nShared', 'Log2SizeOE', \n",
    "                              'trait_pair']]"
   ]
  },
  {
   "cell_type": "code",
   "execution_count": 109,
   "metadata": {
    "ExecuteTime": {
     "end_time": "2025-06-22T19:29:08.212476Z",
     "start_time": "2025-06-22T19:29:08.209223Z"
    }
   },
   "outputs": [
    {
     "data": {
      "text/plain": [
       "Index(['EFO', 'Trait', 'Common Study', 'Rare Study', 'nCommon', 'nRare',\n",
       "       'nShared', 'Log2SizeOE', 'trait_pair'],\n",
       "      dtype='object')"
      ]
     },
     "execution_count": 109,
     "metadata": {},
     "output_type": "execute_result"
    }
   ],
   "source": [
    "coloc_feat.columns"
   ]
  },
  {
   "cell_type": "code",
   "execution_count": 110,
   "metadata": {
    "ExecuteTime": {
     "end_time": "2025-06-22T19:29:22.148629Z",
     "start_time": "2025-06-22T19:29:22.145652Z"
    }
   },
   "outputs": [
    {
     "data": {
      "text/plain": [
       "Index(['TRAIT', 'EFO', 'Study', 'Set', 'trait_type', 'Domain', 'N', 'g',\n",
       "       'StudyTrait'],\n",
       "      dtype='object')"
      ]
     },
     "execution_count": 110,
     "metadata": {},
     "output_type": "execute_result"
    }
   ],
   "source": [
    "info_df.columns"
   ]
  },
  {
   "cell_type": "code",
   "execution_count": 98,
   "metadata": {
    "ExecuteTime": {
     "end_time": "2025-06-22T19:24:43.261514Z",
     "start_time": "2025-06-22T19:24:43.253386Z"
    }
   },
   "outputs": [
    {
     "data": {
      "text/plain": [
       "(1689, 13)"
      ]
     },
     "execution_count": 98,
     "metadata": {},
     "output_type": "execute_result"
    }
   ],
   "source": [
    "rare_info = info_df[info_df.Set=='Rare'].loc[:, ('Study', 'N', 'g', 'EFO', \"TRAIT\")].drop_duplicates()\n",
    "rare_info['Study'] = rare_info['Study'].astype(int)\n",
    "input_df = coloc_feat.merge(rare_info, \n",
    "                           left_on=['EFO', 'Trait', 'Rare Study'], right_on=['EFO', 'TRAIT', 'Study'], how='left')\n",
    "input_df.shape"
   ]
  },
  {
   "cell_type": "code",
   "execution_count": 113,
   "metadata": {
    "ExecuteTime": {
     "end_time": "2025-06-22T20:38:38.919326Z",
     "start_time": "2025-06-22T20:38:38.910502Z"
    }
   },
   "outputs": [
    {
     "data": {
      "text/plain": [
       "(1634, 17)"
      ]
     },
     "execution_count": 113,
     "metadata": {},
     "output_type": "execute_result"
    }
   ],
   "source": [
    "input_df = pd.read_csv(os.path.join(datadir, 'outputs/Raw_input_features.txt'), sep='\\t')\n",
    "input_df.shape"
   ]
  },
  {
   "cell_type": "markdown",
   "metadata": {},
   "source": [
    "## Network Features"
   ]
  },
  {
   "cell_type": "code",
   "execution_count": 114,
   "metadata": {
    "ExecuteTime": {
     "end_time": "2025-06-22T20:38:52.563397Z",
     "start_time": "2025-06-22T20:38:51.197526Z"
    }
   },
   "outputs": [
    {
     "name": "stdout",
     "output_type": "stream",
     "text": [
      "0\n",
      "0\n",
      "Completion: 1.0\n"
     ]
    }
   ],
   "source": [
    "# Load network results\n",
    "net = []\n",
    "not_found = 0\n",
    "for pair in best_pairs:\n",
    "    try:\n",
    "        x = pd.read_csv(os.path.join(nrnb_dir, 'outputs/Features/network_stats', f'network_stats_pcnet2_0_best_rare.traitlist.{pair}'), sep='\\t', low_memory=False)\n",
    "        net.append(x)\n",
    "    except FileNotFoundError:\n",
    "        not_found +=1\n",
    "        #print(f'{pair} not found')\n",
    "print(not_found)\n",
    "for pair in all_pairs:\n",
    "    if pair not in best_pairs:\n",
    "        try:\n",
    "            x = pd.read_csv(os.path.join(nrnb_dir, 'outputs/Features/network_stats', f'network_stats_pcnet2_0_not_best_rare.traitlist.{pair}'), sep='\\t', low_memory=False)\n",
    "            net.append(x)\n",
    "        except FileNotFoundError:\n",
    "            try:\n",
    "                x = pd.read_csv(os.path.join(nrnb_dir, 'outputs/Features/network_stats', f'network_stats_pcnet2_0_not_best_rare.traitlist.{pair.replace(\"_EFO\", \".0_EFO\")}'), sep='\\t', low_memory=False)\n",
    "                net.append(x)\n",
    "            except FileNotFoundError:\n",
    "                not_found+=1\n",
    "            #print(f'{pair} not found')\n",
    "print(not_found)\n",
    "print('Completion:', (1 - not_found/1261))"
   ]
  },
  {
   "cell_type": "code",
   "execution_count": 115,
   "metadata": {
    "ExecuteTime": {
     "end_time": "2025-06-22T20:38:59.423845Z",
     "start_time": "2025-06-22T20:38:59.328377Z"
    }
   },
   "outputs": [],
   "source": [
    "netdf = pd.concat(net)"
   ]
  },
  {
   "cell_type": "code",
   "execution_count": 116,
   "metadata": {
    "ExecuteTime": {
     "end_time": "2025-06-22T20:39:06.149081Z",
     "start_time": "2025-06-22T20:39:06.147029Z"
    }
   },
   "outputs": [],
   "source": [
    "def extract_subAssort(instr):\n",
    "    outstr = instr.replace('(', '').replace(')', '').split(', ')\n",
    "    return [float(x) for x in outstr] "
   ]
  },
  {
   "cell_type": "code",
   "execution_count": 117,
   "metadata": {
    "ExecuteTime": {
     "end_time": "2025-06-22T20:39:12.854783Z",
     "start_time": "2025-06-22T20:39:12.843370Z"
    }
   },
   "outputs": [],
   "source": [
    "rc_assortativity = netdf.loc[netdf.varset=='rare_common', ( 'trait', 'varset', 'subnetwork_assortativity')]\n",
    "rc_assortativity['subnetAssort'] = rc_assortativity.subnetwork_assortativity.apply(lambda x:x if isinstance(x, float) else np.mean(extract_subAssort(x)))"
   ]
  },
  {
   "cell_type": "code",
   "execution_count": 118,
   "metadata": {
    "ExecuteTime": {
     "end_time": "2025-06-22T20:39:19.563425Z",
     "start_time": "2025-06-22T20:39:19.556973Z"
    }
   },
   "outputs": [],
   "source": [
    "net_df = netdf.drop(columns='subnetwork_assortativity').merge(rc_assortativity.drop(columns='subnetwork_assortativity'), on=['trait', 'varset'], how='left')"
   ]
  },
  {
   "cell_type": "code",
   "execution_count": 119,
   "metadata": {
    "ExecuteTime": {
     "end_time": "2025-06-22T20:39:26.288649Z",
     "start_time": "2025-06-22T20:39:26.281429Z"
    }
   },
   "outputs": [
    {
     "data": {
      "text/html": [
       "<div>\n",
       "<style scoped>\n",
       "    .dataframe tbody tr th:only-of-type {\n",
       "        vertical-align: middle;\n",
       "    }\n",
       "\n",
       "    .dataframe tbody tr th {\n",
       "        vertical-align: top;\n",
       "    }\n",
       "\n",
       "    .dataframe thead th {\n",
       "        text-align: right;\n",
       "    }\n",
       "</style>\n",
       "<table border=\"1\" class=\"dataframe\">\n",
       "  <thead>\n",
       "    <tr style=\"text-align: right;\">\n",
       "      <th></th>\n",
       "      <th>trait</th>\n",
       "      <th>varset</th>\n",
       "      <th>subnetwork_density</th>\n",
       "      <th>n_components</th>\n",
       "      <th>average_degree</th>\n",
       "      <th>subnetwork_average_degree</th>\n",
       "      <th>clustering</th>\n",
       "      <th>subnetwork_clustering</th>\n",
       "      <th>assortativity</th>\n",
       "      <th>average_path</th>\n",
       "      <th>subnetAssort</th>\n",
       "    </tr>\n",
       "  </thead>\n",
       "  <tbody>\n",
       "    <tr>\n",
       "      <th>0</th>\n",
       "      <td>34662886_EFO_0000095_GCST002073_EFO_0000095</td>\n",
       "      <td>rare</td>\n",
       "      <td>0.333333</td>\n",
       "      <td>2</td>\n",
       "      <td>1872.250000</td>\n",
       "      <td>1.000000</td>\n",
       "      <td>0.264898</td>\n",
       "      <td>0.000000</td>\n",
       "      <td>-0.000438</td>\n",
       "      <td>1.666667</td>\n",
       "      <td>NaN</td>\n",
       "    </tr>\n",
       "    <tr>\n",
       "      <th>1</th>\n",
       "      <td>34662886_EFO_0000095_GCST002073_EFO_0000095</td>\n",
       "      <td>common</td>\n",
       "      <td>0.333333</td>\n",
       "      <td>2</td>\n",
       "      <td>420.111111</td>\n",
       "      <td>2.666667</td>\n",
       "      <td>0.309568</td>\n",
       "      <td>0.500000</td>\n",
       "      <td>0.005860</td>\n",
       "      <td>1.722222</td>\n",
       "      <td>NaN</td>\n",
       "    </tr>\n",
       "    <tr>\n",
       "      <th>2</th>\n",
       "      <td>34662886_EFO_0000095_GCST002073_EFO_0000095</td>\n",
       "      <td>overlap</td>\n",
       "      <td>0.000000</td>\n",
       "      <td>0</td>\n",
       "      <td>0.000000</td>\n",
       "      <td>0.000000</td>\n",
       "      <td>0.000000</td>\n",
       "      <td>0.000000</td>\n",
       "      <td>0.000000</td>\n",
       "      <td>0.000000</td>\n",
       "      <td>NaN</td>\n",
       "    </tr>\n",
       "    <tr>\n",
       "      <th>3</th>\n",
       "      <td>34662886_EFO_0000095_GCST002073_EFO_0000095</td>\n",
       "      <td>rare_common</td>\n",
       "      <td>0.243590</td>\n",
       "      <td>1</td>\n",
       "      <td>866.923077</td>\n",
       "      <td>2.923077</td>\n",
       "      <td>0.289263</td>\n",
       "      <td>0.307692</td>\n",
       "      <td>0.001912</td>\n",
       "      <td>1.794872</td>\n",
       "      <td>0.272031</td>\n",
       "    </tr>\n",
       "    <tr>\n",
       "      <th>4</th>\n",
       "      <td>34375979_EFO_0000096_GCST002643_EFO_0000096</td>\n",
       "      <td>rare</td>\n",
       "      <td>0.071429</td>\n",
       "      <td>6</td>\n",
       "      <td>657.375000</td>\n",
       "      <td>0.500000</td>\n",
       "      <td>0.311598</td>\n",
       "      <td>0.000000</td>\n",
       "      <td>0.000078</td>\n",
       "      <td>2.250000</td>\n",
       "      <td>NaN</td>\n",
       "    </tr>\n",
       "  </tbody>\n",
       "</table>\n",
       "</div>"
      ],
      "text/plain": [
       "                                         trait       varset  \\\n",
       "0  34662886_EFO_0000095_GCST002073_EFO_0000095         rare   \n",
       "1  34662886_EFO_0000095_GCST002073_EFO_0000095       common   \n",
       "2  34662886_EFO_0000095_GCST002073_EFO_0000095      overlap   \n",
       "3  34662886_EFO_0000095_GCST002073_EFO_0000095  rare_common   \n",
       "4  34375979_EFO_0000096_GCST002643_EFO_0000096         rare   \n",
       "\n",
       "   subnetwork_density  n_components  average_degree  \\\n",
       "0            0.333333             2     1872.250000   \n",
       "1            0.333333             2      420.111111   \n",
       "2            0.000000             0        0.000000   \n",
       "3            0.243590             1      866.923077   \n",
       "4            0.071429             6      657.375000   \n",
       "\n",
       "   subnetwork_average_degree  clustering  subnetwork_clustering  \\\n",
       "0                   1.000000    0.264898               0.000000   \n",
       "1                   2.666667    0.309568               0.500000   \n",
       "2                   0.000000    0.000000               0.000000   \n",
       "3                   2.923077    0.289263               0.307692   \n",
       "4                   0.500000    0.311598               0.000000   \n",
       "\n",
       "   assortativity  average_path  subnetAssort  \n",
       "0      -0.000438      1.666667           NaN  \n",
       "1       0.005860      1.722222           NaN  \n",
       "2       0.000000      0.000000           NaN  \n",
       "3       0.001912      1.794872      0.272031  \n",
       "4       0.000078      2.250000           NaN  "
      ]
     },
     "execution_count": 119,
     "metadata": {},
     "output_type": "execute_result"
    }
   ],
   "source": [
    "net_df.head()"
   ]
  },
  {
   "cell_type": "code",
   "execution_count": 120,
   "metadata": {
    "ExecuteTime": {
     "end_time": "2025-06-22T20:39:33.025375Z",
     "start_time": "2025-06-22T20:39:33.019483Z"
    }
   },
   "outputs": [
    {
     "data": {
      "text/html": [
       "<div>\n",
       "<style scoped>\n",
       "    .dataframe tbody tr th:only-of-type {\n",
       "        vertical-align: middle;\n",
       "    }\n",
       "\n",
       "    .dataframe tbody tr th {\n",
       "        vertical-align: top;\n",
       "    }\n",
       "\n",
       "    .dataframe thead th {\n",
       "        text-align: right;\n",
       "    }\n",
       "</style>\n",
       "<table border=\"1\" class=\"dataframe\">\n",
       "  <thead>\n",
       "    <tr style=\"text-align: right;\">\n",
       "      <th></th>\n",
       "      <th>TRAIT</th>\n",
       "      <th>EFO</th>\n",
       "      <th>Study</th>\n",
       "      <th>Set</th>\n",
       "      <th>trait_type</th>\n",
       "      <th>Domain</th>\n",
       "      <th>N</th>\n",
       "      <th>g</th>\n",
       "      <th>StudyTrait</th>\n",
       "    </tr>\n",
       "  </thead>\n",
       "  <tbody>\n",
       "    <tr>\n",
       "      <th>0</th>\n",
       "      <td>neutrophil count</td>\n",
       "      <td>EFO_0004833</td>\n",
       "      <td>34226706</td>\n",
       "      <td>Rare</td>\n",
       "      <td>Continuous</td>\n",
       "      <td>Immunological</td>\n",
       "      <td>443782.000000</td>\n",
       "      <td>22</td>\n",
       "      <td>34226706_EFO_0004833</td>\n",
       "    </tr>\n",
       "    <tr>\n",
       "      <th>1</th>\n",
       "      <td>neutrophil count</td>\n",
       "      <td>EFO_0004833</td>\n",
       "      <td>34662886</td>\n",
       "      <td>Rare</td>\n",
       "      <td>Continuous</td>\n",
       "      <td>Immunological</td>\n",
       "      <td>418407.159091</td>\n",
       "      <td>16</td>\n",
       "      <td>34662886_EFO_0004833</td>\n",
       "    </tr>\n",
       "    <tr>\n",
       "      <th>2</th>\n",
       "      <td>neutrophil count</td>\n",
       "      <td>EFO_0004833</td>\n",
       "      <td>28089252</td>\n",
       "      <td>Rare</td>\n",
       "      <td>Continuous</td>\n",
       "      <td>Immunological</td>\n",
       "      <td>1860.000000</td>\n",
       "      <td>7</td>\n",
       "      <td>28089252_EFO_0004833</td>\n",
       "    </tr>\n",
       "    <tr>\n",
       "      <th>3</th>\n",
       "      <td>autism spectrum disorder</td>\n",
       "      <td>EFO_0003756</td>\n",
       "      <td>24151499</td>\n",
       "      <td>Rare</td>\n",
       "      <td>Categorical</td>\n",
       "      <td>Psychiatric</td>\n",
       "      <td>1657.000000</td>\n",
       "      <td>12</td>\n",
       "      <td>24151499_EFO_0003756</td>\n",
       "    </tr>\n",
       "    <tr>\n",
       "      <th>4</th>\n",
       "      <td>autism spectrum disorder</td>\n",
       "      <td>EFO_0003756</td>\n",
       "      <td>35982160</td>\n",
       "      <td>Rare</td>\n",
       "      <td>Categorical</td>\n",
       "      <td>Psychiatric</td>\n",
       "      <td>63237.000000</td>\n",
       "      <td>119</td>\n",
       "      <td>35982160_EFO_0003756</td>\n",
       "    </tr>\n",
       "  </tbody>\n",
       "</table>\n",
       "</div>"
      ],
      "text/plain": [
       "                      TRAIT          EFO     Study   Set   trait_type  \\\n",
       "0          neutrophil count  EFO_0004833  34226706  Rare   Continuous   \n",
       "1          neutrophil count  EFO_0004833  34662886  Rare   Continuous   \n",
       "2          neutrophil count  EFO_0004833  28089252  Rare   Continuous   \n",
       "3  autism spectrum disorder  EFO_0003756  24151499  Rare  Categorical   \n",
       "4  autism spectrum disorder  EFO_0003756  35982160  Rare  Categorical   \n",
       "\n",
       "          Domain              N    g            StudyTrait  \n",
       "0  Immunological  443782.000000   22  34226706_EFO_0004833  \n",
       "1  Immunological  418407.159091   16  34662886_EFO_0004833  \n",
       "2  Immunological    1860.000000    7  28089252_EFO_0004833  \n",
       "3    Psychiatric    1657.000000   12  24151499_EFO_0003756  \n",
       "4    Psychiatric   63237.000000  119  35982160_EFO_0003756  "
      ]
     },
     "execution_count": 120,
     "metadata": {},
     "output_type": "execute_result"
    }
   ],
   "source": [
    "info_df.head()"
   ]
  },
  {
   "cell_type": "code",
   "execution_count": 123,
   "metadata": {
    "ExecuteTime": {
     "end_time": "2025-06-22T20:39:55.465004Z",
     "start_time": "2025-06-22T20:39:55.459487Z"
    }
   },
   "outputs": [],
   "source": [
    "net_df = net_df.merge(input_df.loc[:, ('n_rare', 'n_common', 'n_overlap', 'trait_pair')], \n",
    "                      left_on='trait', right_on='trait_pair').drop(columns='trait')"
   ]
  },
  {
   "cell_type": "code",
   "execution_count": 124,
   "metadata": {
    "ExecuteTime": {
     "end_time": "2025-06-22T20:40:02.233252Z",
     "start_time": "2025-06-22T20:40:02.227699Z"
    }
   },
   "outputs": [],
   "source": [
    "subnets = net_df.pivot(index='trait_pair', columns='varset', values='subnetwork_density')"
   ]
  },
  {
   "cell_type": "code",
   "execution_count": 125,
   "metadata": {
    "ExecuteTime": {
     "end_time": "2025-06-22T20:40:16.194353Z",
     "start_time": "2025-06-22T20:40:16.132142Z"
    }
   },
   "outputs": [],
   "source": [
    "net_df.to_csv(os.path.join(datadir, 'outputs/Raw_network_features.txt'), sep='\\t')"
   ]
  },
  {
   "cell_type": "markdown",
   "metadata": {},
   "source": [
    "## Trait Features"
   ]
  },
  {
   "cell_type": "markdown",
   "metadata": {},
   "source": [
    "### Heritability"
   ]
  },
  {
   "cell_type": "code",
   "execution_count": 126,
   "metadata": {
    "ExecuteTime": {
     "end_time": "2025-06-22T20:40:22.906594Z",
     "start_time": "2025-06-22T20:40:22.876461Z"
    }
   },
   "outputs": [],
   "source": [
    "ukb_df = pd.read_csv(os.path.join(datadir,'Reference_Data/ukb31063_h2_topline.02Oct2019.tsv.gz'), sep='\\t')"
   ]
  },
  {
   "cell_type": "code",
   "execution_count": 127,
   "metadata": {
    "ExecuteTime": {
     "end_time": "2025-06-22T20:40:29.587958Z",
     "start_time": "2025-06-22T20:40:29.586032Z"
    }
   },
   "outputs": [],
   "source": [
    "# exclude pigmentation and bilirubin \n",
    "# (as per https://nealelab.github.io/UKBB_ldsc/confidence.html#unusually_large_standard_errors)\n",
    "exclude = ['1717', '1727', '1747_1','1747_2','1747_3', '1747_4', '1747_5','1747_6', '30660_irnt', '30840_irnt']"
   ]
  },
  {
   "cell_type": "code",
   "execution_count": 128,
   "metadata": {
    "ExecuteTime": {
     "end_time": "2025-06-22T20:40:36.289348Z",
     "start_time": "2025-06-22T20:40:36.286267Z"
    }
   },
   "outputs": [],
   "source": [
    "ukb_df = ukb_df[(~ukb_df.phenotype.isin(exclude)) & (~ukb_df.isBadOrdinal)]"
   ]
  },
  {
   "cell_type": "markdown",
   "metadata": {},
   "source": [
    "#### Trait matching"
   ]
  },
  {
   "cell_type": "code",
   "execution_count": 129,
   "metadata": {
    "ExecuteTime": {
     "end_time": "2025-06-22T20:41:02.763329Z",
     "start_time": "2025-06-22T20:40:42.980916Z"
    }
   },
   "outputs": [],
   "source": [
    "ukb = model.encode(ukb_df.description.values, batch_size=32)\n",
    "efo = model.encode(domain_info.TRAIT.values, batch_size=32)\n",
    "cosines = cosine_similarity(ukb, efo)"
   ]
  },
  {
   "cell_type": "code",
   "execution_count": 130,
   "metadata": {
    "ExecuteTime": {
     "end_time": "2025-06-22T20:41:09.870792Z",
     "start_time": "2025-06-22T20:41:09.858290Z"
    }
   },
   "outputs": [],
   "source": [
    "results = []\n",
    "for i in range(373):\n",
    "    best = np.argmax(cosines[:, i])\n",
    "    results.append((domain_info.TRAIT.values[i], ukb_df.description.values[best], cosines[best, i]))"
   ]
  },
  {
   "cell_type": "markdown",
   "metadata": {},
   "source": [
    "Perform manual curation"
   ]
  },
  {
   "cell_type": "code",
   "execution_count": 131,
   "metadata": {
    "ExecuteTime": {
     "end_time": "2025-06-22T20:41:16.593664Z",
     "start_time": "2025-06-22T20:41:16.587436Z"
    }
   },
   "outputs": [],
   "source": [
    "pd.DataFrame(results, columns=['EFO', 'UKB', 'Cosine']).to_csv(os.path.join(datadir, 'outputs/heritability_data_match.tsv'), sep='\\t')"
   ]
  },
  {
   "cell_type": "code",
   "execution_count": 136,
   "metadata": {
    "ExecuteTime": {
     "end_time": "2025-06-22T20:43:05.561828Z",
     "start_time": "2025-06-22T20:43:05.556821Z"
    }
   },
   "outputs": [],
   "source": [
    "matches = pd.read_csv(os.path.join(datadir, 'outputs/Heritability match - Sheet1.tsv'), sep='\\t', index_col=0)"
   ]
  },
  {
   "cell_type": "code",
   "execution_count": 137,
   "metadata": {
    "ExecuteTime": {
     "end_time": "2025-06-22T20:43:12.307180Z",
     "start_time": "2025-06-22T20:43:12.303940Z"
    }
   },
   "outputs": [],
   "source": [
    "matches = matches[matches.Keep==1]\n",
    "matched_EFO = domain_info[domain_info.TRAIT.isin(matches.EFO.values)]\n",
    "matches = matches.rename(columns={'EFO':'TRAIT', 'UKB':'description'})"
   ]
  },
  {
   "cell_type": "code",
   "execution_count": 138,
   "metadata": {
    "ExecuteTime": {
     "end_time": "2025-06-22T20:43:19.085459Z",
     "start_time": "2025-06-22T20:43:19.078695Z"
    }
   },
   "outputs": [],
   "source": [
    "h_df = ukb_df[ukb_df.description.isin(matches.description.values)]\n",
    "h_df = h_df.merge(matches, on='description', how='left')\n",
    "h_df = h_df.merge(matched_EFO, on=[ 'TRAIT'], how='left')\n",
    "# duplicate UKB traits\n",
    "h_df = h_df[~h_df.phenotype.isin(['23104_irnt', '23098_irnt'])]"
   ]
  },
  {
   "cell_type": "code",
   "execution_count": 139,
   "metadata": {
    "ExecuteTime": {
     "end_time": "2025-06-22T20:43:26.104804Z",
     "start_time": "2025-06-22T20:43:26.102193Z"
    }
   },
   "outputs": [
    {
     "data": {
      "text/plain": [
       "(197, 43)"
      ]
     },
     "execution_count": 139,
     "metadata": {},
     "output_type": "execute_result"
    }
   ],
   "source": [
    "h_df.shape"
   ]
  },
  {
   "cell_type": "markdown",
   "metadata": {},
   "source": [
    "#### Prevalence"
   ]
  },
  {
   "cell_type": "code",
   "execution_count": 140,
   "metadata": {
    "ExecuteTime": {
     "end_time": "2025-06-22T20:44:08.246244Z",
     "start_time": "2025-06-22T20:44:08.229196Z"
    }
   },
   "outputs": [],
   "source": [
    "gbd_df = pd.read_csv(os.path.join(datadir, 'Reference_Data/IHME-GBD_2021_DATA-Prevalence.csv'))\n",
    "gbd_df = gbd_df.groupby(['measure_id', 'measure_name', 'location_id', 'location_name', 'sex_id',\n",
    "       'sex_name', 'age_id', 'age_name', 'cause_id', 'cause_name', 'metric_id',\n",
    "       'metric_name']).mean().reset_index()"
   ]
  },
  {
   "cell_type": "code",
   "execution_count": 141,
   "metadata": {
    "ExecuteTime": {
     "end_time": "2025-06-22T20:44:15.619510Z",
     "start_time": "2025-06-22T20:44:15.016828Z"
    }
   },
   "outputs": [],
   "source": [
    "gbd_ids = list(gbd_df.cause_name.unique())\n",
    "\n",
    "gbd = model.encode(gbd_ids, batch_size=32)\n",
    "cosines2 = cosine_similarity(gbd, efo)\n",
    "results2 = []\n",
    "for i in range(373):\n",
    "    best = np.argmax(cosines2[:, i])\n",
    "    results2.append((domain_info.TRAIT.values[i], gbd_ids[best], cosines2[best, i]))"
   ]
  },
  {
   "cell_type": "code",
   "execution_count": null,
   "metadata": {},
   "outputs": [],
   "source": [
    "pd.DataFrame(results2, columns=['EFO', 'GBD', 'Cosine']).to_csv(os.path.join(datadir, 'outputs/prevalence_data_match.tsv'), sep='\\t')"
   ]
  },
  {
   "cell_type": "code",
   "execution_count": 142,
   "metadata": {
    "ExecuteTime": {
     "end_time": "2025-06-22T20:45:42.245255Z",
     "start_time": "2025-06-22T20:45:42.240046Z"
    }
   },
   "outputs": [],
   "source": [
    "prev_matches = pd.read_csv(os.path.join(datadir, 'outputs/Heritability match - Sheet2.tsv'), sep='\\t', index_col=0)\n",
    "prev_matches = prev_matches[prev_matches.Keep==1]"
   ]
  },
  {
   "cell_type": "code",
   "execution_count": 143,
   "metadata": {
    "ExecuteTime": {
     "end_time": "2025-06-22T20:45:49.055550Z",
     "start_time": "2025-06-22T20:45:49.048882Z"
    }
   },
   "outputs": [],
   "source": [
    "matched_EFO = domain_info[domain_info.TRAIT.isin(prev_matches.EFO.values)]\n",
    "prev_matches = prev_matches.rename(columns={'EFO':'TRAIT', 'GBD':'cause_name'})\n",
    "prev_df = gbd_df[gbd_df.cause_name.isin(prev_matches.cause_name.values)]\n",
    "prev_df = prev_df.merge(prev_matches, on='cause_name', how='left')\n",
    "prev_df = prev_df.merge(matched_EFO, on='TRAIT', how='left')"
   ]
  },
  {
   "cell_type": "code",
   "execution_count": 144,
   "metadata": {
    "ExecuteTime": {
     "end_time": "2025-06-22T20:45:58.154087Z",
     "start_time": "2025-06-22T20:45:58.150866Z"
    }
   },
   "outputs": [],
   "source": [
    "prev_df = prev_df[prev_df.metric_name=='Percent'].loc[:, ('EFO', 'val')].rename(columns={'val':'prevalence5year'})"
   ]
  },
  {
   "cell_type": "code",
   "execution_count": 63,
   "metadata": {
    "ExecuteTime": {
     "end_time": "2025-06-12T19:50:54.483108Z",
     "start_time": "2025-06-12T19:50:54.458457Z"
    }
   },
   "outputs": [],
   "source": [
    "prev_df.to_csv(os.path.join(datadir, 'outputs/Trait_prevalence.txt'), sep='\\t', index=False)"
   ]
  },
  {
   "cell_type": "code",
   "execution_count": 65,
   "metadata": {
    "ExecuteTime": {
     "end_time": "2025-06-12T19:51:08.520774Z",
     "start_time": "2025-06-12T19:51:08.518040Z"
    }
   },
   "outputs": [
    {
     "data": {
      "text/plain": [
       "(87, 2)"
      ]
     },
     "execution_count": 65,
     "metadata": {},
     "output_type": "execute_result"
    }
   ],
   "source": [
    "prev_df.shape"
   ]
  },
  {
   "cell_type": "markdown",
   "metadata": {},
   "source": [
    "## Supplemental Table 3"
   ]
  },
  {
   "cell_type": "code",
   "execution_count": 150,
   "metadata": {
    "ExecuteTime": {
     "end_time": "2025-06-22T20:47:34.840474Z",
     "start_time": "2025-06-22T20:47:34.835383Z"
    }
   },
   "outputs": [],
   "source": [
    "h2_prev = h_df.loc[:, ['EFO', 'h2_observed', ]].merge(prev_df.loc[:, ['EFO','prevalence5year']], on='EFO', how='outer')"
   ]
  },
  {
   "cell_type": "code",
   "execution_count": 151,
   "metadata": {
    "ExecuteTime": {
     "end_time": "2025-06-22T20:47:42.083256Z",
     "start_time": "2025-06-22T20:47:42.081292Z"
    }
   },
   "outputs": [],
   "source": [
    "h2_prev.columns = ['EFO', 'SNP-Heritability', '5 Year Prevalence']"
   ]
  },
  {
   "cell_type": "code",
   "execution_count": null,
   "metadata": {},
   "outputs": [],
   "source": [
    "h2_prev.to_csv(os.path.join(datadir, 'outputs/key_files/STable3.tsv'), sep='\\t', index=False)"
   ]
  },
  {
   "cell_type": "markdown",
   "metadata": {},
   "source": [
    "## Feature Engineering"
   ]
  },
  {
   "cell_type": "markdown",
   "metadata": {},
   "source": [
    "### Biological features"
   ]
  },
  {
   "cell_type": "code",
   "execution_count": 152,
   "metadata": {
    "ExecuteTime": {
     "end_time": "2025-06-22T20:47:48.833301Z",
     "start_time": "2025-06-22T20:47:48.828800Z"
    }
   },
   "outputs": [],
   "source": [
    "# decision = go with mean and DiffRC\n",
    "def get_mean_diff_rc(bio_df,info_df, metrics=[ 'pli', 'Length', 'GO', 'mrna', 'n_mrna']):\n",
    "    out_dict = {}\n",
    "    for tR, tC, oe, j, nc, nr in tqdm(zip(info_df.TraitR.values, info_df.TraitC.values, info_df.log2SizeOE.values, \n",
    "                                  info_df.n_overlap.values, info_df.n_common.values, info_df.n_rare)):\n",
    "        out_dict[tR+'_'+tC] = {'log2SizeOE':oe, 'n_overlap':j}\n",
    "        for metric in metrics:\n",
    "            vals = bio_df.loc[[tR, tC], [metric, 'Set']].set_index('Set')[metric].to_dict()\n",
    "            out_dict[tR+'_'+tC][f'Mean_{metric}'] =  (nc*vals['Common'] + nr*vals['Rare'])/(nc+nr)\n",
    "            out_dict[tR+'_'+tC][f'DiffRC_{metric}'] = 2*(vals['Rare']- vals['Common'])/(vals['Rare']+vals['Common'])\n",
    "                                  \n",
    "    out_df = pd.DataFrame(out_dict).T\n",
    "    sns.clustermap(out_df.corr(method='spearman'), figsize=(3,3), cmap='vlag', center=0)\n",
    "    return out_df"
   ]
  },
  {
   "cell_type": "code",
   "execution_count": 159,
   "metadata": {
    "ExecuteTime": {
     "end_time": "2025-06-22T20:50:09.364257Z",
     "start_time": "2025-06-22T20:50:09.359112Z"
    }
   },
   "outputs": [],
   "source": [
    "input_df['TraitR'] = input_df.trait_pair.apply(lambda x: '_'.join(x.split('_')[0:3]))\n",
    "input_df['TraitC'] = input_df.trait_pair.apply(lambda x: '_'.join(x.split('_')[3:]))"
   ]
  },
  {
   "cell_type": "code",
   "execution_count": 163,
   "metadata": {
    "ExecuteTime": {
     "end_time": "2025-06-22T20:50:36.489825Z",
     "start_time": "2025-06-22T20:50:36.482187Z"
    }
   },
   "outputs": [
    {
     "data": {
      "text/html": [
       "<div>\n",
       "<style scoped>\n",
       "    .dataframe tbody tr th:only-of-type {\n",
       "        vertical-align: middle;\n",
       "    }\n",
       "\n",
       "    .dataframe tbody tr th {\n",
       "        vertical-align: top;\n",
       "    }\n",
       "\n",
       "    .dataframe thead th {\n",
       "        text-align: right;\n",
       "    }\n",
       "</style>\n",
       "<table border=\"1\" class=\"dataframe\">\n",
       "  <thead>\n",
       "    <tr style=\"text-align: right;\">\n",
       "      <th></th>\n",
       "      <th>TRAIT</th>\n",
       "      <th>EFO</th>\n",
       "      <th>Study</th>\n",
       "      <th>Set</th>\n",
       "      <th>trait_type</th>\n",
       "      <th>Domain</th>\n",
       "      <th>N</th>\n",
       "      <th>g</th>\n",
       "      <th>StudyTrait</th>\n",
       "    </tr>\n",
       "  </thead>\n",
       "  <tbody>\n",
       "    <tr>\n",
       "      <th>0</th>\n",
       "      <td>neutrophil count</td>\n",
       "      <td>EFO_0004833</td>\n",
       "      <td>34226706</td>\n",
       "      <td>Rare</td>\n",
       "      <td>Continuous</td>\n",
       "      <td>Immunological</td>\n",
       "      <td>443782.000000</td>\n",
       "      <td>22</td>\n",
       "      <td>34226706_EFO_0004833</td>\n",
       "    </tr>\n",
       "    <tr>\n",
       "      <th>1</th>\n",
       "      <td>neutrophil count</td>\n",
       "      <td>EFO_0004833</td>\n",
       "      <td>34662886</td>\n",
       "      <td>Rare</td>\n",
       "      <td>Continuous</td>\n",
       "      <td>Immunological</td>\n",
       "      <td>418407.159091</td>\n",
       "      <td>16</td>\n",
       "      <td>34662886_EFO_0004833</td>\n",
       "    </tr>\n",
       "    <tr>\n",
       "      <th>2</th>\n",
       "      <td>neutrophil count</td>\n",
       "      <td>EFO_0004833</td>\n",
       "      <td>28089252</td>\n",
       "      <td>Rare</td>\n",
       "      <td>Continuous</td>\n",
       "      <td>Immunological</td>\n",
       "      <td>1860.000000</td>\n",
       "      <td>7</td>\n",
       "      <td>28089252_EFO_0004833</td>\n",
       "    </tr>\n",
       "    <tr>\n",
       "      <th>3</th>\n",
       "      <td>autism spectrum disorder</td>\n",
       "      <td>EFO_0003756</td>\n",
       "      <td>24151499</td>\n",
       "      <td>Rare</td>\n",
       "      <td>Categorical</td>\n",
       "      <td>Psychiatric</td>\n",
       "      <td>1657.000000</td>\n",
       "      <td>12</td>\n",
       "      <td>24151499_EFO_0003756</td>\n",
       "    </tr>\n",
       "    <tr>\n",
       "      <th>4</th>\n",
       "      <td>autism spectrum disorder</td>\n",
       "      <td>EFO_0003756</td>\n",
       "      <td>35982160</td>\n",
       "      <td>Rare</td>\n",
       "      <td>Categorical</td>\n",
       "      <td>Psychiatric</td>\n",
       "      <td>63237.000000</td>\n",
       "      <td>119</td>\n",
       "      <td>35982160_EFO_0003756</td>\n",
       "    </tr>\n",
       "    <tr>\n",
       "      <th>...</th>\n",
       "      <td>...</td>\n",
       "      <td>...</td>\n",
       "      <td>...</td>\n",
       "      <td>...</td>\n",
       "      <td>...</td>\n",
       "      <td>...</td>\n",
       "      <td>...</td>\n",
       "      <td>...</td>\n",
       "      <td>...</td>\n",
       "    </tr>\n",
       "    <tr>\n",
       "      <th>1770</th>\n",
       "      <td>nephrolithiasis</td>\n",
       "      <td>EFO_0004253</td>\n",
       "      <td>GCST90428893</td>\n",
       "      <td>Common</td>\n",
       "      <td>Categorical</td>\n",
       "      <td>Renal</td>\n",
       "      <td>739048.000000</td>\n",
       "      <td>30</td>\n",
       "      <td>GCST90428893_EFO_0004253</td>\n",
       "    </tr>\n",
       "    <tr>\n",
       "      <th>1771</th>\n",
       "      <td>congenital left-sided heart lesions</td>\n",
       "      <td>EFO_0005938</td>\n",
       "      <td>GCST004719</td>\n",
       "      <td>Common</td>\n",
       "      <td>Categorical</td>\n",
       "      <td>Cardiovascular</td>\n",
       "      <td>509.000000</td>\n",
       "      <td>3</td>\n",
       "      <td>GCST004719_EFO_0005938</td>\n",
       "    </tr>\n",
       "    <tr>\n",
       "      <th>1772</th>\n",
       "      <td>neoplasm of mature b-cells</td>\n",
       "      <td>EFO_0000096</td>\n",
       "      <td>GCST002643</td>\n",
       "      <td>Common</td>\n",
       "      <td>Categorical</td>\n",
       "      <td>Neoplasm</td>\n",
       "      <td>10486.000000</td>\n",
       "      <td>4</td>\n",
       "      <td>GCST002643_EFO_0000096</td>\n",
       "    </tr>\n",
       "    <tr>\n",
       "      <th>1773</th>\n",
       "      <td>osteitis deformans</td>\n",
       "      <td>EFO_0004261</td>\n",
       "      <td>GCST001086</td>\n",
       "      <td>Common</td>\n",
       "      <td>Categorical</td>\n",
       "      <td>Skeletal</td>\n",
       "      <td>3440.000000</td>\n",
       "      <td>5</td>\n",
       "      <td>GCST001086_EFO_0004261</td>\n",
       "    </tr>\n",
       "    <tr>\n",
       "      <th>1774</th>\n",
       "      <td>stenosing tenosynovitis</td>\n",
       "      <td>EFO_0010822</td>\n",
       "      <td>GCST90104907</td>\n",
       "      <td>Common</td>\n",
       "      <td>Categorical</td>\n",
       "      <td>Muscular</td>\n",
       "      <td>439487.000000</td>\n",
       "      <td>3</td>\n",
       "      <td>GCST90104907_EFO_0010822</td>\n",
       "    </tr>\n",
       "  </tbody>\n",
       "</table>\n",
       "<p>1775 rows × 9 columns</p>\n",
       "</div>"
      ],
      "text/plain": [
       "                                    TRAIT          EFO         Study     Set  \\\n",
       "0                        neutrophil count  EFO_0004833      34226706    Rare   \n",
       "1                        neutrophil count  EFO_0004833      34662886    Rare   \n",
       "2                        neutrophil count  EFO_0004833      28089252    Rare   \n",
       "3                autism spectrum disorder  EFO_0003756      24151499    Rare   \n",
       "4                autism spectrum disorder  EFO_0003756      35982160    Rare   \n",
       "...                                   ...          ...           ...     ...   \n",
       "1770                      nephrolithiasis  EFO_0004253  GCST90428893  Common   \n",
       "1771  congenital left-sided heart lesions  EFO_0005938    GCST004719  Common   \n",
       "1772           neoplasm of mature b-cells  EFO_0000096    GCST002643  Common   \n",
       "1773                   osteitis deformans  EFO_0004261    GCST001086  Common   \n",
       "1774              stenosing tenosynovitis  EFO_0010822  GCST90104907  Common   \n",
       "\n",
       "       trait_type          Domain              N    g  \\\n",
       "0      Continuous   Immunological  443782.000000   22   \n",
       "1      Continuous   Immunological  418407.159091   16   \n",
       "2      Continuous   Immunological    1860.000000    7   \n",
       "3     Categorical     Psychiatric    1657.000000   12   \n",
       "4     Categorical     Psychiatric   63237.000000  119   \n",
       "...           ...             ...            ...  ...   \n",
       "1770  Categorical           Renal  739048.000000   30   \n",
       "1771  Categorical  Cardiovascular     509.000000    3   \n",
       "1772  Categorical        Neoplasm   10486.000000    4   \n",
       "1773  Categorical        Skeletal    3440.000000    5   \n",
       "1774  Categorical        Muscular  439487.000000    3   \n",
       "\n",
       "                    StudyTrait  \n",
       "0         34226706_EFO_0004833  \n",
       "1         34662886_EFO_0004833  \n",
       "2         28089252_EFO_0004833  \n",
       "3         24151499_EFO_0003756  \n",
       "4         35982160_EFO_0003756  \n",
       "...                        ...  \n",
       "1770  GCST90428893_EFO_0004253  \n",
       "1771    GCST004719_EFO_0005938  \n",
       "1772    GCST002643_EFO_0000096  \n",
       "1773    GCST001086_EFO_0004261  \n",
       "1774  GCST90104907_EFO_0010822  \n",
       "\n",
       "[1775 rows x 9 columns]"
      ]
     },
     "execution_count": 163,
     "metadata": {},
     "output_type": "execute_result"
    }
   ],
   "source": [
    "info_df"
   ]
  },
  {
   "cell_type": "code",
   "execution_count": 165,
   "metadata": {
    "ExecuteTime": {
     "end_time": "2025-06-22T20:51:13.729740Z",
     "start_time": "2025-06-22T20:51:08.222333Z"
    }
   },
   "outputs": [
    {
     "name": "stderr",
     "output_type": "stream",
     "text": [
      "1634it [00:05, 312.96it/s]\n"
     ]
    },
    {
     "data": {
      "image/png": "[encoded data removed]",
      "text/plain": [
       "<Figure size 300x300 with 4 Axes>"
      ]
     },
     "metadata": {},
     "output_type": "display_data"
    }
   ],
   "source": [
    "bio_feat = get_mean_diff_rc(bio_df, input_df, metrics= ['LOEUF', 'GO', 'GeneSize', 'mRNA', 'nTissues'])"
   ]
  },
  {
   "cell_type": "markdown",
   "metadata": {},
   "source": [
    "### Network Features"
   ]
  },
  {
   "cell_type": "code",
   "execution_count": 166,
   "metadata": {
    "ExecuteTime": {
     "end_time": "2025-06-22T20:51:20.528555Z",
     "start_time": "2025-06-22T20:51:20.519972Z"
    }
   },
   "outputs": [],
   "source": [
    "use_net = net_df.loc[~net_df.varset.isin(['subnetwork', 'overlap']), ('trait_pair', 'subnetwork_density', 'assortativity', 'varset')]\n",
    "use_net = use_net.pivot(index='trait_pair', columns='varset', values=['subnetwork_density', 'assortativity']).reset_index()"
   ]
  },
  {
   "cell_type": "code",
   "execution_count": 167,
   "metadata": {
    "ExecuteTime": {
     "end_time": "2025-06-22T20:51:27.319101Z",
     "start_time": "2025-06-22T20:51:27.294593Z"
    }
   },
   "outputs": [],
   "source": [
    "net_features = [['subnetwork_density', 'rare'], 'subnetwork_density-common', 'assortativity-rare_common']\n",
    "net_feat = use_net.loc[:, [('trait_pair', ''), ('subnetwork_density', 'rare'), ('subnetwork_density', 'common'), ('assortativity', 'rare_common')]]\n",
    "net_feat.columns=['trait_pair', 'subnetwork_density_rare', 'subnetwork_density_common', 'assortativity_rare_common']\n",
    "net_feat = net_feat.set_index('trait_pair')"
   ]
  },
  {
   "cell_type": "code",
   "execution_count": 169,
   "metadata": {
    "ExecuteTime": {
     "end_time": "2025-06-22T20:51:49.383289Z",
     "start_time": "2025-06-22T20:51:49.380960Z"
    }
   },
   "outputs": [],
   "source": [
    "net_feat.columns=['density_R', 'density_C', 'assortativity_RC']"
   ]
  },
  {
   "cell_type": "markdown",
   "metadata": {},
   "source": [
    "### Trait/Study Features"
   ]
  },
  {
   "cell_type": "code",
   "execution_count": 170,
   "metadata": {
    "ExecuteTime": {
     "end_time": "2025-06-22T20:52:01.686001Z",
     "start_time": "2025-06-22T20:52:01.682635Z"
    }
   },
   "outputs": [],
   "source": [
    "input_feat = input_df.loc[:, ['trait_pair', 'binary', 'jaccard', 'jaccard_zero', 'n_rare', 'n_common', 'N_C', 'N_R', 'log2SizeOE']].set_index('trait_pair')\n",
    "input_feat.index.name=''"
   ]
  },
  {
   "cell_type": "markdown",
   "metadata": {},
   "source": [
    "## Export Features"
   ]
  },
  {
   "cell_type": "code",
   "execution_count": 171,
   "metadata": {
    "ExecuteTime": {
     "end_time": "2025-06-22T20:52:20.949344Z",
     "start_time": "2025-06-22T20:52:20.945879Z"
    }
   },
   "outputs": [],
   "source": [
    "all_feat = net_feat.join(input_feat)"
   ]
  },
  {
   "cell_type": "code",
   "execution_count": 172,
   "metadata": {
    "ExecuteTime": {
     "end_time": "2025-06-22T20:52:27.784955Z",
     "start_time": "2025-06-22T20:52:27.781436Z"
    }
   },
   "outputs": [],
   "source": [
    "all_feat = all_feat.join(bio_feat.drop(columns=['n_overlap', 'log2SizeOE']))"
   ]
  },
  {
   "cell_type": "code",
   "execution_count": 173,
   "metadata": {
    "ExecuteTime": {
     "end_time": "2025-06-22T20:52:36.919762Z",
     "start_time": "2025-06-22T20:52:36.882107Z"
    }
   },
   "outputs": [],
   "source": [
    "all_feat.to_csv(os.path.join(datadir, 'outputs/regression_features2.txt'), sep='\\t')"
   ]
  },
  {
   "cell_type": "code",
   "execution_count": 177,
   "metadata": {
    "ExecuteTime": {
     "end_time": "2025-06-22T20:53:42.388727Z",
     "start_time": "2025-06-22T20:53:42.386100Z"
    }
   },
   "outputs": [],
   "source": [
    "feature_names={\n",
    "    'N_C': 'Study Size - Common',\n",
    "    'N_R': \"Study Size - Rare\",\n",
    "    'assortativity_RC':'Assortativity',\n",
    "    'n_common': 'Number of Genes - Common',\n",
    "    'n_rare': 'Number of Genes - Rare',\n",
    "    'jaccard': 'Jaccard Sim.',\n",
    "    'density_R': 'Subnetwork Density - Rare',\n",
    "    'density_C': 'Subnetwork Density - Common',\n",
    "    'binary': 'Is Trait Binary',\n",
    "    'jaccard_zero': 'No shared genes', \n",
    "    'Mean_pli': 'Mean LOEUF', \n",
    "    'DiffRC_pli':'Diff. LOEUF', \n",
    "    'Mean_Length':'Mean Gene Size', \n",
    "    'DiffRC_Length':'Diff. Gene Size',\n",
    "    'Mean_GO': 'Mean GO Terms', \n",
    "    'DiffRC_GO': 'Diff. GO Terms', \n",
    "    'Mean_mrna': 'Mean Exp.', \n",
    "    'DiffRC_mrna': 'Diff. Exp.', \n",
    "    'Mean_n_mrna': 'Mean Exp. Tissues',\n",
    "    'DiffRC_n_mrna': 'Diff. Exp. Tissues'}"
   ]
  },
  {
   "cell_type": "code",
   "execution_count": 178,
   "metadata": {
    "ExecuteTime": {
     "end_time": "2025-06-22T20:53:49.197308Z",
     "start_time": "2025-06-22T20:53:49.194870Z"
    }
   },
   "outputs": [],
   "source": [
    "plot_feat = all_feat.rename(columns=feature_names)"
   ]
  },
  {
   "cell_type": "markdown",
   "metadata": {},
   "source": [
    "## SFig 2A - Feature Correlations"
   ]
  },
  {
   "cell_type": "code",
   "execution_count": 179,
   "metadata": {
    "ExecuteTime": {
     "end_time": "2025-06-22T20:53:56.321669Z",
     "start_time": "2025-06-22T20:53:55.980784Z"
    }
   },
   "outputs": [
    {
     "data": {
      "text/plain": [
       "<seaborn.matrix.ClusterGrid at 0x15543b433370>"
      ]
     },
     "execution_count": 179,
     "metadata": {},
     "output_type": "execute_result"
    },
    {
     "data": {
      "image/png": "[encoded data removed]",
      "text/plain": [
       "<Figure size 400x400 with 4 Axes>"
      ]
     },
     "metadata": {},
     "output_type": "display_data"
    }
   ],
   "source": [
    "sns.clustermap(plot_feat.drop(columns='log2SizeOE').corr(method='spearman'), figsize=(4,4), cmap='vlag', center=0)\n",
    "#plt.savefig(os.path.join(figdir, 'input_network_feature_correlations2.svg'), bbox_inches='tight')"
   ]
  },
  {
   "cell_type": "code",
   "execution_count": null,
   "metadata": {},
   "outputs": [],
   "source": []
  }
 ],
 "metadata": {
  "kernelspec": {
   "display_name": "Python (CARVA)",
   "language": "python",
   "name": "carva"
  },
  "language_info": {
   "codemirror_mode": {
    "name": "ipython",
    "version": 3
   },
   "file_extension": ".py",
   "mimetype": "text/x-python",
   "name": "python",
   "nbconvert_exporter": "python",
   "pygments_lexer": "ipython3",
   "version": "3.10.0"
  },
  "toc": {
   "base_numbering": 1,
   "nav_menu": {},
   "number_sections": true,
   "sideBar": true,
   "skip_h1_title": false,
   "title_cell": "Table of Contents",
   "title_sidebar": "Contents",
   "toc_cell": false,
   "toc_position": {},
   "toc_section_display": true,
   "toc_window_display": true
  },
  "varInspector": {
   "cols": {
    "lenName": 16,
    "lenType": 16,
    "lenVar": 40
   },
   "kernels_config": {
    "python": {
     "delete_cmd_postfix": "",
     "delete_cmd_prefix": "del ",
     "library": "var_list.py",
     "varRefreshCmd": "print(var_dic_list())"
    },
    "r": {
     "delete_cmd_postfix": ") ",
     "delete_cmd_prefix": "rm(",
     "library": "var_list.r",
     "varRefreshCmd": "cat(var_dic_list()) "
    }
   },
   "types_to_exclude": [
    "module",
    "function",
    "builtin_function_or_method",
    "instance",
    "_Feature"
   ],
   "window_display": false
  }
 },
 "nbformat": 4,
 "nbformat_minor": 2
}
