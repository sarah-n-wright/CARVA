{
 "cells": [
  {
   "cell_type": "markdown",
   "metadata": {},
   "source": [
    "# NetColoc Reproducibility Notebook\n",
    "\n",
    "Figures generated:\n",
    "- Figure 3A\n",
    "- Figure 3B\n",
    "- Figure 3C\n",
    "- Figure 3D\n",
    "- Figure 3E\n",
    "- Figure 3F\n",
    "- SFig 1A\n",
    "- SFig 1B\n",
    "- SFig 1C\n"
   ]
  },
  {
   "cell_type": "markdown",
   "metadata": {},
   "source": [
    "### Set Up"
   ]
  },
  {
   "cell_type": "code",
   "execution_count": 2,
   "metadata": {
    "ExecuteTime": {
     "end_time": "2025-06-22T21:10:16.720881Z",
     "start_time": "2025-06-22T21:10:15.481252Z"
    }
   },
   "outputs": [],
   "source": [
    "import pandas as pd\n",
    "import numpy as np\n",
    "import seaborn as sns\n",
    "import matplotlib.pyplot as plt\n",
    "import os\n",
    "from scipy.stats import hypergeom\n",
    "import obonet as obo\n",
    "import re\n",
    "from tqdm import tqdm\n",
    "import re\n",
    "from statsmodels.stats.multitest import fdrcorrection\n",
    "from scipy.stats import mannwhitneyu"
   ]
  },
  {
   "cell_type": "code",
   "execution_count": 3,
   "metadata": {
    "ExecuteTime": {
     "end_time": "2025-06-22T21:10:16.735395Z",
     "start_time": "2025-06-22T21:10:16.733493Z"
    }
   },
   "outputs": [],
   "source": [
    "cwd = os.getcwd()\n",
    "datadir = os.path.join(cwd, '..')"
   ]
  },
  {
   "cell_type": "code",
   "execution_count": 5,
   "metadata": {
    "ExecuteTime": {
     "end_time": "2025-06-22T21:10:16.765076Z",
     "start_time": "2025-06-22T21:10:16.759911Z"
    }
   },
   "outputs": [],
   "source": [
    "plt.rcParams['svg.fonttype'] = 'none'\n",
    "plt.rcParams.update({'font.size': 7})\n",
    "plt.rcParams['axes.linewidth'] = 0.5\n",
    "plt.rcParams['hatch.linewidth'] = 0.5\n",
    "plt.rcParams['xtick.major.width'] = 0.4\n",
    "plt.rcParams['ytick.major.width'] = 0.4\n",
    "plt.rcParams['xtick.minor.width'] = 0.3\n",
    "plt.rcParams['ytick.minor.width'] = 0.3\n",
    "plt.rcParams['legend.frameon'] = False\n",
    "plt.rcParams['xtick.major.size'] = 3\n",
    "plt.rcParams['ytick.major.size'] = 3\n",
    "plt.rcParams['xtick.minor.size'] = 2\n",
    "plt.rcParams['ytick.minor.size'] = 2\n",
    "plt.rcParams['xtick.major.pad'] = 1\n",
    "plt.rcParams['ytick.major.pad'] = 1\n",
    "plt.rcParams['axes.labelpad'] = 1\n",
    "plt.rcParams['patch.linewidth'] = 0.5\n",
    "import matplotlib.font_manager as fm\n",
    "arial_font_path = os.path.join(datadir, 'Reference_Data', 'Arial.TTF')\n",
    "fm.fontManager.addfont(arial_font_path)\n",
    "import matplotlib\n",
    "matplotlib.rcParams['font.family'] = 'Arial'\n",
    "\n",
    "blue='#63c1e0'\n",
    "green='#5fad56'\n",
    "purple = '#8d3b72'\n",
    "darkpurple='#441f5d'"
   ]
  },
  {
   "cell_type": "markdown",
   "metadata": {},
   "source": [
    "## Load NetColoc Results"
   ]
  },
  {
   "cell_type": "code",
   "execution_count": 6,
   "metadata": {
    "ExecuteTime": {
     "end_time": "2025-06-22T21:10:18.847841Z",
     "start_time": "2025-06-22T21:10:18.845510Z"
    }
   },
   "outputs": [],
   "source": [
    "def get_trait_pair(df):\n",
    "    df['trait_pair'] = df['Rare Study'].astype(int).astype(str) + '_' + df['EFO'] +'_' +df['Common Study'] +'_'+ df['EFO']\n",
    "    return df"
   ]
  },
  {
   "cell_type": "code",
   "execution_count": 7,
   "metadata": {
    "ExecuteTime": {
     "end_time": "2025-06-22T21:10:19.112094Z",
     "start_time": "2025-06-22T21:10:19.098115Z"
    }
   },
   "outputs": [],
   "source": [
    "coloc_df = pd.read_csv(os.path.join(datadir, 'outputs/STable2.tsv'), sep='\\t')\n",
    "coloc_df = get_trait_pair(coloc_df)\n",
    "initial_df = coloc_df[coloc_df['Analysis Set']=='Initial'].copy()\n",
    "repeat_df = coloc_df[coloc_df['Analysis Set']=='Additional'].copy()"
   ]
  },
  {
   "cell_type": "code",
   "execution_count": 8,
   "metadata": {
    "ExecuteTime": {
     "end_time": "2025-06-22T21:10:19.957539Z",
     "start_time": "2025-06-22T21:10:19.952910Z"
    }
   },
   "outputs": [
    {
     "data": {
      "text/plain": [
       "223"
      ]
     },
     "execution_count": 8,
     "metadata": {},
     "output_type": "execute_result"
    }
   ],
   "source": [
    "repeat_df.EFO.nunique()"
   ]
  },
  {
   "cell_type": "code",
   "execution_count": 9,
   "metadata": {
    "ExecuteTime": {
     "end_time": "2025-06-22T21:10:20.498215Z",
     "start_time": "2025-06-22T21:10:20.495489Z"
    }
   },
   "outputs": [
    {
     "data": {
      "text/plain": [
       "Index(['EFO', 'Trait', 'Common Study', 'Rare Study', 'Analysis Set', 'nCommon',\n",
       "       'nRare', 'nShared', 'pShared', 'Network', 'Observed Size',\n",
       "       'Expected Size', 'Log2SizeOE', 'COLOC Score', 'COLOC p', 'COLOC -logp',\n",
       "       'Optimal COLOC', 'Observed Size PC22', 'Expected Size PC22',\n",
       "       'Log2SizeOE PC22', 'COLOC Score PC22', 'COLOC P PC22',\n",
       "       'COLOC -logp PC22', 'Observed Size HN', 'Expected Size HN',\n",
       "       'Log2SizeOE HN', 'COLOC Score HN', 'COLOC P HN', 'COLOC -logp HN',\n",
       "       'Observed Size ST', 'Expected Size ST', 'Log2SizeOE ST',\n",
       "       'COLOC Score ST', 'COLOC P ST', 'COLOC -logp ST', 'trait_pair'],\n",
       "      dtype='object')"
      ]
     },
     "execution_count": 9,
     "metadata": {},
     "output_type": "execute_result"
    }
   ],
   "source": [
    "repeat_df.columns"
   ]
  },
  {
   "cell_type": "code",
   "execution_count": 10,
   "metadata": {
    "ExecuteTime": {
     "end_time": "2025-06-22T21:10:23.644242Z",
     "start_time": "2025-06-22T21:10:23.641907Z"
    }
   },
   "outputs": [],
   "source": [
    "repeat_df['q'] = fdrcorrection(repeat_df['COLOC p'])[1]"
   ]
  },
  {
   "cell_type": "code",
   "execution_count": 12,
   "metadata": {
    "ExecuteTime": {
     "end_time": "2025-06-22T21:10:34.623009Z",
     "start_time": "2025-06-22T21:10:34.619652Z"
    }
   },
   "outputs": [],
   "source": [
    "initial_df['q'] = fdrcorrection(initial_df['COLOC p'])[1]"
   ]
  },
  {
   "cell_type": "code",
   "execution_count": 13,
   "metadata": {
    "ExecuteTime": {
     "end_time": "2025-06-22T21:10:41.588965Z",
     "start_time": "2025-06-22T21:10:41.585663Z"
    }
   },
   "outputs": [],
   "source": [
    "all_df = pd.concat([initial_df, repeat_df], axis=0)"
   ]
  },
  {
   "cell_type": "code",
   "execution_count": 14,
   "metadata": {
    "ExecuteTime": {
     "end_time": "2025-06-22T21:10:49.706987Z",
     "start_time": "2025-06-22T21:10:49.701383Z"
    }
   },
   "outputs": [],
   "source": [
    "all_df['logq'] = all_df.q.apply(lambda x: -1 * np.log10(x+1e-250))"
   ]
  },
  {
   "cell_type": "markdown",
   "metadata": {},
   "source": [
    "### Additional metadata"
   ]
  },
  {
   "cell_type": "code",
   "execution_count": 43,
   "metadata": {
    "ExecuteTime": {
     "end_time": "2025-06-22T21:18:06.908066Z",
     "start_time": "2025-06-22T21:18:06.898842Z"
    }
   },
   "outputs": [],
   "source": [
    "info_df = pd.read_csv(os.path.join(datadir, 'outputs/STable1.tsv'), sep='\\t', usecols=['Mapped EFO', 'Trait Type', \n",
    "                                                                              'Biological Domain', 'Mapped Trait']).drop_duplicates()\n",
    "info_df.columns = ['TRAIT', 'EFO', 'trait_type', 'Domain']"
   ]
  },
  {
   "cell_type": "code",
   "execution_count": 88,
   "metadata": {
    "ExecuteTime": {
     "end_time": "2025-06-22T21:26:59.670220Z",
     "start_time": "2025-06-22T21:26:59.666472Z"
    }
   },
   "outputs": [],
   "source": [
    "def map_trait_code(code):\n",
    "    efo = next((match.group() for match in re.finditer(r'EFO_\\d+', code)), None)\n",
    "    if efo is not None:\n",
    "        return efo\n",
    "    mondo = next((match.group() for match in re.finditer(r'MONDO_\\d+', code)), None)\n",
    "    if mondo is not None:\n",
    "        return mondo\n",
    "    hp = next((match.group() for match in re.finditer(r'HP_\\d+', code)), None)\n",
    "    if hp is not None:\n",
    "        return hp\n",
    "    go = next((match.group() for match in re.finditer(r'GO_\\d+', code)), None)\n",
    "    if go is not None:\n",
    "        return go\n",
    "    oba = next((match.group() for match in re.finditer(r'OBA_\\d+', code)), None)\n",
    "    if oba is not None:\n",
    "        return oba\n",
    "    return None"
   ]
  },
  {
   "cell_type": "markdown",
   "metadata": {},
   "source": [
    "## Figure 3A - Replicate counts"
   ]
  },
  {
   "cell_type": "code",
   "execution_count": 15,
   "metadata": {
    "ExecuteTime": {
     "end_time": "2025-06-22T21:10:54.366527Z",
     "start_time": "2025-06-22T21:10:54.362362Z"
    }
   },
   "outputs": [],
   "source": [
    "trait_counts = all_df.groupby('EFO').trait_pair.nunique().reset_index()\n",
    "repeat_traits = trait_counts[trait_counts.trait_pair > 1]"
   ]
  },
  {
   "cell_type": "code",
   "execution_count": 16,
   "metadata": {
    "ExecuteTime": {
     "end_time": "2025-06-22T21:10:54.897786Z",
     "start_time": "2025-06-22T21:10:54.895161Z"
    }
   },
   "outputs": [
    {
     "data": {
      "text/plain": [
       "223"
      ]
     },
     "execution_count": 16,
     "metadata": {},
     "output_type": "execute_result"
    }
   ],
   "source": [
    "len(repeat_traits)"
   ]
  },
  {
   "cell_type": "code",
   "execution_count": 19,
   "metadata": {
    "ExecuteTime": {
     "end_time": "2025-06-22T21:12:18.150848Z",
     "start_time": "2025-06-22T21:12:18.146630Z"
    }
   },
   "outputs": [],
   "source": [
    "all_df['TraitR'] = all_df['Rare Study'].astype(int).astype(str) + '_' + all_df['EFO']\n",
    "all_df['TraitC'] = all_df['Common Study'] + '_' + all_df['EFO']"
   ]
  },
  {
   "cell_type": "code",
   "execution_count": 20,
   "metadata": {
    "ExecuteTime": {
     "end_time": "2025-06-22T21:12:21.932754Z",
     "start_time": "2025-06-22T21:12:21.925683Z"
    }
   },
   "outputs": [],
   "source": [
    "repeat_plot_df = pd.DataFrame({'TraitR': all_df[all_df.EFO.isin(repeat_traits.EFO.values)].groupby('EFO').TraitR.nunique(),\n",
    "                                'TraitC': all_df[all_df.EFO.isin(repeat_traits.EFO.values)].groupby('EFO').TraitC.nunique()})\n",
    "\n",
    "repeat_plot_df = repeat_plot_df.melt(var_name='Trait', value_name='Count')\n",
    "repeat_plot_df['Trait'] = repeat_plot_df['Trait'].replace({'TraitR': 'Rare', 'TraitC': 'Common'})"
   ]
  },
  {
   "cell_type": "code",
   "execution_count": 22,
   "metadata": {
    "ExecuteTime": {
     "end_time": "2025-06-22T21:12:28.058182Z",
     "start_time": "2025-06-22T21:12:27.691652Z"
    }
   },
   "outputs": [
    {
     "data": {
      "image/png": "[encoded data removed]",
      "text/plain": [
       "<Figure size 150x200 with 2 Axes>"
      ]
     },
     "metadata": {},
     "output_type": "display_data"
    }
   ],
   "source": [
    "_, [ax1, ax2] = plt.subplots(figsize=(1.5, 2), nrows=1, ncols=2, gridspec_kw={'wspace': 0.8})\n",
    "sns.histplot(repeat_plot_df,y='Count', hue='Trait', discrete=True, multiple='dodge', palette=[green, blue], alpha=1, ax=ax1)\n",
    "sns.histplot(repeat_traits, y='trait_pair', discrete=True, alpha=1, ax=ax2)\n",
    "_ = ax1.set_xticks([0, 75, 150])\n",
    "ax1.set_ylabel('Study Count')\n",
    "ax2.set_ylabel('Study Pairs')\n",
    "for ax in [ax1, ax2]:\n",
    "    ax.set_xlabel('Trait Count')\n",
    "\n"
   ]
  },
  {
   "cell_type": "markdown",
   "metadata": {},
   "source": [
    "## Figure 3B"
   ]
  },
  {
   "cell_type": "code",
   "execution_count": 40,
   "metadata": {
    "ExecuteTime": {
     "end_time": "2025-06-22T21:17:25.207762Z",
     "start_time": "2025-06-22T21:17:25.202079Z"
    }
   },
   "outputs": [
    {
     "data": {
      "text/html": [
       "<div>\n",
       "<style scoped>\n",
       "    .dataframe tbody tr th:only-of-type {\n",
       "        vertical-align: middle;\n",
       "    }\n",
       "\n",
       "    .dataframe tbody tr th {\n",
       "        vertical-align: top;\n",
       "    }\n",
       "\n",
       "    .dataframe thead th {\n",
       "        text-align: right;\n",
       "    }\n",
       "</style>\n",
       "<table border=\"1\" class=\"dataframe\">\n",
       "  <thead>\n",
       "    <tr style=\"text-align: right;\">\n",
       "      <th></th>\n",
       "      <th>EFO</th>\n",
       "      <th>trait_type</th>\n",
       "    </tr>\n",
       "  </thead>\n",
       "  <tbody>\n",
       "    <tr>\n",
       "      <th>0</th>\n",
       "      <td>neutrophil count</td>\n",
       "      <td>EFO_0004833</td>\n",
       "    </tr>\n",
       "    <tr>\n",
       "      <th>3</th>\n",
       "      <td>autism spectrum disorder</td>\n",
       "      <td>EFO_0003756</td>\n",
       "    </tr>\n",
       "    <tr>\n",
       "      <th>5</th>\n",
       "      <td>gastroesophageal reflux disease</td>\n",
       "      <td>EFO_0003948</td>\n",
       "    </tr>\n",
       "    <tr>\n",
       "      <th>6</th>\n",
       "      <td>hypothyroidism</td>\n",
       "      <td>EFO_0004705</td>\n",
       "    </tr>\n",
       "    <tr>\n",
       "      <th>7</th>\n",
       "      <td>Barrett's esophagus</td>\n",
       "      <td>EFO_0000280</td>\n",
       "    </tr>\n",
       "    <tr>\n",
       "      <th>...</th>\n",
       "      <td>...</td>\n",
       "      <td>...</td>\n",
       "    </tr>\n",
       "    <tr>\n",
       "      <th>747</th>\n",
       "      <td>nephrolithiasis</td>\n",
       "      <td>EFO_0004253</td>\n",
       "    </tr>\n",
       "    <tr>\n",
       "      <th>748</th>\n",
       "      <td>congenital left-sided heart lesions</td>\n",
       "      <td>EFO_0005938</td>\n",
       "    </tr>\n",
       "    <tr>\n",
       "      <th>749</th>\n",
       "      <td>neoplasm of mature b-cells</td>\n",
       "      <td>EFO_0000096</td>\n",
       "    </tr>\n",
       "    <tr>\n",
       "      <th>750</th>\n",
       "      <td>osteitis deformans</td>\n",
       "      <td>EFO_0004261</td>\n",
       "    </tr>\n",
       "    <tr>\n",
       "      <th>751</th>\n",
       "      <td>stenosing tenosynovitis</td>\n",
       "      <td>EFO_0010822</td>\n",
       "    </tr>\n",
       "  </tbody>\n",
       "</table>\n",
       "<p>373 rows × 2 columns</p>\n",
       "</div>"
      ],
      "text/plain": [
       "                                     EFO   trait_type\n",
       "0                       neutrophil count  EFO_0004833\n",
       "3               autism spectrum disorder  EFO_0003756\n",
       "5        gastroesophageal reflux disease  EFO_0003948\n",
       "6                         hypothyroidism  EFO_0004705\n",
       "7                    Barrett's esophagus  EFO_0000280\n",
       "..                                   ...          ...\n",
       "747                      nephrolithiasis  EFO_0004253\n",
       "748  congenital left-sided heart lesions  EFO_0005938\n",
       "749           neoplasm of mature b-cells  EFO_0000096\n",
       "750                   osteitis deformans  EFO_0004261\n",
       "751              stenosing tenosynovitis  EFO_0010822\n",
       "\n",
       "[373 rows x 2 columns]"
      ]
     },
     "execution_count": 40,
     "metadata": {},
     "output_type": "execute_result"
    }
   ],
   "source": [
    "info_df.loc[:, ('EFO', 'trait_type')]"
   ]
  },
  {
   "cell_type": "code",
   "execution_count": 45,
   "metadata": {
    "ExecuteTime": {
     "end_time": "2025-06-22T21:18:15.755212Z",
     "start_time": "2025-06-22T21:18:15.744364Z"
    }
   },
   "outputs": [],
   "source": [
    "test_df = all_df[all_df.EFO.isin(repeat_traits.EFO.values)].copy()\n",
    "original_vals= test_df[test_df['Analysis Set']== 'Initial'].set_index('EFO').Log2SizeOE\n",
    "repeat_vals= test_df[test_df['Analysis Set']== 'Additional'].set_index('EFO').groupby('EFO').Log2SizeOE.mean()\n",
    "repeat_count = test_df[test_df['Analysis Set']== 'Additional'].set_index('EFO').groupby('EFO').Log2SizeOE.count()\n",
    "plot_df = pd.DataFrame({'original': original_vals, 'repeat': repeat_vals, 'count': repeat_count}).reset_index()\n",
    "plot_df = plot_df.merge(info_df.loc[:, ('EFO', 'trait_type')], on='EFO', how='left').drop_duplicates(subset=['EFO'])"
   ]
  },
  {
   "cell_type": "code",
   "execution_count": 48,
   "metadata": {
    "ExecuteTime": {
     "end_time": "2025-06-22T21:18:39.252774Z",
     "start_time": "2025-06-22T21:18:39.104618Z"
    }
   },
   "outputs": [
    {
     "data": {
      "text/plain": [
       "Text(0.2, 0.9, 'r = 0.84')"
      ]
     },
     "execution_count": 48,
     "metadata": {},
     "output_type": "execute_result"
    },
    {
     "data": {
      "image/png": "[encoded data removed]",
      "text/plain": [
       "<Figure size 150x150 with 1 Axes>"
      ]
     },
     "metadata": {},
     "output_type": "display_data"
    }
   ],
   "source": [
    "_ = plt.figure(figsize=(1.5,1.5))\n",
    "sns.scatterplot(plot_df, x='original', y='repeat', size='count', alpha=0.7, hue='trait_type', palette=['#00606f', '#509aa5'], \n",
    "                        hue_order=['Categorical', 'Continuous'], sizes=(2, 15))\n",
    "plot_df.corr(method='spearman', numeric_only=True)\n",
    "ax1 = plt.gca()\n",
    "ax1.set_yticks([-1, 0, 1, 2], labels=[0.5, 1, 2, 4])\n",
    "_ = ax1.set_yticks(np.log2([3,5,6]), minor=True)\n",
    "ax1.set_xticks([-1, 0, 1, 2], labels=[0.5, 1, 2, 4])\n",
    "_ = ax1.set_xticks(np.log2([3,5,6]), minor=True)\n",
    "ax1.hlines(y=0, xmin=-1.5, xmax=3, color='black', linewidth=0.5, zorder=6)\n",
    "ax1.vlines(x=0, ymin=-1.5, ymax=3, color='black', linewidth=0.5, zorder=6)\n",
    "ax1.set_xlim(-1.5, 2.7)\n",
    "ax1.set_ylim(-1.5, 2.7)\n",
    "ax1.set_xlabel('Initial Coloc Score')\n",
    "ax1.set_ylabel('Replicate Coloc Score')\n",
    "r = plot_df.corr(method='spearman', numeric_only=True).at['original', 'repeat']\n",
    "ax1.text(0.2, 0.9, f'r = {r:.2f}', transform=ax1.transAxes, ha='center', va='center')\n"
   ]
  },
  {
   "cell_type": "markdown",
   "metadata": {},
   "source": [
    "## SFig 1A"
   ]
  },
  {
   "cell_type": "code",
   "execution_count": 50,
   "metadata": {
    "ExecuteTime": {
     "end_time": "2025-06-22T21:18:54.053056Z",
     "start_time": "2025-06-22T21:18:54.047829Z"
    }
   },
   "outputs": [],
   "source": [
    "final_df = test_df.copy()\n",
    "final_df = final_df.merge(info_df, on='EFO')"
   ]
  },
  {
   "cell_type": "code",
   "execution_count": 51,
   "metadata": {
    "ExecuteTime": {
     "end_time": "2025-06-22T21:18:57.157533Z",
     "start_time": "2025-06-22T21:18:56.727564Z"
    }
   },
   "outputs": [],
   "source": [
    "def assign_study_numbers(df):\n",
    "    df = df.copy()\n",
    "    df['TraitR_num'] = 0\n",
    "    df['TraitC_num'] = 0\n",
    "\n",
    "    for efo in df['EFO'].unique():\n",
    "        # Get subset for this EFO\n",
    "        efo_mask = df['EFO'] == efo\n",
    "        study_r = df[efo_mask]['TraitR'].unique()\n",
    "        study_c = df[efo_mask]['TraitC'].unique()\n",
    "        r_dict = {study: i+1 for i, study in enumerate(study_r)}\n",
    "        c_dict = {study: i+1 for i, study in enumerate(study_c)}\n",
    "\n",
    "        df.loc[efo_mask, 'TraitR_num'] = df.loc[efo_mask, 'TraitR'].map(r_dict)\n",
    "        df.loc[efo_mask, 'TraitC_num'] = df.loc[efo_mask, 'TraitC'].map(c_dict)\n",
    "    \n",
    "    return df\n",
    "\n",
    "final_df = assign_study_numbers(final_df)"
   ]
  },
  {
   "cell_type": "code",
   "execution_count": 52,
   "metadata": {
    "ExecuteTime": {
     "end_time": "2025-06-22T21:19:09.518581Z",
     "start_time": "2025-06-22T21:19:09.513190Z"
    }
   },
   "outputs": [],
   "source": [
    "cc_counts = final_df[final_df.trait_type=='Categorical'].groupby('EFO').trait_pair.nunique().reset_index()\n",
    "q_counts = final_df[final_df.trait_type=='Continuous'].groupby('EFO').trait_pair.nunique().reset_index()\n"
   ]
  },
  {
   "cell_type": "code",
   "execution_count": 53,
   "metadata": {
    "ExecuteTime": {
     "end_time": "2025-06-22T21:19:10.803183Z",
     "start_time": "2025-06-22T21:19:10.800557Z"
    }
   },
   "outputs": [],
   "source": [
    "top_cc = cc_counts[cc_counts.trait_pair>=10].EFO.values\n",
    "top_qq = q_counts[q_counts.trait_pair>=20].EFO.values"
   ]
  },
  {
   "cell_type": "code",
   "execution_count": 54,
   "metadata": {
    "ExecuteTime": {
     "end_time": "2025-06-22T21:19:24.353468Z",
     "start_time": "2025-06-22T21:19:23.416553Z"
    }
   },
   "outputs": [
    {
     "data": {
      "image/png": "[encoded data removed]",
      "text/plain": [
       "<Figure size 600x200 with 4 Axes>"
      ]
     },
     "metadata": {},
     "output_type": "display_data"
    }
   ],
   "source": [
    "full_palette = sns.color_palette(\"colorblind\", 10)\n",
    "palette1 = full_palette[:5] #[full_palette[x] for x in [0,3,4,6,8]]\n",
    "palette2= palette1#full_palette[5:]#[full_palette[x] for x in [1,2,5,7,9]]\n",
    "\n",
    "_, [[ax1, ax3], [ax2, ax4]] = plt.subplots(nrows=2, ncols=2, figsize=(6,2), gridspec_kw={'wspace': 0.05, 'hspace': 0.05}, \n",
    "sharey=True, sharex='col')\n",
    "sns.scatterplot(final_df[final_df.EFO.isin(top_cc)], x='TRAIT', y='Log2SizeOE', hue='TraitC_num',#jitter=0, \n",
    "alpha=0.8, palette=palette1, ax=ax1, edgecolor=None, s=10)\n",
    "sns.scatterplot(final_df[final_df.EFO.isin(top_cc)], x='TRAIT', y='Log2SizeOE',  hue='TraitR_num',#jitter=0, \n",
    "alpha=0.8, palette=palette2, ax=ax2, edgecolor=None, s=10, legend=False)\n",
    "\n",
    "sns.scatterplot(final_df[final_df.EFO.isin(top_qq)], x='TRAIT', y='Log2SizeOE', hue='TraitC_num',#jitter=0, \n",
    "alpha=0.8, palette=palette1, ax=ax3, edgecolor=None, s=10, legend=False)\n",
    "sns.scatterplot(final_df[final_df.EFO.isin(top_qq)], x='TRAIT', y='Log2SizeOE',  hue='TraitR_num',#jitter=0, \n",
    "alpha=0.8, palette=palette2, ax=ax4, edgecolor=None, s=10, legend=False)\n",
    "\n",
    "for ax in [ax1, ax2]:\n",
    "    ax.set_yticks([-1, 0, 1, 2], labels=[0.5, 1, 2, 4])\n",
    "    ax.set_yticks([np.log2(x) for x in [3,5,6]], minor=True)\n",
    "    ax.set_ylabel('COLOC Score')\n",
    "    \n",
    "for ax in [ax1, ax2, ax3, ax4]:\n",
    "    ax.hlines(y=0, xmin=-0.5, xmax=18.5, color='black', linewidth=0.5, zorder=6)\n",
    "    ax.set_xlim(-0.5, 18.5)\n",
    "    ax.tick_params(axis='x', rotation=90)\n",
    "\n",
    "ax1.set_title('Common')\n",
    "ax2.set_title('Rare')\n",
    "ax1.set_xlabel('Categorical Traits')\n",
    "ax3.set_xlabel('Continuous Traits')"
   ]
  },
  {
   "cell_type": "markdown",
   "metadata": {},
   "source": [
    "## Figure 3C"
   ]
  },
  {
   "cell_type": "code",
   "execution_count": 55,
   "metadata": {
    "ExecuteTime": {
     "end_time": "2025-06-22T21:19:37.139654Z",
     "start_time": "2025-06-22T21:19:37.137618Z"
    }
   },
   "outputs": [],
   "source": [
    "c_efos =['EFO_0001065', 'EFO_0000384', 'EFO_0004530', 'EFO_0004617']\n",
    "r_efos = ['MONDO_0005090', 'EFO_0004842', 'EFO_0001645', 'EFO_0004468']"
   ]
  },
  {
   "cell_type": "code",
   "execution_count": 56,
   "metadata": {
    "ExecuteTime": {
     "end_time": "2025-06-22T21:19:53.481342Z",
     "start_time": "2025-06-22T21:19:51.723189Z"
    }
   },
   "outputs": [],
   "source": [
    "# Assign ordered study numbers\n",
    "r_studies = {}\n",
    "c_studies = {}\n",
    "for t in final_df.TRAIT.values:\n",
    "    use_df = final_df[final_df.TRAIT==t].sort_values('Log2SizeOE', ascending=True)\n",
    "    rare_order = use_df.groupby('TraitR').Log2SizeOE.mean().sort_values().index.values\n",
    "    r = 1\n",
    "    for study in rare_order:\n",
    "        r_studies[study] = r\n",
    "        r +=1\n",
    "        \n",
    "    common_order = use_df.groupby('TraitC').Log2SizeOE.mean().sort_values().index.values\n",
    "    c=1\n",
    "    for study in common_order:\n",
    "        c_studies[study] = c\n",
    "        c +=1\n",
    "\n"
   ]
  },
  {
   "cell_type": "code",
   "execution_count": 57,
   "metadata": {
    "ExecuteTime": {
     "end_time": "2025-06-22T21:19:55.026515Z",
     "start_time": "2025-06-22T21:19:55.022358Z"
    }
   },
   "outputs": [],
   "source": [
    "final_df = final_df.assign(plotR = final_df.TraitR.map(r_studies), plotC= final_df.TraitC.map(c_studies))"
   ]
  },
  {
   "cell_type": "code",
   "execution_count": 59,
   "metadata": {
    "ExecuteTime": {
     "end_time": "2025-06-22T21:20:14.856808Z",
     "start_time": "2025-06-22T21:20:14.732461Z"
    }
   },
   "outputs": [
    {
     "data": {
      "image/png": "[encoded data removed]",
      "text/plain": [
       "<Figure size 200x100 with 2 Axes>"
      ]
     },
     "metadata": {},
     "output_type": "display_data"
    }
   ],
   "source": [
    "_ , [ax1, ax2] = plt.subplots(nrows=1, ncols=2, figsize=(2, 1), sharey=True)\n",
    "sns.scatterplot(final_df[final_df.EFO.isin(c_efos)], x='TRAIT', y='Log2SizeOE', hue='plotC',#jitter=0, \n",
    "alpha=0.8, palette=palette1, ax=ax1, edgecolor=None, s=20, legend=False)\n",
    "sns.scatterplot(final_df[final_df.EFO.isin(r_efos)], x='TRAIT', y='Log2SizeOE', hue='plotR',#jitter=0, \n",
    "alpha=0.8, palette=palette1, ax=ax2, edgecolor=None, s=20, legend=False)\n",
    "\n",
    "for ax in [ax1, ax2]:\n",
    "    ax.hlines(y=0, xmin=-0.5, xmax=3.5, color='black', linewidth=0.5)\n",
    "    ax.set_xlim(-0.5, 3.5)\n",
    "    ax.tick_params(axis='x', rotation=90)\n",
    "ax1.set_xlabel('Common')\n",
    "ax2.set_xlabel('Rare')\n",
    "ax1.set_ylabel('COLOC Score')\n",
    "ax1.set_ylim(-1.25, np.log2(6))\n",
    "_ = ax1.set_yticks([-1, 0, 1, 2], labels=[0.5, 1, 2, 4])\n",
    "_ = ax1.set_yticks([np.log2(3), np.log2(5), np.log2(6)], minor=True)\n"
   ]
  },
  {
   "cell_type": "markdown",
   "metadata": {},
   "source": [
    "## SFig 1B"
   ]
  },
  {
   "cell_type": "code",
   "execution_count": 60,
   "metadata": {
    "ExecuteTime": {
     "end_time": "2025-06-22T21:20:22.131591Z",
     "start_time": "2025-06-22T21:20:22.128121Z"
    }
   },
   "outputs": [],
   "source": [
    "best_df = all_df.sort_values(by='Log2SizeOE', ascending=False).drop_duplicates(subset=['EFO'])"
   ]
  },
  {
   "cell_type": "code",
   "execution_count": 61,
   "metadata": {
    "ExecuteTime": {
     "end_time": "2025-06-22T21:20:27.541692Z",
     "start_time": "2025-06-22T21:20:27.537123Z"
    }
   },
   "outputs": [],
   "source": [
    "trait_counts = all_df.EFO.value_counts().reset_index()\n",
    "best_df = best_df.merge(trait_counts, on='EFO', how='left')"
   ]
  },
  {
   "cell_type": "code",
   "execution_count": 62,
   "metadata": {
    "ExecuteTime": {
     "end_time": "2025-06-22T21:20:38.615121Z",
     "start_time": "2025-06-22T21:20:38.607806Z"
    }
   },
   "outputs": [],
   "source": [
    "best_df['bonf_q'] = best_df.apply(lambda z : min([1, z.q * z['count']]), axis=1)\n",
    "best_df['logq'] = -np.log10(best_df.bonf_q + 1e-250)"
   ]
  },
  {
   "cell_type": "code",
   "execution_count": 63,
   "metadata": {
    "ExecuteTime": {
     "end_time": "2025-06-22T21:20:58.595887Z",
     "start_time": "2025-06-22T21:20:55.741077Z"
    }
   },
   "outputs": [
    {
     "data": {
      "text/plain": [
       "<Axes: >"
      ]
     },
     "execution_count": 63,
     "metadata": {},
     "output_type": "execute_result"
    },
    {
     "data": {
      "image/png": "[encoded data removed]",
      "text/plain": [
       "<Figure size 1000x200 with 3 Axes>"
      ]
     },
     "metadata": {},
     "output_type": "display_data"
    }
   ],
   "source": [
    "_, [ax1, ax2] = plt.subplots(nrows=1, ncols=2, figsize=(10, 2), gridspec_kw={'width_ratios':[7,2]})\n",
    "\n",
    "best_df['plot_color'] = best_df.logq.apply(lambda z: min(z, 50))\n",
    "sns.barplot(best_df.sort_values(by='Log2SizeOE', ascending=False), x='trait_pair', y='Log2SizeOE', hue='plot_color', \n",
    "            palette='RdPu', width=1, zorder=5, ax=ax1)\n",
    "_ = ax1.set_xticks([])\n",
    "ax1.hlines(y=[-1, 1,2], xmin=-0.5, xmax=373, linestyle='-', color='black', alpha=0.6, \n",
    "           linewidth=0.3, zorder=2)\n",
    "#ax1.hlines(y=[-1*np.log2(1.3), np.log2(1.3),], xmin=-0.5, xmax=373, linestyle='-', color='black', alpha=0.3, \n",
    "#           linewidth=0.3, zorder=0)\n",
    "ax1.hlines(y=0, xmin=-0.5, xmax=373.5, color='black', linewidth=0.5, zorder=6)\n",
    "ax1.set_xlim(-0.75, 372.75)\n",
    "\n",
    "ax1.set_yticks([-1, 0, 1, 2], labels=[0.5, 1, 2, 4])\n",
    "_ = ax1.set_yticks(np.log2([3,5,6]), minor=True)\n",
    "ax1.set_ylabel('Colocalized Network Size\\n(Observed/Expected)')\n",
    "ax1.set_xlabel(f'Phenotypes (n={len(best_df)})')\n",
    "ax1.set_xticks([0, 50, 100, 150, 200, 250, 300, 350], labels = [0, 50, 100, 150, 200, 250, 300, 350])\n",
    "sns.heatmap(best_df.plot_color.values.reshape(373, 1), cmap='RdPu', cbar_kws={'shrink':0.75})\n"
   ]
  },
  {
   "cell_type": "code",
   "execution_count": 64,
   "metadata": {
    "ExecuteTime": {
     "end_time": "2025-06-22T21:21:03.045377Z",
     "start_time": "2025-06-22T21:21:03.042714Z"
    }
   },
   "outputs": [],
   "source": [
    "best_sig = best_df[(best_df.bonf_q<0.05) & (best_df.Log2SizeOE> 0)]"
   ]
  },
  {
   "cell_type": "code",
   "execution_count": 65,
   "metadata": {
    "ExecuteTime": {
     "end_time": "2025-06-22T21:21:04.961691Z",
     "start_time": "2025-06-22T21:21:04.959668Z"
    }
   },
   "outputs": [
    {
     "name": "stdout",
     "output_type": "stream",
     "text": [
      "Final colocalized traits: 283\n"
     ]
    }
   ],
   "source": [
    "print('Final colocalized traits:', len(best_sig))"
   ]
  },
  {
   "cell_type": "code",
   "execution_count": 68,
   "metadata": {
    "ExecuteTime": {
     "end_time": "2025-06-22T21:21:42.083984Z",
     "start_time": "2025-06-22T21:21:42.080305Z"
    }
   },
   "outputs": [
    {
     "data": {
      "text/plain": [
       "84"
      ]
     },
     "execution_count": 68,
     "metadata": {},
     "output_type": "execute_result"
    }
   ],
   "source": [
    "len(best_df[(best_df.bonf_q<0.05) & (best_df.Log2SizeOE> 0) & (best_df.nShared==0)])"
   ]
  },
  {
   "cell_type": "markdown",
   "metadata": {},
   "source": [
    "## Figure 3D"
   ]
  },
  {
   "cell_type": "code",
   "execution_count": 71,
   "metadata": {
    "ExecuteTime": {
     "end_time": "2025-06-22T21:23:03.138916Z",
     "start_time": "2025-06-22T21:23:03.125267Z"
    }
   },
   "outputs": [],
   "source": [
    "changed = best_df[best_df['Analysis Set']=='Additional']\n",
    "original_df = all_df[all_df['Analysis Set']=='Initial'].loc[:, ['EFO', 'Log2SizeOE']].rename(columns={'Log2SizeOE':'prior'})\n",
    "changed = changed.merge(original_df, on='EFO', how='left').drop_duplicates()\n",
    "changed = changed.merge(info_df.loc[:, ['EFO', 'trait_type']], on='EFO', how='left').drop_duplicates()\n"
   ]
  },
  {
   "cell_type": "code",
   "execution_count": 73,
   "metadata": {
    "ExecuteTime": {
     "end_time": "2025-06-22T21:23:21.791763Z",
     "start_time": "2025-06-22T21:23:21.779729Z"
    }
   },
   "outputs": [
    {
     "data": {
      "text/plain": [
       "trait_type\n",
       "Categorical    114\n",
       "Continuous     109\n",
       "Name: count, dtype: int64"
      ]
     },
     "execution_count": 73,
     "metadata": {},
     "output_type": "execute_result"
    }
   ],
   "source": [
    "all_df = all_df.merge(info_df.loc[:, ['EFO', 'trait_type']], on='EFO', how='left').drop_duplicates()\n",
    "all_df[all_df['Analysis Set']=='Additional'].drop_duplicates(subset=['EFO']).trait_type.value_counts()\n"
   ]
  },
  {
   "cell_type": "code",
   "execution_count": 78,
   "metadata": {
    "ExecuteTime": {
     "end_time": "2025-06-22T21:24:42.121743Z",
     "start_time": "2025-06-22T21:24:42.108643Z"
    }
   },
   "outputs": [
    {
     "data": {
      "text/html": [
       "<div>\n",
       "<style scoped>\n",
       "    .dataframe tbody tr th:only-of-type {\n",
       "        vertical-align: middle;\n",
       "    }\n",
       "\n",
       "    .dataframe tbody tr th {\n",
       "        vertical-align: top;\n",
       "    }\n",
       "\n",
       "    .dataframe thead th {\n",
       "        text-align: right;\n",
       "    }\n",
       "</style>\n",
       "<table border=\"1\" class=\"dataframe\">\n",
       "  <thead>\n",
       "    <tr style=\"text-align: right;\">\n",
       "      <th></th>\n",
       "      <th>EFO</th>\n",
       "      <th>Trait</th>\n",
       "      <th>Common Study</th>\n",
       "      <th>Rare Study</th>\n",
       "      <th>Analysis Set</th>\n",
       "      <th>nCommon</th>\n",
       "      <th>nRare</th>\n",
       "      <th>nShared</th>\n",
       "      <th>pShared</th>\n",
       "      <th>Network</th>\n",
       "      <th>...</th>\n",
       "      <th>q</th>\n",
       "      <th>logq</th>\n",
       "      <th>TraitR</th>\n",
       "      <th>TraitC</th>\n",
       "      <th>count</th>\n",
       "      <th>bonf_q</th>\n",
       "      <th>plot_color</th>\n",
       "      <th>prior</th>\n",
       "      <th>trait_type</th>\n",
       "      <th>diff</th>\n",
       "    </tr>\n",
       "  </thead>\n",
       "  <tbody>\n",
       "    <tr>\n",
       "      <th>0</th>\n",
       "      <td>EFO_0004533</td>\n",
       "      <td>alkaline phosphatase measurement</td>\n",
       "      <td>GCST90025947</td>\n",
       "      <td>34375979</td>\n",
       "      <td>Additional</td>\n",
       "      <td>16</td>\n",
       "      <td>8</td>\n",
       "      <td>6</td>\n",
       "      <td>5.163822e-22</td>\n",
       "      <td>PCNet2.0</td>\n",
       "      <td>...</td>\n",
       "      <td>0.000000e+00</td>\n",
       "      <td>250.000000</td>\n",
       "      <td>34375979_EFO_0004533</td>\n",
       "      <td>GCST90025947_EFO_0004533</td>\n",
       "      <td>25</td>\n",
       "      <td>0.000000e+00</td>\n",
       "      <td>50.000000</td>\n",
       "      <td>1.750428</td>\n",
       "      <td>Continuous</td>\n",
       "      <td>0.858642</td>\n",
       "    </tr>\n",
       "    <tr>\n",
       "      <th>1</th>\n",
       "      <td>EFO_0005091</td>\n",
       "      <td>monocyte count</td>\n",
       "      <td>GCST90025950</td>\n",
       "      <td>34662886</td>\n",
       "      <td>Additional</td>\n",
       "      <td>16</td>\n",
       "      <td>12</td>\n",
       "      <td>7</td>\n",
       "      <td>1.512394e-23</td>\n",
       "      <td>PCNet2.0</td>\n",
       "      <td>...</td>\n",
       "      <td>0.000000e+00</td>\n",
       "      <td>250.000000</td>\n",
       "      <td>34662886_EFO_0005091</td>\n",
       "      <td>GCST90025950_EFO_0005091</td>\n",
       "      <td>25</td>\n",
       "      <td>0.000000e+00</td>\n",
       "      <td>50.000000</td>\n",
       "      <td>1.658722</td>\n",
       "      <td>Continuous</td>\n",
       "      <td>0.925930</td>\n",
       "    </tr>\n",
       "    <tr>\n",
       "      <th>2</th>\n",
       "      <td>EFO_0006925</td>\n",
       "      <td>lipoprotein A measurement</td>\n",
       "      <td>GCST90019513</td>\n",
       "      <td>36088354</td>\n",
       "      <td>Additional</td>\n",
       "      <td>23</td>\n",
       "      <td>12</td>\n",
       "      <td>11</td>\n",
       "      <td>2.936327e-37</td>\n",
       "      <td>PCNet2.0</td>\n",
       "      <td>...</td>\n",
       "      <td>0.000000e+00</td>\n",
       "      <td>250.000000</td>\n",
       "      <td>36088354_EFO_0006925</td>\n",
       "      <td>GCST90019513_EFO_0006925</td>\n",
       "      <td>15</td>\n",
       "      <td>0.000000e+00</td>\n",
       "      <td>50.000000</td>\n",
       "      <td>2.087243</td>\n",
       "      <td>Continuous</td>\n",
       "      <td>0.454088</td>\n",
       "    </tr>\n",
       "    <tr>\n",
       "      <th>3</th>\n",
       "      <td>EFO_0007805</td>\n",
       "      <td>HDL cholesterol change measurement</td>\n",
       "      <td>GCST90025956</td>\n",
       "      <td>34662886</td>\n",
       "      <td>Additional</td>\n",
       "      <td>22</td>\n",
       "      <td>25</td>\n",
       "      <td>14</td>\n",
       "      <td>4.811871e-41</td>\n",
       "      <td>PCNet2.0</td>\n",
       "      <td>...</td>\n",
       "      <td>0.000000e+00</td>\n",
       "      <td>250.000000</td>\n",
       "      <td>34662886_EFO_0007805</td>\n",
       "      <td>GCST90025956_EFO_0007805</td>\n",
       "      <td>25</td>\n",
       "      <td>0.000000e+00</td>\n",
       "      <td>50.000000</td>\n",
       "      <td>2.461409</td>\n",
       "      <td>Continuous</td>\n",
       "      <td>0.013418</td>\n",
       "    </tr>\n",
       "    <tr>\n",
       "      <th>4</th>\n",
       "      <td>EFO_0004531</td>\n",
       "      <td>urate measurement</td>\n",
       "      <td>GCST90025965</td>\n",
       "      <td>36088354</td>\n",
       "      <td>Additional</td>\n",
       "      <td>15</td>\n",
       "      <td>5</td>\n",
       "      <td>3</td>\n",
       "      <td>1.256711e-12</td>\n",
       "      <td>PCNet2.0</td>\n",
       "      <td>...</td>\n",
       "      <td>0.000000e+00</td>\n",
       "      <td>250.000000</td>\n",
       "      <td>36088354_EFO_0004531</td>\n",
       "      <td>GCST90025965_EFO_0004531</td>\n",
       "      <td>5</td>\n",
       "      <td>0.000000e+00</td>\n",
       "      <td>50.000000</td>\n",
       "      <td>2.346798</td>\n",
       "      <td>Continuous</td>\n",
       "      <td>0.029099</td>\n",
       "    </tr>\n",
       "    <tr>\n",
       "      <th>...</th>\n",
       "      <td>...</td>\n",
       "      <td>...</td>\n",
       "      <td>...</td>\n",
       "      <td>...</td>\n",
       "      <td>...</td>\n",
       "      <td>...</td>\n",
       "      <td>...</td>\n",
       "      <td>...</td>\n",
       "      <td>...</td>\n",
       "      <td>...</td>\n",
       "      <td>...</td>\n",
       "      <td>...</td>\n",
       "      <td>...</td>\n",
       "      <td>...</td>\n",
       "      <td>...</td>\n",
       "      <td>...</td>\n",
       "      <td>...</td>\n",
       "      <td>...</td>\n",
       "      <td>...</td>\n",
       "      <td>...</td>\n",
       "      <td>...</td>\n",
       "    </tr>\n",
       "    <tr>\n",
       "      <th>163</th>\n",
       "      <td>EFO_0000555</td>\n",
       "      <td>irritable bowel syndrome</td>\n",
       "      <td>GCST006304</td>\n",
       "      <td>34375979</td>\n",
       "      <td>Additional</td>\n",
       "      <td>4</td>\n",
       "      <td>33</td>\n",
       "      <td>0</td>\n",
       "      <td>6.929835e-03</td>\n",
       "      <td>PCNet2.0</td>\n",
       "      <td>...</td>\n",
       "      <td>3.451337e-02</td>\n",
       "      <td>0.984891</td>\n",
       "      <td>34375979_EFO_0000555</td>\n",
       "      <td>GCST006304_EFO_0000555</td>\n",
       "      <td>3</td>\n",
       "      <td>1.035401e-01</td>\n",
       "      <td>0.984891</td>\n",
       "      <td>-0.444680</td>\n",
       "      <td>Categorical</td>\n",
       "      <td>0.217165</td>\n",
       "    </tr>\n",
       "    <tr>\n",
       "      <th>164</th>\n",
       "      <td>EFO_0001422</td>\n",
       "      <td>cirrhosis of liver</td>\n",
       "      <td>GCST90018826</td>\n",
       "      <td>34375979</td>\n",
       "      <td>Additional</td>\n",
       "      <td>3</td>\n",
       "      <td>15</td>\n",
       "      <td>0</td>\n",
       "      <td>2.366676e-03</td>\n",
       "      <td>PCNet2.0</td>\n",
       "      <td>...</td>\n",
       "      <td>8.615804e-04</td>\n",
       "      <td>2.587583</td>\n",
       "      <td>34375979_EFO_0001422</td>\n",
       "      <td>GCST90018826_EFO_0001422</td>\n",
       "      <td>3</td>\n",
       "      <td>2.584741e-03</td>\n",
       "      <td>2.587583</td>\n",
       "      <td>-1.304546</td>\n",
       "      <td>Categorical</td>\n",
       "      <td>0.972036</td>\n",
       "    </tr>\n",
       "    <tr>\n",
       "      <th>165</th>\n",
       "      <td>EFO_0003762</td>\n",
       "      <td>vitamin D deficiency</td>\n",
       "      <td>GCST90020244</td>\n",
       "      <td>34375979</td>\n",
       "      <td>Additional</td>\n",
       "      <td>9</td>\n",
       "      <td>13</td>\n",
       "      <td>0</td>\n",
       "      <td>6.142358e-03</td>\n",
       "      <td>PCNet2.0</td>\n",
       "      <td>...</td>\n",
       "      <td>5.053939e-04</td>\n",
       "      <td>2.995340</td>\n",
       "      <td>34375979_EFO_0003762</td>\n",
       "      <td>GCST90020244_EFO_0003762</td>\n",
       "      <td>2</td>\n",
       "      <td>1.010788e-03</td>\n",
       "      <td>2.995340</td>\n",
       "      <td>-0.629905</td>\n",
       "      <td>Categorical</td>\n",
       "      <td>0.248689</td>\n",
       "    </tr>\n",
       "    <tr>\n",
       "      <th>166</th>\n",
       "      <td>EFO_0000280</td>\n",
       "      <td>Barrett's esophagus</td>\n",
       "      <td>GCST003738</td>\n",
       "      <td>34375979</td>\n",
       "      <td>Additional</td>\n",
       "      <td>4</td>\n",
       "      <td>12</td>\n",
       "      <td>0</td>\n",
       "      <td>2.524123e-03</td>\n",
       "      <td>PCNet2.0</td>\n",
       "      <td>...</td>\n",
       "      <td>1.434507e-07</td>\n",
       "      <td>6.241237</td>\n",
       "      <td>34375979_EFO_0000280</td>\n",
       "      <td>GCST003738_EFO_0000280</td>\n",
       "      <td>4</td>\n",
       "      <td>5.738028e-07</td>\n",
       "      <td>6.241237</td>\n",
       "      <td>-1.036136</td>\n",
       "      <td>Categorical</td>\n",
       "      <td>0.558741</td>\n",
       "    </tr>\n",
       "    <tr>\n",
       "      <th>167</th>\n",
       "      <td>EFO_0010967</td>\n",
       "      <td>urinary microalbumin measurement</td>\n",
       "      <td>GCST90239630</td>\n",
       "      <td>34662886</td>\n",
       "      <td>Additional</td>\n",
       "      <td>6</td>\n",
       "      <td>4</td>\n",
       "      <td>0</td>\n",
       "      <td>1.262659e-03</td>\n",
       "      <td>PCNet2.0</td>\n",
       "      <td>...</td>\n",
       "      <td>2.652114e-08</td>\n",
       "      <td>7.275378</td>\n",
       "      <td>34662886_EFO_0010967</td>\n",
       "      <td>GCST90239630_EFO_0010967</td>\n",
       "      <td>2</td>\n",
       "      <td>5.304228e-08</td>\n",
       "      <td>7.275378</td>\n",
       "      <td>-0.865669</td>\n",
       "      <td>Continuous</td>\n",
       "      <td>0.015249</td>\n",
       "    </tr>\n",
       "  </tbody>\n",
       "</table>\n",
       "<p>168 rows × 46 columns</p>\n",
       "</div>"
      ],
      "text/plain": [
       "             EFO                               Trait  Common Study  \\\n",
       "0    EFO_0004533    alkaline phosphatase measurement  GCST90025947   \n",
       "1    EFO_0005091                      monocyte count  GCST90025950   \n",
       "2    EFO_0006925           lipoprotein A measurement  GCST90019513   \n",
       "3    EFO_0007805  HDL cholesterol change measurement  GCST90025956   \n",
       "4    EFO_0004531                   urate measurement  GCST90025965   \n",
       "..           ...                                 ...           ...   \n",
       "163  EFO_0000555            irritable bowel syndrome    GCST006304   \n",
       "164  EFO_0001422                  cirrhosis of liver  GCST90018826   \n",
       "165  EFO_0003762                vitamin D deficiency  GCST90020244   \n",
       "166  EFO_0000280                 Barrett's esophagus    GCST003738   \n",
       "167  EFO_0010967    urinary microalbumin measurement  GCST90239630   \n",
       "\n",
       "     Rare Study Analysis Set  nCommon  nRare  nShared       pShared   Network  \\\n",
       "0      34375979   Additional       16      8        6  5.163822e-22  PCNet2.0   \n",
       "1      34662886   Additional       16     12        7  1.512394e-23  PCNet2.0   \n",
       "2      36088354   Additional       23     12       11  2.936327e-37  PCNet2.0   \n",
       "3      34662886   Additional       22     25       14  4.811871e-41  PCNet2.0   \n",
       "4      36088354   Additional       15      5        3  1.256711e-12  PCNet2.0   \n",
       "..          ...          ...      ...    ...      ...           ...       ...   \n",
       "163    34375979   Additional        4     33        0  6.929835e-03  PCNet2.0   \n",
       "164    34375979   Additional        3     15        0  2.366676e-03  PCNet2.0   \n",
       "165    34375979   Additional        9     13        0  6.142358e-03  PCNet2.0   \n",
       "166    34375979   Additional        4     12        0  2.524123e-03  PCNet2.0   \n",
       "167    34662886   Additional        6      4        0  1.262659e-03  PCNet2.0   \n",
       "\n",
       "     ...             q        logq                TraitR  \\\n",
       "0    ...  0.000000e+00  250.000000  34375979_EFO_0004533   \n",
       "1    ...  0.000000e+00  250.000000  34662886_EFO_0005091   \n",
       "2    ...  0.000000e+00  250.000000  36088354_EFO_0006925   \n",
       "3    ...  0.000000e+00  250.000000  34662886_EFO_0007805   \n",
       "4    ...  0.000000e+00  250.000000  36088354_EFO_0004531   \n",
       "..   ...           ...         ...                   ...   \n",
       "163  ...  3.451337e-02    0.984891  34375979_EFO_0000555   \n",
       "164  ...  8.615804e-04    2.587583  34375979_EFO_0001422   \n",
       "165  ...  5.053939e-04    2.995340  34375979_EFO_0003762   \n",
       "166  ...  1.434507e-07    6.241237  34375979_EFO_0000280   \n",
       "167  ...  2.652114e-08    7.275378  34662886_EFO_0010967   \n",
       "\n",
       "                       TraitC  count        bonf_q  plot_color     prior  \\\n",
       "0    GCST90025947_EFO_0004533     25  0.000000e+00   50.000000  1.750428   \n",
       "1    GCST90025950_EFO_0005091     25  0.000000e+00   50.000000  1.658722   \n",
       "2    GCST90019513_EFO_0006925     15  0.000000e+00   50.000000  2.087243   \n",
       "3    GCST90025956_EFO_0007805     25  0.000000e+00   50.000000  2.461409   \n",
       "4    GCST90025965_EFO_0004531      5  0.000000e+00   50.000000  2.346798   \n",
       "..                        ...    ...           ...         ...       ...   \n",
       "163    GCST006304_EFO_0000555      3  1.035401e-01    0.984891 -0.444680   \n",
       "164  GCST90018826_EFO_0001422      3  2.584741e-03    2.587583 -1.304546   \n",
       "165  GCST90020244_EFO_0003762      2  1.010788e-03    2.995340 -0.629905   \n",
       "166    GCST003738_EFO_0000280      4  5.738028e-07    6.241237 -1.036136   \n",
       "167  GCST90239630_EFO_0010967      2  5.304228e-08    7.275378 -0.865669   \n",
       "\n",
       "      trait_type      diff  \n",
       "0     Continuous  0.858642  \n",
       "1     Continuous  0.925930  \n",
       "2     Continuous  0.454088  \n",
       "3     Continuous  0.013418  \n",
       "4     Continuous  0.029099  \n",
       "..           ...       ...  \n",
       "163  Categorical  0.217165  \n",
       "164  Categorical  0.972036  \n",
       "165  Categorical  0.248689  \n",
       "166  Categorical  0.558741  \n",
       "167   Continuous  0.015249  \n",
       "\n",
       "[168 rows x 46 columns]"
      ]
     },
     "execution_count": 78,
     "metadata": {},
     "output_type": "execute_result"
    }
   ],
   "source": [
    "changed"
   ]
  },
  {
   "cell_type": "code",
   "execution_count": 79,
   "metadata": {
    "ExecuteTime": {
     "end_time": "2025-06-22T21:25:19.276241Z",
     "start_time": "2025-06-22T21:25:19.027617Z"
    }
   },
   "outputs": [
    {
     "data": {
      "text/plain": [
       "Text(0.5, 6.055555555555554, 'Traits with impoved\\nCOLOC Score')"
      ]
     },
     "execution_count": 79,
     "metadata": {},
     "output_type": "execute_result"
    },
    {
     "data": {
      "image/png": "[encoded data removed]",
      "text/plain": [
       "<Figure size 150x200 with 1 Axes>"
      ]
     },
     "metadata": {},
     "output_type": "display_data"
    }
   ],
   "source": [
    "_ = plt.figure(figsize=(1.5,2))\n",
    "changed['diff'] = changed.Log2SizeOE - changed.prior\n",
    "sns.violinplot(changed, y='diff', x='trait_type', cut=0, saturation=1, fill=False, color='black', linewidth=0.5, zorder=2, \n",
    "               order=['Categorical', 'Continuous'], width=1)\n",
    "sns.swarmplot(changed, y='diff', x='trait_type', s=2.5, hue='trait_type', palette=['#00606F', '#509aa5'], \n",
    "              hue_order=['Categorical', 'Continuous'], \n",
    "order=['Categorical', 'Continuous'], zorder=1)\n",
    "ax = plt.gca()\n",
    "ax.set_yticks([0, 1, 2], [1, 2, 4])\n",
    "ax.set_yticks([np.log2(3), np.log2(5)], minor=True)\n",
    "n_cc = len(changed[changed.trait_type==\"Categorical\"])\n",
    "n_q = len(changed[changed.trait_type==\"Continuous\"])\n",
    "_ = ax.set_ylabel('Best/Initial Coloc Score')\n",
    "_ = ax.set_xticks([0,1], [f'Continuous\\n(n={n_q})', f'Categorical\\n(n={n_cc})'][::-1])\n",
    "p = mannwhitneyu(changed[changed.trait_type=='Categorical']['diff'].values, \n",
    "                 changed[changed.trait_type=='Continuous']['diff'].values).pvalue\n",
    "ax.text(0.5, 2, f'p = {p:.3f}', ha='center', va='center')\n",
    "ax.set_xlabel('Traits with impoved\\nCOLOC Score')"
   ]
  },
  {
   "cell_type": "markdown",
   "metadata": {},
   "source": [
    "## Figure 3E - Prioritized Genes"
   ]
  },
  {
   "cell_type": "code",
   "execution_count": 80,
   "metadata": {
    "ExecuteTime": {
     "end_time": "2025-06-22T21:25:22.271879Z",
     "start_time": "2025-06-22T21:25:22.267942Z"
    }
   },
   "outputs": [],
   "source": [
    "def load_z(trait, datadir, transform, norm, rorc):\n",
    "    df = pd.read_csv(os.path.join(datadir, f'{trait}_z_{rorc}V_q_{transform}_{norm}.tsv'), sep='\\t', header=None,\n",
    "                    index_col=0, names=['z']).dropna()\n",
    "    return df\n",
    "\n",
    "## Load all_zscores\n",
    "def load_all_scores(df, datadir, rorc):\n",
    "    allz = {}\n",
    "    if rorc == 'C':\n",
    "        other = 'TraitR'\n",
    "    else:\n",
    "        other = 'TraitC'\n",
    "    for i, t in tqdm(enumerate(list(df[f'Trait{rorc}'].values))):\n",
    "        if rorc == 'R':\n",
    "            other = 'TraitC'\n",
    "            allz[f'{t}_{df[other].values[i]}'] = load_z(t, datadir, 'neglog10', 'sum', rorc=rorc).z.to_dict()\n",
    "        else:\n",
    "            other = 'TraitR'\n",
    "            allz[f'{df[other].values[i]}_{t}'] = load_z(t, datadir, 'neglog10', 'sum', rorc=rorc).z.to_dict()\n",
    "    z = pd.DataFrame.from_dict(allz)\n",
    "    return z"
   ]
  },
  {
   "cell_type": "code",
   "execution_count": 81,
   "metadata": {
    "ExecuteTime": {
     "end_time": "2025-06-22T21:26:02.032835Z",
     "start_time": "2025-06-22T21:26:02.030985Z"
    }
   },
   "outputs": [],
   "source": [
    "nrnb_dir = '/cellar/users/snwright/Data/RareCommon'"
   ]
  },
  {
   "cell_type": "code",
   "execution_count": 82,
   "metadata": {
    "ExecuteTime": {
     "end_time": "2025-06-22T21:26:12.107993Z",
     "start_time": "2025-06-22T21:26:02.711970Z"
    }
   },
   "outputs": [
    {
     "name": "stderr",
     "output_type": "stream",
     "text": [
      "373it [00:03, 99.78it/s] \n",
      "373it [00:03, 108.38it/s]\n"
     ]
    }
   ],
   "source": [
    "zR = load_all_scores(best_df, os.path.join(nrnb_dir, 'outputs/netcoloc/March_2025'), 'R').dropna()\n",
    "zC = load_all_scores(best_df, os.path.join(nrnb_dir, 'outputs/netcoloc/March_2025'), 'C').dropna()\n",
    "z_coloc = zR * zC"
   ]
  },
  {
   "cell_type": "code",
   "execution_count": 84,
   "metadata": {
    "ExecuteTime": {
     "end_time": "2025-06-22T21:26:24.932310Z",
     "start_time": "2025-06-22T21:26:22.288662Z"
    }
   },
   "outputs": [
    {
     "name": "stderr",
     "output_type": "stream",
     "text": [
      "\n",
      "  0%|          | 0/373 [00:00<?, ?it/s]\u001b[A\n",
      "  8%|▊         | 29/373 [00:00<00:01, 288.96it/s]\u001b[A\n",
      " 16%|█▌        | 58/373 [00:00<00:01, 229.54it/s]\u001b[A\n",
      " 22%|██▏       | 82/373 [00:00<00:01, 204.96it/s]\u001b[A\n",
      " 28%|██▊       | 103/373 [00:00<00:01, 201.65it/s]\u001b[A\n",
      " 33%|███▎      | 124/373 [00:00<00:01, 174.37it/s]\u001b[A\n",
      " 38%|███▊      | 142/373 [00:00<00:01, 161.35it/s]\u001b[A\n",
      " 45%|████▌     | 168/373 [00:00<00:01, 187.34it/s]\u001b[A\n",
      " 56%|█████▌    | 208/373 [00:00<00:00, 245.72it/s]\u001b[A\n",
      " 67%|██████▋   | 251/373 [00:01<00:00, 297.21it/s]\u001b[A\n",
      " 79%|███████▉  | 294/373 [00:01<00:00, 334.16it/s]\u001b[A\n",
      "100%|██████████| 373/373 [00:01<00:00, 275.87it/s]\u001b[A\n",
      "\n",
      "  0%|          | 0/373 [00:00<?, ?it/s]\u001b[A\n",
      " 11%|█         | 41/373 [00:00<00:00, 402.26it/s]\u001b[A\n",
      " 22%|██▏       | 82/373 [00:00<00:00, 330.90it/s]\u001b[A\n",
      " 31%|███       | 116/373 [00:00<00:00, 308.22it/s]\u001b[A\n",
      " 40%|███▉      | 148/373 [00:00<00:00, 269.81it/s]\u001b[A\n",
      " 47%|████▋     | 176/373 [00:00<00:00, 242.85it/s]\u001b[A\n",
      " 54%|█████▍    | 201/373 [00:00<00:00, 192.14it/s]\u001b[A\n",
      " 60%|█████▉    | 222/373 [00:00<00:00, 190.24it/s]\u001b[A\n",
      " 68%|██████▊   | 252/373 [00:01<00:00, 216.94it/s]\u001b[A\n",
      " 80%|████████  | 300/373 [00:01<00:00, 285.04it/s]\u001b[A\n",
      "100%|██████████| 373/373 [00:01<00:00, 290.59it/s]\u001b[A\n"
     ]
    }
   ],
   "source": [
    "## Load genes\n",
    "def load_genes(trait, rorc, indir=os.path.join(nrnb_dir, 'inputs/March_2025')):\n",
    "    genes = pd.read_csv(os.path.join(indir, trait+f'_{rorc}V.txt'), sep='\\t')\n",
    "    return genes['Entrez'].unique()\n",
    "\n",
    "network_genes = list(z_coloc.index.values)\n",
    "rare_genes = {t: [x for x in load_genes(t, 'R') if x in network_genes] for t in tqdm(best_df.TraitR.unique())}\n",
    "common_genes = {t: [x for x in load_genes(t, 'C') if x in network_genes] for t in tqdm(best_df.TraitC.unique())}\n"
   ]
  },
  {
   "cell_type": "code",
   "execution_count": 85,
   "metadata": {
    "ExecuteTime": {
     "end_time": "2025-06-22T21:26:28.928135Z",
     "start_time": "2025-06-22T21:26:28.914884Z"
    }
   },
   "outputs": [
    {
     "name": "stderr",
     "output_type": "stream",
     "text": [
      "\n",
      "100%|██████████| 373/373 [00:00<00:00, 258676.49it/s]\n",
      "\n",
      "100%|██████████| 373/373 [00:00<00:00, 196468.09it/s]\n",
      "\n",
      "100%|██████████| 373/373 [00:00<00:00, 287799.01it/s]\n"
     ]
    }
   ],
   "source": [
    "trait_pairs = [x for x in zip(best_df.TraitR, best_df.TraitC)]\n",
    "\n",
    "overlap_genes = {t:set(rare_genes[t[0]]).intersection(common_genes[t[1]]) for t in tqdm(trait_pairs)}\n",
    "rare_only = {t:set(rare_genes[t[0]]).difference(common_genes[t[1]]) for t in tqdm(trait_pairs)}\n",
    "common_only = {t:set(common_genes[t[1]]).difference(rare_genes[t[0]]) for t in tqdm(trait_pairs)}"
   ]
  },
  {
   "cell_type": "code",
   "execution_count": 86,
   "metadata": {
    "ExecuteTime": {
     "end_time": "2025-06-22T21:26:33.458922Z",
     "start_time": "2025-06-22T21:26:33.454522Z"
    }
   },
   "outputs": [],
   "source": [
    "overlaps = {t[0]: len(overlap_genes[t]) for t in overlap_genes.keys()}\n",
    "overlaps = [overlaps[x] for x in best_df[(best_df.bonf_q <0.05) & (best_df.Log2SizeOE > 0)].TraitR.values]"
   ]
  },
  {
   "cell_type": "code",
   "execution_count": 90,
   "metadata": {
    "ExecuteTime": {
     "end_time": "2025-06-22T21:27:18.645356Z",
     "start_time": "2025-06-22T21:27:18.639743Z"
    }
   },
   "outputs": [],
   "source": [
    "gene_splits = pd.DataFrame({'Overlap':[len(overlap_genes[x]) for x in trait_pairs], \n",
    "                           'RareOnly':[len(rare_only[x]) for x in trait_pairs],\n",
    "                           'CommonOnly':[len(common_only[x]) for x in trait_pairs]}, index=trait_pairs)\n",
    "gene_splits['TraitR'] = [t[0] for t in trait_pairs]\n",
    "gene_splits['TraitC'] = [t[1] for t in trait_pairs]\n",
    "gene_splits['EFO'] = gene_splits.TraitR.apply(lambda x: map_trait_code(x))"
   ]
  },
  {
   "cell_type": "code",
   "execution_count": 91,
   "metadata": {
    "ExecuteTime": {
     "end_time": "2025-06-22T21:27:19.957295Z",
     "start_time": "2025-06-22T21:27:19.952386Z"
    }
   },
   "outputs": [],
   "source": [
    "def get_single_z_support(idx, genes, data_df, th=3):\n",
    "    trait_df = data_df.iloc[:, idx]\n",
    "    gene_df = trait_df.loc[list(genes)]\n",
    "    return np.sum(gene_df >= th)\n",
    "\n",
    "def get_coloc_support(trait, genes, rare_df, common_df, th=3):\n",
    "    trait_rare = rare_df[trait]\n",
    "    trait_common = common_df[trait]\n",
    "    trait_df = pd.DataFrame({'rare':trait_rare, 'common':trait_common}).loc[list(genes)]\n",
    "    trait_df['coloc'] = trait_df.rare * trait_df.common\n",
    "    return len(trait_df[(trait_df.coloc >= th) & (trait_df.rare > 1) & (trait_df.common > 1)])\n",
    "\n",
    "def get_all_support(trait_pairs, rare_df, common_df, coloc_df):\n",
    "    \n",
    "    results = {'Overlap':{}, 'Rare':{}, 'Common':{}}\n",
    "    for i, pair in tqdm(enumerate(trait_pairs)):\n",
    "        for j, geneset in enumerate([overlap_genes[pair], rare_only[pair], common_only[pair]]):\n",
    "\n",
    "            rare_n = get_single_z_support(i,geneset, rare_df, th=1)\n",
    "            common_n = get_single_z_support(i,geneset, common_df, th=1)\n",
    "            coloc_n = get_single_z_support(i,geneset,coloc_df, th=3)\n",
    "            results[['Overlap', 'Rare', 'Common'][j]][pair] = {'Zr':rare_n, 'Zc':common_n, 'Zrc':coloc_n}\n",
    "\n",
    "    return results"
   ]
  },
  {
   "cell_type": "code",
   "execution_count": 92,
   "metadata": {
    "ExecuteTime": {
     "end_time": "2025-06-22T21:27:22.107739Z",
     "start_time": "2025-06-22T21:27:21.222558Z"
    }
   },
   "outputs": [
    {
     "name": "stderr",
     "output_type": "stream",
     "text": [
      "373it [00:00, 423.03it/s]\n"
     ]
    }
   ],
   "source": [
    "results_dict = get_all_support(trait_pairs, zR, zC, z_coloc)"
   ]
  },
  {
   "cell_type": "code",
   "execution_count": 93,
   "metadata": {
    "ExecuteTime": {
     "end_time": "2025-06-22T21:27:22.445111Z",
     "start_time": "2025-06-22T21:27:22.429039Z"
    }
   },
   "outputs": [],
   "source": [
    "results_overlap = pd.DataFrame.from_dict(results_dict['Overlap'], orient='index').reset_index(names=['TraitR', 'TraitC'])\n",
    "results_rare = pd.DataFrame.from_dict(results_dict['Rare'], orient='index').reset_index(names=['TraitR', 'TraitC'])\n",
    "results_common = pd.DataFrame.from_dict(results_dict['Common'], orient='index').reset_index(names=['TraitR', 'TraitC'])\n",
    "results_rare.columns = ['Rare_'+x if 'Z' in x else x for x in  results_rare.columns]\n",
    "results_common.columns = ['Common_'+x if 'Z' in x else x for x in  results_common.columns]"
   ]
  },
  {
   "cell_type": "code",
   "execution_count": 94,
   "metadata": {
    "ExecuteTime": {
     "end_time": "2025-06-22T21:27:23.606709Z",
     "start_time": "2025-06-22T21:27:23.600545Z"
    }
   },
   "outputs": [],
   "source": [
    "gene_split_results = gene_splits.merge(results_rare, on=['TraitR', 'TraitC']).merge(results_common, on=['TraitR', 'TraitC'])\n",
    "gene_split_results['Total'] = gene_split_results['Overlap'] + gene_split_results['RareOnly'] + gene_split_results['CommonOnly']\n",
    "gene_split_results = gene_split_results.sort_values(by='Total', ascending=False)"
   ]
  },
  {
   "cell_type": "code",
   "execution_count": 95,
   "metadata": {
    "ExecuteTime": {
     "end_time": "2025-06-22T21:27:24.171876Z",
     "start_time": "2025-06-22T21:27:24.167955Z"
    }
   },
   "outputs": [],
   "source": [
    "gene_splits['overlap+rare'] = gene_splits['Overlap'] + gene_splits['RareOnly']\n",
    "gene_splits['Total'] = gene_splits['overlap+rare'] + gene_splits['CommonOnly']\n",
    "gene_splits = gene_splits.sort_values(by=['Overlap', 'overlap+rare', 'Total'], ascending=False)"
   ]
  },
  {
   "cell_type": "code",
   "execution_count": 96,
   "metadata": {
    "ExecuteTime": {
     "end_time": "2025-06-22T21:27:24.825450Z",
     "start_time": "2025-06-22T21:27:24.823013Z"
    }
   },
   "outputs": [],
   "source": [
    "gene_splits['trait_pair'] = gene_splits['TraitR'] + '_' + gene_splits['TraitC']"
   ]
  },
  {
   "cell_type": "code",
   "execution_count": 97,
   "metadata": {
    "ExecuteTime": {
     "end_time": "2025-06-22T21:27:25.352156Z",
     "start_time": "2025-06-22T21:27:25.349788Z"
    }
   },
   "outputs": [],
   "source": [
    "gene_splits = gene_splits.sort_values(by='Total', ascending=False)"
   ]
  },
  {
   "cell_type": "code",
   "execution_count": 98,
   "metadata": {
    "ExecuteTime": {
     "end_time": "2025-06-22T21:27:26.180513Z",
     "start_time": "2025-06-22T21:27:26.175919Z"
    }
   },
   "outputs": [],
   "source": [
    "gene_split_results['trait_pair'] = gene_split_results['TraitR'] + '_' + gene_split_results['TraitC']\n",
    "gene_split_results['overlap+rare'] = gene_split_results['Overlap'] + gene_split_results['RareOnly']\n",
    "gene_split_results['Total'] = gene_split_results['overlap+rare'] + gene_split_results['CommonOnly']\n",
    "gene_split_results['overlap+RareZ'] = gene_split_results['Overlap'] + gene_split_results['Rare_Zrc']\n",
    "gene_split_results['overlap+RareCommonZ'] = gene_split_results['overlap+RareZ'] + gene_split_results['Common_Zrc']"
   ]
  },
  {
   "cell_type": "code",
   "execution_count": 99,
   "metadata": {
    "ExecuteTime": {
     "end_time": "2025-06-22T21:27:27.249449Z",
     "start_time": "2025-06-22T21:27:27.246270Z"
    }
   },
   "outputs": [],
   "source": [
    "gene_split_results.head(2).T\n",
    "gene_split_results['R_frac'] = gene_split_results['Rare_Zrc']/gene_split_results['RareOnly']\n",
    "gene_split_results['C_frac'] = gene_split_results['Common_Zrc']/gene_split_results['CommonOnly']\n"
   ]
  },
  {
   "cell_type": "code",
   "execution_count": 100,
   "metadata": {
    "ExecuteTime": {
     "end_time": "2025-06-22T21:27:34.728316Z",
     "start_time": "2025-06-22T21:27:30.249051Z"
    }
   },
   "outputs": [
    {
     "data": {
      "text/plain": [
       "(-0.5, 345.5)"
      ]
     },
     "execution_count": 100,
     "metadata": {},
     "output_type": "execute_result"
    },
    {
     "data": {
      "image/png": "[encoded data removed]",
      "text/plain": [
       "<Figure size 500x200 with 6 Axes>"
      ]
     },
     "metadata": {},
     "output_type": "display_data"
    }
   ],
   "source": [
    "gene_split_results = gene_split_results.sort_values(by=['Total', 'overlap+RareCommonZ', 'Overlap'], ascending=False)\n",
    "\n",
    "_, [[axc1, axc2], [axr1, axr2], [ax1, ax2]] = plt.subplots(nrows=3, ncols=2, figsize=(5, 2), gridspec_kw={'width_ratios':[27, 346],\n",
    "                                                    'height_ratios':[1,1,10], 'hspace':0}, sharex='col')\n",
    "sns.barplot(gene_split_results[gene_split_results.Total>100], x='trait_pair', y='Overlap', color='#af3800', \n",
    "    zorder=10,saturation=1, ax=ax1, width=1)\n",
    "sns.barplot(gene_split_results[gene_split_results.Total>100], x='trait_pair', y='overlap+RareZ', color=green, \n",
    "    zorder=5, saturation=1, ax=ax1, width=1)\n",
    "sns.barplot(gene_split_results[gene_split_results.Total>100], x='trait_pair', y='overlap+RareCommonZ', color=blue, \n",
    "    zorder=3, saturation=1, ax=ax1, width=1)\n",
    "sns.barplot(gene_split_results[gene_split_results.Total>100], x='trait_pair', y='Total', color='lightgrey', \n",
    "    zorder=1, saturation=1, ax=ax1, width=1)\n",
    "\n",
    "\n",
    "sns.barplot(gene_split_results[gene_split_results.Total<=100], x='trait_pair', y='Overlap', color='#af3800', \n",
    "    zorder=10,saturation=1, ax=ax2, width=1)\n",
    "sns.barplot(gene_split_results[gene_split_results.Total<=100], x='trait_pair', y='overlap+RareZ', color=green, \n",
    "    zorder=5, saturation=1, ax=ax2, width=1)\n",
    "sns.barplot(gene_split_results[gene_split_results.Total<=100], x='trait_pair', y='overlap+RareCommonZ', color=blue, \n",
    "    zorder=3, saturation=1, ax=ax2, width=1)\n",
    "sns.barplot(gene_split_results[gene_split_results.Total<=100], x='trait_pair', y='Total', color='lightgrey', \n",
    "    zorder=1, saturation=1, ax=ax2, width=1)\n",
    "ax2.set_xticks([])\n",
    "ax2.set_ylabel('')\n",
    "\n",
    "\n",
    "sns.heatmap(gene_split_results[gene_split_results.Total<=100][['C_frac']].T, cmap='Blues', vmin=0, vmax=1, \n",
    "ax=axc2, cbar=False)\n",
    "sns.heatmap(gene_split_results[gene_split_results.Total>100][['C_frac']].T, cmap='Blues', vmin=0, vmax=1, \n",
    "ax=axc1, cbar=False)\n",
    "\n",
    "sns.heatmap(gene_split_results[gene_split_results.Total<=100][['R_frac']].T, cmap='Greens', vmin=0, vmax=1, \n",
    "ax=axr2, cbar=False)\n",
    "sns.heatmap(gene_split_results[gene_split_results.Total>100][['R_frac']].T, cmap='Greens', vmin=0, vmax=1, \n",
    "ax=axr1, cbar=False)\n",
    "\n",
    "# Axis clean up\n",
    "ax1.set_xticks([])\n",
    "ax1.set_ylabel('Total Associated Genes')\n",
    "ax2.set_xticks([])\n",
    "ax2.set_ylabel('')\n",
    "ax1.set_xlabel(f'\\nTraits with more than\\n 100 genes (n={len(gene_split_results[gene_split_results.Total>100])})')\n",
    "ax2.set_xlabel(f'\\nTraits with fewer than 100 genes (n={len(gene_split_results[gene_split_results.Total<=100])})')\n",
    "axc1.set_yticks([0.5], labels=['Common %'], rotation=0)\n",
    "axc2.set_yticks([])\n",
    "axr1.set_yticks([0.5], labels=['Rare %'], rotation=0)\n",
    "axr2.set_yticks([])\n",
    "for ax in [axc1, axc2, axr1, axr2]:\n",
    "    for _, spine in ax.spines.items():\n",
    "        spine.set_visible(True)\n",
    "ax1.set_xlim(-0.5, 26.5)\n",
    "ax2.set_xlim(-0.5, 345.5)\n"
   ]
  },
  {
   "cell_type": "code",
   "execution_count": 101,
   "metadata": {
    "ExecuteTime": {
     "end_time": "2025-06-22T21:27:37.517268Z",
     "start_time": "2025-06-22T21:27:37.514788Z"
    }
   },
   "outputs": [
    {
     "name": "stdout",
     "output_type": "stream",
     "text": [
      "% CVGs prioritized: 44.39\n",
      "% RVGs prioritized: 42.02\n"
     ]
    }
   ],
   "source": [
    "print('% CVGs prioritized:', f'{100*gene_split_results.C_frac.mean():.2f}')\n",
    "print('% RVGs prioritized:', f'{100*gene_split_results.R_frac.mean():.2f}')"
   ]
  },
  {
   "cell_type": "markdown",
   "metadata": {},
   "source": [
    "## Figure 3F - Tissue Enrichments"
   ]
  },
  {
   "cell_type": "code",
   "execution_count": 110,
   "metadata": {
    "ExecuteTime": {
     "end_time": "2025-06-22T21:34:58.934360Z",
     "start_time": "2025-06-22T21:34:58.931074Z"
    }
   },
   "outputs": [],
   "source": [
    "def load_results(file_name, best_df, datadir):\n",
    "    tiss_df = pd.read_csv(os.path.join(datadir, file_name), sep='\\t')\n",
    "    tiss_df = tiss_df.assign(Domain=tiss_df.GeneSet.map(best_df.set_index('trait_pair').Domain.to_dict()))\n",
    "    tiss_df = tiss_df.assign(name=tiss_df.GeneSet.map(best_df.set_index('trait_pair')['Trait'].to_dict()))\n",
    "    tiss_df['Domain']  = tiss_df.Domain.apply(lambda x: x.lower())\n",
    "    tiss_df['log2FoldChange'] = np.log2(tiss_df['fold.change'])\n",
    "    tiss_df['EFO'] = tiss_df.GeneSet.map(best_df.set_index('trait_pair')['EFO'].to_dict())\n",
    "    return tiss_df"
   ]
  },
  {
   "cell_type": "code",
   "execution_count": 108,
   "metadata": {
    "ExecuteTime": {
     "end_time": "2025-06-22T21:34:42.781441Z",
     "start_time": "2025-06-22T21:34:42.776851Z"
    }
   },
   "outputs": [],
   "source": [
    "best_df = best_df.merge(info_df.loc[:, ('EFO', 'Domain')], on=['EFO'], how='left')"
   ]
  },
  {
   "cell_type": "raw",
   "metadata": {
    "ExecuteTime": {
     "end_time": "2025-06-18T02:40:52.822259Z",
     "start_time": "2025-06-18T02:40:52.766135Z"
    }
   },
   "source": [
    "best_df = pd.read_csv(os.path.join('/cellar/users/snwright/Data/RareCommon/outputs/key_files/best_coloc_overlap.txt'), sep='\\t')\n",
    "\n",
    "domain_info = pd.read_csv('/cellar/users/snwright/Data/RareCommon/outputs/key_files/domain_trait_type.txt', sep='\\t', index_col=0)\n",
    "best_df = best_df.merge(domain_info.loc[:, ('EFO', 'Domain')], on=['EFO'], how='left')\n"
   ]
  },
  {
   "cell_type": "code",
   "execution_count": 104,
   "metadata": {
    "ExecuteTime": {
     "end_time": "2025-06-22T21:29:58.447261Z",
     "start_time": "2025-06-22T21:29:58.441897Z"
    }
   },
   "outputs": [],
   "source": [
    "relevant_tissues = {\n",
    "       'Renal': ['Kidney'], \n",
    "       'Immunological':['Appendix', 'Spleen', 'Tonsil'], \n",
    "       'Psychiatric' :['Cerebral Cortex'], \n",
    "       'Infection': [],\n",
    "       'Cardiovascular': ['Heart Muscle'],\n",
    "       'Gastrointestinal':['Colon', 'Duodenum', 'Esophagus', 'Gallbladder', 'Rectum', 'Small Intestine', 'Stomach'], \n",
    "       'Endocrine': ['Adrenal Gland', 'Pancreas', 'Thyroid Gland'], \n",
    "       'Reproductive': ['Cervix, uterine', 'Endometrium', 'Fallopian Tube', 'Ovary', 'Placenta', 'Prostate', 'Testis'],\n",
    "       'Hematological':['Bone Marrow'], \n",
    "       'Metabolic': ['Liver', 'Pancreas'], \n",
    "       'Skeletal': [], \n",
    "       'Neurological': ['Cerebral Cortex'], \n",
    "       'Pain': [],\n",
    "       'Anthropometric': ['Adipose Tissue'], \n",
    "       'EarNoseThroat': [], \n",
    "       'Respiratory': ['Lung'], \n",
    "       'Opthamological': [],\n",
    "       'Neoplasm': [], \n",
    "       'Dermatological': ['Skin'], \n",
    "       'Other': [], \n",
    "       'Muscular':['Skeletal Muscle', 'Smooth Muscle'],\n",
    "       'Lipid Measurment': ['Liver', 'Gallbladder'], \n",
    "       'Hepatic': ['Liver'] \n",
    "}\n",
    "\n",
    "exclude_hpa = ['Infection', 'Skeletal', 'Pain', 'EarNoseThroat', 'Opthamological', 'Neoplasm', 'Other']\n",
    "\n",
    "gtex_tissues = {\n",
    "    \n",
    "       'Renal': ['Kidney'], \n",
    "       'Immunological':['Appendix', 'Spleen', 'Tonsil'], \n",
    "       'Psychiatric' :['Brain', 'Nerve'], \n",
    "       'Infection': [],\n",
    "       'Cardiovascular': ['Artery', 'Heart', 'Muscle'],\n",
    "       'Gastrointestinal':['Colon', 'Esophagus', 'Small Intestine', 'Stomach'], \n",
    "       'Endocrine': ['Adrenal Gland', 'Pancreas', 'Thyroid', 'Pituitary'], \n",
    "       'Reproductive': ['Cervix Uteri', 'Ovary', 'Prostate', 'Testis', 'Uterus', 'Vagina'],\n",
    "       'Hematological':[], \n",
    "       'Metabolic': ['Liver', 'Pancreas'], \n",
    "       'Skeletal': [], \n",
    "       'Neurological': ['Cerebral Cortex'], \n",
    "       'Pain': [],\n",
    "       'Anthropometric': ['Adipose Tissue'], \n",
    "       'EarNoseThroat': [], \n",
    "       'Respiratory': ['Lung'], \n",
    "       'Opthamological': [],\n",
    "       'Neoplasm': [], \n",
    "       'Dermatological': ['Skin'], \n",
    "       'Other': [], \n",
    "       'Muscular':['Muscle'],\n",
    "       'Lipid Measurment': ['Liver'], \n",
    "       'Hepatic': ['Liver'] \n",
    "    \n",
    "}\n",
    "\n",
    "exclude_gtex = ['Infection', 'Hematological', 'Skeletal', 'Pain', 'EarNoseThroat', 'Opthamological', 'Neoplasm', 'Other']"
   ]
  },
  {
   "cell_type": "code",
   "execution_count": 112,
   "metadata": {
    "ExecuteTime": {
     "end_time": "2025-06-22T21:35:09.550936Z",
     "start_time": "2025-06-22T21:35:09.491778Z"
    }
   },
   "outputs": [
    {
     "name": "stderr",
     "output_type": "stream",
     "text": [
      "/cellar/users/snwright/anaconda3/envs/carva/lib/python3.10/site-packages/pandas/core/arraylike.py:399: RuntimeWarning: divide by zero encountered in log2\n",
      "  result = getattr(ufunc, method)(*inputs, **kwargs)\n",
      "/cellar/users/snwright/anaconda3/envs/carva/lib/python3.10/site-packages/pandas/core/arraylike.py:399: RuntimeWarning: divide by zero encountered in log2\n",
      "  result = getattr(ufunc, method)(*inputs, **kwargs)\n",
      "/cellar/users/snwright/anaconda3/envs/carva/lib/python3.10/site-packages/pandas/core/arraylike.py:399: RuntimeWarning: divide by zero encountered in log2\n",
      "  result = getattr(ufunc, method)(*inputs, **kwargs)\n",
      "/cellar/users/snwright/anaconda3/envs/carva/lib/python3.10/site-packages/pandas/core/arraylike.py:399: RuntimeWarning: divide by zero encountered in log2\n",
      "  result = getattr(ufunc, method)(*inputs, **kwargs)\n"
     ]
    }
   ],
   "source": [
    "t_net = load_results('All_nodes_TissEnrich_HPA.txt', best_df, os.path.join(datadir, 'outputs'))\n",
    "t_shared = load_results('shared_nodes_TissEnrich_HPA.txt', best_df,os.path.join(datadir, 'outputs'))\n",
    "t_prioritized = load_results('prioritized_nodes_TissEnrich_HPA.txt', best_df, os.path.join(datadir, 'outputs'))\n",
    "t_inputs = load_results('input_nodes_TissEnrich_HPA.txt', best_df, os.path.join(datadir, 'outputs'))"
   ]
  },
  {
   "cell_type": "code",
   "execution_count": 113,
   "metadata": {
    "ExecuteTime": {
     "end_time": "2025-06-22T21:35:14.155751Z",
     "start_time": "2025-06-22T21:35:14.152218Z"
    }
   },
   "outputs": [],
   "source": [
    "from tqdm import tqdm\n",
    "def count_relevant_enrichments_by_domain(tiss1, domain, relevant_tissues):\n",
    "    count_df = tiss1[tiss1.Domain==domain.lower()]\n",
    "    all_efos = count_df.EFO.unique()\n",
    "    count_df = count_df.dropna()\n",
    "    count_df = count_df[(count_df.Log10PValue > -1 * np.log10(0.05)) & (count_df.log2FoldChange > 0) & (count_df.Tissue.isin(relevant_tissues[domain]))]\n",
    "    if len(count_df) > 0:\n",
    "        counts = count_df.EFO.value_counts().to_dict()\n",
    "    else:\n",
    "        counts = {}\n",
    "    return counts, len(all_efos)\n",
    "\n",
    "def get_efos_per_domain(tiss_df, relevant_tissues):\n",
    "    domain_counts = {}\n",
    "    for domain in relevant_tissues.keys():\n",
    "        counts, all_efos = count_relevant_enrichments_by_domain(tiss_df, domain, relevant_tissues)\n",
    "        domain_counts[domain] = all_efos\n",
    "    return domain_counts\n"
   ]
  },
  {
   "cell_type": "code",
   "execution_count": 114,
   "metadata": {
    "ExecuteTime": {
     "end_time": "2025-06-22T21:35:16.397173Z",
     "start_time": "2025-06-22T21:35:16.342774Z"
    }
   },
   "outputs": [],
   "source": [
    "efo_counts = get_efos_per_domain(t_net, relevant_tissues)"
   ]
  },
  {
   "cell_type": "code",
   "execution_count": 115,
   "metadata": {
    "ExecuteTime": {
     "end_time": "2025-06-22T21:35:17.453600Z",
     "start_time": "2025-06-22T21:35:17.449072Z"
    }
   },
   "outputs": [],
   "source": [
    "def get_enriched_fractions(t_net, t_shared, t_inputs, t_prioritized, relevant_tissues, efo_counts, subset= None, names=['Colocalized Network', 'Shared Assoc.', 'All Assoc.', 'Prioritized Assoc.'], \n",
    "                           return_counts=False):\n",
    "    results = {n: {} for n in names}\n",
    "    for i,  df in enumerate([t_net, t_shared, t_inputs, t_prioritized]):\n",
    "        if subset is not None:\n",
    "            df = df[df.EFO.isin(subset)]\n",
    "        for domain in tqdm(relevant_tissues.keys()):\n",
    "            if len(relevant_tissues[domain]) > 0:\n",
    "                counts, _ = count_relevant_enrichments_by_domain(df, domain, relevant_tissues)\n",
    "                if efo_counts[domain] > 0:\n",
    "                    if return_counts:\n",
    "                        results[names[i]][domain] = len(counts)\n",
    "                    else:\n",
    "                        results[names[i]][domain] = len(counts)/efo_counts[domain]\n",
    "    return results"
   ]
  },
  {
   "cell_type": "code",
   "execution_count": 116,
   "metadata": {
    "ExecuteTime": {
     "end_time": "2025-06-22T21:35:19.432461Z",
     "start_time": "2025-06-22T21:35:19.295196Z"
    }
   },
   "outputs": [
    {
     "name": "stderr",
     "output_type": "stream",
     "text": [
      "100%|██████████| 23/23 [00:00<00:00, 601.71it/s]\n",
      "100%|██████████| 23/23 [00:00<00:00, 984.42it/s]\n",
      "100%|██████████| 23/23 [00:00<00:00, 621.27it/s]\n",
      "100%|██████████| 23/23 [00:00<00:00, 724.68it/s]\n"
     ]
    }
   ],
   "source": [
    "results = get_enriched_fractions(t_net, t_shared, t_inputs, t_prioritized, relevant_tissues, efo_counts)"
   ]
  },
  {
   "cell_type": "code",
   "execution_count": 117,
   "metadata": {
    "ExecuteTime": {
     "end_time": "2025-06-22T21:35:24.279521Z",
     "start_time": "2025-06-22T21:35:24.275858Z"
    }
   },
   "outputs": [],
   "source": [
    "def plot_frac4(results):\n",
    "    plot_df = pd.DataFrame(results).reset_index(names='Domain').melt(id_vars='Domain', var_name='Set', value_name='Frac')\n",
    "    order = pd.DataFrame(results).sort_values(by='Colocalized Network', ascending=False).index\n",
    "    _ = plt.figure(figsize=(2.5, 1))\n",
    "    sns.barplot(plot_df, x='Domain', y='Frac', hue='Set', hue_order=['Colocalized Network','Prioritized Assoc.', 'All Assoc.' ,'Shared Assoc.'], \n",
    "                palette= ['#441F5D', '#8D3B72', '#F78154', '#AF3800'],  saturation=1, order=order, edgecolor='black')\n",
    "    _ = plt.xticks(rotation=90, ha='right')\n",
    "    plt.ylabel('Fraction of Traits')\n",
    "    plt.xlabel('Relevant Tissue Enrichments by Domain')"
   ]
  },
  {
   "cell_type": "code",
   "execution_count": 118,
   "metadata": {
    "ExecuteTime": {
     "end_time": "2025-06-22T21:35:25.315970Z",
     "start_time": "2025-06-22T21:35:24.918784Z"
    }
   },
   "outputs": [
    {
     "data": {
      "image/png": "[encoded data removed]",
      "text/plain": [
       "<Figure size 250x100 with 1 Axes>"
      ]
     },
     "metadata": {},
     "output_type": "display_data"
    }
   ],
   "source": [
    "plot_frac4(results)"
   ]
  },
  {
   "cell_type": "markdown",
   "metadata": {},
   "source": [
    "## SFig 1C - Network Repeats"
   ]
  },
  {
   "cell_type": "code",
   "execution_count": 119,
   "metadata": {
    "ExecuteTime": {
     "end_time": "2025-06-22T21:36:05.034463Z",
     "start_time": "2025-06-22T21:36:05.031564Z"
    }
   },
   "outputs": [
    {
     "data": {
      "text/plain": [
       "Index(['EFO', 'Trait', 'Common Study', 'Rare Study', 'Analysis Set', 'nCommon',\n",
       "       'nRare', 'nShared', 'pShared', 'Network', 'Observed Size',\n",
       "       'Expected Size', 'Log2SizeOE', 'COLOC Score', 'COLOC p', 'COLOC -logp',\n",
       "       'Optimal COLOC', 'Observed Size PC22', 'Expected Size PC22',\n",
       "       'Log2SizeOE PC22', 'COLOC Score PC22', 'COLOC P PC22',\n",
       "       'COLOC -logp PC22', 'Observed Size HN', 'Expected Size HN',\n",
       "       'Log2SizeOE HN', 'COLOC Score HN', 'COLOC P HN', 'COLOC -logp HN',\n",
       "       'Observed Size ST', 'Expected Size ST', 'Log2SizeOE ST',\n",
       "       'COLOC Score ST', 'COLOC P ST', 'COLOC -logp ST', 'trait_pair'],\n",
       "      dtype='object')"
      ]
     },
     "execution_count": 119,
     "metadata": {},
     "output_type": "execute_result"
    }
   ],
   "source": [
    "coloc_df.columns"
   ]
  },
  {
   "cell_type": "code",
   "execution_count": 142,
   "metadata": {
    "ExecuteTime": {
     "end_time": "2025-06-22T21:42:22.157891Z",
     "start_time": "2025-06-22T21:42:22.152897Z"
    }
   },
   "outputs": [],
   "source": [
    "pc22 = coloc_df.dropna(subset='Observed Size PC22')\n",
    "pc22 = pc22.loc[: , ['EFO', 'Trait', 'Common Study', 'Rare Study', 'Analysis Set', 'nCommon',\n",
    "       'nRare', 'nShared', 'pShared', 'Network','Observed Size PC22', 'Expected Size PC22',\n",
    "       'Log2SizeOE PC22', 'COLOC Score PC22', 'COLOC P PC22',\n",
    "       'COLOC -logp PC22', 'trait_pair']]\n",
    "pc22.columns=  ['EFO', 'Trait', 'Common Study', 'Rare Study', 'Analysis Set', 'nCommon',\n",
    "       'nRare', 'nShared', 'pShared', 'Network','Observed Size', 'Expected Size',\n",
    "       'Log2SizeOE', 'COLOC Score', 'COLOC P',\n",
    "       'COLOC -logp', 'trait_pair']\n",
    "pc22['Network'] = 'pcnet2_2'"
   ]
  },
  {
   "cell_type": "code",
   "execution_count": 137,
   "metadata": {
    "ExecuteTime": {
     "end_time": "2025-06-22T21:42:06.496518Z",
     "start_time": "2025-06-22T21:42:06.491243Z"
    }
   },
   "outputs": [],
   "source": [
    "string = coloc_df.dropna(subset='Observed Size ST')\n",
    "string = string.loc[: , ['EFO', 'Trait', 'Common Study', 'Rare Study', 'Analysis Set', 'nCommon',\n",
    "       'nRare', 'nShared', 'pShared', 'Network','Observed Size ST', 'Expected Size ST',\n",
    "       'Log2SizeOE ST', 'COLOC Score ST', 'COLOC P ST',\n",
    "       'COLOC -logp ST', 'trait_pair']]\n",
    "string.columns=  ['EFO', 'Trait', 'Common Study', 'Rare Study', 'Analysis Set', 'nCommon',\n",
    "       'nRare', 'nShared', 'pShared', 'Network','Observed Size', 'Expected Size',\n",
    "       'Log2SizeOE', 'COLOC Score', 'COLOC P',\n",
    "       'COLOC -logp', 'trait_pair']\n",
    "string['Network'] = 'stringHC'"
   ]
  },
  {
   "cell_type": "code",
   "execution_count": 138,
   "metadata": {
    "ExecuteTime": {
     "end_time": "2025-06-22T21:42:07.524601Z",
     "start_time": "2025-06-22T21:42:07.519677Z"
    }
   },
   "outputs": [],
   "source": [
    "humannet = coloc_df.dropna(subset='Observed Size HN')\n",
    "humannet = humannet.loc[: , ['EFO', 'Trait', 'Common Study', 'Rare Study', 'Analysis Set', 'nCommon',\n",
    "       'nRare', 'nShared', 'pShared', 'Network','Observed Size HN', 'Expected Size HN',\n",
    "       'Log2SizeOE HN', 'COLOC Score HN', 'COLOC P HN',\n",
    "       'COLOC -logp HN', 'trait_pair']]\n",
    "humannet.columns=  ['EFO', 'Trait', 'Common Study', 'Rare Study', 'Analysis Set', 'nCommon',\n",
    "       'nRare', 'nShared', 'pShared', 'Network','Observed Size', 'Expected Size',\n",
    "       'Log2SizeOE', 'COLOC Score', 'COLOC P',\n",
    "       'COLOC -logp', 'trait_pair']\n",
    "humannet['Network'] = 'humannet'"
   ]
  },
  {
   "cell_type": "code",
   "execution_count": 143,
   "metadata": {
    "ExecuteTime": {
     "end_time": "2025-06-22T21:42:23.983157Z",
     "start_time": "2025-06-22T21:42:23.979783Z"
    }
   },
   "outputs": [],
   "source": [
    "df2 = pd.concat([pc22, humannet, string])"
   ]
  },
  {
   "cell_type": "code",
   "execution_count": 135,
   "metadata": {
    "ExecuteTime": {
     "end_time": "2025-06-22T21:41:08.731237Z",
     "start_time": "2025-06-22T21:41:08.728241Z"
    }
   },
   "outputs": [
    {
     "data": {
      "text/plain": [
       "array(['PCNet2.0'], dtype=object)"
      ]
     },
     "execution_count": 135,
     "metadata": {},
     "output_type": "execute_result"
    }
   ],
   "source": [
    "df2.Network.unique()"
   ]
  },
  {
   "cell_type": "code",
   "execution_count": 144,
   "metadata": {
    "ExecuteTime": {
     "end_time": "2025-06-22T21:42:24.501019Z",
     "start_time": "2025-06-22T21:42:24.491560Z"
    }
   },
   "outputs": [],
   "source": [
    "all_compare = best_df.loc[:, ( 'trait_pair', 'Log2SizeOE', 'COLOC -logp')].merge(df2[df2.Network=='pcnet2_2'].loc[:, ('trait_pair', 'Log2SizeOE', 'COLOC -logp')],\n",
    "                                                                              on='trait_pair', suffixes=['', '22'], how='left')\n",
    "all_compare = all_compare.merge(df2[df2.Network=='humannet'].loc[:, ('trait_pair', 'Log2SizeOE', 'COLOC -logp')],\n",
    "                               on='trait_pair', suffixes=['', 'HN'], how='left')\n",
    "all_compare = all_compare.merge(df2[df2.Network=='stringHC'].loc[:, ('trait_pair', 'Log2SizeOE', 'COLOC -logp')],\n",
    "                               on='trait_pair', suffixes=['', 'ST'], how='left')"
   ]
  },
  {
   "cell_type": "code",
   "execution_count": 146,
   "metadata": {
    "ExecuteTime": {
     "end_time": "2025-06-22T21:42:29.725381Z",
     "start_time": "2025-06-22T21:42:29.289056Z"
    }
   },
   "outputs": [
    {
     "data": {
      "image/png": "[encoded data removed]",
      "text/plain": [
       "<Figure size 200x300 with 6 Axes>"
      ]
     },
     "metadata": {},
     "output_type": "display_data"
    }
   ],
   "source": [
    "_, [[ax1, ax4],[ax2, ax5], [ax3,ax6]] = plt.subplots(nrows=3, ncols=2, figsize=(2,3), sharex=False, sharey=False, gridspec_kw={'hspace':0.4, 'wspace':0.4})\n",
    "\n",
    "nets = ['', '22', 'HN', 'ST']\n",
    "net_names = {'':'PCNet2.0', '22':'PCNet2.2', 'HN':'HumanNet', 'ST': 'STRING-HC'}\n",
    "R = all_compare.corr(method='spearman', numeric_only=True)\n",
    "\n",
    "pairs = [('', '22'), ('', 'HN'), ('', 'ST'), ('HN', '22'), ('ST', 'HN'), ('22', 'ST')]\n",
    "axs = [ax1, ax2, ax3, ax4, ax5, ax6]\n",
    "rs = []\n",
    "for i, p in enumerate(pairs):\n",
    "    ax = axs[i]\n",
    "    n1=p[1]\n",
    "    n2=p[0]\n",
    "    sns.scatterplot(all_compare, x=f'Log2SizeOE{n2}', y=f'Log2SizeOE{n1}', s=3, ax=ax, color='#8D3B72', alpha=0.7, edgecolor=None)\n",
    "    n = all_compare.loc[:, (f'Log2SizeOE{n2}', f'Log2SizeOE{n1}')].dropna().shape\n",
    "    ax.vlines(x=0, ymin=-1.5, ymax=3,color='black', linewidth=0.5,)\n",
    "    ax.hlines(y=0, xmin=-1.5, xmax=3,color='black', linewidth=0.5,)\n",
    "    for x in [1, 2]:\n",
    "        ax.vlines(x=x, ymin=-1.5, ymax=np.abs(x), color='grey', linewidth=0.3, linestyle='-')\n",
    "        ax.hlines(y=x, xmin=-1.5, xmax=np.abs(x), color='grey', linewidth=0.3, linestyle='-')\n",
    "    ax.set_xlim(-1.5, 3)\n",
    "    ax.set_ylim(-1.5, 3)\n",
    "    r = R.at[f'Log2SizeOE{n1}', f'Log2SizeOE{n2}']\n",
    "    rs.append(r)\n",
    "    ax.text(1.1, -1.3, s=f'r:{r:.2f}\\nn:{n[0]}')\n",
    "    ax.set_ylabel(net_names[n1])\n",
    "    ax.set_xlabel(net_names[n2])\n",
    "    if i <3:\n",
    "        ax.set_yticks([-1, 0, 1, 2, 3], labels=[0.5, 1, 2, 4, 8])\n",
    "        _ = ax.set_yticks(np.log2([3,5,6, 7]), minor=True)\n",
    "    else:\n",
    "        ax.set_yticks([-1, 0, 1, 2, 3], labels=[])\n",
    "        _ = ax.set_yticks(np.log2([3,5,6, 7]), minor=True)\n",
    "    if i in [2,5]:\n",
    "        ax.set_xticks([-1, 0, 1, 2, 3], labels=[0.5, 1, 2, 4, 8])\n",
    "        _ = ax.set_xticks(np.log2([3,5,6, 7]), minor=True)\n",
    "    else:\n",
    "        ax.set_xticks([-1, 0, 1, 2, 3], labels=[])\n",
    "        _ = ax.set_xticks(np.log2([3,5,6, 7]), minor=True)\n"
   ]
  },
  {
   "cell_type": "code",
   "execution_count": 147,
   "metadata": {
    "ExecuteTime": {
     "end_time": "2025-06-22T21:42:31.666531Z",
     "start_time": "2025-06-22T21:42:31.664310Z"
    }
   },
   "outputs": [
    {
     "name": "stdout",
     "output_type": "stream",
     "text": [
      "Mean correlation: 0.9194813395404345\n"
     ]
    }
   ],
   "source": [
    "print('Mean correlation:',  np.mean(rs))"
   ]
  }
 ],
 "metadata": {
  "kernelspec": {
   "display_name": "Python (CARVA)",
   "language": "python",
   "name": "carva"
  },
  "language_info": {
   "codemirror_mode": {
    "name": "ipython",
    "version": 3
   },
   "file_extension": ".py",
   "mimetype": "text/x-python",
   "name": "python",
   "nbconvert_exporter": "python",
   "pygments_lexer": "ipython3",
   "version": "3.10.0"
  },
  "toc": {
   "base_numbering": 1,
   "nav_menu": {},
   "number_sections": true,
   "sideBar": true,
   "skip_h1_title": false,
   "title_cell": "Table of Contents",
   "title_sidebar": "Contents",
   "toc_cell": false,
   "toc_position": {},
   "toc_section_display": true,
   "toc_window_display": true
  },
  "varInspector": {
   "cols": {
    "lenName": 16,
    "lenType": 16,
    "lenVar": 40
   },
   "kernels_config": {
    "python": {
     "delete_cmd_postfix": "",
     "delete_cmd_prefix": "del ",
     "library": "var_list.py",
     "varRefreshCmd": "print(var_dic_list())"
    },
    "r": {
     "delete_cmd_postfix": ") ",
     "delete_cmd_prefix": "rm(",
     "library": "var_list.r",
     "varRefreshCmd": "cat(var_dic_list()) "
    }
   },
   "types_to_exclude": [
    "module",
    "function",
    "builtin_function_or_method",
    "instance",
    "_Feature"
   ],
   "window_display": false
  }
 },
 "nbformat": 4,
 "nbformat_minor": 2
}
