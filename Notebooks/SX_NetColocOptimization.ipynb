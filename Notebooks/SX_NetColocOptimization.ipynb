{
 "cells": [
  {
   "cell_type": "markdown",
   "metadata": {},
   "source": [
    "# Supplemental Notebook - NetColoc Optimization\n",
    "\n",
    "Figures generated:\n",
    "- SFigure 4A\n",
    "- SFigure 4B\n",
    "- SFigure 4C\n",
    "- SFigure 4D"
   ]
  },
  {
   "cell_type": "markdown",
   "metadata": {},
   "source": [
    "### Set Up"
   ]
  },
  {
   "cell_type": "code",
   "execution_count": 152,
   "metadata": {
    "ExecuteTime": {
     "end_time": "2025-06-21T22:43:49.309002Z",
     "start_time": "2025-06-21T22:43:49.304568Z"
    }
   },
   "outputs": [],
   "source": [
    "import pandas as pd\n",
    "import numpy as np\n",
    "import matplotlib.pyplot as plt\n",
    "import matplotlib\n",
    "import matplotlib.font_manager as fm\n",
    "import seaborn as sns\n",
    "import os\n",
    "from collections import defaultdict\n",
    "from tqdm import tqdm\n",
    "import networkx as nx\n",
    "from matplotlib_venn import venn2, venn3\n",
    "from neteval import gene_mapper as gm\n",
    "from neteval import query_ensembl as qe\n",
    "from neteval import query_hgnc as qh\n",
    "import obonet as obo\n",
    "import random as rn\n",
    "import glob\n",
    "import re\n",
    "import matplotlib.colors as mcolors\n",
    "cmapx = mcolors.LinearSegmentedColormap.from_list(\"my_cmap\", ['#F5D1A0','#F08E02', '#BD6E01'])\n",
    "import pandas as pd\n",
    "from sklearn.metrics import roc_auc_score\n",
    "from scipy.stats import mannwhitneyu"
   ]
  },
  {
   "cell_type": "code",
   "execution_count": 153,
   "metadata": {
    "ExecuteTime": {
     "end_time": "2025-06-21T22:43:56.654722Z",
     "start_time": "2025-06-21T22:43:56.652752Z"
    }
   },
   "outputs": [],
   "source": [
    "cwd = os.getcwd()\n",
    "datadir = os.path.join(cwd, '../outputs')"
   ]
  },
  {
   "cell_type": "code",
   "execution_count": 150,
   "metadata": {
    "ExecuteTime": {
     "end_time": "2025-06-21T22:42:02.576993Z",
     "start_time": "2025-06-21T22:42:02.574084Z"
    }
   },
   "outputs": [
    {
     "data": {
      "text/plain": [
       "'/cellar/users/snwright/Git/rare_common/Notebooks'"
      ]
     },
     "execution_count": 150,
     "metadata": {},
     "output_type": "execute_result"
    }
   ],
   "source": [
    "cwd"
   ]
  },
  {
   "cell_type": "code",
   "execution_count": 2,
   "metadata": {
    "ExecuteTime": {
     "end_time": "2025-06-16T21:03:50.962427Z",
     "start_time": "2025-06-16T21:03:50.960334Z"
    }
   },
   "outputs": [],
   "source": [
    "datadir='/cellar/users/snwright/Data/RareCommon/inputs/testing/'\n",
    "resdir= '/cellar/users/snwright/Data/RareCommon/outputs/netcoloc/testing/'\n",
    "outdir='/cellar/users/snwright/Data/Transfer/RVC/'\n",
    "figdir='/cellar/users/snwright/Data/Transfer/RVC/figures/QTesting2_BinTh/'"
   ]
  },
  {
   "cell_type": "code",
   "execution_count": 156,
   "metadata": {
    "ExecuteTime": {
     "end_time": "2025-06-21T22:44:17.986840Z",
     "start_time": "2025-06-21T22:44:17.981395Z"
    }
   },
   "outputs": [],
   "source": [
    "arial_font_path = os.path.join(cwd, '../Reference_Data/Arial.TTF')\n",
    "fm.fontManager.addfont(arial_font_path)\n",
    "matplotlib.rcParams['font.family'] = 'Arial'\n",
    "plt.rcParams['svg.fonttype'] = 'none'\n",
    "plt.rcParams.update({'font.size': 7})\n",
    "plt.rcParams['axes.linewidth'] = 0.5\n",
    "plt.rcParams['hatch.linewidth'] = 0.5\n",
    "plt.rcParams['xtick.major.width'] = 0.4\n",
    "plt.rcParams['ytick.major.width'] = 0.4\n",
    "plt.rcParams['xtick.minor.width'] = 0.3\n",
    "plt.rcParams['ytick.minor.width'] = 0.3\n",
    "plt.rcParams['legend.frameon'] = False\n",
    "plt.rcParams['xtick.major.size'] = 3\n",
    "plt.rcParams['ytick.major.size'] = 3\n",
    "plt.rcParams['xtick.minor.size'] = 2\n",
    "plt.rcParams['ytick.minor.size'] = 2\n",
    "plt.rcParams['xtick.major.pad'] = 1\n",
    "plt.rcParams['ytick.major.pad'] = 1\n",
    "plt.rcParams['axes.labelpad'] = 1\n",
    "plt.rcParams['patch.linewidth'] = 0.25"
   ]
  },
  {
   "cell_type": "markdown",
   "metadata": {},
   "source": [
    "## Identification of Optimization Traits"
   ]
  },
  {
   "cell_type": "code",
   "execution_count": null,
   "metadata": {},
   "outputs": [],
   "source": []
  },
  {
   "cell_type": "code",
   "execution_count": null,
   "metadata": {},
   "outputs": [],
   "source": []
  },
  {
   "cell_type": "markdown",
   "metadata": {},
   "source": [
    "## Load Data"
   ]
  },
  {
   "cell_type": "code",
   "execution_count": 278,
   "metadata": {
    "ExecuteTime": {
     "end_time": "2025-06-22T00:00:23.287122Z",
     "start_time": "2025-06-22T00:00:23.262644Z"
    }
   },
   "outputs": [],
   "source": [
    "all_data = pd.read_csv(os.path.join(cwd, '../outputs/STable5.tsv'), sep='\\t')\n",
    "all_data['logp_size'] = all_data['COLOC P'].apply(lambda x: -1 * np.log10(x+ 1e-250))"
   ]
  },
  {
   "cell_type": "markdown",
   "metadata": {},
   "source": [
    "## Evaluation Functions"
   ]
  },
  {
   "cell_type": "code",
   "execution_count": 289,
   "metadata": {
    "ExecuteTime": {
     "end_time": "2025-06-22T00:04:58.902479Z",
     "start_time": "2025-06-22T00:04:58.887707Z"
    }
   },
   "outputs": [],
   "source": [
    "def calculate_auc(df_in, value_col, processing_col, normalization_col, control_col, control_labels):\n",
    "    \"\"\"\n",
    "    Calculate the AUC for each combination of processing and normalization methods.\n",
    "\n",
    "    Args:\n",
    "        df (pd.DataFrame): Input dataframe containing the data.\n",
    "        value_col (str): Column containing the score values.\n",
    "        processing_col (str): Column specifying input processing methods.\n",
    "        normalization_col (str): Column specifying normalization methods.\n",
    "        control_col (str): Column indicating positive/negative controls.\n",
    "        control_labels (tuple): Tuple with positive and negative labels (e.g., ('positive', 'negative')).\n",
    "\n",
    "    Returns:\n",
    "        pd.DataFrame: AUC scores for each method combination.\n",
    "    \"\"\"\n",
    "    results = []\n",
    "    df = df_in.copy().dropna(subset=value_col)\n",
    "    \n",
    "    for (proc, norm), group in df.groupby([processing_col, normalization_col]):\n",
    "        y_true = group[control_col].apply(lambda x: 1 if x == control_labels[0] else 0)\n",
    "        try:\n",
    "            auc_score = roc_auc_score(y_true, group[value_col])\n",
    "        except Exception as e:\n",
    "            print(e)\n",
    "            return y_true, group[value_col]\n",
    "        results.append({\n",
    "            processing_col: proc,\n",
    "            normalization_col: norm,\n",
    "            'AUC': auc_score\n",
    "        })\n",
    "    \n",
    "    return pd.DataFrame(results)\n",
    "\n",
    "\n",
    "def perform_mann_whitney(df_in, value_col, processing_col, normalization_col, control_col, control_labels):\n",
    "    \"\"\"\n",
    "    Perform Mann-Whitney U test for each combination of processing and normalization methods.\n",
    "\n",
    "    Args:\n",
    "        df (pd.DataFrame): Input dataframe containing the data.\n",
    "        value_col (str): Column containing the score values.\n",
    "        processing_col (str): Column specifying input processing methods.\n",
    "        normalization_col (str): Column specifying normalization methods.\n",
    "        control_col (str): Column indicating positive/negative controls.\n",
    "        control_labels (tuple): Tuple with positive and negative labels (e.g., ('positive', 'negative')).\n",
    "\n",
    "    Returns:\n",
    "        pd.DataFrame: Mann-Whitney U test statistics and p-values for each method combination.\n",
    "    \"\"\"\n",
    "    results = []\n",
    "    df = df_in.copy().dropna(subset=value_col)\n",
    "    for (proc, norm), group in df.groupby([processing_col, normalization_col]):\n",
    "        pos_scores = group[group[control_col] == control_labels[0]][value_col]\n",
    "        neg_scores = group[group[control_col] == control_labels[1]][value_col]\n",
    "        try:\n",
    "            u_stat, p_value = mannwhitneyu(pos_scores, neg_scores, alternative='greater')\n",
    "        except Error as e:\n",
    "            print(e)\n",
    "            return group, pos_scores, neg_scores\n",
    "        results.append({\n",
    "            processing_col: proc,\n",
    "            normalization_col: norm,\n",
    "            'U_statistic': u_stat,\n",
    "            'p_value': p_value\n",
    "        })\n",
    "    \n",
    "    return pd.DataFrame(results)\n",
    "\n",
    "\n",
    "def pair_auc(df1, df2, stats=['Mean_NPS', 'SizeOE', 'logp_size', 'logp_nps'], comp1='Group', comp2='Norm', \n",
    "             setcol='Set', pcol='logp_size', sizecol='log2SizeOE'):\n",
    "    auc_res = []\n",
    "    for stat in stats:\n",
    "        shared_tests = set(df1[df1[setcol]=='Test'].testID.unique()).intersection(set(df2[df2[setcol]=='Test'].testID.unique()))\n",
    "        shared_controls = set(df1[df1[setcol]=='Control'].testID.unique()).intersection(set(df2[df2[setcol]=='Control'].testID.unique()))\n",
    "        n=len(shared_tests)\n",
    "        #controls1 = df1[df1.Set=='Control'].sort_values('testID').iloc[0:2*n]\n",
    "        #controls2 = df2[df2.Set=='Control'].sort_values('testID').iloc[0:2*n]\n",
    "        df1 = pd.concat([df1[(df1.testID.isin(shared_tests))], df1[(df1.testID.isin(shared_controls))]])\n",
    "        df2 = pd.concat([df2[(df2.testID.isin(shared_tests))], df2[(df2.testID.isin(shared_controls))]])\n",
    "        test_df = pd.concat([df1, df2])\n",
    "        if stat == pcol:\n",
    "            test_df[pcol] = test_df.apply(lambda z: z[pcol] if z[sizecol]> 0 else -1 * z[pcol], axis=1)\n",
    "        \n",
    "        auc = calculate_auc(test_df, value_col=stat, processing_col=comp1, normalization_col=comp2, \n",
    "                                    control_col=setcol, control_labels=('Test', 'Control'))\n",
    "        mannu = perform_mann_whitney(test_df, value_col=stat, processing_col=comp1, normalization_col=comp2, \n",
    "                                   control_col=setcol, control_labels=('Test', 'Control'))\n",
    "        res = auc.merge(mannu, on=[comp1, comp2], how='outer')\n",
    "        res['stat'] = stat\n",
    "        auc_res.append(res)\n",
    "    return pd.concat(auc_res), test_df\n",
    "\n",
    "def plot_pair_auc(res_df, plot_df, ax=None, group='Group', stat='logp_size', group_col='Group', group2_col='Norm', \n",
    "                  color='lightgreen', text_p = False, text_n=False, setcol='Set'):\n",
    "    sns.violinplot(plot_df[plot_df[group_col]==group], y=stat, x=group2_col, hue=setcol,cut=0, linewidth=0.5, \n",
    "                   palette=[color, 'grey'],  zorder=1, legend=False, ax=ax, saturation=1)\n",
    "    for j, norm in enumerate(plot_df[group2_col].unique()):\n",
    "        \n",
    "        auc = float('%.3g' % res_df[(res_df[group_col]==group) & (res_df[group2_col]==norm) & (res_df.stat==stat)].AUC.values[0])\n",
    "        if text_p:\n",
    "            p = float('%.2g' % res_df[(res_df[group_col]==group) & (res_df[group2_col]==norm) & (res_df.stat==stat)].p_value.values[0])\n",
    "            ax.text(x=j-0.1, y=plot_df[stat].max()*0.9, s=f'AUC:{auc}\\np:{p}', fontsize=7)\n",
    "        elif text_n:\n",
    "            n = int(plot_df[plot_df[group_col]==group].groupby(group2_col)[setcol].value_counts().values[0])\n",
    "            ax.text(x=j-0.1, y=plot_df[stat].max()*0.9, s=f'AUC:{auc}\\nn={n}', fontsize=7)\n",
    "        else:\n",
    "            ax.text(x=j-0.1, y=plot_df[stat].max()*0.9, s=f'AUC:{auc}', fontsize=7)\n",
    "    if (stat == 'SizeOE') or (stat=='log2SizeOE'):\n",
    "        _ = ax.set_yticks([-1, 0, 1, 2, 3], [0.5, 1, 2, 4, 8])\n",
    "        _ = ax.set_yticks(np.log2([3,5,6,7]), minor=True)\n",
    "    \n",
    "    testId_counts =  plot_df[plot_df[group_col]==group].groupby(group2_col)[setcol].value_counts()\n",
    "    minor_label = []\n",
    "    for g in plot_df[plot_df[group_col]==group][group2_col].unique():\n",
    "        for s in ['Test', 'Control']:\n",
    "            minor_label.append(f'n={testId_counts[g][s]}')\n",
    "    \n",
    "    ax.set_xticks([-0.2,  0.2, 0.8, 1.2], labels=minor_label, minor=True)\n",
    "    \n",
    "    return plot_df[plot_df[group_col]==group]\n"
   ]
  },
  {
   "cell_type": "markdown",
   "metadata": {},
   "source": [
    "## Bin and NPS Threshold Testing"
   ]
  },
  {
   "cell_type": "markdown",
   "metadata": {},
   "source": [
    "### SFigure 4A -  Thresholds"
   ]
  },
  {
   "cell_type": "code",
   "execution_count": 182,
   "metadata": {
    "ExecuteTime": {
     "end_time": "2025-06-21T23:01:42.894969Z",
     "start_time": "2025-06-21T23:01:42.888343Z"
    }
   },
   "outputs": [],
   "source": [
    "th_data = all_data[all_data['Parameter Tested']=='th'].copy()\n",
    "th_data['Threshold'] = [x for x in zip(th_data['T'], th_data['T*'])]"
   ]
  },
  {
   "cell_type": "code",
   "execution_count": 183,
   "metadata": {
    "ExecuteTime": {
     "end_time": "2025-06-21T23:01:51.462673Z",
     "start_time": "2025-06-21T23:01:51.182832Z"
    }
   },
   "outputs": [],
   "source": [
    "stats = ['log2COLOC Score', 'logp_size']\n",
    "th_res = []\n",
    "for stat in stats:\n",
    "    th_data = th_data[th_data['Observed Size'] > 0]\n",
    "\n",
    "    auc = calculate_auc(th_data, value_col=stat, processing_col='Threshold', normalization_col='NetColoc', \n",
    "                        control_col='TestControl', control_labels=('Test', 'Control'))\n",
    "    mannu = perform_mann_whitney(th_data, value_col=stat, processing_col='Threshold', normalization_col='NetColoc', \n",
    "                               control_col='TestControl', control_labels=('Test', 'Control'))\n",
    "    res = auc.merge(mannu, on=['Threshold', 'NetColoc'], how='outer')\n",
    "    res['stat'] = stat\n",
    "    th_res.append(res)\n",
    "th_results = pd.concat(th_res)"
   ]
  },
  {
   "cell_type": "code",
   "execution_count": 184,
   "metadata": {
    "ExecuteTime": {
     "end_time": "2025-06-21T23:01:59.016694Z",
     "start_time": "2025-06-21T23:01:59.013250Z"
    }
   },
   "outputs": [],
   "source": [
    "th_results['ThZ'] = th_results.Threshold.apply(lambda x: x[1]) \n",
    "th_results['ThZZ'] = th_results.Threshold.apply(lambda x: x[0]) \n",
    "th_results['logp'] = np.log10(th_results.p_value) * -1"
   ]
  },
  {
   "cell_type": "code",
   "execution_count": 188,
   "metadata": {
    "ExecuteTime": {
     "end_time": "2025-06-21T23:04:59.098945Z",
     "start_time": "2025-06-21T23:04:58.299641Z"
    }
   },
   "outputs": [
    {
     "data": {
      "text/plain": [
       "Text(0.5, 1.0, 'B-NetColoc')"
      ]
     },
     "execution_count": 188,
     "metadata": {},
     "output_type": "execute_result"
    },
    {
     "data": {
      "image/png": "[encoded data removed]",
      "text/plain": [
       "<Figure size 450x300 with 8 Axes>"
      ]
     },
     "metadata": {},
     "output_type": "display_data"
    }
   ],
   "source": [
    "_, [[ax1, ax2, ax3], [ax4, ax5, ax6]] = plt.subplots(nrows=2, ncols=3, figsize=(4.5, 3), sharex=True, sharey=True)\n",
    "\n",
    "sns.heatmap(th_results[(th_results.stat=='log2COLOC Score') & (th_results.NetColoc=='Quantitative(Q)')].reset_index().pivot_table(columns='ThZ', index='ThZZ', values='AUC').iloc[::-1], \n",
    "            ax=ax1, cmap='RdPu', square=True, vmax=0.85, vmin=0.5, cbar=False)\n",
    "sns.heatmap(th_results[(th_results.stat=='logp_size') & (th_results.NetColoc=='Quantitative(Q)')].reset_index().pivot_table(columns='ThZ', index='ThZZ', values='AUC').iloc[::-1], \n",
    "            ax=ax4, cmap='RdPu', square=True, vmax=0.85, vmin=0.5, cbar=False)\n",
    "sns.heatmap(th_results[th_results.stat=='logp_size'].reset_index().pivot_table(columns='ThZ', index='ThZZ', values='AUC').iloc[::-1], \n",
    "            ax=ax3, cmap='RdPu', square=True, vmax=0.85, vmin=0.5, cbar=True,cbar_kws={'shrink':1, 'orientation':'horizontal'} )\n",
    "\n",
    "\n",
    "sns.heatmap(th_results[(th_results.stat=='log2COLOC Score') & (th_results.NetColoc=='Binary(B)')].reset_index().pivot_table(columns='ThZ', index='ThZZ', values='AUC').iloc[::-1], \n",
    "            ax=ax2, cmap='YlOrRd', square=True, vmax=0.85, vmin=0.5, cbar=False)\n",
    "sns.heatmap(th_results[(th_results.stat=='logp_size') & (th_results.NetColoc=='Binary(B)')].reset_index().pivot_table(columns='ThZ', index='ThZZ', values='AUC').iloc[::-1], \n",
    "            ax=ax5, cmap='YlOrRd', square=True, vmax=0.85, vmin=0.5, cbar=False)\n",
    "sns.heatmap(th_results[(th_results.stat=='logp_size') & (th_results.NetColoc=='Binary(B)')].reset_index().pivot_table(columns='ThZ', index='ThZZ', values='AUC').iloc[::-1], \n",
    "            ax=ax6, cmap='YlOrRd', square=True, vmax=0.85, vmin=0.5, cbar=True, cbar_kws={'shrink':1, 'orientation':'horizontal'})\n",
    "\n",
    "for ax in [ax1, ax2, ax4, ax5]:\n",
    "    for spine in ax.spines.values():\n",
    "        spine.set_visible(True)      # Ensure the spine is visible         # Set the thickness of the border\n",
    "        spine.set_edgecolor('black')\n",
    "    ax.set_ylabel('')\n",
    "    ax.set_xlabel('')\n",
    "\n",
    "ax4.set_xlabel('Combined NPS Threshold')\n",
    "ax5.set_xlabel('Combined NPS Threshold')\n",
    "ax1.set_ylabel('COLOC Score\\nIndividual NPS Threshold')\n",
    "ax4.set_ylabel('COLOC P\\nIndividual NPS Threshold')\n",
    "ax1.tick_params(axis='y', rotation=0)\n",
    "ax4.tick_params(axis='y', rotation=0)\n",
    "ax1.set_title('Q-NetColoc')\n",
    "ax2.set_title('B-NetColoc')\n",
    "#plt.savefig(os.path.join(figdir, 'optimize_th_heatmaps.svg'), bbox_inches='tight')"
   ]
  },
  {
   "cell_type": "markdown",
   "metadata": {},
   "source": [
    "### SFigure 4B - Bin Size"
   ]
  },
  {
   "cell_type": "code",
   "execution_count": 191,
   "metadata": {
    "ExecuteTime": {
     "end_time": "2025-06-21T23:07:49.636462Z",
     "start_time": "2025-06-21T23:07:49.633658Z"
    }
   },
   "outputs": [
    {
     "data": {
      "text/plain": [
       "Index(['Trait1', 'Trait2', 'TestControl', 'NetColoc', 'Parameter Tested',\n",
       "       'Bin Size', 'T', 'T*', 'Observed Size', 'Expected Size',\n",
       "       'log2COLOC Score', 'COLOC P', 'LenientOrStrict', 'SNP-to-Gene',\n",
       "       'logp_size'],\n",
       "      dtype='object')"
      ]
     },
     "execution_count": 191,
     "metadata": {},
     "output_type": "execute_result"
    }
   ],
   "source": [
    "all_data.columns"
   ]
  },
  {
   "cell_type": "code",
   "execution_count": 190,
   "metadata": {
    "ExecuteTime": {
     "end_time": "2025-06-21T23:07:22.841814Z",
     "start_time": "2025-06-21T23:07:22.838581Z"
    }
   },
   "outputs": [],
   "source": [
    "bin_df = all_data[all_data['Parameter Tested']=='bin']"
   ]
  },
  {
   "cell_type": "code",
   "execution_count": 193,
   "metadata": {
    "ExecuteTime": {
     "end_time": "2025-06-21T23:08:20.490071Z",
     "start_time": "2025-06-21T23:08:20.420606Z"
    }
   },
   "outputs": [],
   "source": [
    "stats = ['log2COLOC Score', 'logp_size']\n",
    "bin_res = []\n",
    "for stat in stats:\n",
    "    auc = calculate_auc(bin_df, value_col=stat, processing_col='Bin Size', normalization_col='NetColoc', \n",
    "                        control_col='TestControl', control_labels=('Test', 'Control'))\n",
    "    mannu = perform_mann_whitney(bin_df, value_col=stat, processing_col='Bin Size', normalization_col='NetColoc', \n",
    "                               control_col='TestControl', control_labels=('Test', 'Control'))\n",
    "    res = auc.merge(mannu, on=['Bin Size', 'NetColoc'], how='outer')\n",
    "    res['stat'] = stat\n",
    "    bin_res.append(res)\n",
    "bin_results = pd.concat(bin_res)"
   ]
  },
  {
   "cell_type": "code",
   "execution_count": 197,
   "metadata": {
    "ExecuteTime": {
     "end_time": "2025-06-21T23:13:06.705376Z",
     "start_time": "2025-06-21T23:13:06.696150Z"
    }
   },
   "outputs": [
    {
     "data": {
      "text/html": [
       "<div>\n",
       "<style scoped>\n",
       "    .dataframe tbody tr th:only-of-type {\n",
       "        vertical-align: middle;\n",
       "    }\n",
       "\n",
       "    .dataframe tbody tr th {\n",
       "        vertical-align: top;\n",
       "    }\n",
       "\n",
       "    .dataframe thead th {\n",
       "        text-align: right;\n",
       "    }\n",
       "</style>\n",
       "<table border=\"1\" class=\"dataframe\">\n",
       "  <thead>\n",
       "    <tr style=\"text-align: right;\">\n",
       "      <th></th>\n",
       "      <th>Bin Size</th>\n",
       "      <th>NetColoc</th>\n",
       "      <th>AUC</th>\n",
       "      <th>U_statistic</th>\n",
       "      <th>p_value</th>\n",
       "      <th>stat</th>\n",
       "      <th>plotx</th>\n",
       "    </tr>\n",
       "  </thead>\n",
       "  <tbody>\n",
       "    <tr>\n",
       "      <th>0</th>\n",
       "      <td>5</td>\n",
       "      <td>Binary(B)</td>\n",
       "      <td>0.818053</td>\n",
       "      <td>1731.0</td>\n",
       "      <td>7.543160e-08</td>\n",
       "      <td>log2COLOC Score</td>\n",
       "      <td>0</td>\n",
       "    </tr>\n",
       "    <tr>\n",
       "      <th>1</th>\n",
       "      <td>5</td>\n",
       "      <td>Quantitative(Q)</td>\n",
       "      <td>0.813800</td>\n",
       "      <td>1722.0</td>\n",
       "      <td>1.102182e-07</td>\n",
       "      <td>log2COLOC Score</td>\n",
       "      <td>0</td>\n",
       "    </tr>\n",
       "    <tr>\n",
       "      <th>2</th>\n",
       "      <td>10</td>\n",
       "      <td>Binary(B)</td>\n",
       "      <td>0.830813</td>\n",
       "      <td>1758.0</td>\n",
       "      <td>2.349444e-08</td>\n",
       "      <td>log2COLOC Score</td>\n",
       "      <td>1</td>\n",
       "    </tr>\n",
       "    <tr>\n",
       "      <th>3</th>\n",
       "      <td>10</td>\n",
       "      <td>Quantitative(Q)</td>\n",
       "      <td>0.828450</td>\n",
       "      <td>1753.0</td>\n",
       "      <td>2.925446e-08</td>\n",
       "      <td>log2COLOC Score</td>\n",
       "      <td>1</td>\n",
       "    </tr>\n",
       "    <tr>\n",
       "      <th>4</th>\n",
       "      <td>20</td>\n",
       "      <td>Binary(B)</td>\n",
       "      <td>0.832703</td>\n",
       "      <td>1762.0</td>\n",
       "      <td>1.969338e-08</td>\n",
       "      <td>log2COLOC Score</td>\n",
       "      <td>2</td>\n",
       "    </tr>\n",
       "    <tr>\n",
       "      <th>5</th>\n",
       "      <td>20</td>\n",
       "      <td>Quantitative(Q)</td>\n",
       "      <td>0.829395</td>\n",
       "      <td>1755.0</td>\n",
       "      <td>2.680270e-08</td>\n",
       "      <td>log2COLOC Score</td>\n",
       "      <td>2</td>\n",
       "    </tr>\n",
       "    <tr>\n",
       "      <th>6</th>\n",
       "      <td>40</td>\n",
       "      <td>Binary(B)</td>\n",
       "      <td>0.817108</td>\n",
       "      <td>1729.0</td>\n",
       "      <td>8.209808e-08</td>\n",
       "      <td>log2COLOC Score</td>\n",
       "      <td>3</td>\n",
       "    </tr>\n",
       "    <tr>\n",
       "      <th>7</th>\n",
       "      <td>40</td>\n",
       "      <td>Quantitative(Q)</td>\n",
       "      <td>0.821361</td>\n",
       "      <td>1738.0</td>\n",
       "      <td>5.597771e-08</td>\n",
       "      <td>log2COLOC Score</td>\n",
       "      <td>3</td>\n",
       "    </tr>\n",
       "    <tr>\n",
       "      <th>8</th>\n",
       "      <td>80</td>\n",
       "      <td>Binary(B)</td>\n",
       "      <td>0.810019</td>\n",
       "      <td>1714.0</td>\n",
       "      <td>1.537828e-07</td>\n",
       "      <td>log2COLOC Score</td>\n",
       "      <td>4</td>\n",
       "    </tr>\n",
       "    <tr>\n",
       "      <th>9</th>\n",
       "      <td>80</td>\n",
       "      <td>Quantitative(Q)</td>\n",
       "      <td>0.810964</td>\n",
       "      <td>1716.0</td>\n",
       "      <td>1.415461e-07</td>\n",
       "      <td>log2COLOC Score</td>\n",
       "      <td>4</td>\n",
       "    </tr>\n",
       "    <tr>\n",
       "      <th>10</th>\n",
       "      <td>160</td>\n",
       "      <td>Binary(B)</td>\n",
       "      <td>0.814745</td>\n",
       "      <td>1724.0</td>\n",
       "      <td>1.013521e-07</td>\n",
       "      <td>log2COLOC Score</td>\n",
       "      <td>5</td>\n",
       "    </tr>\n",
       "    <tr>\n",
       "      <th>11</th>\n",
       "      <td>160</td>\n",
       "      <td>Quantitative(Q)</td>\n",
       "      <td>0.819471</td>\n",
       "      <td>1734.0</td>\n",
       "      <td>6.640352e-08</td>\n",
       "      <td>log2COLOC Score</td>\n",
       "      <td>5</td>\n",
       "    </tr>\n",
       "    <tr>\n",
       "      <th>0</th>\n",
       "      <td>5</td>\n",
       "      <td>Binary(B)</td>\n",
       "      <td>0.785444</td>\n",
       "      <td>1662.0</td>\n",
       "      <td>1.221269e-06</td>\n",
       "      <td>logp_size</td>\n",
       "      <td>0</td>\n",
       "    </tr>\n",
       "    <tr>\n",
       "      <th>1</th>\n",
       "      <td>5</td>\n",
       "      <td>Quantitative(Q)</td>\n",
       "      <td>0.778261</td>\n",
       "      <td>1611.0</td>\n",
       "      <td>2.457349e-06</td>\n",
       "      <td>logp_size</td>\n",
       "      <td>0</td>\n",
       "    </tr>\n",
       "    <tr>\n",
       "      <th>2</th>\n",
       "      <td>10</td>\n",
       "      <td>Binary(B)</td>\n",
       "      <td>0.770321</td>\n",
       "      <td>1630.0</td>\n",
       "      <td>4.041507e-06</td>\n",
       "      <td>logp_size</td>\n",
       "      <td>1</td>\n",
       "    </tr>\n",
       "    <tr>\n",
       "      <th>3</th>\n",
       "      <td>10</td>\n",
       "      <td>Quantitative(Q)</td>\n",
       "      <td>0.770794</td>\n",
       "      <td>1631.0</td>\n",
       "      <td>3.896696e-06</td>\n",
       "      <td>logp_size</td>\n",
       "      <td>1</td>\n",
       "    </tr>\n",
       "    <tr>\n",
       "      <th>4</th>\n",
       "      <td>20</td>\n",
       "      <td>Binary(B)</td>\n",
       "      <td>0.793951</td>\n",
       "      <td>1680.0</td>\n",
       "      <td>6.067068e-07</td>\n",
       "      <td>logp_size</td>\n",
       "      <td>2</td>\n",
       "    </tr>\n",
       "    <tr>\n",
       "      <th>5</th>\n",
       "      <td>20</td>\n",
       "      <td>Quantitative(Q)</td>\n",
       "      <td>0.786389</td>\n",
       "      <td>1664.0</td>\n",
       "      <td>1.130996e-06</td>\n",
       "      <td>logp_size</td>\n",
       "      <td>2</td>\n",
       "    </tr>\n",
       "    <tr>\n",
       "      <th>6</th>\n",
       "      <td>40</td>\n",
       "      <td>Binary(B)</td>\n",
       "      <td>0.762760</td>\n",
       "      <td>1614.0</td>\n",
       "      <td>7.188419e-06</td>\n",
       "      <td>logp_size</td>\n",
       "      <td>3</td>\n",
       "    </tr>\n",
       "    <tr>\n",
       "      <th>7</th>\n",
       "      <td>40</td>\n",
       "      <td>Quantitative(Q)</td>\n",
       "      <td>0.756144</td>\n",
       "      <td>1600.0</td>\n",
       "      <td>1.174395e-05</td>\n",
       "      <td>logp_size</td>\n",
       "      <td>3</td>\n",
       "    </tr>\n",
       "    <tr>\n",
       "      <th>8</th>\n",
       "      <td>80</td>\n",
       "      <td>Binary(B)</td>\n",
       "      <td>0.758979</td>\n",
       "      <td>1606.0</td>\n",
       "      <td>9.526174e-06</td>\n",
       "      <td>logp_size</td>\n",
       "      <td>4</td>\n",
       "    </tr>\n",
       "    <tr>\n",
       "      <th>9</th>\n",
       "      <td>80</td>\n",
       "      <td>Quantitative(Q)</td>\n",
       "      <td>0.742029</td>\n",
       "      <td>1536.0</td>\n",
       "      <td>3.546697e-05</td>\n",
       "      <td>logp_size</td>\n",
       "      <td>4</td>\n",
       "    </tr>\n",
       "    <tr>\n",
       "      <th>10</th>\n",
       "      <td>160</td>\n",
       "      <td>Binary(B)</td>\n",
       "      <td>0.741493</td>\n",
       "      <td>1569.0</td>\n",
       "      <td>3.349029e-05</td>\n",
       "      <td>logp_size</td>\n",
       "      <td>5</td>\n",
       "    </tr>\n",
       "    <tr>\n",
       "      <th>11</th>\n",
       "      <td>160</td>\n",
       "      <td>Quantitative(Q)</td>\n",
       "      <td>0.738658</td>\n",
       "      <td>1563.0</td>\n",
       "      <td>4.075662e-05</td>\n",
       "      <td>logp_size</td>\n",
       "      <td>5</td>\n",
       "    </tr>\n",
       "  </tbody>\n",
       "</table>\n",
       "</div>"
      ],
      "text/plain": [
       "    Bin Size         NetColoc       AUC  U_statistic       p_value  \\\n",
       "0          5        Binary(B)  0.818053       1731.0  7.543160e-08   \n",
       "1          5  Quantitative(Q)  0.813800       1722.0  1.102182e-07   \n",
       "2         10        Binary(B)  0.830813       1758.0  2.349444e-08   \n",
       "3         10  Quantitative(Q)  0.828450       1753.0  2.925446e-08   \n",
       "4         20        Binary(B)  0.832703       1762.0  1.969338e-08   \n",
       "5         20  Quantitative(Q)  0.829395       1755.0  2.680270e-08   \n",
       "6         40        Binary(B)  0.817108       1729.0  8.209808e-08   \n",
       "7         40  Quantitative(Q)  0.821361       1738.0  5.597771e-08   \n",
       "8         80        Binary(B)  0.810019       1714.0  1.537828e-07   \n",
       "9         80  Quantitative(Q)  0.810964       1716.0  1.415461e-07   \n",
       "10       160        Binary(B)  0.814745       1724.0  1.013521e-07   \n",
       "11       160  Quantitative(Q)  0.819471       1734.0  6.640352e-08   \n",
       "0          5        Binary(B)  0.785444       1662.0  1.221269e-06   \n",
       "1          5  Quantitative(Q)  0.778261       1611.0  2.457349e-06   \n",
       "2         10        Binary(B)  0.770321       1630.0  4.041507e-06   \n",
       "3         10  Quantitative(Q)  0.770794       1631.0  3.896696e-06   \n",
       "4         20        Binary(B)  0.793951       1680.0  6.067068e-07   \n",
       "5         20  Quantitative(Q)  0.786389       1664.0  1.130996e-06   \n",
       "6         40        Binary(B)  0.762760       1614.0  7.188419e-06   \n",
       "7         40  Quantitative(Q)  0.756144       1600.0  1.174395e-05   \n",
       "8         80        Binary(B)  0.758979       1606.0  9.526174e-06   \n",
       "9         80  Quantitative(Q)  0.742029       1536.0  3.546697e-05   \n",
       "10       160        Binary(B)  0.741493       1569.0  3.349029e-05   \n",
       "11       160  Quantitative(Q)  0.738658       1563.0  4.075662e-05   \n",
       "\n",
       "               stat  plotx  \n",
       "0   log2COLOC Score      0  \n",
       "1   log2COLOC Score      0  \n",
       "2   log2COLOC Score      1  \n",
       "3   log2COLOC Score      1  \n",
       "4   log2COLOC Score      2  \n",
       "5   log2COLOC Score      2  \n",
       "6   log2COLOC Score      3  \n",
       "7   log2COLOC Score      3  \n",
       "8   log2COLOC Score      4  \n",
       "9   log2COLOC Score      4  \n",
       "10  log2COLOC Score      5  \n",
       "11  log2COLOC Score      5  \n",
       "0         logp_size      0  \n",
       "1         logp_size      0  \n",
       "2         logp_size      1  \n",
       "3         logp_size      1  \n",
       "4         logp_size      2  \n",
       "5         logp_size      2  \n",
       "6         logp_size      3  \n",
       "7         logp_size      3  \n",
       "8         logp_size      4  \n",
       "9         logp_size      4  \n",
       "10        logp_size      5  \n",
       "11        logp_size      5  "
      ]
     },
     "execution_count": 197,
     "metadata": {},
     "output_type": "execute_result"
    }
   ],
   "source": [
    "bin_results"
   ]
  },
  {
   "cell_type": "code",
   "execution_count": 200,
   "metadata": {
    "ExecuteTime": {
     "end_time": "2025-06-21T23:14:06.674242Z",
     "start_time": "2025-06-21T23:14:04.658559Z"
    }
   },
   "outputs": [
    {
     "name": "stderr",
     "output_type": "stream",
     "text": [
      "/tmp/ipykernel_3604714/1512906727.py:18: UserWarning: set_ticklabels() should only be used with a fixed number of ticks, i.e. after set_ticks() or using a FixedLocator.\n",
      "  axa.set_yticklabels(['', 0.5, 1, 2, 4])\n"
     ]
    },
    {
     "data": {
      "text/plain": [
       "Text(0, 0.5, 'COLOC Score')"
      ]
     },
     "execution_count": 200,
     "metadata": {},
     "output_type": "execute_result"
    },
    {
     "data": {
      "image/png": "[encoded data removed]",
      "text/plain": [
       "<Figure size 500x150 with 4 Axes>"
      ]
     },
     "metadata": {},
     "output_type": "display_data"
    }
   ],
   "source": [
    "_, [axa, axb] = plt.subplots(nrows=1, ncols=2, sharex=True, sharey=True, figsize=(5,1.5))\n",
    "\n",
    "sns.violinplot(all_data[(all_data['Parameter Tested']=='bin') & (all_data['NetColoc']=='Quantitative(Q)')].reset_index(), \n",
    "               x='Bin Size', y='log2COLOC Score', hue='TestControl', cut=0,\n",
    "              palette=['#97247C', 'grey'], ax=axa, saturation=1)\n",
    "axa.hlines(y=0, xmin=-0.5, xmax=5.5, color='black', linewidth=0.5)\n",
    "axa.set_xlim(-0.5, 5.5)\n",
    "ax2 = axa.twinx()\n",
    "bin_results['plotx'] = bin_results['Bin Size'].map({5:0, 10:1, 20:2, 40:3, 80:4, 160:5})\n",
    "sns.lineplot(bin_results[(bin_results.stat=='log2COLOC Score') & (bin_results.NetColoc=='Quantitative(Q)')], \n",
    "             x='plotx', y='AUC', hue='stat', style='NetColoc', ax=ax2, markers=True,\n",
    "            palette=['#00798C'], linewidth=0.5)\n",
    "ax2.set_ylim(0.6, 0.85)\n",
    "ax2.tick_params(axis='y', colors='#00798C')\n",
    "ax2.spines['right'].set_color('#00798C')\n",
    "axa.set_xlabel('Bin size')\n",
    "axa.set_ylabel('Log2 Size OE')\n",
    "axa.set_yticklabels(['', 0.5, 1, 2, 4])\n",
    "\n",
    "\n",
    "sns.violinplot(all_data[(all_data['Parameter Tested']=='bin') & (all_data['NetColoc']=='Binary(B)')].reset_index(), \n",
    "               x='Bin Size', y='log2COLOC Score', hue='TestControl', cut=0,\n",
    "              palette=['#F36F38', 'grey'], ax=axb, saturation=1)\n",
    "axb.hlines(y=0, xmin=-0.5, xmax=5.5, color='black', linewidth=0.5)\n",
    "axb.set_xlim(-0.5, 5.5)\n",
    "ax3 = axb.twinx()\n",
    "bin_results['plotx'] = bin_results['Bin Size'].map({5:0, 10:1, 20:2, 40:3, 80:4, 160:5})\n",
    "sns.lineplot(bin_results[(bin_results.stat=='log2COLOC Score') & (bin_results.NetColoc=='Binary(B)')], x='plotx', y='AUC', \n",
    "             hue='stat', style='NetColoc', ax=ax3, markers=True,\n",
    "            palette=['#00798C'], linewidth=0.5)\n",
    "ax3.set_ylim(0.6, 0.85)\n",
    "ax3.tick_params(axis='y', colors='#00798C')\n",
    "ax3.spines['right'].set_color('#00798C')\n",
    "axb.set_xlabel('Bin size')\n",
    "axa.set_ylabel('COLOC Score')\n",
    "\n",
    "#plt.savefig(os.path.join(figdir, 'optimize_bin_log2COLOC Score.svg'), bbox_inches='tight')"
   ]
  },
  {
   "cell_type": "code",
   "execution_count": 205,
   "metadata": {
    "ExecuteTime": {
     "end_time": "2025-06-21T23:17:50.629416Z",
     "start_time": "2025-06-21T23:17:48.603567Z"
    },
    "scrolled": true
   },
   "outputs": [
    {
     "data": {
      "text/plain": [
       "Text(0.5, 0, 'Bin size')"
      ]
     },
     "execution_count": 205,
     "metadata": {},
     "output_type": "execute_result"
    },
    {
     "data": {
      "image/png": "[encoded data removed]",
      "text/plain": [
       "<Figure size 500x150 with 4 Axes>"
      ]
     },
     "metadata": {},
     "output_type": "display_data"
    }
   ],
   "source": [
    "_, [axa, axb] = plt.subplots(nrows=1, ncols=2, sharex=True, sharey=True, figsize=(5,1.5))\n",
    "\n",
    "sns.violinplot(all_data[(all_data['Parameter Tested']=='bin') & (all_data['NetColoc']=='Quantitative(Q)')].reset_index(), \n",
    "               x='Bin Size', \n",
    "               y='logp_size', hue='TestControl', cut=0,\n",
    "              palette=['#97247C', 'grey'], ax=axa, saturation=1)\n",
    "axa.hlines(y=0, xmin=-0.5, xmax=5.5, color='black', linewidth=0.5)\n",
    "axa.set_xlim(-0.5, 5.5)\n",
    "ax2 = axa.twinx()\n",
    "bin_results['plotx'] = bin_results['Bin Size'].map({5:0, 10:1, 20:2, 40:3, 80:4, 160:5})\n",
    "sns.lineplot(bin_results[(bin_results.stat=='logp_size') & (bin_results.NetColoc=='Quantitative(Q)')], x='plotx', y='AUC', \n",
    "             hue='stat', style='NetColoc', ax=ax2, markers=True,\n",
    "            palette=['#00798C'], linewidth=0.5)\n",
    "ax2.set_ylim(0.6, 0.85)\n",
    "ax2.tick_params(axis='y', colors='#00798C')\n",
    "ax2.spines['right'].set_color('#00798C')\n",
    "axa.set_xlabel('Bin size')\n",
    "axa.set_ylabel('Coloc P')\n",
    "\n",
    "\n",
    "sns.violinplot(all_data[(all_data['Parameter Tested']=='bin') & (all_data['NetColoc']=='Binary(B)')].reset_index(), \n",
    "               x='Bin Size',\n",
    "               y='logp_size', hue='TestControl', cut=0,\n",
    "              palette=['#F36F38', 'grey'], ax=axb, saturation=1)\n",
    "axb.hlines(y=0, xmin=-0.5, xmax=5.5, color='black', linewidth=0.5)\n",
    "axb.set_xlim(-0.5, 5.5)\n",
    "ax3 = axb.twinx()\n",
    "bin_results['plotx'] = bin_results['Bin Size'].map({5:0, 10:1, 20:2, 40:3, 80:4, 160:5})\n",
    "sns.lineplot(bin_results[(bin_results.stat=='logp_size') & (bin_results.NetColoc=='Binary(B)')], x='plotx', y='AUC', \n",
    "             hue='stat', style='NetColoc', ax=ax3, markers=True,\n",
    "            palette=['#00798C'], linewidth=0.5)\n",
    "ax3.set_ylim(0.6, 0.85)\n",
    "ax3.tick_params(axis='y', colors='#00798C')\n",
    "ax3.spines['right'].set_color('#00798C')\n",
    "axb.set_xlabel('Bin size')\n",
    "#plt.savefig(os.path.join(figdir, 'optimize_bin_pval.svg'), bbox_inches='tight')"
   ]
  },
  {
   "cell_type": "markdown",
   "metadata": {},
   "source": [
    "## S2G & p-value Threshold Testing"
   ]
  },
  {
   "cell_type": "code",
   "execution_count": 279,
   "metadata": {
    "ExecuteTime": {
     "end_time": "2025-06-22T00:00:30.717716Z",
     "start_time": "2025-06-22T00:00:30.714753Z"
    }
   },
   "outputs": [],
   "source": [
    "s2g_data = all_data[~all_data['Parameter Tested'].isin(['bin', 'th'])].copy()"
   ]
  },
  {
   "cell_type": "code",
   "execution_count": 280,
   "metadata": {
    "ExecuteTime": {
     "end_time": "2025-06-22T00:00:38.101193Z",
     "start_time": "2025-06-22T00:00:38.098829Z"
    }
   },
   "outputs": [],
   "source": [
    "s2g_data['testID'] = s2g_data.Trait1 + s2g_data.Trait2"
   ]
  },
  {
   "cell_type": "code",
   "execution_count": 281,
   "metadata": {
    "ExecuteTime": {
     "end_time": "2025-06-22T00:00:45.419471Z",
     "start_time": "2025-06-22T00:00:45.416725Z"
    }
   },
   "outputs": [
    {
     "data": {
      "text/plain": [
       "Index(['Trait1', 'Trait2', 'TestControl', 'NetColoc', 'Parameter Tested',\n",
       "       'Bin Size', 'T', 'T*', 'Observed Size', 'Expected Size',\n",
       "       'log2COLOC Score', 'COLOC P', 'LenientOrStrict', 'SNP-to-Gene',\n",
       "       'logp_size', 'testID'],\n",
       "      dtype='object')"
      ]
     },
     "execution_count": 281,
     "metadata": {},
     "output_type": "execute_result"
    }
   ],
   "source": [
    "s2g_data.columns"
   ]
  },
  {
   "cell_type": "code",
   "execution_count": 282,
   "metadata": {
    "ExecuteTime": {
     "end_time": "2025-06-22T00:00:54.351096Z",
     "start_time": "2025-06-22T00:00:54.345351Z"
    }
   },
   "outputs": [
    {
     "data": {
      "text/plain": [
       "LenientOrStrict  SNP-to-Gene\n",
       "Lenient          S2G            6408\n",
       "                 MAGMA           211\n",
       "Strict           MAGMA           186\n",
       "                 S2G             120\n",
       "Name: count, dtype: int64"
      ]
     },
     "execution_count": 282,
     "metadata": {},
     "output_type": "execute_result"
    }
   ],
   "source": [
    "all_data.groupby('LenientOrStrict')['SNP-to-Gene'].value_counts()"
   ]
  },
  {
   "cell_type": "code",
   "execution_count": 283,
   "metadata": {
    "ExecuteTime": {
     "end_time": "2025-06-22T00:01:01.701775Z",
     "start_time": "2025-06-22T00:01:01.696730Z"
    }
   },
   "outputs": [
    {
     "data": {
      "text/plain": [
       "LenientOrStrict  SNP-to-Gene\n",
       "Lenient          MAGMA          211\n",
       "                 S2G            152\n",
       "Strict           MAGMA          186\n",
       "                 S2G            120\n",
       "Name: count, dtype: int64"
      ]
     },
     "execution_count": 283,
     "metadata": {},
     "output_type": "execute_result"
    }
   ],
   "source": [
    "s2g_data.groupby('LenientOrStrict')['SNP-to-Gene'].value_counts()"
   ]
  },
  {
   "cell_type": "markdown",
   "metadata": {},
   "source": [
    "### SFigure 4C - Direct S2G"
   ]
  },
  {
   "cell_type": "code",
   "execution_count": 253,
   "metadata": {
    "ExecuteTime": {
     "end_time": "2025-06-21T23:47:03.324506Z",
     "start_time": "2025-06-21T23:47:03.305034Z"
    }
   },
   "outputs": [
    {
     "data": {
      "text/html": [
       "<div>\n",
       "<style scoped>\n",
       "    .dataframe tbody tr th:only-of-type {\n",
       "        vertical-align: middle;\n",
       "    }\n",
       "\n",
       "    .dataframe tbody tr th {\n",
       "        vertical-align: top;\n",
       "    }\n",
       "\n",
       "    .dataframe thead th {\n",
       "        text-align: right;\n",
       "    }\n",
       "</style>\n",
       "<table border=\"1\" class=\"dataframe\">\n",
       "  <thead>\n",
       "    <tr style=\"text-align: right;\">\n",
       "      <th></th>\n",
       "      <th>LenientOrStrict</th>\n",
       "      <th>NetColoc</th>\n",
       "      <th>AUC</th>\n",
       "    </tr>\n",
       "  </thead>\n",
       "  <tbody>\n",
       "    <tr>\n",
       "      <th>0</th>\n",
       "      <td>Lenient</td>\n",
       "      <td>Binary(B)</td>\n",
       "      <td>0.837288</td>\n",
       "    </tr>\n",
       "    <tr>\n",
       "      <th>1</th>\n",
       "      <td>Lenient</td>\n",
       "      <td>Quantitative(Q)</td>\n",
       "      <td>0.836158</td>\n",
       "    </tr>\n",
       "    <tr>\n",
       "      <th>2</th>\n",
       "      <td>Strict</td>\n",
       "      <td>Binary(B)</td>\n",
       "      <td>0.823729</td>\n",
       "    </tr>\n",
       "    <tr>\n",
       "      <th>3</th>\n",
       "      <td>Strict</td>\n",
       "      <td>Quantitative(Q)</td>\n",
       "      <td>0.817514</td>\n",
       "    </tr>\n",
       "  </tbody>\n",
       "</table>\n",
       "</div>"
      ],
      "text/plain": [
       "  LenientOrStrict         NetColoc       AUC\n",
       "0         Lenient        Binary(B)  0.837288\n",
       "1         Lenient  Quantitative(Q)  0.836158\n",
       "2          Strict        Binary(B)  0.823729\n",
       "3          Strict  Quantitative(Q)  0.817514"
      ]
     },
     "execution_count": 253,
     "metadata": {},
     "output_type": "execute_result"
    }
   ],
   "source": [
    "df1 = s2g_data[(s2g_data['SNP-to-Gene'] == 'S2G') & (s2g_data['LenientOrStrict']=='Lenient')]\n",
    "df2 = s2g_data[(s2g_data['SNP-to-Gene'] == 'S2G') & (s2g_data['LenientOrStrict']=='Strict')]\n",
    "shared_tests = set(df1.testID.unique()).intersection(set(df2.testID.unique()))\n",
    "n=len(shared_tests)\n",
    "controls1 = df1[df1.TestControl=='Control'].sort_values('testID').iloc[0:2*n]\n",
    "controls2 = df2[df2.TestControl=='Control'].sort_values('testID').iloc[0:2*n]\n",
    "df1 = pd.concat([df1[(df1.testID.isin(shared_tests))], controls1])\n",
    "df2 = pd.concat([df2[(df2.testID.isin(shared_tests))], controls2])\n",
    "auc = calculate_auc(pd.concat([df1, df2]), value_col='log2COLOC Score', processing_col='LenientOrStrict', \n",
    "                    normalization_col='NetColoc', \n",
    "                            control_col='TestControl', control_labels=('Test', 'Control'))\n",
    "auc"
   ]
  },
  {
   "cell_type": "code",
   "execution_count": 290,
   "metadata": {
    "ExecuteTime": {
     "end_time": "2025-06-22T00:05:06.353378Z",
     "start_time": "2025-06-22T00:05:06.313321Z"
    }
   },
   "outputs": [],
   "source": [
    "ng_th, ng_th_df = pair_auc(s2g_data[(s2g_data['SNP-to-Gene'] == 'S2G') & (s2g_data['LenientOrStrict']=='Lenient')], \n",
    "                           s2g_data[(s2g_data['SNP-to-Gene'] == 'S2G') & (s2g_data['LenientOrStrict']=='Strict')],\n",
    "                          setcol='TestControl', sizecol='log2COLOC Score', pcol='logp_size', comp1='LenientOrStrict', \n",
    "                           comp2='NetColoc', stats=['logp_size', 'log2COLOC Score'])\n"
   ]
  },
  {
   "cell_type": "code",
   "execution_count": 291,
   "metadata": {
    "ExecuteTime": {
     "end_time": "2025-06-22T00:05:13.880271Z",
     "start_time": "2025-06-22T00:05:13.874792Z"
    }
   },
   "outputs": [
    {
     "data": {
      "text/plain": [
       "LenientOrStrict  NetColoc         TestControl\n",
       "Lenient          Binary(B)        Test           30\n",
       "                                  Control        29\n",
       "                 Quantitative(Q)  Test           30\n",
       "                                  Control        29\n",
       "Strict           Binary(B)        Test           30\n",
       "                                  Control        29\n",
       "                 Quantitative(Q)  Test           30\n",
       "                                  Control        29\n",
       "Name: count, dtype: int64"
      ]
     },
     "execution_count": 291,
     "metadata": {},
     "output_type": "execute_result"
    }
   ],
   "source": [
    "ng_th_df.groupby([ 'LenientOrStrict', 'NetColoc']).TestControl.value_counts()"
   ]
  },
  {
   "cell_type": "code",
   "execution_count": 258,
   "metadata": {
    "ExecuteTime": {
     "end_time": "2025-06-21T23:49:51.348012Z",
     "start_time": "2025-06-21T23:49:51.343899Z"
    }
   },
   "outputs": [
    {
     "data": {
      "text/plain": [
       "0.8448275862068966"
      ]
     },
     "execution_count": 258,
     "metadata": {},
     "output_type": "execute_result"
    }
   ],
   "source": [
    "res_df= ng_th\n",
    "res_df[(res_df.LenientOrStrict=='Lenient') & (res_df.NetColoc=='Binary(B)') & (res_df.stat=='logp_size')].AUC.values[0]"
   ]
  },
  {
   "cell_type": "code",
   "execution_count": 264,
   "metadata": {
    "ExecuteTime": {
     "end_time": "2025-06-21T23:54:57.697637Z",
     "start_time": "2025-06-21T23:54:56.744086Z"
    },
    "code_folding": []
   },
   "outputs": [
    {
     "data": {
      "image/png": "[encoded data removed]",
      "text/plain": [
       "<Figure size 325x250 with 4 Axes>"
      ]
     },
     "metadata": {},
     "output_type": "display_data"
    }
   ],
   "source": [
    "_, [[ax1, ax2], [ax3, ax4]] = plt.subplots(nrows=2, ncols=2, figsize=(3.25,2.5), sharey='row', sharex=True, \n",
    "                                          gridspec_kw={'wspace':0.04, 'hspace':0.05})    \n",
    "\n",
    "a = plot_pair_auc(ng_th, ng_th_df, ax=ax1, group='Quantitative(Q)', stat='log2COLOC Score', group2_col='LenientOrStrict', \n",
    "                  group_col='NetColoc', color='#97247C',setcol='TestControl')\n",
    "plot_pair_auc(ng_th, ng_th_df, ax=ax2, group='Binary(B)', stat='log2COLOC Score', group2_col='LenientOrStrict', \n",
    "              group_col='NetColoc', color='#F36F38',setcol='TestControl')\n",
    "\n",
    "plot_pair_auc(ng_th, ng_th_df, ax=ax3, group='Quantitative(Q)', stat='logp_size', group2_col='LenientOrStrict', \n",
    "              group_col='NetColoc', color='#97247C',setcol='TestControl')\n",
    "plot_pair_auc(ng_th, ng_th_df, ax=ax4, group='Binary(B)', stat='logp_size', group2_col='LenientOrStrict', \n",
    "              group_col='NetColoc', color='#F36F38', setcol='TestControl')\n",
    "for ax in [ax1, ax2, ax3, ax4]:\n",
    "    ax.hlines(y=0, xmin=-0.5, xmax=1.5, color='black', linewidth=0.5, zorder=0)\n",
    "    ax.set_xlim(-0.5, 1.5)\n",
    "    ax.set_xticks([0,1], labels=['\\nLenient pth', '\\nStrict pth'])\n",
    "for ax in [ax1, ax2]:\n",
    "    ax.set_ylim(-1.5, 3)\n",
    "    ax.set_yticks([-1, 0, 1, 2])\n",
    "\n",
    "ax3.set_xlabel(f'Q-NetColoc, Direct S2G')\n",
    "ax4.set_xlabel(f'B-NetColoc, Direct S2G')\n",
    "#ax1.set_ylabel('Log2SizeOE')\n",
    "_ = ax3.set_ylabel('COLOC P')\n",
    "#plt.savefig(os.path.join(figdir, 'assocp_compare_ng.svg'), bbox_inches='tight')"
   ]
  },
  {
   "cell_type": "markdown",
   "metadata": {},
   "source": [
    "### SFigure 4D - MAGMA"
   ]
  },
  {
   "cell_type": "code",
   "execution_count": 284,
   "metadata": {
    "ExecuteTime": {
     "end_time": "2025-06-22T00:01:27.054841Z",
     "start_time": "2025-06-22T00:01:27.012960Z"
    }
   },
   "outputs": [],
   "source": [
    "magma_th, magma_th_df = pair_auc(s2g_data[(s2g_data['SNP-to-Gene'] == 'MAGMA') & (s2g_data['LenientOrStrict']=='Lenient')], \n",
    "                                 s2g_data[(s2g_data['SNP-to-Gene'] == 'MAGMA') & (s2g_data['LenientOrStrict']=='Strict')],\n",
    "                                setcol='TestControl', sizecol='log2COLOC Score', pcol='logp_size', comp1='LenientOrStrict', \n",
    "                           comp2='NetColoc', stats=['logp_size', 'log2COLOC Score'])"
   ]
  },
  {
   "cell_type": "code",
   "execution_count": 287,
   "metadata": {
    "ExecuteTime": {
     "end_time": "2025-06-22T00:04:10.462955Z",
     "start_time": "2025-06-22T00:04:09.144568Z"
    }
   },
   "outputs": [
    {
     "data": {
      "text/plain": [
       "Text(0, 0.5, 'COLOC P')"
      ]
     },
     "execution_count": 287,
     "metadata": {},
     "output_type": "execute_result"
    },
    {
     "data": {
      "image/png": "[encoded data removed]",
      "text/plain": [
       "<Figure size 325x250 with 4 Axes>"
      ]
     },
     "metadata": {},
     "output_type": "display_data"
    }
   ],
   "source": [
    "_, [[ax1, ax2], [ax3, ax4]] = plt.subplots(nrows=2, ncols=2, figsize=(3.25,2.5), sharey='row', sharex=True, \n",
    "                                          gridspec_kw={'wspace':0.04, 'hspace':0.05})    \n",
    "\n",
    "a = plot_pair_auc(magma_th, magma_th_df.reset_index(), ax=ax1, group='Quantitative(Q)', stat='log2COLOC Score', \n",
    "                  group_col='NetColoc', group2_col='LenientOrStrict', color='#97247C', setcol='TestControl')\n",
    "plot_pair_auc(magma_th, magma_th_df.reset_index(), ax=ax2, group='Binary(B)', stat='log2COLOC Score', \n",
    "              group_col='NetColoc', group2_col='LenientOrStrict', color='#F36F38',setcol='TestControl')\n",
    "\n",
    "a = plot_pair_auc(magma_th, magma_th_df.reset_index(), ax=ax3, group='Quantitative(Q)', stat='logp_size', \n",
    "                  group_col='NetColoc', group2_col='LenientOrStrict', color='#97247C',setcol='TestControl')\n",
    "plot_pair_auc(magma_th, magma_th_df.reset_index(), ax=ax4, group='Binary(B)', stat='logp_size', \n",
    "              group_col='NetColoc', group2_col='LenientOrStrict', color='#F36F38',setcol='TestControl')\n",
    "for ax in [ax1, ax2, ax3, ax4]:\n",
    "    ax.hlines(y=0, xmin=-0.5, xmax=1.5, color='black', linewidth=0.5, zorder=0)\n",
    "    ax.set_xlim(-0.5, 1.5)\n",
    "    ax.set_xticks([0,1], labels=['\\nLenient pth', '\\nStrict pth'])\n",
    "for ax in [ax1, ax2]:\n",
    "    ax.set_ylim(-1.5, 3)\n",
    "    ax.set_yticks([-1, 0, 1, 2])\n",
    "\n",
    "ax3.set_xlabel('Q-NetColoc, MAGMA')\n",
    "ax4.set_xlabel('B-NetColoc, MAGMA')\n",
    "#ax1.set_ylabel('Log2SizeOE')\n",
    "ax3.set_ylabel('COLOC P')\n",
    "#plt.savefig(os.path.join(figdir, 'assocp_compare_magma.svg'), bbox_inches='tight')"
   ]
  }
 ],
 "metadata": {
  "kernelspec": {
   "display_name": "Python (CARVA)",
   "language": "python",
   "name": "carva"
  },
  "language_info": {
   "codemirror_mode": {
    "name": "ipython",
    "version": 3
   },
   "file_extension": ".py",
   "mimetype": "text/x-python",
   "name": "python",
   "nbconvert_exporter": "python",
   "pygments_lexer": "ipython3",
   "version": "3.10.0"
  },
  "toc": {
   "base_numbering": 1,
   "nav_menu": {},
   "number_sections": true,
   "sideBar": true,
   "skip_h1_title": false,
   "title_cell": "Table of Contents",
   "title_sidebar": "Contents",
   "toc_cell": false,
   "toc_position": {
    "height": "calc(100% - 180px)",
    "left": "10px",
    "top": "150px",
    "width": "426.81px"
   },
   "toc_section_display": true,
   "toc_window_display": true
  },
  "varInspector": {
   "cols": {
    "lenName": 16,
    "lenType": 16,
    "lenVar": 40
   },
   "kernels_config": {
    "python": {
     "delete_cmd_postfix": "",
     "delete_cmd_prefix": "del ",
     "library": "var_list.py",
     "varRefreshCmd": "print(var_dic_list())"
    },
    "r": {
     "delete_cmd_postfix": ") ",
     "delete_cmd_prefix": "rm(",
     "library": "var_list.r",
     "varRefreshCmd": "cat(var_dic_list()) "
    }
   },
   "types_to_exclude": [
    "module",
    "function",
    "builtin_function_or_method",
    "instance",
    "_Feature"
   ],
   "window_display": false
  }
 },
 "nbformat": 4,
 "nbformat_minor": 2
}
