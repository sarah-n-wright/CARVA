{
 "cells": [
  {
   "cell_type": "markdown",
   "metadata": {},
   "source": [
    "# Data Curation Notebook A - Processing of GWAS and RV Data\n",
    "\n",
    "- Filter CV and RV studies\n",
    "- Filter gene associations\n",
    "- Convert to NCBI Gene IDs\n",
    "- Clean the trait EFO codes\n",
    "\n",
    "Figures generated in this notebook:\n",
    "- None\n",
    "\n",
    "Datasets generated in this notebook:\n",
    "- Supplemental Table 1 - Common and Rare Variant study information and associations\n",
    "\n",
    "Files created:\n",
    "- os.path.join(datadir, 'GWASCatalog', 'gwas_catalog_Jan29_2025.txt.final')\n",
    "- os.path.join(datadir,'GWASCatalog', 'cleaned_gwas-catalog-v1.0.3.1-studies-r2025-03-26.tsv')\n",
    "- os.path.join(datadir,'RAVAR' ,'gene_fulltable_06112024.txt.entrez')\n",
    "- os.path.join(datadir,'RAVAR', 'rv_study_info_cleaned_with_manual_mapped_Mar28.tsv')\n",
    "- '/cellar/users/snwright/Data/Transfer/RVC/data/RV Study Info - Shared Traits6.tsv'"
   ]
  },
  {
   "cell_type": "markdown",
   "metadata": {},
   "source": [
    "## Set Up"
   ]
  },
  {
   "cell_type": "code",
   "execution_count": 3,
   "metadata": {
    "ExecuteTime": {
     "end_time": "2025-06-09T22:02:03.353738Z",
     "start_time": "2025-06-09T22:02:02.159255Z"
    }
   },
   "outputs": [],
   "source": [
    "import pandas as pd\n",
    "import numpy as np\n",
    "import matplotlib.pyplot as plt\n",
    "import seaborn as sns\n",
    "import os\n",
    "from collections import defaultdict\n",
    "from tqdm import tqdm\n",
    "import networkx as nx\n",
    "from matplotlib_venn import venn2, venn3\n",
    "from neteval import gene_mapper as gm\n",
    "from neteval import query_ensembl as qe\n",
    "from neteval import query_hgnc as qh\n",
    "import obonet as obo"
   ]
  },
  {
   "cell_type": "code",
   "execution_count": 4,
   "metadata": {
    "ExecuteTime": {
     "end_time": "2025-06-09T22:02:03.364217Z",
     "start_time": "2025-06-09T22:02:03.362476Z"
    }
   },
   "outputs": [],
   "source": [
    "datadir='/cellar/users/snwright/Data/RareCommon/'\n",
    "outdir='/cellar/users/snwright/Data/Transfer/RVC/'\n",
    "figdir='/cellar/users/snwright/Data/Transfer/RVC/figures/RAVAR_GWASCat/'"
   ]
  },
  {
   "cell_type": "code",
   "execution_count": 5,
   "metadata": {
    "ExecuteTime": {
     "end_time": "2025-06-09T22:02:03.375210Z",
     "start_time": "2025-06-09T22:02:03.371926Z"
    }
   },
   "outputs": [],
   "source": [
    "plt.rcParams['svg.fonttype'] = 'none'\n",
    "plt.rcParams.update({'font.size': 7})\n",
    "plt.rcParams['axes.linewidth'] = 0.5\n",
    "plt.rcParams['hatch.linewidth'] = 0.5\n",
    "plt.rcParams['xtick.major.width'] = 0.4\n",
    "plt.rcParams['ytick.major.width'] = 0.4\n",
    "plt.rcParams['xtick.minor.width'] = 0.3\n",
    "plt.rcParams['ytick.minor.width'] = 0.3\n",
    "plt.rcParams['legend.frameon'] = False\n",
    "plt.rcParams['xtick.major.size'] = 3\n",
    "plt.rcParams['ytick.major.size'] = 3\n",
    "plt.rcParams['xtick.minor.size'] = 2\n",
    "plt.rcParams['ytick.minor.size'] = 2\n",
    "plt.rcParams['xtick.major.pad'] = 1\n",
    "plt.rcParams['ytick.major.pad'] = 1\n",
    "plt.rcParams['axes.labelpad'] = 1\n",
    "plt.rcParams['patch.linewidth'] = 0.25"
   ]
  },
  {
   "cell_type": "markdown",
   "metadata": {},
   "source": [
    "## RAVAR"
   ]
  },
  {
   "cell_type": "code",
   "execution_count": 36,
   "metadata": {
    "ExecuteTime": {
     "end_time": "2025-02-03T20:49:18.562256Z",
     "start_time": "2025-02-03T20:49:17.894231Z"
    }
   },
   "outputs": [
    {
     "name": "stderr",
     "output_type": "stream",
     "text": [
      "/tmp/ipykernel_687938/288862769.py:1: DtypeWarning: Columns (15) have mixed types. Specify dtype option on import or set low_memory=False.\n",
      "  ravar_genes = pd.read_csv(os.path.join(datadir,'RAVAR' ,'gene_fulltable_06112024.txt'),sep='\\t',\n"
     ]
    }
   ],
   "source": [
    "ravar_genes = pd.read_csv(os.path.join(datadir,'RAVAR' ,'gene_fulltable_06112024.txt'),sep='\\t', \n",
    "                            usecols=['Gene Symbol', 'Ensembl ID', 'Gene Type', 'CHR', 'Location', 'Reported Trait', 'Trait Label', 'Trait Ontology id', 'EFO synonym', 'P-value', 'PMID'])\n",
    "#replace '−' with '-'\n",
    "ravar_genes['P-value'] = ravar_genes['P-value'].apply(lambda x: float(x.replace('−','-')) if type(x) == str else float(x))\n",
    "ravar_genes['TRAIT_CODE'] = ravar_genes['Trait Ontology id'].apply(lambda x: x.replace(\":\", \"_\") if type(x) == str else x)\n",
    "ravar_genes['logp'] = -1 * np.log10(ravar_genes['P-value'] + 1e-250)"
   ]
  },
  {
   "cell_type": "code",
   "execution_count": 37,
   "metadata": {
    "ExecuteTime": {
     "end_time": "2025-02-03T20:49:18.789893Z",
     "start_time": "2025-02-03T20:49:18.774156Z"
    }
   },
   "outputs": [
    {
     "name": "stdout",
     "output_type": "stream",
     "text": [
      "Reported traits 3049\n",
      "Total traits with Ontology 1468\n",
      "Total genes 12850\n",
      "Unique studies 200\n",
      "Min p-value 0.0\n",
      "Max p-value 9.94e-05\n"
     ]
    }
   ],
   "source": [
    "print('Reported traits', len(ravar_genes['Reported Trait'].unique()))\n",
    "print('Total traits with Ontology', len(ravar_genes['Trait Ontology id'].unique()))\n",
    "print('Total genes', len(ravar_genes['Gene Symbol'].unique()))\n",
    "print('Unique studies', len(ravar_genes['PMID'].unique()))\n",
    "print('Min p-value', ravar_genes['P-value'].min())\n",
    "print('Max p-value', ravar_genes['P-value'].max())"
   ]
  },
  {
   "cell_type": "code",
   "execution_count": 39,
   "metadata": {
    "ExecuteTime": {
     "end_time": "2025-02-03T20:49:20.090205Z",
     "start_time": "2025-02-03T20:49:19.210412Z"
    }
   },
   "outputs": [
    {
     "data": {
      "text/plain": [
       "(0.5, 100000)"
      ]
     },
     "execution_count": 39,
     "metadata": {},
     "output_type": "execute_result"
    },
    {
     "data": {
      "image/png": "[encoded data removed]",
      "text/plain": [
       "<Figure size 400x100 with 1 Axes>"
      ]
     },
     "metadata": {},
     "output_type": "display_data"
    }
   ],
   "source": [
    "_  = plt.figure(figsize=(4, 1))\n",
    "sns.histplot(ravar_genes.logp, bins=300)\n",
    "plt.yscale('log')\n",
    "plt.vlines(x=4,ymin=0.5, ymax=1000000, color='red', zorder= 0, linewidth=0.5)\n",
    "plt.vlines(x=8,ymin=0.5, ymax=1000000, color='red', zorder= 0, linewidth=0.5)\n",
    "plt.ylim(0.5, 100000)"
   ]
  },
  {
   "cell_type": "markdown",
   "metadata": {},
   "source": [
    "### Filter studies"
   ]
  },
  {
   "cell_type": "code",
   "execution_count": null,
   "metadata": {},
   "outputs": [],
   "source": []
  },
  {
   "cell_type": "markdown",
   "metadata": {},
   "source": [
    "### TODO map to NCBI gene ids"
   ]
  },
  {
   "cell_type": "code",
   "execution_count": null,
   "metadata": {},
   "outputs": [],
   "source": []
  },
  {
   "cell_type": "markdown",
   "metadata": {},
   "source": [
    "### Clean EFO trait mappings"
   ]
  },
  {
   "cell_type": "code",
   "execution_count": null,
   "metadata": {},
   "outputs": [],
   "source": []
  },
  {
   "cell_type": "markdown",
   "metadata": {},
   "source": [
    "## GWAS Catalog\n",
    "\n",
    "Filter the gwas catalog data\n",
    "### Filter GWAS studies"
   ]
  },
  {
   "cell_type": "code",
   "execution_count": 6,
   "metadata": {
    "ExecuteTime": {
     "end_time": "2025-06-09T22:02:05.941640Z",
     "start_time": "2025-06-09T22:02:05.937473Z"
    }
   },
   "outputs": [],
   "source": [
    "def clean_gwas_catalog_data(datafile, outfile, pval_th=5e-8, include_intergenic=False):\n",
    "    \"\"\"Clean the GWAS Catalog data and write to a new file.\n",
    "\n",
    "    Args:\n",
    "        datafile (str): file path for GWAS Catalog data\n",
    "        outfile (str): output file for cleaned data\n",
    "        pval_th (float): p-value threshold for filtering\n",
    "        include_intergenic (bool): whether to include intergenic associations\n",
    "\n",
    "    Returns:\n",
    "        None\n",
    "    \"\"\"\n",
    "    cols= ['DATE', 'PUBMEDID', 'DISEASE/TRAIT', 'MAPPED_GENE', 'SNP_GENE_IDS', 'P-VALUE', 'OR or BETA' ,'MAPPED_TRAIT', \n",
    "           'MAPPED_TRAIT_URI', 'INTERGENIC', 'STUDY ACCESSION', 'SNP_ID_CURRENT', 'INITIAL SAMPLE SIZE', 'GENOTYPING TECHNOLOGY']    \n",
    "    if include_intergenic:\n",
    "        cols = cols + ['UPSTREAM_GENE_ID', 'DOWNSTREAM_GENE_ID', 'UPSTREAM_GENE_DISTANCE', 'DOWNSTREAM_GENE_DISTANCE']\n",
    "    data = pd.read_csv(datafile, sep=\"\\t\", usecols=cols)\n",
    "    # filter on pval\n",
    "    data = data[data[\"P-VALUE\"] <= pval_th]\n",
    "    # filter on gene and trait present\n",
    "    data = data.dropna(subset=['SNP_GENE_IDS', \"MAPPED_TRAIT_URI\"])\n",
    "    # filter out intergenic\n",
    "    if not include_intergenic:\n",
    "        data = data[data[\"INTERGENIC\"] == 0]\n",
    "    # remove associations with multiple genes\n",
    "    data = data[~data[\"SNP_GENE_IDS\"].str.contains(\",\")]\n",
    "    # remove associations with multiple traits\n",
    "    data = data[~data[\"MAPPED_TRAIT_URI\"].str.contains(\",\")]\n",
    "    # create trait code\n",
    "    data['TRAIT_CODE'] = data['MAPPED_TRAIT_URI'].apply(lambda x: x.split('/')[-1])\n",
    "    # write the cleaned file\n",
    "    data.to_csv(outfile, sep=\"\\t\", index=False)"
   ]
  },
  {
   "cell_type": "code",
   "execution_count": 7,
   "metadata": {
    "ExecuteTime": {
     "end_time": "2025-06-09T22:02:12.077287Z",
     "start_time": "2025-06-09T22:02:07.608460Z"
    }
   },
   "outputs": [
    {
     "name": "stderr",
     "output_type": "stream",
     "text": [
      "/tmp/ipykernel_1982271/2161290776.py:17: DtypeWarning: Columns (23) have mixed types. Specify dtype option on import or set low_memory=False.\n",
      "  data = pd.read_csv(datafile, sep=\"\\t\", usecols=cols)\n"
     ]
    },
    {
     "ename": "KeyboardInterrupt",
     "evalue": "",
     "output_type": "error",
     "traceback": [
      "\u001b[0;31m---------------------------------------------------------------------------\u001b[0m",
      "\u001b[0;31mKeyboardInterrupt\u001b[0m                         Traceback (most recent call last)",
      "Cell \u001b[0;32mIn[7], line 1\u001b[0m\n\u001b[0;32m----> 1\u001b[0m \u001b[43mclean_gwas_catalog_data\u001b[49m\u001b[43m(\u001b[49m\u001b[43mos\u001b[49m\u001b[38;5;241;43m.\u001b[39;49m\u001b[43mpath\u001b[49m\u001b[38;5;241;43m.\u001b[39;49m\u001b[43mjoin\u001b[49m\u001b[43m(\u001b[49m\u001b[43mdatadir\u001b[49m\u001b[43m,\u001b[49m\u001b[43m \u001b[49m\u001b[38;5;124;43m'\u001b[39;49m\u001b[38;5;124;43mGWASCatalog\u001b[39;49m\u001b[38;5;124;43m'\u001b[39;49m\u001b[43m,\u001b[49m\u001b[43m \u001b[49m\u001b[38;5;124;43m'\u001b[39;49m\u001b[38;5;124;43mgwas_catalog_Jan29_2025.txt\u001b[39;49m\u001b[38;5;124;43m'\u001b[39;49m\u001b[43m)\u001b[49m\u001b[43m,\u001b[49m\u001b[43m \u001b[49m\u001b[43mos\u001b[49m\u001b[38;5;241;43m.\u001b[39;49m\u001b[43mpath\u001b[49m\u001b[38;5;241;43m.\u001b[39;49m\u001b[43mjoin\u001b[49m\u001b[43m(\u001b[49m\u001b[43mdatadir\u001b[49m\u001b[43m,\u001b[49m\u001b[43m \u001b[49m\u001b[38;5;124;43m'\u001b[39;49m\u001b[38;5;124;43mGWASCatalog\u001b[39;49m\u001b[38;5;124;43m'\u001b[39;49m\u001b[43m,\u001b[49m\u001b[43m \u001b[49m\u001b[38;5;124;43m'\u001b[39;49m\u001b[38;5;124;43mgwas_catalog_Jan29_2025.txt.cleaned_test\u001b[39;49m\u001b[38;5;124;43m'\u001b[39;49m\u001b[43m)\u001b[49m\u001b[43m,\u001b[49m\u001b[43m \u001b[49m\u001b[43mpval_th\u001b[49m\u001b[38;5;241;43m=\u001b[39;49m\u001b[38;5;241;43m1\u001b[39;49m\u001b[43m)\u001b[49m\n",
      "Cell \u001b[0;32mIn[6], line 17\u001b[0m, in \u001b[0;36mclean_gwas_catalog_data\u001b[0;34m(datafile, outfile, pval_th, include_intergenic)\u001b[0m\n\u001b[1;32m     15\u001b[0m \u001b[38;5;28;01mif\u001b[39;00m include_intergenic:\n\u001b[1;32m     16\u001b[0m     cols \u001b[38;5;241m=\u001b[39m cols \u001b[38;5;241m+\u001b[39m [\u001b[38;5;124m'\u001b[39m\u001b[38;5;124mUPSTREAM_GENE_ID\u001b[39m\u001b[38;5;124m'\u001b[39m, \u001b[38;5;124m'\u001b[39m\u001b[38;5;124mDOWNSTREAM_GENE_ID\u001b[39m\u001b[38;5;124m'\u001b[39m, \u001b[38;5;124m'\u001b[39m\u001b[38;5;124mUPSTREAM_GENE_DISTANCE\u001b[39m\u001b[38;5;124m'\u001b[39m, \u001b[38;5;124m'\u001b[39m\u001b[38;5;124mDOWNSTREAM_GENE_DISTANCE\u001b[39m\u001b[38;5;124m'\u001b[39m]\n\u001b[0;32m---> 17\u001b[0m data \u001b[38;5;241m=\u001b[39m \u001b[43mpd\u001b[49m\u001b[38;5;241;43m.\u001b[39;49m\u001b[43mread_csv\u001b[49m\u001b[43m(\u001b[49m\u001b[43mdatafile\u001b[49m\u001b[43m,\u001b[49m\u001b[43m \u001b[49m\u001b[43msep\u001b[49m\u001b[38;5;241;43m=\u001b[39;49m\u001b[38;5;124;43m\"\u001b[39;49m\u001b[38;5;130;43;01m\\t\u001b[39;49;00m\u001b[38;5;124;43m\"\u001b[39;49m\u001b[43m,\u001b[49m\u001b[43m \u001b[49m\u001b[43musecols\u001b[49m\u001b[38;5;241;43m=\u001b[39;49m\u001b[43mcols\u001b[49m\u001b[43m)\u001b[49m\n\u001b[1;32m     18\u001b[0m \u001b[38;5;66;03m# filter on pval\u001b[39;00m\n\u001b[1;32m     19\u001b[0m data \u001b[38;5;241m=\u001b[39m data[data[\u001b[38;5;124m\"\u001b[39m\u001b[38;5;124mP-VALUE\u001b[39m\u001b[38;5;124m\"\u001b[39m] \u001b[38;5;241m<\u001b[39m\u001b[38;5;241m=\u001b[39m pval_th]\n",
      "File \u001b[0;32m~/anaconda3/envs/carva/lib/python3.10/site-packages/pandas/io/parsers/readers.py:1026\u001b[0m, in \u001b[0;36mread_csv\u001b[0;34m(filepath_or_buffer, sep, delimiter, header, names, index_col, usecols, dtype, engine, converters, true_values, false_values, skipinitialspace, skiprows, skipfooter, nrows, na_values, keep_default_na, na_filter, verbose, skip_blank_lines, parse_dates, infer_datetime_format, keep_date_col, date_parser, date_format, dayfirst, cache_dates, iterator, chunksize, compression, thousands, decimal, lineterminator, quotechar, quoting, doublequote, escapechar, comment, encoding, encoding_errors, dialect, on_bad_lines, delim_whitespace, low_memory, memory_map, float_precision, storage_options, dtype_backend)\u001b[0m\n\u001b[1;32m   1013\u001b[0m kwds_defaults \u001b[38;5;241m=\u001b[39m _refine_defaults_read(\n\u001b[1;32m   1014\u001b[0m     dialect,\n\u001b[1;32m   1015\u001b[0m     delimiter,\n\u001b[0;32m   (...)\u001b[0m\n\u001b[1;32m   1022\u001b[0m     dtype_backend\u001b[38;5;241m=\u001b[39mdtype_backend,\n\u001b[1;32m   1023\u001b[0m )\n\u001b[1;32m   1024\u001b[0m kwds\u001b[38;5;241m.\u001b[39mupdate(kwds_defaults)\n\u001b[0;32m-> 1026\u001b[0m \u001b[38;5;28;01mreturn\u001b[39;00m \u001b[43m_read\u001b[49m\u001b[43m(\u001b[49m\u001b[43mfilepath_or_buffer\u001b[49m\u001b[43m,\u001b[49m\u001b[43m \u001b[49m\u001b[43mkwds\u001b[49m\u001b[43m)\u001b[49m\n",
      "File \u001b[0;32m~/anaconda3/envs/carva/lib/python3.10/site-packages/pandas/io/parsers/readers.py:626\u001b[0m, in \u001b[0;36m_read\u001b[0;34m(filepath_or_buffer, kwds)\u001b[0m\n\u001b[1;32m    623\u001b[0m     \u001b[38;5;28;01mreturn\u001b[39;00m parser\n\u001b[1;32m    625\u001b[0m \u001b[38;5;28;01mwith\u001b[39;00m parser:\n\u001b[0;32m--> 626\u001b[0m     \u001b[38;5;28;01mreturn\u001b[39;00m \u001b[43mparser\u001b[49m\u001b[38;5;241;43m.\u001b[39;49m\u001b[43mread\u001b[49m\u001b[43m(\u001b[49m\u001b[43mnrows\u001b[49m\u001b[43m)\u001b[49m\n",
      "File \u001b[0;32m~/anaconda3/envs/carva/lib/python3.10/site-packages/pandas/io/parsers/readers.py:1968\u001b[0m, in \u001b[0;36mTextFileReader.read\u001b[0;34m(self, nrows)\u001b[0m\n\u001b[1;32m   1965\u001b[0m     \u001b[38;5;28;01melse\u001b[39;00m:\n\u001b[1;32m   1966\u001b[0m         new_col_dict \u001b[38;5;241m=\u001b[39m col_dict\n\u001b[0;32m-> 1968\u001b[0m     df \u001b[38;5;241m=\u001b[39m \u001b[43mDataFrame\u001b[49m\u001b[43m(\u001b[49m\n\u001b[1;32m   1969\u001b[0m \u001b[43m        \u001b[49m\u001b[43mnew_col_dict\u001b[49m\u001b[43m,\u001b[49m\n\u001b[1;32m   1970\u001b[0m \u001b[43m        \u001b[49m\u001b[43mcolumns\u001b[49m\u001b[38;5;241;43m=\u001b[39;49m\u001b[43mcolumns\u001b[49m\u001b[43m,\u001b[49m\n\u001b[1;32m   1971\u001b[0m \u001b[43m        \u001b[49m\u001b[43mindex\u001b[49m\u001b[38;5;241;43m=\u001b[39;49m\u001b[43mindex\u001b[49m\u001b[43m,\u001b[49m\n\u001b[1;32m   1972\u001b[0m \u001b[43m        \u001b[49m\u001b[43mcopy\u001b[49m\u001b[38;5;241;43m=\u001b[39;49m\u001b[38;5;129;43;01mnot\u001b[39;49;00m\u001b[43m \u001b[49m\u001b[43musing_copy_on_write\u001b[49m\u001b[43m(\u001b[49m\u001b[43m)\u001b[49m\u001b[43m,\u001b[49m\n\u001b[1;32m   1973\u001b[0m \u001b[43m    \u001b[49m\u001b[43m)\u001b[49m\n\u001b[1;32m   1975\u001b[0m     \u001b[38;5;28mself\u001b[39m\u001b[38;5;241m.\u001b[39m_currow \u001b[38;5;241m+\u001b[39m\u001b[38;5;241m=\u001b[39m new_rows\n\u001b[1;32m   1976\u001b[0m \u001b[38;5;28;01mreturn\u001b[39;00m df\n",
      "File \u001b[0;32m~/anaconda3/envs/carva/lib/python3.10/site-packages/pandas/core/frame.py:778\u001b[0m, in \u001b[0;36mDataFrame.__init__\u001b[0;34m(self, data, index, columns, dtype, copy)\u001b[0m\n\u001b[1;32m    772\u001b[0m     mgr \u001b[38;5;241m=\u001b[39m \u001b[38;5;28mself\u001b[39m\u001b[38;5;241m.\u001b[39m_init_mgr(\n\u001b[1;32m    773\u001b[0m         data, axes\u001b[38;5;241m=\u001b[39m{\u001b[38;5;124m\"\u001b[39m\u001b[38;5;124mindex\u001b[39m\u001b[38;5;124m\"\u001b[39m: index, \u001b[38;5;124m\"\u001b[39m\u001b[38;5;124mcolumns\u001b[39m\u001b[38;5;124m\"\u001b[39m: columns}, dtype\u001b[38;5;241m=\u001b[39mdtype, copy\u001b[38;5;241m=\u001b[39mcopy\n\u001b[1;32m    774\u001b[0m     )\n\u001b[1;32m    776\u001b[0m \u001b[38;5;28;01melif\u001b[39;00m \u001b[38;5;28misinstance\u001b[39m(data, \u001b[38;5;28mdict\u001b[39m):\n\u001b[1;32m    777\u001b[0m     \u001b[38;5;66;03m# GH#38939 de facto copy defaults to False only in non-dict cases\u001b[39;00m\n\u001b[0;32m--> 778\u001b[0m     mgr \u001b[38;5;241m=\u001b[39m \u001b[43mdict_to_mgr\u001b[49m\u001b[43m(\u001b[49m\u001b[43mdata\u001b[49m\u001b[43m,\u001b[49m\u001b[43m \u001b[49m\u001b[43mindex\u001b[49m\u001b[43m,\u001b[49m\u001b[43m \u001b[49m\u001b[43mcolumns\u001b[49m\u001b[43m,\u001b[49m\u001b[43m \u001b[49m\u001b[43mdtype\u001b[49m\u001b[38;5;241;43m=\u001b[39;49m\u001b[43mdtype\u001b[49m\u001b[43m,\u001b[49m\u001b[43m \u001b[49m\u001b[43mcopy\u001b[49m\u001b[38;5;241;43m=\u001b[39;49m\u001b[43mcopy\u001b[49m\u001b[43m,\u001b[49m\u001b[43m \u001b[49m\u001b[43mtyp\u001b[49m\u001b[38;5;241;43m=\u001b[39;49m\u001b[43mmanager\u001b[49m\u001b[43m)\u001b[49m\n\u001b[1;32m    779\u001b[0m \u001b[38;5;28;01melif\u001b[39;00m \u001b[38;5;28misinstance\u001b[39m(data, ma\u001b[38;5;241m.\u001b[39mMaskedArray):\n\u001b[1;32m    780\u001b[0m     \u001b[38;5;28;01mfrom\u001b[39;00m \u001b[38;5;21;01mnumpy\u001b[39;00m\u001b[38;5;21;01m.\u001b[39;00m\u001b[38;5;21;01mma\u001b[39;00m \u001b[38;5;28;01mimport\u001b[39;00m mrecords\n",
      "File \u001b[0;32m~/anaconda3/envs/carva/lib/python3.10/site-packages/pandas/core/internals/construction.py:503\u001b[0m, in \u001b[0;36mdict_to_mgr\u001b[0;34m(data, index, columns, dtype, typ, copy)\u001b[0m\n\u001b[1;32m    499\u001b[0m     \u001b[38;5;28;01melse\u001b[39;00m:\n\u001b[1;32m    500\u001b[0m         \u001b[38;5;66;03m# dtype check to exclude e.g. range objects, scalars\u001b[39;00m\n\u001b[1;32m    501\u001b[0m         arrays \u001b[38;5;241m=\u001b[39m [x\u001b[38;5;241m.\u001b[39mcopy() \u001b[38;5;28;01mif\u001b[39;00m \u001b[38;5;28mhasattr\u001b[39m(x, \u001b[38;5;124m\"\u001b[39m\u001b[38;5;124mdtype\u001b[39m\u001b[38;5;124m\"\u001b[39m) \u001b[38;5;28;01melse\u001b[39;00m x \u001b[38;5;28;01mfor\u001b[39;00m x \u001b[38;5;129;01min\u001b[39;00m arrays]\n\u001b[0;32m--> 503\u001b[0m \u001b[38;5;28;01mreturn\u001b[39;00m \u001b[43marrays_to_mgr\u001b[49m\u001b[43m(\u001b[49m\u001b[43marrays\u001b[49m\u001b[43m,\u001b[49m\u001b[43m \u001b[49m\u001b[43mcolumns\u001b[49m\u001b[43m,\u001b[49m\u001b[43m \u001b[49m\u001b[43mindex\u001b[49m\u001b[43m,\u001b[49m\u001b[43m \u001b[49m\u001b[43mdtype\u001b[49m\u001b[38;5;241;43m=\u001b[39;49m\u001b[43mdtype\u001b[49m\u001b[43m,\u001b[49m\u001b[43m \u001b[49m\u001b[43mtyp\u001b[49m\u001b[38;5;241;43m=\u001b[39;49m\u001b[43mtyp\u001b[49m\u001b[43m,\u001b[49m\u001b[43m \u001b[49m\u001b[43mconsolidate\u001b[49m\u001b[38;5;241;43m=\u001b[39;49m\u001b[43mcopy\u001b[49m\u001b[43m)\u001b[49m\n",
      "File \u001b[0;32m~/anaconda3/envs/carva/lib/python3.10/site-packages/pandas/core/internals/construction.py:152\u001b[0m, in \u001b[0;36marrays_to_mgr\u001b[0;34m(arrays, columns, index, dtype, verify_integrity, typ, consolidate)\u001b[0m\n\u001b[1;32m    149\u001b[0m axes \u001b[38;5;241m=\u001b[39m [columns, index]\n\u001b[1;32m    151\u001b[0m \u001b[38;5;28;01mif\u001b[39;00m typ \u001b[38;5;241m==\u001b[39m \u001b[38;5;124m\"\u001b[39m\u001b[38;5;124mblock\u001b[39m\u001b[38;5;124m\"\u001b[39m:\n\u001b[0;32m--> 152\u001b[0m     \u001b[38;5;28;01mreturn\u001b[39;00m \u001b[43mcreate_block_manager_from_column_arrays\u001b[49m\u001b[43m(\u001b[49m\n\u001b[1;32m    153\u001b[0m \u001b[43m        \u001b[49m\u001b[43marrays\u001b[49m\u001b[43m,\u001b[49m\u001b[43m \u001b[49m\u001b[43maxes\u001b[49m\u001b[43m,\u001b[49m\u001b[43m \u001b[49m\u001b[43mconsolidate\u001b[49m\u001b[38;5;241;43m=\u001b[39;49m\u001b[43mconsolidate\u001b[49m\u001b[43m,\u001b[49m\u001b[43m \u001b[49m\u001b[43mrefs\u001b[49m\u001b[38;5;241;43m=\u001b[39;49m\u001b[43mrefs\u001b[49m\n\u001b[1;32m    154\u001b[0m \u001b[43m    \u001b[49m\u001b[43m)\u001b[49m\n\u001b[1;32m    155\u001b[0m \u001b[38;5;28;01melif\u001b[39;00m typ \u001b[38;5;241m==\u001b[39m \u001b[38;5;124m\"\u001b[39m\u001b[38;5;124marray\u001b[39m\u001b[38;5;124m\"\u001b[39m:\n\u001b[1;32m    156\u001b[0m     \u001b[38;5;28;01mreturn\u001b[39;00m ArrayManager(arrays, [index, columns])\n",
      "File \u001b[0;32m~/anaconda3/envs/carva/lib/python3.10/site-packages/pandas/core/internals/managers.py:2144\u001b[0m, in \u001b[0;36mcreate_block_manager_from_column_arrays\u001b[0;34m(arrays, axes, consolidate, refs)\u001b[0m\n\u001b[1;32m   2142\u001b[0m     raise_construction_error(\u001b[38;5;28mlen\u001b[39m(arrays), arrays[\u001b[38;5;241m0\u001b[39m]\u001b[38;5;241m.\u001b[39mshape, axes, e)\n\u001b[1;32m   2143\u001b[0m \u001b[38;5;28;01mif\u001b[39;00m consolidate:\n\u001b[0;32m-> 2144\u001b[0m     \u001b[43mmgr\u001b[49m\u001b[38;5;241;43m.\u001b[39;49m\u001b[43m_consolidate_inplace\u001b[49m\u001b[43m(\u001b[49m\u001b[43m)\u001b[49m\n\u001b[1;32m   2145\u001b[0m \u001b[38;5;28;01mreturn\u001b[39;00m mgr\n",
      "File \u001b[0;32m~/anaconda3/envs/carva/lib/python3.10/site-packages/pandas/core/internals/managers.py:1788\u001b[0m, in \u001b[0;36mBlockManager._consolidate_inplace\u001b[0;34m(self)\u001b[0m\n\u001b[1;32m   1782\u001b[0m \u001b[38;5;28;01mdef\u001b[39;00m \u001b[38;5;21m_consolidate_inplace\u001b[39m(\u001b[38;5;28mself\u001b[39m) \u001b[38;5;241m-\u001b[39m\u001b[38;5;241m>\u001b[39m \u001b[38;5;28;01mNone\u001b[39;00m:\n\u001b[1;32m   1783\u001b[0m     \u001b[38;5;66;03m# In general, _consolidate_inplace should only be called via\u001b[39;00m\n\u001b[1;32m   1784\u001b[0m     \u001b[38;5;66;03m#  DataFrame._consolidate_inplace, otherwise we will fail to invalidate\u001b[39;00m\n\u001b[1;32m   1785\u001b[0m     \u001b[38;5;66;03m#  the DataFrame's _item_cache. The exception is for newly-created\u001b[39;00m\n\u001b[1;32m   1786\u001b[0m     \u001b[38;5;66;03m#  BlockManager objects not yet attached to a DataFrame.\u001b[39;00m\n\u001b[1;32m   1787\u001b[0m     \u001b[38;5;28;01mif\u001b[39;00m \u001b[38;5;129;01mnot\u001b[39;00m \u001b[38;5;28mself\u001b[39m\u001b[38;5;241m.\u001b[39mis_consolidated():\n\u001b[0;32m-> 1788\u001b[0m         \u001b[38;5;28mself\u001b[39m\u001b[38;5;241m.\u001b[39mblocks \u001b[38;5;241m=\u001b[39m \u001b[43m_consolidate\u001b[49m\u001b[43m(\u001b[49m\u001b[38;5;28;43mself\u001b[39;49m\u001b[38;5;241;43m.\u001b[39;49m\u001b[43mblocks\u001b[49m\u001b[43m)\u001b[49m\n\u001b[1;32m   1789\u001b[0m         \u001b[38;5;28mself\u001b[39m\u001b[38;5;241m.\u001b[39m_is_consolidated \u001b[38;5;241m=\u001b[39m \u001b[38;5;28;01mTrue\u001b[39;00m\n\u001b[1;32m   1790\u001b[0m         \u001b[38;5;28mself\u001b[39m\u001b[38;5;241m.\u001b[39m_known_consolidated \u001b[38;5;241m=\u001b[39m \u001b[38;5;28;01mTrue\u001b[39;00m\n",
      "File \u001b[0;32m~/anaconda3/envs/carva/lib/python3.10/site-packages/pandas/core/internals/managers.py:2269\u001b[0m, in \u001b[0;36m_consolidate\u001b[0;34m(blocks)\u001b[0m\n\u001b[1;32m   2267\u001b[0m new_blocks: \u001b[38;5;28mlist\u001b[39m[Block] \u001b[38;5;241m=\u001b[39m []\n\u001b[1;32m   2268\u001b[0m \u001b[38;5;28;01mfor\u001b[39;00m (_can_consolidate, dtype), group_blocks \u001b[38;5;129;01min\u001b[39;00m grouper:\n\u001b[0;32m-> 2269\u001b[0m     merged_blocks, _ \u001b[38;5;241m=\u001b[39m \u001b[43m_merge_blocks\u001b[49m\u001b[43m(\u001b[49m\n\u001b[1;32m   2270\u001b[0m \u001b[43m        \u001b[49m\u001b[38;5;28;43mlist\u001b[39;49m\u001b[43m(\u001b[49m\u001b[43mgroup_blocks\u001b[49m\u001b[43m)\u001b[49m\u001b[43m,\u001b[49m\u001b[43m \u001b[49m\u001b[43mdtype\u001b[49m\u001b[38;5;241;43m=\u001b[39;49m\u001b[43mdtype\u001b[49m\u001b[43m,\u001b[49m\u001b[43m \u001b[49m\u001b[43mcan_consolidate\u001b[49m\u001b[38;5;241;43m=\u001b[39;49m\u001b[43m_can_consolidate\u001b[49m\n\u001b[1;32m   2271\u001b[0m \u001b[43m    \u001b[49m\u001b[43m)\u001b[49m\n\u001b[1;32m   2272\u001b[0m     new_blocks \u001b[38;5;241m=\u001b[39m extend_blocks(merged_blocks, new_blocks)\n\u001b[1;32m   2273\u001b[0m \u001b[38;5;28;01mreturn\u001b[39;00m \u001b[38;5;28mtuple\u001b[39m(new_blocks)\n",
      "File \u001b[0;32m~/anaconda3/envs/carva/lib/python3.10/site-packages/pandas/core/internals/managers.py:2304\u001b[0m, in \u001b[0;36m_merge_blocks\u001b[0;34m(blocks, dtype, can_consolidate)\u001b[0m\n\u001b[1;32m   2301\u001b[0m     new_values \u001b[38;5;241m=\u001b[39m new_values[argsort]\n\u001b[1;32m   2302\u001b[0m     new_mgr_locs \u001b[38;5;241m=\u001b[39m new_mgr_locs[argsort]\n\u001b[0;32m-> 2304\u001b[0m     bp \u001b[38;5;241m=\u001b[39m \u001b[43mBlockPlacement\u001b[49m\u001b[43m(\u001b[49m\u001b[43mnew_mgr_locs\u001b[49m\u001b[43m)\u001b[49m\n\u001b[1;32m   2305\u001b[0m     \u001b[38;5;28;01mreturn\u001b[39;00m [new_block_2d(new_values, placement\u001b[38;5;241m=\u001b[39mbp)], \u001b[38;5;28;01mTrue\u001b[39;00m\n\u001b[1;32m   2307\u001b[0m \u001b[38;5;66;03m# can't consolidate --> no merge\u001b[39;00m\n",
      "\u001b[0;31mKeyboardInterrupt\u001b[0m: "
     ]
    }
   ],
   "source": [
    "clean_gwas_catalog_data(os.path.join(datadir, 'GWASCatalog', 'gwas_catalog_Jan29_2025.txt'), os.path.join(datadir, 'GWASCatalog', 'gwas_catalog_Jan29_2025.txt.cleaned_test'), pval_th=1)"
   ]
  },
  {
   "cell_type": "markdown",
   "metadata": {},
   "source": [
    "### Convert to NCBI Gene IDs"
   ]
  },
  {
   "cell_type": "code",
   "execution_count": null,
   "metadata": {},
   "outputs": [],
   "source": [
    "gwas_genes= pd.read_csv(os.path.join(datadir, 'GWASCatalog', 'gwas_catalog_Jan29_2025.txt.cleaned_test'), sep=\"\\t\")"
   ]
  },
  {
   "cell_type": "code",
   "execution_count": null,
   "metadata": {},
   "outputs": [],
   "source": [
    "if False:\n",
    "    ensembl_map, missing = qe.get_latest_ensembl_id(gwas_genes['SNP_GENE_IDS'].unique())\n",
    "    ensembl_to_entrez, missing_entrez = gm.convert_node_ids(ensembl_map['to'].values, 'Ensembl', 'Entrez')\n",
    "    ensembl_map['Entrez'] = [ensembl_to_entrez[x] if x in ensembl_to_entrez else '' for x in ensembl_map['to']]\n",
    "    id_ensembl = gwas_genes.merge(ensembl_map.loc[:, ('from', 'Entrez')], left_on='SNP_GENE_IDS', right_on='from', how='left')\n",
    "    symbol_map, symbol_missing = qh.perform_hgnc_query(id_ensembl[(id_ensembl['Entrez'].isnull()) | (id_ensembl['Entrez']== '')]['MAPPED_GENE'].unique(), 'Symbol', 'Symbol')\n",
    "    symbol_to_entrez, missing = gm.convert_node_ids(list(symbol_map.values()), 'Symbol', 'Entrez')\n",
    "    symbol_map = pd.DataFrame(symbol_map.items(), columns=['from', 'to'])\n",
    "    symbol_map['Entrez'] = [symbol_to_entrez[x] if x in symbol_to_entrez else '' for x in symbol_map['to']]\n",
    "    id_symbol = gwas_genes.iloc[~id_ensembl.index].merge(symbol_map.loc[:, ('from', 'Entrez')], left_on='MAPPED_GENE', right_on='from', how='inner')\n",
    "    id_ensembl = id_ensembl[(id_ensembl['Entrez'] != '') & (~id_ensembl['Entrez'].isnull())]\n",
    "    converted_gwas_genes = pd.concat([id_ensembl, id_symbol])\n",
    "    converted_gwas_genes = converted_gwas_genes[converted_gwas_genes['Entrez'] != '']\n",
    "    converted_gwas_genes.to_csv(os.path.join(datadir, 'GWASCatalog', 'gwas_catalog_Jan29_2025.txt.cleaned_test.entrez'), sep=\"\\t\", index=False)\n",
    "else:\n",
    "    converted_gwas_genes = pd.read_csv(os.path.join(datadir, 'GWASCatalog', 'gwas_catalog_Jan29_2025.txt.cleaned_test.entrez'), sep=\"\\t\")"
   ]
  },
  {
   "cell_type": "code",
   "execution_count": 41,
   "metadata": {
    "ExecuteTime": {
     "end_time": "2025-02-03T20:49:21.389485Z",
     "start_time": "2025-02-03T20:49:20.510774Z"
    }
   },
   "outputs": [],
   "source": [
    "gwas_genes= pd.read_csv(os.path.join(datadir, 'GWASCatalog', 'gwas_catalog_Jan29_2025.txt.cleanedJan29'), sep=\"\\t\")\n",
    "gwas_genes_old = pd.read_csv(os.path.join(datadir, 'GWASCatalog/Jan22', 'gwas_cat_download_Jan22.txt.cleanedJun17'), sep=\"\\t\")"
   ]
  },
  {
   "cell_type": "markdown",
   "metadata": {},
   "source": [
    "### Clean EFO trait mappings"
   ]
  },
  {
   "cell_type": "code",
   "execution_count": null,
   "metadata": {},
   "outputs": [],
   "source": []
  },
  {
   "cell_type": "markdown",
   "metadata": {},
   "source": [
    "# ---- OLD ---"
   ]
  },
  {
   "cell_type": "markdown",
   "metadata": {},
   "source": [
    "### Load EFO Ontology"
   ]
  },
  {
   "cell_type": "code",
   "execution_count": 34,
   "metadata": {
    "ExecuteTime": {
     "end_time": "2025-02-03T20:49:17.490657Z",
     "start_time": "2025-02-03T20:49:05.533673Z"
    }
   },
   "outputs": [],
   "source": [
    "efo = obo.read_obo('http://www.ebi.ac.uk/efo/efo.obo')\n",
    "efo_root='EFO:0000001'"
   ]
  },
  {
   "cell_type": "code",
   "execution_count": 35,
   "metadata": {
    "ExecuteTime": {
     "end_time": "2025-02-03T20:49:17.685755Z",
     "start_time": "2025-02-03T20:49:17.682113Z"
    }
   },
   "outputs": [],
   "source": [
    "n = list(efo.nodes())"
   ]
  },
  {
   "cell_type": "code",
   "execution_count": null,
   "metadata": {},
   "outputs": [],
   "source": []
  },
  {
   "cell_type": "code",
   "execution_count": 6,
   "metadata": {
    "ExecuteTime": {
     "end_time": "2025-01-30T01:15:40.096465Z",
     "start_time": "2025-01-30T01:15:40.027875Z"
    }
   },
   "outputs": [],
   "source": [
    "depths = nx.single_target_shortest_path_length(efo, efo_root)\n",
    "depth_dict = {source:distance for source, distance in depths}"
   ]
  },
  {
   "cell_type": "code",
   "execution_count": 1,
   "metadata": {
    "ExecuteTime": {
     "end_time": "2025-03-28T17:54:01.927142Z",
     "start_time": "2025-03-28T17:54:01.920377Z"
    }
   },
   "outputs": [],
   "source": [
    "def return_more_specific_code(codeA, codeB, depth_dict, study_data):\n",
    "    if codeA == codeB:\n",
    "        return codeA\n",
    "    try:\n",
    "        codeA, codeB = [code.replace('_', ':') for code in [codeA, codeB]]\n",
    "    except:\n",
    "        if type(codeA) == float:\n",
    "            return codeB\n",
    "        elif type(codeB) == float:\n",
    "            return codeA\n",
    "        else:\n",
    "            print('TYPE_ERROR:', codeA, codeB)\n",
    "    present = [code in depth_dict for code in [codeA, codeB]]\n",
    "    if sum(present) == 2:\n",
    "\n",
    "        depthA = depth_dict[codeA]\n",
    "        depthB = depth_dict[codeB]\n",
    "        if depthA > depthB:\n",
    "            return codeA\n",
    "        elif depthB > depthA:\n",
    "            return codeB\n",
    "        # if they have the same depth, return the one with fewer studies listed. \n",
    "        else:\n",
    "            return check_study_counts(codeA, codeB, study_data)\n",
    "    elif sum(present) == 1:\n",
    "        return [codeA, codeB][present.index(True)]\n",
    "    else:\n",
    "        print(f'Neither {codeA} or {codeB} present in EFO. Returning {codeB}')\n",
    "        return codeB\n",
    "    \n",
    "def check_study_counts(codeA, codeB, data):\n",
    "    codeA, codeB = [code.replace(':', '_') for code in [codeA, codeB]]\n",
    "    codeA_count = data[data.STUDY_EFO==codeA].shape[0] + data[data.TRAIT_EFO==codeA].shape[0]\n",
    "    codeB_count = data[data.STUDY_EFO==codeB].shape[0] + data[data.TRAIT_EFO==codeB].shape[0]\n",
    "    if codeA_count < codeB_count:\n",
    "        return codeA\n",
    "    if codeB_count < codeA_count:\n",
    "        return codeB\n",
    "    elif codeB_count == codeA_count:\n",
    "        print(f'{codeA} and {codeB} have equal study counts. Returning {codeB}')\n",
    "        return manually_determine_correct_code(codeA, codeB, data)\n",
    "\n",
    "def manually_determine_correct_code(codeA, codeB, data):\n",
    "    sub_data = data[(data.STUDY_EFO==codeA) & (data.TRAIT_EFO==codeB)]\n",
    "    for col in ['DISEASE/TRAIT', 'MAPPED_TRAIT', 'STUDY_EFO', 'Disease trait', 'EFO term', 'TRAIT_EFO']:\n",
    "        print(f'{col}:', sub_data[col].values)\n",
    "    return input()\n",
    "    "
   ]
  },
  {
   "cell_type": "markdown",
   "metadata": {},
   "source": [
    "## Load raw data"
   ]
  },
  {
   "cell_type": "code",
   "execution_count": 42,
   "metadata": {
    "ExecuteTime": {
     "end_time": "2025-02-03T20:49:21.630753Z",
     "start_time": "2025-02-03T20:49:21.600333Z"
    }
   },
   "outputs": [
    {
     "data": {
      "text/html": [
       "<div>\n",
       "<style scoped>\n",
       "    .dataframe tbody tr th:only-of-type {\n",
       "        vertical-align: middle;\n",
       "    }\n",
       "\n",
       "    .dataframe tbody tr th {\n",
       "        vertical-align: top;\n",
       "    }\n",
       "\n",
       "    .dataframe thead th {\n",
       "        text-align: right;\n",
       "    }\n",
       "</style>\n",
       "<table border=\"1\" class=\"dataframe\">\n",
       "  <thead>\n",
       "    <tr style=\"text-align: right;\">\n",
       "      <th></th>\n",
       "      <th>PUBMEDID</th>\n",
       "      <th>DATE</th>\n",
       "      <th>DISEASE/TRAIT</th>\n",
       "      <th>MAPPED_GENE</th>\n",
       "      <th>SNP_GENE_IDS</th>\n",
       "      <th>INTERGENIC</th>\n",
       "      <th>P-VALUE</th>\n",
       "      <th>OR or BETA</th>\n",
       "      <th>MAPPED_TRAIT</th>\n",
       "      <th>MAPPED_TRAIT_URI</th>\n",
       "      <th>STUDY ACCESSION</th>\n",
       "      <th>TRAIT_CODE</th>\n",
       "    </tr>\n",
       "  </thead>\n",
       "  <tbody>\n",
       "    <tr>\n",
       "      <th>31074</th>\n",
       "      <td>21931564</td>\n",
       "      <td>2011-09-08</td>\n",
       "      <td>Metabolite levels</td>\n",
       "      <td>PYROXD2</td>\n",
       "      <td>ENSG00000119943</td>\n",
       "      <td>0.0</td>\n",
       "      <td>8.000000e-15</td>\n",
       "      <td>1.19</td>\n",
       "      <td>metabolite measurement</td>\n",
       "      <td>http://www.ebi.ac.uk/efo/EFO_0004725</td>\n",
       "      <td>GCST001220</td>\n",
       "      <td>EFO_0004725</td>\n",
       "    </tr>\n",
       "    <tr>\n",
       "      <th>31075</th>\n",
       "      <td>21931564</td>\n",
       "      <td>2011-09-08</td>\n",
       "      <td>Metabolite levels</td>\n",
       "      <td>AGXT2</td>\n",
       "      <td>ENSG00000113492</td>\n",
       "      <td>0.0</td>\n",
       "      <td>1.000000e-06</td>\n",
       "      <td>1.25</td>\n",
       "      <td>metabolite measurement</td>\n",
       "      <td>http://www.ebi.ac.uk/efo/EFO_0004725</td>\n",
       "      <td>GCST001220</td>\n",
       "      <td>EFO_0004725</td>\n",
       "    </tr>\n",
       "    <tr>\n",
       "      <th>31076</th>\n",
       "      <td>21931564</td>\n",
       "      <td>2011-09-08</td>\n",
       "      <td>Metabolite levels</td>\n",
       "      <td>ALMS1</td>\n",
       "      <td>ENSG00000116127</td>\n",
       "      <td>0.0</td>\n",
       "      <td>1.000000e-11</td>\n",
       "      <td>1.10</td>\n",
       "      <td>metabolite measurement</td>\n",
       "      <td>http://www.ebi.ac.uk/efo/EFO_0004725</td>\n",
       "      <td>GCST001220</td>\n",
       "      <td>EFO_0004725</td>\n",
       "    </tr>\n",
       "  </tbody>\n",
       "</table>\n",
       "</div>"
      ],
      "text/plain": [
       "       PUBMEDID        DATE      DISEASE/TRAIT MAPPED_GENE     SNP_GENE_IDS  \\\n",
       "31074  21931564  2011-09-08  Metabolite levels     PYROXD2  ENSG00000119943   \n",
       "31075  21931564  2011-09-08  Metabolite levels       AGXT2  ENSG00000113492   \n",
       "31076  21931564  2011-09-08  Metabolite levels       ALMS1  ENSG00000116127   \n",
       "\n",
       "       INTERGENIC       P-VALUE  OR or BETA            MAPPED_TRAIT  \\\n",
       "31074         0.0  8.000000e-15        1.19  metabolite measurement   \n",
       "31075         0.0  1.000000e-06        1.25  metabolite measurement   \n",
       "31076         0.0  1.000000e-11        1.10  metabolite measurement   \n",
       "\n",
       "                           MAPPED_TRAIT_URI STUDY ACCESSION   TRAIT_CODE  \n",
       "31074  http://www.ebi.ac.uk/efo/EFO_0004725      GCST001220  EFO_0004725  \n",
       "31075  http://www.ebi.ac.uk/efo/EFO_0004725      GCST001220  EFO_0004725  \n",
       "31076  http://www.ebi.ac.uk/efo/EFO_0004725      GCST001220  EFO_0004725  "
      ]
     },
     "execution_count": 42,
     "metadata": {},
     "output_type": "execute_result"
    }
   ],
   "source": [
    "gwas_genes[gwas_genes['STUDY ACCESSION']=='GCST001220']"
   ]
  },
  {
   "cell_type": "code",
   "execution_count": 43,
   "metadata": {
    "ExecuteTime": {
     "end_time": "2025-02-03T20:49:23.654956Z",
     "start_time": "2025-02-03T20:49:23.611078Z"
    }
   },
   "outputs": [
    {
     "name": "stdout",
     "output_type": "stream",
     "text": [
      "Total reported traits 18955\n",
      "Total traits with ontology 6863\n",
      "Total genes 16052\n",
      "Min p-value 0.0\n",
      "Max p-value 1e-05\n"
     ]
    }
   ],
   "source": [
    "print('Total reported traits', len(gwas_genes_old['DISEASE/TRAIT'].unique()))\n",
    "print('Total traits with ontology', len(gwas_genes_old['TRAIT_CODE'].unique()))\n",
    "print('Total genes', len(gwas_genes_old['MAPPED_GENE'].unique()))\n",
    "print('Min p-value', gwas_genes_old['P-VALUE'].min())\n",
    "print('Max p-value', gwas_genes_old['P-VALUE'].max())"
   ]
  },
  {
   "cell_type": "code",
   "execution_count": 44,
   "metadata": {
    "ExecuteTime": {
     "end_time": "2025-02-03T20:49:25.754239Z",
     "start_time": "2025-02-03T20:49:25.696917Z"
    }
   },
   "outputs": [
    {
     "name": "stdout",
     "output_type": "stream",
     "text": [
      "Total reported traits 24893\n",
      "Total traits with ontology 7351\n",
      "Total genes 17133\n",
      "Min p-value 0.0\n",
      "Max p-value 1e-05\n"
     ]
    }
   ],
   "source": [
    "print('Total reported traits', len(gwas_genes['DISEASE/TRAIT'].unique()))\n",
    "print('Total traits with ontology', len(gwas_genes['TRAIT_CODE'].unique()))\n",
    "print('Total genes', len(gwas_genes['MAPPED_GENE'].unique()))\n",
    "print('Min p-value', gwas_genes['P-VALUE'].min())\n",
    "print('Max p-value', gwas_genes['P-VALUE'].max())"
   ]
  },
  {
   "cell_type": "markdown",
   "metadata": {},
   "source": [
    "Score distributions"
   ]
  },
  {
   "cell_type": "code",
   "execution_count": 45,
   "metadata": {
    "ExecuteTime": {
     "end_time": "2025-02-03T20:49:27.754971Z",
     "start_time": "2025-02-03T20:49:27.744255Z"
    }
   },
   "outputs": [],
   "source": [
    "gwas_genes['logp'] = -1 * np.log10(gwas_genes['P-VALUE']+1e-300)"
   ]
  },
  {
   "cell_type": "code",
   "execution_count": 46,
   "metadata": {
    "ExecuteTime": {
     "end_time": "2025-02-03T20:49:28.184261Z",
     "start_time": "2025-02-03T20:49:28.171268Z"
    }
   },
   "outputs": [
    {
     "data": {
      "text/plain": [
       "count    336840.000000\n",
       "mean         22.148681\n",
       "std          40.167155\n",
       "min           5.000000\n",
       "25%           8.000000\n",
       "50%          10.698970\n",
       "75%          18.000000\n",
       "max         300.000000\n",
       "Name: logp, dtype: float64"
      ]
     },
     "execution_count": 46,
     "metadata": {},
     "output_type": "execute_result"
    }
   ],
   "source": [
    "gwas_genes['logp'].describe()"
   ]
  },
  {
   "cell_type": "code",
   "execution_count": 47,
   "metadata": {
    "ExecuteTime": {
     "end_time": "2025-02-03T20:49:31.144067Z",
     "start_time": "2025-02-03T20:49:30.573001Z"
    }
   },
   "outputs": [
    {
     "data": {
      "text/plain": [
       "(0.5, 100000)"
      ]
     },
     "execution_count": 47,
     "metadata": {},
     "output_type": "execute_result"
    },
    {
     "data": {
      "image/png": "[encoded data removed]",
      "text/plain": [
       "<Figure size 400x100 with 1 Axes>"
      ]
     },
     "metadata": {},
     "output_type": "display_data"
    }
   ],
   "source": [
    "_  = plt.figure(figsize=(4, 1))\n",
    "sns.histplot(gwas_genes.logp, bins=300)\n",
    "plt.yscale('log')\n",
    "plt.vlines(x=4,ymin=0.5, ymax=1000000, color='red', zorder= 0, linewidth=0.5)\n",
    "plt.vlines(x=8,ymin=0.5, ymax=1000000, color='red', zorder= 0, linewidth=0.5)\n",
    "plt.ylim(0.5, 100000)"
   ]
  },
  {
   "cell_type": "code",
   "execution_count": 56,
   "metadata": {
    "ExecuteTime": {
     "end_time": "2024-12-03T22:09:27.321800Z",
     "start_time": "2024-12-03T22:09:27.313770Z"
    }
   },
   "outputs": [
    {
     "data": {
      "text/html": [
       "<div>\n",
       "<style scoped>\n",
       "    .dataframe tbody tr th:only-of-type {\n",
       "        vertical-align: middle;\n",
       "    }\n",
       "\n",
       "    .dataframe tbody tr th {\n",
       "        vertical-align: top;\n",
       "    }\n",
       "\n",
       "    .dataframe thead th {\n",
       "        text-align: right;\n",
       "    }\n",
       "</style>\n",
       "<table border=\"1\" class=\"dataframe\">\n",
       "  <thead>\n",
       "    <tr style=\"text-align: right;\">\n",
       "      <th></th>\n",
       "      <th>PUBMEDID</th>\n",
       "      <th>DATE</th>\n",
       "      <th>DISEASE/TRAIT</th>\n",
       "      <th>MAPPED_GENE</th>\n",
       "      <th>SNP_GENE_IDS</th>\n",
       "      <th>INTERGENIC</th>\n",
       "      <th>P-VALUE</th>\n",
       "      <th>MAPPED_TRAIT</th>\n",
       "      <th>MAPPED_TRAIT_URI</th>\n",
       "      <th>TRAIT_CODE</th>\n",
       "      <th>logp</th>\n",
       "    </tr>\n",
       "  </thead>\n",
       "  <tbody>\n",
       "    <tr>\n",
       "      <th>0</th>\n",
       "      <td>23583979</td>\n",
       "      <td>2013-04-14</td>\n",
       "      <td>Heart rate</td>\n",
       "      <td>SYT10</td>\n",
       "      <td>ENSG00000110975</td>\n",
       "      <td>0.0</td>\n",
       "      <td>6.000000e-24</td>\n",
       "      <td>heart rate</td>\n",
       "      <td>http://www.ebi.ac.uk/efo/EFO_0004326</td>\n",
       "      <td>EFO_0004326</td>\n",
       "      <td>23.221849</td>\n",
       "    </tr>\n",
       "    <tr>\n",
       "      <th>1</th>\n",
       "      <td>23583979</td>\n",
       "      <td>2013-04-14</td>\n",
       "      <td>Heart rate</td>\n",
       "      <td>MYH6</td>\n",
       "      <td>ENSG00000197616</td>\n",
       "      <td>0.0</td>\n",
       "      <td>5.000000e-45</td>\n",
       "      <td>heart rate</td>\n",
       "      <td>http://www.ebi.ac.uk/efo/EFO_0004326</td>\n",
       "      <td>EFO_0004326</td>\n",
       "      <td>44.301030</td>\n",
       "    </tr>\n",
       "    <tr>\n",
       "      <th>2</th>\n",
       "      <td>23583979</td>\n",
       "      <td>2013-04-14</td>\n",
       "      <td>Heart rate</td>\n",
       "      <td>KIAA1755</td>\n",
       "      <td>ENSG00000149633</td>\n",
       "      <td>0.0</td>\n",
       "      <td>5.000000e-29</td>\n",
       "      <td>heart rate</td>\n",
       "      <td>http://www.ebi.ac.uk/efo/EFO_0004326</td>\n",
       "      <td>EFO_0004326</td>\n",
       "      <td>28.301030</td>\n",
       "    </tr>\n",
       "    <tr>\n",
       "      <th>3</th>\n",
       "      <td>23583979</td>\n",
       "      <td>2013-04-14</td>\n",
       "      <td>Heart rate</td>\n",
       "      <td>CCDC141</td>\n",
       "      <td>ENSG00000163492</td>\n",
       "      <td>0.0</td>\n",
       "      <td>4.000000e-26</td>\n",
       "      <td>heart rate</td>\n",
       "      <td>http://www.ebi.ac.uk/efo/EFO_0004326</td>\n",
       "      <td>EFO_0004326</td>\n",
       "      <td>25.397940</td>\n",
       "    </tr>\n",
       "    <tr>\n",
       "      <th>4</th>\n",
       "      <td>23583979</td>\n",
       "      <td>2013-04-14</td>\n",
       "      <td>Heart rate</td>\n",
       "      <td>CHRM2</td>\n",
       "      <td>ENSG00000181072</td>\n",
       "      <td>0.0</td>\n",
       "      <td>1.000000e-12</td>\n",
       "      <td>heart rate</td>\n",
       "      <td>http://www.ebi.ac.uk/efo/EFO_0004326</td>\n",
       "      <td>EFO_0004326</td>\n",
       "      <td>12.000000</td>\n",
       "    </tr>\n",
       "  </tbody>\n",
       "</table>\n",
       "</div>"
      ],
      "text/plain": [
       "   PUBMEDID        DATE DISEASE/TRAIT MAPPED_GENE     SNP_GENE_IDS  \\\n",
       "0  23583979  2013-04-14    Heart rate       SYT10  ENSG00000110975   \n",
       "1  23583979  2013-04-14    Heart rate        MYH6  ENSG00000197616   \n",
       "2  23583979  2013-04-14    Heart rate    KIAA1755  ENSG00000149633   \n",
       "3  23583979  2013-04-14    Heart rate     CCDC141  ENSG00000163492   \n",
       "4  23583979  2013-04-14    Heart rate       CHRM2  ENSG00000181072   \n",
       "\n",
       "   INTERGENIC       P-VALUE MAPPED_TRAIT  \\\n",
       "0         0.0  6.000000e-24   heart rate   \n",
       "1         0.0  5.000000e-45   heart rate   \n",
       "2         0.0  5.000000e-29   heart rate   \n",
       "3         0.0  4.000000e-26   heart rate   \n",
       "4         0.0  1.000000e-12   heart rate   \n",
       "\n",
       "                       MAPPED_TRAIT_URI   TRAIT_CODE       logp  \n",
       "0  http://www.ebi.ac.uk/efo/EFO_0004326  EFO_0004326  23.221849  \n",
       "1  http://www.ebi.ac.uk/efo/EFO_0004326  EFO_0004326  44.301030  \n",
       "2  http://www.ebi.ac.uk/efo/EFO_0004326  EFO_0004326  28.301030  \n",
       "3  http://www.ebi.ac.uk/efo/EFO_0004326  EFO_0004326  25.397940  \n",
       "4  http://www.ebi.ac.uk/efo/EFO_0004326  EFO_0004326  12.000000  "
      ]
     },
     "execution_count": 56,
     "metadata": {},
     "output_type": "execute_result"
    }
   ],
   "source": [
    "gwas_genes.head()"
   ]
  },
  {
   "cell_type": "markdown",
   "metadata": {},
   "source": [
    "### GWAS Catalog Study info"
   ]
  },
  {
   "cell_type": "code",
   "execution_count": 6,
   "metadata": {
    "ExecuteTime": {
     "end_time": "2025-02-27T19:38:35.180399Z",
     "start_time": "2025-02-27T19:38:35.174205Z"
    }
   },
   "outputs": [],
   "source": [
    "def return_more_specific_code(codeA, codeB, depth_dict, study_data):\n",
    "    # are the codes the same?\n",
    "    if codeA == codeB:\n",
    "        return codeA\n",
    "    # is it just a formatting issue?\n",
    "    try:\n",
    "        codeA, codeB = [code.replace('_', ':') for code in [codeA, codeB]]\n",
    "    except:\n",
    "        # is one not an EFO code?\n",
    "        if type(codeA) == float:\n",
    "            return codeB\n",
    "        elif type(codeB) == float:\n",
    "            return codeA\n",
    "        else:\n",
    "            print('TYPE_ERROR:', codeA, codeB)\n",
    "    \n",
    "    present = [code in depth_dict for code in [codeA, codeB]]\n",
    "    if sum(present) == 2:\n",
    "        depthA = depth_dict[codeA]\n",
    "        depthB = depth_dict[codeB]\n",
    "        if depthA > depthB:\n",
    "            return codeA\n",
    "        elif depthB > depthA:\n",
    "            return codeB\n",
    "        else:\n",
    "            return check_study_counts(codeA, codeB, study_data)\n",
    "    # return the code that is present\n",
    "    elif sum(present) == 1:\n",
    "        return [codeA, codeB][present.index(True)]\n",
    "    # manually determine the better code\n",
    "    else:\n",
    "        print(f'Neither {codeA} or {codeB} present in EFO. Returning {codeB}')\n",
    "        return codeB\n",
    "    \n",
    "def check_study_counts(codeA, codeB, data):\n",
    "    codeA, codeB = [code.replace(':', '_') for code in [codeA, codeB]]\n",
    "    codeA_count = data[data.STUDY_EFO==codeA].shape[0] + data[data.TRAIT_EFO==codeA].shape[0]\n",
    "    codeB_count = data[data.STUDY_EFO==codeB].shape[0] + data[data.TRAIT_EFO==codeB].shape[0]\n",
    "    if codeA_count < codeB_count:\n",
    "        return codeA\n",
    "    if codeB_count < codeA_count:\n",
    "        return codeB\n",
    "    elif codeB_count == codeA_count:\n",
    "        print(f'{codeA} and {codeB} have equal study counts. Returning {codeB}')\n",
    "        return manually_determine_correct_code(codeA, codeB, data)\n",
    "\n",
    "def manually_determine_correct_code(codeA, codeB, data):\n",
    "    sub_data = data[(data.STUDY_EFO==codeA) & (data.TRAIT_EFO==codeB)]\n",
    "    for col in ['DISEASE/TRAIT', 'MAPPED_TRAIT', 'STUDY_EFO', 'Disease trait', 'EFO term', 'TRAIT_EFO']:\n",
    "        print(f'{col}:', sub_data[col].values)\n",
    "    return input()\n",
    "    "
   ]
  },
  {
   "cell_type": "code",
   "execution_count": 7,
   "metadata": {
    "ExecuteTime": {
     "end_time": "2025-02-27T19:38:46.671398Z",
     "start_time": "2025-02-27T19:38:46.368160Z"
    }
   },
   "outputs": [],
   "source": [
    "if False:\n",
    "    gwas_study = pd.read_csv(os.path.join(datadir, 'GWASCatalog', 'study_info.v1.0.3.1_Jan29_2025.txt'), sep=\"\\t\", \n",
    "                            usecols=['DISEASE/TRAIT','ASSOCIATION COUNT','MAPPED_TRAIT', 'MAPPED_TRAIT_URI','STUDY ACCESSION',\n",
    "                            'BACKGROUND TRAIT', 'MAPPED BACKGROUND TRAIT', 'MAPPED BACKGROUND TRAIT URI','COHORT', \n",
    "                            'FULL SUMMARY STATISTICS', 'SUMMARY STATS LOCATION', 'DATE ADDED TO CATALOG', 'INITIAL SAMPLE SIZE',\n",
    "                            'GENOTYPING TECHNOLOGY'  ])\n",
    "    trait_mappings = pd.read_csv(os.path.join(datadir, 'GWASCatalog', 'trait_mappings.txt'), sep=\"\\t\", usecols=['Disease trait', 'EFO term', 'EFO URI'])\n",
    "    trait_mappings['TRAIT_EFO'] = trait_mappings['EFO URI'].apply(lambda x: x.split('/')[-1])\n",
    "    trait_mappings.drop(columns=['EFO URI'], inplace=True)\n",
    "    #gwas_study = gwas_study.loc[(gwas_study['MAPPED BACKGROUND TRAIT URI'].isna()) & (gwas_study['FULL SUMMARY STATISTICS'] == 'yes')]\n",
    "    gwas_study = gwas_study.loc[~gwas_study['MAPPED_TRAIT_URI'].isna()]\n",
    "    gwas_study = gwas_study.loc[~gwas_study[\"MAPPED_TRAIT_URI\"].str.contains(\",\")]\n",
    "    gwas_study['STUDY_EFO'] = gwas_study['MAPPED_TRAIT_URI'].apply(lambda x: x.split('/')[-1])\n",
    "    gwas_study['GENOTYPING TECHNOLOGY'] = gwas_study['GENOTYPING TECHNOLOGY'].apply(lambda x: x.split('[')[0].strip())\n",
    "    # problem is here where there can be more than one match in the trait mappings. What\n",
    "    # was the problem I was trying to solve? \n",
    "    gwas_study = gwas_study.merge(trait_mappings, left_on='DISEASE/TRAIT', right_on='Disease trait', how='left')\n",
    "    gwas_study['TRAIT_CODE'] = gwas_study.apply(lambda x: return_more_specific_code(x['STUDY_EFO'], x['TRAIT_EFO'], depth_dict, gwas_study), axis=1)\n",
    "    gwas_study.loc[:, ('DISEASE/TRAIT', 'ASSOCIATION COUNT', 'STUDY ACCESSION','COHORT','MAPPED BACKGROUND TRAIT URI', \n",
    "                       'SUMMARY STATS LOCATION','TRAIT_CODE', 'DATE ADDED TO CATALOG', 'INITIAL SAMPLE SIZE', 'GENOTYPING TECHNOLOGY')].to_csv(os.path.join(datadir, 'GWASCatalog','trait_info_cleaned_Jan29_2025.txt'), sep='\\t', index=False)\n",
    "else:\n",
    "    gwas_study = pd.read_csv(os.path.join(datadir, 'GWASCatalog','trait_info_cleaned_Jan29_2025.txt'), sep='\\t')"
   ]
  },
  {
   "cell_type": "code",
   "execution_count": 49,
   "metadata": {
    "ExecuteTime": {
     "end_time": "2025-02-03T20:49:36.601439Z",
     "start_time": "2025-02-03T20:49:36.573034Z"
    }
   },
   "outputs": [
    {
     "data": {
      "text/html": [
       "<div>\n",
       "<style scoped>\n",
       "    .dataframe tbody tr th:only-of-type {\n",
       "        vertical-align: middle;\n",
       "    }\n",
       "\n",
       "    .dataframe tbody tr th {\n",
       "        vertical-align: top;\n",
       "    }\n",
       "\n",
       "    .dataframe thead th {\n",
       "        text-align: right;\n",
       "    }\n",
       "</style>\n",
       "<table border=\"1\" class=\"dataframe\">\n",
       "  <thead>\n",
       "    <tr style=\"text-align: right;\">\n",
       "      <th></th>\n",
       "      <th>PUBMEDID</th>\n",
       "      <th>DATE</th>\n",
       "      <th>DISEASE/TRAIT</th>\n",
       "      <th>MAPPED_GENE</th>\n",
       "      <th>SNP_GENE_IDS</th>\n",
       "      <th>INTERGENIC</th>\n",
       "      <th>P-VALUE</th>\n",
       "      <th>OR or BETA</th>\n",
       "      <th>MAPPED_TRAIT</th>\n",
       "      <th>MAPPED_TRAIT_URI</th>\n",
       "      <th>STUDY ACCESSION</th>\n",
       "      <th>TRAIT_CODE</th>\n",
       "      <th>logp</th>\n",
       "    </tr>\n",
       "  </thead>\n",
       "  <tbody>\n",
       "    <tr>\n",
       "      <th>31074</th>\n",
       "      <td>21931564</td>\n",
       "      <td>2011-09-08</td>\n",
       "      <td>Metabolite levels</td>\n",
       "      <td>PYROXD2</td>\n",
       "      <td>ENSG00000119943</td>\n",
       "      <td>0.0</td>\n",
       "      <td>8.000000e-15</td>\n",
       "      <td>1.19</td>\n",
       "      <td>metabolite measurement</td>\n",
       "      <td>http://www.ebi.ac.uk/efo/EFO_0004725</td>\n",
       "      <td>GCST001220</td>\n",
       "      <td>EFO_0004725</td>\n",
       "      <td>14.09691</td>\n",
       "    </tr>\n",
       "    <tr>\n",
       "      <th>31075</th>\n",
       "      <td>21931564</td>\n",
       "      <td>2011-09-08</td>\n",
       "      <td>Metabolite levels</td>\n",
       "      <td>AGXT2</td>\n",
       "      <td>ENSG00000113492</td>\n",
       "      <td>0.0</td>\n",
       "      <td>1.000000e-06</td>\n",
       "      <td>1.25</td>\n",
       "      <td>metabolite measurement</td>\n",
       "      <td>http://www.ebi.ac.uk/efo/EFO_0004725</td>\n",
       "      <td>GCST001220</td>\n",
       "      <td>EFO_0004725</td>\n",
       "      <td>6.00000</td>\n",
       "    </tr>\n",
       "    <tr>\n",
       "      <th>31076</th>\n",
       "      <td>21931564</td>\n",
       "      <td>2011-09-08</td>\n",
       "      <td>Metabolite levels</td>\n",
       "      <td>ALMS1</td>\n",
       "      <td>ENSG00000116127</td>\n",
       "      <td>0.0</td>\n",
       "      <td>1.000000e-11</td>\n",
       "      <td>1.10</td>\n",
       "      <td>metabolite measurement</td>\n",
       "      <td>http://www.ebi.ac.uk/efo/EFO_0004725</td>\n",
       "      <td>GCST001220</td>\n",
       "      <td>EFO_0004725</td>\n",
       "      <td>11.00000</td>\n",
       "    </tr>\n",
       "  </tbody>\n",
       "</table>\n",
       "</div>"
      ],
      "text/plain": [
       "       PUBMEDID        DATE      DISEASE/TRAIT MAPPED_GENE     SNP_GENE_IDS  \\\n",
       "31074  21931564  2011-09-08  Metabolite levels     PYROXD2  ENSG00000119943   \n",
       "31075  21931564  2011-09-08  Metabolite levels       AGXT2  ENSG00000113492   \n",
       "31076  21931564  2011-09-08  Metabolite levels       ALMS1  ENSG00000116127   \n",
       "\n",
       "       INTERGENIC       P-VALUE  OR or BETA            MAPPED_TRAIT  \\\n",
       "31074         0.0  8.000000e-15        1.19  metabolite measurement   \n",
       "31075         0.0  1.000000e-06        1.25  metabolite measurement   \n",
       "31076         0.0  1.000000e-11        1.10  metabolite measurement   \n",
       "\n",
       "                           MAPPED_TRAIT_URI STUDY ACCESSION   TRAIT_CODE  \\\n",
       "31074  http://www.ebi.ac.uk/efo/EFO_0004725      GCST001220  EFO_0004725   \n",
       "31075  http://www.ebi.ac.uk/efo/EFO_0004725      GCST001220  EFO_0004725   \n",
       "31076  http://www.ebi.ac.uk/efo/EFO_0004725      GCST001220  EFO_0004725   \n",
       "\n",
       "           logp  \n",
       "31074  14.09691  \n",
       "31075   6.00000  \n",
       "31076  11.00000  "
      ]
     },
     "execution_count": 49,
     "metadata": {},
     "output_type": "execute_result"
    }
   ],
   "source": [
    "gwas_genes[gwas_genes['STUDY ACCESSION'] == 'GCST001220']"
   ]
  },
  {
   "cell_type": "code",
   "execution_count": 50,
   "metadata": {
    "ExecuteTime": {
     "end_time": "2025-02-03T20:49:37.636111Z",
     "start_time": "2025-02-03T20:49:37.615609Z"
    }
   },
   "outputs": [
    {
     "data": {
      "text/plain": [
       "Disease trait\n",
       "Metabolite levels                                   233\n",
       "Obesity-related traits                               66\n",
       "Blood protein levels                                 56\n",
       "Blood protein levels in cardiovascular risk          55\n",
       "Cardiometabolic traits                               53\n",
       "                                                   ... \n",
       "Cutaneous squamous cell carcinoma                     1\n",
       "Zinc finger protein 10 levels                         1\n",
       "Zinc finger protein 10 levels (ZNF10.11567.23.3)      1\n",
       "Small intestine neuroendocrine tumor                  1\n",
       "Cognitive test performance                            1\n",
       "Name: count, Length: 53933, dtype: int64"
      ]
     },
     "execution_count": 50,
     "metadata": {},
     "output_type": "execute_result"
    }
   ],
   "source": [
    "trait_mappings['Disease trait'].value_counts().sort_values(ascending=False)"
   ]
  },
  {
   "cell_type": "code",
   "execution_count": 28,
   "metadata": {
    "ExecuteTime": {
     "end_time": "2025-02-01T19:54:51.672893Z",
     "start_time": "2025-02-01T19:54:51.643063Z"
    }
   },
   "outputs": [
    {
     "data": {
      "text/html": [
       "<div>\n",
       "<style scoped>\n",
       "    .dataframe tbody tr th:only-of-type {\n",
       "        vertical-align: middle;\n",
       "    }\n",
       "\n",
       "    .dataframe tbody tr th {\n",
       "        vertical-align: top;\n",
       "    }\n",
       "\n",
       "    .dataframe thead th {\n",
       "        text-align: right;\n",
       "    }\n",
       "</style>\n",
       "<table border=\"1\" class=\"dataframe\">\n",
       "  <thead>\n",
       "    <tr style=\"text-align: right;\">\n",
       "      <th></th>\n",
       "      <th>PUBMEDID</th>\n",
       "      <th>DATE</th>\n",
       "      <th>DISEASE/TRAIT</th>\n",
       "      <th>MAPPED_GENE</th>\n",
       "      <th>SNP_GENE_IDS</th>\n",
       "      <th>INTERGENIC</th>\n",
       "      <th>P-VALUE</th>\n",
       "      <th>OR or BETA</th>\n",
       "      <th>MAPPED_TRAIT</th>\n",
       "      <th>MAPPED_TRAIT_URI</th>\n",
       "      <th>STUDY ACCESSION</th>\n",
       "      <th>TRAIT_CODE</th>\n",
       "    </tr>\n",
       "  </thead>\n",
       "  <tbody>\n",
       "    <tr>\n",
       "      <th>32129</th>\n",
       "      <td>23823483</td>\n",
       "      <td>2013-07-02</td>\n",
       "      <td>Metabolite levels</td>\n",
       "      <td>CNTNAP2</td>\n",
       "      <td>ENSG00000174469</td>\n",
       "      <td>0.0</td>\n",
       "      <td>1.000000e-06</td>\n",
       "      <td>0.182363</td>\n",
       "      <td>cotinine measurement</td>\n",
       "      <td>http://www.ebi.ac.uk/efo/EFO_0007813</td>\n",
       "      <td>GCST009391</td>\n",
       "      <td>EFO_0007813</td>\n",
       "    </tr>\n",
       "    <tr>\n",
       "      <th>32130</th>\n",
       "      <td>23823483</td>\n",
       "      <td>2013-07-02</td>\n",
       "      <td>Metabolite levels</td>\n",
       "      <td>CDH4</td>\n",
       "      <td>ENSG00000179242</td>\n",
       "      <td>0.0</td>\n",
       "      <td>1.000000e-06</td>\n",
       "      <td>0.697002</td>\n",
       "      <td>cotinine measurement</td>\n",
       "      <td>http://www.ebi.ac.uk/efo/EFO_0007813</td>\n",
       "      <td>GCST009391</td>\n",
       "      <td>EFO_0007813</td>\n",
       "    </tr>\n",
       "    <tr>\n",
       "      <th>32131</th>\n",
       "      <td>23823483</td>\n",
       "      <td>2013-07-02</td>\n",
       "      <td>Metabolite levels</td>\n",
       "      <td>CTNNA2</td>\n",
       "      <td>ENSG00000066032</td>\n",
       "      <td>0.0</td>\n",
       "      <td>4.000000e-06</td>\n",
       "      <td>0.207161</td>\n",
       "      <td>cotinine measurement</td>\n",
       "      <td>http://www.ebi.ac.uk/efo/EFO_0007813</td>\n",
       "      <td>GCST009391</td>\n",
       "      <td>EFO_0007813</td>\n",
       "    </tr>\n",
       "    <tr>\n",
       "      <th>113339</th>\n",
       "      <td>29631575</td>\n",
       "      <td>2018-04-10</td>\n",
       "      <td>Cotinine levels in smokers with chronic obstru...</td>\n",
       "      <td>HYKK</td>\n",
       "      <td>ENSG00000188266</td>\n",
       "      <td>0.0</td>\n",
       "      <td>3.000000e-07</td>\n",
       "      <td>0.120000</td>\n",
       "      <td>cotinine measurement</td>\n",
       "      <td>http://www.ebi.ac.uk/efo/EFO_0007813</td>\n",
       "      <td>GCST005916</td>\n",
       "      <td>EFO_0007813</td>\n",
       "    </tr>\n",
       "  </tbody>\n",
       "</table>\n",
       "</div>"
      ],
      "text/plain": [
       "        PUBMEDID        DATE  \\\n",
       "32129   23823483  2013-07-02   \n",
       "32130   23823483  2013-07-02   \n",
       "32131   23823483  2013-07-02   \n",
       "113339  29631575  2018-04-10   \n",
       "\n",
       "                                            DISEASE/TRAIT MAPPED_GENE  \\\n",
       "32129                                   Metabolite levels     CNTNAP2   \n",
       "32130                                   Metabolite levels        CDH4   \n",
       "32131                                   Metabolite levels      CTNNA2   \n",
       "113339  Cotinine levels in smokers with chronic obstru...        HYKK   \n",
       "\n",
       "           SNP_GENE_IDS  INTERGENIC       P-VALUE  OR or BETA  \\\n",
       "32129   ENSG00000174469         0.0  1.000000e-06    0.182363   \n",
       "32130   ENSG00000179242         0.0  1.000000e-06    0.697002   \n",
       "32131   ENSG00000066032         0.0  4.000000e-06    0.207161   \n",
       "113339  ENSG00000188266         0.0  3.000000e-07    0.120000   \n",
       "\n",
       "                MAPPED_TRAIT                      MAPPED_TRAIT_URI  \\\n",
       "32129   cotinine measurement  http://www.ebi.ac.uk/efo/EFO_0007813   \n",
       "32130   cotinine measurement  http://www.ebi.ac.uk/efo/EFO_0007813   \n",
       "32131   cotinine measurement  http://www.ebi.ac.uk/efo/EFO_0007813   \n",
       "113339  cotinine measurement  http://www.ebi.ac.uk/efo/EFO_0007813   \n",
       "\n",
       "       STUDY ACCESSION   TRAIT_CODE  \n",
       "32129       GCST009391  EFO_0007813  \n",
       "32130       GCST009391  EFO_0007813  \n",
       "32131       GCST009391  EFO_0007813  \n",
       "113339      GCST005916  EFO_0007813  "
      ]
     },
     "execution_count": 28,
     "metadata": {},
     "output_type": "execute_result"
    }
   ],
   "source": [
    "gwas_genes[gwas_genes['MAPPED_TRAIT_URI']=='http://www.ebi.ac.uk/efo/EFO_0007813']"
   ]
  },
  {
   "cell_type": "code",
   "execution_count": 51,
   "metadata": {
    "ExecuteTime": {
     "end_time": "2025-02-03T20:49:43.748064Z",
     "start_time": "2025-02-03T20:49:43.648235Z"
    }
   },
   "outputs": [
    {
     "data": {
      "text/html": [
       "<div>\n",
       "<style scoped>\n",
       "    .dataframe tbody tr th:only-of-type {\n",
       "        vertical-align: middle;\n",
       "    }\n",
       "\n",
       "    .dataframe tbody tr th {\n",
       "        vertical-align: top;\n",
       "    }\n",
       "\n",
       "    .dataframe thead th {\n",
       "        text-align: right;\n",
       "    }\n",
       "</style>\n",
       "<table border=\"1\" class=\"dataframe\">\n",
       "  <thead>\n",
       "    <tr style=\"text-align: right;\">\n",
       "      <th></th>\n",
       "      <th>Disease trait</th>\n",
       "      <th>EFO term</th>\n",
       "      <th>EFO URI</th>\n",
       "    </tr>\n",
       "  </thead>\n",
       "  <tbody>\n",
       "    <tr>\n",
       "      <th>765</th>\n",
       "      <td>Metabolite levels</td>\n",
       "      <td>cotinine measurement</td>\n",
       "      <td>http://www.ebi.ac.uk/efo/EFO_0007813</td>\n",
       "    </tr>\n",
       "    <tr>\n",
       "      <th>1656</th>\n",
       "      <td>Metabolite levels</td>\n",
       "      <td>symmetrical dimethylarginine measurement</td>\n",
       "      <td>http://www.ebi.ac.uk/efo/EFO_0006523</td>\n",
       "    </tr>\n",
       "    <tr>\n",
       "      <th>1664</th>\n",
       "      <td>Metabolite levels</td>\n",
       "      <td>L-arginine measurement</td>\n",
       "      <td>http://www.ebi.ac.uk/efo/EFO_0006524</td>\n",
       "    </tr>\n",
       "    <tr>\n",
       "      <th>5262</th>\n",
       "      <td>Metabolite levels</td>\n",
       "      <td>plasma betaine measurement</td>\n",
       "      <td>http://www.ebi.ac.uk/efo/EFO_0007787</td>\n",
       "    </tr>\n",
       "    <tr>\n",
       "      <th>5355</th>\n",
       "      <td>Metabolite levels</td>\n",
       "      <td>thyroxine measurement</td>\n",
       "      <td>http://www.ebi.ac.uk/efo/EFO_0005130</td>\n",
       "    </tr>\n",
       "    <tr>\n",
       "      <th>...</th>\n",
       "      <td>...</td>\n",
       "      <td>...</td>\n",
       "      <td>...</td>\n",
       "    </tr>\n",
       "    <tr>\n",
       "      <th>47923</th>\n",
       "      <td>Metabolite levels</td>\n",
       "      <td>valine measurement</td>\n",
       "      <td>http://www.ebi.ac.uk/efo/EFO_0009792</td>\n",
       "    </tr>\n",
       "    <tr>\n",
       "      <th>49240</th>\n",
       "      <td>Metabolite levels</td>\n",
       "      <td>serotonin measurement</td>\n",
       "      <td>http://www.ebi.ac.uk/efo/EFO_0004846</td>\n",
       "    </tr>\n",
       "    <tr>\n",
       "      <th>52720</th>\n",
       "      <td>Metabolite levels</td>\n",
       "      <td>triiodothyronine measurement</td>\n",
       "      <td>http://www.ebi.ac.uk/efo/EFO_0008392</td>\n",
       "    </tr>\n",
       "    <tr>\n",
       "      <th>56815</th>\n",
       "      <td>Metabolite levels</td>\n",
       "      <td>kynurenine measurement</td>\n",
       "      <td>http://www.ebi.ac.uk/efo/EFO_0008529</td>\n",
       "    </tr>\n",
       "    <tr>\n",
       "      <th>56894</th>\n",
       "      <td>Metabolite levels</td>\n",
       "      <td>tryptophan measurement</td>\n",
       "      <td>http://www.ebi.ac.uk/efo/EFO_0008534</td>\n",
       "    </tr>\n",
       "  </tbody>\n",
       "</table>\n",
       "<p>233 rows × 3 columns</p>\n",
       "</div>"
      ],
      "text/plain": [
       "           Disease trait                                  EFO term  \\\n",
       "765    Metabolite levels                      cotinine measurement   \n",
       "1656   Metabolite levels  symmetrical dimethylarginine measurement   \n",
       "1664   Metabolite levels                    L-arginine measurement   \n",
       "5262   Metabolite levels                plasma betaine measurement   \n",
       "5355   Metabolite levels                     thyroxine measurement   \n",
       "...                  ...                                       ...   \n",
       "47923  Metabolite levels                        valine measurement   \n",
       "49240  Metabolite levels                     serotonin measurement   \n",
       "52720  Metabolite levels              triiodothyronine measurement   \n",
       "56815  Metabolite levels                    kynurenine measurement   \n",
       "56894  Metabolite levels                    tryptophan measurement   \n",
       "\n",
       "                                    EFO URI  \n",
       "765    http://www.ebi.ac.uk/efo/EFO_0007813  \n",
       "1656   http://www.ebi.ac.uk/efo/EFO_0006523  \n",
       "1664   http://www.ebi.ac.uk/efo/EFO_0006524  \n",
       "5262   http://www.ebi.ac.uk/efo/EFO_0007787  \n",
       "5355   http://www.ebi.ac.uk/efo/EFO_0005130  \n",
       "...                                     ...  \n",
       "47923  http://www.ebi.ac.uk/efo/EFO_0009792  \n",
       "49240  http://www.ebi.ac.uk/efo/EFO_0004846  \n",
       "52720  http://www.ebi.ac.uk/efo/EFO_0008392  \n",
       "56815  http://www.ebi.ac.uk/efo/EFO_0008529  \n",
       "56894  http://www.ebi.ac.uk/efo/EFO_0008534  \n",
       "\n",
       "[233 rows x 3 columns]"
      ]
     },
     "execution_count": 51,
     "metadata": {},
     "output_type": "execute_result"
    }
   ],
   "source": [
    "trait_mappings = pd.read_csv(os.path.join(datadir, 'GWASCatalog', 'trait_mappings.txt'), sep=\"\\t\", usecols=['Disease trait', 'EFO term', 'EFO URI'])\n",
    "trait_mappings[trait_mappings['Disease trait']=='Metabolite levels']"
   ]
  },
  {
   "cell_type": "code",
   "execution_count": null,
   "metadata": {},
   "outputs": [],
   "source": []
  },
  {
   "cell_type": "code",
   "execution_count": null,
   "metadata": {},
   "outputs": [],
   "source": []
  },
  {
   "cell_type": "code",
   "execution_count": 19,
   "metadata": {
    "ExecuteTime": {
     "end_time": "2025-02-01T19:20:52.699100Z",
     "start_time": "2025-02-01T19:20:52.683422Z"
    }
   },
   "outputs": [
    {
     "data": {
      "text/html": [
       "<div>\n",
       "<style scoped>\n",
       "    .dataframe tbody tr th:only-of-type {\n",
       "        vertical-align: middle;\n",
       "    }\n",
       "\n",
       "    .dataframe tbody tr th {\n",
       "        vertical-align: top;\n",
       "    }\n",
       "\n",
       "    .dataframe thead th {\n",
       "        text-align: right;\n",
       "    }\n",
       "</style>\n",
       "<table border=\"1\" class=\"dataframe\">\n",
       "  <thead>\n",
       "    <tr style=\"text-align: right;\">\n",
       "      <th></th>\n",
       "      <th>DISEASE/TRAIT</th>\n",
       "      <th>ASSOCIATION COUNT</th>\n",
       "      <th>STUDY ACCESSION</th>\n",
       "      <th>COHORT</th>\n",
       "      <th>MAPPED BACKGROUND TRAIT URI</th>\n",
       "      <th>SUMMARY STATS LOCATION</th>\n",
       "      <th>TRAIT_CODE</th>\n",
       "      <th>DATE ADDED TO CATALOG</th>\n",
       "      <th>INITIAL SAMPLE SIZE</th>\n",
       "    </tr>\n",
       "  </thead>\n",
       "  <tbody>\n",
       "    <tr>\n",
       "      <th>4895</th>\n",
       "      <td>Metabolite levels</td>\n",
       "      <td>3</td>\n",
       "      <td>GCST001220</td>\n",
       "      <td>NaN</td>\n",
       "      <td>NaN</td>\n",
       "      <td>NaN</td>\n",
       "      <td>EFO_0007813</td>\n",
       "      <td>2012-02-10</td>\n",
       "      <td>142 European ancestry female twins</td>\n",
       "    </tr>\n",
       "    <tr>\n",
       "      <th>4896</th>\n",
       "      <td>Metabolite levels</td>\n",
       "      <td>3</td>\n",
       "      <td>GCST001220</td>\n",
       "      <td>NaN</td>\n",
       "      <td>NaN</td>\n",
       "      <td>NaN</td>\n",
       "      <td>EFO:0006523</td>\n",
       "      <td>2012-02-10</td>\n",
       "      <td>142 European ancestry female twins</td>\n",
       "    </tr>\n",
       "    <tr>\n",
       "      <th>4897</th>\n",
       "      <td>Metabolite levels</td>\n",
       "      <td>3</td>\n",
       "      <td>GCST001220</td>\n",
       "      <td>NaN</td>\n",
       "      <td>NaN</td>\n",
       "      <td>NaN</td>\n",
       "      <td>EFO:0006524</td>\n",
       "      <td>2012-02-10</td>\n",
       "      <td>142 European ancestry female twins</td>\n",
       "    </tr>\n",
       "    <tr>\n",
       "      <th>4898</th>\n",
       "      <td>Metabolite levels</td>\n",
       "      <td>3</td>\n",
       "      <td>GCST001220</td>\n",
       "      <td>NaN</td>\n",
       "      <td>NaN</td>\n",
       "      <td>NaN</td>\n",
       "      <td>EFO:0007787</td>\n",
       "      <td>2012-02-10</td>\n",
       "      <td>142 European ancestry female twins</td>\n",
       "    </tr>\n",
       "    <tr>\n",
       "      <th>4899</th>\n",
       "      <td>Metabolite levels</td>\n",
       "      <td>3</td>\n",
       "      <td>GCST001220</td>\n",
       "      <td>NaN</td>\n",
       "      <td>NaN</td>\n",
       "      <td>NaN</td>\n",
       "      <td>EFO:0005130</td>\n",
       "      <td>2012-02-10</td>\n",
       "      <td>142 European ancestry female twins</td>\n",
       "    </tr>\n",
       "    <tr>\n",
       "      <th>...</th>\n",
       "      <td>...</td>\n",
       "      <td>...</td>\n",
       "      <td>...</td>\n",
       "      <td>...</td>\n",
       "      <td>...</td>\n",
       "      <td>...</td>\n",
       "      <td>...</td>\n",
       "      <td>...</td>\n",
       "      <td>...</td>\n",
       "    </tr>\n",
       "    <tr>\n",
       "      <th>5123</th>\n",
       "      <td>Metabolite levels</td>\n",
       "      <td>3</td>\n",
       "      <td>GCST001220</td>\n",
       "      <td>NaN</td>\n",
       "      <td>NaN</td>\n",
       "      <td>NaN</td>\n",
       "      <td>EFO:0009792</td>\n",
       "      <td>2012-02-10</td>\n",
       "      <td>142 European ancestry female twins</td>\n",
       "    </tr>\n",
       "    <tr>\n",
       "      <th>5124</th>\n",
       "      <td>Metabolite levels</td>\n",
       "      <td>3</td>\n",
       "      <td>GCST001220</td>\n",
       "      <td>NaN</td>\n",
       "      <td>NaN</td>\n",
       "      <td>NaN</td>\n",
       "      <td>EFO:0004846</td>\n",
       "      <td>2012-02-10</td>\n",
       "      <td>142 European ancestry female twins</td>\n",
       "    </tr>\n",
       "    <tr>\n",
       "      <th>5125</th>\n",
       "      <td>Metabolite levels</td>\n",
       "      <td>3</td>\n",
       "      <td>GCST001220</td>\n",
       "      <td>NaN</td>\n",
       "      <td>NaN</td>\n",
       "      <td>NaN</td>\n",
       "      <td>EFO_0008392</td>\n",
       "      <td>2012-02-10</td>\n",
       "      <td>142 European ancestry female twins</td>\n",
       "    </tr>\n",
       "    <tr>\n",
       "      <th>5126</th>\n",
       "      <td>Metabolite levels</td>\n",
       "      <td>3</td>\n",
       "      <td>GCST001220</td>\n",
       "      <td>NaN</td>\n",
       "      <td>NaN</td>\n",
       "      <td>NaN</td>\n",
       "      <td>EFO:0008529</td>\n",
       "      <td>2012-02-10</td>\n",
       "      <td>142 European ancestry female twins</td>\n",
       "    </tr>\n",
       "    <tr>\n",
       "      <th>5127</th>\n",
       "      <td>Metabolite levels</td>\n",
       "      <td>3</td>\n",
       "      <td>GCST001220</td>\n",
       "      <td>NaN</td>\n",
       "      <td>NaN</td>\n",
       "      <td>NaN</td>\n",
       "      <td>EFO:0008534</td>\n",
       "      <td>2012-02-10</td>\n",
       "      <td>142 European ancestry female twins</td>\n",
       "    </tr>\n",
       "  </tbody>\n",
       "</table>\n",
       "<p>233 rows × 9 columns</p>\n",
       "</div>"
      ],
      "text/plain": [
       "          DISEASE/TRAIT  ASSOCIATION COUNT STUDY ACCESSION COHORT  \\\n",
       "4895  Metabolite levels                  3      GCST001220    NaN   \n",
       "4896  Metabolite levels                  3      GCST001220    NaN   \n",
       "4897  Metabolite levels                  3      GCST001220    NaN   \n",
       "4898  Metabolite levels                  3      GCST001220    NaN   \n",
       "4899  Metabolite levels                  3      GCST001220    NaN   \n",
       "...                 ...                ...             ...    ...   \n",
       "5123  Metabolite levels                  3      GCST001220    NaN   \n",
       "5124  Metabolite levels                  3      GCST001220    NaN   \n",
       "5125  Metabolite levels                  3      GCST001220    NaN   \n",
       "5126  Metabolite levels                  3      GCST001220    NaN   \n",
       "5127  Metabolite levels                  3      GCST001220    NaN   \n",
       "\n",
       "     MAPPED BACKGROUND TRAIT URI SUMMARY STATS LOCATION   TRAIT_CODE  \\\n",
       "4895                         NaN                    NaN  EFO_0007813   \n",
       "4896                         NaN                    NaN  EFO:0006523   \n",
       "4897                         NaN                    NaN  EFO:0006524   \n",
       "4898                         NaN                    NaN  EFO:0007787   \n",
       "4899                         NaN                    NaN  EFO:0005130   \n",
       "...                          ...                    ...          ...   \n",
       "5123                         NaN                    NaN  EFO:0009792   \n",
       "5124                         NaN                    NaN  EFO:0004846   \n",
       "5125                         NaN                    NaN  EFO_0008392   \n",
       "5126                         NaN                    NaN  EFO:0008529   \n",
       "5127                         NaN                    NaN  EFO:0008534   \n",
       "\n",
       "     DATE ADDED TO CATALOG                 INITIAL SAMPLE SIZE  \n",
       "4895            2012-02-10  142 European ancestry female twins  \n",
       "4896            2012-02-10  142 European ancestry female twins  \n",
       "4897            2012-02-10  142 European ancestry female twins  \n",
       "4898            2012-02-10  142 European ancestry female twins  \n",
       "4899            2012-02-10  142 European ancestry female twins  \n",
       "...                    ...                                 ...  \n",
       "5123            2012-02-10  142 European ancestry female twins  \n",
       "5124            2012-02-10  142 European ancestry female twins  \n",
       "5125            2012-02-10  142 European ancestry female twins  \n",
       "5126            2012-02-10  142 European ancestry female twins  \n",
       "5127            2012-02-10  142 European ancestry female twins  \n",
       "\n",
       "[233 rows x 9 columns]"
      ]
     },
     "execution_count": 19,
     "metadata": {},
     "output_type": "execute_result"
    }
   ],
   "source": [
    "gwas_study[gwas_study['STUDY ACCESSION'] =='GCST001220']"
   ]
  },
  {
   "cell_type": "markdown",
   "metadata": {},
   "source": [
    "Restrict to those with at least one association"
   ]
  },
  {
   "cell_type": "code",
   "execution_count": 52,
   "metadata": {
    "ExecuteTime": {
     "end_time": "2025-02-03T20:49:49.900088Z",
     "start_time": "2025-02-03T20:49:49.885759Z"
    }
   },
   "outputs": [
    {
     "data": {
      "text/plain": [
       "(57469, 9)"
      ]
     },
     "execution_count": 52,
     "metadata": {},
     "output_type": "execute_result"
    }
   ],
   "source": [
    "gwas_study = gwas_study.loc[gwas_study['ASSOCIATION COUNT'] >= 1]\n",
    "gwas_study.shape"
   ]
  },
  {
   "cell_type": "code",
   "execution_count": 53,
   "metadata": {
    "ExecuteTime": {
     "end_time": "2025-02-03T20:49:51.537271Z",
     "start_time": "2025-02-03T20:49:51.531526Z"
    }
   },
   "outputs": [
    {
     "data": {
      "text/plain": [
       "11315"
      ]
     },
     "execution_count": 53,
     "metadata": {},
     "output_type": "execute_result"
    }
   ],
   "source": [
    "gwas_study.TRAIT_CODE.nunique()"
   ]
  },
  {
   "cell_type": "markdown",
   "metadata": {},
   "source": [
    "Identify common traits not in the overlap set"
   ]
  },
  {
   "cell_type": "code",
   "execution_count": 59,
   "metadata": {
    "ExecuteTime": {
     "end_time": "2024-12-03T22:14:17.707865Z",
     "start_time": "2024-12-03T22:14:17.665828Z"
    }
   },
   "outputs": [],
   "source": [
    "with open(os.path.join('/cellar/users/snwright/Data/RareCommon/inputs/overlap_traits_Jun27.txt'), 'r') as f:\n",
    "    overlap_traits = [x.strip() for x in f.readlines()]"
   ]
  },
  {
   "cell_type": "code",
   "execution_count": 61,
   "metadata": {
    "ExecuteTime": {
     "end_time": "2024-12-03T22:14:32.923572Z",
     "start_time": "2024-12-03T22:14:32.918985Z"
    }
   },
   "outputs": [
    {
     "data": {
      "text/plain": [
       "552"
      ]
     },
     "execution_count": 61,
     "metadata": {},
     "output_type": "execute_result"
    }
   ],
   "source": [
    "len(overlap_traits)"
   ]
  },
  {
   "cell_type": "code",
   "execution_count": 90,
   "metadata": {
    "ExecuteTime": {
     "end_time": "2024-12-03T22:35:30.107951Z",
     "start_time": "2024-12-03T22:35:29.926270Z"
    }
   },
   "outputs": [],
   "source": [
    "# keep those not in overlap\n",
    "testing_studies = [t for t in gwas_study[~gwas_study['SUMMARY STATS LOCATION'].isna()].TRAIT_CODE.unique() if (t not in overlap_traits) and (t.replace('_', ':') not in overlap_traits)]"
   ]
  },
  {
   "cell_type": "code",
   "execution_count": 91,
   "metadata": {
    "ExecuteTime": {
     "end_time": "2024-12-03T22:35:30.771278Z",
     "start_time": "2024-12-03T22:35:30.757769Z"
    }
   },
   "outputs": [],
   "source": [
    "# keep those with summary statistics\n",
    "testing_study = gwas_study[gwas_study.TRAIT_CODE.isin(testing_studies) & ~gwas_study['SUMMARY STATS LOCATION'].isna()]"
   ]
  },
  {
   "cell_type": "code",
   "execution_count": 92,
   "metadata": {
    "ExecuteTime": {
     "end_time": "2024-12-03T22:35:31.287756Z",
     "start_time": "2024-12-03T22:35:31.278923Z"
    }
   },
   "outputs": [],
   "source": [
    "# keep those with no background trait\n",
    "testing_study = testing_study[testing_study['MAPPED BACKGROUND TRAIT URI'].isna()]"
   ]
  },
  {
   "cell_type": "code",
   "execution_count": 93,
   "metadata": {
    "ExecuteTime": {
     "end_time": "2024-12-03T22:35:31.924348Z",
     "start_time": "2024-12-03T22:35:31.918928Z"
    }
   },
   "outputs": [],
   "source": [
    "# keep those with at least one association\n",
    "testing_study = testing_study[testing_study['ASSOCIATION COUNT'] > 0]"
   ]
  },
  {
   "cell_type": "code",
   "execution_count": 94,
   "metadata": {
    "ExecuteTime": {
     "end_time": "2024-12-03T22:35:32.411839Z",
     "start_time": "2024-12-03T22:35:32.406030Z"
    }
   },
   "outputs": [
    {
     "data": {
      "text/plain": [
       "count    18853.000000\n",
       "mean        12.481197\n",
       "std         57.574850\n",
       "min          1.000000\n",
       "50%          2.000000\n",
       "75%          4.000000\n",
       "80%          6.000000\n",
       "85%          9.000000\n",
       "90%         15.000000\n",
       "95%         47.000000\n",
       "99%        200.000000\n",
       "max       2008.000000\n",
       "Name: ASSOCIATION COUNT, dtype: float64"
      ]
     },
     "execution_count": 94,
     "metadata": {},
     "output_type": "execute_result"
    }
   ],
   "source": [
    "# look at the distribution of associations\n",
    "testing_study['ASSOCIATION COUNT'].describe(percentiles=[0.75,0.8,0.85, 0.9, 0.95, 0.99])"
   ]
  },
  {
   "cell_type": "code",
   "execution_count": 95,
   "metadata": {
    "ExecuteTime": {
     "end_time": "2024-12-03T22:35:36.114044Z",
     "start_time": "2024-12-03T22:35:36.110558Z"
    }
   },
   "outputs": [],
   "source": [
    "testing_study = testing_study[testing_study['ASSOCIATION COUNT'] >= 5]"
   ]
  },
  {
   "cell_type": "code",
   "execution_count": 118,
   "metadata": {
    "ExecuteTime": {
     "end_time": "2024-12-03T22:46:02.482159Z",
     "start_time": "2024-12-03T22:46:02.354987Z"
    }
   },
   "outputs": [
    {
     "name": "stdout",
     "output_type": "stream",
     "text": [
      "EFO:0003761 not in efo graph\n"
     ]
    }
   ],
   "source": [
    "# map traits to EFO categories?\n",
    "global_map = assign_trait_list_to_global(list(testing_study.TRAIT_CODE.unique()), efo)\n",
    "# map disease categories\n",
    "disease_map = assign_trait_list_to_global(global_map['EFO:0000408'],efo , [node for node in efo.predecessors( 'EFO:0000408')] )\n",
    "# map measurement categories\n",
    "measure_map = assign_trait_list_to_global(global_map['EFO:0001444'],efo, [node for node in efo.predecessors( 'EFO:0001444')] )\n",
    "# map abnormality categories\n",
    "abnorm_map = assign_trait_list_to_global(global_map['HP:0000118'],efo, [node for node in efo.predecessors( 'HP:0000118')] )"
   ]
  },
  {
   "cell_type": "code",
   "execution_count": 139,
   "metadata": {
    "ExecuteTime": {
     "end_time": "2024-12-03T23:01:00.957010Z",
     "start_time": "2024-12-03T23:01:00.953424Z"
    }
   },
   "outputs": [],
   "source": [
    "import random as rn\n",
    "def select_random_traits(trait_map):\n",
    "    traits = []\n",
    "    for k in trait_map.keys():\n",
    "        n = len(trait_map[k])\n",
    "        if n == 0:\n",
    "            pass\n",
    "        elif n == 1:\n",
    "            traits += trait_map[k]\n",
    "        else:\n",
    "            n_select = min(1, int(n*0.1))\n",
    "            traits += rn.sample(trait_map[k], n_select)\n",
    "    return set(traits)\n",
    "disease_traits = select_random_traits(disease_map)\n",
    "measurement_traits = select_random_traits(measure_map)\n",
    "abnorm_traits = select_random_traits(abnorm_map)\n",
    "all_test_traits = disease_traits.union(measurement_traits).union(abnorm_traits)"
   ]
  },
  {
   "cell_type": "code",
   "execution_count": 141,
   "metadata": {
    "ExecuteTime": {
     "end_time": "2024-12-03T23:01:02.399484Z",
     "start_time": "2024-12-03T23:01:02.397399Z"
    }
   },
   "outputs": [],
   "source": [
    "all_test_traits =[x.replace(':', '_') for x in list(all_test_traits)]"
   ]
  },
  {
   "cell_type": "code",
   "execution_count": 142,
   "metadata": {
    "ExecuteTime": {
     "end_time": "2024-12-03T23:01:02.982428Z",
     "start_time": "2024-12-03T23:01:02.979274Z"
    }
   },
   "outputs": [],
   "source": [
    "testing_study['Trait'] = testing_study.TRAIT_CODE.apply(lambda x: x.replace(':', '_'))"
   ]
  },
  {
   "cell_type": "code",
   "execution_count": 152,
   "metadata": {
    "ExecuteTime": {
     "end_time": "2024-12-03T23:03:01.406038Z",
     "start_time": "2024-12-03T23:03:01.401847Z"
    }
   },
   "outputs": [],
   "source": [
    "exclude = list(testing_df.Trait.value_counts()[(testing_df.Trait.value_counts() >= 10)].index)"
   ]
  },
  {
   "cell_type": "code",
   "execution_count": 154,
   "metadata": {
    "ExecuteTime": {
     "end_time": "2024-12-03T23:03:30.158674Z",
     "start_time": "2024-12-03T23:03:30.154457Z"
    }
   },
   "outputs": [],
   "source": [
    "with open(os.path.join('/cellar/users/snwright/Data/RareCommon/inputs/testing/testing_gwas_traits_Dec3.txt'), 'w') as f:\n",
    "    for trait in all_test_traits:\n",
    "        if trait not in exclude:\n",
    "            f.write(trait + '\\n')"
   ]
  },
  {
   "cell_type": "code",
   "execution_count": 166,
   "metadata": {
    "ExecuteTime": {
     "end_time": "2024-12-03T23:06:48.020075Z",
     "start_time": "2024-12-03T23:06:48.015870Z"
    }
   },
   "outputs": [],
   "source": [
    "testing_df = testing_study[testing_study.Trait.isin(all_test_traits) & ~testing_study.Trait.isin(exclude)].drop_duplicates()"
   ]
  },
  {
   "cell_type": "code",
   "execution_count": 167,
   "metadata": {
    "ExecuteTime": {
     "end_time": "2024-12-03T23:06:56.862271Z",
     "start_time": "2024-12-03T23:06:56.855192Z"
    }
   },
   "outputs": [
    {
     "data": {
      "text/html": [
       "<div>\n",
       "<style scoped>\n",
       "    .dataframe tbody tr th:only-of-type {\n",
       "        vertical-align: middle;\n",
       "    }\n",
       "\n",
       "    .dataframe tbody tr th {\n",
       "        vertical-align: top;\n",
       "    }\n",
       "\n",
       "    .dataframe thead th {\n",
       "        text-align: right;\n",
       "    }\n",
       "</style>\n",
       "<table border=\"1\" class=\"dataframe\">\n",
       "  <thead>\n",
       "    <tr style=\"text-align: right;\">\n",
       "      <th></th>\n",
       "      <th>DISEASE/TRAIT</th>\n",
       "      <th>ASSOCIATION COUNT</th>\n",
       "      <th>STUDY ACCESSION</th>\n",
       "      <th>COHORT</th>\n",
       "      <th>MAPPED BACKGROUND TRAIT URI</th>\n",
       "      <th>SUMMARY STATS LOCATION</th>\n",
       "      <th>TRAIT_CODE</th>\n",
       "      <th>Trait</th>\n",
       "    </tr>\n",
       "  </thead>\n",
       "  <tbody>\n",
       "    <tr>\n",
       "      <th>312</th>\n",
       "      <td>Ischemic stroke (cardioembolic)</td>\n",
       "      <td>10</td>\n",
       "      <td>GCST005842</td>\n",
       "      <td>NaN</td>\n",
       "      <td>NaN</td>\n",
       "      <td>http://ftp.ebi.ac.uk/pub/databases/gwas/summar...</td>\n",
       "      <td>EFO:1001976</td>\n",
       "      <td>EFO_1001976</td>\n",
       "    </tr>\n",
       "    <tr>\n",
       "      <th>313</th>\n",
       "      <td>Ischemic stroke (cardioembolic)</td>\n",
       "      <td>10</td>\n",
       "      <td>GCST005842</td>\n",
       "      <td>NaN</td>\n",
       "      <td>NaN</td>\n",
       "      <td>http://ftp.ebi.ac.uk/pub/databases/gwas/summar...</td>\n",
       "      <td>EFO_1001976</td>\n",
       "      <td>EFO_1001976</td>\n",
       "    </tr>\n",
       "    <tr>\n",
       "      <th>318</th>\n",
       "      <td>Ischemic stroke (cardioembolic)</td>\n",
       "      <td>5</td>\n",
       "      <td>GCST006910</td>\n",
       "      <td>NaN</td>\n",
       "      <td>NaN</td>\n",
       "      <td>http://ftp.ebi.ac.uk/pub/databases/gwas/summar...</td>\n",
       "      <td>EFO:1001976</td>\n",
       "      <td>EFO_1001976</td>\n",
       "    </tr>\n",
       "    <tr>\n",
       "      <th>319</th>\n",
       "      <td>Ischemic stroke (cardioembolic)</td>\n",
       "      <td>5</td>\n",
       "      <td>GCST006910</td>\n",
       "      <td>NaN</td>\n",
       "      <td>NaN</td>\n",
       "      <td>http://ftp.ebi.ac.uk/pub/databases/gwas/summar...</td>\n",
       "      <td>EFO_1001976</td>\n",
       "      <td>EFO_1001976</td>\n",
       "    </tr>\n",
       "    <tr>\n",
       "      <th>443</th>\n",
       "      <td>Smoking behaviour (cigarettes smoked per day)</td>\n",
       "      <td>8</td>\n",
       "      <td>GCST007602</td>\n",
       "      <td>NaN</td>\n",
       "      <td>NaN</td>\n",
       "      <td>http://ftp.ebi.ac.uk/pub/databases/gwas/summar...</td>\n",
       "      <td>EFO_0006525</td>\n",
       "      <td>EFO_0006525</td>\n",
       "    </tr>\n",
       "    <tr>\n",
       "      <th>...</th>\n",
       "      <td>...</td>\n",
       "      <td>...</td>\n",
       "      <td>...</td>\n",
       "      <td>...</td>\n",
       "      <td>...</td>\n",
       "      <td>...</td>\n",
       "      <td>...</td>\n",
       "      <td>...</td>\n",
       "    </tr>\n",
       "    <tr>\n",
       "      <th>114812</th>\n",
       "      <td>Mitochondrial DNA heteroplasmy (chrM:302:A:AC ...</td>\n",
       "      <td>20</td>\n",
       "      <td>GCST90268467</td>\n",
       "      <td>UKB</td>\n",
       "      <td>NaN</td>\n",
       "      <td>http://ftp.ebi.ac.uk/pub/databases/gwas/summar...</td>\n",
       "      <td>EFO_0600008</td>\n",
       "      <td>EFO_0600008</td>\n",
       "    </tr>\n",
       "    <tr>\n",
       "      <th>114821</th>\n",
       "      <td>Mitochondrial DNA heteroplasmy (chrM:302:A:ACC...</td>\n",
       "      <td>8</td>\n",
       "      <td>GCST90268476</td>\n",
       "      <td>UKB</td>\n",
       "      <td>NaN</td>\n",
       "      <td>http://ftp.ebi.ac.uk/pub/databases/gwas/summar...</td>\n",
       "      <td>EFO_0600008</td>\n",
       "      <td>EFO_0600008</td>\n",
       "    </tr>\n",
       "    <tr>\n",
       "      <th>114827</th>\n",
       "      <td>Mitochondrial DNA heteroplasmy (chrM:16183:AC:...</td>\n",
       "      <td>6</td>\n",
       "      <td>GCST90268482</td>\n",
       "      <td>UKB</td>\n",
       "      <td>NaN</td>\n",
       "      <td>http://ftp.ebi.ac.uk/pub/databases/gwas/summar...</td>\n",
       "      <td>EFO_0600008</td>\n",
       "      <td>EFO_0600008</td>\n",
       "    </tr>\n",
       "    <tr>\n",
       "      <th>114828</th>\n",
       "      <td>Mitochondrial DNA heteroplasmy (chrM:16183:A:A...</td>\n",
       "      <td>5</td>\n",
       "      <td>GCST90268483</td>\n",
       "      <td>UKB</td>\n",
       "      <td>NaN</td>\n",
       "      <td>http://ftp.ebi.ac.uk/pub/databases/gwas/summar...</td>\n",
       "      <td>EFO_0600008</td>\n",
       "      <td>EFO_0600008</td>\n",
       "    </tr>\n",
       "    <tr>\n",
       "      <th>116081</th>\n",
       "      <td>Solar lentigines (non-facial)</td>\n",
       "      <td>18</td>\n",
       "      <td>GCST90281274</td>\n",
       "      <td>BASE</td>\n",
       "      <td>NaN</td>\n",
       "      <td>http://ftp.ebi.ac.uk/pub/databases/gwas/summar...</td>\n",
       "      <td>EFO_0007850</td>\n",
       "      <td>EFO_0007850</td>\n",
       "    </tr>\n",
       "  </tbody>\n",
       "</table>\n",
       "<p>161 rows × 8 columns</p>\n",
       "</div>"
      ],
      "text/plain": [
       "                                            DISEASE/TRAIT  ASSOCIATION COUNT  \\\n",
       "312                       Ischemic stroke (cardioembolic)                 10   \n",
       "313                       Ischemic stroke (cardioembolic)                 10   \n",
       "318                       Ischemic stroke (cardioembolic)                  5   \n",
       "319                       Ischemic stroke (cardioembolic)                  5   \n",
       "443         Smoking behaviour (cigarettes smoked per day)                  8   \n",
       "...                                                   ...                ...   \n",
       "114812  Mitochondrial DNA heteroplasmy (chrM:302:A:AC ...                 20   \n",
       "114821  Mitochondrial DNA heteroplasmy (chrM:302:A:ACC...                  8   \n",
       "114827  Mitochondrial DNA heteroplasmy (chrM:16183:AC:...                  6   \n",
       "114828  Mitochondrial DNA heteroplasmy (chrM:16183:A:A...                  5   \n",
       "116081                      Solar lentigines (non-facial)                 18   \n",
       "\n",
       "       STUDY ACCESSION COHORT MAPPED BACKGROUND TRAIT URI  \\\n",
       "312         GCST005842    NaN                         NaN   \n",
       "313         GCST005842    NaN                         NaN   \n",
       "318         GCST006910    NaN                         NaN   \n",
       "319         GCST006910    NaN                         NaN   \n",
       "443         GCST007602    NaN                         NaN   \n",
       "...                ...    ...                         ...   \n",
       "114812    GCST90268467    UKB                         NaN   \n",
       "114821    GCST90268476    UKB                         NaN   \n",
       "114827    GCST90268482    UKB                         NaN   \n",
       "114828    GCST90268483    UKB                         NaN   \n",
       "116081    GCST90281274   BASE                         NaN   \n",
       "\n",
       "                                   SUMMARY STATS LOCATION   TRAIT_CODE  \\\n",
       "312     http://ftp.ebi.ac.uk/pub/databases/gwas/summar...  EFO:1001976   \n",
       "313     http://ftp.ebi.ac.uk/pub/databases/gwas/summar...  EFO_1001976   \n",
       "318     http://ftp.ebi.ac.uk/pub/databases/gwas/summar...  EFO:1001976   \n",
       "319     http://ftp.ebi.ac.uk/pub/databases/gwas/summar...  EFO_1001976   \n",
       "443     http://ftp.ebi.ac.uk/pub/databases/gwas/summar...  EFO_0006525   \n",
       "...                                                   ...          ...   \n",
       "114812  http://ftp.ebi.ac.uk/pub/databases/gwas/summar...  EFO_0600008   \n",
       "114821  http://ftp.ebi.ac.uk/pub/databases/gwas/summar...  EFO_0600008   \n",
       "114827  http://ftp.ebi.ac.uk/pub/databases/gwas/summar...  EFO_0600008   \n",
       "114828  http://ftp.ebi.ac.uk/pub/databases/gwas/summar...  EFO_0600008   \n",
       "116081  http://ftp.ebi.ac.uk/pub/databases/gwas/summar...  EFO_0007850   \n",
       "\n",
       "              Trait  \n",
       "312     EFO_1001976  \n",
       "313     EFO_1001976  \n",
       "318     EFO_1001976  \n",
       "319     EFO_1001976  \n",
       "443     EFO_0006525  \n",
       "...             ...  \n",
       "114812  EFO_0600008  \n",
       "114821  EFO_0600008  \n",
       "114827  EFO_0600008  \n",
       "114828  EFO_0600008  \n",
       "116081  EFO_0007850  \n",
       "\n",
       "[161 rows x 8 columns]"
      ]
     },
     "execution_count": 167,
     "metadata": {},
     "output_type": "execute_result"
    }
   ],
   "source": [
    "testing_df"
   ]
  },
  {
   "cell_type": "code",
   "execution_count": 170,
   "metadata": {
    "ExecuteTime": {
     "end_time": "2024-12-03T23:09:01.411121Z",
     "start_time": "2024-12-03T23:09:01.408095Z"
    }
   },
   "outputs": [
    {
     "name": "stdout",
     "output_type": "stream",
     "text": [
      "['http://ftp.ebi.ac.uk/pub/databases/gwas/summary_statistics/GCST005001-GCST006000/GCST005842'\n",
      " 'http://ftp.ebi.ac.uk/pub/databases/gwas/summary_statistics/GCST005001-GCST006000/GCST005842'\n",
      " 'http://ftp.ebi.ac.uk/pub/databases/gwas/summary_statistics/GCST006001-GCST007000/GCST006910'\n",
      " 'http://ftp.ebi.ac.uk/pub/databases/gwas/summary_statistics/GCST006001-GCST007000/GCST006910'\n",
      " 'http://ftp.ebi.ac.uk/pub/databases/gwas/summary_statistics/GCST90104001-GCST90105000/GCST90104541'\n",
      " 'http://ftp.ebi.ac.uk/pub/databases/gwas/summary_statistics/GCST90104001-GCST90105000/GCST90104536']\n"
     ]
    }
   ],
   "source": [
    "print(testing_df[testing_df.Trait=='EFO_1001976']['SUMMARY STATS LOCATION'].values)"
   ]
  },
  {
   "cell_type": "code",
   "execution_count": 172,
   "metadata": {
    "ExecuteTime": {
     "end_time": "2024-12-03T23:44:05.983719Z",
     "start_time": "2024-12-03T23:44:05.981571Z"
    }
   },
   "outputs": [],
   "source": [
    "urls = list(testing_df['SUMMARY STATS LOCATION'].unique())"
   ]
  },
  {
   "cell_type": "code",
   "execution_count": 180,
   "metadata": {
    "ExecuteTime": {
     "end_time": "2024-12-04T17:46:05.251802Z",
     "start_time": "2024-12-04T17:46:05.223740Z"
    }
   },
   "outputs": [],
   "source": [
    "testing_df.to_csv('/cellar/users/snwright/Data/RareCommon/inputs/testing/testing_study_info_Dec3.txt', sep='\\t')"
   ]
  },
  {
   "cell_type": "code",
   "execution_count": 175,
   "metadata": {
    "ExecuteTime": {
     "end_time": "2024-12-03T23:45:04.774539Z",
     "start_time": "2024-12-03T23:45:04.756420Z"
    }
   },
   "outputs": [],
   "source": [
    "with open(os.path.join('/cellar/users/snwright/Data/RareCommon/inputs/testing/testing_gwas_sumstats_urls.txt'), 'w') as f:\n",
    "    for url in urls:\n",
    "        f.write(url + '\\n')"
   ]
  },
  {
   "cell_type": "code",
   "execution_count": 177,
   "metadata": {
    "ExecuteTime": {
     "end_time": "2024-12-04T00:03:50.460387Z",
     "start_time": "2024-12-04T00:03:50.457805Z"
    }
   },
   "outputs": [
    {
     "data": {
      "text/plain": [
       "136"
      ]
     },
     "execution_count": 177,
     "metadata": {},
     "output_type": "execute_result"
    }
   ],
   "source": [
    "len(urls)"
   ]
  },
  {
   "cell_type": "markdown",
   "metadata": {},
   "source": [
    "## Subset to genes in both before further filtering of trait codes. Need to remove those that are too broad"
   ]
  },
  {
   "cell_type": "markdown",
   "metadata": {},
   "source": [
    "#### Convert identifiers\n",
    "\n",
    "RAVAR"
   ]
  },
  {
   "cell_type": "code",
   "execution_count": 54,
   "metadata": {
    "ExecuteTime": {
     "end_time": "2025-02-03T20:50:01.306296Z",
     "start_time": "2025-02-03T20:50:01.096398Z"
    }
   },
   "outputs": [],
   "source": [
    "if False:\n",
    "    ensembl_map, missing = qe.get_latest_ensembl_id(ravar_genes['Ensembl ID'].unique())\n",
    "    ensembl_to_entrez, missing_entrez = gm.convert_node_ids(ensembl_map['to'].values, 'Ensembl', 'Entrez')\n",
    "    ensembl_map['Entrez'] = [ensembl_to_entrez[x] if x in ensembl_to_entrez else '' for x in ensembl_map['to']]\n",
    "    id_ensembl = ravar_genes.merge(ensembl_map.loc[:, ('from', 'Entrez')], left_on='Ensembl ID', right_on='from', how='inner')\n",
    "    id_ensembl = id_ensembl[id_ensembl['Entrez'] != '']\n",
    "    symbol_map, symbol_missing = qh.perform_hgnc_query(id_ensembl[(id_ensembl['Entrez'].isnull()) | (id_ensembl['Entrez']== '')]['Gene Symbol'].unique(), 'Symbol', 'Symbol')\n",
    "    symbol_to_entrez, missing = gm.convert_node_ids(list(symbol_map.values()), 'Symbol', 'Entrez')\n",
    "    symbol_map = pd.DataFrame(symbol_map.items(), columns=['from', 'to'])\n",
    "    symbol_map['Entrez'] = [symbol_to_entrez[x] if x in symbol_to_entrez else '' for x in symbol_map['to']]\n",
    "    id_symbol = ravar_genes.iloc[~id_ensembl.index].merge(symbol_map.loc[:, ('from', 'Entrez')], left_on='Gene Symbol', right_on='from', how='inner')\n",
    "    converted_ravar_genes = pd.concat([id_ensembl, id_symbol])\n",
    "    converted_ravar_genes.to_csv(os.path.join(datadir,'RAVAR' ,'gene_fulltable_06112024.txt.entrez'), sep='\\t', index=False)\n",
    "else:\n",
    "    converted_ravar_genes = pd.read_csv(os.path.join(datadir,'RAVAR' ,'gene_fulltable_06112024.txt.entrez'), sep='\\t')"
   ]
  },
  {
   "cell_type": "code",
   "execution_count": 55,
   "metadata": {
    "ExecuteTime": {
     "end_time": "2025-02-03T20:50:01.637422Z",
     "start_time": "2025-02-03T20:50:01.629529Z"
    }
   },
   "outputs": [
    {
     "data": {
      "text/html": [
       "<div>\n",
       "<style scoped>\n",
       "    .dataframe tbody tr th:only-of-type {\n",
       "        vertical-align: middle;\n",
       "    }\n",
       "\n",
       "    .dataframe tbody tr th {\n",
       "        vertical-align: top;\n",
       "    }\n",
       "\n",
       "    .dataframe thead th {\n",
       "        text-align: right;\n",
       "    }\n",
       "</style>\n",
       "<table border=\"1\" class=\"dataframe\">\n",
       "  <thead>\n",
       "    <tr style=\"text-align: right;\">\n",
       "      <th></th>\n",
       "      <th>Gene Symbol</th>\n",
       "      <th>Ensembl ID</th>\n",
       "      <th>Gene Type</th>\n",
       "      <th>CHR</th>\n",
       "      <th>Location</th>\n",
       "      <th>Reported Trait</th>\n",
       "      <th>Trait Label</th>\n",
       "      <th>Trait Ontology id</th>\n",
       "      <th>EFO synonym</th>\n",
       "      <th>P-value</th>\n",
       "      <th>PMID</th>\n",
       "      <th>TRAIT_CODE</th>\n",
       "      <th>logp</th>\n",
       "    </tr>\n",
       "  </thead>\n",
       "  <tbody>\n",
       "    <tr>\n",
       "      <th>0</th>\n",
       "      <td>A1BG</td>\n",
       "      <td>ENSG00000121410</td>\n",
       "      <td>protein_coding</td>\n",
       "      <td>19</td>\n",
       "      <td>chr19:58345178-58353492</td>\n",
       "      <td>Abnormal findings on diagnostic imaging of oth...</td>\n",
       "      <td>abnormal result of diagnostic imaging</td>\n",
       "      <td>EFO:0009827</td>\n",
       "      <td>NaN</td>\n",
       "      <td>5.910000e-05</td>\n",
       "      <td>34375979</td>\n",
       "      <td>EFO_0009827</td>\n",
       "      <td>4.228413</td>\n",
       "    </tr>\n",
       "    <tr>\n",
       "      <th>1</th>\n",
       "      <td>A1CF</td>\n",
       "      <td>ENSG00000148584</td>\n",
       "      <td>protein_coding</td>\n",
       "      <td>10</td>\n",
       "      <td>chr10:50799409-50885675</td>\n",
       "      <td>Biochemistry Total Protein measurement</td>\n",
       "      <td>total blood protein measurement</td>\n",
       "      <td>EFO:0004536</td>\n",
       "      <td>serum total protein;TBP</td>\n",
       "      <td>5.000000e-09</td>\n",
       "      <td>34226706</td>\n",
       "      <td>EFO_0004536</td>\n",
       "      <td>8.301030</td>\n",
       "    </tr>\n",
       "    <tr>\n",
       "      <th>2</th>\n",
       "      <td>A1CF</td>\n",
       "      <td>ENSG00000148584</td>\n",
       "      <td>protein_coding</td>\n",
       "      <td>10</td>\n",
       "      <td>chr10:50799409-50885675</td>\n",
       "      <td>Biochemistry Calcium measurement</td>\n",
       "      <td>calcium measurement</td>\n",
       "      <td>EFO:0004838</td>\n",
       "      <td>calcium levels</td>\n",
       "      <td>2.100000e-08</td>\n",
       "      <td>34226706</td>\n",
       "      <td>EFO_0004838</td>\n",
       "      <td>7.677781</td>\n",
       "    </tr>\n",
       "    <tr>\n",
       "      <th>3</th>\n",
       "      <td>A1CF</td>\n",
       "      <td>ENSG00000148584</td>\n",
       "      <td>protein_coding</td>\n",
       "      <td>10</td>\n",
       "      <td>chr10:50799409-50885675</td>\n",
       "      <td>Biochemistry SHBG measurement</td>\n",
       "      <td>sex hormone-binding globulin measurement</td>\n",
       "      <td>EFO:0004696</td>\n",
       "      <td>SHBG levels;SHBG level</td>\n",
       "      <td>1.000000e-06</td>\n",
       "      <td>34226706</td>\n",
       "      <td>EFO_0004696</td>\n",
       "      <td>6.000000</td>\n",
       "    </tr>\n",
       "    <tr>\n",
       "      <th>4</th>\n",
       "      <td>A1CF</td>\n",
       "      <td>ENSG00000148584</td>\n",
       "      <td>protein_coding</td>\n",
       "      <td>10</td>\n",
       "      <td>chr10:50799409-50885675</td>\n",
       "      <td>Biochemistry Gamma Glutamyl transferase measur...</td>\n",
       "      <td>serum gamma-glutamyl transferase measurement</td>\n",
       "      <td>EFO:0004532</td>\n",
       "      <td>GGT measurement;Gamma gluatamyl transferase le...</td>\n",
       "      <td>1.400000e-19</td>\n",
       "      <td>34226706</td>\n",
       "      <td>EFO_0004532</td>\n",
       "      <td>18.853872</td>\n",
       "    </tr>\n",
       "  </tbody>\n",
       "</table>\n",
       "</div>"
      ],
      "text/plain": [
       "  Gene Symbol       Ensembl ID       Gene Type CHR                 Location  \\\n",
       "0        A1BG  ENSG00000121410  protein_coding  19  chr19:58345178-58353492   \n",
       "1        A1CF  ENSG00000148584  protein_coding  10  chr10:50799409-50885675   \n",
       "2        A1CF  ENSG00000148584  protein_coding  10  chr10:50799409-50885675   \n",
       "3        A1CF  ENSG00000148584  protein_coding  10  chr10:50799409-50885675   \n",
       "4        A1CF  ENSG00000148584  protein_coding  10  chr10:50799409-50885675   \n",
       "\n",
       "                                      Reported Trait  \\\n",
       "0  Abnormal findings on diagnostic imaging of oth...   \n",
       "1             Biochemistry Total Protein measurement   \n",
       "2                   Biochemistry Calcium measurement   \n",
       "3                      Biochemistry SHBG measurement   \n",
       "4  Biochemistry Gamma Glutamyl transferase measur...   \n",
       "\n",
       "                                    Trait Label Trait Ontology id  \\\n",
       "0         abnormal result of diagnostic imaging       EFO:0009827   \n",
       "1               total blood protein measurement       EFO:0004536   \n",
       "2                           calcium measurement       EFO:0004838   \n",
       "3      sex hormone-binding globulin measurement       EFO:0004696   \n",
       "4  serum gamma-glutamyl transferase measurement       EFO:0004532   \n",
       "\n",
       "                                         EFO synonym       P-value      PMID  \\\n",
       "0                                                NaN  5.910000e-05  34375979   \n",
       "1                            serum total protein;TBP  5.000000e-09  34226706   \n",
       "2                                     calcium levels  2.100000e-08  34226706   \n",
       "3                             SHBG levels;SHBG level  1.000000e-06  34226706   \n",
       "4  GGT measurement;Gamma gluatamyl transferase le...  1.400000e-19  34226706   \n",
       "\n",
       "    TRAIT_CODE       logp  \n",
       "0  EFO_0009827   4.228413  \n",
       "1  EFO_0004536   8.301030  \n",
       "2  EFO_0004838   7.677781  \n",
       "3  EFO_0004696   6.000000  \n",
       "4  EFO_0004532  18.853872  "
      ]
     },
     "execution_count": 55,
     "metadata": {},
     "output_type": "execute_result"
    }
   ],
   "source": [
    "ravar_genes.head()"
   ]
  },
  {
   "cell_type": "code",
   "execution_count": 56,
   "metadata": {
    "ExecuteTime": {
     "end_time": "2025-02-03T20:50:02.486398Z",
     "start_time": "2025-02-03T20:50:02.371396Z"
    }
   },
   "outputs": [],
   "source": [
    "# add the PMCIDs to the converted data\n",
    "converted_ravar_genes = converted_ravar_genes.merge(ravar_genes.loc[:, ('PMID', 'Ensembl ID', 'Trait Label', 'P-value', 'Reported Trait', 'Location',\n",
    "                        'Gene Symbol')].drop_duplicates(), on=['Gene Symbol', 'Ensembl ID', 'Trait Label', 'P-value', 'Reported Trait', 'Location'], how='left')"
   ]
  },
  {
   "cell_type": "code",
   "execution_count": 57,
   "metadata": {
    "ExecuteTime": {
     "end_time": "2025-02-03T20:50:03.571296Z",
     "start_time": "2025-02-03T20:50:03.568483Z"
    }
   },
   "outputs": [
    {
     "data": {
      "text/plain": [
       "(76468, 15)"
      ]
     },
     "execution_count": 57,
     "metadata": {},
     "output_type": "execute_result"
    }
   ],
   "source": [
    "converted_ravar_genes.shape"
   ]
  },
  {
   "cell_type": "markdown",
   "metadata": {},
   "source": [
    "GWAS Cat"
   ]
  },
  {
   "cell_type": "code",
   "execution_count": 5,
   "metadata": {
    "ExecuteTime": {
     "end_time": "2025-03-28T18:09:37.389412Z",
     "start_time": "2025-03-28T18:09:36.759389Z"
    }
   },
   "outputs": [],
   "source": [
    "if False:\n",
    "    ensembl_map, missing = qe.get_latest_ensembl_id(gwas_genes['SNP_GENE_IDS'].unique())\n",
    "    ensembl_to_entrez, missing_entrez = gm.convert_node_ids(ensembl_map['to'].values, 'Ensembl', 'Entrez')\n",
    "    ensembl_map['Entrez'] = [ensembl_to_entrez[x] if x in ensembl_to_entrez else '' for x in ensembl_map['to']]\n",
    "    id_ensembl = gwas_genes.merge(ensembl_map.loc[:, ('from', 'Entrez')], left_on='SNP_GENE_IDS', right_on='from', how='left')\n",
    "    symbol_map, symbol_missing = qh.perform_hgnc_query(id_ensembl[(id_ensembl['Entrez'].isnull()) | (id_ensembl['Entrez']== '')]['MAPPED_GENE'].unique(), 'Symbol', 'Symbol')\n",
    "    symbol_to_entrez, missing = gm.convert_node_ids(list(symbol_map.values()), 'Symbol', 'Entrez')\n",
    "    symbol_map = pd.DataFrame(symbol_map.items(), columns=['from', 'to'])\n",
    "    symbol_map['Entrez'] = [symbol_to_entrez[x] if x in symbol_to_entrez else '' for x in symbol_map['to']]\n",
    "    id_symbol = gwas_genes.iloc[~id_ensembl.index].merge(symbol_map.loc[:, ('from', 'Entrez')], left_on='MAPPED_GENE', right_on='from', how='inner')\n",
    "    id_ensembl = id_ensembl[(id_ensembl['Entrez'] != '') & (~id_ensembl['Entrez'].isnull())]\n",
    "    converted_gwas_genes = pd.concat([id_ensembl, id_symbol])\n",
    "    converted_gwas_genes = converted_gwas_genes[converted_gwas_genes['Entrez'] != '']\n",
    "    converted_gwas_genes.to_csv(os.path.join(datadir, 'GWASCatalog', 'gwas_catalog_Jan29_2025.txt.cleanedJan29.entrez'), sep=\"\\t\", index=False)\n",
    "else:\n",
    "    converted_gwas_genes = pd.read_csv(os.path.join(datadir, 'GWASCatalog', 'gwas_catalog_Jan29_2025.txt.cleanedJan29.entrez'), sep=\"\\t\")"
   ]
  },
  {
   "cell_type": "markdown",
   "metadata": {},
   "source": [
    "Genes in both data sets"
   ]
  },
  {
   "cell_type": "code",
   "execution_count": 6,
   "metadata": {
    "ExecuteTime": {
     "end_time": "2025-03-28T18:09:39.440335Z",
     "start_time": "2025-03-28T18:09:39.324161Z"
    }
   },
   "outputs": [
    {
     "ename": "NameError",
     "evalue": "name 'ravar_genes' is not defined",
     "output_type": "error",
     "traceback": [
      "\u001b[0;31m---------------------------------------------------------------------------\u001b[0m",
      "\u001b[0;31mNameError\u001b[0m                                 Traceback (most recent call last)",
      "Cell \u001b[0;32mIn[6], line 1\u001b[0m\n\u001b[0;32m----> 1\u001b[0m \u001b[38;5;28mprint\u001b[39m(\u001b[38;5;124m'\u001b[39m\u001b[38;5;124mShared ensembl IDs:\u001b[39m\u001b[38;5;124m'\u001b[39m, \u001b[38;5;28mlen\u001b[39m(\u001b[38;5;28mset\u001b[39m(\u001b[43mravar_genes\u001b[49m[\u001b[38;5;124m'\u001b[39m\u001b[38;5;124mEnsembl ID\u001b[39m\u001b[38;5;124m'\u001b[39m])\u001b[38;5;241m.\u001b[39mintersection(\u001b[38;5;28mset\u001b[39m(gwas_genes[\u001b[38;5;124m'\u001b[39m\u001b[38;5;124mSNP_GENE_IDS\u001b[39m\u001b[38;5;124m'\u001b[39m]))))\n\u001b[1;32m      2\u001b[0m \u001b[38;5;28mprint\u001b[39m(\u001b[38;5;124m'\u001b[39m\u001b[38;5;124mShared gene symbols:\u001b[39m\u001b[38;5;124m'\u001b[39m, \u001b[38;5;28mlen\u001b[39m(\u001b[38;5;28mset\u001b[39m(ravar_genes[\u001b[38;5;124m'\u001b[39m\u001b[38;5;124mGene Symbol\u001b[39m\u001b[38;5;124m'\u001b[39m])\u001b[38;5;241m.\u001b[39mintersection(\u001b[38;5;28mset\u001b[39m(gwas_genes[\u001b[38;5;124m'\u001b[39m\u001b[38;5;124mMAPPED_GENE\u001b[39m\u001b[38;5;124m'\u001b[39m]))))\n\u001b[1;32m      3\u001b[0m \u001b[38;5;28mprint\u001b[39m(\u001b[38;5;124m'\u001b[39m\u001b[38;5;124mShared Entrez Gene IDs:\u001b[39m\u001b[38;5;124m'\u001b[39m, \u001b[38;5;28mlen\u001b[39m(\u001b[38;5;28mset\u001b[39m(converted_ravar_genes[\u001b[38;5;124m'\u001b[39m\u001b[38;5;124mEntrez\u001b[39m\u001b[38;5;124m'\u001b[39m])\u001b[38;5;241m.\u001b[39mintersection(\u001b[38;5;28mset\u001b[39m(converted_gwas_genes[\u001b[38;5;124m'\u001b[39m\u001b[38;5;124mEntrez\u001b[39m\u001b[38;5;124m'\u001b[39m]))))\n",
      "\u001b[0;31mNameError\u001b[0m: name 'ravar_genes' is not defined"
     ]
    }
   ],
   "source": [
    "print('Shared ensembl IDs:', len(set(ravar_genes['Ensembl ID']).intersection(set(gwas_genes['SNP_GENE_IDS']))))\n",
    "print('Shared gene symbols:', len(set(ravar_genes['Gene Symbol']).intersection(set(gwas_genes['MAPPED_GENE']))))\n",
    "print('Shared Entrez Gene IDs:', len(set(converted_ravar_genes['Entrez']).intersection(set(converted_gwas_genes['Entrez']))))"
   ]
  },
  {
   "cell_type": "markdown",
   "metadata": {},
   "source": [
    "Map updated EFO traits for GWASCat"
   ]
  },
  {
   "cell_type": "code",
   "execution_count": 60,
   "metadata": {
    "ExecuteTime": {
     "end_time": "2025-02-03T20:50:10.764449Z",
     "start_time": "2025-02-03T20:50:10.532087Z"
    }
   },
   "outputs": [],
   "source": [
    "converted_gwas_genes = converted_gwas_genes.drop(columns=['TRAIT_CODE', 'MAPPED_TRAIT_URI']).merge(gwas_study.drop(columns=['COHORT', 'ASSOCIATION COUNT', 'SUMMARY STATS LOCATION' ]), on=['STUDY ACCESSION', \"DISEASE/TRAIT\"])"
   ]
  },
  {
   "cell_type": "code",
   "execution_count": 61,
   "metadata": {
    "ExecuteTime": {
     "end_time": "2025-02-03T20:50:11.965820Z",
     "start_time": "2025-02-03T20:50:11.718359Z"
    }
   },
   "outputs": [],
   "source": [
    "gwas_genes = gwas_genes.drop(columns=['TRAIT_CODE']).merge(gwas_study.drop(columns=['COHORT', 'ASSOCIATION COUNT']), on=[\"STUDY ACCESSION\",\"DISEASE/TRAIT\"])"
   ]
  }
 ],
 "metadata": {
  "kernelspec": {
   "display_name": "Python (CARVA)",
   "language": "python",
   "name": "carva"
  },
  "language_info": {
   "codemirror_mode": {
    "name": "ipython",
    "version": 3
   },
   "file_extension": ".py",
   "mimetype": "text/x-python",
   "name": "python",
   "nbconvert_exporter": "python",
   "pygments_lexer": "ipython3",
   "version": "3.10.0"
  },
  "toc": {
   "base_numbering": 1,
   "nav_menu": {},
   "number_sections": true,
   "sideBar": true,
   "skip_h1_title": false,
   "title_cell": "Table of Contents",
   "title_sidebar": "Contents",
   "toc_cell": false,
   "toc_position": {
    "height": "calc(100% - 180px)",
    "left": "10px",
    "top": "150px",
    "width": "240.667px"
   },
   "toc_section_display": true,
   "toc_window_display": true
  },
  "varInspector": {
   "cols": {
    "lenName": 16,
    "lenType": 16,
    "lenVar": 40
   },
   "kernels_config": {
    "python": {
     "delete_cmd_postfix": "",
     "delete_cmd_prefix": "del ",
     "library": "var_list.py",
     "varRefreshCmd": "print(var_dic_list())"
    },
    "r": {
     "delete_cmd_postfix": ") ",
     "delete_cmd_prefix": "rm(",
     "library": "var_list.r",
     "varRefreshCmd": "cat(var_dic_list()) "
    }
   },
   "types_to_exclude": [
    "module",
    "function",
    "builtin_function_or_method",
    "instance",
    "_Feature"
   ],
   "window_display": false
  }
 },
 "nbformat": 4,
 "nbformat_minor": 4
}
