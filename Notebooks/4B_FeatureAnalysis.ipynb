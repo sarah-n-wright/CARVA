{
 "cells": [
  {
   "cell_type": "markdown",
   "metadata": {},
   "source": [
    "# Feature Analysis Notebook\n",
    "\n",
    "**Related to Figure 4, Figure 5, and Supplemental Figure 2**  \n",
    "\n",
    "Figures Generated:\n",
    "- Figure 4A\n",
    "- Figure 4B\n",
    "- Figure 4C\n",
    "- Figure 4D\n",
    "- Figure 4E\n",
    "- Figure 4F\n",
    "- SFig 2C\n",
    "- Figure 5A\n",
    "- Figure 5B\n",
    "- Figure 5D\n",
    "\n",
    "Tables Generated:\n",
    "- Table 1"
   ]
  },
  {
   "cell_type": "markdown",
   "metadata": {},
   "source": [
    "### Set Up"
   ]
  },
  {
   "cell_type": "code",
   "execution_count": 147,
   "metadata": {
    "ExecuteTime": {
     "end_time": "2025-06-22T17:25:40.499923Z",
     "start_time": "2025-06-22T17:25:40.496440Z"
    }
   },
   "outputs": [],
   "source": [
    "import pandas as pd\n",
    "import os\n",
    "import sys\n",
    "import seaborn as sns\n",
    "import matplotlib.pyplot as plt\n",
    "import numpy as np\n",
    "from tqdm import tqdm\n",
    "from statsmodels.stats.multitest import fdrcorrection\n",
    "import sklearn.preprocessing as prep\n",
    "import statsmodels.api as sm\n",
    "\n",
    "import numpy as np\n",
    "from sklearn.linear_model import ElasticNetCV\n",
    "from sklearn.model_selection import KFold\n",
    "from sklearn.metrics import mean_squared_error, r2_score\n",
    "from scipy.stats import spearmanr\n",
    "from sklearn import linear_model\n",
    "from sklearn.metrics import r2_score, explained_variance_score\n",
    "from sklearn.linear_model import ElasticNet"
   ]
  },
  {
   "cell_type": "code",
   "execution_count": 69,
   "metadata": {
    "ExecuteTime": {
     "end_time": "2025-06-22T17:04:08.541397Z",
     "start_time": "2025-06-22T17:04:08.539288Z"
    }
   },
   "outputs": [],
   "source": [
    "cwd= os.getcwd()"
   ]
  },
  {
   "cell_type": "code",
   "execution_count": 70,
   "metadata": {
    "ExecuteTime": {
     "end_time": "2025-06-22T17:04:59.662664Z",
     "start_time": "2025-06-22T17:04:59.660538Z"
    }
   },
   "outputs": [],
   "source": [
    "datadir = os.path.join(cwd, '..')"
   ]
  },
  {
   "cell_type": "code",
   "execution_count": 71,
   "metadata": {
    "ExecuteTime": {
     "end_time": "2025-06-22T17:05:41.784491Z",
     "start_time": "2025-06-22T17:05:41.779233Z"
    }
   },
   "outputs": [],
   "source": [
    "plt.rcParams['svg.fonttype'] = 'none'\n",
    "plt.rcParams.update({'font.size': 7})\n",
    "plt.rcParams['axes.linewidth'] = 0.5\n",
    "plt.rcParams['hatch.linewidth'] = 0.5\n",
    "plt.rcParams['xtick.major.width'] = 0.4\n",
    "plt.rcParams['ytick.major.width'] = 0.4\n",
    "plt.rcParams['xtick.minor.width'] = 0.3\n",
    "plt.rcParams['ytick.minor.width'] = 0.3\n",
    "plt.rcParams['legend.frameon'] = False\n",
    "plt.rcParams['xtick.major.size'] = 3\n",
    "plt.rcParams['ytick.major.size'] = 3\n",
    "plt.rcParams['xtick.minor.size'] = 2\n",
    "plt.rcParams['ytick.minor.size'] = 2\n",
    "plt.rcParams['xtick.major.pad'] = 1\n",
    "plt.rcParams['ytick.major.pad'] = 1\n",
    "plt.rcParams['axes.labelpad'] = 1\n",
    "plt.rcParams['patch.linewidth'] = 0.5\n",
    "import matplotlib.font_manager as fm\n",
    "arial_font_path = os.path.join(datadir, 'Reference_Data', 'Arial.TTF')\n",
    "fm.fontManager.addfont(arial_font_path)\n",
    "import matplotlib\n",
    "matplotlib.rcParams['font.family'] = 'Arial'\n",
    "blue='#6ec1e0'\n",
    "green='#5fad56'\n",
    "shared='#af3800'\n",
    "binary='#00606f'\n",
    "purple='#441f5d'\n",
    "raspberry='#b4436c'"
   ]
  },
  {
   "cell_type": "code",
   "execution_count": 126,
   "metadata": {
    "ExecuteTime": {
     "end_time": "2025-06-22T17:24:27.442281Z",
     "start_time": "2025-06-22T17:24:27.439473Z"
    }
   },
   "outputs": [],
   "source": [
    "feature_names={\n",
    "    'N_C': 'Study Size - Common',\n",
    "    'N_R': \"Study Size - Rare\",\n",
    "    'assortativity_RC':'Assortativity',\n",
    "    'g_C': 'Number of Genes - Common',\n",
    "    'g_R': 'Number of Genes - Rare',\n",
    "    'J_RC': 'Jaccard Sim.',\n",
    "    'density_R': 'Subnetwork Density - Rare',\n",
    "    'density_C': 'Subnetwork Density - Common',\n",
    "    'binary': 'Is Trait Binary',\n",
    "    'jaccard_zero': 'No shared genes', \n",
    "    'Mean_LOEUF': 'Mean LOEUF', \n",
    "    'DiffRC_LOEUF':'Diff. LOEUF', \n",
    "    'Mean_GeneSize':'Mean Gene Size', \n",
    "    'DiffRC_GeneSize':'Diff. Gene Size',\n",
    "    'Mean_GO': 'Mean GO Terms', \n",
    "    'DiffRC_GO': 'Diff. GO Terms', \n",
    "    'Mean_mRNA': 'Mean Exp.', \n",
    "    'DiffRC_mRNA': 'Diff. Exp.', \n",
    "    'Mean_nTissues': 'Mean Exp. Tissues',\n",
    "    'DiffRC_nTissues': 'Diff. Exp. Tissues'}"
   ]
  },
  {
   "cell_type": "markdown",
   "metadata": {},
   "source": [
    "### Load Data"
   ]
  },
  {
   "cell_type": "code",
   "execution_count": 74,
   "metadata": {
    "ExecuteTime": {
     "end_time": "2025-06-22T17:06:41.851042Z",
     "start_time": "2025-06-22T17:06:41.842195Z"
    }
   },
   "outputs": [
    {
     "data": {
      "text/plain": [
       "Index(['EFO', 'Common Study', 'Rare Study', 'log2COLOC', 'N_C', 'N_R',\n",
       "       'binary', 'g_C', 'g_R', 'J_RC', 'jaccard_zero', 'density_C',\n",
       "       'density_R', 'assortativity_RC', 'Mean_LOEUF', 'DiffRC_LOEUF',\n",
       "       'Mean_GeneSize', 'DiffRC_GeneSize', 'Mean_GO', 'DiffRC_GO', 'Mean_mRNA',\n",
       "       'DiffRC_mRNA', 'Mean_nTissues', 'DiffRC_nTissues'],\n",
       "      dtype='object')"
      ]
     },
     "execution_count": 74,
     "metadata": {},
     "output_type": "execute_result"
    }
   ],
   "source": [
    "all_feat = pd.read_csv(os.path.join(datadir, 'outputs/STable4.tsv'), sep='\\t')\n",
    "all_feat.columns"
   ]
  },
  {
   "cell_type": "code",
   "execution_count": 105,
   "metadata": {
    "ExecuteTime": {
     "end_time": "2025-06-22T17:20:08.481664Z",
     "start_time": "2025-06-22T17:20:08.475739Z"
    }
   },
   "outputs": [],
   "source": [
    "h2_prev = pd.read_csv(os.path.join(datadir, 'outputs/STable3.tsv'), sep='\\t')\n",
    "prev_df = h2_prev.dropna(subset='5 Year Prevalence').drop(columns=['SNP-Heritability'])\n",
    "h2_df = h2_prev.dropna(subset='SNP-Heritability').drop(columns=['5 Year Prevalence'])"
   ]
  },
  {
   "cell_type": "code",
   "execution_count": 107,
   "metadata": {
    "ExecuteTime": {
     "end_time": "2025-06-22T17:20:10.718105Z",
     "start_time": "2025-06-22T17:20:10.716012Z"
    }
   },
   "outputs": [],
   "source": [
    "def get_trait_pair(df):\n",
    "    df['trait_pair'] = df['Rare Study'].astype(int).astype(str) + '_' + df['EFO'] +'_' +df['Common Study'] +'_'+ df['EFO']\n",
    "    return df"
   ]
  },
  {
   "cell_type": "code",
   "execution_count": 189,
   "metadata": {
    "ExecuteTime": {
     "end_time": "2025-06-22T18:06:05.998855Z",
     "start_time": "2025-06-22T18:06:05.987881Z"
    }
   },
   "outputs": [],
   "source": [
    "coloc_df = pd.read_csv(os.path.join(datadir, 'outputs/STable2.tsv'), sep='\\t')\n",
    "coloc_df = get_trait_pair(coloc_df)\n",
    "best_df = coloc_df[coloc_df['Optimal COLOC']].copy()"
   ]
  },
  {
   "cell_type": "code",
   "execution_count": 109,
   "metadata": {
    "ExecuteTime": {
     "end_time": "2025-06-22T17:20:11.334567Z",
     "start_time": "2025-06-22T17:20:11.331997Z"
    }
   },
   "outputs": [],
   "source": [
    "all_feat = all_feat.dropna()"
   ]
  },
  {
   "cell_type": "code",
   "execution_count": 110,
   "metadata": {
    "ExecuteTime": {
     "end_time": "2025-06-22T17:20:11.731323Z",
     "start_time": "2025-06-22T17:20:11.728011Z"
    }
   },
   "outputs": [],
   "source": [
    "all_feat = get_trait_pair(all_feat)"
   ]
  },
  {
   "cell_type": "markdown",
   "metadata": {},
   "source": [
    "## Heritability and Prevalence Analysis"
   ]
  },
  {
   "cell_type": "code",
   "execution_count": 111,
   "metadata": {
    "ExecuteTime": {
     "end_time": "2025-06-22T17:20:12.514467Z",
     "start_time": "2025-06-22T17:20:12.509073Z"
    }
   },
   "outputs": [],
   "source": [
    "all_feat2 = all_feat.copy()\n",
    "all_feat_h2 = h2_df.merge(all_feat2, on=['EFO'], how='left')\n",
    "all_feat_prev = prev_df.merge(all_feat2, on='EFO', how='left')"
   ]
  },
  {
   "cell_type": "code",
   "execution_count": 112,
   "metadata": {
    "ExecuteTime": {
     "end_time": "2025-06-22T17:20:13.179673Z",
     "start_time": "2025-06-22T17:20:13.176623Z"
    }
   },
   "outputs": [],
   "source": [
    "all_feat_h2 = all_feat_h2[all_feat_h2.trait_pair.isin(best_df.trait_pair.values)]\n",
    "all_feat_prev = all_feat_prev[all_feat_prev.trait_pair.isin(best_df.trait_pair.values)]"
   ]
  },
  {
   "cell_type": "markdown",
   "metadata": {},
   "source": [
    "### Figure 4A - Heritability"
   ]
  },
  {
   "cell_type": "code",
   "execution_count": 113,
   "metadata": {
    "ExecuteTime": {
     "end_time": "2025-06-22T17:20:14.068247Z",
     "start_time": "2025-06-22T17:20:14.056605Z"
    }
   },
   "outputs": [
    {
     "data": {
      "text/html": [
       "<div>\n",
       "<style scoped>\n",
       "    .dataframe tbody tr th:only-of-type {\n",
       "        vertical-align: middle;\n",
       "    }\n",
       "\n",
       "    .dataframe tbody tr th {\n",
       "        vertical-align: top;\n",
       "    }\n",
       "\n",
       "    .dataframe thead th {\n",
       "        text-align: right;\n",
       "    }\n",
       "</style>\n",
       "<table border=\"1\" class=\"dataframe\">\n",
       "  <thead>\n",
       "    <tr style=\"text-align: right;\">\n",
       "      <th></th>\n",
       "      <th>EFO</th>\n",
       "      <th>SNP-Heritability</th>\n",
       "      <th>Common Study</th>\n",
       "      <th>Rare Study</th>\n",
       "      <th>log2COLOC</th>\n",
       "      <th>N_C</th>\n",
       "      <th>N_R</th>\n",
       "      <th>binary</th>\n",
       "      <th>g_C</th>\n",
       "      <th>g_R</th>\n",
       "      <th>...</th>\n",
       "      <th>DiffRC_LOEUF</th>\n",
       "      <th>Mean_GeneSize</th>\n",
       "      <th>DiffRC_GeneSize</th>\n",
       "      <th>Mean_GO</th>\n",
       "      <th>DiffRC_GO</th>\n",
       "      <th>Mean_mRNA</th>\n",
       "      <th>DiffRC_mRNA</th>\n",
       "      <th>Mean_nTissues</th>\n",
       "      <th>DiffRC_nTissues</th>\n",
       "      <th>trait_pair</th>\n",
       "    </tr>\n",
       "  </thead>\n",
       "  <tbody>\n",
       "    <tr>\n",
       "      <th>1</th>\n",
       "      <td>EFO_0000095</td>\n",
       "      <td>0.001883</td>\n",
       "      <td>GCST002073</td>\n",
       "      <td>34662886</td>\n",
       "      <td>1.063676</td>\n",
       "      <td>8400.0</td>\n",
       "      <td>387925.259259</td>\n",
       "      <td>1</td>\n",
       "      <td>9</td>\n",
       "      <td>4</td>\n",
       "      <td>...</td>\n",
       "      <td>1.033334</td>\n",
       "      <td>99158.230769</td>\n",
       "      <td>-0.848344</td>\n",
       "      <td>42.153846</td>\n",
       "      <td>0.434783</td>\n",
       "      <td>14.185238</td>\n",
       "      <td>1.348675</td>\n",
       "      <td>44.307692</td>\n",
       "      <td>0.297872</td>\n",
       "      <td>34662886_EFO_0000095_GCST002073_EFO_0000095</td>\n",
       "    </tr>\n",
       "    <tr>\n",
       "      <th>5</th>\n",
       "      <td>EFO_0000198</td>\n",
       "      <td>0.000180</td>\n",
       "      <td>GCST009516</td>\n",
       "      <td>34375979</td>\n",
       "      <td>-0.438852</td>\n",
       "      <td>6512.0</td>\n",
       "      <td>206382.000000</td>\n",
       "      <td>1</td>\n",
       "      <td>5</td>\n",
       "      <td>14</td>\n",
       "      <td>...</td>\n",
       "      <td>-0.058063</td>\n",
       "      <td>124104.368421</td>\n",
       "      <td>-1.290406</td>\n",
       "      <td>17.789474</td>\n",
       "      <td>-0.162162</td>\n",
       "      <td>12.769770</td>\n",
       "      <td>0.922523</td>\n",
       "      <td>51.368421</td>\n",
       "      <td>0.204082</td>\n",
       "      <td>34375979_EFO_0000198_GCST009516_EFO_0000198</td>\n",
       "    </tr>\n",
       "    <tr>\n",
       "      <th>6</th>\n",
       "      <td>EFO_0000217</td>\n",
       "      <td>0.001084</td>\n",
       "      <td>GCST002638</td>\n",
       "      <td>34375979</td>\n",
       "      <td>-0.147295</td>\n",
       "      <td>8738.0</td>\n",
       "      <td>260313.000000</td>\n",
       "      <td>1</td>\n",
       "      <td>4</td>\n",
       "      <td>23</td>\n",
       "      <td>...</td>\n",
       "      <td>-0.676029</td>\n",
       "      <td>70957.481481</td>\n",
       "      <td>-1.247023</td>\n",
       "      <td>12.000000</td>\n",
       "      <td>0.000000</td>\n",
       "      <td>9.787635</td>\n",
       "      <td>-1.019747</td>\n",
       "      <td>49.740741</td>\n",
       "      <td>0.181818</td>\n",
       "      <td>34375979_EFO_0000217_GCST002638_EFO_0000217</td>\n",
       "    </tr>\n",
       "    <tr>\n",
       "      <th>11</th>\n",
       "      <td>EFO_0000275</td>\n",
       "      <td>0.003725</td>\n",
       "      <td>GCST90204201</td>\n",
       "      <td>34375979</td>\n",
       "      <td>0.856803</td>\n",
       "      <td>2339188.0</td>\n",
       "      <td>281104.000000</td>\n",
       "      <td>1</td>\n",
       "      <td>86</td>\n",
       "      <td>9</td>\n",
       "      <td>...</td>\n",
       "      <td>0.091920</td>\n",
       "      <td>149922.147368</td>\n",
       "      <td>-0.974021</td>\n",
       "      <td>14.810526</td>\n",
       "      <td>-0.142857</td>\n",
       "      <td>10.271961</td>\n",
       "      <td>0.013567</td>\n",
       "      <td>51.147368</td>\n",
       "      <td>-0.189474</td>\n",
       "      <td>34375979_EFO_0000275_GCST90204201_EFO_0000275</td>\n",
       "    </tr>\n",
       "    <tr>\n",
       "      <th>13</th>\n",
       "      <td>EFO_0000280</td>\n",
       "      <td>0.003527</td>\n",
       "      <td>GCST003738</td>\n",
       "      <td>34375979</td>\n",
       "      <td>-0.477396</td>\n",
       "      <td>23326.0</td>\n",
       "      <td>197822.000000</td>\n",
       "      <td>1</td>\n",
       "      <td>4</td>\n",
       "      <td>12</td>\n",
       "      <td>...</td>\n",
       "      <td>-0.004810</td>\n",
       "      <td>99664.625000</td>\n",
       "      <td>-1.262652</td>\n",
       "      <td>10.250000</td>\n",
       "      <td>-0.583333</td>\n",
       "      <td>7.974620</td>\n",
       "      <td>0.024201</td>\n",
       "      <td>46.000000</td>\n",
       "      <td>0.088889</td>\n",
       "      <td>34375979_EFO_0000280_GCST003738_EFO_0000280</td>\n",
       "    </tr>\n",
       "  </tbody>\n",
       "</table>\n",
       "<p>5 rows × 26 columns</p>\n",
       "</div>"
      ],
      "text/plain": [
       "            EFO  SNP-Heritability  Common Study  Rare Study  log2COLOC  \\\n",
       "1   EFO_0000095          0.001883    GCST002073    34662886   1.063676   \n",
       "5   EFO_0000198          0.000180    GCST009516    34375979  -0.438852   \n",
       "6   EFO_0000217          0.001084    GCST002638    34375979  -0.147295   \n",
       "11  EFO_0000275          0.003725  GCST90204201    34375979   0.856803   \n",
       "13  EFO_0000280          0.003527    GCST003738    34375979  -0.477396   \n",
       "\n",
       "          N_C            N_R  binary  g_C  g_R  ...  DiffRC_LOEUF  \\\n",
       "1      8400.0  387925.259259       1    9    4  ...      1.033334   \n",
       "5      6512.0  206382.000000       1    5   14  ...     -0.058063   \n",
       "6      8738.0  260313.000000       1    4   23  ...     -0.676029   \n",
       "11  2339188.0  281104.000000       1   86    9  ...      0.091920   \n",
       "13    23326.0  197822.000000       1    4   12  ...     -0.004810   \n",
       "\n",
       "    Mean_GeneSize  DiffRC_GeneSize    Mean_GO  DiffRC_GO  Mean_mRNA  \\\n",
       "1    99158.230769        -0.848344  42.153846   0.434783  14.185238   \n",
       "5   124104.368421        -1.290406  17.789474  -0.162162  12.769770   \n",
       "6    70957.481481        -1.247023  12.000000   0.000000   9.787635   \n",
       "11  149922.147368        -0.974021  14.810526  -0.142857  10.271961   \n",
       "13   99664.625000        -1.262652  10.250000  -0.583333   7.974620   \n",
       "\n",
       "    DiffRC_mRNA  Mean_nTissues  DiffRC_nTissues  \\\n",
       "1      1.348675      44.307692         0.297872   \n",
       "5      0.922523      51.368421         0.204082   \n",
       "6     -1.019747      49.740741         0.181818   \n",
       "11     0.013567      51.147368        -0.189474   \n",
       "13     0.024201      46.000000         0.088889   \n",
       "\n",
       "                                       trait_pair  \n",
       "1     34662886_EFO_0000095_GCST002073_EFO_0000095  \n",
       "5     34375979_EFO_0000198_GCST009516_EFO_0000198  \n",
       "6     34375979_EFO_0000217_GCST002638_EFO_0000217  \n",
       "11  34375979_EFO_0000275_GCST90204201_EFO_0000275  \n",
       "13    34375979_EFO_0000280_GCST003738_EFO_0000280  \n",
       "\n",
       "[5 rows x 26 columns]"
      ]
     },
     "execution_count": 113,
     "metadata": {},
     "output_type": "execute_result"
    }
   ],
   "source": [
    "all_feat_h2.head()"
   ]
  },
  {
   "cell_type": "code",
   "execution_count": 114,
   "metadata": {
    "ExecuteTime": {
     "end_time": "2025-06-22T17:20:14.806694Z",
     "start_time": "2025-06-22T17:20:14.803244Z"
    }
   },
   "outputs": [],
   "source": [
    "all_feat_h2.loc[:, ('log2COLOC', 'SNP-Heritability')].corr(method='spearman')\n",
    "r_h2 = all_feat_h2.loc[:, ('log2COLOC', 'SNP-Heritability')].corr(method='spearman').at['log2COLOC', 'SNP-Heritability']\n"
   ]
  },
  {
   "cell_type": "code",
   "execution_count": 115,
   "metadata": {
    "ExecuteTime": {
     "end_time": "2025-06-22T17:20:16.123426Z",
     "start_time": "2025-06-22T17:20:16.120795Z"
    }
   },
   "outputs": [
    {
     "data": {
      "text/plain": [
       "(197, 26)"
      ]
     },
     "execution_count": 115,
     "metadata": {},
     "output_type": "execute_result"
    }
   ],
   "source": [
    "all_feat_h2.shape"
   ]
  },
  {
   "cell_type": "code",
   "execution_count": 116,
   "metadata": {
    "ExecuteTime": {
     "end_time": "2025-06-22T17:21:01.460522Z",
     "start_time": "2025-06-22T17:21:01.160750Z"
    }
   },
   "outputs": [
    {
     "data": {
      "image/png": "[encoded data removed]",
      "text/plain": [
       "<Figure size 200x150 with 1 Axes>"
      ]
     },
     "metadata": {},
     "output_type": "display_data"
    }
   ],
   "source": [
    "_ = plt.figure(figsize=(2,1.5))\n",
    "sns.scatterplot(all_feat_h2, y='log2COLOC', x='SNP-Heritability', alpha=0.7, color=purple)\n",
    "plt.hlines(y=0, xmin=-0.05, xmax=0.9, color='black', linewidth=0.4)\n",
    "plt.hlines(y=[1, 2], xmin=-0.05, xmax=0.9, color='black', linewidth=0.4, linestyle='--')\n",
    "plt.xlim(0.00002, 0.9)\n",
    "ax1 = plt.gca()\n",
    "ax1.set_yticks([-1, 0, 1, 2], labels=[0.5, 1, 2, 4])\n",
    "_ = ax1.set_yticks(np.log2([3,5,6]), minor=True)\n",
    "_ =ax1.set_ylabel('COLOC Score')\n",
    "_ =ax1.set_xlabel('SNP Heritability')\n",
    "_ = plt.text(x=0.00005, y=2.4, s=f'rs = {r_h2:.2f}')\n",
    "plt.xscale('log')\n",
    "#plt.savefig(os.path.join(figdir, 'heritability_scatter.svg'), bbox_inches='tight')"
   ]
  },
  {
   "cell_type": "markdown",
   "metadata": {},
   "source": [
    "### Figure 4B - Prevalence"
   ]
  },
  {
   "cell_type": "code",
   "execution_count": 117,
   "metadata": {
    "ExecuteTime": {
     "end_time": "2025-06-22T17:21:42.550129Z",
     "start_time": "2025-06-22T17:21:42.544885Z"
    }
   },
   "outputs": [
    {
     "data": {
      "text/plain": [
       "(87, 26)"
      ]
     },
     "execution_count": 117,
     "metadata": {},
     "output_type": "execute_result"
    }
   ],
   "source": [
    "all_feat_prev.loc[:, ('log2COLOC','5 Year Prevalence', 'g_C', 'g_R')].corr(method='spearman')\n",
    "r_prev = all_feat_prev.loc[:, ('log2COLOC','5 Year Prevalence')].corr(method='spearman').at['log2COLOC', '5 Year Prevalence']\n",
    "all_feat_prev.shape"
   ]
  },
  {
   "cell_type": "code",
   "execution_count": 118,
   "metadata": {
    "ExecuteTime": {
     "end_time": "2025-06-22T17:21:52.912222Z",
     "start_time": "2025-06-22T17:21:52.691669Z"
    }
   },
   "outputs": [
    {
     "data": {
      "image/png": "[encoded data removed]",
      "text/plain": [
       "<Figure size 200x150 with 1 Axes>"
      ]
     },
     "metadata": {},
     "output_type": "display_data"
    }
   ],
   "source": [
    "_ = plt.figure(figsize=(2,1.5))\n",
    "sns.scatterplot(all_feat_prev, y='log2COLOC', x='5 Year Prevalence', alpha=0.7, color=raspberry)\n",
    "plt.hlines(y=0, xmin=-0.05, xmax=0.6, color='black', linewidth=0.4)\n",
    "plt.hlines(y=[1, 2], xmin=-0.05, xmax=0.6, color='black', linewidth=0.4, linestyle='--')\n",
    "plt.xlim(.00003, 0.6)\n",
    "ax1 = plt.gca()\n",
    "ax1.set_yticks([-1, 0, 1, 2], labels=[0.5, 1, 2, 4])\n",
    "_ = ax1.set_yticks(np.log2([3,5,6]), minor=True)\n",
    "_ =ax1.set_ylabel('COLOC Score')\n",
    "_ =ax1.set_xlabel('5-year Prevalence')\n",
    "_ = plt.text(x=0.02, y=2.2, s=f'rs = {r_prev:.2f}')\n",
    "plt.xscale('log')\n",
    "#plt.savefig(os.path.join(figdir, 'prevalence_scatter.svg'), bbox_inches='tight')"
   ]
  },
  {
   "cell_type": "markdown",
   "metadata": {},
   "source": [
    "### Figure 4C - Heritability Correlations"
   ]
  },
  {
   "cell_type": "code",
   "execution_count": 123,
   "metadata": {
    "ExecuteTime": {
     "end_time": "2025-06-22T17:23:56.435594Z",
     "start_time": "2025-06-22T17:23:56.432622Z"
    }
   },
   "outputs": [
    {
     "data": {
      "text/plain": [
       "Index(['EFO', 'SNP-Heritability', 'Common Study', 'Rare Study', 'log2COLOC',\n",
       "       'N_C', 'N_R', 'binary', 'g_C', 'g_R', 'J_RC', 'jaccard_zero',\n",
       "       'density_C', 'density_R', 'assortativity_RC', 'Mean_LOEUF',\n",
       "       'DiffRC_LOEUF', 'Mean_GeneSize', 'DiffRC_GeneSize', 'Mean_GO',\n",
       "       'DiffRC_GO', 'Mean_mRNA', 'DiffRC_mRNA', 'Mean_nTissues',\n",
       "       'DiffRC_nTissues', 'trait_pair'],\n",
       "      dtype='object')"
      ]
     },
     "execution_count": 123,
     "metadata": {},
     "output_type": "execute_result"
    }
   ],
   "source": [
    "all_feat_h2.columns"
   ]
  },
  {
   "cell_type": "code",
   "execution_count": 127,
   "metadata": {
    "ExecuteTime": {
     "end_time": "2025-06-22T17:24:30.912308Z",
     "start_time": "2025-06-22T17:24:30.872216Z"
    }
   },
   "outputs": [],
   "source": [
    "h2_corrs = {}\n",
    "for prop in ['J_RC', 'assortativity_RC', 'density_R', 'g_C', 'DiffRC_GeneSize', \n",
    "            'N_R', 'Mean_GO', 'DiffRC_GO', 'N_C', 'DiffRC_LOEUF', 'g_R', 'density_C', 'Mean_nTissues',\n",
    "            'Mean_mRNA', 'Mean_LOEUF', 'DiffRC_mRNA', 'Mean_GeneSize', 'DiffRC_nTissues']:\n",
    "    h2_corrs[prop] = {}\n",
    "    h2_corrs[prop]['r'] = spearmanr(all_feat_h2['SNP-Heritability'], all_feat_h2[prop]).statistic\n",
    "    h2_corrs[prop]['p'] = spearmanr(all_feat_h2['SNP-Heritability'], all_feat_h2[prop]).pvalue\n",
    "h2_corrs = pd.DataFrame(h2_corrs).T\n",
    "h2_corrs['q'] = fdrcorrection(h2_corrs.p.values)[1]\n",
    "h2_corrs['logq'] = h2_corrs.q.apply(lambda x: 'n.s' if x >0.05 else 'q < 0.05' if x > 0.0001 else 'q < 10-4' if x > 0.00000001 else 'q < 10-8')\n",
    "h2_corrs['Property'] = h2_corrs.index.map(feature_names)"
   ]
  },
  {
   "cell_type": "code",
   "execution_count": 130,
   "metadata": {
    "ExecuteTime": {
     "end_time": "2025-06-22T17:24:39.307125Z",
     "start_time": "2025-06-22T17:24:39.097291Z"
    }
   },
   "outputs": [
    {
     "data": {
      "text/plain": [
       "Text(0.5, 0, 'SNP Heritability\\nSpearman Correlation')"
      ]
     },
     "execution_count": 130,
     "metadata": {},
     "output_type": "execute_result"
    },
    {
     "data": {
      "image/png": "[encoded data removed]",
      "text/plain": [
       "<Figure size 150x300 with 1 Axes>"
      ]
     },
     "metadata": {},
     "output_type": "display_data"
    }
   ],
   "source": [
    "_ = plt.figure(figsize=(1.5,3))\n",
    "sns.barplot(h2_corrs, y='Property', x='r',  hue='logq', edgecolor='black', saturation=1, \n",
    "            palette=['lightgrey', '#e3685c', '#b13c6c', '#6c2b6d'], \n",
    "            hue_order = ['n.s', 'q < 0.05', 'q < 10-4', 'q < 10-8'])\n",
    "plt.vlines(x=0, ymin=-0.5, ymax=17.5, color='black', linewidth=0.4)\n",
    "plt.ylim(17.5, -0.5)\n",
    "plt.xlabel('SNP Heritability\\nSpearman Correlation')\n",
    "#plt.savefig(os.path.join(figdir, 'H2_correlations.svg'), bbox_inches='tight')"
   ]
  },
  {
   "cell_type": "markdown",
   "metadata": {},
   "source": [
    "## Regression Analysis"
   ]
  },
  {
   "cell_type": "markdown",
   "metadata": {},
   "source": [
    "### Normalization & Scaling"
   ]
  },
  {
   "cell_type": "code",
   "execution_count": 131,
   "metadata": {
    "ExecuteTime": {
     "end_time": "2025-06-22T17:24:45.919439Z",
     "start_time": "2025-06-22T17:24:45.914750Z"
    }
   },
   "outputs": [],
   "source": [
    "def compare_transforms(input_df, col, log=False):\n",
    "    _, [ax1, ax2, ax3, ax4, ax5] = plt.subplots(nrows=5, ncols=1, figsize=(5, 6))\n",
    "    if log:\n",
    "        X = np.log10(input_df[col].values).reshape(-1,1)\n",
    "    else:\n",
    "        X = input_df[col].values.reshape(-1,1)\n",
    "    transformer1 = prep.QuantileTransformer(n_quantiles=len(X)).fit(X)\n",
    "    transformer4 = prep.QuantileTransformer(output_distribution='normal', n_quantiles=len(X)).fit(X)\n",
    "    transformer2 = prep.RobustScaler().fit(X)\n",
    "    transformer3 = prep.PowerTransformer().fit(X)\n",
    "    sns.histplot(X, ax=ax1)\n",
    "    sns.histplot(transformer1.transform(X), ax=ax2)\n",
    "    sns.histplot(transformer4.transform(X), ax=ax3)\n",
    "    sns.histplot(transformer2.transform(X), ax=ax4)\n",
    "    sns.histplot(transformer3.transform(X), ax=ax5)\n",
    "    for i, trans in enumerate(['Input', 'Quant-Uni', 'Quant-Norm', 'Robust', 'Power']):\n",
    "        [ax1, ax2, ax3, ax4, ax5][i].set_ylabel(trans)"
   ]
  },
  {
   "cell_type": "code",
   "execution_count": 132,
   "metadata": {
    "ExecuteTime": {
     "end_time": "2025-06-22T17:24:47.219626Z",
     "start_time": "2025-06-22T17:24:47.217099Z"
    }
   },
   "outputs": [],
   "source": [
    "# assign transforms\n",
    "quant_norm= ['N_C', 'N_R', 'assortativity_RC', 'Mean_LOEUF', 'DiffRC_LOEUF', 'DiffRC_GeneSize', 'DiffRC_nTissues', \n",
    "            'Mean_mRNA', 'DiffRC_mRNA',  'Mean_GeneSize', 'Mean_GO', 'DiffRC_GO'] #'Mean_Cite', 'DiffRC_Cite',\n",
    "log_robust=[]\n",
    "power = ['density_R', 'density_C',\n",
    "        'Mean_nTissues', 'g_C', 'g_R', 'J_RC']\n",
    "none = ['binary', 'jaccard_zero']"
   ]
  },
  {
   "cell_type": "code",
   "execution_count": 133,
   "metadata": {
    "ExecuteTime": {
     "end_time": "2025-06-22T17:24:50.714773Z",
     "start_time": "2025-06-22T17:24:49.948790Z"
    }
   },
   "outputs": [
    {
     "data": {
      "image/png": "[encoded data removed]",
      "text/plain": [
       "<Figure size 500x600 with 5 Axes>"
      ]
     },
     "metadata": {},
     "output_type": "display_data"
    }
   ],
   "source": [
    "compare_transforms(all_feat, 'DiffRC_GO', log=False)"
   ]
  },
  {
   "cell_type": "markdown",
   "metadata": {
    "ExecuteTime": {
     "end_time": "2025-06-12T21:08:31.638994Z",
     "start_time": "2025-06-12T21:08:31.637193Z"
    }
   },
   "source": [
    "#### Transform features"
   ]
  },
  {
   "cell_type": "code",
   "execution_count": 134,
   "metadata": {
    "ExecuteTime": {
     "end_time": "2025-06-22T17:24:55.626417Z",
     "start_time": "2025-06-22T17:24:55.536571Z"
    }
   },
   "outputs": [],
   "source": [
    "all_x = []\n",
    "x_qn = np.array(all_feat[quant_norm])\n",
    "transformerqn = prep.QuantileTransformer(n_quantiles=len(x_qn), output_distribution='normal').fit(x_qn)\n",
    "all_x.append(transformerqn.transform(x_qn))\n",
    "\n",
    "#x_robust = np.log10(np.array(all_feat[log_robust]))\n",
    "#transformer_robust = prep.RobustScaler().fit(x_robust)\n",
    "#all_x.append(transformer_robust.transform(x_robust))\n",
    "\n",
    "x_power = np.array(all_feat[power])\n",
    "transformerp = prep.PowerTransformer().fit(x_power)\n",
    "all_x.append(transformerp.transform(x_power))\n",
    "\n",
    "all_x.append(np.array(all_feat[none]))\n",
    "\n",
    "X = np.concatenate(all_x, axis=1)\n",
    "#scaler = prep.MinMaxScaler().fit(X)\n",
    "#X_scaled = scaler.transform(X)\n",
    "#X2 = sm.add_constant(X_scaled)"
   ]
  },
  {
   "cell_type": "code",
   "execution_count": 135,
   "metadata": {
    "ExecuteTime": {
     "end_time": "2025-06-22T17:24:57.400231Z",
     "start_time": "2025-06-22T17:24:57.397307Z"
    }
   },
   "outputs": [],
   "source": [
    "scaler2 = prep.StandardScaler().fit(X)\n",
    "X_scaled2 = scaler2.transform(X)\n",
    "X3 = sm.add_constant(X_scaled2)"
   ]
  },
  {
   "cell_type": "markdown",
   "metadata": {},
   "source": [
    "#### Transfrorm Target"
   ]
  },
  {
   "cell_type": "code",
   "execution_count": 136,
   "metadata": {
    "ExecuteTime": {
     "end_time": "2025-06-22T17:24:59.520701Z",
     "start_time": "2025-06-22T17:24:58.981676Z"
    }
   },
   "outputs": [
    {
     "data": {
      "image/png": "[encoded data removed]",
      "text/plain": [
       "<Figure size 500x600 with 5 Axes>"
      ]
     },
     "metadata": {},
     "output_type": "display_data"
    }
   ],
   "source": [
    "compare_transforms(all_feat, 'log2COLOC', log=False)"
   ]
  },
  {
   "cell_type": "code",
   "execution_count": 137,
   "metadata": {
    "ExecuteTime": {
     "end_time": "2025-06-22T17:25:01.847420Z",
     "start_time": "2025-06-22T17:25:01.839424Z"
    }
   },
   "outputs": [],
   "source": [
    "y = all_feat.log2COLOC.values.reshape(-1,1)\n",
    "transformery = prep.QuantileTransformer(n_quantiles=len(y)).fit(y)\n",
    "ynorm = transformery.transform(all_feat.log2COLOC.values.reshape(-1,1))"
   ]
  },
  {
   "cell_type": "code",
   "execution_count": 138,
   "metadata": {
    "ExecuteTime": {
     "end_time": "2025-06-22T17:25:03.470235Z",
     "start_time": "2025-06-22T17:25:03.466972Z"
    }
   },
   "outputs": [
    {
     "data": {
      "text/plain": [
       "(1629, 1)"
      ]
     },
     "execution_count": 138,
     "metadata": {},
     "output_type": "execute_result"
    }
   ],
   "source": [
    "y.shape"
   ]
  },
  {
   "cell_type": "markdown",
   "metadata": {},
   "source": [
    "### Cross-validation"
   ]
  },
  {
   "cell_type": "code",
   "execution_count": 140,
   "metadata": {
    "ExecuteTime": {
     "end_time": "2025-06-22T17:25:21.306208Z",
     "start_time": "2025-06-22T17:25:21.304090Z"
    }
   },
   "outputs": [],
   "source": [
    "feature_list = quant_norm + log_robust + power +none"
   ]
  },
  {
   "cell_type": "code",
   "execution_count": 141,
   "metadata": {
    "ExecuteTime": {
     "end_time": "2025-06-22T17:25:21.803024Z",
     "start_time": "2025-06-22T17:25:21.798831Z"
    }
   },
   "outputs": [],
   "source": [
    "def do_cv(X, y, feature_list):\n",
    "    alphas = np.logspace(-5, 1, 20)\n",
    "    cv = KFold(n_splits=5, shuffle=True, random_state=1984)\n",
    "    enet_cv = ElasticNetCV(\n",
    "        l1_ratio=[.1,.25, .4, .5, .6, .7, .8,  .9, .95, .99, 1],\n",
    "        alphas=alphas,\n",
    "        cv=cv,\n",
    "        max_iter=1000,\n",
    "        random_state=10,\n",
    "        fit_intercept=True\n",
    "    )\n",
    "\n",
    "    enet_cv.fit(X[:, 1:], y.squeeze())\n",
    "    print(f\"Optimal alpha: {enet_cv.alpha_:.4f}\")\n",
    "    print(f\"Optimal l1_ratio: {enet_cv.l1_ratio_:.4f}\")\n",
    "    print(\"Coefficients:\", enet_cv.coef_)\n",
    "    print(\"Intercept:\", enet_cv.intercept_)\n",
    "    y_pred = enet_cv.predict(X[:, 1:])\n",
    "    print(\"Train MSE:\", mean_squared_error(y.squeeze(), y_pred))\n",
    "    print(\"Train R²:\",  r2_score(y.squeeze(), y_pred))\n",
    "    print(\"Coefficients:\", [x for x in zip([feature_list+['intercept'], enet_cv.coef_])])\n",
    "    return enet_cv"
   ]
  },
  {
   "cell_type": "code",
   "execution_count": 142,
   "metadata": {
    "ExecuteTime": {
     "end_time": "2025-06-22T17:25:24.372176Z",
     "start_time": "2025-06-22T17:25:23.853868Z"
    }
   },
   "outputs": [
    {
     "name": "stdout",
     "output_type": "stream",
     "text": [
      "Optimal alpha: 0.0144\n",
      "Optimal l1_ratio: 0.1000\n",
      "Coefficients: [ 0.         -0.00530273  0.03924193 -0.01168784  0.00030884  0.01567002\n",
      " -0.01023799 -0.00189512  0.00328501  0.00219148 -0.00514425  0.00308022\n",
      "  0.03823507  0.0121296  -0.          0.00519877 -0.00285384  0.12121062\n",
      " -0.03619844 -0.05198023]\n",
      "Intercept: 0.5000000000000001\n",
      "Train MSE: 0.019495688625636266\n",
      "Train R²: 0.7663387895764233\n",
      "Coefficients: [(['N_C', 'N_R', 'assortativity_RC', 'Mean_LOEUF', 'DiffRC_LOEUF', 'DiffRC_GeneSize', 'DiffRC_nTissues', 'Mean_mRNA', 'DiffRC_mRNA', 'Mean_GeneSize', 'Mean_GO', 'DiffRC_GO', 'density_R', 'density_C', 'Mean_nTissues', 'g_C', 'g_R', 'J_RC', 'binary', 'jaccard_zero', 'intercept'],), (array([ 0.        , -0.00530273,  0.03924193, -0.01168784,  0.00030884,\n",
      "        0.01567002, -0.01023799, -0.00189512,  0.00328501,  0.00219148,\n",
      "       -0.00514425,  0.00308022,  0.03823507,  0.0121296 , -0.        ,\n",
      "        0.00519877, -0.00285384,  0.12121062, -0.03619844, -0.05198023]),)]\n"
     ]
    }
   ],
   "source": [
    "enet_cv2 = do_cv(X3, ynorm, feature_list)"
   ]
  },
  {
   "cell_type": "code",
   "execution_count": 143,
   "metadata": {
    "ExecuteTime": {
     "end_time": "2025-06-22T17:25:25.264740Z",
     "start_time": "2025-06-22T17:25:25.262055Z"
    }
   },
   "outputs": [
    {
     "name": "stdout",
     "output_type": "stream",
     "text": [
      "Best Alpha 0.01438449888287663\n",
      "Best L1 Ratio 0.1\n"
     ]
    }
   ],
   "source": [
    "best_alpha = enet_cv2.alpha_\n",
    "best_l1=  enet_cv2.l1_ratio_\n",
    "print('Best Alpha', best_alpha)\n",
    "print('Best L1 Ratio', best_l1)"
   ]
  },
  {
   "cell_type": "code",
   "execution_count": 144,
   "metadata": {
    "ExecuteTime": {
     "end_time": "2025-06-22T17:25:27.156206Z",
     "start_time": "2025-06-22T17:25:27.151043Z"
    }
   },
   "outputs": [
    {
     "data": {
      "text/plain": [
       "count    1.629000e+03\n",
       "mean    -2.180917e-17\n",
       "std      1.000307e+00\n",
       "min     -5.113853e+00\n",
       "25%     -6.623668e-01\n",
       "50%      2.702053e-03\n",
       "75%      6.647415e-01\n",
       "max      5.116227e+00\n",
       "Name: N_R, dtype: float64"
      ]
     },
     "execution_count": 144,
     "metadata": {},
     "output_type": "execute_result"
    }
   ],
   "source": [
    "pd.DataFrame(X3,columns=feature_list+['intercept'], index=all_feat.index.values).N_R.describe()"
   ]
  },
  {
   "cell_type": "code",
   "execution_count": 145,
   "metadata": {
    "ExecuteTime": {
     "end_time": "2025-06-22T17:25:29.134496Z",
     "start_time": "2025-06-22T17:25:29.120535Z"
    }
   },
   "outputs": [
    {
     "name": "stdout",
     "output_type": "stream",
     "text": [
      "Train MSE: 0.019495688625636266\n",
      "Train R²: 0.7663387895764233\n",
      "Variance Explained: 0.7663387895764233\n"
     ]
    }
   ],
   "source": [
    "y_pred = enet_cv2.predict(X3[:,1:])\n",
    "\n",
    "print(\"Train MSE:\", mean_squared_error(ynorm.squeeze(), y_pred))\n",
    "print(\"Train R²:\",  r2_score(ynorm.squeeze(), y_pred))\n",
    "print(\"Variance Explained:\",  explained_variance_score(ynorm.squeeze(), y_pred))\n"
   ]
  },
  {
   "cell_type": "code",
   "execution_count": 146,
   "metadata": {
    "ExecuteTime": {
     "end_time": "2025-06-22T17:25:30.213280Z",
     "start_time": "2025-06-22T17:25:30.088450Z"
    }
   },
   "outputs": [
    {
     "data": {
      "text/plain": [
       "Text(0, 0.5, 'Predicted values')"
      ]
     },
     "execution_count": 146,
     "metadata": {},
     "output_type": "execute_result"
    },
    {
     "data": {
      "image/png": "[encoded data removed]",
      "text/plain": [
       "<Figure size 640x480 with 1 Axes>"
      ]
     },
     "metadata": {},
     "output_type": "display_data"
    }
   ],
   "source": [
    "plt.scatter(ynorm, y_pred, s=3,c=X3[:, -3])\n",
    "plt.xlabel('Actual values')\n",
    "plt.ylabel('Predicted values')"
   ]
  },
  {
   "cell_type": "markdown",
   "metadata": {},
   "source": [
    "### Bootstrapping"
   ]
  },
  {
   "cell_type": "code",
   "execution_count": 148,
   "metadata": {
    "ExecuteTime": {
     "end_time": "2025-06-22T17:26:44.000990Z",
     "start_time": "2025-06-22T17:26:40.185097Z"
    }
   },
   "outputs": [
    {
     "name": "stdout",
     "output_type": "stream",
     "text": [
      "Coefficient SEs: [0.00284059 0.00349762 0.00543535 0.00507239 0.00319151 0.00449018\n",
      " 0.00459754 0.00297315 0.00401967 0.00408141 0.00409794 0.00349728\n",
      " 0.0048717  0.00465248 0.00294419 0.00485091 0.00365733 0.00673168\n",
      " 0.00565555 0.00732978]\n"
     ]
    }
   ],
   "source": [
    "B = 2000\n",
    "coefs = np.zeros((B, X3[:, 1:].shape[1]))\n",
    "r2 = []\n",
    "intercepts = []\n",
    "\n",
    "for b in range(B):\n",
    "    # sample with replacement\n",
    "    idx = np.random.choice(len(ynorm), len(ynorm), replace=True)\n",
    "    Xb, yb = X3[:, 1:][idx], ynorm[idx]\n",
    "\n",
    "    # refit final model\n",
    "    model = ElasticNet(\n",
    "        alpha=best_alpha,\n",
    "        l1_ratio=best_l1,\n",
    "        max_iter=1000,\n",
    "        random_state=b\n",
    "    ).fit(Xb, yb)\n",
    "\n",
    "    coefs[b, :] = model.coef_\n",
    "    yp = model.predict(Xb)\n",
    "    r2.append( r2_score(yb.squeeze(), yp))\n",
    "    intercepts.append(model.intercept_)\n",
    "# compute bootstrap SEs\n",
    "se = coefs.std(axis=0)\n",
    "print(\"Coefficient SEs:\", se)\n"
   ]
  },
  {
   "cell_type": "code",
   "execution_count": 149,
   "metadata": {
    "ExecuteTime": {
     "end_time": "2025-06-22T17:26:45.508902Z",
     "start_time": "2025-06-22T17:26:45.504076Z"
    }
   },
   "outputs": [
    {
     "name": "stdout",
     "output_type": "stream",
     "text": [
      "β_0: 0.0006 ± 0.0028\n",
      "β_1: -0.0053 ± 0.0035\n",
      "β_2: 0.0394 ± 0.0054\n",
      "β_3: -0.0120 ± 0.0051\n",
      "β_4: 0.0015 ± 0.0032\n",
      "β_5: 0.0154 ± 0.0045\n",
      "β_6: -0.0107 ± 0.0046\n",
      "β_7: -0.0021 ± 0.0030\n",
      "β_8: 0.0036 ± 0.0040\n",
      "β_9: 0.0027 ± 0.0041\n",
      "β_10: -0.0053 ± 0.0041\n",
      "β_11: 0.0034 ± 0.0035\n",
      "β_12: 0.0380 ± 0.0049\n",
      "β_13: 0.0121 ± 0.0047\n",
      "β_14: -0.0003 ± 0.0029\n",
      "β_15: 0.0056 ± 0.0049\n",
      "β_16: -0.0031 ± 0.0037\n",
      "β_17: 0.1217 ± 0.0067\n",
      "β_18: -0.0363 ± 0.0057\n",
      "β_19: -0.0514 ± 0.0073\n",
      "R2: 0.770 ± 0.0090\n",
      "Intercept: 0.500 ± 0.0034\n"
     ]
    }
   ],
   "source": [
    "\n",
    "bootstrap_means = coefs.mean(axis=0)\n",
    "bootstrap_sds   = coefs.std(axis=0, ddof=1) # ddof=1 for sample‐std\n",
    "\n",
    "# print mean ± SE\n",
    "for j, (m, se) in enumerate(zip(bootstrap_means, bootstrap_sds)):\n",
    "    print(f\"β_{j}: {m:.4f} \\u00B1 {se:.4f}\")\n",
    "\n",
    "print(f\"R2: {np.mean(r2):.3f} \\u00B1 {np.std(r2):.4f}\")\n",
    "print(f\"Intercept: {np.mean(intercepts):.3f} \\u00B1 {np.std(intercepts):.4f}\")"
   ]
  },
  {
   "cell_type": "code",
   "execution_count": 150,
   "metadata": {
    "ExecuteTime": {
     "end_time": "2025-06-22T17:26:58.281903Z",
     "start_time": "2025-06-22T17:26:58.276938Z"
    },
    "run_control": {
     "marked": true
    }
   },
   "outputs": [
    {
     "name": "stdout",
     "output_type": "stream",
     "text": [
      "β_N_C 95% CI (percentile): [-0.0057, 0.0070]\n",
      "β_N_R 95% CI (percentile): [-0.0126, 0.0000]\n",
      "β_assortativity_RC 95% CI (percentile): [0.0289, 0.0503]\n",
      "β_Mean_LOEUF 95% CI (percentile): [-0.0217, -0.0021]\n",
      "β_DiffRC_LOEUF 95% CI (percentile): [-0.0044, 0.0092]\n",
      "β_DiffRC_GeneSize 95% CI (percentile): [0.0065, 0.0240]\n",
      "β_DiffRC_nTissues 95% CI (percentile): [-0.0192, -0.0017]\n",
      "β_Mean_mRNA 95% CI (percentile): [-0.0091, 0.0024]\n",
      "β_DiffRC_mRNA 95% CI (percentile): [-0.0022, 0.0126]\n",
      "β_Mean_GeneSize 95% CI (percentile): [-0.0037, 0.0122]\n",
      "β_Mean_GO 95% CI (percentile): [-0.0139, 0.0000]\n",
      "β_DiffRC_GO 95% CI (percentile): [-0.0017, 0.0110]\n",
      "β_density_R 95% CI (percentile): [0.0280, 0.0474]\n",
      "β_density_C 95% CI (percentile): [0.0032, 0.0210]\n",
      "β_Mean_nTissues 95% CI (percentile): [-0.0075, 0.0059]\n",
      "β_g_C 95% CI (percentile): [0.0000, 0.0166]\n",
      "β_g_R 95% CI (percentile): [-0.0116, 0.0018]\n",
      "β_J_RC 95% CI (percentile): [0.1088, 0.1349]\n",
      "β_binary 95% CI (percentile): [-0.0476, -0.0253]\n",
      "β_jaccard_zero 95% CI (percentile): [-0.0662, -0.0367]\n"
     ]
    }
   ],
   "source": [
    "lower_pct, upper_pct = 2.5, 97.5\n",
    "\n",
    "# Compute the percentiles\n",
    "ci_lower = np.percentile(coefs, lower_pct, axis=0)\n",
    "ci_upper = np.percentile(coefs, upper_pct, axis=0)\n",
    "\n",
    "for j, (low, high) in enumerate(zip(ci_lower, ci_upper)):\n",
    "    print(f\"β_{feature_list[j]} 95% CI (percentile): [{low:.4f}, {high:.4f}]\")\n"
   ]
  },
  {
   "cell_type": "code",
   "execution_count": 151,
   "metadata": {
    "ExecuteTime": {
     "end_time": "2025-06-22T17:27:07.499882Z",
     "start_time": "2025-06-22T17:27:07.494669Z"
    }
   },
   "outputs": [
    {
     "name": "stdout",
     "output_type": "stream",
     "text": [
      "coef #N_C: p ≈ 1.00000000\n",
      "coef #N_R: p ≈ 0.47976012\n",
      "coef #assortativity_RC: p ≈ 0.01999000\n",
      "coef #Mean_LOEUF: p ≈ 0.01999000\n",
      "coef #DiffRC_LOEUF: p ≈ 1.00000000\n",
      "coef #DiffRC_GeneSize: p ≈ 0.01999000\n",
      "coef #DiffRC_nTissues: p ≈ 0.03998001\n",
      "coef #Mean_mRNA: p ≈ 1.00000000\n",
      "coef #DiffRC_mRNA: p ≈ 1.00000000\n",
      "coef #Mean_GeneSize: p ≈ 1.00000000\n",
      "coef #Mean_GO: p ≈ 0.93953023\n",
      "coef #DiffRC_GO: p ≈ 1.00000000\n",
      "coef #density_R: p ≈ 0.01999000\n",
      "coef #density_C: p ≈ 0.01999000\n",
      "coef #Mean_nTissues: p ≈ 1.00000000\n",
      "coef #g_C: p ≈ 0.47976012\n",
      "coef #g_R: p ≈ 1.00000000\n",
      "coef #J_RC: p ≈ 0.01999000\n",
      "coef #binary: p ≈ 0.01999000\n",
      "coef #jaccard_zero: p ≈ 0.01999000\n"
     ]
    }
   ],
   "source": [
    "\n",
    "B, n_features = coefs.shape\n",
    "pvals = np.zeros(n_features)\n",
    "for j in range(n_features):\n",
    "    # fraction of bootstraps ≤ 0 and ≥ 0\n",
    "    if np.sum(coefs[:, j] < 0) + np.sum(coefs[:, j] > 0) > 0:\n",
    "        frac_le = (np.sum(coefs[:, j] < 0) + 1)/(B+1)\n",
    "        frac_ge = (np.sum(coefs[:, j] > 0) + 1)/(B+1) \n",
    "        # two-sided q-value\n",
    "        pvals[j] = min(1, 2 * min(frac_le, frac_ge)*n_features)\n",
    "    else:\n",
    "        pvals[j] = np.nan\n",
    "for j, p in enumerate(pvals):\n",
    "    print(f\"coef #{feature_list[j]}: p ≈ {p:.8f}\")\n"
   ]
  },
  {
   "cell_type": "markdown",
   "metadata": {},
   "source": [
    "### Table 1"
   ]
  },
  {
   "cell_type": "code",
   "execution_count": 152,
   "metadata": {
    "ExecuteTime": {
     "end_time": "2025-06-22T17:27:13.022463Z",
     "start_time": "2025-06-22T17:27:13.012922Z"
    }
   },
   "outputs": [],
   "source": [
    "\n",
    "coef_df = pd.DataFrame({\n",
    "    'Feature': feature_list,\n",
    "    'Coefficient': bootstrap_means,\n",
    "    'CI Lower': ci_lower,\n",
    "    'CI Upper': ci_upper,\n",
    "    'P-Val': pvals\n",
    "})\n",
    "\n",
    "coef_df['95% CI'] = coef_df.apply(\n",
    "    lambda row: f\"({row['CI Lower']:.3f}, {row['CI Upper']:.3f})\", axis=1)\n",
    "\n",
    "order = [feature_names[x] for x in ['g_C', 'g_R', 'density_C', 'density_R', 'N_C', 'N_R', \n",
    "         'Mean_LOEUF', 'DiffRC_LOEUF', 'Mean_GeneSize', 'DiffRC_GeneSize', 'Mean_nTissues', 'DiffRC_nTissues',\n",
    "         'Mean_mRNA', 'DiffRC_mRNA', 'Mean_GO', 'DiffRC_GO',\n",
    "         'jaccard_zero',\n",
    "        'J_RC', 'assortativity_RC', 'binary']]\n",
    "coef_df['Feature'] = coef_df['Feature'].map(feature_names)\n",
    "coef_df.set_index('Feature').loc[order, ( 'Coefficient', '95% CI', 'P-Val')].to_csv(os.path.join(figdir, 'elastic_net_coefs4_2000_test.tsv'), sep='\\t')\n",
    "\n"
   ]
  },
  {
   "cell_type": "code",
   "execution_count": 153,
   "metadata": {
    "ExecuteTime": {
     "end_time": "2025-06-22T17:27:26.463837Z",
     "start_time": "2025-06-22T17:27:26.456385Z"
    }
   },
   "outputs": [
    {
     "data": {
      "text/html": [
       "<div>\n",
       "<style scoped>\n",
       "    .dataframe tbody tr th:only-of-type {\n",
       "        vertical-align: middle;\n",
       "    }\n",
       "\n",
       "    .dataframe tbody tr th {\n",
       "        vertical-align: top;\n",
       "    }\n",
       "\n",
       "    .dataframe thead th {\n",
       "        text-align: right;\n",
       "    }\n",
       "</style>\n",
       "<table border=\"1\" class=\"dataframe\">\n",
       "  <thead>\n",
       "    <tr style=\"text-align: right;\">\n",
       "      <th></th>\n",
       "      <th>Feature</th>\n",
       "      <th>Coefficient</th>\n",
       "      <th>CI Lower</th>\n",
       "      <th>CI Upper</th>\n",
       "      <th>P-Val</th>\n",
       "      <th>95% CI</th>\n",
       "    </tr>\n",
       "  </thead>\n",
       "  <tbody>\n",
       "    <tr>\n",
       "      <th>0</th>\n",
       "      <td>Study Size - Common</td>\n",
       "      <td>0.000588</td>\n",
       "      <td>-0.005695</td>\n",
       "      <td>0.007003</td>\n",
       "      <td>1.00000</td>\n",
       "      <td>(-0.006, 0.007)</td>\n",
       "    </tr>\n",
       "    <tr>\n",
       "      <th>1</th>\n",
       "      <td>Study Size - Rare</td>\n",
       "      <td>-0.005335</td>\n",
       "      <td>-0.012606</td>\n",
       "      <td>0.000000</td>\n",
       "      <td>0.47976</td>\n",
       "      <td>(-0.013, 0.000)</td>\n",
       "    </tr>\n",
       "    <tr>\n",
       "      <th>2</th>\n",
       "      <td>Assortativity</td>\n",
       "      <td>0.039389</td>\n",
       "      <td>0.028902</td>\n",
       "      <td>0.050305</td>\n",
       "      <td>0.01999</td>\n",
       "      <td>(0.029, 0.050)</td>\n",
       "    </tr>\n",
       "    <tr>\n",
       "      <th>3</th>\n",
       "      <td>Mean LOEUF</td>\n",
       "      <td>-0.012004</td>\n",
       "      <td>-0.021668</td>\n",
       "      <td>-0.002072</td>\n",
       "      <td>0.01999</td>\n",
       "      <td>(-0.022, -0.002)</td>\n",
       "    </tr>\n",
       "    <tr>\n",
       "      <th>4</th>\n",
       "      <td>Diff. LOEUF</td>\n",
       "      <td>0.001533</td>\n",
       "      <td>-0.004418</td>\n",
       "      <td>0.009151</td>\n",
       "      <td>1.00000</td>\n",
       "      <td>(-0.004, 0.009)</td>\n",
       "    </tr>\n",
       "    <tr>\n",
       "      <th>5</th>\n",
       "      <td>Diff. Gene Size</td>\n",
       "      <td>0.015388</td>\n",
       "      <td>0.006462</td>\n",
       "      <td>0.024024</td>\n",
       "      <td>0.01999</td>\n",
       "      <td>(0.006, 0.024)</td>\n",
       "    </tr>\n",
       "    <tr>\n",
       "      <th>6</th>\n",
       "      <td>Diff. Exp. Tissues</td>\n",
       "      <td>-0.010709</td>\n",
       "      <td>-0.019221</td>\n",
       "      <td>-0.001694</td>\n",
       "      <td>0.03998</td>\n",
       "      <td>(-0.019, -0.002)</td>\n",
       "    </tr>\n",
       "    <tr>\n",
       "      <th>7</th>\n",
       "      <td>Mean Exp.</td>\n",
       "      <td>-0.002101</td>\n",
       "      <td>-0.009085</td>\n",
       "      <td>0.002364</td>\n",
       "      <td>1.00000</td>\n",
       "      <td>(-0.009, 0.002)</td>\n",
       "    </tr>\n",
       "    <tr>\n",
       "      <th>8</th>\n",
       "      <td>Diff. Exp.</td>\n",
       "      <td>0.003646</td>\n",
       "      <td>-0.002206</td>\n",
       "      <td>0.012620</td>\n",
       "      <td>1.00000</td>\n",
       "      <td>(-0.002, 0.013)</td>\n",
       "    </tr>\n",
       "    <tr>\n",
       "      <th>9</th>\n",
       "      <td>Mean Gene Size</td>\n",
       "      <td>0.002663</td>\n",
       "      <td>-0.003738</td>\n",
       "      <td>0.012177</td>\n",
       "      <td>1.00000</td>\n",
       "      <td>(-0.004, 0.012)</td>\n",
       "    </tr>\n",
       "    <tr>\n",
       "      <th>10</th>\n",
       "      <td>Mean GO Terms</td>\n",
       "      <td>-0.005315</td>\n",
       "      <td>-0.013895</td>\n",
       "      <td>0.000000</td>\n",
       "      <td>0.93953</td>\n",
       "      <td>(-0.014, 0.000)</td>\n",
       "    </tr>\n",
       "    <tr>\n",
       "      <th>11</th>\n",
       "      <td>Diff. GO Terms</td>\n",
       "      <td>0.003364</td>\n",
       "      <td>-0.001746</td>\n",
       "      <td>0.011004</td>\n",
       "      <td>1.00000</td>\n",
       "      <td>(-0.002, 0.011)</td>\n",
       "    </tr>\n",
       "    <tr>\n",
       "      <th>12</th>\n",
       "      <td>Subnetwork Density - Rare</td>\n",
       "      <td>0.038039</td>\n",
       "      <td>0.027970</td>\n",
       "      <td>0.047395</td>\n",
       "      <td>0.01999</td>\n",
       "      <td>(0.028, 0.047)</td>\n",
       "    </tr>\n",
       "    <tr>\n",
       "      <th>13</th>\n",
       "      <td>Subnetwork Density - Common</td>\n",
       "      <td>0.012122</td>\n",
       "      <td>0.003240</td>\n",
       "      <td>0.021015</td>\n",
       "      <td>0.01999</td>\n",
       "      <td>(0.003, 0.021)</td>\n",
       "    </tr>\n",
       "    <tr>\n",
       "      <th>14</th>\n",
       "      <td>Mean Exp. Tissues</td>\n",
       "      <td>-0.000341</td>\n",
       "      <td>-0.007544</td>\n",
       "      <td>0.005857</td>\n",
       "      <td>1.00000</td>\n",
       "      <td>(-0.008, 0.006)</td>\n",
       "    </tr>\n",
       "    <tr>\n",
       "      <th>15</th>\n",
       "      <td>Number of Genes - Common</td>\n",
       "      <td>0.005638</td>\n",
       "      <td>0.000000</td>\n",
       "      <td>0.016616</td>\n",
       "      <td>0.47976</td>\n",
       "      <td>(0.000, 0.017)</td>\n",
       "    </tr>\n",
       "    <tr>\n",
       "      <th>16</th>\n",
       "      <td>Number of Genes - Rare</td>\n",
       "      <td>-0.003135</td>\n",
       "      <td>-0.011555</td>\n",
       "      <td>0.001807</td>\n",
       "      <td>1.00000</td>\n",
       "      <td>(-0.012, 0.002)</td>\n",
       "    </tr>\n",
       "    <tr>\n",
       "      <th>17</th>\n",
       "      <td>Jaccard Sim.</td>\n",
       "      <td>0.121692</td>\n",
       "      <td>0.108792</td>\n",
       "      <td>0.134915</td>\n",
       "      <td>0.01999</td>\n",
       "      <td>(0.109, 0.135)</td>\n",
       "    </tr>\n",
       "    <tr>\n",
       "      <th>18</th>\n",
       "      <td>Is Trait Binary</td>\n",
       "      <td>-0.036284</td>\n",
       "      <td>-0.047584</td>\n",
       "      <td>-0.025297</td>\n",
       "      <td>0.01999</td>\n",
       "      <td>(-0.048, -0.025)</td>\n",
       "    </tr>\n",
       "    <tr>\n",
       "      <th>19</th>\n",
       "      <td>No shared genes</td>\n",
       "      <td>-0.051366</td>\n",
       "      <td>-0.066244</td>\n",
       "      <td>-0.036680</td>\n",
       "      <td>0.01999</td>\n",
       "      <td>(-0.066, -0.037)</td>\n",
       "    </tr>\n",
       "  </tbody>\n",
       "</table>\n",
       "</div>"
      ],
      "text/plain": [
       "                        Feature  Coefficient  CI Lower  CI Upper    P-Val  \\\n",
       "0           Study Size - Common     0.000588 -0.005695  0.007003  1.00000   \n",
       "1             Study Size - Rare    -0.005335 -0.012606  0.000000  0.47976   \n",
       "2                 Assortativity     0.039389  0.028902  0.050305  0.01999   \n",
       "3                    Mean LOEUF    -0.012004 -0.021668 -0.002072  0.01999   \n",
       "4                   Diff. LOEUF     0.001533 -0.004418  0.009151  1.00000   \n",
       "5               Diff. Gene Size     0.015388  0.006462  0.024024  0.01999   \n",
       "6            Diff. Exp. Tissues    -0.010709 -0.019221 -0.001694  0.03998   \n",
       "7                     Mean Exp.    -0.002101 -0.009085  0.002364  1.00000   \n",
       "8                    Diff. Exp.     0.003646 -0.002206  0.012620  1.00000   \n",
       "9                Mean Gene Size     0.002663 -0.003738  0.012177  1.00000   \n",
       "10                Mean GO Terms    -0.005315 -0.013895  0.000000  0.93953   \n",
       "11               Diff. GO Terms     0.003364 -0.001746  0.011004  1.00000   \n",
       "12    Subnetwork Density - Rare     0.038039  0.027970  0.047395  0.01999   \n",
       "13  Subnetwork Density - Common     0.012122  0.003240  0.021015  0.01999   \n",
       "14            Mean Exp. Tissues    -0.000341 -0.007544  0.005857  1.00000   \n",
       "15     Number of Genes - Common     0.005638  0.000000  0.016616  0.47976   \n",
       "16       Number of Genes - Rare    -0.003135 -0.011555  0.001807  1.00000   \n",
       "17                 Jaccard Sim.     0.121692  0.108792  0.134915  0.01999   \n",
       "18              Is Trait Binary    -0.036284 -0.047584 -0.025297  0.01999   \n",
       "19              No shared genes    -0.051366 -0.066244 -0.036680  0.01999   \n",
       "\n",
       "              95% CI  \n",
       "0    (-0.006, 0.007)  \n",
       "1    (-0.013, 0.000)  \n",
       "2     (0.029, 0.050)  \n",
       "3   (-0.022, -0.002)  \n",
       "4    (-0.004, 0.009)  \n",
       "5     (0.006, 0.024)  \n",
       "6   (-0.019, -0.002)  \n",
       "7    (-0.009, 0.002)  \n",
       "8    (-0.002, 0.013)  \n",
       "9    (-0.004, 0.012)  \n",
       "10   (-0.014, 0.000)  \n",
       "11   (-0.002, 0.011)  \n",
       "12    (0.028, 0.047)  \n",
       "13    (0.003, 0.021)  \n",
       "14   (-0.008, 0.006)  \n",
       "15    (0.000, 0.017)  \n",
       "16   (-0.012, 0.002)  \n",
       "17    (0.109, 0.135)  \n",
       "18  (-0.048, -0.025)  \n",
       "19  (-0.066, -0.037)  "
      ]
     },
     "execution_count": 153,
     "metadata": {},
     "output_type": "execute_result"
    }
   ],
   "source": [
    "coef_df"
   ]
  },
  {
   "cell_type": "markdown",
   "metadata": {},
   "source": [
    "### Residuals calculation"
   ]
  },
  {
   "cell_type": "code",
   "execution_count": 154,
   "metadata": {
    "ExecuteTime": {
     "end_time": "2025-06-22T17:27:36.905134Z",
     "start_time": "2025-06-22T17:27:36.902981Z"
    }
   },
   "outputs": [],
   "source": [
    "residuals = np.subtract(ynorm.squeeze(), y_pred.squeeze())"
   ]
  },
  {
   "cell_type": "code",
   "execution_count": 161,
   "metadata": {
    "ExecuteTime": {
     "end_time": "2025-06-22T17:28:57.626651Z",
     "start_time": "2025-06-22T17:28:57.623754Z"
    }
   },
   "outputs": [],
   "source": [
    "resid_df = pd.DataFrame({'log2COLOC_norm':ynorm.squeeze(), 'log2COLOC':y.squeeze(), 'Prediction':y_pred, 'Residual':residuals}, index=all_feat.trait_pair.values)"
   ]
  },
  {
   "cell_type": "code",
   "execution_count": 162,
   "metadata": {
    "ExecuteTime": {
     "end_time": "2025-06-22T17:29:02.947876Z",
     "start_time": "2025-06-22T17:29:02.933871Z"
    }
   },
   "outputs": [],
   "source": [
    "resid_df.to_csv(os.path.join(datadir, 'outputs/residuals_mod4.tsv'), sep='\\t')"
   ]
  },
  {
   "cell_type": "code",
   "execution_count": 163,
   "metadata": {
    "ExecuteTime": {
     "end_time": "2025-06-22T17:29:03.475861Z",
     "start_time": "2025-06-22T17:29:03.470480Z"
    }
   },
   "outputs": [],
   "source": [
    "resid_df = pd.read_csv(os.path.join(datadir, 'outputs/residuals_mod4.tsv'), sep='\\t', index_col=0)"
   ]
  },
  {
   "cell_type": "markdown",
   "metadata": {},
   "source": [
    "### SFigure 2B"
   ]
  },
  {
   "cell_type": "code",
   "execution_count": 165,
   "metadata": {
    "ExecuteTime": {
     "end_time": "2025-06-22T17:29:06.635779Z",
     "start_time": "2025-06-22T17:29:06.631563Z"
    }
   },
   "outputs": [],
   "source": [
    "all_feat_h2 = all_feat_h2.drop(columns=['log2COLOC']).merge(resid_df.reset_index(names=['trait_pair']), on='trait_pair', how='left')"
   ]
  },
  {
   "cell_type": "code",
   "execution_count": 167,
   "metadata": {
    "ExecuteTime": {
     "end_time": "2025-06-22T17:29:31.459284Z",
     "start_time": "2025-06-22T17:29:31.456004Z"
    }
   },
   "outputs": [],
   "source": [
    "r_h2_res = all_feat_h2.loc[:, ('log2COLOC', 'Residual', 'SNP-Heritability')].corr(method='spearman').at['Residual', 'SNP-Heritability']"
   ]
  },
  {
   "cell_type": "code",
   "execution_count": 168,
   "metadata": {
    "ExecuteTime": {
     "end_time": "2025-06-22T17:29:43.147182Z",
     "start_time": "2025-06-22T17:29:42.862830Z"
    }
   },
   "outputs": [
    {
     "data": {
      "image/png": "[encoded data removed]",
      "text/plain": [
       "<Figure size 200x150 with 1 Axes>"
      ]
     },
     "metadata": {},
     "output_type": "display_data"
    }
   ],
   "source": [
    "_ = plt.figure(figsize=(2,1.5))\n",
    "#sns.scatterplot(all_feat_h2, y='log2COLOC', x='h2_observed', alpha=0.7, color='grey')\n",
    "sns.scatterplot(all_feat_h2, y='Residual', x='SNP-Heritability', alpha=0.7, color=purple)\n",
    "plt.hlines(y=0, xmin=-0.05, xmax=0.9, color='black', linewidth=0.4)\n",
    "#plt.hlines(y=[np.log2(1.3), np.log2(2.5)], xmin=-0.05, xmax=0.9, color='black', linewidth=0.4, linestyle='--')\n",
    "plt.xlim(0.00002, 0.9)\n",
    "ax1 = plt.gca()\n",
    "#ax1.set_yticks([-1, 0, 1, 2], labels=[0.5, 1, 2, 4])\n",
    "#_ = ax1.set_yticks(np.log2([3,5,6]), minor=True)\n",
    "_ =ax1.set_ylabel('Residual\\nCOLOC Score')\n",
    "_ =ax1.set_xlabel('SNP Heritability')\n",
    "_ = plt.text(x=0.00005, y=0.4, s=f'rs = {r_h2_res:.2f}')\n",
    "plt.xscale('log')\n",
    "#plt.savefig(os.path.join(figdir, 'heritability_scatter_adjusted.svg'), bbox_inches='tight')"
   ]
  },
  {
   "cell_type": "markdown",
   "metadata": {},
   "source": [
    "## Feature examination"
   ]
  },
  {
   "cell_type": "markdown",
   "metadata": {},
   "source": [
    "### Figure 4D"
   ]
  },
  {
   "cell_type": "code",
   "execution_count": 169,
   "metadata": {
    "ExecuteTime": {
     "end_time": "2025-06-22T17:32:37.205297Z",
     "start_time": "2025-06-22T17:32:37.194153Z"
    }
   },
   "outputs": [],
   "source": [
    "def plot_fraction_by_y_quantile_bars(\n",
    "    X_df: pd.DataFrame,\n",
    "    y_df: pd.DataFrame,\n",
    "    y_col: str,\n",
    "    group_col: str = None,\n",
    "    group_order: list = None,\n",
    "    n_quantiles: int = 10,\n",
    "    subset_features: list = None,\n",
    "    feature_name_map: dict = None,\n",
    "    figsize: tuple = (10, 6),\n",
    "    colors: list = None,\n",
    "    ax: plt.Axes = None,\n",
    "    plot_violin=False\n",
    "):\n",
    "    \"\"\"\n",
    "    Plot feature means ± SEM across either y-quantile bins or predefined groups.\n",
    "\n",
    "    Parameters\n",
    "    ----------\n",
    "    X_df : pd.DataFrame\n",
    "        Feature DataFrame (n_samples x n_features).\n",
    "    y_df : pd.DataFrame\n",
    "        DataFrame containing the target column and optional group column.\n",
    "    y_col : str\n",
    "        Name of the column in y_df to use as the continuous target (for quantiles).\n",
    "    group_col : str, optional\n",
    "        Name of the column in y_df to use as categorical grouping. If provided,\n",
    "        samples are grouped by this column instead of quantiles.\n",
    "    group_order : list of str, optional\n",
    "        Desired order of categories in group_col. Categories not present are dropped.\n",
    "    n_quantiles : int, default=10\n",
    "        Number of equal-sized bins to cut y into (used only if group_col is None).\n",
    "    subset_features : list of str, optional\n",
    "        Names of features in X_df to plot. If None, all columns of X_df are used.\n",
    "    feature_name_map : dict, optional\n",
    "        Mapping from X_df column names to display names for plotting.\n",
    "    figsize : tuple, optional\n",
    "        Matplotlib figure size.\n",
    "    colors : list of str, optional\n",
    "        List of colors for each feature line.\n",
    "    ax : matplotlib.axes.Axes, optional\n",
    "        Axes object to draw on; if None, a new figure and axes are created.\n",
    "    \"\"\"\n",
    "    # Join X and y on index\n",
    "    merged = X_df.join(y_df[[y_col] + ([group_col] if group_col else [])], how='inner')\n",
    "\n",
    "    # Select features\n",
    "    all_features = X_df.columns.tolist()\n",
    "    features_to_plot = subset_features if subset_features else all_features\n",
    "    X = merged[features_to_plot].values\n",
    "\n",
    "    # Determine grouping or quantiles\n",
    "    if group_col:\n",
    "        _ = plt.figure(figsize=(2,1.5))\n",
    "        class_counts = all_feat[group_col].value_counts().to_dict()\n",
    "        plot_df = (1- all_feat.groupby(group_col)[subset_features].mean()).melt(ignore_index=False).reset_index()\n",
    "        order=['Negative','None', 'Weak', 'Moderate', 'Strong']\n",
    "        sns.barplot(plot_df, order=order,\n",
    "                    x=group_col, y='value', hue='variable',\n",
    "                   palette=colors, saturation=1, edgecolor='black')\n",
    "\n",
    "        plt.xticks([i for i in range(5)], labels=[f'{x}\\n(n={class_counts[x]})' for x in order])\n",
    "        plt.tick_params(axis='x', rotation=90)\n",
    "    else:\n",
    "        y = merged[y_col].values\n",
    "        try:\n",
    "            bins = pd.qcut(y, q=n_quantiles, labels=False, duplicates='drop')\n",
    "        except ValueError:\n",
    "            rank = np.argsort(np.argsort(y))\n",
    "            bins = np.floor((rank / len(y)) * n_quantiles).astype(int)\n",
    "            bins[bins == n_quantiles] = n_quantiles - 1\n",
    "        unique_bins = np.unique(bins)\n",
    "        labels = [f\"{(i+1)*10}\" for i in unique_bins]\n",
    "        n_bins = len(unique_bins)\n",
    "\n",
    "        # Compute per-bin means and SEM\n",
    "        means = np.zeros((n_bins, X.shape[1]))\n",
    "        x = np.arange(n_bins)\n",
    "        for i in range(n_bins):\n",
    "            vals = X[bins == i]\n",
    "            means[i] = vals.mean(axis=0)\n",
    "        plot_df = pd.DataFrame(means, columns=subset_features).melt(ignore_index=False).reset_index()\n",
    "\n",
    "        # Create axes if needed\n",
    "        if ax is None:\n",
    "            fig, ax = plt.subplots(figsize=figsize)\n",
    "            sns.barplot(plot_df, x='index', y='value', hue='variable', palette=colors, order=x, ax=ax,\n",
    "                       saturation=1, edgecolor='black')\n",
    "            ax.set_xticks(x, labels)\n",
    "    # Plot each feature line\n",
    "    \n",
    "  "
   ]
  },
  {
   "cell_type": "code",
   "execution_count": 170,
   "metadata": {
    "ExecuteTime": {
     "end_time": "2025-06-22T17:32:43.809817Z",
     "start_time": "2025-06-22T17:32:43.807298Z"
    }
   },
   "outputs": [],
   "source": [
    "all_feat = all_feat.set_index('trait_pair')\n",
    "all_feat.index.name=''"
   ]
  },
  {
   "cell_type": "code",
   "execution_count": 171,
   "metadata": {
    "ExecuteTime": {
     "end_time": "2025-06-22T17:32:52.007546Z",
     "start_time": "2025-06-22T17:32:51.750811Z"
    }
   },
   "outputs": [
    {
     "data": {
      "image/png": "[encoded data removed]",
      "text/plain": [
       "<Figure size 150x150 with 1 Axes>"
      ]
     },
     "metadata": {},
     "output_type": "display_data"
    }
   ],
   "source": [
    "plot_fraction_by_y_quantile_bars(\n",
    "     all_feat.drop(columns=['log2COLOC']),\n",
    "     resid_df,\n",
    "    y_col='log2COLOC',\n",
    "     n_quantiles=10,\n",
    "     feature_name_map=feature_names,\n",
    "     subset_features=['binary', 'jaccard_zero'],\n",
    "        figsize=(1.5,1.5),\n",
    "        colors=[binary, shared],\n",
    "        ax=None\n",
    " )\n",
    "_ = plt.ylabel('Trait Fraction')\n",
    "_ = plt.xlabel('COLOC Quantile')\n",
    "#plt.savefig(os.path.join(figdir, 'binary_jaccard_q10.svg'), bbox_inches='tight')"
   ]
  },
  {
   "cell_type": "markdown",
   "metadata": {},
   "source": [
    "### Figure 4E"
   ]
  },
  {
   "cell_type": "code",
   "execution_count": 172,
   "metadata": {
    "ExecuteTime": {
     "end_time": "2025-06-22T17:32:56.646477Z",
     "start_time": "2025-06-22T17:32:56.633857Z"
    }
   },
   "outputs": [],
   "source": [
    "def plot_feature_means_by_y_quantile_lines(\n",
    "    X_df: pd.DataFrame,\n",
    "    y_df: pd.DataFrame,\n",
    "    y_col: str,\n",
    "    group_col: str = None,\n",
    "    group_order: list = None,\n",
    "    n_quantiles: int = 10,\n",
    "    subset_features: list = None,\n",
    "    feature_name_map: dict = None,\n",
    "    figsize: tuple = (10, 6),\n",
    "    colors: list = None,\n",
    "    ax: plt.Axes = None,\n",
    "    plot_violin=False,\n",
    "    markersize=4\n",
    "):\n",
    "    \"\"\"\n",
    "    Plot feature means ± SEM across either y-quantile bins or predefined groups.\n",
    "    If plot_violin=True, show a violin of the raw feature-values in each bin \n",
    "    (for each feature).\n",
    "\n",
    "    Parameters\n",
    "    ----------\n",
    "    X_df : pd.DataFrame\n",
    "        Feature DataFrame (n_samples x n_features).\n",
    "    y_df : pd.DataFrame\n",
    "        DataFrame containing the target column and optional group column.\n",
    "    y_col : str\n",
    "        Name of the column in y_df to use as the continuous target (for quantiles).\n",
    "    group_col : str, optional\n",
    "        Name of the column in y_df to use as categorical grouping. If provided,\n",
    "        samples are grouped by this column instead of quantiles.\n",
    "    group_order : list of str, optional\n",
    "        Desired order of categories in group_col. Categories not present are dropped.\n",
    "    n_quantiles : int, default=10\n",
    "        Number of equal-sized bins to cut y into (used only if group_col is None).\n",
    "    subset_features : list of str, optional\n",
    "        Names of features in X_df to plot. If None, all columns of X_df are used.\n",
    "    feature_name_map : dict, optional\n",
    "        Mapping from X_df column names to display names for plotting.\n",
    "    figsize : tuple, optional\n",
    "        Matplotlib figure size.\n",
    "    colors : list of str, optional\n",
    "        List of colors for each feature line or hue for violins.\n",
    "    ax : matplotlib.axes.Axes, optional\n",
    "        Axes object to draw on; if None, a new figure and axes are created.\n",
    "    plot_violin : bool, default=False\n",
    "        If True, draw a violinplot of the raw datapoints in each bin (for each feature)\n",
    "        instead of the mean±SEM lines.\n",
    "    markersize : int, default=4\n",
    "        Marker size for the errorbar plot (if plot_violin=False).\n",
    "    \"\"\"\n",
    "    # Join X and y on index\n",
    "    merged = X_df.join(y_df[[y_col] + ([group_col] if group_col else [])], how='inner')\n",
    "\n",
    "    # Select which features to plot\n",
    "    all_features = X_df.columns.tolist()\n",
    "    features_to_plot = subset_features if subset_features else all_features\n",
    "\n",
    "    # If feature_name_map is given, build a dict for display\n",
    "    if feature_name_map:\n",
    "        display_names = [feature_name_map.get(f, f) for f in features_to_plot]\n",
    "    else:\n",
    "        display_names = features_to_plot.copy()\n",
    "\n",
    "    # Determine grouping (either by group_col or by quantiles of y_col)\n",
    "    if group_col:\n",
    "        groups = merged[group_col].astype(str)\n",
    "        if group_order:\n",
    "            unique_groups = [g for g in group_order if g in groups.unique()]\n",
    "        else:\n",
    "            unique_groups = list(pd.Categorical(groups).categories)\n",
    "\n",
    "        bin_index = {g: i for i, g in enumerate(unique_groups)}\n",
    "        bins = groups.map(bin_index).values\n",
    "        labels = unique_groups\n",
    "        n_bins = len(unique_groups)\n",
    "\n",
    "    else:\n",
    "        y = merged[y_col].values\n",
    "        try:\n",
    "            bins = pd.qcut(y, q=n_quantiles, labels=False, duplicates='drop')\n",
    "        except ValueError:\n",
    "            # fallback to a rank‐based binning if qcut fails\n",
    "            rank = np.argsort(np.argsort(y))\n",
    "            bins = np.floor((rank / len(y)) * n_quantiles).astype(int)\n",
    "            bins[bins == n_quantiles] = n_quantiles - 1\n",
    "        unique_bins = np.unique(bins)\n",
    "        # use percentiles as x‐tick labels\n",
    "        labels = [int((i + 1) * (100 / n_quantiles)) for i in unique_bins]\n",
    "        n_bins = len(unique_bins)\n",
    "\n",
    "    # Extract X as numpy array for mean/SEM computation\n",
    "    X = merged[features_to_plot].values\n",
    "\n",
    "    # Compute per‐bin means and SEMs (only used if plot_violin=False)\n",
    "    means = np.zeros((n_bins, X.shape[1]))\n",
    "    sems = np.zeros_like(means)\n",
    "    for i in range(n_bins):\n",
    "        vals = X[bins == i]\n",
    "        means[i, :] = vals.mean(axis=0)\n",
    "        sems[i, :] = vals.std(axis=0, ddof=1) / np.sqrt(len(vals))\n",
    "\n",
    "    # Create axes if not provided\n",
    "    if ax is None:\n",
    "        fig, ax = plt.subplots(figsize=figsize)\n",
    "\n",
    "    x = np.arange(n_bins)\n",
    "    \n",
    "    \n",
    "            # Build a long‐form DataFrame of raw feature‐values with their bin indices\n",
    "    plot_df = merged[features_to_plot].copy()\n",
    "    plot_df['bin'] = bins\n",
    "\n",
    "    # Melt so that each row is: (bin, feature_name, raw_value)\n",
    "    melted = plot_df.melt(\n",
    "        id_vars=['bin'],\n",
    "        value_vars=features_to_plot,\n",
    "        var_name='feature',\n",
    "        value_name='value'\n",
    "    )\n",
    "\n",
    "    # Map feature → display name if provided\n",
    "    if feature_name_map:\n",
    "        melted['feature_display'] = melted['feature'].map(\n",
    "            lambda f: feature_name_map.get(f, f)\n",
    "        )\n",
    "    else:\n",
    "        melted['feature_display'] = melted['feature']\n",
    "    \n",
    "\n",
    "    if not plot_violin:\n",
    "        # Standard line + errorbar plot of mean ± SEM for each feature\n",
    "        for idx, name in enumerate(display_names):\n",
    "            color = colors[idx] if colors and idx < len(colors) else None\n",
    "            ax.errorbar(\n",
    "                x,\n",
    "                means[:, idx],\n",
    "                yerr=0, #sems[:, idx],\n",
    "                fmt='-o',\n",
    "                capsize=3,\n",
    "                markersize=markersize,\n",
    "                color=color,\n",
    "                label=name,\n",
    "                zorder=10\n",
    "            )\n",
    "        ax.legend(bbox_to_anchor=(1.02, 1), loc='upper left')\n",
    "\n",
    "\n",
    "    else:\n",
    "\n",
    "        # Now plot one violin per (bin, feature). Use 'hue' to separate features.\n",
    "        # If you only passed a single feature, hue will be trivial.\n",
    "        sns.violinplot(\n",
    "            x='bin',\n",
    "            y='value',\n",
    "            hue='feature_display',\n",
    "            data=melted,\n",
    "            palette=colors,\n",
    "            cut=0,\n",
    "            ax=ax,\n",
    "            fill=False,\n",
    "            inner=\"quart\",\n",
    "            linewidth=0.5\n",
    "        )\n",
    "        # Optionally, if you want to dodge violins per feature side‐by‐side, seaborn will handle it.\n",
    "        # If you want no legend when only one feature, you can do:\n",
    "        if len(features_to_plot) == 1:\n",
    "            ax.get_legend().remove()\n",
    "        else:\n",
    "            ax.legend(bbox_to_anchor=(1.02, 1), loc='upper left')\n",
    "\n",
    "    # Final formatting\n",
    "    ax.set_xticks(x)\n",
    "    ax.set_xticklabels(labels)\n",
    "    ax.set_xlabel(group_col if group_col else y_col)\n",
    "    ax.set_ylabel(\"Feature value\" if plot_violin else \"Mean feature value\")\n",
    "    title = (\n",
    "        f\"Feature means ± SEM across groups '{group_col}'\"\n",
    "        if group_col else\n",
    "        f\"Feature means ± SEM across {n_quantiles} Y quantiles\"\n",
    "    )\n",
    "\n",
    "\n",
    "    # Return a small DataFrame for debugging / further use if desired\n",
    "    z = pd.DataFrame({'y': merged[y_col].values, 'bin': bins})\n",
    "    return z, melted"
   ]
  },
  {
   "cell_type": "code",
   "execution_count": 173,
   "metadata": {
    "ExecuteTime": {
     "end_time": "2025-06-22T17:33:17.405436Z",
     "start_time": "2025-06-22T17:33:14.920961Z"
    }
   },
   "outputs": [
    {
     "data": {
      "image/png": "[encoded data removed]",
      "text/plain": [
       "<Figure size 300x150 with 2 Axes>"
      ]
     },
     "metadata": {},
     "output_type": "display_data"
    }
   ],
   "source": [
    "_, [ax1,ax2] = plt.subplots(ncols=2, nrows=1, figsize=(3, 1.5), sharey=True, gridspec_kw={'wspace':0.1})\n",
    "a, am = plot_feature_means_by_y_quantile_lines(\n",
    "     resid_df,\n",
    "     all_feat.drop(columns=[]),\n",
    "    \n",
    "    y_col='density_C',\n",
    "     n_quantiles=10,\n",
    "     feature_name_map=feature_names,\n",
    "     subset_features=['log2COLOC'],\n",
    "        figsize=(2.5,1.5),\n",
    "        colors=[blue],\n",
    "        ax=ax1,\n",
    "    markersize=4,\n",
    "    plot_violin=False\n",
    " )\n",
    "b, bm = plot_feature_means_by_y_quantile_lines(\n",
    "    resid_df,\n",
    "     all_feat.drop(columns=[]),\n",
    "     \n",
    "    y_col='density_R',\n",
    "     n_quantiles=10,\n",
    "     feature_name_map=feature_names,\n",
    "     subset_features=['log2COLOC'],\n",
    "        figsize=(2.5,1.5),\n",
    "        colors=[green],\n",
    "        ax=ax1,\n",
    "    markersize=4\n",
    " )\n",
    "ax1.set_xticks([0,2,4,6,8], labels=[20,40,60,80,100])\n",
    "_= ax1.set_xticks([-1, 1,3,5,7], minor=True)\n",
    "#ax1.set_yticks([-1, 0, 1, 2], labels=[0.5, 1, 2, 4])\n",
    "#_ = ax1.set_yticks(np.log2([3,5,6]), minor=True)\n",
    "\n",
    "c, cm = plot_feature_means_by_y_quantile_lines(\n",
    "     resid_df,\n",
    "     all_feat.drop(columns=[]),\n",
    "    \n",
    "    y_col='assortativity_RC',\n",
    "     n_quantiles=10,\n",
    "     feature_name_map=feature_names,\n",
    "     subset_features=['log2COLOC'],\n",
    "        figsize=(2.5,1.5),\n",
    "        colors=['#F78154'],\n",
    "        ax=ax2, \n",
    "    markersize=4\n",
    " )\n",
    "ax1.set_xlabel('Subnetwork\\nDensity Quantile')\n",
    "ax2.set_xlabel('Common-Rare\\nAssortativity Quantile')\n",
    "ax2.set_xticks([1,3,5,7,9], labels=[20,40,60,80,100])\n",
    "_= ax2.set_xticks([0, 2,4,6,8], minor=True)\n",
    "\n",
    "am = am.sort_values('bin').reset_index(drop=True)\n",
    "bm = bm.sort_values('bin').reset_index(drop=True)\n",
    "all_m = am.join(bm, lsuffix='c', rsuffix='r').melt(id_vars='binc', value_vars=['valuec', 'valuer'])\n",
    "sns.violinplot(all_m, x='binc', y='value', hue='variable', split=True, fill=True, inner='quart', \n",
    "               alpha=0.3, palette=[blue, green], zorder=0, ax=ax1, cut=0, linewidth=0.3)\n",
    "\n",
    "sns.violinplot(cm, x='bin', y='value', fill=True, inner='quart', \n",
    "               alpha=0.3, color='#F78154', zorder=0, ax=ax2, cut=0, linewidth=0.3)\n",
    "\n",
    "for ax in [ax1, ax2]:\n",
    "    ax.set_ylim(-1.5, 2.7)\n",
    "    \n",
    "    ax.hlines(y=0, xmin=-2, xmax=10, color='black', linewidth=0.5)\n",
    "ax1.set_xlim(-1.5, 8.5)\n",
    "ax2.set_xlim(-0.5, 9.5)\n",
    "ax1.set_ylabel('COLOC Score')\n",
    "ax2.set_ylabel('')\n",
    "ax1.set_yticks([-1, 0, 1, 2], labels=[0.5, 1, 2, 4])\n",
    "_ = ax1.set_yticks(np.log2([3,5,6]), minor=True)\n",
    "#ax1.set_yticks([0, 1, np.log2(4)], labels=[1, 2,  4])\n",
    "#_ = ax1.set_yticks(np.log2([0.9]+[1+i/10 for i in range(1,10)]+[2+i/10 for i in range(1, 10)]+[3.1]), minor=True)\n",
    "\n",
    "#_ = ax1.set_yticks([0, 0.1, 0.2, 0.3])\n",
    "#_ = ax2.set_yticks([0, 0.005, 0.01])\n",
    "#_ = ax1.set_xlabel('')\n",
    "#_ = ax1.set_ylabel('Subnetwork\\nDensity')\n",
    "#_ = ax2.set_ylabel('Common-Rare\\nAssortativity')\n",
    "\n",
    "#sns.violinplot(a, x='bin', y='y', ax=ax1)\n",
    "#plt.savefig(os.path.join(figdir, 'net_features.svg'), bbox_inches='tight')"
   ]
  },
  {
   "cell_type": "markdown",
   "metadata": {},
   "source": [
    "### Figure 4F"
   ]
  },
  {
   "cell_type": "code",
   "execution_count": 174,
   "metadata": {
    "ExecuteTime": {
     "end_time": "2025-06-22T17:33:29.963793Z",
     "start_time": "2025-06-22T17:33:27.037665Z"
    }
   },
   "outputs": [
    {
     "data": {
      "image/png": "[encoded data removed]",
      "text/plain": [
       "<Figure size 750x250 with 6 Axes>"
      ]
     },
     "metadata": {},
     "output_type": "display_data"
    }
   ],
   "source": [
    "_, [[ax4,ax5,ax6],[ax1, ax2, ax3]] = plt.subplots(ncols=3, nrows=2, figsize=(7.5, 2.5), sharey=False, sharex='col',\n",
    "                                                  gridspec_kw={'hspace':0.2, 'wspace':0.3,\n",
    "                                 'height_ratios':[2,3]})\n",
    "\n",
    "a, am = plot_feature_means_by_y_quantile_lines(\n",
    "    resid_df,\n",
    "     all_feat.drop(columns=[]),\n",
    "     \n",
    "    y_col='Mean_LOEUF',\n",
    "     n_quantiles=10,\n",
    "     feature_name_map=feature_names,\n",
    "     subset_features=['log2COLOC'],\n",
    "        figsize=(2,1.5),\n",
    "        colors=['#F78154'],\n",
    "        ax=ax1,\n",
    "    markersize=4\n",
    " )\n",
    "\n",
    "sns.violinplot(am, x='bin', y='value', fill=True, inner='quart', \n",
    "               alpha=0.3, color='#F78154', zorder=0, ax=ax1, cut=0, linewidth=0.3)\n",
    "ax1.set_ylabel('COLOC Score')\n",
    "ax1.set_xlabel('Mean LOUEF Quantile')\n",
    "sns.barplot(a, x='bin', y='y', ax=ax4,errorbar='sd', err_kws={'linewidth':1}, color='#F78154',\n",
    "           edgecolor='black', saturation=1)\n",
    "ax4.set_ylabel('Mean LOEUF')\n",
    "#_ = ax1.set_yticks([1.5, 2, 2.5,3])\n",
    "\n",
    "#_ = ax1.set_xlabel('')\n",
    "b, bm = plot_feature_means_by_y_quantile_lines(\n",
    "    resid_df,\n",
    "     all_feat.drop(columns=[]),\n",
    "     \n",
    "    y_col='DiffRC_GeneSize',\n",
    "     n_quantiles=10,\n",
    "     feature_name_map=feature_names,\n",
    "     subset_features=['log2COLOC'],\n",
    "        figsize=(2,1.5),\n",
    "        colors=['#F78154'],\n",
    "        ax=ax2,\n",
    "    markersize=4\n",
    " )\n",
    "bb = b.groupby('bin').y.mean().reset_index()\n",
    "bb['color'] = bb.y.apply(lambda x: blue if x <0 else green)\n",
    "ax2.set_ylabel('COLOC Score')\n",
    "ax2.set_xlabel('Gene Size Difference Quantile')\n",
    "sns.violinplot(bm, x='bin', y='value', fill=True, inner='quart', \n",
    "               alpha=0.3, color='#F78154', zorder=0, ax=ax2, cut=0, linewidth=0.3)\n",
    "#_ = ax2.set_yticks([0, -0.25, -0.5, -0.75, -1])\n",
    "\n",
    "sns.barplot(b, x='bin', y='y', ax=ax5,errorbar='sd', err_kws={'linewidth':1}, hue='bin', legend=False,\n",
    "           palette=list(bb.color.values), saturation=1, edgecolor='black')\n",
    "\n",
    "ax5.set_ylabel('Gene Size\\nDifference')\n",
    "ax5.hlines(y=0, xmin=-0.5, xmax=9.5, color='black', linewidth=0.5)\n",
    "ax5.set_xlim(-0.5, 9.5)\n",
    "\n",
    "#_ = ax2.set_xlabel('')\n",
    "c, cm = plot_feature_means_by_y_quantile_lines(\n",
    "     resid_df,\n",
    "     all_feat.drop(columns=[]),\n",
    "    \n",
    "    y_col='DiffRC_nTissues',\n",
    "     n_quantiles=10,\n",
    "     feature_name_map=feature_names,\n",
    "     subset_features=['log2COLOC'],\n",
    "        figsize=(2,1.5),\n",
    "        colors=['#F78154'],\n",
    "        ax=ax3,\n",
    "    markersize=4\n",
    " )\n",
    "sns.violinplot(cm, x='bin', y='value', fill=True, inner='quart', \n",
    "               alpha=0.3, color='#F78154', zorder=0, ax=ax3, cut=0, linewidth=0.3)\n",
    "ax3.set_ylabel('COLOC Score')\n",
    "ax3.set_xlabel('Exp. Tissue Difference Quantile')\n",
    "cc = c.groupby('bin').y.mean().reset_index()\n",
    "cc['color'] = cc.y.apply(lambda x: blue if x <0 else green)\n",
    "sns.barplot(c, x='bin', y='y', ax=ax6, errorbar='sd', err_kws={'linewidth':1}, hue='bin', legend=False,\n",
    "           palette = list(cc.color.values), saturation=1, edgecolor='black')\n",
    "ax6.set_ylabel('Exp. Tissue\\nDifference')\n",
    "ax6.hlines(y=0, xmin=-0.5, xmax=9.5, color='black', linewidth=0.5)\n",
    "ax6.set_xlim(-0.5, 9.5)\n",
    "\n",
    "for ax in [ax5, ax6]:\n",
    "    ax.set_ylim(-2, 1.2)\n",
    "    ax.set_yticks([-2, -1, 0, 1])\n",
    "for ax in [ax1, ax2, ax3]:\n",
    "    ax.set_ylim(-1.5, 2.7)\n",
    "    ax.set_yticks([-1, 0, 1, 2], labels=[0.5, 1, 2, 4])\n",
    "    _ = ax.set_yticks(np.log2([3,5,6]), minor=True)\n",
    "    ax.hlines(y=0, xmin=-2, xmax=10, color='black', linewidth=0.5)\n",
    "    ax.set_xlim(-0.5, 9.5)\n",
    "#_ = ax3.set_yticks([0.1, 0, -0.1, -0.2, -0.3])\n",
    "#plt.savefig(os.path.join(figdir, 'bio_features_q10.svg'), bbox_inches='tight')"
   ]
  },
  {
   "cell_type": "markdown",
   "metadata": {},
   "source": [
    "## Tissue Specificty"
   ]
  },
  {
   "cell_type": "code",
   "execution_count": 185,
   "metadata": {
    "ExecuteTime": {
     "end_time": "2025-06-22T18:05:47.486718Z",
     "start_time": "2025-06-22T18:05:47.483318Z"
    }
   },
   "outputs": [],
   "source": [
    "def load_results(file_name, best_df):\n",
    "    tiss_df = pd.read_csv(os.path.join(datadir, 'outputs', \n",
    "                                       file_name), sep='\\t')\n",
    "    tiss_df = tiss_df.assign(Domain=tiss_df.GeneSet.map(best_df.set_index('trait_pair').Domain.to_dict()))\n",
    "    tiss_df = tiss_df.assign(name=tiss_df.GeneSet.map(best_df.set_index('trait_pair')['Trait'].to_dict()))\n",
    "    tiss_df['Domain']  = tiss_df.Domain.apply(lambda x: x.lower())\n",
    "    tiss_df['log2FoldChange'] = np.log2(tiss_df['fold.change'])\n",
    "    tiss_df['EFO'] = tiss_df.GeneSet.map(best_df.set_index('trait_pair')['EFO'].to_dict())\n",
    "    return tiss_df\n"
   ]
  },
  {
   "cell_type": "code",
   "execution_count": 186,
   "metadata": {
    "ExecuteTime": {
     "end_time": "2025-06-22T18:05:48.109944Z",
     "start_time": "2025-06-22T18:05:48.101268Z"
    }
   },
   "outputs": [],
   "source": [
    "info_df = pd.read_csv(os.path.join(datadir, 'outputs/STable1.tsv'), sep='\\t', usecols=['Mapped EFO', 'Trait Type', \n",
    "                                                                              'Biological Domain', 'Mapped Trait']).drop_duplicates()\n",
    "info_df.columns = ['EFO', 'trait_type', 'Domain', 'TRAIT']"
   ]
  },
  {
   "cell_type": "code",
   "execution_count": 190,
   "metadata": {
    "ExecuteTime": {
     "end_time": "2025-06-22T18:06:11.425961Z",
     "start_time": "2025-06-22T18:06:11.421215Z"
    }
   },
   "outputs": [],
   "source": [
    "best_df = best_df.reset_index().merge(domain_info.loc[:, ('EFO', 'Domain')], on=['EFO'], how='left')\n"
   ]
  },
  {
   "cell_type": "code",
   "execution_count": 191,
   "metadata": {
    "ExecuteTime": {
     "end_time": "2025-06-22T18:06:12.242416Z",
     "start_time": "2025-06-22T18:06:12.202463Z"
    }
   },
   "outputs": [
    {
     "name": "stderr",
     "output_type": "stream",
     "text": [
      "/cellar/users/snwright/anaconda3/envs/carva/lib/python3.10/site-packages/pandas/core/arraylike.py:399: RuntimeWarning: divide by zero encountered in log2\n",
      "  result = getattr(ufunc, method)(*inputs, **kwargs)\n",
      "/cellar/users/snwright/anaconda3/envs/carva/lib/python3.10/site-packages/pandas/core/arraylike.py:399: RuntimeWarning: divide by zero encountered in log2\n",
      "  result = getattr(ufunc, method)(*inputs, **kwargs)\n"
     ]
    }
   ],
   "source": [
    "rare_net = load_results('RVG_tissue_enrichment_HPA.txt', best_df)\n",
    "common_net = load_results('CVG_tissue_enrichment_HPA.txt', best_df)"
   ]
  },
  {
   "cell_type": "code",
   "execution_count": 195,
   "metadata": {
    "ExecuteTime": {
     "end_time": "2025-06-22T18:10:10.145090Z",
     "start_time": "2025-06-22T18:10:10.138594Z"
    }
   },
   "outputs": [],
   "source": [
    "bio_df = pd.read_csv(os.path.join(cwd, '../outputs/Raw_geneset_gene_features.txt'), sep='\\t', index_col=0).loc[:, [ 'pli', 'Length', 'GO', 'mrna', 'n_mrna', 'Set']]\n",
    "bio_df.columns = ['LOEUF', 'GeneSize', 'GO', 'mRNA', 'nTissues', 'Set']"
   ]
  },
  {
   "cell_type": "code",
   "execution_count": 223,
   "metadata": {
    "ExecuteTime": {
     "end_time": "2025-06-22T18:19:18.822273Z",
     "start_time": "2025-06-22T18:19:18.818306Z"
    }
   },
   "outputs": [],
   "source": [
    "best_df['TraitC'] = best_df['Common Study'] + '_' + best_df['EFO']\n",
    "best_df['TraitR'] = best_df['Rare Study'].astype(int).astype(str) + '_' + best_df['EFO']"
   ]
  },
  {
   "cell_type": "code",
   "execution_count": 224,
   "metadata": {
    "ExecuteTime": {
     "end_time": "2025-06-22T18:19:26.969951Z",
     "start_time": "2025-06-22T18:19:26.966016Z"
    }
   },
   "outputs": [],
   "source": [
    "RVG_low= all_feat.loc[best_df.trait_pair.values].sort_values('DiffRC_nTissues').head(15).index.values\n",
    "test_rare = best_df[best_df.trait_pair.isin(RVG_low)].copy()"
   ]
  },
  {
   "cell_type": "code",
   "execution_count": 225,
   "metadata": {
    "ExecuteTime": {
     "end_time": "2025-06-22T18:19:27.563486Z",
     "start_time": "2025-06-22T18:19:27.559724Z"
    }
   },
   "outputs": [],
   "source": [
    "CVG_low= all_feat.loc[best_df.trait_pair.values].sort_values('DiffRC_nTissues', ascending=False).head(15).index.values\n",
    "test_common = best_df[best_df.trait_pair.isin(CVG_low)].copy()"
   ]
  },
  {
   "cell_type": "code",
   "execution_count": 226,
   "metadata": {
    "ExecuteTime": {
     "end_time": "2025-06-22T18:19:28.099991Z",
     "start_time": "2025-06-22T18:19:28.095654Z"
    }
   },
   "outputs": [],
   "source": [
    "\n",
    "rare_tissues = {'free cholesterol in very small VLDL measurement': 'Liver',\n",
    "       'heel bone mineral density': None, 'bilirubin measurement': 'Liver',\n",
    "       'total lipids in very small VLDL measurement': 'Liver',\n",
    "       'low density lipoprotein cholesterol measurement': 'Liver',\n",
    "       'cholelithiasis': 'Liver', 'glucose measurement': 'Pancreas', 'choline measurement': 'Liver',\n",
    "       'coronary artery disease': 'Heart Muscle', 'actinic keratosis': 'Skin',\n",
    "       'rheumatoid arthritis': None, 'pathological myopia': None, 'insomnia': 'Cerebral Cortex',\n",
    "       'Headache':'Cerebral Cortex', 'rheumatic fever': 'None'}\n",
    "test_rare['tiss'] = test_rare['Trait'].map(rare_tissues)\n",
    "\n",
    "common_tissues = {'neutrophil count': 'Bone Marrow', 'apolipoprotein B measurement': 'Liver', 'gallstones':'Liver',\n",
    "       'omega-3 polyunsaturated fatty acid measurement':'Liver',\n",
    "       'whole-brain volume':'Cerebral Cortex', 'retinal detachment':None, 'endometriosis':'Endometrium',\n",
    "       'Cholecystitis': 'Liver', 'ulcerative colitis':'Colon', 'sick sinus syndrome':None,\n",
    "       'diaphragmatic hernia':'Smooth Muscle', 'anxiety disorder':'Cerebral Cortex', 'pulmonary embolism':'Heart Muscle',\n",
    "       'osteoarthritis, hip': None, 'panic disorder':'Cerebral Cortex'}\n",
    "test_common['tiss'] = test_common['Trait'].map(common_tissues)"
   ]
  },
  {
   "cell_type": "code",
   "execution_count": 227,
   "metadata": {
    "ExecuteTime": {
     "end_time": "2025-06-22T18:19:28.646671Z",
     "start_time": "2025-06-22T18:19:28.628666Z"
    }
   },
   "outputs": [],
   "source": [
    "out = []\n",
    "for gs, tiss in zip(test_rare.trait_pair.values, test_rare.tiss.values):\n",
    "    if tiss is None:\n",
    "        continue\n",
    "    tiss_df = rare_net[rare_net.GeneSet==gs]\n",
    "    out.append(tiss_df[tiss_df.Tissue==tiss])"
   ]
  },
  {
   "cell_type": "code",
   "execution_count": 228,
   "metadata": {
    "ExecuteTime": {
     "end_time": "2025-06-22T18:19:29.192970Z",
     "start_time": "2025-06-22T18:19:29.175058Z"
    }
   },
   "outputs": [],
   "source": [
    "outc = []\n",
    "for gs, tiss in zip(test_common.trait_pair.values, test_common.tiss.values):\n",
    "    if tiss is None:\n",
    "        continue\n",
    "    tiss_df = common_net[common_net.GeneSet==gs]\n",
    "    outc.append(tiss_df[tiss_df.Tissue==tiss])"
   ]
  },
  {
   "cell_type": "code",
   "execution_count": 229,
   "metadata": {
    "ExecuteTime": {
     "end_time": "2025-06-22T18:19:30.911277Z",
     "start_time": "2025-06-22T18:19:30.901766Z"
    }
   },
   "outputs": [
    {
     "data": {
      "text/html": [
       "<div>\n",
       "<style scoped>\n",
       "    .dataframe tbody tr th:only-of-type {\n",
       "        vertical-align: middle;\n",
       "    }\n",
       "\n",
       "    .dataframe tbody tr th {\n",
       "        vertical-align: top;\n",
       "    }\n",
       "\n",
       "    .dataframe thead th {\n",
       "        text-align: right;\n",
       "    }\n",
       "</style>\n",
       "<table border=\"1\" class=\"dataframe\">\n",
       "  <thead>\n",
       "    <tr style=\"text-align: right;\">\n",
       "      <th></th>\n",
       "      <th>GeneSet</th>\n",
       "      <th>Tissue</th>\n",
       "      <th>Log10PValue</th>\n",
       "      <th>Tissue.Specific.Genes</th>\n",
       "      <th>fold.change</th>\n",
       "      <th>samples</th>\n",
       "      <th>NotIdentifiedCount</th>\n",
       "      <th>Domain</th>\n",
       "      <th>name</th>\n",
       "      <th>log2FoldChange</th>\n",
       "      <th>EFO</th>\n",
       "    </tr>\n",
       "  </thead>\n",
       "  <tbody>\n",
       "    <tr>\n",
       "      <th>9737</th>\n",
       "      <td>34375979_EFO_0000729_GCST90454275_EFO_0000729</td>\n",
       "      <td>Colon</td>\n",
       "      <td>0.000000</td>\n",
       "      <td>0</td>\n",
       "      <td>0.000000</td>\n",
       "      <td>13</td>\n",
       "      <td>0</td>\n",
       "      <td>gastrointestinal</td>\n",
       "      <td>ulcerative colitis</td>\n",
       "      <td>-inf</td>\n",
       "      <td>EFO_0000729</td>\n",
       "    </tr>\n",
       "    <tr>\n",
       "      <th>7674</th>\n",
       "      <td>28900119_EFO_0001065_GCST90018839_EFO_0001065</td>\n",
       "      <td>Endometrium</td>\n",
       "      <td>0.000000</td>\n",
       "      <td>0</td>\n",
       "      <td>0.000000</td>\n",
       "      <td>5</td>\n",
       "      <td>0</td>\n",
       "      <td>reproductive</td>\n",
       "      <td>endometriosis</td>\n",
       "      <td>-inf</td>\n",
       "      <td>EFO_0001065</td>\n",
       "    </tr>\n",
       "    <tr>\n",
       "      <th>10653</th>\n",
       "      <td>34375979_EFO_0003827_GCST90278093_EFO_0003827</td>\n",
       "      <td>Heart Muscle</td>\n",
       "      <td>0.008086</td>\n",
       "      <td>1</td>\n",
       "      <td>8.452306</td>\n",
       "      <td>4</td>\n",
       "      <td>0</td>\n",
       "      <td>cardiovascular</td>\n",
       "      <td>pulmonary embolism</td>\n",
       "      <td>3.079345</td>\n",
       "      <td>EFO_0003827</td>\n",
       "    </tr>\n",
       "    <tr>\n",
       "      <th>6630</th>\n",
       "      <td>34375979_EFO_0004210_GCST003725_EFO_0004210</td>\n",
       "      <td>Liver</td>\n",
       "      <td>0.000000</td>\n",
       "      <td>1</td>\n",
       "      <td>4.969458</td>\n",
       "      <td>10</td>\n",
       "      <td>0</td>\n",
       "      <td>gastrointestinal</td>\n",
       "      <td>gallstones</td>\n",
       "      <td>2.313088</td>\n",
       "      <td>EFO_0004210</td>\n",
       "    </tr>\n",
       "    <tr>\n",
       "      <th>12745</th>\n",
       "      <td>34375979_EFO_0004262_GCST000320_EFO_0004262</td>\n",
       "      <td>Cerebral Cortex</td>\n",
       "      <td>0.000000</td>\n",
       "      <td>1</td>\n",
       "      <td>1.288328</td>\n",
       "      <td>3</td>\n",
       "      <td>0</td>\n",
       "      <td>psychiatric</td>\n",
       "      <td>panic disorder</td>\n",
       "      <td>0.365500</td>\n",
       "      <td>EFO_0004262</td>\n",
       "    </tr>\n",
       "    <tr>\n",
       "      <th>610</th>\n",
       "      <td>34375979_EFO_0004615_GCST90025952_EFO_0004615</td>\n",
       "      <td>Liver</td>\n",
       "      <td>0.000000</td>\n",
       "      <td>1</td>\n",
       "      <td>11.181280</td>\n",
       "      <td>10</td>\n",
       "      <td>0</td>\n",
       "      <td>lipid measurment</td>\n",
       "      <td>apolipoprotein B measurement</td>\n",
       "      <td>3.483013</td>\n",
       "      <td>EFO_0004615</td>\n",
       "    </tr>\n",
       "    <tr>\n",
       "      <th>353</th>\n",
       "      <td>34662886_EFO_0004833_GCST90025977_EFO_0004833</td>\n",
       "      <td>Bone Marrow</td>\n",
       "      <td>0.475180</td>\n",
       "      <td>2</td>\n",
       "      <td>13.152613</td>\n",
       "      <td>4</td>\n",
       "      <td>0</td>\n",
       "      <td>immunological</td>\n",
       "      <td>neutrophil count</td>\n",
       "      <td>3.717278</td>\n",
       "      <td>EFO_0004833</td>\n",
       "    </tr>\n",
       "    <tr>\n",
       "      <th>6725</th>\n",
       "      <td>34662886_EFO_0005089_GCST000891_EFO_0005089</td>\n",
       "      <td>Cerebral Cortex</td>\n",
       "      <td>0.000000</td>\n",
       "      <td>0</td>\n",
       "      <td>0.000000</td>\n",
       "      <td>3</td>\n",
       "      <td>0</td>\n",
       "      <td>neurological</td>\n",
       "      <td>whole-brain volume</td>\n",
       "      <td>-inf</td>\n",
       "      <td>EFO_0005089</td>\n",
       "    </tr>\n",
       "    <tr>\n",
       "      <th>10540</th>\n",
       "      <td>34375979_EFO_0006788_GCST002696_EFO_0006788</td>\n",
       "      <td>Cerebral Cortex</td>\n",
       "      <td>0.000000</td>\n",
       "      <td>1</td>\n",
       "      <td>0.805205</td>\n",
       "      <td>3</td>\n",
       "      <td>0</td>\n",
       "      <td>psychiatric</td>\n",
       "      <td>anxiety disorder</td>\n",
       "      <td>-0.312572</td>\n",
       "      <td>EFO_0006788</td>\n",
       "    </tr>\n",
       "    <tr>\n",
       "      <th>10073</th>\n",
       "      <td>34375979_EFO_0008561_GCST90140994_EFO_0008561</td>\n",
       "      <td>Smooth Muscle</td>\n",
       "      <td>0.000000</td>\n",
       "      <td>0</td>\n",
       "      <td>0.000000</td>\n",
       "      <td>3</td>\n",
       "      <td>0</td>\n",
       "      <td>muscular</td>\n",
       "      <td>diaphragmatic hernia</td>\n",
       "      <td>-inf</td>\n",
       "      <td>EFO_0008561</td>\n",
       "    </tr>\n",
       "    <tr>\n",
       "      <th>6700</th>\n",
       "      <td>31367044_EFO_0010119_GCST90301959_EFO_0010119</td>\n",
       "      <td>Liver</td>\n",
       "      <td>0.000000</td>\n",
       "      <td>0</td>\n",
       "      <td>0.000000</td>\n",
       "      <td>10</td>\n",
       "      <td>0</td>\n",
       "      <td>lipid measurment</td>\n",
       "      <td>omega-3 polyunsaturated fatty acid measurement</td>\n",
       "      <td>-inf</td>\n",
       "      <td>EFO_0010119</td>\n",
       "    </tr>\n",
       "    <tr>\n",
       "      <th>7890</th>\n",
       "      <td>34375979_HP_0001082_GCST90018818_HP_0001082</td>\n",
       "      <td>Liver</td>\n",
       "      <td>0.416784</td>\n",
       "      <td>3</td>\n",
       "      <td>6.389303</td>\n",
       "      <td>10</td>\n",
       "      <td>0</td>\n",
       "      <td>gastrointestinal</td>\n",
       "      <td>Cholecystitis</td>\n",
       "      <td>2.675658</td>\n",
       "      <td>HP_0001082</td>\n",
       "    </tr>\n",
       "  </tbody>\n",
       "</table>\n",
       "</div>"
      ],
      "text/plain": [
       "                                             GeneSet           Tissue  \\\n",
       "9737   34375979_EFO_0000729_GCST90454275_EFO_0000729            Colon   \n",
       "7674   28900119_EFO_0001065_GCST90018839_EFO_0001065      Endometrium   \n",
       "10653  34375979_EFO_0003827_GCST90278093_EFO_0003827     Heart Muscle   \n",
       "6630     34375979_EFO_0004210_GCST003725_EFO_0004210            Liver   \n",
       "12745    34375979_EFO_0004262_GCST000320_EFO_0004262  Cerebral Cortex   \n",
       "610    34375979_EFO_0004615_GCST90025952_EFO_0004615            Liver   \n",
       "353    34662886_EFO_0004833_GCST90025977_EFO_0004833      Bone Marrow   \n",
       "6725     34662886_EFO_0005089_GCST000891_EFO_0005089  Cerebral Cortex   \n",
       "10540    34375979_EFO_0006788_GCST002696_EFO_0006788  Cerebral Cortex   \n",
       "10073  34375979_EFO_0008561_GCST90140994_EFO_0008561    Smooth Muscle   \n",
       "6700   31367044_EFO_0010119_GCST90301959_EFO_0010119            Liver   \n",
       "7890     34375979_HP_0001082_GCST90018818_HP_0001082            Liver   \n",
       "\n",
       "       Log10PValue  Tissue.Specific.Genes  fold.change  samples  \\\n",
       "9737      0.000000                      0     0.000000       13   \n",
       "7674      0.000000                      0     0.000000        5   \n",
       "10653     0.008086                      1     8.452306        4   \n",
       "6630      0.000000                      1     4.969458       10   \n",
       "12745     0.000000                      1     1.288328        3   \n",
       "610       0.000000                      1    11.181280       10   \n",
       "353       0.475180                      2    13.152613        4   \n",
       "6725      0.000000                      0     0.000000        3   \n",
       "10540     0.000000                      1     0.805205        3   \n",
       "10073     0.000000                      0     0.000000        3   \n",
       "6700      0.000000                      0     0.000000       10   \n",
       "7890      0.416784                      3     6.389303       10   \n",
       "\n",
       "       NotIdentifiedCount            Domain  \\\n",
       "9737                    0  gastrointestinal   \n",
       "7674                    0      reproductive   \n",
       "10653                   0    cardiovascular   \n",
       "6630                    0  gastrointestinal   \n",
       "12745                   0       psychiatric   \n",
       "610                     0  lipid measurment   \n",
       "353                     0     immunological   \n",
       "6725                    0      neurological   \n",
       "10540                   0       psychiatric   \n",
       "10073                   0          muscular   \n",
       "6700                    0  lipid measurment   \n",
       "7890                    0  gastrointestinal   \n",
       "\n",
       "                                                 name  log2FoldChange  \\\n",
       "9737                               ulcerative colitis            -inf   \n",
       "7674                                    endometriosis            -inf   \n",
       "10653                              pulmonary embolism        3.079345   \n",
       "6630                                       gallstones        2.313088   \n",
       "12745                                  panic disorder        0.365500   \n",
       "610                      apolipoprotein B measurement        3.483013   \n",
       "353                                  neutrophil count        3.717278   \n",
       "6725                               whole-brain volume            -inf   \n",
       "10540                                anxiety disorder       -0.312572   \n",
       "10073                            diaphragmatic hernia            -inf   \n",
       "6700   omega-3 polyunsaturated fatty acid measurement            -inf   \n",
       "7890                                    Cholecystitis        2.675658   \n",
       "\n",
       "               EFO  \n",
       "9737   EFO_0000729  \n",
       "7674   EFO_0001065  \n",
       "10653  EFO_0003827  \n",
       "6630   EFO_0004210  \n",
       "12745  EFO_0004262  \n",
       "610    EFO_0004615  \n",
       "353    EFO_0004833  \n",
       "6725   EFO_0005089  \n",
       "10540  EFO_0006788  \n",
       "10073  EFO_0008561  \n",
       "6700   EFO_0010119  \n",
       "7890    HP_0001082  "
      ]
     },
     "execution_count": 229,
     "metadata": {},
     "output_type": "execute_result"
    }
   ],
   "source": [
    "pd.concat(outc)"
   ]
  },
  {
   "cell_type": "code",
   "execution_count": 230,
   "metadata": {
    "ExecuteTime": {
     "end_time": "2025-06-22T18:19:32.232034Z",
     "start_time": "2025-06-22T18:19:32.223739Z"
    }
   },
   "outputs": [],
   "source": [
    "all_ts = pd.concat([pd.concat(outc).merge(test_common.loc[:, ('Trait', 'Log2SizeOE')], left_on='name', right_on='Trait').assign(Group='Common'), pd.concat(out).merge(test_rare.loc[:, ('Trait', 'Log2SizeOE')], left_on='name', right_on='Trait').assign(Group='Rare')])"
   ]
  },
  {
   "cell_type": "markdown",
   "metadata": {},
   "source": [
    "### Figure 5A"
   ]
  },
  {
   "cell_type": "code",
   "execution_count": 231,
   "metadata": {
    "ExecuteTime": {
     "end_time": "2025-06-22T18:19:34.801880Z",
     "start_time": "2025-06-22T18:19:34.787770Z"
    }
   },
   "outputs": [
    {
     "data": {
      "text/html": [
       "<div>\n",
       "<style scoped>\n",
       "    .dataframe tbody tr th:only-of-type {\n",
       "        vertical-align: middle;\n",
       "    }\n",
       "\n",
       "    .dataframe tbody tr th {\n",
       "        vertical-align: top;\n",
       "    }\n",
       "\n",
       "    .dataframe thead th {\n",
       "        text-align: right;\n",
       "    }\n",
       "</style>\n",
       "<table border=\"1\" class=\"dataframe\">\n",
       "  <thead>\n",
       "    <tr style=\"text-align: right;\">\n",
       "      <th></th>\n",
       "      <th>index</th>\n",
       "      <th>EFO</th>\n",
       "      <th>Trait</th>\n",
       "      <th>Common Study</th>\n",
       "      <th>Rare Study</th>\n",
       "      <th>Analysis Set</th>\n",
       "      <th>nCommon</th>\n",
       "      <th>nRare</th>\n",
       "      <th>nShared</th>\n",
       "      <th>pShared</th>\n",
       "      <th>...</th>\n",
       "      <th>Expected Size ST</th>\n",
       "      <th>Log2SizeOE ST</th>\n",
       "      <th>COLOC Score ST</th>\n",
       "      <th>COLOC P ST</th>\n",
       "      <th>COLOC -logp ST</th>\n",
       "      <th>trait_pair</th>\n",
       "      <th>Domain</th>\n",
       "      <th>TraitC</th>\n",
       "      <th>TraitR</th>\n",
       "      <th>tiss</th>\n",
       "    </tr>\n",
       "  </thead>\n",
       "  <tbody>\n",
       "    <tr>\n",
       "      <th>25</th>\n",
       "      <td>109</td>\n",
       "      <td>EFO_0000685</td>\n",
       "      <td>rheumatoid arthritis</td>\n",
       "      <td>GCST90131437</td>\n",
       "      <td>20549515</td>\n",
       "      <td>Additional</td>\n",
       "      <td>26</td>\n",
       "      <td>5</td>\n",
       "      <td>0</td>\n",
       "      <td>6.824122e-03</td>\n",
       "      <td>...</td>\n",
       "      <td>154.203</td>\n",
       "      <td>1.767487</td>\n",
       "      <td>3.404603</td>\n",
       "      <td>3.178000e-244</td>\n",
       "      <td>243.497846</td>\n",
       "      <td>20549515_EFO_0000685_GCST90131437_EFO_0000685</td>\n",
       "      <td>Immunological</td>\n",
       "      <td>GCST90131437_EFO_0000685</td>\n",
       "      <td>20549515_EFO_0000685</td>\n",
       "      <td>None</td>\n",
       "    </tr>\n",
       "    <tr>\n",
       "      <th>39</th>\n",
       "      <td>201</td>\n",
       "      <td>EFO_0001645</td>\n",
       "      <td>coronary artery disease</td>\n",
       "      <td>GCST90446534</td>\n",
       "      <td>24507775</td>\n",
       "      <td>Additional</td>\n",
       "      <td>33</td>\n",
       "      <td>4</td>\n",
       "      <td>1</td>\n",
       "      <td>1.751401e-05</td>\n",
       "      <td>...</td>\n",
       "      <td>178.849</td>\n",
       "      <td>1.812023</td>\n",
       "      <td>3.511342</td>\n",
       "      <td>0.000000e+00</td>\n",
       "      <td>250.000000</td>\n",
       "      <td>24507775_EFO_0001645_GCST90446534_EFO_0001645</td>\n",
       "      <td>Cardiovascular</td>\n",
       "      <td>GCST90446534_EFO_0001645</td>\n",
       "      <td>24507775_EFO_0001645</td>\n",
       "      <td>Heart Muscle</td>\n",
       "    </tr>\n",
       "    <tr>\n",
       "      <th>41</th>\n",
       "      <td>208</td>\n",
       "      <td>EFO_0002496</td>\n",
       "      <td>actinic keratosis</td>\n",
       "      <td>GCST90095184</td>\n",
       "      <td>34375979</td>\n",
       "      <td>Initial</td>\n",
       "      <td>8</td>\n",
       "      <td>3</td>\n",
       "      <td>1</td>\n",
       "      <td>4.653005e-07</td>\n",
       "      <td>...</td>\n",
       "      <td>123.366</td>\n",
       "      <td>1.777713</td>\n",
       "      <td>3.428822</td>\n",
       "      <td>8.762000e-194</td>\n",
       "      <td>193.057397</td>\n",
       "      <td>34375979_EFO_0002496_GCST90095184_EFO_0002496</td>\n",
       "      <td>Dermatological</td>\n",
       "      <td>GCST90095184_EFO_0002496</td>\n",
       "      <td>34375979_EFO_0002496</td>\n",
       "      <td>Skin</td>\n",
       "    </tr>\n",
       "    <tr>\n",
       "      <th>67</th>\n",
       "      <td>285</td>\n",
       "      <td>EFO_0004207</td>\n",
       "      <td>pathological myopia</td>\n",
       "      <td>GCST001712</td>\n",
       "      <td>34375979</td>\n",
       "      <td>Initial</td>\n",
       "      <td>23</td>\n",
       "      <td>6</td>\n",
       "      <td>0</td>\n",
       "      <td>7.242163e-03</td>\n",
       "      <td>...</td>\n",
       "      <td>133.806</td>\n",
       "      <td>0.505857</td>\n",
       "      <td>1.419966</td>\n",
       "      <td>5.133000e-08</td>\n",
       "      <td>7.289629</td>\n",
       "      <td>34375979_EFO_0004207_GCST001712_EFO_0004207</td>\n",
       "      <td>Opthamological</td>\n",
       "      <td>GCST001712_EFO_0004207</td>\n",
       "      <td>34375979_EFO_0004207</td>\n",
       "      <td>None</td>\n",
       "    </tr>\n",
       "    <tr>\n",
       "      <th>91</th>\n",
       "      <td>419</td>\n",
       "      <td>EFO_0004468</td>\n",
       "      <td>glucose measurement</td>\n",
       "      <td>GCST90092819</td>\n",
       "      <td>34226706</td>\n",
       "      <td>Additional</td>\n",
       "      <td>12</td>\n",
       "      <td>5</td>\n",
       "      <td>1</td>\n",
       "      <td>3.652854e-06</td>\n",
       "      <td>...</td>\n",
       "      <td>159.467</td>\n",
       "      <td>2.096514</td>\n",
       "      <td>4.276747</td>\n",
       "      <td>0.000000e+00</td>\n",
       "      <td>250.000000</td>\n",
       "      <td>34226706_EFO_0004468_GCST90092819_EFO_0004468</td>\n",
       "      <td>Metabolic</td>\n",
       "      <td>GCST90092819_EFO_0004468</td>\n",
       "      <td>34226706_EFO_0004468</td>\n",
       "      <td>Pancreas</td>\n",
       "    </tr>\n",
       "    <tr>\n",
       "      <th>102</th>\n",
       "      <td>572</td>\n",
       "      <td>EFO_0004570</td>\n",
       "      <td>bilirubin measurement</td>\n",
       "      <td>GCST90018973</td>\n",
       "      <td>34375979</td>\n",
       "      <td>Initial</td>\n",
       "      <td>83</td>\n",
       "      <td>16</td>\n",
       "      <td>3</td>\n",
       "      <td>5.919738e-07</td>\n",
       "      <td>...</td>\n",
       "      <td>80.634</td>\n",
       "      <td>2.146464</td>\n",
       "      <td>4.427413</td>\n",
       "      <td>7.765000e-230</td>\n",
       "      <td>229.109859</td>\n",
       "      <td>34375979_EFO_0004570_GCST90018973_EFO_0004570</td>\n",
       "      <td>Hematological</td>\n",
       "      <td>GCST90018973_EFO_0004570</td>\n",
       "      <td>34375979_EFO_0004570</td>\n",
       "      <td>Liver</td>\n",
       "    </tr>\n",
       "    <tr>\n",
       "      <th>107</th>\n",
       "      <td>660</td>\n",
       "      <td>EFO_0004611</td>\n",
       "      <td>low density lipoprotein cholesterol measurement</td>\n",
       "      <td>GCST90239612</td>\n",
       "      <td>36564505</td>\n",
       "      <td>Additional</td>\n",
       "      <td>31</td>\n",
       "      <td>7</td>\n",
       "      <td>4</td>\n",
       "      <td>1.726201e-13</td>\n",
       "      <td>...</td>\n",
       "      <td>149.842</td>\n",
       "      <td>1.967459</td>\n",
       "      <td>3.910786</td>\n",
       "      <td>0.000000e+00</td>\n",
       "      <td>250.000000</td>\n",
       "      <td>36564505_EFO_0004611_GCST90239612_EFO_0004611</td>\n",
       "      <td>Lipid Measurment</td>\n",
       "      <td>GCST90239612_EFO_0004611</td>\n",
       "      <td>36564505_EFO_0004611</td>\n",
       "      <td>Liver</td>\n",
       "    </tr>\n",
       "    <tr>\n",
       "      <th>114</th>\n",
       "      <td>754</td>\n",
       "      <td>EFO_0004698</td>\n",
       "      <td>insomnia</td>\n",
       "      <td>GCST90131901</td>\n",
       "      <td>34375979</td>\n",
       "      <td>Initial</td>\n",
       "      <td>511</td>\n",
       "      <td>3</td>\n",
       "      <td>0</td>\n",
       "      <td>7.853771e-02</td>\n",
       "      <td>...</td>\n",
       "      <td>93.768</td>\n",
       "      <td>-0.401277</td>\n",
       "      <td>0.757188</td>\n",
       "      <td>1.241000e-02</td>\n",
       "      <td>1.906228</td>\n",
       "      <td>34375979_EFO_0004698_GCST90131901_EFO_0004698</td>\n",
       "      <td>Psychiatric</td>\n",
       "      <td>GCST90131901_EFO_0004698</td>\n",
       "      <td>34375979_EFO_0004698</td>\n",
       "      <td>Cerebral Cortex</td>\n",
       "    </tr>\n",
       "    <tr>\n",
       "      <th>119</th>\n",
       "      <td>783</td>\n",
       "      <td>EFO_0004799</td>\n",
       "      <td>cholelithiasis</td>\n",
       "      <td>GCST90018819</td>\n",
       "      <td>37262146</td>\n",
       "      <td>Additional</td>\n",
       "      <td>26</td>\n",
       "      <td>9</td>\n",
       "      <td>3</td>\n",
       "      <td>3.454084e-10</td>\n",
       "      <td>...</td>\n",
       "      <td>116.137</td>\n",
       "      <td>2.203711</td>\n",
       "      <td>4.606628</td>\n",
       "      <td>0.000000e+00</td>\n",
       "      <td>250.000000</td>\n",
       "      <td>37262146_EFO_0004799_GCST90018819_EFO_0004799</td>\n",
       "      <td>Gastrointestinal</td>\n",
       "      <td>GCST90018819_EFO_0004799</td>\n",
       "      <td>37262146_EFO_0004799</td>\n",
       "      <td>Liver</td>\n",
       "    </tr>\n",
       "    <tr>\n",
       "      <th>177</th>\n",
       "      <td>1148</td>\n",
       "      <td>EFO_0009270</td>\n",
       "      <td>heel bone mineral density</td>\n",
       "      <td>GCST90025982</td>\n",
       "      <td>34662886</td>\n",
       "      <td>Additional</td>\n",
       "      <td>9</td>\n",
       "      <td>5</td>\n",
       "      <td>2</td>\n",
       "      <td>7.345689e-10</td>\n",
       "      <td>...</td>\n",
       "      <td>140.932</td>\n",
       "      <td>2.276886</td>\n",
       "      <td>4.846309</td>\n",
       "      <td>0.000000e+00</td>\n",
       "      <td>250.000000</td>\n",
       "      <td>34662886_EFO_0009270_GCST90025982_EFO_0009270</td>\n",
       "      <td>Skeletal</td>\n",
       "      <td>GCST90025982_EFO_0009270</td>\n",
       "      <td>34662886_EFO_0009270</td>\n",
       "      <td>None</td>\n",
       "    </tr>\n",
       "    <tr>\n",
       "      <th>187</th>\n",
       "      <td>1180</td>\n",
       "      <td>EFO_0010116</td>\n",
       "      <td>choline measurement</td>\n",
       "      <td>GCST90092812</td>\n",
       "      <td>31367044</td>\n",
       "      <td>Additional</td>\n",
       "      <td>39</td>\n",
       "      <td>6</td>\n",
       "      <td>2</td>\n",
       "      <td>1.592336e-07</td>\n",
       "      <td>...</td>\n",
       "      <td>137.601</td>\n",
       "      <td>1.585651</td>\n",
       "      <td>3.001432</td>\n",
       "      <td>3.410000e-133</td>\n",
       "      <td>132.467246</td>\n",
       "      <td>31367044_EFO_0010116_GCST90092812_EFO_0010116</td>\n",
       "      <td>Metabolic</td>\n",
       "      <td>GCST90092812_EFO_0010116</td>\n",
       "      <td>31367044_EFO_0010116</td>\n",
       "      <td>Liver</td>\n",
       "    </tr>\n",
       "    <tr>\n",
       "      <th>206</th>\n",
       "      <td>1234</td>\n",
       "      <td>EFO_0022156</td>\n",
       "      <td>total lipids in very small VLDL measurement</td>\n",
       "      <td>GCST90269614</td>\n",
       "      <td>36809768</td>\n",
       "      <td>Additional</td>\n",
       "      <td>23</td>\n",
       "      <td>41</td>\n",
       "      <td>7</td>\n",
       "      <td>1.088322e-16</td>\n",
       "      <td>...</td>\n",
       "      <td>127.478</td>\n",
       "      <td>2.096008</td>\n",
       "      <td>4.275247</td>\n",
       "      <td>0.000000e+00</td>\n",
       "      <td>250.000000</td>\n",
       "      <td>36809768_EFO_0022156_GCST90269614_EFO_0022156</td>\n",
       "      <td>Lipid Measurment</td>\n",
       "      <td>GCST90269614_EFO_0022156</td>\n",
       "      <td>36809768_EFO_0022156</td>\n",
       "      <td>Liver</td>\n",
       "    </tr>\n",
       "    <tr>\n",
       "      <th>260</th>\n",
       "      <td>1310</td>\n",
       "      <td>EFO_0022275</td>\n",
       "      <td>free cholesterol in very small VLDL measurement</td>\n",
       "      <td>GCST90269618</td>\n",
       "      <td>36809768</td>\n",
       "      <td>Additional</td>\n",
       "      <td>23</td>\n",
       "      <td>45</td>\n",
       "      <td>8</td>\n",
       "      <td>7.966293e-19</td>\n",
       "      <td>...</td>\n",
       "      <td>118.773</td>\n",
       "      <td>2.141360</td>\n",
       "      <td>4.411777</td>\n",
       "      <td>0.000000e+00</td>\n",
       "      <td>250.000000</td>\n",
       "      <td>36809768_EFO_0022275_GCST90269618_EFO_0022275</td>\n",
       "      <td>Lipid Measurment</td>\n",
       "      <td>GCST90269618_EFO_0022275</td>\n",
       "      <td>36809768_EFO_0022275</td>\n",
       "      <td>Liver</td>\n",
       "    </tr>\n",
       "    <tr>\n",
       "      <th>317</th>\n",
       "      <td>1386</td>\n",
       "      <td>EFO_1001160</td>\n",
       "      <td>rheumatic fever</td>\n",
       "      <td>GCST005018</td>\n",
       "      <td>34375979</td>\n",
       "      <td>Initial</td>\n",
       "      <td>15</td>\n",
       "      <td>4</td>\n",
       "      <td>0</td>\n",
       "      <td>3.154406e-03</td>\n",
       "      <td>...</td>\n",
       "      <td>165.417</td>\n",
       "      <td>-0.487321</td>\n",
       "      <td>0.713349</td>\n",
       "      <td>7.994000e-05</td>\n",
       "      <td>4.097236</td>\n",
       "      <td>34375979_EFO_1001160_GCST005018_EFO_1001160</td>\n",
       "      <td>Infection</td>\n",
       "      <td>GCST005018_EFO_1001160</td>\n",
       "      <td>34375979_EFO_1001160</td>\n",
       "      <td>None</td>\n",
       "    </tr>\n",
       "    <tr>\n",
       "      <th>334</th>\n",
       "      <td>1422</td>\n",
       "      <td>HP_0002315</td>\n",
       "      <td>Headache</td>\n",
       "      <td>GCST005337</td>\n",
       "      <td>34375979</td>\n",
       "      <td>Additional</td>\n",
       "      <td>15</td>\n",
       "      <td>15</td>\n",
       "      <td>0</td>\n",
       "      <td>1.178120e-02</td>\n",
       "      <td>...</td>\n",
       "      <td>154.907</td>\n",
       "      <td>0.073470</td>\n",
       "      <td>1.052244</td>\n",
       "      <td>4.655000e-01</td>\n",
       "      <td>0.332080</td>\n",
       "      <td>34375979_HP_0002315_GCST005337_HP_0002315</td>\n",
       "      <td>Neurological</td>\n",
       "      <td>GCST005337_HP_0002315</td>\n",
       "      <td>34375979_HP_0002315</td>\n",
       "      <td>Cerebral Cortex</td>\n",
       "    </tr>\n",
       "  </tbody>\n",
       "</table>\n",
       "<p>15 rows × 41 columns</p>\n",
       "</div>"
      ],
      "text/plain": [
       "     index          EFO                                            Trait  \\\n",
       "25     109  EFO_0000685                             rheumatoid arthritis   \n",
       "39     201  EFO_0001645                          coronary artery disease   \n",
       "41     208  EFO_0002496                                actinic keratosis   \n",
       "67     285  EFO_0004207                              pathological myopia   \n",
       "91     419  EFO_0004468                              glucose measurement   \n",
       "102    572  EFO_0004570                            bilirubin measurement   \n",
       "107    660  EFO_0004611  low density lipoprotein cholesterol measurement   \n",
       "114    754  EFO_0004698                                         insomnia   \n",
       "119    783  EFO_0004799                                   cholelithiasis   \n",
       "177   1148  EFO_0009270                        heel bone mineral density   \n",
       "187   1180  EFO_0010116                              choline measurement   \n",
       "206   1234  EFO_0022156      total lipids in very small VLDL measurement   \n",
       "260   1310  EFO_0022275  free cholesterol in very small VLDL measurement   \n",
       "317   1386  EFO_1001160                                  rheumatic fever   \n",
       "334   1422   HP_0002315                                         Headache   \n",
       "\n",
       "     Common Study  Rare Study Analysis Set  nCommon  nRare  nShared  \\\n",
       "25   GCST90131437    20549515   Additional       26      5        0   \n",
       "39   GCST90446534    24507775   Additional       33      4        1   \n",
       "41   GCST90095184    34375979      Initial        8      3        1   \n",
       "67     GCST001712    34375979      Initial       23      6        0   \n",
       "91   GCST90092819    34226706   Additional       12      5        1   \n",
       "102  GCST90018973    34375979      Initial       83     16        3   \n",
       "107  GCST90239612    36564505   Additional       31      7        4   \n",
       "114  GCST90131901    34375979      Initial      511      3        0   \n",
       "119  GCST90018819    37262146   Additional       26      9        3   \n",
       "177  GCST90025982    34662886   Additional        9      5        2   \n",
       "187  GCST90092812    31367044   Additional       39      6        2   \n",
       "206  GCST90269614    36809768   Additional       23     41        7   \n",
       "260  GCST90269618    36809768   Additional       23     45        8   \n",
       "317    GCST005018    34375979      Initial       15      4        0   \n",
       "334    GCST005337    34375979   Additional       15     15        0   \n",
       "\n",
       "          pShared  ... Expected Size ST  Log2SizeOE ST  COLOC Score ST  \\\n",
       "25   6.824122e-03  ...          154.203       1.767487        3.404603   \n",
       "39   1.751401e-05  ...          178.849       1.812023        3.511342   \n",
       "41   4.653005e-07  ...          123.366       1.777713        3.428822   \n",
       "67   7.242163e-03  ...          133.806       0.505857        1.419966   \n",
       "91   3.652854e-06  ...          159.467       2.096514        4.276747   \n",
       "102  5.919738e-07  ...           80.634       2.146464        4.427413   \n",
       "107  1.726201e-13  ...          149.842       1.967459        3.910786   \n",
       "114  7.853771e-02  ...           93.768      -0.401277        0.757188   \n",
       "119  3.454084e-10  ...          116.137       2.203711        4.606628   \n",
       "177  7.345689e-10  ...          140.932       2.276886        4.846309   \n",
       "187  1.592336e-07  ...          137.601       1.585651        3.001432   \n",
       "206  1.088322e-16  ...          127.478       2.096008        4.275247   \n",
       "260  7.966293e-19  ...          118.773       2.141360        4.411777   \n",
       "317  3.154406e-03  ...          165.417      -0.487321        0.713349   \n",
       "334  1.178120e-02  ...          154.907       0.073470        1.052244   \n",
       "\n",
       "        COLOC P ST  COLOC -logp ST  \\\n",
       "25   3.178000e-244      243.497846   \n",
       "39    0.000000e+00      250.000000   \n",
       "41   8.762000e-194      193.057397   \n",
       "67    5.133000e-08        7.289629   \n",
       "91    0.000000e+00      250.000000   \n",
       "102  7.765000e-230      229.109859   \n",
       "107   0.000000e+00      250.000000   \n",
       "114   1.241000e-02        1.906228   \n",
       "119   0.000000e+00      250.000000   \n",
       "177   0.000000e+00      250.000000   \n",
       "187  3.410000e-133      132.467246   \n",
       "206   0.000000e+00      250.000000   \n",
       "260   0.000000e+00      250.000000   \n",
       "317   7.994000e-05        4.097236   \n",
       "334   4.655000e-01        0.332080   \n",
       "\n",
       "                                        trait_pair            Domain  \\\n",
       "25   20549515_EFO_0000685_GCST90131437_EFO_0000685     Immunological   \n",
       "39   24507775_EFO_0001645_GCST90446534_EFO_0001645    Cardiovascular   \n",
       "41   34375979_EFO_0002496_GCST90095184_EFO_0002496    Dermatological   \n",
       "67     34375979_EFO_0004207_GCST001712_EFO_0004207    Opthamological   \n",
       "91   34226706_EFO_0004468_GCST90092819_EFO_0004468         Metabolic   \n",
       "102  34375979_EFO_0004570_GCST90018973_EFO_0004570     Hematological   \n",
       "107  36564505_EFO_0004611_GCST90239612_EFO_0004611  Lipid Measurment   \n",
       "114  34375979_EFO_0004698_GCST90131901_EFO_0004698       Psychiatric   \n",
       "119  37262146_EFO_0004799_GCST90018819_EFO_0004799  Gastrointestinal   \n",
       "177  34662886_EFO_0009270_GCST90025982_EFO_0009270          Skeletal   \n",
       "187  31367044_EFO_0010116_GCST90092812_EFO_0010116         Metabolic   \n",
       "206  36809768_EFO_0022156_GCST90269614_EFO_0022156  Lipid Measurment   \n",
       "260  36809768_EFO_0022275_GCST90269618_EFO_0022275  Lipid Measurment   \n",
       "317    34375979_EFO_1001160_GCST005018_EFO_1001160         Infection   \n",
       "334      34375979_HP_0002315_GCST005337_HP_0002315      Neurological   \n",
       "\n",
       "                       TraitC                TraitR             tiss  \n",
       "25   GCST90131437_EFO_0000685  20549515_EFO_0000685             None  \n",
       "39   GCST90446534_EFO_0001645  24507775_EFO_0001645     Heart Muscle  \n",
       "41   GCST90095184_EFO_0002496  34375979_EFO_0002496             Skin  \n",
       "67     GCST001712_EFO_0004207  34375979_EFO_0004207             None  \n",
       "91   GCST90092819_EFO_0004468  34226706_EFO_0004468         Pancreas  \n",
       "102  GCST90018973_EFO_0004570  34375979_EFO_0004570            Liver  \n",
       "107  GCST90239612_EFO_0004611  36564505_EFO_0004611            Liver  \n",
       "114  GCST90131901_EFO_0004698  34375979_EFO_0004698  Cerebral Cortex  \n",
       "119  GCST90018819_EFO_0004799  37262146_EFO_0004799            Liver  \n",
       "177  GCST90025982_EFO_0009270  34662886_EFO_0009270             None  \n",
       "187  GCST90092812_EFO_0010116  31367044_EFO_0010116            Liver  \n",
       "206  GCST90269614_EFO_0022156  36809768_EFO_0022156            Liver  \n",
       "260  GCST90269618_EFO_0022275  36809768_EFO_0022275            Liver  \n",
       "317    GCST005018_EFO_1001160  34375979_EFO_1001160             None  \n",
       "334     GCST005337_HP_0002315   34375979_HP_0002315  Cerebral Cortex  \n",
       "\n",
       "[15 rows x 41 columns]"
      ]
     },
     "execution_count": 231,
     "metadata": {},
     "output_type": "execute_result"
    }
   ],
   "source": [
    "test_rare"
   ]
  },
  {
   "cell_type": "code",
   "execution_count": 232,
   "metadata": {
    "ExecuteTime": {
     "end_time": "2025-06-22T18:19:36.022675Z",
     "start_time": "2025-06-22T18:19:36.020562Z"
    }
   },
   "outputs": [],
   "source": [
    "\n",
    "all_genesets = test_rare.TraitC.to_list() + test_rare.TraitR.to_list() + test_common.TraitC.to_list() + test_common.TraitR.to_list()\n"
   ]
  },
  {
   "cell_type": "code",
   "execution_count": 233,
   "metadata": {
    "ExecuteTime": {
     "end_time": "2025-06-22T18:19:37.743555Z",
     "start_time": "2025-06-22T18:19:37.740707Z"
    }
   },
   "outputs": [
    {
     "data": {
      "text/plain": [
       "Index(['index', 'EFO', 'Trait', 'Common Study', 'Rare Study', 'Analysis Set',\n",
       "       'nCommon', 'nRare', 'nShared', 'pShared', 'Network', 'Observed Size',\n",
       "       'Expected Size', 'Log2SizeOE', 'COLOC Score', 'COLOC p', 'COLOC -logp',\n",
       "       'Optimal COLOC', 'Observed Size PC22', 'Expected Size PC22',\n",
       "       'Log2SizeOE PC22', 'COLOC Score PC22', 'COLOC P PC22',\n",
       "       'COLOC -logp PC22', 'Observed Size HN', 'Expected Size HN',\n",
       "       'Log2SizeOE HN', 'COLOC Score HN', 'COLOC P HN', 'COLOC -logp HN',\n",
       "       'Observed Size ST', 'Expected Size ST', 'Log2SizeOE ST',\n",
       "       'COLOC Score ST', 'COLOC P ST', 'COLOC -logp ST', 'trait_pair',\n",
       "       'Domain', 'TraitC', 'TraitR', 'tiss'],\n",
       "      dtype='object')"
      ]
     },
     "execution_count": 233,
     "metadata": {},
     "output_type": "execute_result"
    }
   ],
   "source": [
    "test_rare.columns"
   ]
  },
  {
   "cell_type": "code",
   "execution_count": 234,
   "metadata": {
    "ExecuteTime": {
     "end_time": "2025-06-22T18:19:41.222009Z",
     "start_time": "2025-06-22T18:19:41.219066Z"
    }
   },
   "outputs": [],
   "source": [
    "bio_df = bio_df.loc[all_genesets]\n",
    "bio_df['EFO'] = bio_df.index.map(lambda x: x.split('_', 1)[-1])"
   ]
  },
  {
   "cell_type": "code",
   "execution_count": 238,
   "metadata": {
    "ExecuteTime": {
     "end_time": "2025-06-22T18:20:03.393987Z",
     "start_time": "2025-06-22T18:20:03.387486Z"
    }
   },
   "outputs": [],
   "source": [
    "a =  bio_df.pivot(index='EFO', columns='Set', values='nTissues').reset_index()\n",
    "a['DiffRC'] = 2 * (a.Rare - a.Common)/ (a.Rare + a.Common)\n",
    "a = a.sort_values(by='DiffRC', ascending=True)"
   ]
  },
  {
   "cell_type": "code",
   "execution_count": 239,
   "metadata": {
    "ExecuteTime": {
     "end_time": "2025-06-22T18:20:05.458348Z",
     "start_time": "2025-06-22T18:20:05.456114Z"
    }
   },
   "outputs": [],
   "source": [
    "def clean_label(label_str):\n",
    "    out_str = label_str.replace('measurement', 'meas.')\n",
    "    return out_str.capitalize()"
   ]
  },
  {
   "cell_type": "code",
   "execution_count": 243,
   "metadata": {
    "ExecuteTime": {
     "end_time": "2025-06-22T18:21:03.861030Z",
     "start_time": "2025-06-22T18:21:03.217234Z"
    }
   },
   "outputs": [
    {
     "data": {
      "text/plain": [
       "Text(0, 0.5, '')"
      ]
     },
     "execution_count": 243,
     "metadata": {},
     "output_type": "execute_result"
    },
    {
     "data": {
      "image/png": "[encoded data removed]",
      "text/plain": [
       "<Figure size 250x400 with 2 Axes>"
      ]
     },
     "metadata": {},
     "output_type": "display_data"
    }
   ],
   "source": [
    "purple = '#8d3b72'\n",
    "# do I take out the ones without relevant tissues? Probably. \n",
    "_ , [ax1, ax2] = plt.subplots(nrows=1, ncols=2, sharey=True, figsize= (2.5, 4), gridspec_kw={'width_ratios': [1, 0.5], 'wspace':0.1})\n",
    "sns.barplot(bio_df, y='EFO', x='nTissues', hue='Set', palette=[blue, green], edgecolor='black', order=a.EFO.values, saturation=1, ax=ax1, width=0.7)\n",
    "ax1.tick_params(axis='y', rotation=0)\n",
    "_ = ax1.set_yticks(ax1.get_yticks(), labels=[clean_label(best_df.set_index('EFO')['Trait'].to_dict()[x]) for x in a.EFO.values], rotation=0, ha='right')\n",
    "_ = ax1.set_xticks([0, 20, 40, 54])\n",
    "ax1.set_xlim(0, 54)\n",
    "sns.pointplot(best_df, y='EFO', x='Log2SizeOE', order=a.EFO.values, color=purple, ax=ax2, markersize=3, linestyle='None')\n",
    "ax2.vlines(x=0, ymin=-0.5, ymax=29.5, color='black', linewidth=0.5)\n",
    "ax2.set_ylim(29.5, -0.5)\n",
    "coloc = best_df[best_df.EFO.isin(a.EFO.values)].set_index('EFO').Log2SizeOE.to_dict()\n",
    "for x in a.EFO.values:\n",
    "    ax2.hlines(y=x, xmin=min(0, coloc[x]), xmax=max(0, coloc[x]), color=purple, linewidth=1)\n",
    "ax2.set_xlim(-1.25, 2.5)\n",
    "\n",
    "ax2.set_xticks([-1, 0, 1, 2], labels=[0.5, 1, 2, 4])\n",
    "_ = ax2.set_xticks(np.log2([3,5,6]), minor=True)\n",
    "ax2.set_xlabel('COLOC Score')\n",
    "ax1.set_xlabel('Median Expressed\\nTissues per Gene')\n",
    "ax1.hlines(y=14.5, xmin=0, xmax=54, color='black', linewidth=0.5)\n",
    "ax1.set_ylabel('')\n",
    "\n",
    "#plt.savefig(os.path.join(figdir, 'nTissues_comparison.svg'), bbox_inches='tight', dpi=300)"
   ]
  },
  {
   "cell_type": "markdown",
   "metadata": {},
   "source": [
    "### Figure 5B"
   ]
  },
  {
   "cell_type": "code",
   "execution_count": 244,
   "metadata": {
    "ExecuteTime": {
     "end_time": "2025-06-22T18:21:38.209224Z",
     "start_time": "2025-06-22T18:21:37.992913Z"
    }
   },
   "outputs": [
    {
     "name": "stdout",
     "output_type": "stream",
     "text": [
      "0.004497409531734475\n"
     ]
    },
    {
     "data": {
      "text/plain": [
       "(-0.5, 1.6)"
      ]
     },
     "execution_count": 244,
     "metadata": {},
     "output_type": "execute_result"
    },
    {
     "data": {
      "image/png": "[encoded data removed]",
      "text/plain": [
       "<Figure size 230x110 with 1 Axes>"
      ]
     },
     "metadata": {},
     "output_type": "display_data"
    }
   ],
   "source": [
    "all_ts['test'] = all_ts.Log10PValue > -1 * np.log10(0.05)\n",
    "from scipy.stats import mannwhitneyu\n",
    "p = mannwhitneyu(all_ts[all_ts.test].Log2SizeOE.values, all_ts[~all_ts.test].Log2SizeOE.values).pvalue\n",
    "print(p)\n",
    "_ = plt.figure(figsize=(2.3,1.1))\n",
    "ax2 = plt.gca() \n",
    "ax2.vlines(x=0, ymin=-0.5, ymax=1.6, color='black', linestyle='-', linewidth=0.5)\n",
    "sns.swarmplot(all_ts, y='test', x='Log2SizeOE', alpha=1, hue='Group', palette=[blue, green], s=6, edgecolor='black', \n",
    "              linewidth=0.3, zorder=2, orient='h')\n",
    "sns.boxplot(all_ts, y='test', x='Log2SizeOE',fliersize=0,  fill=False, color='black', \n",
    "            linewidth=0.5, zorder=3, orient='h')\n",
    "plt.ylabel('Relevant\\nTissue Enrichment')\n",
    "plt.text(2.6, 0.5, f'**', ha='center', va='center', fontsize=7, rotation=90)\n",
    "plt.xlim(-1,2.6)\n",
    "\n",
    "ax2.set_xticks([-1, 0, 1, 2], labels=[0.5, 1, 2, 4])\n",
    "_ = ax2.set_xticks(np.log2([3,5,6, 7]), minor=True)\n",
    "ax2.set_xlabel('COLOC Score')\n",
    "ax2.set_yticks([1,0], labels = ['Significant', 'N.S.'])\n",
    "ax2.vlines(x=2.45, ymin=0, ymax=1, color='black', linestyle='-', linewidth=0.5)\n",
    "plt.xlim(-1,2.7)\n",
    "ax2.set_ylim(-0.5, 1.6)\n",
    "#plt.savefig(os.path.join(figdir, 'n_mRNA_by_tiss_spec.svg'), bbox_inches='tight', dpi=300)"
   ]
  },
  {
   "cell_type": "markdown",
   "metadata": {},
   "source": [
    "### Glucose Measurement"
   ]
  },
  {
   "cell_type": "code",
   "execution_count": 245,
   "metadata": {
    "ExecuteTime": {
     "end_time": "2025-06-22T18:21:46.206751Z",
     "start_time": "2025-06-22T18:21:46.204618Z"
    }
   },
   "outputs": [],
   "source": [
    "glucose = 'EFO_0004468'"
   ]
  },
  {
   "cell_type": "code",
   "execution_count": 246,
   "metadata": {
    "ExecuteTime": {
     "end_time": "2025-06-22T18:21:52.679565Z",
     "start_time": "2025-06-22T18:21:52.676423Z"
    }
   },
   "outputs": [
    {
     "name": "stdout",
     "output_type": "stream",
     "text": [
      "Glucose measurement COLOC Score: 3.64\n"
     ]
    }
   ],
   "source": [
    "print(f'Glucose measurement COLOC Score: {2*(best_df[best_df.EFO==glucose].Log2SizeOE.values[0]):.2f}')"
   ]
  },
  {
   "cell_type": "code",
   "execution_count": 247,
   "metadata": {
    "ExecuteTime": {
     "end_time": "2025-06-22T18:21:59.470431Z",
     "start_time": "2025-06-22T18:21:59.450612Z"
    }
   },
   "outputs": [
    {
     "data": {
      "text/html": [
       "<div>\n",
       "<style scoped>\n",
       "    .dataframe tbody tr th:only-of-type {\n",
       "        vertical-align: middle;\n",
       "    }\n",
       "\n",
       "    .dataframe tbody tr th {\n",
       "        vertical-align: top;\n",
       "    }\n",
       "\n",
       "    .dataframe thead th {\n",
       "        text-align: right;\n",
       "    }\n",
       "</style>\n",
       "<table border=\"1\" class=\"dataframe\">\n",
       "  <thead>\n",
       "    <tr style=\"text-align: right;\">\n",
       "      <th></th>\n",
       "      <th>LOEUF</th>\n",
       "      <th>GeneSize</th>\n",
       "      <th>GO</th>\n",
       "      <th>mRNA</th>\n",
       "      <th>nTissues</th>\n",
       "      <th>Set</th>\n",
       "    </tr>\n",
       "    <tr>\n",
       "      <th>EFO</th>\n",
       "      <th></th>\n",
       "      <th></th>\n",
       "      <th></th>\n",
       "      <th></th>\n",
       "      <th></th>\n",
       "      <th></th>\n",
       "    </tr>\n",
       "  </thead>\n",
       "  <tbody>\n",
       "    <tr>\n",
       "      <th>EFO_0004468</th>\n",
       "      <td>2.10250</td>\n",
       "      <td>107884.0</td>\n",
       "      <td>20.5</td>\n",
       "      <td>13.610350</td>\n",
       "      <td>53.0</td>\n",
       "      <td>Common</td>\n",
       "    </tr>\n",
       "    <tr>\n",
       "      <th>EFO_0004468</th>\n",
       "      <td>0.23182</td>\n",
       "      <td>8709.0</td>\n",
       "      <td>9.0</td>\n",
       "      <td>0.224811</td>\n",
       "      <td>2.0</td>\n",
       "      <td>Rare</td>\n",
       "    </tr>\n",
       "  </tbody>\n",
       "</table>\n",
       "</div>"
      ],
      "text/plain": [
       "               LOEUF  GeneSize    GO       mRNA  nTissues     Set\n",
       "EFO                                                              \n",
       "EFO_0004468  2.10250  107884.0  20.5  13.610350      53.0  Common\n",
       "EFO_0004468  0.23182    8709.0   9.0   0.224811       2.0    Rare"
      ]
     },
     "execution_count": 247,
     "metadata": {},
     "output_type": "execute_result"
    }
   ],
   "source": [
    "bio_df.set_index('EFO').loc[glucose]"
   ]
  },
  {
   "cell_type": "code",
   "execution_count": 248,
   "metadata": {
    "ExecuteTime": {
     "end_time": "2025-06-22T18:22:15.412843Z",
     "start_time": "2025-06-22T18:22:15.408145Z"
    }
   },
   "outputs": [],
   "source": [
    "glucose_rare_set = pd.read_csv(os.path.join(inputdir, 'March_2025/34226706_EFO_0004468_RV.txt'), sep='\\t')"
   ]
  },
  {
   "cell_type": "code",
   "execution_count": 260,
   "metadata": {
    "ExecuteTime": {
     "end_time": "2025-06-22T18:25:28.876421Z",
     "start_time": "2025-06-22T18:25:28.868101Z"
    }
   },
   "outputs": [],
   "source": [
    "nrnb_dir = '/cellar/users/snwright/Data/RareCommon'\n",
    "constraint_df = pd.read_csv(os.path.join(nrnb_dir, 'Annotations/Gene_pLI.txt'), sep='\\t')"
   ]
  },
  {
   "cell_type": "code",
   "execution_count": 261,
   "metadata": {
    "ExecuteTime": {
     "end_time": "2025-06-22T18:25:33.974541Z",
     "start_time": "2025-06-22T18:25:33.962162Z"
    }
   },
   "outputs": [
    {
     "data": {
      "text/html": [
       "<div>\n",
       "<style scoped>\n",
       "    .dataframe tbody tr th:only-of-type {\n",
       "        vertical-align: middle;\n",
       "    }\n",
       "\n",
       "    .dataframe tbody tr th {\n",
       "        vertical-align: top;\n",
       "    }\n",
       "\n",
       "    .dataframe thead th {\n",
       "        text-align: right;\n",
       "    }\n",
       "</style>\n",
       "<table border=\"1\" class=\"dataframe\">\n",
       "  <thead>\n",
       "    <tr style=\"text-align: right;\">\n",
       "      <th></th>\n",
       "      <th>Entrez</th>\n",
       "      <th>Gene Symbol</th>\n",
       "      <th>Ensembl ID</th>\n",
       "      <th>P-value</th>\n",
       "      <th>lof.pLI</th>\n",
       "      <th>lof.z_score</th>\n",
       "      <th>LOEUF</th>\n",
       "    </tr>\n",
       "  </thead>\n",
       "  <tbody>\n",
       "    <tr>\n",
       "      <th>0</th>\n",
       "      <td>57818</td>\n",
       "      <td>G6PC2</td>\n",
       "      <td>ENSG00000278373</td>\n",
       "      <td>1.400000e-170</td>\n",
       "      <td>3.558400e-05</td>\n",
       "      <td>1.679</td>\n",
       "      <td>-0.17068</td>\n",
       "    </tr>\n",
       "    <tr>\n",
       "      <th>1</th>\n",
       "      <td>56172</td>\n",
       "      <td>ANKH</td>\n",
       "      <td>ENSG00000154122</td>\n",
       "      <td>5.200000e-13</td>\n",
       "      <td>9.970600e-01</td>\n",
       "      <td>0.463</td>\n",
       "      <td>4.18910</td>\n",
       "    </tr>\n",
       "    <tr>\n",
       "      <th>2</th>\n",
       "      <td>169026</td>\n",
       "      <td>SLC30A8</td>\n",
       "      <td>ENSG00000164756</td>\n",
       "      <td>5.100000e-07</td>\n",
       "      <td>1.261500e-05</td>\n",
       "      <td>0.921</td>\n",
       "      <td>1.76270</td>\n",
       "    </tr>\n",
       "    <tr>\n",
       "      <th>3</th>\n",
       "      <td>83795</td>\n",
       "      <td>KCNK16</td>\n",
       "      <td>ENSG00000095981</td>\n",
       "      <td>8.300000e-07</td>\n",
       "      <td>8.718700e-09</td>\n",
       "      <td>1.463</td>\n",
       "      <td>-0.13173</td>\n",
       "    </tr>\n",
       "    <tr>\n",
       "      <th>4</th>\n",
       "      <td>84826</td>\n",
       "      <td>SFT2D3</td>\n",
       "      <td>ENSG00000173349</td>\n",
       "      <td>2.100000e-06</td>\n",
       "      <td>2.927500e-01</td>\n",
       "      <td>1.892</td>\n",
       "      <td>0.23182</td>\n",
       "    </tr>\n",
       "  </tbody>\n",
       "</table>\n",
       "</div>"
      ],
      "text/plain": [
       "   Entrez Gene Symbol       Ensembl ID        P-value       lof.pLI  \\\n",
       "0   57818       G6PC2  ENSG00000278373  1.400000e-170  3.558400e-05   \n",
       "1   56172        ANKH  ENSG00000154122   5.200000e-13  9.970600e-01   \n",
       "2  169026     SLC30A8  ENSG00000164756   5.100000e-07  1.261500e-05   \n",
       "3   83795      KCNK16  ENSG00000095981   8.300000e-07  8.718700e-09   \n",
       "4   84826      SFT2D3  ENSG00000173349   2.100000e-06  2.927500e-01   \n",
       "\n",
       "   lof.z_score    LOEUF  \n",
       "0        1.679 -0.17068  \n",
       "1        0.463  4.18910  \n",
       "2        0.921  1.76270  \n",
       "3        1.463 -0.13173  \n",
       "4        1.892  0.23182  "
      ]
     },
     "execution_count": 261,
     "metadata": {},
     "output_type": "execute_result"
    }
   ],
   "source": [
    "glucose_rare_set.merge(constraint_df, on='Entrez', how='left')"
   ]
  },
  {
   "cell_type": "markdown",
   "metadata": {},
   "source": [
    "### Figure 5D"
   ]
  },
  {
   "cell_type": "code",
   "execution_count": 264,
   "metadata": {
    "ExecuteTime": {
     "end_time": "2025-06-22T18:26:40.320506Z",
     "start_time": "2025-06-22T18:26:40.306710Z"
    }
   },
   "outputs": [],
   "source": [
    "kegg_data = pd.read_csv(os.path.join(datadir, 'outputs/gProfiler_hsapiens_5-19-2025_11-22-48 AM__intersections.csv'), sep=',')\n",
    "kegg_data['GeneRatio'] = kegg_data['intersection_size']/kegg_data['query_size']\n",
    "kegg_data['TermRatio'] = kegg_data['intersection_size']/kegg_data['term_size']\n",
    "# filter the kegg data\n",
    "kegg_data = kegg_data[(kegg_data['adjusted_p_value'] < 0.05)]\n",
    "kegg_data = kegg_data[kegg_data['intersection_size'] > 20]\n",
    "kegg_data = kegg_data[kegg_data['term_size'] < 1000]\n",
    "kegg_data = kegg_data.sort_values(by='adjusted_p_value', ascending=True).drop_duplicates(subset='term_name')"
   ]
  },
  {
   "cell_type": "code",
   "execution_count": 265,
   "metadata": {
    "ExecuteTime": {
     "end_time": "2025-06-22T18:26:43.066536Z",
     "start_time": "2025-06-22T18:26:43.063914Z"
    }
   },
   "outputs": [],
   "source": [
    "hp_data = kegg_data[kegg_data.source=='HP']\n",
    "kegg_data = kegg_data[kegg_data.source=='KEGG']"
   ]
  },
  {
   "cell_type": "code",
   "execution_count": 266,
   "metadata": {
    "ExecuteTime": {
     "end_time": "2025-06-22T18:26:43.712288Z",
     "start_time": "2025-06-22T18:26:43.703352Z"
    }
   },
   "outputs": [
    {
     "name": "stderr",
     "output_type": "stream",
     "text": [
      "100%|██████████| 19/19 [00:00<00:00, 15681.18it/s]\n",
      "100%|██████████| 19/19 [00:00<00:00, 28189.52it/s]\n"
     ]
    }
   ],
   "source": [
    "term_sims = np.zeros((len(kegg_data), len(kegg_data)))\n",
    "intersection_sets = {}\n",
    "for i in tqdm(range(len(kegg_data))):\n",
    "    intersection_sets[i] = set(kegg_data.iloc[i].intersections.split(','))\n",
    "    term_sims[i, i] = 1\n",
    "for i in tqdm(range(len(kegg_data))):\n",
    "    for j in range(i+1, len(kegg_data)):\n",
    "        term_sims[i, j] = len(intersection_sets[i].intersection(intersection_sets[j]))/len(intersection_sets[i].union(intersection_sets[j]))\n",
    "        term_sims[j, i] = term_sims[i, j]"
   ]
  },
  {
   "cell_type": "code",
   "execution_count": 267,
   "metadata": {
    "ExecuteTime": {
     "end_time": "2025-06-22T18:26:45.191389Z",
     "start_time": "2025-06-22T18:26:44.553339Z"
    }
   },
   "outputs": [
    {
     "data": {
      "image/png": "[encoded data removed]",
      "text/plain": [
       "<Figure size 300x300 with 4 Axes>"
      ]
     },
     "metadata": {},
     "output_type": "display_data"
    }
   ],
   "source": [
    "cg = sns.clustermap(term_sims, figsize=(3,3))\n",
    "plt.savefig(os.path.join(figdir, 'kegg_clustermap.svg'), bbox_inches='tight', dpi=300)\n",
    "order= cg.dendrogram_row.reordered_ind[4:] + cg.dendrogram_row.reordered_ind[:4]"
   ]
  },
  {
   "cell_type": "code",
   "execution_count": 268,
   "metadata": {
    "ExecuteTime": {
     "end_time": "2025-06-22T18:26:46.062621Z",
     "start_time": "2025-06-22T18:26:45.839490Z"
    }
   },
   "outputs": [
    {
     "data": {
      "image/png": "[encoded data removed]",
      "text/plain": [
       "<Figure size 50x300 with 2 Axes>"
      ]
     },
     "metadata": {},
     "output_type": "display_data"
    }
   ],
   "source": [
    "import matplotlib as mpl\n",
    "_ = plt.figure(figsize=(0.5, 3))\n",
    "order = order[::-1]\n",
    "cmap_blended = sns.blend_palette([\"blue\", 'red'], as_cmap=True)\n",
    "norm = mpl.colors.Normalize(vmin=-1*np.log10(0.05), vmax=30)\n",
    "scatter = plt.scatter(\n",
    "    x=np.ones_like(kegg_data.iloc[order]['term_name']),  # constant x to align vertically\n",
    "    y=kegg_data.iloc[order]['term_name'],\n",
    "    c=kegg_data.iloc[order]['negative_log10_of_adjusted_p_value'],\n",
    "    s=kegg_data.iloc[order]['intersection_size'],  # scale size if needed\n",
    "    cmap=cmap_blended,\n",
    "    norm=norm\n",
    ")\n",
    "cbar = plt.colorbar(scatter, pad=0.5)\n",
    "cbar.set_label('-log10(adjusted p-value)', rotation=270, labelpad=15)\n",
    "plt.gca().yaxis.tick_right()\n",
    "plt.ylabel(\"\")\n",
    "plt.savefig(os.path.join(figdir, 'kegg_enrichments.svg'), bbox_inches='tight', dpi=300)"
   ]
  },
  {
   "cell_type": "code",
   "execution_count": 269,
   "metadata": {
    "ExecuteTime": {
     "end_time": "2025-06-22T18:26:47.573383Z",
     "start_time": "2025-06-22T18:26:47.565343Z"
    }
   },
   "outputs": [
    {
     "data": {
      "text/html": [
       "<div>\n",
       "<style scoped>\n",
       "    .dataframe tbody tr th:only-of-type {\n",
       "        vertical-align: middle;\n",
       "    }\n",
       "\n",
       "    .dataframe tbody tr th {\n",
       "        vertical-align: top;\n",
       "    }\n",
       "\n",
       "    .dataframe thead th {\n",
       "        text-align: right;\n",
       "    }\n",
       "</style>\n",
       "<table border=\"1\" class=\"dataframe\">\n",
       "  <thead>\n",
       "    <tr style=\"text-align: right;\">\n",
       "      <th></th>\n",
       "      <th>source</th>\n",
       "      <th>term_name</th>\n",
       "      <th>term_id</th>\n",
       "      <th>adjusted_p_value</th>\n",
       "      <th>negative_log10_of_adjusted_p_value</th>\n",
       "      <th>term_size</th>\n",
       "      <th>query_size</th>\n",
       "      <th>intersection_size</th>\n",
       "      <th>effective_domain_size</th>\n",
       "      <th>intersections</th>\n",
       "      <th>GeneRatio</th>\n",
       "      <th>TermRatio</th>\n",
       "    </tr>\n",
       "  </thead>\n",
       "  <tbody>\n",
       "    <tr>\n",
       "      <th>1</th>\n",
       "      <td>KEGG</td>\n",
       "      <td>AMPK signaling pathway</td>\n",
       "      <td>KEGG:04152</td>\n",
       "      <td>3.472801e-29</td>\n",
       "      <td>28.459320</td>\n",
       "      <td>120</td>\n",
       "      <td>386</td>\n",
       "      <td>46</td>\n",
       "      <td>8484</td>\n",
       "      <td>9370,92579,90993,8789,8660,84699,79602,6720,65...</td>\n",
       "      <td>0.119171</td>\n",
       "      <td>0.383333</td>\n",
       "    </tr>\n",
       "    <tr>\n",
       "      <th>2</th>\n",
       "      <td>KEGG</td>\n",
       "      <td>Glucagon signaling pathway</td>\n",
       "      <td>KEGG:04922</td>\n",
       "      <td>2.230667e-28</td>\n",
       "      <td>27.651565</td>\n",
       "      <td>107</td>\n",
       "      <td>386</td>\n",
       "      <td>43</td>\n",
       "      <td>8484</td>\n",
       "      <td>92579,91860,90993,8789,84699,816,6514,5837,583...</td>\n",
       "      <td>0.111399</td>\n",
       "      <td>0.401869</td>\n",
       "    </tr>\n",
       "    <tr>\n",
       "      <th>4</th>\n",
       "      <td>KEGG</td>\n",
       "      <td>Insulin signaling pathway</td>\n",
       "      <td>KEGG:04910</td>\n",
       "      <td>1.505333e-25</td>\n",
       "      <td>24.822368</td>\n",
       "      <td>137</td>\n",
       "      <td>386</td>\n",
       "      <td>45</td>\n",
       "      <td>8484</td>\n",
       "      <td>92579,91860,90673,89801,8789,8660,80201,79660,...</td>\n",
       "      <td>0.116580</td>\n",
       "      <td>0.328467</td>\n",
       "    </tr>\n",
       "    <tr>\n",
       "      <th>5</th>\n",
       "      <td>KEGG</td>\n",
       "      <td>Insulin resistance</td>\n",
       "      <td>KEGG:04931</td>\n",
       "      <td>7.507778e-24</td>\n",
       "      <td>23.124489</td>\n",
       "      <td>108</td>\n",
       "      <td>386</td>\n",
       "      <td>39</td>\n",
       "      <td>8484</td>\n",
       "      <td>92579,90993,90673,8660,84699,79660,6720,6517,6...</td>\n",
       "      <td>0.101036</td>\n",
       "      <td>0.361111</td>\n",
       "    </tr>\n",
       "  </tbody>\n",
       "</table>\n",
       "</div>"
      ],
      "text/plain": [
       "  source                   term_name     term_id  adjusted_p_value  \\\n",
       "1   KEGG      AMPK signaling pathway  KEGG:04152      3.472801e-29   \n",
       "2   KEGG  Glucagon signaling pathway  KEGG:04922      2.230667e-28   \n",
       "4   KEGG   Insulin signaling pathway  KEGG:04910      1.505333e-25   \n",
       "5   KEGG          Insulin resistance  KEGG:04931      7.507778e-24   \n",
       "\n",
       "   negative_log10_of_adjusted_p_value  term_size  query_size  \\\n",
       "1                           28.459320        120         386   \n",
       "2                           27.651565        107         386   \n",
       "4                           24.822368        137         386   \n",
       "5                           23.124489        108         386   \n",
       "\n",
       "   intersection_size  effective_domain_size  \\\n",
       "1                 46                   8484   \n",
       "2                 43                   8484   \n",
       "4                 45                   8484   \n",
       "5                 39                   8484   \n",
       "\n",
       "                                       intersections  GeneRatio  TermRatio  \n",
       "1  9370,92579,90993,8789,8660,84699,79602,6720,65...   0.119171   0.383333  \n",
       "2  92579,91860,90993,8789,84699,816,6514,5837,583...   0.111399   0.401869  \n",
       "4  92579,91860,90673,89801,8789,8660,80201,79660,...   0.116580   0.328467  \n",
       "5  92579,90993,90673,8660,84699,79660,6720,6517,6...   0.101036   0.361111  "
      ]
     },
     "execution_count": 269,
     "metadata": {},
     "output_type": "execute_result"
    }
   ],
   "source": [
    "kegg_data[kegg_data.term_name.isin(['AMPK signaling pathway', 'Glucagon signaling pathway', 'Insulin signaling pathway', 'Insulin resistance'])]"
   ]
  },
  {
   "cell_type": "code",
   "execution_count": 270,
   "metadata": {
    "ExecuteTime": {
     "end_time": "2025-06-22T18:26:51.232237Z",
     "start_time": "2025-06-22T18:26:51.229350Z"
    }
   },
   "outputs": [],
   "source": [
    "hp_data = hp_data.sort_values(by='adjusted_p_value', ascending=True)\n",
    "hp_data = hp_data[hp_data.adjusted_p_value< 5e-5]"
   ]
  },
  {
   "cell_type": "code",
   "execution_count": 271,
   "metadata": {
    "ExecuteTime": {
     "end_time": "2025-06-22T18:26:51.868609Z",
     "start_time": "2025-06-22T18:26:51.859408Z"
    }
   },
   "outputs": [
    {
     "name": "stderr",
     "output_type": "stream",
     "text": [
      "100%|██████████| 19/19 [00:00<00:00, 13167.84it/s]\n",
      "100%|██████████| 19/19 [00:00<00:00, 23247.31it/s]\n"
     ]
    }
   ],
   "source": [
    "term_sims = np.zeros((len(hp_data), len(hp_data)))\n",
    "intersection_sets = {}\n",
    "for i in tqdm(range(len(hp_data))):\n",
    "    intersection_sets[i] = set(hp_data.iloc[i].intersections.split(','))\n",
    "    term_sims[i, i] = 1\n",
    "for i in tqdm(range(len(hp_data))):\n",
    "    for j in range(i+1, len(hp_data)):\n",
    "        term_sims[i, j] = len(intersection_sets[i].intersection(intersection_sets[j]))/len(intersection_sets[i].union(intersection_sets[j]))\n",
    "        term_sims[j, i] = term_sims[i, j]"
   ]
  },
  {
   "cell_type": "code",
   "execution_count": 272,
   "metadata": {
    "ExecuteTime": {
     "end_time": "2025-06-22T18:26:52.954707Z",
     "start_time": "2025-06-22T18:26:52.649908Z"
    }
   },
   "outputs": [
    {
     "data": {
      "image/png": "[encoded data removed]",
      "text/plain": [
       "<Figure size 200x200 with 4 Axes>"
      ]
     },
     "metadata": {},
     "output_type": "display_data"
    }
   ],
   "source": [
    "cg2 = sns.clustermap(term_sims, figsize=(2,2))\n",
    "plt.savefig(os.path.join(figdir, 'hp_clustermap.svg'), bbox_inches='tight', dpi=300)\n",
    "order= cg2.dendrogram_row.reordered_ind#[4:] + cg.dendrogram_row.reordered_ind[:4]"
   ]
  },
  {
   "cell_type": "code",
   "execution_count": 273,
   "metadata": {
    "ExecuteTime": {
     "end_time": "2025-06-22T18:26:53.809634Z",
     "start_time": "2025-06-22T18:26:53.574391Z"
    }
   },
   "outputs": [
    {
     "data": {
      "image/png": "[encoded data removed]",
      "text/plain": [
       "<Figure size 50x300 with 2 Axes>"
      ]
     },
     "metadata": {},
     "output_type": "display_data"
    }
   ],
   "source": [
    "import matplotlib as mpl\n",
    "_ = plt.figure(figsize=(0.5, 3))\n",
    "cmap_blended = sns.blend_palette([\"blue\", 'red'], as_cmap=True)\n",
    "norm = mpl.colors.Normalize(vmin=-1*np.log10(0.05), vmax=30)\n",
    "scatter = plt.scatter(\n",
    "    x=np.ones_like(hp_data.iloc[order]['term_name']),  # constant x to align vertically\n",
    "    y=hp_data.iloc[order]['term_name'],\n",
    "    c=hp_data.iloc[order]['negative_log10_of_adjusted_p_value'],\n",
    "    s=hp_data.iloc[order]['intersection_size'],  # scale size if needed\n",
    "    cmap=cmap_blended,\n",
    "    norm=norm\n",
    ")\n",
    "cbar = plt.colorbar(scatter, pad=0.5)\n",
    "cbar.set_label('-log10(adjusted p-value)', rotation=270, labelpad=15)\n",
    "plt.gca().yaxis.tick_right()\n",
    "plt.ylabel(\"\")\n",
    "plt.savefig(os.path.join(figdir, 'hp_enrichments.svg'), bbox_inches='tight', dpi=300)"
   ]
  },
  {
   "cell_type": "code",
   "execution_count": 274,
   "metadata": {
    "ExecuteTime": {
     "end_time": "2025-06-22T18:26:54.379604Z",
     "start_time": "2025-06-22T18:26:54.371742Z"
    }
   },
   "outputs": [
    {
     "data": {
      "text/html": [
       "<div>\n",
       "<style scoped>\n",
       "    .dataframe tbody tr th:only-of-type {\n",
       "        vertical-align: middle;\n",
       "    }\n",
       "\n",
       "    .dataframe tbody tr th {\n",
       "        vertical-align: top;\n",
       "    }\n",
       "\n",
       "    .dataframe thead th {\n",
       "        text-align: right;\n",
       "    }\n",
       "</style>\n",
       "<table border=\"1\" class=\"dataframe\">\n",
       "  <thead>\n",
       "    <tr style=\"text-align: right;\">\n",
       "      <th></th>\n",
       "      <th>source</th>\n",
       "      <th>term_name</th>\n",
       "      <th>term_id</th>\n",
       "      <th>adjusted_p_value</th>\n",
       "      <th>negative_log10_of_adjusted_p_value</th>\n",
       "      <th>term_size</th>\n",
       "      <th>query_size</th>\n",
       "      <th>intersection_size</th>\n",
       "      <th>effective_domain_size</th>\n",
       "      <th>intersections</th>\n",
       "      <th>GeneRatio</th>\n",
       "      <th>TermRatio</th>\n",
       "    </tr>\n",
       "  </thead>\n",
       "  <tbody>\n",
       "    <tr>\n",
       "      <th>291</th>\n",
       "      <td>HP</td>\n",
       "      <td>Increased waist to hip ratio</td>\n",
       "      <td>HP:0031819</td>\n",
       "      <td>7.517890e-20</td>\n",
       "      <td>19.123904</td>\n",
       "      <td>35</td>\n",
       "      <td>235</td>\n",
       "      <td>23</td>\n",
       "      <td>5080</td>\n",
       "      <td>8660,8431,7466,7352,6934,6928,6927,6833,6514,5...</td>\n",
       "      <td>0.097872</td>\n",
       "      <td>0.657143</td>\n",
       "    </tr>\n",
       "    <tr>\n",
       "      <th>311</th>\n",
       "      <td>HP</td>\n",
       "      <td>Type II diabetes mellitus</td>\n",
       "      <td>HP:0005978</td>\n",
       "      <td>1.374913e-08</td>\n",
       "      <td>7.861725</td>\n",
       "      <td>137</td>\n",
       "      <td>235</td>\n",
       "      <td>27</td>\n",
       "      <td>5080</td>\n",
       "      <td>8660,8462,7466,6934,6928,6927,6833,6690,6514,6...</td>\n",
       "      <td>0.114894</td>\n",
       "      <td>0.197080</td>\n",
       "    </tr>\n",
       "  </tbody>\n",
       "</table>\n",
       "</div>"
      ],
      "text/plain": [
       "    source                     term_name     term_id  adjusted_p_value  \\\n",
       "291     HP  Increased waist to hip ratio  HP:0031819      7.517890e-20   \n",
       "311     HP     Type II diabetes mellitus  HP:0005978      1.374913e-08   \n",
       "\n",
       "     negative_log10_of_adjusted_p_value  term_size  query_size  \\\n",
       "291                           19.123904         35         235   \n",
       "311                            7.861725        137         235   \n",
       "\n",
       "     intersection_size  effective_domain_size  \\\n",
       "291                 23                   5080   \n",
       "311                 27                   5080   \n",
       "\n",
       "                                         intersections  GeneRatio  TermRatio  \n",
       "291  8660,8431,7466,7352,6934,6928,6927,6833,6514,5...   0.097872   0.657143  \n",
       "311  8660,8462,7466,6934,6928,6927,6833,6690,6514,6...   0.114894   0.197080  "
      ]
     },
     "execution_count": 274,
     "metadata": {},
     "output_type": "execute_result"
    }
   ],
   "source": [
    "hp_data[hp_data.term_name.isin(['Increased waist to hip ratio', 'Type II diabetes mellitus'])]"
   ]
  },
  {
   "cell_type": "code",
   "execution_count": 334,
   "metadata": {
    "ExecuteTime": {
     "end_time": "2025-06-12T23:31:25.596641Z",
     "start_time": "2025-06-12T23:31:25.590058Z"
    }
   },
   "outputs": [
    {
     "data": {
      "text/html": [
       "<div>\n",
       "<style scoped>\n",
       "    .dataframe tbody tr th:only-of-type {\n",
       "        vertical-align: middle;\n",
       "    }\n",
       "\n",
       "    .dataframe tbody tr th {\n",
       "        vertical-align: top;\n",
       "    }\n",
       "\n",
       "    .dataframe thead th {\n",
       "        text-align: right;\n",
       "    }\n",
       "</style>\n",
       "<table border=\"1\" class=\"dataframe\">\n",
       "  <thead>\n",
       "    <tr style=\"text-align: right;\">\n",
       "      <th></th>\n",
       "      <th>name</th>\n",
       "      <th>P_size</th>\n",
       "      <th>log2SizeOE</th>\n",
       "    </tr>\n",
       "  </thead>\n",
       "  <tbody>\n",
       "    <tr>\n",
       "      <th>161</th>\n",
       "      <td>autism spectrum disorder</td>\n",
       "      <td>2.740000e-266</td>\n",
       "      <td>1.494694</td>\n",
       "    </tr>\n",
       "    <tr>\n",
       "      <th>191</th>\n",
       "      <td>Alzheimer disease</td>\n",
       "      <td>2.162000e-87</td>\n",
       "      <td>1.119217</td>\n",
       "    </tr>\n",
       "    <tr>\n",
       "      <th>197</th>\n",
       "      <td>bipolar disorder</td>\n",
       "      <td>1.940000e-58</td>\n",
       "      <td>1.042778</td>\n",
       "    </tr>\n",
       "  </tbody>\n",
       "</table>\n",
       "</div>"
      ],
      "text/plain": [
       "                         name         P_size  log2SizeOE\n",
       "161  autism spectrum disorder  2.740000e-266    1.494694\n",
       "191         Alzheimer disease   2.162000e-87    1.119217\n",
       "197          bipolar disorder   1.940000e-58    1.042778"
      ]
     },
     "execution_count": 334,
     "metadata": {},
     "output_type": "execute_result"
    }
   ],
   "source": [
    "npd_df.sort_values(by='P_size', ascending=True).loc[:, ['name', 'P_size', 'log2COLOC']].head(3)"
   ]
  }
 ],
 "metadata": {
  "kernelspec": {
   "display_name": "Python (CARVA)",
   "language": "python",
   "name": "carva"
  },
  "language_info": {
   "codemirror_mode": {
    "name": "ipython",
    "version": 3
   },
   "file_extension": ".py",
   "mimetype": "text/x-python",
   "name": "python",
   "nbconvert_exporter": "python",
   "pygments_lexer": "ipython3",
   "version": "3.10.0"
  },
  "toc": {
   "base_numbering": 1,
   "nav_menu": {},
   "number_sections": true,
   "sideBar": true,
   "skip_h1_title": false,
   "title_cell": "Table of Contents",
   "title_sidebar": "Contents",
   "toc_cell": false,
   "toc_position": {
    "height": "calc(100% - 180px)",
    "left": "10px",
    "top": "150px",
    "width": "426.823px"
   },
   "toc_section_display": true,
   "toc_window_display": true
  },
  "varInspector": {
   "cols": {
    "lenName": 16,
    "lenType": 16,
    "lenVar": 40
   },
   "kernels_config": {
    "python": {
     "delete_cmd_postfix": "",
     "delete_cmd_prefix": "del ",
     "library": "var_list.py",
     "varRefreshCmd": "print(var_dic_list())"
    },
    "r": {
     "delete_cmd_postfix": ") ",
     "delete_cmd_prefix": "rm(",
     "library": "var_list.r",
     "varRefreshCmd": "cat(var_dic_list()) "
    }
   },
   "types_to_exclude": [
    "module",
    "function",
    "builtin_function_or_method",
    "instance",
    "_Feature"
   ],
   "window_display": false
  }
 },
 "nbformat": 4,
 "nbformat_minor": 2
}
