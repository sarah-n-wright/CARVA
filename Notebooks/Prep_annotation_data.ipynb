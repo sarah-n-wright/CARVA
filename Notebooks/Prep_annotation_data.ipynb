{
 "cells": [
  {
   "cell_type": "code",
   "execution_count": 3,
   "metadata": {},
   "outputs": [],
   "source": [
    "import pandas as pd\n",
    "import numpy as np\n",
    "import os\n",
    "import sys\n",
    "sys.path.append('/cellar/users/snwright/Git/Network_Evaluation_Tools/neteval/')\n",
    "from node_annotation import *"
   ]
  },
  {
   "cell_type": "code",
   "execution_count": null,
   "metadata": {},
   "outputs": [],
   "source": []
  },
  {
   "cell_type": "code",
   "execution_count": 6,
   "metadata": {},
   "outputs": [],
   "source": [
    "rc_data = '/cellar/users/snwright/Data/RareCommon/'"
   ]
  },
  {
   "cell_type": "markdown",
   "metadata": {},
   "source": [
    "### Combine results"
   ]
  },
  {
   "cell_type": "code",
   "execution_count": 75,
   "metadata": {},
   "outputs": [],
   "source": [
    "file_list = ['mrna_annotations.txt', 'cite_annotations.txt', 'conservation_annotations.txt', 'prot_annotations.txt']\n",
    "dfs = []\n",
    "for f in file_list:\n",
    "    dfs.append(pd.read_csv(os.path.join(rc_data, 'inputs', f), sep='\\t', index_col=0))\n",
    "all_results = pd.concat(dfs, axis=1).sort_index()"
   ]
  },
  {
   "cell_type": "code",
   "execution_count": 77,
   "metadata": {},
   "outputs": [],
   "source": [
    "all_results.to_csv(os.path.join(rc_data, 'inputs', 'combined_annotations.Nov26_24.txt'), sep='\\t')"
   ]
  },
  {
   "cell_type": "code",
   "execution_count": 78,
   "metadata": {},
   "outputs": [
    {
     "data": {
      "text/plain": [
       "'/cellar/users/snwright/Data/RareCommon/inputs/combined_annotations.Nov26_24.txt'"
      ]
     },
     "execution_count": 78,
     "metadata": {},
     "output_type": "execute_result"
    }
   ],
   "source": [
    "os.path.join(rc_data, 'inputs', 'combined_annotations.Nov26_24.txt')"
   ]
  },
  {
   "cell_type": "markdown",
   "metadata": {},
   "source": [
    "### Create Symbol-Entrez Dictionary?"
   ]
  },
  {
   "cell_type": "code",
   "execution_count": 30,
   "metadata": {},
   "outputs": [],
   "source": [
    "hgnc = pd.read_csv(os.path.join(rc_data, 'Reference', 'HGNC_download_Dec20_2023.txt'), sep='\\t').dropna(subset='NCBI Gene ID')\n",
    "hgnc['NCBI Gene ID'] = hgnc['NCBI Gene ID'].astype(int)"
   ]
  },
  {
   "cell_type": "code",
   "execution_count": 34,
   "metadata": {},
   "outputs": [],
   "source": [
    "hgnc_to_entrez = hgnc.set_index('Approved symbol').loc[:, ('NCBI Gene ID')].to_dict()"
   ]
  },
  {
   "cell_type": "markdown",
   "metadata": {},
   "source": [
    "### mRNA"
   ]
  },
  {
   "cell_type": "code",
   "execution_count": 7,
   "metadata": {},
   "outputs": [],
   "source": [
    "mrna = ExpressionData(os.path.join(rc_data, 'Reference', 'gtex_median_processed_1.tsv.gz'))"
   ]
  },
  {
   "cell_type": "code",
   "execution_count": 40,
   "metadata": {},
   "outputs": [],
   "source": [
    "mrna.data['Entrez'] = mrna.data['Entrez'].astype(int)"
   ]
  },
  {
   "cell_type": "code",
   "execution_count": 42,
   "metadata": {},
   "outputs": [],
   "source": [
    "mean_mrna = mrna.data.set_index('Entrez', drop=True).iloc[:, 2:].mean(axis=1)\n",
    "median_mrna = mrna.data.set_index('Entrez', drop=True).iloc[:, 2:].median(axis=1)\n",
    "non_zero_mrna = (mrna.data.set_index('Entrez', drop=True).iloc[:, 2:] > 0).sum(axis=1)"
   ]
  },
  {
   "cell_type": "code",
   "execution_count": 50,
   "metadata": {},
   "outputs": [],
   "source": [
    "mrna_data = pd.DataFrame({'mean_rna': mean_mrna, 'median_rna': median_mrna, 'non_zero_mrna': non_zero_mrna})\n",
    "mrna_data.index.name= None"
   ]
  },
  {
   "cell_type": "code",
   "execution_count": 51,
   "metadata": {},
   "outputs": [],
   "source": [
    "mrna_data.to_csv(os.path.join(rc_data, 'inputs', 'mrna_annotations.txt'), sep='\\t')"
   ]
  },
  {
   "cell_type": "code",
   "execution_count": 52,
   "metadata": {},
   "outputs": [
    {
     "data": {
      "text/html": [
       "<div>\n",
       "<style scoped>\n",
       "    .dataframe tbody tr th:only-of-type {\n",
       "        vertical-align: middle;\n",
       "    }\n",
       "\n",
       "    .dataframe tbody tr th {\n",
       "        vertical-align: top;\n",
       "    }\n",
       "\n",
       "    .dataframe thead th {\n",
       "        text-align: right;\n",
       "    }\n",
       "</style>\n",
       "<table border=\"1\" class=\"dataframe\">\n",
       "  <thead>\n",
       "    <tr style=\"text-align: right;\">\n",
       "      <th></th>\n",
       "      <th>mean_rna</th>\n",
       "      <th>median_rna</th>\n",
       "      <th>non_zero_mrna</th>\n",
       "    </tr>\n",
       "  </thead>\n",
       "  <tbody>\n",
       "    <tr>\n",
       "      <th>102466751</th>\n",
       "      <td>0.000000</td>\n",
       "      <td>0.000000</td>\n",
       "      <td>0</td>\n",
       "    </tr>\n",
       "    <tr>\n",
       "      <th>645520</th>\n",
       "      <td>0.000000</td>\n",
       "      <td>0.000000</td>\n",
       "      <td>0</td>\n",
       "    </tr>\n",
       "    <tr>\n",
       "      <th>79504</th>\n",
       "      <td>0.020226</td>\n",
       "      <td>0.022315</td>\n",
       "      <td>29</td>\n",
       "    </tr>\n",
       "    <tr>\n",
       "      <th>403263</th>\n",
       "      <td>0.038865</td>\n",
       "      <td>0.042189</td>\n",
       "      <td>43</td>\n",
       "    </tr>\n",
       "    <tr>\n",
       "      <th>79501</th>\n",
       "      <td>0.048267</td>\n",
       "      <td>0.045494</td>\n",
       "      <td>47</td>\n",
       "    </tr>\n",
       "  </tbody>\n",
       "</table>\n",
       "</div>"
      ],
      "text/plain": [
       "           mean_rna  median_rna  non_zero_mrna\n",
       "102466751  0.000000    0.000000              0\n",
       "645520     0.000000    0.000000              0\n",
       "79504      0.020226    0.022315             29\n",
       "403263     0.038865    0.042189             43\n",
       "79501      0.048267    0.045494             47"
      ]
     },
     "execution_count": 52,
     "metadata": {},
     "output_type": "execute_result"
    }
   ],
   "source": [
    "mrna_data.head()"
   ]
  },
  {
   "cell_type": "markdown",
   "metadata": {},
   "source": [
    "### Protein\n",
    "\n",
    "Done in neteval because for some reason this is not working"
   ]
  },
  {
   "cell_type": "markdown",
   "metadata": {},
   "source": [
    "### Citation"
   ]
  },
  {
   "cell_type": "code",
   "execution_count": 57,
   "metadata": {},
   "outputs": [],
   "source": [
    "citation_counts = pd.read_csv(os.path.join(rc_data, 'Reference', 'gene_citation_counts_Dec20_2023.txt'), sep='\\t', header=None, names=['GeneID', 'CitationCount'], index_col=0)"
   ]
  },
  {
   "cell_type": "code",
   "execution_count": 59,
   "metadata": {},
   "outputs": [],
   "source": [
    "citation_counts.index.name=None"
   ]
  },
  {
   "cell_type": "code",
   "execution_count": 60,
   "metadata": {},
   "outputs": [],
   "source": [
    "citation_counts.to_csv(os.path.join(rc_data, 'inputs', 'cite_annotations.txt'), sep='\\t')"
   ]
  },
  {
   "cell_type": "markdown",
   "metadata": {},
   "source": [
    "### Conservation"
   ]
  },
  {
   "cell_type": "code",
   "execution_count": 13,
   "metadata": {},
   "outputs": [],
   "source": [
    "cons_scores = pd.read_csv(os.path.join(rc_data, 'Reference', 'gene_conservation_scores.txt'), sep='\\t', index_col=0)"
   ]
  },
  {
   "cell_type": "code",
   "execution_count": 63,
   "metadata": {},
   "outputs": [],
   "source": [
    "cons_scores = cons_scores.set_index('entrezgene', drop=True)\n",
    "cons_scores.index.name = None"
   ]
  },
  {
   "cell_type": "code",
   "execution_count": 66,
   "metadata": {},
   "outputs": [],
   "source": [
    "cons_scores = cons_scores.rename(columns={'mean':'mean_phylop', 'median':'median_phylop'})"
   ]
  },
  {
   "cell_type": "code",
   "execution_count": 68,
   "metadata": {},
   "outputs": [],
   "source": [
    "cons_scores.loc[:, ('mean_phylop', 'median_phylop')].to_csv(os.path.join(rc_data, 'inputs', 'conservation_annotations.txt'), sep='\\t')"
   ]
  },
  {
   "cell_type": "markdown",
   "metadata": {},
   "source": [
    "### GO annotations"
   ]
  },
  {
   "cell_type": "code",
   "execution_count": null,
   "metadata": {},
   "outputs": [],
   "source": []
  },
  {
   "cell_type": "markdown",
   "metadata": {},
   "source": [
    "### Disgen Associations"
   ]
  },
  {
   "cell_type": "code",
   "execution_count": null,
   "metadata": {},
   "outputs": [],
   "source": []
  },
  {
   "cell_type": "markdown",
   "metadata": {},
   "source": [
    "### Drug targets"
   ]
  },
  {
   "cell_type": "code",
   "execution_count": null,
   "metadata": {},
   "outputs": [],
   "source": []
  },
  {
   "cell_type": "markdown",
   "metadata": {},
   "source": [
    "### Monogenic disorder genes"
   ]
  },
  {
   "cell_type": "code",
   "execution_count": null,
   "metadata": {},
   "outputs": [],
   "source": []
  }
 ],
 "metadata": {
  "kernelspec": {
   "display_name": "Python (CARVA)",
   "language": "python",
   "name": "carva"
  },
  "language_info": {
   "codemirror_mode": {
    "name": "ipython",
    "version": 3
   },
   "file_extension": ".py",
   "mimetype": "text/x-python",
   "name": "python",
   "nbconvert_exporter": "python",
   "pygments_lexer": "ipython3",
   "version": "3.10.0"
  }
 },
 "nbformat": 4,
 "nbformat_minor": 4
}
