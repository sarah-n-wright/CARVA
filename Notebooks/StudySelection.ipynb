{
 "cells": [
  {
   "cell_type": "code",
   "execution_count": 2,
   "metadata": {
    "ExecuteTime": {
     "end_time": "2025-06-09T21:59:58.256294Z",
     "start_time": "2025-06-09T21:59:24.153999Z"
    }
   },
   "outputs": [],
   "source": [
    "import pandas as pd\n",
    "import numpy as np\n",
    "import matplotlib.pyplot as plt\n",
    "import seaborn as sns\n",
    "import os\n",
    "from collections import defaultdict\n",
    "from tqdm import tqdm\n",
    "import networkx as nx\n",
    "from matplotlib_venn import venn2, venn3\n",
    "from neteval import gene_mapper as gm\n",
    "from neteval import query_ensembl as qe\n",
    "from neteval import query_hgnc as qh\n",
    "import obonet as obo\n",
    "from sentence_transformers import SentenceTransformer\n",
    "from sklearn.metrics.pairwise import cosine_similarity"
   ]
  },
  {
   "cell_type": "code",
   "execution_count": 3,
   "metadata": {
    "ExecuteTime": {
     "end_time": "2025-06-09T22:00:10.873338Z",
     "start_time": "2025-06-09T22:00:10.749132Z"
    },
    "run_control": {
     "marked": true
    }
   },
   "outputs": [],
   "source": [
    "import matplotlib\n",
    "import matplotlib.font_manager as fm\n",
    "arial_font_path = '/cellar/users/snwright/Fonts/msfonts/Arial.TTF'\n",
    "fm.fontManager.addfont(arial_font_path)\n",
    "matplotlib.rcParams['font.family'] = 'Arial'\n",
    "matplotlib.rcParams['svg.fonttype'] = 'none'\n",
    "plt.rcParams['svg.fonttype'] = 'none'\n",
    "plt.rcParams.update({'font.size': 7})\n",
    "plt.rcParams['axes.linewidth'] = 0.5\n",
    "plt.rcParams['hatch.linewidth'] = 0.5\n",
    "plt.rcParams['xtick.major.width'] = 0.4\n",
    "plt.rcParams['ytick.major.width'] = 0.4\n",
    "plt.rcParams['xtick.minor.width'] = 0.3\n",
    "plt.rcParams['ytick.minor.width'] = 0.3\n",
    "plt.rcParams['legend.frameon'] = False\n",
    "plt.rcParams['xtick.major.size'] = 3\n",
    "plt.rcParams['ytick.major.size'] = 3\n",
    "plt.rcParams['xtick.minor.size'] = 2\n",
    "plt.rcParams['ytick.minor.size'] = 2\n",
    "plt.rcParams['xtick.major.pad'] = 1\n",
    "plt.rcParams['ytick.major.pad'] = 1\n",
    "plt.rcParams['axes.labelpad'] = 1\n",
    "plt.rcParams['patch.linewidth'] = 0.25\n",
    "blue='#6ec1e0'\n",
    "green='#5fad56'"
   ]
  },
  {
   "cell_type": "code",
   "execution_count": 4,
   "metadata": {
    "ExecuteTime": {
     "end_time": "2025-06-09T22:00:13.935298Z",
     "start_time": "2025-06-09T22:00:13.933158Z"
    }
   },
   "outputs": [],
   "source": [
    "datadir='/cellar/users/snwright/Data/RareCommon/'\n",
    "outdir='/cellar/users/snwright/Data/Transfer/RVC/'\n",
    "figdir='/cellar/users/snwright/Data/Transfer/RVC/figures/StudySelection/'"
   ]
  },
  {
   "cell_type": "code",
   "execution_count": 5,
   "metadata": {
    "ExecuteTime": {
     "end_time": "2025-06-09T22:00:21.245636Z",
     "start_time": "2025-06-09T22:00:14.429276Z"
    }
   },
   "outputs": [],
   "source": [
    "model = SentenceTransformer('all-MiniLM-L6-v2')"
   ]
  },
  {
   "cell_type": "code",
   "execution_count": 6,
   "metadata": {
    "ExecuteTime": {
     "end_time": "2025-06-09T22:00:21.371381Z",
     "start_time": "2025-06-09T22:00:21.254754Z"
    }
   },
   "outputs": [],
   "source": [
    "pc_nodes = pd.read_csv(os.path.join(datadir, 'inputs', 'pcnet2_0_nodes.txt' ), sep='\\t', header=None, names=['Entrez', 'degree']).Entrez.values"
   ]
  },
  {
   "cell_type": "code",
   "execution_count": 7,
   "metadata": {
    "ExecuteTime": {
     "end_time": "2025-06-09T22:00:21.381273Z",
     "start_time": "2025-06-09T22:00:21.379578Z"
    }
   },
   "outputs": [],
   "source": [
    "azd = 'MONDO_0004975'"
   ]
  },
  {
   "cell_type": "markdown",
   "metadata": {},
   "source": [
    "# No UKB filtering"
   ]
  },
  {
   "cell_type": "markdown",
   "metadata": {},
   "source": [
    "## Load Data"
   ]
  },
  {
   "cell_type": "markdown",
   "metadata": {},
   "source": [
    "### GCat Study Info"
   ]
  },
  {
   "cell_type": "code",
   "execution_count": 8,
   "metadata": {
    "ExecuteTime": {
     "end_time": "2025-06-09T22:00:24.574075Z",
     "start_time": "2025-06-09T22:00:24.253728Z"
    }
   },
   "outputs": [],
   "source": [
    "study_info = pd.read_csv(os.path.join(datadir,'GWASCatalog', 'cleaned_gwas-catalog-v1.0.3.1-studies-r2025-03-26.tsv'), sep=\"\\t\")\n",
    "study_info = study_info.dropna(subset='TRAIT_CODE_CLEAN')\n",
    "study_info['TRAIT_CODE_CLEAN'] = study_info['TRAIT_CODE_CLEAN'].apply(lambda z: z.split('/')[-1].replace(':', '_'))"
   ]
  },
  {
   "cell_type": "code",
   "execution_count": 9,
   "metadata": {
    "ExecuteTime": {
     "end_time": "2025-06-09T22:00:25.944498Z",
     "start_time": "2025-06-09T22:00:24.954400Z"
    }
   },
   "outputs": [
    {
     "data": {
      "text/plain": [
       "Index(['PUBMEDID', 'DATE', 'DISEASE/TRAIT', 'INITIAL SAMPLE SIZE',\n",
       "       'MAPPED_GENE', 'SNP_GENE_IDS', 'SNP_ID_CURRENT', 'INTERGENIC',\n",
       "       'P-VALUE', 'OR or BETA', 'MAPPED_TRAIT', 'MAPPED_TRAIT_URI',\n",
       "       'STUDY ACCESSION', 'GENOTYPING TECHNOLOGY', 'TRAIT_CODE'],\n",
       "      dtype='object')"
      ]
     },
     "execution_count": 9,
     "metadata": {},
     "output_type": "execute_result"
    }
   ],
   "source": [
    "gwas_genes_meta = pd.read_csv(os.path.join(datadir, 'GWASCatalog', 'gwas_catalog_Jan29_2025.txt.cleanedMar28'), sep=\"\\t\")\n",
    "gwas_genes_meta.columns"
   ]
  },
  {
   "cell_type": "code",
   "execution_count": 10,
   "metadata": {
    "ExecuteTime": {
     "end_time": "2025-06-09T22:00:27.156277Z",
     "start_time": "2025-06-09T22:00:25.988583Z"
    }
   },
   "outputs": [],
   "source": [
    "gwas_genes= pd.read_csv(os.path.join(datadir, 'GWASCatalog', 'gwas_catalog_Jan29_2025.txt.cleanedJan29.entrez'), sep=\"\\t\")\n",
    "gwas_genes = gwas_genes.merge(gwas_genes_meta.loc[:, (\"PUBMEDID\", 'DISEASE/TRAIT', 'MAPPED_GENE', 'SNP_GENE_IDS', \n",
    "                          'MAPPED_TRAIT', 'STUDY ACCESSION', 'INITIAL SAMPLE SIZE', 'P-VALUE')],\n",
    "                             on=[\"PUBMEDID\", 'DISEASE/TRAIT', 'MAPPED_GENE', 'SNP_GENE_IDS',\n",
    "                                 'MAPPED_TRAIT', 'STUDY ACCESSION', 'P-VALUE'], how='inner')"
   ]
  },
  {
   "cell_type": "code",
   "execution_count": 14,
   "metadata": {
    "ExecuteTime": {
     "end_time": "2025-06-09T22:06:19.944275Z",
     "start_time": "2025-06-09T22:06:17.252578Z"
    }
   },
   "outputs": [],
   "source": [
    "gwas_genes.to_csv(os.path.join(datadir, 'GWASCatalog', 'gwas_catalog_Jan29_2025.txt.final'), sep='\\t')"
   ]
  },
  {
   "cell_type": "code",
   "execution_count": 12,
   "metadata": {
    "ExecuteTime": {
     "end_time": "2025-06-09T22:00:44.693382Z",
     "start_time": "2025-06-09T22:00:44.593565Z"
    }
   },
   "outputs": [],
   "source": [
    "gwas_genes = gwas_genes[gwas_genes.Entrez.isin(pc_nodes)]"
   ]
  },
  {
   "cell_type": "code",
   "execution_count": 15,
   "metadata": {
    "ExecuteTime": {
     "end_time": "2025-06-09T22:06:31.019259Z",
     "start_time": "2025-06-09T22:06:30.967950Z"
    }
   },
   "outputs": [
    {
     "data": {
      "text/html": [
       "<div>\n",
       "<style scoped>\n",
       "    .dataframe tbody tr th:only-of-type {\n",
       "        vertical-align: middle;\n",
       "    }\n",
       "\n",
       "    .dataframe tbody tr th {\n",
       "        vertical-align: top;\n",
       "    }\n",
       "\n",
       "    .dataframe thead th {\n",
       "        text-align: right;\n",
       "    }\n",
       "</style>\n",
       "<table border=\"1\" class=\"dataframe\">\n",
       "  <thead>\n",
       "    <tr style=\"text-align: right;\">\n",
       "      <th></th>\n",
       "      <th>PUBMEDID</th>\n",
       "      <th>DATE</th>\n",
       "      <th>DISEASE/TRAIT</th>\n",
       "      <th>MAPPED_GENE</th>\n",
       "      <th>SNP_GENE_IDS</th>\n",
       "      <th>INTERGENIC</th>\n",
       "      <th>P-VALUE</th>\n",
       "      <th>OR or BETA</th>\n",
       "      <th>MAPPED_TRAIT</th>\n",
       "      <th>MAPPED_TRAIT_URI</th>\n",
       "      <th>STUDY ACCESSION</th>\n",
       "      <th>TRAIT_CODE</th>\n",
       "      <th>logp</th>\n",
       "      <th>from</th>\n",
       "      <th>Entrez</th>\n",
       "      <th>INITIAL SAMPLE SIZE</th>\n",
       "    </tr>\n",
       "  </thead>\n",
       "  <tbody>\n",
       "    <tr>\n",
       "      <th>0</th>\n",
       "      <td>25673412</td>\n",
       "      <td>2015-02-12</td>\n",
       "      <td>Hip circumference adjusted for BMI</td>\n",
       "      <td>TSEN15</td>\n",
       "      <td>ENSG00000198860</td>\n",
       "      <td>0.0</td>\n",
       "      <td>6.000000e-10</td>\n",
       "      <td>0.0232</td>\n",
       "      <td>BMI-adjusted hip circumference</td>\n",
       "      <td>http://www.ebi.ac.uk/efo/EFO_0008039</td>\n",
       "      <td>GCST004067</td>\n",
       "      <td>EFO_0008039</td>\n",
       "      <td>9.221849</td>\n",
       "      <td>ENSG00000198860</td>\n",
       "      <td>116461</td>\n",
       "      <td>up to 56,910 European ancestry men, up to 86,5...</td>\n",
       "    </tr>\n",
       "    <tr>\n",
       "      <th>1</th>\n",
       "      <td>25673412</td>\n",
       "      <td>2015-02-12</td>\n",
       "      <td>Hip circumference adjusted for BMI</td>\n",
       "      <td>HMGXB4</td>\n",
       "      <td>ENSG00000100281</td>\n",
       "      <td>0.0</td>\n",
       "      <td>4.000000e-08</td>\n",
       "      <td>0.0207</td>\n",
       "      <td>BMI-adjusted hip circumference</td>\n",
       "      <td>http://www.ebi.ac.uk/efo/EFO_0008039</td>\n",
       "      <td>GCST004067</td>\n",
       "      <td>EFO_0008039</td>\n",
       "      <td>7.397940</td>\n",
       "      <td>ENSG00000100281</td>\n",
       "      <td>10042</td>\n",
       "      <td>up to 56,910 European ancestry men, up to 86,5...</td>\n",
       "    </tr>\n",
       "    <tr>\n",
       "      <th>2</th>\n",
       "      <td>25673412</td>\n",
       "      <td>2015-02-12</td>\n",
       "      <td>Hip circumference adjusted for BMI</td>\n",
       "      <td>PLAG1</td>\n",
       "      <td>ENSG00000181690</td>\n",
       "      <td>0.0</td>\n",
       "      <td>9.000000e-10</td>\n",
       "      <td>0.0282</td>\n",
       "      <td>BMI-adjusted hip circumference</td>\n",
       "      <td>http://www.ebi.ac.uk/efo/EFO_0008039</td>\n",
       "      <td>GCST004067</td>\n",
       "      <td>EFO_0008039</td>\n",
       "      <td>9.045757</td>\n",
       "      <td>ENSG00000181690</td>\n",
       "      <td>5324</td>\n",
       "      <td>up to 56,910 European ancestry men, up to 86,5...</td>\n",
       "    </tr>\n",
       "    <tr>\n",
       "      <th>3</th>\n",
       "      <td>25673412</td>\n",
       "      <td>2015-02-12</td>\n",
       "      <td>Hip circumference adjusted for BMI</td>\n",
       "      <td>MTMR11</td>\n",
       "      <td>ENSG00000014914</td>\n",
       "      <td>0.0</td>\n",
       "      <td>6.000000e-25</td>\n",
       "      <td>0.0413</td>\n",
       "      <td>BMI-adjusted hip circumference</td>\n",
       "      <td>http://www.ebi.ac.uk/efo/EFO_0008039</td>\n",
       "      <td>GCST004067</td>\n",
       "      <td>EFO_0008039</td>\n",
       "      <td>24.221849</td>\n",
       "      <td>ENSG00000014914</td>\n",
       "      <td>10903</td>\n",
       "      <td>up to 56,910 European ancestry men, up to 86,5...</td>\n",
       "    </tr>\n",
       "    <tr>\n",
       "      <th>4</th>\n",
       "      <td>25673412</td>\n",
       "      <td>2015-02-12</td>\n",
       "      <td>Hip circumference adjusted for BMI</td>\n",
       "      <td>RFT1</td>\n",
       "      <td>ENSG00000163933</td>\n",
       "      <td>0.0</td>\n",
       "      <td>6.000000e-14</td>\n",
       "      <td>0.0269</td>\n",
       "      <td>BMI-adjusted hip circumference</td>\n",
       "      <td>http://www.ebi.ac.uk/efo/EFO_0008039</td>\n",
       "      <td>GCST004067</td>\n",
       "      <td>EFO_0008039</td>\n",
       "      <td>13.221849</td>\n",
       "      <td>ENSG00000163933</td>\n",
       "      <td>91869</td>\n",
       "      <td>up to 56,910 European ancestry men, up to 86,5...</td>\n",
       "    </tr>\n",
       "  </tbody>\n",
       "</table>\n",
       "</div>"
      ],
      "text/plain": [
       "   PUBMEDID        DATE                       DISEASE/TRAIT MAPPED_GENE  \\\n",
       "0  25673412  2015-02-12  Hip circumference adjusted for BMI      TSEN15   \n",
       "1  25673412  2015-02-12  Hip circumference adjusted for BMI      HMGXB4   \n",
       "2  25673412  2015-02-12  Hip circumference adjusted for BMI       PLAG1   \n",
       "3  25673412  2015-02-12  Hip circumference adjusted for BMI      MTMR11   \n",
       "4  25673412  2015-02-12  Hip circumference adjusted for BMI        RFT1   \n",
       "\n",
       "      SNP_GENE_IDS  INTERGENIC       P-VALUE  OR or BETA  \\\n",
       "0  ENSG00000198860         0.0  6.000000e-10      0.0232   \n",
       "1  ENSG00000100281         0.0  4.000000e-08      0.0207   \n",
       "2  ENSG00000181690         0.0  9.000000e-10      0.0282   \n",
       "3  ENSG00000014914         0.0  6.000000e-25      0.0413   \n",
       "4  ENSG00000163933         0.0  6.000000e-14      0.0269   \n",
       "\n",
       "                     MAPPED_TRAIT                      MAPPED_TRAIT_URI  \\\n",
       "0  BMI-adjusted hip circumference  http://www.ebi.ac.uk/efo/EFO_0008039   \n",
       "1  BMI-adjusted hip circumference  http://www.ebi.ac.uk/efo/EFO_0008039   \n",
       "2  BMI-adjusted hip circumference  http://www.ebi.ac.uk/efo/EFO_0008039   \n",
       "3  BMI-adjusted hip circumference  http://www.ebi.ac.uk/efo/EFO_0008039   \n",
       "4  BMI-adjusted hip circumference  http://www.ebi.ac.uk/efo/EFO_0008039   \n",
       "\n",
       "  STUDY ACCESSION   TRAIT_CODE       logp             from  Entrez  \\\n",
       "0      GCST004067  EFO_0008039   9.221849  ENSG00000198860  116461   \n",
       "1      GCST004067  EFO_0008039   7.397940  ENSG00000100281   10042   \n",
       "2      GCST004067  EFO_0008039   9.045757  ENSG00000181690    5324   \n",
       "3      GCST004067  EFO_0008039  24.221849  ENSG00000014914   10903   \n",
       "4      GCST004067  EFO_0008039  13.221849  ENSG00000163933   91869   \n",
       "\n",
       "                                 INITIAL SAMPLE SIZE  \n",
       "0  up to 56,910 European ancestry men, up to 86,5...  \n",
       "1  up to 56,910 European ancestry men, up to 86,5...  \n",
       "2  up to 56,910 European ancestry men, up to 86,5...  \n",
       "3  up to 56,910 European ancestry men, up to 86,5...  \n",
       "4  up to 56,910 European ancestry men, up to 86,5...  "
      ]
     },
     "execution_count": 15,
     "metadata": {},
     "output_type": "execute_result"
    }
   ],
   "source": [
    "gwas_genes.head()"
   ]
  },
  {
   "cell_type": "code",
   "execution_count": 16,
   "metadata": {
    "ExecuteTime": {
     "end_time": "2025-06-02T17:25:57.623745Z",
     "start_time": "2025-06-02T17:25:57.621186Z"
    }
   },
   "outputs": [
    {
     "data": {
      "text/plain": [
       "(327974, 16)"
      ]
     },
     "execution_count": 16,
     "metadata": {},
     "output_type": "execute_result"
    }
   ],
   "source": [
    "gwas_genes.shape"
   ]
  },
  {
   "cell_type": "code",
   "execution_count": 17,
   "metadata": {
    "ExecuteTime": {
     "end_time": "2025-06-02T17:25:57.697490Z",
     "start_time": "2025-06-02T17:25:57.676147Z"
    }
   },
   "outputs": [
    {
     "data": {
      "text/plain": [
       "(19450, 29)"
      ]
     },
     "execution_count": 17,
     "metadata": {},
     "output_type": "execute_result"
    }
   ],
   "source": [
    "study_info.drop_duplicates(subset=['STUDY ACCESSION', \"DISEASE/TRAIT\", 'INITIAL SAMPLE SIZE','MAPPED_TRAIT', 'MAPPED_TRAIT_URI']).shape"
   ]
  },
  {
   "cell_type": "code",
   "execution_count": 18,
   "metadata": {
    "ExecuteTime": {
     "end_time": "2025-06-02T17:25:58.110484Z",
     "start_time": "2025-06-02T17:25:57.749973Z"
    }
   },
   "outputs": [
    {
     "data": {
      "text/plain": [
       "(327974, 37)"
      ]
     },
     "execution_count": 18,
     "metadata": {},
     "output_type": "execute_result"
    }
   ],
   "source": [
    "gwas_genes = gwas_genes.drop(columns=['TRAIT_CODE']).merge(study_info.drop(columns=['ASSOCIATION COUNT', 'SUMMARY STATS LOCATION']), \n",
    "                      on=['STUDY ACCESSION', \"DISEASE/TRAIT\", 'INITIAL SAMPLE SIZE','MAPPED_TRAIT', 'MAPPED_TRAIT_URI'],\n",
    "                                             how='left')\n",
    "gwas_genes.shape"
   ]
  },
  {
   "cell_type": "code",
   "execution_count": 19,
   "metadata": {
    "ExecuteTime": {
     "end_time": "2025-06-02T17:25:58.531303Z",
     "start_time": "2025-06-02T17:25:58.277043Z"
    }
   },
   "outputs": [
    {
     "data": {
      "text/plain": [
       "PUBMEDID                         4785\n",
       "DATE_x                           2902\n",
       "DISEASE/TRAIT                   23268\n",
       "MAPPED_GENE                     13654\n",
       "SNP_GENE_IDS                    13654\n",
       "INTERGENIC                          1\n",
       "P-VALUE                          2278\n",
       "OR or BETA                     118232\n",
       "MAPPED_TRAIT                     7088\n",
       "MAPPED_TRAIT_URI                 7088\n",
       "STUDY ACCESSION                 32065\n",
       "logp                             2225\n",
       "from                            13654\n",
       "Entrez                          13654\n",
       "INITIAL SAMPLE SIZE             10100\n",
       "DATE ADDED TO CATALOG            1746\n",
       "PUBMED ID                        3067\n",
       "FIRST AUTHOR                     2330\n",
       "DATE_y                           2140\n",
       "JOURNAL                           514\n",
       "LINK                             3067\n",
       "STUDY                            3066\n",
       "REPLICATION SAMPLE SIZE          1398\n",
       "PLATFORM [SNPS PASSING QC]       3799\n",
       "GENOTYPING TECHNOLOGY               2\n",
       "SUBMISSION DATE                     0\n",
       "STATISTICAL MODEL                   0\n",
       "BACKGROUND TRAIT                    0\n",
       "MAPPED BACKGROUND TRAIT             0\n",
       "MAPPED BACKGROUND TRAIT URI         0\n",
       "COHORT                            545\n",
       "FULL SUMMARY STATISTICS             2\n",
       "GXE                                 2\n",
       "TraitExp                         8724\n",
       "MappedExp                        3627\n",
       "MAPPED_TRAIT_CLEAN               3782\n",
       "TRAIT_CODE_CLEAN                 3782\n",
       "dtype: int64"
      ]
     },
     "execution_count": 19,
     "metadata": {},
     "output_type": "execute_result"
    }
   ],
   "source": [
    "gwas_genes.nunique()"
   ]
  },
  {
   "cell_type": "code",
   "execution_count": 20,
   "metadata": {
    "ExecuteTime": {
     "end_time": "2025-06-02T17:25:58.710653Z",
     "start_time": "2025-06-02T17:25:58.707934Z"
    }
   },
   "outputs": [],
   "source": [
    "import re\n",
    "def extract_sample_size(s):\n",
    "    if isinstance(s, str):\n",
    "        # Find all occurrences of numbers which may include commas.\n",
    "        matches = re.findall(r'\\d[\\d,]*', s)\n",
    "        # Remove commas and convert each match to an integer, then sum them up.\n",
    "        return sum(int(num.replace(',', '')) for num in matches)\n",
    "    else:\n",
    "        return np.nan"
   ]
  },
  {
   "cell_type": "code",
   "execution_count": 21,
   "metadata": {
    "ExecuteTime": {
     "end_time": "2025-06-02T17:25:58.927860Z",
     "start_time": "2025-06-02T17:25:58.877367Z"
    }
   },
   "outputs": [],
   "source": [
    "study_info['N'] = study_info['INITIAL SAMPLE SIZE'].apply(lambda x: extract_sample_size(x))"
   ]
  },
  {
   "cell_type": "code",
   "execution_count": null,
   "metadata": {},
   "outputs": [],
   "source": []
  },
  {
   "cell_type": "code",
   "execution_count": 22,
   "metadata": {
    "ExecuteTime": {
     "end_time": "2025-06-02T17:25:59.285855Z",
     "start_time": "2025-06-02T17:25:59.095384Z"
    }
   },
   "outputs": [],
   "source": [
    "ravar_genes = pd.read_csv(os.path.join(datadir,'RAVAR' ,'gene_fulltable_06112024.txt.entrez'),sep='\\t', low_memory=False,\n",
    "                            usecols=['Gene Symbol', 'Ensembl ID', 'Gene Type', 'CHR', 'Location', 'Reported Trait', 'Trait Label', \n",
    "                                     'Trait Ontology id', 'EFO synonym', 'P-value', 'PMID', 'TRAIT_CODE', 'Entrez'])\n",
    "ravar_genes = ravar_genes[ravar_genes.Entrez.isin(pc_nodes)]\n",
    "#replace '−' with '-'\n",
    "#ravar_genes['P-value'] = ravar_genes['P-value'].apply(lambda x: float(x.replace('−','-')) if type(x) == str else float(x))\n",
    "#ravar_genes['TRAIT_CODE'] = ravar_genes['Trait Ontology id'].apply(lambda x: x.replace(\":\", \"_\") if type(x) == str else x)"
   ]
  },
  {
   "cell_type": "code",
   "execution_count": 23,
   "metadata": {
    "ExecuteTime": {
     "end_time": "2025-06-02T17:25:59.465823Z",
     "start_time": "2025-06-02T17:25:59.463244Z"
    }
   },
   "outputs": [
    {
     "data": {
      "text/plain": [
       "(75799, 13)"
      ]
     },
     "execution_count": 23,
     "metadata": {},
     "output_type": "execute_result"
    }
   ],
   "source": [
    "ravar_genes.shape"
   ]
  },
  {
   "cell_type": "markdown",
   "metadata": {},
   "source": [
    "## Filter RAVAR"
   ]
  },
  {
   "cell_type": "code",
   "execution_count": 24,
   "metadata": {
    "ExecuteTime": {
     "end_time": "2025-06-02T17:25:59.713528Z",
     "start_time": "2025-06-02T17:25:59.639504Z"
    }
   },
   "outputs": [],
   "source": [
    "# remove any with 'Exclude' annotation\n",
    "rv_study_info = pd.read_csv(os.path.join(datadir,'RAVAR', 'rv_study_info_cleaned_with_manual_mapped_Mar28.tsv'), sep='\\t', index_col=0)\n",
    "rv_study_info = rv_study_info[(~rv_study_info.COHORT.isin(['Exclude', 'Exlcude', 'Exlclude', 'Review'])) & (rv_study_info['Classification']!='Exclude')]"
   ]
  },
  {
   "cell_type": "code",
   "execution_count": 25,
   "metadata": {
    "ExecuteTime": {
     "end_time": "2025-06-02T17:25:59.931829Z",
     "start_time": "2025-06-02T17:25:59.897347Z"
    }
   },
   "outputs": [
    {
     "name": "stdout",
     "output_type": "stream",
     "text": [
      "(75799, 13)\n",
      "(62020, 15)\n"
     ]
    }
   ],
   "source": [
    "print(ravar_genes.shape)\n",
    "ravar_genes = ravar_genes.merge(rv_study_info.loc[:, ('Reported Trait', 'PMID', 'MAPPED_TRAIT_CLEAN', 'TRAIT_CODE_CLEAN')], \n",
    "                                on=['Reported Trait', 'PMID'], how='inner')\n",
    "print(ravar_genes.shape)\n",
    "study_counts = ravar_genes.groupby(['Reported Trait', 'PMID']).Entrez.nunique().reset_index()\n",
    "study_counts = study_counts.rename(columns={'Entrez': 'GeneCount'})"
   ]
  },
  {
   "cell_type": "code",
   "execution_count": 26,
   "metadata": {
    "ExecuteTime": {
     "end_time": "2025-06-02T17:26:00.146181Z",
     "start_time": "2025-06-02T17:26:00.116864Z"
    }
   },
   "outputs": [
    {
     "name": "stdout",
     "output_type": "stream",
     "text": [
      "(62020, 15)\n",
      "(60374, 16)\n"
     ]
    }
   ],
   "source": [
    "print(ravar_genes.shape)\n",
    "ravar_genes = ravar_genes.merge(study_counts[study_counts.GeneCount >= 3], on=['Reported Trait', 'PMID'])\n",
    "rv_study_info = rv_study_info.merge(study_counts, on = ['Reported Trait', 'PMID'])\n",
    "print(ravar_genes.shape)"
   ]
  },
  {
   "cell_type": "code",
   "execution_count": 27,
   "metadata": {
    "ExecuteTime": {
     "end_time": "2025-06-02T17:26:00.335455Z",
     "start_time": "2025-06-02T17:26:00.331592Z"
    }
   },
   "outputs": [
    {
     "data": {
      "text/plain": [
       "1121"
      ]
     },
     "execution_count": 27,
     "metadata": {},
     "output_type": "execute_result"
    }
   ],
   "source": [
    "rv_study_info = rv_study_info[rv_study_info.GeneCount>= 3]\n",
    "rv_start= rv_study_info['TRAIT_CODE_CLEAN'].nunique()\n",
    "rv_start"
   ]
  },
  {
   "cell_type": "markdown",
   "metadata": {
    "ExecuteTime": {
     "end_time": "2025-03-13T22:14:16.422532Z",
     "start_time": "2025-03-13T22:14:16.414681Z"
    }
   },
   "source": [
    "### Embed the reported traits and mapped traits"
   ]
  },
  {
   "cell_type": "code",
   "execution_count": 28,
   "metadata": {
    "ExecuteTime": {
     "end_time": "2025-06-02T17:26:00.526476Z",
     "start_time": "2025-06-02T17:26:00.523853Z"
    }
   },
   "outputs": [],
   "source": [
    "# identify and expand acronyms\n",
    "import re\n",
    "def extract_acronyms(strings):\n",
    "    \"\"\"\n",
    "    Extract acronyms from a list of strings.\n",
    "    Acronyms are identified as words that consist entirely of uppercase letters.\n",
    "    \n",
    "    Args:\n",
    "        strings (list of str): List of strings to search for acronyms.\n",
    "    \n",
    "    Returns:\n",
    "        set: A set of unique acronyms found across the provided strings.\n",
    "    \"\"\"\n",
    "    # Using \\b[A-Z]{2,}\\b to match words with 2 or more uppercase letters.\n",
    "    # Adjust the {2,} if you also want to capture single-letter acronyms.\n",
    "    acronym_pattern = re.compile(r'\\b[A-Z]{2,}\\b')\n",
    "    acronyms = set()\n",
    "    for text in strings:\n",
    "        found = acronym_pattern.findall(text)\n",
    "        acronyms.update(found)\n",
    "    return acronyms"
   ]
  },
  {
   "cell_type": "code",
   "execution_count": 29,
   "metadata": {
    "ExecuteTime": {
     "end_time": "2025-06-02T17:26:00.736485Z",
     "start_time": "2025-06-02T17:26:00.729382Z"
    },
    "code_folding": [],
    "run_control": {
     "marked": false
    }
   },
   "outputs": [],
   "source": [
    "common_acronyms = {\n",
    "    'LDL': 'low density lipoprotein',\n",
    "    'HDL': 'high density lipoprotein',\n",
    "    'BMI': 'body mass index',\n",
    "    'VLDL': 'very low density lipoprotein',\n",
    "    'IL': 'interleukin',\n",
    "    'IDL': 'intermediate density lipoprotein',\n",
    "    'FVC': 'forced vital capacity',\n",
    "    'FEV': 'forced expiratory volume',\n",
    "    'COVID': 'coronavirus',\n",
    "    'HIV': 'human immunodeficiency virus',\n",
    "    'SARS': 'severe acute respiratory syndrome',\n",
    "    'APOE': 'apolipoprotein E',\n",
    "    'APOB': 'apolipoprotein B',\n",
    "    'APOA': 'apolipoprotein A',\n",
    "}\n",
    "\n",
    "acronym_expansions = {\n",
    "    'ldl': 'low density lipoprotein',\n",
    "    'hdl': 'high density lipoprotein',\n",
    "    \"FAW3\": 'omega-3 polyunsaturated fatty acid',\n",
    "    \"FAW6\": 'omega-6 polyunsaturated fatty acid',\n",
    "    \"FEC\": \"Forced Expiratory volume\",\n",
    "    \"FEV\": \"Forced Expiratory volume\",\n",
    "    \"HIV\": \"Human Immunodeficiency Virus\",\n",
    "    \"IV\": \"4\",\n",
    "    \"LDH\": \"lumbar disc herniation\",\n",
    "    \"NHDL\": 'non High density ipoprotein',\n",
    "    \"NSAID\": 'nonsteroidal anti inflammatory drug',\n",
    "    \"ACACE\": \"Acetoacetate\",                                \n",
    "    \"ACE\": \"Acetate\",             \n",
    "    \"ALA\": \"Alanine\",                       # An essential omega-3 fatty acid\n",
    "    \"ALB\": \"Albumin\",                                    # Main blood protein\n",
    "    \"APOB\": \"Apolipoprotein B\",                           # Major protein of LDL particles\n",
    "    \"APOC\": \"Apolipoprotein C\",                           # Protein component of several lipoproteins\n",
    "    \"BMI\": \"Body Mass Index\",                            # Anthropometric measure\n",
    "    \"BP\": \"Blood Pressure\",                              # Cardiovascular measure\n",
    "    \"CHOLA\": \"Cholesterol\",                              # Cholesterol level (a general measure)\n",
    "    \"CIT\": \"Citrate\",                                    # Metabolite in the citric acid cycle\n",
    "    \"CRP\": \"C-Reactive Protein\",                         # Inflammatory marker\n",
    "    \"DHA\": \"Docosahexaenoic Acid\",                       # An omega-3 fatty acid important in brain health\n",
    "    \"DISTRIB\": \"Distribution\",                           # Typically referring to a dispersion measure (e.g. cell size distribution)\n",
    "    \"EGFR\": \"Estimated Glomerular Filtration Rate\",      # Kidney function measure\n",
    "    \"FRAC\": \"Fraction\",                                  # Proportion or fractional measure of a component\n",
    "    \"FVC\": \"Forced Vital Capacity\",                      # Lung function measure\n",
    "    \"GLN\": \"Glutamine\",                                  # An amino acid\n",
    "    \"GLOL\": \"Glycerol\",                             # Summary measure across lipid traits\n",
    "    \"GLY\": \"Glycine\",                                    # An amino acid\n",
    "    \"GP\": \"Glycoproteins\",                        # Inflammatory biomarker (often abbreviated GlycA)\n",
    "    \"HDL\": \"High Density Lipoprotein\",                   # ‘Good’ cholesterol carrier\n",
    "    \"HDLC\": \"High Density Lipoprotein Cholesterol\",      # Cholesterol within HDL particles\n",
    "    \"HEEL\": \"Heel Bone Mineral Density\",                 # Bone density measurement (often via heel ultrasound)\n",
    "    \"HEIGHT\": \"Height\",                                  # Stature\n",
    "    \"HIS\": \"Histidine\",                                  # An essential amino acid\n",
    "    \"IDL\": \"Intermediate Density Lipoprotein\",           # A lipoprotein class between VLDL and LDL\n",
    "    \"IGF\": \"Insulin like Growth Factor\",                 # A hormone linked to growth processes\n",
    "    \"III\": \"Type III\",                                  # Often denotes a subclass or type (context dependent)\n",
    "    \"INS\": \"Insulin\",                                    # Hormone regulating blood sugar\n",
    "    \"LA\": \"Linoleic Acid\",                               # An essential omega-6 fatty acid\n",
    "    \"LDL\": \"Low Density Lipoprotein\",                    # ‘Bad’ cholesterol carrier\n",
    "    \"LDLC\": \"Low Density Lipoprotein Cholesterol\",       # Cholesterol within LDL particles\n",
    "    \"LIGHT\": \"Light Scatter\",                            # Measure from flow cytometry (reflects cell granularity)\n",
    "    \"MUFA\": \"Monounsaturated Fatty Acids\",               # Type of dietary fat\n",
    "    \"PC\": \"Phosphatidylcholine\",                         # A major phospholipid in cell membranes\n",
    "    \"PHE\": \"Phenylalanine\",                              # An amino acid\n",
    "    \"PUFA\": \"Polyunsaturated Fatty Acids\",              # Type of dietary fat\n",
    "    \"PYR\": \"Pyruvate\",                                   # Key metabolite in energy metabolism\n",
    "    \"RBC\": \"Red Blood Cell Count\",                       # Red blood cells count\n",
    "    \"SCZD\": \"Schizophrenia\",                             # Psychiatric disorder trait\n",
    "    \"SHBG\": \"Sex Hormone-Binding Globulin\",              # Protein that binds sex hormones\n",
    "    \"SPHERED\": \"Spherical Diameter\",                     # Typically refers to the diameter of lipoprotein particles\n",
    "    \"SYST\": \"Systolic Blood Pressure\",                   # Upper value in blood pressure measurement\n",
    "    \"TOTCHO\": \"Total Cholines\",                       # Overall cholesterol level\n",
    "    \"TOTCHOL\": \"Total Cholesterol\",                      # Overall cholesterol level\n",
    "    \"TOTPG\": \"Total Phosphoglycerides\",                  # Sum of phosphoglyceride species\n",
    "    \"TSCORE\": \"T-Score\",                                 # Bone density T-score\n",
    "    \"TYR\": \"Tyrosine\",                                   # An amino acid\n",
    "    \"VAL\": \"Valine\",                                     # An amino acid\n",
    "    \"VIT\": \"Vitamin (unspecified)\",                     # Vitamin level (exact vitamin may vary by context)\n",
    "    \"VLDL\": \"Very Low Density Lipoprotein\",              # A lipoprotein class rich in triglycerides\n",
    "    \"VLDLPL\": \"Very low density lipoprotein Phospholipids\",                      # Phospholipid content in VLDL particles\n",
    "    \"VLDLTG\": \"Very low density lipoprotein Triglycerides\",                      # Triglyceride content in VLDL particles\n",
    "    \"VOL\": \"Volume\",                                     # A generic volume measure (often of cells or particles)\n",
    "    \"Whr\": \"Waist Hip Ratio\",\n",
    "    \"whr\": \"Waist Hip Ratio\",\n",
    "    \"WHR\": \"Waist Hip Ratio\",                            # Measure of body fat distribution\n",
    "    \"XL\": \"Extra Large\",                                # Refers to an extra-large size category (e.g., lipoprotein particles)\n",
    "    \"XS\": \"Extra Small\"                                 # Refers to an extra-small size category (e.g., lipoprotein particles)\n",
    "}\n",
    "\n",
    "all_acronyms = {**common_acronyms, **acronym_expansions}"
   ]
  },
  {
   "cell_type": "code",
   "execution_count": 30,
   "metadata": {
    "ExecuteTime": {
     "end_time": "2025-06-02T17:26:00.925621Z",
     "start_time": "2025-06-02T17:26:00.922842Z"
    }
   },
   "outputs": [],
   "source": [
    "def replace_acronyms(text, acronym_dict):\n",
    "    \"\"\"\n",
    "    Replace acronyms in a string with their expansions followed by the original acronym in parentheses.\n",
    "    \n",
    "    Args:\n",
    "        text (str): The input string containing acronyms.\n",
    "        acronym_dict (dict): A dictionary where keys are acronyms (str) and values are the expansions (str).\n",
    "    \n",
    "    Returns:\n",
    "        str: The text with acronyms replaced by their expansion and the original acronym in parentheses.\n",
    "    \"\"\"\n",
    "    # This regex matches words consisting of at least two uppercase letters.\n",
    "    acronym_pattern = re.compile(r'[A-Z]{2,}')\n",
    "    \n",
    "    def replacer(match):\n",
    "        word = match.group(0)\n",
    "        if word in acronym_dict:\n",
    "            # Return the expansion with the original acronym in parentheses.\n",
    "            return f\"{acronym_dict[word]} ({word})\"\n",
    "        else:\n",
    "            return word\n",
    "    \n",
    "    return acronym_pattern.sub(replacer, text)"
   ]
  },
  {
   "cell_type": "markdown",
   "metadata": {},
   "source": [
    "Rare variants had no exclusions for UKB"
   ]
  },
  {
   "cell_type": "code",
   "execution_count": 31,
   "metadata": {
    "ExecuteTime": {
     "end_time": "2025-06-02T17:26:01.115706Z",
     "start_time": "2025-06-02T17:26:01.112361Z"
    }
   },
   "outputs": [
    {
     "data": {
      "text/plain": [
       "Index(['Reported Trait', 'Trait Label', 'Trait Ontology id', 'PMID', 'COHORT',\n",
       "       'N', 'Ancestry', 'Classification', 'Notes', 'rv_idx', 'Trait', 'Mapped',\n",
       "       'TraitExp', 'MappedExp', 'MAPPED_TRAIT_CLEAN', 'TRAIT_CODE_CLEAN',\n",
       "       'GeneCount'],\n",
       "      dtype='object')"
      ]
     },
     "execution_count": 31,
     "metadata": {},
     "output_type": "execute_result"
    }
   ],
   "source": [
    "rv_study_info.columns"
   ]
  },
  {
   "cell_type": "code",
   "execution_count": 32,
   "metadata": {
    "ExecuteTime": {
     "end_time": "2025-06-02T17:26:01.306248Z",
     "start_time": "2025-06-02T17:26:01.300902Z"
    }
   },
   "outputs": [],
   "source": [
    "rv_study_info['MappedCleanExp'] = rv_study_info['MAPPED_TRAIT_CLEAN'].apply(lambda x: replace_acronyms(x, acronym_expansions))"
   ]
  },
  {
   "cell_type": "code",
   "execution_count": 33,
   "metadata": {
    "ExecuteTime": {
     "end_time": "2025-06-02T17:26:11.816280Z",
     "start_time": "2025-06-02T17:26:01.499144Z"
    }
   },
   "outputs": [
    {
     "data": {
      "text/plain": [
       "array(['SpiroMeta,CHARGE', 'WTCCC', 'TOPMed', 'Mixed', 'UKB', 'ADNI',\n",
       "       'MyCode', 'WHI', 'ARIC', 'Meta', 'Finnish', 'COPDGene',\n",
       "       'SCOOP,INTERVAL', 'Study36038634', 'KARE', 'Psoriasis',\n",
       "       'Faroe Islands', 'GAW19', 'PDAY', 'SCZD', 'NHLBI-ESP,CHARGE',\n",
       "       'AGP', 'HyperGEN', 'GIANT', 'Nevada', 'Study30140000', 'FHS',\n",
       "       'Qatar', 'NCRAD', 'SLSJ'], dtype=object)"
      ]
     },
     "execution_count": 33,
     "metadata": {},
     "output_type": "execute_result"
    }
   ],
   "source": [
    "reported = model.encode(rv_study_info['TraitExp'].values, batch_size=32)\n",
    "labeled = model.encode(rv_study_info['MappedCleanExp'].values, batch_size=32)\n",
    "cosines = cosine_similarity(reported, labeled)\n",
    "rv_study_info = rv_study_info.assign(Cosine=[cosines[i,i] for i in range(len(reported))])\n",
    "rv_study_info.COHORT.unique()"
   ]
  },
  {
   "cell_type": "markdown",
   "metadata": {},
   "source": [
    "### Filter studies"
   ]
  },
  {
   "cell_type": "code",
   "execution_count": 34,
   "metadata": {
    "ExecuteTime": {
     "end_time": "2025-06-02T17:26:12.029745Z",
     "start_time": "2025-06-02T17:26:12.024387Z"
    }
   },
   "outputs": [],
   "source": [
    "def prioritize_rv_studies(ravar_genes, trait, study_info, keep_studies, cosine_th=0.8, exclude=['UKB']):\n",
    "    study_subset = study_info[study_info.PMID.isin(ravar_genes[(ravar_genes.TRAIT_CODE_CLEAN==trait) & (ravar_genes.PMID.isin(keep_studies))].PMID.unique())]\n",
    "    # filter\n",
    "    study_subset = study_subset[~study_subset.isin(['Exclude', 'Review'])]\n",
    "    study_subset = study_subset.sort_values('Cosine', ascending=False)\n",
    "    if len(study_subset) > 1:\n",
    "        cosine = prioritize_by_cosine(study_subset, th=0.8)\n",
    "        cosine = prioritize_by_cohort(cosine, exclude=exclude)\n",
    "        if len(cosine) == 1:\n",
    "            return cosine.PMID.values[0]\n",
    "        elif len(cosine) > 1:\n",
    "            # return the best match/largest\n",
    "            return cosine.sort_values(by=['Cosine','N' ], ascending=False).PMID.values[0]\n",
    "        else:\n",
    "            # none with \n",
    "            return np.nan\n",
    "    elif len(study_subset) == 0: \n",
    "        return np.nan\n",
    "    else:\n",
    "        return study_subset.PMID.values[0]\n",
    "\n",
    "def prioritize_by_cohort(study_subset, exclude=['UKB']):\n",
    "    if len(exclude) == 0:\n",
    "        return study_subset\n",
    "    excluded = study_subset[~study_subset.COHORT.isin(exclude)]\n",
    "    if len(excluded) > 0:\n",
    "        return excluded\n",
    "    else:\n",
    "        return study_subset\n",
    "    \n",
    "\n",
    "def prioritize_by_cosine(study_subset, th=0.8):\n",
    "    while th > -0.1:\n",
    "        high_cosine = study_subset[study_subset.Cosine>th]\n",
    "        if len(high_cosine) >= 1:\n",
    "            non_found = False\n",
    "            return high_cosine\n",
    "        else:\n",
    "            th -= 0.1\n",
    "    return high_cosine"
   ]
  },
  {
   "cell_type": "code",
   "execution_count": 35,
   "metadata": {
    "ExecuteTime": {
     "end_time": "2025-06-02T17:26:12.221574Z",
     "start_time": "2025-06-02T17:26:12.218712Z"
    }
   },
   "outputs": [
    {
     "data": {
      "text/plain": [
       "1121"
      ]
     },
     "execution_count": 35,
     "metadata": {},
     "output_type": "execute_result"
    }
   ],
   "source": [
    "rv_study_info['TRAIT_CODE_CLEAN'].nunique()"
   ]
  },
  {
   "cell_type": "code",
   "execution_count": 36,
   "metadata": {
    "ExecuteTime": {
     "end_time": "2025-06-02T17:26:30.776348Z",
     "start_time": "2025-06-02T17:26:21.476125Z"
    }
   },
   "outputs": [],
   "source": [
    "multi_select_rv = {}\n",
    "for t in rv_study_info['TRAIT_CODE_CLEAN'].unique():\n",
    "    t = t.replace(':', '_')\n",
    "    multi_select_rv[t] = prioritize_rv_studies(ravar_genes, t, rv_study_info, exclude=[],\n",
    "                                                      keep_studies=rv_study_info.PMID.values)"
   ]
  },
  {
   "cell_type": "code",
   "execution_count": 37,
   "metadata": {
    "ExecuteTime": {
     "end_time": "2025-06-02T17:26:30.986916Z",
     "start_time": "2025-06-02T17:26:30.984108Z"
    }
   },
   "outputs": [
    {
     "data": {
      "text/plain": [
       "1121"
      ]
     },
     "execution_count": 37,
     "metadata": {},
     "output_type": "execute_result"
    }
   ],
   "source": [
    "rv_start = len([ x for x in multi_select_rv.values() if x > 0])\n",
    "rv_start"
   ]
  },
  {
   "cell_type": "code",
   "execution_count": 38,
   "metadata": {
    "ExecuteTime": {
     "end_time": "2025-06-02T17:26:31.182548Z",
     "start_time": "2025-06-02T17:26:31.179907Z"
    }
   },
   "outputs": [
    {
     "data": {
      "text/plain": [
       "37262146"
      ]
     },
     "execution_count": 38,
     "metadata": {},
     "output_type": "execute_result"
    }
   ],
   "source": [
    "multi_select_rv[azd]"
   ]
  },
  {
   "cell_type": "markdown",
   "metadata": {},
   "source": [
    "## Filter GWAS Catalog\n",
    "\n",
    "Quality of trait match (See trait matching)\n",
    "* Presence in both databases (but not in the UKB subset)\n",
    "* Completeness of metadata (size, ancestry, h2, prevalence)\n",
    "* Availability of summary statistics\n",
    "* Population Size"
   ]
  },
  {
   "cell_type": "markdown",
   "metadata": {},
   "source": [
    "### Initial filtering"
   ]
  },
  {
   "cell_type": "markdown",
   "metadata": {},
   "source": [
    "Without UKB filtering"
   ]
  },
  {
   "cell_type": "code",
   "execution_count": 39,
   "metadata": {
    "ExecuteTime": {
     "end_time": "2025-06-02T17:26:31.375607Z",
     "start_time": "2025-06-02T17:26:31.373593Z"
    }
   },
   "outputs": [
    {
     "name": "stdout",
     "output_type": "stream",
     "text": [
      "(19450, 30)\n"
     ]
    }
   ],
   "source": [
    "print(study_info.shape)"
   ]
  },
  {
   "cell_type": "code",
   "execution_count": 40,
   "metadata": {
    "ExecuteTime": {
     "end_time": "2025-06-02T17:26:31.583704Z",
     "start_time": "2025-06-02T17:26:31.565736Z"
    }
   },
   "outputs": [
    {
     "data": {
      "text/plain": [
       "(19450, 30)"
      ]
     },
     "execution_count": 40,
     "metadata": {},
     "output_type": "execute_result"
    }
   ],
   "source": [
    "study_info.drop_duplicates(subset=['DISEASE/TRAIT', 'STUDY ACCESSION', 'TRAIT_CODE_CLEAN']).shape"
   ]
  },
  {
   "cell_type": "code",
   "execution_count": 41,
   "metadata": {
    "ExecuteTime": {
     "end_time": "2025-06-02T17:26:31.894033Z",
     "start_time": "2025-06-02T17:26:31.776559Z"
    }
   },
   "outputs": [],
   "source": [
    "geneCounts = gwas_genes.groupby(['DISEASE/TRAIT', 'STUDY ACCESSION', 'TRAIT_CODE_CLEAN']).MAPPED_GENE.nunique().reset_index()"
   ]
  },
  {
   "cell_type": "code",
   "execution_count": 42,
   "metadata": {
    "ExecuteTime": {
     "end_time": "2025-06-02T17:26:32.109671Z",
     "start_time": "2025-06-02T17:26:32.086500Z"
    }
   },
   "outputs": [],
   "source": [
    "study_info = study_info.merge(geneCounts, on=['DISEASE/TRAIT', 'STUDY ACCESSION', 'TRAIT_CODE_CLEAN'], how='left')"
   ]
  },
  {
   "cell_type": "code",
   "execution_count": 43,
   "metadata": {
    "ExecuteTime": {
     "end_time": "2025-06-02T17:26:32.306663Z",
     "start_time": "2025-06-02T17:26:32.301076Z"
    }
   },
   "outputs": [],
   "source": [
    "study_info = study_info[study_info.MAPPED_GENE >= 3]"
   ]
  },
  {
   "cell_type": "code",
   "execution_count": 44,
   "metadata": {
    "ExecuteTime": {
     "end_time": "2025-06-02T17:26:32.493722Z",
     "start_time": "2025-06-02T17:26:32.491114Z"
    }
   },
   "outputs": [
    {
     "data": {
      "text/plain": [
       "(7583, 31)"
      ]
     },
     "execution_count": 44,
     "metadata": {},
     "output_type": "execute_result"
    }
   ],
   "source": [
    "study_info.shape"
   ]
  },
  {
   "cell_type": "code",
   "execution_count": 45,
   "metadata": {
    "ExecuteTime": {
     "end_time": "2025-06-02T17:26:32.682123Z",
     "start_time": "2025-06-02T17:26:32.679429Z"
    }
   },
   "outputs": [
    {
     "data": {
      "text/plain": [
       "Index(['DATE ADDED TO CATALOG', 'PUBMED ID', 'FIRST AUTHOR', 'DATE', 'JOURNAL',\n",
       "       'LINK', 'STUDY', 'DISEASE/TRAIT', 'INITIAL SAMPLE SIZE',\n",
       "       'REPLICATION SAMPLE SIZE', 'PLATFORM [SNPS PASSING QC]',\n",
       "       'ASSOCIATION COUNT', 'MAPPED_TRAIT', 'MAPPED_TRAIT_URI',\n",
       "       'STUDY ACCESSION', 'GENOTYPING TECHNOLOGY', 'SUBMISSION DATE',\n",
       "       'STATISTICAL MODEL', 'BACKGROUND TRAIT', 'MAPPED BACKGROUND TRAIT',\n",
       "       'MAPPED BACKGROUND TRAIT URI', 'COHORT', 'FULL SUMMARY STATISTICS',\n",
       "       'SUMMARY STATS LOCATION', 'GXE', 'TraitExp', 'MappedExp',\n",
       "       'MAPPED_TRAIT_CLEAN', 'TRAIT_CODE_CLEAN', 'N', 'MAPPED_GENE'],\n",
       "      dtype='object')"
      ]
     },
     "execution_count": 45,
     "metadata": {},
     "output_type": "execute_result"
    }
   ],
   "source": [
    "study_info.columns"
   ]
  },
  {
   "cell_type": "code",
   "execution_count": 46,
   "metadata": {
    "ExecuteTime": {
     "end_time": "2025-06-02T17:26:32.879472Z",
     "start_time": "2025-06-02T17:26:32.866874Z"
    }
   },
   "outputs": [],
   "source": [
    "study_info['MappedCleanExp'] = study_info['MAPPED_TRAIT_CLEAN'].apply(lambda x: replace_acronyms(x, all_acronyms))"
   ]
  },
  {
   "cell_type": "markdown",
   "metadata": {},
   "source": [
    "### Embed the traits and mapped traits"
   ]
  },
  {
   "cell_type": "markdown",
   "metadata": {},
   "source": [
    "Without UKB filtering"
   ]
  },
  {
   "cell_type": "code",
   "execution_count": 47,
   "metadata": {
    "ExecuteTime": {
     "end_time": "2025-06-02T17:27:04.706803Z",
     "start_time": "2025-06-02T17:26:33.065924Z"
    }
   },
   "outputs": [],
   "source": [
    "trait = model.encode(study_info['TraitExp'].values, batch_size=32)\n",
    "mapped = model.encode(study_info['MappedCleanExp'].values, batch_size=32)\n",
    "cosines = cosine_similarity(trait, mapped)\n",
    "study_info = study_info.assign(Cosine=[cosines[i,i] for i in range(len(trait))])\n",
    "study_info = study_info.drop_duplicates()"
   ]
  },
  {
   "cell_type": "code",
   "execution_count": 48,
   "metadata": {
    "ExecuteTime": {
     "end_time": "2025-06-02T17:27:05.665610Z",
     "start_time": "2025-06-02T17:27:04.908009Z"
    }
   },
   "outputs": [
    {
     "data": {
      "image/png": "[encoded data removed]",
      "text/plain": [
       "<Figure size 640x480 with 1 Axes>"
      ]
     },
     "metadata": {},
     "output_type": "display_data"
    }
   ],
   "source": [
    "sns.scatterplot(study_info, x='N', y='MAPPED_GENE')\n",
    "plt.xscale('log')\n",
    "plt.yscale('log')"
   ]
  },
  {
   "cell_type": "code",
   "execution_count": 49,
   "metadata": {
    "ExecuteTime": {
     "end_time": "2025-06-02T17:27:06.008539Z",
     "start_time": "2025-06-02T17:27:05.853912Z"
    }
   },
   "outputs": [
    {
     "ename": "NameError",
     "evalue": "name 'shared_cv' is not defined",
     "output_type": "error",
     "traceback": [
      "\u001b[0;31m---------------------------------------------------------------------------\u001b[0m",
      "\u001b[0;31mNameError\u001b[0m                                 Traceback (most recent call last)",
      "Cell \u001b[0;32mIn[49], line 1\u001b[0m\n\u001b[0;32m----> 1\u001b[0m sns\u001b[38;5;241m.\u001b[39mscatterplot(\u001b[43mshared_cv\u001b[49m, x\u001b[38;5;241m=\u001b[39m\u001b[38;5;124m'\u001b[39m\u001b[38;5;124mN\u001b[39m\u001b[38;5;124m'\u001b[39m, y\u001b[38;5;241m=\u001b[39m\u001b[38;5;124m'\u001b[39m\u001b[38;5;124mMAPPED_GENE\u001b[39m\u001b[38;5;124m'\u001b[39m)\n\u001b[1;32m      2\u001b[0m plt\u001b[38;5;241m.\u001b[39mxscale(\u001b[38;5;124m'\u001b[39m\u001b[38;5;124mlog\u001b[39m\u001b[38;5;124m'\u001b[39m)\n\u001b[1;32m      3\u001b[0m plt\u001b[38;5;241m.\u001b[39myscale(\u001b[38;5;124m'\u001b[39m\u001b[38;5;124mlog\u001b[39m\u001b[38;5;124m'\u001b[39m)\n",
      "\u001b[0;31mNameError\u001b[0m: name 'shared_cv' is not defined"
     ]
    }
   ],
   "source": [
    "sns.scatterplot(shared_cv, x='N', y='MAPPED_GENE')\n",
    "plt.xscale('log')\n",
    "plt.yscale('log')"
   ]
  },
  {
   "cell_type": "code",
   "execution_count": 51,
   "metadata": {
    "ExecuteTime": {
     "end_time": "2025-06-02T17:27:13.627281Z",
     "start_time": "2025-06-02T17:27:13.613074Z"
    },
    "code_folding": [
     42,
     69,
     73
    ]
   },
   "outputs": [],
   "source": [
    "def select_top_gwas_study(gwas_data, trait, study_info, keep_studies, exclude=['UKB', 'UKBB']):\n",
    "    study_info['StudyTrait'] = study_info['STUDY ACCESSION'] + '_' + study_info['TRAIT_CODE_CLEAN']\n",
    "    study_subset = study_info[study_info['STUDY ACCESSION'].isin(gwas_data[(gwas_data.TRAIT_CODE_CLEAN==trait) & (gwas_data['STUDY ACCESSION'].isin(keep_studies))]['STUDY ACCESSION'])]\n",
    "    study_subset = study_subset.dropna(subset=['N'])\n",
    "    #print(len(study_subset))\n",
    "    \n",
    "    if len(study_subset) > 1:\n",
    "        study_subset = prioritize_by_cosine(study_subset, th=0.8)\n",
    "        if len(study_subset) > 1:\n",
    "            study_subset = prioritize_by_cohort(study_subset, exclude=exclude)\n",
    "            if len(study_subset) > 1:\n",
    "                study_subset = prioritize_by_n(study_subset)\n",
    "                if len(study_subset) > 1:\n",
    "                    study_subset = prioritize_by_sumstats(study_subset)\n",
    "                    if len(study_subset) > 1:\n",
    "                        study_subset = prioritize_by_cohort(study_subset)\n",
    "                        if len(study_subset) > 1:\n",
    "                            return select_top_n(study_subset)\n",
    "                        else:\n",
    "                            return study_subset['STUDY ACCESSION'].values[0]\n",
    "                    else:\n",
    "                        return study_subset['STUDY ACCESSION'].values[0]\n",
    "                else:\n",
    "                    return study_subset['STUDY ACCESSION'].values[0]\n",
    "            else:\n",
    "                return study_subset['STUDY ACCESSION'].values[0]\n",
    "        else:\n",
    "            return study_subset['STUDY ACCESSION'].values[0]\n",
    "    elif len(study_subset) == 0:\n",
    "        #print('No studies with N information')\n",
    "        return np.nan\n",
    "    else:\n",
    "        return study_subset['STUDY ACCESSION'].values[0]\n",
    "\n",
    "\n",
    "def prioritize_by_cosine(study_subset, th=0.8):\n",
    "    while th > -0.1:\n",
    "        high_cosine = study_subset[study_subset.Cosine>th]\n",
    "        if len(high_cosine) >= 1:\n",
    "            non_found = False\n",
    "            return high_cosine\n",
    "        else:\n",
    "            th -= 0.1\n",
    "    return high_cosine\n",
    "    \n",
    "    \n",
    "def prioritize_by_sumstats(study_subset):\n",
    "    with_sumstats = study_subset[~study_subset['SUMMARY STATS LOCATION'].isna()]\n",
    "    if len(with_sumstats) == 0:\n",
    "        return study_subset\n",
    "    else:\n",
    "        return with_sumstats\n",
    "\n",
    "def prioritize_by_n(study_subset):\n",
    "    high_n = study_subset[study_subset.N > 100000]\n",
    "    if len(high_n) == 0:\n",
    "        high_n = study_subset[study_subset.N > 50000]\n",
    "        if len(high_n) == 0:\n",
    "            return study_subset\n",
    "        else:\n",
    "            return high_n\n",
    "    else:\n",
    "        return high_n\n",
    "    \n",
    "\n",
    "def prioritize_by_cohort(study_subset, exclude=[]):\n",
    "    if len(exclude) > 0:\n",
    "        excluded = study_subset[~study_subset.COHORT.isin(exclude)]\n",
    "        if len(excluded) > 0:\n",
    "            return excluded\n",
    "        else:\n",
    "            return study_subset\n",
    "    else:\n",
    "        with_cohort = study_subset[~study_subset.COHORT.isna()]\n",
    "        if len(with_cohort) == 0:\n",
    "            return study_subset\n",
    "        else:\n",
    "            return with_cohort\n",
    "        \n",
    "\n",
    "def select_top_n(study_subset):\n",
    "    return study_subset.sort_values('N', ascending=False)['STUDY ACCESSION'].values[0]\n",
    "\n",
    "\n",
    "def prioritize_gwas_studies(gwas_data, trait, keep_studies, study_info, n=5, verbose=True):\n",
    "    study_info['StudyTrait'] = study_info['STUDY ACCESSION'] + '_' + study_info['TRAIT_CODE']\n",
    "    study_subset = study_info[study_info['STUDY ACCESSION'].isin(gwas_data[gwas_data.TRAIT_CODE==trait]['STUDY ACCESSION'])]\n",
    "    \n",
    "    study_subset = study_subset[study_subset['StudyTrait'].isin(keep_studies)]\n",
    "    initial_count = len(study_subset)\n",
    "    study_subset = study_subset.dropna(subset=['N'])\n",
    "\n",
    "    out_studies = []\n",
    "    if len(study_subset) > n:\n",
    "        # remove those with background traits\n",
    "        study_subset = study_subset[study_subset['MAPPED BACKGROUND TRAIT URI'].isna()]\n",
    "        if len(study_subset) > n:\n",
    "            #priortize those with summary stats available\n",
    "            if len(study_subset[~study_subset['SUMMARY STATS LOCATION'].isna()]) > n:\n",
    "                study_subset = study_subset[~study_subset['SUMMARY STATS LOCATION'].isna()]\n",
    "            else:\n",
    "                out_studies += list(study_subset[~study_subset['SUMMARY STATS LOCATION'].isna()].drop_duplicates(subset=['COHORTID'])['STUDY ACCESSION'].values)\n",
    "                n -= len(out_studies)\n",
    "                study_subset = study_subset[study_subset['SUMMARY STATS LOCATION'].isna()]\n",
    "            # then sort by population size.\n",
    "            study_subset = study_subset.sort_values(['N', 'ASSOCIATION COUNT'], ascending=False)\n",
    "            # then select by cohort\n",
    "            has_cohort = study_subset[~study_subset.COHORT.isna()]\n",
    "            keep_cohort = has_cohort.drop_duplicates(subset='COHORTID', keep='first').drop_duplicates(subset='DATE ADDED TO CATALOG')\n",
    "            if len(keep_cohort) >= n:\n",
    "                out_studies += list(keep_cohort['STUDY ACCESSION'].values[0:n])\n",
    "            else:\n",
    "                out_studies += list(keep_cohort['STUDY ACCESSION'].values)\n",
    "                n = n - len(keep_cohort)\n",
    "                out_studies += list(study_subset[study_subset.COHORT.isna()]['STUDY ACCESSION'].values[0:n])\n",
    "        else:\n",
    "            out_studies += list(study_subset['STUDY ACCESSION'].values)\n",
    "    else:\n",
    "        study_subset = study_subset.sort_values(['N', 'ASSOCIATION COUNT'], ascending=False)\n",
    "        keep_cohort = study_subset.drop_duplicates(subset='COHORTID', keep='first').drop_duplicates(subset='DATE ADDED TO CATALOG')\n",
    "        out_studies += list(keep_cohort['STUDY ACCESSION'].values)\n",
    "    if verbose:\n",
    "        print(trait, initial_count, len(out_studies))\n",
    "    return out_studies\n",
    "\n"
   ]
  },
  {
   "cell_type": "markdown",
   "metadata": {
    "ExecuteTime": {
     "end_time": "2025-03-24T19:28:17.869670Z",
     "start_time": "2025-03-24T19:28:17.867193Z"
    }
   },
   "source": [
    "Without UKB filtering"
   ]
  },
  {
   "cell_type": "code",
   "execution_count": 52,
   "metadata": {
    "ExecuteTime": {
     "end_time": "2025-06-02T17:28:23.365548Z",
     "start_time": "2025-06-02T17:27:14.364568Z"
    }
   },
   "outputs": [
    {
     "name": "stderr",
     "output_type": "stream",
     "text": [
      "100%|██████████| 2339/2339 [01:08<00:00, 33.90it/s]\n"
     ]
    }
   ],
   "source": [
    "multi_select_cv = {}\n",
    "for t in tqdm(study_info['TRAIT_CODE_CLEAN'].unique()):\n",
    "    t.replace(':', '_')\n",
    "    \n",
    "    multi_select_cv[t] = select_top_gwas_study(gwas_genes, t, study_info, exclude=[],\n",
    "                                               keep_studies=study_info['STUDY ACCESSION'].values)"
   ]
  },
  {
   "cell_type": "code",
   "execution_count": 53,
   "metadata": {
    "ExecuteTime": {
     "end_time": "2025-06-02T17:28:23.573048Z",
     "start_time": "2025-06-02T17:28:23.570474Z"
    }
   },
   "outputs": [
    {
     "data": {
      "text/plain": [
       "(7583, 34)"
      ]
     },
     "execution_count": 53,
     "metadata": {},
     "output_type": "execute_result"
    }
   ],
   "source": [
    "study_info.shape"
   ]
  },
  {
   "cell_type": "code",
   "execution_count": 54,
   "metadata": {
    "ExecuteTime": {
     "end_time": "2025-06-02T17:28:23.765647Z",
     "start_time": "2025-06-02T17:28:23.763244Z"
    }
   },
   "outputs": [
    {
     "data": {
      "text/plain": [
       "2338"
      ]
     },
     "execution_count": 54,
     "metadata": {},
     "output_type": "execute_result"
    }
   ],
   "source": [
    "1965+373"
   ]
  },
  {
   "cell_type": "code",
   "execution_count": 55,
   "metadata": {
    "ExecuteTime": {
     "end_time": "2025-06-02T17:28:23.962623Z",
     "start_time": "2025-06-02T17:28:23.959506Z"
    }
   },
   "outputs": [
    {
     "data": {
      "text/plain": [
       "2338"
      ]
     },
     "execution_count": 55,
     "metadata": {},
     "output_type": "execute_result"
    }
   ],
   "source": [
    "cv_start = len([ x for x in multi_select_cv.values() if isinstance(x, str) ])\n",
    "cv_start"
   ]
  },
  {
   "cell_type": "code",
   "execution_count": 56,
   "metadata": {
    "ExecuteTime": {
     "end_time": "2025-06-02T17:28:24.154511Z",
     "start_time": "2025-06-02T17:28:24.151944Z"
    }
   },
   "outputs": [
    {
     "data": {
      "text/plain": [
       "'GCST90444373'"
      ]
     },
     "execution_count": 56,
     "metadata": {},
     "output_type": "execute_result"
    }
   ],
   "source": [
    "multi_select_cv['MONDO_0004975']"
   ]
  },
  {
   "cell_type": "markdown",
   "metadata": {},
   "source": [
    "## Shared_studies"
   ]
  },
  {
   "cell_type": "code",
   "execution_count": 52,
   "metadata": {
    "ExecuteTime": {
     "end_time": "2025-04-27T23:46:27.300958Z",
     "start_time": "2025-04-27T23:46:27.299295Z"
    }
   },
   "outputs": [],
   "source": [
    "# export all study info"
   ]
  },
  {
   "cell_type": "code",
   "execution_count": 57,
   "metadata": {
    "ExecuteTime": {
     "end_time": "2025-06-02T17:28:29.006546Z",
     "start_time": "2025-06-02T17:28:29.000606Z"
    }
   },
   "outputs": [],
   "source": [
    "cv_study_info = study_info.copy()"
   ]
  },
  {
   "cell_type": "code",
   "execution_count": 58,
   "metadata": {
    "ExecuteTime": {
     "end_time": "2025-06-02T17:28:29.583366Z",
     "start_time": "2025-06-02T17:28:29.581708Z"
    }
   },
   "outputs": [],
   "source": [
    "#cv_study_info.loc[:, ('PUBMED ID', 'DATE', 'STUDY ACCESSION', 'DISEASE/TRAIT', 'INITIAL SAMPLE SIZE', 'ASSOCIATION COUNT',\n",
    "#                     'COHORT', 'MAPPED_TRAIT_CLEAN', 'TRAIT_CODE_CLEAN', 'N', 'MAPPED_GENE', 'Cosine', \n",
    "#                      'StudyTrait')].to_csv(os.path.join(datadir, 'inputs/cv_all_study_info.txt'), sep='\\t', index=False)"
   ]
  },
  {
   "cell_type": "code",
   "execution_count": 59,
   "metadata": {
    "ExecuteTime": {
     "end_time": "2025-06-02T17:28:29.955776Z",
     "start_time": "2025-06-02T17:28:29.953008Z"
    }
   },
   "outputs": [
    {
     "data": {
      "text/plain": [
       "Index(['Reported Trait', 'Trait Label', 'Trait Ontology id', 'PMID', 'COHORT',\n",
       "       'N', 'Ancestry', 'Classification', 'Notes', 'rv_idx', 'Trait', 'Mapped',\n",
       "       'TraitExp', 'MappedExp', 'MAPPED_TRAIT_CLEAN', 'TRAIT_CODE_CLEAN',\n",
       "       'GeneCount', 'MappedCleanExp', 'Cosine'],\n",
       "      dtype='object')"
      ]
     },
     "execution_count": 59,
     "metadata": {},
     "output_type": "execute_result"
    }
   ],
   "source": [
    "rv_study_info.columns"
   ]
  },
  {
   "cell_type": "code",
   "execution_count": 56,
   "metadata": {
    "ExecuteTime": {
     "end_time": "2025-04-27T23:46:28.115621Z",
     "start_time": "2025-04-27T23:46:28.113750Z"
    }
   },
   "outputs": [],
   "source": [
    "#rv_study_info.loc[:, ('Reported Trait', 'PMID', 'COHORT', 'N', 'Ancestry', 'Classification', 'MAPPED_TRAIT_CLEAN', \n",
    "#                      'TRAIT_CODE_CLEAN', 'GeneCount', 'Cosine')].to_csv(os.path.join(datadir, 'inputs/rv_all_study_info.txt'), \n",
    "#                                                                         sep='\\t', index=False)"
   ]
  },
  {
   "cell_type": "markdown",
   "metadata": {},
   "source": [
    "### Shared RV without UKB filtering"
   ]
  },
  {
   "cell_type": "code",
   "execution_count": 62,
   "metadata": {
    "ExecuteTime": {
     "end_time": "2025-06-02T17:28:36.515049Z",
     "start_time": "2025-06-02T17:28:36.512464Z"
    }
   },
   "outputs": [
    {
     "data": {
      "text/plain": [
       "394"
      ]
     },
     "execution_count": 62,
     "metadata": {},
     "output_type": "execute_result"
    }
   ],
   "source": [
    "len(shared_studies)"
   ]
  },
  {
   "cell_type": "code",
   "execution_count": 61,
   "metadata": {
    "ExecuteTime": {
     "end_time": "2025-06-02T17:28:34.500178Z",
     "start_time": "2025-06-02T17:28:34.495185Z"
    }
   },
   "outputs": [],
   "source": [
    "shared_studies = list(set(multi_select_cv.keys()).intersection(multi_select_rv.keys()))\n",
    "shared_rv = pd.DataFrame({'TRAIT_CODE_CLEAN':shared_studies, 'PMID': [multi_select_rv[x] for x in shared_studies]}, index=shared_studies)\n",
    "shared_rv = shared_rv.dropna()\n",
    "shared_rv['PMID'] = shared_rv.PMID.astype(int)\n",
    "rv_study_info['PMID'] = rv_study_info.PMID.astype(int)"
   ]
  },
  {
   "cell_type": "code",
   "execution_count": 63,
   "metadata": {
    "ExecuteTime": {
     "end_time": "2025-06-02T17:28:40.774493Z",
     "start_time": "2025-06-02T17:28:40.766288Z"
    }
   },
   "outputs": [],
   "source": [
    "shared_rv = rv_study_info.merge(shared_rv, on=['PMID', 'TRAIT_CODE_CLEAN'], \n",
    "                    how='inner').drop_duplicates().sort_values(by='Cosine', ascending=False)\n",
    "shared_rv = shared_rv.drop_duplicates(subset=['PMID', 'TRAIT_CODE_CLEAN'])\n",
    "#shared_rv.to_csv(os.path.join(datadir, 'RAVAR', 'ravar_gwascat_study_info_Mar28.txt'), sep='\\t', index=False)"
   ]
  },
  {
   "cell_type": "markdown",
   "metadata": {},
   "source": [
    "### Shared CV without UKB filtering"
   ]
  },
  {
   "cell_type": "code",
   "execution_count": 64,
   "metadata": {
    "ExecuteTime": {
     "end_time": "2025-06-02T17:28:44.192938Z",
     "start_time": "2025-06-02T17:28:44.180329Z"
    }
   },
   "outputs": [],
   "source": [
    "shared_cv = pd.DataFrame({'STUDY ACCESSION': multi_select_cv}).reset_index().rename(columns={'index':'TRAIT_CODE_CLEAN'}).dropna()\n",
    "shared_cv = shared_cv[shared_cv.TRAIT_CODE_CLEAN.isin(shared_studies)]\n",
    "shared_cv = study_info.merge(shared_cv, on=['STUDY ACCESSION', 'TRAIT_CODE_CLEAN'], \n",
    "                             how='inner').drop_duplicates().sort_values(by='Cosine', ascending=False)\n",
    "#shared_cv.to_csv(os.path.join(datadir, 'GWASCatalog', 'gwascat_ravar_study_Mar28.txt'), sep='\\t', index=False)"
   ]
  },
  {
   "cell_type": "markdown",
   "metadata": {},
   "source": [
    "### Combined without UKB filtering"
   ]
  },
  {
   "cell_type": "code",
   "execution_count": 65,
   "metadata": {
    "ExecuteTime": {
     "end_time": "2025-06-02T17:28:47.994234Z",
     "start_time": "2025-06-02T17:28:45.995120Z"
    }
   },
   "outputs": [],
   "source": [
    "a = shared_cv.loc[:, ('DISEASE/TRAIT', 'STUDY ACCESSION', 'COHORT', 'TRAIT_CODE_CLEAN', 'MAPPED_TRAIT_CLEAN', 'N', 'Cosine', 'TraitExp', 'MappedCleanExp', 'PUBMED ID')]\n",
    "b = shared_rv.loc[:, ('Reported Trait', 'Trait Label', 'PMID', 'COHORT', 'N', 'Classification', 'Cosine', 'MAPPED_TRAIT_CLEAN', 'TRAIT_CODE_CLEAN','TraitExp', 'MappedCleanExp' )]\n",
    "shared_df = a.merge(b, on=['TRAIT_CODE_CLEAN'], how='inner', suffixes=['_C', '_R'])\n",
    "shared_cv_trait = model.encode(shared_df['TraitExp_C'], batch_size=32)\n",
    "shared_rv_trait = model.encode(shared_df['TraitExp_R'], batch_size=32)\n",
    "cosines = cosine_similarity(shared_cv_trait, shared_rv_trait)\n",
    "shared_df = shared_df.assign(CosineRC=[cosines[i,i] for i in range(len(shared_cv_trait))])\n",
    "#shared_df.loc[:, ('Reported Trait', 'DISEASE/TRAIT','MAPPED_TRAIT_CLEAN_C', 'MAPPED_TRAIT_CLEAN_R', 'Cosine_R', 'Cosine_C', \n",
    "#                  'CosineRC')].to_csv('/cellar/users/snwright/Data/Transfer/RVC/data/check_trait_pairs.txt', sep='\\t')\n"
   ]
  },
  {
   "cell_type": "code",
   "execution_count": 66,
   "metadata": {
    "ExecuteTime": {
     "end_time": "2025-06-02T17:28:48.251263Z",
     "start_time": "2025-06-02T17:28:48.246790Z"
    }
   },
   "outputs": [
    {
     "data": {
      "text/plain": [
       "count    394.000000\n",
       "mean       0.855056\n",
       "std        0.178117\n",
       "min        0.052196\n",
       "25%        0.791719\n",
       "50%        0.923691\n",
       "75%        1.000000\n",
       "max        1.000000\n",
       "Name: CosineRC, dtype: float64"
      ]
     },
     "execution_count": 66,
     "metadata": {},
     "output_type": "execute_result"
    }
   ],
   "source": [
    "shared_df.CosineRC.describe()"
   ]
  },
  {
   "cell_type": "code",
   "execution_count": null,
   "metadata": {
    "ExecuteTime": {
     "end_time": "2025-04-27T23:46:28.360585Z",
     "start_time": "2025-04-27T23:46:28.360577Z"
    }
   },
   "outputs": [],
   "source": [
    "raise NotImplementedError('Manual curation needed')"
   ]
  },
  {
   "cell_type": "code",
   "execution_count": 103,
   "metadata": {
    "ExecuteTime": {
     "end_time": "2025-04-28T00:08:34.561067Z",
     "start_time": "2025-04-28T00:08:34.558170Z"
    }
   },
   "outputs": [
    {
     "data": {
      "text/plain": [
       "Index(['DISEASE/TRAIT', 'STUDY ACCESSION', 'COHORT_C', 'TRAIT_CODE_CLEAN',\n",
       "       'MAPPED_TRAIT_CLEAN_C', 'N_C', 'Cosine_C', 'TraitExp_C',\n",
       "       'MappedCleanExp_C', 'PUBMED ID', 'Reported Trait', 'Trait Label',\n",
       "       'PMID', 'COHORT_R', 'N_R', 'Classification', 'Cosine_R',\n",
       "       'MAPPED_TRAIT_CLEAN_R', 'TraitExp_R', 'MappedCleanExp_R', 'CosineRC'],\n",
       "      dtype='object')"
      ]
     },
     "execution_count": 103,
     "metadata": {},
     "output_type": "execute_result"
    }
   ],
   "source": [
    "shared_df.columns"
   ]
  },
  {
   "cell_type": "code",
   "execution_count": 67,
   "metadata": {
    "ExecuteTime": {
     "end_time": "2025-06-02T17:28:52.419284Z",
     "start_time": "2025-06-02T17:28:52.326074Z"
    }
   },
   "outputs": [],
   "source": [
    "clean_shared_df = pd.read_csv('/cellar/users/snwright/Data/Transfer/RVC/data/RV Study Info - Shared Traits6.tsv', sep='\\t', index_col=0)\n",
    "final_shared_df = shared_df.merge(clean_shared_df.loc[clean_shared_df.Keep==1, ('Reported Trait', 'DISEASE/TRAIT', 'Domain', 'trait_type')], \n",
    "                       on=['Reported Trait', 'DISEASE/TRAIT'], how='inner', suffixes=['', 'Final'])\n",
    "assert len(final_shared_df) == clean_shared_df.Keep.sum(), 'Manual file does not match'\n",
    "final_shared_df['StudyC'] = final_shared_df['STUDY ACCESSION'] + '_' + final_shared_df['TRAIT_CODE_CLEAN']\n",
    "final_shared_df['StudyR'] = final_shared_df['PMID'].astype(str) + '_' + final_shared_df['TRAIT_CODE_CLEAN']\n",
    "#final_shared_df.drop_duplicates(subset='TRAIT_CODE_CLEAN').to_csv('/cellar/users/snwright/Data/RareCommon/inputs/March_2025/shared_traits_df_Mar28.tsv', sep='\\t', index=False)"
   ]
  },
  {
   "cell_type": "code",
   "execution_count": 68,
   "metadata": {
    "ExecuteTime": {
     "end_time": "2025-06-02T17:28:53.949838Z",
     "start_time": "2025-06-02T17:28:53.936379Z"
    }
   },
   "outputs": [
    {
     "data": {
      "text/html": [
       "<div>\n",
       "<style scoped>\n",
       "    .dataframe tbody tr th:only-of-type {\n",
       "        vertical-align: middle;\n",
       "    }\n",
       "\n",
       "    .dataframe tbody tr th {\n",
       "        vertical-align: top;\n",
       "    }\n",
       "\n",
       "    .dataframe thead th {\n",
       "        text-align: right;\n",
       "    }\n",
       "</style>\n",
       "<table border=\"1\" class=\"dataframe\">\n",
       "  <thead>\n",
       "    <tr style=\"text-align: right;\">\n",
       "      <th></th>\n",
       "      <th>DISEASE/TRAIT</th>\n",
       "      <th>STUDY ACCESSION</th>\n",
       "      <th>COHORT_C</th>\n",
       "      <th>TRAIT_CODE_CLEAN</th>\n",
       "      <th>MAPPED_TRAIT_CLEAN_C</th>\n",
       "      <th>N_C</th>\n",
       "      <th>Cosine_C</th>\n",
       "      <th>TraitExp_C</th>\n",
       "      <th>MappedCleanExp_C</th>\n",
       "      <th>PUBMED ID</th>\n",
       "      <th>...</th>\n",
       "      <th>Classification</th>\n",
       "      <th>Cosine_R</th>\n",
       "      <th>MAPPED_TRAIT_CLEAN_R</th>\n",
       "      <th>TraitExp_R</th>\n",
       "      <th>MappedCleanExp_R</th>\n",
       "      <th>CosineRC</th>\n",
       "      <th>Domain</th>\n",
       "      <th>trait_type</th>\n",
       "      <th>StudyC</th>\n",
       "      <th>StudyR</th>\n",
       "    </tr>\n",
       "  </thead>\n",
       "  <tbody>\n",
       "    <tr>\n",
       "      <th>0</th>\n",
       "      <td>Proteinuria</td>\n",
       "      <td>GCST90250893</td>\n",
       "      <td>other</td>\n",
       "      <td>HP_0000093</td>\n",
       "      <td>proteinuria</td>\n",
       "      <td>1078.0</td>\n",
       "      <td>1.0</td>\n",
       "      <td>Proteinuria</td>\n",
       "      <td>proteinuria</td>\n",
       "      <td>36399516</td>\n",
       "      <td>...</td>\n",
       "      <td>Population CC</td>\n",
       "      <td>0.871416</td>\n",
       "      <td>proteinuria</td>\n",
       "      <td>isolated proteinuria</td>\n",
       "      <td>proteinuria</td>\n",
       "      <td>0.871416</td>\n",
       "      <td>Renal</td>\n",
       "      <td>CC</td>\n",
       "      <td>GCST90250893_HP_0000093</td>\n",
       "      <td>34375979_HP_0000093</td>\n",
       "    </tr>\n",
       "    <tr>\n",
       "      <th>1</th>\n",
       "      <td>Neutrophil count</td>\n",
       "      <td>GCST90002355</td>\n",
       "      <td>Airwave|BBJ|BioME|BioME|BioME|CaPS|Estonia|Est...</td>\n",
       "      <td>EFO_0004833</td>\n",
       "      <td>neutrophil count</td>\n",
       "      <td>627215.0</td>\n",
       "      <td>1.0</td>\n",
       "      <td>Neutrophil count</td>\n",
       "      <td>neutrophil count</td>\n",
       "      <td>32888493</td>\n",
       "      <td>...</td>\n",
       "      <td>Population Q</td>\n",
       "      <td>1.000000</td>\n",
       "      <td>neutrophil count</td>\n",
       "      <td>neutrophil count</td>\n",
       "      <td>neutrophil count</td>\n",
       "      <td>1.000000</td>\n",
       "      <td>Immunological</td>\n",
       "      <td>Q</td>\n",
       "      <td>GCST90002355_EFO_0004833</td>\n",
       "      <td>28089252_EFO_0004833</td>\n",
       "    </tr>\n",
       "    <tr>\n",
       "      <th>2</th>\n",
       "      <td>Total lipids in small LDL</td>\n",
       "      <td>GCST90302097</td>\n",
       "      <td>Multiple</td>\n",
       "      <td>EFO_0022168</td>\n",
       "      <td>total lipids in small LDL</td>\n",
       "      <td>136016.0</td>\n",
       "      <td>1.0</td>\n",
       "      <td>Total lipids in small Low Density Lipoprotein ...</td>\n",
       "      <td>total lipids in small Low Density Lipoprotein ...</td>\n",
       "      <td>38448586</td>\n",
       "      <td>...</td>\n",
       "      <td>Population Q</td>\n",
       "      <td>1.000000</td>\n",
       "      <td>total lipids in small LDL</td>\n",
       "      <td>total lipids in small low density lipoprotein ...</td>\n",
       "      <td>total lipids in small Low Density Lipoprotein ...</td>\n",
       "      <td>1.000000</td>\n",
       "      <td>Metabolic</td>\n",
       "      <td>Q</td>\n",
       "      <td>GCST90302097_EFO_0022168</td>\n",
       "      <td>36809768_EFO_0022168</td>\n",
       "    </tr>\n",
       "    <tr>\n",
       "      <th>3</th>\n",
       "      <td>Mean reticulocyte volume</td>\n",
       "      <td>GCST90025975</td>\n",
       "      <td>UKB</td>\n",
       "      <td>EFO_0010701</td>\n",
       "      <td>mean reticulocyte volume</td>\n",
       "      <td>436944.0</td>\n",
       "      <td>1.0</td>\n",
       "      <td>Mean reticulocyte volume</td>\n",
       "      <td>mean reticulocyte volume</td>\n",
       "      <td>34226706</td>\n",
       "      <td>...</td>\n",
       "      <td>Population Q</td>\n",
       "      <td>1.000000</td>\n",
       "      <td>mean reticulocyte volume</td>\n",
       "      <td>mean reticulocyte volume</td>\n",
       "      <td>mean reticulocyte volume</td>\n",
       "      <td>1.000000</td>\n",
       "      <td>Hematological</td>\n",
       "      <td>Q</td>\n",
       "      <td>GCST90025975_EFO_0010701</td>\n",
       "      <td>34375979_EFO_0010701</td>\n",
       "    </tr>\n",
       "    <tr>\n",
       "      <th>4</th>\n",
       "      <td>Mean corpuscular hemoglobin concentration</td>\n",
       "      <td>GCST90002332</td>\n",
       "      <td>Airwave|BBJ|BioME|CaPS|CHS|CHS|Estonia|Estonia...</td>\n",
       "      <td>EFO_0004528</td>\n",
       "      <td>mean corpuscular hemoglobin concentration</td>\n",
       "      <td>642173.0</td>\n",
       "      <td>1.0</td>\n",
       "      <td>Mean corpuscular hemoglobin concentration</td>\n",
       "      <td>mean corpuscular hemoglobin concentration</td>\n",
       "      <td>32888493</td>\n",
       "      <td>...</td>\n",
       "      <td>Population Q</td>\n",
       "      <td>0.955509</td>\n",
       "      <td>mean corpuscular hemoglobin concentration</td>\n",
       "      <td>mean corpuscular haemoglobin concentration</td>\n",
       "      <td>mean corpuscular hemoglobin concentration</td>\n",
       "      <td>0.955509</td>\n",
       "      <td>Hematological</td>\n",
       "      <td>Q</td>\n",
       "      <td>GCST90002332_EFO_0004528</td>\n",
       "      <td>34375979_EFO_0004528</td>\n",
       "    </tr>\n",
       "  </tbody>\n",
       "</table>\n",
       "<p>5 rows × 25 columns</p>\n",
       "</div>"
      ],
      "text/plain": [
       "                               DISEASE/TRAIT STUDY ACCESSION  \\\n",
       "0                                Proteinuria    GCST90250893   \n",
       "1                           Neutrophil count    GCST90002355   \n",
       "2                  Total lipids in small LDL    GCST90302097   \n",
       "3                   Mean reticulocyte volume    GCST90025975   \n",
       "4  Mean corpuscular hemoglobin concentration    GCST90002332   \n",
       "\n",
       "                                            COHORT_C TRAIT_CODE_CLEAN  \\\n",
       "0                                              other       HP_0000093   \n",
       "1  Airwave|BBJ|BioME|BioME|BioME|CaPS|Estonia|Est...      EFO_0004833   \n",
       "2                                           Multiple      EFO_0022168   \n",
       "3                                                UKB      EFO_0010701   \n",
       "4  Airwave|BBJ|BioME|CaPS|CHS|CHS|Estonia|Estonia...      EFO_0004528   \n",
       "\n",
       "                        MAPPED_TRAIT_CLEAN_C       N_C  Cosine_C  \\\n",
       "0                                proteinuria    1078.0       1.0   \n",
       "1                           neutrophil count  627215.0       1.0   \n",
       "2                  total lipids in small LDL  136016.0       1.0   \n",
       "3                   mean reticulocyte volume  436944.0       1.0   \n",
       "4  mean corpuscular hemoglobin concentration  642173.0       1.0   \n",
       "\n",
       "                                          TraitExp_C  \\\n",
       "0                                        Proteinuria   \n",
       "1                                   Neutrophil count   \n",
       "2  Total lipids in small Low Density Lipoprotein ...   \n",
       "3                           Mean reticulocyte volume   \n",
       "4          Mean corpuscular hemoglobin concentration   \n",
       "\n",
       "                                    MappedCleanExp_C  PUBMED ID  ...  \\\n",
       "0                                        proteinuria   36399516  ...   \n",
       "1                                   neutrophil count   32888493  ...   \n",
       "2  total lipids in small Low Density Lipoprotein ...   38448586  ...   \n",
       "3                           mean reticulocyte volume   34226706  ...   \n",
       "4          mean corpuscular hemoglobin concentration   32888493  ...   \n",
       "\n",
       "  Classification  Cosine_R                       MAPPED_TRAIT_CLEAN_R  \\\n",
       "0  Population CC  0.871416                                proteinuria   \n",
       "1   Population Q  1.000000                           neutrophil count   \n",
       "2   Population Q  1.000000                  total lipids in small LDL   \n",
       "3   Population Q  1.000000                   mean reticulocyte volume   \n",
       "4   Population Q  0.955509  mean corpuscular hemoglobin concentration   \n",
       "\n",
       "                                          TraitExp_R  \\\n",
       "0                               isolated proteinuria   \n",
       "1                                   neutrophil count   \n",
       "2  total lipids in small low density lipoprotein ...   \n",
       "3                           mean reticulocyte volume   \n",
       "4         mean corpuscular haemoglobin concentration   \n",
       "\n",
       "                                    MappedCleanExp_R  CosineRC         Domain  \\\n",
       "0                                        proteinuria  0.871416          Renal   \n",
       "1                                   neutrophil count  1.000000  Immunological   \n",
       "2  total lipids in small Low Density Lipoprotein ...  1.000000      Metabolic   \n",
       "3                           mean reticulocyte volume  1.000000  Hematological   \n",
       "4          mean corpuscular hemoglobin concentration  0.955509  Hematological   \n",
       "\n",
       "  trait_type                    StudyC                StudyR  \n",
       "0         CC   GCST90250893_HP_0000093   34375979_HP_0000093  \n",
       "1          Q  GCST90002355_EFO_0004833  28089252_EFO_0004833  \n",
       "2          Q  GCST90302097_EFO_0022168  36809768_EFO_0022168  \n",
       "3          Q  GCST90025975_EFO_0010701  34375979_EFO_0010701  \n",
       "4          Q  GCST90002332_EFO_0004528  34375979_EFO_0004528  \n",
       "\n",
       "[5 rows x 25 columns]"
      ]
     },
     "execution_count": 68,
     "metadata": {},
     "output_type": "execute_result"
    }
   ],
   "source": [
    "final_shared_df.head()"
   ]
  },
  {
   "cell_type": "markdown",
   "metadata": {},
   "source": [
    "## Figures"
   ]
  },
  {
   "cell_type": "code",
   "execution_count": 69,
   "metadata": {
    "ExecuteTime": {
     "end_time": "2025-06-02T17:28:57.864644Z",
     "start_time": "2025-06-02T17:28:57.862725Z"
    }
   },
   "outputs": [],
   "source": [
    "final_count = final_shared_df.TRAIT_CODE_CLEAN.nunique()"
   ]
  },
  {
   "cell_type": "code",
   "execution_count": 70,
   "metadata": {
    "ExecuteTime": {
     "end_time": "2025-06-02T17:29:00.011358Z",
     "start_time": "2025-06-02T17:28:59.900865Z"
    }
   },
   "outputs": [
    {
     "data": {
      "image/png": "[encoded data removed]",
      "text/plain": [
       "<Figure size 300x200 with 1 Axes>"
      ]
     },
     "metadata": {},
     "output_type": "display_data"
    }
   ],
   "source": [
    "plt.rcParams.update({'font.size': 7})\n",
    "_ = plt.figure(figsize=(3,2))\n",
    "v = venn2(subsets=(cv_start-final_count, rv_start-final_count, final_count), set_labels=( 'GWAS Catalog','RAVAR'))\n",
    "v.get_patch_by_id('10').set_color('#6ec1e0')\n",
    "v.get_patch_by_id('01').set_color('#5fad56')\n",
    "v.get_patch_by_id('11').set_color('#00606f')\n",
    "for patch in ['01', '10', '11']:\n",
    "    v.get_patch_by_id(patch).set_alpha(1)\n",
    "    v.get_patch_by_id(patch).set_ec('black')\n",
    "    v.get_patch_by_id(patch).set_lw(0.3)\n",
    "plt.savefig(os.path.join(figdir, 'trait_overlap_venn2.svg'), dpi=400, bbox_inches='tight')"
   ]
  },
  {
   "cell_type": "code",
   "execution_count": 72,
   "metadata": {
    "ExecuteTime": {
     "end_time": "2025-06-02T17:29:08.326557Z",
     "start_time": "2025-06-02T17:29:08.323823Z"
    }
   },
   "outputs": [
    {
     "data": {
      "text/plain": [
       "373"
      ]
     },
     "execution_count": 72,
     "metadata": {},
     "output_type": "execute_result"
    }
   ],
   "source": [
    "187+186"
   ]
  },
  {
   "cell_type": "code",
   "execution_count": 69,
   "metadata": {
    "ExecuteTime": {
     "end_time": "2025-04-27T23:48:00.241780Z",
     "start_time": "2025-04-27T23:48:00.235340Z"
    }
   },
   "outputs": [
    {
     "data": {
      "text/plain": [
       "N_C          1.360160e+05\n",
       "Cosine_C     9.429650e-01\n",
       "PUBMED ID    3.637603e+07\n",
       "PMID         3.437598e+07\n",
       "N_R          2.093190e+05\n",
       "Cosine_R     9.999998e-01\n",
       "CosineRC     9.294033e-01\n",
       "dtype: float64"
      ]
     },
     "execution_count": 69,
     "metadata": {},
     "output_type": "execute_result"
    }
   ],
   "source": [
    "final_shared_df.median(numeric_only=True)"
   ]
  },
  {
   "cell_type": "code",
   "execution_count": 73,
   "metadata": {
    "ExecuteTime": {
     "end_time": "2025-06-02T17:29:10.561220Z",
     "start_time": "2025-06-02T17:29:10.112031Z"
    }
   },
   "outputs": [
    {
     "data": {
      "image/png": "[encoded data removed]",
      "text/plain": [
       "<Figure size 150x250 with 1 Axes>"
      ]
     },
     "metadata": {},
     "output_type": "display_data"
    }
   ],
   "source": [
    "domains = final_shared_df.Domain.value_counts().reset_index()\n",
    "domain_plot_values = domains[domains['count']>=5].Domain.values\n",
    "domains = final_shared_df[final_shared_df.trait_type=='Q'].Domain.value_counts().reset_index()\n",
    "domains_plot = domains[domains.Domain.isin(domain_plot_values)]\n",
    "other=domains[~domains.Domain.isin(domain_plot_values)]['count'].sum()\n",
    "domain_dict =domains_plot.set_index('Domain')['count'].to_dict()\n",
    "domain_dict['Other'] = other\n",
    "\n",
    "domains = final_shared_df[final_shared_df.trait_type=='CC'].Domain.value_counts().reset_index()\n",
    "domains_plot2 = domains[domains.Domain.isin(domain_plot_values)]\n",
    "other2=domains[~domains.Domain.isin(domain_plot_values)]['count'].sum()\n",
    "domain_dict2 =domains_plot2.set_index('Domain')['count'].to_dict()\n",
    "domain_dict2['Other'] = other2\n",
    "\n",
    "_ = plt.figure(figsize=(1.5, 2.5))\n",
    "plot_df = pd.DataFrame({'Continuous': domain_dict, 'Categorical': domain_dict2}).iloc[::-1]\n",
    "plot_df['sum'] = np.nansum(plot_df, axis=1)\n",
    "plot_df.at['Other', 'sum'] = 0\n",
    "plot_df = plot_df.sort_values('sum')\n",
    "\n",
    "lipid = plot_df.at['Lipid Measurment', 'Continuous']\n",
    "plot_df.at['Lipid Measurment', 'Continuous'] = 38\n",
    "\n",
    "plot_df.drop(columns='sum').plot(kind='barh', stacked=True, ax=plt.gca(),edgecolor='black', linewidth=0.3, width=0.8,\n",
    "                                                                              color=[ '#509AA6', '#00606f',])\n",
    "plt.vlines(x=34, ymin=-18.5, ymax=20.5,color='white', linewidth=4)\n",
    "\n",
    "plt.xticks([0, 10, 20, 30, 38], labels=[0,10,20,30,int(lipid)])\n",
    "plt.xlim(0, 40)\n",
    "plt.savefig(os.path.join(figdir, 'GCat_input_trait_types.svg'), bbox_inches='tight')"
   ]
  },
  {
   "cell_type": "code",
   "execution_count": 74,
   "metadata": {
    "ExecuteTime": {
     "end_time": "2025-06-02T17:29:18.010827Z",
     "start_time": "2025-06-02T17:29:18.007423Z"
    }
   },
   "outputs": [],
   "source": [
    "import pandas as pd\n",
    "domains = pd.read_csv('/cellar/users/snwright/Data/RareCommon/outputs/key_files/domain_trait_type.txt', sep='\\t')"
   ]
  },
  {
   "cell_type": "code",
   "execution_count": 75,
   "metadata": {
    "ExecuteTime": {
     "end_time": "2025-06-02T17:29:18.582480Z",
     "start_time": "2025-06-02T17:29:18.580209Z"
    }
   },
   "outputs": [
    {
     "ename": "SyntaxError",
     "evalue": "invalid syntax. Perhaps you forgot a comma? (734373388.py, line 1)",
     "output_type": "error",
     "traceback": [
      "\u001b[0;36m  Cell \u001b[0;32mIn[75], line 1\u001b[0;36m\u001b[0m\n\u001b[0;31m    domains[]\u001b[0m\n\u001b[0m    ^\u001b[0m\n\u001b[0;31mSyntaxError\u001b[0m\u001b[0;31m:\u001b[0m invalid syntax. Perhaps you forgot a comma?\n"
     ]
    }
   ],
   "source": [
    "domains[]"
   ]
  },
  {
   "cell_type": "code",
   "execution_count": 79,
   "metadata": {
    "ExecuteTime": {
     "end_time": "2025-06-02T17:30:51.414292Z",
     "start_time": "2025-06-02T17:30:51.144673Z"
    }
   },
   "outputs": [
    {
     "data": {
      "image/png": "[encoded data removed]",
      "text/plain": [
       "<Figure size 300x100 with 1 Axes>"
      ]
     },
     "metadata": {},
     "output_type": "display_data"
    }
   ],
   "source": [
    "domains = final_shared_df.Domain.value_counts().reset_index()\n",
    "domain_plot_values = domains[domains['count']>=5].Domain.values\n",
    "domains = final_shared_df[final_shared_df.trait_type=='Q'].Domain.value_counts().reset_index()\n",
    "domains_plot = domains[domains.Domain.isin(domain_plot_values)]\n",
    "other=domains[~domains.Domain.isin(domain_plot_values)]['count'].sum()\n",
    "domain_dict =domains_plot.set_index('Domain')['count'].to_dict()\n",
    "domain_dict['Other'] = other\n",
    "\n",
    "domains = final_shared_df[final_shared_df.trait_type=='CC'].Domain.value_counts().reset_index()\n",
    "domains_plot2 = domains[domains.Domain.isin(domain_plot_values)]\n",
    "other2=domains[~domains.Domain.isin(domain_plot_values)]['count'].sum()\n",
    "domain_dict2 =domains_plot2.set_index('Domain')['count'].to_dict()\n",
    "domain_dict2['Other'] = other2\n",
    "\n",
    "_ = plt.figure(figsize=(3, 1))\n",
    "plot_df = pd.DataFrame({'Continuous': domain_dict, 'Categorical': domain_dict2}).iloc[::-1]\n",
    "plot_df['sum'] = np.nansum(plot_df, axis=1)\n",
    "plot_df.at['Other', 'sum'] = 0\n",
    "plot_df = plot_df.sort_values('sum', ascending=False)\n",
    "lipid = plot_df.at['Lipid Measurment', 'Continuous']\n",
    "plot_df.at['Lipid Measurment', 'Continuous'] = 38\n",
    "plot_df.drop(columns='sum').plot(kind='bar', stacked=True, ax=plt.gca(),edgecolor='black', linewidth=0.3, width=0.8,\n",
    "                                                                              color=[ '#509AA6', '#00606f',])\n",
    "\n",
    "\n",
    "plt.hlines(y=34, xmin=-18.5, xmax=20.5,color='white', linewidth=3)\n",
    "plt.ylim(0, 40)\n",
    "plt.yticks([0, 10, 20, 30, 38], labels=[0,10,20,30,int(lipid)])\n",
    "plt.ylabel('Trait Count')\n",
    "plt.savefig(os.path.join(figdir, 'GCat_input_trait_types_vertical.svg'), bbox_inches='tight')"
   ]
  },
  {
   "cell_type": "code",
   "execution_count": 80,
   "metadata": {
    "ExecuteTime": {
     "end_time": "2025-06-02T17:36:31.139027Z",
     "start_time": "2025-06-02T17:36:30.984231Z"
    }
   },
   "outputs": [
    {
     "data": {
      "image/png": "[encoded data removed]",
      "text/plain": [
       "<Figure size 125x250 with 2 Axes>"
      ]
     },
     "metadata": {},
     "output_type": "display_data"
    }
   ],
   "source": [
    "_, [ax1, ax2] = plt.subplots(nrows=1, ncols=2, figsize=(1.25, 2.5), sharey=True, \n",
    "                             gridspec_kw={'wspace':0, 'width_ratios':[100,130]})\n",
    "bins=[x*25000 for x in range(0,  20)]\n",
    "sns.histplot(y= final_shared_df.N_R, bins=bins, kde=False, element='step', ax=ax2, color='#5fad56', alpha=1, edgecolor='black')\n",
    "sns.histplot(y= final_shared_df.N_C, bins=bins, kde=False, element='step', ax=ax1,color='#6ec1e0' , alpha=1, edgecolor='black')\n",
    "ax1.invert_xaxis()\n",
    "ax1.set_xlim(100, 0)\n",
    "ax2.set_xlim(0, 130)\n",
    "ax1.set_ylim(0, 500000)\n",
    "_ = ax1.set_yticks([x*100000 for x in range(6)], labels=[0, '100k', '200k', '300k', '400k', '500k'])\n",
    "ax1.set_ylabel('Study Population')\n",
    "ax1.set_xticks([100, 50, 0])\n",
    "ax2.set_xticks([0, 50, 100])\n",
    "ax1.set_xlabel('Common')\n",
    "ax2.set_xlabel('Rare')\n",
    "ax2.tick_params(axis='y', size=0)\n",
    "\n",
    "plt.savefig(os.path.join(figdir, 'population_size_histograms_gcat.svg'), bbox_inches='tight')"
   ]
  },
  {
   "cell_type": "code",
   "execution_count": 73,
   "metadata": {
    "ExecuteTime": {
     "end_time": "2025-04-27T23:48:04.499218Z",
     "start_time": "2025-04-27T23:48:04.494150Z"
    }
   },
   "outputs": [
    {
     "data": {
      "text/html": [
       "<div>\n",
       "<style scoped>\n",
       "    .dataframe tbody tr th:only-of-type {\n",
       "        vertical-align: middle;\n",
       "    }\n",
       "\n",
       "    .dataframe tbody tr th {\n",
       "        vertical-align: top;\n",
       "    }\n",
       "\n",
       "    .dataframe thead th {\n",
       "        text-align: right;\n",
       "    }\n",
       "</style>\n",
       "<table border=\"1\" class=\"dataframe\">\n",
       "  <thead>\n",
       "    <tr style=\"text-align: right;\">\n",
       "      <th></th>\n",
       "      <th>0</th>\n",
       "    </tr>\n",
       "  </thead>\n",
       "  <tbody>\n",
       "    <tr>\n",
       "      <th>DISEASE/TRAIT</th>\n",
       "      <td>Proteinuria</td>\n",
       "    </tr>\n",
       "    <tr>\n",
       "      <th>STUDY ACCESSION</th>\n",
       "      <td>GCST90250893</td>\n",
       "    </tr>\n",
       "    <tr>\n",
       "      <th>COHORT_C</th>\n",
       "      <td>other</td>\n",
       "    </tr>\n",
       "    <tr>\n",
       "      <th>TRAIT_CODE_CLEAN</th>\n",
       "      <td>HP_0000093</td>\n",
       "    </tr>\n",
       "    <tr>\n",
       "      <th>MAPPED_TRAIT_CLEAN_C</th>\n",
       "      <td>proteinuria</td>\n",
       "    </tr>\n",
       "    <tr>\n",
       "      <th>N_C</th>\n",
       "      <td>1078.0</td>\n",
       "    </tr>\n",
       "    <tr>\n",
       "      <th>Cosine_C</th>\n",
       "      <td>1.0</td>\n",
       "    </tr>\n",
       "    <tr>\n",
       "      <th>TraitExp_C</th>\n",
       "      <td>Proteinuria</td>\n",
       "    </tr>\n",
       "    <tr>\n",
       "      <th>MappedCleanExp_C</th>\n",
       "      <td>proteinuria</td>\n",
       "    </tr>\n",
       "    <tr>\n",
       "      <th>PUBMED ID</th>\n",
       "      <td>36399516</td>\n",
       "    </tr>\n",
       "    <tr>\n",
       "      <th>Reported Trait</th>\n",
       "      <td>Isolated proteinuria</td>\n",
       "    </tr>\n",
       "    <tr>\n",
       "      <th>Trait Label</th>\n",
       "      <td>Proteinuria</td>\n",
       "    </tr>\n",
       "    <tr>\n",
       "      <th>PMID</th>\n",
       "      <td>34375979</td>\n",
       "    </tr>\n",
       "    <tr>\n",
       "      <th>COHORT_R</th>\n",
       "      <td>UKB</td>\n",
       "    </tr>\n",
       "    <tr>\n",
       "      <th>N_R</th>\n",
       "      <td>190361.0</td>\n",
       "    </tr>\n",
       "    <tr>\n",
       "      <th>Classification</th>\n",
       "      <td>Population CC</td>\n",
       "    </tr>\n",
       "    <tr>\n",
       "      <th>Cosine_R</th>\n",
       "      <td>0.871416</td>\n",
       "    </tr>\n",
       "    <tr>\n",
       "      <th>MAPPED_TRAIT_CLEAN_R</th>\n",
       "      <td>proteinuria</td>\n",
       "    </tr>\n",
       "    <tr>\n",
       "      <th>TraitExp_R</th>\n",
       "      <td>isolated proteinuria</td>\n",
       "    </tr>\n",
       "    <tr>\n",
       "      <th>MappedCleanExp_R</th>\n",
       "      <td>proteinuria</td>\n",
       "    </tr>\n",
       "    <tr>\n",
       "      <th>CosineRC</th>\n",
       "      <td>0.871416</td>\n",
       "    </tr>\n",
       "    <tr>\n",
       "      <th>Domain</th>\n",
       "      <td>Renal</td>\n",
       "    </tr>\n",
       "    <tr>\n",
       "      <th>trait_type</th>\n",
       "      <td>CC</td>\n",
       "    </tr>\n",
       "    <tr>\n",
       "      <th>StudyC</th>\n",
       "      <td>GCST90250893_HP_0000093</td>\n",
       "    </tr>\n",
       "    <tr>\n",
       "      <th>StudyR</th>\n",
       "      <td>34375979_HP_0000093</td>\n",
       "    </tr>\n",
       "  </tbody>\n",
       "</table>\n",
       "</div>"
      ],
      "text/plain": [
       "                                            0\n",
       "DISEASE/TRAIT                     Proteinuria\n",
       "STUDY ACCESSION                  GCST90250893\n",
       "COHORT_C                                other\n",
       "TRAIT_CODE_CLEAN                   HP_0000093\n",
       "MAPPED_TRAIT_CLEAN_C              proteinuria\n",
       "N_C                                    1078.0\n",
       "Cosine_C                                  1.0\n",
       "TraitExp_C                        Proteinuria\n",
       "MappedCleanExp_C                  proteinuria\n",
       "PUBMED ID                            36399516\n",
       "Reported Trait           Isolated proteinuria\n",
       "Trait Label                       Proteinuria\n",
       "PMID                                 34375979\n",
       "COHORT_R                                  UKB\n",
       "N_R                                  190361.0\n",
       "Classification                  Population CC\n",
       "Cosine_R                             0.871416\n",
       "MAPPED_TRAIT_CLEAN_R              proteinuria\n",
       "TraitExp_R               isolated proteinuria\n",
       "MappedCleanExp_R                  proteinuria\n",
       "CosineRC                             0.871416\n",
       "Domain                                  Renal\n",
       "trait_type                                 CC\n",
       "StudyC                GCST90250893_HP_0000093\n",
       "StudyR                    34375979_HP_0000093"
      ]
     },
     "execution_count": 73,
     "metadata": {},
     "output_type": "execute_result"
    }
   ],
   "source": [
    "final_shared_df.head(1).T"
   ]
  },
  {
   "cell_type": "code",
   "execution_count": 74,
   "metadata": {
    "ExecuteTime": {
     "end_time": "2025-04-27T23:48:05.426639Z",
     "start_time": "2025-04-27T23:48:05.424608Z"
    }
   },
   "outputs": [],
   "source": [
    "#final_shared_df.loc[:, ('N_R', 'N_C', 'Domain', 'trait_type', 'DISEASE/TRAIT', 'StudyC', 'StudyR', 'Cosine_C', 'Cosine_R', 'COHORT_C', 'COHORT_R')].to_csv(os.path.join(datadir, 'inputs', 'gcat_input_features_Mar28.tsv'), sep='\\t', index=False)"
   ]
  },
  {
   "cell_type": "markdown",
   "metadata": {},
   "source": [
    "## P-val distributions"
   ]
  },
  {
   "cell_type": "code",
   "execution_count": 85,
   "metadata": {
    "ExecuteTime": {
     "end_time": "2025-06-02T17:47:59.971883Z",
     "start_time": "2025-06-02T17:47:34.347346Z"
    }
   },
   "outputs": [
    {
     "name": "stderr",
     "output_type": "stream",
     "text": [
      "373it [00:25, 14.56it/s]\n"
     ]
    }
   ],
   "source": [
    "\n",
    "def get_common_genes(t, gwas_genes, accession, trait):\n",
    "    study_genes = gwas_genes[(gwas_genes.TRAIT_CODE_CLEAN==t) & (gwas_genes['STUDY ACCESSION']==accession) & (gwas_genes['DISEASE/TRAIT']==trait)]\n",
    "    study_genes = study_genes.sort_values('logp', ascending=False)\n",
    "    study_genes = study_genes.drop_duplicates(subset='Entrez')\n",
    "    return study_genes\n",
    "\n",
    "def get_rare_genes(t, pmid, trait, ravar_gene):\n",
    "    study_genes = ravar_genes[(ravar_genes.TRAIT_CODE_CLEAN==t) & (ravar_genes['PMID']==pmid) & (ravar_genes['Reported Trait']==trait)]\n",
    "    study_genes = study_genes.sort_values('P-value', ascending=True)\n",
    "    study_genes = study_genes.drop_duplicates(subset='Entrez')\n",
    "    study_genes['logp'] = study_genes['P-value'].apply(lambda x: -1 * np.log10(x +1e-250))\n",
    "    return study_genes\n",
    "\n",
    "results = {}\n",
    "\n",
    "for i, t in tqdm(enumerate(final_shared_df.TRAIT_CODE_CLEAN.values)):\n",
    "    # get common genes\n",
    "    accession = final_shared_df.iloc[i]['STUDY ACCESSION']\n",
    "    trait = final_shared_df.iloc[i]['DISEASE/TRAIT']\n",
    "    c_genes = get_common_genes(t, gwas_genes, accession, trait)\n",
    "    pmid = final_shared_df.iloc[i]['PMID']\n",
    "    trait = final_shared_df.iloc[i]['Reported Trait']\n",
    "    r_genes = get_rare_genes(t, pmid, trait, ravar_genes )\n",
    "    overlap_genes = set(c_genes.Entrez.values).intersection(set(r_genes.Entrez.values))\n",
    "    c_disjoint = c_genes[~c_genes.Entrez.isin(overlap_genes)]\n",
    "    r_disjoint = r_genes[~r_genes.Entrez.isin(overlap_genes)]\n",
    "    if len(overlap_genes) > 0:\n",
    "    # common\n",
    "        if len(c_disjoint) > 0:\n",
    "            cDisjoint = c_disjoint.logp.median()\n",
    "            cShared = c_genes[c_genes.Entrez.isin(overlap_genes)].logp.median()\n",
    "        else:\n",
    "            cDisjoint = np.nan\n",
    "            cShared = np.nan\n",
    "    \n",
    "    # rare\n",
    "        if len(r_disjoint) > 0:\n",
    "            rDisjoint = r_disjoint.logp.median()\n",
    "            rShared = r_genes[r_genes.Entrez.isin(overlap_genes)].logp.median()\n",
    "        else:\n",
    "            rDisjoint = np.nan\n",
    "            rShared = np.nan\n",
    "    else:\n",
    "        cDisjoint = np.nan\n",
    "        cShared = np.nan\n",
    "        rDisjoint = np.nan\n",
    "        rShared = np.nan\n",
    "    results[t] = {'rSharedMed': rShared, 'cSharedMed': cShared, 'rOnlyMed':rDisjoint, 'cOnlyMed': cDisjoint}"
   ]
  },
  {
   "cell_type": "code",
   "execution_count": 87,
   "metadata": {
    "ExecuteTime": {
     "end_time": "2025-06-02T17:48:10.568827Z",
     "start_time": "2025-06-02T17:48:10.566084Z"
    }
   },
   "outputs": [],
   "source": [
    "test_df = pd.DataFrame.from_dict(results, orient='index')"
   ]
  },
  {
   "cell_type": "code",
   "execution_count": 94,
   "metadata": {
    "ExecuteTime": {
     "end_time": "2025-06-02T17:50:00.759501Z",
     "start_time": "2025-06-02T17:50:00.757608Z"
    }
   },
   "outputs": [],
   "source": [
    "from scipy.stats import wilcoxon"
   ]
  },
  {
   "cell_type": "code",
   "execution_count": 96,
   "metadata": {
    "ExecuteTime": {
     "end_time": "2025-06-02T17:50:16.148557Z",
     "start_time": "2025-06-02T17:50:15.771043Z"
    }
   },
   "outputs": [
    {
     "data": {
      "image/png": "[encoded data removed]",
      "text/plain": [
       "<Figure size 300x150 with 2 Axes>"
      ]
     },
     "metadata": {},
     "output_type": "display_data"
    }
   ],
   "source": [
    "_, [ax1, ax2] = plt.subplots( nrows=1, ncols=2, figsize=(3, 1.5), gridspec_kw={'wspace':0.4})\n",
    "sns.violinplot(test_df.melt(value_vars=[ 'cSharedMed', 'cOnlyMed'], var_name='Set', value_name='MedP'),\n",
    "              x='Set', y='MedP', hue='Set', cut=0, fill=False, palette=['k','k'], linewidth=0.3,\n",
    "              order = [ 'cSharedMed', 'cOnlyMed',], zorder=2, ax=ax1)\n",
    "sns.stripplot(test_df.dropna().melt(value_vars=[ 'cSharedMed', 'cOnlyMed'], \n",
    "                                    var_name='Set', value_name='MedP'), palette=[blue, blue],\n",
    "              order= [ 'cSharedMed', 'cOnlyMed'],jitter=0.2,\n",
    "              x='Set', y='MedP', hue='Set', edgecolor='black', s=2, zorder=1, ax=ax1)\n",
    "\n",
    "sns.violinplot(test_df.melt(value_vars=['rSharedMed', 'rOnlyMed'], var_name='Set', value_name='MedP'),\n",
    "              x='Set', y='MedP', hue='Set', cut=0, fill=False, palette=['k', 'k'], linewidth=0.3,\n",
    "              order = [ 'rSharedMed', 'rOnlyMed'], zorder=2, ax=ax2)\n",
    "sns.stripplot(test_df.dropna().melt(value_vars=[ 'rSharedMed', 'rOnlyMed'], \n",
    "                                    var_name='Set', value_name='MedP'), palette=[ green, green],\n",
    "              order= [ 'rSharedMed', 'rOnlyMed'],jitter=0.2,\n",
    "              x='Set', y='MedP', hue='Set', edgecolor='black', s=2, zorder=1, ax=ax2)\n",
    "\n",
    "common_df = test_df.loc[:, ('cSharedMed', 'cOnlyMed')].dropna()\n",
    "rare_df = test_df.loc[:, ('rSharedMed', 'rOnlyMed')].dropna()\n",
    "\n",
    "p_common = wilcoxon(common_df.cSharedMed, common_df.cOnlyMed).pvalue\n",
    "p_rare = wilcoxon(rare_df.rSharedMed, rare_df.rOnlyMed).pvalue\n",
    "\n",
    "\n",
    "for i, ax in enumerate([ax1, ax2]):\n",
    "    ax.set_xticks([0,1], labels=['Shared', 'Disjoint'])\n",
    "    ax.set_xlabel(f'{[\"Common\", \"Rare\"][i]} (n={[len(common_df), len(rare_df)][i]})')\n",
    "    ax.set_ylim(0, [320, 150][i])\n",
    "    ax.text(x=0.25, y=[320, 150][i]*0.75, s=f'p={[p_common, p_rare][i]:.1e}')\n",
    "    ax.set_ylabel('Median Assoc P-value')\n",
    "plt.savefig(os.path.join(figdir, 'p_value_comparison.svg'),bbox_inches='tight')"
   ]
  },
  {
   "cell_type": "markdown",
   "metadata": {},
   "source": [
    "## Create Input files"
   ]
  },
  {
   "cell_type": "code",
   "execution_count": 75,
   "metadata": {
    "ExecuteTime": {
     "end_time": "2025-04-27T23:48:06.745883Z",
     "start_time": "2025-04-27T23:48:06.739377Z"
    }
   },
   "outputs": [
    {
     "data": {
      "text/plain": [
       "count    6.037400e+04\n",
       "mean     1.798475e-05\n",
       "std      2.804771e-05\n",
       "min      0.000000e+00\n",
       "25%      2.450000e-15\n",
       "50%      4.150000e-09\n",
       "75%      3.200000e-05\n",
       "max      9.940000e-05\n",
       "Name: P-value, dtype: float64"
      ]
     },
     "execution_count": 75,
     "metadata": {},
     "output_type": "execute_result"
    }
   ],
   "source": [
    "ravar_genes['P-value'].describe()"
   ]
  },
  {
   "cell_type": "code",
   "execution_count": 76,
   "metadata": {
    "ExecuteTime": {
     "end_time": "2025-04-27T23:48:07.382490Z",
     "start_time": "2025-04-27T23:48:07.299725Z"
    }
   },
   "outputs": [],
   "source": [
    "inputdir = '/cellar/users/snwright/Data/RareCommon/inputs/March_2025'\n",
    "with open(os.path.join(inputdir, 'common_Mar28.traitlist'), 'w') as f:\n",
    "    f.writelines('\\n'.join(final_shared_df.StudyC.values)+'\\n')\n",
    "with open(os.path.join(inputdir, 'rare_Mar28.traitlist'), 'w') as f:\n",
    "    f.writelines('\\n'.join(final_shared_df.StudyR.values)+'\\n')"
   ]
  },
  {
   "cell_type": "code",
   "execution_count": 77,
   "metadata": {
    "ExecuteTime": {
     "end_time": "2025-04-27T23:48:08.141346Z",
     "start_time": "2025-04-27T23:48:08.138604Z"
    }
   },
   "outputs": [
    {
     "data": {
      "text/plain": [
       "(373, 25)"
      ]
     },
     "execution_count": 77,
     "metadata": {},
     "output_type": "execute_result"
    }
   ],
   "source": [
    "final_shared_df.shape"
   ]
  },
  {
   "cell_type": "code",
   "execution_count": 78,
   "metadata": {
    "ExecuteTime": {
     "end_time": "2025-04-27T23:48:08.883766Z",
     "start_time": "2025-04-27T23:48:08.794217Z"
    }
   },
   "outputs": [
    {
     "data": {
      "text/plain": [
       "PUBMEDID                        162\n",
       "DATE_x                          155\n",
       "DISEASE/TRAIT                   373\n",
       "MAPPED_GENE                    5318\n",
       "SNP_GENE_IDS                   5318\n",
       "INTERGENIC                        1\n",
       "P-VALUE                         958\n",
       "OR or BETA                     8578\n",
       "MAPPED_TRAIT                    370\n",
       "MAPPED_TRAIT_URI                370\n",
       "STUDY ACCESSION                 373\n",
       "logp                            952\n",
       "from                           5318\n",
       "Entrez                         5318\n",
       "INITIAL SAMPLE SIZE             251\n",
       "DATE ADDED TO CATALOG           154\n",
       "PUBMED ID                       162\n",
       "FIRST AUTHOR                    158\n",
       "DATE_y                          155\n",
       "JOURNAL                          73\n",
       "LINK                            162\n",
       "STUDY                           162\n",
       "REPLICATION SAMPLE SIZE          43\n",
       "PLATFORM [SNPS PASSING QC]      234\n",
       "GENOTYPING TECHNOLOGY             2\n",
       "SUBMISSION DATE                   0\n",
       "STATISTICAL MODEL                 0\n",
       "BACKGROUND TRAIT                  0\n",
       "MAPPED BACKGROUND TRAIT           0\n",
       "MAPPED BACKGROUND TRAIT URI       0\n",
       "COHORT                           84\n",
       "FULL SUMMARY STATISTICS           2\n",
       "GXE                               1\n",
       "TraitExp                        373\n",
       "MappedExp                       370\n",
       "MAPPED_TRAIT_CLEAN              373\n",
       "TRAIT_CODE_CLEAN                373\n",
       "dtype: int64"
      ]
     },
     "execution_count": 78,
     "metadata": {},
     "output_type": "execute_result"
    }
   ],
   "source": [
    "# check that there don't seem to be too many unique values outside the primary indexers\n",
    "gwas_genes[gwas_genes.TRAIT_CODE_CLEAN.isin(final_shared_df.TRAIT_CODE_CLEAN)  &\n",
    "          gwas_genes['STUDY ACCESSION'].isin(final_shared_df['STUDY ACCESSION']) &\n",
    "          gwas_genes['DISEASE/TRAIT'].isin(final_shared_df['DISEASE/TRAIT'])].nunique()"
   ]
  },
  {
   "cell_type": "code",
   "execution_count": 79,
   "metadata": {
    "ExecuteTime": {
     "end_time": "2025-04-27T23:48:31.205029Z",
     "start_time": "2025-04-27T23:48:09.729979Z"
    }
   },
   "outputs": [
    {
     "name": "stderr",
     "output_type": "stream",
     "text": [
      "373it [00:21, 17.37it/s]\n"
     ]
    }
   ],
   "source": [
    "c_size= []\n",
    "for i, t in tqdm(enumerate(final_shared_df.TRAIT_CODE_CLEAN.values)):\n",
    "    accession = final_shared_df.iloc[i]['STUDY ACCESSION']\n",
    "    trait = final_shared_df.iloc[i]['DISEASE/TRAIT']\n",
    "    study_genes = gwas_genes[(gwas_genes.TRAIT_CODE_CLEAN==t) & (gwas_genes['STUDY ACCESSION']==accession) & (gwas_genes['DISEASE/TRAIT']==trait)]\n",
    "    study_genes = study_genes.sort_values('logp', ascending=False)\n",
    "    study_genes = study_genes.drop_duplicates(subset='Entrez')\n",
    "    study_out = study_genes.loc[:, ('Entrez', 'MAPPED_GENE', 'P-VALUE', 'OR or BETA' )]\n",
    "    study_out.columns = ['Entrez', 'Gene Symbol', 'P-value', 'Beta']\n",
    "    c_size.append(len(study_out))\n",
    "    #study_out.to_csv(os.path.join(inputdir, accession+'_'+t+'_CV.txt'), sep='\\t', index=False)"
   ]
  },
  {
   "cell_type": "code",
   "execution_count": 80,
   "metadata": {
    "ExecuteTime": {
     "end_time": "2025-04-27T23:48:34.800902Z",
     "start_time": "2025-04-27T23:48:31.504864Z"
    }
   },
   "outputs": [
    {
     "name": "stderr",
     "output_type": "stream",
     "text": [
      "373it [00:03, 113.35it/s]\n"
     ]
    }
   ],
   "source": [
    "r_size=[]\n",
    "for i, t in tqdm(enumerate(final_shared_df.TRAIT_CODE_CLEAN.values)):\n",
    "    pmid = final_shared_df.iloc[i]['PMID']\n",
    "    trait = final_shared_df.iloc[i]['Reported Trait']\n",
    "    study_genes = ravar_genes[(ravar_genes.TRAIT_CODE_CLEAN==t) & (ravar_genes['PMID']==pmid) & (ravar_genes['Reported Trait']==trait)]\n",
    "    study_genes = study_genes.sort_values('P-value', ascending=True)\n",
    "    study_genes = study_genes.drop_duplicates(subset='Entrez')\n",
    "    study_out = study_genes.loc[:, ('Entrez', 'Gene Symbol','Ensembl ID',  'P-value')]\n",
    "    r_size.append(len(study_out))\n",
    "    #study_out.to_csv(os.path.join(inputdir, str(int(pmid))+'_'+t+'_RV.txt'), sep='\\t', index=False)"
   ]
  },
  {
   "cell_type": "markdown",
   "metadata": {},
   "source": [
    "## Identify repeats\n",
    "\n",
    "\n",
    "What should be prioritized:\n",
    "* Cosine similarity (set minimums, not realistic to manually check)\n",
    "* Different PMID\n",
    "* Different COHORT\n",
    "* Study size"
   ]
  },
  {
   "cell_type": "code",
   "execution_count": 81,
   "metadata": {
    "ExecuteTime": {
     "end_time": "2025-04-27T23:49:18.404321Z",
     "start_time": "2025-04-27T23:49:18.390349Z"
    }
   },
   "outputs": [],
   "source": [
    "def select_top_gwas_study(gwas_data, trait, study_info, keep_studies, exclude=['UKB', 'UKBB']):\n",
    "    study_info['StudyTrait'] = study_info['STUDY ACCESSION'] + '_' + study_info['TRAIT_CODE_CLEAN']\n",
    "    study_subset = study_info[study_info['STUDY ACCESSION'].isin(gwas_data[(gwas_data.TRAIT_CODE_CLEAN==trait) & (gwas_data['STUDY ACCESSION'].isin(keep_studies))]['STUDY ACCESSION'])]\n",
    "    study_subset = study_subset.dropna(subset=['N'])\n",
    "    #print(len(study_subset))\n",
    "    \n",
    "    if len(study_subset) > 1:\n",
    "        study_subset = prioritize_by_cosine(study_subset, th=0.8)\n",
    "        if len(study_subset) > 1:\n",
    "            study_subset = prioritize_by_cohort(study_subset, exclude=exclude)\n",
    "            if len(study_subset) > 1:\n",
    "                study_subset = prioritize_by_n(study_subset)\n",
    "                if len(study_subset) > 1:\n",
    "                    study_subset = prioritize_by_sumstats(study_subset)\n",
    "                    if len(study_subset) > 1:\n",
    "                        study_subset = prioritize_by_cohort(study_subset)\n",
    "                        if len(study_subset) > 1:\n",
    "                            return select_top_n(study_subset)\n",
    "                        else:\n",
    "                            return study_subset['STUDY ACCESSION'].values[0]\n",
    "                    else:\n",
    "                        return study_subset['STUDY ACCESSION'].values[0]\n",
    "                else:\n",
    "                    return study_subset['STUDY ACCESSION'].values[0]\n",
    "            else:\n",
    "                return study_subset['STUDY ACCESSION'].values[0]\n",
    "        else:\n",
    "            return study_subset['STUDY ACCESSION'].values[0]\n",
    "    elif len(study_subset) == 0:\n",
    "        #print('No studies with N information')\n",
    "        return np.nan\n",
    "    else:\n",
    "        return study_subset['STUDY ACCESSION'].values[0]\n",
    "\n",
    "\n",
    "def prioritize_by_cosine(study_subset, th=0.8):\n",
    "    while th > -0.1:\n",
    "        high_cosine = study_subset[study_subset.Cosine>th]\n",
    "        if len(high_cosine) >= 1:\n",
    "            non_found = False\n",
    "            return high_cosine\n",
    "        else:\n",
    "            th -= 0.1\n",
    "    return high_cosine\n",
    "    \n",
    "    \n",
    "def prioritize_by_sumstats(study_subset):\n",
    "    with_sumstats = study_subset[~study_subset['SUMMARY STATS LOCATION'].isna()]\n",
    "    if len(with_sumstats) == 0:\n",
    "        return study_subset\n",
    "    else:\n",
    "        return with_sumstats\n",
    "\n",
    "def prioritize_by_n(study_subset):\n",
    "    high_n = study_subset[study_subset.N > 100000]\n",
    "    if len(high_n) == 0:\n",
    "        high_n = study_subset[study_subset.N > 50000]\n",
    "        if len(high_n) == 0:\n",
    "            return study_subset\n",
    "        else:\n",
    "            return high_n\n",
    "    else:\n",
    "        return high_n\n",
    "    \n",
    "\n",
    "def prioritize_by_cohort(study_subset, exclude=[]):\n",
    "    if len(exclude) > 0:\n",
    "        excluded = study_subset[~study_subset.COHORT.isin(exclude)]\n",
    "        if len(excluded) > 0:\n",
    "            return excluded\n",
    "        else:\n",
    "            return study_subset\n",
    "    else:\n",
    "        with_cohort = study_subset[~study_subset.COHORT.isna()]\n",
    "        if len(with_cohort) == 0:\n",
    "            return study_subset\n",
    "        else:\n",
    "            return with_cohort\n",
    "        \n",
    "\n",
    "def select_top_n(study_subset):\n",
    "    return study_subset.sort_values('N', ascending=False)['STUDY ACCESSION'].values[0]\n",
    "\n",
    "\n",
    "def prioritize_gwas_studies(gwas_data, trait, keep_studies, study_info, n=5, verbose=True):\n",
    "    study_info['StudyTrait'] = study_info['STUDY ACCESSION'] + '_' + study_info['TRAIT_CODE']\n",
    "    study_subset = study_info[study_info['STUDY ACCESSION'].isin(gwas_data[gwas_data.TRAIT_CODE==trait]['STUDY ACCESSION'])]\n",
    "    \n",
    "    study_subset = study_subset[study_subset['StudyTrait'].isin(keep_studies)]\n",
    "    initial_count = len(study_subset)\n",
    "    study_subset = study_subset.dropna(subset=['N'])\n",
    "\n",
    "    out_studies = []\n",
    "    if len(study_subset) > n:\n",
    "        # remove those with background traits\n",
    "        study_subset = study_subset[study_subset['MAPPED BACKGROUND TRAIT URI'].isna()]\n",
    "        if len(study_subset) > n:\n",
    "            #priortize those with summary stats available\n",
    "            if len(study_subset[~study_subset['SUMMARY STATS LOCATION'].isna()]) > n:\n",
    "                study_subset = study_subset[~study_subset['SUMMARY STATS LOCATION'].isna()]\n",
    "            else:\n",
    "                out_studies += list(study_subset[~study_subset['SUMMARY STATS LOCATION'].isna()].drop_duplicates(subset=['COHORTID'])['STUDY ACCESSION'].values)\n",
    "                n -= len(out_studies)\n",
    "                study_subset = study_subset[study_subset['SUMMARY STATS LOCATION'].isna()]\n",
    "            # then sort by population size.\n",
    "            study_subset = study_subset.sort_values(['N', 'ASSOCIATION COUNT'], ascending=False)\n",
    "            # then select by cohort\n",
    "            has_cohort = study_subset[~study_subset.COHORT.isna()]\n",
    "            keep_cohort = has_cohort.drop_duplicates(subset='COHORTID', keep='first').drop_duplicates(subset='DATE ADDED TO CATALOG')\n",
    "            if len(keep_cohort) >= n:\n",
    "                out_studies += list(keep_cohort['STUDY ACCESSION'].values[0:n])\n",
    "            else:\n",
    "                out_studies += list(keep_cohort['STUDY ACCESSION'].values)\n",
    "                n = n - len(keep_cohort)\n",
    "                out_studies += list(study_subset[study_subset.COHORT.isna()]['STUDY ACCESSION'].values[0:n])\n",
    "        else:\n",
    "            out_studies += list(study_subset['STUDY ACCESSION'].values)\n",
    "    else:\n",
    "        study_subset = study_subset.sort_values(['N', 'ASSOCIATION COUNT'], ascending=False)\n",
    "        keep_cohort = study_subset.drop_duplicates(subset='COHORTID', keep='first').drop_duplicates(subset='DATE ADDED TO CATALOG')\n",
    "        out_studies += list(keep_cohort['STUDY ACCESSION'].values)\n",
    "    if verbose:\n",
    "        print(trait, initial_count, len(out_studies))\n",
    "    return out_studies\n",
    "\n"
   ]
  },
  {
   "cell_type": "markdown",
   "metadata": {},
   "source": [
    "### CV"
   ]
  },
  {
   "cell_type": "code",
   "execution_count": 82,
   "metadata": {
    "ExecuteTime": {
     "end_time": "2025-04-27T23:49:19.962887Z",
     "start_time": "2025-04-27T23:49:19.956254Z"
    }
   },
   "outputs": [],
   "source": [
    "# remove already used studies\n",
    "def identify_trait_repeats_cv(trait, study_info, exclude_study_info=('pmid', 'study acc', 'dis/t'), n=4, cosine_min=0.7):\n",
    "    trait_info = study_info[study_info.TRAIT_CODE_CLEAN==trait]\n",
    "    # identify the info of the already selected study:\n",
    "    cohort = trait_info[(trait_info['STUDY ACCESSION'] == exclude_study_info[1]) &\n",
    "                       (trait_info['DISEASE/TRAIT'] == exclude_study_info[2]) &\n",
    "                       (trait_info['PUBMED ID'] == exclude_study_info[0])].COHORT.values[0]\n",
    "    # drop based on cosine similarities\n",
    "    trait_info = trait_info[trait_info.Cosine >= cosine_min]\n",
    "    \n",
    "    # first drop by PMID\n",
    "    trait_info = trait_info[~trait_info['PUBMED ID'].isin([exclude_study_info[0]])]\n",
    "    \n",
    "    # now prioritize remaining studies\n",
    "    if len(trait_info) == 0:\n",
    "        return np.nan\n",
    "    elif len(trait_info) <= n:\n",
    "        return [x for x in zip(trait_info['STUDY ACCESSION'].values, trait_info['DISEASE/TRAIT'].values)]\n",
    "    else:\n",
    "        # still too many studies\n",
    "        remove_cohort = trait_info[trait_info.COHORT!=cohort].sort_values(by=['Cosine', 'N'], ascending=False).drop_duplicates(subset='COHORT')\n",
    "        out_studies = []\n",
    "        out_studies += [x for x in zip(remove_cohort['STUDY ACCESSION'].values, remove_cohort['DISEASE/TRAIT'].values)]\n",
    "        if len(out_studies) == n:\n",
    "            return out_studies\n",
    "        elif len(out_studies) >= n:\n",
    "            return out_studies[0:n]\n",
    "        else:\n",
    "            while len(out_studies) < n:\n",
    "            \n",
    "                remaining_n = n - len(out_studies)\n",
    "                remaining_studies = trait_info[~trait_info['STUDY ACCESSION'].isin([x[0] for x in out_studies])].sort_values(by=['Cosine', 'N'], ascending=False)\n",
    "                if len(remaining_studies.drop_duplicates(subset='COHORT')) > remaining_n:\n",
    "                    out_studies += [x for x in zip(remaining_studies.drop_duplicates(subset='COHORT')['STUDY ACCESSION'].values[0:remaining_n],\n",
    "                                                  remaining_studies.drop_duplicates(subset='COHORT')['DISEASE/TRAIT'].values[0:remaining_n])]\n",
    "                    return out_studies\n",
    "                else:\n",
    "                    out_studies += [x for x in zip(remaining_studies.drop_duplicates(subset='COHORT')['STUDY ACCESSION'].values,\n",
    "                                                  remaining_studies.drop_duplicates(subset='COHORT')['DISEASE/TRAIT'].values)]\n",
    "            return out_studies\n",
    "                \n",
    "    \n",
    "    "
   ]
  },
  {
   "cell_type": "code",
   "execution_count": 83,
   "metadata": {
    "ExecuteTime": {
     "end_time": "2025-04-27T23:49:21.844642Z",
     "start_time": "2025-04-27T23:49:20.752152Z"
    }
   },
   "outputs": [
    {
     "name": "stderr",
     "output_type": "stream",
     "text": [
      "100%|██████████| 373/373 [00:01<00:00, 343.23it/s]\n"
     ]
    }
   ],
   "source": [
    "cv_repeats = {}\n",
    "for t in tqdm(final_shared_df['TRAIT_CODE_CLEAN'].unique()):\n",
    "    t.replace(':', '_')\n",
    "    pmid = final_shared_df.loc[final_shared_df.TRAIT_CODE_CLEAN==t,('PUBMED ID')].values[0]\n",
    "    acc = final_shared_df.loc[final_shared_df.TRAIT_CODE_CLEAN==t,('STUDY ACCESSION')].values[0]\n",
    "    dis = final_shared_df.loc[final_shared_df.TRAIT_CODE_CLEAN==t,('DISEASE/TRAIT')].values[0]\n",
    "    cv_repeats[t] = identify_trait_repeats_cv( t, study_info, exclude_study_info=(pmid, acc, dis),n=4)"
   ]
  },
  {
   "cell_type": "code",
   "execution_count": 84,
   "metadata": {
    "ExecuteTime": {
     "end_time": "2025-04-27T23:49:22.272644Z",
     "start_time": "2025-04-27T23:49:22.266036Z"
    }
   },
   "outputs": [],
   "source": [
    "# remove already used studies\n",
    "def identify_trait_repeats_rv(trait, study_info, exclude_study_info=('pmid', 'dis/t'), n=4, cosine_min=0.7):\n",
    "    trait_info = study_info[study_info.TRAIT_CODE_CLEAN==trait]\n",
    "    # identify the info of the already selected study:\n",
    "    cohort = trait_info[(trait_info['Reported Trait'] == exclude_study_info[1]) &\n",
    "                       (trait_info['PMID'] == exclude_study_info[0])].COHORT.values[0]\n",
    "    # drop based on cosine similarities\n",
    "    trait_info = trait_info[trait_info.Cosine >= cosine_min]\n",
    "    \n",
    "    # first drop by PMID\n",
    "    trait_info = trait_info[~trait_info['PMID'].isin([exclude_study_info[0]])]\n",
    "    \n",
    "    # now prioritize remaining studies\n",
    "    if len(trait_info) == 0:\n",
    "        return np.nan\n",
    "    elif len(trait_info) <= n:\n",
    "        out_info = trait_info.sort_values(by=['Cosine', 'N'], ascending=False).drop_duplicates(subset='PMID')\n",
    "        return [x for x in zip(out_info['PMID'].values, out_info['Reported Trait'])]\n",
    "    else:\n",
    "        # still too many studies\n",
    "        remove_cohort = trait_info[trait_info.COHORT!=cohort].sort_values(by=['Cosine', 'N'], ascending=False).drop_duplicates(subset='COHORT').drop_duplicates(subset='PMID')\n",
    "        out_studies = []\n",
    "        out_studies += [x for x in zip(remove_cohort['PMID'].values, remove_cohort['Reported Trait'])]\n",
    "        if len(out_studies) == n:\n",
    "            return out_studies\n",
    "        elif len(out_studies) >= n:\n",
    "            return out_studies[0:n]\n",
    "        else:\n",
    "            while len(out_studies) < n:\n",
    "            \n",
    "                remaining_n = n - len(out_studies)\n",
    "                remaining_studies = trait_info[~trait_info['PMID'].isin([x[0] for x in out_studies])].sort_values(by=['Cosine', 'N'], ascending=False).drop_duplicates(subset='PMID')\n",
    "                if len(remaining_studies) == 0:\n",
    "                    return out_studies\n",
    "                if len(remaining_studies.drop_duplicates(subset='COHORT')) > remaining_n:\n",
    "                    out_studies += [x for x in zip(remaining_studies.drop_duplicates(subset='COHORT')['PMID'].values[0:remaining_n],\n",
    "                                   remaining_studies.drop_duplicates(subset='COHORT')['Reported Trait'].values[0:remaining_n])]\n",
    "                    return out_studies\n",
    "                else:\n",
    "                    out_studies += [x for x in zip(remaining_studies.drop_duplicates(subset='COHORT')['PMID'].values,\n",
    "                                   remaining_studies.drop_duplicates(subset='COHORT')['Reported Trait'].values)]\n",
    "            return out_studies\n",
    "    \n",
    "    "
   ]
  },
  {
   "cell_type": "code",
   "execution_count": 85,
   "metadata": {
    "ExecuteTime": {
     "end_time": "2025-04-27T23:49:23.990496Z",
     "start_time": "2025-04-27T23:49:23.240474Z"
    }
   },
   "outputs": [
    {
     "name": "stderr",
     "output_type": "stream",
     "text": [
      "100%|██████████| 373/373 [00:00<00:00, 501.06it/s]\n"
     ]
    }
   ],
   "source": [
    "rv_repeats = {}\n",
    "for t in tqdm(final_shared_df['TRAIT_CODE_CLEAN'].unique()):\n",
    "    t.replace(':', '_')\n",
    "    pmid = final_shared_df.loc[final_shared_df.TRAIT_CODE_CLEAN==t,('PMID')].values[0]\n",
    "    dis = final_shared_df.loc[final_shared_df.TRAIT_CODE_CLEAN==t,('Reported Trait')].values[0]\n",
    "    rv_repeats[t] = identify_trait_repeats_rv( t, rv_study_info, exclude_study_info=(pmid,dis),n=4)"
   ]
  },
  {
   "cell_type": "markdown",
   "metadata": {},
   "source": [
    "### Create genesets"
   ]
  },
  {
   "cell_type": "code",
   "execution_count": 86,
   "metadata": {
    "ExecuteTime": {
     "end_time": "2025-04-27T23:49:59.170506Z",
     "start_time": "2025-04-27T23:49:26.092814Z"
    }
   },
   "outputs": [
    {
     "name": "stderr",
     "output_type": "stream",
     "text": [
      "373it [00:33, 11.28it/s]\n"
     ]
    }
   ],
   "source": [
    "for i, t in tqdm(enumerate(cv_repeats.keys())):\n",
    "    if isinstance(cv_repeats[t], list):\n",
    "        for acc, dis in cv_repeats[t]:\n",
    "            study_genes = gwas_genes[(gwas_genes.TRAIT_CODE_CLEAN==t) & \n",
    "                                     (gwas_genes['STUDY ACCESSION']==acc) & \n",
    "                                     (gwas_genes['DISEASE/TRAIT']==dis)]\n",
    "            study_genes = study_genes.sort_values('P-VALUE', ascending=True)\n",
    "            study_genes = study_genes.drop_duplicates(subset='Entrez')\n",
    "            study_out = study_genes.loc[:, ('Entrez', 'MAPPED_GENE', 'P-VALUE', 'OR or BETA' )]\n",
    "            study_out.columns = ['Entrez', 'Gene Symbol', 'P-value', 'Beta']\n",
    "            #study_out.to_csv(os.path.join(inputdir, acc+'_'+t+'_CV.txt'), sep='\\t', index=False)"
   ]
  },
  {
   "cell_type": "code",
   "execution_count": 87,
   "metadata": {
    "ExecuteTime": {
     "end_time": "2025-04-27T23:50:00.915600Z",
     "start_time": "2025-04-27T23:49:59.474588Z"
    }
   },
   "outputs": [
    {
     "name": "stderr",
     "output_type": "stream",
     "text": [
      "373it [00:01, 259.94it/s]\n"
     ]
    }
   ],
   "source": [
    "for i, t in tqdm(enumerate(rv_repeats.keys())):\n",
    "    if isinstance(rv_repeats[t], list):\n",
    "        for acc, dis in rv_repeats[t]:  \n",
    "            study_genes = ravar_genes[(ravar_genes.TRAIT_CODE_CLEAN==t) & \n",
    "                                      (ravar_genes['PMID']==acc) & \n",
    "                                      (ravar_genes['Reported Trait']==dis)]\n",
    "\n",
    "            study_genes = study_genes.sort_values('P-value', ascending=True)\n",
    "            study_genes = study_genes.drop_duplicates(subset='Entrez')\n",
    "            study_out = study_genes.loc[:, ('Entrez', 'Gene Symbol','Ensembl ID',  'P-value')]\n",
    "            #study_out.to_csv(os.path.join(inputdir, str(int(acc))+'_'+t+'_RV.txt'), sep='\\t', index=False)"
   ]
  },
  {
   "cell_type": "markdown",
   "metadata": {},
   "source": [
    "### Create repeat pairs, including originals"
   ]
  },
  {
   "cell_type": "code",
   "execution_count": 88,
   "metadata": {
    "ExecuteTime": {
     "end_time": "2025-04-27T23:51:03.663796Z",
     "start_time": "2025-04-27T23:51:03.409306Z"
    }
   },
   "outputs": [
    {
     "data": {
      "text/plain": [
       "(1261, 3)"
      ]
     },
     "execution_count": 88,
     "metadata": {},
     "output_type": "execute_result"
    }
   ],
   "source": [
    "all_pairs = []\n",
    "for trait in cv_repeats.keys():\n",
    "    original_cv = multi_select_cv[trait]\n",
    "    original_rv = multi_select_rv[trait]\n",
    "    new_cv = cv_repeats[trait]\n",
    "    new_rv = rv_repeats[trait]\n",
    "    if isinstance(new_cv, list):\n",
    "        all_cv = [original_cv] + [x[0] for x in new_cv]\n",
    "    else:\n",
    "        all_cv = [original_cv]\n",
    "    if isinstance(new_rv, list):\n",
    "        all_rv = [original_rv] + [x[0] for x in new_rv]\n",
    "    else:\n",
    "        all_rv = [original_rv]\n",
    "    r_studies = []\n",
    "    c_studies = []\n",
    "    for studyC in all_cv:\n",
    "        for studyR in all_rv:\n",
    "            if (studyR != original_rv) or (studyC != original_cv):\n",
    "                r_studies.append(studyR)\n",
    "                c_studies.append(studyC)\n",
    "    if len(c_studies) > 0:\n",
    "        all_pairs.append(pd.DataFrame({'C':c_studies, 'R':r_studies, 'TRAIT_CODE_CLEAN':trait}))\n",
    "        \n",
    "repeat_df = pd.concat(all_pairs)\n",
    "repeat_df.shape"
   ]
  },
  {
   "cell_type": "code",
   "execution_count": 89,
   "metadata": {
    "ExecuteTime": {
     "end_time": "2025-04-27T23:51:04.264146Z",
     "start_time": "2025-04-27T23:51:04.258722Z"
    }
   },
   "outputs": [],
   "source": [
    "repeat_df = repeat_df.assign(StudyC=repeat_df.C+'_'+repeat_df.TRAIT_CODE_CLEAN)\n",
    "repeat_df = repeat_df.assign(StudyR=repeat_df.R.astype(int).astype(str)+'_'+repeat_df.TRAIT_CODE_CLEAN)"
   ]
  },
  {
   "cell_type": "code",
   "execution_count": 90,
   "metadata": {
    "ExecuteTime": {
     "end_time": "2025-04-27T23:51:08.028921Z",
     "start_time": "2025-04-27T23:51:07.714781Z"
    }
   },
   "outputs": [],
   "source": [
    "inputdir = '/cellar/users/snwright/Data/RareCommon/inputs/March_2025'\n",
    "with open(os.path.join(inputdir, 'common_repeats.traitlist'), 'w') as f:\n",
    "    f.writelines('\\n'.join(repeat_df.StudyC.values)+'\\n')\n",
    "with open(os.path.join(inputdir, 'rare_repeats.traitlist'), 'w') as f:\n",
    "    f.writelines('\\n'.join(repeat_df.StudyR.values)+'\\n')"
   ]
  },
  {
   "cell_type": "code",
   "execution_count": 91,
   "metadata": {
    "ExecuteTime": {
     "end_time": "2025-04-27T23:51:08.625925Z",
     "start_time": "2025-04-27T23:51:08.622898Z"
    }
   },
   "outputs": [
    {
     "data": {
      "text/plain": [
       "Index(['DATE ADDED TO CATALOG', 'PUBMED ID', 'FIRST AUTHOR', 'DATE', 'JOURNAL',\n",
       "       'LINK', 'STUDY', 'DISEASE/TRAIT', 'INITIAL SAMPLE SIZE',\n",
       "       'REPLICATION SAMPLE SIZE', 'PLATFORM [SNPS PASSING QC]',\n",
       "       'ASSOCIATION COUNT', 'MAPPED_TRAIT', 'MAPPED_TRAIT_URI',\n",
       "       'STUDY ACCESSION', 'GENOTYPING TECHNOLOGY', 'SUBMISSION DATE',\n",
       "       'STATISTICAL MODEL', 'BACKGROUND TRAIT', 'MAPPED BACKGROUND TRAIT',\n",
       "       'MAPPED BACKGROUND TRAIT URI', 'COHORT', 'FULL SUMMARY STATISTICS',\n",
       "       'SUMMARY STATS LOCATION', 'GXE', 'TraitExp', 'MappedExp',\n",
       "       'MAPPED_TRAIT_CLEAN', 'TRAIT_CODE_CLEAN', 'N', 'MAPPED_GENE',\n",
       "       'MappedCleanExp', 'Cosine', 'StudyTrait'],\n",
       "      dtype='object')"
      ]
     },
     "execution_count": 91,
     "metadata": {},
     "output_type": "execute_result"
    }
   ],
   "source": [
    "study_info.columns"
   ]
  },
  {
   "cell_type": "code",
   "execution_count": 97,
   "metadata": {
    "ExecuteTime": {
     "end_time": "2025-04-27T23:55:53.513435Z",
     "start_time": "2025-04-27T23:55:53.505846Z"
    }
   },
   "outputs": [],
   "source": [
    "repeat_df2 = repeat_df.merge(study_info.loc[:, ('StudyTrait', 'DISEASE/TRAIT', 'N', 'COHORT', 'Cosine', 'PUBMED ID', 'MAPPED_GENE')], \n",
    "                            left_on='StudyC', right_on='StudyTrait',\n",
    "               how='left').drop(columns='StudyTrait')"
   ]
  },
  {
   "cell_type": "code",
   "execution_count": 93,
   "metadata": {
    "ExecuteTime": {
     "end_time": "2025-04-27T23:51:11.089866Z",
     "start_time": "2025-04-27T23:51:11.086966Z"
    }
   },
   "outputs": [
    {
     "data": {
      "text/plain": [
       "(1261, 5)"
      ]
     },
     "execution_count": 93,
     "metadata": {},
     "output_type": "execute_result"
    }
   ],
   "source": [
    "repeat_df.shape"
   ]
  },
  {
   "cell_type": "code",
   "execution_count": 96,
   "metadata": {
    "ExecuteTime": {
     "end_time": "2025-04-27T23:55:37.283312Z",
     "start_time": "2025-04-27T23:55:37.280061Z"
    }
   },
   "outputs": [
    {
     "data": {
      "text/plain": [
       "Index(['Reported Trait', 'Trait Label', 'Trait Ontology id', 'PMID', 'COHORT',\n",
       "       'N', 'Ancestry', 'Classification', 'Notes', 'rv_idx', 'Trait', 'Mapped',\n",
       "       'TraitExp', 'MappedExp', 'MAPPED_TRAIT_CLEAN', 'TRAIT_CODE_CLEAN',\n",
       "       'GeneCount', 'MappedCleanExp', 'Cosine', 'StudyTrait'],\n",
       "      dtype='object')"
      ]
     },
     "execution_count": 96,
     "metadata": {},
     "output_type": "execute_result"
    }
   ],
   "source": [
    "rv_study_info.columns"
   ]
  },
  {
   "cell_type": "code",
   "execution_count": 94,
   "metadata": {
    "ExecuteTime": {
     "end_time": "2025-04-27T23:51:11.810260Z",
     "start_time": "2025-04-27T23:51:11.806512Z"
    }
   },
   "outputs": [],
   "source": [
    "rv_study_info['StudyTrait'] = rv_study_info.PMID.astype(int).astype(str) + '_' + rv_study_info.TRAIT_CODE_CLEAN"
   ]
  },
  {
   "cell_type": "code",
   "execution_count": 98,
   "metadata": {
    "ExecuteTime": {
     "end_time": "2025-04-27T23:55:59.548384Z",
     "start_time": "2025-04-27T23:55:59.542490Z"
    }
   },
   "outputs": [],
   "source": [
    "repeat2 = repeat_df2.merge(rv_study_info.loc[:, ('PMID','Reported Trait', 'COHORT', 'N', 'Ancestry', 'Cosine', 'GeneCount', 'StudyTrait')].drop_duplicates(subset=['StudyTrait']), \n",
    "                left_on='StudyR', right_on='StudyTrait', suffixes=('_C', '_R'), how='left')"
   ]
  },
  {
   "cell_type": "code",
   "execution_count": 99,
   "metadata": {
    "ExecuteTime": {
     "end_time": "2025-04-27T23:56:12.878773Z",
     "start_time": "2025-04-27T23:56:12.875663Z"
    }
   },
   "outputs": [
    {
     "data": {
      "text/plain": [
       "Index(['C', 'R', 'TRAIT_CODE_CLEAN', 'StudyC', 'StudyR', 'DISEASE/TRAIT',\n",
       "       'N_C', 'COHORT_C', 'Cosine_C', 'PUBMED ID', 'MAPPED_GENE', 'PMID',\n",
       "       'Reported Trait', 'COHORT_R', 'N_R', 'Ancestry', 'Cosine_R',\n",
       "       'GeneCount', 'StudyTrait'],\n",
       "      dtype='object')"
      ]
     },
     "execution_count": 99,
     "metadata": {},
     "output_type": "execute_result"
    }
   ],
   "source": [
    "repeat2.columns"
   ]
  },
  {
   "cell_type": "code",
   "execution_count": 100,
   "metadata": {
    "ExecuteTime": {
     "end_time": "2025-04-27T23:56:23.567117Z",
     "start_time": "2025-04-27T23:56:23.529123Z"
    }
   },
   "outputs": [],
   "source": [
    "repeat2.to_csv('/cellar/users/snwright/Data/RareCommon/inputs/repeat_study_info.txt', sep='\\t', index=False)\n"
   ]
  },
  {
   "cell_type": "markdown",
   "metadata": {},
   "source": [
    "### RV"
   ]
  },
  {
   "cell_type": "code",
   "execution_count": null,
   "metadata": {},
   "outputs": [],
   "source": []
  },
  {
   "cell_type": "markdown",
   "metadata": {},
   "source": [
    "# With UKB filtering"
   ]
  },
  {
   "cell_type": "code",
   "execution_count": 355,
   "metadata": {
    "ExecuteTime": {
     "end_time": "2025-03-26T19:27:01.798809Z",
     "start_time": "2025-03-26T19:27:00.004404Z"
    }
   },
   "outputs": [],
   "source": [
    "gwas_genes= pd.read_csv(os.path.join(datadir, 'GWASCatalog', 'gwas_catalog_Jan29_2025.txt.cleanedJan29.entrez'), sep=\"\\t\")\n",
    "gwas_genes = gwas_genes[gwas_genes.Entrez.isin(pc_nodes)]\n",
    "study_info = pd.read_csv(os.path.join(datadir, 'GWASCatalog', 'trait_info_cleaned_Jan29_2025.txt'), sep=\"\\t\")\n",
    "study_info_full = pd.read_csv(os.path.join(datadir, 'GWASCatalog', 'study_info.v1.0.3.1_Jan29_2025.txt'), sep='\\t')"
   ]
  },
  {
   "cell_type": "code",
   "execution_count": 356,
   "metadata": {
    "ExecuteTime": {
     "end_time": "2025-03-26T19:27:02.004876Z",
     "start_time": "2025-03-26T19:27:01.799925Z"
    }
   },
   "outputs": [],
   "source": [
    "study_info = study_info.merge(study_info_full.loc[:, ['DISEASE/TRAIT', 'MAPPED_TRAIT', 'STUDY ACCESSION', 'PUBMED ID']], on=['DISEASE/TRAIT', 'STUDY ACCESSION'], how='left')\n",
    "studies_with_background = study_info[~study_info['MAPPED BACKGROUND TRAIT URI'].isna()]['STUDY ACCESSION'].values\n",
    "gwas_genes = gwas_genes[~gwas_genes['STUDY ACCESSION'].isin(studies_with_background)]\n",
    "study_info = study_info[~study_info['STUDY ACCESSION'].isin(studies_with_background)]"
   ]
  },
  {
   "cell_type": "code",
   "execution_count": 357,
   "metadata": {
    "ExecuteTime": {
     "end_time": "2025-03-26T19:27:02.008668Z",
     "start_time": "2025-03-26T19:27:02.006093Z"
    }
   },
   "outputs": [],
   "source": [
    "import re\n",
    "def extract_sample_size(s):\n",
    "    if isinstance(s, str):\n",
    "        # Find all occurrences of numbers which may include commas.\n",
    "        matches = re.findall(r'\\d[\\d,]*', s)\n",
    "        # Remove commas and convert each match to an integer, then sum them up.\n",
    "        return sum(int(num.replace(',', '')) for num in matches)\n",
    "    else:\n",
    "        return np.nan"
   ]
  },
  {
   "cell_type": "code",
   "execution_count": 358,
   "metadata": {
    "ExecuteTime": {
     "end_time": "2025-03-26T19:27:02.278802Z",
     "start_time": "2025-03-26T19:27:02.009883Z"
    }
   },
   "outputs": [],
   "source": [
    "study_info['N'] = study_info['INITIAL SAMPLE SIZE'].apply(lambda x: extract_sample_size(x))"
   ]
  },
  {
   "cell_type": "code",
   "execution_count": 359,
   "metadata": {
    "ExecuteTime": {
     "end_time": "2025-03-26T19:27:02.477125Z",
     "start_time": "2025-03-26T19:27:02.280112Z"
    }
   },
   "outputs": [],
   "source": [
    "ravar_genes = pd.read_csv(os.path.join(datadir,'RAVAR' ,'gene_fulltable_06112024.txt.entrez'),sep='\\t', low_memory=False,\n",
    "                            usecols=['Gene Symbol', 'Ensembl ID', 'Gene Type', 'CHR', 'Location', 'Reported Trait', 'Trait Label', \n",
    "                                     'Trait Ontology id', 'EFO synonym', 'P-value', 'PMID', 'TRAIT_CODE', 'Entrez'])\n",
    "ravar_genes = ravar_genes[ravar_genes.Entrez.isin(pc_nodes)]\n",
    "#replace '−' with '-'\n",
    "#ravar_genes['P-value'] = ravar_genes['P-value'].apply(lambda x: float(x.replace('−','-')) if type(x) == str else float(x))\n",
    "#ravar_genes['TRAIT_CODE'] = ravar_genes['Trait Ontology id'].apply(lambda x: x.replace(\":\", \"_\") if type(x) == str else x)"
   ]
  },
  {
   "cell_type": "code",
   "execution_count": null,
   "metadata": {
    "ExecuteTime": {
     "end_time": "2025-03-26T17:57:39.070972Z",
     "start_time": "2025-03-26T17:57:39.062247Z"
    }
   },
   "outputs": [],
   "source": []
  },
  {
   "cell_type": "markdown",
   "metadata": {},
   "source": [
    "## Filter RAVAR"
   ]
  },
  {
   "cell_type": "code",
   "execution_count": 360,
   "metadata": {
    "ExecuteTime": {
     "end_time": "2025-03-26T19:27:02.540067Z",
     "start_time": "2025-03-26T19:27:02.478381Z"
    }
   },
   "outputs": [],
   "source": [
    "# remove any with 'Exclude' annotation\n",
    "rv_study_info = pd.read_csv(os.path.join(datadir, 'rv_study_info_cleaned_with_manual.tsv'), sep='\\t', index_col=0)\n",
    "rv_study_info = rv_study_info[(~rv_study_info.COHORT.isin(['Exclude', 'Exlcude', 'Exlclude', 'Review'])) & (rv_study_info['Classification']!='Exclude')]\n",
    "ravar_genes = ravar_genes.merge(rv_study_info.loc[:, ('Reported Trait', 'PMID')], how='inner')\n",
    "study_counts = ravar_genes.groupby(['Reported Trait', 'PMID']).Entrez.nunique().reset_index()\n",
    "study_counts = study_counts.rename(columns={'Entrez': 'GeneCount'})\n",
    "\n",
    "ravar_genes = ravar_genes.merge(study_counts[study_counts.GeneCount >= 3], on=['Reported Trait', 'PMID'])\n",
    "rv_study_info = rv_study_info.merge(study_counts, on = ['Reported Trait', 'PMID'])\n",
    "rv_study_info['TRAIT_CODE'] = rv_study_info['Trait Ontology id'].apply(lambda z: z.replace(':', '_'))"
   ]
  },
  {
   "cell_type": "code",
   "execution_count": 361,
   "metadata": {
    "ExecuteTime": {
     "end_time": "2025-03-26T19:27:02.544243Z",
     "start_time": "2025-03-26T19:27:02.541207Z"
    }
   },
   "outputs": [],
   "source": [
    "rv_study_info = rv_study_info[rv_study_info.GeneCount>= 3]\n",
    "rv_start= rv_study_info['Trait Ontology id'].nunique()\n"
   ]
  },
  {
   "cell_type": "code",
   "execution_count": 411,
   "metadata": {
    "ExecuteTime": {
     "end_time": "2025-04-02T18:59:32.237547Z",
     "start_time": "2025-04-02T18:59:32.234622Z"
    }
   },
   "outputs": [
    {
     "data": {
      "text/plain": [
       "(2207, 20)"
      ]
     },
     "execution_count": 411,
     "metadata": {},
     "output_type": "execute_result"
    }
   ],
   "source": [
    "rv_study_info.shape"
   ]
  },
  {
   "cell_type": "code",
   "execution_count": 412,
   "metadata": {
    "ExecuteTime": {
     "end_time": "2025-04-02T18:59:43.650754Z",
     "start_time": "2025-04-02T18:59:43.648108Z"
    }
   },
   "outputs": [
    {
     "data": {
      "text/plain": [
       "1121"
      ]
     },
     "execution_count": 412,
     "metadata": {},
     "output_type": "execute_result"
    }
   ],
   "source": [
    "rv_start"
   ]
  },
  {
   "cell_type": "markdown",
   "metadata": {},
   "source": [
    "### Remove studies from UKB subset"
   ]
  },
  {
   "cell_type": "code",
   "execution_count": 362,
   "metadata": {
    "ExecuteTime": {
     "end_time": "2025-03-26T19:27:02.560783Z",
     "start_time": "2025-03-26T19:27:02.545332Z"
    }
   },
   "outputs": [],
   "source": [
    "remove_r = [36778668]\n",
    "remove_c = pd.read_csv(os.path.join(datadir, 'GWASAtlas', 'UKB_Atlas_Genebass_matched_traits.tsv'), sep='\\t')\n",
    "c_pmids = [int(x) for x in remove_c.PMID.unique() if 'BioRxiv' not in x]\n",
    "all_remove = remove_r + list(remove_c)"
   ]
  },
  {
   "cell_type": "code",
   "execution_count": 363,
   "metadata": {
    "ExecuteTime": {
     "end_time": "2025-03-26T19:27:02.646323Z",
     "start_time": "2025-03-26T19:27:02.561843Z"
    }
   },
   "outputs": [],
   "source": [
    "gwas_genes = gwas_genes[~gwas_genes.PUBMEDID.isin(all_remove)]\n",
    "ravar_genes = ravar_genes[~ravar_genes.PMID.isin(all_remove)]\n",
    "study_info = study_info[~study_info['PUBMED ID'].isin(all_remove)]"
   ]
  },
  {
   "cell_type": "code",
   "execution_count": 364,
   "metadata": {
    "ExecuteTime": {
     "end_time": "2025-03-26T19:27:02.657167Z",
     "start_time": "2025-03-26T19:27:02.647519Z"
    }
   },
   "outputs": [
    {
     "data": {
      "text/html": [
       "<div>\n",
       "<style scoped>\n",
       "    .dataframe tbody tr th:only-of-type {\n",
       "        vertical-align: middle;\n",
       "    }\n",
       "\n",
       "    .dataframe tbody tr th {\n",
       "        vertical-align: top;\n",
       "    }\n",
       "\n",
       "    .dataframe thead th {\n",
       "        text-align: right;\n",
       "    }\n",
       "</style>\n",
       "<table border=\"1\" class=\"dataframe\">\n",
       "  <thead>\n",
       "    <tr style=\"text-align: right;\">\n",
       "      <th></th>\n",
       "      <th>PUBMEDID</th>\n",
       "      <th>DATE</th>\n",
       "      <th>DISEASE/TRAIT</th>\n",
       "      <th>MAPPED_GENE</th>\n",
       "      <th>SNP_GENE_IDS</th>\n",
       "      <th>INTERGENIC</th>\n",
       "      <th>P-VALUE</th>\n",
       "      <th>OR or BETA</th>\n",
       "      <th>MAPPED_TRAIT</th>\n",
       "      <th>MAPPED_TRAIT_URI</th>\n",
       "      <th>STUDY ACCESSION</th>\n",
       "      <th>TRAIT_CODE</th>\n",
       "      <th>logp</th>\n",
       "      <th>from</th>\n",
       "      <th>Entrez</th>\n",
       "    </tr>\n",
       "  </thead>\n",
       "  <tbody>\n",
       "    <tr>\n",
       "      <th>0</th>\n",
       "      <td>25673412</td>\n",
       "      <td>2015-02-12</td>\n",
       "      <td>Hip circumference adjusted for BMI</td>\n",
       "      <td>TSEN15</td>\n",
       "      <td>ENSG00000198860</td>\n",
       "      <td>0.0</td>\n",
       "      <td>6.000000e-10</td>\n",
       "      <td>0.0232</td>\n",
       "      <td>BMI-adjusted hip circumference</td>\n",
       "      <td>http://www.ebi.ac.uk/efo/EFO_0008039</td>\n",
       "      <td>GCST004067</td>\n",
       "      <td>EFO_0008039</td>\n",
       "      <td>9.221849</td>\n",
       "      <td>ENSG00000198860</td>\n",
       "      <td>116461</td>\n",
       "    </tr>\n",
       "    <tr>\n",
       "      <th>1</th>\n",
       "      <td>25673412</td>\n",
       "      <td>2015-02-12</td>\n",
       "      <td>Hip circumference adjusted for BMI</td>\n",
       "      <td>HMGXB4</td>\n",
       "      <td>ENSG00000100281</td>\n",
       "      <td>0.0</td>\n",
       "      <td>4.000000e-08</td>\n",
       "      <td>0.0207</td>\n",
       "      <td>BMI-adjusted hip circumference</td>\n",
       "      <td>http://www.ebi.ac.uk/efo/EFO_0008039</td>\n",
       "      <td>GCST004067</td>\n",
       "      <td>EFO_0008039</td>\n",
       "      <td>7.397940</td>\n",
       "      <td>ENSG00000100281</td>\n",
       "      <td>10042</td>\n",
       "    </tr>\n",
       "    <tr>\n",
       "      <th>2</th>\n",
       "      <td>25673412</td>\n",
       "      <td>2015-02-12</td>\n",
       "      <td>Hip circumference adjusted for BMI</td>\n",
       "      <td>PLAG1</td>\n",
       "      <td>ENSG00000181690</td>\n",
       "      <td>0.0</td>\n",
       "      <td>9.000000e-10</td>\n",
       "      <td>0.0282</td>\n",
       "      <td>BMI-adjusted hip circumference</td>\n",
       "      <td>http://www.ebi.ac.uk/efo/EFO_0008039</td>\n",
       "      <td>GCST004067</td>\n",
       "      <td>EFO_0008039</td>\n",
       "      <td>9.045757</td>\n",
       "      <td>ENSG00000181690</td>\n",
       "      <td>5324</td>\n",
       "    </tr>\n",
       "    <tr>\n",
       "      <th>3</th>\n",
       "      <td>25673412</td>\n",
       "      <td>2015-02-12</td>\n",
       "      <td>Hip circumference adjusted for BMI</td>\n",
       "      <td>MTMR11</td>\n",
       "      <td>ENSG00000014914</td>\n",
       "      <td>0.0</td>\n",
       "      <td>6.000000e-25</td>\n",
       "      <td>0.0413</td>\n",
       "      <td>BMI-adjusted hip circumference</td>\n",
       "      <td>http://www.ebi.ac.uk/efo/EFO_0008039</td>\n",
       "      <td>GCST004067</td>\n",
       "      <td>EFO_0008039</td>\n",
       "      <td>24.221849</td>\n",
       "      <td>ENSG00000014914</td>\n",
       "      <td>10903</td>\n",
       "    </tr>\n",
       "    <tr>\n",
       "      <th>4</th>\n",
       "      <td>25673412</td>\n",
       "      <td>2015-02-12</td>\n",
       "      <td>Hip circumference adjusted for BMI</td>\n",
       "      <td>RFT1</td>\n",
       "      <td>ENSG00000163933</td>\n",
       "      <td>0.0</td>\n",
       "      <td>6.000000e-14</td>\n",
       "      <td>0.0269</td>\n",
       "      <td>BMI-adjusted hip circumference</td>\n",
       "      <td>http://www.ebi.ac.uk/efo/EFO_0008039</td>\n",
       "      <td>GCST004067</td>\n",
       "      <td>EFO_0008039</td>\n",
       "      <td>13.221849</td>\n",
       "      <td>ENSG00000163933</td>\n",
       "      <td>91869</td>\n",
       "    </tr>\n",
       "  </tbody>\n",
       "</table>\n",
       "</div>"
      ],
      "text/plain": [
       "   PUBMEDID        DATE                       DISEASE/TRAIT MAPPED_GENE  \\\n",
       "0  25673412  2015-02-12  Hip circumference adjusted for BMI      TSEN15   \n",
       "1  25673412  2015-02-12  Hip circumference adjusted for BMI      HMGXB4   \n",
       "2  25673412  2015-02-12  Hip circumference adjusted for BMI       PLAG1   \n",
       "3  25673412  2015-02-12  Hip circumference adjusted for BMI      MTMR11   \n",
       "4  25673412  2015-02-12  Hip circumference adjusted for BMI        RFT1   \n",
       "\n",
       "      SNP_GENE_IDS  INTERGENIC       P-VALUE  OR or BETA  \\\n",
       "0  ENSG00000198860         0.0  6.000000e-10      0.0232   \n",
       "1  ENSG00000100281         0.0  4.000000e-08      0.0207   \n",
       "2  ENSG00000181690         0.0  9.000000e-10      0.0282   \n",
       "3  ENSG00000014914         0.0  6.000000e-25      0.0413   \n",
       "4  ENSG00000163933         0.0  6.000000e-14      0.0269   \n",
       "\n",
       "                     MAPPED_TRAIT                      MAPPED_TRAIT_URI  \\\n",
       "0  BMI-adjusted hip circumference  http://www.ebi.ac.uk/efo/EFO_0008039   \n",
       "1  BMI-adjusted hip circumference  http://www.ebi.ac.uk/efo/EFO_0008039   \n",
       "2  BMI-adjusted hip circumference  http://www.ebi.ac.uk/efo/EFO_0008039   \n",
       "3  BMI-adjusted hip circumference  http://www.ebi.ac.uk/efo/EFO_0008039   \n",
       "4  BMI-adjusted hip circumference  http://www.ebi.ac.uk/efo/EFO_0008039   \n",
       "\n",
       "  STUDY ACCESSION   TRAIT_CODE       logp             from  Entrez  \n",
       "0      GCST004067  EFO_0008039   9.221849  ENSG00000198860  116461  \n",
       "1      GCST004067  EFO_0008039   7.397940  ENSG00000100281   10042  \n",
       "2      GCST004067  EFO_0008039   9.045757  ENSG00000181690    5324  \n",
       "3      GCST004067  EFO_0008039  24.221849  ENSG00000014914   10903  \n",
       "4      GCST004067  EFO_0008039  13.221849  ENSG00000163933   91869  "
      ]
     },
     "execution_count": 364,
     "metadata": {},
     "output_type": "execute_result"
    }
   ],
   "source": [
    "gwas_genes.head()"
   ]
  },
  {
   "cell_type": "code",
   "execution_count": 365,
   "metadata": {
    "ExecuteTime": {
     "end_time": "2025-03-26T19:27:02.799225Z",
     "start_time": "2025-03-26T19:27:02.658338Z"
    }
   },
   "outputs": [],
   "source": [
    "study_info = study_info[study_info['ASSOCIATION COUNT'] >=3]\n",
    "geneCounts = gwas_genes.groupby(['DISEASE/TRAIT', 'STUDY ACCESSION']).MAPPED_GENE.nunique().reset_index()\n",
    "study_info = study_info.merge(geneCounts, on=['DISEASE/TRAIT', 'STUDY ACCESSION'])"
   ]
  },
  {
   "cell_type": "code",
   "execution_count": 366,
   "metadata": {
    "ExecuteTime": {
     "end_time": "2025-03-26T19:27:02.850649Z",
     "start_time": "2025-03-26T19:27:02.800388Z"
    }
   },
   "outputs": [],
   "source": [
    "study_info = study_info[study_info.MAPPED_GENE >= 3]\n",
    "study_info['TraitExp'] = study_info['DISEASE/TRAIT'].apply(lambda x: replace_acronyms(x, acronym_expansions))\n",
    "study_info['MappedTraitExp'] = study_info['MAPPED_TRAIT'].apply(lambda x: replace_acronyms(x, acronym_expansions))"
   ]
  },
  {
   "cell_type": "code",
   "execution_count": 367,
   "metadata": {
    "ExecuteTime": {
     "end_time": "2025-03-26T19:27:02.861425Z",
     "start_time": "2025-03-26T19:27:02.851832Z"
    }
   },
   "outputs": [],
   "source": [
    "rv_study_info['ReportedTraitExp'] = rv_study_info['Reported Trait'].apply(lambda x: replace_acronyms(x, acronym_expansions))\n",
    "rv_study_info['TraitLabelExp'] = rv_study_info['Trait Label'].apply(lambda x: replace_acronyms(x, acronym_expansions))"
   ]
  },
  {
   "cell_type": "code",
   "execution_count": 368,
   "metadata": {
    "ExecuteTime": {
     "end_time": "2025-03-26T19:27:14.024469Z",
     "start_time": "2025-03-26T19:27:02.862455Z"
    }
   },
   "outputs": [
    {
     "data": {
      "text/plain": [
       "array(['UKB', 'SpiroMeta,CHARGE', 'WTCCC', 'TOPMed', 'Mixed', 'Finnish',\n",
       "       'ADNI', 'MyCode', 'WHI', 'GIANT', 'ARIC', 'Meta', 'SCZD',\n",
       "       'COPDGene', 'SCOOP,INTERVAL', 'Nevada', 'Study30140000',\n",
       "       'NHLBI-ESP,CHARGE', 'HyperGEN', 'Study36038634', 'FHS', 'KARE',\n",
       "       'AGP', 'Qatar', 'Psoriasis', 'NCRAD', 'SLSJ', 'Faroe Islands',\n",
       "       'GAW19', 'PDAY'], dtype=object)"
      ]
     },
     "execution_count": 368,
     "metadata": {},
     "output_type": "execute_result"
    }
   ],
   "source": [
    "reported = model.encode(rv_study_info['ReportedTraitExp'].values, batch_size=32)\n",
    "labeled = model.encode(rv_study_info['TraitLabelExp'].values, batch_size=32)\n",
    "cosines = cosine_similarity(reported, labeled)\n",
    "rv_study_info = rv_study_info.assign(Cosine=[cosines[i,i] for i in range(len(reported))])\n",
    "rv_study_info.COHORT.unique()"
   ]
  },
  {
   "cell_type": "code",
   "execution_count": 369,
   "metadata": {
    "ExecuteTime": {
     "end_time": "2025-03-26T19:27:22.474743Z",
     "start_time": "2025-03-26T19:27:14.030485Z"
    }
   },
   "outputs": [],
   "source": [
    "multi_select_rv_no_ukb = {}\n",
    "for t in rv_study_info['Trait Ontology id'].unique():\n",
    "    t = t.replace(':', '_')\n",
    "    multi_select_rv_no_ukb[t] = prioritize_rv_studies(ravar_genes, t, rv_study_info, exclude=['UKB'],\n",
    "                                                      keep_studies=rv_study_info.PMID.values)"
   ]
  },
  {
   "cell_type": "code",
   "execution_count": 370,
   "metadata": {
    "ExecuteTime": {
     "end_time": "2025-03-26T19:28:38.926510Z",
     "start_time": "2025-03-26T19:27:22.475933Z"
    }
   },
   "outputs": [],
   "source": [
    "trait = model.encode(study_info['TraitExp'].values, batch_size=32)\n",
    "mapped = model.encode(study_info['MappedTraitExp'].values, batch_size=32)\n",
    "cosines = cosine_similarity(trait, mapped)\n",
    "study_info = study_info.assign(Cosine=[cosines[i,i] for i in range(len(trait))])\n",
    "study_info = study_info.drop_duplicates()"
   ]
  },
  {
   "cell_type": "code",
   "execution_count": 371,
   "metadata": {
    "ExecuteTime": {
     "end_time": "2025-03-26T19:30:44.207991Z",
     "start_time": "2025-03-26T19:28:38.928780Z"
    }
   },
   "outputs": [
    {
     "name": "stderr",
     "output_type": "stream",
     "text": [
      "100%|██████████| 3559/3559 [02:05<00:00, 28.41it/s]\n"
     ]
    }
   ],
   "source": [
    "multi_select_cv_no_ukb = {}\n",
    "for t in tqdm(study_info['TRAIT_CODE'].unique()):\n",
    "    t.replace(':', '_')\n",
    "    multi_select_cv_no_ukb[t] = select_top_gwas_study(gwas_genes, t, study_info, exclude = ['UKB', 'UKBB'], \n",
    "                                                      keep_studies=study_info['STUDY ACCESSION'].values)"
   ]
  },
  {
   "cell_type": "code",
   "execution_count": 372,
   "metadata": {
    "ExecuteTime": {
     "end_time": "2025-03-26T19:30:44.230206Z",
     "start_time": "2025-03-26T19:30:44.209478Z"
    }
   },
   "outputs": [
    {
     "name": "stdout",
     "output_type": "stream",
     "text": [
      "283\n"
     ]
    }
   ],
   "source": [
    "shared_studies_no_ukb = set(multi_select_cv_no_ukb.keys()).intersection(multi_select_rv_no_ukb.keys())\n",
    "rv_study_info['TRAIT_CODE'] = rv_study_info['Trait Ontology id'].apply(lambda x: x.replace(':', '_'))\n",
    "shared_rv_no_ukb = pd.DataFrame({'PMID': multi_select_rv_no_ukb}).reset_index().rename(columns={'index':'TRAIT_CODE'}).dropna()\n",
    "shared_rv_no_ukb = shared_rv_no_ukb[shared_rv_no_ukb.TRAIT_CODE.isin(shared_studies_no_ukb)]\n",
    "print(len(shared_rv_no_ukb))\n",
    "shared_rv_no_ukb['PMID'] = shared_rv_no_ukb.PMID.astype(int)\n",
    "shared_rv_no_ukb = rv_study_info.merge(shared_rv_no_ukb, on=['PMID', 'TRAIT_CODE'], \n",
    "                    how='inner').drop_duplicates().sort_values(by='Cosine', ascending=False)\n",
    "shared_rv_no_ukb = shared_rv_no_ukb.drop_duplicates(subset=['PMID', 'TRAIT_CODE'])\n",
    "shared_rv_no_ukb.to_csv(os.path.join(datadir, 'RAVAR', 'ravar_gwascat_study_info_ukb_filtered.txt'), sep='\\t', index=False)"
   ]
  },
  {
   "cell_type": "markdown",
   "metadata": {
    "ExecuteTime": {
     "end_time": "2025-03-14T18:17:21.723465Z",
     "start_time": "2025-03-14T18:17:21.720019Z"
    }
   },
   "source": [
    "### Shared CV with UKB filtering"
   ]
  },
  {
   "cell_type": "code",
   "execution_count": 373,
   "metadata": {
    "ExecuteTime": {
     "end_time": "2025-03-26T19:30:44.250923Z",
     "start_time": "2025-03-26T19:30:44.231313Z"
    }
   },
   "outputs": [],
   "source": [
    "shared_cv_no_ukb = pd.DataFrame({'STUDY ACCESSION': multi_select_cv_no_ukb}).reset_index().rename(columns={'index':'TRAIT_CODE'}).dropna()\n",
    "shared_cv_no_ukb = shared_cv_no_ukb[shared_cv_no_ukb.TRAIT_CODE.isin(shared_studies_no_ukb)]\n",
    "shared_cv_no_ukb = study_info.merge(shared_cv_no_ukb, on=['STUDY ACCESSION', 'TRAIT_CODE'], \n",
    "                             how='inner').drop_duplicates().sort_values(by='Cosine', ascending=False)\n",
    "shared_cv_no_ukb.to_csv(os.path.join(datadir, 'GWASCatalog', 'gwascat_ravar_study_info_ukb_filtered.txt'), sep='\\t', index=False)"
   ]
  },
  {
   "cell_type": "code",
   "execution_count": 374,
   "metadata": {
    "ExecuteTime": {
     "end_time": "2025-03-26T19:30:45.699604Z",
     "start_time": "2025-03-26T19:30:44.252053Z"
    }
   },
   "outputs": [],
   "source": [
    "a = shared_cv_no_ukb.loc[:, ('DISEASE/TRAIT', 'STUDY ACCESSION', 'COHORT', 'TRAIT_CODE', 'MAPPED_TRAIT', 'N', 'Cosine', 'TraitExp', 'MappedTraitExp')]\n",
    "b = shared_rv_no_ukb.loc[:, ('Reported Trait', 'Trait Label', 'PMID', 'COHORT', 'N', 'Classification', 'Cosine', 'TRAIT_CODE','ReportedTraitExp', 'TraitLabelExp' )]\n",
    "shared_df_no_ukb = a.merge(b, on=['TRAIT_CODE'], how='inner', suffixes=['_C', '_R'])\n",
    "shared_cv_trait = model.encode(shared_df_no_ukb['TraitExp'], batch_size=32)\n",
    "shared_rv_trait = model.encode(shared_df_no_ukb['ReportedTraitExp'], batch_size=32)\n",
    "cosines = cosine_similarity(shared_cv_trait, shared_rv_trait)\n",
    "shared_df_no_ukb = shared_df_no_ukb.assign(CosineRC=[cosines[i,i] for i in range(len(shared_cv_trait))])\n",
    "shared_df_no_ukb.loc[:, ('Reported Trait', 'DISEASE/TRAIT','MAPPED_TRAIT', 'Cosine_R', 'Cosine_C', \n",
    "                  'CosineRC')].to_csv('/cellar/users/snwright/Data/Transfer/RVC/data/check_trait_pairs_no_ukb.txt', sep='\\t')\n"
   ]
  },
  {
   "cell_type": "code",
   "execution_count": 375,
   "metadata": {
    "ExecuteTime": {
     "end_time": "2025-03-26T19:30:45.741369Z",
     "start_time": "2025-03-26T19:30:45.700853Z"
    }
   },
   "outputs": [],
   "source": [
    "clean_shared_df_no_ukb = pd.read_csv('/cellar/users/snwright/Data/Transfer/RVC/data/RV Study Info - SharedTraits3.tsv', sep='\\t', index_col=0)\n",
    "final_shared_df_no_ukb = shared_df_no_ukb.merge(clean_shared_df_no_ukb.loc[clean_shared_df_no_ukb.Keep==1, ('Reported Trait', 'DISEASE/TRAIT')], \n",
    "                       on=['Reported Trait', 'DISEASE/TRAIT'], how='inner')\n",
    "assert len(final_shared_df_no_ukb) == clean_shared_df_no_ukb.Keep.sum()\n",
    "final_shared_df_no_ukb = final_shared_df_no_ukb.join(clean_shared_df_no_ukb.loc[:, ('Domain', 'Classification')], how='left', rsuffix='Final')\n",
    "final_shared_df_no_ukb['StudyC'] = final_shared_df_no_ukb['STUDY ACCESSION'] + '_' + final_shared_df_no_ukb['TRAIT_CODE']\n",
    "final_shared_df_no_ukb['StudyR'] = final_shared_df_no_ukb['PMID'].astype(str) + '_' + final_shared_df_no_ukb['TRAIT_CODE']\n",
    "final_shared_df_no_ukb.drop_duplicates(subset='TRAIT_CODE').to_csv('/cellar/users/snwright/Data/RareCommon/inputs/March_2025/shared_traits_df_ukb_filtered.tsv', sep='\\t', index=False)"
   ]
  },
  {
   "cell_type": "markdown",
   "metadata": {},
   "source": [
    "### Figures"
   ]
  },
  {
   "cell_type": "code",
   "execution_count": null,
   "metadata": {},
   "outputs": [],
   "source": []
  },
  {
   "cell_type": "code",
   "execution_count": 376,
   "metadata": {
    "ExecuteTime": {
     "end_time": "2025-03-26T19:30:45.985264Z",
     "start_time": "2025-03-26T19:30:45.742610Z"
    }
   },
   "outputs": [
    {
     "data": {
      "text/plain": [
       "([<matplotlib.axis.XTick at 0x1553f0562bf0>,\n",
       "  <matplotlib.axis.XTick at 0x1553f0563190>,\n",
       "  <matplotlib.axis.XTick at 0x15544bde6800>,\n",
       "  <matplotlib.axis.XTick at 0x15543d8943a0>,\n",
       "  <matplotlib.axis.XTick at 0x15543d894490>],\n",
       " [Text(0, 0, '0'),\n",
       "  Text(10, 0, '10'),\n",
       "  Text(20, 0, '20'),\n",
       "  Text(30, 0, '30'),\n",
       "  Text(40, 0, '40')])"
      ]
     },
     "execution_count": 376,
     "metadata": {},
     "output_type": "execute_result"
    },
    {
     "data": {
      "image/png": "[encoded data removed]",
      "text/plain": [
       "<Figure size 150x250 with 1 Axes>"
      ]
     },
     "metadata": {},
     "output_type": "display_data"
    }
   ],
   "source": [
    "domains = final_shared_df_no_ukb.Domain.value_counts().reset_index()\n",
    "domain_plot_values = domains[domains['count']>=5].Domain.values\n",
    "domains = final_shared_df_no_ukb[final_shared_df_no_ukb.ClassificationFinal=='Q'].Domain.value_counts().reset_index()\n",
    "domains_plot = domains[domains.Domain.isin(domain_plot_values)]\n",
    "other=domains[~domains.Domain.isin(domain_plot_values)]['count'].sum()\n",
    "domain_dict =domains_plot.set_index('Domain')['count'].to_dict()\n",
    "domain_dict['Other'] = other\n",
    "\n",
    "domains = final_shared_df_no_ukb[final_shared_df_no_ukb.ClassificationFinal=='CC'].Domain.value_counts().reset_index()\n",
    "domains_plot2 = domains[domains.Domain.isin(domain_plot_values)]\n",
    "other2=domains[~domains.Domain.isin(domain_plot_values)]['count'].sum()\n",
    "domain_dict2 =domains_plot2.set_index('Domain')['count'].to_dict()\n",
    "domain_dict2['Other'] = other2\n",
    "\n",
    "_ = plt.figure(figsize=(1.5, 2.5))\n",
    "plot_df = pd.DataFrame({'Continuous': domain_dict, 'Categorical': domain_dict2}).iloc[::-1]\n",
    "plot_df['sum'] = np.nansum(plot_df, axis=1)\n",
    "plot_df.at['Other', 'sum'] = 0\n",
    "plot_df = plot_df.sort_values('sum')\n",
    "plot_df.drop(columns='sum').plot(kind='barh', stacked=True, ax=plt.gca(),edgecolor='black', linewidth=0.3, width=0.8,\n",
    "                                                                              color=[ '#509AA6', '#00606f',])\n",
    "plt.xticks([0, 10, 20, 30, 40])\n",
    "#plt.savefig(os.path.join(figdir, 'GCat_input_trait_types.svg'), bbox_inches='tight')"
   ]
  },
  {
   "cell_type": "code",
   "execution_count": 377,
   "metadata": {
    "ExecuteTime": {
     "end_time": "2025-03-26T19:30:46.116856Z",
     "start_time": "2025-03-26T19:30:45.986330Z"
    }
   },
   "outputs": [
    {
     "data": {
      "image/png": "[encoded data removed]",
      "text/plain": [
       "<Figure size 150x200 with 2 Axes>"
      ]
     },
     "metadata": {},
     "output_type": "display_data"
    }
   ],
   "source": [
    "_, [ax1, ax2] = plt.subplots(nrows=1, ncols=2, figsize=(1.5, 2), sharey=True, gridspec_kw={'wspace':0})\n",
    "bins=[x*25000 for x in range(0,  20)]\n",
    "sns.histplot(y= final_shared_df_no_ukb.N_R, bins=bins, kde=False, element='step', ax=ax2, color='#5fad56', alpha=1, edgecolor='black')\n",
    "sns.histplot(y= final_shared_df_no_ukb.N_C, bins=bins, kde=False, element='step', ax=ax1,color='#6ec1e0' , alpha=1, edgecolor='black')\n",
    "ax1.invert_xaxis()\n",
    "ax1.set_xlim(60, 0)\n",
    "ax2.set_xlim(0, 60)\n",
    "ax1.set_ylim(0, 500000)\n",
    "_ = ax1.set_yticks([x*100000 for x in range(6)], labels=[0, '100k', '200k', '300k', '400k', '500k'])\n",
    "ax1.set_ylabel('Study Population')\n",
    "ax1.set_xticks([60, 40, 20, 0])\n",
    "ax2.set_xticks([0, 20, 40, 60])\n",
    "ax1.set_xlabel('Common')\n",
    "ax2.set_xlabel('Rare')\n",
    "ax2.tick_params(axis='y', size=0)\n",
    "\n",
    "#plt.savefig(os.path.join(figdir, 'population_size_histograms_gcat.svg'), bbox_inches='tight')"
   ]
  },
  {
   "cell_type": "code",
   "execution_count": 378,
   "metadata": {
    "ExecuteTime": {
     "end_time": "2025-03-26T19:30:46.123079Z",
     "start_time": "2025-03-26T19:30:46.118009Z"
    }
   },
   "outputs": [],
   "source": [
    "final_shared_df_no_ukb.loc[:, ('N_R', 'N_C', 'Domain', 'ClassificationFinal', 'DISEASE/TRAIT')].to_csv(os.path.join(datadir, 'inputs', 'gcat_input_features_no_ukb.tsv'), sep='\\t', index=False)"
   ]
  },
  {
   "cell_type": "markdown",
   "metadata": {},
   "source": [
    "### Export results"
   ]
  },
  {
   "cell_type": "code",
   "execution_count": 379,
   "metadata": {
    "ExecuteTime": {
     "end_time": "2025-03-26T19:30:46.139711Z",
     "start_time": "2025-03-26T19:30:46.124343Z"
    }
   },
   "outputs": [],
   "source": [
    "inputdir = '/cellar/users/snwright/Data/RareCommon/inputs/March_2025'\n",
    "with open(os.path.join(inputdir, 'common_no_ukb.traitlist'), 'w') as f:\n",
    "    f.writelines('\\n'.join(final_shared_df_no_ukb.StudyC.values)+'\\n')\n",
    "with open(os.path.join(inputdir, 'rare_no_ukb.traitlist'), 'w') as f:\n",
    "    f.writelines('\\n'.join(final_shared_df_no_ukb.StudyR.values)+'\\n')"
   ]
  },
  {
   "cell_type": "code",
   "execution_count": 380,
   "metadata": {
    "ExecuteTime": {
     "end_time": "2025-03-26T19:31:03.615799Z",
     "start_time": "2025-03-26T19:30:46.140603Z"
    }
   },
   "outputs": [
    {
     "name": "stderr",
     "output_type": "stream",
     "text": [
      "262it [00:17, 15.00it/s]\n"
     ]
    }
   ],
   "source": [
    "for i, t in tqdm(enumerate(final_shared_df_no_ukb.TRAIT_CODE.values)):\n",
    "    accession = final_shared_df_no_ukb.iloc[i]['STUDY ACCESSION']\n",
    "    trait = final_shared_df_no_ukb.iloc[i]['DISEASE/TRAIT']\n",
    "    study_genes = gwas_genes[(gwas_genes.TRAIT_CODE==t) & (gwas_genes['STUDY ACCESSION']==accession) & (gwas_genes['DISEASE/TRAIT']==trait)]\n",
    "    study_genes = study_genes.sort_values('logp', ascending=False)\n",
    "    study_genes = study_genes.drop_duplicates(subset='Entrez')\n",
    "    study_out = study_genes.loc[:, ('Entrez', 'MAPPED_GENE', 'P-VALUE', 'OR or BETA' )]\n",
    "    study_out.columns = ['Entrez', 'Gene Symbol', 'P-value', 'Beta']\n",
    "    study_out.to_csv(os.path.join(inputdir, accession+'_'+t+'_CV.txt'), sep='\\t', index=False)"
   ]
  },
  {
   "cell_type": "code",
   "execution_count": 381,
   "metadata": {
    "ExecuteTime": {
     "end_time": "2025-03-26T19:31:07.187917Z",
     "start_time": "2025-03-26T19:31:03.617046Z"
    }
   },
   "outputs": [
    {
     "name": "stderr",
     "output_type": "stream",
     "text": [
      "262it [00:03, 73.49it/s]\n"
     ]
    }
   ],
   "source": [
    "for i, t in tqdm(enumerate(final_shared_df_no_ukb.TRAIT_CODE.values)):\n",
    "    pmid = final_shared_df_no_ukb.iloc[i]['PMID']\n",
    "    trait = final_shared_df_no_ukb.iloc[i]['Reported Trait']\n",
    "    study_genes = ravar_genes[(ravar_genes.TRAIT_CODE==t) & (ravar_genes['PMID']==pmid) & (ravar_genes['Reported Trait']==trait)]\n",
    "    study_genes = study_genes.sort_values('P-value', ascending=True)\n",
    "    study_genes = study_genes.drop_duplicates(subset='Entrez')\n",
    "    study_out = study_genes.loc[:, ('Entrez', 'Gene Symbol','Ensembl ID',  'P-value')]\n",
    "    study_out.to_csv(os.path.join(inputdir, str(int(pmid))+'_'+t+'_RV.txt'), sep='\\t', index=False)"
   ]
  }
 ],
 "metadata": {
  "kernelspec": {
   "display_name": "Python (CARVA)",
   "language": "python",
   "name": "carva"
  },
  "language_info": {
   "codemirror_mode": {
    "name": "ipython",
    "version": 3
   },
   "file_extension": ".py",
   "mimetype": "text/x-python",
   "name": "python",
   "nbconvert_exporter": "python",
   "pygments_lexer": "ipython3",
   "version": "3.10.0"
  },
  "toc": {
   "base_numbering": 1,
   "nav_menu": {},
   "number_sections": true,
   "sideBar": true,
   "skip_h1_title": false,
   "title_cell": "Table of Contents",
   "title_sidebar": "Contents",
   "toc_cell": false,
   "toc_position": {
    "height": "calc(100% - 180px)",
    "left": "10px",
    "top": "150px",
    "width": "341.419px"
   },
   "toc_section_display": true,
   "toc_window_display": true
  },
  "varInspector": {
   "cols": {
    "lenName": 16,
    "lenType": 16,
    "lenVar": 40
   },
   "kernels_config": {
    "python": {
     "delete_cmd_postfix": "",
     "delete_cmd_prefix": "del ",
     "library": "var_list.py",
     "varRefreshCmd": "print(var_dic_list())"
    },
    "r": {
     "delete_cmd_postfix": ") ",
     "delete_cmd_prefix": "rm(",
     "library": "var_list.r",
     "varRefreshCmd": "cat(var_dic_list()) "
    }
   },
   "types_to_exclude": [
    "module",
    "function",
    "builtin_function_or_method",
    "instance",
    "_Feature"
   ],
   "window_display": false
  }
 },
 "nbformat": 4,
 "nbformat_minor": 2
}
