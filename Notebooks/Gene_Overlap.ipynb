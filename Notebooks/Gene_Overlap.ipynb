{
 "cells": [
  {
   "cell_type": "code",
   "execution_count": 2,
   "metadata": {
    "ExecuteTime": {
     "end_time": "2024-10-14T23:25:40.494442Z",
     "start_time": "2024-10-14T23:25:39.175204Z"
    }
   },
   "outputs": [],
   "source": [
    "import pandas as pd\n",
    "import numpy as np\n",
    "import matplotlib.pyplot as plt\n",
    "import seaborn as sns\n",
    "import os\n",
    "from scipy.stats import hypergeom\n",
    "from statsmodels.stats.multitest import multipletests\n",
    "from matplotlib_venn import venn2"
   ]
  },
  {
   "cell_type": "code",
   "execution_count": 3,
   "metadata": {
    "ExecuteTime": {
     "end_time": "2024-10-14T23:25:40.500773Z",
     "start_time": "2024-10-14T23:25:40.498933Z"
    }
   },
   "outputs": [],
   "source": [
    "input_dir = '/cellar/users/snwright/Data/RareCommon/inputs/'\n",
    "output_dir = '/cellar/users/snwright/Data/RareCommon/outputs/'\n",
    "figdir = '/cellar/users/snwright/Data/Transfer/RVC/figures/Gene_Overlap/'"
   ]
  },
  {
   "cell_type": "code",
   "execution_count": 4,
   "metadata": {
    "ExecuteTime": {
     "end_time": "2024-10-14T23:25:40.625433Z",
     "start_time": "2024-10-14T23:25:40.622064Z"
    }
   },
   "outputs": [],
   "source": [
    "plt.rcParams['svg.fonttype'] = 'none'\n",
    "plt.rcParams.update({'font.size': 7})\n",
    "plt.rcParams['axes.linewidth'] = 0.5\n",
    "plt.rcParams['hatch.linewidth'] = 0.5\n",
    "plt.rcParams['xtick.major.width'] = 0.4\n",
    "plt.rcParams['ytick.major.width'] = 0.4\n",
    "plt.rcParams['xtick.minor.width'] = 0.3\n",
    "plt.rcParams['ytick.minor.width'] = 0.3\n",
    "plt.rcParams['legend.frameon'] = False\n",
    "plt.rcParams['xtick.major.size'] = 3\n",
    "plt.rcParams['ytick.major.size'] = 3\n",
    "plt.rcParams['xtick.minor.size'] = 2\n",
    "plt.rcParams['ytick.minor.size'] = 2\n",
    "plt.rcParams['xtick.major.pad'] = 1\n",
    "plt.rcParams['ytick.major.pad'] = 1\n",
    "plt.rcParams['axes.labelpad'] = 1\n",
    "plt.rcParams['patch.linewidth'] = 0.25"
   ]
  },
  {
   "cell_type": "markdown",
   "metadata": {},
   "source": [
    "## High-throughput"
   ]
  },
  {
   "cell_type": "code",
   "execution_count": 5,
   "metadata": {
    "ExecuteTime": {
     "end_time": "2024-10-14T23:25:43.696277Z",
     "start_time": "2024-10-14T23:25:43.693087Z"
    }
   },
   "outputs": [],
   "source": [
    "results_groups = ['defaults', 'defaults_9k', 'sig_only', 'sig_only_9k']\n",
    "params_file = 'overlap_params.txt'"
   ]
  },
  {
   "cell_type": "code",
   "execution_count": 6,
   "metadata": {
    "ExecuteTime": {
     "end_time": "2024-10-14T23:25:44.670747Z",
     "start_time": "2024-10-14T23:25:44.602931Z"
    }
   },
   "outputs": [],
   "source": [
    "overlap_results = []\n",
    "for group in results_groups:\n",
    "    group_df = pd.read_csv(os.path.join(output_dir, f'overlap_results.{group}.txt'), sep='\\t', header=None)\n",
    "    group_df.columns = ['trait_pair', 'param_set', 'n_common', 'n_rare', 'n_overlap', 'background', 'pval']\n",
    "    overlap_results.append(group_df)\n",
    "overlap_df = pd.concat(overlap_results)"
   ]
  },
  {
   "cell_type": "code",
   "execution_count": 7,
   "metadata": {
    "ExecuteTime": {
     "end_time": "2024-10-14T23:25:46.346139Z",
     "start_time": "2024-10-14T23:25:46.337844Z"
    }
   },
   "outputs": [
    {
     "data": {
      "text/html": [
       "<div>\n",
       "<style scoped>\n",
       "    .dataframe tbody tr th:only-of-type {\n",
       "        vertical-align: middle;\n",
       "    }\n",
       "\n",
       "    .dataframe tbody tr th {\n",
       "        vertical-align: top;\n",
       "    }\n",
       "\n",
       "    .dataframe thead th {\n",
       "        text-align: right;\n",
       "    }\n",
       "</style>\n",
       "<table border=\"1\" class=\"dataframe\">\n",
       "  <thead>\n",
       "    <tr style=\"text-align: right;\">\n",
       "      <th></th>\n",
       "      <th>trait_pair</th>\n",
       "      <th>param_set</th>\n",
       "      <th>n_common</th>\n",
       "      <th>n_rare</th>\n",
       "      <th>n_overlap</th>\n",
       "      <th>background</th>\n",
       "      <th>pval</th>\n",
       "    </tr>\n",
       "  </thead>\n",
       "  <tbody>\n",
       "    <tr>\n",
       "      <th>0</th>\n",
       "      <td>EFO_0000095_EFO_0000095</td>\n",
       "      <td>defaults</td>\n",
       "      <td>59</td>\n",
       "      <td>8</td>\n",
       "      <td>0</td>\n",
       "      <td>20000</td>\n",
       "      <td>0.023362</td>\n",
       "    </tr>\n",
       "    <tr>\n",
       "      <th>1</th>\n",
       "      <td>EFO_0000182_EFO_0000182</td>\n",
       "      <td>defaults</td>\n",
       "      <td>12</td>\n",
       "      <td>4</td>\n",
       "      <td>0</td>\n",
       "      <td>20000</td>\n",
       "      <td>0.002398</td>\n",
       "    </tr>\n",
       "    <tr>\n",
       "      <th>2</th>\n",
       "      <td>EFO_0000198_EFO_0000198</td>\n",
       "      <td>defaults</td>\n",
       "      <td>7</td>\n",
       "      <td>18</td>\n",
       "      <td>0</td>\n",
       "      <td>20000</td>\n",
       "      <td>0.006284</td>\n",
       "    </tr>\n",
       "    <tr>\n",
       "      <th>3</th>\n",
       "      <td>EFO_0000217_EFO_0000217</td>\n",
       "      <td>defaults</td>\n",
       "      <td>5</td>\n",
       "      <td>66</td>\n",
       "      <td>0</td>\n",
       "      <td>20000</td>\n",
       "      <td>0.016393</td>\n",
       "    </tr>\n",
       "    <tr>\n",
       "      <th>4</th>\n",
       "      <td>EFO_0000266_EFO_0000266</td>\n",
       "      <td>defaults</td>\n",
       "      <td>13</td>\n",
       "      <td>20</td>\n",
       "      <td>0</td>\n",
       "      <td>20000</td>\n",
       "      <td>0.012926</td>\n",
       "    </tr>\n",
       "  </tbody>\n",
       "</table>\n",
       "</div>"
      ],
      "text/plain": [
       "                trait_pair param_set  n_common  n_rare  n_overlap  background  \\\n",
       "0  EFO_0000095_EFO_0000095  defaults        59       8          0       20000   \n",
       "1  EFO_0000182_EFO_0000182  defaults        12       4          0       20000   \n",
       "2  EFO_0000198_EFO_0000198  defaults         7      18          0       20000   \n",
       "3  EFO_0000217_EFO_0000217  defaults         5      66          0       20000   \n",
       "4  EFO_0000266_EFO_0000266  defaults        13      20          0       20000   \n",
       "\n",
       "       pval  \n",
       "0  0.023362  \n",
       "1  0.002398  \n",
       "2  0.006284  \n",
       "3  0.016393  \n",
       "4  0.012926  "
      ]
     },
     "execution_count": 7,
     "metadata": {},
     "output_type": "execute_result"
    }
   ],
   "source": [
    "overlap_df.head()"
   ]
  },
  {
   "cell_type": "markdown",
   "metadata": {},
   "source": [
    "### Default vs sig\n",
    "\n",
    "All gene set counts"
   ]
  },
  {
   "cell_type": "code",
   "execution_count": 19,
   "metadata": {
    "ExecuteTime": {
     "end_time": "2024-10-14T23:30:23.345554Z",
     "start_time": "2024-10-14T23:30:22.719618Z"
    }
   },
   "outputs": [
    {
     "data": {
      "image/png": "[encoded data removed]",
      "text/plain": [
       "<Figure size 500x100 with 2 Axes>"
      ]
     },
     "metadata": {},
     "output_type": "display_data"
    }
   ],
   "source": [
    "_, [ax1, ax2] = plt.subplots(1, 2, figsize=(5, 1), gridspec_kw={'wspace':0.4})\n",
    "sns.histplot(overlap_df[overlap_df.param_set.isin(['defaults', 'sig_only'])], bins=[i*25 for i in range(40)], hue='param_set', \n",
    "                x='n_common', multiple='dodge', log_scale=False, cumulative=True, ax=ax1)\n",
    "ax1.set_xlim(0,1000)\n",
    "sns.histplot(overlap_df[overlap_df.param_set.isin(['defaults', 'sig_only'])], bins=[i*15 for i in range(40)], hue='param_set', \n",
    "                x='n_rare', multiple='dodge', log_scale=False, cumulative=True, ax=ax2)\n",
    "ax2.set_xlim(0,600)\n",
    "plt.savefig(os.path.join(figdir, 'cumulative_traits_significance_filter_bars.png'), dpi=300, bbox_inches='tight')"
   ]
  },
  {
   "cell_type": "markdown",
   "metadata": {},
   "source": [
    "All gene set counts < 10"
   ]
  },
  {
   "cell_type": "code",
   "execution_count": 18,
   "metadata": {
    "ExecuteTime": {
     "end_time": "2024-10-14T23:30:21.948602Z",
     "start_time": "2024-10-14T23:30:21.560834Z"
    }
   },
   "outputs": [
    {
     "data": {
      "image/png": "[encoded data removed]",
      "text/plain": [
       "<Figure size 400x100 with 2 Axes>"
      ]
     },
     "metadata": {},
     "output_type": "display_data"
    }
   ],
   "source": [
    "_, [ax1, ax2] = plt.subplots(1, 2, figsize=(4, 1), gridspec_kw={'wspace':0.4})\n",
    "sns.histplot(overlap_df[overlap_df.param_set.isin(['defaults', 'sig_only'])], bins=[i for i in range(11)], hue='param_set', \n",
    "                x='n_common', multiple='dodge', log_scale=False, cumulative=True, ax=ax1)\n",
    "ax1.set_xlim(0,11)\n",
    "sns.histplot(overlap_df[overlap_df.param_set.isin(['defaults', 'sig_only'])], bins=[i for i in range(11)], hue='param_set', \n",
    "                x='n_rare', multiple='dodge', log_scale=False, cumulative=True, ax=ax2)\n",
    "ax2.set_xlim(0,11)\n",
    "plt.savefig(os.path.join(figdir, 'cumutative_traits_significance_filter_bars_less_than_10genes.png'), dpi=300, bbox_inches='tight')"
   ]
  },
  {
   "cell_type": "markdown",
   "metadata": {},
   "source": [
    "Overlapping genes"
   ]
  },
  {
   "cell_type": "code",
   "execution_count": 17,
   "metadata": {
    "ExecuteTime": {
     "end_time": "2024-10-14T23:30:20.810810Z",
     "start_time": "2024-10-14T23:30:20.272992Z"
    }
   },
   "outputs": [
    {
     "data": {
      "image/png": "[encoded data removed]",
      "text/plain": [
       "<Figure size 300x150 with 1 Axes>"
      ]
     },
     "metadata": {},
     "output_type": "display_data"
    }
   ],
   "source": [
    "_, ax1 = plt.subplots(1, 1, figsize=(3, 1.5))\n",
    "sns.histplot(overlap_df[overlap_df.param_set.isin(['defaults', 'sig_only'])], bins=[i*2 for i in range(80)], hue='param_set', \n",
    "                x='n_overlap', multiple='dodge', log_scale=False, cumulative=True, ax=ax1)\n",
    "ax1.set_xlim(0,160)\n",
    "plt.savefig(os.path.join(figdir, 'cumulative_traits_overlapping_significance_filter_bars.png'), dpi=300, bbox_inches='tight')"
   ]
  },
  {
   "cell_type": "code",
   "execution_count": 9,
   "metadata": {},
   "outputs": [],
   "source": [
    "overlap_df = overlap_df.sort_values(by='trait_pair')"
   ]
  },
  {
   "cell_type": "code",
   "execution_count": 10,
   "metadata": {},
   "outputs": [
    {
     "data": {
      "text/html": [
       "<div>\n",
       "<style scoped>\n",
       "    .dataframe tbody tr th:only-of-type {\n",
       "        vertical-align: middle;\n",
       "    }\n",
       "\n",
       "    .dataframe tbody tr th {\n",
       "        vertical-align: top;\n",
       "    }\n",
       "\n",
       "    .dataframe thead th {\n",
       "        text-align: right;\n",
       "    }\n",
       "</style>\n",
       "<table border=\"1\" class=\"dataframe\">\n",
       "  <thead>\n",
       "    <tr style=\"text-align: right;\">\n",
       "      <th>param_set</th>\n",
       "      <th>defaults</th>\n",
       "      <th>defaults_9k</th>\n",
       "      <th>sig_only</th>\n",
       "      <th>sig_only_9k</th>\n",
       "    </tr>\n",
       "    <tr>\n",
       "      <th>trait_pair</th>\n",
       "      <th></th>\n",
       "      <th></th>\n",
       "      <th></th>\n",
       "      <th></th>\n",
       "    </tr>\n",
       "  </thead>\n",
       "  <tbody>\n",
       "    <tr>\n",
       "      <th>EFO_0000095_EFO_0000095</th>\n",
       "      <td>59.0</td>\n",
       "      <td>59.0</td>\n",
       "      <td>26.0</td>\n",
       "      <td>26.0</td>\n",
       "    </tr>\n",
       "    <tr>\n",
       "      <th>EFO_0000182_EFO_0000182</th>\n",
       "      <td>12.0</td>\n",
       "      <td>12.0</td>\n",
       "      <td>NaN</td>\n",
       "      <td>NaN</td>\n",
       "    </tr>\n",
       "    <tr>\n",
       "      <th>EFO_0000198_EFO_0000198</th>\n",
       "      <td>7.0</td>\n",
       "      <td>7.0</td>\n",
       "      <td>NaN</td>\n",
       "      <td>NaN</td>\n",
       "    </tr>\n",
       "    <tr>\n",
       "      <th>EFO_0000217_EFO_0000217</th>\n",
       "      <td>5.0</td>\n",
       "      <td>5.0</td>\n",
       "      <td>NaN</td>\n",
       "      <td>NaN</td>\n",
       "    </tr>\n",
       "    <tr>\n",
       "      <th>EFO_0000266_EFO_0000266</th>\n",
       "      <td>13.0</td>\n",
       "      <td>13.0</td>\n",
       "      <td>9.0</td>\n",
       "      <td>9.0</td>\n",
       "    </tr>\n",
       "    <tr>\n",
       "      <th>...</th>\n",
       "      <td>...</td>\n",
       "      <td>...</td>\n",
       "      <td>...</td>\n",
       "      <td>...</td>\n",
       "    </tr>\n",
       "    <tr>\n",
       "      <th>MONDO_0007915_MONDO_0007915</th>\n",
       "      <td>298.0</td>\n",
       "      <td>298.0</td>\n",
       "      <td>221.0</td>\n",
       "      <td>221.0</td>\n",
       "    </tr>\n",
       "    <tr>\n",
       "      <th>MONDO_0008315_MONDO_0008315</th>\n",
       "      <td>348.0</td>\n",
       "      <td>348.0</td>\n",
       "      <td>308.0</td>\n",
       "      <td>308.0</td>\n",
       "    </tr>\n",
       "    <tr>\n",
       "      <th>MONDO_0008903_MONDO_0008903</th>\n",
       "      <td>92.0</td>\n",
       "      <td>92.0</td>\n",
       "      <td>33.0</td>\n",
       "      <td>33.0</td>\n",
       "    </tr>\n",
       "    <tr>\n",
       "      <th>MONDO_0018309_MONDO_0018309</th>\n",
       "      <td>8.0</td>\n",
       "      <td>8.0</td>\n",
       "      <td>4.0</td>\n",
       "      <td>4.0</td>\n",
       "    </tr>\n",
       "    <tr>\n",
       "      <th>MONDO_0024647_MONDO_0024647</th>\n",
       "      <td>27.0</td>\n",
       "      <td>27.0</td>\n",
       "      <td>NaN</td>\n",
       "      <td>NaN</td>\n",
       "    </tr>\n",
       "  </tbody>\n",
       "</table>\n",
       "<p>350 rows × 4 columns</p>\n",
       "</div>"
      ],
      "text/plain": [
       "param_set                    defaults  defaults_9k  sig_only  sig_only_9k\n",
       "trait_pair                                                               \n",
       "EFO_0000095_EFO_0000095          59.0         59.0      26.0         26.0\n",
       "EFO_0000182_EFO_0000182          12.0         12.0       NaN          NaN\n",
       "EFO_0000198_EFO_0000198           7.0          7.0       NaN          NaN\n",
       "EFO_0000217_EFO_0000217           5.0          5.0       NaN          NaN\n",
       "EFO_0000266_EFO_0000266          13.0         13.0       9.0          9.0\n",
       "...                               ...          ...       ...          ...\n",
       "MONDO_0007915_MONDO_0007915     298.0        298.0     221.0        221.0\n",
       "MONDO_0008315_MONDO_0008315     348.0        348.0     308.0        308.0\n",
       "MONDO_0008903_MONDO_0008903      92.0         92.0      33.0         33.0\n",
       "MONDO_0018309_MONDO_0018309       8.0          8.0       4.0          4.0\n",
       "MONDO_0024647_MONDO_0024647      27.0         27.0       NaN          NaN\n",
       "\n",
       "[350 rows x 4 columns]"
      ]
     },
     "execution_count": 10,
     "metadata": {},
     "output_type": "execute_result"
    }
   ],
   "source": [
    "overlap_df.pivot_table(index='trait_pair', columns='param_set', values='n_common')"
   ]
  },
  {
   "cell_type": "code",
   "execution_count": 6,
   "metadata": {},
   "outputs": [
    {
     "data": {
      "text/html": [
       "<div>\n",
       "<style scoped>\n",
       "    .dataframe tbody tr th:only-of-type {\n",
       "        vertical-align: middle;\n",
       "    }\n",
       "\n",
       "    .dataframe tbody tr th {\n",
       "        vertical-align: top;\n",
       "    }\n",
       "\n",
       "    .dataframe thead th {\n",
       "        text-align: right;\n",
       "    }\n",
       "</style>\n",
       "<table border=\"1\" class=\"dataframe\">\n",
       "  <thead>\n",
       "    <tr style=\"text-align: right;\">\n",
       "      <th>param_set</th>\n",
       "      <th>defaults</th>\n",
       "      <th>defaults_9k</th>\n",
       "      <th>sig_only</th>\n",
       "      <th>sig_only_9k</th>\n",
       "    </tr>\n",
       "    <tr>\n",
       "      <th>trait_pair</th>\n",
       "      <th></th>\n",
       "      <th></th>\n",
       "      <th></th>\n",
       "      <th></th>\n",
       "    </tr>\n",
       "  </thead>\n",
       "  <tbody>\n",
       "    <tr>\n",
       "      <th>EFO_0000095_EFO_0000095</th>\n",
       "      <td>59.0</td>\n",
       "      <td>59.0</td>\n",
       "      <td>26.0</td>\n",
       "      <td>26.0</td>\n",
       "    </tr>\n",
       "    <tr>\n",
       "      <th>EFO_0000182_EFO_0000182</th>\n",
       "      <td>12.0</td>\n",
       "      <td>12.0</td>\n",
       "      <td>NaN</td>\n",
       "      <td>NaN</td>\n",
       "    </tr>\n",
       "    <tr>\n",
       "      <th>EFO_0000198_EFO_0000198</th>\n",
       "      <td>7.0</td>\n",
       "      <td>7.0</td>\n",
       "      <td>NaN</td>\n",
       "      <td>NaN</td>\n",
       "    </tr>\n",
       "    <tr>\n",
       "      <th>EFO_0000217_EFO_0000217</th>\n",
       "      <td>5.0</td>\n",
       "      <td>5.0</td>\n",
       "      <td>NaN</td>\n",
       "      <td>NaN</td>\n",
       "    </tr>\n",
       "    <tr>\n",
       "      <th>EFO_0000266_EFO_0000266</th>\n",
       "      <td>13.0</td>\n",
       "      <td>13.0</td>\n",
       "      <td>9.0</td>\n",
       "      <td>9.0</td>\n",
       "    </tr>\n",
       "    <tr>\n",
       "      <th>...</th>\n",
       "      <td>...</td>\n",
       "      <td>...</td>\n",
       "      <td>...</td>\n",
       "      <td>...</td>\n",
       "    </tr>\n",
       "    <tr>\n",
       "      <th>MONDO_0007915_MONDO_0007915</th>\n",
       "      <td>298.0</td>\n",
       "      <td>298.0</td>\n",
       "      <td>221.0</td>\n",
       "      <td>221.0</td>\n",
       "    </tr>\n",
       "    <tr>\n",
       "      <th>MONDO_0008315_MONDO_0008315</th>\n",
       "      <td>348.0</td>\n",
       "      <td>348.0</td>\n",
       "      <td>308.0</td>\n",
       "      <td>308.0</td>\n",
       "    </tr>\n",
       "    <tr>\n",
       "      <th>MONDO_0008903_MONDO_0008903</th>\n",
       "      <td>92.0</td>\n",
       "      <td>92.0</td>\n",
       "      <td>33.0</td>\n",
       "      <td>33.0</td>\n",
       "    </tr>\n",
       "    <tr>\n",
       "      <th>MONDO_0018309_MONDO_0018309</th>\n",
       "      <td>8.0</td>\n",
       "      <td>8.0</td>\n",
       "      <td>4.0</td>\n",
       "      <td>4.0</td>\n",
       "    </tr>\n",
       "    <tr>\n",
       "      <th>MONDO_0024647_MONDO_0024647</th>\n",
       "      <td>27.0</td>\n",
       "      <td>27.0</td>\n",
       "      <td>NaN</td>\n",
       "      <td>NaN</td>\n",
       "    </tr>\n",
       "  </tbody>\n",
       "</table>\n",
       "<p>350 rows × 4 columns</p>\n",
       "</div>"
      ],
      "text/plain": [
       "param_set                    defaults  defaults_9k  sig_only  sig_only_9k\n",
       "trait_pair                                                               \n",
       "EFO_0000095_EFO_0000095          59.0         59.0      26.0         26.0\n",
       "EFO_0000182_EFO_0000182          12.0         12.0       NaN          NaN\n",
       "EFO_0000198_EFO_0000198           7.0          7.0       NaN          NaN\n",
       "EFO_0000217_EFO_0000217           5.0          5.0       NaN          NaN\n",
       "EFO_0000266_EFO_0000266          13.0         13.0       9.0          9.0\n",
       "...                               ...          ...       ...          ...\n",
       "MONDO_0007915_MONDO_0007915     298.0        298.0     221.0        221.0\n",
       "MONDO_0008315_MONDO_0008315     348.0        348.0     308.0        308.0\n",
       "MONDO_0008903_MONDO_0008903      92.0         92.0      33.0         33.0\n",
       "MONDO_0018309_MONDO_0018309       8.0          8.0       4.0          4.0\n",
       "MONDO_0024647_MONDO_0024647      27.0         27.0       NaN          NaN\n",
       "\n",
       "[350 rows x 4 columns]"
      ]
     },
     "execution_count": 6,
     "metadata": {},
     "output_type": "execute_result"
    }
   ],
   "source": [
    "overlap_df.pivot_table(index='trait_pair', columns='param_set', values='n_common')"
   ]
  },
  {
   "cell_type": "code",
   "execution_count": 26,
   "metadata": {
    "ExecuteTime": {
     "end_time": "2024-10-14T23:41:20.814253Z",
     "start_time": "2024-10-14T23:41:20.171954Z"
    }
   },
   "outputs": [
    {
     "data": {
      "image/png": "[encoded data removed]",
      "text/plain": [
       "<Figure size 600x250 with 2 Axes>"
      ]
     },
     "metadata": {},
     "output_type": "display_data"
    }
   ],
   "source": [
    "_, [ax1, ax2] = plt.subplots(1, 2, figsize=(6, 2.5))\n",
    "sns.scatterplot(overlap_df.pivot_table(index='trait_pair', columns='param_set', values='n_common'), y='defaults', \n",
    "                x='sig_only', label='n_common', alpha=0.5, ax=ax1, s=10)\n",
    "sns.scatterplot(overlap_df.pivot_table(index='trait_pair', columns='param_set', values='n_rare'), y='defaults', \n",
    "                x='sig_only', label='n_rare', alpha=0.5, ax=ax1, s=10)\n",
    "sns.scatterplot(overlap_df.pivot_table(index='trait_pair', columns='param_set', values='n_overlap'), y='defaults', \n",
    "                x='sig_only', label='n_overlap', alpha=0.5, ax=ax1, s=10)\n",
    "ax1.set_xlim(0, 1000)\n",
    "ax1.set_ylim(0, 1000)\n",
    "sns.scatterplot(overlap_df.pivot_table(index='trait_pair', columns='param_set', values='n_common'), y='defaults', \n",
    "                x='sig_only', label='n_common', alpha=0.5, ax=ax2, s=10)\n",
    "sns.scatterplot(overlap_df.pivot_table(index='trait_pair', columns='param_set', values='n_rare'), y='defaults', \n",
    "                x='sig_only', label='n_rare', alpha=0.5, ax=ax2, s=10)\n",
    "sns.scatterplot(overlap_df.pivot_table(index='trait_pair', columns='param_set', values='n_overlap'), y='defaults', \n",
    "                x='sig_only', label='n_overlap', alpha=0.5, ax=ax2, s=10)\n",
    "\n",
    "ax2.set_xlim(0, 200)\n",
    "ax2.set_ylim(0, 200)\n",
    "plt.savefig(os.path.join(figdir, 'scatter_default_vs_sig_only_gene_counts.png'), dpi=300, bbox_inches='tight')"
   ]
  },
  {
   "cell_type": "code",
   "execution_count": 74,
   "metadata": {},
   "outputs": [
    {
     "data": {
      "text/html": [
       "<div>\n",
       "<style scoped>\n",
       "    .dataframe tbody tr th:only-of-type {\n",
       "        vertical-align: middle;\n",
       "    }\n",
       "\n",
       "    .dataframe tbody tr th {\n",
       "        vertical-align: top;\n",
       "    }\n",
       "\n",
       "    .dataframe thead th {\n",
       "        text-align: right;\n",
       "    }\n",
       "</style>\n",
       "<table border=\"1\" class=\"dataframe\">\n",
       "  <thead>\n",
       "    <tr style=\"text-align: right;\">\n",
       "      <th></th>\n",
       "      <th>trait_pair</th>\n",
       "      <th>param_set</th>\n",
       "      <th>n_common</th>\n",
       "      <th>n_rare</th>\n",
       "      <th>n_overlap</th>\n",
       "      <th>background</th>\n",
       "      <th>pval</th>\n",
       "    </tr>\n",
       "  </thead>\n",
       "  <tbody>\n",
       "    <tr>\n",
       "      <th>0</th>\n",
       "      <td>EFO_0000095_EFO_0000095</td>\n",
       "      <td>defaults</td>\n",
       "      <td>59</td>\n",
       "      <td>8</td>\n",
       "      <td>0</td>\n",
       "      <td>20000</td>\n",
       "      <td>0.023362</td>\n",
       "    </tr>\n",
       "    <tr>\n",
       "      <th>0</th>\n",
       "      <td>EFO_0000095_EFO_0000095</td>\n",
       "      <td>defaults_9k</td>\n",
       "      <td>59</td>\n",
       "      <td>8</td>\n",
       "      <td>0</td>\n",
       "      <td>9415</td>\n",
       "      <td>0.049065</td>\n",
       "    </tr>\n",
       "    <tr>\n",
       "      <th>0</th>\n",
       "      <td>EFO_0000095_EFO_0000095</td>\n",
       "      <td>sig_only_9k</td>\n",
       "      <td>26</td>\n",
       "      <td>8</td>\n",
       "      <td>0</td>\n",
       "      <td>9415</td>\n",
       "      <td>0.021888</td>\n",
       "    </tr>\n",
       "    <tr>\n",
       "      <th>0</th>\n",
       "      <td>EFO_0000095_EFO_0000095</td>\n",
       "      <td>sig_only</td>\n",
       "      <td>26</td>\n",
       "      <td>8</td>\n",
       "      <td>0</td>\n",
       "      <td>20000</td>\n",
       "      <td>0.010355</td>\n",
       "    </tr>\n",
       "    <tr>\n",
       "      <th>1</th>\n",
       "      <td>EFO_0000182_EFO_0000182</td>\n",
       "      <td>defaults_9k</td>\n",
       "      <td>12</td>\n",
       "      <td>4</td>\n",
       "      <td>0</td>\n",
       "      <td>9415</td>\n",
       "      <td>0.005089</td>\n",
       "    </tr>\n",
       "  </tbody>\n",
       "</table>\n",
       "</div>"
      ],
      "text/plain": [
       "                trait_pair    param_set  n_common  n_rare  n_overlap  \\\n",
       "0  EFO_0000095_EFO_0000095     defaults        59       8          0   \n",
       "0  EFO_0000095_EFO_0000095  defaults_9k        59       8          0   \n",
       "0  EFO_0000095_EFO_0000095  sig_only_9k        26       8          0   \n",
       "0  EFO_0000095_EFO_0000095     sig_only        26       8          0   \n",
       "1  EFO_0000182_EFO_0000182  defaults_9k        12       4          0   \n",
       "\n",
       "   background      pval  \n",
       "0       20000  0.023362  \n",
       "0        9415  0.049065  \n",
       "0        9415  0.021888  \n",
       "0       20000  0.010355  \n",
       "1        9415  0.005089  "
      ]
     },
     "execution_count": 74,
     "metadata": {},
     "output_type": "execute_result"
    }
   ],
   "source": [
    "overlap_df.head()"
   ]
  },
  {
   "cell_type": "code",
   "execution_count": 13,
   "metadata": {},
   "outputs": [
    {
     "data": {
      "text/html": [
       "<div>\n",
       "<style scoped>\n",
       "    .dataframe tbody tr th:only-of-type {\n",
       "        vertical-align: middle;\n",
       "    }\n",
       "\n",
       "    .dataframe tbody tr th {\n",
       "        vertical-align: top;\n",
       "    }\n",
       "\n",
       "    .dataframe thead th {\n",
       "        text-align: right;\n",
       "    }\n",
       "</style>\n",
       "<table border=\"1\" class=\"dataframe\">\n",
       "  <thead>\n",
       "    <tr style=\"text-align: right;\">\n",
       "      <th></th>\n",
       "      <th>param_set</th>\n",
       "      <th>trait_pair</th>\n",
       "      <th>background</th>\n",
       "      <th>pval</th>\n",
       "      <th>variable</th>\n",
       "      <th>value</th>\n",
       "    </tr>\n",
       "  </thead>\n",
       "  <tbody>\n",
       "    <tr>\n",
       "      <th>0</th>\n",
       "      <td>defaults</td>\n",
       "      <td>EFO_0000095_EFO_0000095</td>\n",
       "      <td>20000</td>\n",
       "      <td>2.336181e-02</td>\n",
       "      <td>n_common</td>\n",
       "      <td>59</td>\n",
       "    </tr>\n",
       "    <tr>\n",
       "      <th>1</th>\n",
       "      <td>sig_only</td>\n",
       "      <td>EFO_0000095_EFO_0000095</td>\n",
       "      <td>20000</td>\n",
       "      <td>1.035461e-02</td>\n",
       "      <td>n_common</td>\n",
       "      <td>26</td>\n",
       "    </tr>\n",
       "    <tr>\n",
       "      <th>2</th>\n",
       "      <td>defaults</td>\n",
       "      <td>EFO_0000182_EFO_0000182</td>\n",
       "      <td>20000</td>\n",
       "      <td>2.398021e-03</td>\n",
       "      <td>n_common</td>\n",
       "      <td>12</td>\n",
       "    </tr>\n",
       "    <tr>\n",
       "      <th>3</th>\n",
       "      <td>defaults</td>\n",
       "      <td>EFO_0000198_EFO_0000198</td>\n",
       "      <td>20000</td>\n",
       "      <td>6.283956e-03</td>\n",
       "      <td>n_common</td>\n",
       "      <td>7</td>\n",
       "    </tr>\n",
       "    <tr>\n",
       "      <th>4</th>\n",
       "      <td>defaults</td>\n",
       "      <td>EFO_0000217_EFO_0000217</td>\n",
       "      <td>20000</td>\n",
       "      <td>1.639309e-02</td>\n",
       "      <td>n_common</td>\n",
       "      <td>5</td>\n",
       "    </tr>\n",
       "    <tr>\n",
       "      <th>...</th>\n",
       "      <td>...</td>\n",
       "      <td>...</td>\n",
       "      <td>...</td>\n",
       "      <td>...</td>\n",
       "      <td>...</td>\n",
       "      <td>...</td>\n",
       "    </tr>\n",
       "    <tr>\n",
       "      <th>1651</th>\n",
       "      <td>defaults</td>\n",
       "      <td>MONDO_0008903_MONDO_0008903</td>\n",
       "      <td>20000</td>\n",
       "      <td>3.401441e-03</td>\n",
       "      <td>n_overlap</td>\n",
       "      <td>1</td>\n",
       "    </tr>\n",
       "    <tr>\n",
       "      <th>1652</th>\n",
       "      <td>sig_only</td>\n",
       "      <td>MONDO_0008903_MONDO_0008903</td>\n",
       "      <td>20000</td>\n",
       "      <td>2.735146e-04</td>\n",
       "      <td>n_overlap</td>\n",
       "      <td>1</td>\n",
       "    </tr>\n",
       "    <tr>\n",
       "      <th>1653</th>\n",
       "      <td>defaults</td>\n",
       "      <td>MONDO_0018309_MONDO_0018309</td>\n",
       "      <td>20000</td>\n",
       "      <td>4.199055e-10</td>\n",
       "      <td>n_overlap</td>\n",
       "      <td>2</td>\n",
       "    </tr>\n",
       "    <tr>\n",
       "      <th>1654</th>\n",
       "      <td>sig_only</td>\n",
       "      <td>MONDO_0018309_MONDO_0018309</td>\n",
       "      <td>20000</td>\n",
       "      <td>1.200135e-11</td>\n",
       "      <td>n_overlap</td>\n",
       "      <td>2</td>\n",
       "    </tr>\n",
       "    <tr>\n",
       "      <th>1655</th>\n",
       "      <td>defaults</td>\n",
       "      <td>MONDO_0024647_MONDO_0024647</td>\n",
       "      <td>20000</td>\n",
       "      <td>2.271279e-02</td>\n",
       "      <td>n_overlap</td>\n",
       "      <td>0</td>\n",
       "    </tr>\n",
       "  </tbody>\n",
       "</table>\n",
       "<p>1656 rows × 6 columns</p>\n",
       "</div>"
      ],
      "text/plain": [
       "     param_set                   trait_pair  background          pval  \\\n",
       "0     defaults      EFO_0000095_EFO_0000095       20000  2.336181e-02   \n",
       "1     sig_only      EFO_0000095_EFO_0000095       20000  1.035461e-02   \n",
       "2     defaults      EFO_0000182_EFO_0000182       20000  2.398021e-03   \n",
       "3     defaults      EFO_0000198_EFO_0000198       20000  6.283956e-03   \n",
       "4     defaults      EFO_0000217_EFO_0000217       20000  1.639309e-02   \n",
       "...        ...                          ...         ...           ...   \n",
       "1651  defaults  MONDO_0008903_MONDO_0008903       20000  3.401441e-03   \n",
       "1652  sig_only  MONDO_0008903_MONDO_0008903       20000  2.735146e-04   \n",
       "1653  defaults  MONDO_0018309_MONDO_0018309       20000  4.199055e-10   \n",
       "1654  sig_only  MONDO_0018309_MONDO_0018309       20000  1.200135e-11   \n",
       "1655  defaults  MONDO_0024647_MONDO_0024647       20000  2.271279e-02   \n",
       "\n",
       "       variable  value  \n",
       "0      n_common     59  \n",
       "1      n_common     26  \n",
       "2      n_common     12  \n",
       "3      n_common      7  \n",
       "4      n_common      5  \n",
       "...         ...    ...  \n",
       "1651  n_overlap      1  \n",
       "1652  n_overlap      1  \n",
       "1653  n_overlap      2  \n",
       "1654  n_overlap      2  \n",
       "1655  n_overlap      0  \n",
       "\n",
       "[1656 rows x 6 columns]"
      ]
     },
     "execution_count": 13,
     "metadata": {},
     "output_type": "execute_result"
    }
   ],
   "source": [
    "overlap_df[overlap_df.param_set.isin(['defaults', 'sig_only'])].melt(id_vars=['param_set', 'trait_pair', 'background', 'pval'], value_vars=['n_common', 'n_rare', 'n_overlap'])"
   ]
  },
  {
   "cell_type": "code",
   "execution_count": 28,
   "metadata": {
    "ExecuteTime": {
     "end_time": "2024-10-14T23:45:32.950601Z",
     "start_time": "2024-10-14T23:45:32.613448Z"
    }
   },
   "outputs": [
    {
     "data": {
      "image/png": "[encoded data removed]",
      "text/plain": [
       "<Figure size 200x200 with 1 Axes>"
      ]
     },
     "metadata": {},
     "output_type": "display_data"
    }
   ],
   "source": [
    "_, ax = plt.subplots(1, 1, figsize=(2,2))\n",
    "sns.barplot(overlap_df[overlap_df.param_set.isin(['defaults', 'sig_only'])].melt(id_vars=['param_set', 'trait_pair', 'background', 'pval'], value_vars=['n_common', 'n_rare', 'n_overlap']), \n",
    "            x='variable', y='value', hue='param_set', estimator='mean', ax=ax)\n",
    "plt.savefig(os.path.join(figdir, 'default_vs_sig_only_gene_counts.png'), dpi=300, bbox_inches='tight')"
   ]
  },
  {
   "cell_type": "code",
   "execution_count": 31,
   "metadata": {
    "ExecuteTime": {
     "end_time": "2024-10-14T23:47:54.887920Z",
     "start_time": "2024-10-14T23:47:54.878591Z"
    }
   },
   "outputs": [
    {
     "data": {
      "text/html": [
       "<div>\n",
       "<style scoped>\n",
       "    .dataframe tbody tr th:only-of-type {\n",
       "        vertical-align: middle;\n",
       "    }\n",
       "\n",
       "    .dataframe tbody tr th {\n",
       "        vertical-align: top;\n",
       "    }\n",
       "\n",
       "    .dataframe thead th {\n",
       "        text-align: right;\n",
       "    }\n",
       "</style>\n",
       "<table border=\"1\" class=\"dataframe\">\n",
       "  <thead>\n",
       "    <tr style=\"text-align: right;\">\n",
       "      <th></th>\n",
       "      <th>param_set</th>\n",
       "      <th>trait_pair</th>\n",
       "      <th>background</th>\n",
       "      <th>pval</th>\n",
       "      <th>variable</th>\n",
       "      <th>value</th>\n",
       "    </tr>\n",
       "  </thead>\n",
       "  <tbody>\n",
       "    <tr>\n",
       "      <th>0</th>\n",
       "      <td>defaults</td>\n",
       "      <td>EFO_0000095_EFO_0000095</td>\n",
       "      <td>20000</td>\n",
       "      <td>0.023362</td>\n",
       "      <td>n_common</td>\n",
       "      <td>59</td>\n",
       "    </tr>\n",
       "    <tr>\n",
       "      <th>1</th>\n",
       "      <td>defaults</td>\n",
       "      <td>EFO_0000182_EFO_0000182</td>\n",
       "      <td>20000</td>\n",
       "      <td>0.002398</td>\n",
       "      <td>n_common</td>\n",
       "      <td>12</td>\n",
       "    </tr>\n",
       "    <tr>\n",
       "      <th>2</th>\n",
       "      <td>defaults</td>\n",
       "      <td>EFO_0000198_EFO_0000198</td>\n",
       "      <td>20000</td>\n",
       "      <td>0.006284</td>\n",
       "      <td>n_common</td>\n",
       "      <td>7</td>\n",
       "    </tr>\n",
       "    <tr>\n",
       "      <th>3</th>\n",
       "      <td>defaults</td>\n",
       "      <td>EFO_0000217_EFO_0000217</td>\n",
       "      <td>20000</td>\n",
       "      <td>0.016393</td>\n",
       "      <td>n_common</td>\n",
       "      <td>5</td>\n",
       "    </tr>\n",
       "    <tr>\n",
       "      <th>4</th>\n",
       "      <td>defaults</td>\n",
       "      <td>EFO_0000266_EFO_0000266</td>\n",
       "      <td>20000</td>\n",
       "      <td>0.012926</td>\n",
       "      <td>n_common</td>\n",
       "      <td>13</td>\n",
       "    </tr>\n",
       "  </tbody>\n",
       "</table>\n",
       "</div>"
      ],
      "text/plain": [
       "  param_set               trait_pair  background      pval  variable  value\n",
       "0  defaults  EFO_0000095_EFO_0000095       20000  0.023362  n_common     59\n",
       "1  defaults  EFO_0000182_EFO_0000182       20000  0.002398  n_common     12\n",
       "2  defaults  EFO_0000198_EFO_0000198       20000  0.006284  n_common      7\n",
       "3  defaults  EFO_0000217_EFO_0000217       20000  0.016393  n_common      5\n",
       "4  defaults  EFO_0000266_EFO_0000266       20000  0.012926  n_common     13"
      ]
     },
     "execution_count": 31,
     "metadata": {},
     "output_type": "execute_result"
    }
   ],
   "source": [
    "overlap_df[overlap_df.param_set.isin(['defaults', 'sig_only'])].melt(id_vars=['param_set', 'trait_pair', 'background', 'pval'], value_vars=['n_common', 'n_rare', 'n_overlap']).head()"
   ]
  },
  {
   "cell_type": "code",
   "execution_count": 35,
   "metadata": {
    "ExecuteTime": {
     "end_time": "2024-10-14T23:48:50.960968Z",
     "start_time": "2024-10-14T23:48:50.939631Z"
    }
   },
   "outputs": [
    {
     "data": {
      "text/html": [
       "<div>\n",
       "<style scoped>\n",
       "    .dataframe tbody tr th:only-of-type {\n",
       "        vertical-align: middle;\n",
       "    }\n",
       "\n",
       "    .dataframe tbody tr th {\n",
       "        vertical-align: top;\n",
       "    }\n",
       "\n",
       "    .dataframe thead th {\n",
       "        text-align: right;\n",
       "    }\n",
       "</style>\n",
       "<table border=\"1\" class=\"dataframe\">\n",
       "  <thead>\n",
       "    <tr style=\"text-align: right;\">\n",
       "      <th></th>\n",
       "      <th></th>\n",
       "      <th>count</th>\n",
       "      <th>mean</th>\n",
       "      <th>std</th>\n",
       "      <th>min</th>\n",
       "      <th>25%</th>\n",
       "      <th>50%</th>\n",
       "      <th>75%</th>\n",
       "      <th>max</th>\n",
       "    </tr>\n",
       "    <tr>\n",
       "      <th>param_set</th>\n",
       "      <th>variable</th>\n",
       "      <th></th>\n",
       "      <th></th>\n",
       "      <th></th>\n",
       "      <th></th>\n",
       "      <th></th>\n",
       "      <th></th>\n",
       "      <th></th>\n",
       "      <th></th>\n",
       "    </tr>\n",
       "  </thead>\n",
       "  <tbody>\n",
       "    <tr>\n",
       "      <th rowspan=\"3\" valign=\"top\">defaults</th>\n",
       "      <th>n_common</th>\n",
       "      <td>350.0</td>\n",
       "      <td>186.368571</td>\n",
       "      <td>403.138808</td>\n",
       "      <td>3.0</td>\n",
       "      <td>10.00</td>\n",
       "      <td>45.5</td>\n",
       "      <td>179.50</td>\n",
       "      <td>5481.0</td>\n",
       "    </tr>\n",
       "    <tr>\n",
       "      <th>n_overlap</th>\n",
       "      <td>350.0</td>\n",
       "      <td>8.774286</td>\n",
       "      <td>24.910911</td>\n",
       "      <td>0.0</td>\n",
       "      <td>0.00</td>\n",
       "      <td>0.0</td>\n",
       "      <td>3.00</td>\n",
       "      <td>194.0</td>\n",
       "    </tr>\n",
       "    <tr>\n",
       "      <th>n_rare</th>\n",
       "      <td>350.0</td>\n",
       "      <td>51.594286</td>\n",
       "      <td>164.142858</td>\n",
       "      <td>3.0</td>\n",
       "      <td>8.00</td>\n",
       "      <td>17.0</td>\n",
       "      <td>41.00</td>\n",
       "      <td>2217.0</td>\n",
       "    </tr>\n",
       "    <tr>\n",
       "      <th rowspan=\"3\" valign=\"top\">sig_only</th>\n",
       "      <th>n_common</th>\n",
       "      <td>202.0</td>\n",
       "      <td>243.935644</td>\n",
       "      <td>462.203462</td>\n",
       "      <td>3.0</td>\n",
       "      <td>23.25</td>\n",
       "      <td>78.5</td>\n",
       "      <td>311.75</td>\n",
       "      <td>5152.0</td>\n",
       "    </tr>\n",
       "    <tr>\n",
       "      <th>n_overlap</th>\n",
       "      <td>202.0</td>\n",
       "      <td>13.351485</td>\n",
       "      <td>27.326845</td>\n",
       "      <td>0.0</td>\n",
       "      <td>0.00</td>\n",
       "      <td>2.0</td>\n",
       "      <td>14.75</td>\n",
       "      <td>165.0</td>\n",
       "    </tr>\n",
       "    <tr>\n",
       "      <th>n_rare</th>\n",
       "      <td>202.0</td>\n",
       "      <td>56.554455</td>\n",
       "      <td>168.178564</td>\n",
       "      <td>3.0</td>\n",
       "      <td>5.00</td>\n",
       "      <td>10.5</td>\n",
       "      <td>37.75</td>\n",
       "      <td>1736.0</td>\n",
       "    </tr>\n",
       "  </tbody>\n",
       "</table>\n",
       "</div>"
      ],
      "text/plain": [
       "                     count        mean         std  min    25%   50%     75%  \\\n",
       "param_set variable                                                             \n",
       "defaults  n_common   350.0  186.368571  403.138808  3.0  10.00  45.5  179.50   \n",
       "          n_overlap  350.0    8.774286   24.910911  0.0   0.00   0.0    3.00   \n",
       "          n_rare     350.0   51.594286  164.142858  3.0   8.00  17.0   41.00   \n",
       "sig_only  n_common   202.0  243.935644  462.203462  3.0  23.25  78.5  311.75   \n",
       "          n_overlap  202.0   13.351485   27.326845  0.0   0.00   2.0   14.75   \n",
       "          n_rare     202.0   56.554455  168.178564  3.0   5.00  10.5   37.75   \n",
       "\n",
       "                        max  \n",
       "param_set variable           \n",
       "defaults  n_common   5481.0  \n",
       "          n_overlap   194.0  \n",
       "          n_rare     2217.0  \n",
       "sig_only  n_common   5152.0  \n",
       "          n_overlap   165.0  \n",
       "          n_rare     1736.0  "
      ]
     },
     "execution_count": 35,
     "metadata": {},
     "output_type": "execute_result"
    }
   ],
   "source": [
    "overlap_df[overlap_df.param_set.isin(['defaults', 'sig_only'])].melt(id_vars=['param_set', 'trait_pair', 'background', 'pval'], value_vars=['n_common', 'n_rare', 'n_overlap']).groupby(['param_set', 'variable']).value.describe()"
   ]
  },
  {
   "cell_type": "markdown",
   "metadata": {},
   "source": [
    "P-values"
   ]
  },
  {
   "cell_type": "code",
   "execution_count": 37,
   "metadata": {
    "ExecuteTime": {
     "end_time": "2024-10-14T23:52:28.150491Z",
     "start_time": "2024-10-14T23:52:28.146765Z"
    }
   },
   "outputs": [],
   "source": [
    "overlap_df['logp'] = -np.log10(overlap_df.pval + 1e-50)"
   ]
  },
  {
   "cell_type": "code",
   "execution_count": 43,
   "metadata": {
    "ExecuteTime": {
     "end_time": "2024-10-14T23:53:08.911980Z",
     "start_time": "2024-10-14T23:53:08.763360Z"
    }
   },
   "outputs": [
    {
     "data": {
      "image/png": "[encoded data removed]",
      "text/plain": [
       "<Figure size 200x200 with 1 Axes>"
      ]
     },
     "metadata": {},
     "output_type": "display_data"
    }
   ],
   "source": [
    "#sns.barplot(overlap_df[overlap_df.param_set.isin(['defaults', 'sig_only'])], x = 'param_set', y = 'logp', estimator='median')\n",
    "_, ax = plt.subplots(1, 1, figsize=(2,2))\n",
    "sns.boxplot(overlap_df[overlap_df.param_set.isin(['defaults', 'sig_only'])], x = 'param_set', y = 'logp', ax=ax, fliersize=2)\n",
    "plt.savefig(os.path.join(figdir, 'default_vs_sig_only_overlap_sig.png'), dpi=300, bbox_inches='tight')"
   ]
  },
  {
   "cell_type": "markdown",
   "metadata": {},
   "source": [
    "### Background comparison"
   ]
  },
  {
   "cell_type": "code",
   "execution_count": 17,
   "metadata": {},
   "outputs": [
    {
     "data": {
      "text/plain": [
       "<Axes: xlabel='background', ylabel='logp'>"
      ]
     },
     "execution_count": 17,
     "metadata": {},
     "output_type": "execute_result"
    },
    {
     "data": {
      "image/png": "[encoded data removed]",
      "text/plain": [
       "<Figure size 640x480 with 1 Axes>"
      ]
     },
     "metadata": {},
     "output_type": "display_data"
    }
   ],
   "source": [
    "sns.boxplot(overlap_df, x = 'background', y = 'logp')"
   ]
  },
  {
   "cell_type": "code",
   "execution_count": 46,
   "metadata": {
    "ExecuteTime": {
     "end_time": "2024-10-15T17:31:02.243316Z",
     "start_time": "2024-10-15T17:31:02.050725Z"
    }
   },
   "outputs": [
    {
     "data": {
      "image/png": "[encoded data removed]",
      "text/plain": [
       "<Figure size 300x200 with 1 Axes>"
      ]
     },
     "metadata": {},
     "output_type": "display_data"
    }
   ],
   "source": [
    "_, ax = plt.subplots(1,1, figsize=(3, 2))\n",
    "sns.boxplot(overlap_df, x = 'param_set', y = 'logp', hue='param_set', fliersize=2)\n",
    "plt.savefig(os.path.join(figdir, 'default_sig_bkgnd_overlap_sig.png'), dpi=300, bbox_inches='tight')"
   ]
  },
  {
   "cell_type": "markdown",
   "metadata": {},
   "source": [
    "## Results of 9k analysis"
   ]
  },
  {
   "cell_type": "code",
   "execution_count": 48,
   "metadata": {
    "ExecuteTime": {
     "end_time": "2024-10-15T17:31:45.126371Z",
     "start_time": "2024-10-15T17:31:45.122609Z"
    }
   },
   "outputs": [],
   "source": [
    "k9_df = overlap_df[overlap_df.param_set.str.contains('9k')]\n",
    "k9_df = k9_df.sort_values(by='pval', ascending=True)"
   ]
  },
  {
   "cell_type": "code",
   "execution_count": 49,
   "metadata": {
    "ExecuteTime": {
     "end_time": "2024-10-15T17:31:45.919932Z",
     "start_time": "2024-10-15T17:31:45.826186Z"
    }
   },
   "outputs": [],
   "source": [
    "k9_df['expected'] = k9_df.apply(lambda x: hypergeom.mean(x.background, x.n_common, x.n_rare), axis=1)"
   ]
  },
  {
   "cell_type": "code",
   "execution_count": 51,
   "metadata": {
    "ExecuteTime": {
     "end_time": "2024-10-15T17:32:01.257309Z",
     "start_time": "2024-10-15T17:31:56.427054Z"
    }
   },
   "outputs": [
    {
     "data": {
      "image/png": "[encoded data removed]",
      "text/plain": [
       "<Figure size 500x300 with 4 Axes>"
      ]
     },
     "metadata": {},
     "output_type": "display_data"
    }
   ],
   "source": [
    "_, [ax1, ax2, ax3, ax4] = plt.subplots(4, 1, figsize=(5, 3), sharex=True)\n",
    "sns.barplot(k9_df[k9_df.param_set=='defaults_9k'], x = 'trait_pair', y = 'logp', ax=ax1)\n",
    "sns.barplot(k9_df[k9_df.param_set=='defaults_9k'], x = 'trait_pair', y = 'n_overlap', ax=ax2, zorder=10)\n",
    "sns.barplot(k9_df[k9_df.param_set=='defaults_9k'], x = 'trait_pair', y = 'n_common', ax=ax3)\n",
    "sns.barplot(k9_df[k9_df.param_set=='defaults_9k'], x = 'trait_pair', y = 'n_rare', ax=ax4)\n",
    "_ = plt.xticks([])\n",
    "ax3.set_ylim(0, 1000)\n",
    "ax4.set_ylim(0, 500)\n",
    "plt.savefig(os.path.join(figdir, 'overlap_sig_vs_seed_gene_counts.png'), dpi=300, bbox_inches='tight')"
   ]
  },
  {
   "cell_type": "code",
   "execution_count": 22,
   "metadata": {},
   "outputs": [
    {
     "data": {
      "text/html": [
       "<div>\n",
       "<style scoped>\n",
       "    .dataframe tbody tr th:only-of-type {\n",
       "        vertical-align: middle;\n",
       "    }\n",
       "\n",
       "    .dataframe tbody tr th {\n",
       "        vertical-align: top;\n",
       "    }\n",
       "\n",
       "    .dataframe thead th {\n",
       "        text-align: right;\n",
       "    }\n",
       "</style>\n",
       "<table border=\"1\" class=\"dataframe\">\n",
       "  <thead>\n",
       "    <tr style=\"text-align: right;\">\n",
       "      <th></th>\n",
       "      <th>trait_pair</th>\n",
       "      <th>param_set</th>\n",
       "      <th>n_common</th>\n",
       "      <th>n_rare</th>\n",
       "      <th>n_overlap</th>\n",
       "      <th>background</th>\n",
       "      <th>pval</th>\n",
       "      <th>logp</th>\n",
       "      <th>expected</th>\n",
       "    </tr>\n",
       "  </thead>\n",
       "  <tbody>\n",
       "    <tr>\n",
       "      <th>179</th>\n",
       "      <td>EFO_0005208_EFO_0005208</td>\n",
       "      <td>defaults_9k</td>\n",
       "      <td>825</td>\n",
       "      <td>3</td>\n",
       "      <td>3</td>\n",
       "      <td>9415</td>\n",
       "      <td>0.0</td>\n",
       "      <td>50.0</td>\n",
       "      <td>0.262878</td>\n",
       "    </tr>\n",
       "    <tr>\n",
       "      <th>106</th>\n",
       "      <td>EFO_0005208_EFO_0005208</td>\n",
       "      <td>sig_only_9k</td>\n",
       "      <td>771</td>\n",
       "      <td>3</td>\n",
       "      <td>3</td>\n",
       "      <td>9415</td>\n",
       "      <td>0.0</td>\n",
       "      <td>50.0</td>\n",
       "      <td>0.245672</td>\n",
       "    </tr>\n",
       "    <tr>\n",
       "      <th>151</th>\n",
       "      <td>EFO_0004630_EFO_0004630</td>\n",
       "      <td>defaults_9k</td>\n",
       "      <td>15</td>\n",
       "      <td>3</td>\n",
       "      <td>3</td>\n",
       "      <td>9415</td>\n",
       "      <td>0.0</td>\n",
       "      <td>50.0</td>\n",
       "      <td>0.004780</td>\n",
       "    </tr>\n",
       "    <tr>\n",
       "      <th>147</th>\n",
       "      <td>EFO_0009767_EFO_0009767</td>\n",
       "      <td>sig_only_9k</td>\n",
       "      <td>262</td>\n",
       "      <td>3</td>\n",
       "      <td>3</td>\n",
       "      <td>9415</td>\n",
       "      <td>0.0</td>\n",
       "      <td>50.0</td>\n",
       "      <td>0.083484</td>\n",
       "    </tr>\n",
       "    <tr>\n",
       "      <th>86</th>\n",
       "      <td>EFO_0004630_EFO_0004630</td>\n",
       "      <td>sig_only_9k</td>\n",
       "      <td>9</td>\n",
       "      <td>3</td>\n",
       "      <td>3</td>\n",
       "      <td>9415</td>\n",
       "      <td>0.0</td>\n",
       "      <td>50.0</td>\n",
       "      <td>0.002868</td>\n",
       "    </tr>\n",
       "  </tbody>\n",
       "</table>\n",
       "</div>"
      ],
      "text/plain": [
       "                  trait_pair    param_set  n_common  n_rare  n_overlap  \\\n",
       "179  EFO_0005208_EFO_0005208  defaults_9k       825       3          3   \n",
       "106  EFO_0005208_EFO_0005208  sig_only_9k       771       3          3   \n",
       "151  EFO_0004630_EFO_0004630  defaults_9k        15       3          3   \n",
       "147  EFO_0009767_EFO_0009767  sig_only_9k       262       3          3   \n",
       "86   EFO_0004630_EFO_0004630  sig_only_9k         9       3          3   \n",
       "\n",
       "     background  pval  logp  expected  \n",
       "179        9415   0.0  50.0  0.262878  \n",
       "106        9415   0.0  50.0  0.245672  \n",
       "151        9415   0.0  50.0  0.004780  \n",
       "147        9415   0.0  50.0  0.083484  \n",
       "86         9415   0.0  50.0  0.002868  "
      ]
     },
     "execution_count": 22,
     "metadata": {},
     "output_type": "execute_result"
    }
   ],
   "source": [
    "k9_df.head()"
   ]
  },
  {
   "cell_type": "code",
   "execution_count": 53,
   "metadata": {
    "ExecuteTime": {
     "end_time": "2024-10-15T17:32:45.939716Z",
     "start_time": "2024-10-15T17:32:45.936021Z"
    }
   },
   "outputs": [],
   "source": [
    "k9_df['oe'] = k9_df.n_overlap / k9_df.expected"
   ]
  },
  {
   "cell_type": "code",
   "execution_count": 24,
   "metadata": {},
   "outputs": [
    {
     "data": {
      "text/plain": [
       "<Axes: xlabel='oe', ylabel='Count'>"
      ]
     },
     "execution_count": 24,
     "metadata": {},
     "output_type": "execute_result"
    },
    {
     "data": {
      "image/png": "[encoded data removed]",
      "text/plain": [
       "<Figure size 640x480 with 1 Axes>"
      ]
     },
     "metadata": {},
     "output_type": "display_data"
    }
   ],
   "source": [
    "sns.histplot(k9_df[k9_df.param_set=='defaults_9k'], x='oe', log_scale=True, bins=50)"
   ]
  },
  {
   "cell_type": "code",
   "execution_count": 25,
   "metadata": {},
   "outputs": [
    {
     "data": {
      "text/plain": [
       "<Axes: xlabel='oe', ylabel='logp'>"
      ]
     },
     "execution_count": 25,
     "metadata": {},
     "output_type": "execute_result"
    },
    {
     "data": {
      "image/png": "[encoded data removed]",
      "text/plain": [
       "<Figure size 640x480 with 1 Axes>"
      ]
     },
     "metadata": {},
     "output_type": "display_data"
    }
   ],
   "source": [
    "sns.scatterplot(k9_df[k9_df.param_set=='defaults_9k'], x='oe', y='logp', alpha=0.5)"
   ]
  },
  {
   "cell_type": "code",
   "execution_count": 54,
   "metadata": {
    "ExecuteTime": {
     "end_time": "2024-10-15T17:32:48.439461Z",
     "start_time": "2024-10-15T17:32:48.434120Z"
    }
   },
   "outputs": [],
   "source": [
    "k9_df['rare_only'] = k9_df.n_rare - k9_df.n_overlap\n",
    "k9_df['common_only'] = k9_df.n_common - k9_df.n_overlap\n",
    "k9_df['total'] = k9_df.rare_only + k9_df.common_only + k9_df.n_overlap\n",
    "k9_df['overlap+rare'] = k9_df.n_overlap + k9_df.rare_only\n",
    "k9_df = k9_df.sort_values(by=['n_overlap', 'total'], ascending=False)"
   ]
  },
  {
   "cell_type": "code",
   "execution_count": 55,
   "metadata": {
    "ExecuteTime": {
     "end_time": "2024-10-15T17:32:49.374813Z",
     "start_time": "2024-10-15T17:32:49.368952Z"
    }
   },
   "outputs": [],
   "source": [
    "plot_df =k9_df[(k9_df.param_set=='defaults_9k') & ((k9_df.total > 100) ) & (k9_df.total < 1000)].melt(id_vars=['trait_pair', 'pval', 'logp'], value_vars=['n_overlap', 'overlap+rare', 'total'])"
   ]
  },
  {
   "cell_type": "code",
   "execution_count": 56,
   "metadata": {
    "ExecuteTime": {
     "end_time": "2024-10-15T17:32:50.093077Z",
     "start_time": "2024-10-15T17:32:50.088919Z"
    }
   },
   "outputs": [],
   "source": [
    "total_order = k9_df[k9_df.param_set=='defaults_9k'].sort_values(by=['n_overlap', 'n_rare', 'n_common'], ascending=[False, False, False]).trait_pair.values"
   ]
  },
  {
   "cell_type": "code",
   "execution_count": 72,
   "metadata": {},
   "outputs": [
    {
     "data": {
      "text/plain": [
       "array(['EFO_0004339_EFO_0004339', 'EFO_0006335_EFO_0006335',\n",
       "       'EFO_0004533_EFO_0004533', 'EFO_0004696_EFO_0004696',\n",
       "       'EFO_0004541_EFO_0004541', 'EFO_0006336_EFO_0006336',\n",
       "       'EFO_0007805_EFO_0007805', 'MONDO_0005090_MONDO_0005090',\n",
       "       'EFO_0004458_EFO_0004458', 'EFO_0004531_EFO_0004531'], dtype=object)"
      ]
     },
     "execution_count": 72,
     "metadata": {},
     "output_type": "execute_result"
    }
   ],
   "source": [
    "total_order[0:10]"
   ]
  },
  {
   "cell_type": "code",
   "execution_count": 57,
   "metadata": {
    "ExecuteTime": {
     "end_time": "2024-10-15T17:32:54.676636Z",
     "start_time": "2024-10-15T17:32:51.632267Z"
    }
   },
   "outputs": [
    {
     "name": "stdout",
     "output_type": "stream",
     "text": [
      "198\n"
     ]
    },
    {
     "data": {
      "image/png": "[encoded data removed]",
      "text/plain": [
       "<Figure size 800x300 with 4 Axes>"
      ]
     },
     "metadata": {},
     "output_type": "display_data"
    }
   ],
   "source": [
    "_, [[ax1a, ax2a], [ax1, ax2]] = plt.subplots(2, 2, figsize=(8, 3), sharex=False, gridspec_kw={'height_ratios': [1, 20], 'width_ratios':[139,198], 'hspace': 0})\n",
    "\n",
    "\n",
    "\n",
    "order = [x for x in total_order if x in plot_df.trait_pair.values]\n",
    "#plot_df[plot_df.variable=='n_overlap'].sort_values('value', ascending=False).trait_pair\n",
    "sns.heatmap(np.array(plot_df[plot_df.variable=='total'].set_index('trait_pair').loc[order]['logp']).reshape(-1, 1).T, ax=ax1a, cbar=False, cmap='Reds', yticklabels=False, xticklabels=False,vmax=50, vmin=0)\n",
    "\n",
    "sns.barplot(plot_df[plot_df.variable=='n_overlap'], x='trait_pair', y='value', color='purple', zorder=10, order=order, ax=ax1)\n",
    "sns.barplot(plot_df[plot_df.variable=='overlap+rare'], x='trait_pair', y='value', color='green', zorder=5, order=order, ax=ax1, alpha=0.5)\n",
    "sns.barplot(plot_df[plot_df.variable=='total'], x='trait_pair', y='value', color='skyblue', zorder=1, order=order, ax=ax1, alpha=0.5)\n",
    "ax1.set_xticks([])\n",
    "\n",
    "\n",
    "plot_df2 =k9_df[(k9_df.param_set=='defaults_9k')  & (k9_df.total <= 100)].melt(id_vars=['trait_pair', 'pval', 'logp'], value_vars=['n_overlap', 'overlap+rare', 'total'])\n",
    "order = [x for x in total_order if x in plot_df2.trait_pair.values]\n",
    "#plot_df2[plot_df2.variable=='n_overlap'].sort_values('value', ascending=False).trait_pair\n",
    "\n",
    "print(len(order))\n",
    "sns.heatmap(np.array(plot_df2[plot_df2.variable=='total'].set_index('trait_pair').loc[order]['logp']).reshape(-1, 1).T, ax=ax2a, cbar=False, cmap='Reds', yticklabels=False, xticklabels=False, vmax=10, vmin=0)\n",
    "\n",
    "sns.barplot(plot_df2[plot_df2.variable=='n_overlap'], x='trait_pair', y='value', color='purple', zorder=10, order=order, ax=ax2)\n",
    "sns.barplot(plot_df2[plot_df2.variable=='overlap+rare'], x='trait_pair', y='value', color='green', zorder=5, order=order, ax=ax2, alpha=0.5)\n",
    "sns.barplot(plot_df2[plot_df2.variable=='total'], x='trait_pair', y='value', color='skyblue', zorder=1, order=order, ax=ax2, alpha=0.5)\n",
    "ax2.set_xticks([])\n",
    "ax1.set_xlabel('Traits with more than 100 genes')\n",
    "ax2.set_xlabel('Traits with less than 100 genes')\n",
    "ax1.set_ylabel('Total associated genes')\n",
    "ax2.set_ylabel('Total associated genes')\n",
    "plt.savefig(os.path.join(figdir, 'overlap_summary_9k_v2.jpg'), dpi=400, bbox_inches='tight')"
   ]
  },
  {
   "cell_type": "code",
   "execution_count": 78,
   "metadata": {},
   "outputs": [
    {
     "data": {
      "image/png": "[encoded data removed]",
      "text/plain": [
       "<Figure size 600x400 with 2 Axes>"
      ]
     },
     "metadata": {},
     "output_type": "display_data"
    }
   ],
   "source": [
    "_ = plt.figure(figsize=(6, 4))\n",
    "sns.heatmap(np.array(plot_df2[plot_df2.variable=='total'].set_index('trait_pair').loc[order]['logp']).reshape(-1, 1).T, cbar=True, cmap='Reds', yticklabels=False, xticklabels=False, vmax=50, vmin=0)\n",
    "plt.savefig(os.path.join(figdir, 'overlap_summary_9k_colorbar.jpg'), dpi=400, bbox_inches='tight')"
   ]
  },
  {
   "cell_type": "markdown",
   "metadata": {},
   "source": [
    "## Venn Diagrams"
   ]
  },
  {
   "cell_type": "code",
   "execution_count": 79,
   "metadata": {},
   "outputs": [],
   "source": [
    "traits = ['EFO_0004570', 'EFO_0009961', 'EFO_0004630',  'EFO_0000612',  'EFO_0000400', 'EFO_0000756', 'EFO_0000684', ]\n",
    "trait_pairs = [f'{x}_{x}' for x in traits]"
   ]
  },
  {
   "cell_type": "code",
   "execution_count": 80,
   "metadata": {},
   "outputs": [
    {
     "ename": "NameError",
     "evalue": "name 'i' is not defined",
     "output_type": "error",
     "traceback": [
      "\u001b[0;31m---------------------------------------------------------------------------\u001b[0m",
      "\u001b[0;31mNameError\u001b[0m                                 Traceback (most recent call last)",
      "Cell \u001b[0;32mIn[80], line 1\u001b[0m\n\u001b[0;32m----> 1\u001b[0m k9_df[(k9_df\u001b[38;5;241m.\u001b[39mtrait_pair\u001b[38;5;241m==\u001b[39mtrait_pairs[\u001b[43mi\u001b[49m]) \u001b[38;5;241m&\u001b[39m (k9_df\u001b[38;5;241m.\u001b[39mparam_set\u001b[38;5;241m==\u001b[39m\u001b[38;5;124m'\u001b[39m\u001b[38;5;124msig_only_9k\u001b[39m\u001b[38;5;124m'\u001b[39m)]\u001b[38;5;241m.\u001b[39mloc[:, (\u001b[38;5;124m'\u001b[39m\u001b[38;5;124mrare_only\u001b[39m\u001b[38;5;124m'\u001b[39m, \u001b[38;5;124m'\u001b[39m\u001b[38;5;124mcommon_only\u001b[39m\u001b[38;5;124m'\u001b[39m, \u001b[38;5;124m'\u001b[39m\u001b[38;5;124mn_overlap\u001b[39m\u001b[38;5;124m'\u001b[39m)]\u001b[38;5;241m.\u001b[39mvalues\n",
      "\u001b[0;31mNameError\u001b[0m: name 'i' is not defined"
     ]
    }
   ],
   "source": [
    "k9_df[(k9_df.trait_pair==trait_pairs[i]) & (k9_df.param_set=='sig_only_9k')].loc[:, ('rare_only', 'common_only', 'n_overlap')].values"
   ]
  },
  {
   "cell_type": "code",
   "execution_count": 81,
   "metadata": {},
   "outputs": [
    {
     "ename": "AttributeError",
     "evalue": "'NoneType' object has no attribute 'set_color'",
     "output_type": "error",
     "traceback": [
      "\u001b[0;31m---------------------------------------------------------------------------\u001b[0m",
      "\u001b[0;31mAttributeError\u001b[0m                            Traceback (most recent call last)",
      "Cell \u001b[0;32mIn[81], line 9\u001b[0m\n\u001b[1;32m      7\u001b[0m v\u001b[38;5;241m.\u001b[39mget_patch_by_id(\u001b[38;5;124m'\u001b[39m\u001b[38;5;124m10\u001b[39m\u001b[38;5;124m'\u001b[39m)\u001b[38;5;241m.\u001b[39mset_color(\u001b[38;5;124m'\u001b[39m\u001b[38;5;124mmediumseagreen\u001b[39m\u001b[38;5;124m'\u001b[39m)\n\u001b[1;32m      8\u001b[0m v\u001b[38;5;241m.\u001b[39mget_patch_by_id(\u001b[38;5;124m'\u001b[39m\u001b[38;5;124m01\u001b[39m\u001b[38;5;124m'\u001b[39m)\u001b[38;5;241m.\u001b[39mset_color(\u001b[38;5;124m'\u001b[39m\u001b[38;5;124mdodgerblue\u001b[39m\u001b[38;5;124m'\u001b[39m)\n\u001b[0;32m----> 9\u001b[0m \u001b[43mv\u001b[49m\u001b[38;5;241;43m.\u001b[39;49m\u001b[43mget_patch_by_id\u001b[49m\u001b[43m(\u001b[49m\u001b[38;5;124;43m'\u001b[39;49m\u001b[38;5;124;43m11\u001b[39;49m\u001b[38;5;124;43m'\u001b[39;49m\u001b[43m)\u001b[49m\u001b[38;5;241;43m.\u001b[39;49m\u001b[43mset_color\u001b[49m(\u001b[38;5;124m'\u001b[39m\u001b[38;5;124mpurple\u001b[39m\u001b[38;5;124m'\u001b[39m)\n",
      "\u001b[0;31mAttributeError\u001b[0m: 'NoneType' object has no attribute 'set_color'"
     ]
    },
    {
     "data": {
      "image/png": "[encoded data removed]",
      "text/plain": [
       "<Figure size 2000x1000 with 8 Axes>"
      ]
     },
     "metadata": {},
     "output_type": "display_data"
    }
   ],
   "source": [
    "_, [[ax1,ax2,ax3,ax4], [ax5, ax6, ax7, ax8]] = plt.subplots(2, 4, figsize=(20, 10), sharex=True, sharey=True)\n",
    "for i in range(len(trait_pairs)):\n",
    "    trait_info = k9_df[(k9_df.trait_pair==trait_pairs[i]) & (k9_df.param_set=='sig_only_9k')]\n",
    "    subsets = trait_info.loc[:, ('rare_only', 'common_only', 'n_overlap')].values[0]\n",
    "    v = venn2(subsets=subsets, set_labels=('Rare', 'Common'), ax=eval(f'ax{i+1}'))\n",
    "    eval(f'ax{i+1}').set_title(traits[i])\n",
    "    v.get_patch_by_id('10').set_color('mediumseagreen')\n",
    "    v.get_patch_by_id('01').set_color('dodgerblue')\n",
    "    v.get_patch_by_id('11').set_color('purple')\n"
   ]
  },
  {
   "cell_type": "code",
   "execution_count": 311,
   "metadata": {},
   "outputs": [
    {
     "data": {
      "text/html": [
       "<div>\n",
       "<style scoped>\n",
       "    .dataframe tbody tr th:only-of-type {\n",
       "        vertical-align: middle;\n",
       "    }\n",
       "\n",
       "    .dataframe tbody tr th {\n",
       "        vertical-align: top;\n",
       "    }\n",
       "\n",
       "    .dataframe thead th {\n",
       "        text-align: right;\n",
       "    }\n",
       "</style>\n",
       "<table border=\"1\" class=\"dataframe\">\n",
       "  <thead>\n",
       "    <tr style=\"text-align: right;\">\n",
       "      <th></th>\n",
       "      <th>trait_pair</th>\n",
       "      <th>param_set</th>\n",
       "      <th>n_common</th>\n",
       "      <th>n_rare</th>\n",
       "      <th>n_overlap</th>\n",
       "      <th>background</th>\n",
       "      <th>pval</th>\n",
       "      <th>logp</th>\n",
       "    </tr>\n",
       "  </thead>\n",
       "  <tbody>\n",
       "    <tr>\n",
       "      <th>0</th>\n",
       "      <td>EFO_0000095_EFO_0000095</td>\n",
       "      <td>defaults</td>\n",
       "      <td>59</td>\n",
       "      <td>8</td>\n",
       "      <td>0</td>\n",
       "      <td>20000</td>\n",
       "      <td>0.023362</td>\n",
       "      <td>1.631494</td>\n",
       "    </tr>\n",
       "    <tr>\n",
       "      <th>0</th>\n",
       "      <td>EFO_0000095_EFO_0000095</td>\n",
       "      <td>defaults_9k</td>\n",
       "      <td>59</td>\n",
       "      <td>8</td>\n",
       "      <td>0</td>\n",
       "      <td>9415</td>\n",
       "      <td>0.049065</td>\n",
       "      <td>1.309231</td>\n",
       "    </tr>\n",
       "    <tr>\n",
       "      <th>0</th>\n",
       "      <td>EFO_0000095_EFO_0000095</td>\n",
       "      <td>sig_only_9k</td>\n",
       "      <td>26</td>\n",
       "      <td>8</td>\n",
       "      <td>0</td>\n",
       "      <td>9415</td>\n",
       "      <td>0.021888</td>\n",
       "      <td>1.659792</td>\n",
       "    </tr>\n",
       "    <tr>\n",
       "      <th>0</th>\n",
       "      <td>EFO_0000095_EFO_0000095</td>\n",
       "      <td>sig_only</td>\n",
       "      <td>26</td>\n",
       "      <td>8</td>\n",
       "      <td>0</td>\n",
       "      <td>20000</td>\n",
       "      <td>0.010355</td>\n",
       "      <td>1.984866</td>\n",
       "    </tr>\n",
       "    <tr>\n",
       "      <th>1</th>\n",
       "      <td>EFO_0000182_EFO_0000182</td>\n",
       "      <td>defaults_9k</td>\n",
       "      <td>12</td>\n",
       "      <td>4</td>\n",
       "      <td>0</td>\n",
       "      <td>9415</td>\n",
       "      <td>0.005089</td>\n",
       "      <td>2.293340</td>\n",
       "    </tr>\n",
       "  </tbody>\n",
       "</table>\n",
       "</div>"
      ],
      "text/plain": [
       "                trait_pair    param_set  n_common  n_rare  n_overlap  \\\n",
       "0  EFO_0000095_EFO_0000095     defaults        59       8          0   \n",
       "0  EFO_0000095_EFO_0000095  defaults_9k        59       8          0   \n",
       "0  EFO_0000095_EFO_0000095  sig_only_9k        26       8          0   \n",
       "0  EFO_0000095_EFO_0000095     sig_only        26       8          0   \n",
       "1  EFO_0000182_EFO_0000182  defaults_9k        12       4          0   \n",
       "\n",
       "   background      pval      logp  \n",
       "0       20000  0.023362  1.631494  \n",
       "0        9415  0.049065  1.309231  \n",
       "0        9415  0.021888  1.659792  \n",
       "0       20000  0.010355  1.984866  \n",
       "1        9415  0.005089  2.293340  "
      ]
     },
     "execution_count": 311,
     "metadata": {},
     "output_type": "execute_result"
    }
   ],
   "source": [
    "overlap_df.head()"
   ]
  },
  {
   "cell_type": "markdown",
   "metadata": {},
   "source": [
    "## Development"
   ]
  },
  {
   "cell_type": "code",
   "execution_count": null,
   "metadata": {},
   "outputs": [
    {
     "data": {
      "text/plain": [
       "Trait Ontology id\n",
       "EFO:0006335      2217\n",
       "EFO:0006336      1796\n",
       "MONDO:0005090     482\n",
       "EFO:0021009       438\n",
       "EFO:0007805       398\n",
       "                 ... \n",
       "EFO:0800474         1\n",
       "EFO:0800552         1\n",
       "EFO:0800556         1\n",
       "EFO:0800622         1\n",
       "MONDO:0024664       1\n",
       "Name: Gene Symbol, Length: 567, dtype: int64"
      ]
     },
     "metadata": {},
     "output_type": "display_data"
    }
   ],
   "source": [
    "rv_gene_counts "
   ]
  },
  {
   "cell_type": "code",
   "execution_count": 6,
   "metadata": {},
   "outputs": [],
   "source": [
    "with open(os.path.join(input_dir,'overlap_traits_Jun17.txt'), 'r') as f:\n",
    "    traits = f.read().splitlines()"
   ]
  },
  {
   "cell_type": "code",
   "execution_count": 79,
   "metadata": {},
   "outputs": [
    {
     "data": {
      "text/html": [
       "<div>\n",
       "<style scoped>\n",
       "    .dataframe tbody tr th:only-of-type {\n",
       "        vertical-align: middle;\n",
       "    }\n",
       "\n",
       "    .dataframe tbody tr th {\n",
       "        vertical-align: top;\n",
       "    }\n",
       "\n",
       "    .dataframe thead th {\n",
       "        text-align: right;\n",
       "    }\n",
       "</style>\n",
       "<table border=\"1\" class=\"dataframe\">\n",
       "  <thead>\n",
       "    <tr style=\"text-align: right;\">\n",
       "      <th></th>\n",
       "      <th>Gene Symbol</th>\n",
       "      <th>Ensembl ID</th>\n",
       "      <th>P-value</th>\n",
       "    </tr>\n",
       "  </thead>\n",
       "  <tbody>\n",
       "    <tr>\n",
       "      <th>0</th>\n",
       "      <td>MAP3K7CL</td>\n",
       "      <td>ENSG00000156265</td>\n",
       "      <td>0.000002</td>\n",
       "    </tr>\n",
       "    <tr>\n",
       "      <th>1</th>\n",
       "      <td>FAF1</td>\n",
       "      <td>ENSG00000185104</td>\n",
       "      <td>0.000003</td>\n",
       "    </tr>\n",
       "  </tbody>\n",
       "</table>\n",
       "</div>"
      ],
      "text/plain": [
       "  Gene Symbol       Ensembl ID   P-value\n",
       "0    MAP3K7CL  ENSG00000156265  0.000002\n",
       "1        FAF1  ENSG00000185104  0.000003"
      ]
     },
     "execution_count": 79,
     "metadata": {},
     "output_type": "execute_result"
    }
   ],
   "source": [
    "df.head()"
   ]
  },
  {
   "cell_type": "markdown",
   "metadata": {},
   "source": []
  },
  {
   "cell_type": "code",
   "execution_count": 92,
   "metadata": {},
   "outputs": [],
   "source": [
    "def compare_common_rare_genes(traits, rare_th=1, common_th=1, count_th=1, background=20000):\n",
    "    rare_variants = {'ensembl':{}, 'symbol':{}}\n",
    "    for trait in traits:\n",
    "        df = pd.read_csv(os.path.join(input_dir,trait+'_RV.txt'), sep='\\t')\n",
    "        df = df[df['P-value']<=rare_th]\n",
    "        rare_variants['ensembl'][trait] = df['Ensembl ID'].unique()\n",
    "        rare_variants['symbol'][trait] = df['Gene Symbol'].unique()\n",
    "    common_variants = {'ensembl':{}, 'symbol':{}}\n",
    "    for trait in traits:\n",
    "        df = pd.read_csv(os.path.join(input_dir,trait+'_CV.txt'), sep='\\t')\n",
    "        df = df[df['P-value']<=common_th]\n",
    "        common_variants['ensembl'][trait] = df['Ensembl ID'].unique()\n",
    "        common_variants['symbol'][trait] = df['Gene Symbol'].unique()\n",
    "    shared_variants = {'ensembl':{}, 'symbol':{}}\n",
    "    for trait in traits:\n",
    "        shared_variants['ensembl'][trait] = len(np.intersect1d(rare_variants['ensembl'][trait], common_variants['ensembl'][trait]))\n",
    "        shared_variants['symbol'][trait] = len(np.intersect1d(rare_variants['symbol'][trait], common_variants['symbol'][trait]))\n",
    "    gene_comparison = pd.DataFrame({'ensembl':shared_variants['ensembl'], 'symbol':shared_variants['symbol']})\n",
    "    gene_comparison = gene_comparison.assign(Rare_ensembl = [len(rare_variants['ensembl'][trait]) for trait in traits])\n",
    "    gene_comparison = gene_comparison.assign(Rare_symbol = [len(rare_variants['symbol'][trait]) for trait in traits])\n",
    "    gene_comparison = gene_comparison.assign(Common_ensembl = [len(common_variants['ensembl'][trait]) for trait in traits])\n",
    "    gene_comparison = gene_comparison.assign(Common_symbol = [len(common_variants['symbol'][trait]) for trait in traits])\n",
    "    gene_comparison = gene_comparison.loc[(gene_comparison['Rare_ensembl'] >= count_th) & (gene_comparison['Common_ensembl'] >= count_th)].copy()\n",
    "    gene_comparison['hypergeom_ensembl'] = gene_comparison.apply(lambda x: hypergeom.sf(k=x['ensembl'], N=x['Rare_ensembl'], n=x['Common_ensembl'], M=background), axis=1)\n",
    "    gene_comparison['hypergeom_symbol'] = gene_comparison.apply(lambda x: hypergeom.sf(k=x['symbol'], N=x['Rare_symbol'], n=x['Common_symbol'], M=background), axis=1)\n",
    "    gene_comparison['BH_ensembl'] = multipletests(gene_comparison['hypergeom_ensembl'], method='fdr_bh')[1]\n",
    "    gene_comparison['BH_symbol'] = multipletests(gene_comparison['hypergeom_symbol'], method='fdr_bh')[1]\n",
    "    print('Total comparisons:', gene_comparison.shape[0])\n",
    "    print('Median q value:', gene_comparison['BH_ensembl'].median())\n",
    "    return gene_comparison"
   ]
  },
  {
   "cell_type": "code",
   "execution_count": 95,
   "metadata": {},
   "outputs": [
    {
     "name": "stdout",
     "output_type": "stream",
     "text": [
      "Total comparisons: 310\n",
      "Median q value: 0.005558262885141916\n"
     ]
    }
   ],
   "source": [
    "gene_comparison = compare_common_rare_genes(traits, count_th=4)"
   ]
  },
  {
   "cell_type": "code",
   "execution_count": 96,
   "metadata": {},
   "outputs": [
    {
     "name": "stdout",
     "output_type": "stream",
     "text": [
      "Total comparisons: 259\n",
      "Median q value: 0.0034844469568670686\n"
     ]
    }
   ],
   "source": [
    "gene_comparison_sig_CV = compare_common_rare_genes(traits, count_th=4, common_th=5e-8)"
   ]
  },
  {
   "cell_type": "code",
   "execution_count": 73,
   "metadata": {},
   "outputs": [
    {
     "data": {
      "text/plain": [
       "0.004127702391736824"
      ]
     },
     "execution_count": 73,
     "metadata": {},
     "output_type": "execute_result"
    }
   ],
   "source": [
    "gene_comparison.BH_ensembl.median()"
   ]
  },
  {
   "cell_type": "code",
   "execution_count": 77,
   "metadata": {},
   "outputs": [
    {
     "data": {
      "text/plain": [
       "(1e-100, 1.0)"
      ]
     },
     "execution_count": 77,
     "metadata": {},
     "output_type": "execute_result"
    },
    {
     "data": {
      "image/png": "[encoded data removed]",
      "text/plain": [
       "<Figure size 640x480 with 1 Axes>"
      ]
     },
     "metadata": {},
     "output_type": "display_data"
    }
   ],
   "source": [
    "sns.histplot(gene_comparison['BH_ensembl'], bins=50, log_scale=True)\n",
    "plt.xlim(1e-100, 1e-0)"
   ]
  },
  {
   "cell_type": "code",
   "execution_count": 78,
   "metadata": {},
   "outputs": [
    {
     "data": {
      "text/html": [
       "<div>\n",
       "<style scoped>\n",
       "    .dataframe tbody tr th:only-of-type {\n",
       "        vertical-align: middle;\n",
       "    }\n",
       "\n",
       "    .dataframe tbody tr th {\n",
       "        vertical-align: top;\n",
       "    }\n",
       "\n",
       "    .dataframe thead th {\n",
       "        text-align: right;\n",
       "    }\n",
       "</style>\n",
       "<table border=\"1\" class=\"dataframe\">\n",
       "  <thead>\n",
       "    <tr style=\"text-align: right;\">\n",
       "      <th></th>\n",
       "      <th>ensembl</th>\n",
       "      <th>symbol</th>\n",
       "      <th>Rare_ensembl</th>\n",
       "      <th>Rare_symbol</th>\n",
       "      <th>Common_ensembl</th>\n",
       "      <th>Common_symbol</th>\n",
       "      <th>hypergeom_ensembl</th>\n",
       "      <th>hypergeom_symbol</th>\n",
       "      <th>BH_ensembl</th>\n",
       "      <th>BH_symbol</th>\n",
       "    </tr>\n",
       "  </thead>\n",
       "  <tbody>\n",
       "    <tr>\n",
       "      <th>EFO_0009767</th>\n",
       "      <td>3</td>\n",
       "      <td>3</td>\n",
       "      <td>3</td>\n",
       "      <td>3</td>\n",
       "      <td>62</td>\n",
       "      <td>62</td>\n",
       "      <td>0.000000e+00</td>\n",
       "      <td>0.000000e+00</td>\n",
       "      <td>0.000000e+00</td>\n",
       "      <td>0.000000e+00</td>\n",
       "    </tr>\n",
       "    <tr>\n",
       "      <th>EFO_0005208</th>\n",
       "      <td>3</td>\n",
       "      <td>3</td>\n",
       "      <td>3</td>\n",
       "      <td>3</td>\n",
       "      <td>825</td>\n",
       "      <td>825</td>\n",
       "      <td>0.000000e+00</td>\n",
       "      <td>0.000000e+00</td>\n",
       "      <td>0.000000e+00</td>\n",
       "      <td>0.000000e+00</td>\n",
       "    </tr>\n",
       "    <tr>\n",
       "      <th>EFO_0004533</th>\n",
       "      <td>153</td>\n",
       "      <td>159</td>\n",
       "      <td>368</td>\n",
       "      <td>368</td>\n",
       "      <td>512</td>\n",
       "      <td>512</td>\n",
       "      <td>3.390889e-151</td>\n",
       "      <td>7.804564e-161</td>\n",
       "      <td>4.023855e-149</td>\n",
       "      <td>6.946062e-159</td>\n",
       "    </tr>\n",
       "    <tr>\n",
       "      <th>EFO_0004696</th>\n",
       "      <td>127</td>\n",
       "      <td>131</td>\n",
       "      <td>317</td>\n",
       "      <td>317</td>\n",
       "      <td>676</td>\n",
       "      <td>676</td>\n",
       "      <td>3.358961e-105</td>\n",
       "      <td>9.495591e-111</td>\n",
       "      <td>2.989475e-103</td>\n",
       "      <td>6.760861e-109</td>\n",
       "    </tr>\n",
       "    <tr>\n",
       "      <th>EFO_0004541</th>\n",
       "      <td>95</td>\n",
       "      <td>100</td>\n",
       "      <td>358</td>\n",
       "      <td>358</td>\n",
       "      <td>310</td>\n",
       "      <td>310</td>\n",
       "      <td>1.125267e-93</td>\n",
       "      <td>2.168235e-101</td>\n",
       "      <td>8.011904e-92</td>\n",
       "      <td>1.286486e-99</td>\n",
       "    </tr>\n",
       "    <tr>\n",
       "      <th>EFO_0004531</th>\n",
       "      <td>88</td>\n",
       "      <td>90</td>\n",
       "      <td>244</td>\n",
       "      <td>244</td>\n",
       "      <td>408</td>\n",
       "      <td>408</td>\n",
       "      <td>2.023128e-88</td>\n",
       "      <td>1.581151e-91</td>\n",
       "      <td>1.200390e-86</td>\n",
       "      <td>8.041285e-90</td>\n",
       "    </tr>\n",
       "    <tr>\n",
       "      <th>EFO_0004458</th>\n",
       "      <td>85</td>\n",
       "      <td>87</td>\n",
       "      <td>176</td>\n",
       "      <td>176</td>\n",
       "      <td>548</td>\n",
       "      <td>548</td>\n",
       "      <td>3.142578e-87</td>\n",
       "      <td>1.865351e-90</td>\n",
       "      <td>1.598226e-85</td>\n",
       "      <td>8.300812e-89</td>\n",
       "    </tr>\n",
       "    <tr>\n",
       "      <th>EFO_0004570</th>\n",
       "      <td>59</td>\n",
       "      <td>60</td>\n",
       "      <td>146</td>\n",
       "      <td>146</td>\n",
       "      <td>194</td>\n",
       "      <td>194</td>\n",
       "      <td>2.080276e-84</td>\n",
       "      <td>1.992137e-86</td>\n",
       "      <td>9.257229e-83</td>\n",
       "      <td>7.880007e-85</td>\n",
       "    </tr>\n",
       "    <tr>\n",
       "      <th>EFO_0004617</th>\n",
       "      <td>66</td>\n",
       "      <td>68</td>\n",
       "      <td>275</td>\n",
       "      <td>275</td>\n",
       "      <td>166</td>\n",
       "      <td>166</td>\n",
       "      <td>3.008318e-82</td>\n",
       "      <td>6.946088e-86</td>\n",
       "      <td>1.189957e-80</td>\n",
       "      <td>2.472807e-84</td>\n",
       "    </tr>\n",
       "    <tr>\n",
       "      <th>EFO_0020946</th>\n",
       "      <td>46</td>\n",
       "      <td>47</td>\n",
       "      <td>238</td>\n",
       "      <td>238</td>\n",
       "      <td>104</td>\n",
       "      <td>104</td>\n",
       "      <td>1.651525e-63</td>\n",
       "      <td>1.899932e-65</td>\n",
       "      <td>5.879430e-62</td>\n",
       "      <td>6.148872e-64</td>\n",
       "    </tr>\n",
       "    <tr>\n",
       "      <th>EFO_0004584</th>\n",
       "      <td>64</td>\n",
       "      <td>64</td>\n",
       "      <td>168</td>\n",
       "      <td>168</td>\n",
       "      <td>508</td>\n",
       "      <td>508</td>\n",
       "      <td>9.976796e-60</td>\n",
       "      <td>9.976796e-60</td>\n",
       "      <td>3.228854e-58</td>\n",
       "      <td>2.959783e-58</td>\n",
       "    </tr>\n",
       "    <tr>\n",
       "      <th>EFO_0004526</th>\n",
       "      <td>72</td>\n",
       "      <td>73</td>\n",
       "      <td>165</td>\n",
       "      <td>165</td>\n",
       "      <td>914</td>\n",
       "      <td>914</td>\n",
       "      <td>1.717015e-53</td>\n",
       "      <td>9.437353e-55</td>\n",
       "      <td>5.093812e-52</td>\n",
       "      <td>2.399784e-53</td>\n",
       "    </tr>\n",
       "    <tr>\n",
       "      <th>EFO_0004627</th>\n",
       "      <td>59</td>\n",
       "      <td>60</td>\n",
       "      <td>353</td>\n",
       "      <td>353</td>\n",
       "      <td>228</td>\n",
       "      <td>228</td>\n",
       "      <td>2.046481e-53</td>\n",
       "      <td>8.468200e-55</td>\n",
       "      <td>5.604209e-52</td>\n",
       "      <td>2.318984e-53</td>\n",
       "    </tr>\n",
       "    <tr>\n",
       "      <th>EFO_0004614</th>\n",
       "      <td>35</td>\n",
       "      <td>35</td>\n",
       "      <td>54</td>\n",
       "      <td>54</td>\n",
       "      <td>378</td>\n",
       "      <td>378</td>\n",
       "      <td>1.184970e-49</td>\n",
       "      <td>1.184970e-49</td>\n",
       "      <td>3.013209e-48</td>\n",
       "      <td>2.812329e-48</td>\n",
       "    </tr>\n",
       "    <tr>\n",
       "      <th>EFO_0004615</th>\n",
       "      <td>32</td>\n",
       "      <td>32</td>\n",
       "      <td>51</td>\n",
       "      <td>51</td>\n",
       "      <td>319</td>\n",
       "      <td>319</td>\n",
       "      <td>1.968559e-47</td>\n",
       "      <td>1.968559e-47</td>\n",
       "      <td>4.672046e-46</td>\n",
       "      <td>4.380043e-46</td>\n",
       "    </tr>\n",
       "    <tr>\n",
       "      <th>EFO_0004309</th>\n",
       "      <td>54</td>\n",
       "      <td>54</td>\n",
       "      <td>112</td>\n",
       "      <td>112</td>\n",
       "      <td>803</td>\n",
       "      <td>803</td>\n",
       "      <td>1.166972e-46</td>\n",
       "      <td>1.166972e-46</td>\n",
       "      <td>2.596514e-45</td>\n",
       "      <td>2.443778e-45</td>\n",
       "    </tr>\n",
       "    <tr>\n",
       "      <th>EFO_0007986</th>\n",
       "      <td>38</td>\n",
       "      <td>38</td>\n",
       "      <td>69</td>\n",
       "      <td>69</td>\n",
       "      <td>483</td>\n",
       "      <td>483</td>\n",
       "      <td>3.015740e-45</td>\n",
       "      <td>3.015740e-45</td>\n",
       "      <td>6.315315e-44</td>\n",
       "      <td>5.650545e-44</td>\n",
       "    </tr>\n",
       "    <tr>\n",
       "      <th>MONDO_0005090</th>\n",
       "      <td>104</td>\n",
       "      <td>106</td>\n",
       "      <td>482</td>\n",
       "      <td>482</td>\n",
       "      <td>877</td>\n",
       "      <td>877</td>\n",
       "      <td>3.975291e-44</td>\n",
       "      <td>8.376172e-46</td>\n",
       "      <td>7.862243e-43</td>\n",
       "      <td>1.656621e-44</td>\n",
       "    </tr>\n",
       "    <tr>\n",
       "      <th>EFO_0007984</th>\n",
       "      <td>36</td>\n",
       "      <td>36</td>\n",
       "      <td>85</td>\n",
       "      <td>85</td>\n",
       "      <td>354</td>\n",
       "      <td>354</td>\n",
       "      <td>1.717236e-42</td>\n",
       "      <td>1.717236e-42</td>\n",
       "      <td>3.217559e-41</td>\n",
       "      <td>2.911124e-41</td>\n",
       "    </tr>\n",
       "    <tr>\n",
       "      <th>EFO_0004530</th>\n",
       "      <td>38</td>\n",
       "      <td>38</td>\n",
       "      <td>55</td>\n",
       "      <td>55</td>\n",
       "      <td>866</td>\n",
       "      <td>866</td>\n",
       "      <td>4.454467e-41</td>\n",
       "      <td>4.454467e-41</td>\n",
       "      <td>7.928951e-40</td>\n",
       "      <td>7.208138e-40</td>\n",
       "    </tr>\n",
       "    <tr>\n",
       "      <th>EFO_0004536</th>\n",
       "      <td>38</td>\n",
       "      <td>39</td>\n",
       "      <td>190</td>\n",
       "      <td>190</td>\n",
       "      <td>191</td>\n",
       "      <td>191</td>\n",
       "      <td>4.734166e-41</td>\n",
       "      <td>1.380249e-42</td>\n",
       "      <td>8.025538e-40</td>\n",
       "      <td>2.456843e-41</td>\n",
       "    </tr>\n",
       "    <tr>\n",
       "      <th>EFO_0008317</th>\n",
       "      <td>32</td>\n",
       "      <td>32</td>\n",
       "      <td>189</td>\n",
       "      <td>189</td>\n",
       "      <td>120</td>\n",
       "      <td>120</td>\n",
       "      <td>1.534591e-39</td>\n",
       "      <td>1.534591e-39</td>\n",
       "      <td>2.483246e-38</td>\n",
       "      <td>2.375279e-38</td>\n",
       "    </tr>\n",
       "    <tr>\n",
       "      <th>EFO_0004682</th>\n",
       "      <td>23</td>\n",
       "      <td>23</td>\n",
       "      <td>36</td>\n",
       "      <td>36</td>\n",
       "      <td>230</td>\n",
       "      <td>230</td>\n",
       "      <td>9.300530e-39</td>\n",
       "      <td>9.300530e-39</td>\n",
       "      <td>1.439560e-37</td>\n",
       "      <td>1.379579e-37</td>\n",
       "    </tr>\n",
       "    <tr>\n",
       "      <th>EFO_0004339</th>\n",
       "      <td>191</td>\n",
       "      <td>194</td>\n",
       "      <td>320</td>\n",
       "      <td>320</td>\n",
       "      <td>5491</td>\n",
       "      <td>5491</td>\n",
       "      <td>1.219526e-34</td>\n",
       "      <td>1.688738e-36</td>\n",
       "      <td>1.808964e-33</td>\n",
       "      <td>2.404762e-35</td>\n",
       "    </tr>\n",
       "    <tr>\n",
       "      <th>EFO_0008595</th>\n",
       "      <td>18</td>\n",
       "      <td>18</td>\n",
       "      <td>93</td>\n",
       "      <td>93</td>\n",
       "      <td>42</td>\n",
       "      <td>42</td>\n",
       "      <td>2.771470e-34</td>\n",
       "      <td>2.771470e-34</td>\n",
       "      <td>3.946573e-33</td>\n",
       "      <td>3.611904e-33</td>\n",
       "    </tr>\n",
       "    <tr>\n",
       "      <th>EFO_0010701</th>\n",
       "      <td>33</td>\n",
       "      <td>33</td>\n",
       "      <td>98</td>\n",
       "      <td>98</td>\n",
       "      <td>394</td>\n",
       "      <td>394</td>\n",
       "      <td>1.979066e-33</td>\n",
       "      <td>1.979066e-33</td>\n",
       "      <td>2.709798e-32</td>\n",
       "      <td>2.348492e-32</td>\n",
       "    </tr>\n",
       "    <tr>\n",
       "      <th>EFO_0005680</th>\n",
       "      <td>18</td>\n",
       "      <td>19</td>\n",
       "      <td>62</td>\n",
       "      <td>62</td>\n",
       "      <td>74</td>\n",
       "      <td>74</td>\n",
       "      <td>1.917472e-32</td>\n",
       "      <td>1.139729e-34</td>\n",
       "      <td>2.528223e-31</td>\n",
       "      <td>1.560552e-33</td>\n",
       "    </tr>\n",
       "    <tr>\n",
       "      <th>EFO_0008594</th>\n",
       "      <td>18</td>\n",
       "      <td>18</td>\n",
       "      <td>87</td>\n",
       "      <td>87</td>\n",
       "      <td>55</td>\n",
       "      <td>55</td>\n",
       "      <td>4.082191e-32</td>\n",
       "      <td>4.082191e-32</td>\n",
       "      <td>5.190214e-31</td>\n",
       "      <td>4.687936e-31</td>\n",
       "    </tr>\n",
       "    <tr>\n",
       "      <th>EFO_0004574</th>\n",
       "      <td>29</td>\n",
       "      <td>29</td>\n",
       "      <td>46</td>\n",
       "      <td>46</td>\n",
       "      <td>755</td>\n",
       "      <td>755</td>\n",
       "      <td>6.473811e-32</td>\n",
       "      <td>6.473811e-32</td>\n",
       "      <td>7.947161e-31</td>\n",
       "      <td>7.202115e-31</td>\n",
       "    </tr>\n",
       "    <tr>\n",
       "      <th>EFO_0010733</th>\n",
       "      <td>15</td>\n",
       "      <td>16</td>\n",
       "      <td>50</td>\n",
       "      <td>50</td>\n",
       "      <td>45</td>\n",
       "      <td>45</td>\n",
       "      <td>9.761012e-32</td>\n",
       "      <td>2.840823e-34</td>\n",
       "      <td>1.158307e-30</td>\n",
       "      <td>3.611904e-33</td>\n",
       "    </tr>\n",
       "    <tr>\n",
       "      <th>EFO_0006925</th>\n",
       "      <td>11</td>\n",
       "      <td>12</td>\n",
       "      <td>14</td>\n",
       "      <td>14</td>\n",
       "      <td>55</td>\n",
       "      <td>55</td>\n",
       "      <td>4.665759e-30</td>\n",
       "      <td>1.547342e-33</td>\n",
       "      <td>5.358098e-29</td>\n",
       "      <td>1.899496e-32</td>\n",
       "    </tr>\n",
       "    <tr>\n",
       "      <th>EFO_0008591</th>\n",
       "      <td>15</td>\n",
       "      <td>15</td>\n",
       "      <td>74</td>\n",
       "      <td>74</td>\n",
       "      <td>49</td>\n",
       "      <td>49</td>\n",
       "      <td>6.608140e-28</td>\n",
       "      <td>6.608140e-28</td>\n",
       "      <td>7.351556e-27</td>\n",
       "      <td>6.721422e-27</td>\n",
       "    </tr>\n",
       "    <tr>\n",
       "      <th>EFO_0010226</th>\n",
       "      <td>16</td>\n",
       "      <td>16</td>\n",
       "      <td>45</td>\n",
       "      <td>45</td>\n",
       "      <td>119</td>\n",
       "      <td>119</td>\n",
       "      <td>4.290865e-27</td>\n",
       "      <td>4.290865e-27</td>\n",
       "      <td>4.628933e-26</td>\n",
       "      <td>4.243189e-26</td>\n",
       "    </tr>\n",
       "    <tr>\n",
       "      <th>EFO_0004587</th>\n",
       "      <td>32</td>\n",
       "      <td>34</td>\n",
       "      <td>90</td>\n",
       "      <td>90</td>\n",
       "      <td>643</td>\n",
       "      <td>643</td>\n",
       "      <td>1.843255e-26</td>\n",
       "      <td>4.905176e-29</td>\n",
       "      <td>1.896639e-25</td>\n",
       "      <td>5.291645e-28</td>\n",
       "    </tr>\n",
       "    <tr>\n",
       "      <th>EFO_0000612</th>\n",
       "      <td>16</td>\n",
       "      <td>17</td>\n",
       "      <td>39</td>\n",
       "      <td>39</td>\n",
       "      <td>153</td>\n",
       "      <td>153</td>\n",
       "      <td>1.864674e-26</td>\n",
       "      <td>1.562002e-28</td>\n",
       "      <td>1.896639e-25</td>\n",
       "      <td>1.635508e-27</td>\n",
       "    </tr>\n",
       "    <tr>\n",
       "      <th>EFO_0004611</th>\n",
       "      <td>24</td>\n",
       "      <td>24</td>\n",
       "      <td>37</td>\n",
       "      <td>37</td>\n",
       "      <td>855</td>\n",
       "      <td>855</td>\n",
       "      <td>4.801048e-26</td>\n",
       "      <td>4.801048e-26</td>\n",
       "      <td>4.747703e-25</td>\n",
       "      <td>4.619387e-25</td>\n",
       "    </tr>\n",
       "    <tr>\n",
       "      <th>EFO_0007989</th>\n",
       "      <td>17</td>\n",
       "      <td>17</td>\n",
       "      <td>30</td>\n",
       "      <td>30</td>\n",
       "      <td>313</td>\n",
       "      <td>313</td>\n",
       "      <td>1.418385e-25</td>\n",
       "      <td>1.418385e-25</td>\n",
       "      <td>1.364717e-24</td>\n",
       "      <td>1.328803e-24</td>\n",
       "    </tr>\n",
       "    <tr>\n",
       "      <th>EFO_0007985</th>\n",
       "      <td>23</td>\n",
       "      <td>23</td>\n",
       "      <td>57</td>\n",
       "      <td>57</td>\n",
       "      <td>452</td>\n",
       "      <td>452</td>\n",
       "      <td>6.503055e-25</td>\n",
       "      <td>6.503055e-25</td>\n",
       "      <td>6.092336e-24</td>\n",
       "      <td>5.787719e-24</td>\n",
       "    </tr>\n",
       "    <tr>\n",
       "      <th>EFO_0005091</th>\n",
       "      <td>26</td>\n",
       "      <td>26</td>\n",
       "      <td>69</td>\n",
       "      <td>69</td>\n",
       "      <td>546</td>\n",
       "      <td>546</td>\n",
       "      <td>1.218511e-24</td>\n",
       "      <td>1.218511e-24</td>\n",
       "      <td>1.112282e-23</td>\n",
       "      <td>1.058024e-23</td>\n",
       "    </tr>\n",
       "    <tr>\n",
       "      <th>EFO_0004527</th>\n",
       "      <td>34</td>\n",
       "      <td>35</td>\n",
       "      <td>106</td>\n",
       "      <td>106</td>\n",
       "      <td>750</td>\n",
       "      <td>750</td>\n",
       "      <td>5.969907e-24</td>\n",
       "      <td>4.374646e-25</td>\n",
       "      <td>5.313218e-23</td>\n",
       "      <td>3.993266e-24</td>\n",
       "    </tr>\n",
       "    <tr>\n",
       "      <th>EFO_0010815</th>\n",
       "      <td>9</td>\n",
       "      <td>9</td>\n",
       "      <td>23</td>\n",
       "      <td>23</td>\n",
       "      <td>41</td>\n",
       "      <td>41</td>\n",
       "      <td>4.472691e-22</td>\n",
       "      <td>4.472691e-22</td>\n",
       "      <td>3.883605e-21</td>\n",
       "      <td>3.791138e-21</td>\n",
       "    </tr>\n",
       "    <tr>\n",
       "      <th>EFO_0005192</th>\n",
       "      <td>24</td>\n",
       "      <td>24</td>\n",
       "      <td>58</td>\n",
       "      <td>58</td>\n",
       "      <td>667</td>\n",
       "      <td>667</td>\n",
       "      <td>4.765277e-22</td>\n",
       "      <td>4.765277e-22</td>\n",
       "      <td>4.039139e-21</td>\n",
       "      <td>3.945206e-21</td>\n",
       "    </tr>\n",
       "    <tr>\n",
       "      <th>EFO_0005763</th>\n",
       "      <td>26</td>\n",
       "      <td>25</td>\n",
       "      <td>77</td>\n",
       "      <td>77</td>\n",
       "      <td>641</td>\n",
       "      <td>641</td>\n",
       "      <td>2.582960e-21</td>\n",
       "      <td>4.308669e-20</td>\n",
       "      <td>2.138451e-20</td>\n",
       "      <td>3.334535e-19</td>\n",
       "    </tr>\n",
       "    <tr>\n",
       "      <th>EFO_0004532</th>\n",
       "      <td>17</td>\n",
       "      <td>17</td>\n",
       "      <td>38</td>\n",
       "      <td>38</td>\n",
       "      <td>437</td>\n",
       "      <td>437</td>\n",
       "      <td>2.046971e-20</td>\n",
       "      <td>2.046971e-20</td>\n",
       "      <td>1.656186e-19</td>\n",
       "      <td>1.656186e-19</td>\n",
       "    </tr>\n",
       "    <tr>\n",
       "      <th>EFO_0007822</th>\n",
       "      <td>12</td>\n",
       "      <td>12</td>\n",
       "      <td>20</td>\n",
       "      <td>20</td>\n",
       "      <td>278</td>\n",
       "      <td>278</td>\n",
       "      <td>3.880799e-20</td>\n",
       "      <td>3.880799e-20</td>\n",
       "      <td>3.070143e-19</td>\n",
       "      <td>3.070143e-19</td>\n",
       "    </tr>\n",
       "    <tr>\n",
       "      <th>EFO_0004305</th>\n",
       "      <td>30</td>\n",
       "      <td>30</td>\n",
       "      <td>99</td>\n",
       "      <td>99</td>\n",
       "      <td>799</td>\n",
       "      <td>799</td>\n",
       "      <td>8.709067e-20</td>\n",
       "      <td>8.709067e-20</td>\n",
       "      <td>6.740061e-19</td>\n",
       "      <td>6.459225e-19</td>\n",
       "    </tr>\n",
       "    <tr>\n",
       "      <th>EFO_0005110</th>\n",
       "      <td>10</td>\n",
       "      <td>10</td>\n",
       "      <td>17</td>\n",
       "      <td>17</td>\n",
       "      <td>176</td>\n",
       "      <td>176</td>\n",
       "      <td>2.112484e-19</td>\n",
       "      <td>2.112484e-19</td>\n",
       "      <td>1.600094e-18</td>\n",
       "      <td>1.504088e-18</td>\n",
       "    </tr>\n",
       "    <tr>\n",
       "      <th>EFO_0009270</th>\n",
       "      <td>19</td>\n",
       "      <td>19</td>\n",
       "      <td>34</td>\n",
       "      <td>34</td>\n",
       "      <td>918</td>\n",
       "      <td>918</td>\n",
       "      <td>1.065586e-18</td>\n",
       "      <td>1.065586e-18</td>\n",
       "      <td>7.903096e-18</td>\n",
       "      <td>7.295166e-18</td>\n",
       "    </tr>\n",
       "    <tr>\n",
       "      <th>EFO_0010114</th>\n",
       "      <td>7</td>\n",
       "      <td>7</td>\n",
       "      <td>17</td>\n",
       "      <td>17</td>\n",
       "      <td>38</td>\n",
       "      <td>38</td>\n",
       "      <td>1.852660e-18</td>\n",
       "      <td>1.852660e-18</td>\n",
       "      <td>1.346014e-17</td>\n",
       "      <td>1.244428e-17</td>\n",
       "    </tr>\n",
       "    <tr>\n",
       "      <th>EFO_0004838</th>\n",
       "      <td>11</td>\n",
       "      <td>12</td>\n",
       "      <td>21</td>\n",
       "      <td>21</td>\n",
       "      <td>269</td>\n",
       "      <td>269</td>\n",
       "      <td>7.237263e-18</td>\n",
       "      <td>6.518279e-20</td>\n",
       "      <td>5.152932e-17</td>\n",
       "      <td>4.937250e-19</td>\n",
       "    </tr>\n",
       "  </tbody>\n",
       "</table>\n",
       "</div>"
      ],
      "text/plain": [
       "               ensembl  symbol  Rare_ensembl  Rare_symbol  Common_ensembl  \\\n",
       "EFO_0009767          3       3             3            3              62   \n",
       "EFO_0005208          3       3             3            3             825   \n",
       "EFO_0004533        153     159           368          368             512   \n",
       "EFO_0004696        127     131           317          317             676   \n",
       "EFO_0004541         95     100           358          358             310   \n",
       "EFO_0004531         88      90           244          244             408   \n",
       "EFO_0004458         85      87           176          176             548   \n",
       "EFO_0004570         59      60           146          146             194   \n",
       "EFO_0004617         66      68           275          275             166   \n",
       "EFO_0020946         46      47           238          238             104   \n",
       "EFO_0004584         64      64           168          168             508   \n",
       "EFO_0004526         72      73           165          165             914   \n",
       "EFO_0004627         59      60           353          353             228   \n",
       "EFO_0004614         35      35            54           54             378   \n",
       "EFO_0004615         32      32            51           51             319   \n",
       "EFO_0004309         54      54           112          112             803   \n",
       "EFO_0007986         38      38            69           69             483   \n",
       "MONDO_0005090      104     106           482          482             877   \n",
       "EFO_0007984         36      36            85           85             354   \n",
       "EFO_0004530         38      38            55           55             866   \n",
       "EFO_0004536         38      39           190          190             191   \n",
       "EFO_0008317         32      32           189          189             120   \n",
       "EFO_0004682         23      23            36           36             230   \n",
       "EFO_0004339        191     194           320          320            5491   \n",
       "EFO_0008595         18      18            93           93              42   \n",
       "EFO_0010701         33      33            98           98             394   \n",
       "EFO_0005680         18      19            62           62              74   \n",
       "EFO_0008594         18      18            87           87              55   \n",
       "EFO_0004574         29      29            46           46             755   \n",
       "EFO_0010733         15      16            50           50              45   \n",
       "EFO_0006925         11      12            14           14              55   \n",
       "EFO_0008591         15      15            74           74              49   \n",
       "EFO_0010226         16      16            45           45             119   \n",
       "EFO_0004587         32      34            90           90             643   \n",
       "EFO_0000612         16      17            39           39             153   \n",
       "EFO_0004611         24      24            37           37             855   \n",
       "EFO_0007989         17      17            30           30             313   \n",
       "EFO_0007985         23      23            57           57             452   \n",
       "EFO_0005091         26      26            69           69             546   \n",
       "EFO_0004527         34      35           106          106             750   \n",
       "EFO_0010815          9       9            23           23              41   \n",
       "EFO_0005192         24      24            58           58             667   \n",
       "EFO_0005763         26      25            77           77             641   \n",
       "EFO_0004532         17      17            38           38             437   \n",
       "EFO_0007822         12      12            20           20             278   \n",
       "EFO_0004305         30      30            99           99             799   \n",
       "EFO_0005110         10      10            17           17             176   \n",
       "EFO_0009270         19      19            34           34             918   \n",
       "EFO_0010114          7       7            17           17              38   \n",
       "EFO_0004838         11      12            21           21             269   \n",
       "\n",
       "               Common_symbol  hypergeom_ensembl  hypergeom_symbol  \\\n",
       "EFO_0009767               62       0.000000e+00      0.000000e+00   \n",
       "EFO_0005208              825       0.000000e+00      0.000000e+00   \n",
       "EFO_0004533              512      3.390889e-151     7.804564e-161   \n",
       "EFO_0004696              676      3.358961e-105     9.495591e-111   \n",
       "EFO_0004541              310       1.125267e-93     2.168235e-101   \n",
       "EFO_0004531              408       2.023128e-88      1.581151e-91   \n",
       "EFO_0004458              548       3.142578e-87      1.865351e-90   \n",
       "EFO_0004570              194       2.080276e-84      1.992137e-86   \n",
       "EFO_0004617              166       3.008318e-82      6.946088e-86   \n",
       "EFO_0020946              104       1.651525e-63      1.899932e-65   \n",
       "EFO_0004584              508       9.976796e-60      9.976796e-60   \n",
       "EFO_0004526              914       1.717015e-53      9.437353e-55   \n",
       "EFO_0004627              228       2.046481e-53      8.468200e-55   \n",
       "EFO_0004614              378       1.184970e-49      1.184970e-49   \n",
       "EFO_0004615              319       1.968559e-47      1.968559e-47   \n",
       "EFO_0004309              803       1.166972e-46      1.166972e-46   \n",
       "EFO_0007986              483       3.015740e-45      3.015740e-45   \n",
       "MONDO_0005090            877       3.975291e-44      8.376172e-46   \n",
       "EFO_0007984              354       1.717236e-42      1.717236e-42   \n",
       "EFO_0004530              866       4.454467e-41      4.454467e-41   \n",
       "EFO_0004536              191       4.734166e-41      1.380249e-42   \n",
       "EFO_0008317              120       1.534591e-39      1.534591e-39   \n",
       "EFO_0004682              230       9.300530e-39      9.300530e-39   \n",
       "EFO_0004339             5491       1.219526e-34      1.688738e-36   \n",
       "EFO_0008595               42       2.771470e-34      2.771470e-34   \n",
       "EFO_0010701              394       1.979066e-33      1.979066e-33   \n",
       "EFO_0005680               74       1.917472e-32      1.139729e-34   \n",
       "EFO_0008594               55       4.082191e-32      4.082191e-32   \n",
       "EFO_0004574              755       6.473811e-32      6.473811e-32   \n",
       "EFO_0010733               45       9.761012e-32      2.840823e-34   \n",
       "EFO_0006925               55       4.665759e-30      1.547342e-33   \n",
       "EFO_0008591               49       6.608140e-28      6.608140e-28   \n",
       "EFO_0010226              119       4.290865e-27      4.290865e-27   \n",
       "EFO_0004587              643       1.843255e-26      4.905176e-29   \n",
       "EFO_0000612              153       1.864674e-26      1.562002e-28   \n",
       "EFO_0004611              855       4.801048e-26      4.801048e-26   \n",
       "EFO_0007989              313       1.418385e-25      1.418385e-25   \n",
       "EFO_0007985              452       6.503055e-25      6.503055e-25   \n",
       "EFO_0005091              546       1.218511e-24      1.218511e-24   \n",
       "EFO_0004527              750       5.969907e-24      4.374646e-25   \n",
       "EFO_0010815               41       4.472691e-22      4.472691e-22   \n",
       "EFO_0005192              667       4.765277e-22      4.765277e-22   \n",
       "EFO_0005763              641       2.582960e-21      4.308669e-20   \n",
       "EFO_0004532              437       2.046971e-20      2.046971e-20   \n",
       "EFO_0007822              278       3.880799e-20      3.880799e-20   \n",
       "EFO_0004305              799       8.709067e-20      8.709067e-20   \n",
       "EFO_0005110              176       2.112484e-19      2.112484e-19   \n",
       "EFO_0009270              918       1.065586e-18      1.065586e-18   \n",
       "EFO_0010114               38       1.852660e-18      1.852660e-18   \n",
       "EFO_0004838              269       7.237263e-18      6.518279e-20   \n",
       "\n",
       "                  BH_ensembl      BH_symbol  \n",
       "EFO_0009767     0.000000e+00   0.000000e+00  \n",
       "EFO_0005208     0.000000e+00   0.000000e+00  \n",
       "EFO_0004533    4.023855e-149  6.946062e-159  \n",
       "EFO_0004696    2.989475e-103  6.760861e-109  \n",
       "EFO_0004541     8.011904e-92   1.286486e-99  \n",
       "EFO_0004531     1.200390e-86   8.041285e-90  \n",
       "EFO_0004458     1.598226e-85   8.300812e-89  \n",
       "EFO_0004570     9.257229e-83   7.880007e-85  \n",
       "EFO_0004617     1.189957e-80   2.472807e-84  \n",
       "EFO_0020946     5.879430e-62   6.148872e-64  \n",
       "EFO_0004584     3.228854e-58   2.959783e-58  \n",
       "EFO_0004526     5.093812e-52   2.399784e-53  \n",
       "EFO_0004627     5.604209e-52   2.318984e-53  \n",
       "EFO_0004614     3.013209e-48   2.812329e-48  \n",
       "EFO_0004615     4.672046e-46   4.380043e-46  \n",
       "EFO_0004309     2.596514e-45   2.443778e-45  \n",
       "EFO_0007986     6.315315e-44   5.650545e-44  \n",
       "MONDO_0005090   7.862243e-43   1.656621e-44  \n",
       "EFO_0007984     3.217559e-41   2.911124e-41  \n",
       "EFO_0004530     7.928951e-40   7.208138e-40  \n",
       "EFO_0004536     8.025538e-40   2.456843e-41  \n",
       "EFO_0008317     2.483246e-38   2.375279e-38  \n",
       "EFO_0004682     1.439560e-37   1.379579e-37  \n",
       "EFO_0004339     1.808964e-33   2.404762e-35  \n",
       "EFO_0008595     3.946573e-33   3.611904e-33  \n",
       "EFO_0010701     2.709798e-32   2.348492e-32  \n",
       "EFO_0005680     2.528223e-31   1.560552e-33  \n",
       "EFO_0008594     5.190214e-31   4.687936e-31  \n",
       "EFO_0004574     7.947161e-31   7.202115e-31  \n",
       "EFO_0010733     1.158307e-30   3.611904e-33  \n",
       "EFO_0006925     5.358098e-29   1.899496e-32  \n",
       "EFO_0008591     7.351556e-27   6.721422e-27  \n",
       "EFO_0010226     4.628933e-26   4.243189e-26  \n",
       "EFO_0004587     1.896639e-25   5.291645e-28  \n",
       "EFO_0000612     1.896639e-25   1.635508e-27  \n",
       "EFO_0004611     4.747703e-25   4.619387e-25  \n",
       "EFO_0007989     1.364717e-24   1.328803e-24  \n",
       "EFO_0007985     6.092336e-24   5.787719e-24  \n",
       "EFO_0005091     1.112282e-23   1.058024e-23  \n",
       "EFO_0004527     5.313218e-23   3.993266e-24  \n",
       "EFO_0010815     3.883605e-21   3.791138e-21  \n",
       "EFO_0005192     4.039139e-21   3.945206e-21  \n",
       "EFO_0005763     2.138451e-20   3.334535e-19  \n",
       "EFO_0004532     1.656186e-19   1.656186e-19  \n",
       "EFO_0007822     3.070143e-19   3.070143e-19  \n",
       "EFO_0004305     6.740061e-19   6.459225e-19  \n",
       "EFO_0005110     1.600094e-18   1.504088e-18  \n",
       "EFO_0009270     7.903096e-18   7.295166e-18  \n",
       "EFO_0010114     1.346014e-17   1.244428e-17  \n",
       "EFO_0004838     5.152932e-17   4.937250e-19  "
      ]
     },
     "execution_count": 78,
     "metadata": {},
     "output_type": "execute_result"
    }
   ],
   "source": [
    "gene_comparison.sort_values('BH_ensembl').head(50)"
   ]
  }
 ],
 "metadata": {
  "kernelspec": {
   "display_name": "Python (CARVA)",
   "language": "python",
   "name": "carva"
  },
  "language_info": {
   "codemirror_mode": {
    "name": "ipython",
    "version": 3
   },
   "file_extension": ".py",
   "mimetype": "text/x-python",
   "name": "python",
   "nbconvert_exporter": "python",
   "pygments_lexer": "ipython3",
   "version": "3.10.0"
  },
  "toc": {
   "base_numbering": 1,
   "nav_menu": {},
   "number_sections": true,
   "sideBar": true,
   "skip_h1_title": false,
   "title_cell": "Table of Contents",
   "title_sidebar": "Contents",
   "toc_cell": false,
   "toc_position": {},
   "toc_section_display": true,
   "toc_window_display": true
  },
  "varInspector": {
   "cols": {
    "lenName": 16,
    "lenType": 16,
    "lenVar": 40
   },
   "kernels_config": {
    "python": {
     "delete_cmd_postfix": "",
     "delete_cmd_prefix": "del ",
     "library": "var_list.py",
     "varRefreshCmd": "print(var_dic_list())"
    },
    "r": {
     "delete_cmd_postfix": ") ",
     "delete_cmd_prefix": "rm(",
     "library": "var_list.r",
     "varRefreshCmd": "cat(var_dic_list()) "
    }
   },
   "types_to_exclude": [
    "module",
    "function",
    "builtin_function_or_method",
    "instance",
    "_Feature"
   ],
   "window_display": false
  }
 },
 "nbformat": 4,
 "nbformat_minor": 4
}
