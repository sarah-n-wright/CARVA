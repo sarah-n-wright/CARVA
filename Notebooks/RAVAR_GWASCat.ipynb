{
 "cells": [
  {
   "cell_type": "code",
   "execution_count": 1,
   "metadata": {
    "ExecuteTime": {
     "end_time": "2024-10-14T20:47:30.761964Z",
     "start_time": "2024-10-14T20:47:11.386547Z"
    }
   },
   "outputs": [],
   "source": [
    "import pandas as pd\n",
    "import numpy as np\n",
    "import matplotlib.pyplot as plt\n",
    "import seaborn as sns\n",
    "import os\n",
    "from collections import defaultdict\n",
    "from tqdm import tqdm\n",
    "import networkx as nx\n",
    "from matplotlib_venn import venn2\n",
    "from neteval import gene_mapper as gm\n",
    "from neteval import query_ensembl as qe\n",
    "from neteval import query_hgnc as qh\n",
    "import obonet as obo"
   ]
  },
  {
   "cell_type": "code",
   "execution_count": 2,
   "metadata": {
    "ExecuteTime": {
     "end_time": "2024-10-14T20:47:30.765312Z",
     "start_time": "2024-10-14T20:47:30.763552Z"
    }
   },
   "outputs": [],
   "source": [
    "datadir='/cellar/users/snwright/Data/RareCommon/'\n",
    "outdir='/cellar/users/snwright/Data/Transfer/RVC/'\n",
    "figdir='/cellar/users/snwright/Data/Transfer/RVC/figures/RAVAR_GWASCat/'"
   ]
  },
  {
   "cell_type": "code",
   "execution_count": 84,
   "metadata": {
    "ExecuteTime": {
     "end_time": "2024-10-14T20:55:57.144959Z",
     "start_time": "2024-10-14T20:55:57.139871Z"
    }
   },
   "outputs": [],
   "source": [
    "plt.rcParams['svg.fonttype'] = 'none'\n",
    "plt.rcParams.update({'font.size': 7})\n",
    "plt.rcParams['axes.linewidth'] = 0.5\n",
    "plt.rcParams['hatch.linewidth'] = 0.5\n",
    "plt.rcParams['xtick.major.width'] = 0.4\n",
    "plt.rcParams['ytick.major.width'] = 0.4\n",
    "plt.rcParams['xtick.minor.width'] = 0.3\n",
    "plt.rcParams['ytick.minor.width'] = 0.3\n",
    "plt.rcParams['legend.frameon'] = False\n",
    "plt.rcParams['xtick.major.size'] = 3\n",
    "plt.rcParams['ytick.major.size'] = 3\n",
    "plt.rcParams['xtick.minor.size'] = 2\n",
    "plt.rcParams['ytick.minor.size'] = 2\n",
    "plt.rcParams['xtick.major.pad'] = 1\n",
    "plt.rcParams['ytick.major.pad'] = 1\n",
    "plt.rcParams['axes.labelpad'] = 1\n",
    "plt.rcParams['patch.linewidth'] = 0.25"
   ]
  },
  {
   "cell_type": "markdown",
   "metadata": {},
   "source": [
    "## Load EFO Ontology"
   ]
  },
  {
   "cell_type": "code",
   "execution_count": 3,
   "metadata": {
    "ExecuteTime": {
     "end_time": "2024-10-14T20:48:02.368981Z",
     "start_time": "2024-10-14T20:47:30.766333Z"
    }
   },
   "outputs": [],
   "source": [
    "efo = obo.read_obo('http://www.ebi.ac.uk/efo/efo.obo')\n",
    "efo_root='EFO:0000001'"
   ]
  },
  {
   "cell_type": "code",
   "execution_count": 4,
   "metadata": {
    "ExecuteTime": {
     "end_time": "2024-10-14T20:48:02.373559Z",
     "start_time": "2024-10-14T20:48:02.370089Z"
    }
   },
   "outputs": [],
   "source": [
    "n = list(efo.nodes())"
   ]
  },
  {
   "cell_type": "code",
   "execution_count": null,
   "metadata": {},
   "outputs": [],
   "source": []
  },
  {
   "cell_type": "code",
   "execution_count": 5,
   "metadata": {
    "ExecuteTime": {
     "end_time": "2024-10-14T20:48:02.435440Z",
     "start_time": "2024-10-14T20:48:02.375450Z"
    }
   },
   "outputs": [
    {
     "name": "stderr",
     "output_type": "stream",
     "text": [
      "<class 'networkx.utils.decorators.argmap'> compilation 4:3: FutureWarning: \n",
      "\n",
      "single_target_shortest_path_length will return a dict instead of\n",
      "an iterator in version 3.5\n"
     ]
    }
   ],
   "source": [
    "depths = nx.single_target_shortest_path_length(efo, efo_root)\n",
    "depth_dict = {source:distance for source, distance in depths}"
   ]
  },
  {
   "cell_type": "code",
   "execution_count": 6,
   "metadata": {
    "ExecuteTime": {
     "end_time": "2024-10-14T20:48:02.443750Z",
     "start_time": "2024-10-14T20:48:02.436357Z"
    }
   },
   "outputs": [],
   "source": [
    "def return_more_specific_code(codeA, codeB, depth_dict, study_data):\n",
    "    if codeA == codeB:\n",
    "        return codeA\n",
    "    try:\n",
    "        codeA, codeB = [code.replace('_', ':') for code in [codeA, codeB]]\n",
    "    except:\n",
    "        if type(codeA) == float:\n",
    "            return codeB\n",
    "        elif type(codeB) == float:\n",
    "            return codeA\n",
    "        else:\n",
    "            print('TYPE_ERROR:', codeA, codeB)\n",
    "    present = [code in depth_dict for code in [codeA, codeB]]\n",
    "    if sum(present) == 2:\n",
    "\n",
    "        depthA = depth_dict[codeA]\n",
    "        depthB = depth_dict[codeB]\n",
    "        if depthA > depthB:\n",
    "            return codeA\n",
    "        elif depthB > depthA:\n",
    "            return codeB\n",
    "        else:\n",
    "            return check_study_counts(codeA, codeB, study_data)\n",
    "    elif sum(present) == 1:\n",
    "        return [codeA, codeB][present.index(True)]\n",
    "    else:\n",
    "        print(f'Neither {codeA} or {codeB} present in EFO. Returning {codeB}')\n",
    "        return codeB\n",
    "    \n",
    "def check_study_counts(codeA, codeB, data):\n",
    "    codeA, codeB = [code.replace(':', '_') for code in [codeA, codeB]]\n",
    "    codeA_count = data[data.STUDY_EFO==codeA].shape[0] + data[data.TRAIT_EFO==codeA].shape[0]\n",
    "    codeB_count = data[data.STUDY_EFO==codeB].shape[0] + data[data.TRAIT_EFO==codeB].shape[0]\n",
    "    if codeA_count < codeB_count:\n",
    "        return codeA\n",
    "    if codeB_count < codeA_count:\n",
    "        return codeB\n",
    "    elif codeB_count == codeA_count:\n",
    "        print(f'{codeA} and {codeB} have equal study counts. Returning {codeB}')\n",
    "        return manually_determine_correct_code(codeA, codeB, data)\n",
    "\n",
    "def manually_determine_correct_code(codeA, codeB, data):\n",
    "    sub_data = data[(data.STUDY_EFO==codeA) & (data.TRAIT_EFO==codeB)]\n",
    "    for col in ['DISEASE/TRAIT', 'MAPPED_TRAIT', 'STUDY_EFO', 'Disease trait', 'EFO term', 'TRAIT_EFO']:\n",
    "        print(f'{col}:', sub_data[col].values)\n",
    "    return input()\n",
    "    "
   ]
  },
  {
   "cell_type": "markdown",
   "metadata": {},
   "source": [
    "## Load raw data"
   ]
  },
  {
   "cell_type": "markdown",
   "metadata": {},
   "source": [
    "### RAVAR"
   ]
  },
  {
   "cell_type": "code",
   "execution_count": 7,
   "metadata": {
    "ExecuteTime": {
     "end_time": "2024-10-14T20:48:03.279036Z",
     "start_time": "2024-10-14T20:48:02.444821Z"
    }
   },
   "outputs": [
    {
     "name": "stderr",
     "output_type": "stream",
     "text": [
      "/tmp/ipykernel_1013149/1718676493.py:1: DtypeWarning: Columns (15) have mixed types. Specify dtype option on import or set low_memory=False.\n",
      "  ravar_genes = pd.read_csv(os.path.join(datadir,'RAVAR' ,'gene_fulltable_06112024.txt'),sep='\\t',\n"
     ]
    }
   ],
   "source": [
    "ravar_genes = pd.read_csv(os.path.join(datadir,'RAVAR' ,'gene_fulltable_06112024.txt'),sep='\\t', \n",
    "                            usecols=['Gene Symbol', 'Ensembl ID', 'Gene Type', 'CHR', 'Location', 'Reported Trait', 'Trait Label', 'Trait Ontology id', 'EFO synonym', 'P-value'])\n",
    "#replace '−' with '-'\n",
    "ravar_genes['P-value'] = ravar_genes['P-value'].apply(lambda x: float(x.replace('−','-')) if type(x) == str else float(x))\n",
    "ravar_genes['TRAIT_CODE'] = ravar_genes['Trait Ontology id'].apply(lambda x: x.replace(\":\", \"_\") if type(x) == str else x)"
   ]
  },
  {
   "cell_type": "code",
   "execution_count": 8,
   "metadata": {
    "ExecuteTime": {
     "end_time": "2024-10-14T20:48:03.297326Z",
     "start_time": "2024-10-14T20:48:03.280165Z"
    }
   },
   "outputs": [
    {
     "name": "stdout",
     "output_type": "stream",
     "text": [
      "Reported traits 3049\n",
      "Total traits with Ontology 1468\n",
      "Total genes 12850\n",
      "Min p-value 0.0\n",
      "Max p-value 9.94e-05\n"
     ]
    }
   ],
   "source": [
    "print('Reported traits', len(ravar_genes['Reported Trait'].unique()))\n",
    "print('Total traits with Ontology', len(ravar_genes['Trait Ontology id'].unique()))\n",
    "print('Total genes', len(ravar_genes['Gene Symbol'].unique()))\n",
    "print('Min p-value', ravar_genes['P-value'].min())\n",
    "print('Max p-value', ravar_genes['P-value'].max())"
   ]
  },
  {
   "cell_type": "markdown",
   "metadata": {},
   "source": [
    "RAVAR seems to have better EFO matching. No further work needed"
   ]
  },
  {
   "cell_type": "markdown",
   "metadata": {},
   "source": [
    "### GWAS Catalog"
   ]
  },
  {
   "cell_type": "code",
   "execution_count": 9,
   "metadata": {
    "ExecuteTime": {
     "end_time": "2024-10-14T20:48:03.307130Z",
     "start_time": "2024-10-14T20:48:03.298458Z"
    }
   },
   "outputs": [],
   "source": [
    "def clean_gwas_catalog_data(datafile, outfile, pval_th=5e-8, include_intergenic=False):\n",
    "    \"\"\"Clean the GWAS Catalog data and write to a new file.\n",
    "\n",
    "    Args:\n",
    "        datafile (str): file path for GWAS Catalog data\n",
    "        outfile (str): output file for cleaned data\n",
    "        pval_th (float): p-value threshold for filtering\n",
    "        include_intergenic (bool): whether to include intergenic associations\n",
    "\n",
    "    Returns:\n",
    "        None\n",
    "    \"\"\"\n",
    "    cols= ['DATE', 'PUBMEDID', 'DISEASE/TRAIT', 'MAPPED_GENE', 'SNP_GENE_IDS', 'P-VALUE', 'MAPPED_TRAIT', 'MAPPED_TRAIT_URI', 'INTERGENIC']    \n",
    "    if include_intergenic:\n",
    "        cols = cols + ['UPSTREAM_GENE_ID', 'DOWNSTREAM_GENE_ID', 'UPSTREAM_GENE_DISTANCE', 'DOWNSTREAM_GENE_DISTANCE']\n",
    "    data = pd.read_csv(datafile, sep=\"\\t\", usecols=cols)\n",
    "    # filter on pval\n",
    "    data = data[data[\"P-VALUE\"] <= pval_th]\n",
    "    # filter on gene and trait present\n",
    "    data = data.dropna(subset=['SNP_GENE_IDS', \"MAPPED_TRAIT_URI\"])\n",
    "    # filter out intergenic\n",
    "    if not include_intergenic:\n",
    "        data = data[data[\"INTERGENIC\"] == 0]\n",
    "    # remove associations with multiple genes\n",
    "    data = data[~data[\"SNP_GENE_IDS\"].str.contains(\",\")]\n",
    "    # remove associations with multiple traits\n",
    "    data = data[~data[\"MAPPED_TRAIT_URI\"].str.contains(\",\")]\n",
    "    # create trait code\n",
    "    data['TRAIT_CODE'] = data['MAPPED_TRAIT_URI'].apply(lambda x: x.split('/')[-1])\n",
    "    # write the cleaned file\n",
    "    data.to_csv(outfile, sep=\"\\t\", index=False)"
   ]
  },
  {
   "cell_type": "code",
   "execution_count": 10,
   "metadata": {
    "ExecuteTime": {
     "end_time": "2024-10-14T20:48:03.310957Z",
     "start_time": "2024-10-14T20:48:03.308104Z"
    }
   },
   "outputs": [],
   "source": [
    "#clean_gwas_catalog_data(os.path.join(datadir, 'GWASCatalog', 'gwas_cat_download_Jan22.txt'), os.path.join(datadir, 'GWASCatalog', 'gwas_cat_download_Jan22.txt.cleanedJun17'), pval_th=1e-4)"
   ]
  },
  {
   "cell_type": "code",
   "execution_count": 11,
   "metadata": {
    "ExecuteTime": {
     "end_time": "2024-10-14T20:48:04.626317Z",
     "start_time": "2024-10-14T20:48:03.311771Z"
    }
   },
   "outputs": [],
   "source": [
    "gwas_genes = pd.read_csv(os.path.join(datadir, 'GWASCatalog', 'gwas_cat_download_Jan22.txt.cleanedJun17'), sep=\"\\t\")"
   ]
  },
  {
   "cell_type": "code",
   "execution_count": 12,
   "metadata": {
    "ExecuteTime": {
     "end_time": "2024-10-14T20:48:04.676523Z",
     "start_time": "2024-10-14T20:48:04.627422Z"
    }
   },
   "outputs": [
    {
     "name": "stdout",
     "output_type": "stream",
     "text": [
      "Total reported traits 18955\n",
      "Total traits with ontology 6863\n",
      "Total genes 16052\n",
      "Min p-value 0.0\n",
      "Max p-value 1e-05\n"
     ]
    }
   ],
   "source": [
    "print('Total reported traits', len(gwas_genes['DISEASE/TRAIT'].unique()))\n",
    "print('Total traits with ontology', len(gwas_genes['TRAIT_CODE'].unique()))\n",
    "print('Total genes', len(gwas_genes['MAPPED_GENE'].unique()))\n",
    "print('Min p-value', gwas_genes['P-VALUE'].min())\n",
    "print('Max p-value', gwas_genes['P-VALUE'].max())"
   ]
  },
  {
   "cell_type": "markdown",
   "metadata": {},
   "source": [
    "### GWAS Catalog Study info"
   ]
  },
  {
   "cell_type": "code",
   "execution_count": 13,
   "metadata": {
    "ExecuteTime": {
     "end_time": "2024-10-14T20:48:04.984276Z",
     "start_time": "2024-10-14T20:48:04.677528Z"
    }
   },
   "outputs": [],
   "source": [
    "if False:\n",
    "    gwas_study = pd.read_csv(os.path.join(datadir, 'GWASCatalog', 'study_info.v1.0.3.1_Jun24.txt'), sep=\"\\t\", \n",
    "                            usecols=['DISEASE/TRAIT','ASSOCIATION COUNT','MAPPED_TRAIT', 'MAPPED_TRAIT_URI','STUDY ACCESSION',\n",
    "                            'BACKGROUND TRAIT', 'MAPPED BACKGROUND TRAIT', 'MAPPED BACKGROUND TRAIT URI','COHORT', 'FULL SUMMARY STATISTICS', 'SUMMARY STATS LOCATION'])\n",
    "    trait_mappings = pd.read_csv(os.path.join(datadir, 'GWASCatalog', 'trait_mappings.txt'), sep=\"\\t\", usecols=['Disease trait', 'EFO term', 'EFO URI'])\n",
    "    trait_mappings['TRAIT_EFO'] = trait_mappings['EFO URI'].apply(lambda x: x.split('/')[-1])\n",
    "    trait_mappings.drop(columns=['EFO URI'], inplace=True)\n",
    "    #gwas_study = gwas_study.loc[(gwas_study['MAPPED BACKGROUND TRAIT URI'].isna()) & (gwas_study['FULL SUMMARY STATISTICS'] == 'yes')]\n",
    "    gwas_study = gwas_study.loc[~gwas_study['MAPPED_TRAIT_URI'].isna()]\n",
    "    gwas_study = gwas_study.loc[~gwas_study[\"MAPPED_TRAIT_URI\"].str.contains(\",\")]\n",
    "    gwas_study['STUDY_EFO'] = gwas_study['MAPPED_TRAIT_URI'].apply(lambda x: x.split('/')[-1])\n",
    "    gwas_study = gwas_study.merge(trait_mappings, left_on='DISEASE/TRAIT', right_on='Disease trait', how='left')\n",
    "    gwas_study['TRAIT_CODE'] = gwas_study.apply(lambda x: return_more_specific_code(x['STUDY_EFO'], x['TRAIT_EFO'], depth_dict, gwas_study), axis=1)\n",
    "    gwas_study.loc[:, ('DISEASE/TRAIT', 'ASSOCIATION COUNT', 'STUDY ACCESSION','COHORT','MAPPED BACKGROUND TRAIT URI', 'SUMMARY STATS LOCATION','TRAIT_CODE')].to_csv(os.path.join(datadir, 'GWASCatalog','trait_info_cleaned.txt'), sep='\\t', index=False)\n",
    "else:\n",
    "    gwas_study = pd.read_csv(os.path.join(datadir, 'GWASCatalog','trait_info_cleaned.txt'), sep='\\t')"
   ]
  },
  {
   "cell_type": "markdown",
   "metadata": {},
   "source": [
    "Restrict to those with at least one association"
   ]
  },
  {
   "cell_type": "code",
   "execution_count": 14,
   "metadata": {
    "ExecuteTime": {
     "end_time": "2024-10-14T20:48:05.023932Z",
     "start_time": "2024-10-14T20:48:04.987811Z"
    }
   },
   "outputs": [
    {
     "data": {
      "text/plain": [
       "(52265, 7)"
      ]
     },
     "execution_count": 14,
     "metadata": {},
     "output_type": "execute_result"
    }
   ],
   "source": [
    "gwas_study = gwas_study.loc[gwas_study['ASSOCIATION COUNT'] >= 1]\n",
    "gwas_study.shape"
   ]
  },
  {
   "cell_type": "code",
   "execution_count": 15,
   "metadata": {
    "ExecuteTime": {
     "end_time": "2024-10-14T20:48:05.031944Z",
     "start_time": "2024-10-14T20:48:05.025292Z"
    }
   },
   "outputs": [
    {
     "data": {
      "text/plain": [
       "9657"
      ]
     },
     "execution_count": 15,
     "metadata": {},
     "output_type": "execute_result"
    }
   ],
   "source": [
    "gwas_study.TRAIT_CODE.nunique()"
   ]
  },
  {
   "cell_type": "markdown",
   "metadata": {},
   "source": [
    "## Subset to genes in both before further filtering of trait codes. Need to remove those that are too broad"
   ]
  },
  {
   "cell_type": "markdown",
   "metadata": {},
   "source": [
    "#### Convert identifiers\n",
    "\n",
    "RAVAR"
   ]
  },
  {
   "cell_type": "code",
   "execution_count": 16,
   "metadata": {
    "ExecuteTime": {
     "end_time": "2024-10-14T20:48:05.345547Z",
     "start_time": "2024-10-14T20:48:05.033253Z"
    }
   },
   "outputs": [],
   "source": [
    "if False:\n",
    "    ensembl_map, missing = qe.get_latest_ensembl_id(ravar_genes['Ensembl ID'].unique())\n",
    "    ensembl_to_entrez, missing_entrez = gm.convert_node_ids(ensembl_map['to'].values, 'Ensembl', 'Entrez')\n",
    "    ensembl_map['Entrez'] = [ensembl_to_entrez[x] if x in ensembl_to_entrez else '' for x in ensembl_map['to']]\n",
    "    id_ensembl = ravar_genes.merge(ensembl_map.loc[:, ('from', 'Entrez')], left_on='Ensembl ID', right_on='from', how='inner')\n",
    "    id_ensembl = id_ensembl[id_ensembl['Entrez'] != '']\n",
    "    symbol_map, symbol_missing = qh.perform_hgnc_query(id_ensembl[(id_ensembl['Entrez'].isnull()) | (id_ensembl['Entrez']== '')]['Gene Symbol'].unique(), 'Symbol', 'Symbol')\n",
    "    symbol_to_entrez, missing = gm.convert_node_ids(list(symbol_map.values()), 'Symbol', 'Entrez')\n",
    "    symbol_map = pd.DataFrame(symbol_map.items(), columns=['from', 'to'])\n",
    "    symbol_map['Entrez'] = [symbol_to_entrez[x] if x in symbol_to_entrez else '' for x in symbol_map['to']]\n",
    "    id_symbol = ravar_genes.iloc[~id_ensembl.index].merge(symbol_map.loc[:, ('from', 'Entrez')], left_on='Gene Symbol', right_on='from', how='inner')\n",
    "    converted_ravar_genes = pd.concat([id_ensembl, id_symbol])\n",
    "    converted_ravar_genes.to_csv(os.path.join(datadir,'RAVAR' ,'gene_fulltable_06112024.txt.entrez'), sep='\\t', index=False)\n",
    "else:\n",
    "    converted_ravar_genes = pd.read_csv(os.path.join(datadir,'RAVAR' ,'gene_fulltable_06112024.txt.entrez'), sep='\\t')"
   ]
  },
  {
   "cell_type": "code",
   "execution_count": null,
   "metadata": {},
   "outputs": [],
   "source": []
  },
  {
   "cell_type": "markdown",
   "metadata": {},
   "source": [
    "GWAS Cat"
   ]
  },
  {
   "cell_type": "code",
   "execution_count": 17,
   "metadata": {
    "ExecuteTime": {
     "end_time": "2024-10-14T20:48:06.620258Z",
     "start_time": "2024-10-14T20:48:05.346697Z"
    }
   },
   "outputs": [],
   "source": [
    "if False:\n",
    "    ensembl_map, missing = qe.get_latest_ensembl_id(gwas_genes['SNP_GENE_IDS'].unique())\n",
    "    ensembl_to_entrez, missing_entrez = gm.convert_node_ids(ensembl_map['to'].values, 'Ensembl', 'Entrez')\n",
    "    ensembl_map['Entrez'] = [ensembl_to_entrez[x] if x in ensembl_to_entrez else '' for x in ensembl_map['to']]\n",
    "    id_ensembl = gwas_genes.merge(ensembl_map.loc[:, ('from', 'Entrez')], left_on='SNP_GENE_IDS', right_on='from', how='left')\n",
    "    symbol_map, symbol_missing = qh.perform_hgnc_query(id_ensembl[(id_ensembl['Entrez'].isnull()) | (id_ensembl['Entrez']== '')]['MAPPED_GENE'].unique(), 'Symbol', 'Symbol')\n",
    "    symbol_to_entrez, missing = gm.convert_node_ids(list(symbol_map.values()), 'Symbol', 'Entrez')\n",
    "    symbol_map = pd.DataFrame(symbol_map.items(), columns=['from', 'to'])\n",
    "    symbol_map['Entrez'] = [symbol_to_entrez[x] if x in symbol_to_entrez else '' for x in symbol_map['to']]\n",
    "    id_symbol = gwas_genes.iloc[~id_ensembl.index].merge(symbol_map.loc[:, ('from', 'Entrez')], left_on='MAPPED_GENE', right_on='from', how='inner')\n",
    "    id_ensembl = id_ensembl[(id_ensembl['Entrez'] != '') & (~id_ensembl['Entrez'].isnull())]\n",
    "    converted_gwas_genes = pd.concat([id_ensembl, id_symbol])\n",
    "    converted_gwas_genes = converted_gwas_genes[converted_gwas_genes['Entrez'] != '']\n",
    "    converted_gwas_genes.to_csv(os.path.join(datadir, 'GWASCatalog', 'gwas_cat_download_Jan22.txt.cleanedJun17.entrez'), sep=\"\\t\", index=False)\n",
    "else:\n",
    "    converted_gwas_genes = pd.read_csv(os.path.join(datadir, 'GWASCatalog', 'gwas_cat_download_Jan22.txt.cleanedJun17.entrez'), sep=\"\\t\")"
   ]
  },
  {
   "cell_type": "markdown",
   "metadata": {},
   "source": [
    "Genes in both data sets"
   ]
  },
  {
   "cell_type": "code",
   "execution_count": 18,
   "metadata": {
    "ExecuteTime": {
     "end_time": "2024-10-14T20:48:06.718327Z",
     "start_time": "2024-10-14T20:48:06.621403Z"
    }
   },
   "outputs": [
    {
     "name": "stdout",
     "output_type": "stream",
     "text": [
      "Shared ensembl IDs: 9192\n",
      "Shared gene symbols: 9407\n",
      "Shared Entrez Gene IDs: 9415\n"
     ]
    }
   ],
   "source": [
    "print('Shared ensembl IDs:', len(set(ravar_genes['Ensembl ID']).intersection(set(gwas_genes['SNP_GENE_IDS']))))\n",
    "print('Shared gene symbols:', len(set(ravar_genes['Gene Symbol']).intersection(set(gwas_genes['MAPPED_GENE']))))\n",
    "print('Shared Entrez Gene IDs:', len(set(converted_ravar_genes['Entrez']).intersection(set(converted_gwas_genes['Entrez']))))"
   ]
  },
  {
   "cell_type": "markdown",
   "metadata": {},
   "source": [
    "Map updated EFO traits for GWASCat"
   ]
  },
  {
   "cell_type": "code",
   "execution_count": 19,
   "metadata": {
    "ExecuteTime": {
     "end_time": "2024-10-14T20:48:08.130948Z",
     "start_time": "2024-10-14T20:48:06.719302Z"
    }
   },
   "outputs": [],
   "source": [
    "converted_gwas_genes = converted_gwas_genes.drop(columns=['TRAIT_CODE', 'MAPPED_TRAIT_URI']).merge(gwas_study.drop(columns=['COHORT', 'ASSOCIATION COUNT', 'SUMMARY STATS LOCATION' ]), on=\"DISEASE/TRAIT\")"
   ]
  },
  {
   "cell_type": "code",
   "execution_count": 20,
   "metadata": {
    "ExecuteTime": {
     "end_time": "2024-10-14T20:48:09.634989Z",
     "start_time": "2024-10-14T20:48:08.132019Z"
    }
   },
   "outputs": [],
   "source": [
    "gwas_genes = gwas_genes.drop(columns=['TRAIT_CODE']).merge(gwas_study.drop(columns=['COHORT', 'ASSOCIATION COUNT']), on=\"DISEASE/TRAIT\")"
   ]
  },
  {
   "cell_type": "markdown",
   "metadata": {},
   "source": [
    "## Data descriptions"
   ]
  },
  {
   "cell_type": "markdown",
   "metadata": {},
   "source": [
    "Distribution of p-values"
   ]
  },
  {
   "cell_type": "code",
   "execution_count": 86,
   "metadata": {
    "ExecuteTime": {
     "end_time": "2024-10-14T20:56:39.815611Z",
     "start_time": "2024-10-14T20:56:33.867541Z"
    }
   },
   "outputs": [
    {
     "data": {
      "image/png": "[encoded data removed]",
      "text/plain": [
       "<Figure size 300x200 with 2 Axes>"
      ]
     },
     "metadata": {},
     "output_type": "display_data"
    }
   ],
   "source": [
    "_, [ax1, ax2]  = plt.subplots(2, 1, figsize=(3, 2), sharex=True, sharey=True)\n",
    "sns.histplot(ravar_genes['P-value'], bins=100, log_scale=True, ax=ax1, color='mediumseagreen')\n",
    "sns.histplot(gwas_genes['P-VALUE'], bins=100, log_scale=True, ax=ax2)\n",
    "\n",
    "plt.yscale('log')\n",
    "ax1.set_ylabel('Assoc. Count')\n",
    "ax2.set_ylabel('Assoc. Count')\n",
    "ax1.annotate('RAVAR', xy=(0.5, 0.8), xycoords='axes fraction', ha='center', fontsize=8)\n",
    "ax2.annotate('GWAS Catalog', xy=(0.5, 0.8), xycoords='axes fraction', ha='center', fontsize=8)\n",
    "plt.savefig(os.path.join(figdir, 'pvalue_dists.png'), dpi=300, bbox_inches='tight')"
   ]
  },
  {
   "cell_type": "code",
   "execution_count": 22,
   "metadata": {
    "ExecuteTime": {
     "end_time": "2024-10-14T20:48:16.306247Z",
     "start_time": "2024-10-14T20:48:16.273872Z"
    }
   },
   "outputs": [
    {
     "data": {
      "text/html": [
       "<div>\n",
       "<style scoped>\n",
       "    .dataframe tbody tr th:only-of-type {\n",
       "        vertical-align: middle;\n",
       "    }\n",
       "\n",
       "    .dataframe tbody tr th {\n",
       "        vertical-align: top;\n",
       "    }\n",
       "\n",
       "    .dataframe thead th {\n",
       "        text-align: right;\n",
       "    }\n",
       "</style>\n",
       "<table border=\"1\" class=\"dataframe\">\n",
       "  <thead>\n",
       "    <tr style=\"text-align: right;\">\n",
       "      <th></th>\n",
       "      <th>PUBMEDID</th>\n",
       "      <th>DATE</th>\n",
       "      <th>DISEASE/TRAIT</th>\n",
       "      <th>MAPPED_GENE</th>\n",
       "      <th>SNP_GENE_IDS</th>\n",
       "      <th>INTERGENIC</th>\n",
       "      <th>P-VALUE</th>\n",
       "      <th>MAPPED_TRAIT</th>\n",
       "      <th>MAPPED_TRAIT_URI</th>\n",
       "      <th>STUDY ACCESSION</th>\n",
       "      <th>MAPPED BACKGROUND TRAIT URI</th>\n",
       "      <th>SUMMARY STATS LOCATION</th>\n",
       "      <th>TRAIT_CODE</th>\n",
       "    </tr>\n",
       "  </thead>\n",
       "  <tbody>\n",
       "    <tr>\n",
       "      <th>0</th>\n",
       "      <td>23583979</td>\n",
       "      <td>2013-04-14</td>\n",
       "      <td>Heart rate</td>\n",
       "      <td>SYT10</td>\n",
       "      <td>ENSG00000110975</td>\n",
       "      <td>0.0</td>\n",
       "      <td>6.000000e-24</td>\n",
       "      <td>heart rate</td>\n",
       "      <td>http://www.ebi.ac.uk/efo/EFO_0004326</td>\n",
       "      <td>GCST001969</td>\n",
       "      <td>NaN</td>\n",
       "      <td>http://ftp.ebi.ac.uk/pub/databases/gwas/summar...</td>\n",
       "      <td>EFO_0004326</td>\n",
       "    </tr>\n",
       "    <tr>\n",
       "      <th>1</th>\n",
       "      <td>23583979</td>\n",
       "      <td>2013-04-14</td>\n",
       "      <td>Heart rate</td>\n",
       "      <td>SYT10</td>\n",
       "      <td>ENSG00000110975</td>\n",
       "      <td>0.0</td>\n",
       "      <td>6.000000e-24</td>\n",
       "      <td>heart rate</td>\n",
       "      <td>http://www.ebi.ac.uk/efo/EFO_0004326</td>\n",
       "      <td>GCST001921</td>\n",
       "      <td>NaN</td>\n",
       "      <td>NaN</td>\n",
       "      <td>EFO_0004326</td>\n",
       "    </tr>\n",
       "    <tr>\n",
       "      <th>2</th>\n",
       "      <td>23583979</td>\n",
       "      <td>2013-04-14</td>\n",
       "      <td>Heart rate</td>\n",
       "      <td>SYT10</td>\n",
       "      <td>ENSG00000110975</td>\n",
       "      <td>0.0</td>\n",
       "      <td>6.000000e-24</td>\n",
       "      <td>heart rate</td>\n",
       "      <td>http://www.ebi.ac.uk/efo/EFO_0004326</td>\n",
       "      <td>GCST004715</td>\n",
       "      <td>NaN</td>\n",
       "      <td>NaN</td>\n",
       "      <td>EFO_0004326</td>\n",
       "    </tr>\n",
       "    <tr>\n",
       "      <th>3</th>\n",
       "      <td>23583979</td>\n",
       "      <td>2013-04-14</td>\n",
       "      <td>Heart rate</td>\n",
       "      <td>SYT10</td>\n",
       "      <td>ENSG00000110975</td>\n",
       "      <td>0.0</td>\n",
       "      <td>6.000000e-24</td>\n",
       "      <td>heart rate</td>\n",
       "      <td>http://www.ebi.ac.uk/efo/EFO_0004326</td>\n",
       "      <td>GCST005774</td>\n",
       "      <td>NaN</td>\n",
       "      <td>NaN</td>\n",
       "      <td>EFO_0004326</td>\n",
       "    </tr>\n",
       "    <tr>\n",
       "      <th>4</th>\n",
       "      <td>23583979</td>\n",
       "      <td>2013-04-14</td>\n",
       "      <td>Heart rate</td>\n",
       "      <td>SYT10</td>\n",
       "      <td>ENSG00000110975</td>\n",
       "      <td>0.0</td>\n",
       "      <td>6.000000e-24</td>\n",
       "      <td>heart rate</td>\n",
       "      <td>http://www.ebi.ac.uk/efo/EFO_0004326</td>\n",
       "      <td>GCST007481</td>\n",
       "      <td>NaN</td>\n",
       "      <td>NaN</td>\n",
       "      <td>EFO_0004326</td>\n",
       "    </tr>\n",
       "    <tr>\n",
       "      <th>...</th>\n",
       "      <td>...</td>\n",
       "      <td>...</td>\n",
       "      <td>...</td>\n",
       "      <td>...</td>\n",
       "      <td>...</td>\n",
       "      <td>...</td>\n",
       "      <td>...</td>\n",
       "      <td>...</td>\n",
       "      <td>...</td>\n",
       "      <td>...</td>\n",
       "      <td>...</td>\n",
       "      <td>...</td>\n",
       "      <td>...</td>\n",
       "    </tr>\n",
       "    <tr>\n",
       "      <th>10582731</th>\n",
       "      <td>36224396</td>\n",
       "      <td>2022-10-12</td>\n",
       "      <td>Height</td>\n",
       "      <td>GRB10</td>\n",
       "      <td>ENSG00000106070</td>\n",
       "      <td>0.0</td>\n",
       "      <td>4.000000e-15</td>\n",
       "      <td>body height</td>\n",
       "      <td>http://www.ebi.ac.uk/efo/EFO_0004339</td>\n",
       "      <td>GCST90245846</td>\n",
       "      <td>NaN</td>\n",
       "      <td>NaN</td>\n",
       "      <td>EFO_0004339</td>\n",
       "    </tr>\n",
       "    <tr>\n",
       "      <th>10582732</th>\n",
       "      <td>36224396</td>\n",
       "      <td>2022-10-12</td>\n",
       "      <td>Height</td>\n",
       "      <td>GRB10</td>\n",
       "      <td>ENSG00000106070</td>\n",
       "      <td>0.0</td>\n",
       "      <td>4.000000e-15</td>\n",
       "      <td>body height</td>\n",
       "      <td>http://www.ebi.ac.uk/efo/EFO_0004339</td>\n",
       "      <td>GCST90245847</td>\n",
       "      <td>NaN</td>\n",
       "      <td>NaN</td>\n",
       "      <td>EFO:0004339</td>\n",
       "    </tr>\n",
       "    <tr>\n",
       "      <th>10582733</th>\n",
       "      <td>36224396</td>\n",
       "      <td>2022-10-12</td>\n",
       "      <td>Height</td>\n",
       "      <td>GRB10</td>\n",
       "      <td>ENSG00000106070</td>\n",
       "      <td>0.0</td>\n",
       "      <td>4.000000e-15</td>\n",
       "      <td>body height</td>\n",
       "      <td>http://www.ebi.ac.uk/efo/EFO_0004339</td>\n",
       "      <td>GCST90245847</td>\n",
       "      <td>NaN</td>\n",
       "      <td>NaN</td>\n",
       "      <td>EFO_0004339</td>\n",
       "    </tr>\n",
       "    <tr>\n",
       "      <th>10582734</th>\n",
       "      <td>36224396</td>\n",
       "      <td>2022-10-12</td>\n",
       "      <td>Height</td>\n",
       "      <td>GRB10</td>\n",
       "      <td>ENSG00000106070</td>\n",
       "      <td>0.0</td>\n",
       "      <td>4.000000e-15</td>\n",
       "      <td>body height</td>\n",
       "      <td>http://www.ebi.ac.uk/efo/EFO_0004339</td>\n",
       "      <td>GCST90245848</td>\n",
       "      <td>NaN</td>\n",
       "      <td>NaN</td>\n",
       "      <td>EFO:0004339</td>\n",
       "    </tr>\n",
       "    <tr>\n",
       "      <th>10582735</th>\n",
       "      <td>36224396</td>\n",
       "      <td>2022-10-12</td>\n",
       "      <td>Height</td>\n",
       "      <td>GRB10</td>\n",
       "      <td>ENSG00000106070</td>\n",
       "      <td>0.0</td>\n",
       "      <td>4.000000e-15</td>\n",
       "      <td>body height</td>\n",
       "      <td>http://www.ebi.ac.uk/efo/EFO_0004339</td>\n",
       "      <td>GCST90245848</td>\n",
       "      <td>NaN</td>\n",
       "      <td>NaN</td>\n",
       "      <td>EFO_0004339</td>\n",
       "    </tr>\n",
       "  </tbody>\n",
       "</table>\n",
       "<p>10582736 rows × 13 columns</p>\n",
       "</div>"
      ],
      "text/plain": [
       "          PUBMEDID        DATE DISEASE/TRAIT MAPPED_GENE     SNP_GENE_IDS  \\\n",
       "0         23583979  2013-04-14    Heart rate       SYT10  ENSG00000110975   \n",
       "1         23583979  2013-04-14    Heart rate       SYT10  ENSG00000110975   \n",
       "2         23583979  2013-04-14    Heart rate       SYT10  ENSG00000110975   \n",
       "3         23583979  2013-04-14    Heart rate       SYT10  ENSG00000110975   \n",
       "4         23583979  2013-04-14    Heart rate       SYT10  ENSG00000110975   \n",
       "...            ...         ...           ...         ...              ...   \n",
       "10582731  36224396  2022-10-12        Height       GRB10  ENSG00000106070   \n",
       "10582732  36224396  2022-10-12        Height       GRB10  ENSG00000106070   \n",
       "10582733  36224396  2022-10-12        Height       GRB10  ENSG00000106070   \n",
       "10582734  36224396  2022-10-12        Height       GRB10  ENSG00000106070   \n",
       "10582735  36224396  2022-10-12        Height       GRB10  ENSG00000106070   \n",
       "\n",
       "          INTERGENIC       P-VALUE MAPPED_TRAIT  \\\n",
       "0                0.0  6.000000e-24   heart rate   \n",
       "1                0.0  6.000000e-24   heart rate   \n",
       "2                0.0  6.000000e-24   heart rate   \n",
       "3                0.0  6.000000e-24   heart rate   \n",
       "4                0.0  6.000000e-24   heart rate   \n",
       "...              ...           ...          ...   \n",
       "10582731         0.0  4.000000e-15  body height   \n",
       "10582732         0.0  4.000000e-15  body height   \n",
       "10582733         0.0  4.000000e-15  body height   \n",
       "10582734         0.0  4.000000e-15  body height   \n",
       "10582735         0.0  4.000000e-15  body height   \n",
       "\n",
       "                              MAPPED_TRAIT_URI STUDY ACCESSION  \\\n",
       "0         http://www.ebi.ac.uk/efo/EFO_0004326      GCST001969   \n",
       "1         http://www.ebi.ac.uk/efo/EFO_0004326      GCST001921   \n",
       "2         http://www.ebi.ac.uk/efo/EFO_0004326      GCST004715   \n",
       "3         http://www.ebi.ac.uk/efo/EFO_0004326      GCST005774   \n",
       "4         http://www.ebi.ac.uk/efo/EFO_0004326      GCST007481   \n",
       "...                                        ...             ...   \n",
       "10582731  http://www.ebi.ac.uk/efo/EFO_0004339    GCST90245846   \n",
       "10582732  http://www.ebi.ac.uk/efo/EFO_0004339    GCST90245847   \n",
       "10582733  http://www.ebi.ac.uk/efo/EFO_0004339    GCST90245847   \n",
       "10582734  http://www.ebi.ac.uk/efo/EFO_0004339    GCST90245848   \n",
       "10582735  http://www.ebi.ac.uk/efo/EFO_0004339    GCST90245848   \n",
       "\n",
       "         MAPPED BACKGROUND TRAIT URI  \\\n",
       "0                                NaN   \n",
       "1                                NaN   \n",
       "2                                NaN   \n",
       "3                                NaN   \n",
       "4                                NaN   \n",
       "...                              ...   \n",
       "10582731                         NaN   \n",
       "10582732                         NaN   \n",
       "10582733                         NaN   \n",
       "10582734                         NaN   \n",
       "10582735                         NaN   \n",
       "\n",
       "                                     SUMMARY STATS LOCATION   TRAIT_CODE  \n",
       "0         http://ftp.ebi.ac.uk/pub/databases/gwas/summar...  EFO_0004326  \n",
       "1                                                       NaN  EFO_0004326  \n",
       "2                                                       NaN  EFO_0004326  \n",
       "3                                                       NaN  EFO_0004326  \n",
       "4                                                       NaN  EFO_0004326  \n",
       "...                                                     ...          ...  \n",
       "10582731                                                NaN  EFO_0004339  \n",
       "10582732                                                NaN  EFO:0004339  \n",
       "10582733                                                NaN  EFO_0004339  \n",
       "10582734                                                NaN  EFO:0004339  \n",
       "10582735                                                NaN  EFO_0004339  \n",
       "\n",
       "[10582736 rows x 13 columns]"
      ]
     },
     "execution_count": 22,
     "metadata": {},
     "output_type": "execute_result"
    }
   ],
   "source": [
    "gwas_genes"
   ]
  },
  {
   "cell_type": "markdown",
   "metadata": {},
   "source": [
    "Distribution of genes/trait"
   ]
  },
  {
   "cell_type": "code",
   "execution_count": 23,
   "metadata": {
    "ExecuteTime": {
     "end_time": "2024-10-14T20:48:16.319679Z",
     "start_time": "2024-10-14T20:48:16.307114Z"
    }
   },
   "outputs": [],
   "source": [
    "rv_genes_per_trait = ravar_genes.groupby('Trait Ontology id')['Gene Symbol'].nunique()"
   ]
  },
  {
   "cell_type": "code",
   "execution_count": 24,
   "metadata": {
    "ExecuteTime": {
     "end_time": "2024-10-14T20:48:16.330264Z",
     "start_time": "2024-10-14T20:48:16.320698Z"
    }
   },
   "outputs": [
    {
     "data": {
      "text/html": [
       "<div>\n",
       "<style scoped>\n",
       "    .dataframe tbody tr th:only-of-type {\n",
       "        vertical-align: middle;\n",
       "    }\n",
       "\n",
       "    .dataframe tbody tr th {\n",
       "        vertical-align: top;\n",
       "    }\n",
       "\n",
       "    .dataframe thead th {\n",
       "        text-align: right;\n",
       "    }\n",
       "</style>\n",
       "<table border=\"1\" class=\"dataframe\">\n",
       "  <thead>\n",
       "    <tr style=\"text-align: right;\">\n",
       "      <th></th>\n",
       "      <th>PUBMEDID</th>\n",
       "      <th>DATE</th>\n",
       "      <th>DISEASE/TRAIT</th>\n",
       "      <th>MAPPED_GENE</th>\n",
       "      <th>SNP_GENE_IDS</th>\n",
       "      <th>INTERGENIC</th>\n",
       "      <th>P-VALUE</th>\n",
       "      <th>MAPPED_TRAIT</th>\n",
       "      <th>MAPPED_TRAIT_URI</th>\n",
       "      <th>STUDY ACCESSION</th>\n",
       "      <th>MAPPED BACKGROUND TRAIT URI</th>\n",
       "      <th>SUMMARY STATS LOCATION</th>\n",
       "      <th>TRAIT_CODE</th>\n",
       "    </tr>\n",
       "  </thead>\n",
       "  <tbody>\n",
       "    <tr>\n",
       "      <th>0</th>\n",
       "      <td>23583979</td>\n",
       "      <td>2013-04-14</td>\n",
       "      <td>Heart rate</td>\n",
       "      <td>SYT10</td>\n",
       "      <td>ENSG00000110975</td>\n",
       "      <td>0.0</td>\n",
       "      <td>6.000000e-24</td>\n",
       "      <td>heart rate</td>\n",
       "      <td>http://www.ebi.ac.uk/efo/EFO_0004326</td>\n",
       "      <td>GCST001969</td>\n",
       "      <td>NaN</td>\n",
       "      <td>http://ftp.ebi.ac.uk/pub/databases/gwas/summar...</td>\n",
       "      <td>EFO_0004326</td>\n",
       "    </tr>\n",
       "    <tr>\n",
       "      <th>1</th>\n",
       "      <td>23583979</td>\n",
       "      <td>2013-04-14</td>\n",
       "      <td>Heart rate</td>\n",
       "      <td>SYT10</td>\n",
       "      <td>ENSG00000110975</td>\n",
       "      <td>0.0</td>\n",
       "      <td>6.000000e-24</td>\n",
       "      <td>heart rate</td>\n",
       "      <td>http://www.ebi.ac.uk/efo/EFO_0004326</td>\n",
       "      <td>GCST001921</td>\n",
       "      <td>NaN</td>\n",
       "      <td>NaN</td>\n",
       "      <td>EFO_0004326</td>\n",
       "    </tr>\n",
       "    <tr>\n",
       "      <th>2</th>\n",
       "      <td>23583979</td>\n",
       "      <td>2013-04-14</td>\n",
       "      <td>Heart rate</td>\n",
       "      <td>SYT10</td>\n",
       "      <td>ENSG00000110975</td>\n",
       "      <td>0.0</td>\n",
       "      <td>6.000000e-24</td>\n",
       "      <td>heart rate</td>\n",
       "      <td>http://www.ebi.ac.uk/efo/EFO_0004326</td>\n",
       "      <td>GCST004715</td>\n",
       "      <td>NaN</td>\n",
       "      <td>NaN</td>\n",
       "      <td>EFO_0004326</td>\n",
       "    </tr>\n",
       "    <tr>\n",
       "      <th>3</th>\n",
       "      <td>23583979</td>\n",
       "      <td>2013-04-14</td>\n",
       "      <td>Heart rate</td>\n",
       "      <td>SYT10</td>\n",
       "      <td>ENSG00000110975</td>\n",
       "      <td>0.0</td>\n",
       "      <td>6.000000e-24</td>\n",
       "      <td>heart rate</td>\n",
       "      <td>http://www.ebi.ac.uk/efo/EFO_0004326</td>\n",
       "      <td>GCST005774</td>\n",
       "      <td>NaN</td>\n",
       "      <td>NaN</td>\n",
       "      <td>EFO_0004326</td>\n",
       "    </tr>\n",
       "    <tr>\n",
       "      <th>4</th>\n",
       "      <td>23583979</td>\n",
       "      <td>2013-04-14</td>\n",
       "      <td>Heart rate</td>\n",
       "      <td>SYT10</td>\n",
       "      <td>ENSG00000110975</td>\n",
       "      <td>0.0</td>\n",
       "      <td>6.000000e-24</td>\n",
       "      <td>heart rate</td>\n",
       "      <td>http://www.ebi.ac.uk/efo/EFO_0004326</td>\n",
       "      <td>GCST007481</td>\n",
       "      <td>NaN</td>\n",
       "      <td>NaN</td>\n",
       "      <td>EFO_0004326</td>\n",
       "    </tr>\n",
       "  </tbody>\n",
       "</table>\n",
       "</div>"
      ],
      "text/plain": [
       "   PUBMEDID        DATE DISEASE/TRAIT MAPPED_GENE     SNP_GENE_IDS  \\\n",
       "0  23583979  2013-04-14    Heart rate       SYT10  ENSG00000110975   \n",
       "1  23583979  2013-04-14    Heart rate       SYT10  ENSG00000110975   \n",
       "2  23583979  2013-04-14    Heart rate       SYT10  ENSG00000110975   \n",
       "3  23583979  2013-04-14    Heart rate       SYT10  ENSG00000110975   \n",
       "4  23583979  2013-04-14    Heart rate       SYT10  ENSG00000110975   \n",
       "\n",
       "   INTERGENIC       P-VALUE MAPPED_TRAIT  \\\n",
       "0         0.0  6.000000e-24   heart rate   \n",
       "1         0.0  6.000000e-24   heart rate   \n",
       "2         0.0  6.000000e-24   heart rate   \n",
       "3         0.0  6.000000e-24   heart rate   \n",
       "4         0.0  6.000000e-24   heart rate   \n",
       "\n",
       "                       MAPPED_TRAIT_URI STUDY ACCESSION  \\\n",
       "0  http://www.ebi.ac.uk/efo/EFO_0004326      GCST001969   \n",
       "1  http://www.ebi.ac.uk/efo/EFO_0004326      GCST001921   \n",
       "2  http://www.ebi.ac.uk/efo/EFO_0004326      GCST004715   \n",
       "3  http://www.ebi.ac.uk/efo/EFO_0004326      GCST005774   \n",
       "4  http://www.ebi.ac.uk/efo/EFO_0004326      GCST007481   \n",
       "\n",
       "  MAPPED BACKGROUND TRAIT URI  \\\n",
       "0                         NaN   \n",
       "1                         NaN   \n",
       "2                         NaN   \n",
       "3                         NaN   \n",
       "4                         NaN   \n",
       "\n",
       "                              SUMMARY STATS LOCATION   TRAIT_CODE  \n",
       "0  http://ftp.ebi.ac.uk/pub/databases/gwas/summar...  EFO_0004326  \n",
       "1                                                NaN  EFO_0004326  \n",
       "2                                                NaN  EFO_0004326  \n",
       "3                                                NaN  EFO_0004326  \n",
       "4                                                NaN  EFO_0004326  "
      ]
     },
     "execution_count": 24,
     "metadata": {},
     "output_type": "execute_result"
    }
   ],
   "source": [
    "gwas_genes.head()"
   ]
  },
  {
   "cell_type": "code",
   "execution_count": 87,
   "metadata": {
    "ExecuteTime": {
     "end_time": "2024-10-14T20:57:00.319529Z",
     "start_time": "2024-10-14T20:56:58.446101Z"
    }
   },
   "outputs": [
    {
     "data": {
      "image/png": "[encoded data removed]",
      "text/plain": [
       "<Figure size 300x200 with 2 Axes>"
      ]
     },
     "metadata": {},
     "output_type": "display_data"
    }
   ],
   "source": [
    "_, [ax1, ax2]  = plt.subplots(2, 1, figsize=(3, 2), sharex=True, sharey=True)\n",
    "sns.histplot(ravar_genes.groupby('Trait Ontology id')['Gene Symbol'].nunique(), bins=50, log_scale=True, ax=ax1, color='mediumseagreen')\n",
    "sns.histplot(gwas_genes.groupby('TRAIT_CODE')['MAPPED_GENE'].nunique(), bins=50, log_scale=True, ax=ax2)\n",
    "plt.yscale('log')\n",
    "plt.xlabel('Number of genes')\n",
    "ax1.set_ylabel('Number of traits')\n",
    "ax2.set_ylabel('Number of traits')\n",
    "ax1.annotate('RAVAR', xy=(0.7, 0.8), xycoords='axes fraction', ha='center', fontsize=8)\n",
    "ax2.annotate('GWAS Catalog', xy=(0.7, 0.8), xycoords='axes fraction', ha='center', fontsize=8)\n",
    "plt.savefig(os.path.join(figdir, 'n_gene_dists.png'), dpi=300, bbox_inches='tight')"
   ]
  },
  {
   "cell_type": "code",
   "execution_count": 26,
   "metadata": {
    "ExecuteTime": {
     "end_time": "2024-10-14T20:48:20.432512Z",
     "start_time": "2024-10-14T20:48:18.861054Z"
    }
   },
   "outputs": [
    {
     "data": {
      "text/plain": [
       "Text(0.7, 0.8, 'GWAS Catalog')"
      ]
     },
     "execution_count": 26,
     "metadata": {},
     "output_type": "execute_result"
    },
    {
     "data": {
      "image/png": "[encoded data removed]",
      "text/plain": [
       "<Figure size 600x400 with 2 Axes>"
      ]
     },
     "metadata": {},
     "output_type": "display_data"
    }
   ],
   "source": [
    "_, [ax1, ax2]  = plt.subplots(2, 1, figsize=(6, 4), sharex=True, sharey=False)\n",
    "sns.histplot(ravar_genes.groupby('Trait Ontology id')['Gene Symbol'].nunique(), bins=50, log_scale=True, ax=ax1, color='mediumseagreen')\n",
    "sns.histplot(gwas_genes.groupby('TRAIT_CODE')['MAPPED_GENE'].nunique(), bins=50, log_scale=True, ax=ax2)\n",
    "#plt.yscale('log')\n",
    "plt.xlabel('Number of genes')\n",
    "plt.ylabel('Number of traits')\n",
    "ax1.annotate('RAVAR', xy=(0.7, 0.8), xycoords='axes fraction', ha='center', fontsize=12)\n",
    "ax2.annotate('GWAS Catalog', xy=(0.7, 0.8), xycoords='axes fraction', ha='center', fontsize=12)"
   ]
  },
  {
   "cell_type": "markdown",
   "metadata": {},
   "source": [
    "### Export gene profiles"
   ]
  },
  {
   "cell_type": "code",
   "execution_count": 27,
   "metadata": {
    "ExecuteTime": {
     "end_time": "2024-10-14T20:48:20.436083Z",
     "start_time": "2024-10-14T20:48:20.433495Z"
    }
   },
   "outputs": [],
   "source": [
    "if False:\n",
    "    for trait in tqdm(converted_ravar_genes['TRAIT_CODE'].unique()):\n",
    "        gda = converted_ravar_genes.loc[converted_ravar_genes['TRAIT_CODE'] == trait, ('Gene Symbol', 'Ensembl ID','Entrez', 'P-value')]\n",
    "        gda.to_csv(os.path.join('/cellar/users/snwright/Data/RareCommon/inputs/', trait+ '_RV.txt'), sep='\\t', index=False)"
   ]
  },
  {
   "cell_type": "code",
   "execution_count": 28,
   "metadata": {
    "ExecuteTime": {
     "end_time": "2024-10-14T20:48:20.443957Z",
     "start_time": "2024-10-14T20:48:20.437710Z"
    }
   },
   "outputs": [],
   "source": [
    "if False:\n",
    "    for trait in tqdm(overlap_traits):\n",
    "        gda = converted_gwas_genes.loc[converted_gwas_genes['TRAIT_CODE'] == trait, ('MAPPED_GENE', 'SNP_GENE_IDS', 'P-VALUE', 'Entrez')]\n",
    "        gda.columns = ['Gene Symbol', 'Ensembl ID', 'P-value', 'Entrez']\n",
    "        gda.to_csv(os.path.join('/cellar/users/snwright/Data/RareCommon/inputs/', trait+ '_CV.txt'), sep='\\t', index=False)"
   ]
  },
  {
   "cell_type": "code",
   "execution_count": 29,
   "metadata": {
    "ExecuteTime": {
     "end_time": "2024-10-14T20:48:20.838606Z",
     "start_time": "2024-10-14T20:48:20.445708Z"
    }
   },
   "outputs": [
    {
     "data": {
      "text/plain": [
       "7908"
      ]
     },
     "execution_count": 29,
     "metadata": {},
     "output_type": "execute_result"
    }
   ],
   "source": [
    "gwas_genes['TRAIT_CODE'].nunique()"
   ]
  },
  {
   "cell_type": "markdown",
   "metadata": {},
   "source": [
    "## Trait Overlap"
   ]
  },
  {
   "cell_type": "markdown",
   "metadata": {},
   "source": [
    "No additional filtering"
   ]
  },
  {
   "cell_type": "code",
   "execution_count": 30,
   "metadata": {
    "ExecuteTime": {
     "end_time": "2024-10-14T20:48:21.239908Z",
     "start_time": "2024-10-14T20:48:20.839558Z"
    }
   },
   "outputs": [],
   "source": [
    "rare_traits = ravar_genes['TRAIT_CODE'].unique()\n",
    "common_traits = gwas_genes['TRAIT_CODE'].unique()"
   ]
  },
  {
   "cell_type": "code",
   "execution_count": 31,
   "metadata": {
    "ExecuteTime": {
     "end_time": "2024-10-14T20:48:21.594313Z",
     "start_time": "2024-10-14T20:48:21.240909Z"
    }
   },
   "outputs": [
    {
     "data": {
      "image/png": "[encoded data removed]",
      "text/plain": [
       "<Figure size 640x480 with 1 Axes>"
      ]
     },
     "metadata": {},
     "output_type": "display_data"
    }
   ],
   "source": [
    "v = venn2([set(rare_traits), set(common_traits)], set_labels=('RAVAR', 'GWAS Catalog'))\n",
    "v.get_patch_by_id('10').set_color('mediumseagreen')\n",
    "v.get_patch_by_id('01').set_color('dodgerblue')\n",
    "v.get_patch_by_id('11').set_color('purple')\n",
    "plt.title('Trait Overlap (No additional curation)')\n",
    "plt.savefig(os.path.join(figdir, 'trait_overlap_venn2.png'), dpi=400, bbox_inches='tight')"
   ]
  },
  {
   "cell_type": "markdown",
   "metadata": {},
   "source": [
    "No background traits"
   ]
  },
  {
   "cell_type": "code",
   "execution_count": 32,
   "metadata": {
    "ExecuteTime": {
     "end_time": "2024-10-14T20:48:23.365410Z",
     "start_time": "2024-10-14T20:48:21.595336Z"
    }
   },
   "outputs": [
    {
     "data": {
      "image/png": "[encoded data removed]",
      "text/plain": [
       "<Figure size 640x480 with 1 Axes>"
      ]
     },
     "metadata": {},
     "output_type": "display_data"
    }
   ],
   "source": [
    "v = venn2([set(rare_traits), set(gwas_genes[gwas_genes['MAPPED BACKGROUND TRAIT URI'].isna()]['TRAIT_CODE'].unique())], set_labels=('RAVAR', 'GWAS Catalog'))\n",
    "v.get_patch_by_id('10').set_color('mediumseagreen')\n",
    "v.get_patch_by_id('01').set_color('dodgerblue')\n",
    "v.get_patch_by_id('11').set_color('purple')\n",
    "plt.title('Trait Overlap (No background trait)')\n",
    "plt.savefig(os.path.join(figdir, 'trait_overlap_venn2_1.png'), dpi=400, bbox_inches='tight')"
   ]
  },
  {
   "cell_type": "code",
   "execution_count": 33,
   "metadata": {
    "ExecuteTime": {
     "end_time": "2024-10-14T20:48:23.375304Z",
     "start_time": "2024-10-14T20:48:23.366424Z"
    }
   },
   "outputs": [
    {
     "data": {
      "text/html": [
       "<div>\n",
       "<style scoped>\n",
       "    .dataframe tbody tr th:only-of-type {\n",
       "        vertical-align: middle;\n",
       "    }\n",
       "\n",
       "    .dataframe tbody tr th {\n",
       "        vertical-align: top;\n",
       "    }\n",
       "\n",
       "    .dataframe thead th {\n",
       "        text-align: right;\n",
       "    }\n",
       "</style>\n",
       "<table border=\"1\" class=\"dataframe\">\n",
       "  <thead>\n",
       "    <tr style=\"text-align: right;\">\n",
       "      <th></th>\n",
       "      <th>PUBMEDID</th>\n",
       "      <th>DATE</th>\n",
       "      <th>DISEASE/TRAIT</th>\n",
       "      <th>MAPPED_GENE</th>\n",
       "      <th>SNP_GENE_IDS</th>\n",
       "      <th>INTERGENIC</th>\n",
       "      <th>P-VALUE</th>\n",
       "      <th>MAPPED_TRAIT</th>\n",
       "      <th>MAPPED_TRAIT_URI</th>\n",
       "      <th>STUDY ACCESSION</th>\n",
       "      <th>MAPPED BACKGROUND TRAIT URI</th>\n",
       "      <th>SUMMARY STATS LOCATION</th>\n",
       "      <th>TRAIT_CODE</th>\n",
       "    </tr>\n",
       "  </thead>\n",
       "  <tbody>\n",
       "    <tr>\n",
       "      <th>0</th>\n",
       "      <td>23583979</td>\n",
       "      <td>2013-04-14</td>\n",
       "      <td>Heart rate</td>\n",
       "      <td>SYT10</td>\n",
       "      <td>ENSG00000110975</td>\n",
       "      <td>0.0</td>\n",
       "      <td>6.000000e-24</td>\n",
       "      <td>heart rate</td>\n",
       "      <td>http://www.ebi.ac.uk/efo/EFO_0004326</td>\n",
       "      <td>GCST001969</td>\n",
       "      <td>NaN</td>\n",
       "      <td>http://ftp.ebi.ac.uk/pub/databases/gwas/summar...</td>\n",
       "      <td>EFO_0004326</td>\n",
       "    </tr>\n",
       "    <tr>\n",
       "      <th>1</th>\n",
       "      <td>23583979</td>\n",
       "      <td>2013-04-14</td>\n",
       "      <td>Heart rate</td>\n",
       "      <td>SYT10</td>\n",
       "      <td>ENSG00000110975</td>\n",
       "      <td>0.0</td>\n",
       "      <td>6.000000e-24</td>\n",
       "      <td>heart rate</td>\n",
       "      <td>http://www.ebi.ac.uk/efo/EFO_0004326</td>\n",
       "      <td>GCST001921</td>\n",
       "      <td>NaN</td>\n",
       "      <td>NaN</td>\n",
       "      <td>EFO_0004326</td>\n",
       "    </tr>\n",
       "    <tr>\n",
       "      <th>2</th>\n",
       "      <td>23583979</td>\n",
       "      <td>2013-04-14</td>\n",
       "      <td>Heart rate</td>\n",
       "      <td>SYT10</td>\n",
       "      <td>ENSG00000110975</td>\n",
       "      <td>0.0</td>\n",
       "      <td>6.000000e-24</td>\n",
       "      <td>heart rate</td>\n",
       "      <td>http://www.ebi.ac.uk/efo/EFO_0004326</td>\n",
       "      <td>GCST004715</td>\n",
       "      <td>NaN</td>\n",
       "      <td>NaN</td>\n",
       "      <td>EFO_0004326</td>\n",
       "    </tr>\n",
       "    <tr>\n",
       "      <th>3</th>\n",
       "      <td>23583979</td>\n",
       "      <td>2013-04-14</td>\n",
       "      <td>Heart rate</td>\n",
       "      <td>SYT10</td>\n",
       "      <td>ENSG00000110975</td>\n",
       "      <td>0.0</td>\n",
       "      <td>6.000000e-24</td>\n",
       "      <td>heart rate</td>\n",
       "      <td>http://www.ebi.ac.uk/efo/EFO_0004326</td>\n",
       "      <td>GCST005774</td>\n",
       "      <td>NaN</td>\n",
       "      <td>NaN</td>\n",
       "      <td>EFO_0004326</td>\n",
       "    </tr>\n",
       "    <tr>\n",
       "      <th>4</th>\n",
       "      <td>23583979</td>\n",
       "      <td>2013-04-14</td>\n",
       "      <td>Heart rate</td>\n",
       "      <td>SYT10</td>\n",
       "      <td>ENSG00000110975</td>\n",
       "      <td>0.0</td>\n",
       "      <td>6.000000e-24</td>\n",
       "      <td>heart rate</td>\n",
       "      <td>http://www.ebi.ac.uk/efo/EFO_0004326</td>\n",
       "      <td>GCST007481</td>\n",
       "      <td>NaN</td>\n",
       "      <td>NaN</td>\n",
       "      <td>EFO_0004326</td>\n",
       "    </tr>\n",
       "  </tbody>\n",
       "</table>\n",
       "</div>"
      ],
      "text/plain": [
       "   PUBMEDID        DATE DISEASE/TRAIT MAPPED_GENE     SNP_GENE_IDS  \\\n",
       "0  23583979  2013-04-14    Heart rate       SYT10  ENSG00000110975   \n",
       "1  23583979  2013-04-14    Heart rate       SYT10  ENSG00000110975   \n",
       "2  23583979  2013-04-14    Heart rate       SYT10  ENSG00000110975   \n",
       "3  23583979  2013-04-14    Heart rate       SYT10  ENSG00000110975   \n",
       "4  23583979  2013-04-14    Heart rate       SYT10  ENSG00000110975   \n",
       "\n",
       "   INTERGENIC       P-VALUE MAPPED_TRAIT  \\\n",
       "0         0.0  6.000000e-24   heart rate   \n",
       "1         0.0  6.000000e-24   heart rate   \n",
       "2         0.0  6.000000e-24   heart rate   \n",
       "3         0.0  6.000000e-24   heart rate   \n",
       "4         0.0  6.000000e-24   heart rate   \n",
       "\n",
       "                       MAPPED_TRAIT_URI STUDY ACCESSION  \\\n",
       "0  http://www.ebi.ac.uk/efo/EFO_0004326      GCST001969   \n",
       "1  http://www.ebi.ac.uk/efo/EFO_0004326      GCST001921   \n",
       "2  http://www.ebi.ac.uk/efo/EFO_0004326      GCST004715   \n",
       "3  http://www.ebi.ac.uk/efo/EFO_0004326      GCST005774   \n",
       "4  http://www.ebi.ac.uk/efo/EFO_0004326      GCST007481   \n",
       "\n",
       "  MAPPED BACKGROUND TRAIT URI  \\\n",
       "0                         NaN   \n",
       "1                         NaN   \n",
       "2                         NaN   \n",
       "3                         NaN   \n",
       "4                         NaN   \n",
       "\n",
       "                              SUMMARY STATS LOCATION   TRAIT_CODE  \n",
       "0  http://ftp.ebi.ac.uk/pub/databases/gwas/summar...  EFO_0004326  \n",
       "1                                                NaN  EFO_0004326  \n",
       "2                                                NaN  EFO_0004326  \n",
       "3                                                NaN  EFO_0004326  \n",
       "4                                                NaN  EFO_0004326  "
      ]
     },
     "execution_count": 33,
     "metadata": {},
     "output_type": "execute_result"
    }
   ],
   "source": [
    "gwas_genes.head()"
   ]
  },
  {
   "cell_type": "markdown",
   "metadata": {},
   "source": [
    "No background traits and summary stats present"
   ]
  },
  {
   "cell_type": "code",
   "execution_count": 34,
   "metadata": {
    "ExecuteTime": {
     "end_time": "2024-10-14T20:48:24.425476Z",
     "start_time": "2024-10-14T20:48:23.376121Z"
    }
   },
   "outputs": [
    {
     "data": {
      "image/png": "[encoded data removed]",
      "text/plain": [
       "<Figure size 640x480 with 1 Axes>"
      ]
     },
     "metadata": {},
     "output_type": "display_data"
    }
   ],
   "source": [
    "v = venn2([set(rare_traits), set(gwas_genes[(gwas_genes['MAPPED BACKGROUND TRAIT URI'].isna()) & (~gwas_genes['SUMMARY STATS LOCATION'].isna())]['TRAIT_CODE'].unique())], set_labels=('RAVAR', 'GWAS Catalog'))\n",
    "v.get_patch_by_id('10').set_color('mediumseagreen')\n",
    "v.get_patch_by_id('01').set_color('dodgerblue')\n",
    "v.get_patch_by_id('11').set_color('purple')\n",
    "plt.title('Trait Overlap (No background trait,\\n and full sumstats available)')\n",
    "plt.savefig(os.path.join(figdir, 'trait_overlap_venn2_w_sumstats.png'), dpi=400, bbox_inches='tight')"
   ]
  },
  {
   "cell_type": "markdown",
   "metadata": {},
   "source": [
    "Statistics of overlapping traits, not accounting for summary stats/background traits"
   ]
  },
  {
   "cell_type": "code",
   "execution_count": 35,
   "metadata": {
    "ExecuteTime": {
     "end_time": "2024-10-14T20:48:25.160718Z",
     "start_time": "2024-10-14T20:48:24.426391Z"
    }
   },
   "outputs": [],
   "source": [
    "overlap_traits = set(rare_traits).intersection(set(common_traits))\n",
    "overlap_traits_sumstats = set(rare_traits).intersection(set(gwas_genes[(gwas_genes['MAPPED BACKGROUND TRAIT URI'].isna()) & (~gwas_genes['SUMMARY STATS LOCATION'].isna())]['TRAIT_CODE'].unique()))"
   ]
  },
  {
   "cell_type": "markdown",
   "metadata": {},
   "source": [
    "How many are very broad? It doesn't appear there are any really problematic ones"
   ]
  },
  {
   "cell_type": "code",
   "execution_count": 36,
   "metadata": {
    "ExecuteTime": {
     "end_time": "2024-10-14T20:48:25.171035Z",
     "start_time": "2024-10-14T20:48:25.161766Z"
    }
   },
   "outputs": [
    {
     "data": {
      "text/plain": [
       "TRAIT_CODE\n",
       "EFO_0010226      409\n",
       "EFO_0004530      224\n",
       "EFO_0004611      167\n",
       "EFO_0004587      164\n",
       "EFO_0004340      139\n",
       "MONDO_0005148    128\n",
       "EFO_0004308      125\n",
       "EFO_0004570       92\n",
       "EFO_0004574       88\n",
       "MONDO_0004975     80\n",
       "EFO_0006335       76\n",
       "EFO_0008317       68\n",
       "MONDO_0004979     67\n",
       "EFO_0006336       66\n",
       "EFO_0001663       65\n",
       "Name: count, dtype: int64"
      ]
     },
     "execution_count": 36,
     "metadata": {},
     "output_type": "execute_result"
    }
   ],
   "source": [
    "gwas_study.loc[gwas_study.TRAIT_CODE.isin(overlap_traits)]['TRAIT_CODE'].value_counts()[0:15]"
   ]
  },
  {
   "cell_type": "code",
   "execution_count": null,
   "metadata": {},
   "outputs": [],
   "source": []
  },
  {
   "cell_type": "code",
   "execution_count": 37,
   "metadata": {
    "ExecuteTime": {
     "end_time": "2024-10-14T20:48:25.298106Z",
     "start_time": "2024-10-14T20:48:25.171929Z"
    }
   },
   "outputs": [],
   "source": [
    "# write to file\n",
    "with open(os.path.join('/cellar/users/snwright/Data/RareCommon/inputs/overlap_traits_Jun27.txt'), 'w') as f:\n",
    "    for trait in overlap_traits:\n",
    "        f.write(trait + '\\n')"
   ]
  },
  {
   "cell_type": "code",
   "execution_count": 38,
   "metadata": {
    "ExecuteTime": {
     "end_time": "2024-10-14T20:48:25.333123Z",
     "start_time": "2024-10-14T20:48:25.300024Z"
    }
   },
   "outputs": [],
   "source": [
    "with open(os.path.join('/cellar/users/snwright/Data/RareCommon/inputs/overlap_traits_sumstats_Jun27.txt'), 'w') as f:\n",
    "    for trait in overlap_traits_sumstats:\n",
    "        f.write(trait + '\\n')"
   ]
  },
  {
   "cell_type": "code",
   "execution_count": 39,
   "metadata": {
    "ExecuteTime": {
     "end_time": "2024-10-14T20:48:27.154775Z",
     "start_time": "2024-10-14T20:48:25.333927Z"
    }
   },
   "outputs": [
    {
     "data": {
      "text/plain": [
       "Text(0.7, 0.8, 'GWAS Catalog')"
      ]
     },
     "execution_count": 39,
     "metadata": {},
     "output_type": "execute_result"
    },
    {
     "data": {
      "image/png": "[encoded data removed]",
      "text/plain": [
       "<Figure size 600x400 with 2 Axes>"
      ]
     },
     "metadata": {},
     "output_type": "display_data"
    }
   ],
   "source": [
    "_, [ax1, ax2]  = plt.subplots(2, 1, figsize=(6, 4), sharex=True, sharey=True)\n",
    "sns.histplot(ravar_genes[ravar_genes['TRAIT_CODE'].isin(overlap_traits)].groupby('Trait Ontology id')['Gene Symbol'].nunique(), bins=50, log_scale=True, ax=ax1, color='mediumseagreen')\n",
    "sns.histplot(gwas_genes[gwas_genes.TRAIT_CODE.isin(overlap_traits)].groupby('TRAIT_CODE')['MAPPED_GENE'].nunique(), bins=50, log_scale=True, ax=ax2)\n",
    "plt.yscale('log')\n",
    "plt.xlabel('Number of genes')\n",
    "ax1.set_ylabel('Number of traits')\n",
    "ax2.set_ylabel('Number of traits')\n",
    "ax1.annotate('RAVAR', xy=(0.7, 0.8), xycoords='axes fraction', ha='center', fontsize=12)\n",
    "ax2.annotate('GWAS Catalog', xy=(0.7, 0.8), xycoords='axes fraction', ha='center', fontsize=12)"
   ]
  },
  {
   "cell_type": "markdown",
   "metadata": {},
   "source": [
    "Plot cumulative number of traits with > x genes"
   ]
  },
  {
   "cell_type": "code",
   "execution_count": 40,
   "metadata": {
    "ExecuteTime": {
     "end_time": "2024-10-14T20:48:27.177271Z",
     "start_time": "2024-10-14T20:48:27.155794Z"
    }
   },
   "outputs": [],
   "source": [
    "rv_gene_counts = ravar_genes[ravar_genes['TRAIT_CODE'].isin(overlap_traits)].groupby('Trait Ontology id')['Gene Symbol'].nunique() * -1\n",
    "   "
   ]
  },
  {
   "cell_type": "code",
   "execution_count": 88,
   "metadata": {
    "ExecuteTime": {
     "end_time": "2024-10-14T20:57:42.771450Z",
     "start_time": "2024-10-14T20:57:28.308238Z"
    }
   },
   "outputs": [
    {
     "data": {
      "image/png": "[encoded data removed]",
      "text/plain": [
       "<Figure size 400x400 with 3 Axes>"
      ]
     },
     "metadata": {},
     "output_type": "display_data"
    }
   ],
   "source": [
    "_, [ax1, ax2, ax3]  = plt.subplots(3, 1, figsize=(4, 4), sharex=True, sharey=True)\n",
    "sns.histplot(ravar_genes[ravar_genes['TRAIT_CODE'].isin(overlap_traits)].groupby('Trait Ontology id')['Gene Symbol'].nunique() *-1, bins=[-5000] +[i for i in range(-50, -1)], discrete=True, ax=ax1, color='mediumseagreen', cumulative=True)\n",
    "sns.histplot(gwas_genes[gwas_genes.TRAIT_CODE.isin(overlap_traits)].groupby('TRAIT_CODE')['MAPPED_GENE'].nunique()*-1, bins=[-5000] + [i for i in range(-50, -1)], discrete=True, ax=ax2, cumulative=True)\n",
    "#plt.yscale('log')\n",
    "plt.xlabel('Minimum genes per trait')\n",
    "ax1.set_ylabel('Cumulative\\nnumber of traits')\n",
    "ax2.set_ylabel('Cumulative\\nnumber of traits')\n",
    "ax1.annotate('RAVAR', xy=(0.7, 0.8), xycoords='axes fraction', ha='center', fontsize=8)\n",
    "ax2.annotate('GWAS Catalog', xy=(0.7, 0.8), xycoords='axes fraction', ha='center', fontsize=8)\n",
    "\n",
    "overlap_counts = pd.concat([ravar_genes[ravar_genes['TRAIT_CODE'].isin(overlap_traits)].groupby('TRAIT_CODE')['Gene Symbol'].nunique(), gwas_genes[gwas_genes.TRAIT_CODE.isin(overlap_traits)].groupby('TRAIT_CODE')['MAPPED_GENE'].nunique()], axis=1)\n",
    "overlap_counts.columns = ['RAVAR', 'GWAS Catalog']\n",
    "overlap_counts['Min Genes'] = overlap_counts.min(axis=1)\n",
    "\n",
    "sns.histplot(overlap_counts['Min Genes']*-1, bins=[-5000] + [i for i in range(-50, -1)], discrete=True, cumulative=True, color='purple', ax=ax3)\n",
    "plt.xlabel('Minimum genes per trait')\n",
    "ax3.set_ylabel('Cumulative\\nnumber of traits')\n",
    "ax3.annotate('BOTH', xy=(0.7, 0.8), xycoords='axes fraction', ha='center', fontsize=8)\n",
    "plt.xlim(-50, -0.5)\n",
    "# reverse the x axis\n",
    "plt.gca().invert_xaxis()\n",
    "_ = plt.xticks([-50, -40, -30, -20, -10, -1], [50, 40, 30, 20, 10, 1])\n",
    "plt.savefig(os.path.join(figdir, 'genes_per_trait_cumulative_hists.jpg'), dpi=500, bbox_inches='tight')"
   ]
  },
  {
   "cell_type": "code",
   "execution_count": 42,
   "metadata": {
    "ExecuteTime": {
     "end_time": "2024-10-14T20:48:41.277106Z",
     "start_time": "2024-10-14T20:48:41.273028Z"
    }
   },
   "outputs": [],
   "source": [
    "min3_overlap_traits = overlap_counts[overlap_counts['Min Genes'] >2].index.values"
   ]
  },
  {
   "cell_type": "code",
   "execution_count": 43,
   "metadata": {
    "ExecuteTime": {
     "end_time": "2024-10-14T20:48:41.326054Z",
     "start_time": "2024-10-14T20:48:41.278057Z"
    }
   },
   "outputs": [],
   "source": [
    "with open(os.path.join('/cellar/users/snwright/Data/RareCommon/inputs/overlap_traits_Jun27_min3_genes.txt'), 'w') as f:\n",
    "    for trait in min3_overlap_traits:\n",
    "        f.write(trait + '\\n')"
   ]
  },
  {
   "cell_type": "markdown",
   "metadata": {},
   "source": [
    "## Trait Information"
   ]
  },
  {
   "cell_type": "code",
   "execution_count": 44,
   "metadata": {
    "ExecuteTime": {
     "end_time": "2024-10-14T20:48:41.331800Z",
     "start_time": "2024-10-14T20:48:41.326932Z"
    }
   },
   "outputs": [],
   "source": [
    "def collect_ancestor_counts(trait_set, efo):\n",
    "    efo_counts = defaultdict(int)\n",
    "    failed_traits = []\n",
    "    for trait in list(trait_set):\n",
    "        trait = trait.replace('_', ':')\n",
    "        if trait in efo.nodes:\n",
    "            for ancestor in list(nx.descendants(efo, trait)):\n",
    "                efo_counts[ancestor] += 1\n",
    "        else:\n",
    "            failed_traits.append(trait)\n",
    "    return efo_counts, failed_traits\n",
    "\n",
    "def parent_counts_min_genes(overlap_counts, efo, thresholds=[1,3,5,10]):\n",
    "    counts = []\n",
    "    for th in thresholds:\n",
    "        traits = overlap_counts[overlap_counts['Min Genes'] >= th].index.values\n",
    "        efo_counts, failed_traits = collect_ancestor_counts(traits, efo)\n",
    "        counts.append(efo_counts)\n",
    "    counts_df = pd.DataFrame({th:efo_counts for th, efo_counts in zip(thresholds, counts)})\n",
    "    return counts_df"
   ]
  },
  {
   "cell_type": "code",
   "execution_count": 45,
   "metadata": {
    "ExecuteTime": {
     "end_time": "2024-10-14T20:48:41.377051Z",
     "start_time": "2024-10-14T20:48:41.332673Z"
    }
   },
   "outputs": [],
   "source": [
    "all_counts = parent_counts_min_genes(overlap_counts, efo, thresholds=[1,3,5,10])"
   ]
  },
  {
   "cell_type": "code",
   "execution_count": 46,
   "metadata": {
    "ExecuteTime": {
     "end_time": "2024-10-14T20:48:41.381596Z",
     "start_time": "2024-10-14T20:48:41.378141Z"
    }
   },
   "outputs": [
    {
     "data": {
      "text/plain": [
       "1     284.0\n",
       "3     213.0\n",
       "5     175.0\n",
       "10    116.0\n",
       "Name: EFO:0000408, dtype: float64"
      ]
     },
     "execution_count": 46,
     "metadata": {},
     "output_type": "execute_result"
    }
   ],
   "source": [
    "all_counts.loc['EFO:0000408']"
   ]
  },
  {
   "cell_type": "code",
   "execution_count": 89,
   "metadata": {
    "ExecuteTime": {
     "end_time": "2024-10-14T20:57:52.719477Z",
     "start_time": "2024-10-14T20:57:52.051933Z"
    }
   },
   "outputs": [
    {
     "data": {
      "image/png": "[encoded data removed]",
      "text/plain": [
       "<Figure size 400x200 with 4 Axes>"
      ]
     },
     "metadata": {},
     "output_type": "display_data"
    }
   ],
   "source": [
    "def plot_category_totals(all_counts, trait, title=None, palette=['lightgrey', 'mediumseagreen', 'seagreen', 'darkgreen'], thresholds=[1,3,5,10], ax=None, **kwargs):\n",
    "    plot_df = all_counts.loc[trait].reset_index()\n",
    "    if title is not None:\n",
    "        ax.set_title(title)\n",
    "    sns.barplot(data=plot_df[plot_df['index'].isin(thresholds)], x='index', y=trait, hue='index', palette=palette, ax=ax, **kwargs)\n",
    "    \n",
    "    \n",
    "_, [ax4, ax1, ax2, ax3]  = plt.subplots(1,4, figsize=(4, 2), sharey=True, gridspec_kw={'wspace':0.1})\n",
    "plot_category_totals(all_counts, 'EFO:0000001', ax=ax4, legend=False, palette=['lightgrey', 'darkgrey', 'grey', 'black'], title='Total')\n",
    "plot_category_totals(all_counts, 'EFO:0000408', ax=ax1, legend=False, title='Disease')\n",
    "plot_category_totals(all_counts, 'EFO:0001444', title='Measurement', palette=['lightgrey', 'cornflowerblue', 'royalblue', 'mediumblue'], ax=ax2, legend=False)\n",
    "plot_category_totals(all_counts, 'HP:0000118', title='Phenotypic\\nabnormality', palette=['lightgrey', 'sandybrown', 'darkorange', 'chocolate'], ax=ax3, legend=False)\n",
    "for ax in [ax1, ax2, ax3, ax4]:\n",
    "#     ax.set_xticks([-0.3, -0.1, 0.1, 0.3], [1,3,5,10])\n",
    "    ax.set_xlabel('Min. genes\\nper trait')\n",
    "#     ax.set_xlim(-0.4, 0.4)\n",
    "ax1.set_ylabel('Number of traits')\n",
    "plt.savefig(os.path.join(figdir, 'updated_overlap_trait_counts_total_per_cat.png'), dpi=500, bbox_inches='tight')"
   ]
  },
  {
   "cell_type": "markdown",
   "metadata": {},
   "source": [
    "Subcategories"
   ]
  },
  {
   "cell_type": "code",
   "execution_count": 48,
   "metadata": {
    "ExecuteTime": {
     "end_time": "2024-10-14T20:48:42.204627Z",
     "start_time": "2024-10-14T20:48:42.200295Z"
    }
   },
   "outputs": [],
   "source": [
    "disease_cats = [x for x in efo.predecessors('EFO:0000408')]\n",
    "disease_counts = {x:all_counts.loc[x, (3)] for x in disease_cats if x in all_counts.index}\n",
    "disease_counts = {efo.nodes[x]['name']:disease_counts[x] for x in disease_counts}"
   ]
  },
  {
   "cell_type": "code",
   "execution_count": 49,
   "metadata": {
    "ExecuteTime": {
     "end_time": "2024-10-14T20:48:42.220908Z",
     "start_time": "2024-10-14T20:48:42.205529Z"
    }
   },
   "outputs": [],
   "source": [
    "def plot_subcategories(parent, efo, all_counts, th=3, display_min=10, **kwargs):\n",
    "    disease_cats = [x for x in efo.predecessors(parent)]\n",
    "    disease_counts = {x:all_counts.loc[x, (th)] for x in disease_cats if x in all_counts.index}\n",
    "    disease_counts = {efo.nodes[x]['name']:disease_counts[x] for x in disease_counts}\n",
    "    plot_df = pd.DataFrame({'Trait Count': disease_counts}).sort_values(by='Trait Count', ascending=False).reset_index()\n",
    "    sns.barplot(plot_df[plot_df['Trait Count'] >= display_min], y='index', x='Trait Count', **kwargs)\n",
    "    plt.ylabel('')\n",
    "    plt.xlim(0,48 )"
   ]
  },
  {
   "cell_type": "code",
   "execution_count": 90,
   "metadata": {
    "ExecuteTime": {
     "end_time": "2024-10-14T20:58:01.532933Z",
     "start_time": "2024-10-14T20:58:01.037442Z"
    }
   },
   "outputs": [
    {
     "data": {
      "image/png": "[encoded data removed]",
      "text/plain": [
       "<Figure size 100x300 with 1 Axes>"
      ]
     },
     "metadata": {},
     "output_type": "display_data"
    }
   ],
   "source": [
    "_ = plt.figure(figsize=(1, 3))\n",
    "plot_subcategories('EFO:0000408', efo, all_counts, color='mediumseagreen')\n",
    "plt.savefig(os.path.join(figdir, 'disease_counts.png'), dpi=400, bbox_inches='tight')"
   ]
  },
  {
   "cell_type": "code",
   "execution_count": 51,
   "metadata": {
    "ExecuteTime": {
     "end_time": "2024-10-14T20:48:43.157214Z",
     "start_time": "2024-10-14T20:48:42.865532Z"
    }
   },
   "outputs": [
    {
     "data": {
      "image/png": "[encoded data removed]",
      "text/plain": [
       "<Figure size 300x180 with 1 Axes>"
      ]
     },
     "metadata": {},
     "output_type": "display_data"
    }
   ],
   "source": [
    "_ = plt.figure(figsize=(3, 1.8))\n",
    "plot_subcategories('EFO:0001444', efo, all_counts, color='cornflowerblue', display_min=5)\n",
    "plt.savefig(os.path.join(figdir, 'measurement_counts.png'), dpi=400, bbox_inches='tight')"
   ]
  },
  {
   "cell_type": "code",
   "execution_count": 91,
   "metadata": {
    "ExecuteTime": {
     "end_time": "2024-10-14T20:58:08.914150Z",
     "start_time": "2024-10-14T20:58:08.684003Z"
    }
   },
   "outputs": [
    {
     "data": {
      "image/png": "[encoded data removed]",
      "text/plain": [
       "<Figure size 100x160 with 1 Axes>"
      ]
     },
     "metadata": {},
     "output_type": "display_data"
    }
   ],
   "source": [
    "_ = plt.figure(figsize=(1, 1.6))\n",
    "plot_subcategories('HP:0000118', efo, all_counts, color='sandybrown', display_min=5)\n",
    "plt.savefig(os.path.join(figdir, 'pheno_counts.png'), dpi=400, bbox_inches='tight')"
   ]
  },
  {
   "cell_type": "markdown",
   "metadata": {},
   "source": [
    "## Development"
   ]
  },
  {
   "cell_type": "code",
   "execution_count": 53,
   "metadata": {
    "ExecuteTime": {
     "end_time": "2024-10-14T20:48:43.535859Z",
     "start_time": "2024-10-14T20:48:43.445190Z"
    }
   },
   "outputs": [],
   "source": [
    "trait_info = pd.read_csv(os.path.join(datadir,'RAVAR' ,'trait_allinfo_06112024.txt'),sep='\\t')\n",
    "trait_info['TRAIT_CODE'] = trait_info['Trait Ontology id'].apply(lambda x: x.replace(\":\", \"_\") if type(x) == str else x)"
   ]
  },
  {
   "cell_type": "code",
   "execution_count": 54,
   "metadata": {
    "ExecuteTime": {
     "end_time": "2024-10-14T20:48:43.544920Z",
     "start_time": "2024-10-14T20:48:43.536883Z"
    }
   },
   "outputs": [
    {
     "data": {
      "text/html": [
       "<div>\n",
       "<style scoped>\n",
       "    .dataframe tbody tr th:only-of-type {\n",
       "        vertical-align: middle;\n",
       "    }\n",
       "\n",
       "    .dataframe tbody tr th {\n",
       "        vertical-align: top;\n",
       "    }\n",
       "\n",
       "    .dataframe thead th {\n",
       "        text-align: right;\n",
       "    }\n",
       "</style>\n",
       "<table border=\"1\" class=\"dataframe\">\n",
       "  <thead>\n",
       "    <tr style=\"text-align: right;\">\n",
       "      <th></th>\n",
       "      <th>Trait Ontology id</th>\n",
       "      <th>Trait Label</th>\n",
       "      <th>EFO description</th>\n",
       "      <th>EFO synonym</th>\n",
       "      <th>EFO Tree</th>\n",
       "      <th>TRAIT_CODE</th>\n",
       "    </tr>\n",
       "  </thead>\n",
       "  <tbody>\n",
       "    <tr>\n",
       "      <th>0</th>\n",
       "      <td>EFO:0009827</td>\n",
       "      <td>abnormal result of diagnostic imaging</td>\n",
       "      <td>NaN</td>\n",
       "      <td>NaN</td>\n",
       "      <td>abnormal result of diagnostic imaging|test res...</td>\n",
       "      <td>EFO_0009827</td>\n",
       "    </tr>\n",
       "    <tr>\n",
       "      <th>1</th>\n",
       "      <td>EFO:0004536</td>\n",
       "      <td>total blood protein measurement</td>\n",
       "      <td>NaN</td>\n",
       "      <td>serum total protein;TBP</td>\n",
       "      <td>total blood protein measurement|hematological ...</td>\n",
       "      <td>EFO_0004536</td>\n",
       "    </tr>\n",
       "    <tr>\n",
       "      <th>2</th>\n",
       "      <td>EFO:0004838</td>\n",
       "      <td>calcium measurement</td>\n",
       "      <td>NaN</td>\n",
       "      <td>calcium levels</td>\n",
       "      <td>calcium measurement|measurement|information en...</td>\n",
       "      <td>EFO_0004838</td>\n",
       "    </tr>\n",
       "    <tr>\n",
       "      <th>3</th>\n",
       "      <td>EFO:0004696</td>\n",
       "      <td>sex hormone-binding globulin measurement</td>\n",
       "      <td>NaN</td>\n",
       "      <td>SHBG levels;SHBG level</td>\n",
       "      <td>sex hormone-binding globulin measurement|glyco...</td>\n",
       "      <td>EFO_0004696</td>\n",
       "    </tr>\n",
       "    <tr>\n",
       "      <th>4</th>\n",
       "      <td>EFO:0004532</td>\n",
       "      <td>serum gamma-glutamyl transferase measurement</td>\n",
       "      <td>NaN</td>\n",
       "      <td>GGT measurement;Gamma gluatamyl transferase le...</td>\n",
       "      <td>serum gamma-glutamyl transferase measurement|l...</td>\n",
       "      <td>EFO_0004532</td>\n",
       "    </tr>\n",
       "  </tbody>\n",
       "</table>\n",
       "</div>"
      ],
      "text/plain": [
       "  Trait Ontology id                                   Trait Label  \\\n",
       "0       EFO:0009827         abnormal result of diagnostic imaging   \n",
       "1       EFO:0004536               total blood protein measurement   \n",
       "2       EFO:0004838                           calcium measurement   \n",
       "3       EFO:0004696      sex hormone-binding globulin measurement   \n",
       "4       EFO:0004532  serum gamma-glutamyl transferase measurement   \n",
       "\n",
       "  EFO description                                        EFO synonym  \\\n",
       "0             NaN                                                NaN   \n",
       "1             NaN                            serum total protein;TBP   \n",
       "2             NaN                                     calcium levels   \n",
       "3             NaN                             SHBG levels;SHBG level   \n",
       "4             NaN  GGT measurement;Gamma gluatamyl transferase le...   \n",
       "\n",
       "                                            EFO Tree   TRAIT_CODE  \n",
       "0  abnormal result of diagnostic imaging|test res...  EFO_0009827  \n",
       "1  total blood protein measurement|hematological ...  EFO_0004536  \n",
       "2  calcium measurement|measurement|information en...  EFO_0004838  \n",
       "3  sex hormone-binding globulin measurement|glyco...  EFO_0004696  \n",
       "4  serum gamma-glutamyl transferase measurement|l...  EFO_0004532  "
      ]
     },
     "execution_count": 54,
     "metadata": {},
     "output_type": "execute_result"
    }
   ],
   "source": [
    "trait_info.head()"
   ]
  },
  {
   "cell_type": "code",
   "execution_count": 55,
   "metadata": {
    "ExecuteTime": {
     "end_time": "2024-10-14T20:48:43.797317Z",
     "start_time": "2024-10-14T20:48:43.545895Z"
    }
   },
   "outputs": [
    {
     "name": "stderr",
     "output_type": "stream",
     "text": [
      "100%|██████████| 2005/2005 [00:00<00:00, 51558.67it/s]\n"
     ]
    }
   ],
   "source": [
    "efo_tree = defaultdict(int)\n",
    "trait_weights = defaultdict(int)\n",
    "failed = []\n",
    "for i in tqdm(range(len(trait_info))):\n",
    "    try:\n",
    "        all_trees = trait_info['EFO Tree'][i].split('; ')\n",
    "        unique_edges = set()\n",
    "        for tree in all_trees:\n",
    "            tree = tree.split('|')\n",
    "            for j in range(len(tree)-1):\n",
    "                unique_edges.add((tree[j], tree[j+1]))\n",
    "        for j in list(unique_edges):\n",
    "                efo_tree[j] += 1\n",
    "                trait_weights[j[1]] += 1\n",
    "    except AttributeError:\n",
    "        if type(trait_info['EFO Tree'][i]) == float:\n",
    "            failed.append(i)\n"
   ]
  },
  {
   "cell_type": "code",
   "execution_count": 56,
   "metadata": {
    "ExecuteTime": {
     "end_time": "2024-10-14T20:48:43.805049Z",
     "start_time": "2024-10-14T20:48:43.798420Z"
    }
   },
   "outputs": [],
   "source": [
    "efo_graph = pd.DataFrame.from_dict(efo_tree, orient='index', columns=['Count'])\n",
    "efo_graph['Child'] = [x[0] for x in efo_graph.index]\n",
    "efo_graph['Parent'] = [x[1] for x in efo_graph.index]"
   ]
  },
  {
   "cell_type": "code",
   "execution_count": 57,
   "metadata": {
    "ExecuteTime": {
     "end_time": "2024-10-14T20:48:43.848541Z",
     "start_time": "2024-10-14T20:48:43.806035Z"
    }
   },
   "outputs": [],
   "source": [
    "efo_graph.reset_index(drop=True).to_csv(os.path.join(outdir, 'efo_graph.csv'), index=False)\n"
   ]
  },
  {
   "cell_type": "code",
   "execution_count": 58,
   "metadata": {
    "ExecuteTime": {
     "end_time": "2024-10-14T20:48:43.857293Z",
     "start_time": "2024-10-14T20:48:43.849499Z"
    }
   },
   "outputs": [],
   "source": [
    "pd.DataFrame.from_dict(trait_weights, orient='index', columns=['Count']).reset_index(drop=False).to_csv(os.path.join(outdir, 'trait_weights.csv'), index=False)"
   ]
  },
  {
   "cell_type": "code",
   "execution_count": 59,
   "metadata": {
    "ExecuteTime": {
     "end_time": "2024-10-14T20:48:43.868583Z",
     "start_time": "2024-10-14T20:48:43.858205Z"
    }
   },
   "outputs": [
    {
     "name": "stdout",
     "output_type": "stream",
     "text": [
      "Not mapped to EFO: 10 / 2005\n",
      "     Trait Ontology id                                        Trait Label\n",
      "235       Orphanet:846                                  Alpha-thalassemia\n",
      "348     Orphanet:79161                Disorder of carbohydrate metabolism\n",
      "727      Orphanet:2686                                 Cyclic neutropenia\n",
      "747       Orphanet:332             Congenital intrinsic factor deficiency\n",
      "928      Orphanet:2543                          Microphthalmia - cataract\n",
      "1176   Orphanet:285014  Rare disease with thoracic aortic aneurysm and...\n",
      "1400   Orphanet:331244  Other immunodeficiency syndrome with predomina...\n",
      "1439     Orphanet:1479  Atrial septal defect - atrioventricular conduc...\n",
      "1442   Orphanet:220448  Macrothrombocytopenia with mitral valve insuff...\n",
      "1639   Orphanet:227535                           Hereditary breast cancer\n",
      "Number of associations of unmapped traits\n"
     ]
    },
    {
     "data": {
      "text/plain": [
       "Trait Ontology id\n",
       "Orphanet:846       65\n",
       "Orphanet:79161     26\n",
       "Orphanet:332       13\n",
       "Orphanet:2543       9\n",
       "Orphanet:2686       7\n",
       "Orphanet:331244     3\n",
       "Orphanet:220448     3\n",
       "Orphanet:285014     2\n",
       "Orphanet:1479       2\n",
       "Name: count, dtype: int64"
      ]
     },
     "execution_count": 59,
     "metadata": {},
     "output_type": "execute_result"
    }
   ],
   "source": [
    "print('Not mapped to EFO:', len(failed), '/', len(trait_info))\n",
    "print(trait_info.iloc[failed, 0:2])\n",
    "print('Number of associations of unmapped traits')\n",
    "ravar_genes[ravar_genes['Trait Ontology id'].isin(trait_info.iloc[failed, 0])]['Trait Ontology id'].value_counts()"
   ]
  },
  {
   "cell_type": "markdown",
   "metadata": {},
   "source": [
    "## Visualize available diseases"
   ]
  },
  {
   "cell_type": "code",
   "execution_count": 60,
   "metadata": {
    "ExecuteTime": {
     "end_time": "2024-10-14T20:48:43.884559Z",
     "start_time": "2024-10-14T20:48:43.870471Z"
    }
   },
   "outputs": [],
   "source": [
    "G = nx.from_pandas_edgelist(efo_graph, source='Parent', target='Child', edge_attr='Count', create_using=nx.DiGraph())"
   ]
  },
  {
   "cell_type": "code",
   "execution_count": 93,
   "metadata": {
    "ExecuteTime": {
     "end_time": "2024-10-14T20:58:26.690891Z",
     "start_time": "2024-10-14T20:58:26.684042Z"
    }
   },
   "outputs": [],
   "source": [
    "def get_all_leaves(G, start_node):\n",
    "    all_nodes = list(nx.dfs_preorder_nodes(G, start_node))\n",
    "    leaves = [node for node in all_nodes if G.out_degree(node) == 0]\n",
    "    return leaves\n",
    "\n",
    "def get_rv_per_trait(trait_label, trait_info, ravar_genes):\n",
    "    try:\n",
    "        trait_id = trait_info[trait_info['Trait Label'] == trait_label]['Trait Ontology id'].values[0]\n",
    "    except:\n",
    "        print('Trait not found:', trait_label)\n",
    "        return pd.DataFrame()\n",
    "    trait_rv = ravar_genes[ravar_genes['Trait Ontology id'] == trait_id]\n",
    "    return trait_rv.drop_duplicates(subset='Ensembl ID')\n",
    "\n",
    "def get_rvs_per_leaf(G, start_node, trait_info, ravar_genes):\n",
    "    leaves = get_all_leaves(G, start_node)\n",
    "    rvs = {}\n",
    "    for leaf in leaves:\n",
    "        rvs[leaf] = len(get_rv_per_trait(leaf, trait_info, ravar_genes))\n",
    "    return pd.DataFrame({'RVCount': rvs})\n",
    "\n",
    "def get_traits_with_x_rvs(G, parent, trait_info, ravar_genes, x_list=[1]):\n",
    "    counts = get_rvs_per_leaf(G, parent, trait_info, ravar_genes)\n",
    "    x_values = [len(counts[counts['RVCount'] >= x]) for x in x_list]\n",
    "    return x_values\n",
    "\n",
    "def get_traits_per_leaf_from_overlap(G, parent, trait_info, overlap_counts, x_list=[1]):\n",
    "    leaves = get_all_leaves(G, parent)\n",
    "    leaf_map = dict(zip(trait_info['Trait Label'], trait_info['TRAIT_CODE']))\n",
    "    leaves_in_overlap = [leaf_map[leaf] for leaf in leaves if (leaf in leaf_map) and (leaf_map[leaf] in overlap_counts.index)]\n",
    "    overlaps = overlap_counts.loc[leaves_in_overlap]\n",
    "    x_values = [len(overlaps[overlaps['Min Genes'] >= x]) for x in x_list]\n",
    "    return x_values"
   ]
  },
  {
   "cell_type": "code",
   "execution_count": 98,
   "metadata": {
    "ExecuteTime": {
     "end_time": "2024-10-14T20:59:50.470495Z",
     "start_time": "2024-10-14T20:59:50.461829Z"
    }
   },
   "outputs": [],
   "source": [
    "def evaluate_available_traits(source, overlap_counts=None, palette=['lightgrey', 'mediumseagreen', 'seagreen', 'darkgreen']):\n",
    "    disease_categories = list(G.successors(source))\n",
    "    category_counts = {}\n",
    "    print('Getting Category Counts')\n",
    "    \n",
    "    for category in disease_categories:\n",
    "        if overlap_counts is not None:\n",
    "            category_counts[category] = get_traits_per_leaf_from_overlap(G, category, trait_info, overlap_counts, x_list=[1, 2, 3,5,10,20])\n",
    "        else:\n",
    "            category_counts[category] = get_traits_with_x_rvs(G, category, trait_info, ravar_genes, x_list=[1, 2, 3,5,10,20])\n",
    "    category_counts_df = pd.DataFrame.from_dict(category_counts, columns=[1, 2, 3, 5, 10, 20], orient='index')\n",
    "    category_counts_df['Trait'] = category_counts_df.index\n",
    "    category_counts_df = category_counts_df.melt(id_vars='Trait', var_name='th', value_name='Count')\n",
    "    print('Getting total counts')\n",
    "    if overlap_counts is not None:\n",
    "        total_disease = get_traits_per_leaf_from_overlap(G, source, trait_info, overlap_counts, x_list=[1, 2, 3,5,10,20])\n",
    "    else:\n",
    "        total_disease = get_traits_with_x_rvs(G, source, trait_info, ravar_genes, x_list=[1, 2, 3,5,10,20])\n",
    "    \n",
    "    total_disease_df = pd.DataFrame({'Total': total_disease, 'th': [1,2,3,5, 10,20], 'Trait':'Total'})\n",
    "    print('Plotting')\n",
    "    _, [ax1, ax2] = plt.subplots(2,1, figsize=(3, 5), height_ratios=[0.1, 1])\n",
    "    sns.barplot(data=total_disease_df[total_disease_df['th'].isin([1,3,5,10])], y='Trait', x='Total', hue='th', palette=palette, ax=ax1)\n",
    "    sns.barplot(data=category_counts_df[category_counts_df['th'].isin([1,3,5,10])].sort_values(by='Count', ascending=False), y='Trait', x='Count', hue='th', palette=palette, ax=ax2)\n",
    "    return category_counts_df\n",
    "    \n",
    "def plot_category_totals(source, overlap_counts=None, palette=['lightgrey', 'mediumseagreen', 'seagreen', 'darkgreen'], ax=None, **kwargs):\n",
    "    if overlap_counts is not None:\n",
    "        total_disease = get_traits_per_leaf_from_overlap(G, source, trait_info, overlap_counts, x_list=[1, 2, 3,5,10,20])\n",
    "    else:\n",
    "        total_disease = get_traits_with_x_rvs(G, source, trait_info, ravar_genes, x_list=[1, 2, 3,5,10,20])\n",
    "    total_disease_df = pd.DataFrame({'Total': total_disease, 'th': [1,2,3,5, 10,20], 'Trait':'Total'})\n",
    "    print(total_disease_df)\n",
    "    sns.barplot(data=total_disease_df[total_disease_df['th'].isin([1,3,5,10])], x='Trait', y='Total', hue='th', palette=palette, ax=ax, **kwargs)"
   ]
  },
  {
   "cell_type": "code",
   "execution_count": 97,
   "metadata": {
    "ExecuteTime": {
     "end_time": "2024-10-14T20:58:45.626629Z",
     "start_time": "2024-10-14T20:58:45.021829Z"
    }
   },
   "outputs": [
    {
     "name": "stdout",
     "output_type": "stream",
     "text": [
      "   Total  th  Trait\n",
      "0    142   1  Total\n",
      "1    121   2  Total\n",
      "2    104   3  Total\n",
      "3     80   5  Total\n",
      "4     45  10  Total\n",
      "5     17  20  Total\n",
      "   Total  th  Trait\n",
      "0    407   1  Total\n",
      "1    285   2  Total\n",
      "2    238   3  Total\n",
      "3    186   5  Total\n",
      "4    125  10  Total\n",
      "5     74  20  Total\n",
      "   Total  th  Trait\n",
      "0    211   1  Total\n",
      "1    125   2  Total\n",
      "2    105   3  Total\n",
      "3     84   5  Total\n",
      "4     69  10  Total\n",
      "5     54  20  Total\n",
      "   Total  th  Trait\n",
      "0     44   1  Total\n",
      "1     33   2  Total\n",
      "2     25   3  Total\n",
      "3     18   5  Total\n",
      "4     10  10  Total\n",
      "5      3  20  Total\n"
     ]
    },
    {
     "data": {
      "image/png": "[encoded data removed]",
      "text/plain": [
       "<Figure size 400x200 with 4 Axes>"
      ]
     },
     "metadata": {},
     "output_type": "display_data"
    }
   ],
   "source": [
    "_, [ax4, ax1, ax2, ax3]  = plt.subplots(1,4, figsize=(4, 2), sharey=True, gridspec_kw={'wspace':0.1})\n",
    "plot_category_totals('disease', overlap_counts=overlap_counts, ax=ax1, legend=False, )\n",
    "plot_category_totals('experimental factor', overlap_counts=overlap_counts, ax=ax4, legend=False, palette=['lightgrey', 'darkgrey', 'grey', 'black'])\n",
    "plot_category_totals('measurement', overlap_counts=overlap_counts, palette=['lightgrey', 'cornflowerblue', 'royalblue', 'mediumblue'], ax=ax2, legend=False)\n",
    "plot_category_totals('Phenotypic abnormality', overlap_counts=overlap_counts, palette=['lightgrey', 'sandybrown', 'darkorange', 'chocolate'], ax=ax3, legend=False)\n",
    "for ax in [ax1, ax2, ax3, ax4]:\n",
    "    ax.set_xticks([-0.3, -0.1, 0.1, 0.3], [1,3,5,10])\n",
    "    ax.set_xlabel('Min. genes\\nper trait')\n",
    "    ax.set_xlim(-0.4, 0.4)\n",
    "ax1.set_ylabel('Number of traits')\n",
    "for i in range(4):\n",
    "    [ax1, ax2, ax3, ax4][i].annotate(['Disease', 'Measurement', 'Phenotypic\\nAbnormality', 'Total'][i], xy=(0.5, 0.98), xycoords='axes fraction', ha='center', va='top', fontsize=8)\n",
    "plt.ylim(0, 450)\n",
    "plt.savefig(os.path.join(figdir, 'overlap_trait_counts_total_per_cat.png'), dpi=500, bbox_inches='tight')"
   ]
  },
  {
   "cell_type": "code",
   "execution_count": 69,
   "metadata": {
    "ExecuteTime": {
     "end_time": "2024-10-14T20:53:10.339996Z",
     "start_time": "2024-10-14T20:53:10.219753Z"
    }
   },
   "outputs": [
    {
     "name": "stdout",
     "output_type": "stream",
     "text": [
      "   Total  th  Trait\n",
      "0    407   1  Total\n",
      "1    285   2  Total\n",
      "2    238   3  Total\n",
      "3    186   5  Total\n",
      "4    125  10  Total\n",
      "5     74  20  Total\n"
     ]
    },
    {
     "data": {
      "image/png": "[encoded data removed]",
      "text/plain": [
       "<Figure size 640x480 with 1 Axes>"
      ]
     },
     "metadata": {},
     "output_type": "display_data"
    }
   ],
   "source": [
    "plot_category_totals('experimental factor', overlap_counts=overlap_counts, legend=False) "
   ]
  },
  {
   "cell_type": "code",
   "execution_count": 99,
   "metadata": {
    "ExecuteTime": {
     "end_time": "2024-10-14T20:59:58.651873Z",
     "start_time": "2024-10-14T20:59:56.895308Z"
    }
   },
   "outputs": [
    {
     "name": "stdout",
     "output_type": "stream",
     "text": [
      "Getting Category Counts\n",
      "Getting total counts\n",
      "Plotting\n"
     ]
    },
    {
     "data": {
      "image/png": "[encoded data removed]",
      "text/plain": [
       "<Figure size 300x500 with 2 Axes>"
      ]
     },
     "metadata": {},
     "output_type": "display_data"
    }
   ],
   "source": [
    "disease_df = evaluate_available_traits('disease', overlap_counts=overlap_counts)\n",
    "plt.savefig(os.path.join(figdir, 'disease_overlap_trait_counts_threshold.png'), dpi=500, bbox_inches='tight')"
   ]
  },
  {
   "cell_type": "code",
   "execution_count": 79,
   "metadata": {
    "ExecuteTime": {
     "end_time": "2024-10-14T20:53:31.563086Z",
     "start_time": "2024-10-14T20:53:31.549606Z"
    }
   },
   "outputs": [],
   "source": [
    "disease_df[disease_df.th == 3].to_csv(os.path.join(outdir, 'disease_traits_with_3_rvs.csv'), index=False)"
   ]
  },
  {
   "cell_type": "code",
   "execution_count": 103,
   "metadata": {
    "ExecuteTime": {
     "end_time": "2024-10-14T21:18:07.057398Z",
     "start_time": "2024-10-14T21:18:05.697041Z"
    }
   },
   "outputs": [
    {
     "name": "stdout",
     "output_type": "stream",
     "text": [
      "Getting Category Counts\n",
      "Getting total counts\n",
      "Plotting\n"
     ]
    },
    {
     "data": {
      "image/png": "[encoded data removed]",
      "text/plain": [
       "<Figure size 300x500 with 2 Axes>"
      ]
     },
     "metadata": {},
     "output_type": "display_data"
    }
   ],
   "source": [
    "abnorm_df = evaluate_available_traits('Phenotypic abnormality', overlap_counts=overlap_counts,palette=['lightgrey', 'lightcoral', 'indianred', 'darkred'] )\n",
    "plt.savefig(os.path.join(figdir, 'pheno_overlap_trait_counts_threshold.png'), dpi=500, bbox_inches='tight')\n",
    "\n"
   ]
  },
  {
   "cell_type": "code",
   "execution_count": 73,
   "metadata": {
    "ExecuteTime": {
     "end_time": "2024-10-14T20:53:12.235183Z",
     "start_time": "2024-10-14T20:53:12.230913Z"
    }
   },
   "outputs": [],
   "source": [
    "abnorm_df[abnorm_df.th == 3].to_csv(os.path.join(outdir, 'abnormality_traits_with_3_rvs.csv'), index=False)"
   ]
  },
  {
   "cell_type": "code",
   "execution_count": 102,
   "metadata": {
    "ExecuteTime": {
     "end_time": "2024-10-14T21:17:58.961840Z",
     "start_time": "2024-10-14T21:17:56.425790Z"
    }
   },
   "outputs": [
    {
     "name": "stdout",
     "output_type": "stream",
     "text": [
      "Getting Category Counts\n",
      "Getting total counts\n",
      "Plotting\n"
     ]
    },
    {
     "data": {
      "image/png": "[encoded data removed]",
      "text/plain": [
       "<Figure size 300x500 with 2 Axes>"
      ]
     },
     "metadata": {},
     "output_type": "display_data"
    }
   ],
   "source": [
    "measure_df = evaluate_available_traits('measurement', overlap_counts=overlap_counts,palette=['lightgrey', 'cornflowerblue', 'royalblue', 'mediumblue'] )\n",
    "plt.savefig(os.path.join(figdir, 'measurement_overlap_trait_counts_threshold.png'), dpi=500, bbox_inches='tight')"
   ]
  },
  {
   "cell_type": "code",
   "execution_count": 75,
   "metadata": {
    "ExecuteTime": {
     "end_time": "2024-10-14T20:53:13.790624Z",
     "start_time": "2024-10-14T20:53:13.785105Z"
    }
   },
   "outputs": [],
   "source": [
    "measure_df[measure_df.th == 3].to_csv(os.path.join(outdir, 'measure_traits_with_3_rvs.csv'), index=False)"
   ]
  },
  {
   "cell_type": "code",
   "execution_count": 76,
   "metadata": {
    "ExecuteTime": {
     "end_time": "2024-10-14T20:53:28.886968Z",
     "start_time": "2024-10-14T20:53:13.792712Z"
    }
   },
   "outputs": [
    {
     "name": "stderr",
     "output_type": "stream",
     "text": [
      "100%|██████████| 1468/1468 [00:15<00:00, 97.31it/s] \n"
     ]
    }
   ],
   "source": [
    "for trait in tqdm(ravar_genes['Trait Ontology id'].unique()):\n",
    "    gda = ravar_genes.loc[ravar_genes['Trait Ontology id'] == trait, ('Gene Symbol', 'Ensembl ID', 'P-value')]\n",
    "    trait_out = trait.replace(':', '_')\n",
    "    gda.to_csv(os.path.join('/cellar/users/snwright/Data/RareCommon/inputs/', trait_out+ '_RV.txt'), sep='\\t', index=False)"
   ]
  },
  {
   "cell_type": "code",
   "execution_count": 77,
   "metadata": {
    "ExecuteTime": {
     "end_time": "2024-10-14T20:53:28.896958Z",
     "start_time": "2024-10-14T20:53:28.889889Z"
    }
   },
   "outputs": [
    {
     "data": {
      "text/html": [
       "<div>\n",
       "<style scoped>\n",
       "    .dataframe tbody tr th:only-of-type {\n",
       "        vertical-align: middle;\n",
       "    }\n",
       "\n",
       "    .dataframe tbody tr th {\n",
       "        vertical-align: top;\n",
       "    }\n",
       "\n",
       "    .dataframe thead th {\n",
       "        text-align: right;\n",
       "    }\n",
       "</style>\n",
       "<table border=\"1\" class=\"dataframe\">\n",
       "  <thead>\n",
       "    <tr style=\"text-align: right;\">\n",
       "      <th></th>\n",
       "      <th>Trait Ontology id</th>\n",
       "      <th>Trait Label</th>\n",
       "      <th>EFO description</th>\n",
       "      <th>EFO synonym</th>\n",
       "      <th>EFO Tree</th>\n",
       "      <th>TRAIT_CODE</th>\n",
       "    </tr>\n",
       "  </thead>\n",
       "  <tbody>\n",
       "    <tr>\n",
       "      <th>577</th>\n",
       "      <td>CHEBI:25722</td>\n",
       "      <td>orotidine</td>\n",
       "      <td>NaN</td>\n",
       "      <td>NaN</td>\n",
       "      <td>orotidine|organic heterocyclic compound|chemic...</td>\n",
       "      <td>CHEBI_25722</td>\n",
       "    </tr>\n",
       "  </tbody>\n",
       "</table>\n",
       "</div>"
      ],
      "text/plain": [
       "    Trait Ontology id Trait Label EFO description EFO synonym  \\\n",
       "577       CHEBI:25722   orotidine             NaN         NaN   \n",
       "\n",
       "                                              EFO Tree   TRAIT_CODE  \n",
       "577  orotidine|organic heterocyclic compound|chemic...  CHEBI_25722  "
      ]
     },
     "execution_count": 77,
     "metadata": {},
     "output_type": "execute_result"
    }
   ],
   "source": [
    "trait_info[trait_info['Trait Ontology id'] == 'CHEBI:25722']"
   ]
  },
  {
   "cell_type": "code",
   "execution_count": 78,
   "metadata": {
    "ExecuteTime": {
     "end_time": "2024-10-14T20:53:28.919757Z",
     "start_time": "2024-10-14T20:53:28.897967Z"
    }
   },
   "outputs": [
    {
     "data": {
      "text/html": [
       "<div>\n",
       "<style scoped>\n",
       "    .dataframe tbody tr th:only-of-type {\n",
       "        vertical-align: middle;\n",
       "    }\n",
       "\n",
       "    .dataframe tbody tr th {\n",
       "        vertical-align: top;\n",
       "    }\n",
       "\n",
       "    .dataframe thead th {\n",
       "        text-align: right;\n",
       "    }\n",
       "</style>\n",
       "<table border=\"1\" class=\"dataframe\">\n",
       "  <thead>\n",
       "    <tr style=\"text-align: right;\">\n",
       "      <th></th>\n",
       "      <th>Gene Symbol</th>\n",
       "      <th>Ensembl ID</th>\n",
       "      <th>Gene Type</th>\n",
       "      <th>CHR</th>\n",
       "      <th>Location</th>\n",
       "      <th>Reported Trait</th>\n",
       "      <th>Trait Label</th>\n",
       "      <th>Trait Ontology id</th>\n",
       "      <th>EFO synonym</th>\n",
       "      <th>P-value</th>\n",
       "      <th>TRAIT_CODE</th>\n",
       "    </tr>\n",
       "  </thead>\n",
       "  <tbody>\n",
       "    <tr>\n",
       "      <th>4788</th>\n",
       "      <td>ANKRD9</td>\n",
       "      <td>ENSG00000156381</td>\n",
       "      <td>protein_coding</td>\n",
       "      <td>14</td>\n",
       "      <td>chr14:102501767-102509799</td>\n",
       "      <td>Orotidine</td>\n",
       "      <td>orotidine</td>\n",
       "      <td>CHEBI:25722</td>\n",
       "      <td>NaN</td>\n",
       "      <td>1.500000e-11</td>\n",
       "      <td>CHEBI_25722</td>\n",
       "    </tr>\n",
       "    <tr>\n",
       "      <th>13509</th>\n",
       "      <td>CALCOCO2</td>\n",
       "      <td>ENSG00000136436</td>\n",
       "      <td>protein_coding</td>\n",
       "      <td>17</td>\n",
       "      <td>chr17:48831018-48866522</td>\n",
       "      <td>Orotidine</td>\n",
       "      <td>orotidine</td>\n",
       "      <td>CHEBI:25722</td>\n",
       "      <td>NaN</td>\n",
       "      <td>3.600000e-10</td>\n",
       "      <td>CHEBI_25722</td>\n",
       "    </tr>\n",
       "    <tr>\n",
       "      <th>13584</th>\n",
       "      <td>CAMK2N1</td>\n",
       "      <td>ENSG00000162545</td>\n",
       "      <td>protein_coding</td>\n",
       "      <td>1</td>\n",
       "      <td>chr1:20482391-20486210</td>\n",
       "      <td>Orotidine</td>\n",
       "      <td>orotidine</td>\n",
       "      <td>CHEBI:25722</td>\n",
       "      <td>NaN</td>\n",
       "      <td>2.500000e-10</td>\n",
       "      <td>CHEBI_25722</td>\n",
       "    </tr>\n",
       "    <tr>\n",
       "      <th>14565</th>\n",
       "      <td>CCK</td>\n",
       "      <td>ENSG00000187094</td>\n",
       "      <td>protein_coding</td>\n",
       "      <td>3</td>\n",
       "      <td>chr3:42257825-42266185</td>\n",
       "      <td>Orotidine</td>\n",
       "      <td>orotidine</td>\n",
       "      <td>CHEBI:25722</td>\n",
       "      <td>NaN</td>\n",
       "      <td>1.700000e-13</td>\n",
       "      <td>CHEBI_25722</td>\n",
       "    </tr>\n",
       "    <tr>\n",
       "      <th>15866</th>\n",
       "      <td>CEP126</td>\n",
       "      <td>ENSG00000110318</td>\n",
       "      <td>protein_coding</td>\n",
       "      <td>11</td>\n",
       "      <td>chr11:101915010-102001062</td>\n",
       "      <td>Orotidine</td>\n",
       "      <td>orotidine</td>\n",
       "      <td>CHEBI:25722</td>\n",
       "      <td>NaN</td>\n",
       "      <td>1.700000e-11</td>\n",
       "      <td>CHEBI_25722</td>\n",
       "    </tr>\n",
       "    <tr>\n",
       "      <th>18382</th>\n",
       "      <td>COPA</td>\n",
       "      <td>ENSG00000122218</td>\n",
       "      <td>protein_coding</td>\n",
       "      <td>1</td>\n",
       "      <td>chr1:160288594-160343566</td>\n",
       "      <td>Orotidine</td>\n",
       "      <td>orotidine</td>\n",
       "      <td>CHEBI:25722</td>\n",
       "      <td>NaN</td>\n",
       "      <td>2.400000e-13</td>\n",
       "      <td>CHEBI_25722</td>\n",
       "    </tr>\n",
       "    <tr>\n",
       "      <th>19488</th>\n",
       "      <td>CXCL3</td>\n",
       "      <td>ENSG00000163734</td>\n",
       "      <td>protein_coding</td>\n",
       "      <td>4</td>\n",
       "      <td>chr4:74036589-74038807</td>\n",
       "      <td>Orotidine</td>\n",
       "      <td>orotidine</td>\n",
       "      <td>CHEBI:25722</td>\n",
       "      <td>NaN</td>\n",
       "      <td>1.900000e-11</td>\n",
       "      <td>CHEBI_25722</td>\n",
       "    </tr>\n",
       "    <tr>\n",
       "      <th>19489</th>\n",
       "      <td>CXCL3</td>\n",
       "      <td>ENSG00000163734</td>\n",
       "      <td>protein_coding</td>\n",
       "      <td>4</td>\n",
       "      <td>chr4:74036589-74038807</td>\n",
       "      <td>Orotidine</td>\n",
       "      <td>orotidine</td>\n",
       "      <td>CHEBI:25722</td>\n",
       "      <td>NaN</td>\n",
       "      <td>6.900000e-11</td>\n",
       "      <td>CHEBI_25722</td>\n",
       "    </tr>\n",
       "    <tr>\n",
       "      <th>19777</th>\n",
       "      <td>CYP2C19</td>\n",
       "      <td>ENSG00000165841</td>\n",
       "      <td>protein_coding</td>\n",
       "      <td>10</td>\n",
       "      <td>chr10:94762681-94855547</td>\n",
       "      <td>Orotidine</td>\n",
       "      <td>orotidine</td>\n",
       "      <td>CHEBI:25722</td>\n",
       "      <td>NaN</td>\n",
       "      <td>8.700000e-11</td>\n",
       "      <td>CHEBI_25722</td>\n",
       "    </tr>\n",
       "    <tr>\n",
       "      <th>21117</th>\n",
       "      <td>DNAI7</td>\n",
       "      <td>ENSG00000118307</td>\n",
       "      <td>protein_coding</td>\n",
       "      <td>12</td>\n",
       "      <td>chr12:25108289-25195162</td>\n",
       "      <td>Orotidine</td>\n",
       "      <td>orotidine</td>\n",
       "      <td>CHEBI:25722</td>\n",
       "      <td>NaN</td>\n",
       "      <td>5.200000e-14</td>\n",
       "      <td>CHEBI_25722</td>\n",
       "    </tr>\n",
       "    <tr>\n",
       "      <th>21685</th>\n",
       "      <td>DPYSL5</td>\n",
       "      <td>ENSG00000157851</td>\n",
       "      <td>protein_coding</td>\n",
       "      <td>2</td>\n",
       "      <td>chr2:26847747-26950351</td>\n",
       "      <td>Orotidine</td>\n",
       "      <td>orotidine</td>\n",
       "      <td>CHEBI:25722</td>\n",
       "      <td>NaN</td>\n",
       "      <td>2.700000e-12</td>\n",
       "      <td>CHEBI_25722</td>\n",
       "    </tr>\n",
       "    <tr>\n",
       "      <th>26105</th>\n",
       "      <td>FYTTD1</td>\n",
       "      <td>ENSG00000122068</td>\n",
       "      <td>protein_coding</td>\n",
       "      <td>3</td>\n",
       "      <td>chr3:197737179-197787596</td>\n",
       "      <td>Orotidine</td>\n",
       "      <td>orotidine</td>\n",
       "      <td>CHEBI:25722</td>\n",
       "      <td>NaN</td>\n",
       "      <td>1.600000e-10</td>\n",
       "      <td>CHEBI_25722</td>\n",
       "    </tr>\n",
       "    <tr>\n",
       "      <th>27852</th>\n",
       "      <td>GOLPH3L</td>\n",
       "      <td>ENSG00000143457</td>\n",
       "      <td>protein_coding</td>\n",
       "      <td>1</td>\n",
       "      <td>chr1:150646230-150697154</td>\n",
       "      <td>Orotidine</td>\n",
       "      <td>orotidine</td>\n",
       "      <td>CHEBI:25722</td>\n",
       "      <td>NaN</td>\n",
       "      <td>3.000000e-15</td>\n",
       "      <td>CHEBI_25722</td>\n",
       "    </tr>\n",
       "    <tr>\n",
       "      <th>30085</th>\n",
       "      <td>HEXIM2</td>\n",
       "      <td>ENSG00000168517</td>\n",
       "      <td>protein_coding</td>\n",
       "      <td>17</td>\n",
       "      <td>chr17:45160700-45170040</td>\n",
       "      <td>Orotidine</td>\n",
       "      <td>orotidine</td>\n",
       "      <td>CHEBI:25722</td>\n",
       "      <td>NaN</td>\n",
       "      <td>4.200000e-15</td>\n",
       "      <td>CHEBI_25722</td>\n",
       "    </tr>\n",
       "    <tr>\n",
       "      <th>32695</th>\n",
       "      <td>INSYN2A</td>\n",
       "      <td>ENSG00000188916</td>\n",
       "      <td>protein_coding</td>\n",
       "      <td>10</td>\n",
       "      <td>chr10:127135426-127196591</td>\n",
       "      <td>Orotidine</td>\n",
       "      <td>orotidine</td>\n",
       "      <td>CHEBI:25722</td>\n",
       "      <td>NaN</td>\n",
       "      <td>1.700000e-15</td>\n",
       "      <td>CHEBI_25722</td>\n",
       "    </tr>\n",
       "    <tr>\n",
       "      <th>33071</th>\n",
       "      <td>ISM1</td>\n",
       "      <td>ENSG00000101230</td>\n",
       "      <td>protein_coding</td>\n",
       "      <td>20</td>\n",
       "      <td>chr20:13221274-13300651</td>\n",
       "      <td>Orotidine</td>\n",
       "      <td>orotidine</td>\n",
       "      <td>CHEBI:25722</td>\n",
       "      <td>NaN</td>\n",
       "      <td>5.600000e-12</td>\n",
       "      <td>CHEBI_25722</td>\n",
       "    </tr>\n",
       "    <tr>\n",
       "      <th>33145</th>\n",
       "      <td>ITGA2</td>\n",
       "      <td>ENSG00000164171</td>\n",
       "      <td>protein_coding</td>\n",
       "      <td>5</td>\n",
       "      <td>chr5:52989340-53094779</td>\n",
       "      <td>Orotidine</td>\n",
       "      <td>orotidine</td>\n",
       "      <td>CHEBI:25722</td>\n",
       "      <td>NaN</td>\n",
       "      <td>2.300000e-10</td>\n",
       "      <td>CHEBI_25722</td>\n",
       "    </tr>\n",
       "    <tr>\n",
       "      <th>36901</th>\n",
       "      <td>LILRA2</td>\n",
       "      <td>ENSG00000278634</td>\n",
       "      <td>protein_coding</td>\n",
       "      <td>19</td>\n",
       "      <td>chr19:54503437-54518077</td>\n",
       "      <td>Orotidine</td>\n",
       "      <td>orotidine</td>\n",
       "      <td>CHEBI:25722</td>\n",
       "      <td>NaN</td>\n",
       "      <td>6.000000e-19</td>\n",
       "      <td>CHEBI_25722</td>\n",
       "    </tr>\n",
       "    <tr>\n",
       "      <th>39213</th>\n",
       "      <td>MAB21L2</td>\n",
       "      <td>ENSG00000181541</td>\n",
       "      <td>protein_coding</td>\n",
       "      <td>4</td>\n",
       "      <td>chr4:150582151-150584693</td>\n",
       "      <td>Orotidine</td>\n",
       "      <td>orotidine</td>\n",
       "      <td>CHEBI:25722</td>\n",
       "      <td>NaN</td>\n",
       "      <td>6.100000e-13</td>\n",
       "      <td>CHEBI_25722</td>\n",
       "    </tr>\n",
       "    <tr>\n",
       "      <th>45051</th>\n",
       "      <td>NIT2</td>\n",
       "      <td>ENSG00000114021</td>\n",
       "      <td>protein_coding</td>\n",
       "      <td>3</td>\n",
       "      <td>chr3:100334739-100361635</td>\n",
       "      <td>Orotidine</td>\n",
       "      <td>orotidine</td>\n",
       "      <td>CHEBI:25722</td>\n",
       "      <td>NaN</td>\n",
       "      <td>4.900000e-14</td>\n",
       "      <td>CHEBI_25722</td>\n",
       "    </tr>\n",
       "    <tr>\n",
       "      <th>46061</th>\n",
       "      <td>NR3C1</td>\n",
       "      <td>ENSG00000113580</td>\n",
       "      <td>protein_coding</td>\n",
       "      <td>5</td>\n",
       "      <td>chr5:143277931-143435512</td>\n",
       "      <td>Orotidine</td>\n",
       "      <td>orotidine</td>\n",
       "      <td>CHEBI:25722</td>\n",
       "      <td>NaN</td>\n",
       "      <td>1.300000e-11</td>\n",
       "      <td>CHEBI_25722</td>\n",
       "    </tr>\n",
       "    <tr>\n",
       "      <th>46717</th>\n",
       "      <td>OGFOD2</td>\n",
       "      <td>ENSG00000111325</td>\n",
       "      <td>protein_coding</td>\n",
       "      <td>12</td>\n",
       "      <td>chr12:122974580-122980043</td>\n",
       "      <td>Orotidine</td>\n",
       "      <td>orotidine</td>\n",
       "      <td>CHEBI:25722</td>\n",
       "      <td>NaN</td>\n",
       "      <td>2.200000e-10</td>\n",
       "      <td>CHEBI_25722</td>\n",
       "    </tr>\n",
       "    <tr>\n",
       "      <th>46898</th>\n",
       "      <td>OR13C2</td>\n",
       "      <td>ENSG00000276119</td>\n",
       "      <td>protein_coding</td>\n",
       "      <td>9</td>\n",
       "      <td>chr9:104604671-104605627</td>\n",
       "      <td>Orotidine</td>\n",
       "      <td>orotidine</td>\n",
       "      <td>CHEBI:25722</td>\n",
       "      <td>NaN</td>\n",
       "      <td>1.900000e-16</td>\n",
       "      <td>CHEBI_25722</td>\n",
       "    </tr>\n",
       "    <tr>\n",
       "      <th>47193</th>\n",
       "      <td>OR5K3</td>\n",
       "      <td>ENSG00000206536</td>\n",
       "      <td>protein_coding</td>\n",
       "      <td>3</td>\n",
       "      <td>chr3:98390666-98391631</td>\n",
       "      <td>Orotidine</td>\n",
       "      <td>orotidine</td>\n",
       "      <td>CHEBI:25722</td>\n",
       "      <td>NaN</td>\n",
       "      <td>3.200000e-13</td>\n",
       "      <td>CHEBI_25722</td>\n",
       "    </tr>\n",
       "    <tr>\n",
       "      <th>48408</th>\n",
       "      <td>PCDHB14</td>\n",
       "      <td>ENSG00000120327</td>\n",
       "      <td>protein_coding</td>\n",
       "      <td>5</td>\n",
       "      <td>chr5:141223343-141227759</td>\n",
       "      <td>Orotidine</td>\n",
       "      <td>orotidine</td>\n",
       "      <td>CHEBI:25722</td>\n",
       "      <td>NaN</td>\n",
       "      <td>7.500000e-12</td>\n",
       "      <td>CHEBI_25722</td>\n",
       "    </tr>\n",
       "    <tr>\n",
       "      <th>50118</th>\n",
       "      <td>PEA15</td>\n",
       "      <td>ENSG00000162734</td>\n",
       "      <td>protein_coding</td>\n",
       "      <td>1</td>\n",
       "      <td>chr1:160205380-160215376</td>\n",
       "      <td>Orotidine</td>\n",
       "      <td>orotidine</td>\n",
       "      <td>CHEBI:25722</td>\n",
       "      <td>NaN</td>\n",
       "      <td>1.800000e-11</td>\n",
       "      <td>CHEBI_25722</td>\n",
       "    </tr>\n",
       "    <tr>\n",
       "      <th>52062</th>\n",
       "      <td>PLEKHG7</td>\n",
       "      <td>ENSG00000187510</td>\n",
       "      <td>protein_coding</td>\n",
       "      <td>12</td>\n",
       "      <td>chr12:92702843-92772455</td>\n",
       "      <td>Orotidine</td>\n",
       "      <td>orotidine</td>\n",
       "      <td>CHEBI:25722</td>\n",
       "      <td>NaN</td>\n",
       "      <td>1.900000e-13</td>\n",
       "      <td>CHEBI_25722</td>\n",
       "    </tr>\n",
       "    <tr>\n",
       "      <th>54062</th>\n",
       "      <td>PRPSAP2</td>\n",
       "      <td>ENSG00000141127</td>\n",
       "      <td>protein_coding</td>\n",
       "      <td>17</td>\n",
       "      <td>chr17:18840085-18931287</td>\n",
       "      <td>Orotidine</td>\n",
       "      <td>orotidine</td>\n",
       "      <td>CHEBI:25722</td>\n",
       "      <td>NaN</td>\n",
       "      <td>6.300000e-13</td>\n",
       "      <td>CHEBI_25722</td>\n",
       "    </tr>\n",
       "    <tr>\n",
       "      <th>54085</th>\n",
       "      <td>PRR15</td>\n",
       "      <td>ENSG00000176532</td>\n",
       "      <td>protein_coding</td>\n",
       "      <td>7</td>\n",
       "      <td>chr7:29563835-29567293</td>\n",
       "      <td>Orotidine</td>\n",
       "      <td>orotidine</td>\n",
       "      <td>CHEBI:25722</td>\n",
       "      <td>NaN</td>\n",
       "      <td>4.400000e-12</td>\n",
       "      <td>CHEBI_25722</td>\n",
       "    </tr>\n",
       "    <tr>\n",
       "      <th>54304</th>\n",
       "      <td>PSMD8</td>\n",
       "      <td>ENSG00000099341</td>\n",
       "      <td>protein_coding</td>\n",
       "      <td>19</td>\n",
       "      <td>chr19:38374563-38383850</td>\n",
       "      <td>Orotidine</td>\n",
       "      <td>orotidine</td>\n",
       "      <td>CHEBI:25722</td>\n",
       "      <td>NaN</td>\n",
       "      <td>6.200000e-11</td>\n",
       "      <td>CHEBI_25722</td>\n",
       "    </tr>\n",
       "    <tr>\n",
       "      <th>54433</th>\n",
       "      <td>PTGER4</td>\n",
       "      <td>ENSG00000171522</td>\n",
       "      <td>protein_coding</td>\n",
       "      <td>5</td>\n",
       "      <td>chr5:40679915-40693735</td>\n",
       "      <td>Orotidine</td>\n",
       "      <td>orotidine</td>\n",
       "      <td>CHEBI:25722</td>\n",
       "      <td>NaN</td>\n",
       "      <td>2.800000e-12</td>\n",
       "      <td>CHEBI_25722</td>\n",
       "    </tr>\n",
       "    <tr>\n",
       "      <th>59343</th>\n",
       "      <td>SF3B3</td>\n",
       "      <td>ENSG00000189091</td>\n",
       "      <td>protein_coding</td>\n",
       "      <td>16</td>\n",
       "      <td>chr16:70523791-70577670</td>\n",
       "      <td>Orotidine</td>\n",
       "      <td>orotidine</td>\n",
       "      <td>CHEBI:25722</td>\n",
       "      <td>NaN</td>\n",
       "      <td>9.900000e-11</td>\n",
       "      <td>CHEBI_25722</td>\n",
       "    </tr>\n",
       "    <tr>\n",
       "      <th>62966</th>\n",
       "      <td>SMKR1</td>\n",
       "      <td>ENSG00000240204</td>\n",
       "      <td>protein_coding</td>\n",
       "      <td>7</td>\n",
       "      <td>chr7:129502531-129512918</td>\n",
       "      <td>Orotidine</td>\n",
       "      <td>orotidine</td>\n",
       "      <td>CHEBI:25722</td>\n",
       "      <td>NaN</td>\n",
       "      <td>1.900000e-12</td>\n",
       "      <td>CHEBI_25722</td>\n",
       "    </tr>\n",
       "    <tr>\n",
       "      <th>63518</th>\n",
       "      <td>SPACDR</td>\n",
       "      <td>ENSG00000185955</td>\n",
       "      <td>protein_coding</td>\n",
       "      <td>7</td>\n",
       "      <td>chr7:100456620-100464260</td>\n",
       "      <td>Orotidine</td>\n",
       "      <td>orotidine</td>\n",
       "      <td>CHEBI:25722</td>\n",
       "      <td>NaN</td>\n",
       "      <td>1.700000e-17</td>\n",
       "      <td>CHEBI_25722</td>\n",
       "    </tr>\n",
       "    <tr>\n",
       "      <th>63634</th>\n",
       "      <td>SPATS1</td>\n",
       "      <td>ENSG00000249481</td>\n",
       "      <td>protein_coding</td>\n",
       "      <td>6</td>\n",
       "      <td>chr6:44342650-44380179</td>\n",
       "      <td>Orotidine</td>\n",
       "      <td>orotidine</td>\n",
       "      <td>CHEBI:25722</td>\n",
       "      <td>NaN</td>\n",
       "      <td>1.900000e-13</td>\n",
       "      <td>CHEBI_25722</td>\n",
       "    </tr>\n",
       "    <tr>\n",
       "      <th>63805</th>\n",
       "      <td>SPINK2</td>\n",
       "      <td>ENSG00000128040</td>\n",
       "      <td>protein_coding</td>\n",
       "      <td>4</td>\n",
       "      <td>chr4:56809860-56821742</td>\n",
       "      <td>Orotidine</td>\n",
       "      <td>orotidine</td>\n",
       "      <td>CHEBI:25722</td>\n",
       "      <td>NaN</td>\n",
       "      <td>1.000000e-10</td>\n",
       "      <td>CHEBI_25722</td>\n",
       "    </tr>\n",
       "    <tr>\n",
       "      <th>63945</th>\n",
       "      <td>SPRYD7</td>\n",
       "      <td>ENSG00000123178</td>\n",
       "      <td>protein_coding</td>\n",
       "      <td>13</td>\n",
       "      <td>chr13:49912702-49936490</td>\n",
       "      <td>Orotidine</td>\n",
       "      <td>orotidine</td>\n",
       "      <td>CHEBI:25722</td>\n",
       "      <td>NaN</td>\n",
       "      <td>3.000000e-16</td>\n",
       "      <td>CHEBI_25722</td>\n",
       "    </tr>\n",
       "    <tr>\n",
       "      <th>67514</th>\n",
       "      <td>TINAG</td>\n",
       "      <td>ENSG00000137251</td>\n",
       "      <td>protein_coding</td>\n",
       "      <td>6</td>\n",
       "      <td>chr6:54307859-54390142</td>\n",
       "      <td>Orotidine</td>\n",
       "      <td>orotidine</td>\n",
       "      <td>CHEBI:25722</td>\n",
       "      <td>NaN</td>\n",
       "      <td>2.400000e-10</td>\n",
       "      <td>CHEBI_25722</td>\n",
       "    </tr>\n",
       "    <tr>\n",
       "      <th>68170</th>\n",
       "      <td>TMEM214</td>\n",
       "      <td>ENSG00000119777</td>\n",
       "      <td>protein_coding</td>\n",
       "      <td>2</td>\n",
       "      <td>chr2:27032910-27041694</td>\n",
       "      <td>Orotidine</td>\n",
       "      <td>orotidine</td>\n",
       "      <td>CHEBI:25722</td>\n",
       "      <td>NaN</td>\n",
       "      <td>6.800000e-11</td>\n",
       "      <td>CHEBI_25722</td>\n",
       "    </tr>\n",
       "    <tr>\n",
       "      <th>68261</th>\n",
       "      <td>TMEM265</td>\n",
       "      <td>ENSG00000281991</td>\n",
       "      <td>protein_coding</td>\n",
       "      <td>16</td>\n",
       "      <td>chr16:30740642-30745196</td>\n",
       "      <td>Orotidine</td>\n",
       "      <td>orotidine</td>\n",
       "      <td>CHEBI:25722</td>\n",
       "      <td>NaN</td>\n",
       "      <td>1.200000e-12</td>\n",
       "      <td>CHEBI_25722</td>\n",
       "    </tr>\n",
       "    <tr>\n",
       "      <th>68775</th>\n",
       "      <td>TNIP1</td>\n",
       "      <td>ENSG00000145901</td>\n",
       "      <td>protein_coding</td>\n",
       "      <td>5</td>\n",
       "      <td>chr5:151029945-151093577</td>\n",
       "      <td>Orotidine</td>\n",
       "      <td>orotidine</td>\n",
       "      <td>CHEBI:25722</td>\n",
       "      <td>NaN</td>\n",
       "      <td>2.200000e-15</td>\n",
       "      <td>CHEBI_25722</td>\n",
       "    </tr>\n",
       "    <tr>\n",
       "      <th>68776</th>\n",
       "      <td>TNIP1</td>\n",
       "      <td>ENSG00000145901</td>\n",
       "      <td>protein_coding</td>\n",
       "      <td>5</td>\n",
       "      <td>chr5:151029945-151093577</td>\n",
       "      <td>Orotidine</td>\n",
       "      <td>orotidine</td>\n",
       "      <td>CHEBI:25722</td>\n",
       "      <td>NaN</td>\n",
       "      <td>3.200000e-10</td>\n",
       "      <td>CHEBI_25722</td>\n",
       "    </tr>\n",
       "    <tr>\n",
       "      <th>70257</th>\n",
       "      <td>TSPEAR</td>\n",
       "      <td>ENSG00000175894</td>\n",
       "      <td>protein_coding</td>\n",
       "      <td>21</td>\n",
       "      <td>chr21:44497893-44711572</td>\n",
       "      <td>Orotidine</td>\n",
       "      <td>orotidine</td>\n",
       "      <td>CHEBI:25722</td>\n",
       "      <td>NaN</td>\n",
       "      <td>7.700000e-16</td>\n",
       "      <td>CHEBI_25722</td>\n",
       "    </tr>\n",
       "    <tr>\n",
       "      <th>72588</th>\n",
       "      <td>VPS51</td>\n",
       "      <td>ENSG00000149823</td>\n",
       "      <td>protein_coding</td>\n",
       "      <td>11</td>\n",
       "      <td>chr11:65089324-65111862</td>\n",
       "      <td>Orotidine</td>\n",
       "      <td>orotidine</td>\n",
       "      <td>CHEBI:25722</td>\n",
       "      <td>NaN</td>\n",
       "      <td>6.500000e-15</td>\n",
       "      <td>CHEBI_25722</td>\n",
       "    </tr>\n",
       "    <tr>\n",
       "      <th>75235</th>\n",
       "      <td>ZNF518A</td>\n",
       "      <td>ENSG00000177853</td>\n",
       "      <td>protein_coding</td>\n",
       "      <td>10</td>\n",
       "      <td>chr10:96129715-96205288</td>\n",
       "      <td>Orotidine</td>\n",
       "      <td>orotidine</td>\n",
       "      <td>CHEBI:25722</td>\n",
       "      <td>NaN</td>\n",
       "      <td>7.200000e-15</td>\n",
       "      <td>CHEBI_25722</td>\n",
       "    </tr>\n",
       "  </tbody>\n",
       "</table>\n",
       "</div>"
      ],
      "text/plain": [
       "      Gene Symbol       Ensembl ID       Gene Type CHR  \\\n",
       "4788       ANKRD9  ENSG00000156381  protein_coding  14   \n",
       "13509    CALCOCO2  ENSG00000136436  protein_coding  17   \n",
       "13584     CAMK2N1  ENSG00000162545  protein_coding   1   \n",
       "14565         CCK  ENSG00000187094  protein_coding   3   \n",
       "15866      CEP126  ENSG00000110318  protein_coding  11   \n",
       "18382        COPA  ENSG00000122218  protein_coding   1   \n",
       "19488       CXCL3  ENSG00000163734  protein_coding   4   \n",
       "19489       CXCL3  ENSG00000163734  protein_coding   4   \n",
       "19777     CYP2C19  ENSG00000165841  protein_coding  10   \n",
       "21117       DNAI7  ENSG00000118307  protein_coding  12   \n",
       "21685      DPYSL5  ENSG00000157851  protein_coding   2   \n",
       "26105      FYTTD1  ENSG00000122068  protein_coding   3   \n",
       "27852     GOLPH3L  ENSG00000143457  protein_coding   1   \n",
       "30085      HEXIM2  ENSG00000168517  protein_coding  17   \n",
       "32695     INSYN2A  ENSG00000188916  protein_coding  10   \n",
       "33071        ISM1  ENSG00000101230  protein_coding  20   \n",
       "33145       ITGA2  ENSG00000164171  protein_coding   5   \n",
       "36901      LILRA2  ENSG00000278634  protein_coding  19   \n",
       "39213     MAB21L2  ENSG00000181541  protein_coding   4   \n",
       "45051        NIT2  ENSG00000114021  protein_coding   3   \n",
       "46061       NR3C1  ENSG00000113580  protein_coding   5   \n",
       "46717      OGFOD2  ENSG00000111325  protein_coding  12   \n",
       "46898      OR13C2  ENSG00000276119  protein_coding   9   \n",
       "47193       OR5K3  ENSG00000206536  protein_coding   3   \n",
       "48408     PCDHB14  ENSG00000120327  protein_coding   5   \n",
       "50118       PEA15  ENSG00000162734  protein_coding   1   \n",
       "52062     PLEKHG7  ENSG00000187510  protein_coding  12   \n",
       "54062     PRPSAP2  ENSG00000141127  protein_coding  17   \n",
       "54085       PRR15  ENSG00000176532  protein_coding   7   \n",
       "54304       PSMD8  ENSG00000099341  protein_coding  19   \n",
       "54433      PTGER4  ENSG00000171522  protein_coding   5   \n",
       "59343       SF3B3  ENSG00000189091  protein_coding  16   \n",
       "62966       SMKR1  ENSG00000240204  protein_coding   7   \n",
       "63518      SPACDR  ENSG00000185955  protein_coding   7   \n",
       "63634      SPATS1  ENSG00000249481  protein_coding   6   \n",
       "63805      SPINK2  ENSG00000128040  protein_coding   4   \n",
       "63945      SPRYD7  ENSG00000123178  protein_coding  13   \n",
       "67514       TINAG  ENSG00000137251  protein_coding   6   \n",
       "68170     TMEM214  ENSG00000119777  protein_coding   2   \n",
       "68261     TMEM265  ENSG00000281991  protein_coding  16   \n",
       "68775       TNIP1  ENSG00000145901  protein_coding   5   \n",
       "68776       TNIP1  ENSG00000145901  protein_coding   5   \n",
       "70257      TSPEAR  ENSG00000175894  protein_coding  21   \n",
       "72588       VPS51  ENSG00000149823  protein_coding  11   \n",
       "75235     ZNF518A  ENSG00000177853  protein_coding  10   \n",
       "\n",
       "                        Location Reported Trait Trait Label Trait Ontology id  \\\n",
       "4788   chr14:102501767-102509799      Orotidine   orotidine       CHEBI:25722   \n",
       "13509    chr17:48831018-48866522      Orotidine   orotidine       CHEBI:25722   \n",
       "13584     chr1:20482391-20486210      Orotidine   orotidine       CHEBI:25722   \n",
       "14565     chr3:42257825-42266185      Orotidine   orotidine       CHEBI:25722   \n",
       "15866  chr11:101915010-102001062      Orotidine   orotidine       CHEBI:25722   \n",
       "18382   chr1:160288594-160343566      Orotidine   orotidine       CHEBI:25722   \n",
       "19488     chr4:74036589-74038807      Orotidine   orotidine       CHEBI:25722   \n",
       "19489     chr4:74036589-74038807      Orotidine   orotidine       CHEBI:25722   \n",
       "19777    chr10:94762681-94855547      Orotidine   orotidine       CHEBI:25722   \n",
       "21117    chr12:25108289-25195162      Orotidine   orotidine       CHEBI:25722   \n",
       "21685     chr2:26847747-26950351      Orotidine   orotidine       CHEBI:25722   \n",
       "26105   chr3:197737179-197787596      Orotidine   orotidine       CHEBI:25722   \n",
       "27852   chr1:150646230-150697154      Orotidine   orotidine       CHEBI:25722   \n",
       "30085    chr17:45160700-45170040      Orotidine   orotidine       CHEBI:25722   \n",
       "32695  chr10:127135426-127196591      Orotidine   orotidine       CHEBI:25722   \n",
       "33071    chr20:13221274-13300651      Orotidine   orotidine       CHEBI:25722   \n",
       "33145     chr5:52989340-53094779      Orotidine   orotidine       CHEBI:25722   \n",
       "36901    chr19:54503437-54518077      Orotidine   orotidine       CHEBI:25722   \n",
       "39213   chr4:150582151-150584693      Orotidine   orotidine       CHEBI:25722   \n",
       "45051   chr3:100334739-100361635      Orotidine   orotidine       CHEBI:25722   \n",
       "46061   chr5:143277931-143435512      Orotidine   orotidine       CHEBI:25722   \n",
       "46717  chr12:122974580-122980043      Orotidine   orotidine       CHEBI:25722   \n",
       "46898   chr9:104604671-104605627      Orotidine   orotidine       CHEBI:25722   \n",
       "47193     chr3:98390666-98391631      Orotidine   orotidine       CHEBI:25722   \n",
       "48408   chr5:141223343-141227759      Orotidine   orotidine       CHEBI:25722   \n",
       "50118   chr1:160205380-160215376      Orotidine   orotidine       CHEBI:25722   \n",
       "52062    chr12:92702843-92772455      Orotidine   orotidine       CHEBI:25722   \n",
       "54062    chr17:18840085-18931287      Orotidine   orotidine       CHEBI:25722   \n",
       "54085     chr7:29563835-29567293      Orotidine   orotidine       CHEBI:25722   \n",
       "54304    chr19:38374563-38383850      Orotidine   orotidine       CHEBI:25722   \n",
       "54433     chr5:40679915-40693735      Orotidine   orotidine       CHEBI:25722   \n",
       "59343    chr16:70523791-70577670      Orotidine   orotidine       CHEBI:25722   \n",
       "62966   chr7:129502531-129512918      Orotidine   orotidine       CHEBI:25722   \n",
       "63518   chr7:100456620-100464260      Orotidine   orotidine       CHEBI:25722   \n",
       "63634     chr6:44342650-44380179      Orotidine   orotidine       CHEBI:25722   \n",
       "63805     chr4:56809860-56821742      Orotidine   orotidine       CHEBI:25722   \n",
       "63945    chr13:49912702-49936490      Orotidine   orotidine       CHEBI:25722   \n",
       "67514     chr6:54307859-54390142      Orotidine   orotidine       CHEBI:25722   \n",
       "68170     chr2:27032910-27041694      Orotidine   orotidine       CHEBI:25722   \n",
       "68261    chr16:30740642-30745196      Orotidine   orotidine       CHEBI:25722   \n",
       "68775   chr5:151029945-151093577      Orotidine   orotidine       CHEBI:25722   \n",
       "68776   chr5:151029945-151093577      Orotidine   orotidine       CHEBI:25722   \n",
       "70257    chr21:44497893-44711572      Orotidine   orotidine       CHEBI:25722   \n",
       "72588    chr11:65089324-65111862      Orotidine   orotidine       CHEBI:25722   \n",
       "75235    chr10:96129715-96205288      Orotidine   orotidine       CHEBI:25722   \n",
       "\n",
       "      EFO synonym       P-value   TRAIT_CODE  \n",
       "4788          NaN  1.500000e-11  CHEBI_25722  \n",
       "13509         NaN  3.600000e-10  CHEBI_25722  \n",
       "13584         NaN  2.500000e-10  CHEBI_25722  \n",
       "14565         NaN  1.700000e-13  CHEBI_25722  \n",
       "15866         NaN  1.700000e-11  CHEBI_25722  \n",
       "18382         NaN  2.400000e-13  CHEBI_25722  \n",
       "19488         NaN  1.900000e-11  CHEBI_25722  \n",
       "19489         NaN  6.900000e-11  CHEBI_25722  \n",
       "19777         NaN  8.700000e-11  CHEBI_25722  \n",
       "21117         NaN  5.200000e-14  CHEBI_25722  \n",
       "21685         NaN  2.700000e-12  CHEBI_25722  \n",
       "26105         NaN  1.600000e-10  CHEBI_25722  \n",
       "27852         NaN  3.000000e-15  CHEBI_25722  \n",
       "30085         NaN  4.200000e-15  CHEBI_25722  \n",
       "32695         NaN  1.700000e-15  CHEBI_25722  \n",
       "33071         NaN  5.600000e-12  CHEBI_25722  \n",
       "33145         NaN  2.300000e-10  CHEBI_25722  \n",
       "36901         NaN  6.000000e-19  CHEBI_25722  \n",
       "39213         NaN  6.100000e-13  CHEBI_25722  \n",
       "45051         NaN  4.900000e-14  CHEBI_25722  \n",
       "46061         NaN  1.300000e-11  CHEBI_25722  \n",
       "46717         NaN  2.200000e-10  CHEBI_25722  \n",
       "46898         NaN  1.900000e-16  CHEBI_25722  \n",
       "47193         NaN  3.200000e-13  CHEBI_25722  \n",
       "48408         NaN  7.500000e-12  CHEBI_25722  \n",
       "50118         NaN  1.800000e-11  CHEBI_25722  \n",
       "52062         NaN  1.900000e-13  CHEBI_25722  \n",
       "54062         NaN  6.300000e-13  CHEBI_25722  \n",
       "54085         NaN  4.400000e-12  CHEBI_25722  \n",
       "54304         NaN  6.200000e-11  CHEBI_25722  \n",
       "54433         NaN  2.800000e-12  CHEBI_25722  \n",
       "59343         NaN  9.900000e-11  CHEBI_25722  \n",
       "62966         NaN  1.900000e-12  CHEBI_25722  \n",
       "63518         NaN  1.700000e-17  CHEBI_25722  \n",
       "63634         NaN  1.900000e-13  CHEBI_25722  \n",
       "63805         NaN  1.000000e-10  CHEBI_25722  \n",
       "63945         NaN  3.000000e-16  CHEBI_25722  \n",
       "67514         NaN  2.400000e-10  CHEBI_25722  \n",
       "68170         NaN  6.800000e-11  CHEBI_25722  \n",
       "68261         NaN  1.200000e-12  CHEBI_25722  \n",
       "68775         NaN  2.200000e-15  CHEBI_25722  \n",
       "68776         NaN  3.200000e-10  CHEBI_25722  \n",
       "70257         NaN  7.700000e-16  CHEBI_25722  \n",
       "72588         NaN  6.500000e-15  CHEBI_25722  \n",
       "75235         NaN  7.200000e-15  CHEBI_25722  "
      ]
     },
     "execution_count": 78,
     "metadata": {},
     "output_type": "execute_result"
    }
   ],
   "source": [
    "ravar_genes[ravar_genes['Trait Ontology id'] == 'CHEBI:25722']"
   ]
  }
 ],
 "metadata": {
  "kernelspec": {
   "display_name": "Python (CARVA)",
   "language": "python",
   "name": "carva"
  },
  "language_info": {
   "codemirror_mode": {
    "name": "ipython",
    "version": 3
   },
   "file_extension": ".py",
   "mimetype": "text/x-python",
   "name": "python",
   "nbconvert_exporter": "python",
   "pygments_lexer": "ipython3",
   "version": "3.10.0"
  },
  "toc": {
   "base_numbering": 1,
   "nav_menu": {},
   "number_sections": true,
   "sideBar": true,
   "skip_h1_title": false,
   "title_cell": "Table of Contents",
   "title_sidebar": "Contents",
   "toc_cell": false,
   "toc_position": {
    "height": "calc(100% - 180px)",
    "left": "10px",
    "top": "150px",
    "width": "341.458px"
   },
   "toc_section_display": true,
   "toc_window_display": true
  },
  "varInspector": {
   "cols": {
    "lenName": 16,
    "lenType": 16,
    "lenVar": 40
   },
   "kernels_config": {
    "python": {
     "delete_cmd_postfix": "",
     "delete_cmd_prefix": "del ",
     "library": "var_list.py",
     "varRefreshCmd": "print(var_dic_list())"
    },
    "r": {
     "delete_cmd_postfix": ") ",
     "delete_cmd_prefix": "rm(",
     "library": "var_list.r",
     "varRefreshCmd": "cat(var_dic_list()) "
    }
   },
   "types_to_exclude": [
    "module",
    "function",
    "builtin_function_or_method",
    "instance",
    "_Feature"
   ],
   "window_display": false
  }
 },
 "nbformat": 4,
 "nbformat_minor": 4
}
