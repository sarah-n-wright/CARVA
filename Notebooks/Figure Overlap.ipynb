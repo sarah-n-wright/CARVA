{
 "cells": [
  {
   "cell_type": "markdown",
   "metadata": {},
   "source": [
    "# TODO\n",
    "\n",
    "If I want to use the overlap background of shared genes with any associations (i.e. 9000), then I should also filter to the input genes that are shared right??\n",
    "Maybe I should just use the 20k for now."
   ]
  },
  {
   "cell_type": "markdown",
   "metadata": {},
   "source": [
    "# SetUp"
   ]
  },
  {
   "cell_type": "code",
   "execution_count": 24,
   "metadata": {
    "ExecuteTime": {
     "end_time": "2025-04-25T19:50:27.561099Z",
     "start_time": "2025-04-25T19:50:27.558068Z"
    }
   },
   "outputs": [],
   "source": [
    "import pandas as pd\n",
    "import numpy as np\n",
    "import matplotlib.pyplot as plt\n",
    "import seaborn as sns\n",
    "import os\n",
    "from collections import defaultdict\n",
    "from tqdm import tqdm\n",
    "import networkx as nx\n",
    "from matplotlib_venn import venn2, venn3\n",
    "import obonet as obo\n",
    "from scipy.stats import wilcoxon, mannwhitneyu"
   ]
  },
  {
   "cell_type": "code",
   "execution_count": 25,
   "metadata": {
    "ExecuteTime": {
     "end_time": "2025-04-25T19:50:27.699449Z",
     "start_time": "2025-04-25T19:50:27.562164Z"
    }
   },
   "outputs": [],
   "source": [
    "plt.rcParams['svg.fonttype'] = 'none'\n",
    "plt.rcParams.update({'font.size': 7})\n",
    "plt.rcParams['axes.linewidth'] = 0.5\n",
    "plt.rcParams['hatch.linewidth'] = 0.5\n",
    "plt.rcParams['xtick.major.width'] = 0.4\n",
    "plt.rcParams['ytick.major.width'] = 0.4\n",
    "plt.rcParams['xtick.minor.width'] = 0.3\n",
    "plt.rcParams['ytick.minor.width'] = 0.3\n",
    "plt.rcParams['legend.frameon'] = False\n",
    "plt.rcParams['xtick.major.size'] = 3\n",
    "plt.rcParams['ytick.major.size'] = 3\n",
    "plt.rcParams['xtick.minor.size'] = 2\n",
    "plt.rcParams['ytick.minor.size'] = 2\n",
    "plt.rcParams['xtick.major.pad'] = 1\n",
    "plt.rcParams['ytick.major.pad'] = 1\n",
    "plt.rcParams['axes.labelpad'] = 1\n",
    "plt.rcParams['patch.linewidth'] = 0.25\n",
    "import matplotlib.font_manager as fm\n",
    "arial_font_path = '/cellar/users/snwright/Fonts/msfonts/Arial.TTF'\n",
    "fm.fontManager.addfont(arial_font_path)\n",
    "import matplotlib\n",
    "matplotlib.rcParams['font.family'] = 'Arial'"
   ]
  },
  {
   "cell_type": "code",
   "execution_count": 26,
   "metadata": {
    "ExecuteTime": {
     "end_time": "2025-04-25T19:50:27.777685Z",
     "start_time": "2025-04-25T19:50:27.700677Z"
    }
   },
   "outputs": [],
   "source": [
    "datadir='/cellar/users/snwright/Data/RareCommon/'\n",
    "outdir='/cellar/users/snwright/Data/Transfer/RVC/'\n",
    "figdir='/cellar/users/snwright/Data/Transfer/RVC/figures/FigureOverlap/'"
   ]
  },
  {
   "cell_type": "code",
   "execution_count": 27,
   "metadata": {
    "ExecuteTime": {
     "end_time": "2025-04-25T19:50:27.843080Z",
     "start_time": "2025-04-25T19:50:27.778979Z"
    }
   },
   "outputs": [],
   "source": [
    "blue='#6ec1e0'\n",
    "green='#5fad56'"
   ]
  },
  {
   "cell_type": "markdown",
   "metadata": {},
   "source": [
    "## Load data"
   ]
  },
  {
   "cell_type": "code",
   "execution_count": 28,
   "metadata": {
    "ExecuteTime": {
     "end_time": "2025-04-25T19:50:27.856083Z",
     "start_time": "2025-04-25T19:50:27.844917Z"
    }
   },
   "outputs": [],
   "source": [
    "pcnet2_nodes = pd.read_csv(os.path.join(datadir, 'inputs', 'pcnet2_0_nodes.txt'), sep='\\t', header=None, names=['Entrez', 'degree'])\n",
    "all_nodes = pcnet2_nodes.Entrez.unique()"
   ]
  },
  {
   "cell_type": "code",
   "execution_count": 29,
   "metadata": {
    "ExecuteTime": {
     "end_time": "2025-04-25T19:50:29.164141Z",
     "start_time": "2025-04-25T19:50:27.857405Z"
    }
   },
   "outputs": [],
   "source": [
    "rv_gda = pd.read_csv(os.path.join(datadir,'RAVAR' ,'gene_fulltable_06112024.txt.entrez'), sep='\\t')\n",
    "cv_gda = pd.read_csv(os.path.join(datadir, 'GWASCatalog', 'gwas_catalog_Jan29_2025.txt.cleanedJan29.entrez'), sep=\"\\t\")\n",
    "cv_study_info = pd.read_csv(os.path.join(datadir, 'GWASCatalog','trait_info_cleaned_Jan29_2025.txt'), sep='\\t')"
   ]
  },
  {
   "cell_type": "code",
   "execution_count": 30,
   "metadata": {
    "ExecuteTime": {
     "end_time": "2025-04-25T19:50:29.267453Z",
     "start_time": "2025-04-25T19:50:29.166071Z"
    }
   },
   "outputs": [],
   "source": [
    "#cv_gda = cv_gda.drop(columns=['TRAIT_CODE', 'MAPPED_TRAIT_URI']).merge(cv_study_info.drop(columns=['COHORT', 'ASSOCIATION COUNT', 'SUMMARY STATS LOCATION' ]), on=['STUDY ACCESSION', \"DISEASE/TRAIT\"])\n",
    "cv_gda['TRAIT_CODE'] = cv_gda.TRAIT_CODE.apply(lambda x: x.replace(':', \"_\"))\n",
    "studies_with_background = cv_study_info[~cv_study_info['MAPPED BACKGROUND TRAIT URI'].isna()]['STUDY ACCESSION'].values\n",
    "cv_gda = cv_gda[~cv_gda['STUDY ACCESSION'].isin(studies_with_background)]"
   ]
  },
  {
   "cell_type": "code",
   "execution_count": 31,
   "metadata": {
    "ExecuteTime": {
     "end_time": "2025-04-25T19:50:29.309433Z",
     "start_time": "2025-04-25T19:50:29.268810Z"
    }
   },
   "outputs": [],
   "source": [
    "rv_gda = rv_gda[rv_gda.Entrez.isin(all_nodes)]\n",
    "cv_gda = cv_gda[cv_gda.Entrez.isin(all_nodes)]"
   ]
  },
  {
   "cell_type": "markdown",
   "metadata": {},
   "source": [
    "# Figures\n",
    "## RAVAR / GWAS Catalog Overlap"
   ]
  },
  {
   "cell_type": "code",
   "execution_count": 32,
   "metadata": {
    "ExecuteTime": {
     "end_time": "2025-04-25T19:50:29.314218Z",
     "start_time": "2025-04-25T19:50:29.310689Z"
    }
   },
   "outputs": [],
   "source": [
    "import re\n",
    "def map_trait_code(code):\n",
    "    efo = next((match.group() for match in re.finditer(r'EFO_\\d+', code)), None)\n",
    "    if efo is not None:\n",
    "        return efo\n",
    "    mondo = next((match.group() for match in re.finditer(r'MONDO_\\d+', code)), None)\n",
    "    if mondo is not None:\n",
    "        return mondo\n",
    "    hp = next((match.group() for match in re.finditer(r'HP_\\d+', code)), None)\n",
    "    if hp is not None:\n",
    "        return hp\n",
    "    go = next((match.group() for match in re.finditer(r'GO_\\d+', code)), None)\n",
    "    if go is not None:\n",
    "        return go\n",
    "    return None"
   ]
  },
  {
   "cell_type": "code",
   "execution_count": 33,
   "metadata": {
    "ExecuteTime": {
     "end_time": "2025-04-25T19:50:29.333320Z",
     "start_time": "2025-04-25T19:50:29.315195Z"
    }
   },
   "outputs": [
    {
     "data": {
      "text/plain": [
       "(373, 12)"
      ]
     },
     "execution_count": 33,
     "metadata": {},
     "output_type": "execute_result"
    }
   ],
   "source": [
    "###\n",
    "over_df = pd.read_csv('/cellar/users/snwright/Data/RareCommon/outputs/overlap/March_2025/RV_GC_overlap.txt', sep='\\t',\n",
    "                     header=None, names=['trait_pair', 'param_set', 'n_common', 'n_rare', 'n_overlap', 'background', 'pval'])\n",
    "\n",
    "over_df['EFO'] = over_df.trait_pair.apply(lambda x: map_trait_code(x))\n",
    "over_df['StudyC'] = over_df.trait_pair.apply(lambda x: next((match.group() for match in re.finditer(r'GCST\\d+', x)), None))\n",
    "over_df['StudyR'] = over_df.trait_pair.apply(lambda x: x.split('_')[0])\n",
    "over_df['Expected'] = over_df.n_rare * over_df.n_common / 19000\n",
    "over_df['logp'] = -1 * np.log10(over_df['pval'] + 1e-250)\n",
    "over_df.shape"
   ]
  },
  {
   "cell_type": "code",
   "execution_count": 34,
   "metadata": {
    "ExecuteTime": {
     "end_time": "2025-04-25T19:50:29.341986Z",
     "start_time": "2025-04-25T19:50:29.334475Z"
    }
   },
   "outputs": [
    {
     "data": {
      "text/html": [
       "<div>\n",
       "<style scoped>\n",
       "    .dataframe tbody tr th:only-of-type {\n",
       "        vertical-align: middle;\n",
       "    }\n",
       "\n",
       "    .dataframe tbody tr th {\n",
       "        vertical-align: top;\n",
       "    }\n",
       "\n",
       "    .dataframe thead th {\n",
       "        text-align: right;\n",
       "    }\n",
       "</style>\n",
       "<table border=\"1\" class=\"dataframe\">\n",
       "  <thead>\n",
       "    <tr style=\"text-align: right;\">\n",
       "      <th></th>\n",
       "      <th>trait_pair</th>\n",
       "      <th>param_set</th>\n",
       "      <th>n_common</th>\n",
       "      <th>n_rare</th>\n",
       "      <th>n_overlap</th>\n",
       "      <th>background</th>\n",
       "      <th>pval</th>\n",
       "      <th>EFO</th>\n",
       "      <th>StudyC</th>\n",
       "      <th>StudyR</th>\n",
       "      <th>Expected</th>\n",
       "      <th>logp</th>\n",
       "    </tr>\n",
       "  </thead>\n",
       "  <tbody>\n",
       "    <tr>\n",
       "      <th>175</th>\n",
       "      <td>34375979_EFO_0010822_GCST90104907_EFO_0010822</td>\n",
       "      <td>defaults</td>\n",
       "      <td>3</td>\n",
       "      <td>14</td>\n",
       "      <td>0</td>\n",
       "      <td>19000</td>\n",
       "      <td>0.002209</td>\n",
       "      <td>EFO_0010822</td>\n",
       "      <td>GCST90104907</td>\n",
       "      <td>34375979</td>\n",
       "      <td>0.002211</td>\n",
       "      <td>2.655802</td>\n",
       "    </tr>\n",
       "  </tbody>\n",
       "</table>\n",
       "</div>"
      ],
      "text/plain": [
       "                                        trait_pair param_set  n_common  \\\n",
       "175  34375979_EFO_0010822_GCST90104907_EFO_0010822  defaults         3   \n",
       "\n",
       "     n_rare  n_overlap  background      pval          EFO        StudyC  \\\n",
       "175      14          0       19000  0.002209  EFO_0010822  GCST90104907   \n",
       "\n",
       "       StudyR  Expected      logp  \n",
       "175  34375979  0.002211  2.655802  "
      ]
     },
     "execution_count": 34,
     "metadata": {},
     "output_type": "execute_result"
    }
   ],
   "source": [
    "over_df[over_df.StudyC=='GCST90104907']"
   ]
  },
  {
   "cell_type": "markdown",
   "metadata": {},
   "source": [
    "### Geneset Sizes"
   ]
  },
  {
   "cell_type": "code",
   "execution_count": 35,
   "metadata": {
    "ExecuteTime": {
     "end_time": "2025-04-25T19:50:29.985986Z",
     "start_time": "2025-04-25T19:50:29.342972Z"
    }
   },
   "outputs": [
    {
     "name": "stdout",
     "output_type": "stream",
     "text": [
      "Common max 670\n",
      "Rare max 168\n"
     ]
    },
    {
     "data": {
      "image/png": "[encoded data removed]",
      "text/plain": [
       "<Figure size 100x200 with 1 Axes>"
      ]
     },
     "metadata": {},
     "output_type": "display_data"
    }
   ],
   "source": [
    "_ = plt.figure(figsize=(1,2))\n",
    "sns.violinplot(y=over_df.drop_duplicates(subset=['EFO', 'StudyC']).n_common, x=1, cut=0,  color=blue, log_scale=True,\n",
    "              inner_kws={}, saturation=1)\n",
    "sns.violinplot(y=over_df.drop_duplicates(subset=['EFO', 'StudyC']).n_rare,x=2, cut=0, color=green, log_scale=True,\n",
    "              saturation=1)\n",
    "plt.ylim(3, 1000)\n",
    "plt.ylabel('Gene associations per study')\n",
    "_ = plt.xticks([0,1], ['Common', 'Rare'])\n",
    "_ = plt.yticks([3, 10, 100, 1000], labels=[3, 10, 100, 1000])\n",
    "print(f'Common max {over_df.drop_duplicates(subset=[\"EFO\", \"StudyC\"]).n_common.max()}')\n",
    "print(f'Rare max {over_df.drop_duplicates(subset=[\"EFO\", \"StudyC\"]).n_rare.max()}')\n",
    "plt.savefig(os.path.join(figdir, 'study_association_counts_small.svg'), dpi=400, bbox_inches='tight')"
   ]
  },
  {
   "cell_type": "code",
   "execution_count": 36,
   "metadata": {
    "ExecuteTime": {
     "end_time": "2025-04-25T19:50:29.991306Z",
     "start_time": "2025-04-25T19:50:29.987316Z"
    }
   },
   "outputs": [
    {
     "data": {
      "text/plain": [
       "MannwhitneyuResult(statistic=66004.5, pvalue=0.22621626489615465)"
      ]
     },
     "execution_count": 36,
     "metadata": {},
     "output_type": "execute_result"
    }
   ],
   "source": [
    "mannwhitneyu(over_df.n_common, over_df.n_rare)"
   ]
  },
  {
   "cell_type": "code",
   "execution_count": 37,
   "metadata": {
    "ExecuteTime": {
     "end_time": "2025-04-25T19:50:30.038498Z",
     "start_time": "2025-04-25T19:50:29.994382Z"
    }
   },
   "outputs": [
    {
     "data": {
      "text/plain": [
       "WilcoxonResult(statistic=25731.0, pvalue=0.0006235698473234711)"
      ]
     },
     "execution_count": 37,
     "metadata": {},
     "output_type": "execute_result"
    }
   ],
   "source": [
    "wilcoxon(over_df.n_common, over_df.n_rare)"
   ]
  },
  {
   "cell_type": "markdown",
   "metadata": {},
   "source": [
    "### Pvalue distributions"
   ]
  },
  {
   "cell_type": "code",
   "execution_count": 38,
   "metadata": {
    "ExecuteTime": {
     "end_time": "2025-04-25T19:50:30.079076Z",
     "start_time": "2025-04-25T19:50:30.039270Z"
    }
   },
   "outputs": [],
   "source": [
    "rv_gda = rv_gda.dropna(subset='PMID')\n",
    "rv_gda['StudyTrait'] = rv_gda['PMID'].astype(int).astype(str)+rv_gda['TRAIT_CODE']"
   ]
  },
  {
   "cell_type": "code",
   "execution_count": 39,
   "metadata": {
    "ExecuteTime": {
     "end_time": "2025-04-25T19:50:30.100910Z",
     "start_time": "2025-04-25T19:50:30.080482Z"
    }
   },
   "outputs": [],
   "source": [
    "cv_gda['StudyTrait'] = cv_gda['STUDY ACCESSION']+cv_gda['TRAIT_CODE']"
   ]
  },
  {
   "cell_type": "code",
   "execution_count": 40,
   "metadata": {
    "ExecuteTime": {
     "end_time": "2025-04-25T19:50:30.542466Z",
     "start_time": "2025-04-25T19:50:30.102352Z"
    }
   },
   "outputs": [],
   "source": [
    "from math import comb\n",
    "from scipy.stats import mannwhitneyu\n",
    "\n",
    "def get_p_values(gda_df, study, trait):\n",
    "    if 'logp' not in gda_df.columns:\n",
    "        gda_df['logp'] = -1 * np.log10(gda_df['P-value'] + 1e-250)\n",
    "    use_gda = gda_df[gda_df.StudyTrait==f'{study}{trait}'].sort_values('logp', ascending=False).drop_duplicates('Entrez', keep='first')\n",
    "    return use_gda.loc[:, ('logp', 'Entrez')].set_index('Entrez')\n",
    "\n",
    "def compare_pval_dists(studyC, studyR, trait):\n",
    "    rv_p = get_p_values(rv_gda, studyR, trait)\n",
    "    cv_p = get_p_values(cv_gda, studyC, trait)\n",
    "    overlap_genes = rv_p.join(cv_p, lsuffix='r',how='inner').index.values\n",
    "    r_mo, r_mno, r_stat, r_p = perform_p_val_rank_test(rv_p, overlap_genes)\n",
    "    c_mo, c_mno, c_stat, c_p = perform_p_val_rank_test(cv_p, overlap_genes)\n",
    "    return {f'{studyR}_{trait}_{studyC}_{trait}': {'rStat':r_stat, 'cStat':c_stat, 'rP':r_p, 'cP':c_p,\n",
    "                                                  'rSharedMed':r_mo, 'rOnlyMed': r_mno,\n",
    "                                                  'cSharedMed': c_mo, 'cOnlyMed': c_mno}}\n",
    "\n",
    "def compare_global_p_dists(over_df):\n",
    "    common_only = []\n",
    "    rare_only = []\n",
    "    common_shared = []\n",
    "    rare_shared = []\n",
    "    for row in tqdm(over_df.iterrows()):\n",
    "        studyC = row[1]['StudyC']\n",
    "        studyR = row[1]['StudyR']\n",
    "        trait = row[1]['EFO']\n",
    "        rv_p = get_p_values(rv_gda, studyR, trait)\n",
    "        cv_p = get_p_values(cv_gda, studyC, trait)\n",
    "        overlap_genes = rv_p.join(cv_p, lsuffix='r',how='inner').index.values\n",
    "        common_only.append(cv_p[~cv_p.index.isin(overlap_genes)])\n",
    "        rare_only.append(rv_p[~rv_p.index.isin(overlap_genes)])\n",
    "        common_shared.append(cv_p[cv_p.index.isin(overlap_genes)])\n",
    "        rare_shared.append(rv_p[rv_p.index.isin(overlap_genes)])\n",
    "    common_only = pd.concat(common_only).reset_index().assign(Variant='Common', Group='Only')\n",
    "    rare_only = pd.concat(rare_only).reset_index().assign(Variant='Rare', Group='Only')\n",
    "    common_shared = pd.concat(common_shared).reset_index().assign(Variant='Common', Group='Shared')\n",
    "    rare_shared = pd.concat(rare_shared).reset_index().assign(Variant='Rare', Group='Shared')\n",
    "    return pd.concat([common_only, rare_only, common_shared, rare_shared]).reset_index()\n",
    "\n",
    "    \n",
    "def perform_p_val_rank_test(pvals, overlap_genes):\n",
    "    median_overlap =  pvals[pvals.index.isin(overlap_genes)].logp.median()\n",
    "    median_non_overlap = pvals[~pvals.index.isin(overlap_genes)].logp.median()\n",
    "    if is_sample_size_useful(len(pvals), len(overlap_genes)):\n",
    "        x = mannwhitneyu(pvals[~pvals.index.isin(overlap_genes)], pvals[pvals.index.isin(overlap_genes)])\n",
    "        return median_overlap, median_non_overlap, x.statistic[0], x.pvalue[0]\n",
    "    else:\n",
    "        return median_overlap, median_non_overlap, np.nan, np.nan\n",
    "\n",
    "def is_sample_size_useful(n_total, n_overlap):\n",
    "    if n_overlap == 0:\n",
    "        return False\n",
    "    if 2 / comb(n_total, n_overlap) > 0.05:\n",
    "        return False\n",
    "    else:\n",
    "        return True"
   ]
  },
  {
   "cell_type": "code",
   "execution_count": 41,
   "metadata": {
    "ExecuteTime": {
     "end_time": "2025-04-25T19:50:30.558480Z",
     "start_time": "2025-04-25T19:50:30.543606Z"
    }
   },
   "outputs": [
    {
     "data": {
      "text/plain": [
       "0.07142857142857142"
      ]
     },
     "execution_count": 41,
     "metadata": {},
     "output_type": "execute_result"
    }
   ],
   "source": [
    "2/comb(8, 2)"
   ]
  },
  {
   "cell_type": "code",
   "execution_count": 42,
   "metadata": {
    "ExecuteTime": {
     "end_time": "2025-04-25T19:50:30.566486Z",
     "start_time": "2025-04-25T19:50:30.559760Z"
    }
   },
   "outputs": [
    {
     "data": {
      "text/plain": [
       "MannwhitneyuResult(statistic=0.0, pvalue=0.07142857142857142)"
      ]
     },
     "execution_count": 42,
     "metadata": {},
     "output_type": "execute_result"
    }
   ],
   "source": [
    "mannwhitneyu([0,1,2,3,4,5], [6,7])"
   ]
  },
  {
   "cell_type": "code",
   "execution_count": 43,
   "metadata": {
    "ExecuteTime": {
     "end_time": "2025-04-25T19:50:40.816321Z",
     "start_time": "2025-04-25T19:50:30.567605Z"
    }
   },
   "outputs": [
    {
     "name": "stderr",
     "output_type": "stream",
     "text": [
      "373it [00:10, 36.74it/s]\n"
     ]
    }
   ],
   "source": [
    "results = {}\n",
    "for row in tqdm(over_df.iterrows()):\n",
    "    #print(row[1]['StudyC'], row[1]['StudyR'], row[1]['EFO'])\n",
    "    results = {**results,  **compare_pval_dists(row[1]['StudyC'], row[1]['StudyR'], row[1]['EFO'])}"
   ]
  },
  {
   "cell_type": "code",
   "execution_count": 44,
   "metadata": {
    "ExecuteTime": {
     "end_time": "2025-04-25T19:50:40.821416Z",
     "start_time": "2025-04-25T19:50:40.817835Z"
    }
   },
   "outputs": [],
   "source": [
    "test_df = pd.DataFrame.from_dict(results, orient='index')"
   ]
  },
  {
   "cell_type": "code",
   "execution_count": 45,
   "metadata": {
    "ExecuteTime": {
     "end_time": "2025-04-25T19:50:40.830333Z",
     "start_time": "2025-04-25T19:50:40.822709Z"
    }
   },
   "outputs": [
    {
     "data": {
      "text/plain": [
       "(54, 8)"
      ]
     },
     "execution_count": 45,
     "metadata": {},
     "output_type": "execute_result"
    }
   ],
   "source": [
    "test_df.dropna(subset='cP').shape"
   ]
  },
  {
   "cell_type": "code",
   "execution_count": 46,
   "metadata": {
    "ExecuteTime": {
     "end_time": "2025-04-25T19:50:40.837362Z",
     "start_time": "2025-04-25T19:50:40.831495Z"
    },
    "code_folding": []
   },
   "outputs": [
    {
     "data": {
      "text/plain": [
       "0.10723860589812333"
      ]
     },
     "execution_count": 46,
     "metadata": {},
     "output_type": "execute_result"
    }
   ],
   "source": [
    "# proportion that could be assessed\n",
    "len(test_df.dropna())/len(test_df)"
   ]
  },
  {
   "cell_type": "code",
   "execution_count": 47,
   "metadata": {
    "ExecuteTime": {
     "end_time": "2025-04-25T19:50:40.846313Z",
     "start_time": "2025-04-25T19:50:40.838660Z"
    }
   },
   "outputs": [],
   "source": [
    "test_df2 = test_df.dropna()"
   ]
  },
  {
   "cell_type": "code",
   "execution_count": 48,
   "metadata": {
    "ExecuteTime": {
     "end_time": "2025-04-25T19:50:40.855683Z",
     "start_time": "2025-04-25T19:50:40.847486Z"
    }
   },
   "outputs": [],
   "source": [
    "# what is the best way to assess this with such a small number of overlapping traits. Doing rare and common separately would \n",
    "# give a few more traits to work with. \n",
    "# Also, once I have the UKB traits I can add these too? Looks like the effect might be stronger for common variants which I\n",
    "# think is to be expected. "
   ]
  },
  {
   "cell_type": "code",
   "execution_count": 49,
   "metadata": {
    "ExecuteTime": {
     "end_time": "2025-04-25T19:50:41.300156Z",
     "start_time": "2025-04-25T19:50:40.943144Z"
    }
   },
   "outputs": [
    {
     "ename": "NameError",
     "evalue": "name 'common_df' is not defined",
     "output_type": "error",
     "traceback": [
      "\u001b[0;31m---------------------------------------------------------------------------\u001b[0m",
      "\u001b[0;31mNameError\u001b[0m                                 Traceback (most recent call last)",
      "Cell \u001b[0;32mIn[49], line 17\u001b[0m\n\u001b[1;32m     10\u001b[0m sns\u001b[38;5;241m.\u001b[39mviolinplot(test_df\u001b[38;5;241m.\u001b[39mmelt(value_vars\u001b[38;5;241m=\u001b[39m[\u001b[38;5;124m'\u001b[39m\u001b[38;5;124mrSharedMed\u001b[39m\u001b[38;5;124m'\u001b[39m, \u001b[38;5;124m'\u001b[39m\u001b[38;5;124mrOnlyMed\u001b[39m\u001b[38;5;124m'\u001b[39m], var_name\u001b[38;5;241m=\u001b[39m\u001b[38;5;124m'\u001b[39m\u001b[38;5;124mSet\u001b[39m\u001b[38;5;124m'\u001b[39m, value_name\u001b[38;5;241m=\u001b[39m\u001b[38;5;124m'\u001b[39m\u001b[38;5;124mMedP\u001b[39m\u001b[38;5;124m'\u001b[39m),\n\u001b[1;32m     11\u001b[0m               x\u001b[38;5;241m=\u001b[39m\u001b[38;5;124m'\u001b[39m\u001b[38;5;124mSet\u001b[39m\u001b[38;5;124m'\u001b[39m, y\u001b[38;5;241m=\u001b[39m\u001b[38;5;124m'\u001b[39m\u001b[38;5;124mMedP\u001b[39m\u001b[38;5;124m'\u001b[39m, hue\u001b[38;5;241m=\u001b[39m\u001b[38;5;124m'\u001b[39m\u001b[38;5;124mSet\u001b[39m\u001b[38;5;124m'\u001b[39m, cut\u001b[38;5;241m=\u001b[39m\u001b[38;5;241m0\u001b[39m, fill\u001b[38;5;241m=\u001b[39m\u001b[38;5;28;01mFalse\u001b[39;00m, palette\u001b[38;5;241m=\u001b[39m[\u001b[38;5;124m'\u001b[39m\u001b[38;5;124mk\u001b[39m\u001b[38;5;124m'\u001b[39m, \u001b[38;5;124m'\u001b[39m\u001b[38;5;124mk\u001b[39m\u001b[38;5;124m'\u001b[39m], linewidth\u001b[38;5;241m=\u001b[39m\u001b[38;5;241m0.3\u001b[39m,\n\u001b[1;32m     12\u001b[0m               order \u001b[38;5;241m=\u001b[39m [ \u001b[38;5;124m'\u001b[39m\u001b[38;5;124mrSharedMed\u001b[39m\u001b[38;5;124m'\u001b[39m, \u001b[38;5;124m'\u001b[39m\u001b[38;5;124mrOnlyMed\u001b[39m\u001b[38;5;124m'\u001b[39m], zorder\u001b[38;5;241m=\u001b[39m\u001b[38;5;241m2\u001b[39m, ax\u001b[38;5;241m=\u001b[39max2)\n\u001b[1;32m     13\u001b[0m sns\u001b[38;5;241m.\u001b[39mstripplot(test_df\u001b[38;5;241m.\u001b[39mdropna()\u001b[38;5;241m.\u001b[39mmelt(value_vars\u001b[38;5;241m=\u001b[39m[ \u001b[38;5;124m'\u001b[39m\u001b[38;5;124mrSharedMed\u001b[39m\u001b[38;5;124m'\u001b[39m, \u001b[38;5;124m'\u001b[39m\u001b[38;5;124mrOnlyMed\u001b[39m\u001b[38;5;124m'\u001b[39m], \n\u001b[1;32m     14\u001b[0m                                     var_name\u001b[38;5;241m=\u001b[39m\u001b[38;5;124m'\u001b[39m\u001b[38;5;124mSet\u001b[39m\u001b[38;5;124m'\u001b[39m, value_name\u001b[38;5;241m=\u001b[39m\u001b[38;5;124m'\u001b[39m\u001b[38;5;124mMedP\u001b[39m\u001b[38;5;124m'\u001b[39m), palette\u001b[38;5;241m=\u001b[39m[ green, green],\n\u001b[1;32m     15\u001b[0m               order\u001b[38;5;241m=\u001b[39m [ \u001b[38;5;124m'\u001b[39m\u001b[38;5;124mrSharedMed\u001b[39m\u001b[38;5;124m'\u001b[39m, \u001b[38;5;124m'\u001b[39m\u001b[38;5;124mrOnlyMed\u001b[39m\u001b[38;5;124m'\u001b[39m],jitter\u001b[38;5;241m=\u001b[39m\u001b[38;5;241m0.2\u001b[39m,\n\u001b[1;32m     16\u001b[0m               x\u001b[38;5;241m=\u001b[39m\u001b[38;5;124m'\u001b[39m\u001b[38;5;124mSet\u001b[39m\u001b[38;5;124m'\u001b[39m, y\u001b[38;5;241m=\u001b[39m\u001b[38;5;124m'\u001b[39m\u001b[38;5;124mMedP\u001b[39m\u001b[38;5;124m'\u001b[39m, hue\u001b[38;5;241m=\u001b[39m\u001b[38;5;124m'\u001b[39m\u001b[38;5;124mSet\u001b[39m\u001b[38;5;124m'\u001b[39m, edgecolor\u001b[38;5;241m=\u001b[39m\u001b[38;5;124m'\u001b[39m\u001b[38;5;124mblack\u001b[39m\u001b[38;5;124m'\u001b[39m, s\u001b[38;5;241m=\u001b[39m\u001b[38;5;241m2\u001b[39m, zorder\u001b[38;5;241m=\u001b[39m\u001b[38;5;241m1\u001b[39m, ax\u001b[38;5;241m=\u001b[39max2)\n\u001b[0;32m---> 17\u001b[0m p_common \u001b[38;5;241m=\u001b[39m wilcoxon(\u001b[43mcommon_df\u001b[49m\u001b[38;5;241m.\u001b[39mcSharedMed, common_df\u001b[38;5;241m.\u001b[39mcOnlyMed)\u001b[38;5;241m.\u001b[39mpvalue\n\u001b[1;32m     18\u001b[0m p_rare \u001b[38;5;241m=\u001b[39m wilcoxon(rare_df\u001b[38;5;241m.\u001b[39mrSharedMed, rare_df\u001b[38;5;241m.\u001b[39mrOnlyMed)\u001b[38;5;241m.\u001b[39mpvalue\n\u001b[1;32m     21\u001b[0m \u001b[38;5;28;01mfor\u001b[39;00m i, ax \u001b[38;5;129;01min\u001b[39;00m \u001b[38;5;28menumerate\u001b[39m([ax1, ax2]):\n",
      "\u001b[0;31mNameError\u001b[0m: name 'common_df' is not defined"
     ]
    },
    {
     "data": {
      "image/png": "[encoded data removed]",
      "text/plain": [
       "<Figure size 300x150 with 2 Axes>"
      ]
     },
     "metadata": {},
     "output_type": "display_data"
    }
   ],
   "source": [
    "_, [ax1, ax2] = plt.subplots( nrows=1, ncols=2, figsize=(3, 1.5), gridspec_kw={'wspace':0.4})\n",
    "sns.violinplot(test_df.melt(value_vars=[ 'cSharedMed', 'cOnlyMed'], var_name='Set', value_name='MedP'),\n",
    "              x='Set', y='MedP', hue='Set', cut=0, fill=False, palette=['k','k'], linewidth=0.3,\n",
    "              order = [ 'cSharedMed', 'cOnlyMed',], zorder=2, ax=ax1)\n",
    "sns.stripplot(test_df.dropna().melt(value_vars=[ 'cSharedMed', 'cOnlyMed'], \n",
    "                                    var_name='Set', value_name='MedP'), palette=[blue, blue],\n",
    "              order= [ 'cSharedMed', 'cOnlyMed'],jitter=0.2,\n",
    "              x='Set', y='MedP', hue='Set', edgecolor='black', s=2, zorder=1, ax=ax1)\n",
    "\n",
    "sns.violinplot(test_df.melt(value_vars=['rSharedMed', 'rOnlyMed'], var_name='Set', value_name='MedP'),\n",
    "              x='Set', y='MedP', hue='Set', cut=0, fill=False, palette=['k', 'k'], linewidth=0.3,\n",
    "              order = [ 'rSharedMed', 'rOnlyMed'], zorder=2, ax=ax2)\n",
    "sns.stripplot(test_df.dropna().melt(value_vars=[ 'rSharedMed', 'rOnlyMed'], \n",
    "                                    var_name='Set', value_name='MedP'), palette=[ green, green],\n",
    "              order= [ 'rSharedMed', 'rOnlyMed'],jitter=0.2,\n",
    "              x='Set', y='MedP', hue='Set', edgecolor='black', s=2, zorder=1, ax=ax2)\n",
    "p_common = wilcoxon(common_df.cSharedMed, common_df.cOnlyMed).pvalue\n",
    "p_rare = wilcoxon(rare_df.rSharedMed, rare_df.rOnlyMed).pvalue\n",
    "\n",
    "\n",
    "for i, ax in enumerate([ax1, ax2]):\n",
    "    ax.set_xticks([0,1], labels=['Shared', 'Disjoint'])\n",
    "    ax.set_xlabel(f'{[\"Common\", \"Rare\"][i]} (n={[len(common_df), len(rare_df)][i]})')\n",
    "    ax.set_ylim(0, [320, 150][i])\n",
    "    ax.text(x=0.25, y=[320, 150][i]*0.75, s=f'p={[p_common, p_rare][i]:.1e}')\n",
    "    ax.set_ylabel('Median Assoc P-value')\n",
    "plt.savefig(os.path.join(figdir, 'p_value_comparison.svg'),bbox_inches='tight')"
   ]
  },
  {
   "cell_type": "code",
   "execution_count": 50,
   "metadata": {
    "ExecuteTime": {
     "end_time": "2025-04-25T19:50:49.962639Z",
     "start_time": "2025-04-25T19:50:49.314462Z"
    }
   },
   "outputs": [
    {
     "data": {
      "text/plain": [
       "<Axes: xlabel='Set', ylabel='P'>"
      ]
     },
     "execution_count": 50,
     "metadata": {},
     "output_type": "execute_result"
    },
    {
     "data": {
      "image/png": "[encoded data removed]",
      "text/plain": [
       "<Figure size 800x400 with 2 Axes>"
      ]
     },
     "metadata": {},
     "output_type": "display_data"
    }
   ],
   "source": [
    "_, [ax1, ax2] = plt.subplots(nrows=1, ncols=2, figsize=(8, 4))\n",
    "sns.violinplot(test_df.melt(value_vars=['rSharedMed', 'rOnlyMed', 'cSharedMed', 'cOnlyMed'], var_name='Set', value_name='MedP'),\n",
    "              x='Set', y='MedP', hue='Set', cut=0, ax=ax1, fill=False, palette=['k','k','k', 'k'], linewidth=0.3)\n",
    "sns.stripplot(test_df.dropna().melt(value_vars=['rSharedMed', 'rOnlyMed', 'cSharedMed', 'cOnlyMed'], var_name='Set', value_name='MedP'),\n",
    "              x='Set', y='MedP', hue='Set', ax=ax1, edgecolor='black')\n",
    "plot_df = test_df2.melt(value_vars=['rP', 'cP'], var_name='Set', value_name='P')\n",
    "plot_df['Sig'] = plot_df.P.apply(lambda x: 0 if x > 0.05 else 1 if x > 0.1/len(plot_df) else 2)\n",
    "sns.stripplot(plot_df, jitter=0.3,\n",
    "              x='Set', y='P', hue='Sig', log_scale=True, alpha=0.5, ax=ax2)\n",
    "sns.boxplot(plot_df, x='Set', y='P', log_scale=True, fliersize=0, fill=False, color='grey', ax=ax2)"
   ]
  },
  {
   "cell_type": "code",
   "execution_count": 51,
   "metadata": {
    "ExecuteTime": {
     "end_time": "2025-04-25T19:50:51.459010Z",
     "start_time": "2025-04-25T19:50:51.306230Z"
    }
   },
   "outputs": [
    {
     "data": {
      "text/plain": [
       "(-0.5, 1.5)"
      ]
     },
     "execution_count": 51,
     "metadata": {},
     "output_type": "execute_result"
    },
    {
     "data": {
      "image/png": "[encoded data removed]",
      "text/plain": [
       "<Figure size 200x200 with 1 Axes>"
      ]
     },
     "metadata": {},
     "output_type": "display_data"
    }
   ],
   "source": [
    "_ = plt.figure(figsize=(2,2))\n",
    "\n",
    "rare_df = test_df.loc[:, ('rP', 'rSharedMed', 'rOnlyMed')].dropna()\n",
    "rare_df['logp'] = rare_df.rP.apply(lambda x: -1 * np.log10(x))\n",
    "rare_df = rare_df.assign(minus_logp = rare_df['logp'] * -1)\n",
    "rare_df['plot_p'] = rare_df.apply(lambda x: x.logp if x.rSharedMed > x.rOnlyMed else x.minus_logp, axis=1)\n",
    "sns.violinplot(rare_df, y='plot_p', x=2, cut=0, color=green, \n",
    "                       density_norm='count', orient='v', linewidth=0.3, saturation=1, zorder=1)\n",
    "\n",
    "common_df = test_df.loc[:, ('cP', 'cSharedMed', 'cOnlyMed')].dropna()\n",
    "common_df['logp'] = common_df.cP.apply(lambda x: -1 * np.log10(x))\n",
    "common_df = common_df.assign(minus_logp = common_df['logp'] * -1)\n",
    "common_df['plot_p'] = common_df.apply(lambda x: x.logp if x.cSharedMed > x.cOnlyMed else x.minus_logp, axis=1)\n",
    "sns.violinplot(common_df, y='plot_p', x=1, cut=0, color=blue, \n",
    "                       density_norm='count', orient='v', linewidth=0.3, saturation=1, zorder=2)\n",
    "\n",
    "plt.hlines(y=0, xmin=-0.5, xmax=1.5, color='black', linewidth=0.5, zorder=0)\n",
    "plt.hlines(y=-1*np.log10(0.0004), xmin=-0.5, xmax=1.5, color='black', linewidth=0.5, zorder=3, linestyle='--')\n",
    "plt.hlines(y=np.log10(0.0004), xmin=-0.5, xmax=1.5, color='black', linewidth=0.5, zorder=3, linestyle='--')\n",
    "plt.xlim(-0.5, 1.5)\n",
    "\n"
   ]
  },
  {
   "cell_type": "markdown",
   "metadata": {},
   "source": [
    "## Overlap spectrum"
   ]
  },
  {
   "cell_type": "code",
   "execution_count": 52,
   "metadata": {
    "ExecuteTime": {
     "end_time": "2025-04-25T19:50:53.175151Z",
     "start_time": "2025-04-25T19:50:53.080439Z"
    }
   },
   "outputs": [],
   "source": [
    "r_traitlist = pd.read_csv(os.path.join(datadir, 'inputs/March_2025', 'rare_Mar28.traitlist'), header=None)[0].values\n",
    "c_traitlist = pd.read_csv(os.path.join(datadir, 'inputs/March_2025', 'common_Mar28.traitlist'), header=None)[0].values\n",
    "pairs = [r_traitlist[i]+'_'+c_traitlist[i] for i in range(len(r_traitlist))]"
   ]
  },
  {
   "cell_type": "code",
   "execution_count": 53,
   "metadata": {
    "ExecuteTime": {
     "end_time": "2025-04-25T19:50:53.742803Z",
     "start_time": "2025-04-25T19:50:53.735884Z"
    }
   },
   "outputs": [
    {
     "data": {
      "text/html": [
       "<div>\n",
       "<style scoped>\n",
       "    .dataframe tbody tr th:only-of-type {\n",
       "        vertical-align: middle;\n",
       "    }\n",
       "\n",
       "    .dataframe tbody tr th {\n",
       "        vertical-align: top;\n",
       "    }\n",
       "\n",
       "    .dataframe thead th {\n",
       "        text-align: right;\n",
       "    }\n",
       "</style>\n",
       "<table border=\"1\" class=\"dataframe\">\n",
       "  <thead>\n",
       "    <tr style=\"text-align: right;\">\n",
       "      <th></th>\n",
       "      <th>trait_pair</th>\n",
       "      <th>param_set</th>\n",
       "      <th>n_common</th>\n",
       "      <th>n_rare</th>\n",
       "      <th>n_overlap</th>\n",
       "      <th>background</th>\n",
       "      <th>pval</th>\n",
       "      <th>EFO</th>\n",
       "      <th>StudyC</th>\n",
       "      <th>StudyR</th>\n",
       "      <th>Expected</th>\n",
       "      <th>logp</th>\n",
       "    </tr>\n",
       "  </thead>\n",
       "  <tbody>\n",
       "    <tr>\n",
       "      <th>0</th>\n",
       "      <td>20549515_EFO_0001645_GCST90132305_EFO_0001645</td>\n",
       "      <td>defaults</td>\n",
       "      <td>35</td>\n",
       "      <td>4</td>\n",
       "      <td>0</td>\n",
       "      <td>19000</td>\n",
       "      <td>0.007349</td>\n",
       "      <td>EFO_0001645</td>\n",
       "      <td>GCST90132305</td>\n",
       "      <td>20549515</td>\n",
       "      <td>0.007368</td>\n",
       "      <td>2.133792</td>\n",
       "    </tr>\n",
       "    <tr>\n",
       "      <th>1</th>\n",
       "      <td>25583502_EFO_0004340_GCST90179150_EFO_0004340</td>\n",
       "      <td>defaults</td>\n",
       "      <td>624</td>\n",
       "      <td>5</td>\n",
       "      <td>0</td>\n",
       "      <td>19000</td>\n",
       "      <td>0.153788</td>\n",
       "      <td>EFO_0004340</td>\n",
       "      <td>GCST90179150</td>\n",
       "      <td>25583502</td>\n",
       "      <td>0.164211</td>\n",
       "      <td>0.813077</td>\n",
       "    </tr>\n",
       "    <tr>\n",
       "      <th>2</th>\n",
       "      <td>28089252_EFO_0004833_GCST90002355_EFO_0004833</td>\n",
       "      <td>defaults</td>\n",
       "      <td>200</td>\n",
       "      <td>7</td>\n",
       "      <td>0</td>\n",
       "      <td>19000</td>\n",
       "      <td>0.071409</td>\n",
       "      <td>EFO_0004833</td>\n",
       "      <td>GCST90002355</td>\n",
       "      <td>28089252</td>\n",
       "      <td>0.073684</td>\n",
       "      <td>1.146249</td>\n",
       "    </tr>\n",
       "    <tr>\n",
       "      <th>3</th>\n",
       "      <td>29185836_GO_0070527_GCST000693_GO_0070527</td>\n",
       "      <td>defaults</td>\n",
       "      <td>5</td>\n",
       "      <td>22</td>\n",
       "      <td>0</td>\n",
       "      <td>19000</td>\n",
       "      <td>0.005777</td>\n",
       "      <td>GO_0070527</td>\n",
       "      <td>GCST000693</td>\n",
       "      <td>29185836</td>\n",
       "      <td>0.005789</td>\n",
       "      <td>2.238321</td>\n",
       "    </tr>\n",
       "    <tr>\n",
       "      <th>4</th>\n",
       "      <td>31367044_EFO_0004502_GCST90293085_EFO_0004502</td>\n",
       "      <td>defaults</td>\n",
       "      <td>10</td>\n",
       "      <td>6</td>\n",
       "      <td>1</td>\n",
       "      <td>19000</td>\n",
       "      <td>0.000004</td>\n",
       "      <td>EFO_0004502</td>\n",
       "      <td>GCST90293085</td>\n",
       "      <td>31367044</td>\n",
       "      <td>0.003158</td>\n",
       "      <td>5.427638</td>\n",
       "    </tr>\n",
       "  </tbody>\n",
       "</table>\n",
       "</div>"
      ],
      "text/plain": [
       "                                      trait_pair param_set  n_common  n_rare  \\\n",
       "0  20549515_EFO_0001645_GCST90132305_EFO_0001645  defaults        35       4   \n",
       "1  25583502_EFO_0004340_GCST90179150_EFO_0004340  defaults       624       5   \n",
       "2  28089252_EFO_0004833_GCST90002355_EFO_0004833  defaults       200       7   \n",
       "3      29185836_GO_0070527_GCST000693_GO_0070527  defaults         5      22   \n",
       "4  31367044_EFO_0004502_GCST90293085_EFO_0004502  defaults        10       6   \n",
       "\n",
       "   n_overlap  background      pval          EFO        StudyC    StudyR  \\\n",
       "0          0       19000  0.007349  EFO_0001645  GCST90132305  20549515   \n",
       "1          0       19000  0.153788  EFO_0004340  GCST90179150  25583502   \n",
       "2          0       19000  0.071409  EFO_0004833  GCST90002355  28089252   \n",
       "3          0       19000  0.005777   GO_0070527    GCST000693  29185836   \n",
       "4          1       19000  0.000004  EFO_0004502  GCST90293085  31367044   \n",
       "\n",
       "   Expected      logp  \n",
       "0  0.007368  2.133792  \n",
       "1  0.164211  0.813077  \n",
       "2  0.073684  1.146249  \n",
       "3  0.005789  2.238321  \n",
       "4  0.003158  5.427638  "
      ]
     },
     "execution_count": 53,
     "metadata": {},
     "output_type": "execute_result"
    }
   ],
   "source": [
    "over_df.head()"
   ]
  },
  {
   "cell_type": "code",
   "execution_count": 54,
   "metadata": {
    "ExecuteTime": {
     "end_time": "2025-04-25T19:50:55.245170Z",
     "start_time": "2025-04-25T19:50:55.241770Z"
    }
   },
   "outputs": [
    {
     "data": {
      "text/plain": [
       "(373, 12)"
      ]
     },
     "execution_count": 54,
     "metadata": {},
     "output_type": "execute_result"
    }
   ],
   "source": [
    "top_over_df = over_df[over_df.trait_pair.isin(pairs)]\n",
    "top_over_df.shape"
   ]
  },
  {
   "cell_type": "code",
   "execution_count": 55,
   "metadata": {
    "ExecuteTime": {
     "end_time": "2025-04-25T19:50:56.317343Z",
     "start_time": "2025-04-25T19:50:56.304834Z"
    }
   },
   "outputs": [
    {
     "ename": "NameError",
     "evalue": "name 'fdrcorrection' is not defined",
     "output_type": "error",
     "traceback": [
      "\u001b[0;31m---------------------------------------------------------------------------\u001b[0m",
      "\u001b[0;31mNameError\u001b[0m                                 Traceback (most recent call last)",
      "Cell \u001b[0;32mIn[55], line 1\u001b[0m\n\u001b[0;32m----> 1\u001b[0m \u001b[43mfdrcorrection\u001b[49m(top_over_df\u001b[38;5;241m.\u001b[39mpval\u001b[38;5;241m.\u001b[39mvalues)\n",
      "\u001b[0;31mNameError\u001b[0m: name 'fdrcorrection' is not defined"
     ]
    }
   ],
   "source": [
    "fdrcorrection(top_over_df.pval.values)"
   ]
  },
  {
   "cell_type": "code",
   "execution_count": 56,
   "metadata": {
    "ExecuteTime": {
     "end_time": "2025-04-25T19:51:02.444881Z",
     "start_time": "2025-04-25T19:51:02.137237Z"
    }
   },
   "outputs": [],
   "source": [
    "from statsmodels.stats.multitest import fdrcorrection\n",
    "top_over_df['q'] = fdrcorrection(top_over_df.pval.values)[1]"
   ]
  },
  {
   "cell_type": "code",
   "execution_count": 57,
   "metadata": {
    "ExecuteTime": {
     "end_time": "2025-04-25T19:51:03.429098Z",
     "start_time": "2025-04-25T19:51:03.426710Z"
    }
   },
   "outputs": [],
   "source": [
    "top_over_df['J'] = top_over_df.n_overlap / (top_over_df.n_common + top_over_df.n_rare - top_over_df.n_overlap)"
   ]
  },
  {
   "cell_type": "code",
   "execution_count": 58,
   "metadata": {
    "ExecuteTime": {
     "end_time": "2025-04-25T19:51:03.978685Z",
     "start_time": "2025-04-25T19:51:03.969015Z"
    }
   },
   "outputs": [
    {
     "data": {
      "text/html": [
       "<div>\n",
       "<style scoped>\n",
       "    .dataframe tbody tr th:only-of-type {\n",
       "        vertical-align: middle;\n",
       "    }\n",
       "\n",
       "    .dataframe tbody tr th {\n",
       "        vertical-align: top;\n",
       "    }\n",
       "\n",
       "    .dataframe thead th {\n",
       "        text-align: right;\n",
       "    }\n",
       "</style>\n",
       "<table border=\"1\" class=\"dataframe\">\n",
       "  <thead>\n",
       "    <tr style=\"text-align: right;\">\n",
       "      <th></th>\n",
       "      <th>trait_pair</th>\n",
       "      <th>param_set</th>\n",
       "      <th>n_common</th>\n",
       "      <th>n_rare</th>\n",
       "      <th>n_overlap</th>\n",
       "      <th>background</th>\n",
       "      <th>pval</th>\n",
       "      <th>EFO</th>\n",
       "      <th>StudyC</th>\n",
       "      <th>StudyR</th>\n",
       "      <th>Expected</th>\n",
       "      <th>logp</th>\n",
       "      <th>q</th>\n",
       "      <th>J</th>\n",
       "    </tr>\n",
       "  </thead>\n",
       "  <tbody>\n",
       "    <tr>\n",
       "      <th>152</th>\n",
       "      <td>34375979_EFO_0007805_GCST90025956_EFO_0007805</td>\n",
       "      <td>defaults</td>\n",
       "      <td>22</td>\n",
       "      <td>17</td>\n",
       "      <td>11</td>\n",
       "      <td>19000</td>\n",
       "      <td>8.668892e-34</td>\n",
       "      <td>EFO_0007805</td>\n",
       "      <td>GCST90025956</td>\n",
       "      <td>34375979</td>\n",
       "      <td>0.019684</td>\n",
       "      <td>33.062036</td>\n",
       "      <td>5.389161e-32</td>\n",
       "      <td>0.392857</td>\n",
       "    </tr>\n",
       "    <tr>\n",
       "      <th>122</th>\n",
       "      <td>34375979_EFO_0004615_GCST90025952_EFO_0004615</td>\n",
       "      <td>defaults</td>\n",
       "      <td>9</td>\n",
       "      <td>9</td>\n",
       "      <td>5</td>\n",
       "      <td>19000</td>\n",
       "      <td>1.080279e-19</td>\n",
       "      <td>EFO_0004615</td>\n",
       "      <td>GCST90025952</td>\n",
       "      <td>34375979</td>\n",
       "      <td>0.004263</td>\n",
       "      <td>18.966464</td>\n",
       "      <td>7.326256e-19</td>\n",
       "      <td>0.384615</td>\n",
       "    </tr>\n",
       "    <tr>\n",
       "      <th>155</th>\n",
       "      <td>34375979_EFO_0007986_GCST90025972_EFO_0007986</td>\n",
       "      <td>defaults</td>\n",
       "      <td>21</td>\n",
       "      <td>16</td>\n",
       "      <td>9</td>\n",
       "      <td>19000</td>\n",
       "      <td>1.670446e-27</td>\n",
       "      <td>EFO_0007986</td>\n",
       "      <td>GCST90025972</td>\n",
       "      <td>34375979</td>\n",
       "      <td>0.017684</td>\n",
       "      <td>26.777168</td>\n",
       "      <td>4.153841e-26</td>\n",
       "      <td>0.321429</td>\n",
       "    </tr>\n",
       "    <tr>\n",
       "      <th>21</th>\n",
       "      <td>34226706_EFO_0007788_GCST90025996_EFO_0007788</td>\n",
       "      <td>defaults</td>\n",
       "      <td>3</td>\n",
       "      <td>6</td>\n",
       "      <td>2</td>\n",
       "      <td>19000</td>\n",
       "      <td>1.749802e-11</td>\n",
       "      <td>EFO_0007788</td>\n",
       "      <td>GCST90025996</td>\n",
       "      <td>34226706</td>\n",
       "      <td>0.000947</td>\n",
       "      <td>10.757011</td>\n",
       "      <td>5.987856e-11</td>\n",
       "      <td>0.285714</td>\n",
       "    </tr>\n",
       "    <tr>\n",
       "      <th>125</th>\n",
       "      <td>34375979_EFO_0004631_GCST90025967_EFO_0004631</td>\n",
       "      <td>defaults</td>\n",
       "      <td>4</td>\n",
       "      <td>5</td>\n",
       "      <td>2</td>\n",
       "      <td>19000</td>\n",
       "      <td>3.499329e-11</td>\n",
       "      <td>EFO_0004631</td>\n",
       "      <td>GCST90025967</td>\n",
       "      <td>34375979</td>\n",
       "      <td>0.001053</td>\n",
       "      <td>10.456015</td>\n",
       "      <td>1.165401e-10</td>\n",
       "      <td>0.285714</td>\n",
       "    </tr>\n",
       "    <tr>\n",
       "      <th>...</th>\n",
       "      <td>...</td>\n",
       "      <td>...</td>\n",
       "      <td>...</td>\n",
       "      <td>...</td>\n",
       "      <td>...</td>\n",
       "      <td>...</td>\n",
       "      <td>...</td>\n",
       "      <td>...</td>\n",
       "      <td>...</td>\n",
       "      <td>...</td>\n",
       "      <td>...</td>\n",
       "      <td>...</td>\n",
       "      <td>...</td>\n",
       "      <td>...</td>\n",
       "    </tr>\n",
       "    <tr>\n",
       "      <th>160</th>\n",
       "      <td>34375979_EFO_0008401_GCST005001_EFO_0008401</td>\n",
       "      <td>defaults</td>\n",
       "      <td>21</td>\n",
       "      <td>6</td>\n",
       "      <td>0</td>\n",
       "      <td>19000</td>\n",
       "      <td>6.614150e-03</td>\n",
       "      <td>EFO_0008401</td>\n",
       "      <td>GCST005001</td>\n",
       "      <td>34375979</td>\n",
       "      <td>0.006632</td>\n",
       "      <td>2.179526</td>\n",
       "      <td>8.334723e-03</td>\n",
       "      <td>0.000000</td>\n",
       "    </tr>\n",
       "    <tr>\n",
       "      <th>151</th>\n",
       "      <td>34375979_EFO_0007490_GCST90018922_EFO_0007490</td>\n",
       "      <td>defaults</td>\n",
       "      <td>7</td>\n",
       "      <td>18</td>\n",
       "      <td>0</td>\n",
       "      <td>19000</td>\n",
       "      <td>6.613802e-03</td>\n",
       "      <td>EFO_0007490</td>\n",
       "      <td>GCST90018922</td>\n",
       "      <td>34375979</td>\n",
       "      <td>0.006632</td>\n",
       "      <td>2.179549</td>\n",
       "      <td>8.334723e-03</td>\n",
       "      <td>0.000000</td>\n",
       "    </tr>\n",
       "    <tr>\n",
       "      <th>150</th>\n",
       "      <td>34375979_EFO_0007429_GCST90269781_EFO_0007429</td>\n",
       "      <td>defaults</td>\n",
       "      <td>4</td>\n",
       "      <td>10</td>\n",
       "      <td>0</td>\n",
       "      <td>19000</td>\n",
       "      <td>2.103768e-03</td>\n",
       "      <td>EFO_0007429</td>\n",
       "      <td>GCST90269781</td>\n",
       "      <td>34375979</td>\n",
       "      <td>0.002105</td>\n",
       "      <td>2.677002</td>\n",
       "      <td>3.367834e-03</td>\n",
       "      <td>0.000000</td>\n",
       "    </tr>\n",
       "    <tr>\n",
       "      <th>149</th>\n",
       "      <td>34375979_EFO_0007326_GCST005002_EFO_0007326</td>\n",
       "      <td>defaults</td>\n",
       "      <td>15</td>\n",
       "      <td>5</td>\n",
       "      <td>0</td>\n",
       "      <td>19000</td>\n",
       "      <td>3.941555e-03</td>\n",
       "      <td>EFO_0007326</td>\n",
       "      <td>GCST005002</td>\n",
       "      <td>34375979</td>\n",
       "      <td>0.003947</td>\n",
       "      <td>2.404332</td>\n",
       "      <td>5.506367e-03</td>\n",
       "      <td>0.000000</td>\n",
       "    </tr>\n",
       "    <tr>\n",
       "      <th>372</th>\n",
       "      <td>37262146_MONDO_0004975_GCST90444373_MONDO_0004975</td>\n",
       "      <td>defaults</td>\n",
       "      <td>6</td>\n",
       "      <td>32</td>\n",
       "      <td>0</td>\n",
       "      <td>19000</td>\n",
       "      <td>1.006413e-02</td>\n",
       "      <td>MONDO_0004975</td>\n",
       "      <td>GCST90444373</td>\n",
       "      <td>37262146</td>\n",
       "      <td>0.010105</td>\n",
       "      <td>1.997224</td>\n",
       "      <td>1.180478e-02</td>\n",
       "      <td>0.000000</td>\n",
       "    </tr>\n",
       "  </tbody>\n",
       "</table>\n",
       "<p>373 rows × 14 columns</p>\n",
       "</div>"
      ],
      "text/plain": [
       "                                            trait_pair param_set  n_common  \\\n",
       "152      34375979_EFO_0007805_GCST90025956_EFO_0007805  defaults        22   \n",
       "122      34375979_EFO_0004615_GCST90025952_EFO_0004615  defaults         9   \n",
       "155      34375979_EFO_0007986_GCST90025972_EFO_0007986  defaults        21   \n",
       "21       34226706_EFO_0007788_GCST90025996_EFO_0007788  defaults         3   \n",
       "125      34375979_EFO_0004631_GCST90025967_EFO_0004631  defaults         4   \n",
       "..                                                 ...       ...       ...   \n",
       "160        34375979_EFO_0008401_GCST005001_EFO_0008401  defaults        21   \n",
       "151      34375979_EFO_0007490_GCST90018922_EFO_0007490  defaults         7   \n",
       "150      34375979_EFO_0007429_GCST90269781_EFO_0007429  defaults         4   \n",
       "149        34375979_EFO_0007326_GCST005002_EFO_0007326  defaults        15   \n",
       "372  37262146_MONDO_0004975_GCST90444373_MONDO_0004975  defaults         6   \n",
       "\n",
       "     n_rare  n_overlap  background          pval            EFO        StudyC  \\\n",
       "152      17         11       19000  8.668892e-34    EFO_0007805  GCST90025956   \n",
       "122       9          5       19000  1.080279e-19    EFO_0004615  GCST90025952   \n",
       "155      16          9       19000  1.670446e-27    EFO_0007986  GCST90025972   \n",
       "21        6          2       19000  1.749802e-11    EFO_0007788  GCST90025996   \n",
       "125       5          2       19000  3.499329e-11    EFO_0004631  GCST90025967   \n",
       "..      ...        ...         ...           ...            ...           ...   \n",
       "160       6          0       19000  6.614150e-03    EFO_0008401    GCST005001   \n",
       "151      18          0       19000  6.613802e-03    EFO_0007490  GCST90018922   \n",
       "150      10          0       19000  2.103768e-03    EFO_0007429  GCST90269781   \n",
       "149       5          0       19000  3.941555e-03    EFO_0007326    GCST005002   \n",
       "372      32          0       19000  1.006413e-02  MONDO_0004975  GCST90444373   \n",
       "\n",
       "       StudyR  Expected       logp             q         J  \n",
       "152  34375979  0.019684  33.062036  5.389161e-32  0.392857  \n",
       "122  34375979  0.004263  18.966464  7.326256e-19  0.384615  \n",
       "155  34375979  0.017684  26.777168  4.153841e-26  0.321429  \n",
       "21   34226706  0.000947  10.757011  5.987856e-11  0.285714  \n",
       "125  34375979  0.001053  10.456015  1.165401e-10  0.285714  \n",
       "..        ...       ...        ...           ...       ...  \n",
       "160  34375979  0.006632   2.179526  8.334723e-03  0.000000  \n",
       "151  34375979  0.006632   2.179549  8.334723e-03  0.000000  \n",
       "150  34375979  0.002105   2.677002  3.367834e-03  0.000000  \n",
       "149  34375979  0.003947   2.404332  5.506367e-03  0.000000  \n",
       "372  37262146  0.010105   1.997224  1.180478e-02  0.000000  \n",
       "\n",
       "[373 rows x 14 columns]"
      ]
     },
     "execution_count": 58,
     "metadata": {},
     "output_type": "execute_result"
    }
   ],
   "source": [
    "top_over_df.sort_values('J', ascending=False)"
   ]
  },
  {
   "cell_type": "code",
   "execution_count": 59,
   "metadata": {
    "ExecuteTime": {
     "end_time": "2025-04-25T19:51:05.461770Z",
     "start_time": "2025-04-25T19:51:05.456982Z"
    }
   },
   "outputs": [
    {
     "data": {
      "text/plain": [
       "count    184.000000\n",
       "mean       0.269741\n",
       "std        0.186669\n",
       "min        0.004255\n",
       "25%        0.102586\n",
       "50%        0.275253\n",
       "75%        0.400000\n",
       "max        0.750000\n",
       "dtype: float64"
      ]
     },
     "execution_count": 59,
     "metadata": {},
     "output_type": "execute_result"
    }
   ],
   "source": [
    "x = top_over_df[(top_over_df.n_overlap != 0) & (top_over_df.q < 0.05)]\n",
    "(x.n_overlap / x.n_common).describe()"
   ]
  },
  {
   "cell_type": "code",
   "execution_count": 61,
   "metadata": {
    "ExecuteTime": {
     "end_time": "2025-04-25T19:51:07.741099Z",
     "start_time": "2025-04-25T19:51:07.737205Z"
    }
   },
   "outputs": [],
   "source": [
    "top_over_df['rare_only'] = top_over_df.n_rare - top_over_df.n_overlap\n",
    "top_over_df['common_only'] = top_over_df.n_common - top_over_df.n_overlap\n",
    "top_over_df['total'] = top_over_df.rare_only + top_over_df.common_only + top_over_df.n_overlap\n",
    "top_over_df['overlap+rare'] = top_over_df.n_overlap + top_over_df.rare_only\n",
    "top_over_df = top_over_df.sort_values(by=['n_overlap', 'total'], ascending=False)"
   ]
  },
  {
   "cell_type": "code",
   "execution_count": 68,
   "metadata": {
    "ExecuteTime": {
     "end_time": "2025-04-25T19:52:33.293177Z",
     "start_time": "2025-04-25T19:52:33.289469Z"
    }
   },
   "outputs": [],
   "source": [
    "top_over_df['logq'] = top_over_df.q.apply(lambda x: -1 * np.log10(x+1e-50))"
   ]
  },
  {
   "cell_type": "code",
   "execution_count": 71,
   "metadata": {
    "ExecuteTime": {
     "end_time": "2025-04-25T19:52:54.871565Z",
     "start_time": "2025-04-25T19:52:54.866619Z"
    }
   },
   "outputs": [],
   "source": [
    "plot_df=top_over_df[(top_over_df.param_set=='defaults') & ((top_over_df.total > 100) ) & (top_over_df.total < 1000)].melt(id_vars=['trait_pair', 'q', 'logq'], value_vars=['n_overlap', 'overlap+rare', 'total'])"
   ]
  },
  {
   "cell_type": "code",
   "execution_count": 72,
   "metadata": {
    "ExecuteTime": {
     "end_time": "2025-04-25T19:52:57.123227Z",
     "start_time": "2025-04-25T19:52:57.119854Z"
    }
   },
   "outputs": [],
   "source": [
    "total_order = top_over_df[top_over_df.param_set=='defaults'].sort_values(by=['n_overlap', 'n_rare', 'n_common'], ascending=[False, False, False]).trait_pair.values"
   ]
  },
  {
   "cell_type": "code",
   "execution_count": 73,
   "metadata": {
    "ExecuteTime": {
     "end_time": "2025-04-25T19:52:57.850353Z",
     "start_time": "2025-04-25T19:52:57.847730Z"
    }
   },
   "outputs": [
    {
     "data": {
      "text/plain": [
       "Index(['trait_pair', 'q', 'logq', 'variable', 'value'], dtype='object')"
      ]
     },
     "execution_count": 73,
     "metadata": {},
     "output_type": "execute_result"
    }
   ],
   "source": [
    "plot_df.columns"
   ]
  },
  {
   "cell_type": "code",
   "execution_count": 75,
   "metadata": {
    "ExecuteTime": {
     "end_time": "2025-04-25T19:53:57.147133Z",
     "start_time": "2025-04-25T19:53:52.959887Z"
    }
   },
   "outputs": [
    {
     "data": {
      "image/png": "[encoded data removed]",
      "text/plain": [
       "<Figure size 700x200 with 4 Axes>"
      ]
     },
     "metadata": {},
     "output_type": "display_data"
    }
   ],
   "source": [
    "_, [[ax1a, ax2a], [ax1, ax2]] = plt.subplots(2, 2, figsize=(7, 2), sharex=False, \n",
    "                                             gridspec_kw={'height_ratios': [1, 20], 'width_ratios':[49,324], 'hspace': 0})\n",
    "\n",
    "\n",
    "\n",
    "order = [x for x in total_order if x in plot_df.trait_pair.values]\n",
    "n1=len(order)\n",
    "#plot_df[plot_df.variable=='n_overlap'].sort_values('value', ascending=False).trait_pair\n",
    "sns.heatmap(np.array(plot_df[plot_df.variable=='total'].set_index('trait_pair').loc[order]['logq']).reshape(-1, 1).T,\n",
    "            ax=ax1a, cbar=False, cmap='Reds', yticklabels=False, xticklabels=False,vmax=25, vmin=0)\n",
    "\n",
    "sns.barplot(plot_df[plot_df.variable=='n_overlap'], x='trait_pair', y='value', color='#af3800', zorder=10, order=order, \n",
    "            saturation=1, ax=ax1, alpha=1, width=1)\n",
    "sns.barplot(plot_df[plot_df.variable=='overlap+rare'], x='trait_pair', y='value', color='#5fad56', zorder=5, order=order,\n",
    "            saturation=1,  ax=ax1, alpha=1, width=1)\n",
    "sns.barplot(plot_df[plot_df.variable=='total'], x='trait_pair', y='value', color='#6ec1e0', zorder=1, order=order, \n",
    "            saturation=1, ax=ax1, alpha=1, width=1)\n",
    "ax1.set_xticks([])\n",
    "\n",
    "\n",
    "plot_df2 =top_over_df[(top_over_df.param_set=='defaults')  & (top_over_df.total <= 100)].melt(id_vars=['trait_pair', 'q', \n",
    "                                                                                                       'logq'], \n",
    "                                                                  value_vars=['n_overlap', 'overlap+rare', 'total'])\n",
    "order = [x for x in total_order if x in plot_df2.trait_pair.values]\n",
    "#plot_df2[plot_df2.variable=='n_overlap'].sort_values('value', ascending=False).trait_pair\n",
    "\n",
    "n2=len(order)\n",
    "sns.heatmap(np.array(plot_df2[plot_df2.variable=='total'].set_index('trait_pair').loc[order]['logq']).reshape(-1, 1).T, \n",
    "            ax=ax2a, cbar=False, \n",
    "            cmap='Reds', yticklabels=False, xticklabels=False, vmax=25, vmin=0)\n",
    "\n",
    "sns.barplot(plot_df2[plot_df2.variable=='n_overlap'], x='trait_pair', y='value', color='#af3800', \n",
    "            zorder=10, order=order, ax=ax2, alpha=1, saturation=1, width=1,)\n",
    "sns.barplot(plot_df2[plot_df2.variable=='overlap+rare'], x='trait_pair', y='value', color='#5fad56', \n",
    "            zorder=5, order=order, ax=ax2, alpha=1, saturation=1, width=1,)\n",
    "sns.barplot(plot_df2[plot_df2.variable=='total'], x='trait_pair', y='value', color='#6ec1e0', \n",
    "            zorder=1, order=order, ax=ax2, alpha=1, saturation=1, width=1)\n",
    "ax2.set_xticks([])\n",
    "ax1.set_xlabel(f'\\nTraits with more than\\n 100 genes (n={n1})')\n",
    "ax2.set_xlabel(f'\\nTraits with fewer than 100 genes (n={n2})')\n",
    "_ = ax1.set_ylabel('Total associated genes')\n",
    "_ = ax2.set_ylabel('Total associated genes')\n",
    "\n",
    "for ax in [ax1a, ax2a]:\n",
    "    for _, spine in ax.spines.items():\n",
    "        spine.set_visible(True)\n",
    "        \n",
    "plt.savefig(os.path.join(figdir, 'overlap_summary_gcat.svg'), dpi=400, bbox_inches='tight')"
   ]
  },
  {
   "cell_type": "code",
   "execution_count": 298,
   "metadata": {
    "ExecuteTime": {
     "end_time": "2025-03-26T21:14:40.088499Z",
     "start_time": "2025-03-26T21:14:37.573635Z"
    }
   },
   "outputs": [
    {
     "data": {
      "image/png": "[encoded data removed]",
      "text/plain": [
       "<Figure size 500x200 with 5 Axes>"
      ]
     },
     "metadata": {},
     "output_type": "display_data"
    }
   ],
   "source": [
    "_, [[ax1a, ax2a], [ax1, ax2]] = plt.subplots(2, 2, figsize=(5, 2), sharex=False, gridspec_kw={'height_ratios': [20, 20], 'width_ratios':[45,215], 'hspace': 0})\n",
    "\n",
    "\n",
    "plt.rcParams.update({'font.size': 7})\n",
    "order = [x for x in total_order if x in plot_df.trait_pair.values]\n",
    "n1=len(order)\n",
    "#plot_df[plot_df.variable=='n_overlap'].sort_values('value', ascending=False).trait_pair\n",
    "sns.heatmap(np.array(plot_df[plot_df.variable=='total'].set_index('trait_pair').loc[order]['logp']).reshape(-1, 1).T, ax=ax1a, cbar=False, cmap='Reds', yticklabels=False, xticklabels=False,vmax=25, vmin=0)\n",
    "\n",
    "sns.barplot(plot_df[plot_df.variable=='n_overlap'], x='trait_pair', y='value', color='#af3800', zorder=10, order=order, \n",
    "            saturation=1, ax=ax1, alpha=1, width=1)\n",
    "sns.barplot(plot_df[plot_df.variable=='overlap+rare'], x='trait_pair', y='value', color='#5fad56', zorder=5, order=order,\n",
    "            saturation=1,  ax=ax1, alpha=1, width=1)\n",
    "sns.barplot(plot_df[plot_df.variable=='total'], x='trait_pair', y='value', color='#6ec1e0', zorder=1, order=order, \n",
    "            saturation=1, ax=ax1, alpha=1, width=1)\n",
    "ax1.set_xticks([])\n",
    "\n",
    "\n",
    "plot_df2 =top_over_df[(top_over_df.param_set=='defaults')  & (top_over_df.total <= 100)].melt(id_vars=['trait_pair', 'pval', 'logp'], value_vars=['n_overlap', 'overlap+rare', 'total'])\n",
    "order = [x for x in total_order if x in plot_df2.trait_pair.values]\n",
    "#plot_df2[plot_df2.variable=='n_overlap'].sort_values('value', ascending=False).trait_pair\n",
    "\n",
    "n2=len(order)\n",
    "sns.heatmap(np.array(plot_df2[plot_df2.variable=='total'].set_index('trait_pair').loc[order]['logp']).reshape(-1, 1).T, \n",
    "            ax=ax2a, cbar=True,\n",
    "            cmap='Reds', yticklabels=False, xticklabels=False, vmax=25, vmin=0)\n",
    "\n",
    "sns.barplot(plot_df2[plot_df2.variable=='n_overlap'], x='trait_pair', y='value', color='#af3800', \n",
    "            zorder=10, order=order, ax=ax2, alpha=1, saturation=1, width=1,)\n",
    "sns.barplot(plot_df2[plot_df2.variable=='overlap+rare'], x='trait_pair', y='value', color='#5fad56', \n",
    "            zorder=5, order=order, ax=ax2, alpha=1, saturation=1, width=1,)\n",
    "sns.barplot(plot_df2[plot_df2.variable=='total'], x='trait_pair', y='value', color='#6ec1e0', \n",
    "            zorder=1, order=order, ax=ax2, alpha=1, saturation=1, width=1)\n",
    "ax2.set_xticks([])\n",
    "ax1.set_xlabel(f'\\nTraits with more than\\n 100 genes (n={n1})')\n",
    "ax2.set_xlabel(f'\\nTraits with fewer than 100 genes (n={n2})')\n",
    "_ = ax1.set_ylabel('Total associated genes')\n",
    "_ = ax2.set_ylabel('Total associated genes')\n",
    "\n",
    "for ax in [ax1a, ax2a]:\n",
    "    for _, spine in ax.spines.items():\n",
    "        spine.set_visible(True)\n",
    "        \n",
    "plt.savefig(os.path.join(figdir, 'overlap_summary_gcat_legend.svg'), dpi=400, bbox_inches='tight')"
   ]
  },
  {
   "cell_type": "code",
   "execution_count": 63,
   "metadata": {
    "ExecuteTime": {
     "end_time": "2025-03-31T21:53:17.528114Z",
     "start_time": "2025-03-31T21:53:17.524164Z"
    }
   },
   "outputs": [],
   "source": [
    "features = pd.read_csv(os.path.join(datadir, 'inputs', 'gcat_input_features_Mar28.tsv'), sep='\\t')"
   ]
  },
  {
   "cell_type": "code",
   "execution_count": 1,
   "metadata": {
    "ExecuteTime": {
     "end_time": "2025-04-09T17:57:58.210267Z",
     "start_time": "2025-04-09T17:57:54.689270Z"
    }
   },
   "outputs": [
    {
     "ename": "NameError",
     "evalue": "name 'features' is not defined",
     "output_type": "error",
     "traceback": [
      "\u001b[0;31m---------------------------------------------------------------------------\u001b[0m",
      "\u001b[0;31mNameError\u001b[0m                                 Traceback (most recent call last)",
      "Cell \u001b[0;32mIn[1], line 1\u001b[0m\n\u001b[0;32m----> 1\u001b[0m features[\u001b[38;5;124m'\u001b[39m\u001b[38;5;124mtrait_pair\u001b[39m\u001b[38;5;124m'\u001b[39m] \u001b[38;5;241m=\u001b[39m \u001b[43mfeatures\u001b[49m\u001b[38;5;241m.\u001b[39mStudyR \u001b[38;5;241m+\u001b[39m \u001b[38;5;124m'\u001b[39m\u001b[38;5;124m_\u001b[39m\u001b[38;5;124m'\u001b[39m \u001b[38;5;241m+\u001b[39m features\u001b[38;5;241m.\u001b[39mStudyC\n",
      "\u001b[0;31mNameError\u001b[0m: name 'features' is not defined"
     ]
    }
   ],
   "source": [
    "features['trait_pair'] = features.StudyR + '_' + features.StudyC"
   ]
  },
  {
   "cell_type": "code",
   "execution_count": 74,
   "metadata": {
    "ExecuteTime": {
     "end_time": "2025-03-31T21:55:46.903151Z",
     "start_time": "2025-03-31T21:55:46.898775Z"
    }
   },
   "outputs": [],
   "source": [
    "over_df = over_df.merge(features.drop(columns=['StudyC', 'StudyR']), on='trait_pair')"
   ]
  },
  {
   "cell_type": "code",
   "execution_count": 112,
   "metadata": {
    "ExecuteTime": {
     "end_time": "2025-03-31T22:07:44.804866Z",
     "start_time": "2025-03-31T22:07:44.797410Z"
    }
   },
   "outputs": [],
   "source": [
    "over_df['plot_type'] = over_df.apply(lambda z: 'CC' if z.trait_type=='CC' else z.Domain, axis=1)\n",
    "over_df['plot_type'] = over_df.plot_type.apply(lambda z: z if z in ['CC', 'Metabolic', 'Lipid Measurment', \n",
    "                                                                                 'Hematological'] else 'Other Continuous')"
   ]
  },
  {
   "cell_type": "code",
   "execution_count": 117,
   "metadata": {
    "ExecuteTime": {
     "end_time": "2025-03-31T22:09:37.993007Z",
     "start_time": "2025-03-31T22:09:37.869217Z"
    }
   },
   "outputs": [
    {
     "data": {
      "image/png": "[encoded data removed]",
      "text/plain": [
       "<Figure size 300x200 with 1 Axes>"
      ]
     },
     "metadata": {},
     "output_type": "display_data"
    }
   ],
   "source": [
    "_ = plt.figure(figsize=(3, 2))\n",
    "sns.stripplot(over_df[over_df.logp < 50], x='plot_type', y='logp', s=2, hue='plot_type',\n",
    "             palette=['#00606f','#509AA6','#509AA6','#509AA6','#509AA6' ])\n",
    "sns.boxplot(over_df[over_df.logp < 50], x='plot_type', y='logp', fill=False, color='grey', fliersize=0, linewidth=0.4)\n",
    "plt.gca().tick_params(axis='x', rotation=90)"
   ]
  },
  {
   "cell_type": "code",
   "execution_count": 153,
   "metadata": {
    "ExecuteTime": {
     "end_time": "2025-03-31T22:25:51.747086Z",
     "start_time": "2025-03-31T22:25:51.733513Z"
    }
   },
   "outputs": [],
   "source": [
    "counts_q={}\n",
    "counts_cc = {}\n",
    "for lo,hi in [(0,0), (1,2), (3, 4), (5,6), (7,8), (9,10), (11,40)]:\n",
    "    c_df = over_df[over_df.trait_type=='CC']\n",
    "    q_df = over_df[over_df.trait_type=='Q']\n",
    "    counts_cc[f'{lo}-{hi}'] = c_df[(c_df.n_overlap >= lo) & (c_df.n_overlap<=hi)].shape[0]\n",
    "    counts_q[f'{lo}-{hi}'] = q_df[(q_df.n_overlap >= lo) & (q_df.n_overlap<=hi)].shape[0]"
   ]
  },
  {
   "cell_type": "code",
   "execution_count": 165,
   "metadata": {
    "ExecuteTime": {
     "end_time": "2025-03-31T22:32:13.390875Z",
     "start_time": "2025-03-31T22:32:13.240663Z"
    }
   },
   "outputs": [
    {
     "data": {
      "image/png": "[encoded data removed]",
      "text/plain": [
       "<Figure size 200x150 with 1 Axes>"
      ]
     },
     "metadata": {},
     "output_type": "display_data"
    }
   ],
   "source": [
    "_ = plt.figure(figsize=(2,1.5))\n",
    "ax=plt.gca()\n",
    "pd.DataFrame({'Continuous':counts_q, 'Categorical':counts_cc}).plot(kind='bar', stacked=True, edgecolor='black', linewidth=0.3, width=0.8,\n",
    "                                                                             ax=ax, color=[ '#D47866', '#AE3B24',])\n",
    "ax.set_ylabel('Phenotype Count')\n",
    "ax.set_xlabel('# Shared genes')\n",
    "plt.savefig(os.path.join(figdir, 'shared_gene_counts.svg'), bbox_inches='tight')"
   ]
  },
  {
   "cell_type": "code",
   "execution_count": null,
   "metadata": {},
   "outputs": [],
   "source": []
  },
  {
   "cell_type": "code",
   "execution_count": null,
   "metadata": {},
   "outputs": [],
   "source": []
  },
  {
   "cell_type": "code",
   "execution_count": null,
   "metadata": {},
   "outputs": [],
   "source": []
  },
  {
   "cell_type": "markdown",
   "metadata": {},
   "source": [
    "# With UKB/UKB filtering"
   ]
  },
  {
   "cell_type": "code",
   "execution_count": 28,
   "metadata": {
    "ExecuteTime": {
     "end_time": "2025-03-24T22:11:26.330105Z",
     "start_time": "2025-03-24T22:11:26.322150Z"
    }
   },
   "outputs": [],
   "source": [
    "over_df_uk =  pd.read_csv('/cellar/users/snwright/Data/RareCommon/outputs/overlap/UKB/ukb_overlap.txt', sep='\\t',\n",
    "                     header=None, names=['trait_pair', 'param_set', 'n_common', 'n_rare', 'n_overlap', 'background', 'pval'])\n",
    "filtered_ukb = pd.read_csv('/cellar/users/snwright/Data/RareCommon/inputs/UKB/filtered_matched_traits.tsv', sep='\\t', index_col=0)\n",
    "filtered_ukb['StudyC_clean'] = filtered_ukb.StudyC.apply(lambda z: z.replace(': https://doi.org/10.1101/', '').replace('UK2', 'UKB2'))"
   ]
  },
  {
   "cell_type": "code",
   "execution_count": 31,
   "metadata": {
    "ExecuteTime": {
     "end_time": "2025-03-24T22:12:24.140371Z",
     "start_time": "2025-03-24T22:12:24.137588Z"
    }
   },
   "outputs": [],
   "source": [
    "filtered_ukb['trait_pair'] = filtered_ukb['StudyR'] + '_' + filtered_ukb['StudyC_clean']"
   ]
  },
  {
   "cell_type": "code",
   "execution_count": 35,
   "metadata": {
    "ExecuteTime": {
     "end_time": "2025-03-24T22:13:26.750771Z",
     "start_time": "2025-03-24T22:13:26.746475Z"
    }
   },
   "outputs": [],
   "source": [
    "over_df_uk = over_df_uk[over_df_uk.trait_pair.isin(filtered_ukb.trait_pair.values)]\n",
    "over_df_uk['Expected'] = over_df_uk.n_rare * over_df_uk.n_common / 9000\n",
    "over_df_uk['logp'] = -1 * np.log10(over_df_uk['pval'] + 1e-250)"
   ]
  },
  {
   "cell_type": "code",
   "execution_count": 38,
   "metadata": {
    "ExecuteTime": {
     "end_time": "2025-03-24T22:14:30.915628Z",
     "start_time": "2025-03-24T22:14:30.515328Z"
    }
   },
   "outputs": [
    {
     "name": "stdout",
     "output_type": "stream",
     "text": [
      "Common max 682\n",
      "Rare max 119\n"
     ]
    },
    {
     "data": {
      "image/png": "[encoded data removed]",
      "text/plain": [
       "<Figure size 200x200 with 1 Axes>"
      ]
     },
     "metadata": {},
     "output_type": "display_data"
    }
   ],
   "source": [
    "_ = plt.figure(figsize=(2,2))\n",
    "sns.violinplot(y=over_df.drop_duplicates(subset=['EFO', 'StudyC']).n_common, x=1, cut=0,  color='dodgerblue', log_scale=True)\n",
    "sns.violinplot(y=over_df.drop_duplicates(subset=['EFO', 'StudyC']).n_rare,x=2, cut=0, color='mediumseagreen', log_scale=True)\n",
    "plt.ylim(1, 1000)\n",
    "plt.ylabel('Gene associations per study')\n",
    "_ = plt.xticks([0,1], ['Common', 'Rare'])\n",
    "print(f'Common max {over_df.drop_duplicates(subset=[\"EFO\", \"StudyC\"]).n_common.max()}')\n",
    "print(f'Rare max {over_df.drop_duplicates(subset=[\"EFO\", \"StudyC\"]).n_rare.max()}')\n",
    "plt.savefig(os.path.join(figdir, 'study_association_counts.png'), dpi=400, bbox_inches='tight')"
   ]
  },
  {
   "cell_type": "code",
   "execution_count": 44,
   "metadata": {
    "ExecuteTime": {
     "end_time": "2025-03-24T22:17:13.768423Z",
     "start_time": "2025-03-24T22:17:13.433137Z"
    }
   },
   "outputs": [
    {
     "name": "stdout",
     "output_type": "stream",
     "text": [
      "Common max 8327\n",
      "Rare max 1197\n"
     ]
    },
    {
     "data": {
      "image/png": "[encoded data removed]",
      "text/plain": [
       "<Figure size 200x200 with 1 Axes>"
      ]
     },
     "metadata": {},
     "output_type": "display_data"
    }
   ],
   "source": [
    "_ = plt.figure(figsize=(2,2))\n",
    "sns.violinplot(y=over_df_uk.n_common, x=1, cut=0,  color='dodgerblue', log_scale=True)\n",
    "sns.violinplot(y=over_df_uk.n_rare,x=2, cut=0, color='mediumseagreen', log_scale=True)\n",
    "#plt.ylim(3, 1000)\n",
    "plt.ylabel('Gene associations per study')\n",
    "_ = plt.xticks([0,1], ['Common', 'Rare'])\n",
    "print(f'Common max {over_df_uk.n_common.max()}')\n",
    "print(f'Rare max {over_df_uk.n_rare.max()}')\n",
    "plt.savefig(os.path.join(figdir, 'study_association_counts_uk.png'), dpi=400, bbox_inches='tight')"
   ]
  },
  {
   "cell_type": "code",
   "execution_count": 43,
   "metadata": {
    "ExecuteTime": {
     "end_time": "2025-03-24T22:16:31.797316Z",
     "start_time": "2025-03-24T22:16:31.792677Z"
    }
   },
   "outputs": [
    {
     "data": {
      "text/plain": [
       "count      86.000000\n",
       "mean      263.930233\n",
       "std       201.382971\n",
       "min        52.000000\n",
       "25%       102.500000\n",
       "50%       214.500000\n",
       "75%       369.250000\n",
       "max      1197.000000\n",
       "Name: n_rare, dtype: float64"
      ]
     },
     "execution_count": 43,
     "metadata": {},
     "output_type": "execute_result"
    }
   ],
   "source": [
    "over_df_uk.n_rare.describe()"
   ]
  },
  {
   "cell_type": "markdown",
   "metadata": {},
   "source": [
    "## Input overlap\n",
    "\n",
    "Select the pair with the greatest overlap in terms of number of genes between RC per trait    \n",
    "Fixed issue with trait_code not accepting MONDO, HP etc."
   ]
  },
  {
   "cell_type": "code",
   "execution_count": 45,
   "metadata": {
    "ExecuteTime": {
     "end_time": "2025-03-24T23:28:50.115598Z",
     "start_time": "2025-03-24T23:28:49.895170Z"
    }
   },
   "outputs": [],
   "source": [
    "r_traitlist = pd.read_csv(os.path.join(datadir, 'inputs/March_2025', 'rare.traitlist'), header=None)[0].values\n",
    "c_traitlist = pd.read_csv(os.path.join(datadir, 'inputs/March_2025', 'common.traitlist'), header=None)[0].values\n",
    "pairs = [r_traitlist[i]+'_'+c_traitlist[i] for i in range(len(r_traitlist))]"
   ]
  },
  {
   "cell_type": "code",
   "execution_count": 46,
   "metadata": {
    "ExecuteTime": {
     "end_time": "2025-03-24T23:28:52.035955Z",
     "start_time": "2025-03-24T23:28:52.028693Z"
    }
   },
   "outputs": [
    {
     "data": {
      "text/html": [
       "<div>\n",
       "<style scoped>\n",
       "    .dataframe tbody tr th:only-of-type {\n",
       "        vertical-align: middle;\n",
       "    }\n",
       "\n",
       "    .dataframe tbody tr th {\n",
       "        vertical-align: top;\n",
       "    }\n",
       "\n",
       "    .dataframe thead th {\n",
       "        text-align: right;\n",
       "    }\n",
       "</style>\n",
       "<table border=\"1\" class=\"dataframe\">\n",
       "  <thead>\n",
       "    <tr style=\"text-align: right;\">\n",
       "      <th></th>\n",
       "      <th>trait_pair</th>\n",
       "      <th>param_set</th>\n",
       "      <th>n_common</th>\n",
       "      <th>n_rare</th>\n",
       "      <th>n_overlap</th>\n",
       "      <th>background</th>\n",
       "      <th>pval</th>\n",
       "      <th>EFO</th>\n",
       "      <th>StudyC</th>\n",
       "      <th>StudyR</th>\n",
       "      <th>Expected</th>\n",
       "      <th>logp</th>\n",
       "    </tr>\n",
       "  </thead>\n",
       "  <tbody>\n",
       "    <tr>\n",
       "      <th>0</th>\n",
       "      <td>20549515_EFO_0000384_GCST90446792_EFO_0000384</td>\n",
       "      <td>defaults</td>\n",
       "      <td>102</td>\n",
       "      <td>9</td>\n",
       "      <td>2</td>\n",
       "      <td>19000</td>\n",
       "      <td>0.000012</td>\n",
       "      <td>EFO_0000384</td>\n",
       "      <td>GCST90446792</td>\n",
       "      <td>20549515</td>\n",
       "      <td>0.102000</td>\n",
       "      <td>4.909190</td>\n",
       "    </tr>\n",
       "    <tr>\n",
       "      <th>1</th>\n",
       "      <td>20549515_EFO_0000685_GCST90018910_EFO_0000685</td>\n",
       "      <td>defaults</td>\n",
       "      <td>11</td>\n",
       "      <td>5</td>\n",
       "      <td>0</td>\n",
       "      <td>19000</td>\n",
       "      <td>0.002892</td>\n",
       "      <td>EFO_0000685</td>\n",
       "      <td>GCST90018910</td>\n",
       "      <td>20549515</td>\n",
       "      <td>0.006111</td>\n",
       "      <td>2.538848</td>\n",
       "    </tr>\n",
       "    <tr>\n",
       "      <th>2</th>\n",
       "      <td>20549515_EFO_0001645_GCST90132315_EFO_0001645</td>\n",
       "      <td>defaults</td>\n",
       "      <td>23</td>\n",
       "      <td>4</td>\n",
       "      <td>0</td>\n",
       "      <td>19000</td>\n",
       "      <td>0.004834</td>\n",
       "      <td>EFO_0001645</td>\n",
       "      <td>GCST90132315</td>\n",
       "      <td>20549515</td>\n",
       "      <td>0.010222</td>\n",
       "      <td>2.315720</td>\n",
       "    </tr>\n",
       "    <tr>\n",
       "      <th>3</th>\n",
       "      <td>20549515_MONDO_0005148_GCST90018926_MONDO_0005148</td>\n",
       "      <td>defaults</td>\n",
       "      <td>108</td>\n",
       "      <td>3</td>\n",
       "      <td>0</td>\n",
       "      <td>19000</td>\n",
       "      <td>0.016957</td>\n",
       "      <td>MONDO_0005148</td>\n",
       "      <td>GCST90018926</td>\n",
       "      <td>20549515</td>\n",
       "      <td>0.036000</td>\n",
       "      <td>1.770657</td>\n",
       "    </tr>\n",
       "    <tr>\n",
       "      <th>4</th>\n",
       "      <td>24212883_EFO_0000676_GCST90435379_EFO_0000676</td>\n",
       "      <td>defaults</td>\n",
       "      <td>4</td>\n",
       "      <td>6</td>\n",
       "      <td>0</td>\n",
       "      <td>19000</td>\n",
       "      <td>0.001263</td>\n",
       "      <td>EFO_0000676</td>\n",
       "      <td>GCST90435379</td>\n",
       "      <td>24212883</td>\n",
       "      <td>0.002667</td>\n",
       "      <td>2.898714</td>\n",
       "    </tr>\n",
       "  </tbody>\n",
       "</table>\n",
       "</div>"
      ],
      "text/plain": [
       "                                          trait_pair param_set  n_common  \\\n",
       "0      20549515_EFO_0000384_GCST90446792_EFO_0000384  defaults       102   \n",
       "1      20549515_EFO_0000685_GCST90018910_EFO_0000685  defaults        11   \n",
       "2      20549515_EFO_0001645_GCST90132315_EFO_0001645  defaults        23   \n",
       "3  20549515_MONDO_0005148_GCST90018926_MONDO_0005148  defaults       108   \n",
       "4      24212883_EFO_0000676_GCST90435379_EFO_0000676  defaults         4   \n",
       "\n",
       "   n_rare  n_overlap  background      pval            EFO        StudyC  \\\n",
       "0       9          2       19000  0.000012    EFO_0000384  GCST90446792   \n",
       "1       5          0       19000  0.002892    EFO_0000685  GCST90018910   \n",
       "2       4          0       19000  0.004834    EFO_0001645  GCST90132315   \n",
       "3       3          0       19000  0.016957  MONDO_0005148  GCST90018926   \n",
       "4       6          0       19000  0.001263    EFO_0000676  GCST90435379   \n",
       "\n",
       "     StudyR  Expected      logp  \n",
       "0  20549515  0.102000  4.909190  \n",
       "1  20549515  0.006111  2.538848  \n",
       "2  20549515  0.010222  2.315720  \n",
       "3  20549515  0.036000  1.770657  \n",
       "4  24212883  0.002667  2.898714  "
      ]
     },
     "execution_count": 46,
     "metadata": {},
     "output_type": "execute_result"
    }
   ],
   "source": [
    "over_df.head()"
   ]
  },
  {
   "cell_type": "code",
   "execution_count": 47,
   "metadata": {
    "ExecuteTime": {
     "end_time": "2025-03-24T23:28:54.865598Z",
     "start_time": "2025-03-24T23:28:54.862099Z"
    }
   },
   "outputs": [
    {
     "data": {
      "text/plain": [
       "(261, 12)"
      ]
     },
     "execution_count": 47,
     "metadata": {},
     "output_type": "execute_result"
    }
   ],
   "source": [
    "top_over_df = over_df[over_df.trait_pair.isin(pairs)]\n",
    "top_over_df.shape"
   ]
  },
  {
   "cell_type": "code",
   "execution_count": 48,
   "metadata": {
    "ExecuteTime": {
     "end_time": "2025-03-24T23:28:56.265983Z",
     "start_time": "2025-03-24T23:28:56.261256Z"
    }
   },
   "outputs": [],
   "source": [
    "top_over_df['rare_only'] = top_over_df.n_rare - top_over_df.n_overlap\n",
    "top_over_df['common_only'] = top_over_df.n_common - top_over_df.n_overlap\n",
    "top_over_df['total'] = top_over_df.rare_only + top_over_df.common_only + top_over_df.n_overlap\n",
    "top_over_df['overlap+rare'] = top_over_df.n_overlap + top_over_df.rare_only\n",
    "top_over_df = top_over_df.sort_values(by=['n_overlap', 'total'], ascending=False)"
   ]
  },
  {
   "cell_type": "code",
   "execution_count": 49,
   "metadata": {
    "ExecuteTime": {
     "end_time": "2025-03-24T23:28:58.465171Z",
     "start_time": "2025-03-24T23:28:58.459869Z"
    }
   },
   "outputs": [],
   "source": [
    "plot_df=top_over_df[(top_over_df.param_set=='defaults') & ((top_over_df.total > 100) ) & (top_over_df.total < 1000)].melt(id_vars=['trait_pair', 'pval', 'logp'], value_vars=['n_overlap', 'overlap+rare', 'total'])"
   ]
  },
  {
   "cell_type": "code",
   "execution_count": 50,
   "metadata": {
    "ExecuteTime": {
     "end_time": "2025-03-24T23:28:59.142893Z",
     "start_time": "2025-03-24T23:28:59.139492Z"
    }
   },
   "outputs": [],
   "source": [
    "total_order = top_over_df[top_over_df.param_set=='defaults'].sort_values(by=['n_overlap', 'n_rare', 'n_common'], ascending=[False, False, False]).trait_pair.values"
   ]
  },
  {
   "cell_type": "code",
   "execution_count": 76,
   "metadata": {
    "ExecuteTime": {
     "end_time": "2025-03-24T23:45:55.433642Z",
     "start_time": "2025-03-24T23:45:52.827578Z"
    }
   },
   "outputs": [
    {
     "data": {
      "image/png": "[encoded data removed]",
      "text/plain": [
       "<Figure size 700x200 with 4 Axes>"
      ]
     },
     "metadata": {},
     "output_type": "display_data"
    }
   ],
   "source": [
    "_, [[ax1a, ax2a], [ax1, ax2]] = plt.subplots(2, 2, figsize=(7, 2), sharex=False, gridspec_kw={'height_ratios': [1, 20], 'width_ratios':[48,213], 'hspace': 0})\n",
    "\n",
    "\n",
    "plt.rcParams.update({'font.size': 7})\n",
    "order = [x for x in total_order if x in plot_df.trait_pair.values]\n",
    "n1=len(order)\n",
    "#plot_df[plot_df.variable=='n_overlap'].sort_values('value', ascending=False).trait_pair\n",
    "sns.heatmap(np.array(plot_df[plot_df.variable=='total'].set_index('trait_pair').loc[order]['logp']).reshape(-1, 1).T, ax=ax1a, cbar=False, cmap='Reds', yticklabels=False, xticklabels=False,vmax=25, vmin=0)\n",
    "\n",
    "sns.barplot(plot_df[plot_df.variable=='n_overlap'], x='trait_pair', y='value', color='#af3800', zorder=10, order=order, \n",
    "            saturation=1, ax=ax1, alpha=1, width=0.9, edgecolor='grey')\n",
    "sns.barplot(plot_df[plot_df.variable=='overlap+rare'], x='trait_pair', y='value', color='#5fad56', zorder=5, order=order,\n",
    "            saturation=1,  ax=ax1, alpha=1, width=0.9, edgecolor='grey')\n",
    "sns.barplot(plot_df[plot_df.variable=='total'], x='trait_pair', y='value', color='#6ec1e0', zorder=1, order=order, \n",
    "            saturation=1, ax=ax1, alpha=1, width=0.9, edgecolor='grey')\n",
    "ax1.set_xticks([])\n",
    "\n",
    "\n",
    "plot_df2 =top_over_df[(top_over_df.param_set=='defaults')  & (top_over_df.total <= 100)].melt(id_vars=['trait_pair', 'pval', 'logp'], value_vars=['n_overlap', 'overlap+rare', 'total'])\n",
    "order = [x for x in total_order if x in plot_df2.trait_pair.values]\n",
    "#plot_df2[plot_df2.variable=='n_overlap'].sort_values('value', ascending=False).trait_pair\n",
    "\n",
    "n2=len(order)\n",
    "sns.heatmap(np.array(plot_df2[plot_df2.variable=='total'].set_index('trait_pair').loc[order]['logp']).reshape(-1, 1).T, \n",
    "            ax=ax2a, cbar=False, \n",
    "            cmap='Reds', yticklabels=False, xticklabels=False, vmax=25, vmin=0)\n",
    "\n",
    "sns.barplot(plot_df2[plot_df2.variable=='n_overlap'], x='trait_pair', y='value', color='#af3800', zorder=10, order=order, ax=ax2, alpha=1, saturation=1, width=0.9, edgecolor='grey')\n",
    "sns.barplot(plot_df2[plot_df2.variable=='overlap+rare'], x='trait_pair', y='value', color='#5fad56', zorder=5, order=order, ax=ax2, alpha=1, saturation=1, width=0.9, edgecolor='grey')\n",
    "sns.barplot(plot_df2[plot_df2.variable=='total'], x='trait_pair', y='value', color='#6ec1e0', zorder=1, order=order, ax=ax2, alpha=1, saturation=1, width=0.9, edgecolor='grey')\n",
    "ax2.set_xticks([])\n",
    "ax1.set_xlabel(f'\\nTraits with more than\\n 100 genes (n={n1})')\n",
    "ax2.set_xlabel(f'\\nTraits with fewer than 100 genes (n={n2})')\n",
    "_ = ax1.set_ylabel('Total associated genes')\n",
    "_ = ax2.set_ylabel('Total associated genes')\n",
    "plt.savefig(os.path.join(figdir, 'overlap_summary_gcat.svg'), dpi=400, bbox_inches='tight')"
   ]
  },
  {
   "cell_type": "markdown",
   "metadata": {},
   "source": [
    "### P-values of overlap vs rare/common only"
   ]
  },
  {
   "cell_type": "code",
   "execution_count": 82,
   "metadata": {
    "ExecuteTime": {
     "end_time": "2025-03-24T23:48:24.600414Z",
     "start_time": "2025-03-24T23:48:24.591637Z"
    }
   },
   "outputs": [
    {
     "data": {
      "text/html": [
       "<div>\n",
       "<style scoped>\n",
       "    .dataframe tbody tr th:only-of-type {\n",
       "        vertical-align: middle;\n",
       "    }\n",
       "\n",
       "    .dataframe tbody tr th {\n",
       "        vertical-align: top;\n",
       "    }\n",
       "\n",
       "    .dataframe thead th {\n",
       "        text-align: right;\n",
       "    }\n",
       "</style>\n",
       "<table border=\"1\" class=\"dataframe\">\n",
       "  <thead>\n",
       "    <tr style=\"text-align: right;\">\n",
       "      <th></th>\n",
       "      <th>trait_pair</th>\n",
       "      <th>param_set</th>\n",
       "      <th>n_common</th>\n",
       "      <th>n_rare</th>\n",
       "      <th>n_overlap</th>\n",
       "      <th>background</th>\n",
       "      <th>pval</th>\n",
       "      <th>EFO</th>\n",
       "      <th>StudyC</th>\n",
       "      <th>StudyR</th>\n",
       "      <th>Expected</th>\n",
       "      <th>logp</th>\n",
       "    </tr>\n",
       "  </thead>\n",
       "  <tbody>\n",
       "    <tr>\n",
       "      <th>0</th>\n",
       "      <td>20549515_EFO_0000384_GCST90446792_EFO_0000384</td>\n",
       "      <td>defaults</td>\n",
       "      <td>102</td>\n",
       "      <td>9</td>\n",
       "      <td>2</td>\n",
       "      <td>19000</td>\n",
       "      <td>0.000012</td>\n",
       "      <td>EFO_0000384</td>\n",
       "      <td>GCST90446792</td>\n",
       "      <td>20549515</td>\n",
       "      <td>0.102000</td>\n",
       "      <td>4.909190</td>\n",
       "    </tr>\n",
       "    <tr>\n",
       "      <th>1</th>\n",
       "      <td>20549515_EFO_0000685_GCST90018910_EFO_0000685</td>\n",
       "      <td>defaults</td>\n",
       "      <td>11</td>\n",
       "      <td>5</td>\n",
       "      <td>0</td>\n",
       "      <td>19000</td>\n",
       "      <td>0.002892</td>\n",
       "      <td>EFO_0000685</td>\n",
       "      <td>GCST90018910</td>\n",
       "      <td>20549515</td>\n",
       "      <td>0.006111</td>\n",
       "      <td>2.538848</td>\n",
       "    </tr>\n",
       "    <tr>\n",
       "      <th>2</th>\n",
       "      <td>20549515_EFO_0001645_GCST90132315_EFO_0001645</td>\n",
       "      <td>defaults</td>\n",
       "      <td>23</td>\n",
       "      <td>4</td>\n",
       "      <td>0</td>\n",
       "      <td>19000</td>\n",
       "      <td>0.004834</td>\n",
       "      <td>EFO_0001645</td>\n",
       "      <td>GCST90132315</td>\n",
       "      <td>20549515</td>\n",
       "      <td>0.010222</td>\n",
       "      <td>2.315720</td>\n",
       "    </tr>\n",
       "    <tr>\n",
       "      <th>3</th>\n",
       "      <td>20549515_MONDO_0005148_GCST90018926_MONDO_0005148</td>\n",
       "      <td>defaults</td>\n",
       "      <td>108</td>\n",
       "      <td>3</td>\n",
       "      <td>0</td>\n",
       "      <td>19000</td>\n",
       "      <td>0.016957</td>\n",
       "      <td>MONDO_0005148</td>\n",
       "      <td>GCST90018926</td>\n",
       "      <td>20549515</td>\n",
       "      <td>0.036000</td>\n",
       "      <td>1.770657</td>\n",
       "    </tr>\n",
       "    <tr>\n",
       "      <th>4</th>\n",
       "      <td>24212883_EFO_0000676_GCST90435379_EFO_0000676</td>\n",
       "      <td>defaults</td>\n",
       "      <td>4</td>\n",
       "      <td>6</td>\n",
       "      <td>0</td>\n",
       "      <td>19000</td>\n",
       "      <td>0.001263</td>\n",
       "      <td>EFO_0000676</td>\n",
       "      <td>GCST90435379</td>\n",
       "      <td>24212883</td>\n",
       "      <td>0.002667</td>\n",
       "      <td>2.898714</td>\n",
       "    </tr>\n",
       "  </tbody>\n",
       "</table>\n",
       "</div>"
      ],
      "text/plain": [
       "                                          trait_pair param_set  n_common  \\\n",
       "0      20549515_EFO_0000384_GCST90446792_EFO_0000384  defaults       102   \n",
       "1      20549515_EFO_0000685_GCST90018910_EFO_0000685  defaults        11   \n",
       "2      20549515_EFO_0001645_GCST90132315_EFO_0001645  defaults        23   \n",
       "3  20549515_MONDO_0005148_GCST90018926_MONDO_0005148  defaults       108   \n",
       "4      24212883_EFO_0000676_GCST90435379_EFO_0000676  defaults         4   \n",
       "\n",
       "   n_rare  n_overlap  background      pval            EFO        StudyC  \\\n",
       "0       9          2       19000  0.000012    EFO_0000384  GCST90446792   \n",
       "1       5          0       19000  0.002892    EFO_0000685  GCST90018910   \n",
       "2       4          0       19000  0.004834    EFO_0001645  GCST90132315   \n",
       "3       3          0       19000  0.016957  MONDO_0005148  GCST90018926   \n",
       "4       6          0       19000  0.001263    EFO_0000676  GCST90435379   \n",
       "\n",
       "     StudyR  Expected      logp  \n",
       "0  20549515  0.102000  4.909190  \n",
       "1  20549515  0.006111  2.538848  \n",
       "2  20549515  0.010222  2.315720  \n",
       "3  20549515  0.036000  1.770657  \n",
       "4  24212883  0.002667  2.898714  "
      ]
     },
     "execution_count": 82,
     "metadata": {},
     "output_type": "execute_result"
    }
   ],
   "source": [
    "over_df.head()"
   ]
  },
  {
   "cell_type": "code",
   "execution_count": 85,
   "metadata": {
    "ExecuteTime": {
     "end_time": "2025-03-24T23:49:31.187265Z",
     "start_time": "2025-03-24T23:49:31.178178Z"
    }
   },
   "outputs": [],
   "source": [
    "from math import comb\n",
    "from scipy.stats import mannwhitneyu\n",
    "\n",
    "def get_p_values(gda_df, study, trait):\n",
    "    if 'logp' not in gda_df.columns:\n",
    "        gda_df['logp'] = -1 * np.log10(gda_df['P-value'] + 1e-250)\n",
    "    use_gda = gda_df[gda_df.StudyTrait==f'{study}{trait}'].sort_values('logp', ascending=False).drop_duplicates('Entrez', keep='first')\n",
    "    return use_gda.loc[:, ('logp', 'Entrez')].set_index('Entrez')\n",
    "\n",
    "def compare_pval_dists(studyC, studyR, trait):\n",
    "    rv_p = get_p_values(rv_gda, studyR, trait)\n",
    "    cv_p = get_p_values(cv_gda, studyC, trait)\n",
    "    overlap_genes = rv_p.join(cv_p, lsuffix='r',how='inner').index.values\n",
    "    r_mo, r_mno, r_stat, r_p = perform_p_val_rank_test(rv_p, overlap_genes)\n",
    "    c_mo, c_mno, c_stat, c_p = perform_p_val_rank_test(cv_p, overlap_genes)\n",
    "    return {f'{studyR}_{trait}_{studyC}_{trait}': {'rStat':r_stat, 'cStat':c_stat, 'rP':r_p, 'cP':c_p,\n",
    "                                                  'rSharedMed':r_mo, 'rOnlyMed': r_mno,\n",
    "                                                  'cSharedMed': c_mo, 'cOnlyMed': c_mno}}\n",
    "\n",
    "def compare_global_p_dists(over_df):\n",
    "    common_only = []\n",
    "    rare_only = []\n",
    "    common_shared = []\n",
    "    rare_shared = []\n",
    "    for row in tqdm(over_df.iterrows()):\n",
    "        studyC = row[1]['StudyC']\n",
    "        studyR = row[1]['StudyR']\n",
    "        trait = row[1]['EFO']\n",
    "        rv_p = get_p_values(rv_gda, studyR, trait)\n",
    "        cv_p = get_p_values(cv_gda, studyC, trait)\n",
    "        overlap_genes = rv_p.join(cv_p, lsuffix='r',how='inner').index.values\n",
    "        common_only.append(cv_p[~cv_p.index.isin(overlap_genes)])\n",
    "        rare_only.append(rv_p[~rv_p.index.isin(overlap_genes)])\n",
    "        common_shared.append(cv_p[cv_p.index.isin(overlap_genes)])\n",
    "        rare_shared.append(rv_p[rv_p.index.isin(overlap_genes)])\n",
    "    common_only = pd.concat(common_only).reset_index().assign(Variant='Common', Group='Only')\n",
    "    rare_only = pd.concat(rare_only).reset_index().assign(Variant='Rare', Group='Only')\n",
    "    common_shared = pd.concat(common_shared).reset_index().assign(Variant='Common', Group='Shared')\n",
    "    rare_shared = pd.concat(rare_shared).reset_index().assign(Variant='Rare', Group='Shared')\n",
    "    return pd.concat([common_only, rare_only, common_shared, rare_shared]).reset_index()\n",
    "\n",
    "    \n",
    "def perform_p_val_rank_test(pvals, overlap_genes):\n",
    "    median_overlap =  pvals[pvals.index.isin(overlap_genes)].logp.median()\n",
    "    median_non_overlap = pvals[~pvals.index.isin(overlap_genes)].logp.median()\n",
    "    if is_sample_size_useful(len(pvals), len(overlap_genes)):\n",
    "        x = mannwhitneyu(pvals[~pvals.index.isin(overlap_genes)], pvals[pvals.index.isin(overlap_genes)])\n",
    "        return median_overlap, median_non_overlap, x.statistic[0], x.pvalue[0]\n",
    "    else:\n",
    "        return median_overlap, median_non_overlap, np.nan, np.nan\n",
    "\n",
    "def is_sample_size_useful(n_total, n_overlap):\n",
    "    if n_overlap == 0:\n",
    "        return False\n",
    "    if 2 / comb(n_total, n_overlap) > 0.05:\n",
    "        return False\n",
    "    else:\n",
    "        return True"
   ]
  },
  {
   "cell_type": "code",
   "execution_count": 99,
   "metadata": {
    "ExecuteTime": {
     "end_time": "2025-03-24T23:52:11.733536Z",
     "start_time": "2025-03-24T23:52:04.249400Z"
    }
   },
   "outputs": [
    {
     "name": "stderr",
     "output_type": "stream",
     "text": [
      "261it [00:07, 34.89it/s]\n"
     ]
    }
   ],
   "source": [
    "results = {}\n",
    "for row in tqdm(top_over_df.iterrows()):\n",
    "    #print(row[1]['StudyC'], row[1]['StudyR'], row[1]['EFO'])\n",
    "    results = {**results,  **compare_pval_dists(row[1]['StudyC'], row[1]['StudyR'], row[1]['EFO'])}"
   ]
  },
  {
   "cell_type": "code",
   "execution_count": 100,
   "metadata": {
    "ExecuteTime": {
     "end_time": "2025-03-24T23:52:56.602331Z",
     "start_time": "2025-03-24T23:52:56.599207Z"
    }
   },
   "outputs": [],
   "source": [
    "test_df = pd.DataFrame.from_dict(results, orient='index')"
   ]
  },
  {
   "cell_type": "code",
   "execution_count": 112,
   "metadata": {
    "ExecuteTime": {
     "end_time": "2025-03-24T23:55:23.613379Z",
     "start_time": "2025-03-24T23:55:23.609420Z"
    }
   },
   "outputs": [
    {
     "data": {
      "text/plain": [
       "(61, 8)"
      ]
     },
     "execution_count": 112,
     "metadata": {},
     "output_type": "execute_result"
    }
   ],
   "source": [
    "test_df.dropna(subset='cP').shape"
   ]
  },
  {
   "cell_type": "code",
   "execution_count": 101,
   "metadata": {
    "ExecuteTime": {
     "end_time": "2025-03-24T23:52:58.501665Z",
     "start_time": "2025-03-24T23:52:58.498120Z"
    },
    "code_folding": []
   },
   "outputs": [
    {
     "data": {
      "text/plain": [
       "0.14942528735632185"
      ]
     },
     "execution_count": 101,
     "metadata": {},
     "output_type": "execute_result"
    }
   ],
   "source": [
    "# proportion that could be assessed\n",
    "len(test_df.dropna())/len(test_df)"
   ]
  },
  {
   "cell_type": "code",
   "execution_count": 106,
   "metadata": {
    "ExecuteTime": {
     "end_time": "2025-03-24T23:54:20.222889Z",
     "start_time": "2025-03-24T23:54:20.220043Z"
    }
   },
   "outputs": [],
   "source": [
    "test_df2 = test_df.dropna()"
   ]
  },
  {
   "cell_type": "code",
   "execution_count": null,
   "metadata": {},
   "outputs": [],
   "source": [
    "# what is the best way to assess this with such a small number of overlapping traits. Doing rare and common separately would \n",
    "# give a few more traits to work with. \n",
    "# Also, once I have the UKB traits I can add these too? Looks like the effect might be stronger for common variants which I\n",
    "# think is to be expected. "
   ]
  },
  {
   "cell_type": "code",
   "execution_count": 123,
   "metadata": {
    "ExecuteTime": {
     "end_time": "2025-03-25T00:00:20.318269Z",
     "start_time": "2025-03-25T00:00:19.881952Z"
    }
   },
   "outputs": [
    {
     "data": {
      "text/plain": [
       "<Axes: xlabel='Set', ylabel='P'>"
      ]
     },
     "execution_count": 123,
     "metadata": {},
     "output_type": "execute_result"
    },
    {
     "data": {
      "image/png": "[encoded data removed]",
      "text/plain": [
       "<Figure size 800x400 with 2 Axes>"
      ]
     },
     "metadata": {},
     "output_type": "display_data"
    }
   ],
   "source": [
    "_, [ax1, ax2] = plt.subplots(nrows=1, ncols=2, figsize=(8, 4))\n",
    "sns.violinplot(test_df.melt(value_vars=['rSharedMed', 'rOnlyMed', 'cSharedMed', 'cOnlyMed'], var_name='Set', value_name='MedP'),\n",
    "              x='Set', y='MedP', hue='Set', cut=0, ax=ax1, fill=False, palette=['k','k','k', 'k'], linewidth=0.3)\n",
    "sns.stripplot(test_df.dropna().melt(value_vars=['rSharedMed', 'rOnlyMed', 'cSharedMed', 'cOnlyMed'], var_name='Set', value_name='MedP'),\n",
    "              x='Set', y='MedP', hue='Set', ax=ax1, edgecolor='black')\n",
    "plot_df = test_df.melt(value_vars=['rP', 'cP'], var_name='Set', value_name='P')\n",
    "plot_df['Sig'] = plot_df.P.apply(lambda x: 0 if x > 0.05 else 1 if x > 0.1/len(plot_df) else 2)\n",
    "sns.stripplot(plot_df, jitter=0.3,\n",
    "              x='Set', y='P', hue='Sig', log_scale=True, alpha=0.5, ax=ax2)\n",
    "sns.boxplot(plot_df, x='Set', y='P', log_scale=True, fliersize=0, fill=False, color='grey', ax=ax2)"
   ]
  },
  {
   "cell_type": "code",
   "execution_count": 89,
   "metadata": {
    "ExecuteTime": {
     "end_time": "2025-02-28T01:03:15.018438Z",
     "start_time": "2025-02-28T01:03:06.021683Z"
    }
   },
   "outputs": [
    {
     "name": "stderr",
     "output_type": "stream",
     "text": [
      "320it [00:08, 35.59it/s]\n"
     ]
    }
   ],
   "source": [
    "results_top = {}\n",
    "for row in tqdm(top_over_df.iterrows()):\n",
    "    results_top = {**results_top,  **compare_pval_dists(row[1]['StudyC'], row[1]['StudyR'], row[1]['EFO'])}\n",
    "test_df_top = pd.DataFrame.from_dict(results_top, orient='index')"
   ]
  },
  {
   "cell_type": "code",
   "execution_count": 90,
   "metadata": {
    "ExecuteTime": {
     "end_time": "2025-02-28T01:03:15.367522Z",
     "start_time": "2025-02-28T01:03:15.363315Z"
    }
   },
   "outputs": [
    {
     "data": {
      "text/plain": [
       "0.140625"
      ]
     },
     "execution_count": 90,
     "metadata": {},
     "output_type": "execute_result"
    }
   ],
   "source": [
    "# proportion that could be assessed\n",
    "len(test_df_top.dropna())/len(test_df_top)"
   ]
  },
  {
   "cell_type": "code",
   "execution_count": 91,
   "metadata": {
    "ExecuteTime": {
     "end_time": "2025-02-28T01:03:15.724633Z",
     "start_time": "2025-02-28T01:03:15.714894Z"
    }
   },
   "outputs": [
    {
     "data": {
      "text/html": [
       "<div>\n",
       "<style scoped>\n",
       "    .dataframe tbody tr th:only-of-type {\n",
       "        vertical-align: middle;\n",
       "    }\n",
       "\n",
       "    .dataframe tbody tr th {\n",
       "        vertical-align: top;\n",
       "    }\n",
       "\n",
       "    .dataframe thead th {\n",
       "        text-align: right;\n",
       "    }\n",
       "</style>\n",
       "<table border=\"1\" class=\"dataframe\">\n",
       "  <thead>\n",
       "    <tr style=\"text-align: right;\">\n",
       "      <th></th>\n",
       "      <th>rStat</th>\n",
       "      <th>cStat</th>\n",
       "      <th>rP</th>\n",
       "      <th>cP</th>\n",
       "      <th>rSharedMed</th>\n",
       "      <th>rOnlyMed</th>\n",
       "      <th>cSharedMed</th>\n",
       "      <th>cOnlyMed</th>\n",
       "    </tr>\n",
       "  </thead>\n",
       "  <tbody>\n",
       "    <tr>\n",
       "      <th>33230300.0_EFO_0005763_GCST90310296_EFO_0005763</th>\n",
       "      <td>319.0</td>\n",
       "      <td>7260.5</td>\n",
       "      <td>0.000439</td>\n",
       "      <td>0.884414</td>\n",
       "      <td>10.521434</td>\n",
       "      <td>8.033389</td>\n",
       "      <td>9.698970</td>\n",
       "      <td>9.698970</td>\n",
       "    </tr>\n",
       "    <tr>\n",
       "      <th>33230300.0_EFO_0006336_GCST90449057_EFO_0006336</th>\n",
       "      <td>281.0</td>\n",
       "      <td>2342.0</td>\n",
       "      <td>0.858302</td>\n",
       "      <td>0.008631</td>\n",
       "      <td>7.110698</td>\n",
       "      <td>8.127811</td>\n",
       "      <td>20.698970</td>\n",
       "      <td>10.154902</td>\n",
       "    </tr>\n",
       "    <tr>\n",
       "      <th>34226706.0_EFO_0007986_GCST90025970_EFO_0007986</th>\n",
       "      <td>59.5</td>\n",
       "      <td>27.0</td>\n",
       "      <td>0.000003</td>\n",
       "      <td>0.921053</td>\n",
       "      <td>15.065502</td>\n",
       "      <td>7.887345</td>\n",
       "      <td>23.301030</td>\n",
       "      <td>23.698970</td>\n",
       "    </tr>\n",
       "    <tr>\n",
       "      <th>33230300.0_EFO_0006335_GCST90449056_EFO_0006335</th>\n",
       "      <td>244.0</td>\n",
       "      <td>2209.0</td>\n",
       "      <td>0.138102</td>\n",
       "      <td>0.009340</td>\n",
       "      <td>8.698731</td>\n",
       "      <td>6.928118</td>\n",
       "      <td>15.522879</td>\n",
       "      <td>10.397940</td>\n",
       "    </tr>\n",
       "    <tr>\n",
       "      <th>36809768.0_EFO_0020946_GCST90269691_EFO_0020946</th>\n",
       "      <td>574.0</td>\n",
       "      <td>51.0</td>\n",
       "      <td>0.000069</td>\n",
       "      <td>0.468691</td>\n",
       "      <td>28.815632</td>\n",
       "      <td>10.608506</td>\n",
       "      <td>37.000000</td>\n",
       "      <td>23.698970</td>\n",
       "    </tr>\n",
       "  </tbody>\n",
       "</table>\n",
       "</div>"
      ],
      "text/plain": [
       "                                                 rStat   cStat        rP  \\\n",
       "33230300.0_EFO_0005763_GCST90310296_EFO_0005763  319.0  7260.5  0.000439   \n",
       "33230300.0_EFO_0006336_GCST90449057_EFO_0006336  281.0  2342.0  0.858302   \n",
       "34226706.0_EFO_0007986_GCST90025970_EFO_0007986   59.5    27.0  0.000003   \n",
       "33230300.0_EFO_0006335_GCST90449056_EFO_0006335  244.0  2209.0  0.138102   \n",
       "36809768.0_EFO_0020946_GCST90269691_EFO_0020946  574.0    51.0  0.000069   \n",
       "\n",
       "                                                       cP  rSharedMed  \\\n",
       "33230300.0_EFO_0005763_GCST90310296_EFO_0005763  0.884414   10.521434   \n",
       "33230300.0_EFO_0006336_GCST90449057_EFO_0006336  0.008631    7.110698   \n",
       "34226706.0_EFO_0007986_GCST90025970_EFO_0007986  0.921053   15.065502   \n",
       "33230300.0_EFO_0006335_GCST90449056_EFO_0006335  0.009340    8.698731   \n",
       "36809768.0_EFO_0020946_GCST90269691_EFO_0020946  0.468691   28.815632   \n",
       "\n",
       "                                                  rOnlyMed  cSharedMed  \\\n",
       "33230300.0_EFO_0005763_GCST90310296_EFO_0005763   8.033389    9.698970   \n",
       "33230300.0_EFO_0006336_GCST90449057_EFO_0006336   8.127811   20.698970   \n",
       "34226706.0_EFO_0007986_GCST90025970_EFO_0007986   7.887345   23.301030   \n",
       "33230300.0_EFO_0006335_GCST90449056_EFO_0006335   6.928118   15.522879   \n",
       "36809768.0_EFO_0020946_GCST90269691_EFO_0020946  10.608506   37.000000   \n",
       "\n",
       "                                                  cOnlyMed  \n",
       "33230300.0_EFO_0005763_GCST90310296_EFO_0005763   9.698970  \n",
       "33230300.0_EFO_0006336_GCST90449057_EFO_0006336  10.154902  \n",
       "34226706.0_EFO_0007986_GCST90025970_EFO_0007986  23.698970  \n",
       "33230300.0_EFO_0006335_GCST90449056_EFO_0006335  10.397940  \n",
       "36809768.0_EFO_0020946_GCST90269691_EFO_0020946  23.698970  "
      ]
     },
     "execution_count": 91,
     "metadata": {},
     "output_type": "execute_result"
    }
   ],
   "source": [
    "test_df_top2 = test_df_top.dropna()\n",
    "test_df_top2.head()"
   ]
  },
  {
   "cell_type": "code",
   "execution_count": 92,
   "metadata": {
    "ExecuteTime": {
     "end_time": "2025-02-28T01:03:31.747351Z",
     "start_time": "2025-02-28T01:03:31.259060Z"
    }
   },
   "outputs": [
    {
     "data": {
      "text/plain": [
       "<Axes: xlabel='Set', ylabel='P'>"
      ]
     },
     "execution_count": 92,
     "metadata": {},
     "output_type": "execute_result"
    },
    {
     "data": {
      "image/png": "[encoded data removed]",
      "text/plain": [
       "<Figure size 1000x400 with 2 Axes>"
      ]
     },
     "metadata": {},
     "output_type": "display_data"
    }
   ],
   "source": [
    "_, [ax1, ax2] = plt.subplots(nrows=1, ncols=2, figsize=(10, 4), gridspec_kw={'wspace':0.3})\n",
    "sns.violinplot(test_df_top2.melt(value_vars=['rSharedMed', 'rOnlyMed', 'cSharedMed', 'cOnlyMed'], var_name='Set', value_name='MedP'),\n",
    "              x='Set', y='MedP', hue='Set', cut=0, ax=ax1)\n",
    "\n",
    "plot_df = test_df_top2.melt(value_vars=['rP', 'cP'], var_name='Set', value_name='P')\n",
    "plot_df['Sig'] = plot_df.P.apply(lambda x: 0 if x > 0.05 else 1 if x > 0.1/len(plot_df) else 2)\n",
    "sns.stripplot(plot_df, jitter=0.3,\n",
    "              x='Set', y='P', hue='Sig', log_scale=True, alpha=0.5, ax=ax2)\n",
    "sns.boxplot(plot_df, x='Set', y='P', log_scale=True, fliersize=0, fill=False, color='grey', ax=ax2)"
   ]
  },
  {
   "cell_type": "code",
   "execution_count": 93,
   "metadata": {
    "ExecuteTime": {
     "end_time": "2025-02-28T01:03:45.605943Z",
     "start_time": "2025-02-28T01:03:36.172414Z"
    }
   },
   "outputs": [
    {
     "name": "stderr",
     "output_type": "stream",
     "text": [
      "320it [00:09, 34.04it/s]\n"
     ]
    }
   ],
   "source": [
    "x = compare_global_p_dists(top_over_df)"
   ]
  },
  {
   "cell_type": "code",
   "execution_count": 94,
   "metadata": {
    "ExecuteTime": {
     "end_time": "2025-02-28T01:03:49.210021Z",
     "start_time": "2025-02-28T01:03:48.519558Z"
    }
   },
   "outputs": [
    {
     "data": {
      "text/plain": [
       "<Axes: xlabel='Variant', ylabel='count'>"
      ]
     },
     "execution_count": 94,
     "metadata": {},
     "output_type": "execute_result"
    },
    {
     "data": {
      "image/png": "[encoded data removed]",
      "text/plain": [
       "<Figure size 800x500 with 4 Axes>"
      ]
     },
     "metadata": {},
     "output_type": "display_data"
    }
   ],
   "source": [
    "_, [[ax3,ax4], [ax1, ax2]] = plt.subplots(nrows=2, ncols=2, figsize=(8,5), sharex=True,\n",
    "                                         gridspec_kw={'height_ratios':[1,5], 'hspace':0.05})\n",
    "sns.violinplot(x, x='Variant', y='logp', hue='Group', cut=0, ax=ax1, palette=['mediumseagreen', 'orchid'])\n",
    "sns.boxplot(x, x='Variant', y='logp', hue='Group', fliersize=0, ax=ax2, palette=['mediumseagreen', 'orchid'])\n",
    "ax2.set_ylim(0,100)\n",
    "\n",
    "sns.barplot(x.groupby('Variant').Group.value_counts().reset_index(), x='Variant', y='count', hue='Group', ax=ax3, \n",
    "           palette=['lightgrey', 'grey'], legend=False)\n",
    "sns.barplot(x.groupby('Variant').Group.value_counts().reset_index(), x='Variant', y='count', hue='Group', ax=ax4,\n",
    "           palette=['lightgrey', 'grey'], legend=False)"
   ]
  },
  {
   "cell_type": "code",
   "execution_count": 97,
   "metadata": {
    "ExecuteTime": {
     "end_time": "2025-02-28T01:05:09.739407Z",
     "start_time": "2025-02-28T01:05:09.727635Z"
    }
   },
   "outputs": [
    {
     "data": {
      "text/plain": [
       "MannwhitneyuResult(statistic=1723521.0, pvalue=2.5274769738986697e-49)"
      ]
     },
     "execution_count": 97,
     "metadata": {},
     "output_type": "execute_result"
    }
   ],
   "source": [
    "common = mannwhitneyu(x[(x.Variant=='Common') & (x.Group=='Only')].logp.values, x[(x.Variant=='Common') & (x.Group=='Shared')].logp.values)\n",
    "common"
   ]
  },
  {
   "cell_type": "code",
   "execution_count": 98,
   "metadata": {
    "ExecuteTime": {
     "end_time": "2025-02-28T01:05:18.633419Z",
     "start_time": "2025-02-28T01:05:18.621463Z"
    }
   },
   "outputs": [
    {
     "data": {
      "text/plain": [
       "MannwhitneyuResult(statistic=494577.5, pvalue=1.9521007663815244e-102)"
      ]
     },
     "execution_count": 98,
     "metadata": {},
     "output_type": "execute_result"
    }
   ],
   "source": [
    "rare = mannwhitneyu(x[(x.Variant=='Rare') & (x.Group=='Only')].logp.values, x[(x.Variant=='Rare') & (x.Group=='Shared')].logp.values)\n",
    "rare"
   ]
  },
  {
   "cell_type": "markdown",
   "metadata": {},
   "source": [
    "### Look at reproducibility of shared vs common/rare only genes"
   ]
  },
  {
   "cell_type": "code",
   "execution_count": null,
   "metadata": {},
   "outputs": [],
   "source": []
  },
  {
   "cell_type": "markdown",
   "metadata": {},
   "source": [
    "## Example trait venn diagrams"
   ]
  },
  {
   "cell_type": "code",
   "execution_count": 123,
   "metadata": {
    "ExecuteTime": {
     "end_time": "2025-02-03T23:37:10.922030Z",
     "start_time": "2025-02-03T23:37:10.919966Z"
    }
   },
   "outputs": [],
   "source": [
    "traits = ['EFO_0004570', 'EFO_0009961', 'EFO_0004630',  'EFO_0000612',  'EFO_0000400', 'EFO_0000756', 'EFO_0000684']"
   ]
  },
  {
   "cell_type": "code",
   "execution_count": 126,
   "metadata": {
    "ExecuteTime": {
     "end_time": "2025-02-03T23:39:31.356030Z",
     "start_time": "2025-02-03T23:39:31.348282Z"
    }
   },
   "outputs": [
    {
     "data": {
      "text/html": [
       "<div>\n",
       "<style scoped>\n",
       "    .dataframe tbody tr th:only-of-type {\n",
       "        vertical-align: middle;\n",
       "    }\n",
       "\n",
       "    .dataframe tbody tr th {\n",
       "        vertical-align: top;\n",
       "    }\n",
       "\n",
       "    .dataframe thead th {\n",
       "        text-align: right;\n",
       "    }\n",
       "</style>\n",
       "<table border=\"1\" class=\"dataframe\">\n",
       "  <thead>\n",
       "    <tr style=\"text-align: right;\">\n",
       "      <th></th>\n",
       "      <th>trait_pair</th>\n",
       "      <th>param_set</th>\n",
       "      <th>n_common</th>\n",
       "      <th>n_rare</th>\n",
       "      <th>n_overlap</th>\n",
       "      <th>background</th>\n",
       "      <th>pval</th>\n",
       "      <th>EFO</th>\n",
       "      <th>StudyC</th>\n",
       "      <th>StudyR</th>\n",
       "      <th>Expected</th>\n",
       "      <th>logp</th>\n",
       "      <th>rare_only</th>\n",
       "      <th>common_only</th>\n",
       "      <th>total</th>\n",
       "      <th>overlap+rare</th>\n",
       "    </tr>\n",
       "  </thead>\n",
       "  <tbody>\n",
       "    <tr>\n",
       "      <th>655</th>\n",
       "      <td>34375979.0_EFO_0000400_GCST90246054_EFO_0000400</td>\n",
       "      <td>defaults</td>\n",
       "      <td>5</td>\n",
       "      <td>102</td>\n",
       "      <td>0</td>\n",
       "      <td>20000</td>\n",
       "      <td>0.025244</td>\n",
       "      <td>EFO_0000400</td>\n",
       "      <td>GCST90246054</td>\n",
       "      <td>34375979.0</td>\n",
       "      <td>0.056667</td>\n",
       "      <td>1.597847</td>\n",
       "      <td>102</td>\n",
       "      <td>5</td>\n",
       "      <td>107</td>\n",
       "      <td>102</td>\n",
       "    </tr>\n",
       "  </tbody>\n",
       "</table>\n",
       "</div>"
      ],
      "text/plain": [
       "                                          trait_pair param_set  n_common  \\\n",
       "655  34375979.0_EFO_0000400_GCST90246054_EFO_0000400  defaults         5   \n",
       "\n",
       "     n_rare  n_overlap  background      pval          EFO        StudyC  \\\n",
       "655     102          0       20000  0.025244  EFO_0000400  GCST90246054   \n",
       "\n",
       "         StudyR  Expected      logp  rare_only  common_only  total  \\\n",
       "655  34375979.0  0.056667  1.597847        102            5    107   \n",
       "\n",
       "     overlap+rare  \n",
       "655           102  "
      ]
     },
     "execution_count": 126,
     "metadata": {},
     "output_type": "execute_result"
    }
   ],
   "source": [
    "top_over_df[top_over_df.EFO=='EFO_0000400']"
   ]
  },
  {
   "cell_type": "code",
   "execution_count": null,
   "metadata": {},
   "outputs": [],
   "source": []
  },
  {
   "cell_type": "code",
   "execution_count": 223,
   "metadata": {
    "ExecuteTime": {
     "end_time": "2025-02-05T01:28:50.474691Z",
     "start_time": "2025-02-05T01:28:50.109545Z"
    }
   },
   "outputs": [
    {
     "data": {
      "image/png": "[encoded data removed]",
      "text/plain": [
       "<Figure size 1000x500 with 8 Axes>"
      ]
     },
     "metadata": {},
     "output_type": "display_data"
    }
   ],
   "source": [
    "plt.rcParams.update({'font.size': 16})\n",
    "_, [[ax1,ax2,ax3,ax4], [ax5, ax6, ax7, ax8]] = plt.subplots(2, 4, figsize=(10, 5), sharex=False, sharey=True)\n",
    "for i in range(len(traits)):\n",
    "    trait_info = top_over_df[(top_over_df.EFO==traits[i]) & (top_over_df.param_set=='defaults')]\n",
    "    subsets = trait_info.loc[:, ('rare_only', 'common_only', 'n_overlap')].values[0]\n",
    "    v = venn2(subsets=subsets, set_labels=('', ''), ax=eval(f'ax{i+1}'))\n",
    "    #eval(f'ax{i+1}').set_title(traits[i])\n",
    "    try:\n",
    "        v.get_patch_by_id('10').set_color('mediumseagreen')\n",
    "        v.get_patch_by_id('01').set_color('dodgerblue')\n",
    "        v.get_patch_by_id('11').set_color('purple')\n",
    "    except:\n",
    "        pass\n",
    "plt.savefig(os.path.join(figdir, 'example_vens.jpg'), dpi=400, bbox_inches='tight')"
   ]
  }
 ],
 "metadata": {
  "kernelspec": {
   "display_name": "Python (CARVA)",
   "language": "python",
   "name": "carva"
  },
  "language_info": {
   "codemirror_mode": {
    "name": "ipython",
    "version": 3
   },
   "file_extension": ".py",
   "mimetype": "text/x-python",
   "name": "python",
   "nbconvert_exporter": "python",
   "pygments_lexer": "ipython3",
   "version": "3.10.0"
  },
  "toc": {
   "base_numbering": 1,
   "nav_menu": {},
   "number_sections": true,
   "sideBar": true,
   "skip_h1_title": false,
   "title_cell": "Table of Contents",
   "title_sidebar": "Contents",
   "toc_cell": false,
   "toc_position": {
    "height": "calc(100% - 180px)",
    "left": "10px",
    "top": "150px",
    "width": "341.445px"
   },
   "toc_section_display": true,
   "toc_window_display": true
  },
  "varInspector": {
   "cols": {
    "lenName": 16,
    "lenType": 16,
    "lenVar": 40
   },
   "kernels_config": {
    "python": {
     "delete_cmd_postfix": "",
     "delete_cmd_prefix": "del ",
     "library": "var_list.py",
     "varRefreshCmd": "print(var_dic_list())"
    },
    "r": {
     "delete_cmd_postfix": ") ",
     "delete_cmd_prefix": "rm(",
     "library": "var_list.r",
     "varRefreshCmd": "cat(var_dic_list()) "
    }
   },
   "types_to_exclude": [
    "module",
    "function",
    "builtin_function_or_method",
    "instance",
    "_Feature"
   ],
   "window_display": false
  }
 },
 "nbformat": 4,
 "nbformat_minor": 2
}
