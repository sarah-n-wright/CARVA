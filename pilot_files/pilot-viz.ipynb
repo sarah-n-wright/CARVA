{
 "cells": [
  {
   "cell_type": "code",
   "execution_count": 1,
   "metadata": {
    "ExecuteTime": {
     "end_time": "2023-06-09T16:06:57.590356Z",
     "start_time": "2023-06-09T16:06:28.732733Z"
    }
   },
   "outputs": [],
   "source": [
    "import pandas as pd\n",
    "import matplotlib.pyplot as plt\n",
    "import seaborn as sns\n",
    "import numpy as np"
   ]
  },
  {
   "cell_type": "code",
   "execution_count": 2,
   "metadata": {
    "ExecuteTime": {
     "end_time": "2023-06-09T16:06:57.595912Z",
     "start_time": "2023-06-09T16:06:57.593608Z"
    }
   },
   "outputs": [],
   "source": [
    "datadir=\"/cellar/users/snwright/Data/RareCommon/\""
   ]
  },
  {
   "cell_type": "code",
   "execution_count": 3,
   "metadata": {
    "ExecuteTime": {
     "end_time": "2023-06-09T16:07:03.170407Z",
     "start_time": "2023-06-09T16:06:57.598748Z"
    }
   },
   "outputs": [
    {
     "ename": "FileNotFoundError",
     "evalue": "[Errno 2] File b'/cellar/users/snwright/Data/RareCommon/pilot_netcoloc_results_combined.txt' does not exist: b'/cellar/users/snwright/Data/RareCommon/pilot_netcoloc_results_combined.txt'",
     "output_type": "error",
     "traceback": [
      "\u001b[0;31m---------------------------------------------------------------------------\u001b[0m",
      "\u001b[0;31mFileNotFoundError\u001b[0m                         Traceback (most recent call last)",
      "\u001b[0;32m<ipython-input-3-20b623283d72>\u001b[0m in \u001b[0;36m<module>\u001b[0;34m\u001b[0m\n\u001b[0;32m----> 1\u001b[0;31m \u001b[0mpilot\u001b[0m \u001b[0;34m=\u001b[0m \u001b[0mpd\u001b[0m\u001b[0;34m.\u001b[0m\u001b[0mread_csv\u001b[0m\u001b[0;34m(\u001b[0m\u001b[0mdatadir\u001b[0m\u001b[0;34m+\u001b[0m\u001b[0;34m\"pilot_netcoloc_results_combined.txt\"\u001b[0m\u001b[0;34m,\u001b[0m \u001b[0msep\u001b[0m\u001b[0;34m=\u001b[0m\u001b[0;34m\"\\t\"\u001b[0m\u001b[0;34m)\u001b[0m\u001b[0;34m\u001b[0m\u001b[0;34m\u001b[0m\u001b[0m\n\u001b[0m\u001b[1;32m      2\u001b[0m \u001b[0moverlap\u001b[0m \u001b[0;34m=\u001b[0m \u001b[0mpd\u001b[0m\u001b[0;34m.\u001b[0m\u001b[0mread_csv\u001b[0m\u001b[0;34m(\u001b[0m\u001b[0mdatadir\u001b[0m \u001b[0;34m+\u001b[0m \u001b[0;34m\"pilot_overlap_results.txt\"\u001b[0m\u001b[0;34m,\u001b[0m \u001b[0msep\u001b[0m\u001b[0;34m=\u001b[0m\u001b[0;34m\"\\t\"\u001b[0m\u001b[0;34m)\u001b[0m\u001b[0;34m\u001b[0m\u001b[0;34m\u001b[0m\u001b[0m\n",
      "\u001b[0;32m~/anaconda3/lib/python3.7/site-packages/pandas/io/parsers.py\u001b[0m in \u001b[0;36mparser_f\u001b[0;34m(filepath_or_buffer, sep, delimiter, header, names, index_col, usecols, squeeze, prefix, mangle_dupe_cols, dtype, engine, converters, true_values, false_values, skipinitialspace, skiprows, skipfooter, nrows, na_values, keep_default_na, na_filter, verbose, skip_blank_lines, parse_dates, infer_datetime_format, keep_date_col, date_parser, dayfirst, cache_dates, iterator, chunksize, compression, thousands, decimal, lineterminator, quotechar, quoting, doublequote, escapechar, comment, encoding, dialect, error_bad_lines, warn_bad_lines, delim_whitespace, low_memory, memory_map, float_precision)\u001b[0m\n\u001b[1;32m    683\u001b[0m         )\n\u001b[1;32m    684\u001b[0m \u001b[0;34m\u001b[0m\u001b[0m\n\u001b[0;32m--> 685\u001b[0;31m         \u001b[0;32mreturn\u001b[0m \u001b[0m_read\u001b[0m\u001b[0;34m(\u001b[0m\u001b[0mfilepath_or_buffer\u001b[0m\u001b[0;34m,\u001b[0m \u001b[0mkwds\u001b[0m\u001b[0;34m)\u001b[0m\u001b[0;34m\u001b[0m\u001b[0;34m\u001b[0m\u001b[0m\n\u001b[0m\u001b[1;32m    686\u001b[0m \u001b[0;34m\u001b[0m\u001b[0m\n\u001b[1;32m    687\u001b[0m     \u001b[0mparser_f\u001b[0m\u001b[0;34m.\u001b[0m\u001b[0m__name__\u001b[0m \u001b[0;34m=\u001b[0m \u001b[0mname\u001b[0m\u001b[0;34m\u001b[0m\u001b[0;34m\u001b[0m\u001b[0m\n",
      "\u001b[0;32m~/anaconda3/lib/python3.7/site-packages/pandas/io/parsers.py\u001b[0m in \u001b[0;36m_read\u001b[0;34m(filepath_or_buffer, kwds)\u001b[0m\n\u001b[1;32m    455\u001b[0m \u001b[0;34m\u001b[0m\u001b[0m\n\u001b[1;32m    456\u001b[0m     \u001b[0;31m# Create the parser.\u001b[0m\u001b[0;34m\u001b[0m\u001b[0;34m\u001b[0m\u001b[0;34m\u001b[0m\u001b[0m\n\u001b[0;32m--> 457\u001b[0;31m     \u001b[0mparser\u001b[0m \u001b[0;34m=\u001b[0m \u001b[0mTextFileReader\u001b[0m\u001b[0;34m(\u001b[0m\u001b[0mfp_or_buf\u001b[0m\u001b[0;34m,\u001b[0m \u001b[0;34m**\u001b[0m\u001b[0mkwds\u001b[0m\u001b[0;34m)\u001b[0m\u001b[0;34m\u001b[0m\u001b[0;34m\u001b[0m\u001b[0m\n\u001b[0m\u001b[1;32m    458\u001b[0m \u001b[0;34m\u001b[0m\u001b[0m\n\u001b[1;32m    459\u001b[0m     \u001b[0;32mif\u001b[0m \u001b[0mchunksize\u001b[0m \u001b[0;32mor\u001b[0m \u001b[0miterator\u001b[0m\u001b[0;34m:\u001b[0m\u001b[0;34m\u001b[0m\u001b[0;34m\u001b[0m\u001b[0m\n",
      "\u001b[0;32m~/anaconda3/lib/python3.7/site-packages/pandas/io/parsers.py\u001b[0m in \u001b[0;36m__init__\u001b[0;34m(self, f, engine, **kwds)\u001b[0m\n\u001b[1;32m    893\u001b[0m             \u001b[0mself\u001b[0m\u001b[0;34m.\u001b[0m\u001b[0moptions\u001b[0m\u001b[0;34m[\u001b[0m\u001b[0;34m\"has_index_names\"\u001b[0m\u001b[0;34m]\u001b[0m \u001b[0;34m=\u001b[0m \u001b[0mkwds\u001b[0m\u001b[0;34m[\u001b[0m\u001b[0;34m\"has_index_names\"\u001b[0m\u001b[0;34m]\u001b[0m\u001b[0;34m\u001b[0m\u001b[0;34m\u001b[0m\u001b[0m\n\u001b[1;32m    894\u001b[0m \u001b[0;34m\u001b[0m\u001b[0m\n\u001b[0;32m--> 895\u001b[0;31m         \u001b[0mself\u001b[0m\u001b[0;34m.\u001b[0m\u001b[0m_make_engine\u001b[0m\u001b[0;34m(\u001b[0m\u001b[0mself\u001b[0m\u001b[0;34m.\u001b[0m\u001b[0mengine\u001b[0m\u001b[0;34m)\u001b[0m\u001b[0;34m\u001b[0m\u001b[0;34m\u001b[0m\u001b[0m\n\u001b[0m\u001b[1;32m    896\u001b[0m \u001b[0;34m\u001b[0m\u001b[0m\n\u001b[1;32m    897\u001b[0m     \u001b[0;32mdef\u001b[0m \u001b[0mclose\u001b[0m\u001b[0;34m(\u001b[0m\u001b[0mself\u001b[0m\u001b[0;34m)\u001b[0m\u001b[0;34m:\u001b[0m\u001b[0;34m\u001b[0m\u001b[0;34m\u001b[0m\u001b[0m\n",
      "\u001b[0;32m~/anaconda3/lib/python3.7/site-packages/pandas/io/parsers.py\u001b[0m in \u001b[0;36m_make_engine\u001b[0;34m(self, engine)\u001b[0m\n\u001b[1;32m   1133\u001b[0m     \u001b[0;32mdef\u001b[0m \u001b[0m_make_engine\u001b[0m\u001b[0;34m(\u001b[0m\u001b[0mself\u001b[0m\u001b[0;34m,\u001b[0m \u001b[0mengine\u001b[0m\u001b[0;34m=\u001b[0m\u001b[0;34m\"c\"\u001b[0m\u001b[0;34m)\u001b[0m\u001b[0;34m:\u001b[0m\u001b[0;34m\u001b[0m\u001b[0;34m\u001b[0m\u001b[0m\n\u001b[1;32m   1134\u001b[0m         \u001b[0;32mif\u001b[0m \u001b[0mengine\u001b[0m \u001b[0;34m==\u001b[0m \u001b[0;34m\"c\"\u001b[0m\u001b[0;34m:\u001b[0m\u001b[0;34m\u001b[0m\u001b[0;34m\u001b[0m\u001b[0m\n\u001b[0;32m-> 1135\u001b[0;31m             \u001b[0mself\u001b[0m\u001b[0;34m.\u001b[0m\u001b[0m_engine\u001b[0m \u001b[0;34m=\u001b[0m \u001b[0mCParserWrapper\u001b[0m\u001b[0;34m(\u001b[0m\u001b[0mself\u001b[0m\u001b[0;34m.\u001b[0m\u001b[0mf\u001b[0m\u001b[0;34m,\u001b[0m \u001b[0;34m**\u001b[0m\u001b[0mself\u001b[0m\u001b[0;34m.\u001b[0m\u001b[0moptions\u001b[0m\u001b[0;34m)\u001b[0m\u001b[0;34m\u001b[0m\u001b[0;34m\u001b[0m\u001b[0m\n\u001b[0m\u001b[1;32m   1136\u001b[0m         \u001b[0;32melse\u001b[0m\u001b[0;34m:\u001b[0m\u001b[0;34m\u001b[0m\u001b[0;34m\u001b[0m\u001b[0m\n\u001b[1;32m   1137\u001b[0m             \u001b[0;32mif\u001b[0m \u001b[0mengine\u001b[0m \u001b[0;34m==\u001b[0m \u001b[0;34m\"python\"\u001b[0m\u001b[0;34m:\u001b[0m\u001b[0;34m\u001b[0m\u001b[0;34m\u001b[0m\u001b[0m\n",
      "\u001b[0;32m~/anaconda3/lib/python3.7/site-packages/pandas/io/parsers.py\u001b[0m in \u001b[0;36m__init__\u001b[0;34m(self, src, **kwds)\u001b[0m\n\u001b[1;32m   1915\u001b[0m         \u001b[0mkwds\u001b[0m\u001b[0;34m[\u001b[0m\u001b[0;34m\"usecols\"\u001b[0m\u001b[0;34m]\u001b[0m \u001b[0;34m=\u001b[0m \u001b[0mself\u001b[0m\u001b[0;34m.\u001b[0m\u001b[0musecols\u001b[0m\u001b[0;34m\u001b[0m\u001b[0;34m\u001b[0m\u001b[0m\n\u001b[1;32m   1916\u001b[0m \u001b[0;34m\u001b[0m\u001b[0m\n\u001b[0;32m-> 1917\u001b[0;31m         \u001b[0mself\u001b[0m\u001b[0;34m.\u001b[0m\u001b[0m_reader\u001b[0m \u001b[0;34m=\u001b[0m \u001b[0mparsers\u001b[0m\u001b[0;34m.\u001b[0m\u001b[0mTextReader\u001b[0m\u001b[0;34m(\u001b[0m\u001b[0msrc\u001b[0m\u001b[0;34m,\u001b[0m \u001b[0;34m**\u001b[0m\u001b[0mkwds\u001b[0m\u001b[0;34m)\u001b[0m\u001b[0;34m\u001b[0m\u001b[0;34m\u001b[0m\u001b[0m\n\u001b[0m\u001b[1;32m   1918\u001b[0m         \u001b[0mself\u001b[0m\u001b[0;34m.\u001b[0m\u001b[0munnamed_cols\u001b[0m \u001b[0;34m=\u001b[0m \u001b[0mself\u001b[0m\u001b[0;34m.\u001b[0m\u001b[0m_reader\u001b[0m\u001b[0;34m.\u001b[0m\u001b[0munnamed_cols\u001b[0m\u001b[0;34m\u001b[0m\u001b[0;34m\u001b[0m\u001b[0m\n\u001b[1;32m   1919\u001b[0m \u001b[0;34m\u001b[0m\u001b[0m\n",
      "\u001b[0;32mpandas/_libs/parsers.pyx\u001b[0m in \u001b[0;36mpandas._libs.parsers.TextReader.__cinit__\u001b[0;34m()\u001b[0m\n",
      "\u001b[0;32mpandas/_libs/parsers.pyx\u001b[0m in \u001b[0;36mpandas._libs.parsers.TextReader._setup_parser_source\u001b[0;34m()\u001b[0m\n",
      "\u001b[0;31mFileNotFoundError\u001b[0m: [Errno 2] File b'/cellar/users/snwright/Data/RareCommon/pilot_netcoloc_results_combined.txt' does not exist: b'/cellar/users/snwright/Data/RareCommon/pilot_netcoloc_results_combined.txt'"
     ]
    }
   ],
   "source": [
    "pilot = pd.read_csv(datadir+\"pilot_netcoloc_results_combined.txt\", sep=\"\\t\")\n",
    "overlap = pd.read_csv(datadir + \"pilot_overlap_results.txt\", sep=\"\\t\")"
   ]
  },
  {
   "cell_type": "code",
   "execution_count": null,
   "metadata": {
    "ExecuteTime": {
     "end_time": "2023-06-09T16:07:03.175798Z",
     "start_time": "2023-06-09T16:06:28.254Z"
    }
   },
   "outputs": [],
   "source": [
    "traits = {\"30630\":\"Apolipoprotein A\", \"30640\":\"Apolipoprotein B\", \"23110\":\"Impedance of Arm\", \"30830\":\"SHBG\", \"30840\":\"Total bilirubin\", \n",
    "            \"30050\": \"Mean corpuscular haemoglobin\", \"30140\":\"Neutrophil count\", \"30250\": \"Reticulocyte count\", \"30880\":\"Urate\",\n",
    "            30630:\"Apolipoprotein A\", 30640:\"Apolipoprotein B\", 23110:\"Impedance of Arm\", 30830:\"SHBG\", 30840:\"Total bilirubin\", \n",
    "            30050: \"Mean corpuscular haemoglobin\", 30140:\"Neutrophil count\", 30250: \"Reticulocyte count\", 30880:\"Urate\"}\n",
    "\n",
    "pilot = pilot.replace(traits)\n",
    "overlap = overlap.replace(traits)\n",
    "overlap = overlap.set_index(\"Trait\")\n",
    "overlap.index.name=None"
   ]
  },
  {
   "cell_type": "code",
   "execution_count": null,
   "metadata": {
    "ExecuteTime": {
     "end_time": "2023-06-09T16:07:03.178048Z",
     "start_time": "2023-06-09T16:06:28.258Z"
    }
   },
   "outputs": [],
   "source": [
    "overlap.describe()"
   ]
  },
  {
   "cell_type": "code",
   "execution_count": null,
   "metadata": {
    "ExecuteTime": {
     "end_time": "2023-06-09T16:07:03.180256Z",
     "start_time": "2023-06-09T16:06:28.260Z"
    }
   },
   "outputs": [],
   "source": [
    "pilot = pilot[pilot[\"Trait_Common\"] != \"Trait_Common\"]\n",
    "pilot[\"Mean_NPS\"] = pilot[\"Mean_NPS\"].astype(float)\n",
    "pilot[\"p_NPS\"] = pilot[\"p_NPS\"].astype(float)\n",
    "pilot[\"p_Size\"] = pilot[\"p_Size\"].astype(float)"
   ]
  },
  {
   "cell_type": "code",
   "execution_count": null,
   "metadata": {
    "ExecuteTime": {
     "end_time": "2023-06-09T16:07:03.182441Z",
     "start_time": "2023-06-09T16:06:28.262Z"
    }
   },
   "outputs": [],
   "source": [
    "pilot[\"OE\"] = pilot[\"Size\"].astype(float) / pilot[\"Null_Size\"].astype(float)"
   ]
  },
  {
   "cell_type": "code",
   "execution_count": null,
   "metadata": {
    "ExecuteTime": {
     "end_time": "2023-06-09T16:07:03.184630Z",
     "start_time": "2023-06-09T16:06:28.265Z"
    }
   },
   "outputs": [],
   "source": [
    "pilot.Trait_Common.unique()"
   ]
  },
  {
   "cell_type": "code",
   "execution_count": null,
   "metadata": {
    "ExecuteTime": {
     "end_time": "2023-06-09T16:07:03.186807Z",
     "start_time": "2023-06-09T16:06:28.268Z"
    }
   },
   "outputs": [],
   "source": [
    "pilot[\"anno\"] = pilot.p_Size.apply(lambda x: \"***\" if x < 0.0000001 else \"**\" if x < 0.00001 else \"*\" if x < 0.001 else \"\")"
   ]
  },
  {
   "cell_type": "code",
   "execution_count": null,
   "metadata": {
    "ExecuteTime": {
     "end_time": "2023-06-09T16:07:03.188994Z",
     "start_time": "2023-06-09T16:06:28.270Z"
    }
   },
   "outputs": [],
   "source": [
    "pilot.anno.value_counts()"
   ]
  },
  {
   "cell_type": "code",
   "execution_count": null,
   "metadata": {
    "ExecuteTime": {
     "end_time": "2023-06-09T16:07:03.191183Z",
     "start_time": "2023-06-09T16:06:28.273Z"
    }
   },
   "outputs": [],
   "source": [
    "p_size = pilot.pivot(index=\"Trait_Common\", columns=\"Trait_Rare\", values=\"p_Size\")\n",
    "ratio = pilot.pivot(index=\"Trait_Common\", columns=\"Trait_Rare\", values=\"OE\")\n",
    "anno = pilot.pivot(index=\"Trait_Common\", columns=\"Trait_Rare\", values=\"anno\")\n",
    "\n",
    "\n",
    "#a = a.fillna(1)"
   ]
  },
  {
   "cell_type": "code",
   "execution_count": null,
   "metadata": {
    "ExecuteTime": {
     "end_time": "2023-06-09T16:07:03.193368Z",
     "start_time": "2023-06-09T16:06:28.275Z"
    }
   },
   "outputs": [],
   "source": [
    "order = ['Apolipoprotein A', 'Apolipoprotein B', 'SHBG', 'Total bilirubin',\n",
    "       'Urate','Reticulocyte count', 'Neutrophil count','Mean corpuscular haemoglobin',\n",
    "        'Impedance of Arm']\n",
    "overlap.head()\n",
    "p_size = p_size.loc[order, order]\n",
    "ratio = ratio.loc[order, order]\n",
    "anno = anno.loc[order, order]"
   ]
  },
  {
   "cell_type": "code",
   "execution_count": null,
   "metadata": {
    "ExecuteTime": {
     "end_time": "2023-06-09T16:07:03.195556Z",
     "start_time": "2023-06-09T16:06:28.278Z"
    }
   },
   "outputs": [],
   "source": [
    "fig, axs = plt.subplots(nrows=2, ncols=2, figsize=(6,6), gridspec_kw={\"width_ratios\":[3,1], \"height_ratios\":[1,3], \"wspace\":0.15, \"hspace\":0.15})\n",
    "overlap=overlap.loc[order]\n",
    "a = a.loc[order, order]\n",
    "#overlap.loc[:, \"Common\"].plot.barh( ax=axs[1][1])\n",
    "axs[0][0].bar(x=overlap.index, height=overlap[\"Rare\"], color=\"grey\")\n",
    "axs[0][0].set_xlim(-0.5, 8.5)\n",
    "axs[0][0].set_xticklabels([])\n",
    "axs[0][0].set_ylabel(\"#Rare seeds\", fontsize=12)\n",
    "overlap=overlap.loc[order[::-1]]\n",
    "axs[1][1].barh(y=overlap.index, width=overlap[\"Common\"], color=\"grey\")\n",
    "axs[1][1].set_ylim(-0.5, 8.5)\n",
    "axs[1][1].set_yticklabels([])\n",
    "axs[1][1].set_xlabel(\"#Common seeds\", fontsize=12)\n",
    "#overlap.loc[:, \"Rare\"].plot.bar( ax=axs[0])\n",
    "g = sns.heatmap(a, cmap='RdBu', center=1, cbar_kws={'label':\"Observed/Expected\", \"location\":\"right\"}, square=False, ax=axs[1][0])\n",
    "g.set_facecolor(\"lightgrey\")\n",
    "axs[1][0].set_xlabel(\"Rare Seeds\", fontsize=14)\n",
    "axs[1][0].set_ylabel(\"Common Seeds\", fontsize=14)\n",
    "\n",
    "plt.xticks(fontsize=12)\n",
    "plt.yticks(fontsize=12)\n",
    "axs[0][1].axis('off')\n",
    "plt.savefig(\"/cellar/users/snwright/Data/Transfer/RVC/pilot_rare_common_bars.png\", bbox_inches=\"tight\", dpi=400)\n"
   ]
  },
  {
   "cell_type": "code",
   "execution_count": null,
   "metadata": {
    "ExecuteTime": {
     "end_time": "2023-06-09T16:07:03.197752Z",
     "start_time": "2023-06-09T16:06:28.281Z"
    }
   },
   "outputs": [],
   "source": [
    "fig, axs = plt.subplots(nrows=2, ncols=2, figsize=(8,8), gridspec_kw={\"width_ratios\":[3,1], \"height_ratios\":[1,3], \"wspace\":0.05, \"hspace\":0.05})\n",
    "overlap=overlap.loc[order]\n",
    "a = a.loc[order, order]\n",
    "#overlap.loc[:, \"Common\"].plot.barh( ax=axs[1][1])\n",
    "axs[0][0].bar(x=overlap.index, height=overlap[\"Rare\"])\n",
    "axs[0][0].set_xlim(-0.5, 8.5)\n",
    "axs[0][0].set_xticklabels([])\n",
    "overlap=overlap.loc[order[::-1]]\n",
    "axs[1][1].barh(y=overlap.index, width=overlap[\"Common\"])\n",
    "axs[1][1].set_ylim(-0.5, 8.5)\n",
    "axs[1][1].set_yticklabels([])\n",
    "#overlap.loc[:, \"Rare\"].plot.bar( ax=axs[0])\n",
    "g = sns.heatmap(-1 * np.log10(a), vmax=40, cmap='viridis', cbar_kws={'label':\"-log10(p-value)\", \"location\":\"left\"}, square=False, ax=axs[1][0])\n",
    "g.set_facecolor(\"lightgrey\")\n",
    "axs[1][0].set_xlabel(\"Rare Seeds\", fontsize=14)\n",
    "axs[1][0].set_ylabel(\"Common Seeds\", fontsize=14)\n",
    "\n",
    "plt.xticks(fontsize=12)\n",
    "plt.yticks(fontsize=12)\n",
    "axs[0][1].axis('off')\n",
    "#plt.savefig(\"/cellar/users/snwright/Data/Transfer/RVC/pilot_p_size_heatmap.png\", bbox_inches=\"tight\", dpi=400)\n"
   ]
  },
  {
   "cell_type": "code",
   "execution_count": null,
   "metadata": {
    "ExecuteTime": {
     "end_time": "2023-06-09T16:07:03.199930Z",
     "start_time": "2023-06-09T16:06:28.283Z"
    }
   },
   "outputs": [],
   "source": [
    "overlap_mat = pd.read_csv(datadir+\"pilot_overlap_results_matrix.txt\", sep=\"\\t\")\n",
    "overlap_mat = overlap_mat.replace(traits)"
   ]
  },
  {
   "cell_type": "code",
   "execution_count": null,
   "metadata": {
    "ExecuteTime": {
     "end_time": "2023-06-09T16:07:03.202038Z",
     "start_time": "2023-06-09T16:06:28.285Z"
    }
   },
   "outputs": [],
   "source": [
    "overlap_nums = overlap_mat.pivot(\"TraitC\", \"TraitR\", \"Overlap\")\n",
    "overlap_nums = overlap_nums.loc[order, order]"
   ]
  },
  {
   "cell_type": "code",
   "execution_count": null,
   "metadata": {
    "ExecuteTime": {
     "end_time": "2023-06-09T16:07:03.202665Z",
     "start_time": "2023-06-09T16:06:28.287Z"
    }
   },
   "outputs": [],
   "source": [
    "overlap_p = overlap_mat.pivot(\"TraitC\", \"TraitR\", \"Overlap_p\")\n",
    "overlap_p = overlap_p.loc[order, order]"
   ]
  },
  {
   "cell_type": "code",
   "execution_count": null,
   "metadata": {
    "ExecuteTime": {
     "end_time": "2023-06-09T16:07:03.203304Z",
     "start_time": "2023-06-09T16:06:28.292Z"
    }
   },
   "outputs": [],
   "source": [
    "sns.heatmap(-1* np.log10(overlap_p), annot=overlap_nums, vmax =10, cbar_kws={'label':\"-log10(p-value)\"}, square=True)\n",
    "plt.xticks(fontsize=12)\n",
    "plt.yticks(fontsize=12)\n",
    "plt.ylabel(\"Common\", fontsize=12)\n",
    "plt.xlabel(\"Rare\", fontsize=12)\n",
    "plt.savefig(\"/cellar/users/snwright/Data/Transfer/RVC/pilot_hyperOverlap_heatmap.png\", bbox_inches = \"tight\", dpi=400)"
   ]
  },
  {
   "cell_type": "code",
   "execution_count": null,
   "metadata": {
    "ExecuteTime": {
     "end_time": "2023-06-09T16:07:03.203945Z",
     "start_time": "2023-06-09T16:06:28.296Z"
    }
   },
   "outputs": [],
   "source": [
    "ratio_sig = p_size < 0.01"
   ]
  },
  {
   "cell_type": "code",
   "execution_count": null,
   "metadata": {
    "ExecuteTime": {
     "end_time": "2023-06-09T16:07:03.209482Z",
     "start_time": "2023-06-09T16:06:28.299Z"
    }
   },
   "outputs": [],
   "source": [
    "ratio_sig"
   ]
  },
  {
   "cell_type": "code",
   "execution_count": null,
   "metadata": {
    "ExecuteTime": {
     "end_time": "2023-06-09T16:07:03.210105Z",
     "start_time": "2023-06-09T16:06:28.302Z"
    }
   },
   "outputs": [],
   "source": [
    "sns.heatmap(ratio,cmap='RdBu', cbar_kws={'label':\"Observed/Expected Size\"}, square=True, center=1, annot=anno.to_numpy(), fmt='s')\n",
    "plt.xticks(fontsize=12)\n",
    "plt.yticks(fontsize=12)\n",
    "plt.ylabel(\"Common\", fontsize=12)\n",
    "plt.xlabel(\"Rare\", fontsize=12)\n",
    "plt.savefig(\"/cellar/users/snwright/Data/Transfer/RVC/pilot_OE_heatmap.png\", bbox_inches = \"tight\", dpi=400)"
   ]
  },
  {
   "cell_type": "code",
   "execution_count": null,
   "metadata": {},
   "outputs": [],
   "source": []
  },
  {
   "cell_type": "markdown",
   "metadata": {},
   "source": [
    "# Scope of rare variants"
   ]
  },
  {
   "cell_type": "markdown",
   "metadata": {},
   "source": [
    "## Continuous traits"
   ]
  },
  {
   "cell_type": "code",
   "execution_count": null,
   "metadata": {
    "ExecuteTime": {
     "end_time": "2023-06-09T16:07:03.210701Z",
     "start_time": "2023-06-09T16:06:28.341Z"
    }
   },
   "outputs": [],
   "source": [
    "cont = pd.read_csv(datadir+\"AZdata/Table17_pan_quant.txt\", sep=\"\\t\")"
   ]
  },
  {
   "cell_type": "code",
   "execution_count": null,
   "metadata": {
    "ExecuteTime": {
     "end_time": "2023-06-09T16:07:03.211304Z",
     "start_time": "2023-06-09T16:06:28.344Z"
    }
   },
   "outputs": [],
   "source": [
    "def get_number_of_genes(data, th, phe_col, gene_col, p_col):\n",
    "    data = data[data[p_col] < th]\n",
    "    results = data.loc[:, (gene_col, phe_col)].drop_duplicates()\n",
    "    pheno_counts = results.groupby(phe_col).count()\n",
    "    gene_th = [i for i in range(1, 50)]\n",
    "    traits_meeting_th = []\n",
    "    for x in gene_th:\n",
    "        traits_meeting_th.append( np.sum(pheno_counts >= x)[0])\n",
    "    return traits_meeting_th\n"
   ]
  },
  {
   "cell_type": "code",
   "execution_count": null,
   "metadata": {
    "ExecuteTime": {
     "end_time": "2023-06-09T16:07:03.211939Z",
     "start_time": "2023-06-09T16:06:28.347Z"
    }
   },
   "outputs": [],
   "source": [
    "a = get_number_of_genes(cont, 0.0001, \"pheno\", \"geno\", \"p\")\n",
    "b = get_number_of_genes(cont, 0.0000001, \"pheno\", \"geno\", \"p\")\n",
    "\n",
    "test_th = [1e-3, 1e-4,5e-5, 1e-5, 2.5e-6, 1e-6, 1e-7, 1e-8, 1e-9, 1e-10]"
   ]
  },
  {
   "cell_type": "code",
   "execution_count": null,
   "metadata": {
    "ExecuteTime": {
     "end_time": "2023-06-09T16:07:03.212574Z",
     "start_time": "2023-06-09T16:06:28.351Z"
    }
   },
   "outputs": [],
   "source": [
    "res = pd.DataFrame({t: get_number_of_genes(cont, t, \"pheno\", \"geno\", \"p\") for t in test_th}, index=[i for i in range(1, 50)])\n",
    "res.plot()\n",
    "plt.yscale(\"log\")\n",
    "plt.vlines(5, 0, 2000, linestyle=\"dashed\", color=\"black\")\n",
    "plt.xlabel(\"Minimum number of genes per trait\", fontsize=12)\n",
    "plt.ylabel(\"Number of traits meeting criteria\", fontsize=12)\n",
    "plt.title(\"Quantitative Traits\")\n",
    "plt.savefig(\"/cellar/users/snwright/Data/Transfer/RVC/quant_trait_count.png\", bbox_inches=\"tight\", dpi=400)"
   ]
  },
  {
   "cell_type": "code",
   "execution_count": null,
   "metadata": {
    "ExecuteTime": {
     "end_time": "2023-06-09T16:07:03.213205Z",
     "start_time": "2023-06-09T16:06:28.354Z"
    }
   },
   "outputs": [],
   "source": [
    "{t: get_number_of_genes(cont, t, \"pheno\", \"geno\", \"p\") for t in test_th}[2.5e-6]"
   ]
  },
  {
   "cell_type": "code",
   "execution_count": null,
   "metadata": {
    "ExecuteTime": {
     "end_time": "2023-06-09T16:07:03.213832Z",
     "start_time": "2023-06-09T16:06:28.358Z"
    }
   },
   "outputs": [],
   "source": [
    "np.sum(get_number_of_genes(cont, 0.00001, \"pheno\", \"geno\") > 50)"
   ]
  },
  {
   "cell_type": "code",
   "execution_count": null,
   "metadata": {
    "ExecuteTime": {
     "end_time": "2023-06-09T16:07:03.214454Z",
     "start_time": "2023-06-09T16:06:28.364Z"
    }
   },
   "outputs": [],
   "source": [
    "cont.head()"
   ]
  },
  {
   "cell_type": "markdown",
   "metadata": {},
   "source": [
    "# Binary traits"
   ]
  },
  {
   "cell_type": "code",
   "execution_count": null,
   "metadata": {
    "ExecuteTime": {
     "end_time": "2023-06-09T16:07:03.215085Z",
     "start_time": "2023-06-09T16:06:28.385Z"
    }
   },
   "outputs": [],
   "source": [
    "binary = pd.read_csv(datadir+\"AZdata/Table16_pan_binary.txt\", sep=\"\\t\")"
   ]
  },
  {
   "cell_type": "code",
   "execution_count": null,
   "metadata": {
    "ExecuteTime": {
     "end_time": "2023-06-09T16:07:03.228598Z",
     "start_time": "2023-06-09T16:06:28.389Z"
    }
   },
   "outputs": [],
   "source": [
    "binary.head()"
   ]
  },
  {
   "cell_type": "code",
   "execution_count": null,
   "metadata": {
    "ExecuteTime": {
     "end_time": "2023-06-09T16:07:03.229230Z",
     "start_time": "2023-06-09T16:06:28.393Z"
    }
   },
   "outputs": [],
   "source": [
    "res = pd.DataFrame({t: get_number_of_genes(binary, t, \"phenotype\", \"genotype\", \"EUR_pValue\") for t in test_th}, index=[i for i in range(1, 50)])\n",
    "res.plot()\n",
    "plt.yscale(\"log\")\n",
    "plt.vlines(5, 0, 5000, linestyle=\"dashed\", color=\"black\")\n",
    "plt.xlabel(\"Minimum number of genes per trait\", fontsize=12)\n",
    "plt.ylabel(\"Number of traits meeting criteria\", fontsize=12)\n",
    "plt.title(\"Binary Traits\")\n",
    "plt.savefig(\"/cellar/users/snwright/Data/Transfer/RVC/binary_trait_count.png\", bbox_inches=\"tight\", dpi=400)"
   ]
  },
  {
   "cell_type": "code",
   "execution_count": null,
   "metadata": {
    "ExecuteTime": {
     "end_time": "2023-06-09T16:07:03.229830Z",
     "start_time": "2023-06-09T16:06:28.396Z"
    }
   },
   "outputs": [],
   "source": [
    "{t: get_number_of_genes(binary, t, \"phenotype\", \"genotype\", \"EUR_pValue\") for t in test_th}[2.5e-6]"
   ]
  },
  {
   "cell_type": "code",
   "execution_count": null,
   "metadata": {
    "ExecuteTime": {
     "end_time": "2023-06-09T16:07:03.230418Z",
     "start_time": "2023-06-09T16:06:28.399Z"
    }
   },
   "outputs": [],
   "source": [
    "from scipy.stats import hypergeom"
   ]
  },
  {
   "cell_type": "code",
   "execution_count": null,
   "metadata": {
    "ExecuteTime": {
     "end_time": "2023-06-09T16:07:03.231009Z",
     "start_time": "2023-06-09T16:06:28.403Z"
    }
   },
   "outputs": [],
   "source": [
    "hypergeom(100, 50, 10).sf(0)"
   ]
  }
 ],
 "metadata": {
  "interpreter": {
   "hash": "833c001aa53f4486328f1387d4fb414d15597cab6b8eba396b5ca9583a0d87dd"
  },
  "kernelspec": {
   "display_name": "Python 3",
   "language": "python",
   "name": "python3"
  },
  "language_info": {
   "codemirror_mode": {
    "name": "ipython",
    "version": 3
   },
   "file_extension": ".py",
   "mimetype": "text/x-python",
   "name": "python",
   "nbconvert_exporter": "python",
   "pygments_lexer": "ipython3",
   "version": "3.7.4"
  },
  "toc": {
   "base_numbering": 1,
   "nav_menu": {},
   "number_sections": true,
   "sideBar": true,
   "skip_h1_title": false,
   "title_cell": "Table of Contents",
   "title_sidebar": "Contents",
   "toc_cell": false,
   "toc_position": {},
   "toc_section_display": true,
   "toc_window_display": false
  },
  "varInspector": {
   "cols": {
    "lenName": 16,
    "lenType": 16,
    "lenVar": 40
   },
   "kernels_config": {
    "python": {
     "delete_cmd_postfix": "",
     "delete_cmd_prefix": "del ",
     "library": "var_list.py",
     "varRefreshCmd": "print(var_dic_list())"
    },
    "r": {
     "delete_cmd_postfix": ") ",
     "delete_cmd_prefix": "rm(",
     "library": "var_list.r",
     "varRefreshCmd": "cat(var_dic_list()) "
    }
   },
   "types_to_exclude": [
    "module",
    "function",
    "builtin_function_or_method",
    "instance",
    "_Feature"
   ],
   "window_display": false
  }
 },
 "nbformat": 4,
 "nbformat_minor": 2
}
