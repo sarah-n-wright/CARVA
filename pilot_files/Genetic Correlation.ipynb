{
 "cells": [
  {
   "cell_type": "code",
   "execution_count": 1,
   "metadata": {
    "ExecuteTime": {
     "end_time": "2023-06-09T17:24:50.213897Z",
     "start_time": "2023-06-09T17:24:45.891079Z"
    }
   },
   "outputs": [],
   "source": [
    "import pandas as pd\n",
    "import seaborn as sns\n",
    "import matplotlib.pyplot as plt"
   ]
  },
  {
   "cell_type": "code",
   "execution_count": 2,
   "metadata": {
    "ExecuteTime": {
     "end_time": "2023-06-09T17:24:50.219408Z",
     "start_time": "2023-06-09T17:24:50.217250Z"
    }
   },
   "outputs": [],
   "source": [
    "DATADIR=\"/cellar/users/snwright/Data/RareCommon/\""
   ]
  },
  {
   "cell_type": "code",
   "execution_count": null,
   "metadata": {
    "ExecuteTime": {
     "end_time": "2023-06-09T18:38:06.179032Z",
     "start_time": "2023-06-09T18:38:04.921979Z"
    }
   },
   "outputs": [],
   "source": []
  },
  {
   "cell_type": "code",
   "execution_count": null,
   "metadata": {},
   "outputs": [],
   "source": []
  },
  {
   "cell_type": "markdown",
   "metadata": {
    "ExecuteTime": {
     "end_time": "2023-06-09T17:27:58.486842Z",
     "start_time": "2023-06-09T17:27:58.477547Z"
    }
   },
   "source": [
    "## Heritability"
   ]
  },
  {
   "cell_type": "code",
   "execution_count": 139,
   "metadata": {
    "ExecuteTime": {
     "end_time": "2023-06-09T18:39:53.566544Z",
     "start_time": "2023-06-09T18:39:53.557920Z"
    }
   },
   "outputs": [],
   "source": [
    "pilot = pd.read_csv(DATADIR+\"pilot2_netcoloc_results_combined.txt\", sep=\"\\t\")\n"
   ]
  },
  {
   "cell_type": "code",
   "execution_count": 141,
   "metadata": {
    "ExecuteTime": {
     "end_time": "2023-06-09T18:39:54.346999Z",
     "start_time": "2023-06-09T18:39:54.339988Z"
    }
   },
   "outputs": [],
   "source": [
    "traits = {\"30630\":\"Apolipoprotein A\", \"30640\":\"Apolipoprotein B\", \"23110\":\"Impedance of Arm\", \"30830\":\"SHBG\", \"30840\":\"Total bilirubin\", \n",
    "            \"30050\": \"Mean corpuscular haemoglobin\", \"30140\":\"Neutrophil count\", \"30250\": \"Reticulocyte count\", \"30880\":\"Urate\",\n",
    "         \"20015\":\"Sitting Height\", \"20151\":\"Forced Vital Capacity\", \"23098\":\"Weight\",\n",
    "        \"2453\": \"Cancer Diagnosis\", \"3063\":\"Forced Expiratory Volume\", \"30680\":\"Calcium\", \"5133\":\"6mm strong meridian (R)\"}\n",
    "int_traits = {}\n",
    "for t in traits:\n",
    "    int_traits[int(t)] = traits[t]\n",
    "traits = {**traits,**int_traits,  \"C3_PRIMARY_LYMPHOID_HEMATOPOIETIC\":\"ICD10:Primary lymphoid/haem. malignant neoplasms\", \"C92\":\"ICD10:Myeloid Leukemia\", \n",
    "          \"D46\":\"ICD10:Myelodysplastic Syndromes\", \"D47\":\"ICD10: Other lymphoid/haem. neoplasms\", \n",
    "          \"XVII_MALFORMAT_ABNORMAL\":\"ICD10:Congenital Abnormalities\" }\n",
    "missing_traits = [\"C92\",\"D46\", \"XVII_MALFORMAT_ABNORMAL\"]\n",
    "pilot = pilot.replace(traits)"
   ]
  },
  {
   "cell_type": "code",
   "execution_count": 142,
   "metadata": {
    "ExecuteTime": {
     "end_time": "2023-06-09T18:39:54.798586Z",
     "start_time": "2023-06-09T18:39:54.795953Z"
    }
   },
   "outputs": [],
   "source": [
    "keep_traits = ['Apolipoprotein A', 'Apolipoprotein B', 'SHBG', 'Total bilirubin',\n",
    "       'Urate', 'Impedance of Arm', 'Mean corpuscular haemoglobin',\n",
    "       'Neutrophil count', 'Reticulocyte count', 'Sitting Height',\n",
    "       'Forced Vital Capacity', 'Weight', \n",
    "       'Forced Expiratory Volume', '6mm strong meridian (R)']"
   ]
  },
  {
   "cell_type": "code",
   "execution_count": 143,
   "metadata": {
    "ExecuteTime": {
     "end_time": "2023-06-09T18:39:55.361219Z",
     "start_time": "2023-06-09T18:39:55.357947Z"
    }
   },
   "outputs": [],
   "source": [
    "pilot = pilot[(pilot.Trait_Common.isin(keep_traits)) & (pilot.Trait_Rare.isin(keep_traits))]"
   ]
  },
  {
   "cell_type": "code",
   "execution_count": 144,
   "metadata": {
    "ExecuteTime": {
     "end_time": "2023-06-09T18:40:01.625589Z",
     "start_time": "2023-06-09T18:40:01.620923Z"
    }
   },
   "outputs": [
    {
     "data": {
      "text/plain": [
       "array(['Apolipoprotein A', 'Apolipoprotein B', 'SHBG', 'Total bilirubin',\n",
       "       'Urate', 'Impedance of Arm', 'Mean corpuscular haemoglobin',\n",
       "       'Neutrophil count', 'Reticulocyte count', 'Sitting Height',\n",
       "       'Forced Vital Capacity', 'Weight', 'Forced Expiratory Volume',\n",
       "       '6mm strong meridian (R)'], dtype=object)"
      ]
     },
     "execution_count": 144,
     "metadata": {},
     "output_type": "execute_result"
    }
   ],
   "source": [
    "pilot.Trait_Common.unique()"
   ]
  },
  {
   "cell_type": "code",
   "execution_count": 147,
   "metadata": {
    "ExecuteTime": {
     "end_time": "2023-06-09T18:44:11.920835Z",
     "start_time": "2023-06-09T18:44:11.918457Z"
    }
   },
   "outputs": [],
   "source": [
    "h2 = {'Apolipoprotein A':0.285, 'Apolipoprotein B':0.0915, 'SHBG':0.230, 'Total bilirubin':0.543,\n",
    "       'Urate':0.214, 'Impedance of Arm':0.246, 'Mean corpuscular haemoglobin':0.253,\n",
    "       'Neutrophil count':0.164, 'Reticulocyte count':0.227, 'Sitting Height':0.349,\n",
    "       'Forced Vital Capacity':0.21, 'Weight':0.26, 'Forced Expiratory Volume':0.192,\n",
    "       '6mm strong meridian (R)':0.423}"
   ]
  },
  {
   "cell_type": "code",
   "execution_count": 148,
   "metadata": {
    "ExecuteTime": {
     "end_time": "2023-06-09T18:44:53.424405Z",
     "start_time": "2023-06-09T18:44:53.421344Z"
    }
   },
   "outputs": [],
   "source": [
    "within = pilot.loc[pilot.Trait_Common==pilot.Trait_Rare]"
   ]
  },
  {
   "cell_type": "code",
   "execution_count": 152,
   "metadata": {
    "ExecuteTime": {
     "end_time": "2023-06-09T18:45:37.720870Z",
     "start_time": "2023-06-09T18:45:37.716201Z"
    }
   },
   "outputs": [
    {
     "name": "stderr",
     "output_type": "stream",
     "text": [
      "/tmp/ipykernel_1316558/1954293754.py:1: SettingWithCopyWarning: \n",
      "A value is trying to be set on a copy of a slice from a DataFrame.\n",
      "Try using .loc[row_indexer,col_indexer] = value instead\n",
      "\n",
      "See the caveats in the documentation: https://pandas.pydata.org/pandas-docs/stable/user_guide/indexing.html#returning-a-view-versus-a-copy\n",
      "  within[\"h2\"] = within.Trait_Common.apply(lambda x: h2[x])\n"
     ]
    }
   ],
   "source": [
    "within[\"h2\"] = within.Trait_Common.apply(lambda x: h2[x])"
   ]
  },
  {
   "cell_type": "code",
   "execution_count": 155,
   "metadata": {
    "ExecuteTime": {
     "end_time": "2023-06-09T18:46:50.753477Z",
     "start_time": "2023-06-09T18:46:50.748238Z"
    }
   },
   "outputs": [
    {
     "name": "stderr",
     "output_type": "stream",
     "text": [
      "/tmp/ipykernel_1316558/3171938243.py:1: SettingWithCopyWarning: \n",
      "A value is trying to be set on a copy of a slice from a DataFrame.\n",
      "Try using .loc[row_indexer,col_indexer] = value instead\n",
      "\n",
      "See the caveats in the documentation: https://pandas.pydata.org/pandas-docs/stable/user_guide/indexing.html#returning-a-view-versus-a-copy\n",
      "  within[\"OE\"] = within[\"Size\"]/within[\"Null_Size\"]\n",
      "/tmp/ipykernel_1316558/3171938243.py:2: SettingWithCopyWarning: \n",
      "A value is trying to be set on a copy of a slice from a DataFrame.\n",
      "Try using .loc[row_indexer,col_indexer] = value instead\n",
      "\n",
      "See the caveats in the documentation: https://pandas.pydata.org/pandas-docs/stable/user_guide/indexing.html#returning-a-view-versus-a-copy\n",
      "  within[\"log10\"] = -1 * np.log10(within.p_Size)\n"
     ]
    }
   ],
   "source": [
    "within[\"OE\"] = within[\"Size\"]/within[\"Null_Size\"]\n",
    "within[\"log10\"] = -1 * np.log10(within.p_Size)"
   ]
  },
  {
   "cell_type": "code",
   "execution_count": 169,
   "metadata": {
    "ExecuteTime": {
     "end_time": "2023-06-09T18:53:00.302180Z",
     "start_time": "2023-06-09T18:52:59.890456Z"
    }
   },
   "outputs": [
    {
     "data": {
      "image/png": "[encoded data removed]",
      "text/plain": [
       "<Figure size 216x144 with 1 Axes>"
      ]
     },
     "metadata": {
      "needs_background": "light"
     },
     "output_type": "display_data"
    }
   ],
   "source": [
    "within.plot(kind=\"scatter\", x=\"h2\", y=\"log10\", figsize=(3,2))\n",
    "plt.xlabel(\"Heritability (h2)\", fontsize=12)\n",
    "plt.ylabel(\"Colocalization\\n-log10(p)\", fontsize=12)\n",
    "plt.savefig(\"/cellar/users/snwright/Data/Transfer/RVC/figures/heritability_v_colocalization.svg\", bbox_inches='tight', dpi=400)"
   ]
  },
  {
   "cell_type": "code",
   "execution_count": 170,
   "metadata": {
    "ExecuteTime": {
     "end_time": "2023-06-09T18:55:57.474710Z",
     "start_time": "2023-06-09T18:55:57.463938Z"
    }
   },
   "outputs": [
    {
     "data": {
      "text/html": [
       "<div>\n",
       "<style scoped>\n",
       "    .dataframe tbody tr th:only-of-type {\n",
       "        vertical-align: middle;\n",
       "    }\n",
       "\n",
       "    .dataframe tbody tr th {\n",
       "        vertical-align: top;\n",
       "    }\n",
       "\n",
       "    .dataframe thead th {\n",
       "        text-align: right;\n",
       "    }\n",
       "</style>\n",
       "<table border=\"1\" class=\"dataframe\">\n",
       "  <thead>\n",
       "    <tr style=\"text-align: right;\">\n",
       "      <th></th>\n",
       "      <th>Trait_Common</th>\n",
       "      <th>Trait_Rare</th>\n",
       "      <th>Mean_NPS</th>\n",
       "      <th>Null_NPS</th>\n",
       "      <th>p_NPS</th>\n",
       "      <th>Size</th>\n",
       "      <th>Null_Size</th>\n",
       "      <th>p_Size</th>\n",
       "      <th>h2</th>\n",
       "      <th>OE</th>\n",
       "      <th>log10</th>\n",
       "    </tr>\n",
       "  </thead>\n",
       "  <tbody>\n",
       "    <tr>\n",
       "      <th>9</th>\n",
       "      <td>Sitting Height</td>\n",
       "      <td>Sitting Height</td>\n",
       "      <td>0.073725</td>\n",
       "      <td>-0.018487</td>\n",
       "      <td>1.924000e-05</td>\n",
       "      <td>332</td>\n",
       "      <td>303.613</td>\n",
       "      <td>3.428000e-02</td>\n",
       "      <td>0.3490</td>\n",
       "      <td>1.093497</td>\n",
       "      <td>1.464959</td>\n",
       "    </tr>\n",
       "    <tr>\n",
       "      <th>30</th>\n",
       "      <td>Forced Vital Capacity</td>\n",
       "      <td>Forced Vital Capacity</td>\n",
       "      <td>0.170468</td>\n",
       "      <td>-0.003111</td>\n",
       "      <td>5.132000e-20</td>\n",
       "      <td>390</td>\n",
       "      <td>279.280</td>\n",
       "      <td>4.833000e-14</td>\n",
       "      <td>0.2100</td>\n",
       "      <td>1.396448</td>\n",
       "      <td>13.315783</td>\n",
       "    </tr>\n",
       "    <tr>\n",
       "      <th>52</th>\n",
       "      <td>Weight</td>\n",
       "      <td>Weight</td>\n",
       "      <td>-0.072614</td>\n",
       "      <td>-0.025355</td>\n",
       "      <td>9.798000e-01</td>\n",
       "      <td>334</td>\n",
       "      <td>318.847</td>\n",
       "      <td>1.644000e-01</td>\n",
       "      <td>0.2600</td>\n",
       "      <td>1.047524</td>\n",
       "      <td>0.784098</td>\n",
       "    </tr>\n",
       "    <tr>\n",
       "      <th>67</th>\n",
       "      <td>Impedance of Arm</td>\n",
       "      <td>Impedance of Arm</td>\n",
       "      <td>0.145336</td>\n",
       "      <td>-0.012121</td>\n",
       "      <td>2.694000e-14</td>\n",
       "      <td>433</td>\n",
       "      <td>310.176</td>\n",
       "      <td>8.812000e-15</td>\n",
       "      <td>0.2460</td>\n",
       "      <td>1.395982</td>\n",
       "      <td>14.054926</td>\n",
       "    </tr>\n",
       "    <tr>\n",
       "      <th>108</th>\n",
       "      <td>Mean corpuscular haemoglobin</td>\n",
       "      <td>Mean corpuscular haemoglobin</td>\n",
       "      <td>0.259872</td>\n",
       "      <td>-0.025448</td>\n",
       "      <td>3.284000e-37</td>\n",
       "      <td>414</td>\n",
       "      <td>288.927</td>\n",
       "      <td>3.522000e-18</td>\n",
       "      <td>0.2530</td>\n",
       "      <td>1.432888</td>\n",
       "      <td>17.453211</td>\n",
       "    </tr>\n",
       "    <tr>\n",
       "      <th>129</th>\n",
       "      <td>Neutrophil count</td>\n",
       "      <td>Neutrophil count</td>\n",
       "      <td>0.164688</td>\n",
       "      <td>-0.002170</td>\n",
       "      <td>4.723000e-14</td>\n",
       "      <td>484</td>\n",
       "      <td>313.767</td>\n",
       "      <td>4.092000e-30</td>\n",
       "      <td>0.1640</td>\n",
       "      <td>1.542546</td>\n",
       "      <td>29.388064</td>\n",
       "    </tr>\n",
       "    <tr>\n",
       "      <th>150</th>\n",
       "      <td>Reticulocyte count</td>\n",
       "      <td>Reticulocyte count</td>\n",
       "      <td>0.316627</td>\n",
       "      <td>-0.007086</td>\n",
       "      <td>4.341000e-62</td>\n",
       "      <td>453</td>\n",
       "      <td>272.508</td>\n",
       "      <td>1.562000e-35</td>\n",
       "      <td>0.2270</td>\n",
       "      <td>1.662337</td>\n",
       "      <td>34.806319</td>\n",
       "    </tr>\n",
       "    <tr>\n",
       "      <th>175</th>\n",
       "      <td>Forced Expiratory Volume</td>\n",
       "      <td>Forced Expiratory Volume</td>\n",
       "      <td>0.239883</td>\n",
       "      <td>0.003337</td>\n",
       "      <td>6.329000e-36</td>\n",
       "      <td>399</td>\n",
       "      <td>285.565</td>\n",
       "      <td>5.614000e-14</td>\n",
       "      <td>0.1920</td>\n",
       "      <td>1.397230</td>\n",
       "      <td>13.250728</td>\n",
       "    </tr>\n",
       "    <tr>\n",
       "      <th>183</th>\n",
       "      <td>Apolipoprotein A</td>\n",
       "      <td>Apolipoprotein A</td>\n",
       "      <td>0.368328</td>\n",
       "      <td>-0.075775</td>\n",
       "      <td>9.209000e-78</td>\n",
       "      <td>618</td>\n",
       "      <td>304.944</td>\n",
       "      <td>5.132000e-94</td>\n",
       "      <td>0.2850</td>\n",
       "      <td>2.026602</td>\n",
       "      <td>93.289713</td>\n",
       "    </tr>\n",
       "    <tr>\n",
       "      <th>205</th>\n",
       "      <td>Apolipoprotein B</td>\n",
       "      <td>Apolipoprotein B</td>\n",
       "      <td>0.283312</td>\n",
       "      <td>-0.027452</td>\n",
       "      <td>1.137000e-54</td>\n",
       "      <td>542</td>\n",
       "      <td>310.174</td>\n",
       "      <td>7.663000e-57</td>\n",
       "      <td>0.0915</td>\n",
       "      <td>1.747406</td>\n",
       "      <td>56.115601</td>\n",
       "    </tr>\n",
       "    <tr>\n",
       "      <th>246</th>\n",
       "      <td>SHBG</td>\n",
       "      <td>SHBG</td>\n",
       "      <td>0.262068</td>\n",
       "      <td>-0.001764</td>\n",
       "      <td>2.499000e-44</td>\n",
       "      <td>528</td>\n",
       "      <td>321.745</td>\n",
       "      <td>1.765000e-37</td>\n",
       "      <td>0.2300</td>\n",
       "      <td>1.641051</td>\n",
       "      <td>36.753255</td>\n",
       "    </tr>\n",
       "    <tr>\n",
       "      <th>268</th>\n",
       "      <td>Total bilirubin</td>\n",
       "      <td>Total bilirubin</td>\n",
       "      <td>0.256728</td>\n",
       "      <td>-0.053298</td>\n",
       "      <td>1.184000e-51</td>\n",
       "      <td>499</td>\n",
       "      <td>250.745</td>\n",
       "      <td>1.126000e-74</td>\n",
       "      <td>0.5430</td>\n",
       "      <td>1.990070</td>\n",
       "      <td>73.948462</td>\n",
       "    </tr>\n",
       "    <tr>\n",
       "      <th>289</th>\n",
       "      <td>Urate</td>\n",
       "      <td>Urate</td>\n",
       "      <td>0.094637</td>\n",
       "      <td>-0.026201</td>\n",
       "      <td>7.517000e-09</td>\n",
       "      <td>387</td>\n",
       "      <td>318.491</td>\n",
       "      <td>1.706000e-06</td>\n",
       "      <td>0.2140</td>\n",
       "      <td>1.215105</td>\n",
       "      <td>5.768021</td>\n",
       "    </tr>\n",
       "    <tr>\n",
       "      <th>320</th>\n",
       "      <td>6mm strong meridian (R)</td>\n",
       "      <td>6mm strong meridian (R)</td>\n",
       "      <td>0.192545</td>\n",
       "      <td>0.001145</td>\n",
       "      <td>1.380000e-54</td>\n",
       "      <td>442</td>\n",
       "      <td>250.695</td>\n",
       "      <td>1.028000e-40</td>\n",
       "      <td>0.4230</td>\n",
       "      <td>1.763099</td>\n",
       "      <td>39.988007</td>\n",
       "    </tr>\n",
       "  </tbody>\n",
       "</table>\n",
       "</div>"
      ],
      "text/plain": [
       "                     Trait_Common                    Trait_Rare  Mean_NPS  \\\n",
       "9                  Sitting Height                Sitting Height  0.073725   \n",
       "30          Forced Vital Capacity         Forced Vital Capacity  0.170468   \n",
       "52                         Weight                        Weight -0.072614   \n",
       "67               Impedance of Arm              Impedance of Arm  0.145336   \n",
       "108  Mean corpuscular haemoglobin  Mean corpuscular haemoglobin  0.259872   \n",
       "129              Neutrophil count              Neutrophil count  0.164688   \n",
       "150            Reticulocyte count            Reticulocyte count  0.316627   \n",
       "175      Forced Expiratory Volume      Forced Expiratory Volume  0.239883   \n",
       "183              Apolipoprotein A              Apolipoprotein A  0.368328   \n",
       "205              Apolipoprotein B              Apolipoprotein B  0.283312   \n",
       "246                          SHBG                          SHBG  0.262068   \n",
       "268               Total bilirubin               Total bilirubin  0.256728   \n",
       "289                         Urate                         Urate  0.094637   \n",
       "320       6mm strong meridian (R)       6mm strong meridian (R)  0.192545   \n",
       "\n",
       "     Null_NPS         p_NPS  Size  Null_Size        p_Size      h2        OE  \\\n",
       "9   -0.018487  1.924000e-05   332    303.613  3.428000e-02  0.3490  1.093497   \n",
       "30  -0.003111  5.132000e-20   390    279.280  4.833000e-14  0.2100  1.396448   \n",
       "52  -0.025355  9.798000e-01   334    318.847  1.644000e-01  0.2600  1.047524   \n",
       "67  -0.012121  2.694000e-14   433    310.176  8.812000e-15  0.2460  1.395982   \n",
       "108 -0.025448  3.284000e-37   414    288.927  3.522000e-18  0.2530  1.432888   \n",
       "129 -0.002170  4.723000e-14   484    313.767  4.092000e-30  0.1640  1.542546   \n",
       "150 -0.007086  4.341000e-62   453    272.508  1.562000e-35  0.2270  1.662337   \n",
       "175  0.003337  6.329000e-36   399    285.565  5.614000e-14  0.1920  1.397230   \n",
       "183 -0.075775  9.209000e-78   618    304.944  5.132000e-94  0.2850  2.026602   \n",
       "205 -0.027452  1.137000e-54   542    310.174  7.663000e-57  0.0915  1.747406   \n",
       "246 -0.001764  2.499000e-44   528    321.745  1.765000e-37  0.2300  1.641051   \n",
       "268 -0.053298  1.184000e-51   499    250.745  1.126000e-74  0.5430  1.990070   \n",
       "289 -0.026201  7.517000e-09   387    318.491  1.706000e-06  0.2140  1.215105   \n",
       "320  0.001145  1.380000e-54   442    250.695  1.028000e-40  0.4230  1.763099   \n",
       "\n",
       "         log10  \n",
       "9     1.464959  \n",
       "30   13.315783  \n",
       "52    0.784098  \n",
       "67   14.054926  \n",
       "108  17.453211  \n",
       "129  29.388064  \n",
       "150  34.806319  \n",
       "175  13.250728  \n",
       "183  93.289713  \n",
       "205  56.115601  \n",
       "246  36.753255  \n",
       "268  73.948462  \n",
       "289   5.768021  \n",
       "320  39.988007  "
      ]
     },
     "execution_count": 170,
     "metadata": {},
     "output_type": "execute_result"
    }
   ],
   "source": [
    "within"
   ]
  },
  {
   "cell_type": "code",
   "execution_count": 161,
   "metadata": {
    "ExecuteTime": {
     "end_time": "2023-06-09T18:49:10.356806Z",
     "start_time": "2023-06-09T18:49:10.352075Z"
    }
   },
   "outputs": [
    {
     "data": {
      "text/plain": [
       "(0.2904151918877567, 0.3138140193262968)"
      ]
     },
     "execution_count": 161,
     "metadata": {},
     "output_type": "execute_result"
    }
   ],
   "source": [
    "from scipy.stats import pearsonr\n",
    "pearsonr(within.h2, within.log10)"
   ]
  },
  {
   "cell_type": "markdown",
   "metadata": {},
   "source": [
    "## Correlation"
   ]
  },
  {
   "cell_type": "code",
   "execution_count": null,
   "metadata": {},
   "outputs": [],
   "source": [
    "data = pd.read_csv(DATADIR + '/Reference/ukbb_corr_neale-2023-05-10.csv')\n",
    "pilot = pd.read_csv(DATADIR +\"pilot_netcoloc_results_trait_subset.tsv\", sep=\"\\t\")"
   ]
  },
  {
   "cell_type": "code",
   "execution_count": 17,
   "metadata": {
    "ExecuteTime": {
     "end_time": "2023-06-09T17:27:49.183657Z",
     "start_time": "2023-06-09T17:27:49.148554Z"
    }
   },
   "outputs": [],
   "source": [
    "phenotypes = set(data.ID1.unique()).union(set(data.ID2.unique()))"
   ]
  },
  {
   "cell_type": "code",
   "execution_count": 18,
   "metadata": {
    "ExecuteTime": {
     "end_time": "2023-06-09T17:27:49.609362Z",
     "start_time": "2023-06-09T17:27:49.604220Z"
    },
    "scrolled": true
   },
   "outputs": [
    {
     "name": "stdout",
     "output_type": "stream",
     "text": [
      "C3_OTHER_SKIN\n",
      "C3_BREAST_3\n",
      "C3_MALE_GENITAL\n",
      "C3_SKIN\n",
      "C3_PROSTATE\n",
      "C3_DIGESTIVE_ORGANS\n",
      "XVIII_MISCFINDINGS\n",
      "23110\n",
      "30050\n",
      "30140\n",
      "30250\n"
     ]
    }
   ],
   "source": [
    "test = ['C92', '2453', '30680', 'C92', 'C3', 'D46', 'D47', 'XVII', '30630', '30640', '30840', '30880', '23110', '30050',\n",
    "       '30140', '30250', 'E80']\n",
    "for term in test:\n",
    "    for pheno in phenotypes:\n",
    "        if term in pheno:\n",
    "            print(pheno)"
   ]
  },
  {
   "cell_type": "code",
   "execution_count": 19,
   "metadata": {
    "ExecuteTime": {
     "end_time": "2023-06-09T17:27:50.248082Z",
     "start_time": "2023-06-09T17:27:50.245897Z"
    }
   },
   "outputs": [],
   "source": [
    "present = ['20015','20151', '23098', '3063', '5133', '23110', '30050', '30140', '30250']"
   ]
  },
  {
   "cell_type": "code",
   "execution_count": 20,
   "metadata": {
    "ExecuteTime": {
     "end_time": "2023-06-09T17:27:50.704267Z",
     "start_time": "2023-06-09T17:27:50.701844Z"
    }
   },
   "outputs": [],
   "source": [
    "names = {'20015':'Sitting Height','20151':'Forced Vital Capacity', '23098':'Weight', '3063':'Forced expiratory volume',\n",
    "         '5133':'6mm strong meridian', '23110':'Impedance of arm', '30050':\"Mean corpuscular haemoglobin\",\n",
    "         '30140':\"Neutrophil count\", '30250':'Reticulocyte count'}"
   ]
  },
  {
   "cell_type": "code",
   "execution_count": 21,
   "metadata": {
    "ExecuteTime": {
     "end_time": "2023-06-09T17:27:51.234115Z",
     "start_time": "2023-06-09T17:27:51.208591Z"
    }
   },
   "outputs": [],
   "source": [
    "compare = data[((data.ID2.isin(present)) & (data.ID1.isin(present)))]"
   ]
  },
  {
   "cell_type": "code",
   "execution_count": 22,
   "metadata": {
    "ExecuteTime": {
     "end_time": "2023-06-09T17:27:52.138740Z",
     "start_time": "2023-06-09T17:27:52.134181Z"
    }
   },
   "outputs": [
    {
     "name": "stderr",
     "output_type": "stream",
     "text": [
      "/tmp/ipykernel_1316558/3252378282.py:1: SettingWithCopyWarning: \n",
      "A value is trying to be set on a copy of a slice from a DataFrame.\n",
      "Try using .loc[row_indexer,col_indexer] = value instead\n",
      "\n",
      "See the caveats in the documentation: https://pandas.pydata.org/pandas-docs/stable/user_guide/indexing.html#returning-a-view-versus-a-copy\n",
      "  compare[\"Pheno1\"] = compare['ID1'].apply(lambda x: names[x])\n",
      "/tmp/ipykernel_1316558/3252378282.py:2: SettingWithCopyWarning: \n",
      "A value is trying to be set on a copy of a slice from a DataFrame.\n",
      "Try using .loc[row_indexer,col_indexer] = value instead\n",
      "\n",
      "See the caveats in the documentation: https://pandas.pydata.org/pandas-docs/stable/user_guide/indexing.html#returning-a-view-versus-a-copy\n",
      "  compare[\"Pheno2\"] = compare['ID2'].apply(lambda x: names[x])\n"
     ]
    }
   ],
   "source": [
    "compare[\"Pheno1\"] = compare['ID1'].apply(lambda x: names[x])\n",
    "compare[\"Pheno2\"] = compare['ID2'].apply(lambda x: names[x])"
   ]
  },
  {
   "cell_type": "code",
   "execution_count": 23,
   "metadata": {
    "ExecuteTime": {
     "end_time": "2023-06-09T17:27:52.595588Z",
     "start_time": "2023-06-09T17:27:52.592163Z"
    }
   },
   "outputs": [],
   "source": [
    "compare_table = compare.pivot('Pheno1', 'Pheno2', 'rg')"
   ]
  },
  {
   "cell_type": "code",
   "execution_count": 24,
   "metadata": {
    "ExecuteTime": {
     "end_time": "2023-06-09T17:27:52.796051Z",
     "start_time": "2023-06-09T17:27:52.793799Z"
    }
   },
   "outputs": [],
   "source": [
    "compare_table = compare_table.fillna(1)"
   ]
  },
  {
   "cell_type": "code",
   "execution_count": 25,
   "metadata": {
    "ExecuteTime": {
     "end_time": "2023-06-09T17:27:55.540173Z",
     "start_time": "2023-06-09T17:27:52.952593Z"
    }
   },
   "outputs": [
    {
     "data": {
      "image/png": "[encoded data removed]",
      "text/plain": [
       "<Figure size 360x360 with 4 Axes>"
      ]
     },
     "metadata": {
      "needs_background": "light"
     },
     "output_type": "display_data"
    }
   ],
   "source": [
    "plt.rcParams['svg.fonttype'] = 'none'\n",
    "cg = sns.clustermap(compare_table, cmap = 'RdBu', center=0, figsize=(5,5), cbar_pos=(1,1, 0.1, 0.1))\n",
    "cg.ax_row_dendrogram.set_visible(False)\n",
    "cg.ax_col_dendrogram.set_visible(False)\n",
    "plt.savefig(\"/cellar/users/snwright/Data/Transfer/RVC/genetic_correlations.svg\", dpi=400, bbox_inches='tight')"
   ]
  },
  {
   "cell_type": "code",
   "execution_count": 26,
   "metadata": {
    "ExecuteTime": {
     "end_time": "2023-06-09T17:27:55.603891Z",
     "start_time": "2023-06-09T17:27:55.591735Z"
    }
   },
   "outputs": [
    {
     "data": {
      "text/html": [
       "<div>\n",
       "<style scoped>\n",
       "    .dataframe tbody tr th:only-of-type {\n",
       "        vertical-align: middle;\n",
       "    }\n",
       "\n",
       "    .dataframe tbody tr th {\n",
       "        vertical-align: top;\n",
       "    }\n",
       "\n",
       "    .dataframe thead th {\n",
       "        text-align: right;\n",
       "    }\n",
       "</style>\n",
       "<table border=\"1\" class=\"dataframe\">\n",
       "  <thead>\n",
       "    <tr style=\"text-align: right;\">\n",
       "      <th></th>\n",
       "      <th>ID1</th>\n",
       "      <th>ID2</th>\n",
       "      <th>Phenotype 1</th>\n",
       "      <th>Phenotype 2</th>\n",
       "      <th>h2</th>\n",
       "      <th>h2 SE</th>\n",
       "      <th>h2 intercept</th>\n",
       "      <th>h2 intercept SE</th>\n",
       "      <th>rpheno</th>\n",
       "      <th>rg</th>\n",
       "      <th>rg SE</th>\n",
       "      <th>Z</th>\n",
       "      <th>p</th>\n",
       "      <th>rg intercept</th>\n",
       "      <th>rg intercept SE</th>\n",
       "      <th>Pheno1</th>\n",
       "      <th>Pheno2</th>\n",
       "    </tr>\n",
       "  </thead>\n",
       "  <tbody>\n",
       "    <tr>\n",
       "      <th>92737</th>\n",
       "      <td>20015</td>\n",
       "      <td>20151</td>\n",
       "      <td>&lt;a href='https://ukbb-rg.hail.is/rg_summary_20...</td>\n",
       "      <td>&lt;a href='https://ukbb-rg.hail.is/rg_summary_20...</td>\n",
       "      <td>0.2345</td>\n",
       "      <td>0.010300</td>\n",
       "      <td>1.096</td>\n",
       "      <td>0.02031</td>\n",
       "      <td>0.373581</td>\n",
       "      <td>0.592200</td>\n",
       "      <td>0.01643</td>\n",
       "      <td>36.0400</td>\n",
       "      <td>1.750000e-284</td>\n",
       "      <td>0.40960</td>\n",
       "      <td>0.02451</td>\n",
       "      <td>Sitting Height</td>\n",
       "      <td>Forced Vital Capacity</td>\n",
       "    </tr>\n",
       "    <tr>\n",
       "      <th>92834</th>\n",
       "      <td>20015</td>\n",
       "      <td>23098</td>\n",
       "      <td>&lt;a href='https://ukbb-rg.hail.is/rg_summary_20...</td>\n",
       "      <td>&lt;a href='https://ukbb-rg.hail.is/rg_summary_23...</td>\n",
       "      <td>0.2635</td>\n",
       "      <td>0.009121</td>\n",
       "      <td>1.080</td>\n",
       "      <td>0.02183</td>\n",
       "      <td>0.346019</td>\n",
       "      <td>0.445300</td>\n",
       "      <td>0.01630</td>\n",
       "      <td>27.3300</td>\n",
       "      <td>2.005000e-164</td>\n",
       "      <td>0.40690</td>\n",
       "      <td>0.02162</td>\n",
       "      <td>Sitting Height</td>\n",
       "      <td>Weight</td>\n",
       "    </tr>\n",
       "    <tr>\n",
       "      <th>92845</th>\n",
       "      <td>20015</td>\n",
       "      <td>23110</td>\n",
       "      <td>&lt;a href='https://ukbb-rg.hail.is/rg_summary_20...</td>\n",
       "      <td>&lt;a href='https://ukbb-rg.hail.is/rg_summary_23...</td>\n",
       "      <td>0.2308</td>\n",
       "      <td>0.008072</td>\n",
       "      <td>1.106</td>\n",
       "      <td>0.02215</td>\n",
       "      <td>-0.092338</td>\n",
       "      <td>-0.056000</td>\n",
       "      <td>0.01903</td>\n",
       "      <td>-2.9420</td>\n",
       "      <td>3.257000e-03</td>\n",
       "      <td>-0.10320</td>\n",
       "      <td>0.01246</td>\n",
       "      <td>Sitting Height</td>\n",
       "      <td>Impedance of arm</td>\n",
       "    </tr>\n",
       "    <tr>\n",
       "      <th>92912</th>\n",
       "      <td>20015</td>\n",
       "      <td>30050</td>\n",
       "      <td>&lt;a href='https://ukbb-rg.hail.is/rg_summary_20...</td>\n",
       "      <td>&lt;a href='https://ukbb-rg.hail.is/rg_summary_30...</td>\n",
       "      <td>0.2348</td>\n",
       "      <td>0.029600</td>\n",
       "      <td>1.154</td>\n",
       "      <td>0.06406</td>\n",
       "      <td>-0.012837</td>\n",
       "      <td>-0.007373</td>\n",
       "      <td>0.01754</td>\n",
       "      <td>-0.4204</td>\n",
       "      <td>6.742000e-01</td>\n",
       "      <td>-0.01892</td>\n",
       "      <td>0.01166</td>\n",
       "      <td>Sitting Height</td>\n",
       "      <td>Mean corpuscular haemoglobin</td>\n",
       "    </tr>\n",
       "    <tr>\n",
       "      <th>92921</th>\n",
       "      <td>20015</td>\n",
       "      <td>30140</td>\n",
       "      <td>&lt;a href='https://ukbb-rg.hail.is/rg_summary_20...</td>\n",
       "      <td>&lt;a href='https://ukbb-rg.hail.is/rg_summary_30...</td>\n",
       "      <td>0.1589</td>\n",
       "      <td>0.016870</td>\n",
       "      <td>1.123</td>\n",
       "      <td>0.03657</td>\n",
       "      <td>-0.067485</td>\n",
       "      <td>-0.113400</td>\n",
       "      <td>0.01897</td>\n",
       "      <td>-5.9750</td>\n",
       "      <td>2.296000e-09</td>\n",
       "      <td>-0.08215</td>\n",
       "      <td>0.01176</td>\n",
       "      <td>Sitting Height</td>\n",
       "      <td>Neutrophil count</td>\n",
       "    </tr>\n",
       "  </tbody>\n",
       "</table>\n",
       "</div>"
      ],
      "text/plain": [
       "         ID1    ID2                                        Phenotype 1  \\\n",
       "92737  20015  20151  <a href='https://ukbb-rg.hail.is/rg_summary_20...   \n",
       "92834  20015  23098  <a href='https://ukbb-rg.hail.is/rg_summary_20...   \n",
       "92845  20015  23110  <a href='https://ukbb-rg.hail.is/rg_summary_20...   \n",
       "92912  20015  30050  <a href='https://ukbb-rg.hail.is/rg_summary_20...   \n",
       "92921  20015  30140  <a href='https://ukbb-rg.hail.is/rg_summary_20...   \n",
       "\n",
       "                                             Phenotype 2      h2     h2 SE  \\\n",
       "92737  <a href='https://ukbb-rg.hail.is/rg_summary_20...  0.2345  0.010300   \n",
       "92834  <a href='https://ukbb-rg.hail.is/rg_summary_23...  0.2635  0.009121   \n",
       "92845  <a href='https://ukbb-rg.hail.is/rg_summary_23...  0.2308  0.008072   \n",
       "92912  <a href='https://ukbb-rg.hail.is/rg_summary_30...  0.2348  0.029600   \n",
       "92921  <a href='https://ukbb-rg.hail.is/rg_summary_30...  0.1589  0.016870   \n",
       "\n",
       "       h2 intercept  h2 intercept SE    rpheno        rg    rg SE        Z  \\\n",
       "92737         1.096          0.02031  0.373581  0.592200  0.01643  36.0400   \n",
       "92834         1.080          0.02183  0.346019  0.445300  0.01630  27.3300   \n",
       "92845         1.106          0.02215 -0.092338 -0.056000  0.01903  -2.9420   \n",
       "92912         1.154          0.06406 -0.012837 -0.007373  0.01754  -0.4204   \n",
       "92921         1.123          0.03657 -0.067485 -0.113400  0.01897  -5.9750   \n",
       "\n",
       "                   p  rg intercept  rg intercept SE          Pheno1  \\\n",
       "92737  1.750000e-284       0.40960          0.02451  Sitting Height   \n",
       "92834  2.005000e-164       0.40690          0.02162  Sitting Height   \n",
       "92845   3.257000e-03      -0.10320          0.01246  Sitting Height   \n",
       "92912   6.742000e-01      -0.01892          0.01166  Sitting Height   \n",
       "92921   2.296000e-09      -0.08215          0.01176  Sitting Height   \n",
       "\n",
       "                             Pheno2  \n",
       "92737         Forced Vital Capacity  \n",
       "92834                        Weight  \n",
       "92845              Impedance of arm  \n",
       "92912  Mean corpuscular haemoglobin  \n",
       "92921              Neutrophil count  "
      ]
     },
     "execution_count": 26,
     "metadata": {},
     "output_type": "execute_result"
    }
   ],
   "source": [
    "compare.head()"
   ]
  },
  {
   "cell_type": "code",
   "execution_count": 74,
   "metadata": {
    "ExecuteTime": {
     "end_time": "2023-06-09T17:53:19.034007Z",
     "start_time": "2023-06-09T17:53:19.028310Z"
    }
   },
   "outputs": [
    {
     "name": "stderr",
     "output_type": "stream",
     "text": [
      "/tmp/ipykernel_1316558/2160559110.py:1: SettingWithCopyWarning: \n",
      "A value is trying to be set on a copy of a slice from a DataFrame.\n",
      "Try using .loc[row_indexer,col_indexer] = value instead\n",
      "\n",
      "See the caveats in the documentation: https://pandas.pydata.org/pandas-docs/stable/user_guide/indexing.html#returning-a-view-versus-a-copy\n",
      "  compare[\"Pair\"] = compare.apply(lambda x: \"-\".join(sorted([x.Pheno1, x.Pheno2])), axis=1)\n"
     ]
    }
   ],
   "source": [
    "compare[\"Pair\"] = compare.apply(lambda x: \"-\".join(sorted([x.Pheno1, x.Pheno2])), axis=1)"
   ]
  },
  {
   "cell_type": "code",
   "execution_count": 76,
   "metadata": {
    "ExecuteTime": {
     "end_time": "2023-06-09T17:53:56.453339Z",
     "start_time": "2023-06-09T17:53:56.450037Z"
    }
   },
   "outputs": [],
   "source": [
    "compare_dedup = compare.drop_duplicates(subset=\"Pair\")"
   ]
  },
  {
   "cell_type": "code",
   "execution_count": 84,
   "metadata": {
    "ExecuteTime": {
     "end_time": "2023-06-09T17:55:10.681649Z",
     "start_time": "2023-06-09T17:55:10.674462Z"
    }
   },
   "outputs": [],
   "source": [
    "plot_data1 = pilot.loc[:, (\"Trait_Common\", \"Trait_Rare\", \"OE\", \"p_Size\")].merge(compare_dedup.loc[:, (\"Pheno1\", \"Pheno2\", \"rg\", \"Pair\")], \n",
    "                                    right_on=[\"Pheno1\", \"Pheno2\"], \n",
    "                                    left_on=[\"Trait_Common\", \"Trait_Rare\"], how=\"inner\")\n",
    "plot_data2 = pilot.loc[:, (\"Trait_Common\", \"Trait_Rare\", \"OE\", \"p_Size\")].merge(compare_dedup.loc[:, (\"Pheno1\", \"Pheno2\", \"rg\", \"Pair\")], \n",
    "                                    right_on=[\"Pheno2\", \"Pheno1\"], \n",
    "                                    left_on=[\"Trait_Common\", \"Trait_Rare\"], how=\"inner\")"
   ]
  },
  {
   "cell_type": "code",
   "execution_count": 85,
   "metadata": {
    "ExecuteTime": {
     "end_time": "2023-06-09T17:55:14.859695Z",
     "start_time": "2023-06-09T17:55:14.855252Z"
    }
   },
   "outputs": [],
   "source": [
    "plot_data = pd.concat([plot_data1, plot_data2]).sort_values(by=[\"Pheno1\", \"Pheno2\"])\n",
    "plot_data[\"log10\"] = -1 * np.log10(plot_data.p_Size)"
   ]
  },
  {
   "cell_type": "code",
   "execution_count": 86,
   "metadata": {
    "ExecuteTime": {
     "end_time": "2023-06-09T17:55:23.830279Z",
     "start_time": "2023-06-09T17:55:23.821826Z"
    }
   },
   "outputs": [
    {
     "data": {
      "text/html": [
       "<div>\n",
       "<style scoped>\n",
       "    .dataframe tbody tr th:only-of-type {\n",
       "        vertical-align: middle;\n",
       "    }\n",
       "\n",
       "    .dataframe tbody tr th {\n",
       "        vertical-align: top;\n",
       "    }\n",
       "\n",
       "    .dataframe thead th {\n",
       "        text-align: right;\n",
       "    }\n",
       "</style>\n",
       "<table border=\"1\" class=\"dataframe\">\n",
       "  <thead>\n",
       "    <tr style=\"text-align: right;\">\n",
       "      <th></th>\n",
       "      <th>Trait_Common</th>\n",
       "      <th>Trait_Rare</th>\n",
       "      <th>OE</th>\n",
       "      <th>p_Size</th>\n",
       "      <th>Pheno1</th>\n",
       "      <th>Pheno2</th>\n",
       "      <th>rg</th>\n",
       "      <th>Pair</th>\n",
       "      <th>log10</th>\n",
       "    </tr>\n",
       "  </thead>\n",
       "  <tbody>\n",
       "    <tr>\n",
       "      <th>4</th>\n",
       "      <td>Forced Vital Capacity</td>\n",
       "      <td>Mean corpuscular haemoglobin</td>\n",
       "      <td>0.868450</td>\n",
       "      <td>9.953000e-01</td>\n",
       "      <td>Forced Vital Capacity</td>\n",
       "      <td>Mean corpuscular haemoglobin</td>\n",
       "      <td>0.04212</td>\n",
       "      <td>Forced Vital Capacity-Mean corpuscular haemogl...</td>\n",
       "      <td>0.002046</td>\n",
       "    </tr>\n",
       "    <tr>\n",
       "      <th>5</th>\n",
       "      <td>Mean corpuscular haemoglobin</td>\n",
       "      <td>Forced Vital Capacity</td>\n",
       "      <td>1.472136</td>\n",
       "      <td>4.351000e-19</td>\n",
       "      <td>Forced Vital Capacity</td>\n",
       "      <td>Mean corpuscular haemoglobin</td>\n",
       "      <td>0.04212</td>\n",
       "      <td>Forced Vital Capacity-Mean corpuscular haemogl...</td>\n",
       "      <td>18.361411</td>\n",
       "    </tr>\n",
       "    <tr>\n",
       "      <th>8</th>\n",
       "      <td>Forced Vital Capacity</td>\n",
       "      <td>Neutrophil count</td>\n",
       "      <td>0.905206</td>\n",
       "      <td>9.663000e-01</td>\n",
       "      <td>Forced Vital Capacity</td>\n",
       "      <td>Neutrophil count</td>\n",
       "      <td>-0.20560</td>\n",
       "      <td>Forced Vital Capacity-Neutrophil count</td>\n",
       "      <td>0.014888</td>\n",
       "    </tr>\n",
       "    <tr>\n",
       "      <th>6</th>\n",
       "      <td>Neutrophil count</td>\n",
       "      <td>Forced Vital Capacity</td>\n",
       "      <td>1.231301</td>\n",
       "      <td>2.823000e-06</td>\n",
       "      <td>Forced Vital Capacity</td>\n",
       "      <td>Neutrophil count</td>\n",
       "      <td>-0.20560</td>\n",
       "      <td>Forced Vital Capacity-Neutrophil count</td>\n",
       "      <td>5.549289</td>\n",
       "    </tr>\n",
       "    <tr>\n",
       "      <th>12</th>\n",
       "      <td>Forced Vital Capacity</td>\n",
       "      <td>Reticulocyte count</td>\n",
       "      <td>0.765196</td>\n",
       "      <td>1.000000e+00</td>\n",
       "      <td>Forced Vital Capacity</td>\n",
       "      <td>Reticulocyte count</td>\n",
       "      <td>-0.21750</td>\n",
       "      <td>Forced Vital Capacity-Reticulocyte count</td>\n",
       "      <td>-0.000000</td>\n",
       "    </tr>\n",
       "  </tbody>\n",
       "</table>\n",
       "</div>"
      ],
      "text/plain": [
       "                    Trait_Common                    Trait_Rare        OE  \\\n",
       "4          Forced Vital Capacity  Mean corpuscular haemoglobin  0.868450   \n",
       "5   Mean corpuscular haemoglobin         Forced Vital Capacity  1.472136   \n",
       "8          Forced Vital Capacity              Neutrophil count  0.905206   \n",
       "6               Neutrophil count         Forced Vital Capacity  1.231301   \n",
       "12         Forced Vital Capacity            Reticulocyte count  0.765196   \n",
       "\n",
       "          p_Size                 Pheno1                        Pheno2  \\\n",
       "4   9.953000e-01  Forced Vital Capacity  Mean corpuscular haemoglobin   \n",
       "5   4.351000e-19  Forced Vital Capacity  Mean corpuscular haemoglobin   \n",
       "8   9.663000e-01  Forced Vital Capacity              Neutrophil count   \n",
       "6   2.823000e-06  Forced Vital Capacity              Neutrophil count   \n",
       "12  1.000000e+00  Forced Vital Capacity            Reticulocyte count   \n",
       "\n",
       "         rg                                               Pair      log10  \n",
       "4   0.04212  Forced Vital Capacity-Mean corpuscular haemogl...   0.002046  \n",
       "5   0.04212  Forced Vital Capacity-Mean corpuscular haemogl...  18.361411  \n",
       "8  -0.20560             Forced Vital Capacity-Neutrophil count   0.014888  \n",
       "6  -0.20560             Forced Vital Capacity-Neutrophil count   5.549289  \n",
       "12 -0.21750           Forced Vital Capacity-Reticulocyte count  -0.000000  "
      ]
     },
     "execution_count": 86,
     "metadata": {},
     "output_type": "execute_result"
    }
   ],
   "source": [
    "plot_data[\"\"]"
   ]
  },
  {
   "cell_type": "code",
   "execution_count": 97,
   "metadata": {
    "ExecuteTime": {
     "end_time": "2023-06-09T17:58:06.199699Z",
     "start_time": "2023-06-09T17:58:06.196356Z"
    }
   },
   "outputs": [],
   "source": [
    "def plot_lines_between_pairs(data, x_col, y_col, pair_column, ax):\n",
    "    pairs = data[pair_column].unique()\n",
    "    for pair in pairs:\n",
    "        x_values = data[data[pair_column]==pair][x_col].values\n",
    "        y_values = data[data[pair_column]==pair][y_col].values\n",
    "        if len(x_values) > 1:\n",
    "            ax.plot(x_values, y_values, marker=None, linestyle=\"--\", color=\"grey\", zorder=0, lw=1)"
   ]
  },
  {
   "cell_type": "code",
   "execution_count": 166,
   "metadata": {
    "ExecuteTime": {
     "end_time": "2023-06-09T18:51:43.245523Z",
     "start_time": "2023-06-09T18:51:42.777207Z"
    }
   },
   "outputs": [
    {
     "data": {
      "image/png": "[encoded data removed]",
      "text/plain": [
       "<Figure size 216x144 with 1 Axes>"
      ]
     },
     "metadata": {
      "needs_background": "light"
     },
     "output_type": "display_data"
    }
   ],
   "source": [
    "plt.rcParams['svg.fonttype'] = 'none'\n",
    "fig, ax = plt.subplots(nrows=1, ncols=1, figsize=(3,2))\n",
    "sns.scatterplot(data=plot_data, x=\"rg\", y=\"log10\", zorder=10, legend=None)\n",
    "ax = plt.gca()\n",
    "plot_lines_between_pairs(plot_data, 'rg', 'log10', 'Pair', ax)\n",
    "ax.set_xlabel(\"Correlation\", fontsize=12)\n",
    "ax.set_ylabel(\"Colocalization\\n-log10(p)\", fontsize=12)\n",
    "plt.savefig(\"/cellar/users/snwright/Data/Transfer/RVC/figures/correlation_v_colocalization.svg\", bbox_inches='tight', dpi=400)"
   ]
  },
  {
   "cell_type": "code",
   "execution_count": 127,
   "metadata": {
    "ExecuteTime": {
     "end_time": "2023-06-09T18:22:33.746393Z",
     "start_time": "2023-06-09T18:22:33.733581Z"
    }
   },
   "outputs": [
    {
     "data": {
      "text/html": [
       "<div>\n",
       "<style scoped>\n",
       "    .dataframe tbody tr th:only-of-type {\n",
       "        vertical-align: middle;\n",
       "    }\n",
       "\n",
       "    .dataframe tbody tr th {\n",
       "        vertical-align: top;\n",
       "    }\n",
       "\n",
       "    .dataframe thead th {\n",
       "        text-align: right;\n",
       "    }\n",
       "</style>\n",
       "<table border=\"1\" class=\"dataframe\">\n",
       "  <thead>\n",
       "    <tr style=\"text-align: right;\">\n",
       "      <th></th>\n",
       "      <th>Trait_Common</th>\n",
       "      <th>Trait_Rare</th>\n",
       "      <th>OE</th>\n",
       "      <th>p_Size</th>\n",
       "      <th>Pheno1</th>\n",
       "      <th>Pheno2</th>\n",
       "      <th>rg</th>\n",
       "      <th>Pair</th>\n",
       "      <th>log10</th>\n",
       "    </tr>\n",
       "  </thead>\n",
       "  <tbody>\n",
       "    <tr>\n",
       "      <th>9</th>\n",
       "      <td>Weight</td>\n",
       "      <td>Neutrophil count</td>\n",
       "      <td>0.729145</td>\n",
       "      <td>1.000000e+00</td>\n",
       "      <td>Weight</td>\n",
       "      <td>Neutrophil count</td>\n",
       "      <td>0.094250</td>\n",
       "      <td>Neutrophil count-Weight</td>\n",
       "      <td>-0.000000</td>\n",
       "    </tr>\n",
       "    <tr>\n",
       "      <th>12</th>\n",
       "      <td>Forced Vital Capacity</td>\n",
       "      <td>Reticulocyte count</td>\n",
       "      <td>0.765196</td>\n",
       "      <td>1.000000e+00</td>\n",
       "      <td>Forced Vital Capacity</td>\n",
       "      <td>Reticulocyte count</td>\n",
       "      <td>-0.217500</td>\n",
       "      <td>Forced Vital Capacity-Reticulocyte count</td>\n",
       "      <td>-0.000000</td>\n",
       "    </tr>\n",
       "    <tr>\n",
       "      <th>11</th>\n",
       "      <td>Sitting Height</td>\n",
       "      <td>Reticulocyte count</td>\n",
       "      <td>0.714226</td>\n",
       "      <td>1.000000e+00</td>\n",
       "      <td>Sitting Height</td>\n",
       "      <td>Reticulocyte count</td>\n",
       "      <td>-0.081520</td>\n",
       "      <td>Reticulocyte count-Sitting Height</td>\n",
       "      <td>-0.000000</td>\n",
       "    </tr>\n",
       "    <tr>\n",
       "      <th>7</th>\n",
       "      <td>Sitting Height</td>\n",
       "      <td>Neutrophil count</td>\n",
       "      <td>0.727662</td>\n",
       "      <td>1.000000e+00</td>\n",
       "      <td>Sitting Height</td>\n",
       "      <td>Neutrophil count</td>\n",
       "      <td>-0.113400</td>\n",
       "      <td>Neutrophil count-Sitting Height</td>\n",
       "      <td>-0.000000</td>\n",
       "    </tr>\n",
       "    <tr>\n",
       "      <th>13</th>\n",
       "      <td>Weight</td>\n",
       "      <td>Reticulocyte count</td>\n",
       "      <td>0.756334</td>\n",
       "      <td>1.000000e+00</td>\n",
       "      <td>Weight</td>\n",
       "      <td>Reticulocyte count</td>\n",
       "      <td>0.274500</td>\n",
       "      <td>Reticulocyte count-Weight</td>\n",
       "      <td>-0.000000</td>\n",
       "    </tr>\n",
       "    <tr>\n",
       "      <th>3</th>\n",
       "      <td>Sitting Height</td>\n",
       "      <td>Mean corpuscular haemoglobin</td>\n",
       "      <td>0.838083</td>\n",
       "      <td>9.996000e-01</td>\n",
       "      <td>Sitting Height</td>\n",
       "      <td>Mean corpuscular haemoglobin</td>\n",
       "      <td>-0.007373</td>\n",
       "      <td>Mean corpuscular haemoglobin-Sitting Height</td>\n",
       "      <td>0.000174</td>\n",
       "    </tr>\n",
       "    <tr>\n",
       "      <th>5</th>\n",
       "      <td>Weight</td>\n",
       "      <td>Mean corpuscular haemoglobin</td>\n",
       "      <td>0.846933</td>\n",
       "      <td>9.992000e-01</td>\n",
       "      <td>Weight</td>\n",
       "      <td>Mean corpuscular haemoglobin</td>\n",
       "      <td>-0.092280</td>\n",
       "      <td>Mean corpuscular haemoglobin-Weight</td>\n",
       "      <td>0.000348</td>\n",
       "    </tr>\n",
       "    <tr>\n",
       "      <th>4</th>\n",
       "      <td>Forced Vital Capacity</td>\n",
       "      <td>Mean corpuscular haemoglobin</td>\n",
       "      <td>0.868450</td>\n",
       "      <td>9.953000e-01</td>\n",
       "      <td>Forced Vital Capacity</td>\n",
       "      <td>Mean corpuscular haemoglobin</td>\n",
       "      <td>0.042120</td>\n",
       "      <td>Forced Vital Capacity-Mean corpuscular haemogl...</td>\n",
       "      <td>0.002046</td>\n",
       "    </tr>\n",
       "    <tr>\n",
       "      <th>8</th>\n",
       "      <td>Forced Vital Capacity</td>\n",
       "      <td>Neutrophil count</td>\n",
       "      <td>0.905206</td>\n",
       "      <td>9.663000e-01</td>\n",
       "      <td>Forced Vital Capacity</td>\n",
       "      <td>Neutrophil count</td>\n",
       "      <td>-0.205600</td>\n",
       "      <td>Forced Vital Capacity-Neutrophil count</td>\n",
       "      <td>0.014888</td>\n",
       "    </tr>\n",
       "    <tr>\n",
       "      <th>12</th>\n",
       "      <td>Neutrophil count</td>\n",
       "      <td>Mean corpuscular haemoglobin</td>\n",
       "      <td>0.950095</td>\n",
       "      <td>8.483000e-01</td>\n",
       "      <td>Mean corpuscular haemoglobin</td>\n",
       "      <td>Neutrophil count</td>\n",
       "      <td>-0.093310</td>\n",
       "      <td>Mean corpuscular haemoglobin-Neutrophil count</td>\n",
       "      <td>0.071451</td>\n",
       "    </tr>\n",
       "    <tr>\n",
       "      <th>7</th>\n",
       "      <td>Reticulocyte count</td>\n",
       "      <td>Forced Vital Capacity</td>\n",
       "      <td>1.015282</td>\n",
       "      <td>3.945000e-01</td>\n",
       "      <td>Forced Vital Capacity</td>\n",
       "      <td>Reticulocyte count</td>\n",
       "      <td>-0.217500</td>\n",
       "      <td>Forced Vital Capacity-Reticulocyte count</td>\n",
       "      <td>0.403953</td>\n",
       "    </tr>\n",
       "    <tr>\n",
       "      <th>1</th>\n",
       "      <td>Sitting Height</td>\n",
       "      <td>Weight</td>\n",
       "      <td>1.025122</td>\n",
       "      <td>3.015000e-01</td>\n",
       "      <td>Sitting Height</td>\n",
       "      <td>Weight</td>\n",
       "      <td>0.445300</td>\n",
       "      <td>Sitting Height-Weight</td>\n",
       "      <td>0.520713</td>\n",
       "    </tr>\n",
       "    <tr>\n",
       "      <th>2</th>\n",
       "      <td>Forced Vital Capacity</td>\n",
       "      <td>Weight</td>\n",
       "      <td>1.042317</td>\n",
       "      <td>2.091000e-01</td>\n",
       "      <td>Forced Vital Capacity</td>\n",
       "      <td>Weight</td>\n",
       "      <td>0.115700</td>\n",
       "      <td>Forced Vital Capacity-Weight</td>\n",
       "      <td>0.679646</td>\n",
       "    </tr>\n",
       "    <tr>\n",
       "      <th>4</th>\n",
       "      <td>Weight</td>\n",
       "      <td>Sitting Height</td>\n",
       "      <td>1.052340</td>\n",
       "      <td>1.543000e-01</td>\n",
       "      <td>Sitting Height</td>\n",
       "      <td>Weight</td>\n",
       "      <td>0.445300</td>\n",
       "      <td>Sitting Height-Weight</td>\n",
       "      <td>0.811634</td>\n",
       "    </tr>\n",
       "    <tr>\n",
       "      <th>2</th>\n",
       "      <td>Reticulocyte count</td>\n",
       "      <td>Sitting Height</td>\n",
       "      <td>1.099538</td>\n",
       "      <td>4.781000e-02</td>\n",
       "      <td>Sitting Height</td>\n",
       "      <td>Reticulocyte count</td>\n",
       "      <td>-0.081520</td>\n",
       "      <td>Reticulocyte count-Sitting Height</td>\n",
       "      <td>1.320481</td>\n",
       "    </tr>\n",
       "    <tr>\n",
       "      <th>10</th>\n",
       "      <td>Neutrophil count</td>\n",
       "      <td>Weight</td>\n",
       "      <td>1.109103</td>\n",
       "      <td>1.766000e-02</td>\n",
       "      <td>Weight</td>\n",
       "      <td>Neutrophil count</td>\n",
       "      <td>0.094250</td>\n",
       "      <td>Neutrophil count-Weight</td>\n",
       "      <td>1.753009</td>\n",
       "    </tr>\n",
       "    <tr>\n",
       "      <th>3</th>\n",
       "      <td>Forced Vital Capacity</td>\n",
       "      <td>Sitting Height</td>\n",
       "      <td>1.129432</td>\n",
       "      <td>7.273000e-03</td>\n",
       "      <td>Sitting Height</td>\n",
       "      <td>Forced Vital Capacity</td>\n",
       "      <td>0.592200</td>\n",
       "      <td>Forced Vital Capacity-Sitting Height</td>\n",
       "      <td>2.138286</td>\n",
       "    </tr>\n",
       "    <tr>\n",
       "      <th>11</th>\n",
       "      <td>Reticulocyte count</td>\n",
       "      <td>Weight</td>\n",
       "      <td>1.143142</td>\n",
       "      <td>3.828000e-03</td>\n",
       "      <td>Weight</td>\n",
       "      <td>Reticulocyte count</td>\n",
       "      <td>0.274500</td>\n",
       "      <td>Reticulocyte count-Weight</td>\n",
       "      <td>2.417028</td>\n",
       "    </tr>\n",
       "    <tr>\n",
       "      <th>10</th>\n",
       "      <td>Neutrophil count</td>\n",
       "      <td>Reticulocyte count</td>\n",
       "      <td>1.165647</td>\n",
       "      <td>2.881000e-04</td>\n",
       "      <td>Neutrophil count</td>\n",
       "      <td>Reticulocyte count</td>\n",
       "      <td>0.212800</td>\n",
       "      <td>Neutrophil count-Reticulocyte count</td>\n",
       "      <td>3.540457</td>\n",
       "    </tr>\n",
       "    <tr>\n",
       "      <th>14</th>\n",
       "      <td>Reticulocyte count</td>\n",
       "      <td>Neutrophil count</td>\n",
       "      <td>1.190557</td>\n",
       "      <td>2.363000e-04</td>\n",
       "      <td>Neutrophil count</td>\n",
       "      <td>Reticulocyte count</td>\n",
       "      <td>0.212800</td>\n",
       "      <td>Neutrophil count-Reticulocyte count</td>\n",
       "      <td>3.626536</td>\n",
       "    </tr>\n",
       "    <tr>\n",
       "      <th>8</th>\n",
       "      <td>Weight</td>\n",
       "      <td>Forced Vital Capacity</td>\n",
       "      <td>1.200912</td>\n",
       "      <td>3.590000e-05</td>\n",
       "      <td>Forced Vital Capacity</td>\n",
       "      <td>Weight</td>\n",
       "      <td>0.115700</td>\n",
       "      <td>Forced Vital Capacity-Weight</td>\n",
       "      <td>4.444906</td>\n",
       "    </tr>\n",
       "    <tr>\n",
       "      <th>1</th>\n",
       "      <td>Neutrophil count</td>\n",
       "      <td>Sitting Height</td>\n",
       "      <td>1.224629</td>\n",
       "      <td>5.713000e-06</td>\n",
       "      <td>Sitting Height</td>\n",
       "      <td>Neutrophil count</td>\n",
       "      <td>-0.113400</td>\n",
       "      <td>Neutrophil count-Sitting Height</td>\n",
       "      <td>5.243136</td>\n",
       "    </tr>\n",
       "    <tr>\n",
       "      <th>6</th>\n",
       "      <td>Neutrophil count</td>\n",
       "      <td>Forced Vital Capacity</td>\n",
       "      <td>1.231301</td>\n",
       "      <td>2.823000e-06</td>\n",
       "      <td>Forced Vital Capacity</td>\n",
       "      <td>Neutrophil count</td>\n",
       "      <td>-0.205600</td>\n",
       "      <td>Forced Vital Capacity-Neutrophil count</td>\n",
       "      <td>5.549289</td>\n",
       "    </tr>\n",
       "    <tr>\n",
       "      <th>0</th>\n",
       "      <td>Sitting Height</td>\n",
       "      <td>Forced Vital Capacity</td>\n",
       "      <td>1.337085</td>\n",
       "      <td>1.073000e-12</td>\n",
       "      <td>Sitting Height</td>\n",
       "      <td>Forced Vital Capacity</td>\n",
       "      <td>0.592200</td>\n",
       "      <td>Forced Vital Capacity-Sitting Height</td>\n",
       "      <td>11.969400</td>\n",
       "    </tr>\n",
       "    <tr>\n",
       "      <th>0</th>\n",
       "      <td>Mean corpuscular haemoglobin</td>\n",
       "      <td>Sitting Height</td>\n",
       "      <td>1.409127</td>\n",
       "      <td>2.834000e-13</td>\n",
       "      <td>Sitting Height</td>\n",
       "      <td>Mean corpuscular haemoglobin</td>\n",
       "      <td>-0.007373</td>\n",
       "      <td>Mean corpuscular haemoglobin-Sitting Height</td>\n",
       "      <td>12.547600</td>\n",
       "    </tr>\n",
       "    <tr>\n",
       "      <th>6</th>\n",
       "      <td>Mean corpuscular haemoglobin</td>\n",
       "      <td>Neutrophil count</td>\n",
       "      <td>1.386068</td>\n",
       "      <td>1.786000e-14</td>\n",
       "      <td>Mean corpuscular haemoglobin</td>\n",
       "      <td>Neutrophil count</td>\n",
       "      <td>-0.093310</td>\n",
       "      <td>Mean corpuscular haemoglobin-Neutrophil count</td>\n",
       "      <td>13.748119</td>\n",
       "    </tr>\n",
       "    <tr>\n",
       "      <th>13</th>\n",
       "      <td>Reticulocyte count</td>\n",
       "      <td>Mean corpuscular haemoglobin</td>\n",
       "      <td>1.425824</td>\n",
       "      <td>1.523000e-15</td>\n",
       "      <td>Mean corpuscular haemoglobin</td>\n",
       "      <td>Reticulocyte count</td>\n",
       "      <td>-0.025820</td>\n",
       "      <td>Mean corpuscular haemoglobin-Reticulocyte count</td>\n",
       "      <td>14.817300</td>\n",
       "    </tr>\n",
       "    <tr>\n",
       "      <th>5</th>\n",
       "      <td>Mean corpuscular haemoglobin</td>\n",
       "      <td>Forced Vital Capacity</td>\n",
       "      <td>1.472136</td>\n",
       "      <td>4.351000e-19</td>\n",
       "      <td>Forced Vital Capacity</td>\n",
       "      <td>Mean corpuscular haemoglobin</td>\n",
       "      <td>0.042120</td>\n",
       "      <td>Forced Vital Capacity-Mean corpuscular haemogl...</td>\n",
       "      <td>18.361411</td>\n",
       "    </tr>\n",
       "    <tr>\n",
       "      <th>9</th>\n",
       "      <td>Mean corpuscular haemoglobin</td>\n",
       "      <td>Weight</td>\n",
       "      <td>1.689661</td>\n",
       "      <td>3.402000e-38</td>\n",
       "      <td>Weight</td>\n",
       "      <td>Mean corpuscular haemoglobin</td>\n",
       "      <td>-0.092280</td>\n",
       "      <td>Mean corpuscular haemoglobin-Weight</td>\n",
       "      <td>37.468266</td>\n",
       "    </tr>\n",
       "  </tbody>\n",
       "</table>\n",
       "</div>"
      ],
      "text/plain": [
       "                    Trait_Common                    Trait_Rare        OE  \\\n",
       "9                         Weight              Neutrophil count  0.729145   \n",
       "12         Forced Vital Capacity            Reticulocyte count  0.765196   \n",
       "11                Sitting Height            Reticulocyte count  0.714226   \n",
       "7                 Sitting Height              Neutrophil count  0.727662   \n",
       "13                        Weight            Reticulocyte count  0.756334   \n",
       "3                 Sitting Height  Mean corpuscular haemoglobin  0.838083   \n",
       "5                         Weight  Mean corpuscular haemoglobin  0.846933   \n",
       "4          Forced Vital Capacity  Mean corpuscular haemoglobin  0.868450   \n",
       "8          Forced Vital Capacity              Neutrophil count  0.905206   \n",
       "12              Neutrophil count  Mean corpuscular haemoglobin  0.950095   \n",
       "7             Reticulocyte count         Forced Vital Capacity  1.015282   \n",
       "1                 Sitting Height                        Weight  1.025122   \n",
       "2          Forced Vital Capacity                        Weight  1.042317   \n",
       "4                         Weight                Sitting Height  1.052340   \n",
       "2             Reticulocyte count                Sitting Height  1.099538   \n",
       "10              Neutrophil count                        Weight  1.109103   \n",
       "3          Forced Vital Capacity                Sitting Height  1.129432   \n",
       "11            Reticulocyte count                        Weight  1.143142   \n",
       "10              Neutrophil count            Reticulocyte count  1.165647   \n",
       "14            Reticulocyte count              Neutrophil count  1.190557   \n",
       "8                         Weight         Forced Vital Capacity  1.200912   \n",
       "1               Neutrophil count                Sitting Height  1.224629   \n",
       "6               Neutrophil count         Forced Vital Capacity  1.231301   \n",
       "0                 Sitting Height         Forced Vital Capacity  1.337085   \n",
       "0   Mean corpuscular haemoglobin                Sitting Height  1.409127   \n",
       "6   Mean corpuscular haemoglobin              Neutrophil count  1.386068   \n",
       "13            Reticulocyte count  Mean corpuscular haemoglobin  1.425824   \n",
       "5   Mean corpuscular haemoglobin         Forced Vital Capacity  1.472136   \n",
       "9   Mean corpuscular haemoglobin                        Weight  1.689661   \n",
       "\n",
       "          p_Size                        Pheno1                        Pheno2  \\\n",
       "9   1.000000e+00                        Weight              Neutrophil count   \n",
       "12  1.000000e+00         Forced Vital Capacity            Reticulocyte count   \n",
       "11  1.000000e+00                Sitting Height            Reticulocyte count   \n",
       "7   1.000000e+00                Sitting Height              Neutrophil count   \n",
       "13  1.000000e+00                        Weight            Reticulocyte count   \n",
       "3   9.996000e-01                Sitting Height  Mean corpuscular haemoglobin   \n",
       "5   9.992000e-01                        Weight  Mean corpuscular haemoglobin   \n",
       "4   9.953000e-01         Forced Vital Capacity  Mean corpuscular haemoglobin   \n",
       "8   9.663000e-01         Forced Vital Capacity              Neutrophil count   \n",
       "12  8.483000e-01  Mean corpuscular haemoglobin              Neutrophil count   \n",
       "7   3.945000e-01         Forced Vital Capacity            Reticulocyte count   \n",
       "1   3.015000e-01                Sitting Height                        Weight   \n",
       "2   2.091000e-01         Forced Vital Capacity                        Weight   \n",
       "4   1.543000e-01                Sitting Height                        Weight   \n",
       "2   4.781000e-02                Sitting Height            Reticulocyte count   \n",
       "10  1.766000e-02                        Weight              Neutrophil count   \n",
       "3   7.273000e-03                Sitting Height         Forced Vital Capacity   \n",
       "11  3.828000e-03                        Weight            Reticulocyte count   \n",
       "10  2.881000e-04              Neutrophil count            Reticulocyte count   \n",
       "14  2.363000e-04              Neutrophil count            Reticulocyte count   \n",
       "8   3.590000e-05         Forced Vital Capacity                        Weight   \n",
       "1   5.713000e-06                Sitting Height              Neutrophil count   \n",
       "6   2.823000e-06         Forced Vital Capacity              Neutrophil count   \n",
       "0   1.073000e-12                Sitting Height         Forced Vital Capacity   \n",
       "0   2.834000e-13                Sitting Height  Mean corpuscular haemoglobin   \n",
       "6   1.786000e-14  Mean corpuscular haemoglobin              Neutrophil count   \n",
       "13  1.523000e-15  Mean corpuscular haemoglobin            Reticulocyte count   \n",
       "5   4.351000e-19         Forced Vital Capacity  Mean corpuscular haemoglobin   \n",
       "9   3.402000e-38                        Weight  Mean corpuscular haemoglobin   \n",
       "\n",
       "          rg                                               Pair      log10  \n",
       "9   0.094250                            Neutrophil count-Weight  -0.000000  \n",
       "12 -0.217500           Forced Vital Capacity-Reticulocyte count  -0.000000  \n",
       "11 -0.081520                  Reticulocyte count-Sitting Height  -0.000000  \n",
       "7  -0.113400                    Neutrophil count-Sitting Height  -0.000000  \n",
       "13  0.274500                          Reticulocyte count-Weight  -0.000000  \n",
       "3  -0.007373        Mean corpuscular haemoglobin-Sitting Height   0.000174  \n",
       "5  -0.092280                Mean corpuscular haemoglobin-Weight   0.000348  \n",
       "4   0.042120  Forced Vital Capacity-Mean corpuscular haemogl...   0.002046  \n",
       "8  -0.205600             Forced Vital Capacity-Neutrophil count   0.014888  \n",
       "12 -0.093310      Mean corpuscular haemoglobin-Neutrophil count   0.071451  \n",
       "7  -0.217500           Forced Vital Capacity-Reticulocyte count   0.403953  \n",
       "1   0.445300                              Sitting Height-Weight   0.520713  \n",
       "2   0.115700                       Forced Vital Capacity-Weight   0.679646  \n",
       "4   0.445300                              Sitting Height-Weight   0.811634  \n",
       "2  -0.081520                  Reticulocyte count-Sitting Height   1.320481  \n",
       "10  0.094250                            Neutrophil count-Weight   1.753009  \n",
       "3   0.592200               Forced Vital Capacity-Sitting Height   2.138286  \n",
       "11  0.274500                          Reticulocyte count-Weight   2.417028  \n",
       "10  0.212800                Neutrophil count-Reticulocyte count   3.540457  \n",
       "14  0.212800                Neutrophil count-Reticulocyte count   3.626536  \n",
       "8   0.115700                       Forced Vital Capacity-Weight   4.444906  \n",
       "1  -0.113400                    Neutrophil count-Sitting Height   5.243136  \n",
       "6  -0.205600             Forced Vital Capacity-Neutrophil count   5.549289  \n",
       "0   0.592200               Forced Vital Capacity-Sitting Height  11.969400  \n",
       "0  -0.007373        Mean corpuscular haemoglobin-Sitting Height  12.547600  \n",
       "6  -0.093310      Mean corpuscular haemoglobin-Neutrophil count  13.748119  \n",
       "13 -0.025820    Mean corpuscular haemoglobin-Reticulocyte count  14.817300  \n",
       "5   0.042120  Forced Vital Capacity-Mean corpuscular haemogl...  18.361411  \n",
       "9  -0.092280                Mean corpuscular haemoglobin-Weight  37.468266  "
      ]
     },
     "execution_count": 127,
     "metadata": {},
     "output_type": "execute_result"
    }
   ],
   "source": [
    "plot_data.sort_values(by=\"log10\")"
   ]
  }
 ],
 "metadata": {
  "kernelspec": {
   "display_name": "Python [conda env:netcoloc]",
   "language": "python",
   "name": "conda-env-netcoloc-py"
  },
  "language_info": {
   "codemirror_mode": {
    "name": "ipython",
    "version": 3
   },
   "file_extension": ".py",
   "mimetype": "text/x-python",
   "name": "python",
   "nbconvert_exporter": "python",
   "pygments_lexer": "ipython3",
   "version": "3.9.7"
  },
  "toc": {
   "base_numbering": 1,
   "nav_menu": {},
   "number_sections": true,
   "sideBar": true,
   "skip_h1_title": false,
   "title_cell": "Table of Contents",
   "title_sidebar": "Contents",
   "toc_cell": false,
   "toc_position": {},
   "toc_section_display": true,
   "toc_window_display": false
  },
  "varInspector": {
   "cols": {
    "lenName": 16,
    "lenType": 16,
    "lenVar": 40
   },
   "kernels_config": {
    "python": {
     "delete_cmd_postfix": "",
     "delete_cmd_prefix": "del ",
     "library": "var_list.py",
     "varRefreshCmd": "print(var_dic_list())"
    },
    "r": {
     "delete_cmd_postfix": ") ",
     "delete_cmd_prefix": "rm(",
     "library": "var_list.r",
     "varRefreshCmd": "cat(var_dic_list()) "
    }
   },
   "types_to_exclude": [
    "module",
    "function",
    "builtin_function_or_method",
    "instance",
    "_Feature"
   ],
   "window_display": false
  }
 },
 "nbformat": 4,
 "nbformat_minor": 2
}
