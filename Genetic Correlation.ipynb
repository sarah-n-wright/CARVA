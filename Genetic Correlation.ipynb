{
 "cells": [
  {
   "cell_type": "code",
   "execution_count": 49,
   "metadata": {
    "ExecuteTime": {
     "end_time": "2023-05-25T21:22:53.976538Z",
     "start_time": "2023-05-25T21:22:53.974638Z"
    }
   },
   "outputs": [],
   "source": [
    "import pandas as pd\n",
    "import seaborn as sns\n",
    "import matplotlib.pyplot as plt"
   ]
  },
  {
   "cell_type": "code",
   "execution_count": 3,
   "metadata": {
    "ExecuteTime": {
     "end_time": "2023-05-25T20:46:40.663488Z",
     "start_time": "2023-05-25T20:46:40.661740Z"
    }
   },
   "outputs": [],
   "source": [
    "DATADIR=\"/cellar/users/snwright/Data/RareCommon/\""
   ]
  },
  {
   "cell_type": "code",
   "execution_count": 4,
   "metadata": {
    "ExecuteTime": {
     "end_time": "2023-05-25T20:46:42.909015Z",
     "start_time": "2023-05-25T20:46:41.476717Z"
    }
   },
   "outputs": [],
   "source": [
    "data = pd.read_csv(DATADIR + '/Reference/ukbb_corr_neale-2023-05-10.csv')"
   ]
  },
  {
   "cell_type": "code",
   "execution_count": 8,
   "metadata": {
    "ExecuteTime": {
     "end_time": "2023-05-25T20:47:40.699762Z",
     "start_time": "2023-05-25T20:47:40.659966Z"
    }
   },
   "outputs": [],
   "source": [
    "phenotypes = set(data.ID1.unique()).union(set(data.ID2.unique()))"
   ]
  },
  {
   "cell_type": "code",
   "execution_count": 27,
   "metadata": {
    "ExecuteTime": {
     "end_time": "2023-05-25T20:54:04.232821Z",
     "start_time": "2023-05-25T20:54:04.228271Z"
    },
    "scrolled": true
   },
   "outputs": [
    {
     "name": "stdout",
     "output_type": "stream",
     "text": [
      "C3_OTHER_SKIN\n",
      "C3_BREAST_3\n",
      "C3_PROSTATE\n",
      "C3_MALE_GENITAL\n",
      "C3_SKIN\n",
      "C3_DIGESTIVE_ORGANS\n",
      "XVIII_MISCFINDINGS\n",
      "23110\n",
      "30050\n",
      "30140\n",
      "30250\n"
     ]
    }
   ],
   "source": [
    "test = ['C92', '2453', '30680', 'C92', 'C3', 'D46', 'D47', 'XVII', '30630', '30640', '30840', '30880', '23110', '30050',\n",
    "       '30140', '30250', 'E80']\n",
    "for term in test:\n",
    "    for pheno in phenotypes:\n",
    "        if term in pheno:\n",
    "            print(pheno)"
   ]
  },
  {
   "cell_type": "code",
   "execution_count": 28,
   "metadata": {
    "ExecuteTime": {
     "end_time": "2023-05-25T20:54:29.888766Z",
     "start_time": "2023-05-25T20:54:29.887003Z"
    }
   },
   "outputs": [],
   "source": [
    "present = ['20015','20151', '23098', '3063', '5133', '23110', '30050', '30140', '30250']"
   ]
  },
  {
   "cell_type": "code",
   "execution_count": 31,
   "metadata": {
    "ExecuteTime": {
     "end_time": "2023-05-25T20:58:18.294771Z",
     "start_time": "2023-05-25T20:58:18.292723Z"
    }
   },
   "outputs": [],
   "source": [
    "names = {'20015':'Sitting Height','20151':'Forced Vital Capacity', '23098':'Weight', '3063':'Forced expiratory volume',\n",
    "         '5133':'6mm strong meridian', '23110':'Impedance of arm', '30050':\"Mean corpuscular haemoglobin\",\n",
    "         '30140':\"Neutrophil count\", '30250':'Reticulocyte count'}"
   ]
  },
  {
   "cell_type": "code",
   "execution_count": 29,
   "metadata": {
    "ExecuteTime": {
     "end_time": "2023-05-25T20:55:08.011403Z",
     "start_time": "2023-05-25T20:55:07.940546Z"
    }
   },
   "outputs": [],
   "source": [
    "compare = data[((data.ID2.isin(present)) & (data.ID1.isin(present)))]"
   ]
  },
  {
   "cell_type": "code",
   "execution_count": 55,
   "metadata": {
    "ExecuteTime": {
     "end_time": "2023-05-25T21:24:42.371417Z",
     "start_time": "2023-05-25T21:24:42.360367Z"
    }
   },
   "outputs": [
    {
     "name": "stderr",
     "output_type": "stream",
     "text": [
      "/tmp/ipykernel_1008758/3252378282.py:1: SettingWithCopyWarning: \n",
      "A value is trying to be set on a copy of a slice from a DataFrame.\n",
      "Try using .loc[row_indexer,col_indexer] = value instead\n",
      "\n",
      "See the caveats in the documentation: https://pandas.pydata.org/pandas-docs/stable/user_guide/indexing.html#returning-a-view-versus-a-copy\n",
      "  compare[\"Pheno1\"] = compare['ID1'].apply(lambda x: names[x])\n",
      "/tmp/ipykernel_1008758/3252378282.py:2: SettingWithCopyWarning: \n",
      "A value is trying to be set on a copy of a slice from a DataFrame.\n",
      "Try using .loc[row_indexer,col_indexer] = value instead\n",
      "\n",
      "See the caveats in the documentation: https://pandas.pydata.org/pandas-docs/stable/user_guide/indexing.html#returning-a-view-versus-a-copy\n",
      "  compare[\"Pheno2\"] = compare['ID2'].apply(lambda x: names[x])\n"
     ]
    }
   ],
   "source": [
    "compare[\"Pheno1\"] = compare['ID1'].apply(lambda x: names[x])\n",
    "compare[\"Pheno2\"] = compare['ID2'].apply(lambda x: names[x])"
   ]
  },
  {
   "cell_type": "code",
   "execution_count": 56,
   "metadata": {
    "ExecuteTime": {
     "end_time": "2023-05-25T21:24:51.056273Z",
     "start_time": "2023-05-25T21:24:51.050513Z"
    }
   },
   "outputs": [],
   "source": [
    "compare_table = compare.pivot('Pheno1', 'Pheno2', 'rg')"
   ]
  },
  {
   "cell_type": "code",
   "execution_count": 57,
   "metadata": {
    "ExecuteTime": {
     "end_time": "2023-05-25T21:24:52.909421Z",
     "start_time": "2023-05-25T21:24:52.907134Z"
    }
   },
   "outputs": [],
   "source": [
    "compare_table = compare_table.fillna(1)"
   ]
  },
  {
   "cell_type": "code",
   "execution_count": 76,
   "metadata": {
    "ExecuteTime": {
     "end_time": "2023-05-25T21:45:15.295595Z",
     "start_time": "2023-05-25T21:45:12.697409Z"
    }
   },
   "outputs": [
    {
     "data": {
      "image/png": "[encoded data removed]",
      "text/plain": [
       "<Figure size 360x360 with 4 Axes>"
      ]
     },
     "metadata": {
      "needs_background": "light"
     },
     "output_type": "display_data"
    }
   ],
   "source": [
    "plt.rcParams['svg.fonttype'] = 'none'\n",
    "cg = sns.clustermap(compare_table, cmap = 'RdBu', center=0, figsize=(5,5), cbar_pos=(1,1, 0.1, 0.1))\n",
    "cg.ax_row_dendrogram.set_visible(False)\n",
    "cg.ax_col_dendrogram.set_visible(False)\n",
    "plt.savefig(\"/cellar/users/snwright/Data/Transfer/RVC/genetic_correlations.svg\", dpi=400, bbox_inches='tight')"
   ]
  },
  {
   "cell_type": "code",
   "execution_count": 30,
   "metadata": {
    "ExecuteTime": {
     "end_time": "2023-05-25T20:55:14.077157Z",
     "start_time": "2023-05-25T20:55:14.064269Z"
    }
   },
   "outputs": [
    {
     "data": {
      "text/html": [
       "<div>\n",
       "<style scoped>\n",
       "    .dataframe tbody tr th:only-of-type {\n",
       "        vertical-align: middle;\n",
       "    }\n",
       "\n",
       "    .dataframe tbody tr th {\n",
       "        vertical-align: top;\n",
       "    }\n",
       "\n",
       "    .dataframe thead th {\n",
       "        text-align: right;\n",
       "    }\n",
       "</style>\n",
       "<table border=\"1\" class=\"dataframe\">\n",
       "  <thead>\n",
       "    <tr style=\"text-align: right;\">\n",
       "      <th></th>\n",
       "      <th>ID1</th>\n",
       "      <th>ID2</th>\n",
       "      <th>Phenotype 1</th>\n",
       "      <th>Phenotype 2</th>\n",
       "      <th>h2</th>\n",
       "      <th>h2 SE</th>\n",
       "      <th>h2 intercept</th>\n",
       "      <th>h2 intercept SE</th>\n",
       "      <th>rpheno</th>\n",
       "      <th>rg</th>\n",
       "      <th>rg SE</th>\n",
       "      <th>Z</th>\n",
       "      <th>p</th>\n",
       "      <th>rg intercept</th>\n",
       "      <th>rg intercept SE</th>\n",
       "    </tr>\n",
       "  </thead>\n",
       "  <tbody>\n",
       "    <tr>\n",
       "      <th>92737</th>\n",
       "      <td>20015</td>\n",
       "      <td>20151</td>\n",
       "      <td>&lt;a href='https://ukbb-rg.hail.is/rg_summary_20...</td>\n",
       "      <td>&lt;a href='https://ukbb-rg.hail.is/rg_summary_20...</td>\n",
       "      <td>0.2345</td>\n",
       "      <td>0.010300</td>\n",
       "      <td>1.096</td>\n",
       "      <td>0.02031</td>\n",
       "      <td>0.373581</td>\n",
       "      <td>0.592200</td>\n",
       "      <td>0.01643</td>\n",
       "      <td>36.0400</td>\n",
       "      <td>1.750000e-284</td>\n",
       "      <td>0.409600</td>\n",
       "      <td>0.024510</td>\n",
       "    </tr>\n",
       "    <tr>\n",
       "      <th>92834</th>\n",
       "      <td>20015</td>\n",
       "      <td>23098</td>\n",
       "      <td>&lt;a href='https://ukbb-rg.hail.is/rg_summary_20...</td>\n",
       "      <td>&lt;a href='https://ukbb-rg.hail.is/rg_summary_23...</td>\n",
       "      <td>0.2635</td>\n",
       "      <td>0.009121</td>\n",
       "      <td>1.080</td>\n",
       "      <td>0.02183</td>\n",
       "      <td>0.346019</td>\n",
       "      <td>0.445300</td>\n",
       "      <td>0.01630</td>\n",
       "      <td>27.3300</td>\n",
       "      <td>2.005000e-164</td>\n",
       "      <td>0.406900</td>\n",
       "      <td>0.021620</td>\n",
       "    </tr>\n",
       "    <tr>\n",
       "      <th>92845</th>\n",
       "      <td>20015</td>\n",
       "      <td>23110</td>\n",
       "      <td>&lt;a href='https://ukbb-rg.hail.is/rg_summary_20...</td>\n",
       "      <td>&lt;a href='https://ukbb-rg.hail.is/rg_summary_23...</td>\n",
       "      <td>0.2308</td>\n",
       "      <td>0.008072</td>\n",
       "      <td>1.106</td>\n",
       "      <td>0.02215</td>\n",
       "      <td>-0.092338</td>\n",
       "      <td>-0.056000</td>\n",
       "      <td>0.01903</td>\n",
       "      <td>-2.9420</td>\n",
       "      <td>3.257000e-03</td>\n",
       "      <td>-0.103200</td>\n",
       "      <td>0.012460</td>\n",
       "    </tr>\n",
       "    <tr>\n",
       "      <th>92912</th>\n",
       "      <td>20015</td>\n",
       "      <td>30050</td>\n",
       "      <td>&lt;a href='https://ukbb-rg.hail.is/rg_summary_20...</td>\n",
       "      <td>&lt;a href='https://ukbb-rg.hail.is/rg_summary_30...</td>\n",
       "      <td>0.2348</td>\n",
       "      <td>0.029600</td>\n",
       "      <td>1.154</td>\n",
       "      <td>0.06406</td>\n",
       "      <td>-0.012837</td>\n",
       "      <td>-0.007373</td>\n",
       "      <td>0.01754</td>\n",
       "      <td>-0.4204</td>\n",
       "      <td>6.742000e-01</td>\n",
       "      <td>-0.018920</td>\n",
       "      <td>0.011660</td>\n",
       "    </tr>\n",
       "    <tr>\n",
       "      <th>92921</th>\n",
       "      <td>20015</td>\n",
       "      <td>30140</td>\n",
       "      <td>&lt;a href='https://ukbb-rg.hail.is/rg_summary_20...</td>\n",
       "      <td>&lt;a href='https://ukbb-rg.hail.is/rg_summary_30...</td>\n",
       "      <td>0.1589</td>\n",
       "      <td>0.016870</td>\n",
       "      <td>1.123</td>\n",
       "      <td>0.03657</td>\n",
       "      <td>-0.067485</td>\n",
       "      <td>-0.113400</td>\n",
       "      <td>0.01897</td>\n",
       "      <td>-5.9750</td>\n",
       "      <td>2.296000e-09</td>\n",
       "      <td>-0.082150</td>\n",
       "      <td>0.011760</td>\n",
       "    </tr>\n",
       "    <tr>\n",
       "      <th>...</th>\n",
       "      <td>...</td>\n",
       "      <td>...</td>\n",
       "      <td>...</td>\n",
       "      <td>...</td>\n",
       "      <td>...</td>\n",
       "      <td>...</td>\n",
       "      <td>...</td>\n",
       "      <td>...</td>\n",
       "      <td>...</td>\n",
       "      <td>...</td>\n",
       "      <td>...</td>\n",
       "      <td>...</td>\n",
       "      <td>...</td>\n",
       "      <td>...</td>\n",
       "      <td>...</td>\n",
       "    </tr>\n",
       "    <tr>\n",
       "      <th>319897</th>\n",
       "      <td>5133</td>\n",
       "      <td>23110</td>\n",
       "      <td>&lt;a href='https://ukbb-rg.hail.is/rg_summary_51...</td>\n",
       "      <td>&lt;a href='https://ukbb-rg.hail.is/rg_summary_23...</td>\n",
       "      <td>0.2308</td>\n",
       "      <td>0.008072</td>\n",
       "      <td>1.106</td>\n",
       "      <td>0.02215</td>\n",
       "      <td>-0.007147</td>\n",
       "      <td>-0.029760</td>\n",
       "      <td>0.02426</td>\n",
       "      <td>-1.2270</td>\n",
       "      <td>2.200000e-01</td>\n",
       "      <td>-0.000165</td>\n",
       "      <td>0.008837</td>\n",
       "    </tr>\n",
       "    <tr>\n",
       "      <th>319964</th>\n",
       "      <td>5133</td>\n",
       "      <td>30050</td>\n",
       "      <td>&lt;a href='https://ukbb-rg.hail.is/rg_summary_51...</td>\n",
       "      <td>&lt;a href='https://ukbb-rg.hail.is/rg_summary_30...</td>\n",
       "      <td>0.2348</td>\n",
       "      <td>0.029600</td>\n",
       "      <td>1.154</td>\n",
       "      <td>0.06406</td>\n",
       "      <td>0.004352</td>\n",
       "      <td>0.032930</td>\n",
       "      <td>0.02116</td>\n",
       "      <td>1.5570</td>\n",
       "      <td>1.196000e-01</td>\n",
       "      <td>-0.004254</td>\n",
       "      <td>0.008866</td>\n",
       "    </tr>\n",
       "    <tr>\n",
       "      <th>319973</th>\n",
       "      <td>5133</td>\n",
       "      <td>30140</td>\n",
       "      <td>&lt;a href='https://ukbb-rg.hail.is/rg_summary_51...</td>\n",
       "      <td>&lt;a href='https://ukbb-rg.hail.is/rg_summary_30...</td>\n",
       "      <td>0.1589</td>\n",
       "      <td>0.016870</td>\n",
       "      <td>1.123</td>\n",
       "      <td>0.03657</td>\n",
       "      <td>0.052772</td>\n",
       "      <td>0.052140</td>\n",
       "      <td>0.02710</td>\n",
       "      <td>1.9240</td>\n",
       "      <td>5.442000e-02</td>\n",
       "      <td>0.027950</td>\n",
       "      <td>0.008526</td>\n",
       "    </tr>\n",
       "    <tr>\n",
       "      <th>319982</th>\n",
       "      <td>5133</td>\n",
       "      <td>30250</td>\n",
       "      <td>&lt;a href='https://ukbb-rg.hail.is/rg_summary_51...</td>\n",
       "      <td>&lt;a href='https://ukbb-rg.hail.is/rg_summary_30...</td>\n",
       "      <td>0.1821</td>\n",
       "      <td>0.015210</td>\n",
       "      <td>1.164</td>\n",
       "      <td>0.06157</td>\n",
       "      <td>0.031202</td>\n",
       "      <td>0.005175</td>\n",
       "      <td>0.02314</td>\n",
       "      <td>0.2236</td>\n",
       "      <td>8.231000e-01</td>\n",
       "      <td>0.038240</td>\n",
       "      <td>0.008009</td>\n",
       "    </tr>\n",
       "    <tr>\n",
       "      <th>319993</th>\n",
       "      <td>5133</td>\n",
       "      <td>3063</td>\n",
       "      <td>&lt;a href='https://ukbb-rg.hail.is/rg_summary_51...</td>\n",
       "      <td>&lt;a href='https://ukbb-rg.hail.is/rg_summary_30...</td>\n",
       "      <td>0.1885</td>\n",
       "      <td>0.007643</td>\n",
       "      <td>1.074</td>\n",
       "      <td>0.01696</td>\n",
       "      <td>-0.107454</td>\n",
       "      <td>-0.109200</td>\n",
       "      <td>0.02410</td>\n",
       "      <td>-4.5330</td>\n",
       "      <td>5.822000e-06</td>\n",
       "      <td>-0.060630</td>\n",
       "      <td>0.009085</td>\n",
       "    </tr>\n",
       "  </tbody>\n",
       "</table>\n",
       "<p>72 rows × 15 columns</p>\n",
       "</div>"
      ],
      "text/plain": [
       "          ID1    ID2                                        Phenotype 1  \\\n",
       "92737   20015  20151  <a href='https://ukbb-rg.hail.is/rg_summary_20...   \n",
       "92834   20015  23098  <a href='https://ukbb-rg.hail.is/rg_summary_20...   \n",
       "92845   20015  23110  <a href='https://ukbb-rg.hail.is/rg_summary_20...   \n",
       "92912   20015  30050  <a href='https://ukbb-rg.hail.is/rg_summary_20...   \n",
       "92921   20015  30140  <a href='https://ukbb-rg.hail.is/rg_summary_20...   \n",
       "...       ...    ...                                                ...   \n",
       "319897   5133  23110  <a href='https://ukbb-rg.hail.is/rg_summary_51...   \n",
       "319964   5133  30050  <a href='https://ukbb-rg.hail.is/rg_summary_51...   \n",
       "319973   5133  30140  <a href='https://ukbb-rg.hail.is/rg_summary_51...   \n",
       "319982   5133  30250  <a href='https://ukbb-rg.hail.is/rg_summary_51...   \n",
       "319993   5133   3063  <a href='https://ukbb-rg.hail.is/rg_summary_51...   \n",
       "\n",
       "                                              Phenotype 2      h2     h2 SE  \\\n",
       "92737   <a href='https://ukbb-rg.hail.is/rg_summary_20...  0.2345  0.010300   \n",
       "92834   <a href='https://ukbb-rg.hail.is/rg_summary_23...  0.2635  0.009121   \n",
       "92845   <a href='https://ukbb-rg.hail.is/rg_summary_23...  0.2308  0.008072   \n",
       "92912   <a href='https://ukbb-rg.hail.is/rg_summary_30...  0.2348  0.029600   \n",
       "92921   <a href='https://ukbb-rg.hail.is/rg_summary_30...  0.1589  0.016870   \n",
       "...                                                   ...     ...       ...   \n",
       "319897  <a href='https://ukbb-rg.hail.is/rg_summary_23...  0.2308  0.008072   \n",
       "319964  <a href='https://ukbb-rg.hail.is/rg_summary_30...  0.2348  0.029600   \n",
       "319973  <a href='https://ukbb-rg.hail.is/rg_summary_30...  0.1589  0.016870   \n",
       "319982  <a href='https://ukbb-rg.hail.is/rg_summary_30...  0.1821  0.015210   \n",
       "319993  <a href='https://ukbb-rg.hail.is/rg_summary_30...  0.1885  0.007643   \n",
       "\n",
       "        h2 intercept  h2 intercept SE    rpheno        rg    rg SE        Z  \\\n",
       "92737          1.096          0.02031  0.373581  0.592200  0.01643  36.0400   \n",
       "92834          1.080          0.02183  0.346019  0.445300  0.01630  27.3300   \n",
       "92845          1.106          0.02215 -0.092338 -0.056000  0.01903  -2.9420   \n",
       "92912          1.154          0.06406 -0.012837 -0.007373  0.01754  -0.4204   \n",
       "92921          1.123          0.03657 -0.067485 -0.113400  0.01897  -5.9750   \n",
       "...              ...              ...       ...       ...      ...      ...   \n",
       "319897         1.106          0.02215 -0.007147 -0.029760  0.02426  -1.2270   \n",
       "319964         1.154          0.06406  0.004352  0.032930  0.02116   1.5570   \n",
       "319973         1.123          0.03657  0.052772  0.052140  0.02710   1.9240   \n",
       "319982         1.164          0.06157  0.031202  0.005175  0.02314   0.2236   \n",
       "319993         1.074          0.01696 -0.107454 -0.109200  0.02410  -4.5330   \n",
       "\n",
       "                    p  rg intercept  rg intercept SE  \n",
       "92737   1.750000e-284      0.409600         0.024510  \n",
       "92834   2.005000e-164      0.406900         0.021620  \n",
       "92845    3.257000e-03     -0.103200         0.012460  \n",
       "92912    6.742000e-01     -0.018920         0.011660  \n",
       "92921    2.296000e-09     -0.082150         0.011760  \n",
       "...               ...           ...              ...  \n",
       "319897   2.200000e-01     -0.000165         0.008837  \n",
       "319964   1.196000e-01     -0.004254         0.008866  \n",
       "319973   5.442000e-02      0.027950         0.008526  \n",
       "319982   8.231000e-01      0.038240         0.008009  \n",
       "319993   5.822000e-06     -0.060630         0.009085  \n",
       "\n",
       "[72 rows x 15 columns]"
      ]
     },
     "execution_count": 30,
     "metadata": {},
     "output_type": "execute_result"
    }
   ],
   "source": [
    "compare.plot(kind='scatter', )"
   ]
  }
 ],
 "metadata": {
  "kernelspec": {
   "display_name": "Python [conda env:netcoloc]",
   "language": "python",
   "name": "conda-env-netcoloc-py"
  },
  "language_info": {
   "codemirror_mode": {
    "name": "ipython",
    "version": 3
   },
   "file_extension": ".py",
   "mimetype": "text/x-python",
   "name": "python",
   "nbconvert_exporter": "python",
   "pygments_lexer": "ipython3",
   "version": "3.9.7"
  },
  "toc": {
   "base_numbering": 1,
   "nav_menu": {},
   "number_sections": true,
   "sideBar": true,
   "skip_h1_title": false,
   "title_cell": "Table of Contents",
   "title_sidebar": "Contents",
   "toc_cell": false,
   "toc_position": {},
   "toc_section_display": true,
   "toc_window_display": false
  },
  "varInspector": {
   "cols": {
    "lenName": 16,
    "lenType": 16,
    "lenVar": 40
   },
   "kernels_config": {
    "python": {
     "delete_cmd_postfix": "",
     "delete_cmd_prefix": "del ",
     "library": "var_list.py",
     "varRefreshCmd": "print(var_dic_list())"
    },
    "r": {
     "delete_cmd_postfix": ") ",
     "delete_cmd_prefix": "rm(",
     "library": "var_list.r",
     "varRefreshCmd": "cat(var_dic_list()) "
    }
   },
   "types_to_exclude": [
    "module",
    "function",
    "builtin_function_or_method",
    "instance",
    "_Feature"
   ],
   "window_display": false
  }
 },
 "nbformat": 4,
 "nbformat_minor": 2
}
